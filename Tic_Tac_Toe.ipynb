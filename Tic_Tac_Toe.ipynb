{
  "nbformat": 4,
  "nbformat_minor": 0,
  "metadata": {
    "colab": {
      "name": "Tic-Tac-Toe.ipynb",
      "provenance": [],
      "collapsed_sections": [],
      "include_colab_link": true
    },
    "kernelspec": {
      "name": "python3",
      "display_name": "Python 3"
    }
  },
  "cells": [
    {
      "cell_type": "markdown",
      "metadata": {
        "id": "view-in-github",
        "colab_type": "text"
      },
      "source": [
        "<a href=\"https://colab.research.google.com/github/papagorgio23/Python101/blob/master/Tic_Tac_Toe.ipynb\" target=\"_parent\"><img src=\"https://colab.research.google.com/assets/colab-badge.svg\" alt=\"Open In Colab\"/></a>"
      ]
    },
    {
      "cell_type": "markdown",
      "metadata": {
        "id": "jhRbnZYOvx_I",
        "colab_type": "text"
      },
      "source": [
        "## Tic-Tac-Toe\n",
        "#### This code is copied/modified from:\n",
        "https://www.geeksforgeeks.org/python-implementation-automatic-tic-tac-toe-game-using-random-number/"
      ]
    },
    {
      "cell_type": "code",
      "metadata": {
        "id": "BqeX3-5tvnC1",
        "colab_type": "code",
        "colab": {}
      },
      "source": [
        "# Tic-Tac-Toe Program\n",
        "  \n",
        "# importing all necessary libraries \n",
        "import numpy as np \n",
        "import random \n",
        "from time import sleep "
      ],
      "execution_count": null,
      "outputs": []
    },
    {
      "cell_type": "code",
      "metadata": {
        "id": "zNwyyuCWv8fd",
        "colab_type": "code",
        "colab": {}
      },
      "source": [
        "# Create an empty board \n",
        "def create_board(): \n",
        "  #create a 3 x 3 array of 0's\n",
        "  return(np.full((3,3),0))"
      ],
      "execution_count": null,
      "outputs": []
    },
    {
      "cell_type": "code",
      "metadata": {
        "id": "Xg2rw24rq8iH",
        "colab_type": "code",
        "colab": {
          "base_uri": "https://localhost:8080/",
          "height": 68
        },
        "outputId": "a6c7e925-1884-42f6-b999-98ef06a54c20"
      },
      "source": [
        "#Print a test board\n",
        "create_board()"
      ],
      "execution_count": null,
      "outputs": [
        {
          "output_type": "execute_result",
          "data": {
            "text/plain": [
              "array([[0, 0, 0],\n",
              "       [0, 0, 0],\n",
              "       [0, 0, 0]])"
            ]
          },
          "metadata": {
            "tags": []
          },
          "execution_count": 4
        }
      ]
    },
    {
      "cell_type": "code",
      "metadata": {
        "id": "kQCFypUGwPIf",
        "colab_type": "code",
        "colab": {}
      },
      "source": [
        "# Check for empty places on board \n",
        "def possibilities(board): \n",
        "    #Create list of openSpots\n",
        "    openSpots = []\n",
        "    #Iterate through rows  \n",
        "    for row in range(len(board)):\n",
        "        #Iterate through columns\n",
        "        for col in range(len(board)):\n",
        "            #Check if location is empty\n",
        "            if board[row][col] == 0:\n",
        "              #If empty, append to list of openSpots\n",
        "              openSpots.append((row, col))\n",
        "    #return openSpots\n",
        "    return(openSpots) "
      ],
      "execution_count": null,
      "outputs": []
    },
    {
      "cell_type": "code",
      "metadata": {
        "id": "k-Q8YddvCU0b",
        "colab_type": "code",
        "colab": {
          "base_uri": "https://localhost:8080/",
          "height": 34
        },
        "outputId": "c7372b39-a679-4a4d-ac35-7db984f91f0d"
      },
      "source": [
        "board = create_board()\n",
        "possibilities(board)"
      ],
      "execution_count": null,
      "outputs": [
        {
          "output_type": "execute_result",
          "data": {
            "text/plain": [
              "[(0, 0), (0, 1), (0, 2), (1, 0), (1, 1), (1, 2), (2, 0), (2, 1), (2, 2)]"
            ]
          },
          "metadata": {
            "tags": []
          },
          "execution_count": 7
        }
      ]
    },
    {
      "cell_type": "code",
      "metadata": {
        "id": "B5VrCtpqD6mA",
        "colab_type": "code",
        "colab": {}
      },
      "source": [
        "?np.array"
      ],
      "execution_count": null,
      "outputs": []
    },
    {
      "cell_type": "code",
      "metadata": {
        "id": "W66sRzrfwUUv",
        "colab_type": "code",
        "colab": {
          "base_uri": "https://localhost:8080/",
          "height": 68
        },
        "outputId": "70830a2b-50a2-45ef-b8ff-dc790575b867"
      },
      "source": [
        "#Show possibilities - Run possibilities function with test board\n",
        "#allSpots = possibilities(board)\n",
        "#print(allSpots)\n",
        "\n",
        "#Create key for the user input for turn locations\n",
        "# returns a 3x3 array with numbers 0 - 8\n",
        "def boardMap():\n",
        "  return(np.arange(9).reshape(3,3))\n"
      ],
      "execution_count": null,
      "outputs": [
        {
          "output_type": "stream",
          "text": [
            "[[0 1 2]\n",
            " [3 4 5]\n",
            " [6 7 8]]\n"
          ],
          "name": "stdout"
        }
      ]
    },
    {
      "cell_type": "code",
      "metadata": {
        "id": "mbLAo710sKGU",
        "colab_type": "code",
        "colab": {}
      },
      "source": [
        "#print out board map\n",
        "print(boardMap())"
      ],
      "execution_count": null,
      "outputs": []
    },
    {
      "cell_type": "code",
      "metadata": {
        "id": "XeG6t1tLwXvP",
        "colab_type": "code",
        "colab": {}
      },
      "source": [
        "# Select a random place for the computer player \n",
        "def random_place(board, player):\n",
        "    #Get all possibilities\n",
        "    selection = possibilities(board)\n",
        "    #randomly select a location out of available spots\n",
        "    current_loc = random.choice(selection)\n",
        "    #update board with randomly selected location for specific player\n",
        "    board[current_loc] = player\n",
        "    #return updated board\n",
        "    return(board)"
      ],
      "execution_count": null,
      "outputs": []
    },
    {
      "cell_type": "code",
      "metadata": {
        "id": "RdeUzGQTFV-7",
        "colab_type": "code",
        "colab": {
          "base_uri": "https://localhost:8080/",
          "height": 68
        },
        "outputId": "35f61517-4906-4c76-85a7-f99a22d26947"
      },
      "source": [
        "board = create_board()\n",
        "random_place(board, 1)\n",
        "random_place(board, 2)\n",
        "random_place(board, 1)\n",
        "random_place(board, 2)\n",
        "random_place(board, 1)\n",
        "random_place(board, 2)\n",
        "random_place(board, 1)\n",
        "random_place(board, 2)\n",
        "random_place(board, 1)"
      ],
      "execution_count": null,
      "outputs": [
        {
          "output_type": "execute_result",
          "data": {
            "text/plain": [
              "array([[2, 2, 1],\n",
              "       [1, 2, 1],\n",
              "       [2, 1, 1]])"
            ]
          },
          "metadata": {
            "tags": []
          },
          "execution_count": 27
        }
      ]
    },
    {
      "cell_type": "code",
      "metadata": {
        "id": "f4xaWL1XwZgP",
        "colab_type": "code",
        "colab": {}
      },
      "source": [
        "#Get available locations on board\n",
        "#Check if players entry is valid\n",
        "#If yes, update board and return board\n",
        "#If no, do not update board and return none\n",
        "def player_turn(board, player, location):\n",
        "    #Get Available Spots on current board  \n",
        "    availableSpots = possibilities(board)\n",
        "    #Check if location is in the available spots list\n",
        "    if (possibilities(create_board())[location] in availableSpots):\n",
        "        #if so, update board \n",
        "        board[possibilities(create_board())[location]] = player\n",
        "        #return board\n",
        "        return(board)\n",
        "    #Else, return none\n",
        "    else:\n",
        "      return(None)\n",
        "        "
      ],
      "execution_count": null,
      "outputs": []
    },
    {
      "cell_type": "code",
      "metadata": {
        "id": "aVZVwX08H7-T",
        "colab_type": "code",
        "colab": {}
      },
      "source": [
        "board = create_board()\n",
        "player_turn(board, 1, 4)\n",
        "player_turn(board, 1, 4)\n"
      ],
      "execution_count": null,
      "outputs": []
    },
    {
      "cell_type": "code",
      "metadata": {
        "id": "2MH0Cx8Xv1xx",
        "colab_type": "code",
        "colab": {}
      },
      "source": [
        "#function to take user input\n",
        "def numInput():\n",
        "  #prompt for user input\n",
        "  num = input(\"Enter a number between 0 and 8: \")\n",
        "  #if number is digit and between 0 and 8\n",
        "  if num.isdigit() and int(num) >= 0 and int(num) <= 8:\n",
        "      #return input\n",
        "      return(num)\n",
        "  #else re-run function\n",
        "  else:\n",
        "    print(\"Invail input. \")\n",
        "    numInput()\n",
        "    "
      ],
      "execution_count": null,
      "outputs": []
    },
    {
      "cell_type": "code",
      "metadata": {
        "id": "OQIiBAIdv5ZJ",
        "colab_type": "code",
        "colab": {
          "base_uri": "https://localhost:8080/",
          "height": 51
        },
        "outputId": "7f5f4e68-6866-4c00-db38-4a1b2b8920e0"
      },
      "source": [
        "#Test numInput\n",
        "numInput()"
      ],
      "execution_count": null,
      "outputs": [
        {
          "output_type": "stream",
          "text": [
            "Enter a number between 0 and 8: 3\n"
          ],
          "name": "stdout"
        },
        {
          "output_type": "execute_result",
          "data": {
            "text/plain": [
              "'3'"
            ]
          },
          "metadata": {
            "tags": []
          },
          "execution_count": 34
        }
      ]
    },
    {
      "cell_type": "code",
      "metadata": {
        "id": "2YvRTj9twbMo",
        "colab_type": "code",
        "colab": {}
      },
      "source": [
        "# Checks whether the player has three  \n",
        "# of their marks in a horizontal row \n",
        "def row_win(board, player): \n",
        "    for x in range(len(board)): \n",
        "        win = True\n",
        "          \n",
        "        for y in range(len(board)): \n",
        "            if board[x, y] != player: \n",
        "                win = False\n",
        "                continue\n",
        "                \n",
        "        if win == True: \n",
        "            return(win) \n",
        "    return(win) "
      ],
      "execution_count": null,
      "outputs": []
    },
    {
      "cell_type": "code",
      "metadata": {
        "id": "MybcGZsGwdHw",
        "colab_type": "code",
        "colab": {}
      },
      "source": [
        "# Checks whether the player has three \n",
        "# of their marks in a vertical row \n",
        "def col_win(board, player): \n",
        "   #similar logic to row_win\n",
        "    for x in range(len(board)): \n",
        "        win = True\n",
        "          \n",
        "        for y in range(len(board)): \n",
        "            if board[x, y] != player: \n",
        "                win = False\n",
        "                continue\n",
        "                \n",
        "        if win == True: \n",
        "            return(win) \n",
        "    return(win) "
      ],
      "execution_count": null,
      "outputs": []
    },
    {
      "cell_type": "code",
      "metadata": {
        "id": "hB82BogJwgF5",
        "colab_type": "code",
        "colab": {}
      },
      "source": [
        "# Checks whether the player has three \n",
        "# of their marks in a diagonal row \n",
        "def diag_win(board, player): \n",
        "    #similar logic to row_win\n",
        "    win = True\n",
        "    \n",
        "    for x in range(len(board)):\n",
        "      if board[x,x] != player:\n",
        "        win = False\n",
        "    return(win)"
      ],
      "execution_count": null,
      "outputs": []
    },
    {
      "cell_type": "code",
      "metadata": {
        "id": "zOtF5PODrNKW",
        "colab_type": "code",
        "colab": {}
      },
      "source": [
        "# Evaluates whether there is \n",
        "# a winner or a tie  \n",
        "def evaluate(board):\n",
        "    winner = 0\n",
        "      \n",
        "    for player in [1, 2]: \n",
        "        if (row_win(board, player) or\n",
        "            col_win(board,player) or \n",
        "            diag_win(board,player)): \n",
        "                 \n",
        "            winner = player \n",
        "              \n",
        "    if np.all(board != 0) and winner == 0: \n",
        "        winner = -1\n",
        "    return winner "
      ],
      "execution_count": null,
      "outputs": []
    },
    {
      "cell_type": "code",
      "metadata": {
        "id": "nfawy0TV0fK3",
        "colab_type": "code",
        "colab": {}
      },
      "source": [
        "#Play game with computer, 1, or 2 players. \n",
        "def play_game(numberOfPlayers = 0): \n",
        "    #create board\n",
        "    board = create_board()\n",
        "    #set winner to 0\n",
        "    winner = 0\n",
        "    #initialize counter to 1\n",
        "    counter = 1\n",
        "    \n",
        "    boardMapLocation = boardMap()\n",
        "    #print out initial board\n",
        "    print(board)\n",
        "    #Pause game for 2 \n",
        "    sleep(2)\n",
        "    \n",
        "    #Loop until there is a winner\n",
        "    while winner == 0: \n",
        "        #For each player - [1,2]\n",
        "        for player in [1, 2]: \n",
        "            #If number of players equals 1 and it's player 1's turn, or if there are 2 players\n",
        "            if (numberOfPlayers == 1 & player == 1) | (numberOfPlayers == 2):\n",
        "              #print out the locations\n",
        "              print(\"Turn locations:\")\n",
        "              print(boardMapLocation)\n",
        "              print(\"Player\" + str(player) + \"'s turn.\")\n",
        "              #prompt for user input\n",
        "              playerTurn = numInput()\n",
        "              #call player turn function and update board\n",
        "              board = player_turn(board, player, playerTurn) \n",
        "              #While board was not updated - board is none\n",
        "              while board is None:\n",
        "                print(\"Please select a valid location.\")\n",
        "                playerTurn = numInput()\n",
        "                board = player_turn(board, player, playerTurn) \n",
        "            else:\n",
        "              print(\"Computer player\" + str(player) + \"'s turn.\")\n",
        "              board = random_place(board, player)\n",
        "            print(\"Board after \" + str(counter) + \" move\") \n",
        "            print(board) \n",
        "            sleep(2) \n",
        "            counter += 1\n",
        "            winner = evaluate(board) \n",
        "            if winner != 0: \n",
        "                break\n",
        "    return(winner) "
      ],
      "execution_count": null,
      "outputs": []
    },
    {
      "cell_type": "code",
      "metadata": {
        "id": "kuVlWLEirP0e",
        "colab_type": "code",
        "colab": {
          "base_uri": "https://localhost:8080/",
          "height": 460
        },
        "outputId": "177adbea-2f21-4f89-809c-e0a268f45e3b"
      },
      "source": [
        "# Play game and print out the winner\n",
        "print(\"Winner is player \" + str(play_game(1))) "
      ],
      "execution_count": null,
      "outputs": [
        {
          "output_type": "stream",
          "text": [
            "[[0 0 0]\n",
            " [0 0 0]\n",
            " [0 0 0]]\n",
            "Turn locations:\n",
            "[[0 1 2]\n",
            " [3 4 5]\n",
            " [6 7 8]]\n",
            "Player1's turn.\n",
            "Enter a number between 0 and 8: 4\n"
          ],
          "name": "stdout"
        },
        {
          "output_type": "error",
          "ename": "TypeError",
          "evalue": "ignored",
          "traceback": [
            "\u001b[0;31m---------------------------------------------------------------------------\u001b[0m",
            "\u001b[0;31mTypeError\u001b[0m                                 Traceback (most recent call last)",
            "\u001b[0;32m<ipython-input-42-3a1238706de3>\u001b[0m in \u001b[0;36m<module>\u001b[0;34m()\u001b[0m\n\u001b[0;32m----> 1\u001b[0;31m \u001b[0mprint\u001b[0m\u001b[0;34m(\u001b[0m\u001b[0;34m\"Winner is player \"\u001b[0m \u001b[0;34m+\u001b[0m \u001b[0mstr\u001b[0m\u001b[0;34m(\u001b[0m\u001b[0mplay_game\u001b[0m\u001b[0;34m(\u001b[0m\u001b[0;36m1\u001b[0m\u001b[0;34m)\u001b[0m\u001b[0;34m)\u001b[0m\u001b[0;34m)\u001b[0m\u001b[0;34m\u001b[0m\u001b[0;34m\u001b[0m\u001b[0m\n\u001b[0m",
            "\u001b[0;32m<ipython-input-41-d6dfc840cd52>\u001b[0m in \u001b[0;36mplay_game\u001b[0;34m(numberOfPlayers)\u001b[0m\n\u001b[1;32m     26\u001b[0m               \u001b[0mplayerTurn\u001b[0m \u001b[0;34m=\u001b[0m \u001b[0mnumInput\u001b[0m\u001b[0;34m(\u001b[0m\u001b[0;34m)\u001b[0m\u001b[0;34m\u001b[0m\u001b[0;34m\u001b[0m\u001b[0m\n\u001b[1;32m     27\u001b[0m               \u001b[0;31m#call player turn function and update board\u001b[0m\u001b[0;34m\u001b[0m\u001b[0;34m\u001b[0m\u001b[0;34m\u001b[0m\u001b[0m\n\u001b[0;32m---> 28\u001b[0;31m               \u001b[0mboard\u001b[0m \u001b[0;34m=\u001b[0m \u001b[0mplayer_turn\u001b[0m\u001b[0;34m(\u001b[0m\u001b[0mboard\u001b[0m\u001b[0;34m,\u001b[0m \u001b[0mplayer\u001b[0m\u001b[0;34m,\u001b[0m \u001b[0mplayerTurn\u001b[0m\u001b[0;34m)\u001b[0m\u001b[0;34m\u001b[0m\u001b[0;34m\u001b[0m\u001b[0m\n\u001b[0m\u001b[1;32m     29\u001b[0m               \u001b[0;31m#While board was not updated - board is none\u001b[0m\u001b[0;34m\u001b[0m\u001b[0;34m\u001b[0m\u001b[0;34m\u001b[0m\u001b[0m\n\u001b[1;32m     30\u001b[0m               \u001b[0;32mwhile\u001b[0m \u001b[0mboard\u001b[0m \u001b[0;32mis\u001b[0m \u001b[0;32mNone\u001b[0m\u001b[0;34m:\u001b[0m\u001b[0;34m\u001b[0m\u001b[0;34m\u001b[0m\u001b[0m\n",
            "\u001b[0;32m<ipython-input-29-6c58824b124f>\u001b[0m in \u001b[0;36mplayer_turn\u001b[0;34m(board, player, location)\u001b[0m\n\u001b[1;32m      3\u001b[0m     \u001b[0mavailableSpots\u001b[0m \u001b[0;34m=\u001b[0m \u001b[0mpossibilities\u001b[0m\u001b[0;34m(\u001b[0m\u001b[0mboard\u001b[0m\u001b[0;34m)\u001b[0m\u001b[0;34m\u001b[0m\u001b[0;34m\u001b[0m\u001b[0m\n\u001b[1;32m      4\u001b[0m     \u001b[0;31m#Check if location is in the available spots list\u001b[0m\u001b[0;34m\u001b[0m\u001b[0;34m\u001b[0m\u001b[0;34m\u001b[0m\u001b[0m\n\u001b[0;32m----> 5\u001b[0;31m     \u001b[0;32mif\u001b[0m \u001b[0;34m(\u001b[0m\u001b[0mpossibilities\u001b[0m\u001b[0;34m(\u001b[0m\u001b[0mcreate_board\u001b[0m\u001b[0;34m(\u001b[0m\u001b[0;34m)\u001b[0m\u001b[0;34m)\u001b[0m\u001b[0;34m[\u001b[0m\u001b[0mlocation\u001b[0m\u001b[0;34m]\u001b[0m \u001b[0;32min\u001b[0m \u001b[0mavailableSpots\u001b[0m\u001b[0;34m)\u001b[0m\u001b[0;34m:\u001b[0m\u001b[0;34m\u001b[0m\u001b[0;34m\u001b[0m\u001b[0m\n\u001b[0m\u001b[1;32m      6\u001b[0m         \u001b[0;31m#if so, update board\u001b[0m\u001b[0;34m\u001b[0m\u001b[0;34m\u001b[0m\u001b[0;34m\u001b[0m\u001b[0m\n\u001b[1;32m      7\u001b[0m         \u001b[0mboard\u001b[0m\u001b[0;34m[\u001b[0m\u001b[0mpossibilities\u001b[0m\u001b[0;34m(\u001b[0m\u001b[0mcreate_board\u001b[0m\u001b[0;34m(\u001b[0m\u001b[0;34m)\u001b[0m\u001b[0;34m)\u001b[0m\u001b[0;34m[\u001b[0m\u001b[0mlocation\u001b[0m\u001b[0;34m]\u001b[0m\u001b[0;34m]\u001b[0m \u001b[0;34m=\u001b[0m \u001b[0mplayer\u001b[0m\u001b[0;34m\u001b[0m\u001b[0;34m\u001b[0m\u001b[0m\n",
            "\u001b[0;31mTypeError\u001b[0m: list indices must be integers or slices, not str"
          ]
        }
      ]
    },
    {
      "cell_type": "code",
      "metadata": {
        "id": "GeeSS1LdLRyB",
        "colab_type": "code",
        "colab": {}
      },
      "source": [
        ""
      ],
      "execution_count": null,
      "outputs": []
    }
  ]
}