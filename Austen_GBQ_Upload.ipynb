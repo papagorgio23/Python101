{
  "nbformat": 4,
  "nbformat_minor": 0,
  "metadata": {
    "colab": {
      "name": "Austen GBQ Upload.ipynb",
      "provenance": [],
      "collapsed_sections": [],
      "toc_visible": true,
      "authorship_tag": "ABX9TyOUMePf83/OhZQniVh3bTGd",
      "include_colab_link": true
    },
    "kernelspec": {
      "name": "python3",
      "display_name": "Python 3"
    }
  },
  "cells": [
    {
      "cell_type": "markdown",
      "metadata": {
        "id": "view-in-github",
        "colab_type": "text"
      },
      "source": [
        "<a href=\"https://colab.research.google.com/github/papagorgio23/Python101/blob/master/Austen_GBQ_Upload.ipynb\" target=\"_parent\"><img src=\"https://colab.research.google.com/assets/colab-badge.svg\" alt=\"Open In Colab\"/></a>"
      ]
    },
    {
      "cell_type": "markdown",
      "metadata": {
        "id": "CKCTS6G_Tad9",
        "colab_type": "text"
      },
      "source": [
        "# Austen: CSV --> GBQ "
      ]
    },
    {
      "cell_type": "markdown",
      "metadata": {
        "id": "L6zbaweRTjkM",
        "colab_type": "text"
      },
      "source": [
        "### Step 1: Authorize Google Account"
      ]
    },
    {
      "cell_type": "code",
      "metadata": {
        "id": "1s-3DdaGSiNV",
        "colab_type": "code",
        "colab": {
          "base_uri": "https://localhost:8080/",
          "height": 70
        },
        "outputId": "8a505aa3-57f2-437d-bb94-0781d230e7ee"
      },
      "source": [
        "# Using GBQ shout Out to Hughes\n",
        "import pandas_gbq\n",
        "import pydata_google_auth\n",
        "\n",
        "SCOPES = [\n",
        "    'https://www.googleapis.com/auth/cloud-platform',\n",
        "    'https://www.googleapis.com/auth/drive',\n",
        "]\n",
        "\n",
        "credentials = pydata_google_auth.get_user_credentials(\n",
        "    SCOPES,\n",
        "    auth_local_webserver=False)"
      ],
      "execution_count": null,
      "outputs": [
        {
          "output_type": "stream",
          "text": [
            "Please visit this URL to authorize this application: https://accounts.google.com/o/oauth2/auth?response_type=code&client_id=262006177488-3425ks60hkk80fssi9vpohv88g6q1iqd.apps.googleusercontent.com&redirect_uri=urn%3Aietf%3Awg%3Aoauth%3A2.0%3Aoob&scope=https%3A%2F%2Fwww.googleapis.com%2Fauth%2Fcloud-platform+https%3A%2F%2Fwww.googleapis.com%2Fauth%2Fdrive&state=ZO8PYTNV5ubgnFTBTn4QvKUh38dWL5&prompt=consent&access_type=offline\n",
            "Enter the authorization code: 4/zgGxOHeW7s5bGTMtObW3z3JZpmD2X-Wr8Fpz4qPgp57FLN0kkBxjlkg\n"
          ],
          "name": "stdout"
        }
      ]
    },
    {
      "cell_type": "markdown",
      "metadata": {
        "id": "3E-359VJTq4r",
        "colab_type": "text"
      },
      "source": [
        "### Step 2: Load CSV"
      ]
    },
    {
      "cell_type": "code",
      "metadata": {
        "id": "o5-pokcnUf4a",
        "colab_type": "code",
        "colab": {
          "resources": {
            "http://localhost:8080/nbextensions/google.colab/files.js": {
              "data": "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",
              "ok": true,
              "headers": [
                [
                  "content-type",
                  "application/javascript"
                ]
              ],
              "status": 200,
              "status_text": ""
            }
          },
          "base_uri": "https://localhost:8080/",
          "height": 70
        },
        "outputId": "7b11edbd-97ea-4d86-fffd-2bf6b5b56cd2"
      },
      "source": [
        "from google.colab import files\n",
        "import pandas as pd\n",
        "\n",
        "#df = pd.read_csv(files.upload())\n",
        "uploaded = files.upload()"
      ],
      "execution_count": null,
      "outputs": [
        {
          "output_type": "display_data",
          "data": {
            "text/html": [
              "\n",
              "     <input type=\"file\" id=\"files-8eb06aa9-c3d4-4de5-bc2b-3e714aef3e19\" name=\"files[]\" multiple disabled />\n",
              "     <output id=\"result-8eb06aa9-c3d4-4de5-bc2b-3e714aef3e19\">\n",
              "      Upload widget is only available when the cell has been executed in the\n",
              "      current browser session. Please rerun this cell to enable.\n",
              "      </output>\n",
              "      <script src=\"/nbextensions/google.colab/files.js\"></script> "
            ],
            "text/plain": [
              "<IPython.core.display.HTML object>"
            ]
          },
          "metadata": {
            "tags": []
          }
        },
        {
          "output_type": "stream",
          "text": [
            "Saving May_2020_Loan_Model_Data_Headers_v2.csv to May_2020_Loan_Model_Data_Headers_v2 (2).csv\n"
          ],
          "name": "stdout"
        }
      ]
    },
    {
      "cell_type": "markdown",
      "metadata": {
        "id": "cAoY9mrCZ2UN",
        "colab_type": "text"
      },
      "source": [
        "#### Step 2.1: Copy and Paste File Name "
      ]
    },
    {
      "cell_type": "code",
      "metadata": {
        "id": "_rZo7AoxYvpW",
        "colab_type": "code",
        "colab": {}
      },
      "source": [
        "## Copy and Paste the file name from above here\n",
        "file_name = 'May_2020_Loan_Model_Data_Headers_v2.csv'"
      ],
      "execution_count": null,
      "outputs": []
    },
    {
      "cell_type": "code",
      "metadata": {
        "id": "BCaQodJEXkA-",
        "colab_type": "code",
        "colab": {}
      },
      "source": [
        "import io\n",
        "df = pd.read_csv(io.BytesIO(uploaded[file_name]))"
      ],
      "execution_count": null,
      "outputs": []
    },
    {
      "cell_type": "code",
      "metadata": {
        "id": "5rNtG551X9fV",
        "colab_type": "code",
        "colab": {
          "base_uri": "https://localhost:8080/",
          "height": 211
        },
        "outputId": "1acfc9a4-9d35-42bf-da0f-7a28d309b720"
      },
      "source": [
        "df.head()"
      ],
      "execution_count": null,
      "outputs": [
        {
          "output_type": "execute_result",
          "data": {
            "text/html": [
              "<div>\n",
              "<style scoped>\n",
              "    .dataframe tbody tr th:only-of-type {\n",
              "        vertical-align: middle;\n",
              "    }\n",
              "\n",
              "    .dataframe tbody tr th {\n",
              "        vertical-align: top;\n",
              "    }\n",
              "\n",
              "    .dataframe thead th {\n",
              "        text-align: right;\n",
              "    }\n",
              "</style>\n",
              "<table border=\"1\" class=\"dataframe\">\n",
              "  <thead>\n",
              "    <tr style=\"text-align: right;\">\n",
              "      <th></th>\n",
              "      <th>Date</th>\n",
              "      <th>Business_Day</th>\n",
              "      <th>Expected_Neg_CarryOver_Units</th>\n",
              "      <th>Expected_Neg_Backlog_Units</th>\n",
              "      <th>Expected_Neg_New_Units</th>\n",
              "      <th>Expected_Sales_Units</th>\n",
              "      <th>Expected_PayOps_CarryOver_</th>\n",
              "      <th>Expected_PayOps_Backlog</th>\n",
              "      <th>Expected_PayOps_New</th>\n",
              "      <th>Expected_Daily_Loan_Allocation_</th>\n",
              "      <th>Neg_Total_Available_CarryOver_Inventory</th>\n",
              "      <th>Neg_Total_Available_Backlog_Inventory</th>\n",
              "      <th>PayOps_Total_Available_CarryOver_Inventory</th>\n",
              "      <th>PayOps_Total_Available_Backlog_Inventory</th>\n",
              "      <th>Loan_Size</th>\n",
              "      <th>Neg_Total_Available_CarryOver_Inventory__Units_</th>\n",
              "      <th>Neg_Total_Available_Backlog_Inventory__Units_</th>\n",
              "      <th>PayOps_Total_Available_CarryOver_Inventory__Units_</th>\n",
              "      <th>PayOps_Total_Available_Backlog_Inventory_18</th>\n",
              "      <th>All_New_Future_Recons</th>\n",
              "      <th>Recon_Percentages</th>\n",
              "      <th>All_New_Future_Neg_Comps</th>\n",
              "      <th>neg_Completion_Percentages</th>\n",
              "      <th>Allocation_Percentages</th>\n",
              "      <th>All_New_Future_Allocations</th>\n",
              "      <th>All_Future_Expected_Neg_Completions_dollars</th>\n",
              "      <th>All_new_Future_Recons_units</th>\n",
              "      <th>All_Future_Loan_Allocation_units</th>\n",
              "      <th>Neg_CO_BL_Goal_Dollars</th>\n",
              "      <th>Neg_Total_Goal_Dollars</th>\n",
              "      <th>Pay_CO_BL_Goal_Dollars</th>\n",
              "      <th>Pay_Total_Goal_Dollars</th>\n",
              "      <th>Alloc_Left_Over_Goal</th>\n",
              "      <th>Alloc_Total_Goal_Dollars</th>\n",
              "      <th>Neg_CO_BL_Goal_Units</th>\n",
              "      <th>Neg_Total_Goal_Units</th>\n",
              "      <th>Pay_CO_BL_Goal_Units</th>\n",
              "      <th>Pay_Total_Goal_Units</th>\n",
              "      <th>Alloc_Left_Over_Goal_Units</th>\n",
              "      <th>Alloc_Total_Goal_Units</th>\n",
              "    </tr>\n",
              "  </thead>\n",
              "  <tbody>\n",
              "    <tr>\n",
              "      <th>0</th>\n",
              "      <td>4/27/20</td>\n",
              "      <td>1</td>\n",
              "      <td>48</td>\n",
              "      <td>55</td>\n",
              "      <td>0</td>\n",
              "      <td>97</td>\n",
              "      <td>1266810.945</td>\n",
              "      <td>120091.7666</td>\n",
              "      <td>38501.40000</td>\n",
              "      <td>2556943.127</td>\n",
              "      <td>49644200</td>\n",
              "      <td>28124000</td>\n",
              "      <td>16625200</td>\n",
              "      <td>1975800</td>\n",
              "      <td>17800</td>\n",
              "      <td>2789</td>\n",
              "      <td>1580</td>\n",
              "      <td>934</td>\n",
              "      <td>111</td>\n",
              "      <td>23116488.88</td>\n",
              "      <td>0.955500</td>\n",
              "      <td>179.85</td>\n",
              "      <td>0.24</td>\n",
              "      <td>1.0</td>\n",
              "      <td>34641905.54</td>\n",
              "      <td>3201330</td>\n",
              "      <td>1298.679151</td>\n",
              "      <td>2176.174469</td>\n",
              "      <td>33588600</td>\n",
              "      <td>36650200</td>\n",
              "      <td>17161496.36</td>\n",
              "      <td>36665920.88</td>\n",
              "      <td>3970107.761</td>\n",
              "      <td>37972090.45</td>\n",
              "      <td>1887</td>\n",
              "      <td>2059</td>\n",
              "      <td>964.129168</td>\n",
              "      <td>2059.883195</td>\n",
              "      <td>230</td>\n",
              "      <td>2133.263508</td>\n",
              "    </tr>\n",
              "    <tr>\n",
              "      <th>1</th>\n",
              "      <td>4/28/20</td>\n",
              "      <td>2</td>\n",
              "      <td>50</td>\n",
              "      <td>63</td>\n",
              "      <td>1</td>\n",
              "      <td>100</td>\n",
              "      <td>2033089.663</td>\n",
              "      <td>139832.8789</td>\n",
              "      <td>61863.90000</td>\n",
              "      <td>2264667.024</td>\n",
              "      <td>49644200</td>\n",
              "      <td>28124000</td>\n",
              "      <td>16625200</td>\n",
              "      <td>1975800</td>\n",
              "      <td>17800</td>\n",
              "      <td>2789</td>\n",
              "      <td>1580</td>\n",
              "      <td>934</td>\n",
              "      <td>111</td>\n",
              "      <td>21198894.88</td>\n",
              "      <td>0.945000</td>\n",
              "      <td>155.85</td>\n",
              "      <td>0.24</td>\n",
              "      <td>1.0</td>\n",
              "      <td>32407119.10</td>\n",
              "      <td>2774130</td>\n",
              "      <td>1190.949151</td>\n",
              "      <td>2050.624669</td>\n",
              "      <td>33588600</td>\n",
              "      <td>36650200</td>\n",
              "      <td>17161496.36</td>\n",
              "      <td>36665920.88</td>\n",
              "      <td>3970107.761</td>\n",
              "      <td>37972090.45</td>\n",
              "      <td>1887</td>\n",
              "      <td>2059</td>\n",
              "      <td>964.129168</td>\n",
              "      <td>2059.883195</td>\n",
              "      <td>230</td>\n",
              "      <td>2133.263508</td>\n",
              "    </tr>\n",
              "    <tr>\n",
              "      <th>2</th>\n",
              "      <td>4/29/20</td>\n",
              "      <td>3</td>\n",
              "      <td>47</td>\n",
              "      <td>53</td>\n",
              "      <td>1</td>\n",
              "      <td>121</td>\n",
              "      <td>1741542.541</td>\n",
              "      <td>148058.3424</td>\n",
              "      <td>78311.10000</td>\n",
              "      <td>1792004.231</td>\n",
              "      <td>49644200</td>\n",
              "      <td>28124000</td>\n",
              "      <td>16625200</td>\n",
              "      <td>1975800</td>\n",
              "      <td>17800</td>\n",
              "      <td>2789</td>\n",
              "      <td>1580</td>\n",
              "      <td>934</td>\n",
              "      <td>111</td>\n",
              "      <td>19514617.26</td>\n",
              "      <td>0.936855</td>\n",
              "      <td>131.65</td>\n",
              "      <td>0.20</td>\n",
              "      <td>1.0</td>\n",
              "      <td>30439207.12</td>\n",
              "      <td>2343370</td>\n",
              "      <td>1096.326812</td>\n",
              "      <td>1940.067816</td>\n",
              "      <td>33588600</td>\n",
              "      <td>36650200</td>\n",
              "      <td>17161496.36</td>\n",
              "      <td>36665920.88</td>\n",
              "      <td>3970107.761</td>\n",
              "      <td>37972090.45</td>\n",
              "      <td>1887</td>\n",
              "      <td>2059</td>\n",
              "      <td>964.129168</td>\n",
              "      <td>2059.883195</td>\n",
              "      <td>230</td>\n",
              "      <td>2133.263508</td>\n",
              "    </tr>\n",
              "    <tr>\n",
              "      <th>3</th>\n",
              "      <td>4/30/20</td>\n",
              "      <td>4</td>\n",
              "      <td>41</td>\n",
              "      <td>46</td>\n",
              "      <td>1</td>\n",
              "      <td>93</td>\n",
              "      <td>2394298.486</td>\n",
              "      <td>126672.1374</td>\n",
              "      <td>88430.32806</td>\n",
              "      <td>1769781.293</td>\n",
              "      <td>49644200</td>\n",
              "      <td>28124000</td>\n",
              "      <td>16625200</td>\n",
              "      <td>1975800</td>\n",
              "      <td>17800</td>\n",
              "      <td>2789</td>\n",
              "      <td>1580</td>\n",
              "      <td>934</td>\n",
              "      <td>111</td>\n",
              "      <td>18057266.66</td>\n",
              "      <td>0.930382</td>\n",
              "      <td>114.91</td>\n",
              "      <td>0.18</td>\n",
              "      <td>1.0</td>\n",
              "      <td>27829806.17</td>\n",
              "      <td>2045398</td>\n",
              "      <td>1014.453183</td>\n",
              "      <td>1793.472257</td>\n",
              "      <td>33588600</td>\n",
              "      <td>36650200</td>\n",
              "      <td>17161496.36</td>\n",
              "      <td>36665920.88</td>\n",
              "      <td>3970107.761</td>\n",
              "      <td>37972090.45</td>\n",
              "      <td>1887</td>\n",
              "      <td>2059</td>\n",
              "      <td>964.129168</td>\n",
              "      <td>2059.883195</td>\n",
              "      <td>230</td>\n",
              "      <td>2133.263508</td>\n",
              "    </tr>\n",
              "    <tr>\n",
              "      <th>4</th>\n",
              "      <td>5/1/20</td>\n",
              "      <td>5</td>\n",
              "      <td>38</td>\n",
              "      <td>39</td>\n",
              "      <td>2</td>\n",
              "      <td>68</td>\n",
              "      <td>2045989.978</td>\n",
              "      <td>128317.2301</td>\n",
              "      <td>143712.44350</td>\n",
              "      <td>2121442.435</td>\n",
              "      <td>49644200</td>\n",
              "      <td>28124000</td>\n",
              "      <td>16625200</td>\n",
              "      <td>1975800</td>\n",
              "      <td>17800</td>\n",
              "      <td>2789</td>\n",
              "      <td>1580</td>\n",
              "      <td>934</td>\n",
              "      <td>111</td>\n",
              "      <td>16757524.14</td>\n",
              "      <td>0.924294</td>\n",
              "      <td>101.99</td>\n",
              "      <td>0.19</td>\n",
              "      <td>1.0</td>\n",
              "      <td>25511786.51</td>\n",
              "      <td>1815422</td>\n",
              "      <td>941.433940</td>\n",
              "      <td>1663.246433</td>\n",
              "      <td>33588600</td>\n",
              "      <td>36650200</td>\n",
              "      <td>17161496.36</td>\n",
              "      <td>36665920.88</td>\n",
              "      <td>3970107.761</td>\n",
              "      <td>37972090.45</td>\n",
              "      <td>1887</td>\n",
              "      <td>2059</td>\n",
              "      <td>964.129168</td>\n",
              "      <td>2059.883195</td>\n",
              "      <td>230</td>\n",
              "      <td>2133.263508</td>\n",
              "    </tr>\n",
              "  </tbody>\n",
              "</table>\n",
              "</div>"
            ],
            "text/plain": [
              "      Date  Business_Day  ...  Alloc_Left_Over_Goal_Units  Alloc_Total_Goal_Units\n",
              "0  4/27/20             1  ...                         230             2133.263508\n",
              "1  4/28/20             2  ...                         230             2133.263508\n",
              "2  4/29/20             3  ...                         230             2133.263508\n",
              "3  4/30/20             4  ...                         230             2133.263508\n",
              "4   5/1/20             5  ...                         230             2133.263508\n",
              "\n",
              "[5 rows x 40 columns]"
            ]
          },
          "metadata": {
            "tags": []
          },
          "execution_count": 19
        }
      ]
    },
    {
      "cell_type": "markdown",
      "metadata": {
        "id": "JLpoHQBPTy6e",
        "colab_type": "text"
      },
      "source": [
        "### Step 3: Set Destination Table"
      ]
    },
    {
      "cell_type": "code",
      "metadata": {
        "id": "d8k0rlcoSjBf",
        "colab_type": "code",
        "colab": {}
      },
      "source": [
        "# set destination table to insert data into\n",
        "destination_table = 'Austen.May_2020_Loan_Model_Data_v2'\n",
        "project_id='ffn-dw-bigquery-prd'"
      ],
      "execution_count": null,
      "outputs": []
    },
    {
      "cell_type": "markdown",
      "metadata": {
        "id": "GNzbG8WbT3ju",
        "colab_type": "text"
      },
      "source": [
        "### Step 4: Push Data to GBQ"
      ]
    },
    {
      "cell_type": "code",
      "metadata": {
        "id": "zc7CV_cFSjJ6",
        "colab_type": "code",
        "colab": {
          "base_uri": "https://localhost:8080/",
          "height": 33
        },
        "outputId": "df6f1e71-4a56-45ac-e84b-a24b1cbb0716"
      },
      "source": [
        "# send data to GBQ (pandas_gqb.to_gbq)\n",
        "# https://pandas-gbq.readthedocs.io/en/latest/api.html#pandas_gbq.to_gbq\n",
        "# params are: dataframe, destination_table, project_id, if_exists (append), and table_schema (list of dicts, name and type)\n",
        "pandas_gbq.to_gbq(dataframe = df,\n",
        "                  destination_table = destination_table,\n",
        "                  project_id = project_id,\n",
        "                  if_exists = 'append',\n",
        "                  )"
      ],
      "execution_count": null,
      "outputs": [
        {
          "output_type": "stream",
          "text": [
            "1it [00:03,  3.97s/it]\n"
          ],
          "name": "stderr"
        }
      ]
    },
    {
      "cell_type": "markdown",
      "metadata": {
        "id": "A-GQ01vVZsSQ",
        "colab_type": "text"
      },
      "source": [
        "### Step 5: Crack Open a drink - YOU DID IT!!"
      ]
    }
  ]
}