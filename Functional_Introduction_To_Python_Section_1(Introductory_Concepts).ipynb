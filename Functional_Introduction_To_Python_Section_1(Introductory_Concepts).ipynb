{
  "nbformat": 4,
  "nbformat_minor": 0,
  "metadata": {
    "celltoolbar": "Slideshow",
    "kernelspec": {
      "display_name": "Python 3",
      "language": "python",
      "name": "python3"
    },
    "language_info": {
      "codemirror_mode": {
        "name": "ipython",
        "version": 3
      },
      "file_extension": ".py",
      "mimetype": "text/x-python",
      "name": "python",
      "nbconvert_exporter": "python",
      "pygments_lexer": "ipython3",
      "version": "3.6.4"
    },
    "colab": {
      "name": "Functional_Introduction_To_Python_Section_1(Introductory_Concepts).ipynb",
      "provenance": [],
      "include_colab_link": true
    }
  },
  "cells": [
    {
      "cell_type": "markdown",
      "metadata": {
        "id": "view-in-github",
        "colab_type": "text"
      },
      "source": [
        "<a href=\"https://colab.research.google.com/github/papagorgio23/Python101/blob/master/Functional_Introduction_To_Python_Section_1(Introductory_Concepts).ipynb\" target=\"_parent\"><img src=\"https://colab.research.google.com/assets/colab-badge.svg\" alt=\"Open In Colab\"/></a>"
      ]
    },
    {
      "cell_type": "markdown",
      "metadata": {
        "id": "zWdBEELABSPF",
        "colab_type": "text"
      },
      "source": [
        "# A Functional Introduction To Python\n",
        "## <span style=\"color:blue\"> Section 1.  Introductory Concepts </span>\n",
        "## Section 2.  Functions\n",
        "## Section 3.  Control Structures\n",
        "## Section 4.  Intermediate Topics\n",
        "## Section 5.  IO"
      ]
    },
    {
      "cell_type": "markdown",
      "metadata": {
        "id": "7oUTYiWIBSPG",
        "colab_type": "text"
      },
      "source": [
        "#### Section 1:  Introductory Concepts Outline \n",
        "*  Procedural Statements\n",
        "*  Strings and String Formatting\n",
        "*  Numbers and Arithmetic Operations\n",
        "*  Data Structures\n",
        "*  Writing and running Scripts"
      ]
    },
    {
      "cell_type": "markdown",
      "metadata": {
        "id": "BtIpoZUFBSPH",
        "colab_type": "text"
      },
      "source": [
        " ### Procedural Statements\n",
        " Procedural statements are literally statements that  can be issued one line at a time.  Below are types of procedural statements.  These statements can be run in:\n",
        " * Jupyter Notebook\n",
        " * IPython shell\n",
        " * Python interpreter\n",
        " * Python scripts"
      ]
    },
    {
      "cell_type": "markdown",
      "metadata": {
        "id": "RyWeBktmBSPI",
        "colab_type": "text"
      },
      "source": [
        " ##### Printing"
      ]
    },
    {
      "cell_type": "code",
      "metadata": {
        "id": "zDzaYWbbBSPI",
        "colab_type": "code",
        "colab": {},
        "outputId": "1d2c4b53-326e-405e-955a-e67a597b7ebb"
      },
      "source": [
        "print(\"Hello world\")"
      ],
      "execution_count": null,
      "outputs": [
        {
          "output_type": "stream",
          "text": [
            "Hello world\n"
          ],
          "name": "stdout"
        }
      ]
    },
    {
      "cell_type": "markdown",
      "metadata": {
        "id": "sBBDj4y3BSPN",
        "colab_type": "text"
      },
      "source": [
        "##### Create Variable and Use Variable"
      ]
    },
    {
      "cell_type": "code",
      "metadata": {
        "id": "NGK-_DbOBSPN",
        "colab_type": "code",
        "colab": {},
        "outputId": "b548337c-03ae-448e-c44a-a08efede3902"
      },
      "source": [
        "variable = \"armbar\"; print(variable)"
      ],
      "execution_count": null,
      "outputs": [
        {
          "output_type": "stream",
          "text": [
            "armbar\n"
          ],
          "name": "stdout"
        }
      ]
    },
    {
      "cell_type": "markdown",
      "metadata": {
        "id": "UtH0sg24BSPQ",
        "colab_type": "text"
      },
      "source": [
        "##### Multiple procedural statements"
      ]
    },
    {
      "cell_type": "code",
      "metadata": {
        "id": "BdI1CZtdBSPQ",
        "colab_type": "code",
        "colab": {},
        "outputId": "41537590-fb8f-4a95-f722-773f3edff9fd"
      },
      "source": [
        "attack_one = \"kimura\"\n",
        "attack_two = \"arm triangle\"\n",
        "print(\"In Brazilian Jiu Jitsu a common attack is a:\", attack_one)\n",
        "print(\"Another common attack is a:\", attack_two)\n"
      ],
      "execution_count": null,
      "outputs": [
        {
          "output_type": "stream",
          "text": [
            "In Brazilian Jiu Jitsu a common attack is a: kimura\n",
            "Another common attack is a: arm triangle\n"
          ],
          "name": "stdout"
        }
      ]
    },
    {
      "cell_type": "markdown",
      "metadata": {
        "id": "P6JFYDUaBSPT",
        "colab_type": "text"
      },
      "source": [
        "##### Adding Numbers"
      ]
    },
    {
      "cell_type": "code",
      "metadata": {
        "id": "FAQcGrXJBSPT",
        "colab_type": "code",
        "colab": {},
        "outputId": "7a0bb14f-0973-4400-a2a2-d72c4786d363"
      },
      "source": [
        "1+1"
      ],
      "execution_count": null,
      "outputs": [
        {
          "output_type": "execute_result",
          "data": {
            "text/plain": [
              "2"
            ]
          },
          "metadata": {
            "tags": []
          },
          "execution_count": 5
        }
      ]
    },
    {
      "cell_type": "markdown",
      "metadata": {
        "id": "HyTAy15XBSPW",
        "colab_type": "text"
      },
      "source": [
        "##### Adding phrases"
      ]
    },
    {
      "cell_type": "code",
      "metadata": {
        "id": "pBHckQgyBSPX",
        "colab_type": "code",
        "colab": {},
        "outputId": "c73d052e-b930-48c5-b590-abd822e11333"
      },
      "source": [
        "\"arm\" + \"bar\""
      ],
      "execution_count": null,
      "outputs": [
        {
          "output_type": "execute_result",
          "data": {
            "text/plain": [
              "'armbar'"
            ]
          },
          "metadata": {
            "tags": []
          },
          "execution_count": 6
        }
      ]
    },
    {
      "cell_type": "markdown",
      "metadata": {
        "id": "0ahTcY0vBSPZ",
        "colab_type": "text"
      },
      "source": [
        "##### Complex statements\n",
        "More complex statements can be created that use data structures like the belts variable, which is a list."
      ]
    },
    {
      "cell_type": "code",
      "metadata": {
        "id": "wYwBrIMBBSPa",
        "colab_type": "code",
        "colab": {},
        "outputId": "6ec6a640-f71e-4743-aad4-8dd2ec13d329"
      },
      "source": [
        "belts = [\"white\", \"blue\", \"purple\", \"brown\", \"black\"]\n",
        "for belt in belts:\n",
        "    if \"black\" in belt:\n",
        "        print(\"The belt I want to be is:\", belt)\n",
        "    else:\n",
        "        print(\"This is not the belt I want to end up at:\", belt)"
      ],
      "execution_count": null,
      "outputs": [
        {
          "output_type": "stream",
          "text": [
            "This is not the belt I want to end up at: white\n",
            "This is not the belt I want to end up at: blue\n",
            "This is not the belt I want to end up at: purple\n",
            "This is not the belt I want to end up at: brown\n",
            "The belt I want to be is: black\n"
          ],
          "name": "stdout"
        }
      ]
    },
    {
      "cell_type": "markdown",
      "metadata": {
        "id": "MV5skhNJBSPd",
        "colab_type": "text"
      },
      "source": [
        " ### Strings and String Formatting\n",
        "Strings are a sequence of characters and they are often programmatically formatted.  Almost all Python programs have strings because they can be used to send messages to users who use the program.  When creating strings there are few core concepts to understand:\n",
        "\n",
        "* Strings can be create with the single, double and triple/double quotes\n",
        "* Strings are can be formatted\n",
        "* One complication of strings is they can be encoded in several formats including unicode\n",
        "* Many methods are available to operate on strings.  In an editor or IPython shell you can see these methods by tab completion: \n",
        "```\n",
        "basic_string.\n",
        "            capitalize()   format()       islower()      lower()        rpartition()   title()         \n",
        "            casefold()     format_map()   isnumeric()    lstrip()       rsplit()       translate()     \n",
        "            center()       index()        isprintable()  maketrans()    rstrip()       upper()         \n",
        "            count()        isalnum()      isspace()      partition()    split()        zfill()         \n",
        "            encode()       isalpha()      istitle()      replace()      splitlines()                  \n",
        "            endswith()     isdecimal()    isupper()      rfind()        startswith()                  \n",
        "            expandtabs()   isdigit()      join()         rindex()       strip()                       \n",
        "            find()         isidentifier() ljust()        rjust()        swapcase()        \n",
        "```"
      ]
    },
    {
      "cell_type": "markdown",
      "metadata": {
        "id": "9UJhxlKxBSPd",
        "colab_type": "text"
      },
      "source": [
        "##### Basic String"
      ]
    },
    {
      "cell_type": "code",
      "metadata": {
        "id": "lDg5sIV8BSPd",
        "colab_type": "code",
        "colab": {}
      },
      "source": [
        "basic_string = \"Brazilian Jiu Jitsu\""
      ],
      "execution_count": null,
      "outputs": []
    },
    {
      "cell_type": "markdown",
      "metadata": {
        "id": "BqA272wyBSPg",
        "colab_type": "text"
      },
      "source": [
        "##### Splitting String\n",
        "Turn a string in a list by splitting on spaces, or some other thing"
      ]
    },
    {
      "cell_type": "code",
      "metadata": {
        "id": "0cHe7GmqBSPg",
        "colab_type": "code",
        "colab": {},
        "outputId": "fe91bead-b6b2-4f85-9125-e8736407ba66"
      },
      "source": [
        "#split on spaces (default)\n",
        "basic_string.split()"
      ],
      "execution_count": null,
      "outputs": [
        {
          "output_type": "execute_result",
          "data": {
            "text/plain": [
              "['Brazilian', 'Jiu', 'Jitsu']"
            ]
          },
          "metadata": {
            "tags": []
          },
          "execution_count": 9
        }
      ]
    },
    {
      "cell_type": "code",
      "metadata": {
        "id": "TX8b2qI_BSPi",
        "colab_type": "code",
        "colab": {},
        "outputId": "d02eff7d-a7b0-476a-f99a-56ad36c03015"
      },
      "source": [
        "#split on hyphen\n",
        "string_with_hyphen = \"Brazilian-Jiu-Jitsu\"\n",
        "string_with_hyphen.split(\"-\")"
      ],
      "execution_count": null,
      "outputs": [
        {
          "output_type": "execute_result",
          "data": {
            "text/plain": [
              "['Brazilian', 'Jiu', 'Jitsu']"
            ]
          },
          "metadata": {
            "tags": []
          },
          "execution_count": 10
        }
      ]
    },
    {
      "cell_type": "markdown",
      "metadata": {
        "id": "qU0s_g74BSPk",
        "colab_type": "text"
      },
      "source": [
        "##### All Capital\n",
        "Turn a string into all Capital Letter"
      ]
    },
    {
      "cell_type": "code",
      "metadata": {
        "id": "BrbhpKDsBSPl",
        "colab_type": "code",
        "colab": {},
        "outputId": "b0d1b4f6-8238-4498-8274-a05beaa49853"
      },
      "source": [
        "basic_string.upper()"
      ],
      "execution_count": null,
      "outputs": [
        {
          "output_type": "execute_result",
          "data": {
            "text/plain": [
              "'BRAZILIAN JIU JITSU'"
            ]
          },
          "metadata": {
            "tags": []
          },
          "execution_count": 11
        }
      ]
    },
    {
      "cell_type": "markdown",
      "metadata": {
        "id": "POCf1HpYBSPn",
        "colab_type": "text"
      },
      "source": [
        "##### Slicing Strings\n",
        "Strings can be referenced by length and sliced"
      ]
    },
    {
      "cell_type": "code",
      "metadata": {
        "id": "n5IdKwgJBSPn",
        "colab_type": "code",
        "colab": {},
        "outputId": "83867c5c-6e4b-4bfd-d776-c3279b99ce14"
      },
      "source": [
        "#Get first two characters\n",
        "basic_string[:2]"
      ],
      "execution_count": null,
      "outputs": [
        {
          "output_type": "execute_result",
          "data": {
            "text/plain": [
              "'Br'"
            ]
          },
          "metadata": {
            "tags": []
          },
          "execution_count": 12
        }
      ]
    },
    {
      "cell_type": "code",
      "metadata": {
        "id": "PIARIUJ_BSPp",
        "colab_type": "code",
        "colab": {},
        "outputId": "5e6306db-196c-4663-87c2-3d0f95e0d9b3"
      },
      "source": [
        "#Get length of string\n",
        "len(basic_string)"
      ],
      "execution_count": null,
      "outputs": [
        {
          "output_type": "execute_result",
          "data": {
            "text/plain": [
              "19"
            ]
          },
          "metadata": {
            "tags": []
          },
          "execution_count": 13
        }
      ]
    },
    {
      "cell_type": "markdown",
      "metadata": {
        "id": "U4PkCTA7BSPr",
        "colab_type": "text"
      },
      "source": [
        "##### Strings Can Be Added Together\n"
      ]
    },
    {
      "cell_type": "code",
      "metadata": {
        "id": "tENmLuyoBSPs",
        "colab_type": "code",
        "colab": {},
        "outputId": "056e9b4c-f4b9-4488-a4ec-f5b5f107920b"
      },
      "source": [
        "basic_string + \" is my favorite Martial Art\""
      ],
      "execution_count": null,
      "outputs": [
        {
          "output_type": "execute_result",
          "data": {
            "text/plain": [
              "'Brazilian Jiu Jitsu is my favorite Martial Art'"
            ]
          },
          "metadata": {
            "tags": []
          },
          "execution_count": 14
        }
      ]
    },
    {
      "cell_type": "markdown",
      "metadata": {
        "id": "swyhwKIFBSPu",
        "colab_type": "text"
      },
      "source": [
        "#### Strings Can Be Formatted in More Complex Ways\n",
        "One of the best ways to format a string in modern Python 3 is to use f-strings"
      ]
    },
    {
      "cell_type": "code",
      "metadata": {
        "id": "0pCaI0s7BSPu",
        "colab_type": "code",
        "colab": {},
        "outputId": "3d8cc2d0-4b0c-48b4-ea37-4b4a82cb750d"
      },
      "source": [
        "f'I love practicing my favorite Martial Art, {basic_string}'"
      ],
      "execution_count": null,
      "outputs": [
        {
          "output_type": "execute_result",
          "data": {
            "text/plain": [
              "'I love practicing my favorite Martial Art, Brazilian Jiu Jitsu'"
            ]
          },
          "metadata": {
            "tags": []
          },
          "execution_count": 15
        }
      ]
    },
    {
      "cell_type": "markdown",
      "metadata": {
        "id": "UBxD_XxYBSPx",
        "colab_type": "text"
      },
      "source": [
        "#### Strings Can Use Triple Quotes to Wrap"
      ]
    },
    {
      "cell_type": "code",
      "metadata": {
        "id": "G-lyPIrABSPy",
        "colab_type": "code",
        "colab": {},
        "outputId": "f5a163bb-999f-47a0-eeef-fb0b8841b4bc"
      },
      "source": [
        "f\"\"\"\n",
        "This phrase is multiple sentenances long.\n",
        "There phrase can be formatted like simpler sentances,\n",
        "for example, I can still talk about my favorite Martial Art {basic_string}\n",
        "\"\"\""
      ],
      "execution_count": null,
      "outputs": [
        {
          "output_type": "execute_result",
          "data": {
            "text/plain": [
              "'\\nThis phrase is multiple sentenances long.\\nThere phrase can be formatted like simpler sentances,\\nfor example, I can still talk about my favorite Martial Art Brazilian Jiu Jitsu\\n'"
            ]
          },
          "metadata": {
            "tags": []
          },
          "execution_count": 16
        }
      ]
    },
    {
      "cell_type": "markdown",
      "metadata": {
        "id": "YltOBwtLBSP0",
        "colab_type": "text"
      },
      "source": [
        "#### Line Breaks Can Be Removed with Replace\n",
        "The last long line contained line breaks, which are the **\\n** character, and they can be removed by using the replace method"
      ]
    },
    {
      "cell_type": "code",
      "metadata": {
        "id": "hWKdlKq6BSP1",
        "colab_type": "code",
        "colab": {},
        "outputId": "58731a62-0001-4354-c2a8-886778d3e356"
      },
      "source": [
        "f\"\"\"\n",
        "This phrase is multiple sentenances long.\n",
        "There phrase can be formatted like simpler sentances,\n",
        "for example, I can still talk about my favorite Martial Art {basic_string}\n",
        "\"\"\".replace(\"\\n\", \"\")"
      ],
      "execution_count": null,
      "outputs": [
        {
          "output_type": "execute_result",
          "data": {
            "text/plain": [
              "'This phrase is multiple sentenances long.There phrase can be formatted like simpler sentances,for example, I can still talk about my favorite Martial Art Brazilian Jiu Jitsu'"
            ]
          },
          "metadata": {
            "tags": []
          },
          "execution_count": 17
        }
      ]
    },
    {
      "cell_type": "markdown",
      "metadata": {
        "id": "zAN0dLrtBSP3",
        "colab_type": "text"
      },
      "source": [
        "### Numbers and Arithmetic Operations\n",
        "Python is also a built-in calculator.  Without installing any additional libraries it can do many simple and complex arithmetic operations."
      ]
    },
    {
      "cell_type": "markdown",
      "metadata": {
        "id": "bzV6_15BBSP3",
        "colab_type": "text"
      },
      "source": [
        "#### Adding and Subtracting Numbers"
      ]
    },
    {
      "cell_type": "code",
      "metadata": {
        "id": "qyNbppVvBSP4",
        "colab_type": "code",
        "colab": {},
        "outputId": "53af7907-a893-4920-f9e2-70abd4d8101d"
      },
      "source": [
        "steps = (1+1)-1\n",
        "print(f\"Two Steps Forward:  One Step Back = {steps}\")\n"
      ],
      "execution_count": null,
      "outputs": [
        {
          "output_type": "stream",
          "text": [
            "Two Steps Forward:  One Step Back = 1\n"
          ],
          "name": "stdout"
        }
      ]
    },
    {
      "cell_type": "markdown",
      "metadata": {
        "id": "HC3lX5iABSP6",
        "colab_type": "text"
      },
      "source": [
        "#### Multiplication with Decimals\n"
      ]
    },
    {
      "cell_type": "code",
      "metadata": {
        "id": "MPq8EP68BSP6",
        "colab_type": "code",
        "colab": {},
        "outputId": "5c0830e3-3b56-41b9-a834-26b3857ccdee"
      },
      "source": [
        "body_fat_percentage = 0.10\n",
        "weight = 200\n",
        "fat_total = body_fat_percentage * weight\n",
        "print(f\"I weight 200lbs, and {fat_total}lbs of that is fat\")"
      ],
      "execution_count": null,
      "outputs": [
        {
          "output_type": "stream",
          "text": [
            "I weight 200lbs, and 20.0lbs of that is fat\n"
          ],
          "name": "stdout"
        }
      ]
    },
    {
      "cell_type": "markdown",
      "metadata": {
        "id": "4OTBh20NBSP8",
        "colab_type": "text"
      },
      "source": [
        "#### Using Exponents\n",
        "Using the math library it is straightforward to call 2 to the 3rd power"
      ]
    },
    {
      "cell_type": "code",
      "metadata": {
        "id": "AZ6Goc28BSP8",
        "colab_type": "code",
        "colab": {},
        "outputId": "cb489c4e-c7b2-4f17-ef4b-eaad63bb3bb8"
      },
      "source": [
        "import math\n",
        "math.pow(2,3)"
      ],
      "execution_count": null,
      "outputs": [
        {
          "output_type": "execute_result",
          "data": {
            "text/plain": [
              "8.0"
            ]
          },
          "metadata": {
            "tags": []
          },
          "execution_count": 20
        }
      ]
    },
    {
      "cell_type": "markdown",
      "metadata": {
        "id": "W76qZRCoBSP-",
        "colab_type": "text"
      },
      "source": [
        "#### Converting Between different numerical types\n",
        "There are many numerical forms to be aware of in Python.\n",
        "A couple of the most common are:\n",
        "* Integers\n",
        "* Floats"
      ]
    },
    {
      "cell_type": "code",
      "metadata": {
        "id": "DGftyTawBSP-",
        "colab_type": "code",
        "colab": {},
        "outputId": "eb60789a-5f99-408f-8ea8-6e10f9e0f1a2"
      },
      "source": [
        "number = 100\n",
        "num_type = type(number).__name__\n",
        "print(f\"{number} is type [{num_type}]\")"
      ],
      "execution_count": null,
      "outputs": [
        {
          "output_type": "stream",
          "text": [
            "100 is type [int]\n"
          ],
          "name": "stdout"
        }
      ]
    },
    {
      "cell_type": "code",
      "metadata": {
        "id": "cNtv_XQOBSQB",
        "colab_type": "code",
        "colab": {},
        "outputId": "acc43b4f-4741-46c3-ec14-ff3812e08165"
      },
      "source": [
        "number = float(100)\n",
        "num_type = type(number).__name__\n",
        "print(f\"{number} is type [{num_type}]\")"
      ],
      "execution_count": null,
      "outputs": [
        {
          "output_type": "stream",
          "text": [
            "100.0 is type [float]\n"
          ],
          "name": "stdout"
        }
      ]
    },
    {
      "cell_type": "markdown",
      "metadata": {
        "id": "6BiZWdfcBSQD",
        "colab_type": "text"
      },
      "source": [
        "#### Numbers can also be rounded\n",
        "Below a decimal with many digits is rounded to two decimals"
      ]
    },
    {
      "cell_type": "code",
      "metadata": {
        "id": "-rlE9STqBSQD",
        "colab_type": "code",
        "colab": {},
        "outputId": "6c6bff5f-07e7-4977-d1f7-18c8d6761fe0"
      },
      "source": [
        "too_many_decimals = 1.912345897\n",
        "round(too_many_decimals, 2)"
      ],
      "execution_count": null,
      "outputs": [
        {
          "output_type": "execute_result",
          "data": {
            "text/plain": [
              "1.91"
            ]
          },
          "metadata": {
            "tags": []
          },
          "execution_count": 23
        }
      ]
    },
    {
      "cell_type": "markdown",
      "metadata": {
        "id": "R0tvARFlBSQF",
        "colab_type": "text"
      },
      "source": [
        " ### Data Structures\n",
        "Python has a couple of core Data Structures that are used very frequently\n",
        " \n",
        " * Lists\n",
        " * Dictionaries\n",
        " \n",
        "Dictionaries and lists are the real workhorses of Python, but there are also other Data Structers like tuples, sets, Counters, etc, that are worth exploring too."
      ]
    },
    {
      "cell_type": "markdown",
      "metadata": {
        "id": "5ahhQAugBSQF",
        "colab_type": "text"
      },
      "source": [
        "#### Dictionaries\n",
        "Dictionaries are good at solving many problems, much like Python.  In the example below, a list of Brazilian Jiu Jitsu attacks are put into a dictionary.  The \"key\" is the attack, and the \"value\" is the half of the body the attack is on."
      ]
    },
    {
      "cell_type": "code",
      "metadata": {
        "id": "gSIwiYznBSQF",
        "colab_type": "code",
        "colab": {}
      },
      "source": [
        "submissions = {\"armbar\": \"upper_body\", \n",
        "               \"arm_triangle\": \"upper_body\", \n",
        "               \"heel_hook\": \"lower_body\", \n",
        "               \"knee_bar\": \"lower_body\"}"
      ],
      "execution_count": null,
      "outputs": []
    },
    {
      "cell_type": "markdown",
      "metadata": {
        "id": "aWnVK7S_BSQH",
        "colab_type": "text"
      },
      "source": [
        "A common dictionary pattern is to iterate on a dictionary by using the items method.  In the example below the key and the value are printed:"
      ]
    },
    {
      "cell_type": "code",
      "metadata": {
        "scrolled": true,
        "id": "DN729zgJBSQI",
        "colab_type": "code",
        "colab": {},
        "outputId": "2d7b3daa-9ee2-41a4-bb41-6201c862c49d"
      },
      "source": [
        "for submission, body_part in submissions.items():\n",
        "    print(f\"The {submission} is an attack on the {body_part}\")"
      ],
      "execution_count": null,
      "outputs": [
        {
          "output_type": "stream",
          "text": [
            "The armbar is an attack on the upper_body\n",
            "The arm_triangle is an attack on the upper_body\n",
            "The heel_hook is an attack on the lower_body\n",
            "The knee_bar is an attack on the lower_body\n"
          ],
          "name": "stdout"
        }
      ]
    },
    {
      "cell_type": "markdown",
      "metadata": {
        "id": "J_51dqf_BSQJ",
        "colab_type": "text"
      },
      "source": [
        "Dictionaries can also be used to filter.  In the example below, only the submission attacks on the upper body are displayed:"
      ]
    },
    {
      "cell_type": "code",
      "metadata": {
        "id": "pIiPxJruBSQJ",
        "colab_type": "code",
        "colab": {},
        "outputId": "7a03d92f-9079-4b11-dfde-cccf9ed0d82f"
      },
      "source": [
        "print(f\"These are upper_body submission attacks in Brazilian Jiu Jitsu:\")\n",
        "for submission, body_part in submissions.items():\n",
        "    if body_part == \"upper_body\":\n",
        "        print(submission)"
      ],
      "execution_count": null,
      "outputs": [
        {
          "output_type": "stream",
          "text": [
            "These are upper_body submission attacks in Brazilian Jiu Jitsu:\n",
            "armbar\n",
            "arm_triangle\n"
          ],
          "name": "stdout"
        }
      ]
    },
    {
      "cell_type": "markdown",
      "metadata": {
        "id": "n_lBWIX2BSQL",
        "colab_type": "text"
      },
      "source": [
        "Dictionary keys and values can also be selected:"
      ]
    },
    {
      "cell_type": "code",
      "metadata": {
        "id": "7_-S0GCiBSQM",
        "colab_type": "code",
        "colab": {},
        "outputId": "497c8758-1160-44b2-8a5f-2073001c95fe"
      },
      "source": [
        "print(f\"These are keys: {submissions.keys()}\")\n",
        "print(f\"These are values: {submissions.values()}\")"
      ],
      "execution_count": null,
      "outputs": [
        {
          "output_type": "stream",
          "text": [
            "These are keys: dict_keys(['armbar', 'arm_triangle', 'heel_hook', 'knee_bar'])\n",
            "These are values: dict_values(['upper_body', 'upper_body', 'lower_body', 'lower_body'])\n"
          ],
          "name": "stdout"
        }
      ]
    },
    {
      "cell_type": "markdown",
      "metadata": {
        "id": "AeLEurhWBSQN",
        "colab_type": "text"
      },
      "source": [
        "#### Lists\n",
        "Lists are also very commonly used in Python.  They allow for sequential collections.  Lists can hold dictionaries, just as dictionaries can hold lists."
      ]
    },
    {
      "cell_type": "code",
      "metadata": {
        "id": "F8FZcbqPBSQN",
        "colab_type": "code",
        "colab": {}
      },
      "source": [
        "list_of_bjj_positions = [\"mount\", \"full-guard\", \"half-guard\", \n",
        "                         \"turtle\", \"side-control\", \"rear-mount\", \n",
        "                         \"knee-on-belly\", \"north-south\", \"open-guard\"]"
      ],
      "execution_count": null,
      "outputs": []
    },
    {
      "cell_type": "code",
      "metadata": {
        "id": "MqXdmiKbBSQP",
        "colab_type": "code",
        "colab": {},
        "outputId": "7dd38d1f-4062-4ad4-9e16-16a01d0d20b3"
      },
      "source": [
        "for postion in list_of_bjj_positions:\n",
        "    if \"guard\" in postion:\n",
        "        print(postion)"
      ],
      "execution_count": null,
      "outputs": [
        {
          "output_type": "stream",
          "text": [
            "full-guard\n",
            "half-guard\n",
            "open-guard\n"
          ],
          "name": "stdout"
        }
      ]
    },
    {
      "cell_type": "markdown",
      "metadata": {
        "id": "bfJERw5UBSQQ",
        "colab_type": "text"
      },
      "source": [
        "Lists can also be used to select elements by slicing\n"
      ]
    },
    {
      "cell_type": "code",
      "metadata": {
        "id": "MXiP853LBSQR",
        "colab_type": "code",
        "colab": {},
        "outputId": "0ad0065c-0bc0-4d50-9694-f09509846a54"
      },
      "source": [
        "print(f'First position: {list_of_bjj_positions[:1]}')\n",
        "print(f'Last position: {list_of_bjj_positions[-1:]}')\n",
        "print(f'First three positions: {list_of_bjj_positions[0:3]}')"
      ],
      "execution_count": null,
      "outputs": [
        {
          "output_type": "stream",
          "text": [
            "First position: ['mount']\n",
            "Last position: ['open-guard']\n",
            "First three positions: ['mount', 'full-guard', 'half-guard']\n"
          ],
          "name": "stdout"
        }
      ]
    }
  ]
}