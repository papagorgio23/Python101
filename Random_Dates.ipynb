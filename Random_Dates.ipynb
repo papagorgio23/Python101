{
  "nbformat": 4,
  "nbformat_minor": 0,
  "metadata": {
    "colab": {
      "name": "Random Dates.ipynb",
      "provenance": [],
      "collapsed_sections": [],
      "authorship_tag": "ABX9TyNJjJwgAH7fNTkpgmub+Zoj",
      "include_colab_link": true
    },
    "kernelspec": {
      "name": "python3",
      "display_name": "Python 3"
    }
  },
  "cells": [
    {
      "cell_type": "markdown",
      "metadata": {
        "id": "view-in-github",
        "colab_type": "text"
      },
      "source": [
        "<a href=\"https://colab.research.google.com/github/papagorgio23/Python101/blob/master/Random_Dates.ipynb\" target=\"_parent\"><img src=\"https://colab.research.google.com/assets/colab-badge.svg\" alt=\"Open In Colab\"/></a>"
      ]
    },
    {
      "cell_type": "code",
      "metadata": {
        "id": "bKiB-JDUfMl6",
        "colab_type": "code",
        "colab": {}
      },
      "source": [
        "from datetime import datetime as dt\n",
        "from itertools import groupby\n",
        "\n",
        "ts = [\n",
        "    '2019-01-01',\n",
        "    '2019-01-02',\n",
        "    '2019-01-08',\n",
        "    '2019-02-01',\n",
        "    '2019-02-02',\n",
        "    '2019-02-05',\n",
        "]\n",
        "\n",
        "def groupByWeek(dates):\n",
        "\n",
        "  # fix dates\n",
        "  dates = [dt.strptime(x, '%Y-%m-%d').date() for x in dates]\n",
        "\n",
        "  # init output\n",
        "  groupedList = []\n",
        "\n",
        "  # set starting date\n",
        "  firstDate = dates[0]\n",
        "\n",
        "  # loop through all the dates using the itertools groupby function\n",
        "  # grouping it by the week (when using \"//\" it will return the whole number \n",
        "  # and since there are 7 days in a week we can divid by 7 and it will \n",
        "  # return 0,0, 1, 4, 4, 5 in this situation)\n",
        "  for m, i in groupby(dates, key=lambda d: (d - firstDate).days // 7):\n",
        "    groupedList.append(list(i))\n",
        "\n",
        "  return groupedList\n",
        "\n"
      ],
      "execution_count": null,
      "outputs": []
    },
    {
      "cell_type": "code",
      "metadata": {
        "id": "XIMJZhryhAE9",
        "colab_type": "code",
        "colab": {
          "base_uri": "https://localhost:8080/",
          "height": 85
        },
        "outputId": "8c95e841-d833-438b-d069-70a531296fc2"
      },
      "source": [
        "groupByWeek(ts)"
      ],
      "execution_count": null,
      "outputs": [
        {
          "output_type": "execute_result",
          "data": {
            "text/plain": [
              "[[datetime.date(2019, 1, 1), datetime.date(2019, 1, 2)],\n",
              " [datetime.date(2019, 1, 8)],\n",
              " [datetime.date(2019, 2, 1), datetime.date(2019, 2, 2)],\n",
              " [datetime.date(2019, 2, 5)]]"
            ]
          },
          "metadata": {
            "tags": []
          },
          "execution_count": 4
        }
      ]
    },
    {
      "cell_type": "code",
      "metadata": {
        "id": "t7TH49VLfabP",
        "colab_type": "code",
        "colab": {
          "base_uri": "https://localhost:8080/",
          "height": 34
        },
        "outputId": "12627638-8cfb-4e6e-a039-07a91016420a"
      },
      "source": [
        "firstDate = dt.strptime(inp[0], \"%Y-%m-%d\")\n",
        "out = []\n",
        "\n",
        "for k, g in groupby(inp, key=lambda d: (dt.strptime(d, \"%Y-%m-%d\") - first).days // 7 ):\n",
        "    out.append(list(g))\n",
        "\n",
        "print(out)"
      ],
      "execution_count": null,
      "outputs": [
        {
          "output_type": "stream",
          "text": [
            "[['2019-01-01', '2019-01-02'], ['2019-01-08'], ['2019-02-01'], ['2019-02-05']]\n"
          ],
          "name": "stdout"
        }
      ]
    },
    {
      "cell_type": "code",
      "metadata": {
        "id": "aboWQZc5iKB4",
        "colab_type": "code",
        "colab": {
          "base_uri": "https://localhost:8080/",
          "height": 85
        },
        "outputId": "e98e988b-f374-43ff-cb50-adca53313f26"
      },
      "source": [
        "import datetime as dt\n",
        "\n",
        "ts = [\n",
        "    '2019-01-01',\n",
        "    '2019-01-02',\n",
        "    '2019-01-08',\n",
        "    '2019-02-01',\n",
        "    '2019-02-02',\n",
        "    '2019-02-05',\n",
        "]\n",
        "\n",
        "def groupByWeek(dates):\n",
        "    dates = [dt.datetime.strptime(x, '%Y-%m-%d').date() for x in dates]\n",
        "    groupedList = []\n",
        "    weekList = []\n",
        "    firstDate = dates[0]\n",
        "    for date in dates:\n",
        "        if date == firstDate:\n",
        "            weekList.append(date)\n",
        "        elif (date - firstDate).days  < 7 & date.weekday() > firstDate.weekday():\n",
        "            weekList.append(date)\n",
        "        else:\n",
        "            groupedList.append(weekList)\n",
        "            firstDate = date\n",
        "            weekList = []\n",
        "            weekList.append(date)\n",
        "    groupedList.append(weekList)\n",
        "    return groupedList\n",
        "\n",
        "groupedDates = groupByWeek(ts)\n",
        "groupedDates\n"
      ],
      "execution_count": null,
      "outputs": [
        {
          "output_type": "execute_result",
          "data": {
            "text/plain": [
              "[[datetime.date(2019, 1, 1), datetime.date(2019, 1, 2)],\n",
              " [datetime.date(2019, 1, 8)],\n",
              " [datetime.date(2019, 2, 1), datetime.date(2019, 2, 2)],\n",
              " [datetime.date(2019, 2, 5)]]"
            ]
          },
          "metadata": {
            "tags": []
          },
          "execution_count": 15
        }
      ]
    },
    {
      "cell_type": "code",
      "metadata": {
        "id": "w8AQVqEaiVpi",
        "colab_type": "code",
        "colab": {}
      },
      "source": [
        ""
      ],
      "execution_count": null,
      "outputs": []
    }
  ]
}