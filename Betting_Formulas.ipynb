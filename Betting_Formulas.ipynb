{
  "nbformat": 4,
  "nbformat_minor": 0,
  "metadata": {
    "kernelspec": {
      "display_name": "Python 3",
      "language": "python",
      "name": "python3"
    },
    "language_info": {
      "codemirror_mode": {
        "name": "ipython",
        "version": 3
      },
      "file_extension": ".py",
      "mimetype": "text/x-python",
      "name": "python",
      "nbconvert_exporter": "python",
      "pygments_lexer": "ipython3",
      "version": "3.7.1"
    },
    "colab": {
      "name": "Betting Formulas.ipynb",
      "provenance": [],
      "include_colab_link": true
    }
  },
  "cells": [
    {
      "cell_type": "markdown",
      "metadata": {
        "id": "view-in-github",
        "colab_type": "text"
      },
      "source": [
        "<a href=\"https://colab.research.google.com/github/papagorgio23/Python101/blob/master/Betting_Formulas.ipynb\" target=\"_parent\"><img src=\"https://colab.research.google.com/assets/colab-badge.svg\" alt=\"Open In Colab\"/></a>"
      ]
    },
    {
      "cell_type": "code",
      "metadata": {
        "id": "tied-JVkNZyn",
        "colab_type": "code",
        "colab": {}
      },
      "source": [
        "# Moneyline to Probability\n",
        "def m_to_p(m1):\n",
        "    if float(m1) > 0:\n",
        "        m1= 100./(float(m1)+100)\n",
        "    else:\n",
        "            m1=float(m1)/(m1-100)\n",
        "    return m1"
      ],
      "execution_count": null,
      "outputs": []
    },
    {
      "cell_type": "code",
      "metadata": {
        "id": "45uzGrnzNZyr",
        "colab_type": "code",
        "colab": {}
      },
      "source": [
        "# Probability to Moneyline\n",
        "def p_to_m(p1):\n",
        "    if p1 >.5:\n",
        "        p1 = p1/(1-p1)*-100.\n",
        "    else:\n",
        "        p1= (1.-p1)/p1*100.\n",
        "    return p1"
      ],
      "execution_count": null,
      "outputs": []
    },
    {
      "cell_type": "code",
      "metadata": {
        "id": "aq3BMXOgNZyt",
        "colab_type": "code",
        "colab": {}
      },
      "source": [
        "# Adding Juice to Fair Moneyline\n",
        "def add_juice_2(fp,dp,juice):\n",
        "    nfp=fp*juice\n",
        "    ndp=dp*juice\n",
        "    fml = nfp/(1-nfp)*-100\n",
        "    dml = (1-ndp)/ndp*100\n",
        "    return fml,dml"
      ],
      "execution_count": null,
      "outputs": []
    },
    {
      "cell_type": "code",
      "metadata": {
        "id": "Pf8KBTRtNZyw",
        "colab_type": "code",
        "colab": {},
        "outputId": "1d40c4d3-6164-4482-b539-c47e28580680"
      },
      "source": [
        "add_juice_2(-186,186,1.05)"
      ],
      "execution_count": null,
      "outputs": [
        {
          "output_type": "execute_result",
          "data": {
            "text/plain": [
              "(99.49057564951605, -99.48796722990272)"
            ]
          },
          "metadata": {
            "tags": []
          },
          "execution_count": 5
        }
      ]
    },
    {
      "cell_type": "code",
      "metadata": {
        "id": "oot660fQNZyy",
        "colab_type": "code",
        "colab": {}
      },
      "source": [
        "# Moneyline to Probabilities\n",
        "def over_round(line1,line2):\n",
        "    return (m_to_p(line1)+ m_to_p(line2))-1"
      ],
      "execution_count": null,
      "outputs": []
    },
    {
      "cell_type": "code",
      "metadata": {
        "id": "oBJoDi38NZy1",
        "colab_type": "code",
        "colab": {},
        "outputId": "1511ca1d-ecbc-4394-a363-8750f49a6ac3"
      },
      "source": [
        "# Figures out what the casino cut is\n",
        "over_round(-209,175)  "
      ],
      "execution_count": null,
      "outputs": [
        {
          "output_type": "execute_result",
          "data": {
            "text/plain": [
              "0.04001176816710794"
            ]
          },
          "metadata": {
            "tags": []
          },
          "execution_count": 7
        }
      ]
    },
    {
      "cell_type": "code",
      "metadata": {
        "id": "jV8lbqJ-NZy3",
        "colab_type": "code",
        "colab": {}
      },
      "source": [
        "# Remove Juics from Moneyline\n",
        "def remove_juice(l1,l2):\n",
        "    l1= m_to_p(l1)\n",
        "    l2= m_to_p(l2)\n",
        "    ov_rnd = l1+l2\n",
        "    juice= ov_rnd-1.\n",
        "    #print juice\n",
        "    #print ov_rnd\n",
        "    l1 = l1/ov_rnd\n",
        "    l2 = l2/ov_rnd\n",
        "    return l1,l2, p_to_m(l1),p_to_m(l2)"
      ],
      "execution_count": null,
      "outputs": []
    },
    {
      "cell_type": "code",
      "metadata": {
        "id": "wiXhkQCUNZy6",
        "colab_type": "code",
        "colab": {},
        "outputId": "9352e366-4c19-4f2d-93fa-0c411d60e357"
      },
      "source": [
        "remove_juice(-230,+190)"
      ],
      "execution_count": null,
      "outputs": [
        {
          "output_type": "execute_result",
          "data": {
            "text/plain": [
              "(0.6690070210631895,\n",
              " 0.33099297893681046,\n",
              " -202.1212121212121,\n",
              " 202.1212121212121)"
            ]
          },
          "metadata": {
            "tags": []
          },
          "execution_count": 9
        }
      ]
    },
    {
      "cell_type": "code",
      "metadata": {
        "id": "U8QEugaZNZy8",
        "colab_type": "code",
        "colab": {}
      },
      "source": [
        "# breaking Even\n",
        "def break_even(risk,rtrn,teams):\n",
        "    #Return is the risk + the amount won in the bet\n",
        "    #Teams is the number of seperate team or events needed to win\n",
        "    return (risk/rtrn)**(1/float(teams))"
      ],
      "execution_count": null,
      "outputs": []
    },
    {
      "cell_type": "code",
      "metadata": {
        "id": "S8SD55iBNZy-",
        "colab_type": "code",
        "colab": {}
      },
      "source": [
        "#The money line needed for each to Breakeven\n",
        "def needed_for_edge(risk,rtrn,teams):\n",
        "    x=(risk/rtrn)**(1/float(teams))\n",
        "    return p_to_m(x)"
      ],
      "execution_count": null,
      "outputs": []
    },
    {
      "cell_type": "code",
      "metadata": {
        "id": "ebeZDrO_NZzC",
        "colab_type": "code",
        "colab": {},
        "outputId": "b4107cba-2867-4306-8f07-798c97ed1054"
      },
      "source": [
        "break_even(10,26,3)"
      ],
      "execution_count": null,
      "outputs": [
        {
          "output_type": "execute_result",
          "data": {
            "text/plain": [
              "0.0"
            ]
          },
          "metadata": {
            "tags": []
          },
          "execution_count": 12
        }
      ]
    },
    {
      "cell_type": "code",
      "metadata": {
        "id": "LCXdSIigNZzE",
        "colab_type": "code",
        "colab": {},
        "outputId": "dd71e167-d0b3-4fe4-80c3-4c9e085ed143"
      },
      "source": [
        "needed_for_edge(10,26,2)"
      ],
      "execution_count": null,
      "outputs": [
        {
          "output_type": "error",
          "ename": "ZeroDivisionError",
          "evalue": "float division by zero",
          "traceback": [
            "\u001b[0;31m---------------------------------------------------------------------------\u001b[0m",
            "\u001b[0;31mZeroDivisionError\u001b[0m                         Traceback (most recent call last)",
            "\u001b[0;32m<ipython-input-14-775a15a1cb5c>\u001b[0m in \u001b[0;36m<module>\u001b[0;34m()\u001b[0m\n\u001b[0;32m----> 1\u001b[0;31m \u001b[0mneeded_for_edge\u001b[0m\u001b[0;34m(\u001b[0m\u001b[0;36m10\u001b[0m\u001b[0;34m,\u001b[0m\u001b[0;36m26\u001b[0m\u001b[0;34m,\u001b[0m\u001b[0;36m2\u001b[0m\u001b[0;34m)\u001b[0m\u001b[0;34m\u001b[0m\u001b[0m\n\u001b[0m",
            "\u001b[0;32m<ipython-input-11-4487f7bdaf50>\u001b[0m in \u001b[0;36mneeded_for_edge\u001b[0;34m(risk, rtrn, teams)\u001b[0m\n\u001b[1;32m      2\u001b[0m \u001b[0;32mdef\u001b[0m \u001b[0mneeded_for_edge\u001b[0m\u001b[0;34m(\u001b[0m\u001b[0mrisk\u001b[0m\u001b[0;34m,\u001b[0m\u001b[0mrtrn\u001b[0m\u001b[0;34m,\u001b[0m\u001b[0mteams\u001b[0m\u001b[0;34m)\u001b[0m\u001b[0;34m:\u001b[0m\u001b[0;34m\u001b[0m\u001b[0m\n\u001b[1;32m      3\u001b[0m     \u001b[0mx\u001b[0m\u001b[0;34m=\u001b[0m\u001b[0;34m(\u001b[0m\u001b[0mrisk\u001b[0m\u001b[0;34m/\u001b[0m\u001b[0mrtrn\u001b[0m\u001b[0;34m)\u001b[0m\u001b[0;34m**\u001b[0m\u001b[0;34m(\u001b[0m\u001b[0;36m1\u001b[0m\u001b[0;34m/\u001b[0m\u001b[0mfloat\u001b[0m\u001b[0;34m(\u001b[0m\u001b[0mteams\u001b[0m\u001b[0;34m)\u001b[0m\u001b[0;34m)\u001b[0m\u001b[0;34m\u001b[0m\u001b[0m\n\u001b[0;32m----> 4\u001b[0;31m     \u001b[0;32mreturn\u001b[0m \u001b[0mp_to_m\u001b[0m\u001b[0;34m(\u001b[0m\u001b[0mx\u001b[0m\u001b[0;34m)\u001b[0m\u001b[0;34m\u001b[0m\u001b[0m\n\u001b[0m",
            "\u001b[0;32m<ipython-input-3-86f537d789ce>\u001b[0m in \u001b[0;36mp_to_m\u001b[0;34m(p1)\u001b[0m\n\u001b[1;32m      4\u001b[0m         \u001b[0mp1\u001b[0m \u001b[0;34m=\u001b[0m \u001b[0mp1\u001b[0m\u001b[0;34m/\u001b[0m\u001b[0;34m(\u001b[0m\u001b[0;36m1\u001b[0m\u001b[0;34m-\u001b[0m\u001b[0mp1\u001b[0m\u001b[0;34m)\u001b[0m\u001b[0;34m*\u001b[0m\u001b[0;34m-\u001b[0m\u001b[0;36m100.\u001b[0m\u001b[0;34m\u001b[0m\u001b[0m\n\u001b[1;32m      5\u001b[0m     \u001b[0;32melse\u001b[0m\u001b[0;34m:\u001b[0m\u001b[0;34m\u001b[0m\u001b[0m\n\u001b[0;32m----> 6\u001b[0;31m         \u001b[0mp1\u001b[0m\u001b[0;34m=\u001b[0m \u001b[0;34m(\u001b[0m\u001b[0;36m1.\u001b[0m\u001b[0;34m-\u001b[0m\u001b[0mp1\u001b[0m\u001b[0;34m)\u001b[0m\u001b[0;34m/\u001b[0m\u001b[0mp1\u001b[0m\u001b[0;34m*\u001b[0m\u001b[0;36m100.\u001b[0m\u001b[0;34m\u001b[0m\u001b[0m\n\u001b[0m\u001b[1;32m      7\u001b[0m     \u001b[0;32mreturn\u001b[0m \u001b[0mp1\u001b[0m\u001b[0;34m\u001b[0m\u001b[0m\n",
            "\u001b[0;31mZeroDivisionError\u001b[0m: float division by zero"
          ]
        }
      ]
    },
    {
      "cell_type": "code",
      "metadata": {
        "id": "c_USI9waNZzG",
        "colab_type": "code",
        "colab": {},
        "outputId": "fdb48d25-1e21-4876-c475-f67f1ec8ff68"
      },
      "source": [
        "remove_juice(-300,+240)"
      ],
      "execution_count": null,
      "outputs": [
        {
          "output_type": "execute_result",
          "data": {
            "text/plain": [
              "(0.7183098591549295,\n",
              " 0.28169014084507044,\n",
              " -254.9999999999999,\n",
              " 254.99999999999997)"
            ]
          },
          "metadata": {
            "tags": []
          },
          "execution_count": 15
        }
      ]
    },
    {
      "cell_type": "code",
      "metadata": {
        "id": "cQlH8CrLNZzI",
        "colab_type": "code",
        "colab": {},
        "outputId": "c54530a1-d8e4-4b0f-e6ca-7325b1ad659d"
      },
      "source": [
        "from scipy.stats import norm\n",
        "norm.ppf(.5)\n"
      ],
      "execution_count": null,
      "outputs": [
        {
          "output_type": "execute_result",
          "data": {
            "text/plain": [
              "0.0"
            ]
          },
          "metadata": {
            "tags": []
          },
          "execution_count": 1
        }
      ]
    },
    {
      "cell_type": "code",
      "metadata": {
        "id": "Xo9vGn4zNZzL",
        "colab_type": "code",
        "colab": {},
        "outputId": "7e68f3d8-ffe1-4141-b04c-9a1b5f7d1091"
      },
      "source": [
        "round(1- norm.cdf(7, 3.5, 13.86), 4)\n",
        "#?round\n",
        "#round(0.00426,4)\n",
        "testing = round(100*0.45678, 2)\n",
        "#print 'The implied win probability for team 1 is ' + str(testing) + '%'\n",
        "#money_to_prob(-230) + money_to_prob(190)\n",
        "round(prob_to_money(0.331),0)\n",
        "#round((l1/ov_rnd)*100, 2)"
      ],
      "execution_count": null,
      "outputs": [
        {
          "output_type": "execute_result",
          "data": {
            "text/plain": [
              "202.0"
            ]
          },
          "metadata": {
            "tags": []
          },
          "execution_count": 66
        }
      ]
    },
    {
      "cell_type": "code",
      "metadata": {
        "id": "9Qi7PSQCNZzM",
        "colab_type": "code",
        "colab": {}
      },
      "source": [
        "# Moneyline to Probability\n",
        "def money_to_prob(moneyline):\n",
        "    if float(moneyline) > 0:\n",
        "        moneyline= 100./(float(moneyline)+100)\n",
        "    else:\n",
        "        moneyline=float(moneyline)/(moneyline-100)\n",
        "    return moneyline\n",
        "\n",
        "# Probability to Moneyline\n",
        "def prob_to_money(probability):\n",
        "    if probability >.5:\n",
        "        probability = probability/(1-probability)*-100.\n",
        "    else:\n",
        "        probability = (1.-probability)/probability*100.\n",
        "    return probability\n",
        "\n",
        "# Figure out casino's cut of the bet to Probabilities\n",
        "def over_round(line1,line2):\n",
        "    casinoCut = (money_to_prob(line1)+ money_to_prob(line2))-1\n",
        "    return casinoCut\n",
        "\n",
        "def moneyLineInfo(line1, line2):\n",
        "    l1 = money_to_prob(line1)\n",
        "    l2 = money_to_prob(line2)\n",
        "    ov_rnd = l1 + l2\n",
        "    juice = round((ov_rnd - 1)*100, 2)\n",
        "    l1 = round((l1/ov_rnd)*100, 2)\n",
        "    l2 = round((l2/ov_rnd)*100, 2)\n",
        "    l1fair = round(prob_to_money(l1/100))\n",
        "    l2fair = round(prob_to_money(l2/100))\n",
        "    print \"The implied win probability for team 1 is \" + str(l1) + \"%\"\n",
        "    print \"The implied win probability for team 1 is \" + str(l2) + \"%\"\n",
        "    print \"The fair moneyline for team 1 is \" + str(l1fair)\n",
        "    print \"The fair moneyline for team 2 is \" + str(l2fair)\n",
        "    print \"The vegas cut for this game is \" + str(juice) + \"%\""
      ],
      "execution_count": null,
      "outputs": []
    },
    {
      "cell_type": "code",
      "metadata": {
        "id": "lImbzU6XNZzO",
        "colab_type": "code",
        "colab": {},
        "outputId": "bafb4f51-9772-49d6-c105-67ec4c997fad"
      },
      "source": [
        "moneyLineInfo(-230.0, 190.0)"
      ],
      "execution_count": null,
      "outputs": [
        {
          "output_type": "stream",
          "text": [
            "The implied win probability for team 1 is 66.9%\n",
            "The implied win probability for team 1 is 33.1%\n",
            "The fair moneyline for team 1 is -202.0\n",
            "The fair moneyline for team 2 is 202.0\n",
            "The vegas cut for this game is 4.18%\n"
          ],
          "name": "stdout"
        }
      ]
    },
    {
      "cell_type": "code",
      "metadata": {
        "id": "N_wKNpFmNZzQ",
        "colab_type": "code",
        "colab": {}
      },
      "source": [
        ""
      ],
      "execution_count": null,
      "outputs": []
    }
  ]
}