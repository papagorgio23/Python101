{
  "nbformat": 4,
  "nbformat_minor": 0,
  "metadata": {
    "colab": {
      "name": "Functional_Introduction_To_Python_Section_4(Intermediate_Topics).ipynb",
      "provenance": [],
      "toc_visible": true,
      "include_colab_link": true
    },
    "language_info": {
      "codemirror_mode": {
        "name": "ipython",
        "version": 3
      },
      "file_extension": ".py",
      "mimetype": "text/x-python",
      "name": "python",
      "nbconvert_exporter": "python",
      "pygments_lexer": "ipython3",
      "version": "3.6.4"
    },
    "kernelspec": {
      "display_name": "Python 3",
      "language": "python",
      "name": "python3"
    }
  },
  "cells": [
    {
      "cell_type": "markdown",
      "metadata": {
        "id": "view-in-github",
        "colab_type": "text"
      },
      "source": [
        "<a href=\"https://colab.research.google.com/github/papagorgio23/Python101/blob/master/Functional_Introduction_To_Python_Section_4(Intermediate_Topics).ipynb\" target=\"_parent\"><img src=\"https://colab.research.google.com/assets/colab-badge.svg\" alt=\"Open In Colab\"/></a>"
      ]
    },
    {
      "cell_type": "markdown",
      "metadata": {
        "id": "Ha198gudlK-r",
        "colab_type": "text"
      },
      "source": [
        "# A Functional Introduction To Python\n",
        "## Section 1.  Introductory Concepts \n",
        "## Section 2.  Functions\n",
        "## Section 3.  Control Structures\n",
        "## <span style=\"color:blue\"> Section 4.  Intermediate Topics</span>"
      ]
    },
    {
      "cell_type": "markdown",
      "metadata": {
        "id": "YgB_z5D9lK-s",
        "colab_type": "text"
      },
      "source": [
        "## Section 4:  Intermediate Topics\n",
        "*  Writing a library in Python\n",
        "*  Importing a library in Python and using namespaces\n",
        "*  Using other libraries with pip install\n",
        "*  Mixing Third Party Libraries With Your Code\n",
        "*  Classes:  Making simple objects and interactiving with them\n",
        "*  Writing Classes Basics\n",
        "*  Differences Between Classes and Functions\n",
        "\n"
      ]
    },
    {
      "cell_type": "markdown",
      "metadata": {
        "id": "dQRwFcnolK-t",
        "colab_type": "text"
      },
      "source": [
        "### Writing a library in Python\n",
        "It doesn't take long into a project before writing a library in python becomes important.  These are the basics\n",
        "In this repository there is a folder called ```funclib``` and inside is a ```__init__.py``` file.  To create a library, a module is needed in this directory with a function in it.\n",
        "\n",
        "Create a file:\n",
        "\n",
        "```\n",
        "touch funclib/funcmod.py\n",
        "\n",
        "```\n",
        "\n",
        "Inside this file, a function is created:\n",
        "\n",
        "\n",
        "```python\n",
        "\"\"\"This is a simple module\"\"\"\n",
        "\n",
        "def list_of_belts_in_bjj():\n",
        "    \"\"\"Returns a list of the belts in Brazilian Jiu Jitsu\"\"\"\n",
        "\n",
        "    belts = [\"white\", \"blue\", \"purple\", \"brown\", \"black\"]\n",
        "    return belts\n",
        "```\n",
        "\n"
      ]
    },
    {
      "cell_type": "markdown",
      "metadata": {
        "id": "WLgyUqIHlK-u",
        "colab_type": "text"
      },
      "source": [
        "### Importing the library\n",
        "With Jupyter, if a library is directory above, sys.path.append can be added so it will be imported.\n",
        "Next, the module is imported using the namespace of the folder/filename/function name that was created earlier."
      ]
    },
    {
      "cell_type": "code",
      "metadata": {
        "id": "nDlIut0glK-v",
        "colab_type": "code",
        "colab": {}
      },
      "source": [
        "import sys;sys.path.append(\"..\")\n",
        "from funclib import funcmod"
      ],
      "execution_count": null,
      "outputs": []
    },
    {
      "cell_type": "code",
      "metadata": {
        "id": "wAXk5K8NlK-y",
        "colab_type": "code",
        "colab": {},
        "outputId": "29089066-3a1b-452e-b11b-ffb4f66e2f47"
      },
      "source": [
        "funcmod.list_of_belts_in_bjj()"
      ],
      "execution_count": null,
      "outputs": [
        {
          "output_type": "execute_result",
          "data": {
            "text/plain": [
              "['white', 'blue', 'purple', 'brown', 'black']"
            ]
          },
          "metadata": {
            "tags": []
          },
          "execution_count": 2
        }
      ]
    },
    {
      "cell_type": "markdown",
      "metadata": {
        "id": "bWIQhWfxlK-3",
        "colab_type": "text"
      },
      "source": [
        "### Installing other libraries using pip install\n",
        "Installing other libraries can be done with the ```pip install``` command\n",
        "\n",
        "To install the pandas package:\n",
        "\n",
        "```pip install pandas```\n",
        "\n",
        "Alternatively packages can be installed using a requirements.txt file\n",
        "\n",
        "```\n",
        "> cat requirements.txt \n",
        "pylint\n",
        "pytest\n",
        "pytest-cov\n",
        "click\n",
        "jupyter\n",
        "nbval\n",
        "\n",
        "> pip install -r requirements.txt\n",
        "\n",
        "```\n",
        "\n",
        "### To Use A 3rd Party Library in Library\n",
        "Import it in the library\n",
        "\n",
        "```python\n",
        "\"\"\"This is a simple module\"\"\"\n",
        "\n",
        "import pandas as pd\n",
        "\n",
        "def list_of_belts_in_bjj():\n",
        "    \"\"\"Returns a list of the belts in Brazilian Jiu Jitsu\"\"\"\n",
        "\n",
        "    belts = [\"white\", \"blue\", \"purple\", \"brown\", \"black\"]\n",
        "    return belts\n",
        "\n",
        "def count_belts():\n",
        "    \"\"\"Uses Pandas to count number of belts\"\"\"\n",
        "\n",
        "    belts = list_of_belts_in_bjj()\n",
        "    df = pd.DataFrame(belts)\n",
        "    res = df.count()\n",
        "    count = res.values.tolist()[0]\n",
        "    return count \n",
        "```\n"
      ]
    },
    {
      "cell_type": "code",
      "metadata": {
        "id": "_Czdu_yClK-4",
        "colab_type": "code",
        "colab": {
          "base_uri": "https://localhost:8080/",
          "height": 299
        },
        "outputId": "d21bee8b-683d-404f-b922-84b18f375196"
      },
      "source": [
        "from funclib.funcmod import count_belts"
      ],
      "execution_count": null,
      "outputs": [
        {
          "output_type": "error",
          "ename": "ModuleNotFoundError",
          "evalue": "ignored",
          "traceback": [
            "\u001b[0;31m---------------------------------------------------------------------------\u001b[0m",
            "\u001b[0;31mModuleNotFoundError\u001b[0m                       Traceback (most recent call last)",
            "\u001b[0;32m<ipython-input-1-bacdb53147d5>\u001b[0m in \u001b[0;36m<module>\u001b[0;34m()\u001b[0m\n\u001b[0;32m----> 1\u001b[0;31m \u001b[0;32mfrom\u001b[0m \u001b[0mfunclib\u001b[0m\u001b[0;34m.\u001b[0m\u001b[0mfuncmod\u001b[0m \u001b[0;32mimport\u001b[0m \u001b[0mcount_belts\u001b[0m\u001b[0;34m\u001b[0m\u001b[0;34m\u001b[0m\u001b[0m\n\u001b[0m",
            "\u001b[0;31mModuleNotFoundError\u001b[0m: No module named 'funclib'",
            "",
            "\u001b[0;31m---------------------------------------------------------------------------\u001b[0;32m\nNOTE: If your import is failing due to a missing package, you can\nmanually install dependencies using either !pip or !apt.\n\nTo view examples of installing some common dependencies, click the\n\"Open Examples\" button below.\n\u001b[0;31m---------------------------------------------------------------------------\u001b[0m\n"
          ]
        }
      ]
    },
    {
      "cell_type": "code",
      "metadata": {
        "id": "ZNrvtLq0lK-6",
        "colab_type": "code",
        "colab": {},
        "outputId": "a4f24f9d-a367-4746-e145-4b980c4c5755"
      },
      "source": [
        "print(count_belts())"
      ],
      "execution_count": null,
      "outputs": [
        {
          "output_type": "stream",
          "text": [
            "5\n"
          ],
          "name": "stdout"
        }
      ]
    },
    {
      "cell_type": "markdown",
      "metadata": {
        "id": "HrEPUqsUlK-9",
        "colab_type": "text"
      },
      "source": [
        "### Classes\n",
        "Using classes and interacting with them can be done iteratively in Jupyter Notebook.\n",
        "The simplest type of class is just a name as shown below:\n",
        "```\n",
        "class Competitor: pass\n",
        "```\n",
        "But, that class can be instantiated into multiple objects\n"
      ]
    },
    {
      "cell_type": "code",
      "metadata": {
        "id": "oVlBsIyHlK--",
        "colab_type": "code",
        "colab": {}
      },
      "source": [
        "class Competitor: pass"
      ],
      "execution_count": null,
      "outputs": []
    },
    {
      "cell_type": "code",
      "metadata": {
        "id": "uEHJUG0YlK_B",
        "colab_type": "code",
        "colab": {}
      },
      "source": [
        "conor = Competitor()\n",
        "conor.name = \"Conor McGregor\"\n",
        "conor.age = 29\n",
        "conor.weight = 155\n"
      ],
      "execution_count": null,
      "outputs": []
    },
    {
      "cell_type": "code",
      "metadata": {
        "id": "9iqVImuvlK_D",
        "colab_type": "code",
        "colab": {}
      },
      "source": [
        "nate = Competitor()\n",
        "nate.name = \"Nate Diaz\"\n",
        "nate.age = 30\n",
        "nate.weight = 170\n"
      ],
      "execution_count": null,
      "outputs": []
    },
    {
      "cell_type": "code",
      "metadata": {
        "id": "OgRzB5TwlK_G",
        "colab_type": "code",
        "colab": {}
      },
      "source": [
        "def print_competitor_age(object):\n",
        "    \"\"\"Print out age statistics about a competitor\"\"\"\n",
        "    \n",
        "    print(f\"{object.name} is {object.age} years old\")\n",
        "    \n",
        "    "
      ],
      "execution_count": null,
      "outputs": []
    },
    {
      "cell_type": "code",
      "metadata": {
        "id": "2Bdx11fhlK_I",
        "colab_type": "code",
        "colab": {
          "base_uri": "https://localhost:8080/",
          "height": 34
        },
        "outputId": "ceb4d0da-2d9f-4a90-c4d4-788f38d09177"
      },
      "source": [
        "print_competitor_age(nate)"
      ],
      "execution_count": null,
      "outputs": [
        {
          "output_type": "stream",
          "text": [
            "Nate Diaz is 30 years old\n"
          ],
          "name": "stdout"
        }
      ]
    },
    {
      "cell_type": "code",
      "metadata": {
        "id": "pbmPJaYZlK_L",
        "colab_type": "code",
        "colab": {},
        "outputId": "fcdff359-3470-487a-e7cc-9db8ad23c9c6"
      },
      "source": [
        "print_competitor_age(conor)"
      ],
      "execution_count": null,
      "outputs": [
        {
          "output_type": "stream",
          "text": [
            "Conor McGregor is 29 years old\n"
          ],
          "name": "stdout"
        }
      ]
    },
    {
      "cell_type": "markdown",
      "metadata": {
        "id": "neoqP2YBlK_O",
        "colab_type": "text"
      },
      "source": [
        "### Classes with Inheritance and Methods\n",
        "Classes can also inhert from other classes including methods.\n",
        "Often inheritance can be complex and a rule of thumb is to use discretion.\n",
        "\n",
        "In the example below, a UFC class was created that has a method (similar to a function), that can determine what weight class an athlete belongs to.  Then the Competitor class uses \"inheritance\", to inhert the code in the class."
      ]
    },
    {
      "cell_type": "code",
      "metadata": {
        "id": "v25_oQoJlK_P",
        "colab_type": "code",
        "colab": {}
      },
      "source": [
        "class UFC:\n",
        "    def weight_class(self, weight):\n",
        "        \"\"\"Weight Class Finder\"\"\"\n",
        "        \n",
        "        classes = {155: \"Lightweight\", \n",
        "                    170: \"Welterweight\"}\n",
        "        return classes[weight]\n",
        "\n",
        "        "
      ],
      "execution_count": null,
      "outputs": []
    },
    {
      "cell_type": "code",
      "metadata": {
        "id": "8DWe9I0blK_R",
        "colab_type": "code",
        "colab": {}
      },
      "source": [
        "class Competitor(UFC): pass"
      ],
      "execution_count": null,
      "outputs": []
    },
    {
      "cell_type": "code",
      "metadata": {
        "id": "4C0NrrrIlK_T",
        "colab_type": "code",
        "colab": {}
      },
      "source": [
        "conor = Competitor()\n",
        "conor.name = \"Conor McGregor\"\n",
        "conor.age = 29\n",
        "conor.weight = 155\n"
      ],
      "execution_count": null,
      "outputs": []
    },
    {
      "cell_type": "code",
      "metadata": {
        "id": "ynMSzGDZlK_W",
        "colab_type": "code",
        "colab": {}
      },
      "source": [
        "nate = Competitor()\n",
        "nate.name = \"Nate Diaz\"\n",
        "nate.age = 30\n",
        "nate.weight = 170\n"
      ],
      "execution_count": null,
      "outputs": []
    },
    {
      "cell_type": "code",
      "metadata": {
        "id": "hb5J8YGxlK_a",
        "colab_type": "code",
        "colab": {
          "base_uri": "https://localhost:8080/",
          "height": 34
        },
        "outputId": "7bbcb8c5-592a-44c4-feeb-b8dce6ea02d7"
      },
      "source": [
        "print(conor.weight_class(conor.weight))"
      ],
      "execution_count": null,
      "outputs": [
        {
          "output_type": "stream",
          "text": [
            "Lightweight\n"
          ],
          "name": "stdout"
        }
      ]
    },
    {
      "cell_type": "code",
      "metadata": {
        "id": "hWZ0QHFLlK_e",
        "colab_type": "code",
        "colab": {},
        "outputId": "49b7f692-8ff3-4444-d8ca-ceac3b769b98"
      },
      "source": [
        "print(nate.weight_class(nate.weight))"
      ],
      "execution_count": null,
      "outputs": [
        {
          "output_type": "stream",
          "text": [
            "Welterweight\n"
          ],
          "name": "stdout"
        }
      ]
    },
    {
      "cell_type": "markdown",
      "metadata": {
        "id": "M5iIVPMqlK_j",
        "colab_type": "text"
      },
      "source": [
        "### Differences Between Classes and Functions\n",
        "The key differences between Classes and Functions are:\n",
        "\n",
        "* Functions are much easier to reason about\n",
        "* Functions (typically) have state inside the function only, where classes have state persists outside of the function\n",
        "* Classes can offer a more advanced level of abstraction at the cost of complexity"
      ]
    }
  ]
}