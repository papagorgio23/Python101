{
  "nbformat": 4,
  "nbformat_minor": 0,
  "metadata": {
    "celltoolbar": "Slideshow",
    "kernelspec": {
      "display_name": "Python 3",
      "language": "python",
      "name": "python3"
    },
    "language_info": {
      "codemirror_mode": {
        "name": "ipython",
        "version": 3
      },
      "file_extension": ".py",
      "mimetype": "text/x-python",
      "name": "python",
      "nbconvert_exporter": "python",
      "pygments_lexer": "ipython3",
      "version": "3.6.4"
    },
    "colab": {
      "name": "Functional_Introduction_To_Python_Section_3(Control_Structures).ipynb",
      "provenance": [],
      "include_colab_link": true
    }
  },
  "cells": [
    {
      "cell_type": "markdown",
      "metadata": {
        "id": "view-in-github",
        "colab_type": "text"
      },
      "source": [
        "<a href=\"https://colab.research.google.com/github/papagorgio23/Python101/blob/master/Functional_Introduction_To_Python_Section_3(Control_Structures).ipynb\" target=\"_parent\"><img src=\"https://colab.research.google.com/assets/colab-badge.svg\" alt=\"Open In Colab\"/></a>"
      ]
    },
    {
      "cell_type": "markdown",
      "metadata": {
        "id": "B3SrVMdsBuaf",
        "colab_type": "text"
      },
      "source": [
        "# A Functional Introduction To Python\n",
        "## Section 1.  Introductory Concepts \n",
        "## Section 2.  Functions\n",
        "## <span style=\"color:blue\">Section 3.  Control Structures</span>\n",
        "## Section 4.  Intermediate Topics"
      ]
    },
    {
      "cell_type": "markdown",
      "metadata": {
        "id": "-PBWgwpfBuah",
        "colab_type": "text"
      },
      "source": [
        "## Section 3:  Control Structures\n",
        "*  For loops\n",
        "*  While loops\n",
        "*  If/else statements\n",
        "*  Try/Except\n",
        "*  Generator expressions\n",
        "*  List Comprehensions\n",
        "*  Pattern Matching\n",
        "\n",
        "All programs eventually need a way to control the flow of execution.  This section describes techniques."
      ]
    },
    {
      "cell_type": "markdown",
      "metadata": {
        "id": "4hSeHniaBuah",
        "colab_type": "text"
      },
      "source": [
        "### For Loops\n",
        "The for loop is one of the most fundamental control structures in Python.\n",
        "One common pattern is to use the range function to generate a range of values, then to iterate on them.\n"
      ]
    },
    {
      "cell_type": "code",
      "metadata": {
        "id": "zrM0eLXwBuai",
        "colab_type": "code",
        "colab": {},
        "outputId": "ace3922c-3b16-4f0e-d45d-c1c78f895a34"
      },
      "source": [
        "res = range(3)\n",
        "print(list(res))"
      ],
      "execution_count": null,
      "outputs": [
        {
          "output_type": "stream",
          "text": [
            "[0, 1, 2]\n"
          ],
          "name": "stdout"
        }
      ]
    },
    {
      "cell_type": "code",
      "metadata": {
        "id": "ew2QfiRfBuam",
        "colab_type": "code",
        "colab": {},
        "outputId": "a91fde0e-c6a1-4ef7-b85c-79ad12b698c0"
      },
      "source": [
        "for i in range(3):\n",
        "    print(i)"
      ],
      "execution_count": null,
      "outputs": [
        {
          "output_type": "stream",
          "text": [
            "0\n",
            "1\n",
            "2\n"
          ],
          "name": "stdout"
        }
      ]
    },
    {
      "cell_type": "markdown",
      "metadata": {
        "id": "yYIvIZmMBuao",
        "colab_type": "text"
      },
      "source": [
        "##### For loop over list\n",
        "Another common pattern is to iterate or a list"
      ]
    },
    {
      "cell_type": "code",
      "metadata": {
        "id": "bneinpXaBuap",
        "colab_type": "code",
        "colab": {},
        "outputId": "deafef17-9bc8-40eb-83f7-657992521e4e"
      },
      "source": [
        "martial_arts = [\"Sambo\", \"Muay Thai\", \"BJJ\"]\n",
        "for martial_art in martial_arts:\n",
        "    print(f\"{martial_art} has influenced modern mixed martial arts\")"
      ],
      "execution_count": null,
      "outputs": [
        {
          "output_type": "stream",
          "text": [
            "Sambo has influenced modern mixed martial arts\n",
            "Muay Thai has influenced modern mixed martial arts\n",
            "BJJ has influenced modern mixed martial arts\n"
          ],
          "name": "stdout"
        }
      ]
    },
    {
      "cell_type": "markdown",
      "metadata": {
        "id": "8WQTqDeyBuar",
        "colab_type": "text"
      },
      "source": [
        "### While Loops\n",
        "A While Loop is often used as a way of looping until a condition is met.\n",
        "A very common use of a while loop is to create an infinite loop.\n",
        "In the example below a while loop is used to filter a function that returns 1 of 2 types of attacks.\n"
      ]
    },
    {
      "cell_type": "code",
      "metadata": {
        "id": "nRmpnamkBuas",
        "colab_type": "code",
        "colab": {},
        "outputId": "3abfe687-0a30-49bf-fb5f-7e01ea2e8af8"
      },
      "source": [
        "def attacks():\n",
        "    list_of_attacks = [\"lower_body\", \"lower_body\",\"upper_body\"]\n",
        "    print(f\"There are a total of {len(list_of_attacks)} attacks coming!\")\n",
        "    for attack in list_of_attacks:\n",
        "        yield attack\n",
        "attack = attacks()\n",
        "count = 0\n",
        "while next(attack) == \"lower_body\":\n",
        "    count +=1\n",
        "    print(f\"crossing legs to prevent attack #{count}\")\n",
        "else:\n",
        "    count +=1\n",
        "    print(f\"This is not a lower body attack, I will cross my arms for #{count}\")"
      ],
      "execution_count": null,
      "outputs": [
        {
          "output_type": "stream",
          "text": [
            "There are a total of 3 attacks coming!\n",
            "crossing legs to prevent attack #1\n",
            "crossing legs to prevent attack #2\n",
            "This is not a lower body attack, I will cross my arms for #3\n"
          ],
          "name": "stdout"
        }
      ]
    },
    {
      "cell_type": "markdown",
      "metadata": {
        "id": "MPRnZQzQBuau",
        "colab_type": "text"
      },
      "source": [
        "### If/Else\n",
        "If/Else statements are a common way to branch between decisions.\n",
        "In the example below if/elif are used to match a branch.  If there are no matches, the last \"else\" statement is run.\n"
      ]
    },
    {
      "cell_type": "code",
      "metadata": {
        "id": "zl7q74ZVBuau",
        "colab_type": "code",
        "colab": {}
      },
      "source": [
        "def recommended_attack(position):\n",
        "    \"\"\"Recommends an attack based on the position\"\"\"\n",
        "    if position == \"full_guard\":\n",
        "        print(f\"Try an armbar attack\")\n",
        "    elif position == \"half_guard\":\n",
        "        print(f\"Try a kimura attack\")\n",
        "    elif position == \"full_mount\":\n",
        "        print(f\"Try an arm triangle\")\n",
        "    else:\n",
        "        print(f\"You're on your own, there is no suggestion for an attack\")\n",
        "    \n"
      ],
      "execution_count": null,
      "outputs": []
    },
    {
      "cell_type": "code",
      "metadata": {
        "id": "kJ0_7yTSBuax",
        "colab_type": "code",
        "colab": {},
        "outputId": "8aad67e7-0df2-4251-d026-d3d4cfb08ae1"
      },
      "source": [
        "recommended_attack(\"full_guard\")"
      ],
      "execution_count": null,
      "outputs": [
        {
          "output_type": "stream",
          "text": [
            "Try an armbar attack\n"
          ],
          "name": "stdout"
        }
      ]
    },
    {
      "cell_type": "code",
      "metadata": {
        "id": "d9aZan1JBuaz",
        "colab_type": "code",
        "colab": {},
        "outputId": "ee20cd56-37d8-40b7-91ec-4a6d1a4bba62"
      },
      "source": [
        "recommended_attack(\"z_guard\")"
      ],
      "execution_count": null,
      "outputs": [
        {
          "output_type": "stream",
          "text": [
            "Your on your own, there is no suggestion for an attack\n"
          ],
          "name": "stdout"
        }
      ]
    },
    {
      "cell_type": "markdown",
      "metadata": {
        "id": "2Mi9Z6Q9Bua1",
        "colab_type": "text"
      },
      "source": [
        "### Generator Expression\n",
        "Generator Expressions build further on the concept of yield by allowing for the lazy evaluation of a sequence. The benefit of generator expressions is that nothing is evaluated or brought into memory until it is actually evaluated. \n",
        "\n",
        "This is why the example below can be operating on an infi-nite sequence of random attacks that are generated.\n",
        "In the generator pipeline the lower-case attack, such as \"arm_triangle\" is converted to \"ARM_TRIANGLE\", next the underscore is remove \"ARM TRIANGLE\"."
      ]
    },
    {
      "cell_type": "code",
      "metadata": {
        "id": "3ysvG_JaBua2",
        "colab_type": "code",
        "colab": {}
      },
      "source": [
        "def lazy_return_random_attacks():\n",
        "    \"\"\"Yield attacks each time\"\"\"\n",
        "    import random\n",
        "    attacks = {\"kimura\": \"upper_body\",\n",
        "           \"straight_ankle_lock\":\"lower_body\", \n",
        "           \"arm_triangle\":\"upper_body\",\n",
        "            \"keylock\": \"upper_body\",\n",
        "            \"knee_bar\": \"lower_body\"}\n",
        "    while True:\n",
        "        random_attack = random.choices(list(attacks.keys()))\n",
        "        yield random_attack\n",
        "        \n",
        "#Make all attacks appear as Upper Case\n",
        "upper_case_attacks = (attack.pop().upper() for attack in lazy_return_random_attacks())"
      ],
      "execution_count": null,
      "outputs": []
    },
    {
      "cell_type": "code",
      "metadata": {
        "id": "fX3J4ch-Bua4",
        "colab_type": "code",
        "colab": {},
        "outputId": "c740ac99-4bd5-4ee8-d968-5b2264c90292"
      },
      "source": [
        "next(upper_case_attacks)"
      ],
      "execution_count": null,
      "outputs": [
        {
          "output_type": "execute_result",
          "data": {
            "text/plain": [
              "'STRAIGHT_ANKLE_LOCK'"
            ]
          },
          "metadata": {
            "tags": []
          },
          "execution_count": 101
        }
      ]
    },
    {
      "cell_type": "code",
      "metadata": {
        "id": "cUM8XV1fBua_",
        "colab_type": "code",
        "colab": {}
      },
      "source": [
        "## Generator Pipeline:  One expression chains into the next\n",
        "#Make all attacks appear as Upper Case\n",
        "upper_case_attacks = (attack.pop().upper() for attack in lazy_return_random_attacks())\n",
        "#Remove the underscore\n",
        "remove_underscore = (attack.split(\"_\") for attack in upper_case_attacks)\n",
        "#Create a new phrase \n",
        "new_attack_phrase = (\" \".join(phrase) for phrase in remove_underscore)"
      ],
      "execution_count": null,
      "outputs": []
    },
    {
      "cell_type": "code",
      "metadata": {
        "id": "4VdXRLw2BubB",
        "colab_type": "code",
        "colab": {},
        "outputId": "1a0b05c9-3ee7-41cc-c1b3-0611ca9cfd16"
      },
      "source": [
        "next(new_attack_phrase)"
      ],
      "execution_count": null,
      "outputs": [
        {
          "output_type": "execute_result",
          "data": {
            "text/plain": [
              "'STRAIGHT ANKLE LOCK'"
            ]
          },
          "metadata": {
            "tags": []
          },
          "execution_count": 103
        }
      ]
    },
    {
      "cell_type": "code",
      "metadata": {
        "id": "HybSOFj8BubD",
        "colab_type": "code",
        "colab": {},
        "outputId": "70f48fc8-7208-4343-f90b-972f6fc112e2"
      },
      "source": [
        "for number in range(10):\n",
        "    print(next(new_attack_phrase))"
      ],
      "execution_count": null,
      "outputs": [
        {
          "output_type": "stream",
          "text": [
            "ARM TRIANGLE\n",
            "KNEE BAR\n",
            "ARM TRIANGLE\n",
            "KNEE BAR\n",
            "KNEE BAR\n",
            "KIMURA\n",
            "KEYLOCK\n",
            "KNEE BAR\n",
            "KIMURA\n",
            "KNEE BAR\n"
          ],
          "name": "stdout"
        }
      ]
    },
    {
      "cell_type": "markdown",
      "metadata": {
        "id": "crB6GKKsBubF",
        "colab_type": "text"
      },
      "source": [
        "### List Comprehension\n",
        "A list comprehension is very similar to a generator expression, but it evaluated in memory.  Additionally, it is optimized C code that be a substantial improvement over a traditional for loop."
      ]
    },
    {
      "cell_type": "code",
      "metadata": {
        "id": "mIrTNeCgBubG",
        "colab_type": "code",
        "colab": {}
      },
      "source": [
        "martial_arts = [\"Sambo\", \"Muay Thai\", \"BJJ\"]\n",
        "new_phrases = [\"\".join(f\"Mixed Martial Arts is influenced by {martial_art}\") for martial_art in martial_arts]"
      ],
      "execution_count": null,
      "outputs": []
    },
    {
      "cell_type": "code",
      "metadata": {
        "id": "tDoUoFRnBubI",
        "colab_type": "code",
        "colab": {},
        "outputId": "f7169f5f-900c-4ccb-cdf9-8bda9c592e73"
      },
      "source": [
        "print(new_phrases)"
      ],
      "execution_count": null,
      "outputs": [
        {
          "output_type": "stream",
          "text": [
            "['Mixed Martial Arts is influenced by Sambo', 'Mixed Martial Arts is influenced by Muay Thai', 'Mixed Martial Arts is influenced by BJJ']\n"
          ],
          "name": "stdout"
        }
      ]
    },
    {
      "cell_type": "markdown",
      "metadata": {
        "id": "09KlJ7q_BubK",
        "colab_type": "text"
      },
      "source": [
        "### Try/Except\n",
        "There is an expression in sports, \"Always be prepared to do your best on your worst day\".\n",
        "Try/Except statements are similar.  It is always a good idea to think about what happens when something goes wrong in code that is written.  Try/Except blocks allow for this.\n"
      ]
    },
    {
      "cell_type": "code",
      "metadata": {
        "id": "s9lOxjUtBubK",
        "colab_type": "code",
        "colab": {},
        "outputId": "43aae5f4-bb19-41c9-c153-77398d519b85"
      },
      "source": [
        "tournaments = [\"NAGA\", \"IBJJF\", \"EBI\"]\n",
        "while True:\n",
        "    try:\n",
        "        tournament = tournaments.pop()\n",
        "        print(f\"I would like to compete in the {tournament} tournament.\")\n",
        "    except IndexError:\n",
        "        print(\"There are no more tournaments\")\n",
        "        break"
      ],
      "execution_count": null,
      "outputs": [
        {
          "output_type": "stream",
          "text": [
            "I would like to compete in the EBI tournament.\n",
            "I would like to compete in the IBJJF tournament.\n",
            "I would like to compete in the NAGA tournament.\n",
            "There are no more tournaments\n"
          ],
          "name": "stdout"
        }
      ]
    }
  ]
}