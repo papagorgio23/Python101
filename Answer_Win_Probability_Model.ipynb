{
  "nbformat": 4,
  "nbformat_minor": 0,
  "metadata": {
    "colab": {
      "name": "Answer Win Probability Model.ipynb",
      "provenance": [],
      "collapsed_sections": [],
      "toc_visible": true,
      "include_colab_link": true
    },
    "kernelspec": {
      "name": "python3",
      "display_name": "Python 3"
    }
  },
  "cells": [
    {
      "cell_type": "markdown",
      "metadata": {
        "id": "view-in-github",
        "colab_type": "text"
      },
      "source": [
        "<a href=\"https://colab.research.google.com/github/papagorgio23/Python101/blob/master/Answer_Win_Probability_Model.ipynb\" target=\"_parent\"><img src=\"https://colab.research.google.com/assets/colab-badge.svg\" alt=\"Open In Colab\"/></a>"
      ]
    },
    {
      "cell_type": "markdown",
      "metadata": {
        "id": "UmXIXoRnmZFo",
        "colab_type": "text"
      },
      "source": [
        "# Win Probability Model"
      ]
    },
    {
      "cell_type": "markdown",
      "metadata": {
        "id": "KILx_ElhnDHn",
        "colab_type": "text"
      },
      "source": [
        "Today we are going to create our own predictive model for \"In-Game\" win probabilities for NFL games\n",
        "\n",
        "\n",
        "\n",
        "---\n",
        "\n",
        "\n",
        "\n",
        "\n",
        "**Variables to include**\n",
        "\n",
        "*   Down\n",
        "*   Distance to first down\n",
        "*   Position on the field\n",
        "*   Time left in the game\n",
        "*   Score Differential\n",
        "\n"
      ]
    },
    {
      "cell_type": "markdown",
      "metadata": {
        "id": "O-hshw4PsjY3",
        "colab_type": "text"
      },
      "source": [
        "## Load Data"
      ]
    },
    {
      "cell_type": "markdown",
      "metadata": {
        "id": "rvoxln2B3Q8u",
        "colab_type": "text"
      },
      "source": [
        "We need play by play data for every NFL game\n",
        "\n",
        "We also need final scores of every NFL game\n",
        "\n",
        "\n",
        "To save all of you time and trouble I have already scraped the web for this data. \n",
        "\n"
      ]
    },
    {
      "cell_type": "code",
      "metadata": {
        "id": "UC9dRXLFmW-a",
        "colab_type": "code",
        "colab": {}
      },
      "source": [
        "#Call Libraries\n",
        "import pandas as pd\n",
        "import numpy as np\n",
        "import seaborn as sns\n",
        "import matplotlib.pyplot as plt\n",
        "%matplotlib inline\n",
        "from sklearn.model_selection import train_test_split\n",
        "from sklearn.model_selection import StratifiedKFold\n",
        "from yellowbrick.classifier import ROCAUC\n",
        "from yellowbrick.classifier import ClassificationReport\n",
        "from sklearn.linear_model import LogisticRegression\n",
        "from sklearn.naive_bayes import BernoulliNB\n",
        "from sklearn import model_selection\n",
        "\n",
        "import time\n",
        "\n",
        "# obtain precision, recall, F1, and support metrics\n",
        "from sklearn.metrics import classification_report, confusion_matrix\n",
        "from sklearn.metrics import accuracy_score\n",
        "\n",
        "# specify the set of classifiers being evaluated\n",
        "from sklearn.ensemble import RandomForestClassifier"
      ],
      "execution_count": null,
      "outputs": []
    },
    {
      "cell_type": "code",
      "metadata": {
        "id": "cR8Oht5T3wAr",
        "colab_type": "code",
        "colab": {}
      },
      "source": [
        "# Load Play by Play Data\n",
        "nfl_pbp_09 = pd.read_csv(\"https://raw.githubusercontent.com/papagorgio23/Python101/master/nfl_pbp_09.csv\")\n",
        "nfl_pbp_10 = pd.read_csv(\"https://raw.githubusercontent.com/papagorgio23/Python101/master/nfl_pbp_10.csv\")\n",
        "nfl_pbp_11 = pd.read_csv(\"https://raw.githubusercontent.com/papagorgio23/Python101/master/nfl_pbp_11.csv\")\n",
        "nfl_pbp_12 = pd.read_csv(\"https://raw.githubusercontent.com/papagorgio23/Python101/master/nfl_pbp_12.csv\")\n",
        "nfl_pbp_13 = pd.read_csv(\"https://raw.githubusercontent.com/papagorgio23/Python101/master/nfl_pbp_13.csv\")\n",
        "nfl_pbp_14 = pd.read_csv(\"https://raw.githubusercontent.com/papagorgio23/Python101/master/nfl_pbp_14.csv\")\n",
        "nfl_pbp_15 = pd.read_csv(\"https://raw.githubusercontent.com/papagorgio23/Python101/master/nfl_pbp_15.csv\")\n",
        "nfl_pbp_16 = pd.read_csv(\"https://raw.githubusercontent.com/papagorgio23/Python101/master/nfl_pbp_16.csv\")\n",
        "nfl_pbp_17 = pd.read_csv(\"https://raw.githubusercontent.com/papagorgio23/Python101/master/nfl_pbp_17.csv\")\n",
        "nfl_pbp_18 = pd.read_csv(\"https://raw.githubusercontent.com/papagorgio23/Python101/master/nfl_pbp_18.csv\")"
      ],
      "execution_count": null,
      "outputs": []
    },
    {
      "cell_type": "markdown",
      "metadata": {
        "id": "xdpwILcKMGHW",
        "colab_type": "text"
      },
      "source": [
        "## Combine Seasons"
      ]
    },
    {
      "cell_type": "code",
      "metadata": {
        "id": "uROaHUbO5Kon",
        "colab_type": "code",
        "colab": {}
      },
      "source": [
        "# combine all the play by play data together...\n",
        "nfl = nfl_pbp_09.append(nfl_pbp_10, ignore_index=True).append(nfl_pbp_11, ignore_index=True).\\\n",
        "    append(nfl_pbp_12, ignore_index=True).append(nfl_pbp_13, ignore_index=True).\\\n",
        "    append(nfl_pbp_14, ignore_index=True).append(nfl_pbp_15, ignore_index=True).\\\n",
        "    append(nfl_pbp_16, ignore_index=True).append(nfl_pbp_17, ignore_index=True).\\\n",
        "    append(nfl_pbp_18, ignore_index=True)\n",
        "\n"
      ],
      "execution_count": null,
      "outputs": []
    },
    {
      "cell_type": "markdown",
      "metadata": {
        "id": "xt6kYqebsl0U",
        "colab_type": "text"
      },
      "source": [
        "## View Data"
      ]
    },
    {
      "cell_type": "code",
      "metadata": {
        "id": "yA6J7gTALuuW",
        "colab_type": "code",
        "colab": {
          "base_uri": "https://localhost:8080/",
          "height": 869
        },
        "outputId": "5840e538-7d2e-4d99-e562-01e328629e9f"
      },
      "source": [
        "# view top 10 observartions\n",
        "nfl.head(10)"
      ],
      "execution_count": null,
      "outputs": [
        {
          "output_type": "execute_result",
          "data": {
            "text/html": [
              "<div>\n",
              "<style scoped>\n",
              "    .dataframe tbody tr th:only-of-type {\n",
              "        vertical-align: middle;\n",
              "    }\n",
              "\n",
              "    .dataframe tbody tr th {\n",
              "        vertical-align: top;\n",
              "    }\n",
              "\n",
              "    .dataframe thead th {\n",
              "        text-align: right;\n",
              "    }\n",
              "</style>\n",
              "<table border=\"1\" class=\"dataframe\">\n",
              "  <thead>\n",
              "    <tr style=\"text-align: right;\">\n",
              "      <th></th>\n",
              "      <th>GameID</th>\n",
              "      <th>date</th>\n",
              "      <th>home</th>\n",
              "      <th>away</th>\n",
              "      <th>homescore</th>\n",
              "      <th>awayscore</th>\n",
              "      <th>ScoreDiff</th>\n",
              "      <th>play_id</th>\n",
              "      <th>Drive</th>\n",
              "      <th>qtr</th>\n",
              "      <th>down</th>\n",
              "      <th>time</th>\n",
              "      <th>TimeUnder</th>\n",
              "      <th>TimeSecs</th>\n",
              "      <th>PlayTimeDiff</th>\n",
              "      <th>yrdln</th>\n",
              "      <th>yrdline100</th>\n",
              "      <th>ydstogo</th>\n",
              "      <th>ydsnet</th>\n",
              "      <th>GoalToGo</th>\n",
              "      <th>FirstDown</th>\n",
              "      <th>posteam</th>\n",
              "      <th>DefensiveTeam</th>\n",
              "      <th>desc</th>\n",
              "      <th>PlayAttempted</th>\n",
              "      <th>Yards.Gained</th>\n",
              "      <th>sp</th>\n",
              "      <th>Touchdown</th>\n",
              "      <th>PlayType</th>\n",
              "      <th>HomeTimeouts_Remaining_Pre</th>\n",
              "      <th>AwayTimeouts_Remaining_Pre</th>\n",
              "      <th>Season</th>\n",
              "    </tr>\n",
              "  </thead>\n",
              "  <tbody>\n",
              "    <tr>\n",
              "      <th>0</th>\n",
              "      <td>2009091000</td>\n",
              "      <td>2009-09-10</td>\n",
              "      <td>PIT</td>\n",
              "      <td>TEN</td>\n",
              "      <td>13</td>\n",
              "      <td>10</td>\n",
              "      <td>0.0</td>\n",
              "      <td>46</td>\n",
              "      <td>1</td>\n",
              "      <td>1</td>\n",
              "      <td>NaN</td>\n",
              "      <td>15:00</td>\n",
              "      <td>15</td>\n",
              "      <td>3600.0</td>\n",
              "      <td>0.0</td>\n",
              "      <td>30.0</td>\n",
              "      <td>30.0</td>\n",
              "      <td>0</td>\n",
              "      <td>0</td>\n",
              "      <td>0.0</td>\n",
              "      <td>NaN</td>\n",
              "      <td>PIT</td>\n",
              "      <td>TEN</td>\n",
              "      <td>R.Bironas kicks 67 yards from TEN 30 to PIT 3....</td>\n",
              "      <td>1</td>\n",
              "      <td>39</td>\n",
              "      <td>0</td>\n",
              "      <td>0</td>\n",
              "      <td>Kickoff</td>\n",
              "      <td>3</td>\n",
              "      <td>3</td>\n",
              "      <td>2009</td>\n",
              "    </tr>\n",
              "    <tr>\n",
              "      <th>1</th>\n",
              "      <td>2009091000</td>\n",
              "      <td>2009-09-10</td>\n",
              "      <td>PIT</td>\n",
              "      <td>TEN</td>\n",
              "      <td>13</td>\n",
              "      <td>10</td>\n",
              "      <td>0.0</td>\n",
              "      <td>68</td>\n",
              "      <td>1</td>\n",
              "      <td>1</td>\n",
              "      <td>1.0</td>\n",
              "      <td>14:53</td>\n",
              "      <td>15</td>\n",
              "      <td>3593.0</td>\n",
              "      <td>7.0</td>\n",
              "      <td>42.0</td>\n",
              "      <td>58.0</td>\n",
              "      <td>10</td>\n",
              "      <td>5</td>\n",
              "      <td>0.0</td>\n",
              "      <td>0.0</td>\n",
              "      <td>PIT</td>\n",
              "      <td>TEN</td>\n",
              "      <td>(14:53) B.Roethlisberger pass short left to H....</td>\n",
              "      <td>1</td>\n",
              "      <td>5</td>\n",
              "      <td>0</td>\n",
              "      <td>0</td>\n",
              "      <td>Pass</td>\n",
              "      <td>3</td>\n",
              "      <td>3</td>\n",
              "      <td>2009</td>\n",
              "    </tr>\n",
              "    <tr>\n",
              "      <th>2</th>\n",
              "      <td>2009091000</td>\n",
              "      <td>2009-09-10</td>\n",
              "      <td>PIT</td>\n",
              "      <td>TEN</td>\n",
              "      <td>13</td>\n",
              "      <td>10</td>\n",
              "      <td>0.0</td>\n",
              "      <td>92</td>\n",
              "      <td>1</td>\n",
              "      <td>1</td>\n",
              "      <td>2.0</td>\n",
              "      <td>14:16</td>\n",
              "      <td>15</td>\n",
              "      <td>3556.0</td>\n",
              "      <td>37.0</td>\n",
              "      <td>47.0</td>\n",
              "      <td>53.0</td>\n",
              "      <td>5</td>\n",
              "      <td>2</td>\n",
              "      <td>0.0</td>\n",
              "      <td>0.0</td>\n",
              "      <td>PIT</td>\n",
              "      <td>TEN</td>\n",
              "      <td>(14:16) W.Parker right end to PIT 44 for -3 ya...</td>\n",
              "      <td>1</td>\n",
              "      <td>-3</td>\n",
              "      <td>0</td>\n",
              "      <td>0</td>\n",
              "      <td>Run</td>\n",
              "      <td>3</td>\n",
              "      <td>3</td>\n",
              "      <td>2009</td>\n",
              "    </tr>\n",
              "    <tr>\n",
              "      <th>3</th>\n",
              "      <td>2009091000</td>\n",
              "      <td>2009-09-10</td>\n",
              "      <td>PIT</td>\n",
              "      <td>TEN</td>\n",
              "      <td>13</td>\n",
              "      <td>10</td>\n",
              "      <td>0.0</td>\n",
              "      <td>113</td>\n",
              "      <td>1</td>\n",
              "      <td>1</td>\n",
              "      <td>3.0</td>\n",
              "      <td>13:35</td>\n",
              "      <td>14</td>\n",
              "      <td>3515.0</td>\n",
              "      <td>41.0</td>\n",
              "      <td>44.0</td>\n",
              "      <td>56.0</td>\n",
              "      <td>8</td>\n",
              "      <td>2</td>\n",
              "      <td>0.0</td>\n",
              "      <td>0.0</td>\n",
              "      <td>PIT</td>\n",
              "      <td>TEN</td>\n",
              "      <td>(13:35) (Shotgun) B.Roethlisberger pass incomp...</td>\n",
              "      <td>1</td>\n",
              "      <td>0</td>\n",
              "      <td>0</td>\n",
              "      <td>0</td>\n",
              "      <td>Pass</td>\n",
              "      <td>3</td>\n",
              "      <td>3</td>\n",
              "      <td>2009</td>\n",
              "    </tr>\n",
              "    <tr>\n",
              "      <th>4</th>\n",
              "      <td>2009091000</td>\n",
              "      <td>2009-09-10</td>\n",
              "      <td>PIT</td>\n",
              "      <td>TEN</td>\n",
              "      <td>13</td>\n",
              "      <td>10</td>\n",
              "      <td>0.0</td>\n",
              "      <td>139</td>\n",
              "      <td>1</td>\n",
              "      <td>1</td>\n",
              "      <td>4.0</td>\n",
              "      <td>13:27</td>\n",
              "      <td>14</td>\n",
              "      <td>3507.0</td>\n",
              "      <td>8.0</td>\n",
              "      <td>44.0</td>\n",
              "      <td>56.0</td>\n",
              "      <td>8</td>\n",
              "      <td>2</td>\n",
              "      <td>0.0</td>\n",
              "      <td>1.0</td>\n",
              "      <td>PIT</td>\n",
              "      <td>TEN</td>\n",
              "      <td>(13:27) (Punt formation) D.Sepulveda punts 54 ...</td>\n",
              "      <td>1</td>\n",
              "      <td>0</td>\n",
              "      <td>0</td>\n",
              "      <td>0</td>\n",
              "      <td>Punt</td>\n",
              "      <td>3</td>\n",
              "      <td>3</td>\n",
              "      <td>2009</td>\n",
              "    </tr>\n",
              "    <tr>\n",
              "      <th>5</th>\n",
              "      <td>2009091000</td>\n",
              "      <td>2009-09-10</td>\n",
              "      <td>PIT</td>\n",
              "      <td>TEN</td>\n",
              "      <td>13</td>\n",
              "      <td>10</td>\n",
              "      <td>0.0</td>\n",
              "      <td>162</td>\n",
              "      <td>2</td>\n",
              "      <td>1</td>\n",
              "      <td>1.0</td>\n",
              "      <td>13:16</td>\n",
              "      <td>14</td>\n",
              "      <td>3496.0</td>\n",
              "      <td>11.0</td>\n",
              "      <td>2.0</td>\n",
              "      <td>98.0</td>\n",
              "      <td>10</td>\n",
              "      <td>0</td>\n",
              "      <td>0.0</td>\n",
              "      <td>0.0</td>\n",
              "      <td>TEN</td>\n",
              "      <td>PIT</td>\n",
              "      <td>(13:16) C.Johnson up the middle to TEN 2 for n...</td>\n",
              "      <td>1</td>\n",
              "      <td>0</td>\n",
              "      <td>0</td>\n",
              "      <td>0</td>\n",
              "      <td>Run</td>\n",
              "      <td>3</td>\n",
              "      <td>3</td>\n",
              "      <td>2009</td>\n",
              "    </tr>\n",
              "    <tr>\n",
              "      <th>6</th>\n",
              "      <td>2009091000</td>\n",
              "      <td>2009-09-10</td>\n",
              "      <td>PIT</td>\n",
              "      <td>TEN</td>\n",
              "      <td>13</td>\n",
              "      <td>10</td>\n",
              "      <td>0.0</td>\n",
              "      <td>183</td>\n",
              "      <td>2</td>\n",
              "      <td>1</td>\n",
              "      <td>2.0</td>\n",
              "      <td>12:40</td>\n",
              "      <td>13</td>\n",
              "      <td>3460.0</td>\n",
              "      <td>36.0</td>\n",
              "      <td>2.0</td>\n",
              "      <td>98.0</td>\n",
              "      <td>10</td>\n",
              "      <td>4</td>\n",
              "      <td>0.0</td>\n",
              "      <td>0.0</td>\n",
              "      <td>TEN</td>\n",
              "      <td>PIT</td>\n",
              "      <td>(12:40) K.Collins pass short left to A.Hall to...</td>\n",
              "      <td>1</td>\n",
              "      <td>4</td>\n",
              "      <td>0</td>\n",
              "      <td>0</td>\n",
              "      <td>Pass</td>\n",
              "      <td>3</td>\n",
              "      <td>3</td>\n",
              "      <td>2009</td>\n",
              "    </tr>\n",
              "    <tr>\n",
              "      <th>7</th>\n",
              "      <td>2009091000</td>\n",
              "      <td>2009-09-10</td>\n",
              "      <td>PIT</td>\n",
              "      <td>TEN</td>\n",
              "      <td>13</td>\n",
              "      <td>10</td>\n",
              "      <td>0.0</td>\n",
              "      <td>207</td>\n",
              "      <td>2</td>\n",
              "      <td>1</td>\n",
              "      <td>3.0</td>\n",
              "      <td>12:11</td>\n",
              "      <td>13</td>\n",
              "      <td>3431.0</td>\n",
              "      <td>29.0</td>\n",
              "      <td>6.0</td>\n",
              "      <td>94.0</td>\n",
              "      <td>6</td>\n",
              "      <td>2</td>\n",
              "      <td>0.0</td>\n",
              "      <td>0.0</td>\n",
              "      <td>TEN</td>\n",
              "      <td>PIT</td>\n",
              "      <td>(12:11) (Shotgun) C.Johnson left end to TEN 4 ...</td>\n",
              "      <td>1</td>\n",
              "      <td>-2</td>\n",
              "      <td>0</td>\n",
              "      <td>0</td>\n",
              "      <td>Run</td>\n",
              "      <td>3</td>\n",
              "      <td>3</td>\n",
              "      <td>2009</td>\n",
              "    </tr>\n",
              "    <tr>\n",
              "      <th>8</th>\n",
              "      <td>2009091000</td>\n",
              "      <td>2009-09-10</td>\n",
              "      <td>PIT</td>\n",
              "      <td>TEN</td>\n",
              "      <td>13</td>\n",
              "      <td>10</td>\n",
              "      <td>0.0</td>\n",
              "      <td>228</td>\n",
              "      <td>2</td>\n",
              "      <td>1</td>\n",
              "      <td>4.0</td>\n",
              "      <td>11:34</td>\n",
              "      <td>12</td>\n",
              "      <td>3394.0</td>\n",
              "      <td>37.0</td>\n",
              "      <td>4.0</td>\n",
              "      <td>96.0</td>\n",
              "      <td>8</td>\n",
              "      <td>2</td>\n",
              "      <td>0.0</td>\n",
              "      <td>1.0</td>\n",
              "      <td>TEN</td>\n",
              "      <td>PIT</td>\n",
              "      <td>(11:34) (Punt formation) C.Hentrich punts 50 y...</td>\n",
              "      <td>1</td>\n",
              "      <td>11</td>\n",
              "      <td>0</td>\n",
              "      <td>0</td>\n",
              "      <td>Punt</td>\n",
              "      <td>3</td>\n",
              "      <td>3</td>\n",
              "      <td>2009</td>\n",
              "    </tr>\n",
              "    <tr>\n",
              "      <th>9</th>\n",
              "      <td>2009091000</td>\n",
              "      <td>2009-09-10</td>\n",
              "      <td>PIT</td>\n",
              "      <td>TEN</td>\n",
              "      <td>13</td>\n",
              "      <td>10</td>\n",
              "      <td>0.0</td>\n",
              "      <td>253</td>\n",
              "      <td>3</td>\n",
              "      <td>1</td>\n",
              "      <td>1.0</td>\n",
              "      <td>11:24</td>\n",
              "      <td>12</td>\n",
              "      <td>3384.0</td>\n",
              "      <td>10.0</td>\n",
              "      <td>43.0</td>\n",
              "      <td>43.0</td>\n",
              "      <td>10</td>\n",
              "      <td>3</td>\n",
              "      <td>0.0</td>\n",
              "      <td>0.0</td>\n",
              "      <td>PIT</td>\n",
              "      <td>TEN</td>\n",
              "      <td>(11:24) B.Roethlisberger pass short right to M...</td>\n",
              "      <td>1</td>\n",
              "      <td>3</td>\n",
              "      <td>0</td>\n",
              "      <td>0</td>\n",
              "      <td>Pass</td>\n",
              "      <td>3</td>\n",
              "      <td>3</td>\n",
              "      <td>2009</td>\n",
              "    </tr>\n",
              "  </tbody>\n",
              "</table>\n",
              "</div>"
            ],
            "text/plain": [
              "       GameID        date  ... AwayTimeouts_Remaining_Pre Season\n",
              "0  2009091000  2009-09-10  ...                          3   2009\n",
              "1  2009091000  2009-09-10  ...                          3   2009\n",
              "2  2009091000  2009-09-10  ...                          3   2009\n",
              "3  2009091000  2009-09-10  ...                          3   2009\n",
              "4  2009091000  2009-09-10  ...                          3   2009\n",
              "5  2009091000  2009-09-10  ...                          3   2009\n",
              "6  2009091000  2009-09-10  ...                          3   2009\n",
              "7  2009091000  2009-09-10  ...                          3   2009\n",
              "8  2009091000  2009-09-10  ...                          3   2009\n",
              "9  2009091000  2009-09-10  ...                          3   2009\n",
              "\n",
              "[10 rows x 32 columns]"
            ]
          },
          "metadata": {
            "tags": []
          },
          "execution_count": 54
        }
      ]
    },
    {
      "cell_type": "code",
      "metadata": {
        "id": "KGYV5692L2LY",
        "colab_type": "code",
        "colab": {
          "base_uri": "https://localhost:8080/",
          "height": 1007
        },
        "outputId": "ccc54994-5815-4235-dd77-2c95040a4ac5"
      },
      "source": [
        "# view bottom 10 observartions\n",
        "nfl.tail(10)"
      ],
      "execution_count": null,
      "outputs": [
        {
          "output_type": "execute_result",
          "data": {
            "text/html": [
              "<div>\n",
              "<style scoped>\n",
              "    .dataframe tbody tr th:only-of-type {\n",
              "        vertical-align: middle;\n",
              "    }\n",
              "\n",
              "    .dataframe tbody tr th {\n",
              "        vertical-align: top;\n",
              "    }\n",
              "\n",
              "    .dataframe thead th {\n",
              "        text-align: right;\n",
              "    }\n",
              "</style>\n",
              "<table border=\"1\" class=\"dataframe\">\n",
              "  <thead>\n",
              "    <tr style=\"text-align: right;\">\n",
              "      <th></th>\n",
              "      <th>GameID</th>\n",
              "      <th>date</th>\n",
              "      <th>home</th>\n",
              "      <th>away</th>\n",
              "      <th>homescore</th>\n",
              "      <th>awayscore</th>\n",
              "      <th>ScoreDiff</th>\n",
              "      <th>play_id</th>\n",
              "      <th>Drive</th>\n",
              "      <th>qtr</th>\n",
              "      <th>down</th>\n",
              "      <th>time</th>\n",
              "      <th>TimeUnder</th>\n",
              "      <th>TimeSecs</th>\n",
              "      <th>PlayTimeDiff</th>\n",
              "      <th>yrdln</th>\n",
              "      <th>yrdline100</th>\n",
              "      <th>ydstogo</th>\n",
              "      <th>ydsnet</th>\n",
              "      <th>GoalToGo</th>\n",
              "      <th>FirstDown</th>\n",
              "      <th>posteam</th>\n",
              "      <th>DefensiveTeam</th>\n",
              "      <th>desc</th>\n",
              "      <th>PlayAttempted</th>\n",
              "      <th>Yards.Gained</th>\n",
              "      <th>sp</th>\n",
              "      <th>Touchdown</th>\n",
              "      <th>PlayType</th>\n",
              "      <th>HomeTimeouts_Remaining_Pre</th>\n",
              "      <th>AwayTimeouts_Remaining_Pre</th>\n",
              "      <th>Season</th>\n",
              "    </tr>\n",
              "  </thead>\n",
              "  <tbody>\n",
              "    <tr>\n",
              "      <th>452825</th>\n",
              "      <td>2018123011</td>\n",
              "      <td>2018-12-30</td>\n",
              "      <td>TEN</td>\n",
              "      <td>IND</td>\n",
              "      <td>17</td>\n",
              "      <td>33</td>\n",
              "      <td>17.0</td>\n",
              "      <td>4134</td>\n",
              "      <td>22</td>\n",
              "      <td>4</td>\n",
              "      <td>NaN</td>\n",
              "      <td>02:24</td>\n",
              "      <td>3</td>\n",
              "      <td>144.0</td>\n",
              "      <td>4.0</td>\n",
              "      <td>15.0</td>\n",
              "      <td>15.0</td>\n",
              "      <td>0</td>\n",
              "      <td>8</td>\n",
              "      <td>0.0</td>\n",
              "      <td>0.0</td>\n",
              "      <td>IND</td>\n",
              "      <td>TEN</td>\n",
              "      <td>A.Vinatieri extra point is No Good, Wide Right...</td>\n",
              "      <td>1</td>\n",
              "      <td>0</td>\n",
              "      <td>0</td>\n",
              "      <td>0</td>\n",
              "      <td>Extra Point</td>\n",
              "      <td>2</td>\n",
              "      <td>3</td>\n",
              "      <td>2018</td>\n",
              "    </tr>\n",
              "    <tr>\n",
              "      <th>452826</th>\n",
              "      <td>2018123011</td>\n",
              "      <td>2018-12-30</td>\n",
              "      <td>TEN</td>\n",
              "      <td>IND</td>\n",
              "      <td>17</td>\n",
              "      <td>33</td>\n",
              "      <td>-17.0</td>\n",
              "      <td>4150</td>\n",
              "      <td>23</td>\n",
              "      <td>4</td>\n",
              "      <td>NaN</td>\n",
              "      <td>02:24</td>\n",
              "      <td>3</td>\n",
              "      <td>144.0</td>\n",
              "      <td>0.0</td>\n",
              "      <td>35.0</td>\n",
              "      <td>35.0</td>\n",
              "      <td>0</td>\n",
              "      <td>-6</td>\n",
              "      <td>0.0</td>\n",
              "      <td>NaN</td>\n",
              "      <td>TEN</td>\n",
              "      <td>IND</td>\n",
              "      <td>R.Sanchez kicks 63 yards from IND 35 to TEN 2....</td>\n",
              "      <td>1</td>\n",
              "      <td>32</td>\n",
              "      <td>0</td>\n",
              "      <td>0</td>\n",
              "      <td>Kickoff</td>\n",
              "      <td>2</td>\n",
              "      <td>3</td>\n",
              "      <td>2018</td>\n",
              "    </tr>\n",
              "    <tr>\n",
              "      <th>452827</th>\n",
              "      <td>2018123011</td>\n",
              "      <td>2018-12-30</td>\n",
              "      <td>TEN</td>\n",
              "      <td>IND</td>\n",
              "      <td>17</td>\n",
              "      <td>33</td>\n",
              "      <td>-17.0</td>\n",
              "      <td>4173</td>\n",
              "      <td>23</td>\n",
              "      <td>4</td>\n",
              "      <td>1.0</td>\n",
              "      <td>02:17</td>\n",
              "      <td>3</td>\n",
              "      <td>137.0</td>\n",
              "      <td>7.0</td>\n",
              "      <td>34.0</td>\n",
              "      <td>66.0</td>\n",
              "      <td>10</td>\n",
              "      <td>-6</td>\n",
              "      <td>0.0</td>\n",
              "      <td>1.0</td>\n",
              "      <td>TEN</td>\n",
              "      <td>IND</td>\n",
              "      <td>(2:17) (Shotgun) B.Gabbert pass incomplete dee...</td>\n",
              "      <td>1</td>\n",
              "      <td>0</td>\n",
              "      <td>0</td>\n",
              "      <td>0</td>\n",
              "      <td>No Play</td>\n",
              "      <td>2</td>\n",
              "      <td>3</td>\n",
              "      <td>2018</td>\n",
              "    </tr>\n",
              "    <tr>\n",
              "      <th>452828</th>\n",
              "      <td>2018123011</td>\n",
              "      <td>2018-12-30</td>\n",
              "      <td>TEN</td>\n",
              "      <td>IND</td>\n",
              "      <td>17</td>\n",
              "      <td>33</td>\n",
              "      <td>-17.0</td>\n",
              "      <td>4219</td>\n",
              "      <td>23</td>\n",
              "      <td>4</td>\n",
              "      <td>1.0</td>\n",
              "      <td>02:08</td>\n",
              "      <td>3</td>\n",
              "      <td>128.0</td>\n",
              "      <td>9.0</td>\n",
              "      <td>24.0</td>\n",
              "      <td>76.0</td>\n",
              "      <td>20</td>\n",
              "      <td>-6</td>\n",
              "      <td>0.0</td>\n",
              "      <td>0.0</td>\n",
              "      <td>TEN</td>\n",
              "      <td>IND</td>\n",
              "      <td>(2:08) (Shotgun) B.Gabbert pass short left to ...</td>\n",
              "      <td>1</td>\n",
              "      <td>4</td>\n",
              "      <td>0</td>\n",
              "      <td>0</td>\n",
              "      <td>Pass</td>\n",
              "      <td>2</td>\n",
              "      <td>3</td>\n",
              "      <td>2018</td>\n",
              "    </tr>\n",
              "    <tr>\n",
              "      <th>452829</th>\n",
              "      <td>2018123011</td>\n",
              "      <td>2018-12-30</td>\n",
              "      <td>TEN</td>\n",
              "      <td>IND</td>\n",
              "      <td>17</td>\n",
              "      <td>33</td>\n",
              "      <td>-17.0</td>\n",
              "      <td>4244</td>\n",
              "      <td>23</td>\n",
              "      <td>4</td>\n",
              "      <td>NaN</td>\n",
              "      <td>02:00</td>\n",
              "      <td>2</td>\n",
              "      <td>120.0</td>\n",
              "      <td>8.0</td>\n",
              "      <td>24.0</td>\n",
              "      <td>24.0</td>\n",
              "      <td>0</td>\n",
              "      <td>-6</td>\n",
              "      <td>0.0</td>\n",
              "      <td>0.0</td>\n",
              "      <td>NaN</td>\n",
              "      <td>NaN</td>\n",
              "      <td>Two-Minute Warning</td>\n",
              "      <td>1</td>\n",
              "      <td>0</td>\n",
              "      <td>0</td>\n",
              "      <td>0</td>\n",
              "      <td>Two Minute Warning</td>\n",
              "      <td>2</td>\n",
              "      <td>3</td>\n",
              "      <td>2018</td>\n",
              "    </tr>\n",
              "    <tr>\n",
              "      <th>452830</th>\n",
              "      <td>2018123011</td>\n",
              "      <td>2018-12-30</td>\n",
              "      <td>TEN</td>\n",
              "      <td>IND</td>\n",
              "      <td>17</td>\n",
              "      <td>33</td>\n",
              "      <td>-17.0</td>\n",
              "      <td>4261</td>\n",
              "      <td>23</td>\n",
              "      <td>4</td>\n",
              "      <td>2.0</td>\n",
              "      <td>02:00</td>\n",
              "      <td>2</td>\n",
              "      <td>120.0</td>\n",
              "      <td>0.0</td>\n",
              "      <td>28.0</td>\n",
              "      <td>72.0</td>\n",
              "      <td>16</td>\n",
              "      <td>-6</td>\n",
              "      <td>0.0</td>\n",
              "      <td>1.0</td>\n",
              "      <td>TEN</td>\n",
              "      <td>IND</td>\n",
              "      <td>(2:00) (Shotgun) B.Gabbert pass short middle i...</td>\n",
              "      <td>1</td>\n",
              "      <td>0</td>\n",
              "      <td>0</td>\n",
              "      <td>0</td>\n",
              "      <td>Pass</td>\n",
              "      <td>2</td>\n",
              "      <td>3</td>\n",
              "      <td>2018</td>\n",
              "    </tr>\n",
              "    <tr>\n",
              "      <th>452831</th>\n",
              "      <td>2018123011</td>\n",
              "      <td>2018-12-30</td>\n",
              "      <td>TEN</td>\n",
              "      <td>IND</td>\n",
              "      <td>17</td>\n",
              "      <td>33</td>\n",
              "      <td>17.0</td>\n",
              "      <td>4288</td>\n",
              "      <td>24</td>\n",
              "      <td>4</td>\n",
              "      <td>1.0</td>\n",
              "      <td>01:50</td>\n",
              "      <td>2</td>\n",
              "      <td>110.0</td>\n",
              "      <td>10.0</td>\n",
              "      <td>8.0</td>\n",
              "      <td>8.0</td>\n",
              "      <td>8</td>\n",
              "      <td>-3</td>\n",
              "      <td>1.0</td>\n",
              "      <td>0.0</td>\n",
              "      <td>IND</td>\n",
              "      <td>TEN</td>\n",
              "      <td>(1:50) A.Luck kneels to TEN 9 for -1 yards.</td>\n",
              "      <td>1</td>\n",
              "      <td>-1</td>\n",
              "      <td>0</td>\n",
              "      <td>0</td>\n",
              "      <td>QB Kneel</td>\n",
              "      <td>2</td>\n",
              "      <td>3</td>\n",
              "      <td>2018</td>\n",
              "    </tr>\n",
              "    <tr>\n",
              "      <th>452832</th>\n",
              "      <td>2018123011</td>\n",
              "      <td>2018-12-30</td>\n",
              "      <td>TEN</td>\n",
              "      <td>IND</td>\n",
              "      <td>17</td>\n",
              "      <td>33</td>\n",
              "      <td>17.0</td>\n",
              "      <td>4310</td>\n",
              "      <td>24</td>\n",
              "      <td>4</td>\n",
              "      <td>2.0</td>\n",
              "      <td>01:06</td>\n",
              "      <td>2</td>\n",
              "      <td>66.0</td>\n",
              "      <td>44.0</td>\n",
              "      <td>9.0</td>\n",
              "      <td>9.0</td>\n",
              "      <td>9</td>\n",
              "      <td>-3</td>\n",
              "      <td>1.0</td>\n",
              "      <td>0.0</td>\n",
              "      <td>IND</td>\n",
              "      <td>TEN</td>\n",
              "      <td>(1:06) A.Luck kneels to TEN 10 for -1 yards.</td>\n",
              "      <td>1</td>\n",
              "      <td>-1</td>\n",
              "      <td>0</td>\n",
              "      <td>0</td>\n",
              "      <td>QB Kneel</td>\n",
              "      <td>2</td>\n",
              "      <td>3</td>\n",
              "      <td>2018</td>\n",
              "    </tr>\n",
              "    <tr>\n",
              "      <th>452833</th>\n",
              "      <td>2018123011</td>\n",
              "      <td>2018-12-30</td>\n",
              "      <td>TEN</td>\n",
              "      <td>IND</td>\n",
              "      <td>17</td>\n",
              "      <td>33</td>\n",
              "      <td>17.0</td>\n",
              "      <td>4332</td>\n",
              "      <td>24</td>\n",
              "      <td>4</td>\n",
              "      <td>3.0</td>\n",
              "      <td>00:25</td>\n",
              "      <td>1</td>\n",
              "      <td>25.0</td>\n",
              "      <td>41.0</td>\n",
              "      <td>10.0</td>\n",
              "      <td>10.0</td>\n",
              "      <td>10</td>\n",
              "      <td>-3</td>\n",
              "      <td>1.0</td>\n",
              "      <td>0.0</td>\n",
              "      <td>IND</td>\n",
              "      <td>TEN</td>\n",
              "      <td>(:25) A.Luck kneels to TEN 11 for -1 yards.</td>\n",
              "      <td>1</td>\n",
              "      <td>-1</td>\n",
              "      <td>0</td>\n",
              "      <td>0</td>\n",
              "      <td>QB Kneel</td>\n",
              "      <td>2</td>\n",
              "      <td>3</td>\n",
              "      <td>2018</td>\n",
              "    </tr>\n",
              "    <tr>\n",
              "      <th>452834</th>\n",
              "      <td>2018123011</td>\n",
              "      <td>2018-12-30</td>\n",
              "      <td>TEN</td>\n",
              "      <td>IND</td>\n",
              "      <td>17</td>\n",
              "      <td>33</td>\n",
              "      <td>17.0</td>\n",
              "      <td>4354</td>\n",
              "      <td>24</td>\n",
              "      <td>4</td>\n",
              "      <td>NaN</td>\n",
              "      <td>00:00</td>\n",
              "      <td>0</td>\n",
              "      <td>0.0</td>\n",
              "      <td>25.0</td>\n",
              "      <td>10.0</td>\n",
              "      <td>10.0</td>\n",
              "      <td>0</td>\n",
              "      <td>-3</td>\n",
              "      <td>0.0</td>\n",
              "      <td>0.0</td>\n",
              "      <td>IND</td>\n",
              "      <td>TEN</td>\n",
              "      <td>END GAME</td>\n",
              "      <td>1</td>\n",
              "      <td>0</td>\n",
              "      <td>0</td>\n",
              "      <td>0</td>\n",
              "      <td>End of Game</td>\n",
              "      <td>2</td>\n",
              "      <td>3</td>\n",
              "      <td>2018</td>\n",
              "    </tr>\n",
              "  </tbody>\n",
              "</table>\n",
              "</div>"
            ],
            "text/plain": [
              "            GameID        date  ... AwayTimeouts_Remaining_Pre Season\n",
              "452825  2018123011  2018-12-30  ...                          3   2018\n",
              "452826  2018123011  2018-12-30  ...                          3   2018\n",
              "452827  2018123011  2018-12-30  ...                          3   2018\n",
              "452828  2018123011  2018-12-30  ...                          3   2018\n",
              "452829  2018123011  2018-12-30  ...                          3   2018\n",
              "452830  2018123011  2018-12-30  ...                          3   2018\n",
              "452831  2018123011  2018-12-30  ...                          3   2018\n",
              "452832  2018123011  2018-12-30  ...                          3   2018\n",
              "452833  2018123011  2018-12-30  ...                          3   2018\n",
              "452834  2018123011  2018-12-30  ...                          3   2018\n",
              "\n",
              "[10 rows x 32 columns]"
            ]
          },
          "metadata": {
            "tags": []
          },
          "execution_count": 55
        }
      ]
    },
    {
      "cell_type": "code",
      "metadata": {
        "id": "NReRGU2NLjaf",
        "colab_type": "code",
        "colab": {
          "base_uri": "https://localhost:8080/",
          "height": 690
        },
        "outputId": "bbbc61ff-9cc0-46ae-f364-d0f22b75c2a4"
      },
      "source": [
        "# high level info\n",
        "nfl.info()"
      ],
      "execution_count": null,
      "outputs": [
        {
          "output_type": "stream",
          "text": [
            "<class 'pandas.core.frame.DataFrame'>\n",
            "RangeIndex: 452835 entries, 0 to 452834\n",
            "Data columns (total 32 columns):\n",
            "GameID                        452835 non-null int64\n",
            "date                          452835 non-null object\n",
            "home                          452835 non-null object\n",
            "away                          452835 non-null object\n",
            "homescore                     452835 non-null int64\n",
            "awayscore                     452835 non-null int64\n",
            "ScoreDiff                     452296 non-null float64\n",
            "play_id                       452835 non-null int64\n",
            "Drive                         452835 non-null int64\n",
            "qtr                           452835 non-null int64\n",
            "down                          384378 non-null float64\n",
            "time                          452580 non-null object\n",
            "TimeUnder                     452835 non-null int64\n",
            "TimeSecs                      452580 non-null float64\n",
            "PlayTimeDiff                  452330 non-null float64\n",
            "yrdln                         451875 non-null float64\n",
            "yrdline100                    451875 non-null float64\n",
            "ydstogo                       452835 non-null int64\n",
            "ydsnet                        452835 non-null int64\n",
            "GoalToGo                      451875 non-null float64\n",
            "FirstDown                     420674 non-null float64\n",
            "posteam                       424710 non-null object\n",
            "DefensiveTeam                 424710 non-null object\n",
            "desc                          452833 non-null object\n",
            "PlayAttempted                 452835 non-null int64\n",
            "Yards.Gained                  452835 non-null int64\n",
            "sp                            452835 non-null int64\n",
            "Touchdown                     452835 non-null int64\n",
            "PlayType                      452835 non-null object\n",
            "HomeTimeouts_Remaining_Pre    452835 non-null int64\n",
            "AwayTimeouts_Remaining_Pre    452835 non-null int64\n",
            "Season                        452835 non-null int64\n",
            "dtypes: float64(8), int64(16), object(8)\n",
            "memory usage: 110.6+ MB\n"
          ],
          "name": "stdout"
        }
      ]
    },
    {
      "cell_type": "code",
      "metadata": {
        "id": "w0hV7Sr3IlAJ",
        "colab_type": "code",
        "colab": {
          "base_uri": "https://localhost:8080/",
          "height": 308
        },
        "outputId": "55a959a7-bfc4-489c-fe6a-36c4eab83fbd"
      },
      "source": [
        "# get summary statistics - counts, mean, max, min, quantiles\n",
        "nfl.describe()"
      ],
      "execution_count": null,
      "outputs": [
        {
          "output_type": "execute_result",
          "data": {
            "text/html": [
              "<div>\n",
              "<style scoped>\n",
              "    .dataframe tbody tr th:only-of-type {\n",
              "        vertical-align: middle;\n",
              "    }\n",
              "\n",
              "    .dataframe tbody tr th {\n",
              "        vertical-align: top;\n",
              "    }\n",
              "\n",
              "    .dataframe thead th {\n",
              "        text-align: right;\n",
              "    }\n",
              "</style>\n",
              "<table border=\"1\" class=\"dataframe\">\n",
              "  <thead>\n",
              "    <tr style=\"text-align: right;\">\n",
              "      <th></th>\n",
              "      <th>GameID</th>\n",
              "      <th>homescore</th>\n",
              "      <th>awayscore</th>\n",
              "      <th>ScoreDiff</th>\n",
              "      <th>play_id</th>\n",
              "      <th>Drive</th>\n",
              "      <th>qtr</th>\n",
              "      <th>down</th>\n",
              "      <th>TimeUnder</th>\n",
              "      <th>TimeSecs</th>\n",
              "      <th>PlayTimeDiff</th>\n",
              "      <th>yrdln</th>\n",
              "      <th>yrdline100</th>\n",
              "      <th>ydstogo</th>\n",
              "      <th>ydsnet</th>\n",
              "      <th>GoalToGo</th>\n",
              "      <th>FirstDown</th>\n",
              "      <th>PlayAttempted</th>\n",
              "      <th>Yards.Gained</th>\n",
              "      <th>sp</th>\n",
              "      <th>Touchdown</th>\n",
              "      <th>HomeTimeouts_Remaining_Pre</th>\n",
              "      <th>AwayTimeouts_Remaining_Pre</th>\n",
              "      <th>Season</th>\n",
              "    </tr>\n",
              "  </thead>\n",
              "  <tbody>\n",
              "    <tr>\n",
              "      <th>count</th>\n",
              "      <td>4.528350e+05</td>\n",
              "      <td>452835.000000</td>\n",
              "      <td>452835.000000</td>\n",
              "      <td>452296.000000</td>\n",
              "      <td>452835.000000</td>\n",
              "      <td>452835.000000</td>\n",
              "      <td>452835.000000</td>\n",
              "      <td>384378.000000</td>\n",
              "      <td>452835.000000</td>\n",
              "      <td>452580.000000</td>\n",
              "      <td>452330.000000</td>\n",
              "      <td>451875.000000</td>\n",
              "      <td>451875.000000</td>\n",
              "      <td>452835.000000</td>\n",
              "      <td>452835.000000</td>\n",
              "      <td>451875.000000</td>\n",
              "      <td>420674.000000</td>\n",
              "      <td>452835.0</td>\n",
              "      <td>452835.000000</td>\n",
              "      <td>452835.000000</td>\n",
              "      <td>452835.000000</td>\n",
              "      <td>452835.000000</td>\n",
              "      <td>452835.000000</td>\n",
              "      <td>452835.000000</td>\n",
              "    </tr>\n",
              "    <tr>\n",
              "      <th>mean</th>\n",
              "      <td>2.013651e+09</td>\n",
              "      <td>23.877136</td>\n",
              "      <td>21.529279</td>\n",
              "      <td>-1.099629</td>\n",
              "      <td>2141.542182</td>\n",
              "      <td>12.273406</td>\n",
              "      <td>2.577528</td>\n",
              "      <td>1.999966</td>\n",
              "      <td>7.359372</td>\n",
              "      <td>1694.277211</td>\n",
              "      <td>20.587788</td>\n",
              "      <td>28.549625</td>\n",
              "      <td>48.561624</td>\n",
              "      <td>7.303364</td>\n",
              "      <td>27.480471</td>\n",
              "      <td>0.049310</td>\n",
              "      <td>0.290693</td>\n",
              "      <td>1.0</td>\n",
              "      <td>4.979896</td>\n",
              "      <td>0.072059</td>\n",
              "      <td>0.029295</td>\n",
              "      <td>2.539066</td>\n",
              "      <td>2.515779</td>\n",
              "      <td>2013.515579</td>\n",
              "    </tr>\n",
              "    <tr>\n",
              "      <th>std</th>\n",
              "      <td>2.856349e+06</td>\n",
              "      <td>10.379984</td>\n",
              "      <td>9.887344</td>\n",
              "      <td>10.771154</td>\n",
              "      <td>1240.737995</td>\n",
              "      <td>7.123795</td>\n",
              "      <td>1.129868</td>\n",
              "      <td>1.005751</td>\n",
              "      <td>4.643632</td>\n",
              "      <td>1063.331114</td>\n",
              "      <td>17.947386</td>\n",
              "      <td>12.911852</td>\n",
              "      <td>24.995331</td>\n",
              "      <td>4.878271</td>\n",
              "      <td>25.700738</td>\n",
              "      <td>0.216515</td>\n",
              "      <td>0.454083</td>\n",
              "      <td>0.0</td>\n",
              "      <td>9.083236</td>\n",
              "      <td>0.258586</td>\n",
              "      <td>0.168634</td>\n",
              "      <td>0.761882</td>\n",
              "      <td>0.780928</td>\n",
              "      <td>2.864537</td>\n",
              "    </tr>\n",
              "    <tr>\n",
              "      <th>min</th>\n",
              "      <td>2.009091e+09</td>\n",
              "      <td>0.000000</td>\n",
              "      <td>0.000000</td>\n",
              "      <td>-59.000000</td>\n",
              "      <td>35.000000</td>\n",
              "      <td>1.000000</td>\n",
              "      <td>1.000000</td>\n",
              "      <td>1.000000</td>\n",
              "      <td>0.000000</td>\n",
              "      <td>-900.000000</td>\n",
              "      <td>0.000000</td>\n",
              "      <td>1.000000</td>\n",
              "      <td>1.000000</td>\n",
              "      <td>0.000000</td>\n",
              "      <td>-87.000000</td>\n",
              "      <td>0.000000</td>\n",
              "      <td>0.000000</td>\n",
              "      <td>1.0</td>\n",
              "      <td>-74.000000</td>\n",
              "      <td>0.000000</td>\n",
              "      <td>0.000000</td>\n",
              "      <td>-3.000000</td>\n",
              "      <td>-1.000000</td>\n",
              "      <td>2009.000000</td>\n",
              "    </tr>\n",
              "    <tr>\n",
              "      <th>25%</th>\n",
              "      <td>2.011111e+09</td>\n",
              "      <td>17.000000</td>\n",
              "      <td>14.000000</td>\n",
              "      <td>-7.000000</td>\n",
              "      <td>1074.000000</td>\n",
              "      <td>6.000000</td>\n",
              "      <td>2.000000</td>\n",
              "      <td>1.000000</td>\n",
              "      <td>3.000000</td>\n",
              "      <td>778.000000</td>\n",
              "      <td>5.000000</td>\n",
              "      <td>20.000000</td>\n",
              "      <td>30.000000</td>\n",
              "      <td>3.000000</td>\n",
              "      <td>5.000000</td>\n",
              "      <td>0.000000</td>\n",
              "      <td>0.000000</td>\n",
              "      <td>1.0</td>\n",
              "      <td>0.000000</td>\n",
              "      <td>0.000000</td>\n",
              "      <td>0.000000</td>\n",
              "      <td>2.000000</td>\n",
              "      <td>2.000000</td>\n",
              "      <td>2011.000000</td>\n",
              "    </tr>\n",
              "    <tr>\n",
              "      <th>50%</th>\n",
              "      <td>2.014091e+09</td>\n",
              "      <td>24.000000</td>\n",
              "      <td>21.000000</td>\n",
              "      <td>0.000000</td>\n",
              "      <td>2126.000000</td>\n",
              "      <td>12.000000</td>\n",
              "      <td>3.000000</td>\n",
              "      <td>2.000000</td>\n",
              "      <td>7.000000</td>\n",
              "      <td>1800.000000</td>\n",
              "      <td>17.000000</td>\n",
              "      <td>30.000000</td>\n",
              "      <td>49.000000</td>\n",
              "      <td>9.000000</td>\n",
              "      <td>21.000000</td>\n",
              "      <td>0.000000</td>\n",
              "      <td>0.000000</td>\n",
              "      <td>1.0</td>\n",
              "      <td>1.000000</td>\n",
              "      <td>0.000000</td>\n",
              "      <td>0.000000</td>\n",
              "      <td>3.000000</td>\n",
              "      <td>3.000000</td>\n",
              "      <td>2014.000000</td>\n",
              "    </tr>\n",
              "    <tr>\n",
              "      <th>75%</th>\n",
              "      <td>2.016111e+09</td>\n",
              "      <td>31.000000</td>\n",
              "      <td>27.000000</td>\n",
              "      <td>5.000000</td>\n",
              "      <td>3182.000000</td>\n",
              "      <td>18.000000</td>\n",
              "      <td>4.000000</td>\n",
              "      <td>3.000000</td>\n",
              "      <td>11.000000</td>\n",
              "      <td>2583.000000</td>\n",
              "      <td>37.000000</td>\n",
              "      <td>39.000000</td>\n",
              "      <td>70.000000</td>\n",
              "      <td>10.000000</td>\n",
              "      <td>46.000000</td>\n",
              "      <td>0.000000</td>\n",
              "      <td>1.000000</td>\n",
              "      <td>1.0</td>\n",
              "      <td>7.000000</td>\n",
              "      <td>0.000000</td>\n",
              "      <td>0.000000</td>\n",
              "      <td>3.000000</td>\n",
              "      <td>3.000000</td>\n",
              "      <td>2016.000000</td>\n",
              "    </tr>\n",
              "    <tr>\n",
              "      <th>max</th>\n",
              "      <td>2.018123e+09</td>\n",
              "      <td>62.000000</td>\n",
              "      <td>59.000000</td>\n",
              "      <td>59.000000</td>\n",
              "      <td>5706.000000</td>\n",
              "      <td>38.000000</td>\n",
              "      <td>5.000000</td>\n",
              "      <td>4.000000</td>\n",
              "      <td>15.000000</td>\n",
              "      <td>3600.000000</td>\n",
              "      <td>943.000000</td>\n",
              "      <td>50.000000</td>\n",
              "      <td>99.000000</td>\n",
              "      <td>50.000000</td>\n",
              "      <td>99.000000</td>\n",
              "      <td>1.000000</td>\n",
              "      <td>1.000000</td>\n",
              "      <td>1.0</td>\n",
              "      <td>99.000000</td>\n",
              "      <td>1.000000</td>\n",
              "      <td>1.000000</td>\n",
              "      <td>3.000000</td>\n",
              "      <td>3.000000</td>\n",
              "      <td>2018.000000</td>\n",
              "    </tr>\n",
              "  </tbody>\n",
              "</table>\n",
              "</div>"
            ],
            "text/plain": [
              "             GameID      homescore  ...  AwayTimeouts_Remaining_Pre         Season\n",
              "count  4.528350e+05  452835.000000  ...               452835.000000  452835.000000\n",
              "mean   2.013651e+09      23.877136  ...                    2.515779    2013.515579\n",
              "std    2.856349e+06      10.379984  ...                    0.780928       2.864537\n",
              "min    2.009091e+09       0.000000  ...                   -1.000000    2009.000000\n",
              "25%    2.011111e+09      17.000000  ...                    2.000000    2011.000000\n",
              "50%    2.014091e+09      24.000000  ...                    3.000000    2014.000000\n",
              "75%    2.016111e+09      31.000000  ...                    3.000000    2016.000000\n",
              "max    2.018123e+09      62.000000  ...                    3.000000    2018.000000\n",
              "\n",
              "[8 rows x 24 columns]"
            ]
          },
          "metadata": {
            "tags": []
          },
          "execution_count": 57
        }
      ]
    },
    {
      "cell_type": "code",
      "metadata": {
        "id": "eD7HZxjf7aoj",
        "colab_type": "code",
        "colab": {
          "base_uri": "https://localhost:8080/",
          "height": 617
        },
        "outputId": "2b8d3caf-b29a-4efb-de73-22f04ce5d949"
      },
      "source": [
        "# check NA\n",
        "nfl.isna().sum()"
      ],
      "execution_count": null,
      "outputs": [
        {
          "output_type": "execute_result",
          "data": {
            "text/plain": [
              "GameID                            0\n",
              "date                              0\n",
              "home                              0\n",
              "away                              0\n",
              "homescore                         0\n",
              "awayscore                         0\n",
              "ScoreDiff                       539\n",
              "play_id                           0\n",
              "Drive                             0\n",
              "qtr                               0\n",
              "down                          68457\n",
              "time                            255\n",
              "TimeUnder                         0\n",
              "TimeSecs                        255\n",
              "PlayTimeDiff                    505\n",
              "yrdln                           960\n",
              "yrdline100                      960\n",
              "ydstogo                           0\n",
              "ydsnet                            0\n",
              "GoalToGo                        960\n",
              "FirstDown                     32161\n",
              "posteam                       28125\n",
              "DefensiveTeam                 28125\n",
              "desc                              2\n",
              "PlayAttempted                     0\n",
              "Yards.Gained                      0\n",
              "sp                                0\n",
              "Touchdown                         0\n",
              "PlayType                          0\n",
              "HomeTimeouts_Remaining_Pre        0\n",
              "AwayTimeouts_Remaining_Pre        0\n",
              "Season                            0\n",
              "dtype: int64"
            ]
          },
          "metadata": {
            "tags": []
          },
          "execution_count": 58
        }
      ]
    },
    {
      "cell_type": "markdown",
      "metadata": {
        "id": "uIRkb3-r8gTM",
        "colab_type": "text"
      },
      "source": [
        "## EDA"
      ]
    },
    {
      "cell_type": "markdown",
      "metadata": {
        "id": "j8O4h8J0-t05",
        "colab_type": "text"
      },
      "source": [
        "### Play Type"
      ]
    },
    {
      "cell_type": "markdown",
      "metadata": {
        "id": "SNaZirG8-xNQ",
        "colab_type": "text"
      },
      "source": [
        "#### Plot "
      ]
    },
    {
      "cell_type": "code",
      "metadata": {
        "id": "mH9i8zXT8h6b",
        "colab_type": "code",
        "colab": {
          "base_uri": "https://localhost:8080/",
          "height": 380
        },
        "outputId": "7c8191d9-26f1-474f-a84f-000a103a42b9"
      },
      "source": [
        "# plot barchart of play types\n",
        "\n",
        "plt.figure(figsize = (12,14))\n",
        "\n",
        "plt.subplot(311)\n",
        "g = sns.countplot(x=\"PlayType\", data=nfl)\n",
        "g.set_xticklabels(g.get_xticklabels(),rotation=45)\n",
        "g.set_xlabel(\"\", fontsize=12)\n",
        "g.set_ylabel(\"Count\", fontsize=15)\n",
        "g.set_title(\"Play Type\", fontsize=20)"
      ],
      "execution_count": null,
      "outputs": [
        {
          "output_type": "execute_result",
          "data": {
            "text/plain": [
              "Text(0.5, 1.0, 'Play Type')"
            ]
          },
          "metadata": {
            "tags": []
          },
          "execution_count": 59
        },
        {
          "output_type": "display_data",
          "data": {
            "image/png": "[encoded data removed]",
            "text/plain": [
              "<Figure size 864x1008 with 1 Axes>"
            ]
          },
          "metadata": {
            "tags": []
          }
        }
      ]
    },
    {
      "cell_type": "markdown",
      "metadata": {
        "id": "CPPNRci6-0SQ",
        "colab_type": "text"
      },
      "source": [
        "#### Counts"
      ]
    },
    {
      "cell_type": "code",
      "metadata": {
        "id": "Y46X2yK9-PEF",
        "colab_type": "code",
        "colab": {
          "base_uri": "https://localhost:8080/",
          "height": 308
        },
        "outputId": "27095040-766f-4596-92a5-7571e23c118c"
      },
      "source": [
        "# get counts of play types\n",
        "nfl['PlayType'].value_counts()"
      ],
      "execution_count": null,
      "outputs": [
        {
          "output_type": "execute_result",
          "data": {
            "text/plain": [
              "Pass                  177035\n",
              "Run                   133742\n",
              "Kickoff                26050\n",
              "Punt                   24217\n",
              "No Play                23893\n",
              "Timeout                18098\n",
              "Sack                   11944\n",
              "Extra Point            11225\n",
              "Field Goal              9874\n",
              "Quarter End             5626\n",
              "Two Minute Warning      4251\n",
              "QB Kneel                3925\n",
              "End of Game             2191\n",
              "Spike                    718\n",
              "Half End                  46\n",
              "Name: PlayType, dtype: int64"
            ]
          },
          "metadata": {
            "tags": []
          },
          "execution_count": 60
        }
      ]
    },
    {
      "cell_type": "markdown",
      "metadata": {
        "id": "vF9a0d6h-on4",
        "colab_type": "text"
      },
      "source": [
        "#### Remove Bad Data"
      ]
    },
    {
      "cell_type": "code",
      "metadata": {
        "id": "9aZXKq7q-ghL",
        "colab_type": "code",
        "colab": {}
      },
      "source": [
        "# remove any play type that is 'No Play'\n",
        "nfl = nfl[nfl['PlayType'] != 'No Play']"
      ],
      "execution_count": null,
      "outputs": []
    },
    {
      "cell_type": "code",
      "metadata": {
        "id": "6i2FoqnS_OgI",
        "colab_type": "code",
        "colab": {
          "base_uri": "https://localhost:8080/",
          "height": 290
        },
        "outputId": "036ac3ef-566a-43dd-b136-90b01618c7a9"
      },
      "source": [
        "# doulbe check counts\n",
        "nfl['PlayType'].value_counts()"
      ],
      "execution_count": null,
      "outputs": [
        {
          "output_type": "execute_result",
          "data": {
            "text/plain": [
              "Pass                  177035\n",
              "Run                   133742\n",
              "Kickoff                26050\n",
              "Punt                   24217\n",
              "Timeout                18098\n",
              "Sack                   11944\n",
              "Extra Point            11225\n",
              "Field Goal              9874\n",
              "Quarter End             5626\n",
              "Two Minute Warning      4251\n",
              "QB Kneel                3925\n",
              "End of Game             2191\n",
              "Spike                    718\n",
              "Half End                  46\n",
              "Name: PlayType, dtype: int64"
            ]
          },
          "metadata": {
            "tags": []
          },
          "execution_count": 62
        }
      ]
    },
    {
      "cell_type": "markdown",
      "metadata": {
        "id": "keF95Wz4_W-Q",
        "colab_type": "text"
      },
      "source": [
        "### Quarter"
      ]
    },
    {
      "cell_type": "markdown",
      "metadata": {
        "id": "AOjhrshW_amY",
        "colab_type": "text"
      },
      "source": [
        "#### Plot"
      ]
    },
    {
      "cell_type": "code",
      "metadata": {
        "id": "8gu6J6t09X_Q",
        "colab_type": "code",
        "colab": {
          "base_uri": "https://localhost:8080/",
          "height": 312
        },
        "outputId": "695ed358-f8c8-48be-e0bb-19e91f2db65a"
      },
      "source": [
        "# plot barchart of quarters\n",
        "\n",
        "plt.figure(figsize = (12,14))\n",
        "\n",
        "plt.subplot(311)\n",
        "g = sns.countplot(x=\"qtr\", data=nfl)\n",
        "g.set_xlabel(\"\", fontsize=12)\n",
        "g.set_ylabel(\"Count\", fontsize=15)\n",
        "g.set_title(\"Quarter\", fontsize=20)"
      ],
      "execution_count": null,
      "outputs": [
        {
          "output_type": "execute_result",
          "data": {
            "text/plain": [
              "Text(0.5, 1.0, 'Quarter')"
            ]
          },
          "metadata": {
            "tags": []
          },
          "execution_count": 63
        },
        {
          "output_type": "display_data",
          "data": {
            "image/png": "[encoded data removed]",
            "text/plain": [
              "<Figure size 864x1008 with 1 Axes>"
            ]
          },
          "metadata": {
            "tags": []
          }
        }
      ]
    },
    {
      "cell_type": "markdown",
      "metadata": {
        "id": "rjPWpWzC_pk6",
        "colab_type": "text"
      },
      "source": [
        "#### Remove Bad Data"
      ]
    },
    {
      "cell_type": "code",
      "metadata": {
        "id": "H1Bk9Q_D_xy4",
        "colab_type": "code",
        "colab": {}
      },
      "source": [
        "# remove any quarter that is 5. We aren't going to predict overtime\n",
        "nfl = nfl[nfl['qtr'] != 5]"
      ],
      "execution_count": null,
      "outputs": []
    },
    {
      "cell_type": "code",
      "metadata": {
        "id": "TEgGqCAM_trx",
        "colab_type": "code",
        "colab": {
          "base_uri": "https://localhost:8080/",
          "height": 108
        },
        "outputId": "ee204cc8-c9f0-4e3d-bfd6-1ddeab086969"
      },
      "source": [
        "# double check counts\n",
        "nfl['qtr'].value_counts()"
      ],
      "execution_count": null,
      "outputs": [
        {
          "output_type": "execute_result",
          "data": {
            "text/plain": [
              "4    118858\n",
              "2    118003\n",
              "3     95132\n",
              "1     93834\n",
              "Name: qtr, dtype: int64"
            ]
          },
          "metadata": {
            "tags": []
          },
          "execution_count": 66
        }
      ]
    },
    {
      "cell_type": "markdown",
      "metadata": {
        "id": "twdY_miUD236",
        "colab_type": "text"
      },
      "source": [
        "### Downs"
      ]
    },
    {
      "cell_type": "code",
      "metadata": {
        "id": "5BzXWFDFD1NO",
        "colab_type": "code",
        "colab": {
          "base_uri": "https://localhost:8080/",
          "height": 312
        },
        "outputId": "5441acc7-3526-4b1d-f9ea-d6d1987119fb"
      },
      "source": [
        "# plot downs\n",
        "plt.figure(figsize = (12,14))\n",
        "\n",
        "plt.subplot(311)\n",
        "g = sns.countplot(x=\"down\", data=nfl)\n",
        "g.set_xlabel(\"\", fontsize=12)\n",
        "g.set_ylabel(\"Count\", fontsize=15)\n",
        "g.set_title(\"Down\", fontsize=20)"
      ],
      "execution_count": null,
      "outputs": [
        {
          "output_type": "execute_result",
          "data": {
            "text/plain": [
              "Text(0.5, 1.0, 'Down')"
            ]
          },
          "metadata": {
            "tags": []
          },
          "execution_count": 67
        },
        {
          "output_type": "display_data",
          "data": {
            "image/png": "[encoded data removed]",
            "text/plain": [
              "<Figure size 864x1008 with 1 Axes>"
            ]
          },
          "metadata": {
            "tags": []
          }
        }
      ]
    },
    {
      "cell_type": "code",
      "metadata": {
        "id": "FQ4fc-BIN8Am",
        "colab_type": "code",
        "colab": {
          "base_uri": "https://localhost:8080/",
          "height": 35
        },
        "outputId": "33389585-301d-4b2d-93d4-8a0d41e870dc"
      },
      "source": [
        "# Check for NA\n",
        "nfl['down'].isna().sum()"
      ],
      "execution_count": null,
      "outputs": [
        {
          "output_type": "execute_result",
          "data": {
            "text/plain": [
              "67772"
            ]
          },
          "metadata": {
            "tags": []
          },
          "execution_count": 69
        }
      ]
    },
    {
      "cell_type": "code",
      "metadata": {
        "id": "uStAQ5vlEDIB",
        "colab_type": "code",
        "colab": {
          "base_uri": "https://localhost:8080/",
          "height": 617
        },
        "outputId": "7d949ae1-22d7-478a-e36d-58fb0b8b5cae"
      },
      "source": [
        "# remove NA for downs\n",
        "nfl = nfl[np.isfinite(nfl['down'])]\n",
        "nfl.isna().sum()\n"
      ],
      "execution_count": null,
      "outputs": [
        {
          "output_type": "execute_result",
          "data": {
            "text/plain": [
              "GameID                         0\n",
              "date                           0\n",
              "home                           0\n",
              "away                           0\n",
              "homescore                      0\n",
              "awayscore                      0\n",
              "ScoreDiff                      0\n",
              "play_id                        0\n",
              "Drive                          0\n",
              "qtr                            0\n",
              "down                           0\n",
              "time                           0\n",
              "TimeUnder                      0\n",
              "TimeSecs                       0\n",
              "PlayTimeDiff                  17\n",
              "yrdln                          0\n",
              "yrdline100                     0\n",
              "ydstogo                        0\n",
              "ydsnet                         0\n",
              "GoalToGo                       0\n",
              "FirstDown                      0\n",
              "posteam                        0\n",
              "DefensiveTeam                  0\n",
              "desc                           0\n",
              "PlayAttempted                  0\n",
              "Yards.Gained                   0\n",
              "sp                             0\n",
              "Touchdown                      0\n",
              "PlayType                       0\n",
              "HomeTimeouts_Remaining_Pre     0\n",
              "AwayTimeouts_Remaining_Pre     0\n",
              "Season                         0\n",
              "dtype: int64"
            ]
          },
          "metadata": {
            "tags": []
          },
          "execution_count": 70
        }
      ]
    },
    {
      "cell_type": "code",
      "metadata": {
        "id": "4pWdauPkOQ3k",
        "colab_type": "code",
        "colab": {}
      },
      "source": [
        "# double check missing data in the whole dataframe"
      ],
      "execution_count": null,
      "outputs": []
    },
    {
      "cell_type": "markdown",
      "metadata": {
        "id": "CDJdnCS89lpO",
        "colab_type": "text"
      },
      "source": [
        "## Add Response Variable"
      ]
    },
    {
      "cell_type": "code",
      "metadata": {
        "id": "-23fSG22AdGb",
        "colab_type": "code",
        "colab": {}
      },
      "source": [
        "# add the winner of the game\n",
        "nfl['winner'] = np.where(nfl['homescore'] > nfl['awayscore'], nfl['home'], nfl['away'])"
      ],
      "execution_count": null,
      "outputs": []
    },
    {
      "cell_type": "code",
      "metadata": {
        "id": "rRMV8irLOkQk",
        "colab_type": "code",
        "colab": {}
      },
      "source": [
        "# add the variable that we will ultimately predict on. Name it 'poswin'\n",
        "nfl['poswin'] = np.where(nfl['winner'] == nfl['posteam'], 'Win', 'Lose')"
      ],
      "execution_count": null,
      "outputs": []
    },
    {
      "cell_type": "code",
      "metadata": {
        "id": "oFY4coBFO3N3",
        "colab_type": "code",
        "colab": {
          "base_uri": "https://localhost:8080/",
          "height": 477
        },
        "outputId": "1065b48a-3cb5-423c-8313-f1fe6a7ea448"
      },
      "source": [
        "# check data\n",
        "nfl.head()"
      ],
      "execution_count": null,
      "outputs": [
        {
          "output_type": "execute_result",
          "data": {
            "text/html": [
              "<div>\n",
              "<style scoped>\n",
              "    .dataframe tbody tr th:only-of-type {\n",
              "        vertical-align: middle;\n",
              "    }\n",
              "\n",
              "    .dataframe tbody tr th {\n",
              "        vertical-align: top;\n",
              "    }\n",
              "\n",
              "    .dataframe thead th {\n",
              "        text-align: right;\n",
              "    }\n",
              "</style>\n",
              "<table border=\"1\" class=\"dataframe\">\n",
              "  <thead>\n",
              "    <tr style=\"text-align: right;\">\n",
              "      <th></th>\n",
              "      <th>GameID</th>\n",
              "      <th>date</th>\n",
              "      <th>home</th>\n",
              "      <th>away</th>\n",
              "      <th>homescore</th>\n",
              "      <th>awayscore</th>\n",
              "      <th>ScoreDiff</th>\n",
              "      <th>play_id</th>\n",
              "      <th>Drive</th>\n",
              "      <th>qtr</th>\n",
              "      <th>down</th>\n",
              "      <th>time</th>\n",
              "      <th>TimeUnder</th>\n",
              "      <th>TimeSecs</th>\n",
              "      <th>PlayTimeDiff</th>\n",
              "      <th>yrdln</th>\n",
              "      <th>yrdline100</th>\n",
              "      <th>ydstogo</th>\n",
              "      <th>ydsnet</th>\n",
              "      <th>GoalToGo</th>\n",
              "      <th>FirstDown</th>\n",
              "      <th>posteam</th>\n",
              "      <th>DefensiveTeam</th>\n",
              "      <th>desc</th>\n",
              "      <th>PlayAttempted</th>\n",
              "      <th>Yards.Gained</th>\n",
              "      <th>sp</th>\n",
              "      <th>Touchdown</th>\n",
              "      <th>PlayType</th>\n",
              "      <th>HomeTimeouts_Remaining_Pre</th>\n",
              "      <th>AwayTimeouts_Remaining_Pre</th>\n",
              "      <th>Season</th>\n",
              "      <th>winner</th>\n",
              "      <th>poswin</th>\n",
              "    </tr>\n",
              "  </thead>\n",
              "  <tbody>\n",
              "    <tr>\n",
              "      <th>1</th>\n",
              "      <td>2009091000</td>\n",
              "      <td>2009-09-10</td>\n",
              "      <td>PIT</td>\n",
              "      <td>TEN</td>\n",
              "      <td>13</td>\n",
              "      <td>10</td>\n",
              "      <td>0.0</td>\n",
              "      <td>68</td>\n",
              "      <td>1</td>\n",
              "      <td>1</td>\n",
              "      <td>1.0</td>\n",
              "      <td>14:53</td>\n",
              "      <td>15</td>\n",
              "      <td>3593.0</td>\n",
              "      <td>7.0</td>\n",
              "      <td>42.0</td>\n",
              "      <td>58.0</td>\n",
              "      <td>10</td>\n",
              "      <td>5</td>\n",
              "      <td>0.0</td>\n",
              "      <td>0.0</td>\n",
              "      <td>PIT</td>\n",
              "      <td>TEN</td>\n",
              "      <td>(14:53) B.Roethlisberger pass short left to H....</td>\n",
              "      <td>1</td>\n",
              "      <td>5</td>\n",
              "      <td>0</td>\n",
              "      <td>0</td>\n",
              "      <td>Pass</td>\n",
              "      <td>3</td>\n",
              "      <td>3</td>\n",
              "      <td>2009</td>\n",
              "      <td>PIT</td>\n",
              "      <td>Win</td>\n",
              "    </tr>\n",
              "    <tr>\n",
              "      <th>2</th>\n",
              "      <td>2009091000</td>\n",
              "      <td>2009-09-10</td>\n",
              "      <td>PIT</td>\n",
              "      <td>TEN</td>\n",
              "      <td>13</td>\n",
              "      <td>10</td>\n",
              "      <td>0.0</td>\n",
              "      <td>92</td>\n",
              "      <td>1</td>\n",
              "      <td>1</td>\n",
              "      <td>2.0</td>\n",
              "      <td>14:16</td>\n",
              "      <td>15</td>\n",
              "      <td>3556.0</td>\n",
              "      <td>37.0</td>\n",
              "      <td>47.0</td>\n",
              "      <td>53.0</td>\n",
              "      <td>5</td>\n",
              "      <td>2</td>\n",
              "      <td>0.0</td>\n",
              "      <td>0.0</td>\n",
              "      <td>PIT</td>\n",
              "      <td>TEN</td>\n",
              "      <td>(14:16) W.Parker right end to PIT 44 for -3 ya...</td>\n",
              "      <td>1</td>\n",
              "      <td>-3</td>\n",
              "      <td>0</td>\n",
              "      <td>0</td>\n",
              "      <td>Run</td>\n",
              "      <td>3</td>\n",
              "      <td>3</td>\n",
              "      <td>2009</td>\n",
              "      <td>PIT</td>\n",
              "      <td>Win</td>\n",
              "    </tr>\n",
              "    <tr>\n",
              "      <th>3</th>\n",
              "      <td>2009091000</td>\n",
              "      <td>2009-09-10</td>\n",
              "      <td>PIT</td>\n",
              "      <td>TEN</td>\n",
              "      <td>13</td>\n",
              "      <td>10</td>\n",
              "      <td>0.0</td>\n",
              "      <td>113</td>\n",
              "      <td>1</td>\n",
              "      <td>1</td>\n",
              "      <td>3.0</td>\n",
              "      <td>13:35</td>\n",
              "      <td>14</td>\n",
              "      <td>3515.0</td>\n",
              "      <td>41.0</td>\n",
              "      <td>44.0</td>\n",
              "      <td>56.0</td>\n",
              "      <td>8</td>\n",
              "      <td>2</td>\n",
              "      <td>0.0</td>\n",
              "      <td>0.0</td>\n",
              "      <td>PIT</td>\n",
              "      <td>TEN</td>\n",
              "      <td>(13:35) (Shotgun) B.Roethlisberger pass incomp...</td>\n",
              "      <td>1</td>\n",
              "      <td>0</td>\n",
              "      <td>0</td>\n",
              "      <td>0</td>\n",
              "      <td>Pass</td>\n",
              "      <td>3</td>\n",
              "      <td>3</td>\n",
              "      <td>2009</td>\n",
              "      <td>PIT</td>\n",
              "      <td>Win</td>\n",
              "    </tr>\n",
              "    <tr>\n",
              "      <th>4</th>\n",
              "      <td>2009091000</td>\n",
              "      <td>2009-09-10</td>\n",
              "      <td>PIT</td>\n",
              "      <td>TEN</td>\n",
              "      <td>13</td>\n",
              "      <td>10</td>\n",
              "      <td>0.0</td>\n",
              "      <td>139</td>\n",
              "      <td>1</td>\n",
              "      <td>1</td>\n",
              "      <td>4.0</td>\n",
              "      <td>13:27</td>\n",
              "      <td>14</td>\n",
              "      <td>3507.0</td>\n",
              "      <td>8.0</td>\n",
              "      <td>44.0</td>\n",
              "      <td>56.0</td>\n",
              "      <td>8</td>\n",
              "      <td>2</td>\n",
              "      <td>0.0</td>\n",
              "      <td>1.0</td>\n",
              "      <td>PIT</td>\n",
              "      <td>TEN</td>\n",
              "      <td>(13:27) (Punt formation) D.Sepulveda punts 54 ...</td>\n",
              "      <td>1</td>\n",
              "      <td>0</td>\n",
              "      <td>0</td>\n",
              "      <td>0</td>\n",
              "      <td>Punt</td>\n",
              "      <td>3</td>\n",
              "      <td>3</td>\n",
              "      <td>2009</td>\n",
              "      <td>PIT</td>\n",
              "      <td>Win</td>\n",
              "    </tr>\n",
              "    <tr>\n",
              "      <th>5</th>\n",
              "      <td>2009091000</td>\n",
              "      <td>2009-09-10</td>\n",
              "      <td>PIT</td>\n",
              "      <td>TEN</td>\n",
              "      <td>13</td>\n",
              "      <td>10</td>\n",
              "      <td>0.0</td>\n",
              "      <td>162</td>\n",
              "      <td>2</td>\n",
              "      <td>1</td>\n",
              "      <td>1.0</td>\n",
              "      <td>13:16</td>\n",
              "      <td>14</td>\n",
              "      <td>3496.0</td>\n",
              "      <td>11.0</td>\n",
              "      <td>2.0</td>\n",
              "      <td>98.0</td>\n",
              "      <td>10</td>\n",
              "      <td>0</td>\n",
              "      <td>0.0</td>\n",
              "      <td>0.0</td>\n",
              "      <td>TEN</td>\n",
              "      <td>PIT</td>\n",
              "      <td>(13:16) C.Johnson up the middle to TEN 2 for n...</td>\n",
              "      <td>1</td>\n",
              "      <td>0</td>\n",
              "      <td>0</td>\n",
              "      <td>0</td>\n",
              "      <td>Run</td>\n",
              "      <td>3</td>\n",
              "      <td>3</td>\n",
              "      <td>2009</td>\n",
              "      <td>PIT</td>\n",
              "      <td>Lose</td>\n",
              "    </tr>\n",
              "  </tbody>\n",
              "</table>\n",
              "</div>"
            ],
            "text/plain": [
              "       GameID        date home  ... Season  winner  poswin\n",
              "1  2009091000  2009-09-10  PIT  ...   2009     PIT     Win\n",
              "2  2009091000  2009-09-10  PIT  ...   2009     PIT     Win\n",
              "3  2009091000  2009-09-10  PIT  ...   2009     PIT     Win\n",
              "4  2009091000  2009-09-10  PIT  ...   2009     PIT     Win\n",
              "5  2009091000  2009-09-10  PIT  ...   2009     PIT    Lose\n",
              "\n",
              "[5 rows x 34 columns]"
            ]
          },
          "metadata": {
            "tags": []
          },
          "execution_count": 74
        }
      ]
    },
    {
      "cell_type": "markdown",
      "metadata": {
        "id": "g8DmCO3Om-WF",
        "colab_type": "text"
      },
      "source": [
        "## Prep Data"
      ]
    },
    {
      "cell_type": "markdown",
      "metadata": {
        "id": "jEGJ5dWpncUT",
        "colab_type": "text"
      },
      "source": [
        "\n",
        "This makes the win as the postive prediction in our classification model\n",
        "\n",
        "**Variables to include**\n",
        "\n",
        "*   Quarter\n",
        "*   Down\n",
        "*   Distance to first down\n",
        "*   Position on the field\n",
        "*   Time left in the game\n",
        "*   Score Differential\n"
      ]
    },
    {
      "cell_type": "markdown",
      "metadata": {
        "id": "nzFq4LLWQ2TU",
        "colab_type": "text"
      },
      "source": [
        "### Split the X and Y sets"
      ]
    },
    {
      "cell_type": "code",
      "metadata": {
        "id": "JoEeo6ODDn_M",
        "colab_type": "code",
        "colab": {
          "base_uri": "https://localhost:8080/",
          "height": 35
        },
        "outputId": "998438b7-e2a5-44f3-f435-25de0ff19998"
      },
      "source": [
        "#  get your x variables\n",
        "var = ['qtr', 'down', 'ydstogo', 'yrdline100', 'TimeSecs', 'ScoreDiff']\n",
        "X = nfl[var]\n",
        "\n",
        "# get your y variable\n",
        "y = nfl['poswin']\n",
        "\n",
        "print(X.shape, y.shape)"
      ],
      "execution_count": null,
      "outputs": [
        {
          "output_type": "stream",
          "text": [
            "(358055, 6) (358055,)\n"
          ],
          "name": "stdout"
        }
      ]
    },
    {
      "cell_type": "markdown",
      "metadata": {
        "id": "ONcZcUNhP598",
        "colab_type": "text"
      },
      "source": [
        "### Split Train and Test Datasets"
      ]
    },
    {
      "cell_type": "markdown",
      "metadata": {
        "id": "7UtDD1JQn6EZ",
        "colab_type": "text"
      },
      "source": [
        "We need to create a training and a test dataset. 80% of the data will be in the training set. 20% will be in the test set."
      ]
    },
    {
      "cell_type": "code",
      "metadata": {
        "id": "6VRS6fNPohSo",
        "colab_type": "code",
        "colab": {
          "base_uri": "https://localhost:8080/",
          "height": 54
        },
        "outputId": "39b14590-9e34-4424-db6e-e6f188957173"
      },
      "source": [
        "# Split the data into a train and test dataset. 80/20 split\n",
        "X_train, X_test, y_train, y_test = train_test_split(X, y, test_size=0.2)\n",
        "\n",
        "# print the shape of the X_train and y_train datasets\n",
        "print(X_train.shape, y_train.shape)\n",
        "\n",
        "# print the shape of the X_test and y_test datasets\n",
        "print(X_test.shape, y_test.shape)"
      ],
      "execution_count": null,
      "outputs": [
        {
          "output_type": "stream",
          "text": [
            "(286444, 6) (286444,)\n",
            "(71611, 6) (71611,)\n"
          ],
          "name": "stdout"
        }
      ]
    },
    {
      "cell_type": "markdown",
      "metadata": {
        "id": "ogD3zJeFUnXh",
        "colab_type": "text"
      },
      "source": [
        "# Logistic Model"
      ]
    },
    {
      "cell_type": "code",
      "metadata": {
        "id": "e_m2hdDRV9ya",
        "colab_type": "code",
        "colab": {
          "base_uri": "https://localhost:8080/",
          "height": 419
        },
        "outputId": "08644857-4094-4223-dc08-1c97e5cf7abb"
      },
      "source": [
        "# 10 Fold Cross Validation. \n",
        "num_instances = len(X)\n",
        "seed = 7\n",
        "kfold = model_selection.KFold(n_splits=10, random_state=seed)\n",
        "model = LogisticRegression()\n",
        "results = model_selection.cross_val_score(model, X_train, y_train, cv=kfold)\n",
        "print(\"Accuracy: %.3f%% (%.3f%%)\" % (results.mean()*100.0, results.std()*100.0))\n"
      ],
      "execution_count": null,
      "outputs": [
        {
          "output_type": "stream",
          "text": [
            "/usr/local/lib/python3.6/dist-packages/sklearn/linear_model/logistic.py:432: FutureWarning: Default solver will be changed to 'lbfgs' in 0.22. Specify a solver to silence this warning.\n",
            "  FutureWarning)\n",
            "/usr/local/lib/python3.6/dist-packages/sklearn/linear_model/logistic.py:432: FutureWarning: Default solver will be changed to 'lbfgs' in 0.22. Specify a solver to silence this warning.\n",
            "  FutureWarning)\n",
            "/usr/local/lib/python3.6/dist-packages/sklearn/linear_model/logistic.py:432: FutureWarning: Default solver will be changed to 'lbfgs' in 0.22. Specify a solver to silence this warning.\n",
            "  FutureWarning)\n",
            "/usr/local/lib/python3.6/dist-packages/sklearn/linear_model/logistic.py:432: FutureWarning: Default solver will be changed to 'lbfgs' in 0.22. Specify a solver to silence this warning.\n",
            "  FutureWarning)\n",
            "/usr/local/lib/python3.6/dist-packages/sklearn/linear_model/logistic.py:432: FutureWarning: Default solver will be changed to 'lbfgs' in 0.22. Specify a solver to silence this warning.\n",
            "  FutureWarning)\n",
            "/usr/local/lib/python3.6/dist-packages/sklearn/linear_model/logistic.py:432: FutureWarning: Default solver will be changed to 'lbfgs' in 0.22. Specify a solver to silence this warning.\n",
            "  FutureWarning)\n",
            "/usr/local/lib/python3.6/dist-packages/sklearn/linear_model/logistic.py:432: FutureWarning: Default solver will be changed to 'lbfgs' in 0.22. Specify a solver to silence this warning.\n",
            "  FutureWarning)\n",
            "/usr/local/lib/python3.6/dist-packages/sklearn/linear_model/logistic.py:432: FutureWarning: Default solver will be changed to 'lbfgs' in 0.22. Specify a solver to silence this warning.\n",
            "  FutureWarning)\n",
            "/usr/local/lib/python3.6/dist-packages/sklearn/linear_model/logistic.py:432: FutureWarning: Default solver will be changed to 'lbfgs' in 0.22. Specify a solver to silence this warning.\n",
            "  FutureWarning)\n",
            "/usr/local/lib/python3.6/dist-packages/sklearn/linear_model/logistic.py:432: FutureWarning: Default solver will be changed to 'lbfgs' in 0.22. Specify a solver to silence this warning.\n",
            "  FutureWarning)\n"
          ],
          "name": "stderr"
        },
        {
          "output_type": "stream",
          "text": [
            "Accuracy: 74.385% (0.282%)\n"
          ],
          "name": "stdout"
        }
      ]
    },
    {
      "cell_type": "code",
      "metadata": {
        "id": "noX2Gql4WVrH",
        "colab_type": "code",
        "colab": {
          "base_uri": "https://localhost:8080/",
          "height": 165
        },
        "outputId": "4d591216-79d3-4dda-9da9-d0d22145c06e"
      },
      "source": [
        "model.fit(X_train, y_train)"
      ],
      "execution_count": null,
      "outputs": [
        {
          "output_type": "stream",
          "text": [
            "/usr/local/lib/python3.6/dist-packages/sklearn/linear_model/logistic.py:432: FutureWarning: Default solver will be changed to 'lbfgs' in 0.22. Specify a solver to silence this warning.\n",
            "  FutureWarning)\n"
          ],
          "name": "stderr"
        },
        {
          "output_type": "execute_result",
          "data": {
            "text/plain": [
              "LogisticRegression(C=1.0, class_weight=None, dual=False, fit_intercept=True,\n",
              "                   intercept_scaling=1, l1_ratio=None, max_iter=100,\n",
              "                   multi_class='warn', n_jobs=None, penalty='l2',\n",
              "                   random_state=None, solver='warn', tol=0.0001, verbose=0,\n",
              "                   warm_start=False)"
            ]
          },
          "metadata": {
            "tags": []
          },
          "execution_count": 104
        }
      ]
    },
    {
      "cell_type": "code",
      "metadata": {
        "id": "HVjz0EQQYtyr",
        "colab_type": "code",
        "colab": {}
      },
      "source": [
        "predictions = model.predict_proba(X)"
      ],
      "execution_count": null,
      "outputs": []
    },
    {
      "cell_type": "code",
      "metadata": {
        "id": "AIiqy9ozaZ42",
        "colab_type": "code",
        "colab": {}
      },
      "source": [
        "LoseProb = predictions[:,0]\n",
        "WinProb = predictions[:,1]\n"
      ],
      "execution_count": null,
      "outputs": []
    },
    {
      "cell_type": "code",
      "metadata": {
        "id": "uAhqglQEcJGx",
        "colab_type": "code",
        "colab": {}
      },
      "source": [
        "nfl['WinProb'] = WinProb\n",
        "nfl['LoseProb'] = LoseProb"
      ],
      "execution_count": null,
      "outputs": []
    },
    {
      "cell_type": "code",
      "metadata": {
        "id": "J2ASj7oab34F",
        "colab_type": "code",
        "colab": {
          "base_uri": "https://localhost:8080/",
          "height": 633
        },
        "outputId": "a88fb211-ac0a-4087-b4ed-d7a56aa3f4bb"
      },
      "source": [
        "nfl.tail()"
      ],
      "execution_count": null,
      "outputs": [
        {
          "output_type": "execute_result",
          "data": {
            "text/html": [
              "<div>\n",
              "<style scoped>\n",
              "    .dataframe tbody tr th:only-of-type {\n",
              "        vertical-align: middle;\n",
              "    }\n",
              "\n",
              "    .dataframe tbody tr th {\n",
              "        vertical-align: top;\n",
              "    }\n",
              "\n",
              "    .dataframe thead th {\n",
              "        text-align: right;\n",
              "    }\n",
              "</style>\n",
              "<table border=\"1\" class=\"dataframe\">\n",
              "  <thead>\n",
              "    <tr style=\"text-align: right;\">\n",
              "      <th></th>\n",
              "      <th>GameID</th>\n",
              "      <th>date</th>\n",
              "      <th>home</th>\n",
              "      <th>away</th>\n",
              "      <th>homescore</th>\n",
              "      <th>awayscore</th>\n",
              "      <th>ScoreDiff</th>\n",
              "      <th>play_id</th>\n",
              "      <th>Drive</th>\n",
              "      <th>qtr</th>\n",
              "      <th>down</th>\n",
              "      <th>time</th>\n",
              "      <th>TimeUnder</th>\n",
              "      <th>TimeSecs</th>\n",
              "      <th>PlayTimeDiff</th>\n",
              "      <th>yrdln</th>\n",
              "      <th>yrdline100</th>\n",
              "      <th>ydstogo</th>\n",
              "      <th>ydsnet</th>\n",
              "      <th>GoalToGo</th>\n",
              "      <th>FirstDown</th>\n",
              "      <th>posteam</th>\n",
              "      <th>DefensiveTeam</th>\n",
              "      <th>desc</th>\n",
              "      <th>PlayAttempted</th>\n",
              "      <th>Yards.Gained</th>\n",
              "      <th>sp</th>\n",
              "      <th>Touchdown</th>\n",
              "      <th>PlayType</th>\n",
              "      <th>HomeTimeouts_Remaining_Pre</th>\n",
              "      <th>AwayTimeouts_Remaining_Pre</th>\n",
              "      <th>Season</th>\n",
              "      <th>winner</th>\n",
              "      <th>poswin</th>\n",
              "      <th>WinProb</th>\n",
              "      <th>LoseProb</th>\n",
              "    </tr>\n",
              "  </thead>\n",
              "  <tbody>\n",
              "    <tr>\n",
              "      <th>452828</th>\n",
              "      <td>2018123011</td>\n",
              "      <td>2018-12-30</td>\n",
              "      <td>TEN</td>\n",
              "      <td>IND</td>\n",
              "      <td>17</td>\n",
              "      <td>33</td>\n",
              "      <td>-17.0</td>\n",
              "      <td>4219</td>\n",
              "      <td>23</td>\n",
              "      <td>4</td>\n",
              "      <td>1.0</td>\n",
              "      <td>02:08</td>\n",
              "      <td>3</td>\n",
              "      <td>128.0</td>\n",
              "      <td>9.0</td>\n",
              "      <td>24.0</td>\n",
              "      <td>76.0</td>\n",
              "      <td>20</td>\n",
              "      <td>-6</td>\n",
              "      <td>0.0</td>\n",
              "      <td>0.0</td>\n",
              "      <td>TEN</td>\n",
              "      <td>IND</td>\n",
              "      <td>(2:08) (Shotgun) B.Gabbert pass short left to ...</td>\n",
              "      <td>1</td>\n",
              "      <td>4</td>\n",
              "      <td>0</td>\n",
              "      <td>0</td>\n",
              "      <td>Pass</td>\n",
              "      <td>2</td>\n",
              "      <td>3</td>\n",
              "      <td>2018</td>\n",
              "      <td>IND</td>\n",
              "      <td>Lose</td>\n",
              "      <td>0.049936</td>\n",
              "      <td>0.950064</td>\n",
              "    </tr>\n",
              "    <tr>\n",
              "      <th>452830</th>\n",
              "      <td>2018123011</td>\n",
              "      <td>2018-12-30</td>\n",
              "      <td>TEN</td>\n",
              "      <td>IND</td>\n",
              "      <td>17</td>\n",
              "      <td>33</td>\n",
              "      <td>-17.0</td>\n",
              "      <td>4261</td>\n",
              "      <td>23</td>\n",
              "      <td>4</td>\n",
              "      <td>2.0</td>\n",
              "      <td>02:00</td>\n",
              "      <td>2</td>\n",
              "      <td>120.0</td>\n",
              "      <td>0.0</td>\n",
              "      <td>28.0</td>\n",
              "      <td>72.0</td>\n",
              "      <td>16</td>\n",
              "      <td>-6</td>\n",
              "      <td>0.0</td>\n",
              "      <td>1.0</td>\n",
              "      <td>TEN</td>\n",
              "      <td>IND</td>\n",
              "      <td>(2:00) (Shotgun) B.Gabbert pass short middle i...</td>\n",
              "      <td>1</td>\n",
              "      <td>0</td>\n",
              "      <td>0</td>\n",
              "      <td>0</td>\n",
              "      <td>Pass</td>\n",
              "      <td>2</td>\n",
              "      <td>3</td>\n",
              "      <td>2018</td>\n",
              "      <td>IND</td>\n",
              "      <td>Lose</td>\n",
              "      <td>0.048146</td>\n",
              "      <td>0.951854</td>\n",
              "    </tr>\n",
              "    <tr>\n",
              "      <th>452831</th>\n",
              "      <td>2018123011</td>\n",
              "      <td>2018-12-30</td>\n",
              "      <td>TEN</td>\n",
              "      <td>IND</td>\n",
              "      <td>17</td>\n",
              "      <td>33</td>\n",
              "      <td>17.0</td>\n",
              "      <td>4288</td>\n",
              "      <td>24</td>\n",
              "      <td>4</td>\n",
              "      <td>1.0</td>\n",
              "      <td>01:50</td>\n",
              "      <td>2</td>\n",
              "      <td>110.0</td>\n",
              "      <td>10.0</td>\n",
              "      <td>8.0</td>\n",
              "      <td>8.0</td>\n",
              "      <td>8</td>\n",
              "      <td>-3</td>\n",
              "      <td>1.0</td>\n",
              "      <td>0.0</td>\n",
              "      <td>IND</td>\n",
              "      <td>TEN</td>\n",
              "      <td>(1:50) A.Luck kneels to TEN 9 for -1 yards.</td>\n",
              "      <td>1</td>\n",
              "      <td>-1</td>\n",
              "      <td>0</td>\n",
              "      <td>0</td>\n",
              "      <td>QB Kneel</td>\n",
              "      <td>2</td>\n",
              "      <td>3</td>\n",
              "      <td>2018</td>\n",
              "      <td>IND</td>\n",
              "      <td>Win</td>\n",
              "      <td>0.976745</td>\n",
              "      <td>0.023255</td>\n",
              "    </tr>\n",
              "    <tr>\n",
              "      <th>452832</th>\n",
              "      <td>2018123011</td>\n",
              "      <td>2018-12-30</td>\n",
              "      <td>TEN</td>\n",
              "      <td>IND</td>\n",
              "      <td>17</td>\n",
              "      <td>33</td>\n",
              "      <td>17.0</td>\n",
              "      <td>4310</td>\n",
              "      <td>24</td>\n",
              "      <td>4</td>\n",
              "      <td>2.0</td>\n",
              "      <td>01:06</td>\n",
              "      <td>2</td>\n",
              "      <td>66.0</td>\n",
              "      <td>44.0</td>\n",
              "      <td>9.0</td>\n",
              "      <td>9.0</td>\n",
              "      <td>9</td>\n",
              "      <td>-3</td>\n",
              "      <td>1.0</td>\n",
              "      <td>0.0</td>\n",
              "      <td>IND</td>\n",
              "      <td>TEN</td>\n",
              "      <td>(1:06) A.Luck kneels to TEN 10 for -1 yards.</td>\n",
              "      <td>1</td>\n",
              "      <td>-1</td>\n",
              "      <td>0</td>\n",
              "      <td>0</td>\n",
              "      <td>QB Kneel</td>\n",
              "      <td>2</td>\n",
              "      <td>3</td>\n",
              "      <td>2018</td>\n",
              "      <td>IND</td>\n",
              "      <td>Win</td>\n",
              "      <td>0.973743</td>\n",
              "      <td>0.026257</td>\n",
              "    </tr>\n",
              "    <tr>\n",
              "      <th>452833</th>\n",
              "      <td>2018123011</td>\n",
              "      <td>2018-12-30</td>\n",
              "      <td>TEN</td>\n",
              "      <td>IND</td>\n",
              "      <td>17</td>\n",
              "      <td>33</td>\n",
              "      <td>17.0</td>\n",
              "      <td>4332</td>\n",
              "      <td>24</td>\n",
              "      <td>4</td>\n",
              "      <td>3.0</td>\n",
              "      <td>00:25</td>\n",
              "      <td>1</td>\n",
              "      <td>25.0</td>\n",
              "      <td>41.0</td>\n",
              "      <td>10.0</td>\n",
              "      <td>10.0</td>\n",
              "      <td>10</td>\n",
              "      <td>-3</td>\n",
              "      <td>1.0</td>\n",
              "      <td>0.0</td>\n",
              "      <td>IND</td>\n",
              "      <td>TEN</td>\n",
              "      <td>(:25) A.Luck kneels to TEN 11 for -1 yards.</td>\n",
              "      <td>1</td>\n",
              "      <td>-1</td>\n",
              "      <td>0</td>\n",
              "      <td>0</td>\n",
              "      <td>QB Kneel</td>\n",
              "      <td>2</td>\n",
              "      <td>3</td>\n",
              "      <td>2018</td>\n",
              "      <td>IND</td>\n",
              "      <td>Win</td>\n",
              "      <td>0.970373</td>\n",
              "      <td>0.029627</td>\n",
              "    </tr>\n",
              "  </tbody>\n",
              "</table>\n",
              "</div>"
            ],
            "text/plain": [
              "            GameID        date home away  ...  winner  poswin   WinProb  LoseProb\n",
              "452828  2018123011  2018-12-30  TEN  IND  ...     IND    Lose  0.049936  0.950064\n",
              "452830  2018123011  2018-12-30  TEN  IND  ...     IND    Lose  0.048146  0.951854\n",
              "452831  2018123011  2018-12-30  TEN  IND  ...     IND     Win  0.976745  0.023255\n",
              "452832  2018123011  2018-12-30  TEN  IND  ...     IND     Win  0.973743  0.026257\n",
              "452833  2018123011  2018-12-30  TEN  IND  ...     IND     Win  0.970373  0.029627\n",
              "\n",
              "[5 rows x 36 columns]"
            ]
          },
          "metadata": {
            "tags": []
          },
          "execution_count": 175
        }
      ]
    },
    {
      "cell_type": "markdown",
      "metadata": {
        "id": "4YPQRx13nu2i",
        "colab_type": "text"
      },
      "source": [
        "## Build Models"
      ]
    },
    {
      "cell_type": "code",
      "metadata": {
        "id": "3dsqnBU-UJpi",
        "colab_type": "code",
        "colab": {}
      },
      "source": [
        "# logistic regression\n",
        "log_model = LogisticRegression()"
      ],
      "execution_count": null,
      "outputs": []
    },
    {
      "cell_type": "code",
      "metadata": {
        "id": "Z4qDd41EUdPB",
        "colab_type": "code",
        "colab": {
          "base_uri": "https://localhost:8080/",
          "height": 351
        },
        "outputId": "dde697f3-2e3d-4bdb-9e21-9d8e697875a8"
      },
      "source": [
        "# Set classes for all plots\n",
        "classes = ['Win', 'Lose']\n",
        "# Instantiate the visualizer with the classification model\n",
        "visualizer = ROCAUC(log_model, classes=classes)\n",
        "\n",
        "\n",
        "visualizer.fit(X_train, y_train)  # Fit the training data to the visualizer\n",
        "visualizer.score(X_test, y_test)  # Evaluate the model on the test data\n",
        "g = visualizer.poof()   "
      ],
      "execution_count": null,
      "outputs": [
        {
          "output_type": "stream",
          "text": [
            "/usr/local/lib/python3.6/dist-packages/sklearn/linear_model/logistic.py:432: FutureWarning: Default solver will be changed to 'lbfgs' in 0.22. Specify a solver to silence this warning.\n",
            "  FutureWarning)\n"
          ],
          "name": "stderr"
        },
        {
          "output_type": "display_data",
          "data": {
            "image/png": "[encoded data removed]",
            "text/plain": [
              "<Figure size 432x288 with 1 Axes>"
            ]
          },
          "metadata": {
            "tags": []
          }
        }
      ]
    },
    {
      "cell_type": "code",
      "metadata": {
        "id": "OeIPfS_dUlww",
        "colab_type": "code",
        "colab": {
          "base_uri": "https://localhost:8080/",
          "height": 426
        },
        "outputId": "89eb3e31-58ab-4d07-e370-00f84d0b3da2"
      },
      "source": [
        "# Instantiate the classification model and visualizer\n",
        "visualizer = ClassificationReport(log_model, classes=classes, support=True)\n",
        "\n",
        "visualizer.fit(X_train, y_train)  # Fit the visualizer and the model\n",
        "visualizer.score(X_test, y_test)  # Evaluate the model on the test data\n",
        "g = visualizer.poof()             # Draw/show/poof the data\n",
        "\n",
        "print('\\nprecision = proportion of returned results that are relevant')  \n",
        "print('recall = proportion of relevant documents that are returned')   \n",
        "print('f1-score = harmonic mean of precision and recall')"
      ],
      "execution_count": null,
      "outputs": [
        {
          "output_type": "stream",
          "text": [
            "/usr/local/lib/python3.6/dist-packages/sklearn/linear_model/logistic.py:432: FutureWarning: Default solver will be changed to 'lbfgs' in 0.22. Specify a solver to silence this warning.\n",
            "  FutureWarning)\n"
          ],
          "name": "stderr"
        },
        {
          "output_type": "display_data",
          "data": {
            "image/png": "[encoded data removed]",
            "text/plain": [
              "<Figure size 432x288 with 2 Axes>"
            ]
          },
          "metadata": {
            "tags": []
          }
        },
        {
          "output_type": "stream",
          "text": [
            "\n",
            "precision = proportion of returned results that are relevant\n",
            "recall = proportion of relevant documents that are returned\n",
            "f1-score = harmonic mean of precision and recall\n"
          ],
          "name": "stdout"
        }
      ]
    },
    {
      "cell_type": "code",
      "metadata": {
        "id": "NCNFqkcMV3ik",
        "colab_type": "code",
        "colab": {}
      },
      "source": [
        "predict_proba"
      ],
      "execution_count": null,
      "outputs": []
    },
    {
      "cell_type": "markdown",
      "metadata": {
        "id": "PYeueFych0on",
        "colab_type": "text"
      },
      "source": [
        "# Plot One Game"
      ]
    },
    {
      "cell_type": "markdown",
      "metadata": {
        "id": "eLbkw747iusd",
        "colab_type": "text"
      },
      "source": [
        "New England vs Kansas City\n",
        "\n",
        "Date = 2018-10-14\n",
        "\n",
        "Final Score = 43 - 40\n",
        "\n",
        "Game ID = 2018101412"
      ]
    },
    {
      "cell_type": "code",
      "metadata": {
        "id": "_i18yXYBh3Mm",
        "colab_type": "code",
        "colab": {}
      },
      "source": [
        "# filter to the game\n",
        "kc_vs_ne = nfl[nfl['GameID'] == 2018101412]"
      ],
      "execution_count": null,
      "outputs": []
    },
    {
      "cell_type": "code",
      "metadata": {
        "id": "g-ksYTlXjmDb",
        "colab_type": "code",
        "colab": {
          "base_uri": "https://localhost:8080/",
          "height": 235
        },
        "outputId": "9e12a763-68f9-4089-f52a-17b9671b7805"
      },
      "source": [
        "# add a home win probability and an away win probability column\n",
        "kc_vs_ne['Home_WP'] = np.where(kc_vs_ne['poswin'] == 'Lose', 1-kc_vs_ne['WinProb'], kc_vs_ne['WinProb'])\n",
        "kc_vs_ne['Away_WP'] = 1-kc_vs_ne['Home_WP']"
      ],
      "execution_count": null,
      "outputs": [
        {
          "output_type": "stream",
          "text": [
            "/usr/local/lib/python3.6/dist-packages/ipykernel_launcher.py:1: SettingWithCopyWarning: \n",
            "A value is trying to be set on a copy of a slice from a DataFrame.\n",
            "Try using .loc[row_indexer,col_indexer] = value instead\n",
            "\n",
            "See the caveats in the documentation: http://pandas.pydata.org/pandas-docs/stable/indexing.html#indexing-view-versus-copy\n",
            "  \"\"\"Entry point for launching an IPython kernel.\n",
            "/usr/local/lib/python3.6/dist-packages/ipykernel_launcher.py:2: SettingWithCopyWarning: \n",
            "A value is trying to be set on a copy of a slice from a DataFrame.\n",
            "Try using .loc[row_indexer,col_indexer] = value instead\n",
            "\n",
            "See the caveats in the documentation: http://pandas.pydata.org/pandas-docs/stable/indexing.html#indexing-view-versus-copy\n",
            "  \n"
          ],
          "name": "stderr"
        }
      ]
    },
    {
      "cell_type": "code",
      "metadata": {
        "id": "mjFAHxg1iFAd",
        "colab_type": "code",
        "colab": {
          "base_uri": "https://localhost:8080/",
          "height": 1025
        },
        "outputId": "13631ea3-a56a-4835-dd3e-3b5422e2834b"
      },
      "source": [
        "# view the last 10 plays in the game\n",
        "kc_vs_ne.tail(10)"
      ],
      "execution_count": null,
      "outputs": [
        {
          "output_type": "execute_result",
          "data": {
            "text/html": [
              "<div>\n",
              "<style scoped>\n",
              "    .dataframe tbody tr th:only-of-type {\n",
              "        vertical-align: middle;\n",
              "    }\n",
              "\n",
              "    .dataframe tbody tr th {\n",
              "        vertical-align: top;\n",
              "    }\n",
              "\n",
              "    .dataframe thead th {\n",
              "        text-align: right;\n",
              "    }\n",
              "</style>\n",
              "<table border=\"1\" class=\"dataframe\">\n",
              "  <thead>\n",
              "    <tr style=\"text-align: right;\">\n",
              "      <th></th>\n",
              "      <th>GameID</th>\n",
              "      <th>date</th>\n",
              "      <th>home</th>\n",
              "      <th>away</th>\n",
              "      <th>homescore</th>\n",
              "      <th>awayscore</th>\n",
              "      <th>ScoreDiff</th>\n",
              "      <th>play_id</th>\n",
              "      <th>Drive</th>\n",
              "      <th>qtr</th>\n",
              "      <th>down</th>\n",
              "      <th>time</th>\n",
              "      <th>TimeUnder</th>\n",
              "      <th>TimeSecs</th>\n",
              "      <th>PlayTimeDiff</th>\n",
              "      <th>yrdln</th>\n",
              "      <th>yrdline100</th>\n",
              "      <th>ydstogo</th>\n",
              "      <th>ydsnet</th>\n",
              "      <th>GoalToGo</th>\n",
              "      <th>FirstDown</th>\n",
              "      <th>posteam</th>\n",
              "      <th>DefensiveTeam</th>\n",
              "      <th>desc</th>\n",
              "      <th>PlayAttempted</th>\n",
              "      <th>Yards.Gained</th>\n",
              "      <th>sp</th>\n",
              "      <th>Touchdown</th>\n",
              "      <th>PlayType</th>\n",
              "      <th>HomeTimeouts_Remaining_Pre</th>\n",
              "      <th>AwayTimeouts_Remaining_Pre</th>\n",
              "      <th>Season</th>\n",
              "      <th>winner</th>\n",
              "      <th>poswin</th>\n",
              "      <th>WinProb</th>\n",
              "      <th>LoseProb</th>\n",
              "      <th>Home_WP</th>\n",
              "      <th>Away_WP</th>\n",
              "    </tr>\n",
              "  </thead>\n",
              "  <tbody>\n",
              "    <tr>\n",
              "      <th>424256</th>\n",
              "      <td>2018101412</td>\n",
              "      <td>2018-10-14</td>\n",
              "      <td>NE</td>\n",
              "      <td>KC</td>\n",
              "      <td>43</td>\n",
              "      <td>40</td>\n",
              "      <td>4.0</td>\n",
              "      <td>3716</td>\n",
              "      <td>21</td>\n",
              "      <td>4</td>\n",
              "      <td>3.0</td>\n",
              "      <td>03:25</td>\n",
              "      <td>4</td>\n",
              "      <td>205.0</td>\n",
              "      <td>0.0</td>\n",
              "      <td>32.0</td>\n",
              "      <td>32.0</td>\n",
              "      <td>5</td>\n",
              "      <td>47</td>\n",
              "      <td>0.0</td>\n",
              "      <td>0.0</td>\n",
              "      <td>NE</td>\n",
              "      <td>KC</td>\n",
              "      <td>(3:25) (Shotgun) T.Brady pass incomplete deep ...</td>\n",
              "      <td>1</td>\n",
              "      <td>0</td>\n",
              "      <td>0</td>\n",
              "      <td>0</td>\n",
              "      <td>Pass</td>\n",
              "      <td>3</td>\n",
              "      <td>1</td>\n",
              "      <td>2018</td>\n",
              "      <td>NE</td>\n",
              "      <td>Win</td>\n",
              "      <td>0.742277</td>\n",
              "      <td>0.257723</td>\n",
              "      <td>0.742277</td>\n",
              "      <td>0.257723</td>\n",
              "    </tr>\n",
              "    <tr>\n",
              "      <th>424257</th>\n",
              "      <td>2018101412</td>\n",
              "      <td>2018-10-14</td>\n",
              "      <td>NE</td>\n",
              "      <td>KC</td>\n",
              "      <td>43</td>\n",
              "      <td>40</td>\n",
              "      <td>4.0</td>\n",
              "      <td>3738</td>\n",
              "      <td>21</td>\n",
              "      <td>4</td>\n",
              "      <td>4.0</td>\n",
              "      <td>03:19</td>\n",
              "      <td>4</td>\n",
              "      <td>199.0</td>\n",
              "      <td>6.0</td>\n",
              "      <td>32.0</td>\n",
              "      <td>32.0</td>\n",
              "      <td>5</td>\n",
              "      <td>47</td>\n",
              "      <td>0.0</td>\n",
              "      <td>0.0</td>\n",
              "      <td>NE</td>\n",
              "      <td>KC</td>\n",
              "      <td>(3:19) S.Gostkowski 50 yard field goal is GOOD...</td>\n",
              "      <td>1</td>\n",
              "      <td>0</td>\n",
              "      <td>1</td>\n",
              "      <td>0</td>\n",
              "      <td>Field Goal</td>\n",
              "      <td>3</td>\n",
              "      <td>1</td>\n",
              "      <td>2018</td>\n",
              "      <td>NE</td>\n",
              "      <td>Win</td>\n",
              "      <td>0.721728</td>\n",
              "      <td>0.278272</td>\n",
              "      <td>0.721728</td>\n",
              "      <td>0.278272</td>\n",
              "    </tr>\n",
              "    <tr>\n",
              "      <th>424259</th>\n",
              "      <td>2018101412</td>\n",
              "      <td>2018-10-14</td>\n",
              "      <td>NE</td>\n",
              "      <td>KC</td>\n",
              "      <td>43</td>\n",
              "      <td>40</td>\n",
              "      <td>-7.0</td>\n",
              "      <td>3776</td>\n",
              "      <td>22</td>\n",
              "      <td>4</td>\n",
              "      <td>1.0</td>\n",
              "      <td>03:15</td>\n",
              "      <td>4</td>\n",
              "      <td>195.0</td>\n",
              "      <td>0.0</td>\n",
              "      <td>25.0</td>\n",
              "      <td>75.0</td>\n",
              "      <td>10</td>\n",
              "      <td>75</td>\n",
              "      <td>0.0</td>\n",
              "      <td>0.0</td>\n",
              "      <td>KC</td>\n",
              "      <td>NE</td>\n",
              "      <td>(3:15) P.Mahomes pass deep left to T.Hill for ...</td>\n",
              "      <td>1</td>\n",
              "      <td>75</td>\n",
              "      <td>1</td>\n",
              "      <td>1</td>\n",
              "      <td>Pass</td>\n",
              "      <td>3</td>\n",
              "      <td>1</td>\n",
              "      <td>2018</td>\n",
              "      <td>NE</td>\n",
              "      <td>Lose</td>\n",
              "      <td>0.251553</td>\n",
              "      <td>0.748447</td>\n",
              "      <td>0.748447</td>\n",
              "      <td>0.251553</td>\n",
              "    </tr>\n",
              "    <tr>\n",
              "      <th>424262</th>\n",
              "      <td>2018101412</td>\n",
              "      <td>2018-10-14</td>\n",
              "      <td>NE</td>\n",
              "      <td>KC</td>\n",
              "      <td>43</td>\n",
              "      <td>40</td>\n",
              "      <td>0.0</td>\n",
              "      <td>3827</td>\n",
              "      <td>23</td>\n",
              "      <td>4</td>\n",
              "      <td>1.0</td>\n",
              "      <td>03:03</td>\n",
              "      <td>4</td>\n",
              "      <td>183.0</td>\n",
              "      <td>0.0</td>\n",
              "      <td>25.0</td>\n",
              "      <td>75.0</td>\n",
              "      <td>10</td>\n",
              "      <td>65</td>\n",
              "      <td>0.0</td>\n",
              "      <td>0.0</td>\n",
              "      <td>NE</td>\n",
              "      <td>KC</td>\n",
              "      <td>(3:03) J.Edelman left end to NE 32 for 7 yards...</td>\n",
              "      <td>1</td>\n",
              "      <td>7</td>\n",
              "      <td>0</td>\n",
              "      <td>0</td>\n",
              "      <td>Run</td>\n",
              "      <td>3</td>\n",
              "      <td>1</td>\n",
              "      <td>2018</td>\n",
              "      <td>NE</td>\n",
              "      <td>Win</td>\n",
              "      <td>0.535592</td>\n",
              "      <td>0.464408</td>\n",
              "      <td>0.535592</td>\n",
              "      <td>0.464408</td>\n",
              "    </tr>\n",
              "    <tr>\n",
              "      <th>424263</th>\n",
              "      <td>2018101412</td>\n",
              "      <td>2018-10-14</td>\n",
              "      <td>NE</td>\n",
              "      <td>KC</td>\n",
              "      <td>43</td>\n",
              "      <td>40</td>\n",
              "      <td>0.0</td>\n",
              "      <td>3848</td>\n",
              "      <td>23</td>\n",
              "      <td>4</td>\n",
              "      <td>2.0</td>\n",
              "      <td>02:20</td>\n",
              "      <td>3</td>\n",
              "      <td>140.0</td>\n",
              "      <td>43.0</td>\n",
              "      <td>32.0</td>\n",
              "      <td>68.0</td>\n",
              "      <td>3</td>\n",
              "      <td>65</td>\n",
              "      <td>0.0</td>\n",
              "      <td>0.0</td>\n",
              "      <td>NE</td>\n",
              "      <td>KC</td>\n",
              "      <td>(2:20) S.Michel up the middle to NE 34 for 2 y...</td>\n",
              "      <td>1</td>\n",
              "      <td>2</td>\n",
              "      <td>0</td>\n",
              "      <td>0</td>\n",
              "      <td>Run</td>\n",
              "      <td>3</td>\n",
              "      <td>1</td>\n",
              "      <td>2018</td>\n",
              "      <td>NE</td>\n",
              "      <td>Win</td>\n",
              "      <td>0.537769</td>\n",
              "      <td>0.462231</td>\n",
              "      <td>0.537769</td>\n",
              "      <td>0.462231</td>\n",
              "    </tr>\n",
              "    <tr>\n",
              "      <th>424265</th>\n",
              "      <td>2018101412</td>\n",
              "      <td>2018-10-14</td>\n",
              "      <td>NE</td>\n",
              "      <td>KC</td>\n",
              "      <td>43</td>\n",
              "      <td>40</td>\n",
              "      <td>0.0</td>\n",
              "      <td>3886</td>\n",
              "      <td>23</td>\n",
              "      <td>4</td>\n",
              "      <td>3.0</td>\n",
              "      <td>02:00</td>\n",
              "      <td>2</td>\n",
              "      <td>120.0</td>\n",
              "      <td>0.0</td>\n",
              "      <td>34.0</td>\n",
              "      <td>66.0</td>\n",
              "      <td>1</td>\n",
              "      <td>65</td>\n",
              "      <td>0.0</td>\n",
              "      <td>1.0</td>\n",
              "      <td>NE</td>\n",
              "      <td>KC</td>\n",
              "      <td>(2:00) S.Michel left tackle to NE 36 for 2 yar...</td>\n",
              "      <td>1</td>\n",
              "      <td>2</td>\n",
              "      <td>0</td>\n",
              "      <td>0</td>\n",
              "      <td>Run</td>\n",
              "      <td>3</td>\n",
              "      <td>1</td>\n",
              "      <td>2018</td>\n",
              "      <td>NE</td>\n",
              "      <td>Win</td>\n",
              "      <td>0.519675</td>\n",
              "      <td>0.480325</td>\n",
              "      <td>0.519675</td>\n",
              "      <td>0.480325</td>\n",
              "    </tr>\n",
              "    <tr>\n",
              "      <th>424266</th>\n",
              "      <td>2018101412</td>\n",
              "      <td>2018-10-14</td>\n",
              "      <td>NE</td>\n",
              "      <td>KC</td>\n",
              "      <td>43</td>\n",
              "      <td>40</td>\n",
              "      <td>0.0</td>\n",
              "      <td>3907</td>\n",
              "      <td>23</td>\n",
              "      <td>4</td>\n",
              "      <td>1.0</td>\n",
              "      <td>01:29</td>\n",
              "      <td>2</td>\n",
              "      <td>89.0</td>\n",
              "      <td>31.0</td>\n",
              "      <td>36.0</td>\n",
              "      <td>64.0</td>\n",
              "      <td>10</td>\n",
              "      <td>65</td>\n",
              "      <td>0.0</td>\n",
              "      <td>1.0</td>\n",
              "      <td>NE</td>\n",
              "      <td>KC</td>\n",
              "      <td>(1:29) (Shotgun) T.Brady pass short left to J....</td>\n",
              "      <td>1</td>\n",
              "      <td>16</td>\n",
              "      <td>0</td>\n",
              "      <td>0</td>\n",
              "      <td>Pass</td>\n",
              "      <td>3</td>\n",
              "      <td>1</td>\n",
              "      <td>2018</td>\n",
              "      <td>NE</td>\n",
              "      <td>Win</td>\n",
              "      <td>0.557677</td>\n",
              "      <td>0.442323</td>\n",
              "      <td>0.557677</td>\n",
              "      <td>0.442323</td>\n",
              "    </tr>\n",
              "    <tr>\n",
              "      <th>424267</th>\n",
              "      <td>2018101412</td>\n",
              "      <td>2018-10-14</td>\n",
              "      <td>NE</td>\n",
              "      <td>KC</td>\n",
              "      <td>43</td>\n",
              "      <td>40</td>\n",
              "      <td>0.0</td>\n",
              "      <td>3931</td>\n",
              "      <td>23</td>\n",
              "      <td>4</td>\n",
              "      <td>1.0</td>\n",
              "      <td>00:51</td>\n",
              "      <td>1</td>\n",
              "      <td>51.0</td>\n",
              "      <td>38.0</td>\n",
              "      <td>48.0</td>\n",
              "      <td>48.0</td>\n",
              "      <td>10</td>\n",
              "      <td>65</td>\n",
              "      <td>0.0</td>\n",
              "      <td>0.0</td>\n",
              "      <td>NE</td>\n",
              "      <td>KC</td>\n",
              "      <td>(:51) (Shotgun) T.Brady pass deep right to R.G...</td>\n",
              "      <td>1</td>\n",
              "      <td>39</td>\n",
              "      <td>0</td>\n",
              "      <td>0</td>\n",
              "      <td>Pass</td>\n",
              "      <td>3</td>\n",
              "      <td>1</td>\n",
              "      <td>2018</td>\n",
              "      <td>NE</td>\n",
              "      <td>Win</td>\n",
              "      <td>0.591279</td>\n",
              "      <td>0.408721</td>\n",
              "      <td>0.591279</td>\n",
              "      <td>0.408721</td>\n",
              "    </tr>\n",
              "    <tr>\n",
              "      <th>424269</th>\n",
              "      <td>2018101412</td>\n",
              "      <td>2018-10-14</td>\n",
              "      <td>NE</td>\n",
              "      <td>KC</td>\n",
              "      <td>43</td>\n",
              "      <td>40</td>\n",
              "      <td>0.0</td>\n",
              "      <td>3976</td>\n",
              "      <td>23</td>\n",
              "      <td>4</td>\n",
              "      <td>1.0</td>\n",
              "      <td>00:17</td>\n",
              "      <td>1</td>\n",
              "      <td>17.0</td>\n",
              "      <td>0.0</td>\n",
              "      <td>9.0</td>\n",
              "      <td>9.0</td>\n",
              "      <td>9</td>\n",
              "      <td>65</td>\n",
              "      <td>1.0</td>\n",
              "      <td>0.0</td>\n",
              "      <td>NE</td>\n",
              "      <td>KC</td>\n",
              "      <td>(:17) T.Brady up the middle to KC 10 for -1 ya...</td>\n",
              "      <td>1</td>\n",
              "      <td>-1</td>\n",
              "      <td>0</td>\n",
              "      <td>0</td>\n",
              "      <td>Run</td>\n",
              "      <td>3</td>\n",
              "      <td>0</td>\n",
              "      <td>2018</td>\n",
              "      <td>NE</td>\n",
              "      <td>Win</td>\n",
              "      <td>0.671941</td>\n",
              "      <td>0.328059</td>\n",
              "      <td>0.671941</td>\n",
              "      <td>0.328059</td>\n",
              "    </tr>\n",
              "    <tr>\n",
              "      <th>424271</th>\n",
              "      <td>2018101412</td>\n",
              "      <td>2018-10-14</td>\n",
              "      <td>NE</td>\n",
              "      <td>KC</td>\n",
              "      <td>43</td>\n",
              "      <td>40</td>\n",
              "      <td>0.0</td>\n",
              "      <td>4018</td>\n",
              "      <td>23</td>\n",
              "      <td>4</td>\n",
              "      <td>2.0</td>\n",
              "      <td>00:03</td>\n",
              "      <td>1</td>\n",
              "      <td>3.0</td>\n",
              "      <td>0.0</td>\n",
              "      <td>10.0</td>\n",
              "      <td>10.0</td>\n",
              "      <td>10</td>\n",
              "      <td>65</td>\n",
              "      <td>1.0</td>\n",
              "      <td>0.0</td>\n",
              "      <td>NE</td>\n",
              "      <td>KC</td>\n",
              "      <td>(:03) S.Gostkowski 28 yard field goal is GOOD,...</td>\n",
              "      <td>1</td>\n",
              "      <td>0</td>\n",
              "      <td>1</td>\n",
              "      <td>0</td>\n",
              "      <td>Field Goal</td>\n",
              "      <td>2</td>\n",
              "      <td>0</td>\n",
              "      <td>2018</td>\n",
              "      <td>NE</td>\n",
              "      <td>Win</td>\n",
              "      <td>0.644491</td>\n",
              "      <td>0.355509</td>\n",
              "      <td>0.644491</td>\n",
              "      <td>0.355509</td>\n",
              "    </tr>\n",
              "  </tbody>\n",
              "</table>\n",
              "</div>"
            ],
            "text/plain": [
              "            GameID        date home  ...  LoseProb   Home_WP   Away_WP\n",
              "424256  2018101412  2018-10-14   NE  ...  0.257723  0.742277  0.257723\n",
              "424257  2018101412  2018-10-14   NE  ...  0.278272  0.721728  0.278272\n",
              "424259  2018101412  2018-10-14   NE  ...  0.748447  0.748447  0.251553\n",
              "424262  2018101412  2018-10-14   NE  ...  0.464408  0.535592  0.464408\n",
              "424263  2018101412  2018-10-14   NE  ...  0.462231  0.537769  0.462231\n",
              "424265  2018101412  2018-10-14   NE  ...  0.480325  0.519675  0.480325\n",
              "424266  2018101412  2018-10-14   NE  ...  0.442323  0.557677  0.442323\n",
              "424267  2018101412  2018-10-14   NE  ...  0.408721  0.591279  0.408721\n",
              "424269  2018101412  2018-10-14   NE  ...  0.328059  0.671941  0.328059\n",
              "424271  2018101412  2018-10-14   NE  ...  0.355509  0.644491  0.355509\n",
              "\n",
              "[10 rows x 38 columns]"
            ]
          },
          "metadata": {
            "tags": []
          },
          "execution_count": 180
        }
      ]
    },
    {
      "cell_type": "code",
      "metadata": {
        "id": "qP3M_kNPjLlL",
        "colab_type": "code",
        "colab": {
          "base_uri": "https://localhost:8080/",
          "height": 303
        },
        "outputId": "f4d4010f-6062-475b-a75d-229cbf1e1cae"
      },
      "source": [
        "\n",
        "\n",
        "plt.style.use('fivethirtyeight')\n",
        "\n",
        "\n",
        "x = kc_vs_ne['TimeSecs']\n",
        "y = kc_vs_ne['Home_WP']\n",
        "y1 = kc_vs_ne['Away_WP']\n",
        "\n",
        "fig, ax = plt.subplots()\n",
        "\n",
        "plt.xlim(3600, 0)\n",
        "ax.plot(x, y, label='NE')\n",
        "ax.plot(x, y1, label='KC')\n",
        "ax.set_title(\"KC vs. NE\")\n",
        "\n",
        "plt.axhline(y=0.5, color='r', linestyle='-')\n",
        "plt.axvline(x=2700, color='black', linestyle=':')\n",
        "plt.axvline(x=1800, color='black', linestyle=':')\n",
        "plt.axvline(x=900, color='black', linestyle=':')\n",
        "\n",
        "ax.legend()\n",
        "plt.show()"
      ],
      "execution_count": null,
      "outputs": [
        {
          "output_type": "display_data",
          "data": {
            "image/png": "[encoded data removed]",
            "text/plain": [
              "<Figure size 432x288 with 1 Axes>"
            ]
          },
          "metadata": {
            "tags": []
          }
        }
      ]
    },
    {
      "cell_type": "code",
      "metadata": {
        "id": "Nxk9WhnAi77z",
        "colab_type": "code",
        "colab": {}
      },
      "source": [
        ""
      ],
      "execution_count": null,
      "outputs": []
    },
    {
      "cell_type": "markdown",
      "metadata": {
        "id": "UxLy_uLtU2sK",
        "colab_type": "text"
      },
      "source": [
        "# Naive Bayes Model"
      ]
    },
    {
      "cell_type": "code",
      "metadata": {
        "id": "5qY-Eo0rUdVR",
        "colab_type": "code",
        "colab": {
          "base_uri": "https://localhost:8080/",
          "height": 295
        },
        "outputId": "1344cd18-008b-417c-93bd-3136566f72ad"
      },
      "source": [
        "# Naive Bayes Model\n",
        "# prior is set to 50/50 for each class\n",
        "class_prior = [0.5, 0.5] \n",
        "bayes = BernoulliNB(class_prior=class_prior)\n",
        "\n",
        "# Set classes for all plots\n",
        "classes = ['Win', 'Lose']\n",
        "# Instantiate the visualizer with the classification model\n",
        "visualizer = ROCAUC(bayes, classes=classes)\n",
        "\n",
        "\n",
        "visualizer.fit(X_train, y_train)  # Fit the training data to the visualizer\n",
        "visualizer.score(X_test, y_test)  # Evaluate the model on the test data\n",
        "g = visualizer.poof()   "
      ],
      "execution_count": null,
      "outputs": [
        {
          "output_type": "display_data",
          "data": {
            "image/png": "[encoded data removed]",
            "text/plain": [
              "<Figure size 432x288 with 1 Axes>"
            ]
          },
          "metadata": {
            "tags": []
          }
        }
      ]
    },
    {
      "cell_type": "code",
      "metadata": {
        "id": "t4MiUFYfU7b8",
        "colab_type": "code",
        "colab": {
          "base_uri": "https://localhost:8080/",
          "height": 370
        },
        "outputId": "219d3661-715f-45df-eb34-17130f99df50"
      },
      "source": [
        "# Instantiate the classification model and visualizer\n",
        "visualizer = ClassificationReport(bayes, classes=classes, support=True)\n",
        "\n",
        "visualizer.fit(X_train, y_train)  # Fit the visualizer and the model\n",
        "visualizer.score(X_test, y_test)  # Evaluate the model on the test data\n",
        "g = visualizer.poof()             # Draw/show/poof the data\n",
        "\n",
        "print('\\nprecision = proportion of returned results that are relevant')  \n",
        "print('recall = proportion of relevant documents that are returned')   \n",
        "print('f1-score = harmonic mean of precision and recall')"
      ],
      "execution_count": null,
      "outputs": [
        {
          "output_type": "display_data",
          "data": {
            "image/png": "[encoded data removed]",
            "text/plain": [
              "<Figure size 432x288 with 2 Axes>"
            ]
          },
          "metadata": {
            "tags": []
          }
        },
        {
          "output_type": "stream",
          "text": [
            "\n",
            "precision = proportion of returned results that are relevant\n",
            "recall = proportion of relevant documents that are returned\n",
            "f1-score = harmonic mean of precision and recall\n"
          ],
          "name": "stdout"
        }
      ]
    },
    {
      "cell_type": "markdown",
      "metadata": {
        "id": "FcAWG7c0Vgwn",
        "colab_type": "text"
      },
      "source": [
        "# Random Forest Model"
      ]
    },
    {
      "cell_type": "code",
      "metadata": {
        "id": "KmAPwwB7eUvB",
        "colab_type": "code",
        "colab": {
          "base_uri": "https://localhost:8080/",
          "height": 1145
        },
        "outputId": "dce6269e-36de-49cc-d6e9-9e77b9b40fe4"
      },
      "source": [
        "y_train\n",
        "\n",
        "add_binary_df = pd.get_dummies(y_train, \n",
        "                               columns=['overage', \n",
        "                                        'domestic_import', \n",
        "                                        'vehicle_type',\n",
        "                                        'color_set', \n",
        "                                        'makex'], \n",
        "                               prefix=['overage', \n",
        "                                       'mfg', \n",
        "                                       'body', \n",
        "                                       'color', \n",
        "                                       'make'])"
      ],
      "execution_count": null,
      "outputs": [
        {
          "output_type": "execute_result",
          "data": {
            "text/plain": [
              "449266     Win\n",
              "60329      Win\n",
              "288937     Win\n",
              "368107    Lose\n",
              "81984      Win\n",
              "219969     Win\n",
              "59340      Win\n",
              "179041     Win\n",
              "431864    Lose\n",
              "362283    Lose\n",
              "214313     Win\n",
              "3555       Win\n",
              "133594     Win\n",
              "407668     Win\n",
              "306450     Win\n",
              "377755    Lose\n",
              "372410     Win\n",
              "300453    Lose\n",
              "321532     Win\n",
              "147200     Win\n",
              "387415    Lose\n",
              "191451     Win\n",
              "415113    Lose\n",
              "306658    Lose\n",
              "293377    Lose\n",
              "75678     Lose\n",
              "308990     Win\n",
              "365089    Lose\n",
              "212853    Lose\n",
              "113745    Lose\n",
              "          ... \n",
              "228620    Lose\n",
              "236220    Lose\n",
              "452597    Lose\n",
              "154784    Lose\n",
              "15496     Lose\n",
              "281796     Win\n",
              "77673      Win\n",
              "427281     Win\n",
              "57082     Lose\n",
              "116198    Lose\n",
              "417338     Win\n",
              "165006    Lose\n",
              "208972    Lose\n",
              "48925      Win\n",
              "305106     Win\n",
              "77780     Lose\n",
              "157706    Lose\n",
              "435928     Win\n",
              "126416    Lose\n",
              "257966    Lose\n",
              "248768    Lose\n",
              "428009    Lose\n",
              "95879      Win\n",
              "297364     Win\n",
              "235304     Win\n",
              "337842     Win\n",
              "50818     Lose\n",
              "114974     Win\n",
              "442617     Win\n",
              "352372     Win\n",
              "Name: poswin, Length: 286444, dtype: object"
            ]
          },
          "metadata": {
            "tags": []
          },
          "execution_count": 159
        }
      ]
    },
    {
      "cell_type": "code",
      "metadata": {
        "id": "rSpj_8vYSzNC",
        "colab_type": "code",
        "colab": {}
      },
      "source": [
        "# Pretty print a confusion matrixes rows actual, columns predicted\n",
        "# Adapted from: https://gist.github.com/zachguo/10296432\n",
        "def print_cm(cm, labels, hide_zeroes=False, hide_diagonal=False, \n",
        "             hide_threshold=None):\n",
        "    \"\"\"pretty print for confusion matrixes\"\"\"\n",
        "    columnwidth = max([len(x) for x in labels] + [5])  # 5 is value length\n",
        "    empty_cell = \" \" * columnwidth\n",
        "    # Print header\n",
        "    print(\"    \" + empty_cell, end=\" \")\n",
        "    for label in labels:\n",
        "        print(\"%{0}s\".format(columnwidth) % label, end=\" \")\n",
        "    print()\n",
        "    # Print rows\n",
        "    for i, label1 in enumerate(labels):\n",
        "        print(\"    %{0}s\".format(columnwidth) % label1, end=\" \")\n",
        "        for j in range(len(labels)):\n",
        "            cell = \"%{0}.0f\".format(columnwidth) % cm[i, j]\n",
        "            if hide_zeroes:\n",
        "                cell = cell if float(cm[i, j]) != 0 else empty_cell\n",
        "            if hide_diagonal:\n",
        "                cell = cell if i != j else empty_cell\n",
        "            if hide_threshold:\n",
        "                cell = cell if cm[i, j] > hide_threshold else empty_cell\n",
        "            print(cell, end=\" \")\n",
        "        print()"
      ],
      "execution_count": null,
      "outputs": []
    },
    {
      "cell_type": "code",
      "metadata": {
        "id": "2Pro0fU3RAAr",
        "colab_type": "code",
        "colab": {
          "base_uri": "https://localhost:8080/",
          "height": 516
        },
        "outputId": "f9e915ae-5e6d-49e0-f4c1-9fcdc85f2813"
      },
      "source": [
        "\n",
        "# --------------------------------------------------------\n",
        "# Assess elapsed time associated with the model fitting \n",
        "# ignoring input/output processing for the most part\n",
        "start_time = time.clock()  # wall-clock time at beginning of modeling work\n",
        "\n",
        "# define Study 5 classifier method as random forests \n",
        "clf = RandomForestClassifier(n_estimators=100, \n",
        "            criterion='gini', \n",
        "            max_depth=None, \n",
        "            min_samples_split=20, \n",
        "            min_samples_leaf=5, \n",
        "            min_weight_fraction_leaf=0.0, \n",
        "            max_features=6,\n",
        "            max_leaf_nodes=None, \n",
        "            bootstrap=True, \n",
        "            oob_score=False, \n",
        "            n_jobs=1, \n",
        "            random_state=1234, \n",
        "            verbose=0, \n",
        "            warm_start=False, \n",
        "            class_weight=None) \n",
        "\n",
        "# Fit classifier to the data and evaluate its performance\n",
        "# in terms of precision, recall, and F1-score\n",
        "\n",
        "clf.fit(X_train, y_train) \n",
        "end_time = time.clock()  # wall-clock time at end of modeling work\n",
        "runtime = end_time - start_time  # seconds of wall-clock time \n",
        "print('\\nRandom forest classification elapsed time (seconds):', \n",
        "      np.round(runtime, decimals = 3))\n",
        "\n",
        "print('\\n---------------------------------------------------------------------------')\n",
        "print('Random Forests Regression Model Explanatory Variable Importance Results')\n",
        "\n",
        "var_importance = clf.feature_importances_\n",
        "final_model_results = pd.DataFrame({'name': var,\n",
        "                                    'importance': var_importance})\n",
        "    \n",
        "print(final_model_results)     \n",
        "\n",
        "\n",
        "# Report results of random forest classifier\n",
        "Result = ['Win', 'Lose'] \n",
        "y_final_test_predict = clf.predict(X_test)\n",
        "\n",
        "print('\\nRandom Forest Confusion Matrix (rows actual, columns predicted)\\n')\n",
        "print_cm(confusion_matrix(y_test, y_final_test_predict,\n",
        "                 labels = Result)\n",
        "\n",
        "print('\\nRandom Forest Predictive Accuracy: ',                \n",
        "np.round(accuracy_score(y_test.values.argmax(axis=1), \n",
        "               y_final_test_predict.argmax(axis=1)), decimals = 3))\n",
        "\n",
        "print('\\nSummary of Random Forest Precision and Recall\\n') \n",
        "             \n",
        "print(classification_report(y_test, y_final_test_predict, \n",
        "                            target_names = Result))\n",
        "\n",
        "print('precision = proportion of returned results that are relevant')  \n",
        "print('recall = proportion of relevant documents that are returned')   \n",
        "print('f1-score = harmonic mean of precision and recall')"
      ],
      "execution_count": null,
      "outputs": [
        {
          "output_type": "stream",
          "text": [
            "\n",
            "Random forest classification elapsed time (seconds): 126.26\n",
            "\n",
            "---------------------------------------------------------------------------\n",
            "Random Forests Regression Model Explanatory Variable Importance Results\n",
            "         name  importance\n",
            "0         qtr    0.001167\n",
            "1        down    0.017120\n",
            "2     ydstogo    0.051756\n",
            "3  yrdline100    0.115417\n",
            "4    TimeSecs    0.225409\n",
            "5   ScoreDiff    0.589131\n",
            "\n",
            "Random Forest Confusion Matrix (rows actual, columns predicted)\n",
            "\n"
          ],
          "name": "stdout"
        },
        {
          "output_type": "error",
          "ename": "AxisError",
          "evalue": "ignored",
          "traceback": [
            "\u001b[0;31m---------------------------------------------------------------------------\u001b[0m",
            "\u001b[0;31mAxisError\u001b[0m                                 Traceback (most recent call last)",
            "\u001b[0;32m<ipython-input-88-6bd6e952c8d7>\u001b[0m in \u001b[0;36m<module>\u001b[0;34m()\u001b[0m\n\u001b[1;32m     42\u001b[0m \u001b[0;34m\u001b[0m\u001b[0m\n\u001b[1;32m     43\u001b[0m \u001b[0mprint\u001b[0m\u001b[0;34m(\u001b[0m\u001b[0;34m'\\nRandom Forest Confusion Matrix (rows actual, columns predicted)\\n'\u001b[0m\u001b[0;34m)\u001b[0m\u001b[0;34m\u001b[0m\u001b[0;34m\u001b[0m\u001b[0m\n\u001b[0;32m---> 44\u001b[0;31m print_cm(confusion_matrix(y_test.values.argmax(axis=1), \n\u001b[0m\u001b[1;32m     45\u001b[0m                  y_final_test_predict.argmax(axis=1)),\n\u001b[1;32m     46\u001b[0m                  labels = Result)\n",
            "\u001b[0;31mAxisError\u001b[0m: axis 1 is out of bounds for array of dimension 1"
          ]
        }
      ]
    },
    {
      "cell_type": "code",
      "metadata": {
        "id": "VpLiFPRqSbFz",
        "colab_type": "code",
        "colab": {}
      },
      "source": [
        ""
      ],
      "execution_count": null,
      "outputs": []
    }
  ]
}