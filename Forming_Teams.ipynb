{
  "nbformat": 4,
  "nbformat_minor": 0,
  "metadata": {
    "colab": {
      "name": "Forming Teams.ipynb",
      "provenance": [],
      "collapsed_sections": [
        "obE6JKgVnmQ9"
      ],
      "toc_visible": true,
      "machine_shape": "hm",
      "include_colab_link": true
    },
    "kernelspec": {
      "name": "python3",
      "display_name": "Python 3"
    }
  },
  "cells": [
    {
      "cell_type": "markdown",
      "metadata": {
        "id": "view-in-github",
        "colab_type": "text"
      },
      "source": [
        "<a href=\"https://colab.research.google.com/github/papagorgio23/Python101/blob/master/Forming_Teams.ipynb\" target=\"_parent\"><img src=\"https://colab.research.google.com/assets/colab-badge.svg\" alt=\"Open In Colab\"/></a>"
      ]
    },
    {
      "cell_type": "markdown",
      "metadata": {
        "id": "ay0RCUCXkAKF",
        "colab_type": "text"
      },
      "source": [
        "#Forming Teams to Create Synergy\n",
        "\n",
        "## Background\n",
        "As the saying goes, \"two heads are better than one\". [Research](https://scholar.google.ca/scholar?q=effectiveness+of+teamwork+in+the+workplace) has shown that individuals working in teams are more effective together than working alone. \n",
        "\n",
        "Knowing this insight, how can we form the right teams to maximize overall productivity?\n",
        "\n",
        "While this idea can be applied to any domain, e.g., sales associates, research groups, etc.,  we'll form teams of comic book superheroes for this demonstration.\n",
        "\n",
        "![Superheroes](https://ap2hyc.com/wp-content/uploads/2016/11/12444766_why-marvel-had-to-pull-one-of-its-comic_5138a63e_m.jpg)\n",
        "\n",
        "### Conditions\n",
        "Before we start to assign heroes to teams, there are certain conditions that the teams must satisfy:\n",
        "\n",
        "\n",
        "1. **Balance**: Each team must have at least one high performer\n",
        "2. **Diversity:** Each team must have at least one female and one non-human\n",
        "3. **Completeness**: All superheroes must be assigned to a team. (We don't want anyone to feel excluded.)\n",
        "4. **Team Size**: Teams have a maximum of 8 superheroes\n",
        "\n",
        "\n",
        "## Solution\n",
        "This is an example of constraint optimization (aka constraint programming), where the main goal is to find a solution that meets the given conditions. Although we are still interested in maximizing overall productivity, it is a secondary priority. More details about constraint optimization can be found [here](https://developers.google.com/optimization/cp).\n",
        "\n",
        "\n",
        "For this problem, we will use Google's OR Tools [CP-SAT solver](https://developers.google.com/optimization/reference/python/sat/python/cp_model). The following code is adapted from this wedding guest [example](https://github.com/google/or-tools/blob/stable/examples/notebook/examples/wedding_optimal_chart_sat.ipynb)."
      ]
    },
    {
      "cell_type": "code",
      "metadata": {
        "id": "b45tWm8anIq6",
        "colab_type": "code",
        "colab": {}
      },
      "source": [
        "# install Google's OR tools library\n",
        "%pip install --upgrade --user ortools"
      ],
      "execution_count": null,
      "outputs": []
    },
    {
      "cell_type": "markdown",
      "metadata": {
        "id": "obE6JKgVnmQ9",
        "colab_type": "text"
      },
      "source": [
        "### 1. Load and prepare the data\n",
        "\n",
        "To keep things simple, we'll work with only the \"good\" super heroes from the Marvel and DC comics from this [superhero dataset](https://www.kaggle.com/claudiodavi/superhero-set). Any superhero with above average powers is considered a \"high performer\"."
      ]
    },
    {
      "cell_type": "code",
      "metadata": {
        "id": "G2PcRTbPOtsb",
        "colab_type": "code",
        "colab": {}
      },
      "source": [
        "import pandas as pd"
      ],
      "execution_count": null,
      "outputs": []
    },
    {
      "cell_type": "code",
      "metadata": {
        "id": "UyzbmlsmM3Nf",
        "colab_type": "code",
        "colab": {}
      },
      "source": [
        "superheroes = pd.read_csv(\"heroes_information.csv\")\n",
        "powers = pd.read_csv(\"super_hero_powers.csv\")"
      ],
      "execution_count": null,
      "outputs": []
    },
    {
      "cell_type": "code",
      "metadata": {
        "id": "Vr_8GDcuarLm",
        "colab_type": "code",
        "colab": {}
      },
      "source": [
        "## keep only good superheroes and DC/Marvel characters for simplicity\n",
        "superheroes = superheroes[(superheroes.Publisher == \"Marvel Comics\") | (superheroes.Publisher == \"DC Comics\")]\n",
        "superheroes = superheroes[superheroes.Alignment == \"good\"]"
      ],
      "execution_count": null,
      "outputs": []
    },
    {
      "cell_type": "code",
      "metadata": {
        "id": "1YMKD21cPXRC",
        "colab_type": "code",
        "colab": {
          "base_uri": "https://localhost:8080/",
          "height": 204
        },
        "outputId": "007f36ae-16af-4a57-9d4d-90851b4f97bc"
      },
      "source": [
        "superheroes.head()"
      ],
      "execution_count": null,
      "outputs": [
        {
          "output_type": "execute_result",
          "data": {
            "text/html": [
              "<div>\n",
              "<style scoped>\n",
              "    .dataframe tbody tr th:only-of-type {\n",
              "        vertical-align: middle;\n",
              "    }\n",
              "\n",
              "    .dataframe tbody tr th {\n",
              "        vertical-align: top;\n",
              "    }\n",
              "\n",
              "    .dataframe thead th {\n",
              "        text-align: right;\n",
              "    }\n",
              "</style>\n",
              "<table border=\"1\" class=\"dataframe\">\n",
              "  <thead>\n",
              "    <tr style=\"text-align: right;\">\n",
              "      <th></th>\n",
              "      <th>Unnamed: 0</th>\n",
              "      <th>name</th>\n",
              "      <th>Gender</th>\n",
              "      <th>Eye color</th>\n",
              "      <th>Race</th>\n",
              "      <th>Hair color</th>\n",
              "      <th>Height</th>\n",
              "      <th>Publisher</th>\n",
              "      <th>Skin color</th>\n",
              "      <th>Alignment</th>\n",
              "      <th>Weight</th>\n",
              "    </tr>\n",
              "  </thead>\n",
              "  <tbody>\n",
              "    <tr>\n",
              "      <th>0</th>\n",
              "      <td>0</td>\n",
              "      <td>A-Bomb</td>\n",
              "      <td>Male</td>\n",
              "      <td>yellow</td>\n",
              "      <td>Human</td>\n",
              "      <td>No Hair</td>\n",
              "      <td>203.0</td>\n",
              "      <td>Marvel Comics</td>\n",
              "      <td>-</td>\n",
              "      <td>good</td>\n",
              "      <td>441.0</td>\n",
              "    </tr>\n",
              "    <tr>\n",
              "      <th>2</th>\n",
              "      <td>2</td>\n",
              "      <td>Abin Sur</td>\n",
              "      <td>Male</td>\n",
              "      <td>blue</td>\n",
              "      <td>Ungaran</td>\n",
              "      <td>No Hair</td>\n",
              "      <td>185.0</td>\n",
              "      <td>DC Comics</td>\n",
              "      <td>red</td>\n",
              "      <td>good</td>\n",
              "      <td>90.0</td>\n",
              "    </tr>\n",
              "    <tr>\n",
              "      <th>7</th>\n",
              "      <td>7</td>\n",
              "      <td>Adam Strange</td>\n",
              "      <td>Male</td>\n",
              "      <td>blue</td>\n",
              "      <td>Human</td>\n",
              "      <td>Blond</td>\n",
              "      <td>185.0</td>\n",
              "      <td>DC Comics</td>\n",
              "      <td>-</td>\n",
              "      <td>good</td>\n",
              "      <td>88.0</td>\n",
              "    </tr>\n",
              "    <tr>\n",
              "      <th>8</th>\n",
              "      <td>8</td>\n",
              "      <td>Agent 13</td>\n",
              "      <td>Female</td>\n",
              "      <td>blue</td>\n",
              "      <td>-</td>\n",
              "      <td>Blond</td>\n",
              "      <td>173.0</td>\n",
              "      <td>Marvel Comics</td>\n",
              "      <td>-</td>\n",
              "      <td>good</td>\n",
              "      <td>61.0</td>\n",
              "    </tr>\n",
              "    <tr>\n",
              "      <th>9</th>\n",
              "      <td>9</td>\n",
              "      <td>Agent Bob</td>\n",
              "      <td>Male</td>\n",
              "      <td>brown</td>\n",
              "      <td>Human</td>\n",
              "      <td>Brown</td>\n",
              "      <td>178.0</td>\n",
              "      <td>Marvel Comics</td>\n",
              "      <td>-</td>\n",
              "      <td>good</td>\n",
              "      <td>81.0</td>\n",
              "    </tr>\n",
              "  </tbody>\n",
              "</table>\n",
              "</div>"
            ],
            "text/plain": [
              "   Unnamed: 0          name  Gender  ... Skin color Alignment Weight\n",
              "0           0        A-Bomb    Male  ...          -      good  441.0\n",
              "2           2      Abin Sur    Male  ...        red      good   90.0\n",
              "7           7  Adam Strange    Male  ...          -      good   88.0\n",
              "8           8      Agent 13  Female  ...          -      good   61.0\n",
              "9           9     Agent Bob    Male  ...          -      good   81.0\n",
              "\n",
              "[5 rows x 11 columns]"
            ]
          },
          "metadata": {
            "tags": []
          },
          "execution_count": 4
        }
      ]
    },
    {
      "cell_type": "code",
      "metadata": {
        "id": "8EqtrBM2FDE9",
        "colab_type": "code",
        "colab": {}
      },
      "source": [
        "## create female indicator column\n",
        "superheroes[\"is_female\"] = superheroes[\"Gender\"] == \"Female\""
      ],
      "execution_count": null,
      "outputs": []
    },
    {
      "cell_type": "code",
      "metadata": {
        "id": "eb2oKS6YPycb",
        "colab_type": "code",
        "colab": {
          "base_uri": "https://localhost:8080/",
          "height": 85
        },
        "outputId": "5dc176d9-575c-4252-bd49-1fec48a82343"
      },
      "source": [
        "superheroes[\"Gender\"].value_counts()"
      ],
      "execution_count": null,
      "outputs": [
        {
          "output_type": "execute_result",
          "data": {
            "text/plain": [
              "Male      245\n",
              "Female    137\n",
              "-          19\n",
              "Name: Gender, dtype: int64"
            ]
          },
          "metadata": {
            "tags": []
          },
          "execution_count": 5
        }
      ]
    },
    {
      "cell_type": "code",
      "metadata": {
        "id": "fkV2aPtnFO2-",
        "colab_type": "code",
        "colab": {}
      },
      "source": [
        "## create non-human indicator column\n",
        "superheroes[\"is_non_human\"] = superheroes[\"Race\"] != \"Human\""
      ],
      "execution_count": null,
      "outputs": []
    },
    {
      "cell_type": "code",
      "metadata": {
        "id": "WLHzGSQTPdJY",
        "colab_type": "code",
        "colab": {
          "base_uri": "https://localhost:8080/",
          "height": 287
        },
        "outputId": "c01f56e9-9571-46a7-e32b-6298c29f148b"
      },
      "source": [
        "powers.head()"
      ],
      "execution_count": null,
      "outputs": [
        {
          "output_type": "execute_result",
          "data": {
            "text/html": [
              "<div>\n",
              "<style scoped>\n",
              "    .dataframe tbody tr th:only-of-type {\n",
              "        vertical-align: middle;\n",
              "    }\n",
              "\n",
              "    .dataframe tbody tr th {\n",
              "        vertical-align: top;\n",
              "    }\n",
              "\n",
              "    .dataframe thead th {\n",
              "        text-align: right;\n",
              "    }\n",
              "</style>\n",
              "<table border=\"1\" class=\"dataframe\">\n",
              "  <thead>\n",
              "    <tr style=\"text-align: right;\">\n",
              "      <th></th>\n",
              "      <th>hero_names</th>\n",
              "      <th>Agility</th>\n",
              "      <th>Accelerated Healing</th>\n",
              "      <th>Lantern Power Ring</th>\n",
              "      <th>Dimensional Awareness</th>\n",
              "      <th>Cold Resistance</th>\n",
              "      <th>Durability</th>\n",
              "      <th>Stealth</th>\n",
              "      <th>Energy Absorption</th>\n",
              "      <th>Flight</th>\n",
              "      <th>Danger Sense</th>\n",
              "      <th>Underwater breathing</th>\n",
              "      <th>Marksmanship</th>\n",
              "      <th>Weapons Master</th>\n",
              "      <th>Power Augmentation</th>\n",
              "      <th>Animal Attributes</th>\n",
              "      <th>Longevity</th>\n",
              "      <th>Intelligence</th>\n",
              "      <th>Super Strength</th>\n",
              "      <th>Cryokinesis</th>\n",
              "      <th>Telepathy</th>\n",
              "      <th>Energy Armor</th>\n",
              "      <th>Energy Blasts</th>\n",
              "      <th>Duplication</th>\n",
              "      <th>Size Changing</th>\n",
              "      <th>Density Control</th>\n",
              "      <th>Stamina</th>\n",
              "      <th>Astral Travel</th>\n",
              "      <th>Audio Control</th>\n",
              "      <th>Dexterity</th>\n",
              "      <th>Omnitrix</th>\n",
              "      <th>Super Speed</th>\n",
              "      <th>Possession</th>\n",
              "      <th>Animal Oriented Powers</th>\n",
              "      <th>Weapon-based Powers</th>\n",
              "      <th>Electrokinesis</th>\n",
              "      <th>Darkforce Manipulation</th>\n",
              "      <th>Death Touch</th>\n",
              "      <th>Teleportation</th>\n",
              "      <th>Enhanced Senses</th>\n",
              "      <th>...</th>\n",
              "      <th>Mind Control Resistance</th>\n",
              "      <th>Plant Control</th>\n",
              "      <th>Sonar</th>\n",
              "      <th>Sonic Scream</th>\n",
              "      <th>Time Manipulation</th>\n",
              "      <th>Enhanced Touch</th>\n",
              "      <th>Magic Resistance</th>\n",
              "      <th>Invisibility</th>\n",
              "      <th>Sub-Mariner</th>\n",
              "      <th>Radiation Absorption</th>\n",
              "      <th>Intuitive aptitude</th>\n",
              "      <th>Vision - Microscopic</th>\n",
              "      <th>Melting</th>\n",
              "      <th>Wind Control</th>\n",
              "      <th>Super Breath</th>\n",
              "      <th>Wallcrawling</th>\n",
              "      <th>Vision - Night</th>\n",
              "      <th>Vision - Infrared</th>\n",
              "      <th>Grim Reaping</th>\n",
              "      <th>Matter Absorption</th>\n",
              "      <th>The Force</th>\n",
              "      <th>Resurrection</th>\n",
              "      <th>Terrakinesis</th>\n",
              "      <th>Vision - Heat</th>\n",
              "      <th>Vitakinesis</th>\n",
              "      <th>Radar Sense</th>\n",
              "      <th>Qwardian Power Ring</th>\n",
              "      <th>Weather Control</th>\n",
              "      <th>Vision - X-Ray</th>\n",
              "      <th>Vision - Thermal</th>\n",
              "      <th>Web Creation</th>\n",
              "      <th>Reality Warping</th>\n",
              "      <th>Odin Force</th>\n",
              "      <th>Symbiote Costume</th>\n",
              "      <th>Speed Force</th>\n",
              "      <th>Phoenix Force</th>\n",
              "      <th>Molecular Dissipation</th>\n",
              "      <th>Vision - Cryo</th>\n",
              "      <th>Omnipresent</th>\n",
              "      <th>Omniscient</th>\n",
              "    </tr>\n",
              "  </thead>\n",
              "  <tbody>\n",
              "    <tr>\n",
              "      <th>0</th>\n",
              "      <td>3-D Man</td>\n",
              "      <td>True</td>\n",
              "      <td>False</td>\n",
              "      <td>False</td>\n",
              "      <td>False</td>\n",
              "      <td>False</td>\n",
              "      <td>False</td>\n",
              "      <td>False</td>\n",
              "      <td>False</td>\n",
              "      <td>False</td>\n",
              "      <td>False</td>\n",
              "      <td>False</td>\n",
              "      <td>False</td>\n",
              "      <td>False</td>\n",
              "      <td>False</td>\n",
              "      <td>False</td>\n",
              "      <td>False</td>\n",
              "      <td>False</td>\n",
              "      <td>True</td>\n",
              "      <td>False</td>\n",
              "      <td>False</td>\n",
              "      <td>False</td>\n",
              "      <td>False</td>\n",
              "      <td>False</td>\n",
              "      <td>False</td>\n",
              "      <td>False</td>\n",
              "      <td>True</td>\n",
              "      <td>False</td>\n",
              "      <td>False</td>\n",
              "      <td>False</td>\n",
              "      <td>False</td>\n",
              "      <td>True</td>\n",
              "      <td>False</td>\n",
              "      <td>False</td>\n",
              "      <td>False</td>\n",
              "      <td>False</td>\n",
              "      <td>False</td>\n",
              "      <td>False</td>\n",
              "      <td>False</td>\n",
              "      <td>False</td>\n",
              "      <td>...</td>\n",
              "      <td>False</td>\n",
              "      <td>False</td>\n",
              "      <td>False</td>\n",
              "      <td>False</td>\n",
              "      <td>False</td>\n",
              "      <td>False</td>\n",
              "      <td>False</td>\n",
              "      <td>False</td>\n",
              "      <td>False</td>\n",
              "      <td>False</td>\n",
              "      <td>False</td>\n",
              "      <td>False</td>\n",
              "      <td>False</td>\n",
              "      <td>False</td>\n",
              "      <td>False</td>\n",
              "      <td>False</td>\n",
              "      <td>False</td>\n",
              "      <td>False</td>\n",
              "      <td>False</td>\n",
              "      <td>False</td>\n",
              "      <td>False</td>\n",
              "      <td>False</td>\n",
              "      <td>False</td>\n",
              "      <td>False</td>\n",
              "      <td>False</td>\n",
              "      <td>False</td>\n",
              "      <td>False</td>\n",
              "      <td>False</td>\n",
              "      <td>False</td>\n",
              "      <td>False</td>\n",
              "      <td>False</td>\n",
              "      <td>False</td>\n",
              "      <td>False</td>\n",
              "      <td>False</td>\n",
              "      <td>False</td>\n",
              "      <td>False</td>\n",
              "      <td>False</td>\n",
              "      <td>False</td>\n",
              "      <td>False</td>\n",
              "      <td>False</td>\n",
              "    </tr>\n",
              "    <tr>\n",
              "      <th>1</th>\n",
              "      <td>A-Bomb</td>\n",
              "      <td>False</td>\n",
              "      <td>True</td>\n",
              "      <td>False</td>\n",
              "      <td>False</td>\n",
              "      <td>False</td>\n",
              "      <td>True</td>\n",
              "      <td>False</td>\n",
              "      <td>False</td>\n",
              "      <td>False</td>\n",
              "      <td>False</td>\n",
              "      <td>False</td>\n",
              "      <td>False</td>\n",
              "      <td>False</td>\n",
              "      <td>False</td>\n",
              "      <td>False</td>\n",
              "      <td>True</td>\n",
              "      <td>False</td>\n",
              "      <td>True</td>\n",
              "      <td>False</td>\n",
              "      <td>False</td>\n",
              "      <td>False</td>\n",
              "      <td>False</td>\n",
              "      <td>False</td>\n",
              "      <td>False</td>\n",
              "      <td>False</td>\n",
              "      <td>True</td>\n",
              "      <td>False</td>\n",
              "      <td>False</td>\n",
              "      <td>False</td>\n",
              "      <td>False</td>\n",
              "      <td>False</td>\n",
              "      <td>False</td>\n",
              "      <td>False</td>\n",
              "      <td>False</td>\n",
              "      <td>False</td>\n",
              "      <td>False</td>\n",
              "      <td>False</td>\n",
              "      <td>False</td>\n",
              "      <td>False</td>\n",
              "      <td>...</td>\n",
              "      <td>False</td>\n",
              "      <td>False</td>\n",
              "      <td>False</td>\n",
              "      <td>False</td>\n",
              "      <td>False</td>\n",
              "      <td>False</td>\n",
              "      <td>False</td>\n",
              "      <td>False</td>\n",
              "      <td>False</td>\n",
              "      <td>False</td>\n",
              "      <td>False</td>\n",
              "      <td>False</td>\n",
              "      <td>False</td>\n",
              "      <td>False</td>\n",
              "      <td>False</td>\n",
              "      <td>False</td>\n",
              "      <td>False</td>\n",
              "      <td>False</td>\n",
              "      <td>False</td>\n",
              "      <td>False</td>\n",
              "      <td>False</td>\n",
              "      <td>False</td>\n",
              "      <td>False</td>\n",
              "      <td>False</td>\n",
              "      <td>False</td>\n",
              "      <td>False</td>\n",
              "      <td>False</td>\n",
              "      <td>False</td>\n",
              "      <td>False</td>\n",
              "      <td>False</td>\n",
              "      <td>False</td>\n",
              "      <td>False</td>\n",
              "      <td>False</td>\n",
              "      <td>False</td>\n",
              "      <td>False</td>\n",
              "      <td>False</td>\n",
              "      <td>False</td>\n",
              "      <td>False</td>\n",
              "      <td>False</td>\n",
              "      <td>False</td>\n",
              "    </tr>\n",
              "    <tr>\n",
              "      <th>2</th>\n",
              "      <td>Abe Sapien</td>\n",
              "      <td>True</td>\n",
              "      <td>True</td>\n",
              "      <td>False</td>\n",
              "      <td>False</td>\n",
              "      <td>True</td>\n",
              "      <td>True</td>\n",
              "      <td>False</td>\n",
              "      <td>False</td>\n",
              "      <td>False</td>\n",
              "      <td>False</td>\n",
              "      <td>True</td>\n",
              "      <td>True</td>\n",
              "      <td>True</td>\n",
              "      <td>False</td>\n",
              "      <td>False</td>\n",
              "      <td>True</td>\n",
              "      <td>True</td>\n",
              "      <td>True</td>\n",
              "      <td>False</td>\n",
              "      <td>True</td>\n",
              "      <td>False</td>\n",
              "      <td>False</td>\n",
              "      <td>False</td>\n",
              "      <td>False</td>\n",
              "      <td>False</td>\n",
              "      <td>True</td>\n",
              "      <td>False</td>\n",
              "      <td>False</td>\n",
              "      <td>False</td>\n",
              "      <td>False</td>\n",
              "      <td>False</td>\n",
              "      <td>False</td>\n",
              "      <td>False</td>\n",
              "      <td>False</td>\n",
              "      <td>False</td>\n",
              "      <td>False</td>\n",
              "      <td>False</td>\n",
              "      <td>False</td>\n",
              "      <td>False</td>\n",
              "      <td>...</td>\n",
              "      <td>False</td>\n",
              "      <td>False</td>\n",
              "      <td>False</td>\n",
              "      <td>False</td>\n",
              "      <td>False</td>\n",
              "      <td>False</td>\n",
              "      <td>False</td>\n",
              "      <td>False</td>\n",
              "      <td>True</td>\n",
              "      <td>False</td>\n",
              "      <td>False</td>\n",
              "      <td>False</td>\n",
              "      <td>False</td>\n",
              "      <td>False</td>\n",
              "      <td>False</td>\n",
              "      <td>False</td>\n",
              "      <td>False</td>\n",
              "      <td>False</td>\n",
              "      <td>False</td>\n",
              "      <td>False</td>\n",
              "      <td>False</td>\n",
              "      <td>False</td>\n",
              "      <td>False</td>\n",
              "      <td>False</td>\n",
              "      <td>False</td>\n",
              "      <td>False</td>\n",
              "      <td>False</td>\n",
              "      <td>False</td>\n",
              "      <td>False</td>\n",
              "      <td>False</td>\n",
              "      <td>False</td>\n",
              "      <td>False</td>\n",
              "      <td>False</td>\n",
              "      <td>False</td>\n",
              "      <td>False</td>\n",
              "      <td>False</td>\n",
              "      <td>False</td>\n",
              "      <td>False</td>\n",
              "      <td>False</td>\n",
              "      <td>False</td>\n",
              "    </tr>\n",
              "    <tr>\n",
              "      <th>3</th>\n",
              "      <td>Abin Sur</td>\n",
              "      <td>False</td>\n",
              "      <td>False</td>\n",
              "      <td>True</td>\n",
              "      <td>False</td>\n",
              "      <td>False</td>\n",
              "      <td>False</td>\n",
              "      <td>False</td>\n",
              "      <td>False</td>\n",
              "      <td>False</td>\n",
              "      <td>False</td>\n",
              "      <td>False</td>\n",
              "      <td>False</td>\n",
              "      <td>False</td>\n",
              "      <td>False</td>\n",
              "      <td>False</td>\n",
              "      <td>False</td>\n",
              "      <td>False</td>\n",
              "      <td>False</td>\n",
              "      <td>False</td>\n",
              "      <td>False</td>\n",
              "      <td>False</td>\n",
              "      <td>False</td>\n",
              "      <td>False</td>\n",
              "      <td>False</td>\n",
              "      <td>False</td>\n",
              "      <td>False</td>\n",
              "      <td>False</td>\n",
              "      <td>False</td>\n",
              "      <td>False</td>\n",
              "      <td>False</td>\n",
              "      <td>False</td>\n",
              "      <td>False</td>\n",
              "      <td>False</td>\n",
              "      <td>False</td>\n",
              "      <td>False</td>\n",
              "      <td>False</td>\n",
              "      <td>False</td>\n",
              "      <td>False</td>\n",
              "      <td>False</td>\n",
              "      <td>...</td>\n",
              "      <td>False</td>\n",
              "      <td>False</td>\n",
              "      <td>False</td>\n",
              "      <td>False</td>\n",
              "      <td>False</td>\n",
              "      <td>False</td>\n",
              "      <td>False</td>\n",
              "      <td>False</td>\n",
              "      <td>False</td>\n",
              "      <td>False</td>\n",
              "      <td>False</td>\n",
              "      <td>False</td>\n",
              "      <td>False</td>\n",
              "      <td>False</td>\n",
              "      <td>False</td>\n",
              "      <td>False</td>\n",
              "      <td>False</td>\n",
              "      <td>False</td>\n",
              "      <td>False</td>\n",
              "      <td>False</td>\n",
              "      <td>False</td>\n",
              "      <td>False</td>\n",
              "      <td>False</td>\n",
              "      <td>False</td>\n",
              "      <td>False</td>\n",
              "      <td>False</td>\n",
              "      <td>False</td>\n",
              "      <td>False</td>\n",
              "      <td>False</td>\n",
              "      <td>False</td>\n",
              "      <td>False</td>\n",
              "      <td>False</td>\n",
              "      <td>False</td>\n",
              "      <td>False</td>\n",
              "      <td>False</td>\n",
              "      <td>False</td>\n",
              "      <td>False</td>\n",
              "      <td>False</td>\n",
              "      <td>False</td>\n",
              "      <td>False</td>\n",
              "    </tr>\n",
              "    <tr>\n",
              "      <th>4</th>\n",
              "      <td>Abomination</td>\n",
              "      <td>False</td>\n",
              "      <td>True</td>\n",
              "      <td>False</td>\n",
              "      <td>False</td>\n",
              "      <td>False</td>\n",
              "      <td>False</td>\n",
              "      <td>False</td>\n",
              "      <td>False</td>\n",
              "      <td>False</td>\n",
              "      <td>False</td>\n",
              "      <td>False</td>\n",
              "      <td>False</td>\n",
              "      <td>False</td>\n",
              "      <td>False</td>\n",
              "      <td>False</td>\n",
              "      <td>False</td>\n",
              "      <td>True</td>\n",
              "      <td>True</td>\n",
              "      <td>False</td>\n",
              "      <td>False</td>\n",
              "      <td>False</td>\n",
              "      <td>False</td>\n",
              "      <td>False</td>\n",
              "      <td>False</td>\n",
              "      <td>False</td>\n",
              "      <td>True</td>\n",
              "      <td>False</td>\n",
              "      <td>False</td>\n",
              "      <td>False</td>\n",
              "      <td>False</td>\n",
              "      <td>True</td>\n",
              "      <td>False</td>\n",
              "      <td>False</td>\n",
              "      <td>False</td>\n",
              "      <td>False</td>\n",
              "      <td>False</td>\n",
              "      <td>False</td>\n",
              "      <td>False</td>\n",
              "      <td>False</td>\n",
              "      <td>...</td>\n",
              "      <td>False</td>\n",
              "      <td>False</td>\n",
              "      <td>False</td>\n",
              "      <td>False</td>\n",
              "      <td>False</td>\n",
              "      <td>False</td>\n",
              "      <td>False</td>\n",
              "      <td>False</td>\n",
              "      <td>False</td>\n",
              "      <td>False</td>\n",
              "      <td>False</td>\n",
              "      <td>False</td>\n",
              "      <td>False</td>\n",
              "      <td>False</td>\n",
              "      <td>True</td>\n",
              "      <td>False</td>\n",
              "      <td>False</td>\n",
              "      <td>False</td>\n",
              "      <td>False</td>\n",
              "      <td>False</td>\n",
              "      <td>False</td>\n",
              "      <td>False</td>\n",
              "      <td>False</td>\n",
              "      <td>False</td>\n",
              "      <td>False</td>\n",
              "      <td>False</td>\n",
              "      <td>False</td>\n",
              "      <td>False</td>\n",
              "      <td>False</td>\n",
              "      <td>False</td>\n",
              "      <td>False</td>\n",
              "      <td>False</td>\n",
              "      <td>False</td>\n",
              "      <td>False</td>\n",
              "      <td>False</td>\n",
              "      <td>False</td>\n",
              "      <td>False</td>\n",
              "      <td>False</td>\n",
              "      <td>False</td>\n",
              "      <td>False</td>\n",
              "    </tr>\n",
              "  </tbody>\n",
              "</table>\n",
              "<p>5 rows × 168 columns</p>\n",
              "</div>"
            ],
            "text/plain": [
              "    hero_names  Agility  ...  Omnipresent  Omniscient\n",
              "0      3-D Man     True  ...        False       False\n",
              "1       A-Bomb    False  ...        False       False\n",
              "2   Abe Sapien     True  ...        False       False\n",
              "3     Abin Sur    False  ...        False       False\n",
              "4  Abomination    False  ...        False       False\n",
              "\n",
              "[5 rows x 168 columns]"
            ]
          },
          "metadata": {
            "tags": []
          },
          "execution_count": 8
        }
      ]
    },
    {
      "cell_type": "code",
      "metadata": {
        "id": "F7wjnr2eULBp",
        "colab_type": "code",
        "colab": {}
      },
      "source": [
        "## merge powers with the superheros data\n",
        "superheroes = pd.merge(superheroes, powers, how=\"left\", left_on=\"name\", right_on=\"hero_names\")"
      ],
      "execution_count": null,
      "outputs": []
    },
    {
      "cell_type": "code",
      "metadata": {
        "id": "vRizUFTxPjj8",
        "colab_type": "code",
        "colab": {}
      },
      "source": [
        "# sum up each hero's powers:\n",
        "superheroes.replace(to_replace={False: 0, True: 1}, inplace=True)\n",
        "superheroes[\"powers\"] = superheroes.loc[:,\"Agility\":\"Omniscient\"].sum(axis=1).map(int)"
      ],
      "execution_count": null,
      "outputs": []
    },
    {
      "cell_type": "code",
      "metadata": {
        "id": "-iPjac-zU23_",
        "colab_type": "code",
        "colab": {
          "base_uri": "https://localhost:8080/",
          "height": 170
        },
        "outputId": "e78911fc-e3f8-4b1e-9e1f-2069cb4da91d"
      },
      "source": [
        "superheroes[\"powers\"].describe()"
      ],
      "execution_count": null,
      "outputs": [
        {
          "output_type": "execute_result",
          "data": {
            "text/plain": [
              "count    401.000000\n",
              "mean       7.962594\n",
              "std        7.355005\n",
              "min        0.000000\n",
              "25%        2.000000\n",
              "50%        6.000000\n",
              "75%       11.000000\n",
              "max       49.000000\n",
              "Name: powers, dtype: float64"
            ]
          },
          "metadata": {
            "tags": []
          },
          "execution_count": 9
        }
      ]
    },
    {
      "cell_type": "code",
      "metadata": {
        "id": "nbdo3ZR8U9ae",
        "colab_type": "code",
        "colab": {}
      },
      "source": [
        "# for this demo, we'll assume if superhero has more than 8 powers, they are a high performer\n",
        "superheroes[\"is_high_performer\"] = superheroes[\"powers\"] > 8"
      ],
      "execution_count": null,
      "outputs": []
    },
    {
      "cell_type": "code",
      "metadata": {
        "id": "Mc7gwiBkVafW",
        "colab_type": "code",
        "colab": {
          "base_uri": "https://localhost:8080/",
          "height": 68
        },
        "outputId": "2bdcc10f-77b0-418f-9f51-6ac06cac7663"
      },
      "source": [
        "superheroes[\"is_high_performer\"].value_counts()"
      ],
      "execution_count": null,
      "outputs": [
        {
          "output_type": "execute_result",
          "data": {
            "text/plain": [
              "False    257\n",
              "True     144\n",
              "Name: is_high_performer, dtype: int64"
            ]
          },
          "metadata": {
            "tags": []
          },
          "execution_count": 11
        }
      ]
    },
    {
      "cell_type": "code",
      "metadata": {
        "id": "KS9u7dQpOASL",
        "colab_type": "code",
        "colab": {}
      },
      "source": [
        "# for time, we'll randomly select 17 superheroes \n",
        "superheroes = superheroes.sample(17)\n",
        "superheroes = superheroes.reset_index()"
      ],
      "execution_count": null,
      "outputs": []
    },
    {
      "cell_type": "code",
      "metadata": {
        "id": "GePY2R4XOGcD",
        "colab_type": "code",
        "colab": {
          "base_uri": "https://localhost:8080/",
          "height": 68
        },
        "outputId": "705256df-f02b-48b1-9a7f-c476b436ebbc"
      },
      "source": [
        "superheroes[\"is_female\"].value_counts()"
      ],
      "execution_count": null,
      "outputs": [
        {
          "output_type": "execute_result",
          "data": {
            "text/plain": [
              "0    14\n",
              "1     3\n",
              "Name: is_female, dtype: int64"
            ]
          },
          "metadata": {
            "tags": []
          },
          "execution_count": 13
        }
      ]
    },
    {
      "cell_type": "code",
      "metadata": {
        "id": "63J4-IrA_vsd",
        "colab_type": "code",
        "colab": {}
      },
      "source": [
        "import math\n",
        "MAX_TEAM_SIZE = 8\n",
        "\n",
        "num_superheroes = superheroes.shape[0]\n",
        "num_teams = math.ceil(num_superheroes / MAX_TEAM_SIZE)\n",
        "all_superheroes = range(superheroes.shape[0])\n",
        "all_teams = range(num_teams)"
      ],
      "execution_count": null,
      "outputs": []
    },
    {
      "cell_type": "code",
      "metadata": {
        "id": "ecLsTdnW_1Ld",
        "colab_type": "code",
        "colab": {
          "base_uri": "https://localhost:8080/",
          "height": 51
        },
        "outputId": "c6f8379b-a8e6-4ec0-d205-ef69444fa0aa"
      },
      "source": [
        "print(\"There are %d superheroes.\" % num_superheroes)\n",
        "print(\"We can make at most %d teams of size %d\" % (num_teams, MAX_TEAM_SIZE))"
      ],
      "execution_count": null,
      "outputs": [
        {
          "output_type": "stream",
          "text": [
            "There are 17 superheroes.\n",
            "We can make at most 3 teams of size 8\n"
          ],
          "name": "stdout"
        }
      ]
    },
    {
      "cell_type": "code",
      "metadata": {
        "id": "8OhMlaA_NUaQ",
        "colab_type": "code",
        "colab": {
          "base_uri": "https://localhost:8080/",
          "height": 323
        },
        "outputId": "58a93ef0-522b-4939-8027-e1e871352c54"
      },
      "source": [
        "print(superheroes.loc[:,[\"name\",\"is_high_performer\",\"Gender\",\"Publisher\"]])"
      ],
      "execution_count": null,
      "outputs": [
        {
          "output_type": "stream",
          "text": [
            "               name  is_high_performer  Gender      Publisher\n",
            "0     Black Goliath              False    Male  Marvel Comics\n",
            "1        Hal Jordan               True    Male      DC Comics\n",
            "2     Silver Surfer               True    Male  Marvel Comics\n",
            "3             Storm              False  Female  Marvel Comics\n",
            "4           Aquaman               True    Male      DC Comics\n",
            "5       Mockingbird              False  Female  Marvel Comics\n",
            "6           Box III              False       -  Marvel Comics\n",
            "7   Howard the Duck              False    Male  Marvel Comics\n",
            "8           Robin V              False    Male      DC Comics\n",
            "9    Jack of Hearts               True    Male  Marvel Comics\n",
            "10      Mr Immortal              False    Male  Marvel Comics\n",
            "11      Shatterstar              False    Male  Marvel Comics\n",
            "12             Hulk               True    Male  Marvel Comics\n",
            "13      Doctor Fate               True    Male      DC Comics\n",
            "14         Agent 13              False  Female  Marvel Comics\n",
            "15            Groot               True    Male  Marvel Comics\n",
            "16       Metamorpho              False    Male      DC Comics\n"
          ],
          "name": "stdout"
        }
      ]
    },
    {
      "cell_type": "markdown",
      "metadata": {
        "id": "qwBktdAYmXm6",
        "colab_type": "text"
      },
      "source": [
        "### 2. Instantiate the solver"
      ]
    },
    {
      "cell_type": "code",
      "metadata": {
        "id": "akNspgfHjJAC",
        "colab_type": "code",
        "colab": {}
      },
      "source": [
        "from ortools.sat.python import cp_model\n",
        "model = cp_model.CpModel()\n"
      ],
      "execution_count": null,
      "outputs": []
    },
    {
      "cell_type": "markdown",
      "metadata": {
        "id": "EiaFwJXFw7wn",
        "colab_type": "text"
      },
      "source": [
        "\n",
        "### 3. Declare decision variables\n",
        "\n",
        "Decision variables allow the solver to assign superheroes to teams. The solver will set the variables to `1` if a superhero is on a certain team. \n",
        "\n",
        "1. Let $t_{ij} = 1$ if superhero $j$ is on team $i$ and $t_{ij} = 0$ otherwise.\n",
        "2. Let $m_{jk} = 1$ if superhero $j$ is on the same team as superhero $k$ and $m_{jk} = 0$ otherwise.\n",
        "3. Let $s_{ijk} = 1$ if superhero $j$ and $k$ are on team $i$, and  $s_{ijk} = 0$ otherwise.\n",
        "\n",
        "We add these variables using the `NewBoolVar` [method](https://developers.google.com/optimization/reference/python/sat/python/cp_model#newboolvar).\n",
        "\n"
      ]
    },
    {
      "cell_type": "code",
      "metadata": {
        "id": "cBgEkWHW0sCz",
        "colab_type": "code",
        "colab": {}
      },
      "source": [
        "# decision variables\n",
        "\n",
        "# superhero a is in team t if team[(a,t)] = 1\n",
        "teams = {}\n",
        "for a in all_superheroes:\n",
        "    for t in all_teams:\n",
        "        teams[(t, a)] = model.NewBoolVar('team:%i superhero:%i' % (t, a))\n",
        "\n",
        "team_members = {}\n",
        "for a1 in range(num_superheroes - 1):\n",
        "    for a2 in range(a1 + 1, num_superheroes):\n",
        "        team_members[(a1, a2)] = model.NewBoolVar('superhero %i is teamed with superhero %i' % (a1, a2))\n",
        "\n",
        "same_team = {}\n",
        "for a1 in range(num_superheroes - 1):\n",
        "    for a2 in range(a1 + 1, num_superheroes):\n",
        "        for t in all_teams:\n",
        "            same_team[(a1, a2, t)] = model.NewBoolVar(\n",
        "                'superhero %i is teamed with superhero %i on team %i' % (a1, a2, t))"
      ],
      "execution_count": null,
      "outputs": []
    },
    {
      "cell_type": "markdown",
      "metadata": {
        "id": "mBaeNCkQ0w6b",
        "colab_type": "text"
      },
      "source": [
        "### 3. Add constraints\n",
        "\n",
        "Now that we have the decision variables, we can add the constraints using the solver's `Add` [method](https://developers.google.com/optimization/reference/python/sat/python/cp_model#add). The solver will decide which of the decision variables to set to `1`, i.e., which superhero to assign to which team, and satisfy the constraints.\n",
        "\n",
        "\n",
        "\n"
      ]
    },
    {
      "cell_type": "code",
      "metadata": {
        "id": "63oTRQYswfVh",
        "colab_type": "code",
        "colab": {}
      },
      "source": [
        "# set constants\n",
        "MIN_TEAM_SIZE = 1\n",
        "MIN_HIGH_PERFORMER = 1\n",
        "MIN_FEMALE = 1\n",
        "MIN_NONHUMAN = 1"
      ],
      "execution_count": null,
      "outputs": []
    },
    {
      "cell_type": "markdown",
      "metadata": {
        "id": "FXz4bx5m1owj",
        "colab_type": "text"
      },
      "source": [
        "Let $S$ be the set of superheroes and $T$ the set of teams.\n",
        "1. Every superhero can only be on one team.\n",
        "$$\\forall j \\in S, \\sum_{i\\in T} t_{ij} = 1$$"
      ]
    },
    {
      "cell_type": "code",
      "metadata": {
        "id": "Ja_LfqzZvCi0",
        "colab_type": "code",
        "colab": {}
      },
      "source": [
        "# each superhero is assigned to only one team\n",
        "for a in all_superheroes:\n",
        "    model.Add(sum(teams[(t, a)] for t in all_teams) == 1)"
      ],
      "execution_count": null,
      "outputs": []
    },
    {
      "cell_type": "markdown",
      "metadata": {
        "id": "f2oNrIcIvFlz",
        "colab_type": "text"
      },
      "source": [
        "2. Teams can have at most 8 superheroes.\n",
        "$$\\forall i \\in T, \\sum_{j \\in S} t_{ij} \\le 8 $$\n"
      ]
    },
    {
      "cell_type": "code",
      "metadata": {
        "id": "6lHjM6nkvK3H",
        "colab_type": "code",
        "colab": {}
      },
      "source": [
        "# teams can have at most MAX_TEAM_SIZE superheroes\n",
        "for t in all_teams:\n",
        "    model.Add(sum(teams[(t, a)] for a in all_superheroes) <= MAX_TEAM_SIZE)"
      ],
      "execution_count": null,
      "outputs": []
    },
    {
      "cell_type": "markdown",
      "metadata": {
        "id": "zK25tC8MvP2V",
        "colab_type": "text"
      },
      "source": [
        "3. Teams have at least one high performer.\n",
        "$$\\forall i \\in T, \\sum_{j \\in S} I(j=\\text{high performer})*t_{ij} \\ge 1 $$\n",
        "\n",
        "4. Teams have at least one female.\n",
        "$$\\forall i \\in T, \\sum_{j \\in S} I(j=\\text{female})*t_{ij} \\ge 1 $$\n",
        "\n",
        "5. Teams have at least one non-human superhero.\n",
        "$$\\forall i \\in T, \\sum_{j \\in S} I(j=\\text{non-human})*t_{ij} \\ge 1 $$"
      ]
    },
    {
      "cell_type": "code",
      "metadata": {
        "id": "7g5jaCv_wVNF",
        "colab_type": "code",
        "colab": {}
      },
      "source": [
        "for t in all_teams:\n",
        "  # each team has at least one high performer, i.e., all high performers can't be in the same team\n",
        "    model.Add(sum(superheroes.loc[a, 'is_high_performer'] * teams[(t, a)] for a in all_superheroes) >= MIN_HIGH_PERFORMER)\n",
        "\n",
        "  # each team has at least one female and one non-human superhero\n",
        "    model.Add(sum(superheroes.loc[a, 'is_female'] * teams[(t, a)] for a in all_superheroes) >= MIN_FEMALE)\n",
        "    model.Add(sum(superheroes.loc[a, 'is_non_human'] * teams[(t, a)] for a in all_superheroes) >= MIN_NONHUMAN)\n",
        "\n"
      ],
      "execution_count": null,
      "outputs": []
    },
    {
      "cell_type": "code",
      "metadata": {
        "id": "jOyo899qwbaC",
        "colab_type": "code",
        "colab": {}
      },
      "source": [
        "# add one final constraint to link it all together\n",
        "# Link team members with teams\n",
        "for a1 in range(num_superheroes - 1):\n",
        "    for a2 in range(a1 + 1, num_superheroes):\n",
        "        for t in all_teams:\n",
        "            # Link same_team and teams, i.e., one of the following is true\n",
        "            model.AddBoolOr([\n",
        "                teams[(t, a1)].Not(), teams[(t, a2)].Not(), same_team[(a1, a2, t)]\n",
        "            ])\n",
        "\n",
        "            # a1 and a2 being on team t means a1 is on team t and a2 is on team t\n",
        "            model.AddImplication(same_team[(a1, a2, t)], teams[(t, a1)])\n",
        "            model.AddImplication(same_team[(a1, a2, t)], teams[(t, a2)])\n",
        "\n",
        "        # Link team_members and same_team.\n",
        "        model.Add(sum(same_team[(a1, a2, t)] for t in all_teams) == team_members[(a1, a2)])\n",
        "\n"
      ],
      "execution_count": null,
      "outputs": []
    },
    {
      "cell_type": "markdown",
      "metadata": {
        "id": "iPCtwhAPV5LF",
        "colab_type": "text"
      },
      "source": [
        "**Adding an objective function** \n",
        "\n",
        "Optionally, we can also add an objective function to maximize overall team synergy. In practice, the synergies of individuals is estimated or known in advance of applying CO.\n",
        "\n",
        "For this scenario, let's assume that when on the same team, superheroes from the same universe complement each other's powers so that the resulting output is twice their combined powers. On the otherhand, when superheroes from different universes are teamed, they have trouble working together so there is no productivity gained.\n",
        "\n",
        "Let $p_j$ represent the power of superhero $j$ and $u_j$ represent the comic universe of superhero $j$\n",
        "\n",
        "$$synergy(j,k) = \\begin{cases} \n",
        "      2(p_j+p_k) & u_j = u_k \\\\\n",
        "      0 & u_j \\ne u_k \\\\\n",
        "   \\end{cases}\n",
        "\\\n",
        "$$\n",
        "\n",
        "We want to maximize the overall synergy of all teams\n",
        "$$ \\sum_{j}\\sum_{k}\\text{synergy}(j,k)*m_{jk} $$"
      ]
    },
    {
      "cell_type": "code",
      "metadata": {
        "id": "MsXN_MXeHCUj",
        "colab_type": "code",
        "colab": {}
      },
      "source": [
        "def synergy(universe1, universe2, power1, power2):\n",
        "  synergy_factor = 2\n",
        "\n",
        "  # superheroes of the same universe create synergy\n",
        "  if universe1 == universe2:\n",
        "    return (power1+power2)*synergy_factor\n",
        "  \n",
        "  #superheroes from different universe detract\n",
        "  else:\n",
        "    return (power1+power2)*0\n",
        "    "
      ],
      "execution_count": null,
      "outputs": []
    },
    {
      "cell_type": "code",
      "metadata": {
        "id": "W7grcOCIV6by",
        "colab_type": "code",
        "colab": {}
      },
      "source": [
        "# Objective\n",
        "model.Maximize(\n",
        "    sum(synergy(superheroes.loc[a1,'Publisher'], superheroes.loc[a2,'Publisher'],superheroes.loc[a1,'powers'],superheroes.loc[a2,'powers']) * team_members[a1, a2]\n",
        "        for a1 in range(num_superheroes - 1) for a2 in range(a1 + 1, num_superheroes)))\n",
        "\n"
      ],
      "execution_count": null,
      "outputs": []
    },
    {
      "cell_type": "markdown",
      "metadata": {
        "id": "e1d8mh1B7zdB",
        "colab_type": "text"
      },
      "source": [
        "### 4. Run the solver\n",
        "\n",
        "We can now run the solver to find our teams!"
      ]
    },
    {
      "cell_type": "code",
      "metadata": {
        "id": "nxX6Xddv76VL",
        "colab_type": "code",
        "colab": {}
      },
      "source": [
        "  # call the solver\n",
        "  solver = cp_model.CpSolver()\n",
        "  status = solver.Solve(model)\n",
        "\n",
        "  solution_printer = SuperheroesPartialSolutionPrinter(teams, num_superheroes, num_teams, range(5))"
      ],
      "execution_count": null,
      "outputs": []
    },
    {
      "cell_type": "code",
      "metadata": {
        "id": "jueOPRwgG0De",
        "colab_type": "code",
        "colab": {
          "base_uri": "https://localhost:8080/",
          "height": 493
        },
        "outputId": "1baa8759-6de0-4f58-ea4b-7064bb53815b"
      },
      "source": [
        "if status == cp_model.FEASIBLE or status == cp_model.OPTIMAL:\n",
        "    for t in all_teams:\n",
        "        print('\\nTeam %i' % t)\n",
        "        for a in all_superheroes:\n",
        "            if solver.Value(teams[t, a]):\n",
        "                name = superheroes.loc[a, 'name']\n",
        "                gender = superheroes.loc[a,'Gender']\n",
        "                race = superheroes.loc[a,'Race']\n",
        "                num_powers = superheroes.loc[a,'powers']\n",
        "                universe = superheroes.loc[a,'Publisher']\n",
        "                print(\"%s - %s - %s - %s Powers: %d\" % (name, gender, race, universe, num_powers))\n",
        "\n",
        "    print('Statistics')\n",
        "    print('  - conflicts       : %i' % solver.NumConflicts())\n",
        "    print('  - branches        : %i' % solver.NumBranches())\n",
        "    print('  - wall time       : %f s' % solver.WallTime())\n",
        "    print('  - solutions found : %i' % solution_printer.solution_count())"
      ],
      "execution_count": null,
      "outputs": [
        {
          "output_type": "stream",
          "text": [
            "\n",
            "Team 0\n",
            "Black Goliath - Male - - - Marvel Comics Powers: 0\n",
            "Mockingbird - Female - Human - Marvel Comics Powers: 7\n",
            "Jack of Hearts - Male - Human - Marvel Comics Powers: 10\n",
            "\n",
            "Team 1\n",
            "Silver Surfer - Male - Alien - Marvel Comics Powers: 21\n",
            "Storm - Female - Mutant - Marvel Comics Powers: 8\n",
            "Box III - - - - - Marvel Comics Powers: 0\n",
            "Howard the Duck - Male - - - Marvel Comics Powers: 0\n",
            "Mr Immortal - Male - Mutant - Marvel Comics Powers: 3\n",
            "Shatterstar - Male - - - Marvel Comics Powers: 6\n",
            "Hulk - Male - Human / Radiation - Marvel Comics Powers: 18\n",
            "Groot - Male - Flora Colossus - Marvel Comics Powers: 13\n",
            "\n",
            "Team 2\n",
            "Hal Jordan - Male - Human - DC Comics Powers: 15\n",
            "Aquaman - Male - Atlantean - DC Comics Powers: 24\n",
            "Robin V - Male - Human - DC Comics Powers: 5\n",
            "Doctor Fate - Male - Human - DC Comics Powers: 22\n",
            "Agent 13 - Female - - - Marvel Comics Powers: 0\n",
            "Metamorpho - Male - - - DC Comics Powers: 4\n",
            "Statistics\n",
            "  - conflicts       : 4209\n",
            "  - branches        : 5751\n",
            "  - wall time       : 0.743992 s\n",
            "  - solutions found : 0\n"
          ],
          "name": "stdout"
        }
      ]
    },
    {
      "cell_type": "markdown",
      "metadata": {
        "id": "oZPB_OK-I5x3",
        "colab_type": "text"
      },
      "source": [
        "As we can see, the solver chose to make teams homogeneous in terms of the comic book universe to maximize productivity. This makes sense since we specified that being from the same universe is more productive."
      ]
    },
    {
      "cell_type": "markdown",
      "metadata": {
        "id": "NfGlmuDnVnGG",
        "colab_type": "text"
      },
      "source": [
        "## Summary\n",
        "\n",
        "We saw how to create teams to potentially maximize productivity (that is, if every superhero puts their egos aside and works cooperatively). Although this was a fun, example, it can be applied to sports, business, even a [wedding](https://www.improbable.com/2012/02/12/finding-an-optimal-seating-chart-for-a-wedding/)."
      ]
    },
    {
      "cell_type": "code",
      "metadata": {
        "id": "zGnfAT7SJ8iU",
        "colab_type": "code",
        "colab": {}
      },
      "source": [
        ""
      ],
      "execution_count": null,
      "outputs": []
    }
  ]
}