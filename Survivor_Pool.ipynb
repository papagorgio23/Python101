{
  "nbformat": 4,
  "nbformat_minor": 0,
  "metadata": {
    "colab": {
      "name": "Survivor Pool.ipynb",
      "provenance": [],
      "collapsed_sections": [],
      "toc_visible": true,
      "include_colab_link": true
    },
    "kernelspec": {
      "name": "python3",
      "display_name": "Python 3"
    }
  },
  "cells": [
    {
      "cell_type": "markdown",
      "metadata": {
        "id": "view-in-github",
        "colab_type": "text"
      },
      "source": [
        "<a href=\"https://colab.research.google.com/github/papagorgio23/Python101/blob/master/Survivor_Pool.ipynb\" target=\"_parent\"><img src=\"https://colab.research.google.com/assets/colab-badge.svg\" alt=\"Open In Colab\"/></a>"
      ]
    },
    {
      "cell_type": "markdown",
      "metadata": {
        "id": "8bXERzLv5brx",
        "colab_type": "text"
      },
      "source": [
        "![A.I. Sports](https://raw.githubusercontent.com/papagorgio23/Python101/master/newlogo.png)\n",
        "\n",
        "www.AISportsFirm.com"
      ]
    },
    {
      "cell_type": "markdown",
      "metadata": {
        "id": "dpDcEB5UYWlr",
        "colab_type": "text"
      },
      "source": [
        "# NFL Survivor Pool Optimizer"
      ]
    },
    {
      "cell_type": "markdown",
      "metadata": {
        "id": "y_ruxcA2Mk6H",
        "colab_type": "text"
      },
      "source": [
        "![Draft Kings](https://raw.githubusercontent.com/papagorgio23/Python101/master/DraftKings.png)"
      ]
    },
    {
      "cell_type": "markdown",
      "metadata": {
        "id": "Cqv4sq9EaC7b",
        "colab_type": "text"
      },
      "source": [
        "We are going to tap into the Draft Kings API to access player prices and average player scores. \n",
        "\n",
        "We are then going to use this information to create optimal lineups. \n",
        "\n",
        "*   Optimial lineup = Combination of players that will score the most points\n"
      ]
    },
    {
      "cell_type": "markdown",
      "metadata": {
        "id": "1b6GCPlkNpqk",
        "colab_type": "text"
      },
      "source": [
        "## Linear Programming (The Math)"
      ]
    },
    {
      "cell_type": "markdown",
      "metadata": {
        "id": "EVX8TdwTNraV",
        "colab_type": "text"
      },
      "source": [
        "The basic framework of linear/integer programming is as follows:\n",
        "\n",
        "\n",
        "*   There are **Decision Variables**\n",
        "    *  These will be the variables that we can select (i.e. which team to pick to win each week)\n",
        "*   There is an **Objective Function** to either Maximize or Minimize\n",
        "    * Our goal will be to Maximize the win probability\n",
        "*   There are **Constraints** we must abide by\n",
        "    * Only select a team once, non-negativity\n",
        "\n",
        "\n"
      ]
    },
    {
      "cell_type": "markdown",
      "metadata": {
        "id": "YUm5zPyRz3_Z",
        "colab_type": "text"
      },
      "source": [
        "## Definitions:\n",
        "\n",
        "<br>\n",
        "\n",
        "**Index Sets:**\n",
        "\n",
        "Let ***I*** be the set of Weeks in the NFL season, indexed by *i*\n",
        "\n",
        "Let ***J*** be the set of NFL teams, indexed by *j*\n",
        "\n",
        "\n",
        "<br>\n",
        "\n",
        "**Variables:**\n",
        "\n",
        "Let ***x*** be the team\n",
        "\n",
        "Let ***P*** be the win probability for each matchup\n",
        "\n",
        "Let ***W*** be the week number in the season\n",
        "\n",
        "\n",
        "<br>\n",
        "\n",
        "**Other Variables:**\n",
        "\n",
        "Let ***n*** be the total number of teams\n",
        "\n",
        "Let ***m*** be the total number of weeks\n",
        "\n",
        "<br>\n",
        "\n",
        "***\n",
        "\n",
        "<br>\n",
        "\n",
        "$x_{ij} = Team\\ Selected$\n",
        "\n",
        "<br>\n",
        "\n",
        "$P_{ij} = Probability\\ to\\ win$\n",
        "\n",
        "<br>\n",
        "\n",
        "\n",
        "***\n",
        "\n",
        "<br>\n",
        "\n",
        "\n",
        "#### implicit Form:\n",
        "\n",
        "\n",
        "$$maximize\\ \\ \\ \\ \\ \\ z = \\sum_{i=1}^n\\sum_{j=1}^m P_{ij} * x_{ij} $$\n",
        "\n",
        "<br>\n",
        "\n",
        "$$\\ \\ \\ \\ \\ \\ \\ \\ \\ \\ \\ \\ \\ \\ \\ \\ \\ \\ \\ \\ subject\\ to\\ \\ \\ \\ \\ \\sum_{i=1}^n\\sum_{j=1}^m C_{ij} * x_{ij} \\leq Max\\ Salary$$\n",
        "\n",
        "\n",
        "$$\\ \\ \\ \\ \\ \\ \\ \\ \\ \\ \\ \\ \\ \\ \\ \\ \\ \\ \\ \\ \\ \\ \\ \\ \\ \\ \\ \\ \\ \\ \\ \\sum_{j=1}^m x_{ij} =1, \\ \\ for\\ \\ i = QB$$\n",
        "\n",
        "\n",
        "$$\\ \\ \\ \\ \\ \\ \\ \\ \\ \\ \\ \\ \\ \\ \\ \\ \\ \\ \\ \\ \\ \\ \\ \\ \\ \\ \\ \\ \\ \\ \\ \\ \\sum_{j=1}^m x_{ij}  =2, \\ \\ for\\ \\ i = RB$$\n",
        "\n",
        "$$\\ \\ \\ \\ \\ \\ \\ \\ \\ \\ \\ \\ \\ \\ \\ \\ \\ \\ \\ \\ \\ \\ \\ \\ \\ \\ \\ \\ \\ \\ \\ \\ \\ \\ \\sum_{j=1}^m x_{ij} =3, \\ \\ for\\ \\ i = WR$$\n",
        "\n",
        "$$\\ \\ \\ \\ \\ \\ \\ \\ \\ \\ \\ \\ \\ \\ \\ \\ \\ \\ \\ \\ \\ \\ \\ \\ \\ \\ \\ \\ \\ \\ \\ \\ \\sum_{j=1}^m x_{ij} =1, \\ \\ for\\ \\ i = TE$$\n",
        "\n",
        "$$\\ \\ \\ \\ \\ \\ \\ \\ \\ \\ \\ \\ \\ \\ \\ \\ \\ \\ \\ \\ \\ \\ \\ \\ \\ \\ \\ \\ \\ \\ \\ \\ \\ \\ \\ \\ \\ \\ \\sum_{j=1}^m x_{ij} =1, \\ \\ for\\ \\ i = FLEX$$\n",
        "\n",
        "$$\\ \\ \\ \\ \\ \\ \\ \\ \\ \\ \\ \\ \\ \\ \\ \\ \\ \\ \\ \\ \\ \\ \\ \\ \\ \\ \\ \\ \\ \\ \\ \\ \\ \\ \\ \\sum_{j=1}^m x_{ij} =1, \\ \\ for\\ \\ i = DST$$\n",
        "\n",
        "$$\\ \\ \\ \\ \\ \\ \\ \\ \\ \\ \\ \\ \\ \\sum_{i=1}^n\\sum_{j=1}^m x_{ij} = 9$$\n",
        "\n",
        "$$\\ \\ \\ \\ \\ \\ \\ \\ \\ \\ \\ \\ \\ \\ \\ \\ x_{ij} \\geq 0,\\ \\forall \\ i,\\ j$$\n",
        "\n",
        "<br>\n",
        "\n",
        "***"
      ]
    },
    {
      "cell_type": "markdown",
      "metadata": {
        "id": "tBo36uyXgeJm",
        "colab_type": "text"
      },
      "source": [
        "## The Dream Survivor Pool Rules\n",
        "\n",
        "<br>\n",
        "\n",
        "<br>\n",
        "\n",
        "Basic Game-play :It's simple... make 1 pick each week, that's it!\n",
        "Once you pick a team, you can't pick them again, regardless if they win or lose. \n",
        "\n",
        "After you get two losses you are out unless you decide to buy-back in ($5) or join the consolation pool (If you lose twice prior to week 8 picks). Each loss after buying back in requires a buy-back to continue.\n",
        "\n",
        "<br>\n",
        "\n",
        "**Advanced Game-play**:  There are (3) exciting twists to keep in mind:\n",
        "\n",
        "<br>\n",
        "\n",
        "1.   Loser's Week - Week 7\n",
        "\n",
        "     *   In Week 7, you must choose a team to lose.\n",
        "     *   **BUT**, it has to be one of the (6) teams you selected in Weeks 1 - 6.\n",
        "     *   They do not need to have actually won previously to be eligble.\n",
        "\n",
        "<br>\n",
        "\n",
        "2.   Two-pick Week - Week 14\n",
        "\n",
        "     *   In Week 14, you must select (2) teams to win.\n",
        "     *   Only getting both right will get you a win in the standings. \n",
        "     *   Any other result (outside of two ties) will get you a loss.\n",
        "\n",
        "<br>\n",
        "\n",
        "3.   Pre-selected double-dip\n",
        "\n",
        "     *   Nominate one NON playoff team from 2018 to be your Double-Dip for 2019\n",
        "     *   This team may be selected twice this year with no restrictions\n",
        "     *   If you also pick this team in Weeks 1-6, you can pick them as your loser and use them 3 times\n",
        "     *   Nominations will be completed in the first pick survey.\n",
        "\n",
        "\n"
      ]
    },
    {
      "cell_type": "markdown",
      "metadata": {
        "id": "nzWQ0ckce6nq",
        "colab_type": "text"
      },
      "source": [
        "[Official Rules](https://docs.google.com/spreadsheets/d/1ePUp4tcafBpYBrkmc7BRlzZtlKx3J06dlENEzThovdM/edit#gid=1377458333)"
      ]
    },
    {
      "cell_type": "markdown",
      "metadata": {
        "id": "VBNAb8XbO61J",
        "colab_type": "text"
      },
      "source": [
        "# Python Code"
      ]
    },
    {
      "cell_type": "markdown",
      "metadata": {
        "id": "Qy--QJ36gD-R",
        "colab_type": "text"
      },
      "source": [
        "### Load Libraries"
      ]
    },
    {
      "cell_type": "code",
      "metadata": {
        "id": "wpK8HNlyYTbg",
        "colab_type": "code",
        "colab": {
          "base_uri": "https://localhost:8080/",
          "height": 204
        },
        "outputId": "d51707c4-1c5e-40d5-f6a5-b4a8a534598e"
      },
      "source": [
        "!pip install pulp\n",
        "\n",
        "import urllib, json\n",
        "import pandas as pd\n",
        "import numpy as np\n",
        "import re\n",
        "\n",
        "from pulp import *"
      ],
      "execution_count": null,
      "outputs": [
        {
          "output_type": "stream",
          "text": [
            "Collecting pulp\n",
            "\u001b[?25l  Downloading https://files.pythonhosted.org/packages/2d/33/3ae6d9d2ac8c7068937af6372fd8828ac605e62a8b17106fe57110930d38/PuLP-1.6.10.zip (13.6MB)\n",
            "\u001b[K     |████████████████████████████████| 13.6MB 4.8MB/s \n",
            "\u001b[?25hRequirement already satisfied: pyparsing>=2.0.1 in /usr/local/lib/python3.6/dist-packages (from pulp) (2.4.2)\n",
            "Building wheels for collected packages: pulp\n",
            "  Building wheel for pulp (setup.py) ... \u001b[?25l\u001b[?25hdone\n",
            "  Created wheel for pulp: filename=PuLP-1.6.10-cp36-none-any.whl size=12269903 sha256=aae9fe861bb643c371031130798c4f26b3acf6b7bb916bd86103ac57b37b5f65\n",
            "  Stored in directory: /root/.cache/pip/wheels/5e/76/77/e28b22219e46e3b4b033f02e8b36b2770ae545bdcf60c2b224\n",
            "Successfully built pulp\n",
            "Installing collected packages: pulp\n",
            "Successfully installed pulp-1.6.10\n"
          ],
          "name": "stdout"
        }
      ]
    },
    {
      "cell_type": "markdown",
      "metadata": {
        "id": "33xzJsxoYxGU",
        "colab_type": "text"
      },
      "source": [
        "## Get Data"
      ]
    },
    {
      "cell_type": "code",
      "metadata": {
        "id": "ssEt5ZrTpwtm",
        "colab_type": "code",
        "colab": {
          "base_uri": "https://localhost:8080/",
          "height": 204
        },
        "outputId": "0cae9175-8f63-4d03-e515-ee1a02818934"
      },
      "source": [
        "survivor = pd.read_csv(\"https://raw.githubusercontent.com/papagorgio23/Python101/master/survivor.csv\")\n",
        "survivor.head()"
      ],
      "execution_count": null,
      "outputs": [
        {
          "output_type": "execute_result",
          "data": {
            "text/html": [
              "<div>\n",
              "<style scoped>\n",
              "    .dataframe tbody tr th:only-of-type {\n",
              "        vertical-align: middle;\n",
              "    }\n",
              "\n",
              "    .dataframe tbody tr th {\n",
              "        vertical-align: top;\n",
              "    }\n",
              "\n",
              "    .dataframe thead th {\n",
              "        text-align: right;\n",
              "    }\n",
              "</style>\n",
              "<table border=\"1\" class=\"dataframe\">\n",
              "  <thead>\n",
              "    <tr style=\"text-align: right;\">\n",
              "      <th></th>\n",
              "      <th>team</th>\n",
              "      <th>week</th>\n",
              "      <th>Prob</th>\n",
              "    </tr>\n",
              "  </thead>\n",
              "  <tbody>\n",
              "    <tr>\n",
              "      <th>0</th>\n",
              "      <td>ARZ</td>\n",
              "      <td>1</td>\n",
              "      <td>0.468766</td>\n",
              "    </tr>\n",
              "    <tr>\n",
              "      <th>1</th>\n",
              "      <td>ATL</td>\n",
              "      <td>1</td>\n",
              "      <td>0.394124</td>\n",
              "    </tr>\n",
              "    <tr>\n",
              "      <th>2</th>\n",
              "      <td>BAL</td>\n",
              "      <td>1</td>\n",
              "      <td>0.731833</td>\n",
              "    </tr>\n",
              "    <tr>\n",
              "      <th>3</th>\n",
              "      <td>BUF</td>\n",
              "      <td>1</td>\n",
              "      <td>0.431858</td>\n",
              "    </tr>\n",
              "    <tr>\n",
              "      <th>4</th>\n",
              "      <td>CAR</td>\n",
              "      <td>1</td>\n",
              "      <td>0.238872</td>\n",
              "    </tr>\n",
              "  </tbody>\n",
              "</table>\n",
              "</div>"
            ],
            "text/plain": [
              "  team  week      Prob\n",
              "0  ARZ     1  0.468766\n",
              "1  ATL     1  0.394124\n",
              "2  BAL     1  0.731833\n",
              "3  BUF     1  0.431858\n",
              "4  CAR     1  0.238872"
            ]
          },
          "metadata": {
            "tags": []
          },
          "execution_count": 3
        }
      ]
    },
    {
      "cell_type": "markdown",
      "metadata": {
        "id": "jEFheuVcwa32",
        "colab_type": "text"
      },
      "source": [
        "## Change Week 7 Probabilities to get Loss Probability"
      ]
    },
    {
      "cell_type": "code",
      "metadata": {
        "id": "prnPA2huv1ke",
        "colab_type": "code",
        "colab": {}
      },
      "source": [
        "survivor['Prob'] = np.where(survivor['week'] == 7, 1 - survivor['Prob'], survivor['Prob'])"
      ],
      "execution_count": null,
      "outputs": []
    },
    {
      "cell_type": "code",
      "metadata": {
        "id": "3NJJMgGDuf8m",
        "colab_type": "code",
        "colab": {}
      },
      "source": [
        "survivor['week'] = survivor.apply(lambda x: \"Week %s\" % x['week'], axis = 1)"
      ],
      "execution_count": null,
      "outputs": []
    },
    {
      "cell_type": "markdown",
      "metadata": {
        "id": "z1gzQQw9zNeo",
        "colab_type": "text"
      },
      "source": [
        "# Define The Problem"
      ]
    },
    {
      "cell_type": "markdown",
      "metadata": {
        "id": "OczgwI_0eJP_",
        "colab_type": "text"
      },
      "source": [
        "## Prepare for LP formula\n",
        "\n",
        "\n",
        "The data needs to be transformed slightly differently for PuLP to work with it.\n",
        "\n",
        "\n",
        "<br>\n",
        "\n",
        "$P_{ij} = Probability\\ of\\ Win$\n",
        "\n",
        "<br>\n",
        "\n",
        "$x_{ij} = Team\\ Selected$\n",
        "\n",
        "<br>"
      ]
    },
    {
      "cell_type": "code",
      "metadata": {
        "id": "y9FvSLhvqYI2",
        "colab_type": "code",
        "colab": {}
      },
      "source": [
        "# create 2 dictionaries: one containing the salaries of each player, the other containing the points of each player\n",
        "\n",
        "# Win Probabilities for each matchup (P_ij)\n",
        "winProbs = {} \n",
        "\n",
        "# loop through each position and appened player name, salary, points to correct dictionary\n",
        "for week in survivor[\"week\"].unique():\n",
        "    survivor_week = survivor[survivor[\"week\"] == week]\n",
        "    winProb = list(survivor_week[[\"team\",\"Prob\"]].set_index(\"team\").to_dict().values())[0]\n",
        "    winProbs[week] = winProb"
      ],
      "execution_count": null,
      "outputs": []
    },
    {
      "cell_type": "code",
      "metadata": {
        "id": "seB5ff3uUTWj",
        "colab_type": "code",
        "colab": {}
      },
      "source": [
        "# Points of Player (X_ij)\n",
        "teams = {} \n",
        "\n",
        "# loop through each position and appened player name, salary, points to correct dictionary\n",
        "for team in survivor[\"team\"].unique():\n",
        "    survivor_team = survivor[survivor[\"team\"] == team]\n",
        "    team_list = list(survivor_team[[\"team\",\"week\"]].set_index(\"week\").to_dict().values())[0]\n",
        "    teams[team] = team_list"
      ],
      "execution_count": null,
      "outputs": []
    },
    {
      "cell_type": "markdown",
      "metadata": {
        "id": "5reQ2EmE0Sw5",
        "colab_type": "text"
      },
      "source": [
        "## Position Constraints\n",
        "\n",
        "<br>\n",
        "\n",
        "$$\\ \\ \\ \\ \\ \\ \\ \\ \\ \\ \\ \\ \\ \\ \\ \\ \\ \\ \\ \\ \\ \\ \\ \\ \\ \\ \\ \\ \\ \\ \\ \\sum_{j=1}^m x_{ij} =1, \\ \\ for\\ \\ i = QB$$\n",
        "\n",
        "\n",
        "$$\\ \\ \\ \\ \\ \\ \\ \\ \\ \\ \\ \\ \\ \\ \\ \\ \\ \\ \\ \\ \\ \\ \\ \\ \\ \\ \\ \\ \\ \\ \\ \\ \\sum_{j=1}^m x_{ij}  =2, \\ \\ for\\ \\ i = RB$$\n",
        "\n",
        "$$\\ \\ \\ \\ \\ \\ \\ \\ \\ \\ \\ \\ \\ \\ \\ \\ \\ \\ \\ \\ \\ \\ \\ \\ \\ \\ \\ \\ \\ \\ \\ \\ \\ \\ \\sum_{j=1}^m x_{ij} =3, \\ \\ for\\ \\ i = WR$$\n",
        "\n",
        "$$\\ \\ \\ \\ \\ \\ \\ \\ \\ \\ \\ \\ \\ \\ \\ \\ \\ \\ \\ \\ \\ \\ \\ \\ \\ \\ \\ \\ \\ \\ \\ \\ \\sum_{j=1}^m x_{ij} =1, \\ \\ for\\ \\ i = TE$$\n",
        "\n",
        "$$\\ \\ \\ \\ \\ \\ \\ \\ \\ \\ \\ \\ \\ \\ \\ \\ \\ \\ \\ \\ \\ \\ \\ \\ \\ \\ \\ \\ \\ \\ \\ \\ \\ \\ \\ \\ \\ \\ \\sum_{j=1}^m x_{ij} =1, \\ \\ for\\ \\ i = FLEX$$\n",
        "\n",
        "$$\\ \\ \\ \\ \\ \\ \\ \\ \\ \\ \\ \\ \\ \\ \\ \\ \\ \\ \\ \\ \\ \\ \\ \\ \\ \\ \\ \\ \\ \\ \\ \\ \\ \\ \\ \\sum_{j=1}^m x_{ij} =1, \\ \\ for\\ \\ i = DST$$\n",
        "\n",
        "<br>\n",
        "\n",
        "Flex position can be either a RB, WR, or TE. \n",
        "\n",
        "We will run 3 iterations with the flex being each on of these positions."
      ]
    },
    {
      "cell_type": "code",
      "metadata": {
        "id": "CxmoYeiKnc2z",
        "colab_type": "code",
        "colab": {}
      },
      "source": [
        "# Team Constraints\n",
        "team_num_available = {\n",
        "    \"ARZ\": 1,\n",
        "    \"ATL\": 2,\n",
        "    \"BAL\": 1,\n",
        "    \"BUF\": 1,\n",
        "    \"CAR\": 1,\n",
        "    \"CHI\": 1,\n",
        "    \"CIN\": 1,\n",
        "    \"CLE\": 1,\n",
        "    \"DAL\": 1,\n",
        "    \"DEN\": 1,\n",
        "    \"DET\": 1,\n",
        "    \"GB\": 1,\n",
        "    \"HOU\": 1,\n",
        "    \"IND\": 1,\n",
        "    \"JAX\": 1,\n",
        "    \"KC\": 1,\n",
        "    \"LAC\": 1,\n",
        "    \"LAR\": 1,\n",
        "    \"MIA\": 1,\n",
        "    \"MIN\": 1,\n",
        "    \"NE\": 1,\n",
        "    \"NO\": 1,\n",
        "    \"NYG\": 1,\n",
        "    \"NYJ\": 1,\n",
        "    \"OAK\": 1,\n",
        "    \"PHI\": 1,\n",
        "    \"PIT\": 1,\n",
        "    \"SEA\": 1,\n",
        "    \"SF\": 1,\n",
        "    \"TB\": 1,\n",
        "    \"TEN\": 1,\n",
        "    \"WAS\": 1\n",
        "}"
      ],
      "execution_count": null,
      "outputs": []
    },
    {
      "cell_type": "code",
      "metadata": {
        "id": "3QI1dUTVzYAY",
        "colab_type": "code",
        "colab": {}
      },
      "source": [
        "# Team Constraints\n",
        "week_num_available = {\n",
        "    \"Week 1\": 1,\n",
        "    \"Week 2\": 1,\n",
        "    \"Week 3\": 1,\n",
        "    \"Week 4\": 1,\n",
        "    \"Week 5\": 1,\n",
        "    \"Week 6\": 1,\n",
        "    \"Week 7\": 1,\n",
        "    \"Week 8\": 1,\n",
        "    \"Week 9\": 1,\n",
        "    \"Week 10\": 1,\n",
        "    \"Week 11\": 1,\n",
        "    \"Week 12\": 1,\n",
        "    \"Week 13\": 1,\n",
        "    \"Week 14\": 2,\n",
        "    \"Week 15\": 1,\n",
        "    \"Week 16\": 1,\n",
        "    \"Week 17\": 1\n",
        "}"
      ],
      "execution_count": null,
      "outputs": []
    },
    {
      "cell_type": "markdown",
      "metadata": {
        "id": "gmbZIlJP1GTS",
        "colab_type": "text"
      },
      "source": [
        "## Create Player Variables\n",
        "\n",
        "<br>\n",
        "\n",
        "$x_{ij} = Player$\n",
        "\n",
        "\n",
        "<br>"
      ]
    },
    {
      "cell_type": "code",
      "metadata": {
        "id": "RIXt9U63oIPi",
        "colab_type": "code",
        "colab": {}
      },
      "source": [
        "# Create the variables\n",
        "_vars = {i: LpVariable.dict(i, j, cat=\"Binary\") for i, j in winProbs.items()}"
      ],
      "execution_count": null,
      "outputs": []
    },
    {
      "cell_type": "code",
      "metadata": {
        "id": "6vOXvlZATifX",
        "colab_type": "code",
        "colab": {}
      },
      "source": [
        "# Create the variables\n",
        "vars = {i: LpVariable.dict(i, j, cat=\"Binary\") for i, j in teams.items()}"
      ],
      "execution_count": null,
      "outputs": []
    },
    {
      "cell_type": "code",
      "metadata": {
        "id": "hYMAdzQYW_Wg",
        "colab_type": "code",
        "colab": {
          "base_uri": "https://localhost:8080/",
          "height": 54
        },
        "outputId": "551a72b8-9ae0-457a-9552-c7bda27df826"
      },
      "source": [
        "_vars.values()"
      ],
      "execution_count": null,
      "outputs": [
        {
          "output_type": "execute_result",
          "data": {
            "text/plain": [
              "dict_values([{'ARZ': Week_1_ARZ, 'ATL': Week_1_ATL, 'BAL': Week_1_BAL, 'BUF': Week_1_BUF, 'CAR': Week_1_CAR, 'CHI': Week_1_CHI, 'CIN': Week_1_CIN, 'CLE': Week_1_CLE, 'DAL': Week_1_DAL, 'DEN': Week_1_DEN, 'DET': Week_1_DET, 'GB': Week_1_GB, 'HOU': Week_1_HOU, 'IND': Week_1_IND, 'JAX': Week_1_JAX, 'KC': Week_1_KC, 'LAC': Week_1_LAC, 'LAR': Week_1_LAR, 'MIA': Week_1_MIA, 'MIN': Week_1_MIN, 'NE': Week_1_NE, 'NO': Week_1_NO, 'NYG': Week_1_NYG, 'NYJ': Week_1_NYJ, 'OAK': Week_1_OAK, 'PHI': Week_1_PHI, 'PIT': Week_1_PIT, 'SEA': Week_1_SEA, 'SF': Week_1_SF, 'TB': Week_1_TB, 'TEN': Week_1_TEN, 'WAS': Week_1_WAS}, {'ARZ': Week_2_ARZ, 'ATL': Week_2_ATL, 'BAL': Week_2_BAL, 'BUF': Week_2_BUF, 'CAR': Week_2_CAR, 'CHI': Week_2_CHI, 'CIN': Week_2_CIN, 'CLE': Week_2_CLE, 'DAL': Week_2_DAL, 'DEN': Week_2_DEN, 'DET': Week_2_DET, 'GB': Week_2_GB, 'HOU': Week_2_HOU, 'IND': Week_2_IND, 'JAX': Week_2_JAX, 'KC': Week_2_KC, 'LAC': Week_2_LAC, 'LAR': Week_2_LAR, 'MIA': Week_2_MIA, 'MIN': Week_2_MIN, 'NE': Week_2_NE, 'NO': Week_2_NO, 'NYG': Week_2_NYG, 'NYJ': Week_2_NYJ, 'OAK': Week_2_OAK, 'PHI': Week_2_PHI, 'PIT': Week_2_PIT, 'SEA': Week_2_SEA, 'SF': Week_2_SF, 'TB': Week_2_TB, 'TEN': Week_2_TEN, 'WAS': Week_2_WAS}, {'ARZ': Week_3_ARZ, 'ATL': Week_3_ATL, 'BAL': Week_3_BAL, 'BUF': Week_3_BUF, 'CAR': Week_3_CAR, 'CHI': Week_3_CHI, 'CIN': Week_3_CIN, 'CLE': Week_3_CLE, 'DAL': Week_3_DAL, 'DEN': Week_3_DEN, 'DET': Week_3_DET, 'GB': Week_3_GB, 'HOU': Week_3_HOU, 'IND': Week_3_IND, 'JAX': Week_3_JAX, 'KC': Week_3_KC, 'LAC': Week_3_LAC, 'LAR': Week_3_LAR, 'MIA': Week_3_MIA, 'MIN': Week_3_MIN, 'NE': Week_3_NE, 'NO': Week_3_NO, 'NYG': Week_3_NYG, 'NYJ': Week_3_NYJ, 'OAK': Week_3_OAK, 'PHI': Week_3_PHI, 'PIT': Week_3_PIT, 'SEA': Week_3_SEA, 'SF': Week_3_SF, 'TB': Week_3_TB, 'TEN': Week_3_TEN, 'WAS': Week_3_WAS}, {'ARZ': Week_4_ARZ, 'ATL': Week_4_ATL, 'BAL': Week_4_BAL, 'BUF': Week_4_BUF, 'CAR': Week_4_CAR, 'CHI': Week_4_CHI, 'CIN': Week_4_CIN, 'CLE': Week_4_CLE, 'DAL': Week_4_DAL, 'DEN': Week_4_DEN, 'DET': Week_4_DET, 'GB': Week_4_GB, 'HOU': Week_4_HOU, 'IND': Week_4_IND, 'JAX': Week_4_JAX, 'KC': Week_4_KC, 'LAC': Week_4_LAC, 'LAR': Week_4_LAR, 'MIA': Week_4_MIA, 'MIN': Week_4_MIN, 'NE': Week_4_NE, 'NO': Week_4_NO, 'NYG': Week_4_NYG, 'OAK': Week_4_OAK, 'PHI': Week_4_PHI, 'PIT': Week_4_PIT, 'SEA': Week_4_SEA, 'TB': Week_4_TB, 'TEN': Week_4_TEN, 'WAS': Week_4_WAS}, {'ARZ': Week_5_ARZ, 'ATL': Week_5_ATL, 'BAL': Week_5_BAL, 'BUF': Week_5_BUF, 'CAR': Week_5_CAR, 'CHI': Week_5_CHI, 'CIN': Week_5_CIN, 'CLE': Week_5_CLE, 'DAL': Week_5_DAL, 'DEN': Week_5_DEN, 'GB': Week_5_GB, 'HOU': Week_5_HOU, 'IND': Week_5_IND, 'JAX': Week_5_JAX, 'KC': Week_5_KC, 'LAC': Week_5_LAC, 'LAR': Week_5_LAR, 'MIN': Week_5_MIN, 'NE': Week_5_NE, 'NO': Week_5_NO, 'NYG': Week_5_NYG, 'NYJ': Week_5_NYJ, 'OAK': Week_5_OAK, 'PHI': Week_5_PHI, 'PIT': Week_5_PIT, 'SEA': Week_5_SEA, 'SF': Week_5_SF, 'TB': Week_5_TB, 'TEN': Week_5_TEN, 'WAS': Week_5_WAS}, {'ARZ': Week_6_ARZ, 'ATL': Week_6_ATL, 'BAL': Week_6_BAL, 'CAR': Week_6_CAR, 'CIN': Week_6_CIN, 'CLE': Week_6_CLE, 'DAL': Week_6_DAL, 'DEN': Week_6_DEN, 'DET': Week_6_DET, 'GB': Week_6_GB, 'HOU': Week_6_HOU, 'JAX': Week_6_JAX, 'KC': Week_6_KC, 'LAC': Week_6_LAC, 'LAR': Week_6_LAR, 'MIA': Week_6_MIA, 'MIN': Week_6_MIN, 'NE': Week_6_NE, 'NO': Week_6_NO, 'NYG': Week_6_NYG, 'NYJ': Week_6_NYJ, 'PHI': Week_6_PHI, 'PIT': Week_6_PIT, 'SEA': Week_6_SEA, 'SF': Week_6_SF, 'TB': Week_6_TB, 'TEN': Week_6_TEN, 'WAS': Week_6_WAS}, {'ARZ': Week_7_ARZ, 'ATL': Week_7_ATL, 'BAL': Week_7_BAL, 'BUF': Week_7_BUF, 'CHI': Week_7_CHI, 'CIN': Week_7_CIN, 'DAL': Week_7_DAL, 'DEN': Week_7_DEN, 'DET': Week_7_DET, 'GB': Week_7_GB, 'HOU': Week_7_HOU, 'IND': Week_7_IND, 'JAX': Week_7_JAX, 'KC': Week_7_KC, 'LAC': Week_7_LAC, 'LAR': Week_7_LAR, 'MIA': Week_7_MIA, 'MIN': Week_7_MIN, 'NE': Week_7_NE, 'NO': Week_7_NO, 'NYG': Week_7_NYG, 'NYJ': Week_7_NYJ, 'OAK': Week_7_OAK, 'PHI': Week_7_PHI, 'SEA': Week_7_SEA, 'SF': Week_7_SF, 'TEN': Week_7_TEN, 'WAS': Week_7_WAS}, {'ARZ': Week_8_ARZ, 'ATL': Week_8_ATL, 'BUF': Week_8_BUF, 'CAR': Week_8_CAR, 'CHI': Week_8_CHI, 'CIN': Week_8_CIN, 'CLE': Week_8_CLE, 'DEN': Week_8_DEN, 'DET': Week_8_DET, 'GB': Week_8_GB, 'HOU': Week_8_HOU, 'IND': Week_8_IND, 'JAX': Week_8_JAX, 'KC': Week_8_KC, 'LAC': Week_8_LAC, 'LAR': Week_8_LAR, 'MIA': Week_8_MIA, 'MIN': Week_8_MIN, 'NE': Week_8_NE, 'NO': Week_8_NO, 'NYG': Week_8_NYG, 'NYJ': Week_8_NYJ, 'OAK': Week_8_OAK, 'PHI': Week_8_PHI, 'PIT': Week_8_PIT, 'SEA': Week_8_SEA, 'SF': Week_8_SF, 'TB': Week_8_TB, 'TEN': Week_8_TEN, 'WAS': Week_8_WAS}, {'ARZ': Week_9_ARZ, 'BAL': Week_9_BAL, 'BUF': Week_9_BUF, 'CAR': Week_9_CAR, 'CHI': Week_9_CHI, 'CLE': Week_9_CLE, 'DAL': Week_9_DAL, 'DEN': Week_9_DEN, 'DET': Week_9_DET, 'GB': Week_9_GB, 'HOU': Week_9_HOU, 'IND': Week_9_IND, 'JAX': Week_9_JAX, 'KC': Week_9_KC, 'LAC': Week_9_LAC, 'MIA': Week_9_MIA, 'MIN': Week_9_MIN, 'NE': Week_9_NE, 'NYG': Week_9_NYG, 'NYJ': Week_9_NYJ, 'OAK': Week_9_OAK, 'PHI': Week_9_PHI, 'PIT': Week_9_PIT, 'SEA': Week_9_SEA, 'SF': Week_9_SF, 'TB': Week_9_TB, 'TEN': Week_9_TEN, 'WAS': Week_9_WAS}, {'ARZ': Week_10_ARZ, 'ATL': Week_10_ATL, 'BAL': Week_10_BAL, 'BUF': Week_10_BUF, 'CAR': Week_10_CAR, 'CHI': Week_10_CHI, 'CIN': Week_10_CIN, 'CLE': Week_10_CLE, 'DAL': Week_10_DAL, 'DET': Week_10_DET, 'GB': Week_10_GB, 'IND': Week_10_IND, 'KC': Week_10_KC, 'LAC': Week_10_LAC, 'LAR': Week_10_LAR, 'MIA': Week_10_MIA, 'MIN': Week_10_MIN, 'NO': Week_10_NO, 'NYG': Week_10_NYG, 'NYJ': Week_10_NYJ, 'OAK': Week_10_OAK, 'PIT': Week_10_PIT, 'SEA': Week_10_SEA, 'SF': Week_10_SF, 'TB': Week_10_TB, 'TEN': Week_10_TEN}, {'ARZ': Week_11_ARZ, 'ATL': Week_11_ATL, 'BAL': Week_11_BAL, 'BUF': Week_11_BUF, 'CAR': Week_11_CAR, 'CHI': Week_11_CHI, 'CIN': Week_11_CIN, 'CLE': Week_11_CLE, 'DAL': Week_11_DAL, 'DEN': Week_11_DEN, 'DET': Week_11_DET, 'HOU': Week_11_HOU, 'IND': Week_11_IND, 'JAX': Week_11_JAX, 'KC': Week_11_KC, 'LAC': Week_11_LAC, 'LAR': Week_11_LAR, 'MIA': Week_11_MIA, 'MIN': Week_11_MIN, 'NE': Week_11_NE, 'NO': Week_11_NO, 'NYJ': Week_11_NYJ, 'OAK': Week_11_OAK, 'PHI': Week_11_PHI, 'PIT': Week_11_PIT, 'SF': Week_11_SF, 'TB': Week_11_TB, 'WAS': Week_11_WAS}, {'ATL': Week_12_ATL, 'BAL': Week_12_BAL, 'BUF': Week_12_BUF, 'CAR': Week_12_CAR, 'CHI': Week_12_CHI, 'CIN': Week_12_CIN, 'CLE': Week_12_CLE, 'DAL': Week_12_DAL, 'DEN': Week_12_DEN, 'DET': Week_12_DET, 'GB': Week_12_GB, 'HOU': Week_12_HOU, 'IND': Week_12_IND, 'JAX': Week_12_JAX, 'LAR': Week_12_LAR, 'MIA': Week_12_MIA, 'NE': Week_12_NE, 'NO': Week_12_NO, 'NYG': Week_12_NYG, 'NYJ': Week_12_NYJ, 'OAK': Week_12_OAK, 'PHI': Week_12_PHI, 'PIT': Week_12_PIT, 'SEA': Week_12_SEA, 'SF': Week_12_SF, 'TB': Week_12_TB, 'TEN': Week_12_TEN, 'WAS': Week_12_WAS}, {'ARZ': Week_13_ARZ, 'ATL': Week_13_ATL, 'BAL': Week_13_BAL, 'BUF': Week_13_BUF, 'CAR': Week_13_CAR, 'CHI': Week_13_CHI, 'CIN': Week_13_CIN, 'CLE': Week_13_CLE, 'DAL': Week_13_DAL, 'DEN': Week_13_DEN, 'DET': Week_13_DET, 'GB': Week_13_GB, 'HOU': Week_13_HOU, 'IND': Week_13_IND, 'JAX': Week_13_JAX, 'KC': Week_13_KC, 'LAC': Week_13_LAC, 'LAR': Week_13_LAR, 'MIA': Week_13_MIA, 'MIN': Week_13_MIN, 'NE': Week_13_NE, 'NO': Week_13_NO, 'NYG': Week_13_NYG, 'NYJ': Week_13_NYJ, 'OAK': Week_13_OAK, 'PHI': Week_13_PHI, 'PIT': Week_13_PIT, 'SEA': Week_13_SEA, 'SF': Week_13_SF, 'TB': Week_13_TB, 'TEN': Week_13_TEN, 'WAS': Week_13_WAS}, {'ARZ': Week_14_ARZ, 'ATL': Week_14_ATL, 'BAL': Week_14_BAL, 'BUF': Week_14_BUF, 'CAR': Week_14_CAR, 'CHI': Week_14_CHI, 'CIN': Week_14_CIN, 'CLE': Week_14_CLE, 'DAL': Week_14_DAL, 'DEN': Week_14_DEN, 'DET': Week_14_DET, 'GB': Week_14_GB, 'HOU': Week_14_HOU, 'IND': Week_14_IND, 'JAX': Week_14_JAX, 'KC': Week_14_KC, 'LAC': Week_14_LAC, 'LAR': Week_14_LAR, 'MIA': Week_14_MIA, 'MIN': Week_14_MIN, 'NE': Week_14_NE, 'NO': Week_14_NO, 'NYG': Week_14_NYG, 'NYJ': Week_14_NYJ, 'OAK': Week_14_OAK, 'PHI': Week_14_PHI, 'PIT': Week_14_PIT, 'SEA': Week_14_SEA, 'SF': Week_14_SF, 'TB': Week_14_TB, 'TEN': Week_14_TEN, 'WAS': Week_14_WAS}, {'ARZ': Week_15_ARZ, 'ATL': Week_15_ATL, 'BAL': Week_15_BAL, 'BUF': Week_15_BUF, 'CAR': Week_15_CAR, 'CHI': Week_15_CHI, 'CIN': Week_15_CIN, 'CLE': Week_15_CLE, 'DAL': Week_15_DAL, 'DEN': Week_15_DEN, 'DET': Week_15_DET, 'GB': Week_15_GB, 'HOU': Week_15_HOU, 'IND': Week_15_IND, 'JAX': Week_15_JAX, 'KC': Week_15_KC, 'LAC': Week_15_LAC, 'LAR': Week_15_LAR, 'MIA': Week_15_MIA, 'MIN': Week_15_MIN, 'NE': Week_15_NE, 'NO': Week_15_NO, 'NYG': Week_15_NYG, 'NYJ': Week_15_NYJ, 'OAK': Week_15_OAK, 'PHI': Week_15_PHI, 'PIT': Week_15_PIT, 'SEA': Week_15_SEA, 'SF': Week_15_SF, 'TB': Week_15_TB, 'TEN': Week_15_TEN, 'WAS': Week_15_WAS}, {'ARZ': Week_16_ARZ, 'ATL': Week_16_ATL, 'BAL': Week_16_BAL, 'BUF': Week_16_BUF, 'CAR': Week_16_CAR, 'CHI': Week_16_CHI, 'CIN': Week_16_CIN, 'CLE': Week_16_CLE, 'DAL': Week_16_DAL, 'DEN': Week_16_DEN, 'DET': Week_16_DET, 'GB': Week_16_GB, 'HOU': Week_16_HOU, 'IND': Week_16_IND, 'JAX': Week_16_JAX, 'KC': Week_16_KC, 'LAC': Week_16_LAC, 'LAR': Week_16_LAR, 'MIA': Week_16_MIA, 'MIN': Week_16_MIN, 'NE': Week_16_NE, 'NO': Week_16_NO, 'NYG': Week_16_NYG, 'NYJ': Week_16_NYJ, 'OAK': Week_16_OAK, 'PHI': Week_16_PHI, 'PIT': Week_16_PIT, 'SEA': Week_16_SEA, 'SF': Week_16_SF, 'TB': Week_16_TB, 'TEN': Week_16_TEN, 'WAS': Week_16_WAS}, {'ARZ': Week_17_ARZ, 'ATL': Week_17_ATL, 'BAL': Week_17_BAL, 'BUF': Week_17_BUF, 'CAR': Week_17_CAR, 'CHI': Week_17_CHI, 'CIN': Week_17_CIN, 'CLE': Week_17_CLE, 'DAL': Week_17_DAL, 'DEN': Week_17_DEN, 'DET': Week_17_DET, 'GB': Week_17_GB, 'HOU': Week_17_HOU, 'IND': Week_17_IND, 'JAX': Week_17_JAX, 'KC': Week_17_KC, 'LAC': Week_17_LAC, 'LAR': Week_17_LAR, 'MIA': Week_17_MIA, 'MIN': Week_17_MIN, 'NE': Week_17_NE, 'NO': Week_17_NO, 'NYG': Week_17_NYG, 'NYJ': Week_17_NYJ, 'OAK': Week_17_OAK, 'PHI': Week_17_PHI, 'PIT': Week_17_PIT, 'SEA': Week_17_SEA, 'SF': Week_17_SF, 'TB': Week_17_TB, 'TEN': Week_17_TEN, 'WAS': Week_17_WAS}])"
            ]
          },
          "metadata": {
            "tags": []
          },
          "execution_count": 12
        }
      ]
    },
    {
      "cell_type": "code",
      "metadata": {
        "id": "04hvCcl10xq_",
        "colab_type": "code",
        "colab": {
          "base_uri": "https://localhost:8080/",
          "height": 54
        },
        "outputId": "107aa6b6-1203-41f9-8121-11ff4d0b8ca4"
      },
      "source": [
        "_vars.items()"
      ],
      "execution_count": null,
      "outputs": [
        {
          "output_type": "execute_result",
          "data": {
            "text/plain": [
              "dict_items([('Week 1', {'ARZ': Week_1_ARZ, 'ATL': Week_1_ATL, 'BAL': Week_1_BAL, 'BUF': Week_1_BUF, 'CAR': Week_1_CAR, 'CHI': Week_1_CHI, 'CIN': Week_1_CIN, 'CLE': Week_1_CLE, 'DAL': Week_1_DAL, 'DEN': Week_1_DEN, 'DET': Week_1_DET, 'GB': Week_1_GB, 'HOU': Week_1_HOU, 'IND': Week_1_IND, 'JAX': Week_1_JAX, 'KC': Week_1_KC, 'LAC': Week_1_LAC, 'LAR': Week_1_LAR, 'MIA': Week_1_MIA, 'MIN': Week_1_MIN, 'NE': Week_1_NE, 'NO': Week_1_NO, 'NYG': Week_1_NYG, 'NYJ': Week_1_NYJ, 'OAK': Week_1_OAK, 'PHI': Week_1_PHI, 'PIT': Week_1_PIT, 'SEA': Week_1_SEA, 'SF': Week_1_SF, 'TB': Week_1_TB, 'TEN': Week_1_TEN, 'WAS': Week_1_WAS}), ('Week 2', {'ARZ': Week_2_ARZ, 'ATL': Week_2_ATL, 'BAL': Week_2_BAL, 'BUF': Week_2_BUF, 'CAR': Week_2_CAR, 'CHI': Week_2_CHI, 'CIN': Week_2_CIN, 'CLE': Week_2_CLE, 'DAL': Week_2_DAL, 'DEN': Week_2_DEN, 'DET': Week_2_DET, 'GB': Week_2_GB, 'HOU': Week_2_HOU, 'IND': Week_2_IND, 'JAX': Week_2_JAX, 'KC': Week_2_KC, 'LAC': Week_2_LAC, 'LAR': Week_2_LAR, 'MIA': Week_2_MIA, 'MIN': Week_2_MIN, 'NE': Week_2_NE, 'NO': Week_2_NO, 'NYG': Week_2_NYG, 'NYJ': Week_2_NYJ, 'OAK': Week_2_OAK, 'PHI': Week_2_PHI, 'PIT': Week_2_PIT, 'SEA': Week_2_SEA, 'SF': Week_2_SF, 'TB': Week_2_TB, 'TEN': Week_2_TEN, 'WAS': Week_2_WAS}), ('Week 3', {'ARZ': Week_3_ARZ, 'ATL': Week_3_ATL, 'BAL': Week_3_BAL, 'BUF': Week_3_BUF, 'CAR': Week_3_CAR, 'CHI': Week_3_CHI, 'CIN': Week_3_CIN, 'CLE': Week_3_CLE, 'DAL': Week_3_DAL, 'DEN': Week_3_DEN, 'DET': Week_3_DET, 'GB': Week_3_GB, 'HOU': Week_3_HOU, 'IND': Week_3_IND, 'JAX': Week_3_JAX, 'KC': Week_3_KC, 'LAC': Week_3_LAC, 'LAR': Week_3_LAR, 'MIA': Week_3_MIA, 'MIN': Week_3_MIN, 'NE': Week_3_NE, 'NO': Week_3_NO, 'NYG': Week_3_NYG, 'NYJ': Week_3_NYJ, 'OAK': Week_3_OAK, 'PHI': Week_3_PHI, 'PIT': Week_3_PIT, 'SEA': Week_3_SEA, 'SF': Week_3_SF, 'TB': Week_3_TB, 'TEN': Week_3_TEN, 'WAS': Week_3_WAS}), ('Week 4', {'ARZ': Week_4_ARZ, 'ATL': Week_4_ATL, 'BAL': Week_4_BAL, 'BUF': Week_4_BUF, 'CAR': Week_4_CAR, 'CHI': Week_4_CHI, 'CIN': Week_4_CIN, 'CLE': Week_4_CLE, 'DAL': Week_4_DAL, 'DEN': Week_4_DEN, 'DET': Week_4_DET, 'GB': Week_4_GB, 'HOU': Week_4_HOU, 'IND': Week_4_IND, 'JAX': Week_4_JAX, 'KC': Week_4_KC, 'LAC': Week_4_LAC, 'LAR': Week_4_LAR, 'MIA': Week_4_MIA, 'MIN': Week_4_MIN, 'NE': Week_4_NE, 'NO': Week_4_NO, 'NYG': Week_4_NYG, 'OAK': Week_4_OAK, 'PHI': Week_4_PHI, 'PIT': Week_4_PIT, 'SEA': Week_4_SEA, 'TB': Week_4_TB, 'TEN': Week_4_TEN, 'WAS': Week_4_WAS}), ('Week 5', {'ARZ': Week_5_ARZ, 'ATL': Week_5_ATL, 'BAL': Week_5_BAL, 'BUF': Week_5_BUF, 'CAR': Week_5_CAR, 'CHI': Week_5_CHI, 'CIN': Week_5_CIN, 'CLE': Week_5_CLE, 'DAL': Week_5_DAL, 'DEN': Week_5_DEN, 'GB': Week_5_GB, 'HOU': Week_5_HOU, 'IND': Week_5_IND, 'JAX': Week_5_JAX, 'KC': Week_5_KC, 'LAC': Week_5_LAC, 'LAR': Week_5_LAR, 'MIN': Week_5_MIN, 'NE': Week_5_NE, 'NO': Week_5_NO, 'NYG': Week_5_NYG, 'NYJ': Week_5_NYJ, 'OAK': Week_5_OAK, 'PHI': Week_5_PHI, 'PIT': Week_5_PIT, 'SEA': Week_5_SEA, 'SF': Week_5_SF, 'TB': Week_5_TB, 'TEN': Week_5_TEN, 'WAS': Week_5_WAS}), ('Week 6', {'ARZ': Week_6_ARZ, 'ATL': Week_6_ATL, 'BAL': Week_6_BAL, 'CAR': Week_6_CAR, 'CIN': Week_6_CIN, 'CLE': Week_6_CLE, 'DAL': Week_6_DAL, 'DEN': Week_6_DEN, 'DET': Week_6_DET, 'GB': Week_6_GB, 'HOU': Week_6_HOU, 'JAX': Week_6_JAX, 'KC': Week_6_KC, 'LAC': Week_6_LAC, 'LAR': Week_6_LAR, 'MIA': Week_6_MIA, 'MIN': Week_6_MIN, 'NE': Week_6_NE, 'NO': Week_6_NO, 'NYG': Week_6_NYG, 'NYJ': Week_6_NYJ, 'PHI': Week_6_PHI, 'PIT': Week_6_PIT, 'SEA': Week_6_SEA, 'SF': Week_6_SF, 'TB': Week_6_TB, 'TEN': Week_6_TEN, 'WAS': Week_6_WAS}), ('Week 7', {'ARZ': Week_7_ARZ, 'ATL': Week_7_ATL, 'BAL': Week_7_BAL, 'BUF': Week_7_BUF, 'CHI': Week_7_CHI, 'CIN': Week_7_CIN, 'DAL': Week_7_DAL, 'DEN': Week_7_DEN, 'DET': Week_7_DET, 'GB': Week_7_GB, 'HOU': Week_7_HOU, 'IND': Week_7_IND, 'JAX': Week_7_JAX, 'KC': Week_7_KC, 'LAC': Week_7_LAC, 'LAR': Week_7_LAR, 'MIA': Week_7_MIA, 'MIN': Week_7_MIN, 'NE': Week_7_NE, 'NO': Week_7_NO, 'NYG': Week_7_NYG, 'NYJ': Week_7_NYJ, 'OAK': Week_7_OAK, 'PHI': Week_7_PHI, 'SEA': Week_7_SEA, 'SF': Week_7_SF, 'TEN': Week_7_TEN, 'WAS': Week_7_WAS}), ('Week 8', {'ARZ': Week_8_ARZ, 'ATL': Week_8_ATL, 'BUF': Week_8_BUF, 'CAR': Week_8_CAR, 'CHI': Week_8_CHI, 'CIN': Week_8_CIN, 'CLE': Week_8_CLE, 'DEN': Week_8_DEN, 'DET': Week_8_DET, 'GB': Week_8_GB, 'HOU': Week_8_HOU, 'IND': Week_8_IND, 'JAX': Week_8_JAX, 'KC': Week_8_KC, 'LAC': Week_8_LAC, 'LAR': Week_8_LAR, 'MIA': Week_8_MIA, 'MIN': Week_8_MIN, 'NE': Week_8_NE, 'NO': Week_8_NO, 'NYG': Week_8_NYG, 'NYJ': Week_8_NYJ, 'OAK': Week_8_OAK, 'PHI': Week_8_PHI, 'PIT': Week_8_PIT, 'SEA': Week_8_SEA, 'SF': Week_8_SF, 'TB': Week_8_TB, 'TEN': Week_8_TEN, 'WAS': Week_8_WAS}), ('Week 9', {'ARZ': Week_9_ARZ, 'BAL': Week_9_BAL, 'BUF': Week_9_BUF, 'CAR': Week_9_CAR, 'CHI': Week_9_CHI, 'CLE': Week_9_CLE, 'DAL': Week_9_DAL, 'DEN': Week_9_DEN, 'DET': Week_9_DET, 'GB': Week_9_GB, 'HOU': Week_9_HOU, 'IND': Week_9_IND, 'JAX': Week_9_JAX, 'KC': Week_9_KC, 'LAC': Week_9_LAC, 'MIA': Week_9_MIA, 'MIN': Week_9_MIN, 'NE': Week_9_NE, 'NYG': Week_9_NYG, 'NYJ': Week_9_NYJ, 'OAK': Week_9_OAK, 'PHI': Week_9_PHI, 'PIT': Week_9_PIT, 'SEA': Week_9_SEA, 'SF': Week_9_SF, 'TB': Week_9_TB, 'TEN': Week_9_TEN, 'WAS': Week_9_WAS}), ('Week 10', {'ARZ': Week_10_ARZ, 'ATL': Week_10_ATL, 'BAL': Week_10_BAL, 'BUF': Week_10_BUF, 'CAR': Week_10_CAR, 'CHI': Week_10_CHI, 'CIN': Week_10_CIN, 'CLE': Week_10_CLE, 'DAL': Week_10_DAL, 'DET': Week_10_DET, 'GB': Week_10_GB, 'IND': Week_10_IND, 'KC': Week_10_KC, 'LAC': Week_10_LAC, 'LAR': Week_10_LAR, 'MIA': Week_10_MIA, 'MIN': Week_10_MIN, 'NO': Week_10_NO, 'NYG': Week_10_NYG, 'NYJ': Week_10_NYJ, 'OAK': Week_10_OAK, 'PIT': Week_10_PIT, 'SEA': Week_10_SEA, 'SF': Week_10_SF, 'TB': Week_10_TB, 'TEN': Week_10_TEN}), ('Week 11', {'ARZ': Week_11_ARZ, 'ATL': Week_11_ATL, 'BAL': Week_11_BAL, 'BUF': Week_11_BUF, 'CAR': Week_11_CAR, 'CHI': Week_11_CHI, 'CIN': Week_11_CIN, 'CLE': Week_11_CLE, 'DAL': Week_11_DAL, 'DEN': Week_11_DEN, 'DET': Week_11_DET, 'HOU': Week_11_HOU, 'IND': Week_11_IND, 'JAX': Week_11_JAX, 'KC': Week_11_KC, 'LAC': Week_11_LAC, 'LAR': Week_11_LAR, 'MIA': Week_11_MIA, 'MIN': Week_11_MIN, 'NE': Week_11_NE, 'NO': Week_11_NO, 'NYJ': Week_11_NYJ, 'OAK': Week_11_OAK, 'PHI': Week_11_PHI, 'PIT': Week_11_PIT, 'SF': Week_11_SF, 'TB': Week_11_TB, 'WAS': Week_11_WAS}), ('Week 12', {'ATL': Week_12_ATL, 'BAL': Week_12_BAL, 'BUF': Week_12_BUF, 'CAR': Week_12_CAR, 'CHI': Week_12_CHI, 'CIN': Week_12_CIN, 'CLE': Week_12_CLE, 'DAL': Week_12_DAL, 'DEN': Week_12_DEN, 'DET': Week_12_DET, 'GB': Week_12_GB, 'HOU': Week_12_HOU, 'IND': Week_12_IND, 'JAX': Week_12_JAX, 'LAR': Week_12_LAR, 'MIA': Week_12_MIA, 'NE': Week_12_NE, 'NO': Week_12_NO, 'NYG': Week_12_NYG, 'NYJ': Week_12_NYJ, 'OAK': Week_12_OAK, 'PHI': Week_12_PHI, 'PIT': Week_12_PIT, 'SEA': Week_12_SEA, 'SF': Week_12_SF, 'TB': Week_12_TB, 'TEN': Week_12_TEN, 'WAS': Week_12_WAS}), ('Week 13', {'ARZ': Week_13_ARZ, 'ATL': Week_13_ATL, 'BAL': Week_13_BAL, 'BUF': Week_13_BUF, 'CAR': Week_13_CAR, 'CHI': Week_13_CHI, 'CIN': Week_13_CIN, 'CLE': Week_13_CLE, 'DAL': Week_13_DAL, 'DEN': Week_13_DEN, 'DET': Week_13_DET, 'GB': Week_13_GB, 'HOU': Week_13_HOU, 'IND': Week_13_IND, 'JAX': Week_13_JAX, 'KC': Week_13_KC, 'LAC': Week_13_LAC, 'LAR': Week_13_LAR, 'MIA': Week_13_MIA, 'MIN': Week_13_MIN, 'NE': Week_13_NE, 'NO': Week_13_NO, 'NYG': Week_13_NYG, 'NYJ': Week_13_NYJ, 'OAK': Week_13_OAK, 'PHI': Week_13_PHI, 'PIT': Week_13_PIT, 'SEA': Week_13_SEA, 'SF': Week_13_SF, 'TB': Week_13_TB, 'TEN': Week_13_TEN, 'WAS': Week_13_WAS}), ('Week 14', {'ARZ': Week_14_ARZ, 'ATL': Week_14_ATL, 'BAL': Week_14_BAL, 'BUF': Week_14_BUF, 'CAR': Week_14_CAR, 'CHI': Week_14_CHI, 'CIN': Week_14_CIN, 'CLE': Week_14_CLE, 'DAL': Week_14_DAL, 'DEN': Week_14_DEN, 'DET': Week_14_DET, 'GB': Week_14_GB, 'HOU': Week_14_HOU, 'IND': Week_14_IND, 'JAX': Week_14_JAX, 'KC': Week_14_KC, 'LAC': Week_14_LAC, 'LAR': Week_14_LAR, 'MIA': Week_14_MIA, 'MIN': Week_14_MIN, 'NE': Week_14_NE, 'NO': Week_14_NO, 'NYG': Week_14_NYG, 'NYJ': Week_14_NYJ, 'OAK': Week_14_OAK, 'PHI': Week_14_PHI, 'PIT': Week_14_PIT, 'SEA': Week_14_SEA, 'SF': Week_14_SF, 'TB': Week_14_TB, 'TEN': Week_14_TEN, 'WAS': Week_14_WAS}), ('Week 15', {'ARZ': Week_15_ARZ, 'ATL': Week_15_ATL, 'BAL': Week_15_BAL, 'BUF': Week_15_BUF, 'CAR': Week_15_CAR, 'CHI': Week_15_CHI, 'CIN': Week_15_CIN, 'CLE': Week_15_CLE, 'DAL': Week_15_DAL, 'DEN': Week_15_DEN, 'DET': Week_15_DET, 'GB': Week_15_GB, 'HOU': Week_15_HOU, 'IND': Week_15_IND, 'JAX': Week_15_JAX, 'KC': Week_15_KC, 'LAC': Week_15_LAC, 'LAR': Week_15_LAR, 'MIA': Week_15_MIA, 'MIN': Week_15_MIN, 'NE': Week_15_NE, 'NO': Week_15_NO, 'NYG': Week_15_NYG, 'NYJ': Week_15_NYJ, 'OAK': Week_15_OAK, 'PHI': Week_15_PHI, 'PIT': Week_15_PIT, 'SEA': Week_15_SEA, 'SF': Week_15_SF, 'TB': Week_15_TB, 'TEN': Week_15_TEN, 'WAS': Week_15_WAS}), ('Week 16', {'ARZ': Week_16_ARZ, 'ATL': Week_16_ATL, 'BAL': Week_16_BAL, 'BUF': Week_16_BUF, 'CAR': Week_16_CAR, 'CHI': Week_16_CHI, 'CIN': Week_16_CIN, 'CLE': Week_16_CLE, 'DAL': Week_16_DAL, 'DEN': Week_16_DEN, 'DET': Week_16_DET, 'GB': Week_16_GB, 'HOU': Week_16_HOU, 'IND': Week_16_IND, 'JAX': Week_16_JAX, 'KC': Week_16_KC, 'LAC': Week_16_LAC, 'LAR': Week_16_LAR, 'MIA': Week_16_MIA, 'MIN': Week_16_MIN, 'NE': Week_16_NE, 'NO': Week_16_NO, 'NYG': Week_16_NYG, 'NYJ': Week_16_NYJ, 'OAK': Week_16_OAK, 'PHI': Week_16_PHI, 'PIT': Week_16_PIT, 'SEA': Week_16_SEA, 'SF': Week_16_SF, 'TB': Week_16_TB, 'TEN': Week_16_TEN, 'WAS': Week_16_WAS}), ('Week 17', {'ARZ': Week_17_ARZ, 'ATL': Week_17_ATL, 'BAL': Week_17_BAL, 'BUF': Week_17_BUF, 'CAR': Week_17_CAR, 'CHI': Week_17_CHI, 'CIN': Week_17_CIN, 'CLE': Week_17_CLE, 'DAL': Week_17_DAL, 'DEN': Week_17_DEN, 'DET': Week_17_DET, 'GB': Week_17_GB, 'HOU': Week_17_HOU, 'IND': Week_17_IND, 'JAX': Week_17_JAX, 'KC': Week_17_KC, 'LAC': Week_17_LAC, 'LAR': Week_17_LAR, 'MIA': Week_17_MIA, 'MIN': Week_17_MIN, 'NE': Week_17_NE, 'NO': Week_17_NO, 'NYG': Week_17_NYG, 'NYJ': Week_17_NYJ, 'OAK': Week_17_OAK, 'PHI': Week_17_PHI, 'PIT': Week_17_PIT, 'SEA': Week_17_SEA, 'SF': Week_17_SF, 'TB': Week_17_TB, 'TEN': Week_17_TEN, 'WAS': Week_17_WAS})])"
            ]
          },
          "metadata": {
            "tags": []
          },
          "execution_count": 13
        }
      ]
    },
    {
      "cell_type": "markdown",
      "metadata": {
        "id": "sYBi7yw9flZ3",
        "colab_type": "text"
      },
      "source": [
        "## Solve Problem"
      ]
    },
    {
      "cell_type": "code",
      "metadata": {
        "id": "t6zwMVUq2zNZ",
        "colab_type": "code",
        "colab": {
          "base_uri": "https://localhost:8080/",
          "height": 561
        },
        "outputId": "5cf74da0-802f-4053-ff73-192f5e924484"
      },
      "source": [
        "team_num_available"
      ],
      "execution_count": null,
      "outputs": [
        {
          "output_type": "execute_result",
          "data": {
            "text/plain": [
              "{'ARZ': 1,\n",
              " 'ATL': 2,\n",
              " 'BAL': 1,\n",
              " 'BUF': 1,\n",
              " 'CAR': 1,\n",
              " 'CHI': 1,\n",
              " 'CIN': 1,\n",
              " 'CLE': 1,\n",
              " 'DAL': 1,\n",
              " 'DEN': 1,\n",
              " 'DET': 1,\n",
              " 'GB': 1,\n",
              " 'HOU': 1,\n",
              " 'IND': 1,\n",
              " 'JAX': 1,\n",
              " 'KC': 1,\n",
              " 'LAC': 1,\n",
              " 'LAR': 1,\n",
              " 'MIA': 1,\n",
              " 'MIN': 1,\n",
              " 'NE': 1,\n",
              " 'NO': 1,\n",
              " 'NYG': 1,\n",
              " 'NYJ': 1,\n",
              " 'OAK': 1,\n",
              " 'PHI': 1,\n",
              " 'PIT': 1,\n",
              " 'SEA': 1,\n",
              " 'SF': 1,\n",
              " 'TB': 1,\n",
              " 'TEN': 1,\n",
              " 'WAS': 1}"
            ]
          },
          "metadata": {
            "tags": []
          },
          "execution_count": 14
        }
      ]
    },
    {
      "cell_type": "code",
      "metadata": {
        "id": "xMXljpoy3BE2",
        "colab_type": "code",
        "colab": {
          "base_uri": "https://localhost:8080/",
          "height": 326
        },
        "outputId": "4c701b5a-a59f-4c95-ebab-3a4568d1fc05"
      },
      "source": [
        "for i, x in _vars.items():\n",
        "  print([winProbs[i][j] * _vars[i][j] for j in x])"
      ],
      "execution_count": null,
      "outputs": [
        {
          "output_type": "stream",
          "text": [
            "[0.46876566106252904*Week_1_ARZ + 0.0, 0.394123615126611*Week_1_ATL + 0.0, 0.731833130614707*Week_1_BAL + 0.0, 0.431858277694575*Week_1_BUF + 0.0, 0.23887227742780104*Week_1_CAR + 0.0, 0.7255862135147719*Week_1_CHI + 0.0, 0.310417185301878*Week_1_CIN + 0.0, 0.606654250299282*Week_1_CLE + 0.0, 0.5445757600110379*Week_1_DAL + 0.0, 0.734839741802024*Week_1_DEN + 0.0, 0.531234338937471*Week_1_DET + 0.0, 0.27441378648522796*Week_1_GB + 0.0, 0.436151304830065*Week_1_HOU + 0.0, 0.457830217619199*Week_1_IND + 0.0, 0.159505799010328*Week_1_JAX + 0.0, 0.840494200989672*Week_1_KC + 0.0, 0.542169782380801*Week_1_LAC + 0.0, 0.7611277225721991*Week_1_LAR + 0.0, 0.268166869385293*Week_1_MIA + 0.0, 0.605876384873389*Week_1_MIN + 0.0, 0.647831496128254*Week_1_NE + 0.0, 0.5638486951699351*Week_1_NO + 0.0, 0.45542423998896203*Week_1_NYG + 0.0, 0.568141722305425*Week_1_NYJ + 0.0, 0.265160258197976*Week_1_OAK + 0.0, 0.711332531858839*Week_1_PHI + 0.0, 0.3521685038717461*Week_1_PIT + 0.0, 0.6895828146981221*Week_1_SEA + 0.0, 0.40637075098720604*Week_1_SF + 0.0, 0.593629249012794*Week_1_TB + 0.0, 0.39334574970071795*Week_1_TEN + 0.0, 0.288667468141161*Week_1_WAS + 0.0]\n",
            "[0.28121365419259603*Week_2_ARZ + 0.0, 0.5337612241307871*Week_2_ATL + 0.0, 0.7187863458074041*Week_2_BAL + 0.0, 0.331162266234078*Week_2_BUF + 0.0, 0.540629901593951*Week_2_CAR + 0.0, 0.6049313738297989*Week_2_CHI + 0.0, 0.625861383513425*Week_2_CIN + 0.0, 0.584600285184777*Week_2_CLE + 0.0, 0.5774228513801279*Week_2_DAL + 0.0, 0.395068626170201*Week_2_DEN + 0.0, 0.182377041454643*Week_2_DET + 0.0, 0.424404532110742*Week_2_GB + 0.0, 0.6746169810897641*Week_2_HOU + 0.0, 0.6092455519560059*Week_2_IND + 0.0, 0.325383018910236*Week_2_JAX + 0.0, 0.879831088570313*Week_2_KC + 0.0, 0.8176229585453569*Week_2_LAC + 0.0, 0.45084432935234203*Week_2_LAR + 0.0, 0.21570512016011104*Week_2_MIA + 0.0, 0.575595467889258*Week_2_MIN + 0.0, 0.7842948798398891*Week_2_NE + 0.0, 0.5491556706476579*Week_2_NO + 0.0, 0.6688377337659219*Week_2_NYG + 0.0, 0.415399714815223*Week_2_NYJ + 0.0, 0.120168911429687*Week_2_OAK + 0.0, 0.466238775869213*Week_2_PHI + 0.0, 0.5115643212102879*Week_2_PIT + 0.0, 0.48843567878971206*Week_2_SEA + 0.0, 0.374138616486575*Week_2_SF + 0.0, 0.45937009840604903*Week_2_TB + 0.0, 0.39075444804399395*Week_2_TEN + 0.0, 0.42257714861987206*Week_2_WAS + 0.0]\n",
            "[0.373757086878075*Week_3_ARZ + 0.0, 0.334819509493648*Week_3_ATL + 0.0, 0.29639401679103805*Week_3_BAL + 0.0, 0.5195612514386551*Week_3_BUF + 0.0, 0.626242913121925*Week_3_CAR + 0.0, 0.77712145748105*Week_3_CHI + 0.0, 0.48043874856134494*Week_3_CIN + 0.0, 0.310834477148677*Week_3_CLE + 0.0, 0.649066011790969*Week_3_DAL + 0.0, 0.6142570414816789*Week_3_DEN + 0.0, 0.303683522313337*Week_3_DET + 0.0, 0.3857429585183211*Week_3_GB + 0.0, 0.432305095383278*Week_3_HOU + 0.0, 0.6651804905063521*Week_3_IND + 0.0, 0.476363852834936*Week_3_JAX + 0.0, 0.7036059832089621*Week_3_KC + 0.0, 0.567694904616722*Week_3_LAC + 0.0, 0.689165522851323*Week_3_LAR + 0.0, 0.350933988209031*Week_3_MIA + 0.0, 0.752720722338212*Week_3_MIN + 0.0, 0.77295353840165*Week_3_NE + 0.0, 0.628979687551965*Week_3_NO + 0.0, 0.5743023748530961*Week_3_NYG + 0.0, 0.22704646159834999*Week_3_NYJ + 0.0, 0.24727927766178798*Week_3_OAK + 0.0, 0.6963164776866629*Week_3_PHI + 0.0, 0.652051622092073*Week_3_PIT + 0.0, 0.37102031244803496*Week_3_SEA + 0.0, 0.34794837790792704*Week_3_SF + 0.0, 0.425697625146904*Week_3_TB + 0.0, 0.523636147165064*Week_3_TEN + 0.0, 0.22287854251895003*Week_3_WAS + 0.0]\n",
            "[0.302777694472175*Week_4_ARZ + 0.0, 0.566404889709435*Week_4_ATL + 0.0, 0.644381182249886*Week_4_BAL + 0.0, 0.242257765577888*Week_4_BUF + 0.0, 0.37828777322011603*Week_4_CAR + 0.0, 0.63542575770598*Week_4_CHI + 0.0, 0.316372956558052*Week_4_CIN + 0.0, 0.355618817750114*Week_4_CLE + 0.0, 0.299543534182129*Week_4_DAL + 0.0, 0.6409206289677409*Week_4_DEN + 0.0, 0.140070897785325*Week_4_DET + 0.0, 0.499647892916606*Week_4_GB + 0.0, 0.621712226779884*Week_4_HOU + 0.0, 0.797320582681832*Week_4_IND + 0.0, 0.35907937103225895*Week_4_JAX + 0.0, 0.8599291022146751*Week_4_KC + 0.0, 0.822009872482914*Week_4_LAC + 0.0, 0.734222567976319*Week_4_LAR + 0.0, 0.17799012751708604*Week_4_MIA + 0.0, 0.3645742422940201*Week_4_MIN + 0.0, 0.7577422344221121*Week_4_NE + 0.0, 0.7004564658178709*Week_4_NO + 0.0, 0.6375894560896911*Week_4_NYG + 0.0, 0.202679417318168*Week_4_OAK + 0.0, 0.5003521070833941*Week_4_PHI + 0.0, 0.683627043441948*Week_4_PIT + 0.0, 0.6972223055278249*Week_4_SEA + 0.0, 0.26577743202368104*Week_4_TB + 0.0, 0.43359511029056497*Week_4_TEN + 0.0, 0.3624105439103089*Week_4_WAS + 0.0]\n",
            "[0.4641632569655789*Week_5_ARZ + 0.0, 0.357361483584361*Week_5_ATL + 0.0, 0.540214320054616*Week_5_BAL + 0.0, 0.33418194587594896*Week_5_BUF + 0.0, 0.52536462902743*Week_5_CAR + 0.0, 0.8018707345836191*Week_5_CHI + 0.0, 0.5358367430344211*Week_5_CIN + 0.0, 0.6138628252274909*Week_5_CLE + 0.0, 0.584201601613042*Week_5_DAL + 0.0, 0.42382980978685*Week_5_DEN + 0.0, 0.4157983983869579*Week_5_GB + 0.0, 0.6426385164156391*Week_5_HOU + 0.0, 0.29784213103136403*Week_5_IND + 0.0, 0.47463537097257*Week_5_JAX + 0.0, 0.702157868968636*Week_5_KC + 0.0, 0.57617019021315*Week_5_LAC + 0.0, 0.653889492476415*Week_5_LAR + 0.0, 0.532958479710149*Week_5_MIN + 0.0, 0.7838501343893179*Week_5_NE + 0.0, 0.7270003306066221*Week_5_NO + 0.0, 0.46704152028985096*Week_5_NYG + 0.0, 0.294220627538352*Week_5_NYJ + 0.0, 0.198129265416381*Week_5_OAK + 0.0, 0.705779372461648*Week_5_PHI + 0.0, 0.45978567994538394*Week_5_PIT + 0.0, 0.346110507523585*Week_5_SEA + 0.0, 0.386137174772509*Week_5_SF + 0.0, 0.272999669393378*Week_5_TB + 0.0, 0.665818054124051*Week_5_TEN + 0.0, 0.216149865610682*Week_5_WAS + 0.0]\n",
            "[0.39505326423229203*Week_6_ARZ + 0.0, 0.604946735767708*Week_6_ATL + 0.0, 0.734104701196554*Week_6_BAL + 0.0, 0.5795856622721539*Week_6_CAR + 0.0, 0.26589529880344603*Week_6_CIN + 0.0, 0.478489223609505*Week_6_CLE + 0.0, 0.540697757951104*Week_6_DAL + 0.0, 0.6337724877903629*Week_6_DEN + 0.0, 0.420632417717028*Week_6_DET + 0.0, 0.579367582282972*Week_6_GB + 0.0, 0.276684738682747*Week_6_HOU + 0.0, 0.228682066697669*Week_6_JAX + 0.0, 0.723315261317253*Week_6_KC + 0.0, 0.627639233326907*Week_6_LAC + 0.0, 0.805739698163545*Week_6_LAR + 0.0, 0.496144974741645*Week_6_MIA + 0.0, 0.6009547228201321*Week_6_MIN + 0.0, 0.692221077299629*Week_6_NE + 0.0, 0.771317933302331*Week_6_NO + 0.0, 0.30777892270037105*Week_6_NYG + 0.0, 0.459302242048896*Week_6_NYJ + 0.0, 0.399045277179868*Week_6_PHI + 0.0, 0.372360766673093*Week_6_PIT + 0.0, 0.521510776390495*Week_6_SEA + 0.0, 0.19426030183645498*Week_6_SF + 0.0, 0.420414337727846*Week_6_TB + 0.0, 0.366227512209637*Week_6_TEN + 0.0, 0.503855025258355*Week_6_WAS + 0.0]\n",
            "[0.606110253930646*Week_7_ARZ + 0.0, 0.723580659546336*Week_7_ATL + 0.0, 0.466667862891317*Week_7_BAL + 0.0, 0.467586141083814*Week_7_BUF + 0.0, 0.53253668738631*Week_7_CHI + 0.0, 0.488311941818939*Week_7_CIN + 0.0, 0.4435967236159971*Week_7_DAL + 0.0, 0.7347503621810221*Week_7_DEN + 0.0, 0.664332896222698*Week_7_DET + 0.0, 0.33129744362215197*Week_7_GB + 0.0, 0.5417644066574521*Week_7_HOU + 0.0, 0.45823559334254793*Week_7_IND + 0.0, 0.511688058181061*Week_7_JAX + 0.0, 0.26524963781897803*Week_7_KC + 0.0, 0.27622013825942904*Week_7_LAC + 0.0, 0.2764193404536641*Week_7_LAR + 0.0, 0.532413858916186*Week_7_MIA + 0.0, 0.335667103777302*Week_7_MIN + 0.0, 0.24246818653358293*Week_7_NE + 0.0, 0.46746331261369*Week_7_NO + 0.0, 0.393889746069354*Week_7_NYG + 0.0, 0.7575318134664171*Week_7_NYJ + 0.0, 0.668702556377848*Week_7_OAK + 0.0, 0.556403276384003*Week_7_PHI + 0.0, 0.533332137108683*Week_7_SEA + 0.0, 0.555813879424915*Week_7_SF + 0.0, 0.7237798617405711*Week_7_TEN + 0.0, 0.444186120575085*Week_7_WAS + 0.0]\n",
            "[0.266011127124193*Week_8_ARZ + 0.0, 0.43728988461956797*Week_8_ATL + 0.0, 0.435727244723962*Week_8_BUF + 0.0, 0.610333148653363*Week_8_CAR + 0.0, 0.434848390908546*Week_8_CHI + 0.0, 0.24439149660673498*Week_8_CIN + 0.0, 0.315611944378358*Week_8_CLE + 0.0, 0.449654604054562*Week_8_DEN + 0.0, 0.394806213371327*Week_8_DET + 0.0, 0.17180522668538098*Week_8_GB + 0.0, 0.7807425894905101*Week_8_HOU + 0.0, 0.550345395945438*Week_8_IND + 0.0, 0.5349873331856451*Week_8_JAX + 0.0, 0.8281947733146191*Week_8_KC + 0.0, 0.565151609091454*Week_8_LAC + 0.0, 0.755608503393265*Week_8_LAR + 0.0, 0.30533009305146896*Week_8_MIA + 0.0, 0.6906323822656789*Week_8_MIN + 0.0, 0.6843880556216421*Week_8_NE + 0.0, 0.7339888728758069*Week_8_NO + 0.0, 0.605193786628673*Week_8_NYG + 0.0, 0.46501266681435494*Week_8_NYJ + 0.0, 0.21925741050949*Week_8_OAK + 0.0, 0.5642727552760379*Week_8_PHI + 0.0, 0.6946699069485309*Week_8_PIT + 0.0, 0.562710115380432*Week_8_SEA + 0.0, 0.38966685134663703*Week_8_SF + 0.0, 0.405671291938134*Week_8_TB + 0.0, 0.594328708061866*Week_8_TEN + 0.0, 0.30936761773432103*Week_8_WAS + 0.0]\n",
            "[0.54585318516421*Week_9_ARZ + 0.0, 0.4494045416728111*Week_9_BAL + 0.0, 0.5337265621528111*Week_9_BUF + 0.0, 0.5176473644455579*Week_9_CAR + 0.0, 0.582808079475464*Week_9_CHI + 0.0, 0.41771121470142797*Week_9_CLE + 0.0, 0.434010305188149*Week_9_DAL + 0.0, 0.5822887852985721*Week_9_DEN + 0.0, 0.558209366330249*Week_9_DET + 0.0, 0.292272397529925*Week_9_GB + 0.0, 0.673710346611123*Week_9_HOU + 0.0, 0.5419361518929721*Week_9_IND + 0.0, 0.326289653388877*Week_9_JAX + 0.0, 0.7606250196862809*Week_9_KC + 0.0, 0.7077276024700749*Week_9_LAC + 0.0, 0.48942351256264394*Week_9_MIA + 0.0, 0.23937498031371898*Week_9_MIN + 0.0, 0.5505954583271889*Week_9_NE + 0.0, 0.5659896948118511*Week_9_NYG + 0.0, 0.5105764874373561*Week_9_NYJ + 0.0, 0.4417906336697511*Week_9_OAK + 0.0, 0.417191920524536*Week_9_PHI + 0.0, 0.45806384810702794*Week_9_PIT + 0.0, 0.6649808753982621*Week_9_SEA + 0.0, 0.45414681483578995*Week_9_SF + 0.0, 0.33501912460173805*Week_9_TB + 0.0, 0.482352635554442*Week_9_TEN + 0.0, 0.46627343784718894*Week_9_WAS + 0.0]\n",
            "[0.49798009048623293*Week_10_ARZ + 0.0, 0.315222386305755*Week_10_ATL + 0.0, 0.670622844853558*Week_10_BAL + 0.0, 0.303017131094223*Week_10_BUF + 0.0, 0.5177061427527561*Week_10_CAR + 0.0, 0.765030657371358*Week_10_CHI + 0.0, 0.329377155146442*Week_10_CIN + 0.0, 0.696982868905777*Week_10_CLE + 0.0, 0.48082637960742697*Week_10_DAL + 0.0, 0.234969342628642*Week_10_DET + 0.0, 0.482293857247244*Week_10_GB + 0.0, 0.741591895282896*Week_10_IND + 0.0, 0.782052093018927*Week_10_KC + 0.0, 0.8424346043273551*Week_10_LAC + 0.0, 0.6601267596709001*Week_10_LAR + 0.0, 0.258408104717104*Week_10_MIA + 0.0, 0.519173620392573*Week_10_MIN + 0.0, 0.684777613694245*Week_10_NO + 0.0, 0.575707130739821*Week_10_NYG + 0.0, 0.42429286926017895*Week_10_NYJ + 0.0, 0.157565395672645*Week_10_OAK + 0.0, 0.3398732403291*Week_10_PIT + 0.0, 0.6828035751747561*Week_10_SEA + 0.0, 0.31719642482524396*Week_10_SF + 0.0, 0.5020199095137671*Week_10_TB + 0.0, 0.217947906981073*Week_10_TEN + 0.0]\n",
            "[0.5298545438177941*Week_11_ARZ + 0.0, 0.5101890511832271*Week_11_ATL + 0.0, 0.5449509178211099*Week_11_BAL + 0.0, 0.46938941286872105*Week_11_BUF + 0.0, 0.4898109488167729*Week_11_CAR + 0.0, 0.512646750450704*Week_11_CHI + 0.0, 0.5544526768590601*Week_11_CIN + 0.0, 0.513127021447474*Week_11_CLE + 0.0, 0.570803586690414*Week_11_DAL + 0.0, 0.513593924325611*Week_11_DEN + 0.0, 0.42919641330958597*Week_11_DET + 0.0, 0.45504908217889*Week_11_HOU + 0.0, 0.6960957082441109*Week_11_IND + 0.0, 0.303904291755889*Week_11_JAX + 0.0, 0.6602576152412211*Week_11_KC + 0.0, 0.33974238475877894*Week_11_LAC + 0.0, 0.48735324954929604*Week_11_LAR + 0.0, 0.530610587131279*Week_11_MIA + 0.0, 0.486406075674389*Week_11_MIN + 0.0, 0.592325621139927*Week_11_NE + 0.0, 0.7757088920979391*Week_11_NO + 0.0, 0.509920032488801*Week_11_NYJ + 0.0, 0.44554732314094*Week_11_OAK + 0.0, 0.407674378860073*Week_11_PHI + 0.0, 0.48687297855252604*Week_11_PIT + 0.0, 0.470145456182206*Week_11_SF + 0.0, 0.224291107902061*Week_11_TB + 0.0, 0.490079967511199*Week_11_WAS + 0.0]\n",
            "[0.588909214021859*Week_12_ATL + 0.0, 0.450894866528029*Week_12_BAL + 0.0, 0.326874586942726*Week_12_BUF + 0.0, 0.33496729532444297*Week_12_CAR + 0.0, 0.692338499538298*Week_12_CHI + 0.0, 0.40977006025404106*Week_12_CIN + 0.0, 0.665896077847345*Week_12_CLE + 0.0, 0.278372929821928*Week_12_DAL + 0.0, 0.6731254130572739*Week_12_DEN + 0.0, 0.521197274705048*Week_12_DET + 0.0, 0.56606125364022*Week_12_GB + 0.0, 0.491111878087791*Week_12_HOU + 0.0, 0.508888121912209*Week_12_IND + 0.0, 0.42054018404698795*Week_12_JAX + 0.0, 0.549105133471971*Week_12_LAR + 0.0, 0.334103922152655*Week_12_MIA + 0.0, 0.721627070178072*Week_12_NE + 0.0, 0.665032704675557*Week_12_NO + 0.0, 0.307661500461702*Week_12_NYG + 0.0, 0.609772455031877*Week_12_NYJ + 0.0, 0.390227544968123*Week_12_OAK + 0.0, 0.5301665553710129*Week_12_PHI + 0.0, 0.5902299397459589*Week_12_PIT + 0.0, 0.4698334446289871*Week_12_SEA + 0.0, 0.4339387463597801*Week_12_SF + 0.0, 0.41109078597814097*Week_12_TB + 0.0, 0.5794598159530121*Week_12_TEN + 0.0, 0.47880272529495205*Week_12_WAS + 0.0]\n",
            "[0.175921178331487*Week_13_ARZ + 0.0, 0.29860389427296996*Week_13_ATL + 0.0, 0.78740584066714*Week_13_BAL + 0.0, 0.31903149117006296*Week_13_BUF + 0.0, 0.5823199132858361*Week_13_CAR + 0.0, 0.772397281774158*Week_13_CHI + 0.0, 0.562330917397986*Week_13_CIN + 0.0, 0.41353453974320004*Week_13_CLE + 0.0, 0.680968508829937*Week_13_DAL + 0.0, 0.330818985130244*Week_13_DEN + 0.0, 0.22760271822584197*Week_13_DET + 0.0, 0.429289059701979*Week_13_GB + 0.0, 0.421760190811646*Week_13_HOU + 0.0, 0.689513841203597*Week_13_IND + 0.0, 0.49941121142875*Week_13_JAX + 0.0, 0.89689121539152*Week_13_KC + 0.0, 0.669181014869756*Week_13_LAC + 0.0, 0.824078821668513*Week_13_LAR + 0.0, 0.399139191456296*Week_13_MIA + 0.0, 0.460568598197775*Week_13_MIN + 0.0, 0.578239809188354*Week_13_NE + 0.0, 0.70139610572703*Week_13_NO + 0.0, 0.5707109402980209*Week_13_NYG + 0.0, 0.4376690826020139*Week_13_NYJ + 0.0, 0.10310878460848*Week_13_OAK + 0.0, 0.600860808543704*Week_13_PHI + 0.0, 0.5864654602568*Week_13_PIT + 0.0, 0.5394314018022249*Week_13_SEA + 0.0, 0.21259415933286*Week_13_SF + 0.0, 0.50058878857125*Week_13_TB + 0.0, 0.310486158796403*Week_13_TEN + 0.0, 0.417680086714164*Week_13_WAS + 0.0]\n",
            "[0.332813121723261*Week_14_ARZ + 0.0, 0.5164452974103649*Week_14_ATL + 0.0, 0.701282244383918*Week_14_BAL + 0.0, 0.29871775561608194*Week_14_BUF + 0.0, 0.483554702589635*Week_14_CAR + 0.0, 0.7217377833873778*Week_14_CHI + 0.0, 0.34566961152206704*Week_14_CIN + 0.0, 0.654330388477933*Week_14_CLE + 0.0, 0.278262216612622*Week_14_DAL + 0.0, 0.47441384902671396*Week_14_DEN + 0.0, 0.32496853665298403*Week_14_DET + 0.0, 0.596818031180154*Week_14_GB + 0.0, 0.525586150973286*Week_14_HOU + 0.0, 0.701290583716483*Week_14_IND + 0.0, 0.206273884985427*Week_14_JAX + 0.0, 0.640382325779645*Week_14_KC + 0.0, 0.793726115014573*Week_14_LAC + 0.0, 0.599774770645296*Week_14_LAR + 0.0, 0.46730087092267797*Week_14_MIA + 0.0, 0.675031463347016*Week_14_MIN + 0.0, 0.359617674220355*Week_14_NE + 0.0, 0.799931307715494*Week_14_NO + 0.0, 0.386883314204351*Week_14_NYG + 0.0, 0.5326991290773221*Week_14_NYJ + 0.0, 0.395670704362449*Week_14_OAK + 0.0, 0.6131166857956489*Week_14_PHI + 0.0, 0.6671868782767391*Week_14_PIT + 0.0, 0.40022522935470395*Week_14_SEA + 0.0, 0.200068692284506*Week_14_SF + 0.0, 0.29870941628351694*Week_14_TB + 0.0, 0.604329295637551*Week_14_TEN + 0.0, 0.40318196881984597*Week_14_WAS + 0.0]\n",
            "[0.37028409140097707*Week_15_ARZ + 0.0, 0.588725793654881*Week_15_ATL + 0.0, 0.739906691787478*Week_15_BAL + 0.0, 0.27581165611611896*Week_15_BUF + 0.0, 0.389658603450258*Week_15_CAR + 0.0, 0.6992968857238739*Week_15_CHI + 0.0, 0.269347987077312*Week_15_CIN + 0.0, 0.6297159085990229*Week_15_CLE + 0.0, 0.295053299908471*Week_15_DAL + 0.0, 0.2698103500579*Week_15_DEN + 0.0, 0.4612909591794989*Week_15_DET + 0.0, 0.300703114276126*Week_15_GB + 0.0, 0.584377619846001*Week_15_HOU + 0.0, 0.46171882095673705*Week_15_IND + 0.0, 0.596910854491812*Week_15_JAX + 0.0, 0.7301896499421*Week_15_KC + 0.0, 0.6148144445281889*Week_15_LAC + 0.0, 0.704946700091529*Week_15_LAR + 0.0, 0.36363005852936103*Week_15_MIA + 0.0, 0.38518555547181105*Week_15_MIN + 0.0, 0.730652012922688*Week_15_NE + 0.0, 0.538281179043263*Week_15_NO + 0.0, 0.6363699414706391*Week_15_NYG + 0.0, 0.260093308212522*Week_15_NYJ + 0.0, 0.40308914550818803*Week_15_OAK + 0.0, 0.600230634438463*Week_15_PHI + 0.0, 0.724188343883881*Week_15_PIT + 0.0, 0.6103413965497421*Week_15_SEA + 0.0, 0.41127420634511896*Week_15_SF + 0.0, 0.5387090408205011*Week_15_TB + 0.0, 0.41562238015399894*Week_15_TEN + 0.0, 0.3997693655615371*Week_15_WAS + 0.0]\n",
            "[0.327157395373919*Week_16_ARZ + 0.0, 0.573984067907389*Week_16_ATL + 0.0, 0.572869233730261*Week_16_BAL + 0.0, 0.1994121957209*Week_16_BUF + 0.0, 0.35515529602428203*Week_16_CAR + 0.0, 0.35974462244921707*Week_16_CHI + 0.0, 0.518053862266592*Week_16_CIN + 0.0, 0.42713076626973906*Week_16_CLE + 0.0, 0.353782163088739*Week_16_DAL + 0.0, 0.67657459326812*Week_16_DEN + 0.0, 0.32342540673188*Week_16_DET + 0.0, 0.372171367588818*Week_16_GB + 0.0, 0.6791959814375329*Week_16_HOU + 0.0, 0.644844703975718*Week_16_IND + 0.0, 0.42601593209261107*Week_16_JAX + 0.0, 0.640255377550783*Week_16_KC + 0.0, 0.8137610279224371*Week_16_LAC + 0.0, 0.8140903716766469*Week_16_LAR + 0.0, 0.481946137733408*Week_16_MIA + 0.0, 0.627828632411182*Week_16_MIN + 0.0, 0.8005878042791*Week_16_NE + 0.0, 0.696676963826979*Week_16_NO + 0.0, 0.611643524402072*Week_16_NYG + 0.0, 0.37608993920607*Week_16_NYJ + 0.0, 0.18623897207756304*Week_16_OAK + 0.0, 0.646217836911261*Week_16_PHI + 0.0, 0.6239100607939301*Week_16_PIT + 0.0, 0.672842604626081*Week_16_SEA + 0.0, 0.185909628323353*Week_16_SF + 0.0, 0.320804018562467*Week_16_TB + 0.0, 0.30332303617302103*Week_16_TEN + 0.0, 0.38835647559792796*Week_16_WAS + 0.0]\n",
            "[0.258907929835994*Week_17_ARZ + 0.0, 0.55750943671304*Week_17_ATL + 0.0, 0.605859396800502*Week_17_BAL + 0.0, 0.527028516159316*Week_17_BUF + 0.0, 0.259122557950116*Week_17_CAR + 0.0, 0.6066133894575699*Week_17_CHI + 0.0, 0.45006075557807707*Week_17_CIN + 0.0, 0.549939244421923*Week_17_CLE + 0.0, 0.6502663477584489*Week_17_DAL + 0.0, 0.7540293662103901*Week_17_DEN + 0.0, 0.4339174145738471*Week_17_DET + 0.0, 0.566082585426153*Week_17_GB + 0.0, 0.667791938912043*Week_17_HOU + 0.0, 0.696013663171812*Week_17_IND + 0.0, 0.303986336828188*Week_17_JAX + 0.0, 0.583813372405235*Week_17_KC + 0.0, 0.416186627594765*Week_17_LAC + 0.0, 0.741092070164006*Week_17_LAR + 0.0, 0.223274988023174*Week_17_MIA + 0.0, 0.39338661054242996*Week_17_MIN + 0.0, 0.7767250119768259*Week_17_NE + 0.0, 0.740877442049884*Week_17_NO + 0.0, 0.5427166717451389*Week_17_NYG + 0.0, 0.472971483840684*Week_17_NYJ + 0.0, 0.24597063378960995*Week_17_OAK + 0.0, 0.457283328254861*Week_17_PHI + 0.0, 0.394140603199498*Week_17_PIT + 0.0, 0.748754273074583*Week_17_SEA + 0.0, 0.251245726925417*Week_17_SF + 0.0, 0.44249056328696007*Week_17_TB + 0.0, 0.332208061087957*Week_17_TEN + 0.0, 0.34973365224155106*Week_17_WAS + 0.0]\n"
          ],
          "name": "stdout"
        }
      ]
    },
    {
      "cell_type": "code",
      "metadata": {
        "id": "FsoMtJ2UlT8C",
        "colab_type": "code",
        "colab": {
          "base_uri": "https://localhost:8080/",
          "height": 164
        },
        "outputId": "fb0f2d62-b79c-4f45-c658-1a7a148ab41c"
      },
      "source": [
        "max(winProbs, key=lambda k: winProbs[k])\n",
        "for i, x in _vars.items():\n",
        "    print()"
      ],
      "execution_count": null,
      "outputs": [
        {
          "output_type": "error",
          "ename": "TypeError",
          "evalue": "ignored",
          "traceback": [
            "\u001b[0;31m---------------------------------------------------------------------------\u001b[0m",
            "\u001b[0;31mTypeError\u001b[0m                                 Traceback (most recent call last)",
            "\u001b[0;32m<ipython-input-29-b9cce93cbd39>\u001b[0m in \u001b[0;36m<module>\u001b[0;34m()\u001b[0m\n\u001b[0;32m----> 1\u001b[0;31m \u001b[0mmax\u001b[0m\u001b[0;34m(\u001b[0m\u001b[0mwinProbs\u001b[0m\u001b[0;34m,\u001b[0m \u001b[0mkey\u001b[0m\u001b[0;34m=\u001b[0m\u001b[0;32mlambda\u001b[0m \u001b[0mk\u001b[0m\u001b[0;34m:\u001b[0m \u001b[0mwinProbs\u001b[0m\u001b[0;34m[\u001b[0m\u001b[0mk\u001b[0m\u001b[0;34m]\u001b[0m\u001b[0;34m)\u001b[0m\u001b[0;34m\u001b[0m\u001b[0;34m\u001b[0m\u001b[0m\n\u001b[0m",
            "\u001b[0;31mTypeError\u001b[0m: '>' not supported between instances of 'dict' and 'dict'"
          ]
        }
      ]
    },
    {
      "cell_type": "code",
      "metadata": {
        "id": "e80tXgXdmdjX",
        "colab_type": "code",
        "colab": {
          "base_uri": "https://localhost:8080/",
          "height": 34
        },
        "outputId": "43a7f9d3-d749-449a-95df-3f56c4781d32"
      },
      "source": [
        "_vars.get(\"Week 2\")[\"ARZ\"]"
      ],
      "execution_count": null,
      "outputs": [
        {
          "output_type": "execute_result",
          "data": {
            "text/plain": [
              "Week_2_ARZ"
            ]
          },
          "metadata": {
            "tags": []
          },
          "execution_count": 33
        }
      ]
    },
    {
      "cell_type": "code",
      "metadata": {
        "id": "RE7h5BE2mybl",
        "colab_type": "code",
        "colab": {
          "base_uri": "https://localhost:8080/",
          "height": 289
        },
        "outputId": "4c00dce9-b5b1-4edb-e005-0cc9a1bdc9dd"
      },
      "source": [
        "for i in range(1,18):\n",
        "  week_num = f\"Week {i}\"\n",
        "  try:\n",
        "      print(lpSum(_vars.get(week_num)[\"ARZ\"]))\n",
        "  except KeyError:\n",
        "      continue\n",
        "  #print(_vars.get(week_num)[\"ARZ\"])\n",
        "  #print(week_num)"
      ],
      "execution_count": null,
      "outputs": [
        {
          "output_type": "stream",
          "text": [
            "Week_1_ARZ\n",
            "Week_2_ARZ\n",
            "Week_3_ARZ\n",
            "Week_4_ARZ\n",
            "Week_5_ARZ\n",
            "Week_6_ARZ\n",
            "Week_7_ARZ\n",
            "Week_8_ARZ\n",
            "Week_9_ARZ\n",
            "Week_10_ARZ\n",
            "Week_11_ARZ\n",
            "Week_13_ARZ\n",
            "Week_14_ARZ\n",
            "Week_15_ARZ\n",
            "Week_16_ARZ\n",
            "Week_17_ARZ\n"
          ],
          "name": "stdout"
        }
      ]
    },
    {
      "cell_type": "code",
      "metadata": {
        "id": "EOFn_8YR3egd",
        "colab_type": "code",
        "colab": {
          "base_uri": "https://localhost:8080/",
          "height": 326
        },
        "outputId": "f0c9216d-6531-44b8-9159-d391323fb4e7"
      },
      "source": [
        "for i, x in _vars.items():\n",
        "  #print([1 * _vars[i][j] for j in x])\n",
        "  print(_vars.get(\"Week 17\"))"
      ],
      "execution_count": null,
      "outputs": [
        {
          "output_type": "stream",
          "text": [
            "{'ARZ': Week_17_ARZ, 'ATL': Week_17_ATL, 'BAL': Week_17_BAL, 'BUF': Week_17_BUF, 'CAR': Week_17_CAR, 'CHI': Week_17_CHI, 'CIN': Week_17_CIN, 'CLE': Week_17_CLE, 'DAL': Week_17_DAL, 'DEN': Week_17_DEN, 'DET': Week_17_DET, 'GB': Week_17_GB, 'HOU': Week_17_HOU, 'IND': Week_17_IND, 'JAX': Week_17_JAX, 'KC': Week_17_KC, 'LAC': Week_17_LAC, 'LAR': Week_17_LAR, 'MIA': Week_17_MIA, 'MIN': Week_17_MIN, 'NE': Week_17_NE, 'NO': Week_17_NO, 'NYG': Week_17_NYG, 'NYJ': Week_17_NYJ, 'OAK': Week_17_OAK, 'PHI': Week_17_PHI, 'PIT': Week_17_PIT, 'SEA': Week_17_SEA, 'SF': Week_17_SF, 'TB': Week_17_TB, 'TEN': Week_17_TEN, 'WAS': Week_17_WAS}\n",
            "{'ARZ': Week_17_ARZ, 'ATL': Week_17_ATL, 'BAL': Week_17_BAL, 'BUF': Week_17_BUF, 'CAR': Week_17_CAR, 'CHI': Week_17_CHI, 'CIN': Week_17_CIN, 'CLE': Week_17_CLE, 'DAL': Week_17_DAL, 'DEN': Week_17_DEN, 'DET': Week_17_DET, 'GB': Week_17_GB, 'HOU': Week_17_HOU, 'IND': Week_17_IND, 'JAX': Week_17_JAX, 'KC': Week_17_KC, 'LAC': Week_17_LAC, 'LAR': Week_17_LAR, 'MIA': Week_17_MIA, 'MIN': Week_17_MIN, 'NE': Week_17_NE, 'NO': Week_17_NO, 'NYG': Week_17_NYG, 'NYJ': Week_17_NYJ, 'OAK': Week_17_OAK, 'PHI': Week_17_PHI, 'PIT': Week_17_PIT, 'SEA': Week_17_SEA, 'SF': Week_17_SF, 'TB': Week_17_TB, 'TEN': Week_17_TEN, 'WAS': Week_17_WAS}\n",
            "{'ARZ': Week_17_ARZ, 'ATL': Week_17_ATL, 'BAL': Week_17_BAL, 'BUF': Week_17_BUF, 'CAR': Week_17_CAR, 'CHI': Week_17_CHI, 'CIN': Week_17_CIN, 'CLE': Week_17_CLE, 'DAL': Week_17_DAL, 'DEN': Week_17_DEN, 'DET': Week_17_DET, 'GB': Week_17_GB, 'HOU': Week_17_HOU, 'IND': Week_17_IND, 'JAX': Week_17_JAX, 'KC': Week_17_KC, 'LAC': Week_17_LAC, 'LAR': Week_17_LAR, 'MIA': Week_17_MIA, 'MIN': Week_17_MIN, 'NE': Week_17_NE, 'NO': Week_17_NO, 'NYG': Week_17_NYG, 'NYJ': Week_17_NYJ, 'OAK': Week_17_OAK, 'PHI': Week_17_PHI, 'PIT': Week_17_PIT, 'SEA': Week_17_SEA, 'SF': Week_17_SF, 'TB': Week_17_TB, 'TEN': Week_17_TEN, 'WAS': Week_17_WAS}\n",
            "{'ARZ': Week_17_ARZ, 'ATL': Week_17_ATL, 'BAL': Week_17_BAL, 'BUF': Week_17_BUF, 'CAR': Week_17_CAR, 'CHI': Week_17_CHI, 'CIN': Week_17_CIN, 'CLE': Week_17_CLE, 'DAL': Week_17_DAL, 'DEN': Week_17_DEN, 'DET': Week_17_DET, 'GB': Week_17_GB, 'HOU': Week_17_HOU, 'IND': Week_17_IND, 'JAX': Week_17_JAX, 'KC': Week_17_KC, 'LAC': Week_17_LAC, 'LAR': Week_17_LAR, 'MIA': Week_17_MIA, 'MIN': Week_17_MIN, 'NE': Week_17_NE, 'NO': Week_17_NO, 'NYG': Week_17_NYG, 'NYJ': Week_17_NYJ, 'OAK': Week_17_OAK, 'PHI': Week_17_PHI, 'PIT': Week_17_PIT, 'SEA': Week_17_SEA, 'SF': Week_17_SF, 'TB': Week_17_TB, 'TEN': Week_17_TEN, 'WAS': Week_17_WAS}\n",
            "{'ARZ': Week_17_ARZ, 'ATL': Week_17_ATL, 'BAL': Week_17_BAL, 'BUF': Week_17_BUF, 'CAR': Week_17_CAR, 'CHI': Week_17_CHI, 'CIN': Week_17_CIN, 'CLE': Week_17_CLE, 'DAL': Week_17_DAL, 'DEN': Week_17_DEN, 'DET': Week_17_DET, 'GB': Week_17_GB, 'HOU': Week_17_HOU, 'IND': Week_17_IND, 'JAX': Week_17_JAX, 'KC': Week_17_KC, 'LAC': Week_17_LAC, 'LAR': Week_17_LAR, 'MIA': Week_17_MIA, 'MIN': Week_17_MIN, 'NE': Week_17_NE, 'NO': Week_17_NO, 'NYG': Week_17_NYG, 'NYJ': Week_17_NYJ, 'OAK': Week_17_OAK, 'PHI': Week_17_PHI, 'PIT': Week_17_PIT, 'SEA': Week_17_SEA, 'SF': Week_17_SF, 'TB': Week_17_TB, 'TEN': Week_17_TEN, 'WAS': Week_17_WAS}\n",
            "{'ARZ': Week_17_ARZ, 'ATL': Week_17_ATL, 'BAL': Week_17_BAL, 'BUF': Week_17_BUF, 'CAR': Week_17_CAR, 'CHI': Week_17_CHI, 'CIN': Week_17_CIN, 'CLE': Week_17_CLE, 'DAL': Week_17_DAL, 'DEN': Week_17_DEN, 'DET': Week_17_DET, 'GB': Week_17_GB, 'HOU': Week_17_HOU, 'IND': Week_17_IND, 'JAX': Week_17_JAX, 'KC': Week_17_KC, 'LAC': Week_17_LAC, 'LAR': Week_17_LAR, 'MIA': Week_17_MIA, 'MIN': Week_17_MIN, 'NE': Week_17_NE, 'NO': Week_17_NO, 'NYG': Week_17_NYG, 'NYJ': Week_17_NYJ, 'OAK': Week_17_OAK, 'PHI': Week_17_PHI, 'PIT': Week_17_PIT, 'SEA': Week_17_SEA, 'SF': Week_17_SF, 'TB': Week_17_TB, 'TEN': Week_17_TEN, 'WAS': Week_17_WAS}\n",
            "{'ARZ': Week_17_ARZ, 'ATL': Week_17_ATL, 'BAL': Week_17_BAL, 'BUF': Week_17_BUF, 'CAR': Week_17_CAR, 'CHI': Week_17_CHI, 'CIN': Week_17_CIN, 'CLE': Week_17_CLE, 'DAL': Week_17_DAL, 'DEN': Week_17_DEN, 'DET': Week_17_DET, 'GB': Week_17_GB, 'HOU': Week_17_HOU, 'IND': Week_17_IND, 'JAX': Week_17_JAX, 'KC': Week_17_KC, 'LAC': Week_17_LAC, 'LAR': Week_17_LAR, 'MIA': Week_17_MIA, 'MIN': Week_17_MIN, 'NE': Week_17_NE, 'NO': Week_17_NO, 'NYG': Week_17_NYG, 'NYJ': Week_17_NYJ, 'OAK': Week_17_OAK, 'PHI': Week_17_PHI, 'PIT': Week_17_PIT, 'SEA': Week_17_SEA, 'SF': Week_17_SF, 'TB': Week_17_TB, 'TEN': Week_17_TEN, 'WAS': Week_17_WAS}\n",
            "{'ARZ': Week_17_ARZ, 'ATL': Week_17_ATL, 'BAL': Week_17_BAL, 'BUF': Week_17_BUF, 'CAR': Week_17_CAR, 'CHI': Week_17_CHI, 'CIN': Week_17_CIN, 'CLE': Week_17_CLE, 'DAL': Week_17_DAL, 'DEN': Week_17_DEN, 'DET': Week_17_DET, 'GB': Week_17_GB, 'HOU': Week_17_HOU, 'IND': Week_17_IND, 'JAX': Week_17_JAX, 'KC': Week_17_KC, 'LAC': Week_17_LAC, 'LAR': Week_17_LAR, 'MIA': Week_17_MIA, 'MIN': Week_17_MIN, 'NE': Week_17_NE, 'NO': Week_17_NO, 'NYG': Week_17_NYG, 'NYJ': Week_17_NYJ, 'OAK': Week_17_OAK, 'PHI': Week_17_PHI, 'PIT': Week_17_PIT, 'SEA': Week_17_SEA, 'SF': Week_17_SF, 'TB': Week_17_TB, 'TEN': Week_17_TEN, 'WAS': Week_17_WAS}\n",
            "{'ARZ': Week_17_ARZ, 'ATL': Week_17_ATL, 'BAL': Week_17_BAL, 'BUF': Week_17_BUF, 'CAR': Week_17_CAR, 'CHI': Week_17_CHI, 'CIN': Week_17_CIN, 'CLE': Week_17_CLE, 'DAL': Week_17_DAL, 'DEN': Week_17_DEN, 'DET': Week_17_DET, 'GB': Week_17_GB, 'HOU': Week_17_HOU, 'IND': Week_17_IND, 'JAX': Week_17_JAX, 'KC': Week_17_KC, 'LAC': Week_17_LAC, 'LAR': Week_17_LAR, 'MIA': Week_17_MIA, 'MIN': Week_17_MIN, 'NE': Week_17_NE, 'NO': Week_17_NO, 'NYG': Week_17_NYG, 'NYJ': Week_17_NYJ, 'OAK': Week_17_OAK, 'PHI': Week_17_PHI, 'PIT': Week_17_PIT, 'SEA': Week_17_SEA, 'SF': Week_17_SF, 'TB': Week_17_TB, 'TEN': Week_17_TEN, 'WAS': Week_17_WAS}\n",
            "{'ARZ': Week_17_ARZ, 'ATL': Week_17_ATL, 'BAL': Week_17_BAL, 'BUF': Week_17_BUF, 'CAR': Week_17_CAR, 'CHI': Week_17_CHI, 'CIN': Week_17_CIN, 'CLE': Week_17_CLE, 'DAL': Week_17_DAL, 'DEN': Week_17_DEN, 'DET': Week_17_DET, 'GB': Week_17_GB, 'HOU': Week_17_HOU, 'IND': Week_17_IND, 'JAX': Week_17_JAX, 'KC': Week_17_KC, 'LAC': Week_17_LAC, 'LAR': Week_17_LAR, 'MIA': Week_17_MIA, 'MIN': Week_17_MIN, 'NE': Week_17_NE, 'NO': Week_17_NO, 'NYG': Week_17_NYG, 'NYJ': Week_17_NYJ, 'OAK': Week_17_OAK, 'PHI': Week_17_PHI, 'PIT': Week_17_PIT, 'SEA': Week_17_SEA, 'SF': Week_17_SF, 'TB': Week_17_TB, 'TEN': Week_17_TEN, 'WAS': Week_17_WAS}\n",
            "{'ARZ': Week_17_ARZ, 'ATL': Week_17_ATL, 'BAL': Week_17_BAL, 'BUF': Week_17_BUF, 'CAR': Week_17_CAR, 'CHI': Week_17_CHI, 'CIN': Week_17_CIN, 'CLE': Week_17_CLE, 'DAL': Week_17_DAL, 'DEN': Week_17_DEN, 'DET': Week_17_DET, 'GB': Week_17_GB, 'HOU': Week_17_HOU, 'IND': Week_17_IND, 'JAX': Week_17_JAX, 'KC': Week_17_KC, 'LAC': Week_17_LAC, 'LAR': Week_17_LAR, 'MIA': Week_17_MIA, 'MIN': Week_17_MIN, 'NE': Week_17_NE, 'NO': Week_17_NO, 'NYG': Week_17_NYG, 'NYJ': Week_17_NYJ, 'OAK': Week_17_OAK, 'PHI': Week_17_PHI, 'PIT': Week_17_PIT, 'SEA': Week_17_SEA, 'SF': Week_17_SF, 'TB': Week_17_TB, 'TEN': Week_17_TEN, 'WAS': Week_17_WAS}\n",
            "{'ARZ': Week_17_ARZ, 'ATL': Week_17_ATL, 'BAL': Week_17_BAL, 'BUF': Week_17_BUF, 'CAR': Week_17_CAR, 'CHI': Week_17_CHI, 'CIN': Week_17_CIN, 'CLE': Week_17_CLE, 'DAL': Week_17_DAL, 'DEN': Week_17_DEN, 'DET': Week_17_DET, 'GB': Week_17_GB, 'HOU': Week_17_HOU, 'IND': Week_17_IND, 'JAX': Week_17_JAX, 'KC': Week_17_KC, 'LAC': Week_17_LAC, 'LAR': Week_17_LAR, 'MIA': Week_17_MIA, 'MIN': Week_17_MIN, 'NE': Week_17_NE, 'NO': Week_17_NO, 'NYG': Week_17_NYG, 'NYJ': Week_17_NYJ, 'OAK': Week_17_OAK, 'PHI': Week_17_PHI, 'PIT': Week_17_PIT, 'SEA': Week_17_SEA, 'SF': Week_17_SF, 'TB': Week_17_TB, 'TEN': Week_17_TEN, 'WAS': Week_17_WAS}\n",
            "{'ARZ': Week_17_ARZ, 'ATL': Week_17_ATL, 'BAL': Week_17_BAL, 'BUF': Week_17_BUF, 'CAR': Week_17_CAR, 'CHI': Week_17_CHI, 'CIN': Week_17_CIN, 'CLE': Week_17_CLE, 'DAL': Week_17_DAL, 'DEN': Week_17_DEN, 'DET': Week_17_DET, 'GB': Week_17_GB, 'HOU': Week_17_HOU, 'IND': Week_17_IND, 'JAX': Week_17_JAX, 'KC': Week_17_KC, 'LAC': Week_17_LAC, 'LAR': Week_17_LAR, 'MIA': Week_17_MIA, 'MIN': Week_17_MIN, 'NE': Week_17_NE, 'NO': Week_17_NO, 'NYG': Week_17_NYG, 'NYJ': Week_17_NYJ, 'OAK': Week_17_OAK, 'PHI': Week_17_PHI, 'PIT': Week_17_PIT, 'SEA': Week_17_SEA, 'SF': Week_17_SF, 'TB': Week_17_TB, 'TEN': Week_17_TEN, 'WAS': Week_17_WAS}\n",
            "{'ARZ': Week_17_ARZ, 'ATL': Week_17_ATL, 'BAL': Week_17_BAL, 'BUF': Week_17_BUF, 'CAR': Week_17_CAR, 'CHI': Week_17_CHI, 'CIN': Week_17_CIN, 'CLE': Week_17_CLE, 'DAL': Week_17_DAL, 'DEN': Week_17_DEN, 'DET': Week_17_DET, 'GB': Week_17_GB, 'HOU': Week_17_HOU, 'IND': Week_17_IND, 'JAX': Week_17_JAX, 'KC': Week_17_KC, 'LAC': Week_17_LAC, 'LAR': Week_17_LAR, 'MIA': Week_17_MIA, 'MIN': Week_17_MIN, 'NE': Week_17_NE, 'NO': Week_17_NO, 'NYG': Week_17_NYG, 'NYJ': Week_17_NYJ, 'OAK': Week_17_OAK, 'PHI': Week_17_PHI, 'PIT': Week_17_PIT, 'SEA': Week_17_SEA, 'SF': Week_17_SF, 'TB': Week_17_TB, 'TEN': Week_17_TEN, 'WAS': Week_17_WAS}\n",
            "{'ARZ': Week_17_ARZ, 'ATL': Week_17_ATL, 'BAL': Week_17_BAL, 'BUF': Week_17_BUF, 'CAR': Week_17_CAR, 'CHI': Week_17_CHI, 'CIN': Week_17_CIN, 'CLE': Week_17_CLE, 'DAL': Week_17_DAL, 'DEN': Week_17_DEN, 'DET': Week_17_DET, 'GB': Week_17_GB, 'HOU': Week_17_HOU, 'IND': Week_17_IND, 'JAX': Week_17_JAX, 'KC': Week_17_KC, 'LAC': Week_17_LAC, 'LAR': Week_17_LAR, 'MIA': Week_17_MIA, 'MIN': Week_17_MIN, 'NE': Week_17_NE, 'NO': Week_17_NO, 'NYG': Week_17_NYG, 'NYJ': Week_17_NYJ, 'OAK': Week_17_OAK, 'PHI': Week_17_PHI, 'PIT': Week_17_PIT, 'SEA': Week_17_SEA, 'SF': Week_17_SF, 'TB': Week_17_TB, 'TEN': Week_17_TEN, 'WAS': Week_17_WAS}\n",
            "{'ARZ': Week_17_ARZ, 'ATL': Week_17_ATL, 'BAL': Week_17_BAL, 'BUF': Week_17_BUF, 'CAR': Week_17_CAR, 'CHI': Week_17_CHI, 'CIN': Week_17_CIN, 'CLE': Week_17_CLE, 'DAL': Week_17_DAL, 'DEN': Week_17_DEN, 'DET': Week_17_DET, 'GB': Week_17_GB, 'HOU': Week_17_HOU, 'IND': Week_17_IND, 'JAX': Week_17_JAX, 'KC': Week_17_KC, 'LAC': Week_17_LAC, 'LAR': Week_17_LAR, 'MIA': Week_17_MIA, 'MIN': Week_17_MIN, 'NE': Week_17_NE, 'NO': Week_17_NO, 'NYG': Week_17_NYG, 'NYJ': Week_17_NYJ, 'OAK': Week_17_OAK, 'PHI': Week_17_PHI, 'PIT': Week_17_PIT, 'SEA': Week_17_SEA, 'SF': Week_17_SF, 'TB': Week_17_TB, 'TEN': Week_17_TEN, 'WAS': Week_17_WAS}\n",
            "{'ARZ': Week_17_ARZ, 'ATL': Week_17_ATL, 'BAL': Week_17_BAL, 'BUF': Week_17_BUF, 'CAR': Week_17_CAR, 'CHI': Week_17_CHI, 'CIN': Week_17_CIN, 'CLE': Week_17_CLE, 'DAL': Week_17_DAL, 'DEN': Week_17_DEN, 'DET': Week_17_DET, 'GB': Week_17_GB, 'HOU': Week_17_HOU, 'IND': Week_17_IND, 'JAX': Week_17_JAX, 'KC': Week_17_KC, 'LAC': Week_17_LAC, 'LAR': Week_17_LAR, 'MIA': Week_17_MIA, 'MIN': Week_17_MIN, 'NE': Week_17_NE, 'NO': Week_17_NO, 'NYG': Week_17_NYG, 'NYJ': Week_17_NYJ, 'OAK': Week_17_OAK, 'PHI': Week_17_PHI, 'PIT': Week_17_PIT, 'SEA': Week_17_SEA, 'SF': Week_17_SF, 'TB': Week_17_TB, 'TEN': Week_17_TEN, 'WAS': Week_17_WAS}\n"
          ],
          "name": "stdout"
        }
      ]
    },
    {
      "cell_type": "code",
      "metadata": {
        "id": "4VYCamjuk2vb",
        "colab_type": "code",
        "colab": {}
      },
      "source": [
        "# initialize the problem statement (Maximize)\n",
        "prob = LpProblem(\"Survivor Pool Optimizer\", LpMaximize)\n",
        "\n",
        "# initialize lists to hold constraints\n",
        "winProb = []\n",
        "week = []\n",
        "\n",
        "# Setting up the reward\n",
        "for i, x in _vars.items():\n",
        "    #week += lpSum([teams[i][j] * _vars[i][j] for j in x])\n",
        "    winProb += lpSum([winProbs[i][j] * _vars[i][j] for j in x])\n",
        "    #prob += lpSum([teams[i][j] * _vars[i][j] for j in x]) <= team_num_available[i]\n",
        "    prob += lpSum([_vars[i][j] for j in x]) <= week_num_available[i]\n",
        "    #prob += lpSum([_vars[i][k] for k in i) <= team_num_available[i]\n",
        "\n",
        "\n",
        "# Setting up the reward\n",
        "for i, x in vars.items():\n",
        "    prob += lpSum([vars[i][k] for k in x]) <= team_num_available[i]\n",
        "\n",
        "#prob += lpSum([\"Week_1_KC\" + 'Week_2_KC'] <= 1)\n",
        "# Salary Constraint\n",
        "#prob += lpSum(salary) <= SALARY_CAP\n",
        "    \n",
        "# Objective Function\n",
        "prob += lpSum(winProb)"
      ],
      "execution_count": null,
      "outputs": []
    },
    {
      "cell_type": "code",
      "metadata": {
        "id": "3x-fbQhtWAyL",
        "colab_type": "code",
        "colab": {
          "base_uri": "https://localhost:8080/",
          "height": 198
        },
        "outputId": "128178bd-22d5-4d60-99fa-7c1646e26ae0"
      },
      "source": [
        "for i, x in _vars.items():\n",
        "    print(_vars[3])\n",
        "    #print(lpSum([_vars[i][j] for j in x]) <= week_num_available[i])"
      ],
      "execution_count": null,
      "outputs": [
        {
          "output_type": "error",
          "ename": "KeyError",
          "evalue": "ignored",
          "traceback": [
            "\u001b[0;31m---------------------------------------------------------------------------\u001b[0m",
            "\u001b[0;31mKeyError\u001b[0m                                  Traceback (most recent call last)",
            "\u001b[0;32m<ipython-input-19-f8d154242b03>\u001b[0m in \u001b[0;36m<module>\u001b[0;34m()\u001b[0m\n\u001b[1;32m      1\u001b[0m \u001b[0;32mfor\u001b[0m \u001b[0mi\u001b[0m\u001b[0;34m,\u001b[0m \u001b[0mx\u001b[0m \u001b[0;32min\u001b[0m \u001b[0m_vars\u001b[0m\u001b[0;34m.\u001b[0m\u001b[0mitems\u001b[0m\u001b[0;34m(\u001b[0m\u001b[0;34m)\u001b[0m\u001b[0;34m:\u001b[0m\u001b[0;34m\u001b[0m\u001b[0;34m\u001b[0m\u001b[0m\n\u001b[0;32m----> 2\u001b[0;31m     \u001b[0mprint\u001b[0m\u001b[0;34m(\u001b[0m\u001b[0m_vars\u001b[0m\u001b[0;34m[\u001b[0m\u001b[0;36m3\u001b[0m\u001b[0;34m]\u001b[0m\u001b[0;34m)\u001b[0m\u001b[0;34m\u001b[0m\u001b[0;34m\u001b[0m\u001b[0m\n\u001b[0m\u001b[1;32m      3\u001b[0m     \u001b[0;31m#print(lpSum([_vars[i][j] for j in x]) <= week_num_available[i])\u001b[0m\u001b[0;34m\u001b[0m\u001b[0;34m\u001b[0m\u001b[0;34m\u001b[0m\u001b[0m\n",
            "\u001b[0;31mKeyError\u001b[0m: 3"
          ]
        }
      ]
    },
    {
      "cell_type": "code",
      "metadata": {
        "id": "Y9BEd87IVxsD",
        "colab_type": "code",
        "colab": {
          "base_uri": "https://localhost:8080/",
          "height": 581
        },
        "outputId": "4ec0f417-75cf-4830-fd33-8023a59d6b91"
      },
      "source": [
        "# Setting up the reward\n",
        "for i, x in vars.items():\n",
        "    print(lpSum([vars[i][k] for k in x]) <= team_num_available[i])"
      ],
      "execution_count": null,
      "outputs": [
        {
          "output_type": "stream",
          "text": [
            "ARZ_Week_1 + ARZ_Week_10 + ARZ_Week_11 + ARZ_Week_13 + ARZ_Week_14 + ARZ_Week_15 + ARZ_Week_16 + ARZ_Week_17 + ARZ_Week_2 + ARZ_Week_3 + ARZ_Week_4 + ARZ_Week_5 + ARZ_Week_6 + ARZ_Week_7 + ARZ_Week_8 + ARZ_Week_9 <= 1\n",
            "ATL_Week_1 + ATL_Week_10 + ATL_Week_11 + ATL_Week_12 + ATL_Week_13 + ATL_Week_14 + ATL_Week_15 + ATL_Week_16 + ATL_Week_17 + ATL_Week_2 + ATL_Week_3 + ATL_Week_4 + ATL_Week_5 + ATL_Week_6 + ATL_Week_7 + ATL_Week_8 <= 2\n",
            "BAL_Week_1 + BAL_Week_10 + BAL_Week_11 + BAL_Week_12 + BAL_Week_13 + BAL_Week_14 + BAL_Week_15 + BAL_Week_16 + BAL_Week_17 + BAL_Week_2 + BAL_Week_3 + BAL_Week_4 + BAL_Week_5 + BAL_Week_6 + BAL_Week_7 + BAL_Week_9 <= 1\n",
            "BUF_Week_1 + BUF_Week_10 + BUF_Week_11 + BUF_Week_12 + BUF_Week_13 + BUF_Week_14 + BUF_Week_15 + BUF_Week_16 + BUF_Week_17 + BUF_Week_2 + BUF_Week_3 + BUF_Week_4 + BUF_Week_5 + BUF_Week_7 + BUF_Week_8 + BUF_Week_9 <= 1\n",
            "CAR_Week_1 + CAR_Week_10 + CAR_Week_11 + CAR_Week_12 + CAR_Week_13 + CAR_Week_14 + CAR_Week_15 + CAR_Week_16 + CAR_Week_17 + CAR_Week_2 + CAR_Week_3 + CAR_Week_4 + CAR_Week_5 + CAR_Week_6 + CAR_Week_8 + CAR_Week_9 <= 1\n",
            "CHI_Week_1 + CHI_Week_10 + CHI_Week_11 + CHI_Week_12 + CHI_Week_13 + CHI_Week_14 + CHI_Week_15 + CHI_Week_16 + CHI_Week_17 + CHI_Week_2 + CHI_Week_3 + CHI_Week_4 + CHI_Week_5 + CHI_Week_7 + CHI_Week_8 + CHI_Week_9 <= 1\n",
            "CIN_Week_1 + CIN_Week_10 + CIN_Week_11 + CIN_Week_12 + CIN_Week_13 + CIN_Week_14 + CIN_Week_15 + CIN_Week_16 + CIN_Week_17 + CIN_Week_2 + CIN_Week_3 + CIN_Week_4 + CIN_Week_5 + CIN_Week_6 + CIN_Week_7 + CIN_Week_8 <= 1\n",
            "CLE_Week_1 + CLE_Week_10 + CLE_Week_11 + CLE_Week_12 + CLE_Week_13 + CLE_Week_14 + CLE_Week_15 + CLE_Week_16 + CLE_Week_17 + CLE_Week_2 + CLE_Week_3 + CLE_Week_4 + CLE_Week_5 + CLE_Week_6 + CLE_Week_8 + CLE_Week_9 <= 1\n",
            "DAL_Week_1 + DAL_Week_10 + DAL_Week_11 + DAL_Week_12 + DAL_Week_13 + DAL_Week_14 + DAL_Week_15 + DAL_Week_16 + DAL_Week_17 + DAL_Week_2 + DAL_Week_3 + DAL_Week_4 + DAL_Week_5 + DAL_Week_6 + DAL_Week_7 + DAL_Week_9 <= 1\n",
            "DEN_Week_1 + DEN_Week_11 + DEN_Week_12 + DEN_Week_13 + DEN_Week_14 + DEN_Week_15 + DEN_Week_16 + DEN_Week_17 + DEN_Week_2 + DEN_Week_3 + DEN_Week_4 + DEN_Week_5 + DEN_Week_6 + DEN_Week_7 + DEN_Week_8 + DEN_Week_9 <= 1\n",
            "DET_Week_1 + DET_Week_10 + DET_Week_11 + DET_Week_12 + DET_Week_13 + DET_Week_14 + DET_Week_15 + DET_Week_16 + DET_Week_17 + DET_Week_2 + DET_Week_3 + DET_Week_4 + DET_Week_6 + DET_Week_7 + DET_Week_8 + DET_Week_9 <= 1\n",
            "GB_Week_1 + GB_Week_10 + GB_Week_12 + GB_Week_13 + GB_Week_14 + GB_Week_15 + GB_Week_16 + GB_Week_17 + GB_Week_2 + GB_Week_3 + GB_Week_4 + GB_Week_5 + GB_Week_6 + GB_Week_7 + GB_Week_8 + GB_Week_9 <= 1\n",
            "HOU_Week_1 + HOU_Week_11 + HOU_Week_12 + HOU_Week_13 + HOU_Week_14 + HOU_Week_15 + HOU_Week_16 + HOU_Week_17 + HOU_Week_2 + HOU_Week_3 + HOU_Week_4 + HOU_Week_5 + HOU_Week_6 + HOU_Week_7 + HOU_Week_8 + HOU_Week_9 <= 1\n",
            "IND_Week_1 + IND_Week_10 + IND_Week_11 + IND_Week_12 + IND_Week_13 + IND_Week_14 + IND_Week_15 + IND_Week_16 + IND_Week_17 + IND_Week_2 + IND_Week_3 + IND_Week_4 + IND_Week_5 + IND_Week_7 + IND_Week_8 + IND_Week_9 <= 1\n",
            "JAX_Week_1 + JAX_Week_11 + JAX_Week_12 + JAX_Week_13 + JAX_Week_14 + JAX_Week_15 + JAX_Week_16 + JAX_Week_17 + JAX_Week_2 + JAX_Week_3 + JAX_Week_4 + JAX_Week_5 + JAX_Week_6 + JAX_Week_7 + JAX_Week_8 + JAX_Week_9 <= 1\n",
            "KC_Week_1 + KC_Week_10 + KC_Week_11 + KC_Week_13 + KC_Week_14 + KC_Week_15 + KC_Week_16 + KC_Week_17 + KC_Week_2 + KC_Week_3 + KC_Week_4 + KC_Week_5 + KC_Week_6 + KC_Week_7 + KC_Week_8 + KC_Week_9 <= 1\n",
            "LAC_Week_1 + LAC_Week_10 + LAC_Week_11 + LAC_Week_13 + LAC_Week_14 + LAC_Week_15 + LAC_Week_16 + LAC_Week_17 + LAC_Week_2 + LAC_Week_3 + LAC_Week_4 + LAC_Week_5 + LAC_Week_6 + LAC_Week_7 + LAC_Week_8 + LAC_Week_9 <= 1\n",
            "LAR_Week_1 + LAR_Week_10 + LAR_Week_11 + LAR_Week_12 + LAR_Week_13 + LAR_Week_14 + LAR_Week_15 + LAR_Week_16 + LAR_Week_17 + LAR_Week_2 + LAR_Week_3 + LAR_Week_4 + LAR_Week_5 + LAR_Week_6 + LAR_Week_7 + LAR_Week_8 <= 1\n",
            "MIA_Week_1 + MIA_Week_10 + MIA_Week_11 + MIA_Week_12 + MIA_Week_13 + MIA_Week_14 + MIA_Week_15 + MIA_Week_16 + MIA_Week_17 + MIA_Week_2 + MIA_Week_3 + MIA_Week_4 + MIA_Week_6 + MIA_Week_7 + MIA_Week_8 + MIA_Week_9 <= 1\n",
            "MIN_Week_1 + MIN_Week_10 + MIN_Week_11 + MIN_Week_13 + MIN_Week_14 + MIN_Week_15 + MIN_Week_16 + MIN_Week_17 + MIN_Week_2 + MIN_Week_3 + MIN_Week_4 + MIN_Week_5 + MIN_Week_6 + MIN_Week_7 + MIN_Week_8 + MIN_Week_9 <= 1\n",
            "NE_Week_1 + NE_Week_11 + NE_Week_12 + NE_Week_13 + NE_Week_14 + NE_Week_15 + NE_Week_16 + NE_Week_17 + NE_Week_2 + NE_Week_3 + NE_Week_4 + NE_Week_5 + NE_Week_6 + NE_Week_7 + NE_Week_8 + NE_Week_9 <= 1\n",
            "NO_Week_1 + NO_Week_10 + NO_Week_11 + NO_Week_12 + NO_Week_13 + NO_Week_14 + NO_Week_15 + NO_Week_16 + NO_Week_17 + NO_Week_2 + NO_Week_3 + NO_Week_4 + NO_Week_5 + NO_Week_6 + NO_Week_7 + NO_Week_8 <= 1\n",
            "NYG_Week_1 + NYG_Week_10 + NYG_Week_12 + NYG_Week_13 + NYG_Week_14 + NYG_Week_15 + NYG_Week_16 + NYG_Week_17 + NYG_Week_2 + NYG_Week_3 + NYG_Week_4 + NYG_Week_5 + NYG_Week_6 + NYG_Week_7 + NYG_Week_8 + NYG_Week_9 <= 1\n",
            "NYJ_Week_1 + NYJ_Week_10 + NYJ_Week_11 + NYJ_Week_12 + NYJ_Week_13 + NYJ_Week_14 + NYJ_Week_15 + NYJ_Week_16 + NYJ_Week_17 + NYJ_Week_2 + NYJ_Week_3 + NYJ_Week_5 + NYJ_Week_6 + NYJ_Week_7 + NYJ_Week_8 + NYJ_Week_9 <= 1\n",
            "OAK_Week_1 + OAK_Week_10 + OAK_Week_11 + OAK_Week_12 + OAK_Week_13 + OAK_Week_14 + OAK_Week_15 + OAK_Week_16 + OAK_Week_17 + OAK_Week_2 + OAK_Week_3 + OAK_Week_4 + OAK_Week_5 + OAK_Week_7 + OAK_Week_8 + OAK_Week_9 <= 1\n",
            "PHI_Week_1 + PHI_Week_11 + PHI_Week_12 + PHI_Week_13 + PHI_Week_14 + PHI_Week_15 + PHI_Week_16 + PHI_Week_17 + PHI_Week_2 + PHI_Week_3 + PHI_Week_4 + PHI_Week_5 + PHI_Week_6 + PHI_Week_7 + PHI_Week_8 + PHI_Week_9 <= 1\n",
            "PIT_Week_1 + PIT_Week_10 + PIT_Week_11 + PIT_Week_12 + PIT_Week_13 + PIT_Week_14 + PIT_Week_15 + PIT_Week_16 + PIT_Week_17 + PIT_Week_2 + PIT_Week_3 + PIT_Week_4 + PIT_Week_5 + PIT_Week_6 + PIT_Week_8 + PIT_Week_9 <= 1\n",
            "SEA_Week_1 + SEA_Week_10 + SEA_Week_12 + SEA_Week_13 + SEA_Week_14 + SEA_Week_15 + SEA_Week_16 + SEA_Week_17 + SEA_Week_2 + SEA_Week_3 + SEA_Week_4 + SEA_Week_5 + SEA_Week_6 + SEA_Week_7 + SEA_Week_8 + SEA_Week_9 <= 1\n",
            "SF_Week_1 + SF_Week_10 + SF_Week_11 + SF_Week_12 + SF_Week_13 + SF_Week_14 + SF_Week_15 + SF_Week_16 + SF_Week_17 + SF_Week_2 + SF_Week_3 + SF_Week_5 + SF_Week_6 + SF_Week_7 + SF_Week_8 + SF_Week_9 <= 1\n",
            "TB_Week_1 + TB_Week_10 + TB_Week_11 + TB_Week_12 + TB_Week_13 + TB_Week_14 + TB_Week_15 + TB_Week_16 + TB_Week_17 + TB_Week_2 + TB_Week_3 + TB_Week_4 + TB_Week_5 + TB_Week_6 + TB_Week_8 + TB_Week_9 <= 1\n",
            "TEN_Week_1 + TEN_Week_10 + TEN_Week_12 + TEN_Week_13 + TEN_Week_14 + TEN_Week_15 + TEN_Week_16 + TEN_Week_17 + TEN_Week_2 + TEN_Week_3 + TEN_Week_4 + TEN_Week_5 + TEN_Week_6 + TEN_Week_7 + TEN_Week_8 + TEN_Week_9 <= 1\n",
            "WAS_Week_1 + WAS_Week_11 + WAS_Week_12 + WAS_Week_13 + WAS_Week_14 + WAS_Week_15 + WAS_Week_16 + WAS_Week_17 + WAS_Week_2 + WAS_Week_3 + WAS_Week_4 + WAS_Week_5 + WAS_Week_6 + WAS_Week_7 + WAS_Week_8 + WAS_Week_9 <= 1\n"
          ],
          "name": "stdout"
        }
      ]
    },
    {
      "cell_type": "code",
      "metadata": {
        "id": "zj0fjfapitOJ",
        "colab_type": "code",
        "colab": {
          "base_uri": "https://localhost:8080/",
          "height": 181
        },
        "outputId": "b7c0cb36-e0b6-4a4f-94e8-cd961fc5976a"
      },
      "source": [
        "# Setting up the reward\n",
        "for i, x in _vars.items():\n",
        "    print(lpSum([_vars[i][k] for k in x])) #<= team_num_available[i])"
      ],
      "execution_count": null,
      "outputs": [
        {
          "output_type": "error",
          "ename": "KeyError",
          "evalue": "ignored",
          "traceback": [
            "\u001b[0;31m---------------------------------------------------------------------------\u001b[0m",
            "\u001b[0;31mKeyError\u001b[0m                                  Traceback (most recent call last)",
            "\u001b[0;32m<ipython-input-26-b91e4e7572eb>\u001b[0m in \u001b[0;36m<module>\u001b[0;34m()\u001b[0m\n\u001b[1;32m      1\u001b[0m \u001b[0;32mfor\u001b[0m \u001b[0mi\u001b[0m\u001b[0;34m,\u001b[0m \u001b[0mx\u001b[0m \u001b[0;32min\u001b[0m \u001b[0m_vars\u001b[0m\u001b[0;34m.\u001b[0m\u001b[0mitems\u001b[0m\u001b[0;34m(\u001b[0m\u001b[0;34m)\u001b[0m\u001b[0;34m:\u001b[0m\u001b[0;34m\u001b[0m\u001b[0;34m\u001b[0m\u001b[0m\n\u001b[0;32m----> 2\u001b[0;31m     \u001b[0mprint\u001b[0m\u001b[0;34m(\u001b[0m\u001b[0mlpSum\u001b[0m\u001b[0;34m(\u001b[0m\u001b[0;34m[\u001b[0m\u001b[0m_vars\u001b[0m\u001b[0;34m[\u001b[0m\u001b[0mi\u001b[0m\u001b[0;34m]\u001b[0m\u001b[0;34m[\u001b[0m\u001b[0mk\u001b[0m\u001b[0;34m]\u001b[0m \u001b[0;32mfor\u001b[0m \u001b[0mk\u001b[0m \u001b[0;32min\u001b[0m \u001b[0mx\u001b[0m\u001b[0;34m]\u001b[0m\u001b[0;34m)\u001b[0m \u001b[0;34m<=\u001b[0m \u001b[0mteam_num_available\u001b[0m\u001b[0;34m[\u001b[0m\u001b[0mi\u001b[0m\u001b[0;34m]\u001b[0m\u001b[0;34m)\u001b[0m\u001b[0;34m\u001b[0m\u001b[0;34m\u001b[0m\u001b[0m\n\u001b[0m",
            "\u001b[0;31mKeyError\u001b[0m: 'Week 1'"
          ]
        }
      ]
    },
    {
      "cell_type": "code",
      "metadata": {
        "id": "7k4riOfHk34R",
        "colab_type": "code",
        "colab": {}
      },
      "source": [
        "min(prices, key=lambda k: prices[k])"
      ],
      "execution_count": null,
      "outputs": []
    },
    {
      "cell_type": "code",
      "metadata": {
        "id": "ZA2acf4e6hLb",
        "colab_type": "code",
        "colab": {
          "base_uri": "https://localhost:8080/",
          "height": 34
        },
        "outputId": "470a290a-96ec-44d4-8b0b-6a965a58a354"
      },
      "source": [
        "prob.solve()"
      ],
      "execution_count": null,
      "outputs": [
        {
          "output_type": "execute_result",
          "data": {
            "text/plain": [
              "1"
            ]
          },
          "metadata": {
            "tags": []
          },
          "execution_count": 22
        }
      ]
    },
    {
      "cell_type": "code",
      "metadata": {
        "id": "sWbUYW2E6j_o",
        "colab_type": "code",
        "colab": {}
      },
      "source": [
        "# my beautiful function to display the results of our LP\n",
        "def summary(prob):\n",
        "    div = '\\n-----------------------------------------\\n'\n",
        "    print(\"\\n-----------------------------------------\")\n",
        "    print(\"Linear Programming Optimization Solution:\")\n",
        "    print(\"-----------------------------------------\\n\")\n",
        "    print(\"Variables:\\n\")\n",
        "    score = str(prob.objective)\n",
        "    constraints = [str(const) for const in prob.constraints.values()]\n",
        "    for v in prob.variables():\n",
        "        score = score.replace(v.name, str(v.varValue))\n",
        "        constraints = [const.replace(v.name, str(v.varValue)) for const in constraints]\n",
        "        if v.varValue != 0:\n",
        "            print(v.name, \"=\", v.varValue)\n",
        "    print(div)\n",
        "    print(\"Salary:\\n\")\n",
        "    for constraint in constraints:\n",
        "        constraint_pretty = \" + \".join(re.findall(\"[0-9\\.]*\\*1.0\", constraint))\n",
        "        if constraint_pretty != \"\":\n",
        "            print(\"{} = {}\".format(constraint_pretty, eval(constraint_pretty)))\n",
        "    print(div)\n",
        "    print(\"Score:\\n\")\n",
        "    score_pretty = \" + \".join(re.findall(\"[0-9\\.]+\\*1.0\", score))\n",
        "    print(\"{} = {}\".format(score_pretty, eval(score)))\n",
        "    print(div)\n",
        "    #print(\"Total Cost:  ${}\".format(round(eval(constraint_pretty))))\n",
        "    print(\"Expected Win Total: {}\\n\".format(round(eval(score),2)))"
      ],
      "execution_count": null,
      "outputs": []
    },
    {
      "cell_type": "code",
      "metadata": {
        "id": "lv4K2BXy6li3",
        "colab_type": "code",
        "colab": {
          "base_uri": "https://localhost:8080/",
          "height": 734
        },
        "outputId": "0b2df8ad-33df-4b0d-a71b-c8f5625db227"
      },
      "source": [
        "summary(prob)"
      ],
      "execution_count": null,
      "outputs": [
        {
          "output_type": "stream",
          "text": [
            "\n",
            "-----------------------------------------\n",
            "Linear Programming Optimization Solution:\n",
            "-----------------------------------------\n",
            "\n",
            "Variables:\n",
            "\n",
            "Week_10_LAC = 1.0\n",
            "Week_11_NO = 1.0\n",
            "Week_12_NE = 1.0\n",
            "Week_13_KC = 1.0\n",
            "Week_14_LAC = 1.0\n",
            "Week_14_NO = 1.0\n",
            "Week_15_BAL = 1.0\n",
            "Week_16_LAR = 1.0\n",
            "Week_17_NE = 1.0\n",
            "Week_1_KC = 1.0\n",
            "Week_2_KC = 1.0\n",
            "Week_3_CHI = 1.0\n",
            "Week_4_KC = 1.0\n",
            "Week_5_CHI = 1.0\n",
            "Week_6_LAR = 1.0\n",
            "Week_7_NYJ = 1.0\n",
            "Week_8_KC = 1.0\n",
            "Week_9_KC = 1.0\n",
            "\n",
            "-----------------------------------------\n",
            "\n",
            "Salary:\n",
            "\n",
            "\n",
            "-----------------------------------------\n",
            "\n",
            "Score:\n",
            "\n",
            "0.8424346043273551*1.0 + 0.7757088920979391*1.0 + 0.721627070178072*1.0 + 0.89689121539152*1.0 + 0.793726115014573*1.0 + 0.799931307715494*1.0 + 0.739906691787478*1.0 + 0.8140903716766469*1.0 + 0.7767250119768259*1.0 + 0.840494200989672*1.0 + 0.879831088570313*1.0 + 0.77712145748105*1.0 + 0.8599291022146751*1.0 + 0.8018707345836191*1.0 + 0.805739698163545*1.0 + 0.7575318134664171*1.0 + 0.8281947733146191*1.0 + 0.7606250196862809*1.0 = 14.472379168636097\n",
            "\n",
            "-----------------------------------------\n",
            "\n",
            "Expected Win Total: 14.47\n",
            "\n"
          ],
          "name": "stdout"
        }
      ]
    },
    {
      "cell_type": "markdown",
      "metadata": {
        "id": "9ZJmM7ySy8WF",
        "colab_type": "text"
      },
      "source": [
        "## Flex Postion = RB"
      ]
    },
    {
      "cell_type": "code",
      "metadata": {
        "id": "lcIGfzH83Zw7",
        "colab_type": "code",
        "colab": {}
      },
      "source": [
        "# salary and points\n",
        "salaries = {} \n",
        "points = {} \n",
        "for pos in availables[\"position\"].unique():\n",
        "    available_pos = availables[availables[\"position\"] == pos]\n",
        "    salary = list(available_pos[[\"displayName\",\"salary\"]].set_index(\"displayName\").to_dict().values())[0]\n",
        "    point = list(available_pos[[\"displayName\",\"points\"]].set_index(\"displayName\").to_dict().values())[0]\n",
        "    salaries[pos] = salary\n",
        "    points[pos] = point\n",
        "\n",
        "# Max Salary limit\n",
        "SALARY_CAP = 50000\n",
        "\n",
        "\n",
        "# Position Constraints\n",
        "pos_num_available = {\n",
        "    \"QB\": 1,\n",
        "    \"RB\": 3, # FLEX POSITION = RB\n",
        "    \"WR\": 3, \n",
        "    \"TE\": 1, \n",
        "    \"DST\": 1\n",
        "}\n",
        "\n",
        "\n",
        "\n",
        "# initialize the problem statement (Maximize)\n",
        "prob = LpProblem(\"Fantasy Football Lineup\", LpMaximize)\n",
        "\n",
        "# Create the variables\n",
        "_vars = {k: LpVariable.dict(k, v, cat=\"Binary\") for k, v in points.items()}\n",
        "\n",
        "# initialize lists to hold constraints\n",
        "score = []\n",
        "salary = []\n",
        "\n",
        "# Setting up the reward\n",
        "for k, v in _vars.items():\n",
        "    salary += lpSum([salaries[k][i] * _vars[k][i] for i in v])\n",
        "    score += lpSum([points[k][i] * _vars[k][i] for i in v])\n",
        "    prob += lpSum([_vars[k][i] for i in v]) <= pos_num_available[k]\n",
        "    \n",
        "\n",
        "# Salary Constraint\n",
        "prob += lpSum(salary) <= SALARY_CAP\n",
        "    \n",
        "# Objective Function\n",
        "prob += lpSum(score)\n",
        "\n",
        "prob.solve()\n",
        "\n",
        "summary(prob)"
      ],
      "execution_count": null,
      "outputs": []
    },
    {
      "cell_type": "markdown",
      "metadata": {
        "id": "W15aY57AzDV4",
        "colab_type": "text"
      },
      "source": [
        "## Flex Postion = WR"
      ]
    },
    {
      "cell_type": "code",
      "metadata": {
        "id": "bUk0HVeV3SU9",
        "colab_type": "code",
        "colab": {}
      },
      "source": [
        "# salary and points\n",
        "salaries = {} \n",
        "points = {} \n",
        "for pos in availables[\"position\"].unique():\n",
        "    available_pos = availables[availables[\"position\"] == pos]\n",
        "    salary = list(available_pos[[\"displayName\",\"salary\"]].set_index(\"displayName\").to_dict().values())[0]\n",
        "    point = list(available_pos[[\"displayName\",\"points\"]].set_index(\"displayName\").to_dict().values())[0]\n",
        "    salaries[pos] = salary\n",
        "    points[pos] = point\n",
        "\n",
        "# Max Salary limit\n",
        "SALARY_CAP = 50000\n",
        "\n",
        "\n",
        "# Position Constraints\n",
        "pos_num_available = {\n",
        "    \"QB\": 1,\n",
        "    \"RB\": 2,\n",
        "    \"WR\": 4, # FLEX POSITION = WR\n",
        "    \"TE\": 1, \n",
        "    \"DST\": 1\n",
        "}\n",
        "\n",
        "\n",
        "\n",
        "# initialize the problem statement (Maximize)\n",
        "prob = LpProblem(\"Fantasy Football Lineup\", LpMaximize)\n",
        "\n",
        "# Create the variables\n",
        "_vars = {k: LpVariable.dict(k, v, cat=\"Binary\") for k, v in points.items()}\n",
        "\n",
        "# initialize lists to hold constraints\n",
        "score = []\n",
        "salary = []\n",
        "\n",
        "# Setting up the reward\n",
        "for k, v in _vars.items():\n",
        "    salary += lpSum([salaries[k][i] * _vars[k][i] for i in v])\n",
        "    score += lpSum([points[k][i] * _vars[k][i] for i in v])\n",
        "    prob += lpSum([_vars[k][i] for i in v]) <= pos_num_available[k]\n",
        "    \n",
        "\n",
        "# Salary Constraint\n",
        "prob += lpSum(salary) <= SALARY_CAP\n",
        "    \n",
        "# Objective Function\n",
        "prob += lpSum(score)\n",
        "\n",
        "prob.solve()\n",
        "\n",
        "summary(prob)"
      ],
      "execution_count": null,
      "outputs": []
    },
    {
      "cell_type": "markdown",
      "metadata": {
        "id": "gVYCdxEWzEsl",
        "colab_type": "text"
      },
      "source": [
        "## Flex Postion = TE"
      ]
    },
    {
      "cell_type": "code",
      "metadata": {
        "id": "HCY9ZsCmzBIF",
        "colab_type": "code",
        "colab": {}
      },
      "source": [
        "# salary and points\n",
        "salaries = {} \n",
        "points = {} \n",
        "for pos in availables[\"position\"].unique():\n",
        "    available_pos = availables[availables[\"position\"] == pos]\n",
        "    salary = list(available_pos[[\"displayName\",\"salary\"]].set_index(\"displayName\").to_dict().values())[0]\n",
        "    point = list(available_pos[[\"displayName\",\"points\"]].set_index(\"displayName\").to_dict().values())[0]\n",
        "    salaries[pos] = salary\n",
        "    points[pos] = point\n",
        "\n",
        "# Max Salary limit\n",
        "SALARY_CAP = 50000\n",
        "\n",
        "\n",
        "# Position Constraints\n",
        "pos_num_available = {\n",
        "    \"QB\": 1,\n",
        "    \"RB\": 2,\n",
        "    \"WR\": 3,\n",
        "    \"TE\": 2, # FLEX POSITION = TE\n",
        "    \"DST\": 1\n",
        "}\n",
        "\n",
        "\n",
        "\n",
        "# initialize the problem statement (Maximize)\n",
        "prob = LpProblem(\"Fantasy Football Lineup\", LpMaximize)\n",
        "\n",
        "# Create the variables\n",
        "_vars = {k: LpVariable.dict(k, v, cat=\"Binary\") for k, v in points.items()}\n",
        "\n",
        "# initialize lists to hold constraints\n",
        "score = []\n",
        "salary = []\n",
        "\n",
        "# Setting up the reward\n",
        "for k, v in _vars.items():\n",
        "    salary += lpSum([salaries[k][i] * _vars[k][i] for i in v])\n",
        "    score += lpSum([points[k][i] * _vars[k][i] for i in v])\n",
        "    prob += lpSum([_vars[k][i] for i in v]) <= pos_num_available[k]\n",
        "    \n",
        "\n",
        "# Salary Constraint\n",
        "prob += lpSum(salary) <= SALARY_CAP\n",
        "    \n",
        "# Objective Function\n",
        "prob += lpSum(score)\n",
        "\n",
        "prob.solve()\n",
        "\n",
        "summary(prob)"
      ],
      "execution_count": null,
      "outputs": []
    }
  ]
}