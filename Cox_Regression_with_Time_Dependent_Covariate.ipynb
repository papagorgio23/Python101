{
  "nbformat": 4,
  "nbformat_minor": 0,
  "metadata": {
    "colab": {
      "name": "Cox Regression with Time-Dependent Covariate.ipynb",
      "provenance": [],
      "collapsed_sections": [],
      "toc_visible": true,
      "include_colab_link": true
    },
    "kernelspec": {
      "name": "python3",
      "display_name": "Python 3"
    }
  },
  "cells": [
    {
      "cell_type": "markdown",
      "metadata": {
        "id": "view-in-github",
        "colab_type": "text"
      },
      "source": [
        "<a href=\"https://colab.research.google.com/github/papagorgio23/Python101/blob/master/Cox_Regression_with_Time_Dependent_Covariate.ipynb\" target=\"_parent\"><img src=\"https://colab.research.google.com/assets/colab-badge.svg\" alt=\"Open In Colab\"/></a>"
      ]
    },
    {
      "cell_type": "code",
      "metadata": {
        "id": "BlAO6dbDg0sh",
        "colab_type": "code",
        "colab": {
          "base_uri": "https://localhost:8080/",
          "height": 377
        },
        "outputId": "f17c7ffc-170a-4652-ce23-abf1b0a47935"
      },
      "source": [
        "pip install lifelines"
      ],
      "execution_count": null,
      "outputs": [
        {
          "output_type": "stream",
          "text": [
            "Collecting lifelines\n",
            "\u001b[?25l  Downloading https://files.pythonhosted.org/packages/d5/da/dd0bc8261258270460ab9c1a626f10850f8a7163184a0987495ab4c0e063/lifelines-0.22.3-py2.py3-none-any.whl (335kB)\n",
            "\u001b[K     |████████████████████████████████| 337kB 2.8MB/s \n",
            "\u001b[?25hRequirement already satisfied: scipy>=1.0 in /usr/local/lib/python3.6/dist-packages (from lifelines) (1.3.1)\n",
            "Requirement already satisfied: autograd>=1.3 in /usr/local/lib/python3.6/dist-packages (from lifelines) (1.3)\n",
            "Requirement already satisfied: pandas>=0.23.0 in /usr/local/lib/python3.6/dist-packages (from lifelines) (0.24.2)\n",
            "Requirement already satisfied: numpy>=1.14.0 in /usr/local/lib/python3.6/dist-packages (from lifelines) (1.16.4)\n",
            "Collecting autograd-gamma>=0.3 (from lifelines)\n",
            "  Downloading https://files.pythonhosted.org/packages/3e/87/788c4bf90cc5c534cb3b7fdb5b719175e33e2658decce75e35e2ce69766f/autograd_gamma-0.4.1-py2.py3-none-any.whl\n",
            "Requirement already satisfied: matplotlib>=3.0 in /usr/local/lib/python3.6/dist-packages (from lifelines) (3.0.3)\n",
            "Requirement already satisfied: future>=0.15.2 in /usr/local/lib/python3.6/dist-packages (from autograd>=1.3->lifelines) (0.16.0)\n",
            "Requirement already satisfied: python-dateutil>=2.5.0 in /usr/local/lib/python3.6/dist-packages (from pandas>=0.23.0->lifelines) (2.5.3)\n",
            "Requirement already satisfied: pytz>=2011k in /usr/local/lib/python3.6/dist-packages (from pandas>=0.23.0->lifelines) (2018.9)\n",
            "Requirement already satisfied: kiwisolver>=1.0.1 in /usr/local/lib/python3.6/dist-packages (from matplotlib>=3.0->lifelines) (1.1.0)\n",
            "Requirement already satisfied: cycler>=0.10 in /usr/local/lib/python3.6/dist-packages (from matplotlib>=3.0->lifelines) (0.10.0)\n",
            "Requirement already satisfied: pyparsing!=2.0.4,!=2.1.2,!=2.1.6,>=2.0.1 in /usr/local/lib/python3.6/dist-packages (from matplotlib>=3.0->lifelines) (2.4.2)\n",
            "Requirement already satisfied: six>=1.5 in /usr/local/lib/python3.6/dist-packages (from python-dateutil>=2.5.0->pandas>=0.23.0->lifelines) (1.12.0)\n",
            "Requirement already satisfied: setuptools in /usr/local/lib/python3.6/dist-packages (from kiwisolver>=1.0.1->matplotlib>=3.0->lifelines) (41.2.0)\n",
            "Installing collected packages: autograd-gamma, lifelines\n",
            "Successfully installed autograd-gamma-0.4.1 lifelines-0.22.3\n"
          ],
          "name": "stdout"
        }
      ]
    },
    {
      "cell_type": "code",
      "metadata": {
        "id": "fZeIit06gT26",
        "colab_type": "code",
        "colab": {}
      },
      "source": [
        "from lifelines import CoxTimeVaryingFitter\n",
        "#import pandas as pd\n",
        "import numpy as np\n"
      ],
      "execution_count": null,
      "outputs": []
    },
    {
      "cell_type": "code",
      "metadata": {
        "id": "zpei-ZC9hqWv",
        "colab_type": "code",
        "colab": {}
      },
      "source": [
        "from google.cloud import bigquery\n",
        "import pandas as pd\n",
        "from google.colab import auth\n",
        "import pandas_gbq as gbq\n",
        "\n",
        "#authenticate user for GBQ and google cloud storage\n",
        "auth.authenticate_user()\n",
        "\n",
        "# Set project id for querying GBQ and using google cloud storage \n",
        "project_id = 'ffn-dw-bigquery-prd'\n"
      ],
      "execution_count": null,
      "outputs": []
    },
    {
      "cell_type": "code",
      "metadata": {
        "id": "2aEOHKRPo1kT",
        "colab_type": "code",
        "colab": {
          "base_uri": "https://localhost:8080/",
          "height": 359
        },
        "outputId": "28ee304f-d732-4b3d-bcdc-50426d65832c"
      },
      "source": [
        "sql = \"\"\"\n",
        "select * from \n",
        "    `ffn-dw-bigquery-prd.Jeff_Franco.FirstSetRetention`\n",
        "\"\"\"\n",
        "\n",
        "#Query GBQ to verify that the table that was create exists and looks as expected\n",
        "df = pd.read_gbq(sql, project_id=project_id, dialect='standard')\n",
        "df.head(10)"
      ],
      "execution_count": null,
      "outputs": [
        {
          "output_type": "execute_result",
          "data": {
            "text/html": [
              "<div>\n",
              "<style scoped>\n",
              "    .dataframe tbody tr th:only-of-type {\n",
              "        vertical-align: middle;\n",
              "    }\n",
              "\n",
              "    .dataframe tbody tr th {\n",
              "        vertical-align: top;\n",
              "    }\n",
              "\n",
              "    .dataframe thead th {\n",
              "        text-align: right;\n",
              "    }\n",
              "</style>\n",
              "<table border=\"1\" class=\"dataframe\">\n",
              "  <thead>\n",
              "    <tr style=\"text-align: right;\">\n",
              "      <th></th>\n",
              "      <th>client_key</th>\n",
              "      <th>start</th>\n",
              "      <th>stop</th>\n",
              "      <th>Event</th>\n",
              "      <th>FirstSet</th>\n",
              "    </tr>\n",
              "  </thead>\n",
              "  <tbody>\n",
              "    <tr>\n",
              "      <th>0</th>\n",
              "      <td>0013900001a3zRjAAI</td>\n",
              "      <td>3.0</td>\n",
              "      <td>3.5</td>\n",
              "      <td>True</td>\n",
              "      <td>1</td>\n",
              "    </tr>\n",
              "    <tr>\n",
              "      <th>1</th>\n",
              "      <td>0013900001a3zziAAA</td>\n",
              "      <td>1.0</td>\n",
              "      <td>1.5</td>\n",
              "      <td>True</td>\n",
              "      <td>1</td>\n",
              "    </tr>\n",
              "    <tr>\n",
              "      <th>2</th>\n",
              "      <td>0013900001a40fGAAQ</td>\n",
              "      <td>3.0</td>\n",
              "      <td>3.5</td>\n",
              "      <td>True</td>\n",
              "      <td>1</td>\n",
              "    </tr>\n",
              "    <tr>\n",
              "      <th>3</th>\n",
              "      <td>0013900001a42RxAAI</td>\n",
              "      <td>4.0</td>\n",
              "      <td>4.5</td>\n",
              "      <td>True</td>\n",
              "      <td>1</td>\n",
              "    </tr>\n",
              "    <tr>\n",
              "      <th>4</th>\n",
              "      <td>0013900001a472UAAQ</td>\n",
              "      <td>7.0</td>\n",
              "      <td>7.5</td>\n",
              "      <td>True</td>\n",
              "      <td>1</td>\n",
              "    </tr>\n",
              "    <tr>\n",
              "      <th>5</th>\n",
              "      <td>0013900001a4AZtAAM</td>\n",
              "      <td>1.0</td>\n",
              "      <td>1.5</td>\n",
              "      <td>True</td>\n",
              "      <td>1</td>\n",
              "    </tr>\n",
              "    <tr>\n",
              "      <th>6</th>\n",
              "      <td>0013900001a4AykAAE</td>\n",
              "      <td>1.0</td>\n",
              "      <td>1.5</td>\n",
              "      <td>True</td>\n",
              "      <td>1</td>\n",
              "    </tr>\n",
              "    <tr>\n",
              "      <th>7</th>\n",
              "      <td>0013900001a4AyuAAE</td>\n",
              "      <td>8.0</td>\n",
              "      <td>8.5</td>\n",
              "      <td>False</td>\n",
              "      <td>1</td>\n",
              "    </tr>\n",
              "    <tr>\n",
              "      <th>8</th>\n",
              "      <td>0013900001a4C33AAE</td>\n",
              "      <td>8.0</td>\n",
              "      <td>8.5</td>\n",
              "      <td>False</td>\n",
              "      <td>1</td>\n",
              "    </tr>\n",
              "    <tr>\n",
              "      <th>9</th>\n",
              "      <td>0013900001a4F2xAAE</td>\n",
              "      <td>2.0</td>\n",
              "      <td>2.5</td>\n",
              "      <td>True</td>\n",
              "      <td>1</td>\n",
              "    </tr>\n",
              "  </tbody>\n",
              "</table>\n",
              "</div>"
            ],
            "text/plain": [
              "           client_key  start  stop  Event  FirstSet\n",
              "0  0013900001a3zRjAAI    3.0   3.5   True         1\n",
              "1  0013900001a3zziAAA    1.0   1.5   True         1\n",
              "2  0013900001a40fGAAQ    3.0   3.5   True         1\n",
              "3  0013900001a42RxAAI    4.0   4.5   True         1\n",
              "4  0013900001a472UAAQ    7.0   7.5   True         1\n",
              "5  0013900001a4AZtAAM    1.0   1.5   True         1\n",
              "6  0013900001a4AykAAE    1.0   1.5   True         1\n",
              "7  0013900001a4AyuAAE    8.0   8.5  False         1\n",
              "8  0013900001a4C33AAE    8.0   8.5  False         1\n",
              "9  0013900001a4F2xAAE    2.0   2.5   True         1"
            ]
          },
          "metadata": {
            "tags": []
          },
          "execution_count": 4
        }
      ]
    },
    {
      "cell_type": "code",
      "metadata": {
        "id": "MkJFOQWbhDU1",
        "colab_type": "code",
        "colab": {
          "base_uri": "https://localhost:8080/",
          "height": 609
        },
        "outputId": "d23429fe-9089-4d0f-ec3f-c0bbf398a890"
      },
      "source": [
        "#fit the model\n",
        "\n",
        "ctv = CoxTimeVaryingFitter()\n",
        "ctv.fit(df, id_col=\"client_key\", event_col=\"Event\", start_col=\"start\", stop_col=\"stop\", show_progress=True)\n",
        "ctv.print_summary()\n",
        "ctv.plot()"
      ],
      "execution_count": null,
      "outputs": [
        {
          "output_type": "stream",
          "text": [
            "Iteration 5: norm_delta = 0.00000, step_size = 1.00000, ll = -739620.85590, newton_decrement = 0.00000, seconds_since_start = 2.2Convergence completed after 5 iterations.\n",
            "<lifelines.CoxTimeVaryingFitter: fitted with 271593 periods, 148391 subjects, 64152 events>\n",
            "         event col = 'Event'\n",
            "number of subjects = 148391\n",
            " number of periods = 271593\n",
            "  number of events = 64152\n",
            "    log-likelihood = -739620.86\n",
            "  time fit was run = 2019-08-30 21:37:37 UTC\n",
            "\n",
            "---\n",
            "          coef exp(coef)  se(coef)  coef lower 95%  coef upper 95% exp(coef) lower 95% exp(coef) upper 95%\n",
            "FirstSet -1.46      0.23      0.01           -1.48           -1.43                0.23                0.24\n",
            "\n",
            "               z      p  -log2(p)\n",
            "FirstSet -123.48 <0.005       inf\n",
            "---\n",
            "Log-likelihood ratio test = 15689.68 on 1 df, -log2(p)=inf\n"
          ],
          "name": "stdout"
        },
        {
          "output_type": "execute_result",
          "data": {
            "text/plain": [
              "<matplotlib.axes._subplots.AxesSubplot at 0x7fed45f02160>"
            ]
          },
          "metadata": {
            "tags": []
          },
          "execution_count": 5
        },
        {
          "output_type": "display_data",
          "data": {
            "image/png": "[encoded data removed]",
            "text/plain": [
              "<Figure size 432x288 with 1 Axes>"
            ]
          },
          "metadata": {
            "tags": []
          }
        }
      ]
    },
    {
      "cell_type": "markdown",
      "metadata": {
        "id": "IC46dERBVIY9",
        "colab_type": "text"
      },
      "source": [
        "$$S(t)=\\exp \\left( -\\int_0^t{\\lambda_0(s) \\exp(\\beta (Z(s)-\\mu_s))ds} \\right)$$\n",
        "\n",
        "$$S(t)=\\exp \\left( -\\int_0^t{\\lambda_0(s) \\exp(-1.46 (0-0.827))ds} \\right)$$\n",
        "\n",
        "$$S(t)=e^{-3.359} \\exp \\left( -\\int_0^t{\\lambda_0(s) ds} \\right)$$\n",
        "\n",
        "$$S(t)=e^{-3.359} H_0(t)$$"
      ]
    },
    {
      "cell_type": "code",
      "metadata": {
        "id": "u_YCOhOT3YGo",
        "colab_type": "code",
        "colab": {
          "base_uri": "https://localhost:8080/",
          "height": 51
        },
        "outputId": "6bbf0227-3725-4584-8ba1-eb6dad56f8a0"
      },
      "source": [
        "df2 = df[['client_key','FirstSet']].groupby('client_key').sum()\n",
        "df2.mean()"
      ],
      "execution_count": null,
      "outputs": [
        {
          "output_type": "execute_result",
          "data": {
            "text/plain": [
              "FirstSet    0.830253\n",
              "dtype: float64"
            ]
          },
          "metadata": {
            "tags": []
          },
          "execution_count": 6
        }
      ]
    },
    {
      "cell_type": "code",
      "metadata": {
        "id": "H3muKHbHuDGx",
        "colab_type": "code",
        "colab": {
          "base_uri": "https://localhost:8080/",
          "height": 1000
        },
        "outputId": "d07d7e0e-77ed-452c-b556-5c55dd939125"
      },
      "source": [
        "ch = ctv.baseline_cumulative_hazard_\n",
        "ch"
      ],
      "execution_count": null,
      "outputs": [
        {
          "output_type": "execute_result",
          "data": {
            "text/html": [
              "<div>\n",
              "<style scoped>\n",
              "    .dataframe tbody tr th:only-of-type {\n",
              "        vertical-align: middle;\n",
              "    }\n",
              "\n",
              "    .dataframe tbody tr th {\n",
              "        vertical-align: top;\n",
              "    }\n",
              "\n",
              "    .dataframe thead th {\n",
              "        text-align: right;\n",
              "    }\n",
              "</style>\n",
              "<table border=\"1\" class=\"dataframe\">\n",
              "  <thead>\n",
              "    <tr style=\"text-align: right;\">\n",
              "      <th></th>\n",
              "      <th>baseline hazard</th>\n",
              "    </tr>\n",
              "  </thead>\n",
              "  <tbody>\n",
              "    <tr>\n",
              "      <th>0.5</th>\n",
              "      <td>0.002976</td>\n",
              "    </tr>\n",
              "    <tr>\n",
              "      <th>1.0</th>\n",
              "      <td>0.032717</td>\n",
              "    </tr>\n",
              "    <tr>\n",
              "      <th>1.5</th>\n",
              "      <td>0.032988</td>\n",
              "    </tr>\n",
              "    <tr>\n",
              "      <th>2.0</th>\n",
              "      <td>0.067268</td>\n",
              "    </tr>\n",
              "    <tr>\n",
              "      <th>2.5</th>\n",
              "      <td>0.067522</td>\n",
              "    </tr>\n",
              "    <tr>\n",
              "      <th>3.0</th>\n",
              "      <td>0.101898</td>\n",
              "    </tr>\n",
              "    <tr>\n",
              "      <th>3.5</th>\n",
              "      <td>0.102328</td>\n",
              "    </tr>\n",
              "    <tr>\n",
              "      <th>4.0</th>\n",
              "      <td>0.136360</td>\n",
              "    </tr>\n",
              "    <tr>\n",
              "      <th>4.5</th>\n",
              "      <td>0.136770</td>\n",
              "    </tr>\n",
              "    <tr>\n",
              "      <th>5.0</th>\n",
              "      <td>0.171599</td>\n",
              "    </tr>\n",
              "    <tr>\n",
              "      <th>5.5</th>\n",
              "      <td>0.172055</td>\n",
              "    </tr>\n",
              "    <tr>\n",
              "      <th>6.0</th>\n",
              "      <td>0.203559</td>\n",
              "    </tr>\n",
              "    <tr>\n",
              "      <th>6.5</th>\n",
              "      <td>0.203874</td>\n",
              "    </tr>\n",
              "    <tr>\n",
              "      <th>7.0</th>\n",
              "      <td>0.233313</td>\n",
              "    </tr>\n",
              "    <tr>\n",
              "      <th>7.5</th>\n",
              "      <td>0.233646</td>\n",
              "    </tr>\n",
              "    <tr>\n",
              "      <th>8.0</th>\n",
              "      <td>0.262529</td>\n",
              "    </tr>\n",
              "    <tr>\n",
              "      <th>8.5</th>\n",
              "      <td>0.262765</td>\n",
              "    </tr>\n",
              "    <tr>\n",
              "      <th>9.0</th>\n",
              "      <td>0.287083</td>\n",
              "    </tr>\n",
              "    <tr>\n",
              "      <th>9.5</th>\n",
              "      <td>0.287189</td>\n",
              "    </tr>\n",
              "    <tr>\n",
              "      <th>10.0</th>\n",
              "      <td>0.312509</td>\n",
              "    </tr>\n",
              "    <tr>\n",
              "      <th>10.5</th>\n",
              "      <td>0.312574</td>\n",
              "    </tr>\n",
              "    <tr>\n",
              "      <th>11.0</th>\n",
              "      <td>0.341043</td>\n",
              "    </tr>\n",
              "    <tr>\n",
              "      <th>11.5</th>\n",
              "      <td>0.341077</td>\n",
              "    </tr>\n",
              "    <tr>\n",
              "      <th>12.0</th>\n",
              "      <td>0.371825</td>\n",
              "    </tr>\n",
              "    <tr>\n",
              "      <th>12.5</th>\n",
              "      <td>0.371862</td>\n",
              "    </tr>\n",
              "    <tr>\n",
              "      <th>13.0</th>\n",
              "      <td>0.400227</td>\n",
              "    </tr>\n",
              "    <tr>\n",
              "      <th>13.5</th>\n",
              "      <td>0.400248</td>\n",
              "    </tr>\n",
              "    <tr>\n",
              "      <th>14.0</th>\n",
              "      <td>0.429394</td>\n",
              "    </tr>\n",
              "    <tr>\n",
              "      <th>14.5</th>\n",
              "      <td>0.429418</td>\n",
              "    </tr>\n",
              "    <tr>\n",
              "      <th>15.0</th>\n",
              "      <td>0.459498</td>\n",
              "    </tr>\n",
              "    <tr>\n",
              "      <th>15.5</th>\n",
              "      <td>0.459554</td>\n",
              "    </tr>\n",
              "    <tr>\n",
              "      <th>16.0</th>\n",
              "      <td>0.493941</td>\n",
              "    </tr>\n",
              "    <tr>\n",
              "      <th>17.0</th>\n",
              "      <td>0.526400</td>\n",
              "    </tr>\n",
              "    <tr>\n",
              "      <th>18.0</th>\n",
              "      <td>0.563265</td>\n",
              "    </tr>\n",
              "    <tr>\n",
              "      <th>19.0</th>\n",
              "      <td>0.598890</td>\n",
              "    </tr>\n",
              "    <tr>\n",
              "      <th>20.0</th>\n",
              "      <td>0.638821</td>\n",
              "    </tr>\n",
              "    <tr>\n",
              "      <th>20.5</th>\n",
              "      <td>0.638888</td>\n",
              "    </tr>\n",
              "    <tr>\n",
              "      <th>21.0</th>\n",
              "      <td>0.680980</td>\n",
              "    </tr>\n",
              "    <tr>\n",
              "      <th>22.0</th>\n",
              "      <td>0.726878</td>\n",
              "    </tr>\n",
              "    <tr>\n",
              "      <th>23.0</th>\n",
              "      <td>0.753287</td>\n",
              "    </tr>\n",
              "    <tr>\n",
              "      <th>24.0</th>\n",
              "      <td>0.781411</td>\n",
              "    </tr>\n",
              "    <tr>\n",
              "      <th>25.0</th>\n",
              "      <td>0.806021</td>\n",
              "    </tr>\n",
              "  </tbody>\n",
              "</table>\n",
              "</div>"
            ],
            "text/plain": [
              "      baseline hazard\n",
              "0.5          0.002976\n",
              "1.0          0.032717\n",
              "1.5          0.032988\n",
              "2.0          0.067268\n",
              "2.5          0.067522\n",
              "3.0          0.101898\n",
              "3.5          0.102328\n",
              "4.0          0.136360\n",
              "4.5          0.136770\n",
              "5.0          0.171599\n",
              "5.5          0.172055\n",
              "6.0          0.203559\n",
              "6.5          0.203874\n",
              "7.0          0.233313\n",
              "7.5          0.233646\n",
              "8.0          0.262529\n",
              "8.5          0.262765\n",
              "9.0          0.287083\n",
              "9.5          0.287189\n",
              "10.0         0.312509\n",
              "10.5         0.312574\n",
              "11.0         0.341043\n",
              "11.5         0.341077\n",
              "12.0         0.371825\n",
              "12.5         0.371862\n",
              "13.0         0.400227\n",
              "13.5         0.400248\n",
              "14.0         0.429394\n",
              "14.5         0.429418\n",
              "15.0         0.459498\n",
              "15.5         0.459554\n",
              "16.0         0.493941\n",
              "17.0         0.526400\n",
              "18.0         0.563265\n",
              "19.0         0.598890\n",
              "20.0         0.638821\n",
              "20.5         0.638888\n",
              "21.0         0.680980\n",
              "22.0         0.726878\n",
              "23.0         0.753287\n",
              "24.0         0.781411\n",
              "25.0         0.806021"
            ]
          },
          "metadata": {
            "tags": []
          },
          "execution_count": 7
        }
      ]
    },
    {
      "cell_type": "code",
      "metadata": {
        "id": "2zrMLvWtwdMw",
        "colab_type": "code",
        "colab": {
          "base_uri": "https://localhost:8080/",
          "height": 34
        },
        "outputId": "a2250908-079d-4873-d8b0-d6bb0be51eec"
      },
      "source": [
        "np.exp(-1.46*-0.826)"
      ],
      "execution_count": null,
      "outputs": [
        {
          "output_type": "execute_result",
          "data": {
            "text/plain": [
              "3.339963904853086"
            ]
          },
          "metadata": {
            "tags": []
          },
          "execution_count": 11
        }
      ]
    },
    {
      "cell_type": "code",
      "metadata": {
        "id": "pdZ7sKNHw46N",
        "colab_type": "code",
        "colab": {}
      },
      "source": [
        "CumulativeHazard_NFS = ch * np.exp(-1.46*-0.826)"
      ],
      "execution_count": null,
      "outputs": []
    },
    {
      "cell_type": "code",
      "metadata": {
        "id": "TSu-RlH0xYSq",
        "colab_type": "code",
        "colab": {
          "base_uri": "https://localhost:8080/",
          "height": 1000
        },
        "outputId": "bc1f59ba-8c53-43ca-cdd1-d4c60d9dd1f7"
      },
      "source": [
        "Survival_NFS = np.exp(-1*CumulativeHazard_NFS)\n",
        "Survival_NFS"
      ],
      "execution_count": null,
      "outputs": [
        {
          "output_type": "execute_result",
          "data": {
            "text/html": [
              "<div>\n",
              "<style scoped>\n",
              "    .dataframe tbody tr th:only-of-type {\n",
              "        vertical-align: middle;\n",
              "    }\n",
              "\n",
              "    .dataframe tbody tr th {\n",
              "        vertical-align: top;\n",
              "    }\n",
              "\n",
              "    .dataframe thead th {\n",
              "        text-align: right;\n",
              "    }\n",
              "</style>\n",
              "<table border=\"1\" class=\"dataframe\">\n",
              "  <thead>\n",
              "    <tr style=\"text-align: right;\">\n",
              "      <th></th>\n",
              "      <th>baseline hazard</th>\n",
              "    </tr>\n",
              "  </thead>\n",
              "  <tbody>\n",
              "    <tr>\n",
              "      <th>0.5</th>\n",
              "      <td>0.990111</td>\n",
              "    </tr>\n",
              "    <tr>\n",
              "      <th>1.0</th>\n",
              "      <td>0.896486</td>\n",
              "    </tr>\n",
              "    <tr>\n",
              "      <th>1.5</th>\n",
              "      <td>0.895674</td>\n",
              "    </tr>\n",
              "    <tr>\n",
              "      <th>2.0</th>\n",
              "      <td>0.798778</td>\n",
              "    </tr>\n",
              "    <tr>\n",
              "      <th>2.5</th>\n",
              "      <td>0.798101</td>\n",
              "    </tr>\n",
              "    <tr>\n",
              "      <th>3.0</th>\n",
              "      <td>0.711532</td>\n",
              "    </tr>\n",
              "    <tr>\n",
              "      <th>3.5</th>\n",
              "      <td>0.710511</td>\n",
              "    </tr>\n",
              "    <tr>\n",
              "      <th>4.0</th>\n",
              "      <td>0.634170</td>\n",
              "    </tr>\n",
              "    <tr>\n",
              "      <th>4.5</th>\n",
              "      <td>0.633304</td>\n",
              "    </tr>\n",
              "    <tr>\n",
              "      <th>5.0</th>\n",
              "      <td>0.563755</td>\n",
              "    </tr>\n",
              "    <tr>\n",
              "      <th>5.5</th>\n",
              "      <td>0.562897</td>\n",
              "    </tr>\n",
              "    <tr>\n",
              "      <th>6.0</th>\n",
              "      <td>0.506678</td>\n",
              "    </tr>\n",
              "    <tr>\n",
              "      <th>6.5</th>\n",
              "      <td>0.506146</td>\n",
              "    </tr>\n",
              "    <tr>\n",
              "      <th>7.0</th>\n",
              "      <td>0.458746</td>\n",
              "    </tr>\n",
              "    <tr>\n",
              "      <th>7.5</th>\n",
              "      <td>0.458237</td>\n",
              "    </tr>\n",
              "    <tr>\n",
              "      <th>8.0</th>\n",
              "      <td>0.416097</td>\n",
              "    </tr>\n",
              "    <tr>\n",
              "      <th>8.5</th>\n",
              "      <td>0.415769</td>\n",
              "    </tr>\n",
              "    <tr>\n",
              "      <th>9.0</th>\n",
              "      <td>0.383335</td>\n",
              "    </tr>\n",
              "    <tr>\n",
              "      <th>9.5</th>\n",
              "      <td>0.383199</td>\n",
              "    </tr>\n",
              "    <tr>\n",
              "      <th>10.0</th>\n",
              "      <td>0.352125</td>\n",
              "    </tr>\n",
              "    <tr>\n",
              "      <th>10.5</th>\n",
              "      <td>0.352049</td>\n",
              "    </tr>\n",
              "    <tr>\n",
              "      <th>11.0</th>\n",
              "      <td>0.320117</td>\n",
              "    </tr>\n",
              "    <tr>\n",
              "      <th>11.5</th>\n",
              "      <td>0.320080</td>\n",
              "    </tr>\n",
              "    <tr>\n",
              "      <th>12.0</th>\n",
              "      <td>0.288840</td>\n",
              "    </tr>\n",
              "    <tr>\n",
              "      <th>12.5</th>\n",
              "      <td>0.288805</td>\n",
              "    </tr>\n",
              "    <tr>\n",
              "      <th>13.0</th>\n",
              "      <td>0.262700</td>\n",
              "    </tr>\n",
              "    <tr>\n",
              "      <th>13.5</th>\n",
              "      <td>0.262681</td>\n",
              "    </tr>\n",
              "    <tr>\n",
              "      <th>14.0</th>\n",
              "      <td>0.238316</td>\n",
              "    </tr>\n",
              "    <tr>\n",
              "      <th>14.5</th>\n",
              "      <td>0.238297</td>\n",
              "    </tr>\n",
              "    <tr>\n",
              "      <th>15.0</th>\n",
              "      <td>0.215519</td>\n",
              "    </tr>\n",
              "    <tr>\n",
              "      <th>15.5</th>\n",
              "      <td>0.215479</td>\n",
              "    </tr>\n",
              "    <tr>\n",
              "      <th>16.0</th>\n",
              "      <td>0.192099</td>\n",
              "    </tr>\n",
              "    <tr>\n",
              "      <th>17.0</th>\n",
              "      <td>0.172362</td>\n",
              "    </tr>\n",
              "    <tr>\n",
              "      <th>18.0</th>\n",
              "      <td>0.152394</td>\n",
              "    </tr>\n",
              "    <tr>\n",
              "      <th>19.0</th>\n",
              "      <td>0.135298</td>\n",
              "    </tr>\n",
              "    <tr>\n",
              "      <th>20.0</th>\n",
              "      <td>0.118406</td>\n",
              "    </tr>\n",
              "    <tr>\n",
              "      <th>20.5</th>\n",
              "      <td>0.118379</td>\n",
              "    </tr>\n",
              "    <tr>\n",
              "      <th>21.0</th>\n",
              "      <td>0.102853</td>\n",
              "    </tr>\n",
              "    <tr>\n",
              "      <th>22.0</th>\n",
              "      <td>0.088235</td>\n",
              "    </tr>\n",
              "    <tr>\n",
              "      <th>23.0</th>\n",
              "      <td>0.080786</td>\n",
              "    </tr>\n",
              "    <tr>\n",
              "      <th>24.0</th>\n",
              "      <td>0.073543</td>\n",
              "    </tr>\n",
              "    <tr>\n",
              "      <th>25.0</th>\n",
              "      <td>0.067740</td>\n",
              "    </tr>\n",
              "  </tbody>\n",
              "</table>\n",
              "</div>"
            ],
            "text/plain": [
              "      baseline hazard\n",
              "0.5          0.990111\n",
              "1.0          0.896486\n",
              "1.5          0.895674\n",
              "2.0          0.798778\n",
              "2.5          0.798101\n",
              "3.0          0.711532\n",
              "3.5          0.710511\n",
              "4.0          0.634170\n",
              "4.5          0.633304\n",
              "5.0          0.563755\n",
              "5.5          0.562897\n",
              "6.0          0.506678\n",
              "6.5          0.506146\n",
              "7.0          0.458746\n",
              "7.5          0.458237\n",
              "8.0          0.416097\n",
              "8.5          0.415769\n",
              "9.0          0.383335\n",
              "9.5          0.383199\n",
              "10.0         0.352125\n",
              "10.5         0.352049\n",
              "11.0         0.320117\n",
              "11.5         0.320080\n",
              "12.0         0.288840\n",
              "12.5         0.288805\n",
              "13.0         0.262700\n",
              "13.5         0.262681\n",
              "14.0         0.238316\n",
              "14.5         0.238297\n",
              "15.0         0.215519\n",
              "15.5         0.215479\n",
              "16.0         0.192099\n",
              "17.0         0.172362\n",
              "18.0         0.152394\n",
              "19.0         0.135298\n",
              "20.0         0.118406\n",
              "20.5         0.118379\n",
              "21.0         0.102853\n",
              "22.0         0.088235\n",
              "23.0         0.080786\n",
              "24.0         0.073543\n",
              "25.0         0.067740"
            ]
          },
          "metadata": {
            "tags": []
          },
          "execution_count": 13
        }
      ]
    },
    {
      "cell_type": "code",
      "metadata": {
        "id": "wkEoigbFx05_",
        "colab_type": "code",
        "colab": {
          "base_uri": "https://localhost:8080/",
          "height": 286
        },
        "outputId": "866e51ca-0228-422e-cd37-cf498e589b15"
      },
      "source": [
        "Survival_NFS.plot()"
      ],
      "execution_count": null,
      "outputs": [
        {
          "output_type": "execute_result",
          "data": {
            "text/plain": [
              "<matplotlib.axes._subplots.AxesSubplot at 0x7f137cfd1da0>"
            ]
          },
          "metadata": {
            "tags": []
          },
          "execution_count": 60
        },
        {
          "output_type": "display_data",
          "data": {
            "image/png": "[encoded data removed]",
            "text/plain": [
              "<Figure size 432x288 with 1 Axes>"
            ]
          },
          "metadata": {
            "tags": []
          }
        }
      ]
    }
  ]
}