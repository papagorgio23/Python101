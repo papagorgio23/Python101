{
  "nbformat": 4,
  "nbformat_minor": 0,
  "metadata": {
    "colab": {
      "name": "Python 101.ipynb",
      "provenance": [],
      "collapsed_sections": [],
      "include_colab_link": true
    },
    "kernelspec": {
      "name": "python3",
      "display_name": "Python 3"
    }
  },
  "cells": [
    {
      "cell_type": "markdown",
      "metadata": {
        "id": "view-in-github",
        "colab_type": "text"
      },
      "source": [
        "<a href=\"https://colab.research.google.com/github/papagorgio23/Python101/blob/master/Python_101.ipynb\" target=\"_parent\"><img src=\"https://colab.research.google.com/assets/colab-badge.svg\" alt=\"Open In Colab\"/></a>"
      ]
    },
    {
      "cell_type": "code",
      "metadata": {
        "id": "BKwEOg8KfSAg",
        "colab_type": "code",
        "colab": {}
      },
      "source": [
        "# Begining Libraries\n",
        "\n",
        "import pandas as pd #Basic sorage Lib \n",
        "import numpy as np #numpy additional Data types and addition calculation Functions\n",
        "import matplotlib.pyplot as plt\n",
        "\n",
        "\n",
        "# Python is Case Sensitive\n",
        "# Pay attention to indents, No mixing tabs and spaces\n"
      ],
      "execution_count": null,
      "outputs": []
    },
    {
      "cell_type": "code",
      "metadata": {
        "id": "gNlUrZiTf3u7",
        "colab_type": "code",
        "colab": {
          "base_uri": "https://localhost:8080/",
          "height": 85
        },
        "outputId": "583e5e3e-6229-4f2d-9f06-57f0d7f144df"
      },
      "source": [
        "\n",
        "##################################### Declaring Variables ########################\n",
        "\n",
        "\n",
        "x1 = 12\n",
        "x2 = 3\n",
        "\n",
        "print(x1 + x2) ## Addition\n",
        "print(x1 * x2) ## Multiplication\n",
        "print(x1 / x2)  ### Division\n",
        "# print(x1 ** x2) ## ^3\n",
        "# print(x1)\n",
        "\n",
        "\n",
        "####################################List ########################\n",
        "\n",
        "\n",
        "a1 = ['Carrots','Peas','Celery','Apple']\n",
        "\n",
        "a1\n",
        "a2 = 'Apple'\n",
        "a1[3]\n",
        "  "
      ],
      "execution_count": null,
      "outputs": [
        {
          "output_type": "stream",
          "text": [
            "15\n",
            "36\n",
            "4.0\n"
          ],
          "name": "stdout"
        },
        {
          "output_type": "execute_result",
          "data": {
            "text/plain": [
              "'Apple'"
            ]
          },
          "metadata": {
            "tags": []
          },
          "execution_count": 4
        }
      ]
    },
    {
      "cell_type": "code",
      "metadata": {
        "id": "1ttq1ddQYYZW",
        "colab_type": "code",
        "colab": {}
      },
      "source": [
        "# #################If Statements######################\n",
        "\n",
        "if a1[0] == a2:\n",
        "  print('Yum')\n",
        "else:\n",
        "  print('Yuck')\n"
      ],
      "execution_count": null,
      "outputs": []
    },
    {
      "cell_type": "code",
      "metadata": {
        "id": "TJs373BQWRf9",
        "colab_type": "code",
        "colab": {
          "base_uri": "https://localhost:8080/",
          "height": 289
        },
        "outputId": "26f8bd8d-5f76-4d31-d783-a4439c3aacc5"
      },
      "source": [
        "# Installing Library\n",
        "!pip install pydata_google_auth"
      ],
      "execution_count": null,
      "outputs": [
        {
          "output_type": "stream",
          "text": [
            "Requirement already satisfied: pydata_google_auth in /usr/local/lib/python3.6/dist-packages (0.1.3)\n",
            "Requirement already satisfied: google-auth in /usr/local/lib/python3.6/dist-packages (from pydata_google_auth) (1.4.2)\n",
            "Requirement already satisfied: setuptools in /usr/local/lib/python3.6/dist-packages (from pydata_google_auth) (41.0.1)\n",
            "Requirement already satisfied: google-auth-oauthlib in /usr/local/lib/python3.6/dist-packages (from pydata_google_auth) (0.3.0)\n",
            "Requirement already satisfied: pyasn1-modules>=0.2.1 in /usr/local/lib/python3.6/dist-packages (from google-auth->pydata_google_auth) (0.2.5)\n",
            "Requirement already satisfied: rsa>=3.1.4 in /usr/local/lib/python3.6/dist-packages (from google-auth->pydata_google_auth) (4.0)\n",
            "Requirement already satisfied: six>=1.9.0 in /usr/local/lib/python3.6/dist-packages (from google-auth->pydata_google_auth) (1.12.0)\n",
            "Requirement already satisfied: cachetools>=2.0.0 in /usr/local/lib/python3.6/dist-packages (from google-auth->pydata_google_auth) (3.1.1)\n",
            "Requirement already satisfied: requests-oauthlib>=0.7.0 in /usr/local/lib/python3.6/dist-packages (from google-auth-oauthlib->pydata_google_auth) (1.2.0)\n",
            "Requirement already satisfied: pyasn1<0.5.0,>=0.4.1 in /usr/local/lib/python3.6/dist-packages (from pyasn1-modules>=0.2.1->google-auth->pydata_google_auth) (0.4.5)\n",
            "Requirement already satisfied: requests>=2.0.0 in /usr/local/lib/python3.6/dist-packages (from requests-oauthlib>=0.7.0->google-auth-oauthlib->pydata_google_auth) (2.21.0)\n",
            "Requirement already satisfied: oauthlib>=3.0.0 in /usr/local/lib/python3.6/dist-packages (from requests-oauthlib>=0.7.0->google-auth-oauthlib->pydata_google_auth) (3.0.1)\n",
            "Requirement already satisfied: certifi>=2017.4.17 in /usr/local/lib/python3.6/dist-packages (from requests>=2.0.0->requests-oauthlib>=0.7.0->google-auth-oauthlib->pydata_google_auth) (2019.3.9)\n",
            "Requirement already satisfied: chardet<3.1.0,>=3.0.2 in /usr/local/lib/python3.6/dist-packages (from requests>=2.0.0->requests-oauthlib>=0.7.0->google-auth-oauthlib->pydata_google_auth) (3.0.4)\n",
            "Requirement already satisfied: idna<2.9,>=2.5 in /usr/local/lib/python3.6/dist-packages (from requests>=2.0.0->requests-oauthlib>=0.7.0->google-auth-oauthlib->pydata_google_auth) (2.8)\n",
            "Requirement already satisfied: urllib3<1.25,>=1.21.1 in /usr/local/lib/python3.6/dist-packages (from requests>=2.0.0->requests-oauthlib>=0.7.0->google-auth-oauthlib->pydata_google_auth) (1.24.3)\n"
          ],
          "name": "stdout"
        }
      ]
    },
    {
      "cell_type": "code",
      "metadata": {
        "id": "SR44CFHWVsBR",
        "colab_type": "code",
        "colab": {
          "base_uri": "https://localhost:8080/",
          "height": 105
        },
        "outputId": "5abb898c-da54-4326-b35c-12fa06eed9bc"
      },
      "source": [
        "\n",
        "# Using GBQ shout Out to Hughes\n",
        "import pandas_gbq\n",
        "import pydata_google_auth\n",
        "\n",
        "SCOPES = [\n",
        "    'https://www.googleapis.com/auth/cloud-platform',\n",
        "    'https://www.googleapis.com/auth/drive',\n",
        "]\n",
        "\n",
        "credentials = pydata_google_auth.get_user_credentials(\n",
        "    SCOPES,\n",
        "    auth_local_webserver=False)\n",
        "\n",
        "df3 = pandas_gbq.read_gbq( \"SELECT * FROM `fdr-data-platform.standardized_data.payment_history` limit 1000\", dialect = 'standard',project_id='ffn-dw-bigquery-prd', credentials=credentials)"
      ],
      "execution_count": null,
      "outputs": [
        {
          "output_type": "stream",
          "text": [
            "Please visit this URL to authorize this application: https://accounts.google.com/o/oauth2/auth?response_type=code&client_id=262006177488-3425ks60hkk80fssi9vpohv88g6q1iqd.apps.googleusercontent.com&redirect_uri=urn%3Aietf%3Awg%3Aoauth%3A2.0%3Aoob&scope=https%3A%2F%2Fwww.googleapis.com%2Fauth%2Fcloud-platform+https%3A%2F%2Fwww.googleapis.com%2Fauth%2Fdrive&state=2yHTBE9dGZR6fjx6BZYeJXXqtu3i5x&prompt=consent&access_type=offline\n",
            "Enter the authorization code: 4/XQE9Rja86ItlYlKxDbg22qdqgDZhUAAKR3HaAss3KqxUI1I2WnmSQ2Y\n",
            "Please visit this URL to authorize this application: https://accounts.google.com/o/oauth2/auth?response_type=code&client_id=495642085510-k0tmvj2m941jhre2nbqka17vqpjfddtd.apps.googleusercontent.com&redirect_uri=urn%3Aietf%3Awg%3Aoauth%3A2.0%3Aoob&scope=https%3A%2F%2Fwww.googleapis.com%2Fauth%2Fbigquery&state=4kBntvNCviB7yDWFfhpBVAZsN1e5NM&prompt=consent&access_type=offline\n",
            "Enter the authorization code: 4/XQF7jF4JBKByG83rS5RBSsbiziIMuBajyyRontUEPJ4arVsqXhXxss4\n"
          ],
          "name": "stdout"
        }
      ]
    },
    {
      "cell_type": "code",
      "metadata": {
        "id": "JGCdYs2os-AN",
        "colab_type": "code",
        "colab": {}
      },
      "source": [
        "sql = \"\"\"\n",
        "\n",
        "SELECT DISTINCT\n",
        "    h.salesforce_application_id\n",
        "    ,h.created_time AS core_created_Datetime\n",
        "    ,a.created_datetime AS app_created_Datetime\n",
        "    ,a.wcb_delivered_at_datetime\n",
        "    \n",
        "FROM \n",
        "    `freedom-dw.loscore.loan_application_history` h\n",
        "\n",
        "INNER JOIN \n",
        "    `ffam-data-platform.standardized_data.fplus_application` a ON a.application_key = h.salesforce_application_id\n",
        "\n",
        "WHERE\n",
        "    salesforce_application_id IN ('a010f00000V6ys3AAB', 'a010f00000VhmSRAAZ', 'a010f00000V8dNWAAZ')\n",
        "\n",
        "\"\"\"\n",
        "\n",
        "df2 = pandas_gbq.read_gbq( sql, dialect = 'standard', project_id='ffn-dw-bigquery-prd', credentials=credentials)"
      ],
      "execution_count": null,
      "outputs": []
    },
    {
      "cell_type": "code",
      "metadata": {
        "id": "GH23eU4NWq4G",
        "colab_type": "code",
        "colab": {
          "base_uri": "https://localhost:8080/",
          "height": 142
        },
        "outputId": "e6cff4d5-fbd5-43d4-ff1d-e47f9cd73cc3"
      },
      "source": [
        "df3.head()\n",
        "df2.head()\n",
        "#df3.dtypes\n",
        "\n",
        "\n",
        "#df3.to_clipboard()\n"
      ],
      "execution_count": null,
      "outputs": [
        {
          "output_type": "execute_result",
          "data": {
            "text/html": [
              "<div>\n",
              "<style scoped>\n",
              "    .dataframe tbody tr th:only-of-type {\n",
              "        vertical-align: middle;\n",
              "    }\n",
              "\n",
              "    .dataframe tbody tr th {\n",
              "        vertical-align: top;\n",
              "    }\n",
              "\n",
              "    .dataframe thead th {\n",
              "        text-align: right;\n",
              "    }\n",
              "</style>\n",
              "<table border=\"1\" class=\"dataframe\">\n",
              "  <thead>\n",
              "    <tr style=\"text-align: right;\">\n",
              "      <th></th>\n",
              "      <th>salesforce_application_id</th>\n",
              "      <th>core_created_Datetime</th>\n",
              "      <th>app_created_Datetime</th>\n",
              "      <th>wcb_delivered_at_datetime</th>\n",
              "    </tr>\n",
              "  </thead>\n",
              "  <tbody>\n",
              "    <tr>\n",
              "      <th>0</th>\n",
              "      <td>a010f00000VhmSRAAZ</td>\n",
              "      <td>2019-04-02 13:58:40</td>\n",
              "      <td>2019-04-02 13:58:44</td>\n",
              "      <td>2019-04-02 13:58:43</td>\n",
              "    </tr>\n",
              "    <tr>\n",
              "      <th>1</th>\n",
              "      <td>a010f00000V8dNWAAZ</td>\n",
              "      <td>2019-01-30 12:29:51</td>\n",
              "      <td>2019-01-30 13:29:56</td>\n",
              "      <td>2019-01-30 13:29:55</td>\n",
              "    </tr>\n",
              "    <tr>\n",
              "      <th>2</th>\n",
              "      <td>a010f00000V6ys3AAB</td>\n",
              "      <td>2019-01-21 05:06:38</td>\n",
              "      <td>2019-01-21 06:06:43</td>\n",
              "      <td>2019-01-21 06:06:41</td>\n",
              "    </tr>\n",
              "  </tbody>\n",
              "</table>\n",
              "</div>"
            ],
            "text/plain": [
              "  salesforce_application_id  ... wcb_delivered_at_datetime\n",
              "0        a010f00000VhmSRAAZ  ...       2019-04-02 13:58:43\n",
              "1        a010f00000V8dNWAAZ  ...       2019-01-30 13:29:55\n",
              "2        a010f00000V6ys3AAB  ...       2019-01-21 06:06:41\n",
              "\n",
              "[3 rows x 4 columns]"
            ]
          },
          "metadata": {
            "tags": []
          },
          "execution_count": 5
        }
      ]
    },
    {
      "cell_type": "code",
      "metadata": {
        "id": "E-scQnwCOPHv",
        "colab_type": "code",
        "colab": {}
      },
      "source": [
        "\n",
        "# # Importing Data\n",
        "from google.colab import files\n",
        "uploaded = files.upload()\n",
        "\n"
      ],
      "execution_count": null,
      "outputs": []
    },
    {
      "cell_type": "code",
      "metadata": {
        "id": "FotUsiJxJkwt",
        "colab_type": "code",
        "colab": {}
      },
      "source": [
        "#titanic = pd.read_csv('titanic_data.csv')\n",
        "url = 'https://raw.githubusercontent.com/cfb2/Machine-Learning/master/train.csv'\n",
        "df = pd.read_csv(url)"
      ],
      "execution_count": null,
      "outputs": []
    },
    {
      "cell_type": "code",
      "metadata": {
        "id": "m_5FRAkRL6Xc",
        "colab_type": "code",
        "colab": {}
      },
      "source": [
        "\n",
        "############### Download Files ############################\n",
        "\n",
        "# from google.colab import files\n",
        "\n",
        "# df.to_csv('df.csv')\n",
        "# files.download('df.csv')"
      ],
      "execution_count": null,
      "outputs": []
    },
    {
      "cell_type": "code",
      "metadata": {
        "id": "joeuMAZbJuM2",
        "colab_type": "code",
        "colab": {}
      },
      "source": [
        "##### Working with DataDrames ######\n",
        "\n",
        "\n",
        "# df.head()\n",
        "# df.dtypes\n",
        "\n",
        "\n",
        "################################## return Column as  Series ##################################\n",
        "\n",
        "# df['Name']\n",
        "# type(df['Name'])\n",
        "\n",
        "\n",
        "\n",
        "################################## Return Column as  Series ##################################\n",
        "# return columns as dataframe\n",
        "# df2 = df[['Name', 'Pclass', 'Sex']]\n",
        "# type(df2)\n",
        "\n",
        "\n",
        "\n"
      ],
      "execution_count": null,
      "outputs": []
    },
    {
      "cell_type": "code",
      "metadata": {
        "id": "BTFGXf8zLUfe",
        "colab_type": "code",
        "colab": {}
      },
      "source": [
        "################################################ EDA ######################################\n",
        "\n",
        "\n",
        "# df[df['Sex']=='male']\n",
        "\n",
        "\n",
        "# df[df['Sex']=='male'][df['Pclass']>1]\n",
        "\n",
        "\n",
        "\n",
        "# df['Fare'].describe()\n"
      ],
      "execution_count": null,
      "outputs": []
    },
    {
      "cell_type": "code",
      "metadata": {
        "id": "_Xe3YU4zdlOr",
        "colab_type": "code",
        "colab": {}
      },
      "source": [
        "# df['Is_Male'] =np.where(df['Sex']=='male',1,0)\n",
        "# df\n",
        "\n",
        "\n",
        "# df['Is_Child'] = np.where(df['Age']< 12 , 1,0)\n",
        "# df"
      ],
      "execution_count": null,
      "outputs": []
    },
    {
      "cell_type": "code",
      "metadata": {
        "id": "pnhJrDC1d281",
        "colab_type": "code",
        "colab": {}
      },
      "source": [
        "########################################## Aggregations ####################################\n",
        "\n",
        "# df[['Name','Sex']].groupby(['Sex']).count()\n",
        "\n",
        "# df4 =  df[['Pclass','Fare']].groupby('Pclass').sum().reset_index()\n",
        "# df4\n",
        "\n",
        "# df5 = df[['Pclass','Age']].groupby('Pclass').median().reset_index()\n",
        "# df5\n",
        "\n",
        "# df6 = df4.merge(df5, how = 'inner', on = 'Pclass' )\n",
        "# df6\n",
        "\n",
        "\n",
        "df7 =df[['Is_Child','Survived','Name']].groupby(['Is_Child','Survived',]).count().reset_index()\n",
        "\n",
        "\n",
        "\n",
        "\n",
        "#############Exporting Table###################\n",
        "\n",
        "\n",
        "\n",
        "# d6.to_clipboard\n",
        "# d6.to_csv(index=True, path'C:/')\n"
      ],
      "execution_count": null,
      "outputs": []
    }
  ]
}