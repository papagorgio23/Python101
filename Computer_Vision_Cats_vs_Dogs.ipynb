{
  "nbformat": 4,
  "nbformat_minor": 0,
  "metadata": {
    "colab": {
      "name": "Computer Vision - Cats vs Dogs.ipynb",
      "provenance": [],
      "collapsed_sections": [],
      "toc_visible": true,
      "include_colab_link": true
    },
    "kernelspec": {
      "name": "python3",
      "display_name": "Python 3"
    },
    "accelerator": "TPU"
  },
  "cells": [
    {
      "cell_type": "markdown",
      "metadata": {
        "id": "view-in-github",
        "colab_type": "text"
      },
      "source": [
        "<a href=\"https://colab.research.google.com/github/papagorgio23/Python101/blob/master/Computer_Vision_Cats_vs_Dogs.ipynb\" target=\"_parent\"><img src=\"https://colab.research.google.com/assets/colab-badge.svg\" alt=\"Open In Colab\"/></a>"
      ]
    },
    {
      "cell_type": "markdown",
      "metadata": {
        "id": "D2XAd8aOTgm5",
        "colab_type": "text"
      },
      "source": [
        "Northwestern MSDS\n",
        "\n",
        "422 - Practical Machine Learning\n",
        "\n",
        "Jason Lee"
      ]
    },
    {
      "cell_type": "markdown",
      "metadata": {
        "id": "61IKs6PEPKBD",
        "colab_type": "text"
      },
      "source": [
        "## Cats vs. Dogs + Deep Learning"
      ]
    },
    {
      "cell_type": "markdown",
      "metadata": {
        "id": "u1nWGK9ATocL",
        "colab_type": "text"
      },
      "source": [
        "## Management Problem"
      ]
    },
    {
      "cell_type": "markdown",
      "metadata": {
        "id": "_7RNXobj4crH",
        "colab_type": "text"
      },
      "source": [
        "Assume that we are providing advice to a website provider who is looking for tools to automatically label images provided by end users. As we look across the factors in the study, making recommendations to management about image classification, we are most concerned about achieving the highest possible accuracy in image classification. That is, we should be willing to sacrifice training time for model accuracy. Part of this recommendation may concern information about the initial images themselves (input data for the classification task). \n",
        "\n",
        "*   What type of machine learning model works best? \n",
        "\n",
        "*   If it is a convolutional neural network, what type of network should we use?\n",
        "\n",
        "*   What types of images work best?"
      ]
    },
    {
      "cell_type": "markdown",
      "metadata": {
        "id": "UjNR_pzuTxSs",
        "colab_type": "text"
      },
      "source": [
        "# Programming Work"
      ]
    },
    {
      "cell_type": "code",
      "metadata": {
        "id": "ch5fNiveTzrE",
        "colab_type": "code",
        "colab": {}
      },
      "source": [
        "# import base packages into the namespace for this program\n",
        "import numpy as np\n",
        "import pandas as pd\n",
        "import matplotlib.pyplot as plt\n",
        "import seaborn as sns\n",
        "import warnings\n",
        "warnings.simplefilter(action='ignore', category=FutureWarning)\n",
        "from datetime import datetime\n",
        "\n",
        "# modeling routines from Scikit Learn packages\n",
        "import tensorflow as tf\n",
        "from keras.datasets import mnist\n",
        "from yellowbrick.classifier import ROCAUC\n",
        "from yellowbrick.classifier import ClassificationReport\n",
        "from sklearn.preprocessing import StandardScaler\n",
        "from sklearn.model_selection import train_test_split\n",
        "from sklearn.model_selection import cross_val_score\n",
        "from sklearn.metrics import classification_report, accuracy_score \n"
      ],
      "execution_count": null,
      "outputs": []
    },
    {
      "cell_type": "markdown",
      "metadata": {
        "id": "T5sFeW13T3YY",
        "colab_type": "text"
      },
      "source": [
        "## Ingest"
      ]
    },
    {
      "cell_type": "code",
      "metadata": {
        "id": "TPNoDfpXO-zQ",
        "colab_type": "code",
        "colab": {
          "base_uri": "https://localhost:8080/",
          "height": 82
        },
        "outputId": "4ddcba69-e6ac-48fc-d1bc-aaa21be0bebb"
      },
      "source": [
        "# get data\n",
        "import os\n",
        "from six.moves.urllib.request import urlretrieve\n",
        "\n",
        "SOURCE_URL = 'https://storage.googleapis.com/cvdf-datasets/mnist/'\n",
        "WORK_DIRECTORY = \"/tmp/mnist-data\"\n",
        "\n",
        "def maybe_download(filename):\n",
        "    \"\"\"A helper to download the data files if not present.\"\"\"\n",
        "    if not os.path.exists(WORK_DIRECTORY):\n",
        "        os.mkdir(WORK_DIRECTORY)\n",
        "    filepath = os.path.join(WORK_DIRECTORY, filename)\n",
        "    if not os.path.exists(filepath):\n",
        "        filepath, _ = urlretrieve(SOURCE_URL + filename, filepath)\n",
        "        statinfo = os.stat(filepath)\n",
        "        print('Successfully downloaded', filename, statinfo.st_size, 'bytes.')\n",
        "    else:\n",
        "        print('Already downloaded', filename)\n",
        "    return filepath\n",
        "\n",
        "train_data_filename = maybe_download('train-images-idx3-ubyte.gz')\n",
        "train_labels_filename = maybe_download('train-labels-idx1-ubyte.gz')\n",
        "test_data_filename = maybe_download('t10k-images-idx3-ubyte.gz')\n",
        "test_labels_filename = maybe_download('t10k-labels-idx1-ubyte.gz')\n"
      ],
      "execution_count": null,
      "outputs": [
        {
          "output_type": "stream",
          "text": [
            "Successfully downloaded train-images-idx3-ubyte.gz 9912422 bytes.\n",
            "Successfully downloaded train-labels-idx1-ubyte.gz 28881 bytes.\n",
            "Successfully downloaded t10k-images-idx3-ubyte.gz 1648877 bytes.\n",
            "Successfully downloaded t10k-labels-idx1-ubyte.gz 4542 bytes.\n"
          ],
          "name": "stdout"
        }
      ]
    },
    {
      "cell_type": "markdown",
      "metadata": {
        "id": "VQyNZMmkSEIj",
        "colab_type": "text"
      },
      "source": [
        "## View data"
      ]
    },
    {
      "cell_type": "code",
      "metadata": {
        "id": "wYASLHEJP313",
        "colab_type": "code",
        "colab": {
          "base_uri": "https://localhost:8080/",
          "height": 98
        },
        "outputId": "82eca5d2-bd3d-4e67-9f76-e36e19300aaa"
      },
      "source": [
        "\n",
        "import gzip, binascii, struct, numpy\n",
        "import matplotlib.pyplot as plt\n",
        "\n",
        "with gzip.open(test_data_filename) as f:\n",
        "    # Print the header fields.\n",
        "    for field in ['magic number', 'image count', 'rows', 'columns']:\n",
        "        # struct.unpack reads the binary data provided by f.read.\n",
        "        # The format string '>i' decodes a big-endian integer, which\n",
        "        # is the encoding of the data.\n",
        "        print(field, struct.unpack('>i', f.read(4))[0])\n",
        "    \n",
        "    # Read the first 28x28 set of pixel values. \n",
        "    # Each pixel is one byte, [0, 255], a uint8.\n",
        "    buf = f.read(28 * 28)\n",
        "    image = numpy.frombuffer(buf, dtype=numpy.uint8)\n",
        "  \n",
        "    # Print the first few values of image.\n",
        "    print('First 10 pixels:', image[:10])\n",
        "\n"
      ],
      "execution_count": null,
      "outputs": [
        {
          "output_type": "stream",
          "text": [
            "magic number 2051\n",
            "image count 10000\n",
            "rows 28\n",
            "columns 28\n",
            "First 10 pixels: [0 0 0 0 0 0 0 0 0 0]\n"
          ],
          "name": "stdout"
        }
      ]
    },
    {
      "cell_type": "markdown",
      "metadata": {
        "id": "D5e_DZtaSJ33",
        "colab_type": "text"
      },
      "source": [
        "## EDA"
      ]
    },
    {
      "cell_type": "code",
      "metadata": {
        "id": "rrUK_05iQS7z",
        "colab_type": "code",
        "colab": {
          "base_uri": "https://localhost:8080/",
          "height": 268
        },
        "outputId": "82d97b06-91c9-4a33-fbed-13fe20906632"
      },
      "source": [
        "get_ipython().magic(u'matplotlib inline')\n",
        "\n",
        "# We'll show the image and its pixel value histogram side-by-side.\n",
        "_, (ax1, ax2) = plt.subplots(1, 2)\n",
        "\n",
        "# To interpret the values as a 28x28 image, we need to reshape\n",
        "# the numpy array, which is one dimensional.\n",
        "ax1.imshow(image.reshape(28, 28), cmap=plt.cm.Greys);\n",
        "\n",
        "ax2.hist(image, bins=20, range=[0,255]);\n",
        "\n"
      ],
      "execution_count": null,
      "outputs": [
        {
          "output_type": "display_data",
          "data": {
            "image/png": "[encoded data removed]",
            "text/plain": [
              "<Figure size 432x288 with 2 Axes>"
            ]
          },
          "metadata": {
            "tags": []
          }
        }
      ]
    },
    {
      "cell_type": "markdown",
      "metadata": {
        "id": "QinpFaijSRjG",
        "colab_type": "text"
      },
      "source": [
        "## Scale Data"
      ]
    },
    {
      "cell_type": "code",
      "metadata": {
        "id": "djZC0wjaQqW-",
        "colab_type": "code",
        "colab": {
          "base_uri": "https://localhost:8080/",
          "height": 268
        },
        "outputId": "b5c014fc-a541-482a-8be9-e35880e4e171"
      },
      "source": [
        "\n",
        "# Let's convert the uint8 image to 32 bit floats and rescale \n",
        "# the values to be centered around 0, between [-0.5, 0.5]. \n",
        "# \n",
        "# We again plot the image and histogram to check that we \n",
        "# haven't mangled the data.\n",
        "scaled = image.astype(numpy.float32)\n",
        "scaled = (scaled - (255 / 2.0)) / 255\n",
        "_, (ax1, ax2) = plt.subplots(1, 2)\n",
        "ax1.imshow(scaled.reshape(28, 28), cmap=plt.cm.Greys);\n",
        "ax2.hist(scaled, bins=20, range=[-0.5, 0.5]);\n"
      ],
      "execution_count": null,
      "outputs": [
        {
          "output_type": "display_data",
          "data": {
            "image/png": "[encoded data removed]",
            "text/plain": [
              "<Figure size 432x288 with 2 Axes>"
            ]
          },
          "metadata": {
            "tags": []
          }
        }
      ]
    },
    {
      "cell_type": "code",
      "metadata": {
        "id": "rkU5uezBQ8HB",
        "colab_type": "code",
        "colab": {
          "base_uri": "https://localhost:8080/",
          "height": 66
        },
        "outputId": "2d17553b-fb14-4da7-c221-11a6c76cdb87"
      },
      "source": [
        "\n",
        "with gzip.open(test_labels_filename) as f:\n",
        "    # Print the header fields.\n",
        "    for field in ['magic number', 'label count']:\n",
        "        print(field, struct.unpack('>i', f.read(4))[0])\n",
        "\n",
        "    print('First label:', struct.unpack('B', f.read(1))[0])\n"
      ],
      "execution_count": null,
      "outputs": [
        {
          "output_type": "stream",
          "text": [
            "magic number 2049\n",
            "label count 10000\n",
            "First label: 7\n"
          ],
          "name": "stdout"
        }
      ]
    },
    {
      "cell_type": "code",
      "metadata": {
        "id": "eQ34cblmRKPA",
        "colab_type": "code",
        "colab": {
          "base_uri": "https://localhost:8080/",
          "height": 50
        },
        "outputId": "57ea31f8-2e23-4684-c02c-ccc1621cb4f2"
      },
      "source": [
        "\n",
        "IMAGE_SIZE = 28\n",
        "PIXEL_DEPTH = 255\n",
        "\n",
        "def extract_data(filename, num_images):\n",
        "    \"\"\"Extract the images into a 4D tensor [image index, y, x, channels].\n",
        "  \n",
        "    For MNIST data, the number of channels is always 1.\n",
        "\n",
        "    Values are rescaled from [0, 255] down to [-0.5, 0.5].\n",
        "    \"\"\"\n",
        "    print('Extracting', filename)\n",
        "    with gzip.open(filename) as bytestream:\n",
        "        # Skip the magic number and dimensions; we know these values.\n",
        "        bytestream.read(16)\n",
        "\n",
        "        buf = bytestream.read(IMAGE_SIZE * IMAGE_SIZE * num_images)\n",
        "        data = numpy.frombuffer(buf, dtype=numpy.uint8).astype(numpy.float32)\n",
        "        data = (data - (PIXEL_DEPTH / 2.0)) / PIXEL_DEPTH\n",
        "        data = data.reshape(num_images, IMAGE_SIZE, IMAGE_SIZE, 1)\n",
        "        return data\n",
        "\n",
        "train_data = extract_data(train_data_filename, 60000)\n",
        "test_data = extract_data(test_data_filename, 10000)\n",
        "\n"
      ],
      "execution_count": null,
      "outputs": [
        {
          "output_type": "stream",
          "text": [
            "Extracting /tmp/mnist-data/train-images-idx3-ubyte.gz\n",
            "Extracting /tmp/mnist-data/t10k-images-idx3-ubyte.gz\n"
          ],
          "name": "stdout"
        }
      ]
    },
    {
      "cell_type": "code",
      "metadata": {
        "id": "UzHQFD5pRXJL",
        "colab_type": "code",
        "colab": {
          "base_uri": "https://localhost:8080/",
          "height": 217
        },
        "outputId": "a9b317d4-a482-49c8-f59b-21f00cafccab"
      },
      "source": [
        "\n",
        "print('Training data shape', train_data.shape)\n",
        "_, (ax1, ax2) = plt.subplots(1, 2)\n",
        "ax1.imshow(train_data[0].reshape(28, 28), cmap=plt.cm.Greys);\n",
        "ax2.imshow(train_data[1].reshape(28, 28), cmap=plt.cm.Greys);\n",
        "\n",
        "\n",
        "# Looks good. Now we know how to index our full set of training and test images.\n",
        "\n",
        "# ### Label data\n",
        "# \n",
        "# Let's move on to loading the full set of labels. As is typical in classification problems, we'll convert our input labels into a [1-hot](https://en.wikipedia.org/wiki/One-hot) encoding over a length 10 vector corresponding to 10 digits. The vector [0, 1, 0, 0, 0, 0, 0, 0, 0, 0], for example, would correspond to the digit 1.\n"
      ],
      "execution_count": null,
      "outputs": [
        {
          "output_type": "stream",
          "text": [
            "Training data shape (60000, 28, 28, 1)\n"
          ],
          "name": "stdout"
        },
        {
          "output_type": "display_data",
          "data": {
            "image/png": "[encoded data removed]",
            "text/plain": [
              "<Figure size 432x288 with 2 Axes>"
            ]
          },
          "metadata": {
            "tags": []
          }
        }
      ]
    },
    {
      "cell_type": "markdown",
      "metadata": {
        "id": "nRyAskEDrUJH",
        "colab_type": "text"
      },
      "source": [
        "## Split Data"
      ]
    },
    {
      "cell_type": "code",
      "metadata": {
        "id": "h_pu5QUbRrSq",
        "colab_type": "code",
        "colab": {
          "base_uri": "https://localhost:8080/",
          "height": 50
        },
        "outputId": "44a45ed7-3cfa-4f45-85d9-37979a28f9d8"
      },
      "source": [
        "\n",
        "\n",
        "NUM_LABELS = 10\n",
        "\n",
        "def extract_labels(filename, num_images):\n",
        "    \"\"\"Extract the labels into a 1-hot matrix [image index, label index].\"\"\"\n",
        "    print('Extracting', filename)\n",
        "    with gzip.open(filename) as bytestream:\n",
        "        # Skip the magic number and count; we know these values.\n",
        "        bytestream.read(8)\n",
        "        buf = bytestream.read(1 * num_images)\n",
        "        labels = numpy.frombuffer(buf, dtype=numpy.uint8)\n",
        "    # Convert to dense 1-hot representation.\n",
        "    return (numpy.arange(NUM_LABELS) == labels[:, None]).astype(numpy.float32)\n",
        "\n",
        "train_labels = extract_labels(train_labels_filename, 60000)\n",
        "test_labels = extract_labels(test_labels_filename, 10000)\n",
        "\n",
        "\n",
        "# As with our image data, we'll double-check that our 1-hot encoding of the first few values matches our expectations.\n"
      ],
      "execution_count": null,
      "outputs": [
        {
          "output_type": "stream",
          "text": [
            "Extracting /tmp/mnist-data/train-labels-idx1-ubyte.gz\n",
            "Extracting /tmp/mnist-data/t10k-labels-idx1-ubyte.gz\n"
          ],
          "name": "stdout"
        }
      ]
    },
    {
      "cell_type": "code",
      "metadata": {
        "id": "1J1qf1ULR28Z",
        "colab_type": "code",
        "colab": {
          "base_uri": "https://localhost:8080/",
          "height": 66
        },
        "outputId": "73a7ec3b-30f0-4f24-f5dc-a8e74d106aa8"
      },
      "source": [
        "\n",
        "\n",
        "print('Training labels shape', train_labels.shape)\n",
        "print('First label vector', train_labels[0])\n",
        "print('Second label vector', train_labels[1])\n",
        "\n",
        "\n",
        "# The 1-hot encoding looks reasonable.\n",
        "# \n",
        "# ### Segmenting data into training, test, and validation\n",
        "# \n",
        "# The final step in preparing our data is to split it into three sets: training, test, and validation. This isn't the format of the original data set, so we'll take a small slice of the training data and treat that as our validation set.\n"
      ],
      "execution_count": null,
      "outputs": [
        {
          "output_type": "stream",
          "text": [
            "Training labels shape (60000, 10)\n",
            "First label vector [0. 0. 0. 0. 0. 1. 0. 0. 0. 0.]\n",
            "Second label vector [1. 0. 0. 0. 0. 0. 0. 0. 0. 0.]\n"
          ],
          "name": "stdout"
        }
      ]
    },
    {
      "cell_type": "code",
      "metadata": {
        "id": "DN2_m6JsR79B",
        "colab_type": "code",
        "colab": {
          "base_uri": "https://localhost:8080/",
          "height": 50
        },
        "outputId": "6aea6abf-648c-401f-bfa8-c4ec9716831c"
      },
      "source": [
        "\n",
        "\n",
        "VALIDATION_SIZE = 5000\n",
        "\n",
        "validation_data = train_data[:VALIDATION_SIZE, :, :, :]\n",
        "validation_labels = train_labels[:VALIDATION_SIZE]\n",
        "train_data = train_data[VALIDATION_SIZE:, :, :, :]\n",
        "train_labels = train_labels[VALIDATION_SIZE:]\n",
        "\n",
        "train_size = train_labels.shape[0]\n",
        "\n",
        "print('Validation shape', validation_data.shape)\n",
        "print('Train size', train_size)\n",
        "\n"
      ],
      "execution_count": null,
      "outputs": [
        {
          "output_type": "stream",
          "text": [
            "Validation shape (5000, 28, 28, 1)\n",
            "Train size 50000\n"
          ],
          "name": "stdout"
        }
      ]
    },
    {
      "cell_type": "markdown",
      "metadata": {
        "id": "cHXH7lR2Rr_G",
        "colab_type": "text"
      },
      "source": [
        "# Neural Networks"
      ]
    },
    {
      "cell_type": "markdown",
      "metadata": {
        "id": "A2jEoNH1tG6s",
        "colab_type": "text"
      },
      "source": [
        "I will test out 3 different types of Neural Networks\n",
        "\n",
        "\n",
        "\n",
        "1.   List item\n",
        "2.   List item\n",
        "\n"
      ]
    },
    {
      "cell_type": "markdown",
      "metadata": {
        "id": "nnbbJO5mtdh0",
        "colab_type": "text"
      },
      "source": [
        "## TensorFlow DNN"
      ]
    },
    {
      "cell_type": "markdown",
      "metadata": {
        "id": "VdWVfUrXrY-w",
        "colab_type": "text"
      },
      "source": [
        "### Build Neural Network"
      ]
    },
    {
      "cell_type": "code",
      "metadata": {
        "id": "zRUJjQyWSKAX",
        "colab_type": "code",
        "colab": {}
      },
      "source": [
        "import tensorflow as tf\n",
        "\n",
        "# We'll bundle groups of examples during training for efficiency.\n",
        "# This defines the size of the batch.\n",
        "BATCH_SIZE = 60\n",
        "# We have only one channel in our grayscale images.\n",
        "NUM_CHANNELS = 1\n",
        "# The random seed that defines initialization.\n",
        "SEED = 42\n",
        "\n",
        "# This is where training samples and labels are fed to the graph.\n",
        "# These placeholder nodes will be fed a batch of training data at each\n",
        "# training step, which we'll write once we define the graph structure.\n",
        "train_data_node = tf.placeholder(\n",
        "  tf.float32, shape=(BATCH_SIZE, IMAGE_SIZE, IMAGE_SIZE, NUM_CHANNELS))\n",
        "\n",
        "train_labels_node = tf.placeholder(\n",
        "    tf.float32, shape=(BATCH_SIZE, NUM_LABELS))\n"
      ],
      "execution_count": null,
      "outputs": []
    },
    {
      "cell_type": "code",
      "metadata": {
        "id": "JXEUcMdlSj3c",
        "colab_type": "code",
        "colab": {}
      },
      "source": [
        "# For the validation and test data, we'll just hold the entire dataset in\n",
        "# one constant node.\n",
        "validation_data_node = tf.constant(validation_data)\n",
        "test_data_node = tf.constant(test_data)\n"
      ],
      "execution_count": null,
      "outputs": []
    },
    {
      "cell_type": "code",
      "metadata": {
        "id": "EM4BkzvBSm4f",
        "colab_type": "code",
        "colab": {
          "base_uri": "https://localhost:8080/",
          "height": 33
        },
        "outputId": "b0dc40d7-c11a-4901-cf47-21d5d5db1759"
      },
      "source": [
        "\n",
        "# The variables below hold all the trainable weights. For each, the\n",
        "# parameter defines how the variables will be initialized.\n",
        "conv1_weights = tf.Variable(\n",
        "  tf.truncated_normal([5, 5, NUM_CHANNELS, 32],  # 5x5 filter, depth 32.\n",
        "                      stddev=0.1,\n",
        "                      seed=SEED))\n",
        "conv1_biases = tf.Variable(tf.zeros([32]))\n",
        "conv2_weights = tf.Variable(\n",
        "  tf.truncated_normal([5, 5, 32, 64],\n",
        "                      stddev=0.1,\n",
        "                      seed=SEED))\n",
        "conv2_biases = tf.Variable(tf.constant(0.1, shape=[64]))\n",
        "fc1_weights = tf.Variable(  # fully connected, depth 512.\n",
        "  tf.truncated_normal([IMAGE_SIZE // 4 * IMAGE_SIZE // 4 * 64, 512],\n",
        "                      stddev=0.1,\n",
        "                      seed=SEED))\n",
        "fc1_biases = tf.Variable(tf.constant(0.1, shape=[512]))\n",
        "fc2_weights = tf.Variable(\n",
        "  tf.truncated_normal([512, NUM_LABELS],\n",
        "                      stddev=0.1,\n",
        "                      seed=SEED))\n",
        "fc2_biases = tf.Variable(tf.constant(0.1, shape=[NUM_LABELS]))\n",
        "\n",
        "print('Done')\n"
      ],
      "execution_count": null,
      "outputs": [
        {
          "output_type": "stream",
          "text": [
            "Done\n"
          ],
          "name": "stdout"
        }
      ]
    },
    {
      "cell_type": "markdown",
      "metadata": {
        "id": "FLH0vA4_rrww",
        "colab_type": "text"
      },
      "source": [
        "\n",
        "\n",
        "*   Relu Activation\n",
        "*   List item\n",
        "\n"
      ]
    },
    {
      "cell_type": "code",
      "metadata": {
        "id": "WKEMezo5Sy4b",
        "colab_type": "code",
        "colab": {
          "base_uri": "https://localhost:8080/",
          "height": 33
        },
        "outputId": "f5079e39-eda8-45e8-856e-469389553af1"
      },
      "source": [
        "\n",
        "def model(data, train=False):\n",
        "    \"\"\"The Model definition.\"\"\"\n",
        "    # 2D convolution, with 'SAME' padding (i.e. the output feature map has\n",
        "    # the same size as the input). Note that {strides} is a 4D array whose\n",
        "    # shape matches the data layout: [image index, y, x, depth].\n",
        "    conv = tf.nn.conv2d(data,\n",
        "                        conv1_weights,\n",
        "                        strides=[1, 1, 1, 1],\n",
        "                        padding='SAME')\n",
        "\n",
        "    # Bias and rectified linear non-linearity.\n",
        "    relu = tf.nn.relu(tf.nn.bias_add(conv, conv1_biases))\n",
        "\n",
        "    # Max pooling. The kernel size spec ksize also follows the layout of\n",
        "    # the data. Here we have a pooling window of 2, and a stride of 2.\n",
        "    pool = tf.nn.max_pool(relu,\n",
        "                          ksize=[1, 2, 2, 1],\n",
        "                          strides=[1, 2, 2, 1],\n",
        "                          padding='SAME')\n",
        "    conv = tf.nn.conv2d(pool,\n",
        "                        conv2_weights,\n",
        "                        strides=[1, 1, 1, 1],\n",
        "                        padding='SAME')\n",
        "    relu = tf.nn.relu(tf.nn.bias_add(conv, conv2_biases))\n",
        "    pool = tf.nn.max_pool(relu,\n",
        "                          ksize=[1, 2, 2, 1],\n",
        "                          strides=[1, 2, 2, 1],\n",
        "                          padding='SAME')\n",
        "\n",
        "    # Reshape the feature map cuboid into a 2D matrix to feed it to the\n",
        "    # fully connected layers.\n",
        "    pool_shape = pool.get_shape().as_list()\n",
        "    reshape = tf.reshape(\n",
        "        pool,\n",
        "        [pool_shape[0], pool_shape[1] * pool_shape[2] * pool_shape[3]])\n",
        "  \n",
        "    # Fully connected layer. Note that the '+' operation automatically\n",
        "    # broadcasts the biases.\n",
        "    hidden = tf.nn.relu(tf.matmul(reshape, fc1_weights) + fc1_biases)\n",
        "\n",
        "    # Add a 50% dropout during training only. Dropout also scales\n",
        "    # activations such that no rescaling is needed at evaluation time.\n",
        "    if train:\n",
        "        hidden = tf.nn.dropout(hidden, 0.5, seed=SEED)\n",
        "    return tf.matmul(hidden, fc2_weights) + fc2_biases\n",
        "\n",
        "print('Done')"
      ],
      "execution_count": null,
      "outputs": [
        {
          "output_type": "stream",
          "text": [
            "Done\n"
          ],
          "name": "stdout"
        }
      ]
    },
    {
      "cell_type": "code",
      "metadata": {
        "id": "s0G4eaBvS0X4",
        "colab_type": "code",
        "colab": {}
      },
      "source": [
        "\n",
        "# Having defined the basic structure of the graph, we're ready to stamp out multiple copies for training, testing, and validation.\n",
        "# \n",
        "# Here, we'll do some customizations depending on which graph we're constructing. `train_prediction` holds the training graph, for which we use cross-entropy loss and weight regularization. We'll adjust the learning rate during training -- that's handled by the `exponential_decay` operation, which is itself an argument to the `MomentumOptimizer` that performs the actual training.\n",
        "# \n",
        "# The vaildation and prediction graphs are much simpler the generate -- we need only create copies of the model with the validation and test inputs and a softmax classifier as the output.\n",
        "\n",
        "\n",
        "\n",
        "# Training computation: logits + cross-entropy loss.\n",
        "logits = model(train_data_node, True)\n",
        "loss = tf.reduce_mean(tf.nn.softmax_cross_entropy_with_logits(\n",
        "  labels=train_labels_node, logits=logits))\n",
        "\n",
        "# L2 regularization for the fully connected parameters.\n",
        "regularizers = (tf.nn.l2_loss(fc1_weights) + tf.nn.l2_loss(fc1_biases) +\n",
        "                tf.nn.l2_loss(fc2_weights) + tf.nn.l2_loss(fc2_biases))\n",
        "# Add the regularization term to the loss.\n",
        "loss += 5e-4 * regularizers\n",
        "\n",
        "# Optimizer: set up a variable that's incremented once per batch and\n",
        "# controls the learning rate decay.\n",
        "batch = tf.Variable(0)\n",
        "# Decay once per epoch, using an exponential schedule starting at 0.01.\n",
        "learning_rate = tf.train.exponential_decay(\n",
        "  0.01,                # Base learning rate.\n",
        "  batch * BATCH_SIZE,  # Current index into the dataset.\n",
        "  train_size,          # Decay step.\n",
        "  0.95,                # Decay rate.\n",
        "  staircase=True)\n",
        "# Use simple momentum for the optimization.\n",
        "optimizer = tf.train.MomentumOptimizer(learning_rate,\n",
        "                                       0.9).minimize(loss,\n",
        "                                                     global_step=batch)\n",
        "\n",
        "# Predictions for the minibatch, validation set and test set.\n",
        "train_prediction = tf.nn.softmax(logits)\n",
        "# We'll compute them only once in a while by calling their {eval()} method.\n",
        "validation_prediction = tf.nn.softmax(model(validation_data_node))\n",
        "test_prediction = tf.nn.softmax(model(test_data_node))\n",
        "\n",
        "print('Done')"
      ],
      "execution_count": null,
      "outputs": []
    },
    {
      "cell_type": "code",
      "metadata": {
        "id": "b7soATPiTM4C",
        "colab_type": "code",
        "colab": {}
      },
      "source": [
        "\n",
        "# Create a new interactive session that we'll use in\n",
        "# subsequent code cells.\n",
        "s = tf.InteractiveSession()\n",
        "\n",
        "# Use our newly created session as the default for \n",
        "# subsequent operations.\n",
        "s.as_default()\n",
        "\n",
        "# Initialize all the variables we defined above.\n",
        "tf.global_variables_initializer().run()\n",
        "\n",
        "\n",
        "# Now we're ready to perform operations on the graph. Let's start with one round of training. We're going to organize our training steps into batches for efficiency; i.e., training using a small set of examples at each step rather than a single example.\n"
      ],
      "execution_count": null,
      "outputs": []
    },
    {
      "cell_type": "code",
      "metadata": {
        "id": "8hV_pu5cTZ57",
        "colab_type": "code",
        "colab": {
          "base_uri": "https://localhost:8080/",
          "height": 33
        },
        "outputId": "3e393ffb-7c96-4d8a-e270-3fae204083f1"
      },
      "source": [
        "\n",
        "\n",
        "BATCH_SIZE = 60\n",
        "\n",
        "# Grab the first BATCH_SIZE examples and labels.\n",
        "batch_data = train_data[:BATCH_SIZE, :, :, :]\n",
        "batch_labels = train_labels[:BATCH_SIZE]\n",
        "\n",
        "# This dictionary maps the batch data (as a numpy array) to the\n",
        "# node in the graph it should be fed to.\n",
        "feed_dict = {train_data_node: batch_data,\n",
        "             train_labels_node: batch_labels}\n",
        "\n",
        "# Run the graph and fetch some of the nodes.\n",
        "_, l, lr, predictions = s.run(\n",
        "  [optimizer, loss, learning_rate, train_prediction],\n",
        "  feed_dict=feed_dict)\n",
        "\n",
        "print('Done')"
      ],
      "execution_count": null,
      "outputs": [
        {
          "output_type": "stream",
          "text": [
            "Done\n"
          ],
          "name": "stdout"
        }
      ]
    },
    {
      "cell_type": "code",
      "metadata": {
        "id": "mNsTWmCRTdvf",
        "colab_type": "code",
        "colab": {
          "base_uri": "https://localhost:8080/",
          "height": 50
        },
        "outputId": "b8637636-2d3d-47c0-954a-9b6e785d0c7d"
      },
      "source": [
        "\n",
        "print(predictions[0])\n"
      ],
      "execution_count": null,
      "outputs": [
        {
          "output_type": "stream",
          "text": [
            "[6.4470652e-05 3.5312430e-06 4.6149725e-03 3.5228557e-05 3.7312397e-01\n",
            " 4.1718615e-04 5.9920108e-06 1.7964175e-04 1.4388385e-04 6.2141114e-01]\n"
          ],
          "name": "stdout"
        }
      ]
    },
    {
      "cell_type": "code",
      "metadata": {
        "id": "bOXSl23jTd25",
        "colab_type": "code",
        "colab": {
          "base_uri": "https://localhost:8080/",
          "height": 82
        },
        "outputId": "cec1ef71-3265-49e3-d71f-203ec330a903"
      },
      "source": [
        "\n",
        "# The highest probability in the first entry.\n",
        "print('First prediction', numpy.argmax(predictions[0]))\n",
        "\n",
        "# But, predictions is actually a list of BATCH_SIZE probability vectors.\n",
        "print(predictions.shape)\n",
        "\n",
        "# So, we'll take the highest probability for each vector.\n",
        "print('All predictions', numpy.argmax(predictions, 1))\n"
      ],
      "execution_count": null,
      "outputs": [
        {
          "output_type": "stream",
          "text": [
            "First prediction 9\n",
            "(60, 10)\n",
            "All predictions [9 4 2 7 7 7 8 7 7 9 7 7 7 4 4 9 7 7 3 2 4 0 7 9 7 4 7 4 7 4 1 7 7 0 4 7 9\n",
            " 4 7 9 0 7 7 7 2 7 0 7 2 9 9 9 9 0 0 0 9 4 3 7]\n"
          ],
          "name": "stdout"
        }
      ]
    },
    {
      "cell_type": "code",
      "metadata": {
        "id": "sWIdOcEpTtoS",
        "colab_type": "code",
        "colab": {
          "base_uri": "https://localhost:8080/",
          "height": 50
        },
        "outputId": "f34df688-0d59-4043-b974-421101dfb9e7"
      },
      "source": [
        "\n",
        "print('Batch labels', numpy.argmax(batch_labels, 1))\n",
        "\n",
        "\n",
        "# Now we can compare the predicted and label classes to compute the error rate and confusion matrix for this batch.\n"
      ],
      "execution_count": null,
      "outputs": [
        {
          "output_type": "stream",
          "text": [
            "Batch labels [3 8 7 9 9 0 1 1 5 2 0 3 8 4 7 5 2 6 4 7 1 8 0 9 2 0 0 1 9 2 5 3 6 4 3 5 6\n",
            " 6 9 7 1 8 3 9 6 0 7 9 1 5 7 5 3 6 8 9 5 8 1 9]\n"
          ],
          "name": "stdout"
        }
      ]
    },
    {
      "cell_type": "code",
      "metadata": {
        "id": "lD1xzKuMTd5j",
        "colab_type": "code",
        "colab": {
          "base_uri": "https://localhost:8080/",
          "height": 281
        },
        "outputId": "62b86bd7-0419-4446-a626-ff7ce0bdb4d1"
      },
      "source": [
        "\n",
        "correct = numpy.sum(numpy.argmax(predictions, 1) == numpy.argmax(batch_labels, 1))\n",
        "total = predictions.shape[0]\n",
        "\n",
        "print(float(correct) / float(total))\n",
        "\n",
        "confusions = numpy.zeros([10, 10], numpy.float32)\n",
        "bundled = zip(numpy.argmax(predictions, 1), numpy.argmax(batch_labels, 1))\n",
        "for predicted, actual in bundled:\n",
        "  confusions[predicted, actual] += 1\n",
        "\n",
        "plt.grid(False)\n",
        "plt.xticks(numpy.arange(NUM_LABELS))\n",
        "plt.yticks(numpy.arange(NUM_LABELS))\n",
        "plt.imshow(confusions, cmap=plt.cm.jet, interpolation='nearest');\n",
        "\n",
        "\n",
        "# Now let's wrap this up into our scoring function."
      ],
      "execution_count": null,
      "outputs": [
        {
          "output_type": "stream",
          "text": [
            "0.03333333333333333\n"
          ],
          "name": "stdout"
        },
        {
          "output_type": "display_data",
          "data": {
            "image/png": "[encoded data removed]",
            "text/plain": [
              "<Figure size 432x288 with 1 Axes>"
            ]
          },
          "metadata": {
            "tags": []
          }
        }
      ]
    },
    {
      "cell_type": "code",
      "metadata": {
        "id": "kc9yg7SxT523",
        "colab_type": "code",
        "colab": {
          "base_uri": "https://localhost:8080/",
          "height": 33
        },
        "outputId": "f97f91ba-93af-4d70-df4d-16fcaf13b44c"
      },
      "source": [
        "\n",
        "def error_rate(predictions, labels):\n",
        "    \"\"\"Return the error rate and confusions.\"\"\"\n",
        "    correct = numpy.sum(numpy.argmax(predictions, 1) == numpy.argmax(labels, 1))\n",
        "    total = predictions.shape[0]\n",
        "\n",
        "    error = 100.0 - (100 * float(correct) / float(total))\n",
        "\n",
        "    confusions = numpy.zeros([10, 10], numpy.float32)\n",
        "    bundled = zip(numpy.argmax(predictions, 1), numpy.argmax(labels, 1))\n",
        "    for predicted, actual in bundled:\n",
        "        confusions[predicted, actual] += 1\n",
        "    \n",
        "    return error, confusions\n",
        "\n",
        "print('Done')"
      ],
      "execution_count": null,
      "outputs": [
        {
          "output_type": "stream",
          "text": [
            "Done\n"
          ],
          "name": "stdout"
        }
      ]
    },
    {
      "cell_type": "markdown",
      "metadata": {
        "id": "Pb6TrKNxsROI",
        "colab_type": "text"
      },
      "source": [
        "### Train Model"
      ]
    },
    {
      "cell_type": "code",
      "metadata": {
        "id": "lBIfYLdVT8kN",
        "colab_type": "code",
        "colab": {
          "base_uri": "https://localhost:8080/",
          "height": 488
        },
        "outputId": "6082212a-3a2b-4ce7-ebf1-cf5327a812fb"
      },
      "source": [
        "# start timer\n",
        "start = datetime.now()\n",
        "\n",
        "\n",
        "# We'll need to train for some time to actually see useful predicted values. Let's define a loop that will go through our data. We'll print the loss and error periodically.\n",
        "# \n",
        "# Here, we want to iterate over the entire data set rather than just the first batch, so we'll need to slice the data to that end.\n",
        "# \n",
        "# (One pass through our training set will take some time on a CPU, so be patient if you are executing this notebook.)\n",
        "\n",
        "# Train over the first 1/4th of our training set.\n",
        "steps = train_size // BATCH_SIZE\n",
        "for step in range(steps):\n",
        "    # Compute the offset of the current minibatch in the data.\n",
        "    # Note that we could use better randomization across epochs.\n",
        "    offset = (step * BATCH_SIZE) % (train_size - BATCH_SIZE)\n",
        "    batch_data = train_data[offset:(offset + BATCH_SIZE), :, :, :]\n",
        "    batch_labels = train_labels[offset:(offset + BATCH_SIZE)]\n",
        "    # This dictionary maps the batch data (as a numpy array) to the\n",
        "    # node in the graph it should be fed to.\n",
        "    feed_dict = {train_data_node: batch_data,\n",
        "                 train_labels_node: batch_labels}\n",
        "    # Run the graph and fetch some of the nodes.\n",
        "    _, l, lr, predictions = s.run(\n",
        "      [optimizer, loss, learning_rate, train_prediction],\n",
        "      feed_dict=feed_dict)\n",
        "    \n",
        "    # Print out the loss periodically.\n",
        "    if step % 100 == 0:\n",
        "        error, _ = error_rate(predictions, batch_labels)\n",
        "        print('Step %d of %d' % (step, steps))\n",
        "        print('Mini-batch loss: %.5f Error: %.5f Learning rate: %.5f' % (l, error, lr))\n",
        "        print('Validation error: %.1f%%' % error_rate(\n",
        "              validation_prediction.eval(), validation_labels)[0])\n",
        "\n",
        "\n",
        "# The error seems to have gone down. Let's evaluate the results using the test set.\n",
        "# \n",
        "# To help identify rare mispredictions, we'll include the raw count of each (prediction, label) pair in the confusion matrix.\n",
        "\n",
        "\n",
        "# end time for everything\n",
        "end = datetime.now()\n",
        "\n",
        "# print timing\n",
        "print(\"\\nTraining Time = {}\".format(end - start))\n"
      ],
      "execution_count": null,
      "outputs": [
        {
          "output_type": "stream",
          "text": [
            "Step 0 of 833\n",
            "Mini-batch loss: 3.02015 Error: 3.33333 Learning rate: 0.00950\n",
            "Validation error: 2.5%\n",
            "Step 100 of 833\n",
            "Mini-batch loss: 2.95736 Error: 5.00000 Learning rate: 0.00950\n",
            "Validation error: 2.4%\n",
            "Step 200 of 833\n",
            "Mini-batch loss: 2.83340 Error: 0.00000 Learning rate: 0.00950\n",
            "Validation error: 2.1%\n",
            "Step 300 of 833\n",
            "Mini-batch loss: 2.83317 Error: 1.66667 Learning rate: 0.00950\n",
            "Validation error: 2.5%\n",
            "Step 400 of 833\n",
            "Mini-batch loss: 2.85592 Error: 3.33333 Learning rate: 0.00950\n",
            "Validation error: 2.2%\n",
            "Step 500 of 833\n",
            "Mini-batch loss: 2.78945 Error: 1.66667 Learning rate: 0.00950\n",
            "Validation error: 2.0%\n",
            "Step 600 of 833\n",
            "Mini-batch loss: 2.75050 Error: 1.66667 Learning rate: 0.00950\n",
            "Validation error: 2.0%\n",
            "Step 700 of 833\n",
            "Mini-batch loss: 2.71311 Error: 1.66667 Learning rate: 0.00950\n",
            "Validation error: 2.0%\n",
            "Step 800 of 833\n",
            "Mini-batch loss: 2.73619 Error: 1.66667 Learning rate: 0.00950\n",
            "Validation error: 2.1%\n",
            "\n",
            "Training Time = 0:02:56.716146\n"
          ],
          "name": "stdout"
        }
      ]
    },
    {
      "cell_type": "markdown",
      "metadata": {
        "id": "WUywYB9ptVPn",
        "colab_type": "text"
      },
      "source": [
        "### Results"
      ]
    },
    {
      "cell_type": "code",
      "metadata": {
        "id": "_CqdpSOnwKCJ",
        "colab_type": "code",
        "colab": {
          "base_uri": "https://localhost:8080/",
          "height": 33
        },
        "outputId": "175fd37a-6c11-4cc0-8ef4-9ab3abbd8163"
      },
      "source": [
        "print(test_error)"
      ],
      "execution_count": null,
      "outputs": [
        {
          "output_type": "stream",
          "text": [
            "1.9200000000000017\n"
          ],
          "name": "stdout"
        }
      ]
    },
    {
      "cell_type": "markdown",
      "metadata": {
        "id": "Qo3IY1KcvCqG",
        "colab_type": "text"
      },
      "source": [
        "## Basic Neural Network"
      ]
    },
    {
      "cell_type": "markdown",
      "metadata": {
        "id": "oOEB5uc-ziEE",
        "colab_type": "text"
      },
      "source": [
        "### Load Data"
      ]
    },
    {
      "cell_type": "code",
      "metadata": {
        "id": "Aj_WTwBWzcKh",
        "colab_type": "code",
        "colab": {
          "base_uri": "https://localhost:8080/",
          "height": 66
        },
        "outputId": "42a5b501-5368-43f8-8a14-174868c0d5d4"
      },
      "source": [
        "import tensorflow as tf\n",
        "from keras.datasets import mnist\n",
        "\n",
        "# load data\n",
        "(x_train,y_train),(x_test,y_test) = mnist.load_data()"
      ],
      "execution_count": null,
      "outputs": [
        {
          "output_type": "stream",
          "text": [
            "Using TensorFlow backend.\n"
          ],
          "name": "stderr"
        },
        {
          "output_type": "stream",
          "text": [
            "Downloading data from https://s3.amazonaws.com/img-datasets/mnist.npz\n",
            "11493376/11490434 [==============================] - 0s 0us/step\n"
          ],
          "name": "stdout"
        }
      ]
    },
    {
      "cell_type": "code",
      "metadata": {
        "id": "ekla4KTmvEH9",
        "colab_type": "code",
        "colab": {}
      },
      "source": [
        "# set up model\n",
        "feature_columns = tf.contrib.learn.infer_real_valued_columns_from_input(x_train)\n",
        "dnn_clf = tf.contrib.learn.DNNClassifier(hidden_units=[300, 100], n_classes=10,\n",
        "                                             feature_columns=feature_columns)\n",
        "\n",
        "\n",
        "y_train = y_train.astype('int64')\n",
        "y_test = y_test.astype('int64')"
      ],
      "execution_count": null,
      "outputs": []
    },
    {
      "cell_type": "markdown",
      "metadata": {
        "id": "FRAG3hVvzmWY",
        "colab_type": "text"
      },
      "source": [
        "### Train Model"
      ]
    },
    {
      "cell_type": "code",
      "metadata": {
        "id": "0s6OidQcvgqH",
        "colab_type": "code",
        "colab": {
          "base_uri": "https://localhost:8080/",
          "height": 13801
        },
        "outputId": "9028398f-f1fa-421b-99c0-e67f36ef5709"
      },
      "source": [
        "# start timer\n",
        "start = datetime.now()\n",
        "\n",
        "# train model\n",
        "dnn_clf.fit(x = x_train, y = y_train, batch_size = 50, steps = 40000)\n",
        "\n",
        "# end time for everything\n",
        "end = datetime.now()\n",
        "\n",
        "# print timing\n",
        "print(\"\\nTraining Time = {}\".format(end - start))"
      ],
      "execution_count": null,
      "outputs": [
        {
          "output_type": "stream",
          "text": [
            "WARNING:tensorflow:From <ipython-input-8-13881b1d7113>:4: calling BaseEstimator.fit (from tensorflow.contrib.learn.python.learn.estimators.estimator) with x is deprecated and will be removed after 2016-12-01.\n",
            "Instructions for updating:\n",
            "Estimator is decoupled from Scikit Learn interface by moving into\n",
            "separate class SKCompat. Arguments x, y and batch_size are only\n",
            "available in the SKCompat class, Estimator will only accept input_fn.\n",
            "Example conversion:\n",
            "  est = Estimator(...) -> est = SKCompat(Estimator(...))\n",
            "WARNING:tensorflow:From <ipython-input-8-13881b1d7113>:4: calling BaseEstimator.fit (from tensorflow.contrib.learn.python.learn.estimators.estimator) with y is deprecated and will be removed after 2016-12-01.\n",
            "Instructions for updating:\n",
            "Estimator is decoupled from Scikit Learn interface by moving into\n",
            "separate class SKCompat. Arguments x, y and batch_size are only\n",
            "available in the SKCompat class, Estimator will only accept input_fn.\n",
            "Example conversion:\n",
            "  est = Estimator(...) -> est = SKCompat(Estimator(...))\n",
            "WARNING:tensorflow:From <ipython-input-8-13881b1d7113>:4: calling BaseEstimator.fit (from tensorflow.contrib.learn.python.learn.estimators.estimator) with batch_size is deprecated and will be removed after 2016-12-01.\n",
            "Instructions for updating:\n",
            "Estimator is decoupled from Scikit Learn interface by moving into\n",
            "separate class SKCompat. Arguments x, y and batch_size are only\n",
            "available in the SKCompat class, Estimator will only accept input_fn.\n",
            "Example conversion:\n",
            "  est = Estimator(...) -> est = SKCompat(Estimator(...))\n",
            "WARNING:tensorflow:From /usr/local/lib/python3.6/dist-packages/tensorflow/contrib/learn/python/learn/estimators/estimator.py:508: SKCompat.__init__ (from tensorflow.contrib.learn.python.learn.estimators.estimator) is deprecated and will be removed in a future version.\n",
            "Instructions for updating:\n",
            "Please switch to the Estimator interface.\n",
            "WARNING:tensorflow:From /usr/local/lib/python3.6/dist-packages/tensorflow/contrib/learn/python/learn/learn_io/data_feeder.py:98: extract_dask_labels (from tensorflow.contrib.learn.python.learn.learn_io.dask_io) is deprecated and will be removed in a future version.\n",
            "Instructions for updating:\n",
            "Please feed input to tf.data to support dask.\n",
            "WARNING:tensorflow:From /usr/local/lib/python3.6/dist-packages/tensorflow/contrib/learn/python/learn/learn_io/data_feeder.py:102: extract_pandas_labels (from tensorflow.contrib.learn.python.learn.learn_io.pandas_io) is deprecated and will be removed in a future version.\n",
            "Instructions for updating:\n",
            "Please access pandas data directly.\n",
            "WARNING:tensorflow:From /usr/local/lib/python3.6/dist-packages/tensorflow/python/framework/op_def_library.py:263: colocate_with (from tensorflow.python.framework.ops) is deprecated and will be removed in a future version.\n",
            "Instructions for updating:\n",
            "Colocations handled automatically by placer.\n",
            "WARNING:tensorflow:From /usr/local/lib/python3.6/dist-packages/tensorflow/contrib/layers/python/layers/feature_column.py:1874: to_float (from tensorflow.python.ops.math_ops) is deprecated and will be removed in a future version.\n",
            "Instructions for updating:\n",
            "Use tf.cast instead.\n",
            "WARNING:tensorflow:From /usr/local/lib/python3.6/dist-packages/tensorflow/contrib/learn/python/learn/estimators/head.py:677: ModelFnOps.__new__ (from tensorflow.contrib.learn.python.learn.estimators.model_fn) is deprecated and will be removed in a future version.\n",
            "Instructions for updating:\n",
            "When switching to tf.estimator.Estimator, use tf.estimator.EstimatorSpec. You can use the `estimator_spec` method to create an equivalent one.\n",
            "INFO:tensorflow:Create CheckpointSaverHook.\n",
            "INFO:tensorflow:Graph was finalized.\n",
            "INFO:tensorflow:Running local_init_op.\n",
            "INFO:tensorflow:Done running local_init_op.\n",
            "INFO:tensorflow:Saving checkpoints for 0 into /tmp/tmp1ao_uxgb/model.ckpt.\n",
            "INFO:tensorflow:loss = 171.84549, step = 1\n",
            "INFO:tensorflow:global_step/sec: 237.963\n",
            "INFO:tensorflow:loss = 1.3184097, step = 101 (0.422 sec)\n",
            "INFO:tensorflow:global_step/sec: 241.401\n",
            "INFO:tensorflow:loss = 0.9594852, step = 201 (0.415 sec)\n",
            "INFO:tensorflow:global_step/sec: 258.841\n",
            "INFO:tensorflow:loss = 1.4998163, step = 301 (0.386 sec)\n",
            "INFO:tensorflow:global_step/sec: 243.101\n",
            "INFO:tensorflow:loss = 0.89618105, step = 401 (0.411 sec)\n",
            "INFO:tensorflow:global_step/sec: 245.056\n",
            "INFO:tensorflow:loss = 0.94875234, step = 501 (0.408 sec)\n",
            "INFO:tensorflow:global_step/sec: 240.553\n",
            "INFO:tensorflow:loss = 0.6564656, step = 601 (0.416 sec)\n",
            "INFO:tensorflow:global_step/sec: 233.367\n",
            "INFO:tensorflow:loss = 0.4999185, step = 701 (0.428 sec)\n",
            "INFO:tensorflow:global_step/sec: 241.409\n",
            "INFO:tensorflow:loss = 0.75034964, step = 801 (0.414 sec)\n",
            "INFO:tensorflow:global_step/sec: 241.899\n",
            "INFO:tensorflow:loss = 0.6816992, step = 901 (0.414 sec)\n",
            "INFO:tensorflow:global_step/sec: 228.404\n",
            "INFO:tensorflow:loss = 0.44637343, step = 1001 (0.441 sec)\n",
            "INFO:tensorflow:global_step/sec: 243.077\n",
            "INFO:tensorflow:loss = 1.1156814, step = 1101 (0.413 sec)\n",
            "INFO:tensorflow:global_step/sec: 231.5\n",
            "INFO:tensorflow:loss = 0.4562084, step = 1201 (0.430 sec)\n",
            "INFO:tensorflow:global_step/sec: 236.085\n",
            "INFO:tensorflow:loss = 0.5437898, step = 1301 (0.422 sec)\n",
            "INFO:tensorflow:global_step/sec: 245.998\n",
            "INFO:tensorflow:loss = 0.6131974, step = 1401 (0.406 sec)\n",
            "INFO:tensorflow:global_step/sec: 236.605\n",
            "INFO:tensorflow:loss = 0.5812582, step = 1501 (0.423 sec)\n",
            "INFO:tensorflow:global_step/sec: 225.658\n",
            "INFO:tensorflow:loss = 0.52630985, step = 1601 (0.443 sec)\n",
            "INFO:tensorflow:global_step/sec: 234.088\n",
            "INFO:tensorflow:loss = 0.8315419, step = 1701 (0.427 sec)\n",
            "INFO:tensorflow:global_step/sec: 245.546\n",
            "INFO:tensorflow:loss = 0.6447301, step = 1801 (0.407 sec)\n",
            "INFO:tensorflow:global_step/sec: 223.94\n",
            "INFO:tensorflow:loss = 0.24586384, step = 1901 (0.447 sec)\n",
            "INFO:tensorflow:global_step/sec: 241.497\n",
            "INFO:tensorflow:loss = 0.33816433, step = 2001 (0.414 sec)\n",
            "INFO:tensorflow:global_step/sec: 245.345\n",
            "INFO:tensorflow:loss = 0.4087189, step = 2101 (0.408 sec)\n",
            "INFO:tensorflow:global_step/sec: 241.384\n",
            "INFO:tensorflow:loss = 0.27818397, step = 2201 (0.414 sec)\n",
            "INFO:tensorflow:global_step/sec: 246.749\n",
            "INFO:tensorflow:loss = 0.51749486, step = 2301 (0.406 sec)\n",
            "INFO:tensorflow:global_step/sec: 243.539\n",
            "INFO:tensorflow:loss = 0.13406578, step = 2401 (0.412 sec)\n",
            "INFO:tensorflow:global_step/sec: 247.45\n",
            "INFO:tensorflow:loss = 0.35307738, step = 2501 (0.402 sec)\n",
            "INFO:tensorflow:global_step/sec: 231.622\n",
            "INFO:tensorflow:loss = 0.34055173, step = 2601 (0.437 sec)\n",
            "INFO:tensorflow:global_step/sec: 239.385\n",
            "INFO:tensorflow:loss = 0.35140893, step = 2701 (0.413 sec)\n",
            "INFO:tensorflow:global_step/sec: 241.699\n",
            "INFO:tensorflow:loss = 0.2700674, step = 2801 (0.414 sec)\n",
            "INFO:tensorflow:global_step/sec: 244.93\n",
            "INFO:tensorflow:loss = 0.31195086, step = 2901 (0.409 sec)\n",
            "INFO:tensorflow:global_step/sec: 246.438\n",
            "INFO:tensorflow:loss = 0.10263587, step = 3001 (0.406 sec)\n",
            "INFO:tensorflow:global_step/sec: 244.379\n",
            "INFO:tensorflow:loss = 0.31152394, step = 3101 (0.408 sec)\n",
            "INFO:tensorflow:global_step/sec: 238.032\n",
            "INFO:tensorflow:loss = 0.31989646, step = 3201 (0.420 sec)\n",
            "INFO:tensorflow:global_step/sec: 241.818\n",
            "INFO:tensorflow:loss = 0.16931196, step = 3301 (0.413 sec)\n",
            "INFO:tensorflow:global_step/sec: 242.186\n",
            "INFO:tensorflow:loss = 0.21335842, step = 3401 (0.413 sec)\n",
            "INFO:tensorflow:global_step/sec: 262.82\n",
            "INFO:tensorflow:loss = 0.27656478, step = 3501 (0.380 sec)\n",
            "INFO:tensorflow:global_step/sec: 245.595\n",
            "INFO:tensorflow:loss = 0.42808038, step = 3601 (0.407 sec)\n",
            "INFO:tensorflow:global_step/sec: 244.622\n",
            "INFO:tensorflow:loss = 0.505042, step = 3701 (0.409 sec)\n",
            "INFO:tensorflow:global_step/sec: 218.472\n",
            "INFO:tensorflow:loss = 0.46760654, step = 3801 (0.458 sec)\n",
            "INFO:tensorflow:global_step/sec: 236.407\n",
            "INFO:tensorflow:loss = 0.48306844, step = 3901 (0.423 sec)\n",
            "INFO:tensorflow:global_step/sec: 252.309\n",
            "INFO:tensorflow:loss = 0.3565347, step = 4001 (0.396 sec)\n",
            "INFO:tensorflow:global_step/sec: 246.243\n",
            "INFO:tensorflow:loss = 0.18972051, step = 4101 (0.406 sec)\n",
            "INFO:tensorflow:global_step/sec: 242.251\n",
            "INFO:tensorflow:loss = 0.119254224, step = 4201 (0.413 sec)\n",
            "INFO:tensorflow:global_step/sec: 233.149\n",
            "INFO:tensorflow:loss = 0.38390797, step = 4301 (0.432 sec)\n",
            "INFO:tensorflow:global_step/sec: 247.412\n",
            "INFO:tensorflow:loss = 0.27350605, step = 4401 (0.401 sec)\n",
            "INFO:tensorflow:global_step/sec: 252.702\n",
            "INFO:tensorflow:loss = 0.23058088, step = 4501 (0.397 sec)\n",
            "INFO:tensorflow:global_step/sec: 238.395\n",
            "INFO:tensorflow:loss = 0.18149285, step = 4601 (0.418 sec)\n",
            "INFO:tensorflow:global_step/sec: 243.376\n",
            "INFO:tensorflow:loss = 0.27212512, step = 4701 (0.412 sec)\n",
            "INFO:tensorflow:global_step/sec: 221.575\n",
            "INFO:tensorflow:loss = 0.052940134, step = 4801 (0.451 sec)\n",
            "INFO:tensorflow:global_step/sec: 242.652\n",
            "INFO:tensorflow:loss = 0.7013004, step = 4901 (0.412 sec)\n",
            "INFO:tensorflow:global_step/sec: 239.892\n",
            "INFO:tensorflow:loss = 0.20647196, step = 5001 (0.417 sec)\n",
            "INFO:tensorflow:global_step/sec: 242.557\n",
            "INFO:tensorflow:loss = 0.29740387, step = 5101 (0.412 sec)\n",
            "INFO:tensorflow:global_step/sec: 236.675\n",
            "INFO:tensorflow:loss = 0.24861881, step = 5201 (0.422 sec)\n",
            "INFO:tensorflow:global_step/sec: 241.036\n",
            "INFO:tensorflow:loss = 0.23037201, step = 5301 (0.419 sec)\n",
            "INFO:tensorflow:global_step/sec: 253.873\n",
            "INFO:tensorflow:loss = 0.23526607, step = 5401 (0.391 sec)\n",
            "INFO:tensorflow:global_step/sec: 254.452\n",
            "INFO:tensorflow:loss = 0.28451565, step = 5501 (0.392 sec)\n",
            "INFO:tensorflow:global_step/sec: 246.587\n",
            "INFO:tensorflow:loss = 0.24950218, step = 5601 (0.405 sec)\n",
            "INFO:tensorflow:global_step/sec: 249.36\n",
            "INFO:tensorflow:loss = 0.11223983, step = 5701 (0.401 sec)\n",
            "INFO:tensorflow:global_step/sec: 262.626\n",
            "INFO:tensorflow:loss = 0.47713792, step = 5801 (0.381 sec)\n",
            "INFO:tensorflow:global_step/sec: 253.12\n",
            "INFO:tensorflow:loss = 0.30340734, step = 5901 (0.395 sec)\n",
            "INFO:tensorflow:global_step/sec: 240.212\n",
            "INFO:tensorflow:loss = 0.23195061, step = 6001 (0.417 sec)\n",
            "INFO:tensorflow:global_step/sec: 254.33\n",
            "INFO:tensorflow:loss = 0.2081552, step = 6101 (0.393 sec)\n",
            "INFO:tensorflow:global_step/sec: 251.11\n",
            "INFO:tensorflow:loss = 0.143659, step = 6201 (0.398 sec)\n",
            "INFO:tensorflow:global_step/sec: 247.214\n",
            "INFO:tensorflow:loss = 0.34827718, step = 6301 (0.405 sec)\n",
            "INFO:tensorflow:global_step/sec: 250.143\n",
            "INFO:tensorflow:loss = 0.12116007, step = 6401 (0.400 sec)\n",
            "INFO:tensorflow:global_step/sec: 240.375\n",
            "INFO:tensorflow:loss = 0.20596762, step = 6501 (0.416 sec)\n",
            "INFO:tensorflow:global_step/sec: 248.939\n",
            "INFO:tensorflow:loss = 0.1625383, step = 6601 (0.402 sec)\n",
            "INFO:tensorflow:global_step/sec: 244.755\n",
            "INFO:tensorflow:loss = 0.13020362, step = 6701 (0.409 sec)\n",
            "INFO:tensorflow:global_step/sec: 236.023\n",
            "INFO:tensorflow:loss = 0.46395573, step = 6801 (0.424 sec)\n",
            "INFO:tensorflow:global_step/sec: 244.007\n",
            "INFO:tensorflow:loss = 0.60656756, step = 6901 (0.409 sec)\n",
            "INFO:tensorflow:global_step/sec: 246.041\n",
            "INFO:tensorflow:loss = 0.12850738, step = 7001 (0.406 sec)\n",
            "INFO:tensorflow:global_step/sec: 258.745\n",
            "INFO:tensorflow:loss = 0.18481359, step = 7101 (0.387 sec)\n",
            "INFO:tensorflow:global_step/sec: 246.606\n",
            "INFO:tensorflow:loss = 0.13708666, step = 7201 (0.409 sec)\n",
            "INFO:tensorflow:global_step/sec: 238.32\n",
            "INFO:tensorflow:loss = 0.28187367, step = 7301 (0.415 sec)\n",
            "INFO:tensorflow:global_step/sec: 254.381\n",
            "INFO:tensorflow:loss = 0.49361214, step = 7401 (0.393 sec)\n",
            "INFO:tensorflow:global_step/sec: 229.197\n",
            "INFO:tensorflow:loss = 0.27788156, step = 7501 (0.440 sec)\n",
            "INFO:tensorflow:global_step/sec: 241.975\n",
            "INFO:tensorflow:loss = 0.108403504, step = 7601 (0.413 sec)\n",
            "INFO:tensorflow:global_step/sec: 240.248\n",
            "INFO:tensorflow:loss = 0.13030139, step = 7701 (0.413 sec)\n",
            "INFO:tensorflow:global_step/sec: 249.819\n",
            "INFO:tensorflow:loss = 0.117973566, step = 7801 (0.400 sec)\n",
            "INFO:tensorflow:global_step/sec: 255.66\n",
            "INFO:tensorflow:loss = 0.24933578, step = 7901 (0.391 sec)\n",
            "INFO:tensorflow:global_step/sec: 245.724\n",
            "INFO:tensorflow:loss = 0.32774854, step = 8001 (0.410 sec)\n",
            "INFO:tensorflow:global_step/sec: 252.376\n",
            "INFO:tensorflow:loss = 0.066580445, step = 8101 (0.393 sec)\n",
            "INFO:tensorflow:global_step/sec: 247.541\n",
            "INFO:tensorflow:loss = 0.3983401, step = 8201 (0.404 sec)\n",
            "INFO:tensorflow:global_step/sec: 240.088\n",
            "INFO:tensorflow:loss = 0.065138824, step = 8301 (0.416 sec)\n",
            "INFO:tensorflow:global_step/sec: 240.626\n",
            "INFO:tensorflow:loss = 0.3295458, step = 8401 (0.416 sec)\n",
            "INFO:tensorflow:global_step/sec: 240.796\n",
            "INFO:tensorflow:loss = 0.18706222, step = 8501 (0.415 sec)\n",
            "INFO:tensorflow:global_step/sec: 249.399\n",
            "INFO:tensorflow:loss = 0.24866916, step = 8601 (0.401 sec)\n",
            "INFO:tensorflow:global_step/sec: 242.841\n",
            "INFO:tensorflow:loss = 0.28451476, step = 8701 (0.413 sec)\n",
            "INFO:tensorflow:global_step/sec: 244.06\n",
            "INFO:tensorflow:loss = 0.15382713, step = 8801 (0.409 sec)\n",
            "INFO:tensorflow:global_step/sec: 247.753\n",
            "INFO:tensorflow:loss = 0.085896656, step = 8901 (0.403 sec)\n",
            "INFO:tensorflow:global_step/sec: 243.948\n",
            "INFO:tensorflow:loss = 0.14091872, step = 9001 (0.413 sec)\n",
            "INFO:tensorflow:global_step/sec: 245.032\n",
            "INFO:tensorflow:loss = 0.58383864, step = 9101 (0.405 sec)\n",
            "INFO:tensorflow:global_step/sec: 242.797\n",
            "INFO:tensorflow:loss = 0.32988805, step = 9201 (0.412 sec)\n",
            "INFO:tensorflow:global_step/sec: 233.792\n",
            "INFO:tensorflow:loss = 0.10467501, step = 9301 (0.428 sec)\n",
            "INFO:tensorflow:global_step/sec: 242.933\n",
            "INFO:tensorflow:loss = 0.21827482, step = 9401 (0.410 sec)\n",
            "INFO:tensorflow:global_step/sec: 242.402\n",
            "INFO:tensorflow:loss = 0.1129559, step = 9501 (0.413 sec)\n",
            "INFO:tensorflow:global_step/sec: 248.41\n",
            "INFO:tensorflow:loss = 0.11080184, step = 9601 (0.403 sec)\n",
            "INFO:tensorflow:global_step/sec: 249.697\n",
            "INFO:tensorflow:loss = 0.10128377, step = 9701 (0.400 sec)\n",
            "INFO:tensorflow:global_step/sec: 238.044\n",
            "INFO:tensorflow:loss = 0.20148514, step = 9801 (0.420 sec)\n",
            "INFO:tensorflow:global_step/sec: 242.705\n",
            "INFO:tensorflow:loss = 0.12952314, step = 9901 (0.412 sec)\n",
            "INFO:tensorflow:global_step/sec: 249.419\n",
            "INFO:tensorflow:loss = 0.124124825, step = 10001 (0.401 sec)\n",
            "INFO:tensorflow:global_step/sec: 252.596\n",
            "INFO:tensorflow:loss = 0.22185269, step = 10101 (0.397 sec)\n",
            "INFO:tensorflow:global_step/sec: 250.948\n",
            "INFO:tensorflow:loss = 0.3101839, step = 10201 (0.402 sec)\n",
            "INFO:tensorflow:global_step/sec: 245.394\n",
            "INFO:tensorflow:loss = 0.46528634, step = 10301 (0.403 sec)\n",
            "INFO:tensorflow:global_step/sec: 250.922\n",
            "INFO:tensorflow:loss = 0.29311183, step = 10401 (0.399 sec)\n",
            "INFO:tensorflow:global_step/sec: 254.62\n",
            "INFO:tensorflow:loss = 0.36550328, step = 10501 (0.393 sec)\n",
            "INFO:tensorflow:global_step/sec: 266.066\n",
            "INFO:tensorflow:loss = 0.35651097, step = 10601 (0.375 sec)\n",
            "INFO:tensorflow:global_step/sec: 247.753\n",
            "INFO:tensorflow:loss = 0.20168695, step = 10701 (0.404 sec)\n",
            "INFO:tensorflow:global_step/sec: 247.085\n",
            "INFO:tensorflow:loss = 0.47957027, step = 10801 (0.404 sec)\n",
            "INFO:tensorflow:global_step/sec: 245.052\n",
            "INFO:tensorflow:loss = 0.33130056, step = 10901 (0.408 sec)\n",
            "INFO:tensorflow:global_step/sec: 234.332\n",
            "INFO:tensorflow:loss = 0.25389457, step = 11001 (0.427 sec)\n",
            "INFO:tensorflow:global_step/sec: 249.875\n",
            "INFO:tensorflow:loss = 0.1731968, step = 11101 (0.400 sec)\n",
            "INFO:tensorflow:global_step/sec: 247.334\n",
            "INFO:tensorflow:loss = 0.08522905, step = 11201 (0.404 sec)\n",
            "INFO:tensorflow:global_step/sec: 253.272\n",
            "INFO:tensorflow:loss = 0.025318122, step = 11301 (0.395 sec)\n",
            "INFO:tensorflow:global_step/sec: 258.332\n",
            "INFO:tensorflow:loss = 0.1207086, step = 11401 (0.387 sec)\n",
            "INFO:tensorflow:global_step/sec: 253.877\n",
            "INFO:tensorflow:loss = 0.11592713, step = 11501 (0.397 sec)\n",
            "INFO:tensorflow:global_step/sec: 259.28\n",
            "INFO:tensorflow:loss = 0.18640003, step = 11601 (0.383 sec)\n",
            "INFO:tensorflow:global_step/sec: 239.89\n",
            "INFO:tensorflow:loss = 0.3720969, step = 11701 (0.416 sec)\n",
            "INFO:tensorflow:global_step/sec: 257.743\n",
            "INFO:tensorflow:loss = 0.15021662, step = 11801 (0.388 sec)\n",
            "INFO:tensorflow:global_step/sec: 242.388\n",
            "INFO:tensorflow:loss = 0.14127398, step = 11901 (0.413 sec)\n",
            "INFO:tensorflow:global_step/sec: 245.724\n",
            "INFO:tensorflow:loss = 0.11586039, step = 12001 (0.407 sec)\n",
            "INFO:tensorflow:global_step/sec: 249.651\n",
            "INFO:tensorflow:loss = 0.12586275, step = 12101 (0.400 sec)\n",
            "INFO:tensorflow:global_step/sec: 240.534\n",
            "INFO:tensorflow:loss = 0.3613776, step = 12201 (0.417 sec)\n",
            "INFO:tensorflow:global_step/sec: 239.606\n",
            "INFO:tensorflow:loss = 0.18227462, step = 12301 (0.417 sec)\n",
            "INFO:tensorflow:global_step/sec: 240.549\n",
            "INFO:tensorflow:loss = 0.19036427, step = 12401 (0.415 sec)\n",
            "INFO:tensorflow:global_step/sec: 240.071\n",
            "INFO:tensorflow:loss = 0.13787274, step = 12501 (0.416 sec)\n",
            "INFO:tensorflow:global_step/sec: 246.748\n",
            "INFO:tensorflow:loss = 0.2415926, step = 12601 (0.405 sec)\n",
            "INFO:tensorflow:global_step/sec: 243.51\n",
            "INFO:tensorflow:loss = 0.35695088, step = 12701 (0.411 sec)\n",
            "INFO:tensorflow:global_step/sec: 245.469\n",
            "INFO:tensorflow:loss = 0.04545614, step = 12801 (0.407 sec)\n",
            "INFO:tensorflow:global_step/sec: 241.589\n",
            "INFO:tensorflow:loss = 0.18389958, step = 12901 (0.414 sec)\n",
            "INFO:tensorflow:global_step/sec: 242.401\n",
            "INFO:tensorflow:loss = 0.23853014, step = 13001 (0.413 sec)\n",
            "INFO:tensorflow:global_step/sec: 246.545\n",
            "INFO:tensorflow:loss = 0.18662684, step = 13101 (0.410 sec)\n",
            "INFO:tensorflow:global_step/sec: 239.403\n",
            "INFO:tensorflow:loss = 0.18026984, step = 13201 (0.413 sec)\n",
            "INFO:tensorflow:global_step/sec: 235.392\n",
            "INFO:tensorflow:loss = 0.26602983, step = 13301 (0.425 sec)\n",
            "INFO:tensorflow:global_step/sec: 241.285\n",
            "INFO:tensorflow:loss = 0.25165874, step = 13401 (0.415 sec)\n",
            "INFO:tensorflow:global_step/sec: 254.872\n",
            "INFO:tensorflow:loss = 0.1944871, step = 13501 (0.392 sec)\n",
            "INFO:tensorflow:global_step/sec: 253.105\n",
            "INFO:tensorflow:loss = 0.050848026, step = 13601 (0.395 sec)\n",
            "INFO:tensorflow:global_step/sec: 247.244\n",
            "INFO:tensorflow:loss = 0.38348496, step = 13701 (0.404 sec)\n",
            "INFO:tensorflow:global_step/sec: 258.477\n",
            "INFO:tensorflow:loss = 0.41176778, step = 13801 (0.390 sec)\n",
            "INFO:tensorflow:global_step/sec: 252.102\n",
            "INFO:tensorflow:loss = 0.19321217, step = 13901 (0.394 sec)\n",
            "INFO:tensorflow:global_step/sec: 252.797\n",
            "INFO:tensorflow:loss = 0.3156289, step = 14001 (0.396 sec)\n",
            "INFO:tensorflow:global_step/sec: 253.825\n",
            "INFO:tensorflow:loss = 0.16208106, step = 14101 (0.395 sec)\n",
            "INFO:tensorflow:global_step/sec: 248.04\n",
            "INFO:tensorflow:loss = 0.3194376, step = 14201 (0.401 sec)\n",
            "INFO:tensorflow:global_step/sec: 261.107\n",
            "INFO:tensorflow:loss = 0.28730378, step = 14301 (0.384 sec)\n",
            "INFO:tensorflow:global_step/sec: 248.685\n",
            "INFO:tensorflow:loss = 0.08319806, step = 14401 (0.403 sec)\n",
            "INFO:tensorflow:global_step/sec: 259.722\n",
            "INFO:tensorflow:loss = 0.10176423, step = 14501 (0.383 sec)\n",
            "INFO:tensorflow:global_step/sec: 251.761\n",
            "INFO:tensorflow:loss = 0.005679654, step = 14601 (0.397 sec)\n",
            "INFO:tensorflow:global_step/sec: 236.386\n",
            "INFO:tensorflow:loss = 0.048973866, step = 14701 (0.423 sec)\n",
            "INFO:tensorflow:global_step/sec: 243.265\n",
            "INFO:tensorflow:loss = 0.24182004, step = 14801 (0.411 sec)\n",
            "INFO:tensorflow:global_step/sec: 244.469\n",
            "INFO:tensorflow:loss = 0.15437357, step = 14901 (0.413 sec)\n",
            "INFO:tensorflow:global_step/sec: 258.713\n",
            "INFO:tensorflow:loss = 0.14441036, step = 15001 (0.382 sec)\n",
            "INFO:tensorflow:global_step/sec: 251.106\n",
            "INFO:tensorflow:loss = 0.38544455, step = 15101 (0.399 sec)\n",
            "INFO:tensorflow:global_step/sec: 241.335\n",
            "INFO:tensorflow:loss = 0.10603029, step = 15201 (0.414 sec)\n",
            "INFO:tensorflow:global_step/sec: 256.112\n",
            "INFO:tensorflow:loss = 0.041392416, step = 15301 (0.391 sec)\n",
            "INFO:tensorflow:global_step/sec: 251.591\n",
            "INFO:tensorflow:loss = 0.08774004, step = 15401 (0.402 sec)\n",
            "INFO:tensorflow:global_step/sec: 237.572\n",
            "INFO:tensorflow:loss = 0.19635798, step = 15501 (0.416 sec)\n",
            "INFO:tensorflow:global_step/sec: 246.283\n",
            "INFO:tensorflow:loss = 0.19973783, step = 15601 (0.407 sec)\n",
            "INFO:tensorflow:global_step/sec: 237.682\n",
            "INFO:tensorflow:loss = 0.3291768, step = 15701 (0.420 sec)\n",
            "INFO:tensorflow:global_step/sec: 266.483\n",
            "INFO:tensorflow:loss = 0.1952945, step = 15801 (0.375 sec)\n",
            "INFO:tensorflow:global_step/sec: 242.956\n",
            "INFO:tensorflow:loss = 0.34159684, step = 15901 (0.412 sec)\n",
            "INFO:tensorflow:global_step/sec: 241.878\n",
            "INFO:tensorflow:loss = 0.3461252, step = 16001 (0.414 sec)\n",
            "INFO:tensorflow:global_step/sec: 253.147\n",
            "INFO:tensorflow:loss = 0.25875515, step = 16101 (0.395 sec)\n",
            "INFO:tensorflow:global_step/sec: 253.552\n",
            "INFO:tensorflow:loss = 0.110099465, step = 16201 (0.394 sec)\n",
            "INFO:tensorflow:global_step/sec: 250.739\n",
            "INFO:tensorflow:loss = 0.16500482, step = 16301 (0.403 sec)\n",
            "INFO:tensorflow:global_step/sec: 243.108\n",
            "INFO:tensorflow:loss = 0.0882836, step = 16401 (0.407 sec)\n",
            "INFO:tensorflow:global_step/sec: 253.121\n",
            "INFO:tensorflow:loss = 0.106622085, step = 16501 (0.395 sec)\n",
            "INFO:tensorflow:global_step/sec: 245.415\n",
            "INFO:tensorflow:loss = 0.39271533, step = 16601 (0.407 sec)\n",
            "INFO:tensorflow:global_step/sec: 264.198\n",
            "INFO:tensorflow:loss = 0.18515167, step = 16701 (0.379 sec)\n",
            "INFO:tensorflow:global_step/sec: 256.755\n",
            "INFO:tensorflow:loss = 0.08065298, step = 16801 (0.393 sec)\n",
            "INFO:tensorflow:global_step/sec: 244.944\n",
            "INFO:tensorflow:loss = 0.38749585, step = 16901 (0.405 sec)\n",
            "INFO:tensorflow:global_step/sec: 255.866\n",
            "INFO:tensorflow:loss = 0.18308982, step = 17001 (0.390 sec)\n",
            "INFO:tensorflow:global_step/sec: 265.737\n",
            "INFO:tensorflow:loss = 0.21592405, step = 17101 (0.377 sec)\n",
            "INFO:tensorflow:global_step/sec: 263.642\n",
            "INFO:tensorflow:loss = 0.23840337, step = 17201 (0.379 sec)\n",
            "INFO:tensorflow:global_step/sec: 257.182\n",
            "INFO:tensorflow:loss = 0.037728287, step = 17301 (0.389 sec)\n",
            "INFO:tensorflow:global_step/sec: 246.241\n",
            "INFO:tensorflow:loss = 0.15862772, step = 17401 (0.406 sec)\n",
            "INFO:tensorflow:global_step/sec: 246.936\n",
            "INFO:tensorflow:loss = 0.45121455, step = 17501 (0.408 sec)\n",
            "INFO:tensorflow:global_step/sec: 246.538\n",
            "INFO:tensorflow:loss = 0.5071153, step = 17601 (0.402 sec)\n",
            "INFO:tensorflow:global_step/sec: 259.692\n",
            "INFO:tensorflow:loss = 0.058622207, step = 17701 (0.387 sec)\n",
            "INFO:tensorflow:global_step/sec: 271.737\n",
            "INFO:tensorflow:loss = 0.06620667, step = 17801 (0.366 sec)\n",
            "INFO:tensorflow:global_step/sec: 263.023\n",
            "INFO:tensorflow:loss = 0.22712396, step = 17901 (0.382 sec)\n",
            "INFO:tensorflow:global_step/sec: 261.544\n",
            "INFO:tensorflow:loss = 0.23547105, step = 18001 (0.384 sec)\n",
            "INFO:tensorflow:global_step/sec: 262.456\n",
            "INFO:tensorflow:loss = 0.11902716, step = 18101 (0.378 sec)\n",
            "INFO:tensorflow:global_step/sec: 256.89\n",
            "INFO:tensorflow:loss = 0.09224333, step = 18201 (0.390 sec)\n",
            "INFO:tensorflow:global_step/sec: 261.16\n",
            "INFO:tensorflow:loss = 0.13260621, step = 18301 (0.382 sec)\n",
            "INFO:tensorflow:global_step/sec: 260.884\n",
            "INFO:tensorflow:loss = 0.056448955, step = 18401 (0.384 sec)\n",
            "INFO:tensorflow:global_step/sec: 252.679\n",
            "INFO:tensorflow:loss = 0.07553289, step = 18501 (0.395 sec)\n",
            "INFO:tensorflow:global_step/sec: 268.113\n",
            "INFO:tensorflow:loss = 0.16025032, step = 18601 (0.378 sec)\n",
            "INFO:tensorflow:global_step/sec: 249.804\n",
            "INFO:tensorflow:loss = 0.06604752, step = 18701 (0.396 sec)\n",
            "INFO:tensorflow:global_step/sec: 262.632\n",
            "INFO:tensorflow:loss = 0.4978157, step = 18801 (0.380 sec)\n",
            "INFO:tensorflow:global_step/sec: 255.335\n",
            "INFO:tensorflow:loss = 0.35112816, step = 18901 (0.392 sec)\n",
            "INFO:tensorflow:global_step/sec: 254.947\n",
            "INFO:tensorflow:loss = 0.25887078, step = 19001 (0.393 sec)\n",
            "INFO:tensorflow:global_step/sec: 256.85\n",
            "INFO:tensorflow:loss = 0.16284396, step = 19101 (0.389 sec)\n",
            "INFO:tensorflow:global_step/sec: 245.736\n",
            "INFO:tensorflow:loss = 0.18075909, step = 19201 (0.407 sec)\n",
            "INFO:tensorflow:global_step/sec: 253.152\n",
            "INFO:tensorflow:loss = 0.05491416, step = 19301 (0.401 sec)\n",
            "INFO:tensorflow:global_step/sec: 250.339\n",
            "INFO:tensorflow:loss = 0.24867079, step = 19401 (0.396 sec)\n",
            "INFO:tensorflow:global_step/sec: 227.56\n",
            "INFO:tensorflow:loss = 0.101778835, step = 19501 (0.438 sec)\n",
            "INFO:tensorflow:global_step/sec: 248.498\n",
            "INFO:tensorflow:loss = 0.23827568, step = 19601 (0.402 sec)\n",
            "INFO:tensorflow:global_step/sec: 241.935\n",
            "INFO:tensorflow:loss = 0.19389838, step = 19701 (0.413 sec)\n",
            "INFO:tensorflow:global_step/sec: 238.645\n",
            "INFO:tensorflow:loss = 0.06502342, step = 19801 (0.420 sec)\n",
            "INFO:tensorflow:global_step/sec: 249.199\n",
            "INFO:tensorflow:loss = 0.05935289, step = 19901 (0.402 sec)\n",
            "INFO:tensorflow:global_step/sec: 237.357\n",
            "INFO:tensorflow:loss = 0.41289386, step = 20001 (0.420 sec)\n",
            "INFO:tensorflow:global_step/sec: 252.008\n",
            "INFO:tensorflow:loss = 0.099458106, step = 20101 (0.396 sec)\n",
            "INFO:tensorflow:global_step/sec: 246.155\n",
            "INFO:tensorflow:loss = 0.37084195, step = 20201 (0.406 sec)\n",
            "INFO:tensorflow:global_step/sec: 256.415\n",
            "INFO:tensorflow:loss = 0.19750696, step = 20301 (0.390 sec)\n",
            "INFO:tensorflow:global_step/sec: 255.024\n",
            "INFO:tensorflow:loss = 0.18403018, step = 20401 (0.391 sec)\n",
            "INFO:tensorflow:global_step/sec: 259.503\n",
            "INFO:tensorflow:loss = 0.019819265, step = 20501 (0.386 sec)\n",
            "INFO:tensorflow:global_step/sec: 256.382\n",
            "INFO:tensorflow:loss = 0.25948682, step = 20601 (0.390 sec)\n",
            "INFO:tensorflow:global_step/sec: 246.797\n",
            "INFO:tensorflow:loss = 0.024735093, step = 20701 (0.405 sec)\n",
            "INFO:tensorflow:global_step/sec: 248.545\n",
            "INFO:tensorflow:loss = 0.10366684, step = 20801 (0.402 sec)\n",
            "INFO:tensorflow:global_step/sec: 255.839\n",
            "INFO:tensorflow:loss = 0.21828343, step = 20901 (0.392 sec)\n",
            "INFO:tensorflow:global_step/sec: 241.07\n",
            "INFO:tensorflow:loss = 0.06694602, step = 21001 (0.415 sec)\n",
            "INFO:tensorflow:global_step/sec: 243.79\n",
            "INFO:tensorflow:loss = 0.15337114, step = 21101 (0.410 sec)\n",
            "INFO:tensorflow:global_step/sec: 248.675\n",
            "INFO:tensorflow:loss = 0.18162034, step = 21201 (0.402 sec)\n",
            "INFO:tensorflow:global_step/sec: 259.275\n",
            "INFO:tensorflow:loss = 0.029296212, step = 21301 (0.386 sec)\n",
            "INFO:tensorflow:global_step/sec: 255.578\n",
            "INFO:tensorflow:loss = 0.3053509, step = 21401 (0.392 sec)\n",
            "INFO:tensorflow:global_step/sec: 232.04\n",
            "INFO:tensorflow:loss = 0.20961004, step = 21501 (0.431 sec)\n",
            "INFO:tensorflow:global_step/sec: 245.588\n",
            "INFO:tensorflow:loss = 0.1027818, step = 21601 (0.409 sec)\n",
            "INFO:tensorflow:global_step/sec: 243.982\n",
            "INFO:tensorflow:loss = 0.13464043, step = 21701 (0.408 sec)\n",
            "INFO:tensorflow:global_step/sec: 248.255\n",
            "INFO:tensorflow:loss = 0.075202204, step = 21801 (0.405 sec)\n",
            "INFO:tensorflow:global_step/sec: 245.228\n",
            "INFO:tensorflow:loss = 0.08873387, step = 21901 (0.406 sec)\n",
            "INFO:tensorflow:global_step/sec: 268.708\n",
            "INFO:tensorflow:loss = 0.066091135, step = 22001 (0.372 sec)\n",
            "INFO:tensorflow:global_step/sec: 254.86\n",
            "INFO:tensorflow:loss = 0.09249957, step = 22101 (0.391 sec)\n",
            "INFO:tensorflow:global_step/sec: 262.356\n",
            "INFO:tensorflow:loss = 0.18757187, step = 22201 (0.381 sec)\n",
            "INFO:tensorflow:global_step/sec: 263.146\n",
            "INFO:tensorflow:loss = 0.074201584, step = 22301 (0.380 sec)\n",
            "INFO:tensorflow:global_step/sec: 257.217\n",
            "INFO:tensorflow:loss = 0.12673163, step = 22401 (0.390 sec)\n",
            "INFO:tensorflow:global_step/sec: 240.483\n",
            "INFO:tensorflow:loss = 0.11639471, step = 22501 (0.415 sec)\n",
            "INFO:tensorflow:global_step/sec: 252.413\n",
            "INFO:tensorflow:loss = 0.071345255, step = 22601 (0.396 sec)\n",
            "INFO:tensorflow:global_step/sec: 249.556\n",
            "INFO:tensorflow:loss = 0.18824668, step = 22701 (0.400 sec)\n",
            "INFO:tensorflow:global_step/sec: 250.946\n",
            "INFO:tensorflow:loss = 0.062060345, step = 22801 (0.400 sec)\n",
            "INFO:tensorflow:global_step/sec: 250.688\n",
            "INFO:tensorflow:loss = 0.5710458, step = 22901 (0.400 sec)\n",
            "INFO:tensorflow:global_step/sec: 248.886\n",
            "INFO:tensorflow:loss = 0.07649256, step = 23001 (0.400 sec)\n",
            "INFO:tensorflow:global_step/sec: 263.053\n",
            "INFO:tensorflow:loss = 0.10637676, step = 23101 (0.385 sec)\n",
            "INFO:tensorflow:global_step/sec: 249.095\n",
            "INFO:tensorflow:loss = 0.09281057, step = 23201 (0.396 sec)\n",
            "INFO:tensorflow:global_step/sec: 271.487\n",
            "INFO:tensorflow:loss = 0.17898151, step = 23301 (0.369 sec)\n",
            "INFO:tensorflow:global_step/sec: 264.085\n",
            "INFO:tensorflow:loss = 0.12308302, step = 23401 (0.385 sec)\n",
            "INFO:tensorflow:global_step/sec: 246.645\n",
            "INFO:tensorflow:loss = 0.20231667, step = 23501 (0.402 sec)\n",
            "INFO:tensorflow:global_step/sec: 250.186\n",
            "INFO:tensorflow:loss = 0.094899654, step = 23601 (0.398 sec)\n",
            "INFO:tensorflow:global_step/sec: 259.342\n",
            "INFO:tensorflow:loss = 0.17394051, step = 23701 (0.388 sec)\n",
            "INFO:tensorflow:global_step/sec: 253.576\n",
            "INFO:tensorflow:loss = 0.20249464, step = 23801 (0.391 sec)\n",
            "INFO:tensorflow:global_step/sec: 261.51\n",
            "INFO:tensorflow:loss = 0.22230878, step = 23901 (0.382 sec)\n",
            "INFO:tensorflow:global_step/sec: 256.311\n",
            "INFO:tensorflow:loss = 0.03892773, step = 24001 (0.392 sec)\n",
            "INFO:tensorflow:global_step/sec: 252.544\n",
            "INFO:tensorflow:loss = 0.18204519, step = 24101 (0.395 sec)\n",
            "INFO:tensorflow:global_step/sec: 243.628\n",
            "INFO:tensorflow:loss = 0.13108787, step = 24201 (0.411 sec)\n",
            "INFO:tensorflow:global_step/sec: 265.625\n",
            "INFO:tensorflow:loss = 0.080766775, step = 24301 (0.376 sec)\n",
            "INFO:tensorflow:global_step/sec: 260.328\n",
            "INFO:tensorflow:loss = 0.10450099, step = 24401 (0.387 sec)\n",
            "INFO:tensorflow:global_step/sec: 252.124\n",
            "INFO:tensorflow:loss = 0.17768832, step = 24501 (0.394 sec)\n",
            "INFO:tensorflow:global_step/sec: 262.524\n",
            "INFO:tensorflow:loss = 0.24884768, step = 24601 (0.381 sec)\n",
            "INFO:tensorflow:global_step/sec: 238.013\n",
            "INFO:tensorflow:loss = 0.09656189, step = 24701 (0.420 sec)\n",
            "INFO:tensorflow:global_step/sec: 254.653\n",
            "INFO:tensorflow:loss = 0.17457585, step = 24801 (0.393 sec)\n",
            "INFO:tensorflow:global_step/sec: 271.015\n",
            "INFO:tensorflow:loss = 0.11704061, step = 24901 (0.369 sec)\n",
            "INFO:tensorflow:global_step/sec: 245.182\n",
            "INFO:tensorflow:loss = 0.03405054, step = 25001 (0.412 sec)\n",
            "INFO:tensorflow:global_step/sec: 257.9\n",
            "INFO:tensorflow:loss = 0.17642517, step = 25101 (0.388 sec)\n",
            "INFO:tensorflow:global_step/sec: 239.641\n",
            "INFO:tensorflow:loss = 0.13246088, step = 25201 (0.414 sec)\n",
            "INFO:tensorflow:global_step/sec: 242.111\n",
            "INFO:tensorflow:loss = 0.03341157, step = 25301 (0.416 sec)\n",
            "INFO:tensorflow:global_step/sec: 248.063\n",
            "INFO:tensorflow:loss = 0.31217286, step = 25401 (0.399 sec)\n",
            "INFO:tensorflow:global_step/sec: 240.941\n",
            "INFO:tensorflow:loss = 0.073501304, step = 25501 (0.415 sec)\n",
            "INFO:tensorflow:global_step/sec: 253.508\n",
            "INFO:tensorflow:loss = 0.22460762, step = 25601 (0.397 sec)\n",
            "INFO:tensorflow:global_step/sec: 255.891\n",
            "INFO:tensorflow:loss = 0.095611565, step = 25701 (0.389 sec)\n",
            "INFO:tensorflow:global_step/sec: 253.576\n",
            "INFO:tensorflow:loss = 0.011896824, step = 25801 (0.395 sec)\n",
            "INFO:tensorflow:global_step/sec: 272.385\n",
            "INFO:tensorflow:loss = 0.3016983, step = 25901 (0.366 sec)\n",
            "INFO:tensorflow:global_step/sec: 260.458\n",
            "INFO:tensorflow:loss = 0.119291045, step = 26001 (0.384 sec)\n",
            "INFO:tensorflow:global_step/sec: 265.081\n",
            "INFO:tensorflow:loss = 0.051789265, step = 26101 (0.377 sec)\n",
            "INFO:tensorflow:global_step/sec: 259.233\n",
            "INFO:tensorflow:loss = 0.17447984, step = 26201 (0.390 sec)\n",
            "INFO:tensorflow:global_step/sec: 262.49\n",
            "INFO:tensorflow:loss = 0.16317116, step = 26301 (0.377 sec)\n",
            "INFO:tensorflow:global_step/sec: 262.977\n",
            "INFO:tensorflow:loss = 0.12886557, step = 26401 (0.380 sec)\n",
            "INFO:tensorflow:global_step/sec: 245.912\n",
            "INFO:tensorflow:loss = 0.109484434, step = 26501 (0.406 sec)\n",
            "INFO:tensorflow:global_step/sec: 271.975\n",
            "INFO:tensorflow:loss = 0.10373255, step = 26601 (0.368 sec)\n",
            "INFO:tensorflow:global_step/sec: 281.25\n",
            "INFO:tensorflow:loss = 0.15078813, step = 26701 (0.355 sec)\n",
            "INFO:tensorflow:global_step/sec: 274.457\n",
            "INFO:tensorflow:loss = 0.15715992, step = 26801 (0.364 sec)\n",
            "INFO:tensorflow:global_step/sec: 264.386\n",
            "INFO:tensorflow:loss = 0.16171648, step = 26901 (0.378 sec)\n",
            "INFO:tensorflow:global_step/sec: 269.401\n",
            "INFO:tensorflow:loss = 0.22916538, step = 27001 (0.371 sec)\n",
            "INFO:tensorflow:global_step/sec: 245.234\n",
            "INFO:tensorflow:loss = 0.032868113, step = 27101 (0.408 sec)\n",
            "INFO:tensorflow:global_step/sec: 249.476\n",
            "INFO:tensorflow:loss = 0.07313981, step = 27201 (0.401 sec)\n",
            "INFO:tensorflow:global_step/sec: 231.068\n",
            "INFO:tensorflow:loss = 0.13744237, step = 27301 (0.432 sec)\n",
            "INFO:tensorflow:global_step/sec: 264.038\n",
            "INFO:tensorflow:loss = 0.08670998, step = 27401 (0.379 sec)\n",
            "INFO:tensorflow:global_step/sec: 284.922\n",
            "INFO:tensorflow:loss = 0.15760039, step = 27501 (0.355 sec)\n",
            "INFO:tensorflow:global_step/sec: 264.604\n",
            "INFO:tensorflow:loss = 0.04230671, step = 27601 (0.374 sec)\n",
            "INFO:tensorflow:global_step/sec: 281.648\n",
            "INFO:tensorflow:loss = 0.049112473, step = 27701 (0.355 sec)\n",
            "INFO:tensorflow:global_step/sec: 266.795\n",
            "INFO:tensorflow:loss = 0.20070684, step = 27801 (0.375 sec)\n",
            "INFO:tensorflow:global_step/sec: 267.602\n",
            "INFO:tensorflow:loss = 0.3425296, step = 27901 (0.374 sec)\n",
            "INFO:tensorflow:global_step/sec: 258.346\n",
            "INFO:tensorflow:loss = 0.2882205, step = 28001 (0.386 sec)\n",
            "INFO:tensorflow:global_step/sec: 266.816\n",
            "INFO:tensorflow:loss = 0.077180475, step = 28101 (0.376 sec)\n",
            "INFO:tensorflow:global_step/sec: 265.928\n",
            "INFO:tensorflow:loss = 0.107826605, step = 28201 (0.375 sec)\n",
            "INFO:tensorflow:global_step/sec: 265.49\n",
            "INFO:tensorflow:loss = 0.042149294, step = 28301 (0.377 sec)\n",
            "INFO:tensorflow:global_step/sec: 264.69\n",
            "INFO:tensorflow:loss = 0.30539474, step = 28401 (0.378 sec)\n",
            "INFO:tensorflow:global_step/sec: 254.358\n",
            "INFO:tensorflow:loss = 0.11076536, step = 28501 (0.393 sec)\n",
            "INFO:tensorflow:global_step/sec: 262.708\n",
            "INFO:tensorflow:loss = 0.09312084, step = 28601 (0.381 sec)\n",
            "INFO:tensorflow:global_step/sec: 267.791\n",
            "INFO:tensorflow:loss = 0.19256467, step = 28701 (0.373 sec)\n",
            "INFO:tensorflow:global_step/sec: 253.98\n",
            "INFO:tensorflow:loss = 0.1496369, step = 28801 (0.394 sec)\n",
            "INFO:tensorflow:global_step/sec: 247.109\n",
            "INFO:tensorflow:loss = 0.15506549, step = 28901 (0.409 sec)\n",
            "INFO:tensorflow:global_step/sec: 258.668\n",
            "INFO:tensorflow:loss = 0.059153203, step = 29001 (0.382 sec)\n",
            "INFO:tensorflow:global_step/sec: 268.018\n",
            "INFO:tensorflow:loss = 0.07154462, step = 29101 (0.373 sec)\n",
            "INFO:tensorflow:global_step/sec: 279.142\n",
            "INFO:tensorflow:loss = 0.014426198, step = 29201 (0.358 sec)\n",
            "INFO:tensorflow:global_step/sec: 272.902\n",
            "INFO:tensorflow:loss = 0.039143547, step = 29301 (0.366 sec)\n",
            "INFO:tensorflow:global_step/sec: 276.633\n",
            "INFO:tensorflow:loss = 0.13700542, step = 29401 (0.361 sec)\n",
            "INFO:tensorflow:global_step/sec: 265.935\n",
            "INFO:tensorflow:loss = 0.1949025, step = 29501 (0.377 sec)\n",
            "INFO:tensorflow:global_step/sec: 280.097\n",
            "INFO:tensorflow:loss = 0.11965846, step = 29601 (0.356 sec)\n",
            "INFO:tensorflow:global_step/sec: 260.691\n",
            "INFO:tensorflow:loss = 0.15258245, step = 29701 (0.385 sec)\n",
            "INFO:tensorflow:global_step/sec: 267.382\n",
            "INFO:tensorflow:loss = 0.069738574, step = 29801 (0.373 sec)\n",
            "INFO:tensorflow:global_step/sec: 269.705\n",
            "INFO:tensorflow:loss = 0.16024199, step = 29901 (0.371 sec)\n",
            "INFO:tensorflow:global_step/sec: 240.497\n",
            "INFO:tensorflow:loss = 0.1510759, step = 30001 (0.416 sec)\n",
            "INFO:tensorflow:global_step/sec: 267.584\n",
            "INFO:tensorflow:loss = 0.2968649, step = 30101 (0.374 sec)\n",
            "INFO:tensorflow:global_step/sec: 265.732\n",
            "INFO:tensorflow:loss = 0.06254941, step = 30201 (0.380 sec)\n",
            "INFO:tensorflow:global_step/sec: 263.547\n",
            "INFO:tensorflow:loss = 0.07432179, step = 30301 (0.376 sec)\n",
            "INFO:tensorflow:global_step/sec: 278.831\n",
            "INFO:tensorflow:loss = 0.08558731, step = 30401 (0.359 sec)\n",
            "INFO:tensorflow:global_step/sec: 275.841\n",
            "INFO:tensorflow:loss = 0.09510727, step = 30501 (0.362 sec)\n",
            "INFO:tensorflow:global_step/sec: 269.237\n",
            "INFO:tensorflow:loss = 0.113485746, step = 30601 (0.371 sec)\n",
            "INFO:tensorflow:global_step/sec: 274.437\n",
            "INFO:tensorflow:loss = 0.23518468, step = 30701 (0.364 sec)\n",
            "INFO:tensorflow:global_step/sec: 275.924\n",
            "INFO:tensorflow:loss = 0.049355313, step = 30801 (0.363 sec)\n",
            "INFO:tensorflow:global_step/sec: 278.834\n",
            "INFO:tensorflow:loss = 0.12038148, step = 30901 (0.358 sec)\n",
            "INFO:tensorflow:global_step/sec: 260.302\n",
            "INFO:tensorflow:loss = 0.03395122, step = 31001 (0.384 sec)\n",
            "INFO:tensorflow:global_step/sec: 268.062\n",
            "INFO:tensorflow:loss = 0.033445254, step = 31101 (0.373 sec)\n",
            "INFO:tensorflow:global_step/sec: 251.428\n",
            "INFO:tensorflow:loss = 0.068007566, step = 31201 (0.399 sec)\n",
            "INFO:tensorflow:global_step/sec: 246.862\n",
            "INFO:tensorflow:loss = 0.058896717, step = 31301 (0.404 sec)\n",
            "INFO:tensorflow:global_step/sec: 246.081\n",
            "INFO:tensorflow:loss = 0.064671464, step = 31401 (0.406 sec)\n",
            "INFO:tensorflow:global_step/sec: 246.773\n",
            "INFO:tensorflow:loss = 0.02385639, step = 31501 (0.405 sec)\n",
            "INFO:tensorflow:global_step/sec: 261.037\n",
            "INFO:tensorflow:loss = 0.057683297, step = 31601 (0.387 sec)\n",
            "INFO:tensorflow:global_step/sec: 252.629\n",
            "INFO:tensorflow:loss = 0.03356528, step = 31701 (0.392 sec)\n",
            "INFO:tensorflow:global_step/sec: 260.436\n",
            "INFO:tensorflow:loss = 0.05212491, step = 31801 (0.383 sec)\n",
            "INFO:tensorflow:global_step/sec: 264.783\n",
            "INFO:tensorflow:loss = 0.0075060604, step = 31901 (0.378 sec)\n",
            "INFO:tensorflow:global_step/sec: 271.519\n",
            "INFO:tensorflow:loss = 0.07408064, step = 32001 (0.368 sec)\n",
            "INFO:tensorflow:global_step/sec: 273.049\n",
            "INFO:tensorflow:loss = 0.22082497, step = 32101 (0.367 sec)\n",
            "INFO:tensorflow:global_step/sec: 277.431\n",
            "INFO:tensorflow:loss = 0.13280211, step = 32201 (0.360 sec)\n",
            "INFO:tensorflow:global_step/sec: 273.675\n",
            "INFO:tensorflow:loss = 0.24050884, step = 32301 (0.369 sec)\n",
            "INFO:tensorflow:global_step/sec: 274.275\n",
            "INFO:tensorflow:loss = 0.15942317, step = 32401 (0.361 sec)\n",
            "INFO:tensorflow:global_step/sec: 269.348\n",
            "INFO:tensorflow:loss = 0.28592074, step = 32501 (0.371 sec)\n",
            "INFO:tensorflow:global_step/sec: 258.2\n",
            "INFO:tensorflow:loss = 0.20005436, step = 32601 (0.388 sec)\n",
            "INFO:tensorflow:global_step/sec: 252.138\n",
            "INFO:tensorflow:loss = 0.084634654, step = 32701 (0.396 sec)\n",
            "INFO:tensorflow:global_step/sec: 275.314\n",
            "INFO:tensorflow:loss = 0.030501084, step = 32801 (0.364 sec)\n",
            "INFO:tensorflow:global_step/sec: 262.291\n",
            "INFO:tensorflow:loss = 0.146129, step = 32901 (0.382 sec)\n",
            "INFO:tensorflow:global_step/sec: 231.259\n",
            "INFO:tensorflow:loss = 0.1422869, step = 33001 (0.436 sec)\n",
            "INFO:tensorflow:global_step/sec: 234.744\n",
            "INFO:tensorflow:loss = 0.39218646, step = 33101 (0.421 sec)\n",
            "INFO:tensorflow:global_step/sec: 240.748\n",
            "INFO:tensorflow:loss = 0.11588331, step = 33201 (0.416 sec)\n",
            "INFO:tensorflow:global_step/sec: 248.36\n",
            "INFO:tensorflow:loss = 0.19806182, step = 33301 (0.403 sec)\n",
            "INFO:tensorflow:global_step/sec: 246.211\n",
            "INFO:tensorflow:loss = 0.22499986, step = 33401 (0.406 sec)\n",
            "INFO:tensorflow:global_step/sec: 254.837\n",
            "INFO:tensorflow:loss = 0.05972721, step = 33501 (0.392 sec)\n",
            "INFO:tensorflow:global_step/sec: 240.674\n",
            "INFO:tensorflow:loss = 0.09497032, step = 33601 (0.416 sec)\n",
            "INFO:tensorflow:global_step/sec: 246.827\n",
            "INFO:tensorflow:loss = 0.0653234, step = 33701 (0.408 sec)\n",
            "INFO:tensorflow:global_step/sec: 215.689\n",
            "INFO:tensorflow:loss = 0.050045304, step = 33801 (0.460 sec)\n",
            "INFO:tensorflow:global_step/sec: 212.595\n",
            "INFO:tensorflow:loss = 0.050139014, step = 33901 (0.470 sec)\n",
            "INFO:tensorflow:global_step/sec: 226.89\n",
            "INFO:tensorflow:loss = 0.10249435, step = 34001 (0.440 sec)\n",
            "INFO:tensorflow:global_step/sec: 233.245\n",
            "INFO:tensorflow:loss = 0.05378909, step = 34101 (0.429 sec)\n",
            "INFO:tensorflow:global_step/sec: 222.732\n",
            "INFO:tensorflow:loss = 0.06776846, step = 34201 (0.449 sec)\n",
            "INFO:tensorflow:global_step/sec: 215.302\n",
            "INFO:tensorflow:loss = 0.06728485, step = 34301 (0.465 sec)\n",
            "INFO:tensorflow:global_step/sec: 218.932\n",
            "INFO:tensorflow:loss = 0.5195844, step = 34401 (0.457 sec)\n",
            "INFO:tensorflow:global_step/sec: 233.362\n",
            "INFO:tensorflow:loss = 0.22798552, step = 34501 (0.429 sec)\n",
            "INFO:tensorflow:global_step/sec: 227.564\n",
            "INFO:tensorflow:loss = 0.24768923, step = 34601 (0.442 sec)\n",
            "INFO:tensorflow:global_step/sec: 235.51\n",
            "INFO:tensorflow:loss = 0.10576282, step = 34701 (0.422 sec)\n",
            "INFO:tensorflow:global_step/sec: 228.209\n",
            "INFO:tensorflow:loss = 0.18095928, step = 34801 (0.438 sec)\n",
            "INFO:tensorflow:global_step/sec: 242.968\n",
            "INFO:tensorflow:loss = 0.10177248, step = 34901 (0.412 sec)\n",
            "INFO:tensorflow:global_step/sec: 221.439\n",
            "INFO:tensorflow:loss = 0.18112032, step = 35001 (0.456 sec)\n",
            "INFO:tensorflow:global_step/sec: 219.257\n",
            "INFO:tensorflow:loss = 0.012134598, step = 35101 (0.456 sec)\n",
            "INFO:tensorflow:global_step/sec: 240.708\n",
            "INFO:tensorflow:loss = 0.0564931, step = 35201 (0.411 sec)\n",
            "INFO:tensorflow:global_step/sec: 255.709\n",
            "INFO:tensorflow:loss = 0.11002234, step = 35301 (0.391 sec)\n",
            "INFO:tensorflow:global_step/sec: 262.236\n",
            "INFO:tensorflow:loss = 0.09405847, step = 35401 (0.381 sec)\n",
            "INFO:tensorflow:global_step/sec: 267.222\n",
            "INFO:tensorflow:loss = 0.18131481, step = 35501 (0.374 sec)\n",
            "INFO:tensorflow:global_step/sec: 265.447\n",
            "INFO:tensorflow:loss = 0.03237117, step = 35601 (0.377 sec)\n",
            "INFO:tensorflow:global_step/sec: 258.106\n",
            "INFO:tensorflow:loss = 0.018061955, step = 35701 (0.387 sec)\n",
            "INFO:tensorflow:global_step/sec: 272.496\n",
            "INFO:tensorflow:loss = 0.109802105, step = 35801 (0.367 sec)\n",
            "INFO:tensorflow:global_step/sec: 257.31\n",
            "INFO:tensorflow:loss = 0.060915284, step = 35901 (0.389 sec)\n",
            "INFO:tensorflow:global_step/sec: 266.44\n",
            "INFO:tensorflow:loss = 0.10540437, step = 36001 (0.379 sec)\n",
            "INFO:tensorflow:global_step/sec: 270.393\n",
            "INFO:tensorflow:loss = 0.107544936, step = 36101 (0.366 sec)\n",
            "INFO:tensorflow:global_step/sec: 264.517\n",
            "INFO:tensorflow:loss = 0.06318386, step = 36201 (0.378 sec)\n",
            "INFO:tensorflow:global_step/sec: 253.718\n",
            "INFO:tensorflow:loss = 0.12745132, step = 36301 (0.395 sec)\n",
            "INFO:tensorflow:global_step/sec: 258.42\n",
            "INFO:tensorflow:loss = 0.033561505, step = 36401 (0.389 sec)\n",
            "INFO:tensorflow:global_step/sec: 264.308\n",
            "INFO:tensorflow:loss = 0.16822885, step = 36501 (0.378 sec)\n",
            "INFO:tensorflow:global_step/sec: 251.026\n",
            "INFO:tensorflow:loss = 0.18357247, step = 36601 (0.399 sec)\n",
            "INFO:tensorflow:global_step/sec: 267.852\n",
            "INFO:tensorflow:loss = 0.04870282, step = 36701 (0.371 sec)\n",
            "INFO:tensorflow:global_step/sec: 274.274\n",
            "INFO:tensorflow:loss = 0.03212352, step = 36801 (0.365 sec)\n",
            "INFO:tensorflow:global_step/sec: 271.285\n",
            "INFO:tensorflow:loss = 0.20606756, step = 36901 (0.368 sec)\n",
            "INFO:tensorflow:global_step/sec: 261.364\n",
            "INFO:tensorflow:loss = 0.077874206, step = 37001 (0.383 sec)\n",
            "INFO:tensorflow:global_step/sec: 258.027\n",
            "INFO:tensorflow:loss = 0.14772302, step = 37101 (0.392 sec)\n",
            "INFO:tensorflow:global_step/sec: 251.296\n",
            "INFO:tensorflow:loss = 0.017277004, step = 37201 (0.396 sec)\n",
            "INFO:tensorflow:global_step/sec: 270.201\n",
            "INFO:tensorflow:loss = 0.13081814, step = 37301 (0.370 sec)\n",
            "INFO:tensorflow:global_step/sec: 257.94\n",
            "INFO:tensorflow:loss = 0.13418652, step = 37401 (0.385 sec)\n",
            "INFO:tensorflow:global_step/sec: 266.486\n",
            "INFO:tensorflow:loss = 0.1921888, step = 37501 (0.375 sec)\n",
            "INFO:tensorflow:global_step/sec: 275.541\n",
            "INFO:tensorflow:loss = 0.086370505, step = 37601 (0.363 sec)\n",
            "INFO:tensorflow:global_step/sec: 252.778\n",
            "INFO:tensorflow:loss = 0.15261394, step = 37701 (0.396 sec)\n",
            "INFO:tensorflow:global_step/sec: 274.631\n",
            "INFO:tensorflow:loss = 0.13789737, step = 37801 (0.364 sec)\n",
            "INFO:tensorflow:global_step/sec: 272.592\n",
            "INFO:tensorflow:loss = 0.2906586, step = 37901 (0.367 sec)\n",
            "INFO:tensorflow:global_step/sec: 260.443\n",
            "INFO:tensorflow:loss = 0.12841901, step = 38001 (0.390 sec)\n",
            "INFO:tensorflow:global_step/sec: 266.365\n",
            "INFO:tensorflow:loss = 0.07105323, step = 38101 (0.371 sec)\n",
            "INFO:tensorflow:global_step/sec: 270.124\n",
            "INFO:tensorflow:loss = 0.034384478, step = 38201 (0.373 sec)\n",
            "INFO:tensorflow:global_step/sec: 268.575\n",
            "INFO:tensorflow:loss = 0.40652055, step = 38301 (0.368 sec)\n",
            "INFO:tensorflow:global_step/sec: 256.669\n",
            "INFO:tensorflow:loss = 0.2348839, step = 38401 (0.390 sec)\n",
            "INFO:tensorflow:global_step/sec: 252.582\n",
            "INFO:tensorflow:loss = 0.10474025, step = 38501 (0.396 sec)\n",
            "INFO:tensorflow:global_step/sec: 263.7\n",
            "INFO:tensorflow:loss = 0.031073952, step = 38601 (0.385 sec)\n",
            "INFO:tensorflow:global_step/sec: 275.002\n",
            "INFO:tensorflow:loss = 0.044886928, step = 38701 (0.360 sec)\n",
            "INFO:tensorflow:global_step/sec: 289.06\n",
            "INFO:tensorflow:loss = 0.4335205, step = 38801 (0.349 sec)\n",
            "INFO:tensorflow:global_step/sec: 273.353\n",
            "INFO:tensorflow:loss = 0.084259726, step = 38901 (0.361 sec)\n",
            "INFO:tensorflow:global_step/sec: 280.758\n",
            "INFO:tensorflow:loss = 0.20193611, step = 39001 (0.356 sec)\n",
            "INFO:tensorflow:global_step/sec: 267.836\n",
            "INFO:tensorflow:loss = 0.014738517, step = 39101 (0.374 sec)\n",
            "INFO:tensorflow:global_step/sec: 266.155\n",
            "INFO:tensorflow:loss = 0.13121153, step = 39201 (0.375 sec)\n",
            "INFO:tensorflow:global_step/sec: 264.426\n",
            "INFO:tensorflow:loss = 0.16522175, step = 39301 (0.377 sec)\n",
            "INFO:tensorflow:global_step/sec: 260.588\n",
            "INFO:tensorflow:loss = 0.11872294, step = 39401 (0.384 sec)\n",
            "INFO:tensorflow:global_step/sec: 257.409\n",
            "INFO:tensorflow:loss = 0.047215614, step = 39501 (0.388 sec)\n",
            "INFO:tensorflow:global_step/sec: 271.838\n",
            "INFO:tensorflow:loss = 0.11561224, step = 39601 (0.368 sec)\n",
            "INFO:tensorflow:global_step/sec: 264.095\n",
            "INFO:tensorflow:loss = 0.02517513, step = 39701 (0.379 sec)\n",
            "INFO:tensorflow:global_step/sec: 268.319\n",
            "INFO:tensorflow:loss = 0.037915558, step = 39801 (0.373 sec)\n",
            "INFO:tensorflow:global_step/sec: 269.893\n",
            "INFO:tensorflow:loss = 0.07375505, step = 39901 (0.376 sec)\n",
            "INFO:tensorflow:Saving checkpoints for 40000 into /tmp/tmp1ao_uxgb/model.ckpt.\n",
            "INFO:tensorflow:Loss for final step: 0.19718845.\n",
            "\n",
            "Training Time = 0:02:41.828993\n"
          ],
          "name": "stdout"
        }
      ]
    },
    {
      "cell_type": "markdown",
      "metadata": {
        "id": "1aV5GHPpzZMy",
        "colab_type": "text"
      },
      "source": [
        "### Results"
      ]
    },
    {
      "cell_type": "code",
      "metadata": {
        "id": "6m4-teoD1L_H",
        "colab_type": "code",
        "colab": {
          "base_uri": "https://localhost:8080/",
          "height": 313
        },
        "outputId": "910bc299-e875-4d60-f806-4f6c61f9c84d"
      },
      "source": [
        "from sklearn.metrics import accuracy_score \n",
        "\n",
        "y_pred = list(dnn_clf.predict(x_test))\n",
        "dnnScore = accuracy_score(y_test, y_pred)"
      ],
      "execution_count": null,
      "outputs": [
        {
          "output_type": "stream",
          "text": [
            "WARNING:tensorflow:From /usr/local/lib/python3.6/dist-packages/tensorflow/python/util/deprecation.py:574: calling DNNClassifier.predict (from tensorflow.contrib.learn.python.learn.estimators.dnn) with outputs=None is deprecated and will be removed after 2017-03-01.\n",
            "Instructions for updating:\n",
            "Please switch to predict_classes, or set `outputs` argument.\n",
            "WARNING:tensorflow:From /usr/local/lib/python3.6/dist-packages/tensorflow/contrib/learn/python/learn/estimators/dnn.py:463: calling BaseEstimator.predict (from tensorflow.contrib.learn.python.learn.estimators.estimator) with x is deprecated and will be removed after 2016-12-01.\n",
            "Instructions for updating:\n",
            "Estimator is decoupled from Scikit Learn interface by moving into\n",
            "separate class SKCompat. Arguments x, y and batch_size are only\n",
            "available in the SKCompat class, Estimator will only accept input_fn.\n",
            "Example conversion:\n",
            "  est = Estimator(...) -> est = SKCompat(Estimator(...))\n",
            "INFO:tensorflow:Graph was finalized.\n",
            "WARNING:tensorflow:From /usr/local/lib/python3.6/dist-packages/tensorflow/python/training/saver.py:1266: checkpoint_exists (from tensorflow.python.training.checkpoint_management) is deprecated and will be removed in a future version.\n",
            "Instructions for updating:\n",
            "Use standard file APIs to check for files with this prefix.\n",
            "INFO:tensorflow:Restoring parameters from /tmp/tmp1ao_uxgb/model.ckpt-40000\n",
            "INFO:tensorflow:Running local_init_op.\n",
            "INFO:tensorflow:Done running local_init_op.\n"
          ],
          "name": "stdout"
        }
      ]
    },
    {
      "cell_type": "code",
      "metadata": {
        "id": "rgb2UNUv1aki",
        "colab_type": "code",
        "colab": {
          "base_uri": "https://localhost:8080/",
          "height": 33
        },
        "outputId": "e9c7405d-ee15-41bf-e61f-a366c0bd98fa"
      },
      "source": [
        "print(\"DNN Accuracy Rating:\", dnnScore*100, \"%\")"
      ],
      "execution_count": null,
      "outputs": [
        {
          "output_type": "stream",
          "text": [
            "DNN Accuracy Rating: 94.69 %\n"
          ],
          "name": "stdout"
        }
      ]
    },
    {
      "cell_type": "code",
      "metadata": {
        "id": "lBq_2mwLT95Z",
        "colab_type": "code",
        "colab": {
          "base_uri": "https://localhost:8080/",
          "height": 131
        },
        "outputId": "6d107bc5-dddc-43f8-eb84-8fcf8e13f04a"
      },
      "source": [
        "resultsDNN = dnn_clf.evaluate(x_test, y_test)"
      ],
      "execution_count": null,
      "outputs": [
        {
          "output_type": "stream",
          "text": [
            "INFO:tensorflow:Starting evaluation at 2019-05-13T03:50:49Z\n",
            "INFO:tensorflow:Graph was finalized.\n",
            "INFO:tensorflow:Restoring parameters from /tmp/tmp1ao_uxgb/model.ckpt-40000\n",
            "INFO:tensorflow:Running local_init_op.\n",
            "INFO:tensorflow:Done running local_init_op.\n",
            "INFO:tensorflow:Finished evaluation at 2019-05-13-03:50:50\n",
            "INFO:tensorflow:Saving dict for global step 40000: accuracy = 0.9469, global_step = 40000, loss = 0.26439846\n"
          ],
          "name": "stdout"
        }
      ]
    },
    {
      "cell_type": "code",
      "metadata": {
        "id": "WA2Cww1NUIks",
        "colab_type": "code",
        "colab": {
          "base_uri": "https://localhost:8080/",
          "height": 33
        },
        "outputId": "9d5f9eda-4d6d-4b24-c692-92e3badfe09c"
      },
      "source": [
        "print(resultsDNN)"
      ],
      "execution_count": null,
      "outputs": [
        {
          "output_type": "stream",
          "text": [
            "{'loss': 0.26439846, 'accuracy': 0.9469, 'global_step': 40000}\n"
          ],
          "name": "stdout"
        }
      ]
    },
    {
      "cell_type": "markdown",
      "metadata": {
        "id": "5xJo4axRqlX6",
        "colab_type": "text"
      },
      "source": [
        "# Conclusion"
      ]
    },
    {
      "cell_type": "markdown",
      "metadata": {
        "id": "nud7CNjTen4A",
        "colab_type": "text"
      },
      "source": [
        "### Plot Results"
      ]
    },
    {
      "cell_type": "code",
      "metadata": {
        "id": "Ys25VqOPVMaw",
        "colab_type": "code",
        "colab": {
          "base_uri": "https://localhost:8080/",
          "height": 296
        },
        "outputId": "0328d8e2-e000-4c10-b7e8-2400ae99854e"
      },
      "source": [
        "\n",
        "test_error, confusions = error_rate(test_prediction.eval(), test_labels)\n",
        "print('Test error: %.1f%%' % test_error)\n",
        "\n",
        "plt.xlabel('Actual')\n",
        "plt.ylabel('Predicted')\n",
        "plt.grid(False)\n",
        "plt.xticks(numpy.arange(NUM_LABELS))\n",
        "plt.yticks(numpy.arange(NUM_LABELS))\n",
        "plt.imshow(confusions, cmap=plt.cm.jet, interpolation='nearest');\n",
        "\n",
        "for i, cas in enumerate(confusions):\n",
        "    for j, count in enumerate(cas):\n",
        "        if count > 0:\n",
        "            xoff = .07 * len(str(count))\n",
        "            plt.text(j-xoff, i+.2, int(count), fontsize=9, color='white')\n",
        "\n",
        "\n",
        "# We can see here that we're mostly accurate, with some errors you might expect, e.g., '9' is often confused as '4'.\n",
        "# \n",
        "# Let's do another sanity check to make sure this matches roughly the distribution of our test set, e.g., it seems like we have fewer '5' values.\n"
      ],
      "execution_count": null,
      "outputs": [
        {
          "output_type": "stream",
          "text": [
            "Test error: 1.9%\n"
          ],
          "name": "stdout"
        },
        {
          "output_type": "display_data",
          "data": {
            "image/png": "[encoded data removed]",
            "text/plain": [
              "<Figure size 432x288 with 1 Axes>"
            ]
          },
          "metadata": {
            "tags": []
          }
        }
      ]
    },
    {
      "cell_type": "code",
      "metadata": {
        "id": "A9XqEG6dVOrz",
        "colab_type": "code",
        "colab": {
          "base_uri": "https://localhost:8080/",
          "height": 347
        },
        "outputId": "b649a47b-b99f-4477-90a4-289f30dab7f0"
      },
      "source": [
        "\n",
        "plt.xticks(numpy.arange(NUM_LABELS))\n",
        "plt.hist(numpy.argmax(test_labels, 1));\n",
        "\n",
        "\n",
        "# Indeed, we appear to have fewer 5 labels in the test set. So, on the whole, it seems like our model is learning and our early results are sensible.\n",
        "# \n",
        "# But, we've only done one round of training. We can greatly improve accuracy by training for longer. To try this out, just re-execute the training cell above.\n"
      ],
      "execution_count": null,
      "outputs": [
        {
          "output_type": "display_data",
          "data": {
            "image/png": "[encoded data removed]",
            "text/plain": [
              "<Figure size 576x396 with 1 Axes>"
            ]
          },
          "metadata": {
            "tags": []
          }
        }
      ]
    },
    {
      "cell_type": "code",
      "metadata": {
        "id": "1sMOaT_OgwcI",
        "colab_type": "code",
        "colab": {
          "base_uri": "https://localhost:8080/",
          "height": 162
        },
        "outputId": "14e99b30-890d-4085-b5a6-e1f5c7ec56a7"
      },
      "source": [
        "results_df = pd.DataFrame({'TestName': ['TensorFlow DNN', 'Basic NN', 'Keras CNN'],\n",
        "   'Test Accuracy': [0.9808, 0.9469, 0.9921],\n",
        "   'Training Time': ['0:02:56', '0:02:48', '1:23:30']})\n",
        "results_df.set_index('TestName', inplace=True)\n",
        "\n",
        "results_df"
      ],
      "execution_count": null,
      "outputs": [
        {
          "output_type": "execute_result",
          "data": {
            "text/html": [
              "<div>\n",
              "<style scoped>\n",
              "    .dataframe tbody tr th:only-of-type {\n",
              "        vertical-align: middle;\n",
              "    }\n",
              "\n",
              "    .dataframe tbody tr th {\n",
              "        vertical-align: top;\n",
              "    }\n",
              "\n",
              "    .dataframe thead th {\n",
              "        text-align: right;\n",
              "    }\n",
              "</style>\n",
              "<table border=\"1\" class=\"dataframe\">\n",
              "  <thead>\n",
              "    <tr style=\"text-align: right;\">\n",
              "      <th></th>\n",
              "      <th>Test Accuracy</th>\n",
              "      <th>Training Time</th>\n",
              "    </tr>\n",
              "    <tr>\n",
              "      <th>TestName</th>\n",
              "      <th></th>\n",
              "      <th></th>\n",
              "    </tr>\n",
              "  </thead>\n",
              "  <tbody>\n",
              "    <tr>\n",
              "      <th>TensorFlow DNN</th>\n",
              "      <td>0.9808</td>\n",
              "      <td>0:02:56</td>\n",
              "    </tr>\n",
              "    <tr>\n",
              "      <th>Basic NN</th>\n",
              "      <td>0.9469</td>\n",
              "      <td>0:02:48</td>\n",
              "    </tr>\n",
              "    <tr>\n",
              "      <th>Keras CNN</th>\n",
              "      <td>0.9921</td>\n",
              "      <td>1:23:30</td>\n",
              "    </tr>\n",
              "  </tbody>\n",
              "</table>\n",
              "</div>"
            ],
            "text/plain": [
              "                Test Accuracy Training Time\n",
              "TestName                                   \n",
              "TensorFlow DNN         0.9808       0:02:56\n",
              "Basic NN               0.9469       0:02:48\n",
              "Keras CNN              0.9921       1:23:30"
            ]
          },
          "metadata": {
            "tags": []
          },
          "execution_count": 54
        }
      ]
    },
    {
      "cell_type": "markdown",
      "metadata": {
        "id": "N7r0pBAEkXnR",
        "colab_type": "text"
      },
      "source": [
        "\n",
        "\n",
        "I trained 3 different neural networks. The Keras CNN model performed the best but the training time was almost an hour and a half. This was very long in comparison to the other models. The basic NN model trained the quickest but the results were inconsistent.\n",
        "\n",
        "<br>\n",
        "\n",
        "**I would recommend using the TensorFlow NN because it will save time/money during training but it maintains high accuracy predicting new data.**\n"
      ]
    },
    {
      "cell_type": "markdown",
      "metadata": {
        "id": "Et1L3vy8LrBF",
        "colab_type": "text"
      },
      "source": [
        "# Cats and Dogs Jumpstart"
      ]
    },
    {
      "cell_type": "code",
      "metadata": {
        "id": "VI5SnUdNLv9-",
        "colab_type": "code",
        "colab": {}
      },
      "source": [
        "# Common imports for our work\n",
        "import os \n",
        "import numpy as np\n",
        "import tensorflow as tf\n",
        "from datetime import datetime"
      ],
      "execution_count": null,
      "outputs": []
    },
    {
      "cell_type": "code",
      "metadata": {
        "id": "SEE7IUfbLxzt",
        "colab_type": "code",
        "colab": {}
      },
      "source": [
        "RANDOM_SEED = 9999"
      ],
      "execution_count": null,
      "outputs": []
    },
    {
      "cell_type": "code",
      "metadata": {
        "id": "JyHDZMF4Lzus",
        "colab_type": "code",
        "colab": {}
      },
      "source": [
        "# To make output stable across runs\n",
        "def reset_graph(seed= RANDOM_SEED):\n",
        "    tf.reset_default_graph()\n",
        "    tf.set_random_seed(seed)\n",
        "    np.random.seed(seed)"
      ],
      "execution_count": null,
      "outputs": []
    },
    {
      "cell_type": "code",
      "metadata": {
        "id": "YIK2K8FhL1QW",
        "colab_type": "code",
        "colab": {}
      },
      "source": [
        "#CatsDogs# Old dimensions from MNIST no loger apply\n",
        "#CatsDogs# height = 28\n",
        "#CatsDogs# width = 28\n",
        "height = 64\n",
        "width = 64   "
      ],
      "execution_count": null,
      "outputs": []
    },
    {
      "cell_type": "code",
      "metadata": {
        "id": "LPa1YMPVMc4o",
        "colab_type": "code",
        "colab": {
          "base_uri": "https://localhost:8080/",
          "height": 122
        },
        "outputId": "6c134597-8060-4f82-c25b-0baf40c87a7e"
      },
      "source": [
        "# Load the Drive helper and mount\n",
        "from google.colab import drive\n",
        "\n",
        "# This will prompt for authorization.\n",
        "drive.mount('/content/drive')"
      ],
      "execution_count": null,
      "outputs": [
        {
          "output_type": "stream",
          "text": [
            "Go to this URL in a browser: https://accounts.google.com/o/oauth2/auth?client_id=947318989803-6bn6qk8qdgf4n4g3pfee6491hc0brc4i.apps.googleusercontent.com&redirect_uri=urn%3Aietf%3Awg%3Aoauth%3A2.0%3Aoob&scope=email%20https%3A%2F%2Fwww.googleapis.com%2Fauth%2Fdocs.test%20https%3A%2F%2Fwww.googleapis.com%2Fauth%2Fdrive%20https%3A%2F%2Fwww.googleapis.com%2Fauth%2Fdrive.photos.readonly%20https%3A%2F%2Fwww.googleapis.com%2Fauth%2Fpeopleapi.readonly&response_type=code\n",
            "\n",
            "Enter your authorization code:\n",
            "··········\n",
            "Mounted at /content/drive\n"
          ],
          "name": "stdout"
        }
      ]
    },
    {
      "cell_type": "code",
      "metadata": {
        "id": "LjqY-p0NMdA0",
        "colab_type": "code",
        "colab": {
          "base_uri": "https://localhost:8080/",
          "height": 34
        },
        "outputId": "46016d41-741f-41ff-ba14-7d6d3f8aeacb"
      },
      "source": [
        "# set working directory\n",
        "import os\n",
        "os.chdir(\"/content/drive/My Drive/422 - Practical Machine Learning/Colab Notebooks/Assignment 7/\")\n",
        "os.getcwd()"
      ],
      "execution_count": null,
      "outputs": [
        {
          "output_type": "execute_result",
          "data": {
            "text/plain": [
              "'/content/drive/My Drive/422 - Practical Machine Learning/Colab Notebooks/Assignment 7'"
            ]
          },
          "metadata": {
            "tags": []
          },
          "execution_count": 6
        }
      ]
    },
    {
      "cell_type": "code",
      "metadata": {
        "id": "HJVALpKBMdGV",
        "colab_type": "code",
        "colab": {
          "base_uri": "https://localhost:8080/",
          "height": 51
        },
        "outputId": "005783f0-c09e-47f1-ac8b-1ad824a7d9bf"
      },
      "source": [
        "# list files in data folder\n",
        "!ls \"cats_dogs_64-128/\""
      ],
      "execution_count": null,
      "outputs": [
        {
          "output_type": "stream",
          "text": [
            "cats_1000_64_64_1.npy  dogs_1000_64_64_1.npy\n",
            "cats_1000_64_64_3.npy  dogs_1000_64_64_3.npy\n"
          ],
          "name": "stdout"
        }
      ]
    },
    {
      "cell_type": "markdown",
      "metadata": {
        "id": "Km1i-YDuM_Ya",
        "colab_type": "text"
      },
      "source": [
        "## Load Data"
      ]
    },
    {
      "cell_type": "code",
      "metadata": {
        "id": "QSzbwPBLL2jF",
        "colab_type": "code",
        "colab": {}
      },
      "source": [
        "#CatsDogs# \n",
        "# Documentation on npy binary format for saving numpy arrays for later use\n",
        "#     https://towardsdatascience.com/\n",
        "#             why-you-should-start-using-npy-file-more-often-df2a13cc0161\n",
        "# Under the working directory, data files are in directory cats_dogs_64_128 \n",
        "# Read in cats and dogs grayscale 64x64 files to create training data\n",
        "cats_1000_64_64_1 = np.load('cats_dogs_64-128/cats_1000_64_64_1.npy')\n",
        "dogs_1000_64_64_1 = np.load('cats_dogs_64-128/dogs_1000_64_64_1.npy')"
      ],
      "execution_count": null,
      "outputs": []
    },
    {
      "cell_type": "code",
      "metadata": {
        "id": "L43mgLsTM87y",
        "colab_type": "code",
        "colab": {}
      },
      "source": [
        "from matplotlib import pyplot as plt  # for display of images\n",
        "\n",
        "def show_grayscale_image(image):\n",
        "    plt.imshow(image, cmap='gray')\n",
        "    plt.axis('off')\n",
        "    plt.show()"
      ],
      "execution_count": null,
      "outputs": []
    },
    {
      "cell_type": "markdown",
      "metadata": {
        "id": "LJBcMJ79NrON",
        "colab_type": "text"
      },
      "source": [
        "## EDA"
      ]
    },
    {
      "cell_type": "code",
      "metadata": {
        "id": "6wxHfvM1NE8u",
        "colab_type": "code",
        "colab": {
          "base_uri": "https://localhost:8080/",
          "height": 519
        },
        "outputId": "e497254f-8393-4222-9dfc-e371e486542f"
      },
      "source": [
        "# Examine first cat and first dog grayscale images\n",
        "show_grayscale_image(cats_1000_64_64_1[0,:,:,0])\n",
        "show_grayscale_image(dogs_1000_64_64_1[0,:,:,0])"
      ],
      "execution_count": null,
      "outputs": [
        {
          "output_type": "display_data",
          "data": {
            "image/png": "[encoded data removed]",
            "text/plain": [
              "<Figure size 432x288 with 1 Axes>"
            ]
          },
          "metadata": {
            "tags": []
          }
        },
        {
          "output_type": "display_data",
          "data": {
            "image/png": "[encoded data removed]",
            "text/plain": [
              "<Figure size 432x288 with 1 Axes>"
            ]
          },
          "metadata": {
            "tags": []
          }
        }
      ]
    },
    {
      "cell_type": "markdown",
      "metadata": {
        "id": "521B797gNsti",
        "colab_type": "text"
      },
      "source": [
        "## Build Model"
      ]
    },
    {
      "cell_type": "code",
      "metadata": {
        "id": "f-SKqV6jNT5l",
        "colab_type": "code",
        "colab": {}
      },
      "source": [
        "# 300 and 100 nodes for layers 1 and 2 as used with MNIST from Geron\n",
        "n_hidden1 = 300\n",
        "n_hidden2 = 100\n",
        "\n",
        "channels = 1  # When working with color images use channels = 3\n",
        "\n",
        "n_inputs = height * width\n",
        "\n",
        "#CatsDogs# Has two output values # MNIST had ten digits n_outputs = 10  \n",
        "n_outputs = 2  # binary classification for Cats and Dogs, 1 output node 0/1\n",
        "\n",
        "reset_graph()"
      ],
      "execution_count": null,
      "outputs": []
    },
    {
      "cell_type": "code",
      "metadata": {
        "id": "jH_nknXINi7_",
        "colab_type": "code",
        "colab": {
          "base_uri": "https://localhost:8080/",
          "height": 105
        },
        "outputId": "a5848793-e8ca-449d-e430-cfb0f404c934"
      },
      "source": [
        "# load datasets\n",
        "start=datetime.now()\n",
        "\n",
        "# dnn... Deep neural network model from Geron Chapter 10\n",
        "# Note that this model makes no use of the fact that we have\n",
        "# pixel data arranged in rows and columns\n",
        "# So a 64x64 matrix of raster values becomes a vector of 4096 input variables\n",
        "X = tf.placeholder(tf.float32, shape=(None, n_inputs), name=\"X\")\n",
        "y = tf.placeholder(tf.int32, shape=(None), name=\"y\")\n",
        "\n",
        "def neuron_layer(X, n_neurons, name, activation=None):\n",
        "    with tf.name_scope(name):\n",
        "        n_inputs = int(X.get_shape()[1])\n",
        "        stddev = 2 / np.sqrt(n_inputs)\n",
        "        init = tf.truncated_normal((n_inputs, n_neurons), stddev=stddev)\n",
        "        W = tf.Variable(init, name=\"kernel\")\n",
        "        b = tf.Variable(tf.zeros([n_neurons]), name=\"bias\")\n",
        "        Z = tf.matmul(X, W) + b\n",
        "        if activation is not None:\n",
        "            return activation(Z)\n",
        "        else:\n",
        "            return Z\n",
        "\n",
        "with tf.name_scope(\"dnn\"):\n",
        "    hidden1 = neuron_layer(X, n_hidden1, name=\"hidden1\",\n",
        "                           activation=tf.nn.relu)\n",
        "    hidden2 = neuron_layer(hidden1, n_hidden2, name=\"hidden2\",\n",
        "                           activation=tf.nn.relu)\n",
        "    logits = neuron_layer(hidden2, n_outputs, name=\"outputs\")\n",
        "\n",
        "with tf.name_scope(\"loss\"):\n",
        "    xentropy = tf.nn.sparse_softmax_cross_entropy_with_logits(labels=y,\n",
        "                                                              logits=logits)\n",
        "    loss = tf.reduce_mean(xentropy, name=\"loss\")\n",
        "\n",
        "learning_rate = 0.01\n",
        "\n",
        "with tf.name_scope(\"train\"):\n",
        "    optimizer = tf.train.GradientDescentOptimizer(learning_rate)\n",
        "    training_op = optimizer.minimize(loss)\n",
        "    \n",
        "with tf.name_scope(\"eval\"):\n",
        "    correct = tf.nn.in_top_k(logits, y, 1)\n",
        "    accuracy = tf.reduce_mean(tf.cast(correct, tf.float32))    \n",
        "\n",
        "init = tf.global_variables_initializer()\n",
        "saver = tf.train.Saver()\n",
        "\n",
        "\n",
        "end=datetime.now()\n",
        "print(end-start)"
      ],
      "execution_count": null,
      "outputs": [
        {
          "output_type": "stream",
          "text": [
            "WARNING:tensorflow:From /usr/local/lib/python3.6/dist-packages/tensorflow/python/framework/op_def_library.py:263: colocate_with (from tensorflow.python.framework.ops) is deprecated and will be removed in a future version.\n",
            "Instructions for updating:\n",
            "Colocations handled automatically by placer.\n",
            "0:00:00.289358\n"
          ],
          "name": "stdout"
        }
      ]
    },
    {
      "cell_type": "code",
      "metadata": {
        "id": "m0FEC6o_OAJ5",
        "colab_type": "code",
        "colab": {}
      },
      "source": [
        "# Work the data for cats and dogs numpy arrays \n",
        "# These numpy arrays were generated in previous data prep work\n",
        "# Stack the numpy arrays for the inputs\n",
        "X_cat_dog = np.concatenate((cats_1000_64_64_1, dogs_1000_64_64_1), axis = 0) \n",
        "X_cat_dog = X_cat_dog.reshape(-1,width*height) # note coversion to 4096 inputs"
      ],
      "execution_count": null,
      "outputs": []
    },
    {
      "cell_type": "code",
      "metadata": {
        "id": "zzIhfQm4PWTH",
        "colab_type": "code",
        "colab": {}
      },
      "source": [
        "# Define the labels to be used 1000 cats = 0 1000 dogs = 1\n",
        "y_cat_dog = np.concatenate((np.zeros((1000), dtype = np.int32), \n",
        "                      np.ones((1000), dtype = np.int32)), axis = 0)"
      ],
      "execution_count": null,
      "outputs": []
    },
    {
      "cell_type": "markdown",
      "metadata": {
        "id": "z85P6Zo4P9sH",
        "colab_type": "text"
      },
      "source": [
        "## Split Data"
      ]
    },
    {
      "cell_type": "code",
      "metadata": {
        "id": "RO-vGxbyOQR-",
        "colab_type": "code",
        "colab": {}
      },
      "source": [
        "# Scikit Learn for random splitting of the data  \n",
        "from sklearn.model_selection import train_test_split\n",
        "\n",
        "# Random splitting of the data in to training (80%) and test (20%)  \n",
        "X_train, X_test, y_train, y_test = \\\n",
        "    train_test_split(X_cat_dog, y_cat_dog, test_size=0.20, \n",
        "                     random_state = RANDOM_SEED)"
      ],
      "execution_count": null,
      "outputs": []
    },
    {
      "cell_type": "markdown",
      "metadata": {
        "id": "VmNaPtUYP_QH",
        "colab_type": "text"
      },
      "source": [
        "## Train Model"
      ]
    },
    {
      "cell_type": "code",
      "metadata": {
        "id": "ZtYomq31PzEq",
        "colab_type": "code",
        "colab": {
          "base_uri": "https://localhost:8080/",
          "height": 867
        },
        "outputId": "d6668940-373b-438a-b16b-fd8636adfb5d"
      },
      "source": [
        "\n",
        "init = tf.global_variables_initializer()    \n",
        "\n",
        "n_epochs = 50\n",
        "batch_size = 100\n",
        "\n",
        "with tf.Session() as sess:\n",
        "    init.run()\n",
        "    for epoch in range(n_epochs):\n",
        "        for iteration in range(y_train.shape[0] // batch_size):\n",
        "            X_batch = X_train[iteration*batch_size:(iteration + 1)*batch_size,:]\n",
        "            y_batch = y_train[iteration*batch_size:(iteration + 1)*batch_size]\n",
        "            sess.run(training_op, feed_dict={X: X_batch, y: y_batch})\n",
        "        acc_train = accuracy.eval(feed_dict={X: X_batch, y: y_batch})\n",
        "        acc_test = accuracy.eval(feed_dict={X: X_test, y: y_test})\n",
        "        print(epoch, \"Train accuracy:\", acc_train, \"Test accuracy:\", acc_test)\n",
        "\n",
        "        save_path = saver.save(sess, \"./my_catdog_model\")\n",
        "\n"
      ],
      "execution_count": null,
      "outputs": [
        {
          "output_type": "stream",
          "text": [
            "0 Train accuracy: 0.59 Test accuracy: 0.4875\n",
            "1 Train accuracy: 0.59 Test accuracy: 0.4825\n",
            "2 Train accuracy: 0.59 Test accuracy: 0.4825\n",
            "3 Train accuracy: 0.59 Test accuracy: 0.4825\n",
            "4 Train accuracy: 0.59 Test accuracy: 0.4825\n",
            "5 Train accuracy: 0.59 Test accuracy: 0.4825\n",
            "6 Train accuracy: 0.59 Test accuracy: 0.4825\n",
            "7 Train accuracy: 0.59 Test accuracy: 0.4825\n",
            "8 Train accuracy: 0.59 Test accuracy: 0.4825\n",
            "9 Train accuracy: 0.59 Test accuracy: 0.4825\n",
            "10 Train accuracy: 0.59 Test accuracy: 0.4825\n",
            "11 Train accuracy: 0.59 Test accuracy: 0.4825\n",
            "12 Train accuracy: 0.59 Test accuracy: 0.4825\n",
            "13 Train accuracy: 0.59 Test accuracy: 0.4825\n",
            "14 Train accuracy: 0.59 Test accuracy: 0.4825\n",
            "15 Train accuracy: 0.59 Test accuracy: 0.4825\n",
            "16 Train accuracy: 0.59 Test accuracy: 0.4825\n",
            "17 Train accuracy: 0.59 Test accuracy: 0.4825\n",
            "18 Train accuracy: 0.59 Test accuracy: 0.4825\n",
            "19 Train accuracy: 0.59 Test accuracy: 0.4825\n",
            "20 Train accuracy: 0.59 Test accuracy: 0.4825\n",
            "21 Train accuracy: 0.59 Test accuracy: 0.4825\n",
            "22 Train accuracy: 0.59 Test accuracy: 0.4825\n",
            "23 Train accuracy: 0.59 Test accuracy: 0.4825\n",
            "24 Train accuracy: 0.59 Test accuracy: 0.4825\n",
            "25 Train accuracy: 0.59 Test accuracy: 0.4825\n",
            "26 Train accuracy: 0.59 Test accuracy: 0.4825\n",
            "27 Train accuracy: 0.59 Test accuracy: 0.4825\n",
            "28 Train accuracy: 0.59 Test accuracy: 0.4825\n",
            "29 Train accuracy: 0.59 Test accuracy: 0.4825\n",
            "30 Train accuracy: 0.59 Test accuracy: 0.4825\n",
            "31 Train accuracy: 0.59 Test accuracy: 0.4825\n",
            "32 Train accuracy: 0.59 Test accuracy: 0.4825\n",
            "33 Train accuracy: 0.59 Test accuracy: 0.4825\n",
            "34 Train accuracy: 0.59 Test accuracy: 0.4825\n",
            "35 Train accuracy: 0.59 Test accuracy: 0.4825\n",
            "36 Train accuracy: 0.59 Test accuracy: 0.4825\n",
            "37 Train accuracy: 0.59 Test accuracy: 0.4825\n",
            "38 Train accuracy: 0.59 Test accuracy: 0.4825\n",
            "39 Train accuracy: 0.59 Test accuracy: 0.4825\n",
            "40 Train accuracy: 0.59 Test accuracy: 0.4825\n",
            "41 Train accuracy: 0.59 Test accuracy: 0.4825\n",
            "42 Train accuracy: 0.59 Test accuracy: 0.4825\n",
            "43 Train accuracy: 0.59 Test accuracy: 0.4825\n",
            "44 Train accuracy: 0.59 Test accuracy: 0.4825\n",
            "45 Train accuracy: 0.59 Test accuracy: 0.4825\n",
            "46 Train accuracy: 0.59 Test accuracy: 0.4825\n",
            "47 Train accuracy: 0.59 Test accuracy: 0.4825\n",
            "48 Train accuracy: 0.59 Test accuracy: 0.4825\n",
            "49 Train accuracy: 0.59 Test accuracy: 0.4825\n"
          ],
          "name": "stdout"
        }
      ]
    },
    {
      "cell_type": "code",
      "metadata": {
        "id": "TGd8HEdJQEiA",
        "colab_type": "code",
        "colab": {}
      },
      "source": [
        ""
      ],
      "execution_count": null,
      "outputs": []
    },
    {
      "cell_type": "markdown",
      "metadata": {
        "id": "8Q0cIF_TQ82O",
        "colab_type": "text"
      },
      "source": [
        "## Keras CNN"
      ]
    },
    {
      "cell_type": "code",
      "metadata": {
        "id": "iRLEkChEgPtA",
        "colab_type": "code",
        "colab": {}
      },
      "source": [
        "from __future__ import print_function\n",
        "import keras\n",
        "from keras.datasets import mnist\n",
        "from keras.models import Sequential\n",
        "from keras.layers import Dense, Dropout, Flatten, Activation\n",
        "from keras.layers import Conv2D, MaxPooling2D\n",
        "from keras import backend as K"
      ],
      "execution_count": null,
      "outputs": []
    },
    {
      "cell_type": "code",
      "metadata": {
        "id": "m8ip882eLAs_",
        "colab_type": "code",
        "colab": {}
      },
      "source": [
        "from keras.datasets import mnist\n",
        "\n",
        "(x_train,y_train),(x_test,y_test) = mnist.load_data()"
      ],
      "execution_count": null,
      "outputs": []
    },
    {
      "cell_type": "code",
      "metadata": {
        "id": "A18kDdAjLAwX",
        "colab_type": "code",
        "colab": {}
      },
      "source": [
        "batch_size = 128\n",
        "num_classes = 10\n",
        "epochs = 10"
      ],
      "execution_count": null,
      "outputs": []
    },
    {
      "cell_type": "code",
      "metadata": {
        "id": "zG7R7g3mLAqE",
        "colab_type": "code",
        "colab": {}
      },
      "source": [
        "img_rows, img_cols = 28, 28"
      ],
      "execution_count": null,
      "outputs": []
    },
    {
      "cell_type": "code",
      "metadata": {
        "id": "oSctHM2ILAn6",
        "colab_type": "code",
        "colab": {}
      },
      "source": [
        "if K.image_data_format() == 'channels_first':\n",
        "    x_train = x_train.reshape(x_train.shape[0], 1, img_rows, img_cols)\n",
        "    x_test = x_test.reshape(x_test.shape[0], 1, img_rows, img_cols)\n",
        "    input_shape = (1, img_rows, img_cols)\n",
        "else:\n",
        "    x_train = x_train.reshape(x_train.shape[0], img_rows, img_cols, 1)\n",
        "    x_test = x_test.reshape(x_test.shape[0], img_rows, img_cols, 1)\n",
        "input_shape = (img_rows, img_cols, 1)"
      ],
      "execution_count": null,
      "outputs": []
    },
    {
      "cell_type": "code",
      "metadata": {
        "id": "ZT3AmHBQLAll",
        "colab_type": "code",
        "colab": {
          "base_uri": "https://localhost:8080/",
          "height": 66
        },
        "outputId": "ed6b82c1-fe5b-41a0-a66d-b0da8c762fe9"
      },
      "source": [
        "x_train = x_train.astype('float32')\n",
        "x_test = x_test.astype('float32')\n",
        "x_train /= 255\n",
        "x_test /= 255\n",
        "print('x_train shape:', x_train.shape)\n",
        "print(x_train.shape[0], 'train samples')\n",
        "print(x_test.shape[0], 'test samples')"
      ],
      "execution_count": null,
      "outputs": [
        {
          "output_type": "stream",
          "text": [
            "x_train shape: (60000, 28, 28, 1)\n",
            "60000 train samples\n",
            "10000 test samples\n"
          ],
          "name": "stdout"
        }
      ]
    },
    {
      "cell_type": "code",
      "metadata": {
        "id": "bzxC8E5iLAig",
        "colab_type": "code",
        "colab": {}
      },
      "source": [
        "# One hot encoding\n",
        "y_train = keras.utils.to_categorical(y_train, num_classes)\n",
        "y_test = keras.utils.to_categorical(y_test, num_classes)"
      ],
      "execution_count": null,
      "outputs": []
    },
    {
      "cell_type": "code",
      "metadata": {
        "id": "0dE7_n_fLAfl",
        "colab_type": "code",
        "colab": {}
      },
      "source": [
        "model = Sequential()"
      ],
      "execution_count": null,
      "outputs": []
    },
    {
      "cell_type": "code",
      "metadata": {
        "id": "U-T7IJ-ZLAcu",
        "colab_type": "code",
        "colab": {}
      },
      "source": [
        "import tensorflow as tf "
      ],
      "execution_count": null,
      "outputs": []
    },
    {
      "cell_type": "markdown",
      "metadata": {
        "id": "Z58r7Wnpgnf4",
        "colab_type": "text"
      },
      "source": [
        "### Adding layers"
      ]
    },
    {
      "cell_type": "code",
      "metadata": {
        "id": "iXn_Q1zALAZv",
        "colab_type": "code",
        "colab": {
          "base_uri": "https://localhost:8080/",
          "height": 70
        },
        "outputId": "ca570137-dcc5-478b-d0cb-db748ecd75c4"
      },
      "source": [
        "model.add(Conv2D(32, kernel_size=(3, 3),\n",
        "                 activation='relu',\n",
        "input_shape=input_shape))\n",
        "model.add(Conv2D(64, (3, 3), activation='relu'))\n",
        "model.add(Conv2D(128, (3, 3), activation='relu'))\n",
        "model.add(MaxPooling2D(pool_size=(2, 2)))\n",
        "model.add(Dropout(0.25))\n",
        "model.add(Flatten())\n",
        "model.add(Dense(128, activation='relu'))\n",
        "model.add(Dropout(0.5))\n",
        "model.add(Dense(num_classes, activation=Activation(tf.nn.softmax)))"
      ],
      "execution_count": null,
      "outputs": [
        {
          "output_type": "stream",
          "text": [
            "/usr/local/lib/python3.6/dist-packages/keras/activations.py:211: UserWarning: Do not pass a layer instance (such as Activation) as the activation argument of another layer. Instead, advanced activation layers should be used just like any other layer in a model.\n",
            "  identifier=identifier.__class__.__name__))\n"
          ],
          "name": "stderr"
        }
      ]
    },
    {
      "cell_type": "code",
      "metadata": {
        "id": "qdcFFcbCgv8k",
        "colab_type": "code",
        "colab": {}
      },
      "source": [
        "model.compile(loss=keras.losses.categorical_crossentropy,\n",
        "              optimizer=keras.optimizers.Adadelta(),\n",
        "metrics=['accuracy'])"
      ],
      "execution_count": null,
      "outputs": []
    },
    {
      "cell_type": "markdown",
      "metadata": {
        "id": "WdObdiQSzjN0",
        "colab_type": "text"
      },
      "source": [
        "### Train Model"
      ]
    },
    {
      "cell_type": "code",
      "metadata": {
        "id": "-NgtSjWngwGy",
        "colab_type": "code",
        "colab": {
          "base_uri": "https://localhost:8080/",
          "height": 375
        },
        "outputId": "27434ec5-e436-4e4a-f35e-2ee8ea6868b1"
      },
      "source": [
        "model.fit(x_train, y_train,\n",
        "          batch_size=batch_size,\n",
        "          epochs=epochs,\n",
        "          verbose=1,\n",
        "validation_data=(x_test, y_test))"
      ],
      "execution_count": null,
      "outputs": [
        {
          "output_type": "stream",
          "text": [
            "Train on 60000 samples, validate on 10000 samples\n",
            "Epoch 1/10\n",
            "60000/60000 [==============================] - 510s 8ms/step - loss: 0.2417 - acc: 0.9258 - val_loss: 0.0494 - val_acc: 0.9837\n",
            "Epoch 2/10\n",
            "60000/60000 [==============================] - 501s 8ms/step - loss: 0.0765 - acc: 0.9777 - val_loss: 0.0357 - val_acc: 0.9890\n",
            "Epoch 3/10\n",
            "60000/60000 [==============================] - 496s 8ms/step - loss: 0.0550 - acc: 0.9845 - val_loss: 0.0372 - val_acc: 0.9883\n",
            "Epoch 4/10\n",
            "60000/60000 [==============================] - 497s 8ms/step - loss: 0.0470 - acc: 0.9858 - val_loss: 0.0330 - val_acc: 0.9891\n",
            "Epoch 5/10\n",
            "60000/60000 [==============================] - 498s 8ms/step - loss: 0.0379 - acc: 0.9884 - val_loss: 0.0234 - val_acc: 0.9923\n",
            "Epoch 6/10\n",
            "60000/60000 [==============================] - 496s 8ms/step - loss: 0.0326 - acc: 0.9900 - val_loss: 0.0277 - val_acc: 0.9909\n",
            "Epoch 7/10\n",
            "60000/60000 [==============================] - 499s 8ms/step - loss: 0.0283 - acc: 0.9911 - val_loss: 0.0238 - val_acc: 0.9920\n",
            "Epoch 8/10\n",
            "60000/60000 [==============================] - 499s 8ms/step - loss: 0.0251 - acc: 0.9920 - val_loss: 0.0229 - val_acc: 0.9915\n",
            "Epoch 9/10\n",
            "60000/60000 [==============================] - 500s 8ms/step - loss: 0.0233 - acc: 0.9930 - val_loss: 0.0270 - val_acc: 0.9914\n",
            "Epoch 10/10\n",
            "60000/60000 [==============================] - 502s 8ms/step - loss: 0.0226 - acc: 0.9932 - val_loss: 0.0220 - val_acc: 0.9921\n"
          ],
          "name": "stdout"
        },
        {
          "output_type": "execute_result",
          "data": {
            "text/plain": [
              "<keras.callbacks.History at 0x7fd0f82a94a8>"
            ]
          },
          "metadata": {
            "tags": []
          },
          "execution_count": 35
        }
      ]
    },
    {
      "cell_type": "markdown",
      "metadata": {
        "id": "4Ek3O41gU83j",
        "colab_type": "text"
      },
      "source": [
        "### Results"
      ]
    },
    {
      "cell_type": "code",
      "metadata": {
        "id": "rmLtN-TzgwQa",
        "colab_type": "code",
        "colab": {
          "base_uri": "https://localhost:8080/",
          "height": 50
        },
        "outputId": "d6e555c1-c1c8-4269-fe0e-9796b8302f04"
      },
      "source": [
        "score = model.evaluate(x_test, y_test, verbose=0)\n",
        "print('Test loss:', score[0])\n",
        "print('Test accuracy:', score[1])"
      ],
      "execution_count": null,
      "outputs": [
        {
          "output_type": "stream",
          "text": [
            "Test loss: 0.022031682752041887\n",
            "Test accuracy: 0.9921\n"
          ],
          "name": "stdout"
        }
      ]
    }
  ]
}