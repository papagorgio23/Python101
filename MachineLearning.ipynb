{
  "nbformat": 4,
  "nbformat_minor": 0,
  "metadata": {
    "kernelspec": {
      "display_name": "Python 3",
      "language": "python",
      "name": "python3"
    },
    "language_info": {
      "codemirror_mode": {
        "name": "ipython",
        "version": 3
      },
      "file_extension": ".py",
      "mimetype": "text/x-python",
      "name": "python",
      "nbconvert_exporter": "python",
      "pygments_lexer": "ipython3",
      "version": "3.6.6"
    },
    "colab": {
      "name": "MachineLearning.ipynb",
      "provenance": [],
      "include_colab_link": true
    }
  },
  "cells": [
    {
      "cell_type": "markdown",
      "metadata": {
        "id": "view-in-github",
        "colab_type": "text"
      },
      "source": [
        "<a href=\"https://colab.research.google.com/github/papagorgio23/Python101/blob/master/MachineLearning.ipynb\" target=\"_parent\"><img src=\"https://colab.research.google.com/assets/colab-badge.svg\" alt=\"Open In Colab\"/></a>"
      ]
    },
    {
      "cell_type": "code",
      "metadata": {
        "id": "I0haUmH8KqQr",
        "colab_type": "code",
        "colab": {}
      },
      "source": [
        "# Import necessary libraries\n",
        "import pandas as pd\n",
        "import seaborn as sns\n",
        "import numpy as np\n",
        "import matplotlib.pyplot as plt\n",
        "from sklearn.model_selection import train_test_split\n",
        "from sklearn.model_selection import StratifiedKFold\n",
        "from sklearn.preprocessing import StandardScaler\n",
        "from sklearn.linear_model import LogisticRegression\n",
        "from sklearn.model_selection import cross_val_score\n",
        "from sklearn.model_selection import cross_validate\n",
        "from sklearn.preprocessing import PolynomialFeatures\n",
        "from sklearn.metrics import roc_curve\n",
        "from sklearn.model_selection import GridSearchCV\n",
        "from sklearn.linear_model import LogisticRegressionCV\n",
        "from sklearn.pipeline import make_pipeline\n",
        "from xgboost import XGBClassifier\n",
        "from sklearn.metrics import recall_score, accuracy_score\n",
        "\n",
        "# Do not show warnings\n",
        "import warnings\n",
        "warnings.filterwarnings(\"ignore\")\n",
        "\n",
        "#Read the csv files and save them in dataframes\n",
        "df_original=pd.read_csv('df_original.csv',low_memory=False)\n",
        "df_new=pd.read_csv('df_new.csv',low_memory=False)"
      ],
      "execution_count": null,
      "outputs": []
    },
    {
      "cell_type": "code",
      "metadata": {
        "id": "MR4zTVKnKqQu",
        "colab_type": "code",
        "colab": {}
      },
      "source": [
        "# Create feature dataframe and response variable series for both dataframes\n",
        "X1 = df_original.drop('charged_off',axis=1) # Feature dataframe 1\n",
        "X2 = df_new.drop('charged_off',axis=1) # Feature dataframe 2\n",
        "y = df_new.loc[:,'charged_off'] #Response variable is the same in both dataframes"
      ],
      "execution_count": null,
      "outputs": []
    },
    {
      "cell_type": "code",
      "metadata": {
        "id": "-UPf_482KqQx",
        "colab_type": "code",
        "colab": {}
      },
      "source": [
        "# Convert categorical features to dummy variables\n",
        "X1_dummy = pd.get_dummies(X1)\n",
        "X2_dummy = pd.get_dummies(X2)\n",
        "\n",
        "# Drop one level from each categorical feature. A level is picked which has middle charged-off ratio across all levels.\n",
        "# For instance, among loan grades, as the grades go from A to F, the charge-off ratio goes higher.\n",
        "# In other words, grade D has the middle charged-off ratio and is removed. is selected (check the bar plot of grade in EDA1)\n",
        "# If there is only two levels for a feature, the level with lower ratio is removed.\n",
        "\n",
        "dummy_drop_list =['term_ 36 months','grade_D','home_ownership_OTHER','verification_status_Source Verified','purpose_other',\n",
        "              'addr_state_AK','application_type_Individual','disbursement_method_Cash']\n",
        "\n",
        "# Remove features in dummy_drop_list from the two dataframes\n",
        "X1_dummy.drop(dummy_drop_list,axis=1,inplace=True)\n",
        "X2_dummy.drop(dummy_drop_list,axis=1,inplace=True)"
      ],
      "execution_count": null,
      "outputs": []
    },
    {
      "cell_type": "code",
      "metadata": {
        "id": "3M-yH0icKqQz",
        "colab_type": "code",
        "colab": {}
      },
      "source": [
        "# Split data into train and test sets\n",
        "X1_train, X1_test, y1_train, y1_test = train_test_split(X1_dummy, y, test_size=0.25,random_state=21, stratify=y)\n",
        "X2_train, X2_test, y2_train, y2_test = train_test_split(X2_dummy, y, test_size=0.25,random_state=21, stratify=y)"
      ],
      "execution_count": null,
      "outputs": []
    },
    {
      "cell_type": "code",
      "metadata": {
        "id": "zvVVR_C5KqQ1",
        "colab_type": "code",
        "colab": {}
      },
      "source": [
        "# 3 stratified folds are defined to be used as cross-validation splitting strategy. Since the training set is quite large \n",
        "# 3-fold is used instead of typical 5-fold strategy to speed up the cross validation processes.\n",
        "kfolds = StratifiedKFold(n_splits=3,random_state=21) \n",
        "\n",
        "# Define standard scaler\n",
        "scaler = StandardScaler()"
      ],
      "execution_count": null,
      "outputs": []
    },
    {
      "cell_type": "code",
      "metadata": {
        "id": "ycV2vofBKqQ4",
        "colab_type": "code",
        "colab": {},
        "outputId": "d65d9788-7341-469c-bb06-8f92f943f985"
      },
      "source": [
        "# Show the ratio of paid-off (0) and charged-off (1) loans in the response variable\n",
        "y.value_counts(normalize=True)"
      ],
      "execution_count": null,
      "outputs": [
        {
          "output_type": "execute_result",
          "data": {
            "text/plain": [
              "0    0.798853\n",
              "1    0.201147\n",
              "Name: charged_off, dtype: float64"
            ]
          },
          "metadata": {
            "tags": []
          },
          "execution_count": 6
        }
      ]
    },
    {
      "cell_type": "markdown",
      "metadata": {
        "id": "5dC-XTbYKqQ7",
        "colab_type": "text"
      },
      "source": [
        "#### The machine learning process starts with logistic regression because of its simplicity. Scikit learn recommends to use stochastic gradient descent (SGD) for large scale data. The downside of SGD is it requires tuning several parameters to provide good results. Therefore, it is decided to use logistic regression but with ‘sag’ solver which is stochastic average gradient descent. The data set must be scaled before using the ‘sag’ solver. Also, class_weight parameter of the classifier is set to 'balanced' to address imbalance dataset. The model is built by deploying a pipeline of scaler and classifier. The model showed slightly better results on both accuracy and recall scores with X2_train set than X1_train."
      ]
    },
    {
      "cell_type": "code",
      "metadata": {
        "id": "7pv-Va7QKqQ8",
        "colab_type": "code",
        "colab": {}
      },
      "source": [
        "# Classifier with weighted balance\n",
        "clf = LogisticRegression(class_weight='balanced',solver='sag',random_state=21)\n",
        "\n",
        "# define the pipeline\n",
        "pipeline = make_pipeline(scaler,clf)\n",
        "\n",
        "# Run cross-validation with accuracy and recall scroing\n",
        "scores = cross_validate(pipeline,X2_train,y2_train,cv=kfolds,scoring=['accuracy','recall'])"
      ],
      "execution_count": null,
      "outputs": []
    },
    {
      "cell_type": "code",
      "metadata": {
        "id": "l14wNUBdKqQ-",
        "colab_type": "code",
        "colab": {},
        "outputId": "f3c69f85-0064-4660-9ece-b72cc3e5505d"
      },
      "source": [
        "# Print the average of results\n",
        "print('The average of 3-fold cross-validation accuracy scores for the logistic regression is %.3f '\n",
        "        %np.mean(scores['test_accuracy']))\n",
        "print('The average of 3-fold cross-validation recall scores for the logistic regression is %.3f '\n",
        "        %np.mean(scores['test_recall']))"
      ],
      "execution_count": null,
      "outputs": [
        {
          "output_type": "stream",
          "text": [
            "The average of 3-fold cross-validation accuracy scores for the logistic regression is 0.657 \n",
            "The average of 3-fold cross-validation recall scores for the logistic regression is 0.679 \n"
          ],
          "name": "stdout"
        }
      ]
    },
    {
      "cell_type": "code",
      "metadata": {
        "id": "sv6ze66LKqRB",
        "colab_type": "code",
        "colab": {},
        "outputId": "109c366a-0814-4a65-e6d6-52945f553630"
      },
      "source": [
        "# Tune parameter C\n",
        "\n",
        "# Define LogisticRegressionCV with recall scoring. Recall is chosen because it is more important \n",
        "# to predict charged-off loans than the paid-off ones.\n",
        "clf=LogisticRegressionCV(Cs=np.logspace(-2,2,5),class_weight='balanced',solver='sag',cv=kfolds,scoring='recall',random_state=21)\n",
        "\n",
        "# define the pipeline\n",
        "pipeline = make_pipeline(scaler,clf)\n",
        "\n",
        "# Fit the pipeline to the training set\n",
        "pipeline.fit(X2_train,y2_train)"
      ],
      "execution_count": null,
      "outputs": [
        {
          "output_type": "execute_result",
          "data": {
            "text/plain": [
              "Pipeline(memory=None,\n",
              "     steps=[('standardscaler', StandardScaler(copy=True, with_mean=True, with_std=True)), ('logisticregressioncv', LogisticRegressionCV(Cs=array([1.e-02, 1.e-01, 1.e+00, 1.e+01, 1.e+02]),\n",
              "           class_weight='balanced',\n",
              "           cv=StratifiedKFold(n_splits=3, random_state=21, shuffle=False),\n",
              "      ...    random_state=21, refit=True, scoring='recall', solver='sag',\n",
              "           tol=0.0001, verbose=0))])"
            ]
          },
          "metadata": {
            "tags": []
          },
          "execution_count": 9
        }
      ]
    },
    {
      "cell_type": "code",
      "metadata": {
        "id": "B2Jola17KqRD",
        "colab_type": "code",
        "colab": {},
        "outputId": "dfa5edbc-a331-4d36-caed-8a0b13e525d1"
      },
      "source": [
        "# Access to LogisticRegressionCV\n",
        "regcv = pipeline.steps[1][1]\n",
        "\n",
        "# Print the best C\n",
        "print('Best C is ',regcv.C_)\n",
        "\n",
        "# Print the average of score for each C value\n",
        "print('The average of the three scores for each C value:\\n',regcv.scores_[1].mean(axis=0))"
      ],
      "execution_count": null,
      "outputs": [
        {
          "output_type": "stream",
          "text": [
            "Best C is  [0.1]\n",
            "The average of the three scores for each C value:\n",
            " [0.67862657 0.67873123 0.67869983 0.67869983 0.67870507]\n"
          ],
          "name": "stdout"
        }
      ]
    },
    {
      "cell_type": "markdown",
      "metadata": {
        "id": "FhVi406mKqRF",
        "colab_type": "text"
      },
      "source": [
        "#### Although the best C value is 0.1, the average of three scores across the five C values are within less than 0.001 of each other. Therefore, the default value C=1 will be kept. "
      ]
    },
    {
      "cell_type": "code",
      "metadata": {
        "id": "Ng9-gfJkKqRF",
        "colab_type": "code",
        "colab": {},
        "outputId": "dd018553-795b-4cf1-8a2c-8a60d686ab9c"
      },
      "source": [
        "# Classifier with weighted balance\n",
        "clf = LogisticRegression(class_weight='balanced',solver='sag',random_state=21)\n",
        "\n",
        "# define the pipeline\n",
        "pipeline = make_pipeline(scaler,clf)\n",
        "\n",
        "# Fit the pipeline to the training set\n",
        "pipeline.fit(X2_train,y2_train)\n",
        "\n",
        "# Create dataframe of feature coefficients\n",
        "feature_df = pd.DataFrame(np.transpose(np.abs(pipeline.steps[1][1].coef_)),columns=['coefficient'],index=X2_train.columns)\\\n",
        ".sort_values(by='coefficient')\n",
        "\n",
        "# Plot top twenty features with highest absolute value of coefficients. Since the features are scaled,\n",
        "# the absolute coefficient value represents feature importance.\n",
        "feature_df.iloc[-20:].plot.barh(figsize=(8,14),legend=False)\n",
        "plt.xlabel('Coefficients',fontsize=15)\n",
        "plt.ylabel('Features',fontsize=15)\n",
        "plt.title('Top twenty features with highest absolute value of coefficient',fontsize=15)\n",
        "plt.tick_params(axis='both', labelsize=15)\n",
        "plt.show()"
      ],
      "execution_count": null,
      "outputs": [
        {
          "output_type": "display_data",
          "data": {
            "image/png": "[encoded data removed]",
            "text/plain": [
              "<Figure size 576x1008 with 1 Axes>"
            ]
          },
          "metadata": {
            "tags": [],
            "needs_background": "light"
          }
        }
      ]
    },
    {
      "cell_type": "code",
      "metadata": {
        "id": "21I488ViKqRI",
        "colab_type": "code",
        "colab": {}
      },
      "source": [
        "# In order to analyze the important numerical features, they are discretized and the charged-off ratio across each bin\n",
        "# is claculated and plottd\n",
        "def binning(feature,bins):\n",
        "    \"\"\"This function discretize the specified feature of df based on the bins parameter and generates\n",
        "    a bar plot which shows the charged-off ratio across the bins\"\"\"\n",
        "    df_copy = df_original.loc[:,[feature,'charged_off']]\n",
        "    df_copy[feature+'_bins']=pd.cut(df_copy[feature],bins=bins).astype('str').str.replace('(','').str.replace(']','').str.replace(', ','_')\n",
        "    listt=['{}_{}'.format(float(bins[m]),float(bins[m+1])) for m in range(len(bins)-1)]\n",
        "    group=df_copy.groupby(feature+'_bins')['charged_off'].mean()\n",
        "    group.loc[listt].plot.barh(figsize=(10,8))\n",
        "    plt.ylabel(feature+'_bins',fontsize=15)\n",
        "    plt.xticks(rotation='horizontal',fontsize=15)\n",
        "    plt.xlabel('charged_off ratio',fontsize=15)\n",
        "    plt.title('charged_off ratio across all levels of {}'.format(feature+'_bins'),fontsize=15)\n",
        "    plt.show()"
      ],
      "execution_count": null,
      "outputs": []
    },
    {
      "cell_type": "code",
      "metadata": {
        "id": "SYQxy4I7KqRK",
        "colab_type": "code",
        "colab": {},
        "outputId": "4bfa7609-cade-4981-ebea-f035d82a6b4e"
      },
      "source": [
        "# Apply binning function on loan_amnt\n",
        "bins=np.arange(0.0,40001.0,5000.0)\n",
        "binning('loan_amnt',bins)"
      ],
      "execution_count": null,
      "outputs": [
        {
          "output_type": "display_data",
          "data": {
            "image/png": "[encoded data removed]",
            "text/plain": [
              "<Figure size 720x576 with 1 Axes>"
            ]
          },
          "metadata": {
            "tags": [],
            "needs_background": "light"
          }
        }
      ]
    },
    {
      "cell_type": "code",
      "metadata": {
        "id": "fGD2T04gKqRO",
        "colab_type": "code",
        "colab": {},
        "outputId": "c698d43d-3d11-4213-d009-317b66e5e445"
      },
      "source": [
        "# Apply binning function on dti\n",
        "bins=np.arange(0,46.0,5.0)\n",
        "binning('dti',bins)"
      ],
      "execution_count": null,
      "outputs": [
        {
          "output_type": "display_data",
          "data": {
            "image/png": "[encoded data removed]",
            "text/plain": [
              "<Figure size 720x576 with 1 Axes>"
            ]
          },
          "metadata": {
            "tags": [],
            "needs_background": "light"
          }
        }
      ]
    },
    {
      "cell_type": "code",
      "metadata": {
        "id": "OLU9JV3EKqRR",
        "colab_type": "code",
        "colab": {},
        "outputId": "ebc48e0a-0fd7-464f-abfd-3a216b58e331"
      },
      "source": [
        "# Apply binning function on int_rate\n",
        "bins=np.arange(5,30,2.5)\n",
        "binning('int_rate',bins)"
      ],
      "execution_count": null,
      "outputs": [
        {
          "output_type": "display_data",
          "data": {
            "image/png": "[encoded data removed]",
            "text/plain": [
              "<Figure size 720x576 with 1 Axes>"
            ]
          },
          "metadata": {
            "tags": [],
            "needs_background": "light"
          }
        }
      ]
    },
    {
      "cell_type": "code",
      "metadata": {
        "id": "csJd83l1KqRT",
        "colab_type": "code",
        "colab": {},
        "outputId": "92c7b954-cdca-48ad-e977-147e16c1f393"
      },
      "source": [
        "# 'emp_title','zip_code' were originally categorical and were transformed to numerical. They both\n",
        "# have high coefficients. It is worth checking the performnace of the logistic regression classifier after removing them.\n",
        "X2_train_new = X2_train.drop(['emp_title','zip_code'],axis=1)\n",
        "\n",
        "# Run cross-validation score\n",
        "scores = cross_val_score(pipeline,X2_train_new,y2_train,cv=kfolds,scoring='recall')\n",
        "\n",
        "# Print the average of results\n",
        "print('The average of 3-fold cross-validation recall scores for the logistic regression classifier after \\\n",
        "removing employment title \\nand zip code is %.3f'%np.mean(scores))"
      ],
      "execution_count": null,
      "outputs": [
        {
          "output_type": "stream",
          "text": [
            "The average of 3-fold cross-validation recall scores for the logistic regression classifier after removing employment title \n",
            "and zip code is 0.674\n"
          ],
          "name": "stdout"
        }
      ]
    },
    {
      "cell_type": "code",
      "metadata": {
        "id": "tfdc-MoaKqRV",
        "colab_type": "code",
        "colab": {}
      },
      "source": [
        "### Removing 'emp_title','zip_code' did not improve the recall score. Therefore, they will be kept."
      ],
      "execution_count": null,
      "outputs": []
    },
    {
      "cell_type": "code",
      "metadata": {
        "id": "tLsB6LoaKqRY",
        "colab_type": "code",
        "colab": {},
        "outputId": "49a7ba93-def4-492f-ef4d-b01ac7b970cd"
      },
      "source": [
        "# Print number of features in X2\n",
        "print('X2 has {} features'.format(len(X2_train.columns)))"
      ],
      "execution_count": null,
      "outputs": [
        {
          "output_type": "stream",
          "text": [
            "X2 has 128 features\n"
          ],
          "name": "stdout"
        }
      ]
    },
    {
      "cell_type": "code",
      "metadata": {
        "id": "DoLniUs0KqRa",
        "colab_type": "code",
        "colab": {}
      },
      "source": [
        "# Add interaction terms. There are 128 features after transforming categorical features. Interaction between all of them\n",
        "# make the model too complex. Fifty of the features are dummy variables of states. Since these variables do not have\n",
        "# large coefficients, they are removed before adding interaction terms.\n",
        "\n",
        "new_feature_list = [feature for feature in X2_train.columns if 'addr_state' not in feature]\n",
        "X2_train_new = X2_train.loc[:,new_feature_list]\n",
        "\n",
        "# Define interaction terms\n",
        "interaction = PolynomialFeatures(degree = 2,interaction_only=True)\n",
        "\n",
        "# Define pipeline\n",
        "pipeline = make_pipeline(interaction,scaler,clf)\n",
        "\n",
        "# Run cross-validation \n",
        "scores = cross_val_score(pipeline,X2_train_new,y2_train,cv=kfolds,scoring='recall')\n",
        "\n",
        "#print results\n",
        "print('The average 3-fold cross-validation recall scores for the logistic regression with interaction terms is %.3f '\n",
        "      %np.mean(scores))"
      ],
      "execution_count": null,
      "outputs": []
    },
    {
      "cell_type": "markdown",
      "metadata": {
        "id": "HdhYPXVxKqRc",
        "colab_type": "text"
      },
      "source": [
        "#### The average cross validation recall score improved only by 0.002. Therefore, the interaction terms will not be added to the logistic regression model."
      ]
    },
    {
      "cell_type": "code",
      "metadata": {
        "id": "j8pv-fw8KqRc",
        "colab_type": "code",
        "colab": {},
        "outputId": "be2a3c10-0ebe-415c-8886-50d865264c8c"
      },
      "source": [
        "# Plot ROC curve for the training data set\n",
        "\n",
        "# Classifier\n",
        "clf = LogisticRegression(class_weight='balanced',solver='sag',random_state=21)\n",
        "\n",
        "# Pipeline\n",
        "pipeline = make_pipeline(scaler,clf)\n",
        "\n",
        "# Fit pipeline to training set\n",
        "pipeline.fit(X2_train,y2_train)\n",
        "\n",
        "# Compute probability estimates\n",
        "y2_predict_proba = pipeline.predict_proba(X2_train)\n",
        "\n",
        "# Compute true positive ratio (recall) and false positive ratio\n",
        "fpr, tpr, thresholds = roc_curve(y2_train,y2_predict_proba[:,1])\n",
        "\n",
        "# Find the false positive ratio corresponding to recall 0.679\n",
        "a = np.argwhere(np.round(tpr,3)==0.679)[0]\n",
        "b = np.float(fpr[a])\n",
        "\n",
        "# Plot ROC curve and the point corresponding to threshold  = 0.5\n",
        "plt.plot([0, 1], [0, 1], 'k--')\n",
        "plt.plot(fpr,tpr)\n",
        "plt.plot(b,0.679,marker='x',markersize=5,color='black')\n",
        "plt.annotate('Threshold=0.5 \\n(0.679,%.2f)'%b,(b,0.7),(0.05,0.9),arrowprops={'color':'red'})\n",
        "plt.xlabel('false positive ratio')\n",
        "plt.ylabel('recall (true positive ratio)')\n",
        "plt.title('ROC curve')\n",
        "plt.show()"
      ],
      "execution_count": null,
      "outputs": [
        {
          "output_type": "display_data",
          "data": {
            "image/png": "[encoded data removed]",
            "text/plain": [
              "<Figure size 432x288 with 1 Axes>"
            ]
          },
          "metadata": {
            "tags": [],
            "needs_background": "light"
          }
        }
      ]
    },
    {
      "cell_type": "markdown",
      "metadata": {
        "id": "mVMOi9CzKqRe",
        "colab_type": "text"
      },
      "source": [
        "#### Raising the threshold to increase recall in the expense of increasing false positive ratio is a business decision, but in my opinion, false positive ratio of 0.35 is already too high because it means more than one-third of eligible applicants are labeled as charged-off. Therefore, the threshold will not be raised."
      ]
    },
    {
      "cell_type": "markdown",
      "metadata": {
        "id": "kvjHurToKqRf",
        "colab_type": "text"
      },
      "source": [
        "#### Conclusion: The final logistic regression classifier has the following parameters: class_weight='balanced', solver='sag', and C=1. The average 3-fold cross-validation accuracy and recall scores of the logistic regression are 0.657 and 0.679, respectively."
      ]
    },
    {
      "cell_type": "markdown",
      "metadata": {
        "id": "04J9mFA6KqRf",
        "colab_type": "text"
      },
      "source": [
        "#### It was necessary to make several data transformation on numerical features because of the special distribution of each feature. Tree-based models are robust to data distributions. Therefore, an XGBoost classifier is developed in the next section."
      ]
    },
    {
      "cell_type": "markdown",
      "metadata": {
        "id": "fEnEo4CuKqRf",
        "colab_type": "text"
      },
      "source": [
        "# XGBoost Classifier"
      ]
    },
    {
      "cell_type": "code",
      "metadata": {
        "id": "SJUgSBVYKqRg",
        "colab_type": "code",
        "colab": {}
      },
      "source": [
        "# Define classifier \n",
        "clf = XGBClassifier(scale_pos_weight=4,random_state=21)\n",
        "\n",
        "# Run cross validation\n",
        "scores = cross_validate(clf,X1_train,y1_train,cv=kfolds,scoring=['accuracy','recall'])"
      ],
      "execution_count": null,
      "outputs": []
    },
    {
      "cell_type": "code",
      "metadata": {
        "id": "K7raqwbqKqRh",
        "colab_type": "code",
        "colab": {},
        "outputId": "fb7cf2ae-42a2-4b6c-e9d4-eb4c75b4293c"
      },
      "source": [
        "# Print the average of results\n",
        "print('The average of 3-fold cross-validation accuracy scores for the XGBoost classifier is %.3f '\n",
        "      %np.mean(scores['test_accuracy']))\n",
        "print('The average of 3-fold cross-validation recall scores for the XGBoost classifier is %.3f '\n",
        "        %np.mean(scores['test_recall']))"
      ],
      "execution_count": null,
      "outputs": [
        {
          "output_type": "stream",
          "text": [
            "The average of 3-fold cross-validation accuracy scores for the XGBoost classifier is 0.659 \n",
            "The average of 3-fold cross-validation recall scores for the XGBoost classifier is 0.684 \n"
          ],
          "name": "stdout"
        }
      ]
    },
    {
      "cell_type": "markdown",
      "metadata": {
        "id": "ly99VoG0KqRj",
        "colab_type": "text"
      },
      "source": [
        "#### Both accuracy and recall scores slightly improved compared to the logistic regression classifier."
      ]
    },
    {
      "cell_type": "markdown",
      "metadata": {
        "id": "GUqg8dpNKqRk",
        "colab_type": "text"
      },
      "source": [
        "#### In order to improve the recall score, five parameters are tuned based on the mentioned values: n_estimators: {20,50,100}, learning_rate: {0.05,0.1,0.2}, max_depth: {3,4,5}, subsample:{0.6,0.8,1}, and colsample_bytree:{0.4,0.7,1}. Since the dataset is quite large, the parameters are tuned one by one. The process starts with number of estimators and assign the rest of parameters to the middle value of their corresponding set."
      ]
    },
    {
      "cell_type": "code",
      "metadata": {
        "id": "zYXNcIWeKqRk",
        "colab_type": "code",
        "colab": {}
      },
      "source": [
        "# Define a function which receives classifier, parameter values, cross-validation folds, and features and response \n",
        "# variable of training set as inputs, tune hyper parameters and prints the best score and best parameter value\n",
        "\n",
        "def tuning(classifier,param_set,cv_folds=kfolds,train_feature=X1_train,train_response=y1_train):\n",
        "    \"\"\"This function tunes hyper parameters of the classifier. The hyper parameters are defined by parame_set.\n",
        "    The tuning is performed by GridSearchCV with folds defined by cv_folds.\"\"\"\n",
        "    model = GridSearchCV(classifier,param_grid=param_set,cv=cv_folds,scoring='recall') \n",
        "    model.fit(train_feature,train_response)\n",
        "    print('The best score in parameter tuning is: %.3f'%model.best_score_)\n",
        "    print('The best parameter value is: ',model.best_params_)    \n",
        "    return model"
      ],
      "execution_count": null,
      "outputs": []
    },
    {
      "cell_type": "code",
      "metadata": {
        "id": "7TzLjLWuKqRm",
        "colab_type": "code",
        "colab": {},
        "outputId": "fbb0d524-2b96-4542-a397-f8ffc186db1e"
      },
      "source": [
        "# Define classifier\n",
        "clf = XGBClassifier(scale_pos_weight=4,random_state=21,learning_rate=0.1,max_depth=4,subsample=0.8,colsample_bytree=0.7)\n",
        "\n",
        "# Define parameter\n",
        "parameter = {'n_estimators':[20,50,100]}\n",
        "\n",
        "# Run tuning on the classifier\n",
        "cv = tuning(clf,parameter)"
      ],
      "execution_count": null,
      "outputs": [
        {
          "output_type": "stream",
          "text": [
            "The best score in parameter tuning is: 0.687\n",
            "The best parameter value is:  {'n_estimators': 100}\n"
          ],
          "name": "stdout"
        }
      ]
    },
    {
      "cell_type": "code",
      "metadata": {
        "id": "6RQw4x0jKqRp",
        "colab_type": "code",
        "colab": {},
        "outputId": "1343a416-5aea-48cb-dfc1-079735731d0c"
      },
      "source": [
        "# Print the mean of test scores for each value of n_estimators \n",
        "cv.cv_results_['mean_test_score']"
      ],
      "execution_count": null,
      "outputs": [
        {
          "output_type": "execute_result",
          "data": {
            "text/plain": [
              "array([0.68673298, 0.68503215, 0.68701558])"
            ]
          },
          "metadata": {
            "tags": []
          },
          "execution_count": 14
        }
      ]
    },
    {
      "cell_type": "code",
      "metadata": {
        "id": "RI_QEIegKqRr",
        "colab_type": "code",
        "colab": {},
        "outputId": "36b8eee6-a80b-4cf3-9e39-a0de4d589818"
      },
      "source": [
        "# Score goes up quite slowly.Therefore, n_estimators beyond 100 will not be tested. \n",
        "# Tune learning_rate\n",
        "\n",
        "# Define classifier\n",
        "clf = XGBClassifier(scale_pos_weight=4,random_state=21,n_estimators=100,max_depth=4,subsample=0.8,colsample_bytree=0.7)\n",
        "\n",
        "# Define parameter\n",
        "parameter = {'learning_rate':[0.05,0.1,0.2]}\n",
        "\n",
        "# Run tuning on the classifier\n",
        "cv = tuning(clf,parameter)"
      ],
      "execution_count": null,
      "outputs": [
        {
          "output_type": "stream",
          "text": [
            "The best score in parameter tuning is: 0.688\n",
            "The best parameter value is:  {'learning_rate': 0.2}\n"
          ],
          "name": "stdout"
        }
      ]
    },
    {
      "cell_type": "code",
      "metadata": {
        "id": "2q65AIPNKqRt",
        "colab_type": "code",
        "colab": {},
        "outputId": "b3588c45-b805-4458-d032-0c5d36d1d457"
      },
      "source": [
        "# Print the mean of test scores for each value of learning_rate \n",
        "cv.cv_results_['mean_test_score']"
      ],
      "execution_count": null,
      "outputs": [
        {
          "output_type": "execute_result",
          "data": {
            "text/plain": [
              "array([0.68663879, 0.68701558, 0.68807795])"
            ]
          },
          "metadata": {
            "tags": []
          },
          "execution_count": 16
        }
      ]
    },
    {
      "cell_type": "code",
      "metadata": {
        "id": "YKBy3q5gKqRv",
        "colab_type": "code",
        "colab": {},
        "outputId": "63f1450c-9da0-463c-c6fd-1a8e48c09af5"
      },
      "source": [
        "# Score goes up very slowly. Therefore, learning_rate beyond 0.2 will not be tested. \n",
        "# Tune max_depth.\n",
        "\n",
        "# Define classifier\n",
        "clf = XGBClassifier(scale_pos_weight=4,random_state=21,n_estimators=100,learning_rate=0.2,subsample=0.8,colsample_bytree=0.7)\n",
        "\n",
        "# Define parameter\n",
        "parameter = {'max_depth':[3,4,5]}\n",
        "\n",
        "# Run tuning on the classifier\n",
        "cv = tuning(clf,parameter)"
      ],
      "execution_count": null,
      "outputs": [
        {
          "output_type": "stream",
          "text": [
            "The best score in parameter tuning is: 0.688\n",
            "The best parameter value is:  {'max_depth': 4}\n"
          ],
          "name": "stdout"
        }
      ]
    },
    {
      "cell_type": "code",
      "metadata": {
        "id": "6HN4bbYpKqRz",
        "colab_type": "code",
        "colab": {},
        "outputId": "18c8864a-f659-4171-f8d6-77a234bbe161"
      },
      "source": [
        "# Print the mean of test scores for each value of max_depth\n",
        "cv.cv_results_['mean_test_score']"
      ],
      "execution_count": null,
      "outputs": [
        {
          "output_type": "execute_result",
          "data": {
            "text/plain": [
              "array([0.68701559, 0.68807795, 0.68673822])"
            ]
          },
          "metadata": {
            "tags": []
          },
          "execution_count": 18
        }
      ]
    },
    {
      "cell_type": "code",
      "metadata": {
        "id": "ZJwxw3QiKqR1",
        "colab_type": "code",
        "colab": {},
        "outputId": "b22d7207-c64d-49d8-c5d0-6ecb18cbefe9"
      },
      "source": [
        "# max_depth = 4\n",
        "#Tune subsample\n",
        "\n",
        "# Define classifier\n",
        "clf = XGBClassifier(scale_pos_weight=4,random_state=21,n_estimators=100,learning_rate=0.2,max_depth=4,colsample_bytree=0.7)\n",
        "\n",
        "# Define parameter\n",
        "parameter = {'subsample':[0.6,0.8,1]}\n",
        "\n",
        "# Run tuning on the classifier\n",
        "cv = tuning(clf,parameter)"
      ],
      "execution_count": null,
      "outputs": [
        {
          "output_type": "stream",
          "text": [
            "The best score in parameter tuning is: 0.688\n",
            "The best parameter value is:  {'subsample': 0.6}\n"
          ],
          "name": "stdout"
        }
      ]
    },
    {
      "cell_type": "code",
      "metadata": {
        "id": "Ud25snLoKqR3",
        "colab_type": "code",
        "colab": {},
        "outputId": "9ae0132a-10fb-439d-af16-2f14d13b83f5"
      },
      "source": [
        "# Print the mean of test scores for each value of subsample \n",
        "cv.cv_results_['mean_test_score']"
      ],
      "execution_count": null,
      "outputs": [
        {
          "output_type": "execute_result",
          "data": {
            "text/plain": [
              "array([0.68828205, 0.68807795, 0.68772731])"
            ]
          },
          "metadata": {
            "tags": []
          },
          "execution_count": 20
        }
      ]
    },
    {
      "cell_type": "code",
      "metadata": {
        "id": "SlguSk8mKqR5",
        "colab_type": "code",
        "colab": {},
        "outputId": "f253e9ff-8c87-43b2-f89a-d296926d75c1"
      },
      "source": [
        "# Score goes up very slowly as the subsample goes down. Therefore, subsamples below 0.6 will not be tested. \n",
        "# Tune colsample_bytree\n",
        "\n",
        "# Define classifier\n",
        "clf = XGBClassifier(scale_pos_weight=4,random_state=21,n_estimators=100,learning_rate=0.2,max_depth=4,subsample=0.6)\n",
        "\n",
        "# Define parameter\n",
        "parameter = {'colsample_bytree':[0.4,0.7,1]}\n",
        "\n",
        "# Run tuning on the classifier\n",
        "cv = tuning(clf,parameter)"
      ],
      "execution_count": null,
      "outputs": [
        {
          "output_type": "stream",
          "text": [
            "The best score in parameter tuning is: 0.688\n",
            "The best parameter value is:  {'colsample_bytree': 0.7}\n"
          ],
          "name": "stdout"
        }
      ]
    },
    {
      "cell_type": "code",
      "metadata": {
        "id": "t7F_F1aJKqR7",
        "colab_type": "code",
        "colab": {},
        "outputId": "00fe2650-2d32-4f34-e827-6af56afa5bcd"
      },
      "source": [
        "# Print the mean of test scores for each value of colsample_bytree\n",
        "cv.cv_results_['mean_test_score']"
      ],
      "execution_count": null,
      "outputs": [
        {
          "output_type": "execute_result",
          "data": {
            "text/plain": [
              "array([0.68619395, 0.68828205, 0.68772732])"
            ]
          },
          "metadata": {
            "tags": []
          },
          "execution_count": 22
        }
      ]
    },
    {
      "cell_type": "code",
      "metadata": {
        "scrolled": true,
        "id": "Yz43PLNOKqR8",
        "colab_type": "code",
        "colab": {},
        "outputId": "82c771ab-f829-45f6-ac82-f02c9e7d27bf"
      },
      "source": [
        "# Define the classifier with tuned parameters\n",
        "clf = XGBClassifier(scale_pos_weight=4,random_state=21,n_estimators=100,learning_rate=0.2,max_depth=4,subsample=0.6\n",
        "                    ,colsample_bytree=0.7)\n",
        "\n",
        "# Fit the classifier to the training set\n",
        "clf.fit(X1_train,y1_train)"
      ],
      "execution_count": null,
      "outputs": [
        {
          "output_type": "execute_result",
          "data": {
            "text/plain": [
              "XGBClassifier(base_score=0.5, booster='gbtree', colsample_bylevel=1,\n",
              "       colsample_bytree=0.7, gamma=0, learning_rate=0.2, max_delta_step=0,\n",
              "       max_depth=4, min_child_weight=1, missing=None, n_estimators=100,\n",
              "       n_jobs=1, nthread=None, objective='binary:logistic',\n",
              "       random_state=21, reg_alpha=0, reg_lambda=1, scale_pos_weight=4,\n",
              "       seed=None, silent=True, subsample=0.6)"
            ]
          },
          "metadata": {
            "tags": []
          },
          "execution_count": 8
        }
      ]
    },
    {
      "cell_type": "code",
      "metadata": {
        "id": "6LmtOJftKqR-",
        "colab_type": "code",
        "colab": {},
        "outputId": "80662b9f-4a5a-4fe8-c979-e2a1435aaa86"
      },
      "source": [
        "# Plot the feature importance diagram of top 20 most important features.\n",
        "features = pd.DataFrame(clf.feature_importances_, index = X1_train.columns,\n",
        "                            columns=['importance']).sort_values('importance',ascending=True)\n",
        "\n",
        "features.iloc[-20:].plot.barh(figsize=(8,14),legend = False)\n",
        "plt.xlabel('Importance',fontsize=15)\n",
        "plt.ylabel('Features',fontsize=15)\n",
        "plt.tick_params(axis='both', labelsize=15)\n",
        "plt.title ('Twenty most important features of XGBoost classifier',fontsize=15)\n",
        "plt.show()"
      ],
      "execution_count": null,
      "outputs": [
        {
          "output_type": "display_data",
          "data": {
            "image/png": "[encoded data removed]",
            "text/plain": [
              "<Figure size 576x1008 with 1 Axes>"
            ]
          },
          "metadata": {
            "tags": [],
            "needs_background": "light"
          }
        }
      ]
    },
    {
      "cell_type": "code",
      "metadata": {
        "id": "KJDsODU0KqSA",
        "colab_type": "code",
        "colab": {},
        "outputId": "50b18c4f-7ddb-4668-aa68-8f03575b333c"
      },
      "source": [
        "# As the feature importance diagram is showing, emp_title and zip_code are first and forth most important features.\n",
        "# Since the two features were originally categorical variables and were transformed to numerical ones, it is worth \n",
        "# checking if removing them improves the performance of the model\n",
        "\n",
        "X1_train_new = X1_train.drop(['emp_title','zip_code'],axis=1)\n",
        "\n",
        "# Run cross-validation score\n",
        "scores = cross_val_score(clf,X1_train_new,y1_train,cv=kfolds,scoring='recall')\n",
        "\n",
        "# Print the average of results\n",
        "print('The average of 3-fold cross-validation recall scores for the XGBoost classifier after removing employment title \\\n",
        "and zip code \\nis %.3f'%np.mean(scores))"
      ],
      "execution_count": null,
      "outputs": [
        {
          "output_type": "stream",
          "text": [
            "The average of 3-fold cross-validation recall scores for the XGBoost classifier after removing employment title and zip code \n",
            "is 0.679\n"
          ],
          "name": "stdout"
        }
      ]
    },
    {
      "cell_type": "code",
      "metadata": {
        "id": "ycGm6owgKqSC",
        "colab_type": "code",
        "colab": {}
      },
      "source": [
        "# Removing 'emp_title','zip_code' did not improve the recall score. Therefore, they will be kept."
      ],
      "execution_count": null,
      "outputs": []
    },
    {
      "cell_type": "code",
      "metadata": {
        "scrolled": false,
        "id": "Hkvhnea-KqSE",
        "colab_type": "code",
        "colab": {},
        "outputId": "14d71c33-ea7f-4762-ddc1-c1825522818d"
      },
      "source": [
        "# Now the model is simplified by keeping the important features and removing the rest\n",
        "\n",
        "# Create a list of features with importance higher than 0\n",
        "feature_keep = features.loc[features.importance>0].index\n",
        "\n",
        "# Print the number of important features\n",
        "print('The number of features with importance more than 0 is ',len(feature_keep))"
      ],
      "execution_count": null,
      "outputs": [
        {
          "output_type": "stream",
          "text": [
            "The number of features with importance more than 0 is  81\n"
          ],
          "name": "stdout"
        }
      ]
    },
    {
      "cell_type": "code",
      "metadata": {
        "id": "ZDSYhHmDKqSG",
        "colab_type": "code",
        "colab": {},
        "outputId": "0e91f75a-5135-4a91-9962-1e0ed21cfede"
      },
      "source": [
        "# Remove unimportant features\n",
        "X1_train_new = X1_train.loc[:,feature_keep]\n",
        "\n",
        "# Run cross-validate score to make sure performance of the model did not decrease\n",
        "scores = cross_validate(clf,X1_train_new,y1_train,cv=kfolds,scoring=['recall','accuracy'])\n",
        "\n",
        "# Print the results\n",
        "print('The average of 3-fold cross-validation accuracy scores for the XGBoost classifier after removing unimportant features is %.3f '\n",
        "        %np.mean(scores['test_accuracy']))\n",
        "print('The average of 3-fold cross-validation recall scores for the XGBoost classifier after removing unimportant features is %.3f '\n",
        "        %np.mean(scores['test_recall']))"
      ],
      "execution_count": null,
      "outputs": [
        {
          "output_type": "stream",
          "text": [
            "The average of 3-fold cross-validation accuracy scores for the XGBoost classifier after removing unimportant features is 0.667 \n",
            "The average of 3-fold cross-validation recall scores for the XGBoost classifier after removing unimportant features is 0.689 \n"
          ],
          "name": "stdout"
        }
      ]
    },
    {
      "cell_type": "markdown",
      "metadata": {
        "id": "v3GKyLXNKqSI",
        "colab_type": "text"
      },
      "source": [
        "### Final Model: both average 3-fold cross-validation accuracy and recall scores of the XGBoost classifier are only about 1.5% higher than the corresponding scores of the logistic regression model. Since the logistic regression model is simpler and more interpretable, it is selected as the final model."
      ]
    },
    {
      "cell_type": "markdown",
      "metadata": {
        "id": "Ctr6QIloKqSI",
        "colab_type": "text"
      },
      "source": [
        "### Find the accuracy and recall scores of the test set."
      ]
    },
    {
      "cell_type": "code",
      "metadata": {
        "id": "_13256HZKqSI",
        "colab_type": "code",
        "colab": {},
        "outputId": "876dafab-5e9e-4331-8f92-8c79fbe81a6e"
      },
      "source": [
        "# Classifier with weighted balance\n",
        "clf = LogisticRegression(class_weight='balanced',solver='sag',random_state=21)\n",
        "\n",
        "# define the pipeline\n",
        "pipeline = make_pipeline(scaler,clf)\n",
        "\n",
        "# Fit the pipeline on the train set\n",
        "pipeline.fit(X2_train,y2_train)\n",
        "\n",
        "# Predict the response variable of the test set\n",
        "y2_predict = pipeline.predict(X2_test)\n",
        "\n",
        "# Print recall and accuracy scores of the test set\n",
        "print('The accuracy score of the test set is %.3f'%accuracy_score(y2_test,y2_predict))\n",
        "print('The recall score of the test set is %.3f'%recall_score(y2_test,y2_predict))"
      ],
      "execution_count": null,
      "outputs": [
        {
          "output_type": "stream",
          "text": [
            "The accuracy score of the test set is 0.658\n",
            "The recall score of the test set is 0.679\n"
          ],
          "name": "stdout"
        }
      ]
    },
    {
      "cell_type": "markdown",
      "metadata": {
        "id": "hFl6LM2fKqSK",
        "colab_type": "text"
      },
      "source": [
        "### Recall score of the test set is the same as the average 3-fold cross-validation recall score of the training set. Accuracy score of the test set is 0.001 more than the average 3-fold cross-validation accuracy score of the training set."
      ]
    },
    {
      "cell_type": "code",
      "metadata": {
        "id": "9z_ik2ZRKqSK",
        "colab_type": "code",
        "colab": {}
      },
      "source": [
        ""
      ],
      "execution_count": null,
      "outputs": []
    }
  ]
}