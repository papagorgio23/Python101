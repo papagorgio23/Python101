{
  "nbformat": 4,
  "nbformat_minor": 0,
  "metadata": {
    "colab": {
      "name": "Guessing Game 1.ipynb",
      "version": "0.3.2",
      "provenance": [],
      "collapsed_sections": [],
      "toc_visible": true,
      "include_colab_link": true
    },
    "kernelspec": {
      "name": "python3",
      "display_name": "Python 3"
    }
  },
  "cells": [
    {
      "cell_type": "markdown",
      "metadata": {
        "id": "view-in-github",
        "colab_type": "text"
      },
      "source": [
        "<a href=\"https://colab.research.google.com/github/papagorgio23/Python101/blob/master/Guessing_Game_1.ipynb\" target=\"_parent\"><img src=\"https://colab.research.google.com/assets/colab-badge.svg\" alt=\"Open In Colab\"/></a>"
      ]
    },
    {
      "cell_type": "markdown",
      "metadata": {
        "id": "m4aFmUV4KfSg",
        "colab_type": "text"
      },
      "source": [
        "# Guessing Game"
      ]
    },
    {
      "cell_type": "markdown",
      "metadata": {
        "id": "uEGG1PcrKhnZ",
        "colab_type": "text"
      },
      "source": [
        "This session is going to help us improve our Python programming skills using:\n",
        "\n",
        "\n",
        "\n",
        "*   Functions\n",
        "*   Flow Control\n",
        "*   User Inputs\n",
        "*   Error Handling\n",
        "*   Flexible Printing\n",
        "*   Randomized Responses\n",
        "*   If-Then and Else-If Statements\n",
        "\n",
        "\n"
      ]
    },
    {
      "cell_type": "markdown",
      "metadata": {
        "id": "OH8ChHH_nA6N",
        "colab_type": "text"
      },
      "source": [
        "## Game Details:\n",
        "\n",
        "This game is very simple... \n",
        "\n",
        "\n",
        "\n",
        "*   The program will randomly pick a number between some range (we'll ask the player to pick the range). \n",
        "*   The player will have a certain number of attempts to guess that number. \n",
        "*   The program will let the player know if their guess was either too high or too low after each guess. \n",
        "*   Game Over. Player either wins or losses.\n",
        "\n"
      ]
    },
    {
      "cell_type": "markdown",
      "metadata": {
        "id": "9bRuB326L8fc",
        "colab_type": "text"
      },
      "source": [
        "# Steps to Build Game\n",
        "\n",
        "\n",
        "\n",
        "1.   Create function the gets a guess from the player\n",
        "2.   Create responses to guess\n",
        "3.   Map out the game flow\n",
        "4.   Wrap it all into one function to play the game\n",
        "\n",
        "\n",
        "\n",
        "\n",
        "<br>\n",
        "\n",
        "\n",
        "\n",
        "---\n",
        "\n"
      ]
    },
    {
      "cell_type": "markdown",
      "metadata": {
        "id": "_doFjancatmU",
        "colab_type": "text"
      },
      "source": [
        "## Step 1 - Ask Player For Their Guess"
      ]
    },
    {
      "cell_type": "markdown",
      "metadata": {
        "id": "nUrgPgTbseRE",
        "colab_type": "text"
      },
      "source": [
        "Whenever you are dealing with a user input you need to make sure that they enter what you actually want them to enter...\n",
        "\n",
        "Python handles numbers and characters differently and we need to make sure that we get a numeric response. \n",
        "\n",
        "We also need to make sure the guess is an integer. We don't want people guessing random decimal numbers."
      ]
    },
    {
      "cell_type": "code",
      "metadata": {
        "id": "wxku7FUwqtIb",
        "colab_type": "code",
        "colab": {}
      },
      "source": [
        "import random"
      ],
      "execution_count": 0,
      "outputs": []
    },
    {
      "cell_type": "markdown",
      "metadata": {
        "id": "9DQTku0NgCRy",
        "colab_type": "text"
      },
      "source": [
        "### Key Concept: User Input"
      ]
    },
    {
      "cell_type": "code",
      "metadata": {
        "id": "Cq97ta17bFGl",
        "colab_type": "code",
        "colab": {
          "base_uri": "https://localhost:8080/",
          "height": 34
        },
        "outputId": "b820eb14-d692-4b09-b40e-f3ff4f7185e9"
      },
      "source": [
        "# ask player for a number between a range \n",
        "start = 1\n",
        "end = 100\n",
        "guess = input(\"Please guess a number between {0} and {1}: \".format(start, end))\n"
      ],
      "execution_count": 1,
      "outputs": [
        {
          "output_type": "stream",
          "text": [
            "Please guess a number between 1 and 100: 6\n"
          ],
          "name": "stdout"
        }
      ]
    },
    {
      "cell_type": "code",
      "metadata": {
        "id": "67_DLRF6ie1C",
        "colab_type": "code",
        "colab": {
          "base_uri": "https://localhost:8080/",
          "height": 34
        },
        "outputId": "98c171e0-bee0-418a-ecee-ebb741aeca62"
      },
      "source": [
        "# view guess\n",
        "print(guess)"
      ],
      "execution_count": 2,
      "outputs": [
        {
          "output_type": "stream",
          "text": [
            "6\n"
          ],
          "name": "stdout"
        }
      ]
    },
    {
      "cell_type": "markdown",
      "metadata": {
        "id": "QDbvWr09mhJq",
        "colab_type": "text"
      },
      "source": [
        "#### Potential Problem 1: \n",
        "\n",
        "What if they input something besides an integer?\n",
        "\n",
        "\n",
        "Let's force the input to be an integer and then use built in error handling python procedures to save us."
      ]
    },
    {
      "cell_type": "code",
      "metadata": {
        "id": "UB-kd2oThSgt",
        "colab_type": "code",
        "outputId": "984bd30b-deff-4459-aac3-ec49a24f2f8b",
        "colab": {
          "base_uri": "https://localhost:8080/",
          "height": 51
        }
      },
      "source": [
        "# try: \n",
        "# except():\n",
        "\n",
        "try:\n",
        "    guess = int(input(\"Please guess a number between {0} and {1}: \".format(start, end)))\n",
        "except(ValueError, TypeError):\n",
        "    print(\"Not an integer! Try again\")"
      ],
      "execution_count": 3,
      "outputs": [
        {
          "output_type": "stream",
          "text": [
            "Please guess a number between 1 and 100: no\n",
            "Not an integer! Try again\n"
          ],
          "name": "stdout"
        }
      ]
    },
    {
      "cell_type": "markdown",
      "metadata": {
        "id": "HzyvTGG7wrI7",
        "colab_type": "text"
      },
      "source": [
        "##### Need to Loop it"
      ]
    },
    {
      "cell_type": "markdown",
      "metadata": {
        "id": "E32GIFiEwDXK",
        "colab_type": "text"
      },
      "source": [
        "If you don't use a while function then it won't run again."
      ]
    },
    {
      "cell_type": "code",
      "metadata": {
        "id": "BdGhDoojwHfA",
        "colab_type": "code",
        "outputId": "13893657-47e2-47d2-9eaf-92be7ffd8782",
        "colab": {
          "base_uri": "https://localhost:8080/",
          "height": 102
        }
      },
      "source": [
        "# while True: if you don't use \n",
        "# try: \n",
        "# except():\n",
        "\n",
        "while True:\n",
        "    try:\n",
        "        guess = int(input(\"Please guess a number between {0} and {1}: \".format(start, end)))\n",
        "        break\n",
        "    except(ValueError, TypeError):\n",
        "        print(\"Not an integer! Try again\")"
      ],
      "execution_count": 4,
      "outputs": [
        {
          "output_type": "stream",
          "text": [
            "Please guess a number between 1 and 100: no\n",
            "Not an integer! Try again\n",
            "Please guess a number between 1 and 100: j\n",
            "Not an integer! Try again\n",
            "Please guess a number between 1 and 100: 7\n"
          ],
          "name": "stdout"
        }
      ]
    },
    {
      "cell_type": "markdown",
      "metadata": {
        "id": "83AshFQotqJp",
        "colab_type": "text"
      },
      "source": [
        "#### Potential Problem 2: \n",
        "\n",
        "What if they guess a number outside of our range?\n",
        "\n",
        "\n",
        "We need to do an if else statement checking that the guess is in the range and if it's not telling them to guess again"
      ]
    },
    {
      "cell_type": "code",
      "metadata": {
        "id": "U0KWOfUJsrvF",
        "colab_type": "code",
        "outputId": "fe2aa211-9767-4cb3-914a-bfabb7feb7b6",
        "colab": {
          "base_uri": "https://localhost:8080/",
          "height": 190
        }
      },
      "source": [
        "# while True:\n",
        "# try: \n",
        "# except\n",
        "# else:\n",
        "#  if guess is in range break\n",
        "#  else: tell them to guess again...\"That isn't in the range. I should dock you 2 guesses for that mistake but since I'm so nice I won't count that against your guesses but please try to stay within the range when you guess.\"\"\n",
        "\n",
        "while True:\n",
        "    try:\n",
        "        value = int(input(\"Please type a number between {0} and {1}: \".format(start, end)))\n",
        "    except (ValueError, TypeError):\n",
        "        print (\"\\nNot an integer! Try again\\n\")\n",
        "    else:\n",
        "        if value >= start and value <= end:\n",
        "            break\n",
        "        else:\n",
        "            print(\"\\nThat isn't in the range. I should dock you 2 guesses for that mistake but since I'm so nice I won't count that against your guesses but please try to stay within 1 and 100 when you guess.\\n\")\n"
      ],
      "execution_count": 5,
      "outputs": [
        {
          "output_type": "stream",
          "text": [
            "Please type a number between 1 and 100: no\n",
            "\n",
            "Not an integer! Try again\n",
            "\n",
            "Please type a number between 1 and 100: 1000\n",
            "\n",
            "That isn't in the range. I should dock you 2 guesses for that mistake but since I'm so nice I won't count that against your guesses but please try to stay within 1 and 100 when you guess.\n",
            "\n",
            "Please type a number between 1 and 100: 3\n"
          ],
          "name": "stdout"
        }
      ]
    },
    {
      "cell_type": "markdown",
      "metadata": {
        "id": "tp-dm1UsgLY1",
        "colab_type": "text"
      },
      "source": [
        "### Wrap it into a function"
      ]
    },
    {
      "cell_type": "code",
      "metadata": {
        "id": "oUC51VPwKgbv",
        "colab_type": "code",
        "colab": {}
      },
      "source": [
        "def valid_num(start = 1, end = 100):\n",
        "    while True:\n",
        "        try:\n",
        "            value = int(input(\"Please type a number between {0} and {1}: \".format(start, end)))\n",
        "        except (ValueError, TypeError):\n",
        "            print (\"\\nNot an integer! Try again\\n\")\n",
        "        else:\n",
        "            if value >= start and value <= end:\n",
        "                return value\n",
        "                break\n",
        "            else:\n",
        "                print(\"\\nThat isn't in the range. I should dock you 2 guesses for that mistake but since I'm so nice I won't count that against your guesses but please try to stay within 1 and 100 when you guess.\\n\")\n"
      ],
      "execution_count": 0,
      "outputs": []
    },
    {
      "cell_type": "code",
      "metadata": {
        "id": "v-kqur4QMVeU",
        "colab_type": "code",
        "colab": {}
      },
      "source": [
        "valid_num()"
      ],
      "execution_count": 0,
      "outputs": []
    },
    {
      "cell_type": "markdown",
      "metadata": {
        "id": "93zCIN4Mf0r5",
        "colab_type": "text"
      },
      "source": [
        "For more information on error handling visit: \n",
        "\n",
        "https://docs.python.org/3/library/exceptions.html\n",
        "\n",
        "https://docs.python.org/3/tutorial/errors.html"
      ]
    },
    {
      "cell_type": "markdown",
      "metadata": {
        "id": "Fh6wj1s4dLuT",
        "colab_type": "text"
      },
      "source": [
        "## Step 2 - Create Responses to Guesses\n",
        "\n",
        "\n",
        "<br>\n",
        "\n",
        "<br>\n",
        "\n",
        "\n",
        "We don't want our game to be too repetitive for the player. We need to come up with a bunch of responses for each guess.\n",
        "\n",
        "The player's guess will either be too high or too low. \n",
        "\n",
        "\n",
        "<br>\n",
        "\n",
        "\n",
        "---\n",
        "\n",
        "<br>\n",
        "\n",
        "\n",
        "Create 2 lists\n",
        "\n",
        "1.   Responses for guesses that are too high\n",
        "2.   Responses for guesses that are too low\n",
        "\n"
      ]
    },
    {
      "cell_type": "code",
      "metadata": {
        "id": "uTsF7yiZMYMs",
        "colab_type": "code",
        "colab": {}
      },
      "source": [
        "# here are my reponses if the guess is too high. Add in a few more of your own..\n",
        "highSayings = [\"Who do you think you are? Bob Marley? Cuz you are TOO HIGH!\",\n",
        "               \"You need to come down from that ledge cuz you're TOO HIGH!\",\n",
        "               \"Way too high!\",\n",
        "               \"Tough break. Too high.\",\n",
        "               \"Are you related to Snoop Dog? Cuz you are TOO HIGH.\",\n",
        "               'Dang...Too high...',\n",
        "               \"Tough break. Too high.\",\n",
        "               \"So close but yet so far! You're too high.\",\n",
        "               \"Think carefully before you guess again! You are too high.\",\n",
        "               \"Too high. You might want to give up, I don't think your pride can handle losing to a computer.\",\n",
        "               \"Nope! Too high.\"]\n"
      ],
      "execution_count": 0,
      "outputs": []
    },
    {
      "cell_type": "code",
      "metadata": {
        "id": "_96McY_peJjO",
        "colab_type": "code",
        "colab": {}
      },
      "source": [
        "# here are my reponses if the guess is too low. Add in a few more of your own..\n",
        "lowSayings = [\"You might need a ladder because you are TOO LOW!\",\n",
        "              \"You seem down. Maybe you need to guess higher.\",\n",
        "              \"Shawty you are too low low low low...\",\n",
        "              'Dang...Too low...',\n",
        "              \"Tough break. Too low.\",\n",
        "              \"So close but yet so far! You're too low.\",\n",
        "              \"Think carefully before you guess again! You are too low.\",\n",
        "              \"Too low. You might want to give up, I don't think your pride can handle losing to a computer.\",\n",
        "              \"Nope! Too low.\"]"
      ],
      "execution_count": 0,
      "outputs": []
    },
    {
      "cell_type": "markdown",
      "metadata": {
        "id": "ABEBlKkVxFL2",
        "colab_type": "text"
      },
      "source": [
        "## Step 3 - Game Flow"
      ]
    },
    {
      "cell_type": "code",
      "metadata": {
        "id": "0WJuo---xWXt",
        "colab_type": "code",
        "colab": {
          "base_uri": "https://localhost:8080/",
          "height": 153
        },
        "outputId": "f8fde9de-bfd1-4a41-dc4d-a24f561f5370"
      },
      "source": [
        "# intro statement to the game\n",
        "# if you use \"\"\"it will keep the format of your string\"\"\"\n",
        "print (\"\"\"\n",
        "Want to play a little game? \n",
        "\n",
        "I'll think of a number between any range you want and lets see if you can\n",
        "guess what number it is.  \n",
        "\n",
        "I'll give you 7 chances.\n",
        "\"\"\")"
      ],
      "execution_count": 9,
      "outputs": [
        {
          "output_type": "stream",
          "text": [
            "\n",
            "Want to play a little game? \n",
            "\n",
            "I'll think of a number between any range you want and lets see if you can\n",
            "guess what number it is.  \n",
            "\n",
            "I'll give you 7 chances.\n",
            "\n"
          ],
          "name": "stdout"
        }
      ]
    },
    {
      "cell_type": "code",
      "metadata": {
        "id": "YETtbHUfxZGT",
        "colab_type": "code",
        "colab": {}
      },
      "source": [
        "# create the max number of guesses variable\n",
        "tries = 7"
      ],
      "execution_count": 0,
      "outputs": []
    },
    {
      "cell_type": "code",
      "metadata": {
        "id": "sYC3yh8PxjML",
        "colab_type": "code",
        "colab": {
          "base_uri": "https://localhost:8080/",
          "height": 34
        },
        "outputId": "c3d460d6-bd63-44de-f619-28400fc34c73"
      },
      "source": [
        "# Ask player for starting number in range of numbers to guess between\n",
        "# Follow similar format as our valid number function\n",
        "while True:\n",
        "        try:\n",
        "            start = int(input(\"What should the smaller number in the range be? \"))\n",
        "            break\n",
        "        except (ValueError, TypeError):\n",
        "            print(\"Not an integer! Try again\")"
      ],
      "execution_count": 12,
      "outputs": [
        {
          "output_type": "stream",
          "text": [
            "What should the smaller number in the range be? 1\n"
          ],
          "name": "stdout"
        }
      ]
    },
    {
      "cell_type": "code",
      "metadata": {
        "id": "UarRPO1dyLGO",
        "colab_type": "code",
        "colab": {
          "base_uri": "https://localhost:8080/",
          "height": 34
        },
        "outputId": "cb983ffa-a675-447a-ad33-4357e49a1bb8"
      },
      "source": [
        "# Ask player for ending number in range of numbers to guess between\n",
        "# Follow similar format as our valid number function\n",
        "while True:\n",
        "        try:\n",
        "            end = int(input(\"What should the larger number in the range be? \"))\n",
        "            break\n",
        "        except (ValueError, TypeError):\n",
        "            print(\"Not an integer! Try again\")"
      ],
      "execution_count": 13,
      "outputs": [
        {
          "output_type": "stream",
          "text": [
            "What should the larger number in the range be? 100\n"
          ],
          "name": "stdout"
        }
      ]
    },
    {
      "cell_type": "code",
      "metadata": {
        "id": "SAwBY9SLyhno",
        "colab_type": "code",
        "colab": {}
      },
      "source": [
        "# have the program randomly pick a number (randint)\n",
        "number = random.randint(start, end)"
      ],
      "execution_count": 0,
      "outputs": []
    },
    {
      "cell_type": "code",
      "metadata": {
        "id": "fbeQkiLqyrlE",
        "colab_type": "code",
        "colab": {}
      },
      "source": [
        "# Initiate counter for the number of guesses\n",
        "counter = 0"
      ],
      "execution_count": 0,
      "outputs": []
    },
    {
      "cell_type": "markdown",
      "metadata": {
        "id": "DDVbo3UV5BxT",
        "colab_type": "text"
      },
      "source": [
        "### Game Flow\n",
        "\n",
        "\n",
        "The game only ends if:\n",
        "\n",
        "\n",
        "1.   Guess correctly on the first try\n",
        "2.   Guess correctly\n",
        "3.   Run out of guesses\n",
        "\n",
        "The game will loop through the player's guesses until one of those 3 outcomes occurs.\n",
        "\n"
      ]
    },
    {
      "cell_type": "markdown",
      "metadata": {
        "id": "yOFLb8Gw5w1N",
        "colab_type": "text"
      },
      "source": [
        "### Guess Flow\n",
        "\n",
        "The flow when a guess is made:\n",
        "\n",
        "1.   Guess is correct\n",
        "2.   Guess is too high\n",
        "3.   Guess is too low\n"
      ]
    },
    {
      "cell_type": "code",
      "metadata": {
        "id": "EnP1HUdUy5l8",
        "colab_type": "code",
        "colab": {
          "base_uri": "https://localhost:8080/",
          "height": 255
        },
        "outputId": "6665110b-263a-4e9f-f8b3-93f38a9be58f"
      },
      "source": [
        "# create while loop \n",
        "while counter < tries:\n",
        "    # ask player for a guess\n",
        "    guess = valid_num(start, end)\n",
        "    # increase the counter by 1\n",
        "    counter += 1\n",
        "    # determine how many guesses are left\n",
        "    guesses_left = tries - counter\n",
        "    # if the player guesses it correct on the first try, let's give them a special congrats! \n",
        "    if guess == number and counter == 1:\n",
        "        print (\"WINNER!!!! I can't believe you got it on the first try!! I'm impressed!\")\n",
        "        # break out of loop to end the game\n",
        "        break\n",
        "    # else if in python = elif\n",
        "    # else if the player guesses it correctly\n",
        "    elif guess == number:\n",
        "        print (\"WINNER!!!! Great Job! That took you {0} guesses to figure out what number I was thinking about!\".format(counter))\n",
        "        # game over\n",
        "        break\n",
        "    # else if the player runs out of guesses\n",
        "    elif guesses_left == 0:\n",
        "        # tell them they lost and what the actual number was.\n",
        "        print (\"I'm sorry but you lost. The number I was thinking of was {0}. Better luck next time!\".format(number))\n",
        "        # game over\n",
        "        break\n",
        "    # else if the guess is too high\n",
        "    elif guess > number:\n",
        "        # generate a random response\n",
        "        response = random.choice(highSayings)\n",
        "        # we need to tell the player how many chances they have left.\n",
        "        print (\"{1} You have {0} chances left!\".format(guesses_left, response))\n",
        "    # else the guess is too low\n",
        "    else:\n",
        "        # generate a random response\n",
        "        response = random.choice(lowSayings)\n",
        "        print (\"{1} You have {0} chances left!\".format(guesses_left, response))"
      ],
      "execution_count": 18,
      "outputs": [
        {
          "output_type": "stream",
          "text": [
            "Please type a number between 1 and 100: 1\n",
            "Shawty you are too low low low low... You have 6 chances left!\n",
            "Please type a number between 1 and 100: 6\n",
            "Too low. You might want to give up, I don't think your pride can handle losing to a computer. You have 5 chances left!\n",
            "Please type a number between 1 and 100: 55\n",
            "Shawty you are too low low low low... You have 4 chances left!\n",
            "Please type a number between 1 and 100: 75\n",
            "So close but yet so far! You're too low. You have 3 chances left!\n",
            "Please type a number between 1 and 100: 85\n",
            "Think carefully before you guess again! You are too low. You have 2 chances left!\n",
            "Please type a number between 1 and 100: 93\n",
            "Dang...Too high... You have 1 chances left!\n",
            "Please type a number between 1 and 100: 90\n",
            "I'm sorry but you lost. The number I was thinking of was 88. Better luck next time!\n"
          ],
          "name": "stdout"
        }
      ]
    },
    {
      "cell_type": "markdown",
      "metadata": {
        "id": "AHt34S4gaAs0",
        "colab_type": "text"
      },
      "source": [
        "# Step 4 - Putting it all together"
      ]
    },
    {
      "cell_type": "code",
      "metadata": {
        "id": "rVIj-K8KaDSf",
        "colab_type": "code",
        "colab": {}
      },
      "source": [
        "def guessingGame():\n",
        "    # print an intro statement for the game...\n",
        "    print (\"\"\"\n",
        "Want to play a little game? \n",
        "\n",
        "I'll think of a number between any range you want and lets see if you can\n",
        "guess what number it is.  \n",
        "\n",
        "I'll give you 7 chances.\n",
        "\"\"\")\n",
        "    tries = 7\n",
        "    while True:\n",
        "        try:\n",
        "            start = int(input(\"What should the smaller number in the range be? \"))\n",
        "            break\n",
        "        except (ValueError, TypeError):\n",
        "            print(\"Not an integer! Try again\")\n",
        "    while True:\n",
        "        try:\n",
        "            end = int(input(\"What should the larger number in the range be? \"))\n",
        "            break\n",
        "        except (ValueError, TypeError):\n",
        "            print(\"Not an integer! Try again\")\n",
        "    number = random.randint(start, end)\n",
        "    counter = 0\n",
        "    while counter < tries:\n",
        "        # Using the function I created for a valid number\n",
        "        guess = valid_num(start, end)\n",
        "        counter += 1\n",
        "        guesses_left = tries - counter\n",
        "        if guess == number and counter == 1:\n",
        "            print (\"WINNER!!!! I can't believe you got it on the first try!! I'm impressed!\")\n",
        "            break\n",
        "        elif guess == number:\n",
        "            print (\"WINNER!!!! Great Job! That took you {0} guesses to figure out what number I was thinking about!\".format(counter))\n",
        "            break\n",
        "        elif guesses_left == 0:\n",
        "            print (\"I'm sorry but you lost. The number I was thinking of was {0}. Better luck next time!\".format(number))\n",
        "            break\n",
        "        elif guess > number:\n",
        "            response = random.choice(highSayings)\n",
        "            print (\"{1} You have {0} chances left!\".format(guesses_left, response))\n",
        "        else:\n",
        "            response = random.choice(lowSayings)\n",
        "            print (\"{1} You have {0} chances left!\".format(guesses_left, response))\n",
        "        \n",
        "\n"
      ],
      "execution_count": 0,
      "outputs": []
    },
    {
      "cell_type": "markdown",
      "metadata": {
        "id": "vrUl9YFcUFBr",
        "colab_type": "text"
      },
      "source": [
        "# Play the Game!"
      ]
    },
    {
      "cell_type": "code",
      "metadata": {
        "id": "fSAXqBAMcMF5",
        "colab_type": "code",
        "colab": {
          "base_uri": "https://localhost:8080/",
          "height": 425
        },
        "outputId": "6985c2f4-0810-44ca-a9a6-d553e51965e6"
      },
      "source": [
        "guessingGame()"
      ],
      "execution_count": 21,
      "outputs": [
        {
          "output_type": "stream",
          "text": [
            "\n",
            "Want to play a little game? \n",
            "\n",
            "I'll think of a number between any range you want and lets see if you can\n",
            "guess what number it is.  \n",
            "\n",
            "I'll give you 7 chances.\n",
            "\n",
            "What should the smaller number in the range be? -100\n",
            "What should the larger number in the range be? 500\n",
            "Please type a number between -100 and 500: 0\n",
            "Too low. You might want to give up, I don't think your pride can handle losing to a computer. You have 6 chances left!\n",
            "Please type a number between -100 and 500: 300\n",
            "Way too high! You have 5 chances left!\n",
            "Please type a number between -100 and 500: 150\n",
            "Shawty you are too low low low low... You have 4 chances left!\n",
            "Please type a number between -100 and 500: 225\n",
            "You might need a ladder because you are TOO LOW! You have 3 chances left!\n",
            "Please type a number between -100 and 500: 270\n",
            "So close but yet so far! You're too high. You have 2 chances left!\n",
            "Please type a number between -100 and 500: 255\n",
            "Are you related to Snoop Dog? Cuz you are TOO HIGH. You have 1 chances left!\n",
            "Please type a number between -100 and 500: 245\n",
            "I'm sorry but you lost. The number I was thinking of was 251. Better luck next time!\n"
          ],
          "name": "stdout"
        }
      ]
    },
    {
      "cell_type": "code",
      "metadata": {
        "id": "u7rdabmjq6d-",
        "colab_type": "code",
        "colab": {}
      },
      "source": [
        ""
      ],
      "execution_count": 0,
      "outputs": []
    }
  ]
}