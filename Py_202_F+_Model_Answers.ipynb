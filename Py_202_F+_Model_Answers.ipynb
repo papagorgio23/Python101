{
  "nbformat": 4,
  "nbformat_minor": 0,
  "metadata": {
    "colab": {
      "name": "Py 202 F+ Model Answers.ipynb",
      "provenance": [],
      "collapsed_sections": [],
      "toc_visible": true,
      "include_colab_link": true
    },
    "kernelspec": {
      "name": "python3",
      "display_name": "Python 3"
    }
  },
  "cells": [
    {
      "cell_type": "markdown",
      "metadata": {
        "id": "view-in-github",
        "colab_type": "text"
      },
      "source": [
        "<a href=\"https://colab.research.google.com/github/papagorgio23/Python101/blob/master/Py_202_F%2B_Model_Answers.ipynb\" target=\"_parent\"><img src=\"https://colab.research.google.com/assets/colab-badge.svg\" alt=\"Open In Colab\"/></a>"
      ]
    },
    {
      "cell_type": "code",
      "metadata": {
        "id": "IhHZR47gpC8d",
        "colab_type": "code",
        "colab": {
          "base_uri": "https://localhost:8080/",
          "height": 365
        },
        "outputId": "3edc1f6e-5dc7-48e8-a270-16353c6d856c"
      },
      "source": [
        "# Installing Library\n",
        "!pip install pydata_google_auth"
      ],
      "execution_count": null,
      "outputs": [
        {
          "output_type": "stream",
          "text": [
            "Collecting pydata_google_auth\n",
            "  Downloading https://files.pythonhosted.org/packages/89/c5/03b68c114bc2c2bcaa2e40fdf269a14361fa75b70a09415e8bad65413b75/pydata_google_auth-0.1.3-py2.py3-none-any.whl\n",
            "Requirement already satisfied: setuptools in /usr/local/lib/python3.6/dist-packages (from pydata_google_auth) (41.2.0)\n",
            "Requirement already satisfied: google-auth in /usr/local/lib/python3.6/dist-packages (from pydata_google_auth) (1.4.2)\n",
            "Requirement already satisfied: google-auth-oauthlib in /usr/local/lib/python3.6/dist-packages (from pydata_google_auth) (0.4.1)\n",
            "Requirement already satisfied: pyasn1-modules>=0.2.1 in /usr/local/lib/python3.6/dist-packages (from google-auth->pydata_google_auth) (0.2.6)\n",
            "Requirement already satisfied: cachetools>=2.0.0 in /usr/local/lib/python3.6/dist-packages (from google-auth->pydata_google_auth) (3.1.1)\n",
            "Requirement already satisfied: rsa>=3.1.4 in /usr/local/lib/python3.6/dist-packages (from google-auth->pydata_google_auth) (4.0)\n",
            "Requirement already satisfied: six>=1.9.0 in /usr/local/lib/python3.6/dist-packages (from google-auth->pydata_google_auth) (1.12.0)\n",
            "Requirement already satisfied: requests-oauthlib>=0.7.0 in /usr/local/lib/python3.6/dist-packages (from google-auth-oauthlib->pydata_google_auth) (1.2.0)\n",
            "Requirement already satisfied: pyasn1<0.5.0,>=0.4.6 in /usr/local/lib/python3.6/dist-packages (from pyasn1-modules>=0.2.1->google-auth->pydata_google_auth) (0.4.7)\n",
            "Requirement already satisfied: oauthlib>=3.0.0 in /usr/local/lib/python3.6/dist-packages (from requests-oauthlib>=0.7.0->google-auth-oauthlib->pydata_google_auth) (3.1.0)\n",
            "Requirement already satisfied: requests>=2.0.0 in /usr/local/lib/python3.6/dist-packages (from requests-oauthlib>=0.7.0->google-auth-oauthlib->pydata_google_auth) (2.21.0)\n",
            "Requirement already satisfied: chardet<3.1.0,>=3.0.2 in /usr/local/lib/python3.6/dist-packages (from requests>=2.0.0->requests-oauthlib>=0.7.0->google-auth-oauthlib->pydata_google_auth) (3.0.4)\n",
            "Requirement already satisfied: certifi>=2017.4.17 in /usr/local/lib/python3.6/dist-packages (from requests>=2.0.0->requests-oauthlib>=0.7.0->google-auth-oauthlib->pydata_google_auth) (2019.9.11)\n",
            "Requirement already satisfied: idna<2.9,>=2.5 in /usr/local/lib/python3.6/dist-packages (from requests>=2.0.0->requests-oauthlib>=0.7.0->google-auth-oauthlib->pydata_google_auth) (2.8)\n",
            "Requirement already satisfied: urllib3<1.25,>=1.21.1 in /usr/local/lib/python3.6/dist-packages (from requests>=2.0.0->requests-oauthlib>=0.7.0->google-auth-oauthlib->pydata_google_auth) (1.24.3)\n",
            "Installing collected packages: pydata-google-auth\n",
            "Successfully installed pydata-google-auth-0.1.3\n"
          ],
          "name": "stdout"
        }
      ]
    },
    {
      "cell_type": "code",
      "metadata": {
        "id": "J4vdDgHaBSX1",
        "colab_type": "code",
        "colab": {}
      },
      "source": [
        "# import base packages into the namespace for this program\n",
        "import pandas as pd\n",
        "import numpy as np\n",
        "import seaborn as sns\n",
        "import matplotlib.pyplot as plt\n",
        "from sklearn.linear_model import LogisticRegression\n",
        "from sklearn.naive_bayes import BernoulliNB\n",
        "from sklearn import model_selection\n",
        "from sklearn.model_selection import train_test_split\n",
        "from sklearn.model_selection import StratifiedKFold\n",
        "from yellowbrick.classifier import ROCAUC\n",
        "from yellowbrick.classifier import ClassificationReport"
      ],
      "execution_count": null,
      "outputs": []
    },
    {
      "cell_type": "markdown",
      "metadata": {
        "id": "q-a9LVfCqQ99",
        "colab_type": "text"
      },
      "source": [
        "# F+ Lead Scoring Model"
      ]
    },
    {
      "cell_type": "markdown",
      "metadata": {
        "id": "nlLqXKvA51bL",
        "colab_type": "text"
      },
      "source": [
        "![NPV Model](https://raw.githubusercontent.com/papagorgio23/Python101/master/NPV%20Model.png)"
      ]
    },
    {
      "cell_type": "markdown",
      "metadata": {
        "id": "mwj3crSot6YJ",
        "colab_type": "text"
      },
      "source": [
        "## Get Data"
      ]
    },
    {
      "cell_type": "code",
      "metadata": {
        "id": "drtrdqhKuuna",
        "colab_type": "code",
        "colab": {
          "base_uri": "https://localhost:8080/",
          "height": 72
        },
        "outputId": "a296117c-dfd1-472a-ce8e-e215aeae610a"
      },
      "source": [
        "# Using GBQ shout Out to Hughes\n",
        "import pandas_gbq\n",
        "import pydata_google_auth\n",
        "\n",
        "SCOPES = [\n",
        "    'https://www.googleapis.com/auth/cloud-platform',\n",
        "    'https://www.googleapis.com/auth/drive',\n",
        "]\n",
        "\n",
        "# get credentials\n",
        "credentials = pydata_google_auth.get_user_credentials(\n",
        "    SCOPES,\n",
        "    auth_local_webserver=False)"
      ],
      "execution_count": null,
      "outputs": [
        {
          "output_type": "stream",
          "text": [
            "Please visit this URL to authorize this application: https://accounts.google.com/o/oauth2/auth?response_type=code&client_id=262006177488-3425ks60hkk80fssi9vpohv88g6q1iqd.apps.googleusercontent.com&redirect_uri=urn%3Aietf%3Awg%3Aoauth%3A2.0%3Aoob&scope=https%3A%2F%2Fwww.googleapis.com%2Fauth%2Fcloud-platform+https%3A%2F%2Fwww.googleapis.com%2Fauth%2Fdrive&state=nVO0MRq6ceZkMDyp4yqNu84lNsq6De&prompt=consent&access_type=offline\n",
            "Enter the authorization code: 4/sAHzOUvhqBDTTbFzh6dalmdHTnC_40d-UIk0OstK3byRehyU735PsZo\n"
          ],
          "name": "stdout"
        }
      ]
    },
    {
      "cell_type": "code",
      "metadata": {
        "id": "GCQgRrvv0a8x",
        "colab_type": "code",
        "colab": {}
      },
      "source": [
        "# GBQ\n",
        "sql = \"\"\"\n",
        "SELECT \n",
        "  id\n",
        ", co_app_verifiable_annual_income__c\n",
        ", loan_use__c\n",
        ", employment_status__c\n",
        ", amount_of_loan_requested__c\n",
        ", fico__c\n",
        ", lti__c\n",
        ", bcc0300__c\n",
        ", ndi_ratio__c\n",
        ", utm_source__c\n",
        ", CASE WHEN date_funded__c IS NOT NULL THEN 1 ELSE 0 END AS Fund\n",
        "\n",
        "FROM `freedom-dw.salesforce_ffam.application__c` a \n",
        "\n",
        "WHERE createddate >= '2019-07-01'\n",
        "AND a.loan_officer__c  IS NOT NULL\n",
        "\"\"\""
      ],
      "execution_count": null,
      "outputs": []
    },
    {
      "cell_type": "code",
      "metadata": {
        "id": "BBjIPZXb0iFh",
        "colab_type": "code",
        "colab": {
          "base_uri": "https://localhost:8080/",
          "height": 72
        },
        "outputId": "59df5b1f-6aa5-4041-eaf8-13b18f986468"
      },
      "source": [
        "# run query\n",
        "fplus_df = pandas_gbq.read_gbq(sql, project_id='ffn-dw-bigquery-prd', credentials=credentials, dialect='standard')"
      ],
      "execution_count": null,
      "outputs": [
        {
          "output_type": "stream",
          "text": [
            "Please visit this URL to authorize this application: https://accounts.google.com/o/oauth2/auth?response_type=code&client_id=495642085510-k0tmvj2m941jhre2nbqka17vqpjfddtd.apps.googleusercontent.com&redirect_uri=urn%3Aietf%3Awg%3Aoauth%3A2.0%3Aoob&scope=https%3A%2F%2Fwww.googleapis.com%2Fauth%2Fbigquery&state=itYZ2IhTZtgiiyzIGt27X6NLt3kt3t&prompt=consent&access_type=offline\n",
            "Enter the authorization code: 4/sAH_ofoqm6sa-9jNj0O7dIXDbq1l-5OzmugfAcQPDkzU6eGRxO9L6VI\n"
          ],
          "name": "stdout"
        }
      ]
    },
    {
      "cell_type": "markdown",
      "metadata": {
        "id": "02oCOQHH6sWq",
        "colab_type": "text"
      },
      "source": [
        "## View Data"
      ]
    },
    {
      "cell_type": "code",
      "metadata": {
        "id": "VLkdCh1W2pAP",
        "colab_type": "code",
        "colab": {
          "base_uri": "https://localhost:8080/",
          "height": 305
        },
        "outputId": "a5a42447-05ae-4468-a918-015f5b327045"
      },
      "source": [
        "# view top 5 observations\n",
        "fplus_df.head()"
      ],
      "execution_count": null,
      "outputs": [
        {
          "output_type": "execute_result",
          "data": {
            "text/html": [
              "<div>\n",
              "<style scoped>\n",
              "    .dataframe tbody tr th:only-of-type {\n",
              "        vertical-align: middle;\n",
              "    }\n",
              "\n",
              "    .dataframe tbody tr th {\n",
              "        vertical-align: top;\n",
              "    }\n",
              "\n",
              "    .dataframe thead th {\n",
              "        text-align: right;\n",
              "    }\n",
              "</style>\n",
              "<table border=\"1\" class=\"dataframe\">\n",
              "  <thead>\n",
              "    <tr style=\"text-align: right;\">\n",
              "      <th></th>\n",
              "      <th>id</th>\n",
              "      <th>co_app_verifiable_annual_income__c</th>\n",
              "      <th>loan_use__c</th>\n",
              "      <th>employment_status__c</th>\n",
              "      <th>amount_of_loan_requested__c</th>\n",
              "      <th>fico__c</th>\n",
              "      <th>lti__c</th>\n",
              "      <th>bcc0300__c</th>\n",
              "      <th>ndi_ratio__c</th>\n",
              "      <th>utm_source__c</th>\n",
              "      <th>Fund</th>\n",
              "    </tr>\n",
              "  </thead>\n",
              "  <tbody>\n",
              "    <tr>\n",
              "      <th>0</th>\n",
              "      <td>a010f00000YmfOeAAJ</td>\n",
              "      <td>NaN</td>\n",
              "      <td>Credit Card Refinancing</td>\n",
              "      <td>Full-time</td>\n",
              "      <td>50000.0</td>\n",
              "      <td>692.0</td>\n",
              "      <td>26.7</td>\n",
              "      <td>27.0</td>\n",
              "      <td>44.400000</td>\n",
              "      <td>Lending Tree</td>\n",
              "      <td>0</td>\n",
              "    </tr>\n",
              "    <tr>\n",
              "      <th>1</th>\n",
              "      <td>a010f00000ZAkpmAAD</td>\n",
              "      <td>NaN</td>\n",
              "      <td>Credit Card Refinancing</td>\n",
              "      <td>Self-employed</td>\n",
              "      <td>30000.0</td>\n",
              "      <td>771.0</td>\n",
              "      <td>30.6</td>\n",
              "      <td>27.0</td>\n",
              "      <td>42.400000</td>\n",
              "      <td>Lending Tree</td>\n",
              "      <td>0</td>\n",
              "    </tr>\n",
              "    <tr>\n",
              "      <th>2</th>\n",
              "      <td>a010f00000YQQoJAAX</td>\n",
              "      <td>44500.0</td>\n",
              "      <td>Credit Card Refinancing</td>\n",
              "      <td>Retired</td>\n",
              "      <td>25000.0</td>\n",
              "      <td>631.0</td>\n",
              "      <td>31.1</td>\n",
              "      <td>34.0</td>\n",
              "      <td>39.300000</td>\n",
              "      <td>msn</td>\n",
              "      <td>0</td>\n",
              "    </tr>\n",
              "    <tr>\n",
              "      <th>3</th>\n",
              "      <td>a010f00000Wjj5AAAR</td>\n",
              "      <td>65000.0</td>\n",
              "      <td>Debt Consolidation</td>\n",
              "      <td>Self-employed</td>\n",
              "      <td>35000.0</td>\n",
              "      <td>752.0</td>\n",
              "      <td>25.4</td>\n",
              "      <td>25.0</td>\n",
              "      <td>32.983773</td>\n",
              "      <td>Lending Tree</td>\n",
              "      <td>0</td>\n",
              "    </tr>\n",
              "    <tr>\n",
              "      <th>4</th>\n",
              "      <td>a010f00000ZTM4BAAX</td>\n",
              "      <td>NaN</td>\n",
              "      <td>Credit Card Refinancing</td>\n",
              "      <td>Other</td>\n",
              "      <td>40000.0</td>\n",
              "      <td>684.0</td>\n",
              "      <td>13.3</td>\n",
              "      <td>30.0</td>\n",
              "      <td>38.600000</td>\n",
              "      <td>Lending Tree</td>\n",
              "      <td>0</td>\n",
              "    </tr>\n",
              "  </tbody>\n",
              "</table>\n",
              "</div>"
            ],
            "text/plain": [
              "                   id  co_app_verifiable_annual_income__c  ... utm_source__c Fund\n",
              "0  a010f00000YmfOeAAJ                                 NaN  ...  Lending Tree    0\n",
              "1  a010f00000ZAkpmAAD                                 NaN  ...  Lending Tree    0\n",
              "2  a010f00000YQQoJAAX                             44500.0  ...           msn    0\n",
              "3  a010f00000Wjj5AAAR                             65000.0  ...  Lending Tree    0\n",
              "4  a010f00000ZTM4BAAX                                 NaN  ...  Lending Tree    0\n",
              "\n",
              "[5 rows x 11 columns]"
            ]
          },
          "metadata": {
            "tags": []
          },
          "execution_count": 6
        }
      ]
    },
    {
      "cell_type": "code",
      "metadata": {
        "id": "toi1Bzyz63kb",
        "colab_type": "code",
        "colab": {
          "base_uri": "https://localhost:8080/",
          "height": 292
        },
        "outputId": "a401b23f-4d7a-4ee2-a487-a98a7ed694c6"
      },
      "source": [
        "# view bottom 5 observations\n",
        "fplus_df.tail()"
      ],
      "execution_count": null,
      "outputs": [
        {
          "output_type": "execute_result",
          "data": {
            "text/html": [
              "<div>\n",
              "<style scoped>\n",
              "    .dataframe tbody tr th:only-of-type {\n",
              "        vertical-align: middle;\n",
              "    }\n",
              "\n",
              "    .dataframe tbody tr th {\n",
              "        vertical-align: top;\n",
              "    }\n",
              "\n",
              "    .dataframe thead th {\n",
              "        text-align: right;\n",
              "    }\n",
              "</style>\n",
              "<table border=\"1\" class=\"dataframe\">\n",
              "  <thead>\n",
              "    <tr style=\"text-align: right;\">\n",
              "      <th></th>\n",
              "      <th>id</th>\n",
              "      <th>co_app_verifiable_annual_income__c</th>\n",
              "      <th>loan_use__c</th>\n",
              "      <th>employment_status__c</th>\n",
              "      <th>amount_of_loan_requested__c</th>\n",
              "      <th>fico__c</th>\n",
              "      <th>lti__c</th>\n",
              "      <th>bcc0300__c</th>\n",
              "      <th>ndi_ratio__c</th>\n",
              "      <th>utm_source__c</th>\n",
              "      <th>Fund</th>\n",
              "    </tr>\n",
              "  </thead>\n",
              "  <tbody>\n",
              "    <tr>\n",
              "      <th>176914</th>\n",
              "      <td>a010f00000Y4XmGAAV</td>\n",
              "      <td>80000.0</td>\n",
              "      <td>Debt Consolidation</td>\n",
              "      <td>Full-time</td>\n",
              "      <td>50000.0</td>\n",
              "      <td>783.0</td>\n",
              "      <td>25.3</td>\n",
              "      <td>1.0</td>\n",
              "      <td>18.200000</td>\n",
              "      <td>Lending Tree</td>\n",
              "      <td>0</td>\n",
              "    </tr>\n",
              "    <tr>\n",
              "      <th>176915</th>\n",
              "      <td>a010f00000XfO5PAAV</td>\n",
              "      <td>NaN</td>\n",
              "      <td>Debt Consolidation</td>\n",
              "      <td>Full-time</td>\n",
              "      <td>29999.0</td>\n",
              "      <td>507.0</td>\n",
              "      <td>34.9</td>\n",
              "      <td>1.0</td>\n",
              "      <td>67.000000</td>\n",
              "      <td>Phone</td>\n",
              "      <td>0</td>\n",
              "    </tr>\n",
              "    <tr>\n",
              "      <th>176916</th>\n",
              "      <td>a010f00000ZB3hXAAT</td>\n",
              "      <td>49000.0</td>\n",
              "      <td>Home Improvement</td>\n",
              "      <td>Other</td>\n",
              "      <td>10000.0</td>\n",
              "      <td>654.0</td>\n",
              "      <td>15.7</td>\n",
              "      <td>1.0</td>\n",
              "      <td>40.600000</td>\n",
              "      <td>Lending Tree</td>\n",
              "      <td>0</td>\n",
              "    </tr>\n",
              "    <tr>\n",
              "      <th>176917</th>\n",
              "      <td>a010f00000Y3DfVAAV</td>\n",
              "      <td>NaN</td>\n",
              "      <td>Other</td>\n",
              "      <td>Full-time</td>\n",
              "      <td>13000.0</td>\n",
              "      <td>737.0</td>\n",
              "      <td>3.0</td>\n",
              "      <td>1.0</td>\n",
              "      <td>5.374026</td>\n",
              "      <td>Lending Tree</td>\n",
              "      <td>0</td>\n",
              "    </tr>\n",
              "    <tr>\n",
              "      <th>176918</th>\n",
              "      <td>a010f00000YQdVVAA1</td>\n",
              "      <td>NaN</td>\n",
              "      <td>Business Expenses</td>\n",
              "      <td>Full-time</td>\n",
              "      <td>10000.0</td>\n",
              "      <td>648.0</td>\n",
              "      <td>16.7</td>\n",
              "      <td>1.0</td>\n",
              "      <td>34.500000</td>\n",
              "      <td>Lending Tree</td>\n",
              "      <td>1</td>\n",
              "    </tr>\n",
              "  </tbody>\n",
              "</table>\n",
              "</div>"
            ],
            "text/plain": [
              "                        id  ...  Fund\n",
              "176914  a010f00000Y4XmGAAV  ...     0\n",
              "176915  a010f00000XfO5PAAV  ...     0\n",
              "176916  a010f00000ZB3hXAAT  ...     0\n",
              "176917  a010f00000Y3DfVAAV  ...     0\n",
              "176918  a010f00000YQdVVAA1  ...     1\n",
              "\n",
              "[5 rows x 11 columns]"
            ]
          },
          "metadata": {
            "tags": []
          },
          "execution_count": 16
        }
      ]
    },
    {
      "cell_type": "code",
      "metadata": {
        "id": "OXFUhiys68TK",
        "colab_type": "code",
        "colab": {
          "base_uri": "https://localhost:8080/",
          "height": 289
        },
        "outputId": "36de6aeb-ce98-4bb8-f40d-34666844cc89"
      },
      "source": [
        "# view columns, data types\n",
        "fplus_df.info()"
      ],
      "execution_count": null,
      "outputs": [
        {
          "output_type": "stream",
          "text": [
            "<class 'pandas.core.frame.DataFrame'>\n",
            "RangeIndex: 176919 entries, 0 to 176918\n",
            "Data columns (total 11 columns):\n",
            "id                                    176919 non-null object\n",
            "co_app_verifiable_annual_income__c    37689 non-null float64\n",
            "loan_use__c                           175782 non-null object\n",
            "employment_status__c                  175712 non-null object\n",
            "amount_of_loan_requested__c           176056 non-null float64\n",
            "fico__c                               173823 non-null float64\n",
            "lti__c                                175020 non-null float64\n",
            "bcc0300__c                            173823 non-null float64\n",
            "ndi_ratio__c                          173785 non-null float64\n",
            "utm_source__c                         176919 non-null object\n",
            "Fund                                  176919 non-null int64\n",
            "dtypes: float64(6), int64(1), object(4)\n",
            "memory usage: 14.8+ MB\n"
          ],
          "name": "stdout"
        }
      ]
    },
    {
      "cell_type": "code",
      "metadata": {
        "id": "JSirnXbT7LGG",
        "colab_type": "code",
        "colab": {
          "base_uri": "https://localhost:8080/",
          "height": 297
        },
        "outputId": "fe2b0329-0c1b-41c5-f298-1d71ffc51664"
      },
      "source": [
        "# get summary statistics\n",
        "fplus_df.describe()"
      ],
      "execution_count": null,
      "outputs": [
        {
          "output_type": "execute_result",
          "data": {
            "text/html": [
              "<div>\n",
              "<style scoped>\n",
              "    .dataframe tbody tr th:only-of-type {\n",
              "        vertical-align: middle;\n",
              "    }\n",
              "\n",
              "    .dataframe tbody tr th {\n",
              "        vertical-align: top;\n",
              "    }\n",
              "\n",
              "    .dataframe thead th {\n",
              "        text-align: right;\n",
              "    }\n",
              "</style>\n",
              "<table border=\"1\" class=\"dataframe\">\n",
              "  <thead>\n",
              "    <tr style=\"text-align: right;\">\n",
              "      <th></th>\n",
              "      <th>co_app_verifiable_annual_income__c</th>\n",
              "      <th>amount_of_loan_requested__c</th>\n",
              "      <th>fico__c</th>\n",
              "      <th>lti__c</th>\n",
              "      <th>bcc0300__c</th>\n",
              "      <th>ndi_ratio__c</th>\n",
              "      <th>Fund</th>\n",
              "    </tr>\n",
              "  </thead>\n",
              "  <tbody>\n",
              "    <tr>\n",
              "      <th>count</th>\n",
              "      <td>3.768900e+04</td>\n",
              "      <td>176056.000000</td>\n",
              "      <td>173823.000000</td>\n",
              "      <td>175020.000000</td>\n",
              "      <td>173823.000000</td>\n",
              "      <td>173785.000000</td>\n",
              "      <td>176919.000000</td>\n",
              "    </tr>\n",
              "    <tr>\n",
              "      <th>mean</th>\n",
              "      <td>8.001714e+04</td>\n",
              "      <td>21900.385159</td>\n",
              "      <td>715.205364</td>\n",
              "      <td>27.123215</td>\n",
              "      <td>7.498104</td>\n",
              "      <td>39.592446</td>\n",
              "      <td>0.100396</td>\n",
              "    </tr>\n",
              "    <tr>\n",
              "      <th>std</th>\n",
              "      <td>2.209551e+06</td>\n",
              "      <td>11864.666616</td>\n",
              "      <td>169.122159</td>\n",
              "      <td>2157.111508</td>\n",
              "      <td>5.280425</td>\n",
              "      <td>18.772559</td>\n",
              "      <td>0.300528</td>\n",
              "    </tr>\n",
              "    <tr>\n",
              "      <th>min</th>\n",
              "      <td>-2.029000e+03</td>\n",
              "      <td>0.000000</td>\n",
              "      <td>433.000000</td>\n",
              "      <td>0.000000</td>\n",
              "      <td>0.000000</td>\n",
              "      <td>0.000000</td>\n",
              "      <td>0.000000</td>\n",
              "    </tr>\n",
              "    <tr>\n",
              "      <th>25%</th>\n",
              "      <td>3.456000e+04</td>\n",
              "      <td>12500.000000</td>\n",
              "      <td>675.000000</td>\n",
              "      <td>14.300000</td>\n",
              "      <td>4.000000</td>\n",
              "      <td>28.900000</td>\n",
              "      <td>0.000000</td>\n",
              "    </tr>\n",
              "    <tr>\n",
              "      <th>50%</th>\n",
              "      <td>5.209500e+04</td>\n",
              "      <td>19000.000000</td>\n",
              "      <td>707.000000</td>\n",
              "      <td>20.000000</td>\n",
              "      <td>6.000000</td>\n",
              "      <td>37.900000</td>\n",
              "      <td>0.000000</td>\n",
              "    </tr>\n",
              "    <tr>\n",
              "      <th>75%</th>\n",
              "      <td>7.800000e+04</td>\n",
              "      <td>30000.000000</td>\n",
              "      <td>746.000000</td>\n",
              "      <td>27.400000</td>\n",
              "      <td>10.000000</td>\n",
              "      <td>48.600000</td>\n",
              "      <td>0.000000</td>\n",
              "    </tr>\n",
              "    <tr>\n",
              "      <th>max</th>\n",
              "      <td>4.193395e+08</td>\n",
              "      <td>400000.000000</td>\n",
              "      <td>9003.000000</td>\n",
              "      <td>899900.000000</td>\n",
              "      <td>99.000000</td>\n",
              "      <td>2246.900000</td>\n",
              "      <td>1.000000</td>\n",
              "    </tr>\n",
              "  </tbody>\n",
              "</table>\n",
              "</div>"
            ],
            "text/plain": [
              "       co_app_verifiable_annual_income__c  ...           Fund\n",
              "count                        3.768900e+04  ...  176919.000000\n",
              "mean                         8.001714e+04  ...       0.100396\n",
              "std                          2.209551e+06  ...       0.300528\n",
              "min                         -2.029000e+03  ...       0.000000\n",
              "25%                          3.456000e+04  ...       0.000000\n",
              "50%                          5.209500e+04  ...       0.000000\n",
              "75%                          7.800000e+04  ...       0.000000\n",
              "max                          4.193395e+08  ...       1.000000\n",
              "\n",
              "[8 rows x 7 columns]"
            ]
          },
          "metadata": {
            "tags": []
          },
          "execution_count": 19
        }
      ]
    },
    {
      "cell_type": "code",
      "metadata": {
        "id": "3M2Z8Fo_7mK_",
        "colab_type": "code",
        "colab": {
          "base_uri": "https://localhost:8080/",
          "height": 221
        },
        "outputId": "972e6905-97e4-4796-a469-acb1cc932927"
      },
      "source": [
        "# check NA\n",
        "fplus_df.isna().sum()"
      ],
      "execution_count": null,
      "outputs": [
        {
          "output_type": "execute_result",
          "data": {
            "text/plain": [
              "id                                         0\n",
              "co_app_verifiable_annual_income__c    139230\n",
              "loan_use__c                             1137\n",
              "employment_status__c                    1207\n",
              "amount_of_loan_requested__c              863\n",
              "fico__c                                 3096\n",
              "lti__c                                  1899\n",
              "bcc0300__c                              3096\n",
              "ndi_ratio__c                            3134\n",
              "utm_source__c                              0\n",
              "Fund                                       0\n",
              "dtype: int64"
            ]
          },
          "metadata": {
            "tags": []
          },
          "execution_count": 20
        }
      ]
    },
    {
      "cell_type": "markdown",
      "metadata": {
        "id": "QszyYPBv--ln",
        "colab_type": "text"
      },
      "source": [
        "# Investigate Variables"
      ]
    },
    {
      "cell_type": "markdown",
      "metadata": {
        "id": "VC9lKAK4_DWN",
        "colab_type": "text"
      },
      "source": [
        "## 1) - Co App\n",
        "\n",
        "We only care if an application has a Co App with them. We are using co_app_verifiable_annual_income__c to let us know if they have one. \n",
        "\n",
        "<br>\n",
        "\n",
        "*   If NA then No Co App\n",
        "*   If Not NA then Co App\n",
        "\n",
        "<br>"
      ]
    },
    {
      "cell_type": "markdown",
      "metadata": {
        "id": "r52qqTncHZEe",
        "colab_type": "text"
      },
      "source": [
        "### View data"
      ]
    },
    {
      "cell_type": "code",
      "metadata": {
        "id": "Y3Nf553rFCND",
        "colab_type": "code",
        "colab": {}
      },
      "source": [
        "# drop na for co app and view distribution\n",
        "co_app = fplus_df.dropna(subset=['co_app_verifiable_annual_income__c'])"
      ],
      "execution_count": null,
      "outputs": []
    },
    {
      "cell_type": "code",
      "metadata": {
        "id": "wJP4HV_1FcIv",
        "colab_type": "code",
        "colab": {
          "base_uri": "https://localhost:8080/",
          "height": 306
        },
        "outputId": "338fc9a8-d44b-46b7-af72-41204f7db355"
      },
      "source": [
        "co_app.info()"
      ],
      "execution_count": null,
      "outputs": [
        {
          "output_type": "stream",
          "text": [
            "<class 'pandas.core.frame.DataFrame'>\n",
            "Int64Index: 37689 entries, 0 to 176916\n",
            "Data columns (total 12 columns):\n",
            "id                                    37689 non-null object\n",
            "co_app_verifiable_annual_income__c    37689 non-null float64\n",
            "loan_use__c                           37663 non-null object\n",
            "employment_status__c                  37686 non-null object\n",
            "amount_of_loan_requested__c           37686 non-null float64\n",
            "fico__c                               37328 non-null float64\n",
            "lti__c                                37556 non-null float64\n",
            "bcc0300__c                            37328 non-null float64\n",
            "ndi_ratio__c                          37291 non-null float64\n",
            "utm_source__c                         37689 non-null object\n",
            "Fund                                  37689 non-null int64\n",
            "co_app                                37689 non-null int64\n",
            "dtypes: float64(6), int64(2), object(4)\n",
            "memory usage: 3.7+ MB\n"
          ],
          "name": "stdout"
        }
      ]
    },
    {
      "cell_type": "code",
      "metadata": {
        "id": "H8TX3_VTFsDj",
        "colab_type": "code",
        "colab": {
          "base_uri": "https://localhost:8080/",
          "height": 297
        },
        "outputId": "0f416764-6ab7-4af9-b4d3-972dfe2c3c5c"
      },
      "source": [
        "co_app.describe()"
      ],
      "execution_count": null,
      "outputs": [
        {
          "output_type": "execute_result",
          "data": {
            "text/html": [
              "<div>\n",
              "<style scoped>\n",
              "    .dataframe tbody tr th:only-of-type {\n",
              "        vertical-align: middle;\n",
              "    }\n",
              "\n",
              "    .dataframe tbody tr th {\n",
              "        vertical-align: top;\n",
              "    }\n",
              "\n",
              "    .dataframe thead th {\n",
              "        text-align: right;\n",
              "    }\n",
              "</style>\n",
              "<table border=\"1\" class=\"dataframe\">\n",
              "  <thead>\n",
              "    <tr style=\"text-align: right;\">\n",
              "      <th></th>\n",
              "      <th>co_app_verifiable_annual_income__c</th>\n",
              "      <th>amount_of_loan_requested__c</th>\n",
              "      <th>fico__c</th>\n",
              "      <th>lti__c</th>\n",
              "      <th>bcc0300__c</th>\n",
              "      <th>ndi_ratio__c</th>\n",
              "      <th>Fund</th>\n",
              "      <th>co_app</th>\n",
              "    </tr>\n",
              "  </thead>\n",
              "  <tbody>\n",
              "    <tr>\n",
              "      <th>count</th>\n",
              "      <td>3.768900e+04</td>\n",
              "      <td>37686.000000</td>\n",
              "      <td>37328.000000</td>\n",
              "      <td>37556.00000</td>\n",
              "      <td>37328.000000</td>\n",
              "      <td>37291.000000</td>\n",
              "      <td>37689.000000</td>\n",
              "      <td>37689.0</td>\n",
              "    </tr>\n",
              "    <tr>\n",
              "      <th>mean</th>\n",
              "      <td>8.001714e+04</td>\n",
              "      <td>24757.760988</td>\n",
              "      <td>720.284478</td>\n",
              "      <td>20.22022</td>\n",
              "      <td>6.994642</td>\n",
              "      <td>37.401085</td>\n",
              "      <td>0.176895</td>\n",
              "      <td>1.0</td>\n",
              "    </tr>\n",
              "    <tr>\n",
              "      <th>std</th>\n",
              "      <td>2.209551e+06</td>\n",
              "      <td>12583.048943</td>\n",
              "      <td>232.918382</td>\n",
              "      <td>14.27604</td>\n",
              "      <td>5.105449</td>\n",
              "      <td>22.648286</td>\n",
              "      <td>0.381585</td>\n",
              "      <td>0.0</td>\n",
              "    </tr>\n",
              "    <tr>\n",
              "      <th>min</th>\n",
              "      <td>-2.029000e+03</td>\n",
              "      <td>0.000000</td>\n",
              "      <td>433.000000</td>\n",
              "      <td>0.00000</td>\n",
              "      <td>0.000000</td>\n",
              "      <td>0.000000</td>\n",
              "      <td>0.000000</td>\n",
              "      <td>1.0</td>\n",
              "    </tr>\n",
              "    <tr>\n",
              "      <th>25%</th>\n",
              "      <td>3.456000e+04</td>\n",
              "      <td>15000.000000</td>\n",
              "      <td>675.000000</td>\n",
              "      <td>13.10000</td>\n",
              "      <td>4.000000</td>\n",
              "      <td>25.931489</td>\n",
              "      <td>0.000000</td>\n",
              "      <td>1.0</td>\n",
              "    </tr>\n",
              "    <tr>\n",
              "      <th>50%</th>\n",
              "      <td>5.209500e+04</td>\n",
              "      <td>20000.000000</td>\n",
              "      <td>710.000000</td>\n",
              "      <td>18.80000</td>\n",
              "      <td>6.000000</td>\n",
              "      <td>33.926455</td>\n",
              "      <td>0.000000</td>\n",
              "      <td>1.0</td>\n",
              "    </tr>\n",
              "    <tr>\n",
              "      <th>75%</th>\n",
              "      <td>7.800000e+04</td>\n",
              "      <td>33500.000000</td>\n",
              "      <td>749.000000</td>\n",
              "      <td>25.70000</td>\n",
              "      <td>9.000000</td>\n",
              "      <td>44.400000</td>\n",
              "      <td>0.000000</td>\n",
              "      <td>1.0</td>\n",
              "    </tr>\n",
              "    <tr>\n",
              "      <th>max</th>\n",
              "      <td>4.193395e+08</td>\n",
              "      <td>191000.000000</td>\n",
              "      <td>9003.000000</td>\n",
              "      <td>1100.10000</td>\n",
              "      <td>99.000000</td>\n",
              "      <td>1499.300000</td>\n",
              "      <td>1.000000</td>\n",
              "      <td>1.0</td>\n",
              "    </tr>\n",
              "  </tbody>\n",
              "</table>\n",
              "</div>"
            ],
            "text/plain": [
              "       co_app_verifiable_annual_income__c  ...   co_app\n",
              "count                        3.768900e+04  ...  37689.0\n",
              "mean                         8.001714e+04  ...      1.0\n",
              "std                          2.209551e+06  ...      0.0\n",
              "min                         -2.029000e+03  ...      1.0\n",
              "25%                          3.456000e+04  ...      1.0\n",
              "50%                          5.209500e+04  ...      1.0\n",
              "75%                          7.800000e+04  ...      1.0\n",
              "max                          4.193395e+08  ...      1.0\n",
              "\n",
              "[8 rows x 8 columns]"
            ]
          },
          "metadata": {
            "tags": []
          },
          "execution_count": 63
        }
      ]
    },
    {
      "cell_type": "markdown",
      "metadata": {
        "id": "oH0zdsZQNhaM",
        "colab_type": "text"
      },
      "source": [
        "### Plot"
      ]
    },
    {
      "cell_type": "code",
      "metadata": {
        "id": "Th20bURYNkIj",
        "colab_type": "code",
        "colab": {
          "base_uri": "https://localhost:8080/",
          "height": 306
        },
        "outputId": "7e3d805d-7186-440d-a019-9eeb106c8f14"
      },
      "source": [
        "# Cut the window in 2 parts\n",
        "f, (ax_hist, ax_box) = plt.subplots(2, sharex=True, gridspec_kw={\"height_ratios\": (.85, .25)})\n",
        "\n",
        "# Add a graph in each part\n",
        "sns.boxplot(co_app['co_app_verifiable_annual_income__c'], ax=ax_box)\n",
        "sns.distplot(co_app['co_app_verifiable_annual_income__c'], ax=ax_hist)\n",
        "\n",
        "# Remove x axis name for the boxplot\n",
        "ax_box.set(xlabel='')"
      ],
      "execution_count": null,
      "outputs": [
        {
          "output_type": "execute_result",
          "data": {
            "text/plain": [
              "[Text(0.5, 0, '')]"
            ]
          },
          "metadata": {
            "tags": []
          },
          "execution_count": 64
        },
        {
          "output_type": "display_data",
          "data": {
            "image/png": "[encoded data removed]",
            "text/plain": [
              "<Figure size 432x288 with 2 Axes>"
            ]
          },
          "metadata": {
            "tags": []
          }
        }
      ]
    },
    {
      "cell_type": "markdown",
      "metadata": {
        "id": "-IcA3FUJNo7b",
        "colab_type": "text"
      },
      "source": [
        "### Remove outliers"
      ]
    },
    {
      "cell_type": "code",
      "metadata": {
        "id": "EgkCQG9vGAlb",
        "colab_type": "code",
        "colab": {}
      },
      "source": [
        "## remove outlier...\n",
        "co_app = co_app[co_app['co_app_verifiable_annual_income__c'] < 200000]"
      ],
      "execution_count": null,
      "outputs": []
    },
    {
      "cell_type": "code",
      "metadata": {
        "id": "Du1MDDe0A9B9",
        "colab_type": "code",
        "colab": {
          "base_uri": "https://localhost:8080/",
          "height": 286
        },
        "outputId": "bc8ec250-59dd-4191-bfdd-986e503ef8d1"
      },
      "source": [
        "# Cut the window in 2 parts\n",
        "f, (ax_hist, ax_box) = plt.subplots(2, sharex=True, gridspec_kw={\"height_ratios\": (.85, .25)})\n",
        "\n",
        "# Add a graph in each part\n",
        "sns.boxplot(co_app['co_app_verifiable_annual_income__c'], ax=ax_box)\n",
        "sns.distplot(co_app['co_app_verifiable_annual_income__c'], ax=ax_hist)\n",
        "\n",
        "# Remove x axis name for the boxplot\n",
        "ax_box.set(xlabel='')"
      ],
      "execution_count": null,
      "outputs": [
        {
          "output_type": "execute_result",
          "data": {
            "text/plain": [
              "[Text(0.5, 0, '')]"
            ]
          },
          "metadata": {
            "tags": []
          },
          "execution_count": 70
        },
        {
          "output_type": "display_data",
          "data": {
            "image/png": "[encoded data removed]",
            "text/plain": [
              "<Figure size 432x288 with 2 Axes>"
            ]
          },
          "metadata": {
            "tags": []
          }
        }
      ]
    },
    {
      "cell_type": "code",
      "metadata": {
        "id": "KO8qFKxpHtTg",
        "colab_type": "code",
        "colab": {}
      },
      "source": [
        "def get_co_app_cat(co_app_income):\n",
        "    \"\"\"This function creates a Co-App Flag\"\"\"\n",
        "    if pd.isnull(co_app_income):\n",
        "        return 0\n",
        "    return 1"
      ],
      "execution_count": null,
      "outputs": []
    },
    {
      "cell_type": "code",
      "metadata": {
        "id": "0KkGst-qH3Z1",
        "colab_type": "code",
        "colab": {}
      },
      "source": [
        "# apply function to dataset\n",
        "fplus_df['co_app'] = fplus_df['co_app_verifiable_annual_income__c'].apply(get_co_app_cat)"
      ],
      "execution_count": null,
      "outputs": []
    },
    {
      "cell_type": "code",
      "metadata": {
        "id": "JP1wCfDmICxM",
        "colab_type": "code",
        "colab": {
          "base_uri": "https://localhost:8080/",
          "height": 68
        },
        "outputId": "4516b8d4-fc64-4a3f-d514-8d83b66898cd"
      },
      "source": [
        "# view counts now\n",
        "fplus_df['co_app'].value_counts()"
      ],
      "execution_count": null,
      "outputs": [
        {
          "output_type": "execute_result",
          "data": {
            "text/plain": [
              "0    139230\n",
              "1     37689\n",
              "Name: co_app, dtype: int64"
            ]
          },
          "metadata": {
            "tags": []
          },
          "execution_count": 58
        }
      ]
    },
    {
      "cell_type": "code",
      "metadata": {
        "id": "U1sUFh5_MrFi",
        "colab_type": "code",
        "colab": {
          "base_uri": "https://localhost:8080/",
          "height": 68
        },
        "outputId": "7f666ba6-1fec-46b7-e1e6-21adf196d40a"
      },
      "source": [
        "# view percentage\n",
        "fplus_df['co_app'].value_counts()/len(fplus_df)"
      ],
      "execution_count": null,
      "outputs": [
        {
          "output_type": "execute_result",
          "data": {
            "text/plain": [
              "0    0.78697\n",
              "1    0.21303\n",
              "Name: co_app, dtype: float64"
            ]
          },
          "metadata": {
            "tags": []
          },
          "execution_count": 59
        }
      ]
    },
    {
      "cell_type": "markdown",
      "metadata": {
        "id": "WxsbXhBGMI9p",
        "colab_type": "text"
      },
      "source": [
        "### How does Co-App affect Funding?"
      ]
    },
    {
      "cell_type": "code",
      "metadata": {
        "id": "_gNb_tzbI6si",
        "colab_type": "code",
        "colab": {
          "base_uri": "https://localhost:8080/",
          "height": 354
        },
        "outputId": "07be2e65-aec6-481b-9811-e9683dac647d"
      },
      "source": [
        "# plot 2 barplots, 1 showing total counts, 1 showing co app percent by fund\n",
        "fig, (axis1,axis2) = plt.subplots(1,2, sharex=True, figsize=(10,5))\n",
        "\n",
        "# barplot\n",
        "sns.countplot(x='co_app', data=fplus_df, order=[1,0], ax=axis1)\n",
        "\n",
        "# Get Fund rate for Co-App vs No Co-App\n",
        "fund_perc = fplus_df[[\"Fund\", \"co_app\"]].groupby(['Fund'], as_index=False).mean()\n",
        "sns.barplot(x='Fund', y='co_app', data=fund_perc, order=[1,0], ax=axis2)"
      ],
      "execution_count": null,
      "outputs": [
        {
          "output_type": "execute_result",
          "data": {
            "text/plain": [
              "<matplotlib.axes._subplots.AxesSubplot at 0x7ffbab07ae10>"
            ]
          },
          "metadata": {
            "tags": []
          },
          "execution_count": 57
        },
        {
          "output_type": "display_data",
          "data": {
            "image/png": "[encoded data removed]",
            "text/plain": [
              "<Figure size 720x360 with 2 Axes>"
            ]
          },
          "metadata": {
            "tags": []
          }
        }
      ]
    },
    {
      "cell_type": "markdown",
      "metadata": {
        "id": "nbsaisDX_PhA",
        "colab_type": "text"
      },
      "source": [
        "## 2) - Loan to Income (LTI)"
      ]
    },
    {
      "cell_type": "markdown",
      "metadata": {
        "id": "WEWEmFuXNcdJ",
        "colab_type": "text"
      },
      "source": [
        "### View Data"
      ]
    },
    {
      "cell_type": "code",
      "metadata": {
        "id": "FFbMlYvWNN2o",
        "colab_type": "code",
        "colab": {}
      },
      "source": [
        "# drop na for lti and view distribution\n",
        "loan_income = fplus_df.dropna(subset=['lti__c'])"
      ],
      "execution_count": null,
      "outputs": []
    },
    {
      "cell_type": "code",
      "metadata": {
        "id": "Xu_WkKsROWDs",
        "colab_type": "code",
        "colab": {
          "base_uri": "https://localhost:8080/",
          "height": 170
        },
        "outputId": "851aa305-cde5-4e62-876a-898a81d3cf53"
      },
      "source": [
        "loan_income['lti__c'].describe()"
      ],
      "execution_count": null,
      "outputs": [
        {
          "output_type": "execute_result",
          "data": {
            "text/plain": [
              "count    175020.000000\n",
              "mean         27.123215\n",
              "std        2157.111508\n",
              "min           0.000000\n",
              "25%          14.300000\n",
              "50%          20.000000\n",
              "75%          27.400000\n",
              "max      899900.000000\n",
              "Name: lti__c, dtype: float64"
            ]
          },
          "metadata": {
            "tags": []
          },
          "execution_count": 74
        }
      ]
    },
    {
      "cell_type": "code",
      "metadata": {
        "id": "QtNVxhgtNHCO",
        "colab_type": "code",
        "colab": {
          "base_uri": "https://localhost:8080/",
          "height": 286
        },
        "outputId": "c801282c-473c-4b19-fb8c-6b4e74e056b1"
      },
      "source": [
        "# Cut the window in 2 parts\n",
        "f, (ax_hist, ax_box) = plt.subplots(2, sharex=True, gridspec_kw={\"height_ratios\": (.85, .25)})\n",
        "\n",
        "# Add a graph in each part\n",
        "sns.boxplot(loan_income['lti__c'], ax=ax_box)\n",
        "sns.distplot(loan_income['lti__c'], ax=ax_hist)\n",
        "\n",
        "# Remove x axis name for the boxplot\n",
        "ax_box.set(xlabel='')"
      ],
      "execution_count": null,
      "outputs": [
        {
          "output_type": "execute_result",
          "data": {
            "text/plain": [
              "[Text(0.5, 0, '')]"
            ]
          },
          "metadata": {
            "tags": []
          },
          "execution_count": 72
        },
        {
          "output_type": "display_data",
          "data": {
            "image/png": "[encoded data removed]",
            "text/plain": [
              "<Figure size 432x288 with 2 Axes>"
            ]
          },
          "metadata": {
            "tags": []
          }
        }
      ]
    },
    {
      "cell_type": "markdown",
      "metadata": {
        "id": "1u5mgXhdOOyx",
        "colab_type": "text"
      },
      "source": [
        "### Remove Outliers"
      ]
    },
    {
      "cell_type": "code",
      "metadata": {
        "id": "_1KE0Hy-Ofe0",
        "colab_type": "code",
        "colab": {
          "base_uri": "https://localhost:8080/",
          "height": 35
        },
        "outputId": "168e2c2c-0703-4db9-f2e7-5078f18d5f8f"
      },
      "source": [
        "744/139230"
      ],
      "execution_count": null,
      "outputs": [
        {
          "output_type": "execute_result",
          "data": {
            "text/plain": [
              "0.005343675931911226"
            ]
          },
          "metadata": {
            "tags": []
          },
          "execution_count": 1
        }
      ]
    },
    {
      "cell_type": "markdown",
      "metadata": {
        "id": "-OFqogmG_PqB",
        "colab_type": "text"
      },
      "source": [
        "## 3) - Marketing Channel (utm_source)"
      ]
    },
    {
      "cell_type": "code",
      "metadata": {
        "id": "LPm7L7eodHQw",
        "colab_type": "code",
        "colab": {}
      },
      "source": [
        ""
      ],
      "execution_count": null,
      "outputs": []
    },
    {
      "cell_type": "code",
      "metadata": {
        "id": "TFB8i-38dHgh",
        "colab_type": "code",
        "colab": {
          "base_uri": "https://localhost:8080/",
          "height": 203
        },
        "outputId": "3a37f312-97e3-4630-e16c-d95868783b3b"
      },
      "source": [
        "# Cross tab\n",
        "cm = sns.light_palette(\"green\", as_cmap=True)\n",
        "pd.crosstab(fplus_df['utm_source__c'], fplus_df['Fund'], values=fplus_df['Fund'], aggfunc=[len, np.mean], margins=True, margins_name=\"Total\").style.background_gradient(cmap = cm)"
      ],
      "execution_count": null,
      "outputs": [
        {
          "output_type": "error",
          "ename": "NameError",
          "evalue": "ignored",
          "traceback": [
            "\u001b[0;31m---------------------------------------------------------------------------\u001b[0m",
            "\u001b[0;31mNameError\u001b[0m                                 Traceback (most recent call last)",
            "\u001b[0;32m<ipython-input-1-ac171e620335>\u001b[0m in \u001b[0;36m<module>\u001b[0;34m()\u001b[0m\n\u001b[0;32m----> 1\u001b[0;31m \u001b[0mcm\u001b[0m \u001b[0;34m=\u001b[0m \u001b[0msns\u001b[0m\u001b[0;34m.\u001b[0m\u001b[0mlight_palette\u001b[0m\u001b[0;34m(\u001b[0m\u001b[0;34m\"green\"\u001b[0m\u001b[0;34m,\u001b[0m \u001b[0mas_cmap\u001b[0m\u001b[0;34m=\u001b[0m\u001b[0;32mTrue\u001b[0m\u001b[0;34m)\u001b[0m\u001b[0;34m\u001b[0m\u001b[0;34m\u001b[0m\u001b[0m\n\u001b[0m\u001b[1;32m      2\u001b[0m \u001b[0mpd\u001b[0m\u001b[0;34m.\u001b[0m\u001b[0mcrosstab\u001b[0m\u001b[0;34m(\u001b[0m\u001b[0mfplus_df\u001b[0m\u001b[0;34m[\u001b[0m\u001b[0;34m'utm_source__c'\u001b[0m\u001b[0;34m]\u001b[0m\u001b[0;34m,\u001b[0m \u001b[0mfplus_df\u001b[0m\u001b[0;34m[\u001b[0m\u001b[0;34m'Fund'\u001b[0m\u001b[0;34m]\u001b[0m\u001b[0;34m,\u001b[0m \u001b[0mvalues\u001b[0m\u001b[0;34m=\u001b[0m\u001b[0mfplus_df\u001b[0m\u001b[0;34m[\u001b[0m\u001b[0;34m'Fund'\u001b[0m\u001b[0;34m]\u001b[0m\u001b[0;34m,\u001b[0m \u001b[0maggfunc\u001b[0m\u001b[0;34m=\u001b[0m\u001b[0;34m[\u001b[0m\u001b[0mlen\u001b[0m\u001b[0;34m,\u001b[0m \u001b[0mnp\u001b[0m\u001b[0;34m.\u001b[0m\u001b[0mmean\u001b[0m\u001b[0;34m]\u001b[0m\u001b[0;34m,\u001b[0m \u001b[0mmargins\u001b[0m\u001b[0;34m=\u001b[0m\u001b[0;32mTrue\u001b[0m\u001b[0;34m,\u001b[0m \u001b[0mmargins_name\u001b[0m\u001b[0;34m=\u001b[0m\u001b[0;34m\"Total\"\u001b[0m\u001b[0;34m)\u001b[0m\u001b[0;34m.\u001b[0m\u001b[0mstyle\u001b[0m\u001b[0;34m.\u001b[0m\u001b[0mbackground_gradient\u001b[0m\u001b[0;34m(\u001b[0m\u001b[0mcmap\u001b[0m \u001b[0;34m=\u001b[0m \u001b[0mcm\u001b[0m\u001b[0;34m)\u001b[0m\u001b[0;34m\u001b[0m\u001b[0;34m\u001b[0m\u001b[0m\n",
            "\u001b[0;31mNameError\u001b[0m: name 'sns' is not defined"
          ]
        }
      ]
    },
    {
      "cell_type": "code",
      "metadata": {
        "id": "db9NX8k7dHjB",
        "colab_type": "code",
        "colab": {}
      },
      "source": [
        "# pivot table\n",
        "def fund_rate(x):\n",
        "  '''This function is used within pivot_tables to calculate ratios'''\n",
        "  return np.sum(x) / np.size(x)\n",
        "\n",
        "pivoting = pd.pivot_table(fplus_df, values='Fund', index='utm_source__c',\n",
        "              aggfunc={'Fund': [np.sum, np.size, fund_rate]})\n",
        "\n",
        "print(pivoting.sort_values('size', ascending=False).to_string())"
      ],
      "execution_count": null,
      "outputs": []
    },
    {
      "cell_type": "code",
      "metadata": {
        "id": "HKsTRAbBdHl5",
        "colab_type": "code",
        "colab": {}
      },
      "source": [
        ""
      ],
      "execution_count": null,
      "outputs": []
    },
    {
      "cell_type": "code",
      "metadata": {
        "id": "vf1D3is8dHsa",
        "colab_type": "code",
        "colab": {}
      },
      "source": [
        ""
      ],
      "execution_count": null,
      "outputs": []
    },
    {
      "cell_type": "markdown",
      "metadata": {
        "id": "IyCaGZpd_PxI",
        "colab_type": "text"
      },
      "source": [
        "## 4) - FICO"
      ]
    },
    {
      "cell_type": "markdown",
      "metadata": {
        "id": "y3-Stwky_P5O",
        "colab_type": "text"
      },
      "source": [
        "## 5) - Employment"
      ]
    },
    {
      "cell_type": "markdown",
      "metadata": {
        "id": "W4JoiTk4_QBc",
        "colab_type": "text"
      },
      "source": [
        "## 6) - Debt to Income (NDI)"
      ]
    },
    {
      "cell_type": "markdown",
      "metadata": {
        "id": "LmIe6pqd_QMB",
        "colab_type": "text"
      },
      "source": [
        "## 7) - Debt to Income Squared"
      ]
    },
    {
      "cell_type": "markdown",
      "metadata": {
        "id": "xjfT6cT9_QTf",
        "colab_type": "text"
      },
      "source": [
        "## 8) - Loan Use"
      ]
    },
    {
      "cell_type": "markdown",
      "metadata": {
        "id": "CDYHqGQ__Qec",
        "colab_type": "text"
      },
      "source": [
        "## 9) - Bank Card Trades (bcc0300)"
      ]
    },
    {
      "cell_type": "markdown",
      "metadata": {
        "id": "hcBI6v4I_Qmg",
        "colab_type": "text"
      },
      "source": [
        "## 10) - Loan Amount"
      ]
    },
    {
      "cell_type": "markdown",
      "metadata": {
        "id": "gOBVHkHH_v5X",
        "colab_type": "text"
      },
      "source": [
        "# Prediction Model"
      ]
    },
    {
      "cell_type": "code",
      "metadata": {
        "id": "gosC_s6kBd2U",
        "colab_type": "code",
        "colab": {}
      },
      "source": [
        "model_data = fplus_df.dropna()"
      ],
      "execution_count": null,
      "outputs": []
    },
    {
      "cell_type": "code",
      "metadata": {
        "id": "3ZQQmoxtCTL6",
        "colab_type": "code",
        "colab": {
          "base_uri": "https://localhost:8080/",
          "height": 121
        },
        "outputId": "57f51b2c-28a5-4b6f-9d38-cd2d8ea52fc1"
      },
      "source": [
        "def get_co_app_cat(co_app_income):\n",
        "    \n",
        "    if pd.isnull(co_app_income):\n",
        "        return 0\n",
        "    return 1\n",
        "\n",
        "model_data['co_app_verifiable_annual_income__c'] = model_data['co_app_verifiable_annual_income__c'].apply(get_co_app_cat)"
      ],
      "execution_count": null,
      "outputs": [
        {
          "output_type": "stream",
          "text": [
            "/usr/local/lib/python3.6/dist-packages/ipykernel_launcher.py:7: SettingWithCopyWarning: \n",
            "A value is trying to be set on a copy of a slice from a DataFrame.\n",
            "Try using .loc[row_indexer,col_indexer] = value instead\n",
            "\n",
            "See the caveats in the documentation: http://pandas.pydata.org/pandas-docs/stable/indexing.html#indexing-view-versus-copy\n",
            "  import sys\n"
          ],
          "name": "stderr"
        }
      ]
    },
    {
      "cell_type": "code",
      "metadata": {
        "id": "IFRwFE_CC9So",
        "colab_type": "code",
        "colab": {}
      },
      "source": [
        "# create dummies\n",
        "cat_vars = ['loan_use__c','employment_status__c','utm_source__c']\n",
        "for var in cat_vars:\n",
        "    cat_list = pd.get_dummies(model_data[var], prefix=var)\n",
        "    temp = model_data.join(cat_list)\n",
        "    model_data = temp\n",
        "data_vars = model_data.columns.values.tolist()\n",
        "to_keep = [i for i in data_vars if i not in cat_vars]\n",
        "model_data = model_data[to_keep]"
      ],
      "execution_count": null,
      "outputs": []
    },
    {
      "cell_type": "code",
      "metadata": {
        "id": "7mmW9e2xBibu",
        "colab_type": "code",
        "colab": {
          "base_uri": "https://localhost:8080/",
          "height": 104
        },
        "outputId": "bda2eadf-a8a5-41ca-a759-a77c603a7c7c"
      },
      "source": [
        "model_data.info()"
      ],
      "execution_count": null,
      "outputs": [
        {
          "output_type": "stream",
          "text": [
            "<class 'pandas.core.frame.DataFrame'>\n",
            "Int64Index: 39509 entries, 2 to 187914\n",
            "Columns: 109 entries, id to utm_source__c_yahoo\n",
            "dtypes: float64(5), int64(2), object(1), uint8(101)\n",
            "memory usage: 7.8+ MB\n"
          ],
          "name": "stdout"
        }
      ]
    },
    {
      "cell_type": "code",
      "metadata": {
        "id": "LZSvVModDnW0",
        "colab_type": "code",
        "colab": {}
      },
      "source": [
        "model_data = model_data.drop(['id'], axis = 1)"
      ],
      "execution_count": null,
      "outputs": []
    },
    {
      "cell_type": "code",
      "metadata": {
        "id": "bokT0mXD_mwe",
        "colab_type": "code",
        "colab": {
          "base_uri": "https://localhost:8080/",
          "height": 435
        },
        "outputId": "5f9868f7-408b-45f4-9959-b5fa55877a47"
      },
      "source": [
        "# segment out the variable we are predicting from the rest of the data\n",
        "y = model_data['Fund']\n",
        "X = model_data.drop(['Fund'], axis = 1)\n",
        "\n",
        "# Split the data into a train and test dataset\n",
        "X_train, X_test, y_train, y_test = train_test_split(X, y, test_size=0.2)\n",
        "print(X_train.shape, y_train.shape)\n",
        "print(X_test.shape, y_test.shape)\n",
        "\n",
        "# 10 Fold Cross Validation. \n",
        "num_instances = len(X)\n",
        "seed = 7\n",
        "kfold = model_selection.KFold(n_splits=10, random_state=seed)\n",
        "model = LogisticRegression()\n",
        "results = model_selection.cross_val_score(model, X, y, cv=kfold)\n",
        "print(\"Accuracy: %.3f%% (%.3f%%)\" % (results.mean()*100.0, results.std()*100.0))"
      ],
      "execution_count": null,
      "outputs": [
        {
          "output_type": "stream",
          "text": [
            "(31607, 107) (31607,)\n",
            "(7902, 107) (7902,)\n"
          ],
          "name": "stdout"
        },
        {
          "output_type": "stream",
          "text": [
            "/usr/local/lib/python3.6/dist-packages/sklearn/linear_model/logistic.py:432: FutureWarning: Default solver will be changed to 'lbfgs' in 0.22. Specify a solver to silence this warning.\n",
            "  FutureWarning)\n",
            "/usr/local/lib/python3.6/dist-packages/sklearn/linear_model/logistic.py:432: FutureWarning: Default solver will be changed to 'lbfgs' in 0.22. Specify a solver to silence this warning.\n",
            "  FutureWarning)\n",
            "/usr/local/lib/python3.6/dist-packages/sklearn/linear_model/logistic.py:432: FutureWarning: Default solver will be changed to 'lbfgs' in 0.22. Specify a solver to silence this warning.\n",
            "  FutureWarning)\n",
            "/usr/local/lib/python3.6/dist-packages/sklearn/linear_model/logistic.py:432: FutureWarning: Default solver will be changed to 'lbfgs' in 0.22. Specify a solver to silence this warning.\n",
            "  FutureWarning)\n",
            "/usr/local/lib/python3.6/dist-packages/sklearn/linear_model/logistic.py:432: FutureWarning: Default solver will be changed to 'lbfgs' in 0.22. Specify a solver to silence this warning.\n",
            "  FutureWarning)\n",
            "/usr/local/lib/python3.6/dist-packages/sklearn/linear_model/logistic.py:432: FutureWarning: Default solver will be changed to 'lbfgs' in 0.22. Specify a solver to silence this warning.\n",
            "  FutureWarning)\n",
            "/usr/local/lib/python3.6/dist-packages/sklearn/linear_model/logistic.py:432: FutureWarning: Default solver will be changed to 'lbfgs' in 0.22. Specify a solver to silence this warning.\n",
            "  FutureWarning)\n",
            "/usr/local/lib/python3.6/dist-packages/sklearn/linear_model/logistic.py:432: FutureWarning: Default solver will be changed to 'lbfgs' in 0.22. Specify a solver to silence this warning.\n",
            "  FutureWarning)\n",
            "/usr/local/lib/python3.6/dist-packages/sklearn/linear_model/logistic.py:432: FutureWarning: Default solver will be changed to 'lbfgs' in 0.22. Specify a solver to silence this warning.\n",
            "  FutureWarning)\n"
          ],
          "name": "stderr"
        },
        {
          "output_type": "stream",
          "text": [
            "Accuracy: 81.412% (2.394%)\n"
          ],
          "name": "stdout"
        },
        {
          "output_type": "stream",
          "text": [
            "/usr/local/lib/python3.6/dist-packages/sklearn/linear_model/logistic.py:432: FutureWarning: Default solver will be changed to 'lbfgs' in 0.22. Specify a solver to silence this warning.\n",
            "  FutureWarning)\n"
          ],
          "name": "stderr"
        }
      ]
    },
    {
      "cell_type": "code",
      "metadata": {
        "id": "iYyNaGtn_8_k",
        "colab_type": "code",
        "colab": {
          "base_uri": "https://localhost:8080/",
          "height": 431
        },
        "outputId": "fc58d2f4-cd2c-42b1-f011-25b0a47393df"
      },
      "source": [
        "# Set classes for all plots\n",
        "classes = ['Not Fund', 'Fund']\n",
        "\n",
        "# Instantiate the visualizer with the classification model\n",
        "visualizer = ROCAUC(model, classes=classes)\n",
        "\n",
        "\n",
        "visualizer.fit(X_train, y_train)  # Fit the training data to the visualizer\n",
        "visualizer.score(X_test, y_test)  # Evaluate the model on the test data\n",
        "g = visualizer.poof() "
      ],
      "execution_count": null,
      "outputs": [
        {
          "output_type": "stream",
          "text": [
            "/usr/local/lib/python3.6/dist-packages/sklearn/linear_model/logistic.py:432: FutureWarning: Default solver will be changed to 'lbfgs' in 0.22. Specify a solver to silence this warning.\n",
            "  FutureWarning)\n"
          ],
          "name": "stderr"
        },
        {
          "output_type": "display_data",
          "data": {
            "image/png": "[encoded data removed]",
            "text/plain": [
              "<Figure size 576x396 with 1 Axes>"
            ]
          },
          "metadata": {
            "tags": []
          }
        }
      ]
    },
    {
      "cell_type": "code",
      "metadata": {
        "id": "3J8BgwytAB4u",
        "colab_type": "code",
        "colab": {
          "base_uri": "https://localhost:8080/",
          "height": 455
        },
        "outputId": "742563cd-da06-4e43-d702-3ce534d5031d"
      },
      "source": [
        "# Instantiate the classification model and visualizer\n",
        "visualizer = ClassificationReport(model, classes=classes, support=True)\n",
        "\n",
        "visualizer.fit(X_train, y_train)  # Fit the visualizer and the model\n",
        "visualizer.score(X_test, y_test)  # Evaluate the model on the test data\n",
        "g = visualizer.poof()             # Draw/show/poof the data"
      ],
      "execution_count": null,
      "outputs": [
        {
          "output_type": "stream",
          "text": [
            "/usr/local/lib/python3.6/dist-packages/sklearn/linear_model/logistic.py:432: FutureWarning: Default solver will be changed to 'lbfgs' in 0.22. Specify a solver to silence this warning.\n",
            "  FutureWarning)\n"
          ],
          "name": "stderr"
        },
        {
          "output_type": "display_data",
          "data": {
            "image/png": "[encoded data removed]",
            "text/plain": [
              "<Figure size 576x396 with 2 Axes>"
            ]
          },
          "metadata": {
            "tags": []
          }
        }
      ]
    },
    {
      "cell_type": "markdown",
      "metadata": {
        "id": "Gzv4SoZltokH",
        "colab_type": "text"
      },
      "source": [
        "## Data Transformation Functions"
      ]
    },
    {
      "cell_type": "code",
      "metadata": {
        "id": "AFQ0yifwqTH3",
        "colab_type": "code",
        "colab": {}
      },
      "source": [
        "import numpy as np\n",
        "import pandas as pd\n",
        "\n",
        "def get_co_app_cat(co_app_income):\n",
        "    \n",
        "    if pd.isnull(co_app_income):\n",
        "        return 0\n",
        "    return 1\n",
        "\n",
        "def get_loan_use_cat(loan_use):\n",
        "    \n",
        "    if pd.isnull(loan_use):\n",
        "        return 3\n",
        "    \n",
        "    loan_use = loan_use.strip()\n",
        "    if (loan_use == 'Credit Card Refinancing'):\n",
        "        return 4\n",
        "    if (loan_use in ['Major Purchase','Other']):\n",
        "        return 2\n",
        "    if (loan_use == 'Auto Purchase'):\n",
        "        return 1\n",
        "    \n",
        "    return 3\n",
        "\n",
        "def get_employment_cat(employment_status):\n",
        "    \n",
        "    if pd.isnull(employment_status):\n",
        "        employment_status = ''\n",
        "    \n",
        "    employment_status = employment_status.strip()\n",
        "    if (employment_status == 'Retired'):\n",
        "        return 4\n",
        "    if (employment_status in ['Self-employed']):\n",
        "        return 2\n",
        "    if (employment_status in ['Other', '']):\n",
        "        return 1\n",
        "    \n",
        "    return 3\n",
        "\n",
        "def get_loan_amount_cat(loan_amount):\n",
        "    \n",
        "    if pd.isnull(loan_amount):\n",
        "        return 1\n",
        "    \n",
        "    loan_amount = float(loan_amount)\n",
        "    if (loan_amount < 15000):\n",
        "        return 4\n",
        "    if (loan_amount >= 15000) and (loan_amount < 20000):\n",
        "        return 3\n",
        "    if (loan_amount >= 20000) and (loan_amount < 25000):\n",
        "        return 2\n",
        "    \n",
        "    return 1\n",
        "\n",
        "def get_mkt_chan_cat(utm_source):\n",
        "    \n",
        "    if pd.isnull(utm_source):\n",
        "        return 3\n",
        "    \n",
        "    utm_source = utm_source.strip()\n",
        "    if (utm_source in ['creditkarma','nerdwallet']):\n",
        "        return 7\n",
        "    if (utm_source in ['credible','experian']):\n",
        "        return 6\n",
        "    if (utm_source in ['website', 'google','msn','ck','nerd',\n",
        "                        '115','save','dm','SLH','201']):\n",
        "        return 5\n",
        "    if (utm_source in ['facebook', 'even','uplift','Quinstreet',\n",
        "                       'Personalloanpro','113']):\n",
        "        return 2\n",
        "    if (utm_source in ['LendEDU', 'monevo','247','sfl']):\n",
        "        return 1\n",
        "    \n",
        "    return 3\n",
        "\n",
        "def get_fico(fico):\n",
        "    \n",
        "    if pd.isnull(fico):\n",
        "        return 990\n",
        "    \n",
        "    fico = int(fico)\n",
        "    if (fico >= 9000):\n",
        "        return 990\n",
        "    if fico < 600:\n",
        "        return 990\n",
        "    \n",
        "    return fico\n",
        "\n",
        "def get_lti(lti):\n",
        "    \n",
        "    if pd.isnull(lti):\n",
        "        return 36\n",
        "    \n",
        "    lti = float(lti)\n",
        "    if (lti > 35) or (lti < 1):\n",
        "        return 36\n",
        "    if (lti >= 1) and (lti < 2):\n",
        "        return 35\n",
        "    if (lti >= 2) and (lti < 3):\n",
        "        return 34\n",
        "    \n",
        "    return np.floor(lti)\n",
        "\n",
        "def get_bcc0300(bcc0300):\n",
        "    \n",
        "    if pd.isnull(bcc0300):\n",
        "        return 99\n",
        "    \n",
        "    bcc0300 = int(bcc0300)\n",
        "    if (bcc0300 >= 25):\n",
        "        return 30\n",
        "    \n",
        "    return bcc0300\n",
        "\n",
        "def get_ndi_ratio(ndi_ratio):\n",
        "    \n",
        "    if pd.isnull(ndi_ratio):\n",
        "        return 5\n",
        "    \n",
        "    ndi_ratio = float(ndi_ratio)\n",
        "    ndi_ratio = np.floor(ndi_ratio)\n",
        "    \n",
        "    if (ndi_ratio < 10):\n",
        "        return 5\n",
        "    if (ndi_ratio > 75):\n",
        "        return 80\n",
        "    \n",
        "    return ndi_ratio  \n",
        "\n"
      ],
      "execution_count": null,
      "outputs": []
    },
    {
      "cell_type": "code",
      "metadata": {
        "id": "jfKLzDKbKgbS",
        "colab_type": "code",
        "colab": {
          "base_uri": "https://localhost:8080/",
          "height": 235
        },
        "outputId": "bb5d1a66-ed09-4834-9b4e-607fd3778f73"
      },
      "source": [
        "# Compute the correlation matrix\n",
        "corr = model_data.corr()\n",
        "\n",
        "# Generate a mask for the upper triangle\n",
        "mask = np.zeros_like(corr, dtype=np.bool)\n",
        "mask[np.triu_indices_from(mask)] = True\n",
        "\n",
        "# Set up the matplotlib figure\n",
        "f, ax = plt.subplots(figsize=(11, 9))\n",
        "\n",
        "# Generate a custom diverging colormap\n",
        "cmap = sns.diverging_palette(220, 10, as_cmap=True)\n",
        "\n",
        "# Draw the heatmap with the mask and correct aspect ratio\n",
        "sns.heatmap(corr, mask=mask, cmap=cmap, vmax=.3, center=0,\n",
        "            square=True, linewidths=.5, cbar_kws={\"shrink\": .5})"
      ],
      "execution_count": null,
      "outputs": [
        {
          "output_type": "error",
          "ename": "NameError",
          "evalue": "ignored",
          "traceback": [
            "\u001b[0;31m---------------------------------------------------------------------------\u001b[0m",
            "\u001b[0;31mNameError\u001b[0m                                 Traceback (most recent call last)",
            "\u001b[0;32m<ipython-input-1-155148603a81>\u001b[0m in \u001b[0;36m<module>\u001b[0;34m()\u001b[0m\n\u001b[0;32m----> 1\u001b[0;31m \u001b[0mcorr\u001b[0m \u001b[0;34m=\u001b[0m \u001b[0mmodel_data\u001b[0m\u001b[0;34m.\u001b[0m\u001b[0mcorr\u001b[0m\u001b[0;34m(\u001b[0m\u001b[0;34m)\u001b[0m\u001b[0;34m\u001b[0m\u001b[0;34m\u001b[0m\u001b[0m\n\u001b[0m\u001b[1;32m      2\u001b[0m \u001b[0;34m\u001b[0m\u001b[0m\n\u001b[1;32m      3\u001b[0m \u001b[0;31m# Generate a mask for the upper triangle\u001b[0m\u001b[0;34m\u001b[0m\u001b[0;34m\u001b[0m\u001b[0;34m\u001b[0m\u001b[0m\n\u001b[1;32m      4\u001b[0m \u001b[0mmask\u001b[0m \u001b[0;34m=\u001b[0m \u001b[0mnp\u001b[0m\u001b[0;34m.\u001b[0m\u001b[0mzeros_like\u001b[0m\u001b[0;34m(\u001b[0m\u001b[0mcorr\u001b[0m\u001b[0;34m,\u001b[0m \u001b[0mdtype\u001b[0m\u001b[0;34m=\u001b[0m\u001b[0mnp\u001b[0m\u001b[0;34m.\u001b[0m\u001b[0mbool\u001b[0m\u001b[0;34m)\u001b[0m\u001b[0;34m\u001b[0m\u001b[0;34m\u001b[0m\u001b[0m\n\u001b[1;32m      5\u001b[0m \u001b[0mmask\u001b[0m\u001b[0;34m[\u001b[0m\u001b[0mnp\u001b[0m\u001b[0;34m.\u001b[0m\u001b[0mtriu_indices_from\u001b[0m\u001b[0;34m(\u001b[0m\u001b[0mmask\u001b[0m\u001b[0;34m)\u001b[0m\u001b[0;34m]\u001b[0m \u001b[0;34m=\u001b[0m \u001b[0;32mTrue\u001b[0m\u001b[0;34m\u001b[0m\u001b[0;34m\u001b[0m\u001b[0m\n",
            "\u001b[0;31mNameError\u001b[0m: name 'model_data' is not defined"
          ]
        }
      ]
    },
    {
      "cell_type": "code",
      "metadata": {
        "id": "TN7M3dPSKma7",
        "colab_type": "code",
        "colab": {
          "base_uri": "https://localhost:8080/",
          "height": 235
        },
        "outputId": "86ae9cf6-6758-4d21-c692-74d35ae51817"
      },
      "source": [
        "\n",
        "# select only numeric data \n",
        "num_data = fplus_df.select_dtypes(include='number')\n",
        "\n",
        "# Compute the correlation matrix\n",
        "corr = num_data.corr()\n",
        "\n",
        "# Generate a mask for the upper triangle\n",
        "mask = np.zeros_like(corr, dtype=np.bool)\n",
        "mask[np.triu_indices_from(mask)] = True\n",
        "\n",
        "# Set up the matplotlib figure\n",
        "f, ax = plt.subplots(figsize=(11, 9))\n",
        "\n",
        "# Generate a custom diverging colormap\n",
        "cmap = sns.diverging_palette(220, 10, as_cmap=True)\n",
        "\n",
        "# Draw the heatmap with the mask and correct aspect ratio\n",
        "sns.heatmap(corr, mask=mask, cmap=cmap, vmax=.3, center=0,\n",
        "            square=True, linewidths=.5, cbar_kws={\"shrink\": .5})\n"
      ],
      "execution_count": null,
      "outputs": [
        {
          "output_type": "error",
          "ename": "NameError",
          "evalue": "ignored",
          "traceback": [
            "\u001b[0;31m---------------------------------------------------------------------------\u001b[0m",
            "\u001b[0;31mNameError\u001b[0m                                 Traceback (most recent call last)",
            "\u001b[0;32m<ipython-input-2-03bfc886e856>\u001b[0m in \u001b[0;36m<module>\u001b[0;34m()\u001b[0m\n\u001b[0;32m----> 1\u001b[0;31m \u001b[0mnum_data\u001b[0m \u001b[0;34m=\u001b[0m \u001b[0mfplus_df\u001b[0m\u001b[0;34m.\u001b[0m\u001b[0mselect_dtypes\u001b[0m\u001b[0;34m(\u001b[0m\u001b[0minclude\u001b[0m\u001b[0;34m=\u001b[0m\u001b[0;34m'number'\u001b[0m\u001b[0;34m)\u001b[0m\u001b[0;34m\u001b[0m\u001b[0;34m\u001b[0m\u001b[0m\n\u001b[0m\u001b[1;32m      2\u001b[0m \u001b[0;34m\u001b[0m\u001b[0m\n\u001b[1;32m      3\u001b[0m \u001b[0;31m# Compute the correlation matrix\u001b[0m\u001b[0;34m\u001b[0m\u001b[0;34m\u001b[0m\u001b[0;34m\u001b[0m\u001b[0m\n\u001b[1;32m      4\u001b[0m \u001b[0mcorr\u001b[0m \u001b[0;34m=\u001b[0m \u001b[0mnum_data\u001b[0m\u001b[0;34m.\u001b[0m\u001b[0mcorr\u001b[0m\u001b[0;34m(\u001b[0m\u001b[0;34m)\u001b[0m\u001b[0;34m\u001b[0m\u001b[0;34m\u001b[0m\u001b[0m\n\u001b[1;32m      5\u001b[0m \u001b[0;34m\u001b[0m\u001b[0m\n",
            "\u001b[0;31mNameError\u001b[0m: name 'fplus_df' is not defined"
          ]
        }
      ]
    },
    {
      "cell_type": "code",
      "metadata": {
        "id": "_k_ohgQqdkw5",
        "colab_type": "code",
        "colab": {}
      },
      "source": [
        ""
      ],
      "execution_count": null,
      "outputs": []
    }
  ]
}