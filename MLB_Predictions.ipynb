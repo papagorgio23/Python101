{
  "nbformat": 4,
  "nbformat_minor": 0,
  "metadata": {
    "colab": {
      "name": "MLB Predictions.ipynb",
      "provenance": [],
      "collapsed_sections": [],
      "include_colab_link": true
    },
    "kernelspec": {
      "name": "python3",
      "display_name": "Python 3"
    }
  },
  "cells": [
    {
      "cell_type": "markdown",
      "metadata": {
        "id": "view-in-github",
        "colab_type": "text"
      },
      "source": [
        "<a href=\"https://colab.research.google.com/github/papagorgio23/Python101/blob/master/MLB_Predictions.ipynb\" target=\"_parent\"><img src=\"https://colab.research.google.com/assets/colab-badge.svg\" alt=\"Open In Colab\"/></a>"
      ]
    },
    {
      "cell_type": "markdown",
      "metadata": {
        "id": "10dfHd3J2rsw",
        "colab_type": "text"
      },
      "source": [
        "# Run to setup Notebook"
      ]
    },
    {
      "cell_type": "code",
      "metadata": {
        "id": "C9KOXkoGiSnf",
        "colab_type": "code",
        "colab": {
          "base_uri": "https://localhost:8080/",
          "height": 340
        },
        "outputId": "be496966-1adc-4ae1-8ae7-4a0c54239d23"
      },
      "source": [
        "!pip install pybaseball"
      ],
      "execution_count": null,
      "outputs": [
        {
          "output_type": "stream",
          "text": [
            "Collecting pybaseball\n",
            "  Downloading https://files.pythonhosted.org/packages/73/ed/032d64eddfbc0acad1cc509e5376ae63161f5ba2e079039ef04794fb51b7/pybaseball-1.0.7.tar.gz\n",
            "Requirement already satisfied: numpy>=1.13.0 in /usr/local/lib/python3.6/dist-packages (from pybaseball) (1.16.3)\n",
            "Requirement already satisfied: pandas>=0.20.2 in /usr/local/lib/python3.6/dist-packages (from pybaseball) (0.24.2)\n",
            "Requirement already satisfied: beautifulsoup4>=4.4.0 in /usr/local/lib/python3.6/dist-packages (from pybaseball) (4.6.3)\n",
            "Requirement already satisfied: requests>=2.18.1 in /usr/local/lib/python3.6/dist-packages (from pybaseball) (2.21.0)\n",
            "Requirement already satisfied: python-dateutil>=2.5.0 in /usr/local/lib/python3.6/dist-packages (from pandas>=0.20.2->pybaseball) (2.5.3)\n",
            "Requirement already satisfied: pytz>=2011k in /usr/local/lib/python3.6/dist-packages (from pandas>=0.20.2->pybaseball) (2018.9)\n",
            "Requirement already satisfied: chardet<3.1.0,>=3.0.2 in /usr/local/lib/python3.6/dist-packages (from requests>=2.18.1->pybaseball) (3.0.4)\n",
            "Requirement already satisfied: certifi>=2017.4.17 in /usr/local/lib/python3.6/dist-packages (from requests>=2.18.1->pybaseball) (2019.3.9)\n",
            "Requirement already satisfied: idna<2.9,>=2.5 in /usr/local/lib/python3.6/dist-packages (from requests>=2.18.1->pybaseball) (2.8)\n",
            "Requirement already satisfied: urllib3<1.25,>=1.21.1 in /usr/local/lib/python3.6/dist-packages (from requests>=2.18.1->pybaseball) (1.24.3)\n",
            "Requirement already satisfied: six>=1.5 in /usr/local/lib/python3.6/dist-packages (from python-dateutil>=2.5.0->pandas>=0.20.2->pybaseball) (1.12.0)\n",
            "Building wheels for collected packages: pybaseball\n",
            "  Building wheel for pybaseball (setup.py) ... \u001b[?25l\u001b[?25hdone\n",
            "  Stored in directory: /root/.cache/pip/wheels/ec/07/ea/c76916b911a2f060d1dfa2e900460e6b5004ef334ff83cb419\n",
            "Successfully built pybaseball\n",
            "Installing collected packages: pybaseball\n",
            "Successfully installed pybaseball-1.0.7\n"
          ],
          "name": "stdout"
        }
      ]
    },
    {
      "cell_type": "code",
      "metadata": {
        "id": "VNUCDj8p2_wo",
        "colab_type": "code",
        "colab": {}
      },
      "source": [
        "# MLB Teams\n",
        "teams = ['Red Sox', 'Orioles', 'Blue Jays',\n",
        "       'Yankees', 'Rays', 'Indians',\n",
        "       'Tigers', 'Royals', 'White Sox',\n",
        "       'Twins', 'Rangers', 'Mariners',\n",
        "       'Astros', 'Angels', 'Athletics',\n",
        "       'Nationals', 'Mets', 'Marlins',\n",
        "       'Phillies', 'Braves', 'Cubs',\n",
        "       'Cardinals', 'Pirates', 'Brewers',\n",
        "       'Reds', 'Dodgers', 'Giants',\n",
        "       'Rockies', 'Diamondbacks', 'Padres']\n",
        "\n",
        "import time\n",
        " \n",
        "\n",
        "# function to gather info about you\n",
        "def setupInfo():\n",
        "    name = input(\"What is your name? \")\n",
        "\n",
        "    print(\"\\nWelcome to A.I. Sports' MLB analytics team, {}! \\nWe're very excited to use your brain to help us beat Vegas and win more games!\\n\".format(name))\n",
        "\n",
        "    while True:\n",
        "        team = input(\"\\n{}, What is your favorite MLB team (no need to include city ie. 'Rays' or 'Twins' will work just fine)? \".format(name))\n",
        "        if team not in teams:\n",
        "            print(\"\\nSorry... I don't think that is a real team...Pick one of these:\\n\")\n",
        "            for tm in teams:\n",
        "                print(tm)\n",
        "        else:\n",
        "            break\n",
        "        \n",
        "    print(\"\\nVery nice. The {} are a great team.\\n\".format(team)) \n",
        "    \n",
        "    # Wait for 1.5 seconds\n",
        "    time.sleep(1.5)\n",
        "    print(\"\\n{}, your first assignment:\\n\".format(name))\n",
        "    time.sleep(1)\n",
        "    print(\"I need you to tell me if the {} have been over performing or underperforming compared to the Pythagorean Wins Formula over the last 10 years.\".format(team))   "
      ],
      "execution_count": null,
      "outputs": []
    },
    {
      "cell_type": "markdown",
      "metadata": {
        "id": "rMPdbgk946fU",
        "colab_type": "text"
      },
      "source": [
        "# A.I. Sports"
      ]
    },
    {
      "cell_type": "markdown",
      "metadata": {
        "id": "IxfYOAjvJbrS",
        "colab_type": "text"
      },
      "source": [
        "Run the next cell"
      ]
    },
    {
      "cell_type": "code",
      "metadata": {
        "id": "gjZDgLcN3ClP",
        "colab_type": "code",
        "colab": {
          "base_uri": "https://localhost:8080/",
          "height": 850
        },
        "outputId": "1c44419e-7854-45f4-9266-41271e431e5b"
      },
      "source": [
        "setupInfo()"
      ],
      "execution_count": null,
      "outputs": [
        {
          "output_type": "stream",
          "text": [
            "What is your name? Jason\n",
            "\n",
            "Welcome to A.I. Sports' MLB analytics team, Jason! \n",
            "We're very excited to use your brain to help us beat Vegas and win more games!\n",
            "\n",
            "\n",
            "Jason, What is your favorite MLB team (no need to include city ie. 'Rays' or 'Twins' will work just fine)? Boston\n",
            "\n",
            "Sorry... I don't think that is a real team...Pick one of these:\n",
            "\n",
            "Red Sox\n",
            "Orioles\n",
            "Blue Jays\n",
            "Yankees\n",
            "Rays\n",
            "Indians\n",
            "Tigers\n",
            "Royals\n",
            "White Sox\n",
            "Twins\n",
            "Rangers\n",
            "Mariners\n",
            "Astros\n",
            "Angels\n",
            "Athletics\n",
            "Nationals\n",
            "Mets\n",
            "Marlins\n",
            "Phillies\n",
            "Braves\n",
            "Cubs\n",
            "Cardinals\n",
            "Pirates\n",
            "Brewers\n",
            "Reds\n",
            "Dodgers\n",
            "Giants\n",
            "Rockies\n",
            "Diamondbacks\n",
            "Padres\n",
            "\n",
            "Jason, What is your favorite MLB team (no need to include city ie. 'Rays' or 'Twins' will work just fine)? Orioles\n",
            "\n",
            "Very nice. The Orioles are a great team.\n",
            "\n",
            "\n",
            "Jason, your first assignment:\n",
            "\n",
            "I need you to tell me if the Orioles have been over performing or underperforming compared to the Pythagorean Wins Formula over the last 10 years.\n"
          ],
          "name": "stdout"
        }
      ]
    },
    {
      "cell_type": "markdown",
      "metadata": {
        "id": "Ces1Ieev2NOQ",
        "colab_type": "text"
      },
      "source": [
        "## Pythagorean Wins Formula"
      ]
    },
    {
      "cell_type": "markdown",
      "metadata": {
        "id": "LL-pTIQrqHoh",
        "colab_type": "text"
      },
      "source": [
        "\n",
        "$$ PythWin\\% = \\frac{RunScored^2} { (RunScored^2 + RunAllowed^2)} $$\n",
        "\n",
        "<br>\n",
        "\n",
        "With some basic arithmetic transformation this equation could look like this:\n",
        "\n",
        "<br>\n",
        "\n",
        "$$ PythWin\\% = \\frac{ScoreRatio^2} { (ScoreRatio^2 + 1)} $$"
      ]
    },
    {
      "cell_type": "markdown",
      "metadata": {
        "id": "9aLIGc1BibHa",
        "colab_type": "text"
      },
      "source": [
        "# MLB"
      ]
    },
    {
      "cell_type": "markdown",
      "metadata": {
        "id": "hP3V26ajL_0M",
        "colab_type": "text"
      },
      "source": [
        "## Load Data"
      ]
    },
    {
      "cell_type": "code",
      "metadata": {
        "id": "m18oCQ2Uiotz",
        "colab_type": "code",
        "colab": {}
      },
      "source": [
        "import pandas as pd\n"
      ],
      "execution_count": null,
      "outputs": []
    },
    {
      "cell_type": "code",
      "metadata": {
        "id": "Bgs3u0SrMB70",
        "colab_type": "code",
        "colab": {
          "base_uri": "https://localhost:8080/",
          "height": 204
        },
        "outputId": "1f766eba-a817-4be6-844d-78191ee96c3d"
      },
      "source": [
        "MLBdata = pd.read_csv('https://raw.githubusercontent.com/papagorgio23/Python101/master/Allteams.csv')\n",
        "MLBdata.head()"
      ],
      "execution_count": null,
      "outputs": [
        {
          "output_type": "execute_result",
          "data": {
            "text/html": [
              "<div>\n",
              "<style scoped>\n",
              "    .dataframe tbody tr th:only-of-type {\n",
              "        vertical-align: middle;\n",
              "    }\n",
              "\n",
              "    .dataframe tbody tr th {\n",
              "        vertical-align: top;\n",
              "    }\n",
              "\n",
              "    .dataframe thead th {\n",
              "        text-align: right;\n",
              "    }\n",
              "</style>\n",
              "<table border=\"1\" class=\"dataframe\">\n",
              "  <thead>\n",
              "    <tr style=\"text-align: right;\">\n",
              "      <th></th>\n",
              "      <th>Tm</th>\n",
              "      <th>W</th>\n",
              "      <th>L</th>\n",
              "      <th>W-L%</th>\n",
              "      <th>GB</th>\n",
              "      <th>RS</th>\n",
              "      <th>RA</th>\n",
              "      <th>League</th>\n",
              "      <th>Year</th>\n",
              "    </tr>\n",
              "  </thead>\n",
              "  <tbody>\n",
              "    <tr>\n",
              "      <th>0</th>\n",
              "      <td>PHI</td>\n",
              "      <td>96</td>\n",
              "      <td>64</td>\n",
              "      <td>0.600</td>\n",
              "      <td>--</td>\n",
              "      <td>758</td>\n",
              "      <td>632</td>\n",
              "      <td>NL</td>\n",
              "      <td>2010</td>\n",
              "    </tr>\n",
              "    <tr>\n",
              "      <th>1</th>\n",
              "      <td>SFG</td>\n",
              "      <td>91</td>\n",
              "      <td>69</td>\n",
              "      <td>0.569</td>\n",
              "      <td>5.0</td>\n",
              "      <td>692</td>\n",
              "      <td>579</td>\n",
              "      <td>NL</td>\n",
              "      <td>2010</td>\n",
              "    </tr>\n",
              "    <tr>\n",
              "      <th>2</th>\n",
              "      <td>ATL</td>\n",
              "      <td>90</td>\n",
              "      <td>70</td>\n",
              "      <td>0.563</td>\n",
              "      <td>6.0</td>\n",
              "      <td>730</td>\n",
              "      <td>615</td>\n",
              "      <td>NL</td>\n",
              "      <td>2010</td>\n",
              "    </tr>\n",
              "    <tr>\n",
              "      <th>3</th>\n",
              "      <td>SDP</td>\n",
              "      <td>89</td>\n",
              "      <td>71</td>\n",
              "      <td>0.556</td>\n",
              "      <td>7.0</td>\n",
              "      <td>661</td>\n",
              "      <td>576</td>\n",
              "      <td>NL</td>\n",
              "      <td>2010</td>\n",
              "    </tr>\n",
              "    <tr>\n",
              "      <th>4</th>\n",
              "      <td>CIN</td>\n",
              "      <td>89</td>\n",
              "      <td>71</td>\n",
              "      <td>0.556</td>\n",
              "      <td>7.0</td>\n",
              "      <td>780</td>\n",
              "      <td>679</td>\n",
              "      <td>NL</td>\n",
              "      <td>2010</td>\n",
              "    </tr>\n",
              "  </tbody>\n",
              "</table>\n",
              "</div>"
            ],
            "text/plain": [
              "    Tm   W   L   W-L%   GB   RS   RA League  Year\n",
              "0  PHI  96  64  0.600   --  758  632     NL  2010\n",
              "1  SFG  91  69  0.569  5.0  692  579     NL  2010\n",
              "2  ATL  90  70  0.563  6.0  730  615     NL  2010\n",
              "3  SDP  89  71  0.556  7.0  661  576     NL  2010\n",
              "4  CIN  89  71  0.556  7.0  780  679     NL  2010"
            ]
          },
          "metadata": {
            "tags": []
          },
          "execution_count": 5
        }
      ]
    },
    {
      "cell_type": "code",
      "metadata": {
        "id": "l1ftcXsqMTDk",
        "colab_type": "code",
        "colab": {
          "base_uri": "https://localhost:8080/",
          "height": 297
        },
        "outputId": "883741e2-72dc-4a2c-ca5c-c8079dcb4970"
      },
      "source": [
        "MLBdata.describe()"
      ],
      "execution_count": null,
      "outputs": [
        {
          "output_type": "execute_result",
          "data": {
            "text/html": [
              "<div>\n",
              "<style scoped>\n",
              "    .dataframe tbody tr th:only-of-type {\n",
              "        vertical-align: middle;\n",
              "    }\n",
              "\n",
              "    .dataframe tbody tr th {\n",
              "        vertical-align: top;\n",
              "    }\n",
              "\n",
              "    .dataframe thead th {\n",
              "        text-align: right;\n",
              "    }\n",
              "</style>\n",
              "<table border=\"1\" class=\"dataframe\">\n",
              "  <thead>\n",
              "    <tr style=\"text-align: right;\">\n",
              "      <th></th>\n",
              "      <th>W</th>\n",
              "      <th>L</th>\n",
              "      <th>W-L%</th>\n",
              "      <th>RS</th>\n",
              "      <th>RA</th>\n",
              "      <th>Year</th>\n",
              "    </tr>\n",
              "  </thead>\n",
              "  <tbody>\n",
              "    <tr>\n",
              "      <th>count</th>\n",
              "      <td>270.000000</td>\n",
              "      <td>270.000000</td>\n",
              "      <td>270.000000</td>\n",
              "      <td>270.000000</td>\n",
              "      <td>270.000000</td>\n",
              "      <td>270.000000</td>\n",
              "    </tr>\n",
              "    <tr>\n",
              "      <th>mean</th>\n",
              "      <td>80.540741</td>\n",
              "      <td>80.540741</td>\n",
              "      <td>0.500030</td>\n",
              "      <td>699.548148</td>\n",
              "      <td>699.548148</td>\n",
              "      <td>2014.000000</td>\n",
              "    </tr>\n",
              "    <tr>\n",
              "      <th>std</th>\n",
              "      <td>11.379733</td>\n",
              "      <td>11.365678</td>\n",
              "      <td>0.070498</td>\n",
              "      <td>71.713051</td>\n",
              "      <td>79.669458</td>\n",
              "      <td>2.586784</td>\n",
              "    </tr>\n",
              "    <tr>\n",
              "      <th>min</th>\n",
              "      <td>47.000000</td>\n",
              "      <td>54.000000</td>\n",
              "      <td>0.290000</td>\n",
              "      <td>507.000000</td>\n",
              "      <td>513.000000</td>\n",
              "      <td>2010.000000</td>\n",
              "    </tr>\n",
              "    <tr>\n",
              "      <th>25%</th>\n",
              "      <td>72.000000</td>\n",
              "      <td>71.250000</td>\n",
              "      <td>0.444750</td>\n",
              "      <td>646.000000</td>\n",
              "      <td>644.250000</td>\n",
              "      <td>2012.000000</td>\n",
              "    </tr>\n",
              "    <tr>\n",
              "      <th>50%</th>\n",
              "      <td>80.000000</td>\n",
              "      <td>81.000000</td>\n",
              "      <td>0.498500</td>\n",
              "      <td>698.000000</td>\n",
              "      <td>693.500000</td>\n",
              "      <td>2014.000000</td>\n",
              "    </tr>\n",
              "    <tr>\n",
              "      <th>75%</th>\n",
              "      <td>90.000000</td>\n",
              "      <td>89.000000</td>\n",
              "      <td>0.556000</td>\n",
              "      <td>745.750000</td>\n",
              "      <td>753.500000</td>\n",
              "      <td>2016.000000</td>\n",
              "    </tr>\n",
              "    <tr>\n",
              "      <th>max</th>\n",
              "      <td>108.000000</td>\n",
              "      <td>115.000000</td>\n",
              "      <td>0.667000</td>\n",
              "      <td>896.000000</td>\n",
              "      <td>894.000000</td>\n",
              "      <td>2018.000000</td>\n",
              "    </tr>\n",
              "  </tbody>\n",
              "</table>\n",
              "</div>"
            ],
            "text/plain": [
              "                W           L        W-L%          RS          RA         Year\n",
              "count  270.000000  270.000000  270.000000  270.000000  270.000000   270.000000\n",
              "mean    80.540741   80.540741    0.500030  699.548148  699.548148  2014.000000\n",
              "std     11.379733   11.365678    0.070498   71.713051   79.669458     2.586784\n",
              "min     47.000000   54.000000    0.290000  507.000000  513.000000  2010.000000\n",
              "25%     72.000000   71.250000    0.444750  646.000000  644.250000  2012.000000\n",
              "50%     80.000000   81.000000    0.498500  698.000000  693.500000  2014.000000\n",
              "75%     90.000000   89.000000    0.556000  745.750000  753.500000  2016.000000\n",
              "max    108.000000  115.000000    0.667000  896.000000  894.000000  2018.000000"
            ]
          },
          "metadata": {
            "tags": []
          },
          "execution_count": 6
        }
      ]
    },
    {
      "cell_type": "markdown",
      "metadata": {
        "id": "6duZub8oMwWs",
        "colab_type": "text"
      },
      "source": [
        "## Feature Engineer"
      ]
    },
    {
      "cell_type": "markdown",
      "metadata": {
        "id": "uNFRp96APfjS",
        "colab_type": "text"
      },
      "source": [
        "Add 4 columns:\n",
        "\n",
        "\n",
        "1.   ScoreRatio\n",
        "2.   PredWin\n",
        "3.   Error\n",
        "4.   AbsolutError\n",
        "\n",
        "\n",
        "**I want the PredWin to be rounded to 3 decimal places\n",
        "\n"
      ]
    },
    {
      "cell_type": "code",
      "metadata": {
        "id": "5SfiR9xdM0Qc",
        "colab_type": "code",
        "colab": {
          "base_uri": "https://localhost:8080/",
          "height": 204
        },
        "outputId": "4bcea7ea-9a9c-431b-ac66-24832dbd9836"
      },
      "source": [
        "MLBdata['ScoreRatio'] = MLBdata['RS'] / MLBdata['RA']\n",
        "MLBdata['PredWin'] = round(MLBdata['ScoreRatio']**2 / (MLBdata['ScoreRatio']**2 + 1), 3)\n",
        "MLBdata['Error'] = MLBdata['W-L%'] - MLBdata['PredWin']\n",
        "MLBdata['AbsolutError'] = abs(MLBdata['Error'])\n",
        "\n",
        "MLBdata.head()"
      ],
      "execution_count": null,
      "outputs": [
        {
          "output_type": "execute_result",
          "data": {
            "text/html": [
              "<div>\n",
              "<style scoped>\n",
              "    .dataframe tbody tr th:only-of-type {\n",
              "        vertical-align: middle;\n",
              "    }\n",
              "\n",
              "    .dataframe tbody tr th {\n",
              "        vertical-align: top;\n",
              "    }\n",
              "\n",
              "    .dataframe thead th {\n",
              "        text-align: right;\n",
              "    }\n",
              "</style>\n",
              "<table border=\"1\" class=\"dataframe\">\n",
              "  <thead>\n",
              "    <tr style=\"text-align: right;\">\n",
              "      <th></th>\n",
              "      <th>Tm</th>\n",
              "      <th>W</th>\n",
              "      <th>L</th>\n",
              "      <th>W-L%</th>\n",
              "      <th>GB</th>\n",
              "      <th>RS</th>\n",
              "      <th>RA</th>\n",
              "      <th>League</th>\n",
              "      <th>Year</th>\n",
              "      <th>ScoreRatio</th>\n",
              "      <th>PredWin</th>\n",
              "      <th>Error</th>\n",
              "      <th>AbsolutError</th>\n",
              "    </tr>\n",
              "  </thead>\n",
              "  <tbody>\n",
              "    <tr>\n",
              "      <th>0</th>\n",
              "      <td>PHI</td>\n",
              "      <td>96</td>\n",
              "      <td>64</td>\n",
              "      <td>0.600</td>\n",
              "      <td>--</td>\n",
              "      <td>758</td>\n",
              "      <td>632</td>\n",
              "      <td>NL</td>\n",
              "      <td>2010</td>\n",
              "      <td>1.199367</td>\n",
              "      <td>0.590</td>\n",
              "      <td>0.010</td>\n",
              "      <td>0.010</td>\n",
              "    </tr>\n",
              "    <tr>\n",
              "      <th>1</th>\n",
              "      <td>SFG</td>\n",
              "      <td>91</td>\n",
              "      <td>69</td>\n",
              "      <td>0.569</td>\n",
              "      <td>5.0</td>\n",
              "      <td>692</td>\n",
              "      <td>579</td>\n",
              "      <td>NL</td>\n",
              "      <td>2010</td>\n",
              "      <td>1.195164</td>\n",
              "      <td>0.588</td>\n",
              "      <td>-0.019</td>\n",
              "      <td>0.019</td>\n",
              "    </tr>\n",
              "    <tr>\n",
              "      <th>2</th>\n",
              "      <td>ATL</td>\n",
              "      <td>90</td>\n",
              "      <td>70</td>\n",
              "      <td>0.563</td>\n",
              "      <td>6.0</td>\n",
              "      <td>730</td>\n",
              "      <td>615</td>\n",
              "      <td>NL</td>\n",
              "      <td>2010</td>\n",
              "      <td>1.186992</td>\n",
              "      <td>0.585</td>\n",
              "      <td>-0.022</td>\n",
              "      <td>0.022</td>\n",
              "    </tr>\n",
              "    <tr>\n",
              "      <th>3</th>\n",
              "      <td>SDP</td>\n",
              "      <td>89</td>\n",
              "      <td>71</td>\n",
              "      <td>0.556</td>\n",
              "      <td>7.0</td>\n",
              "      <td>661</td>\n",
              "      <td>576</td>\n",
              "      <td>NL</td>\n",
              "      <td>2010</td>\n",
              "      <td>1.147569</td>\n",
              "      <td>0.568</td>\n",
              "      <td>-0.012</td>\n",
              "      <td>0.012</td>\n",
              "    </tr>\n",
              "    <tr>\n",
              "      <th>4</th>\n",
              "      <td>CIN</td>\n",
              "      <td>89</td>\n",
              "      <td>71</td>\n",
              "      <td>0.556</td>\n",
              "      <td>7.0</td>\n",
              "      <td>780</td>\n",
              "      <td>679</td>\n",
              "      <td>NL</td>\n",
              "      <td>2010</td>\n",
              "      <td>1.148748</td>\n",
              "      <td>0.569</td>\n",
              "      <td>-0.013</td>\n",
              "      <td>0.013</td>\n",
              "    </tr>\n",
              "  </tbody>\n",
              "</table>\n",
              "</div>"
            ],
            "text/plain": [
              "    Tm   W   L   W-L%   GB  ...  Year  ScoreRatio PredWin  Error  AbsolutError\n",
              "0  PHI  96  64  0.600   --  ...  2010    1.199367   0.590  0.010         0.010\n",
              "1  SFG  91  69  0.569  5.0  ...  2010    1.195164   0.588 -0.019         0.019\n",
              "2  ATL  90  70  0.563  6.0  ...  2010    1.186992   0.585 -0.022         0.022\n",
              "3  SDP  89  71  0.556  7.0  ...  2010    1.147569   0.568 -0.012         0.012\n",
              "4  CIN  89  71  0.556  7.0  ...  2010    1.148748   0.569 -0.013         0.013\n",
              "\n",
              "[5 rows x 13 columns]"
            ]
          },
          "metadata": {
            "tags": []
          },
          "execution_count": 10
        }
      ]
    },
    {
      "cell_type": "markdown",
      "metadata": {
        "id": "eTCN_m4dPYRZ",
        "colab_type": "text"
      },
      "source": [
        "## What is your mean error rate?"
      ]
    },
    {
      "cell_type": "code",
      "metadata": {
        "id": "7xwpWP9vOiiZ",
        "colab_type": "code",
        "colab": {
          "base_uri": "https://localhost:8080/",
          "height": 34
        },
        "outputId": "87c2e469-8a88-45da-ac16-e7e123dcc598"
      },
      "source": [
        "meanError = round(MLBdata['AbsolutError'].mean()*100, 2)\n",
        "\n",
        "print(\"Your predicted win percentages were off by {}% over the 9 season between 2010-18\".format(meanError))"
      ],
      "execution_count": null,
      "outputs": [
        {
          "output_type": "stream",
          "text": [
            "Your predicted win percentages were off by 2.03% over the 9 season between 2010-18\n"
          ],
          "name": "stdout"
        }
      ]
    },
    {
      "cell_type": "code",
      "metadata": {
        "id": "NWfawck_AfwI",
        "colab_type": "code",
        "colab": {}
      },
      "source": [
        "# adding metrics to data\n",
        "Allteams %<>% mutate(ScoreRatio = RS / RA, # ratio of runs scored to runs allowed\n",
        "                     RS2 = RS * RS, # Runs Scored Squared\n",
        "                     RA2 = RA * RA, # Runs Allowed Squared\n",
        "                     PredWin = ScoreRatio^2 / (ScoreRatio^2 + 1), # Pythagorean predicted win percent\n",
        "                     ActualWin = W / (W + L), # Actual win percent\n",
        "                     Error = ActualWin - PredWin, # difference of prediction from actual\n",
        "                     RMSE = sqrt(Error^2), # absolute value of our error\n",
        "                     Error1 = ActualWin - `pythW-L%`, # difference of baseball reference's pyth%\n",
        "                     RMSE1 = sqrt(Error1^2))"
      ],
      "execution_count": null,
      "outputs": []
    },
    {
      "cell_type": "code",
      "metadata": {
        "id": "YRfpYkc4GWwb",
        "colab_type": "code",
        "colab": {}
      },
      "source": [
        "from pybaseball.lahman import *"
      ],
      "execution_count": null,
      "outputs": []
    },
    {
      "cell_type": "code",
      "metadata": {
        "id": "pfnTcph1GQeA",
        "colab_type": "code",
        "colab": {}
      },
      "source": [
        "# data on teams by year: record, division, stadium, attendance, etc\n",
        "teams = teams()"
      ],
      "execution_count": null,
      "outputs": []
    },
    {
      "cell_type": "code",
      "metadata": {
        "id": "TC_VWZiVGXh7",
        "colab_type": "code",
        "colab": {}
      },
      "source": [
        "teams"
      ],
      "execution_count": null,
      "outputs": []
    },
    {
      "cell_type": "code",
      "metadata": {
        "id": "MoRouqEwGYtb",
        "colab_type": "code",
        "colab": {}
      },
      "source": [
        "from pybaseball import schedule_and_record\n",
        "data = schedule_and_record(2017, \"All\")\n",
        "data"
      ],
      "execution_count": null,
      "outputs": []
    },
    {
      "cell_type": "code",
      "metadata": {
        "id": "laMY29zZnO2_",
        "colab_type": "code",
        "colab": {}
      },
      "source": [
        "from bs4 import BeautifulSoup\n",
        "from bs4 import Comment\n",
        "import requests\n",
        "import datetime\n",
        "import pandas as pd "
      ],
      "execution_count": null,
      "outputs": []
    },
    {
      "cell_type": "code",
      "metadata": {
        "id": "fs8jk5JAG5Gw",
        "colab_type": "code",
        "colab": {}
      },
      "source": [
        "\n",
        "\n",
        "def get_soup(year):\n",
        "    url = 'http://www.baseball-reference.com/leagues/MLB/{}-standings.shtml'.format(year)\n",
        "    s=requests.get(url).content\n",
        "    return BeautifulSoup(s, \"lxml\")\n",
        "\n",
        "def get_tables(soup, season):\n",
        "    datasets = []\n",
        "    if(season>=1969):\n",
        "        tables = soup.find_all('table')\n",
        "        for table in tables:\n",
        "            data = []\n",
        "            headings = [th.get_text() for th in table.find(\"tr\").find_all(\"th\")]\n",
        "            data.append(headings)\n",
        "            table_body = table.find('tbody')\n",
        "            rows = table_body.find_all('tr')\n",
        "            for row in rows:\n",
        "                cols = row.find_all('td')\n",
        "                cols = [ele.text.strip() for ele in cols]\n",
        "                cols.insert(0,row.find_all('a')[0]['title']) # team name\n",
        "                data.append([ele for ele in cols if ele])\n",
        "            datasets.append(data)\n",
        "    else:\n",
        "        data = []\n",
        "        table = soup.find('table')\n",
        "        headings = [th.get_text() for th in table.find(\"tr\").find_all(\"th\")]\n",
        "        headings[0] = \"Name\"\n",
        "        if(season>=1930):\n",
        "            for i in range(15): headings.pop()\n",
        "        elif(season>=1876): \n",
        "            for i in range(14): headings.pop()\n",
        "        else:\n",
        "            for i in range(16): headings.pop()\n",
        "        data.append(headings)\n",
        "        table_body = table.find('tbody')\n",
        "        rows = table_body.find_all('tr')\n",
        "        for row in rows:\n",
        "            if row.find_all('a') == []: continue\n",
        "            cols = row.find_all('td')\n",
        "            if(season>=1930):\n",
        "                for i in range(15): cols.pop()\n",
        "            elif(season>=1876): \n",
        "                for i in range(14): cols.pop()\n",
        "            else:\n",
        "                for i in range(16): cols.pop()\n",
        "            cols = [ele.text.strip() for ele in cols]\n",
        "            cols.insert(0,row.find_all('a')[0]['title']) # team name\n",
        "            data.append([ele for ele in cols if ele])\n",
        "        datasets.append(data)\n",
        "    #convert list-of-lists to dataframes\n",
        "    for idx in range(len(datasets)):\n",
        "        datasets[idx] = pd.DataFrame(datasets[idx])\n",
        "    return datasets #returns a list of dataframes\n",
        "\n",
        "def standings(season=None):\n",
        "    # get most recent standings if date not specified\n",
        "    if(season is None):\n",
        "        season = int(datetime.datetime.today().strftime(\"%Y\"))\n",
        "    if season<1871:\n",
        "        raise ValueError(\"This query currently only returns standings until the 1871 season. Try looking at years from 1871 to present.\")\n",
        "    # retrieve html from baseball reference\n",
        "    soup = get_soup(season)\n",
        "    if season>=1969:\n",
        "        tables = get_tables(soup, season)\n",
        "    else:\n",
        "        t = soup.find_all(string=lambda text:isinstance(text,Comment))\n",
        "        # list of seasons whose table placement breaks the site's usual pattern\n",
        "        exceptions = [1884, 1885, 1886, 1887, 1888, 1889, 1890, 1892, 1903]\n",
        "        if (season>1904 or season in exceptions): code = BeautifulSoup(t[16], \"lxml\")\n",
        "        elif season<=1904: code = BeautifulSoup(t[15], \"lxml\")\n",
        "        tables = get_tables(code, season)\n",
        "    tables = [pd.DataFrame(table) for table in tables]\n",
        "    for idx in range(len(tables)):\n",
        "        tables[idx] = tables[idx].rename(columns=tables[idx].iloc[0])\n",
        "        tables[idx] = tables[idx].reindex(tables[idx].index.drop(0))\n",
        "    return tables"
      ],
      "execution_count": null,
      "outputs": []
    },
    {
      "cell_type": "code",
      "metadata": {
        "id": "axTz3whSnvV2",
        "colab_type": "code",
        "colab": {}
      },
      "source": [
        ""
      ],
      "execution_count": null,
      "outputs": []
    },
    {
      "cell_type": "code",
      "metadata": {
        "id": "tp7uAx9mnY9R",
        "colab_type": "code",
        "colab": {}
      },
      "source": [
        "soup = get_soup(2017)"
      ],
      "execution_count": null,
      "outputs": []
    },
    {
      "cell_type": "code",
      "metadata": {
        "id": "MGRg2zWLnpLE",
        "colab_type": "code",
        "colab": {}
      },
      "source": [
        "tables = soup.find_all('table')"
      ],
      "execution_count": null,
      "outputs": []
    },
    {
      "cell_type": "code",
      "metadata": {
        "id": "PTwIlvpSngWj",
        "colab_type": "code",
        "colab": {}
      },
      "source": [
        "tables = get_tables(soup, 2017)"
      ],
      "execution_count": null,
      "outputs": []
    },
    {
      "cell_type": "code",
      "metadata": {
        "id": "CHoXXiXYnjUr",
        "colab_type": "code",
        "colab": {}
      },
      "source": [
        "tables[11]"
      ],
      "execution_count": null,
      "outputs": []
    },
    {
      "cell_type": "code",
      "metadata": {
        "id": "r35sme72nmKr",
        "colab_type": "code",
        "colab": {}
      },
      "source": [
        "datasets = []\n",
        "data = []\n",
        "headings = [th.get_text() for th in table.find(\"tr\").find_all(\"th\")]\n",
        "data.append(headings)\n",
        "table_body = tables.find('tbody')\n",
        "rows = table_body.find_all('tr')\n",
        "for row in rows:\n",
        "    cols = row.find_all('td')\n",
        "    cols = [ele.text.strip() for ele in cols]\n",
        "    cols.insert(0,row.find_all('a')[0]['title']) # team name\n",
        "    data.append([ele for ele in cols if ele])\n",
        "datasets.append(data)"
      ],
      "execution_count": null,
      "outputs": []
    },
    {
      "cell_type": "code",
      "metadata": {
        "id": "fQ9o2Xr8FP84",
        "colab_type": "code",
        "colab": {}
      },
      "source": [
        "\n",
        "def get_soup(start_season, end_season, league, ind):\n",
        "    url = \"http://www.fangraphs.com/leaders.aspx?pos=all&stats=bat&lg={}&qual=0&type=8&season={}&month=0&season1={}&ind={}&team=0,ts&rost=0&age=0&filter=&players=0&page=1_100000\"\n",
        "    url = url.format(league, end_season, start_season, ind)\n",
        "    s=requests.get(url).content\n",
        "    #print(s)\n",
        "    return BeautifulSoup(s, \"lxml\")"
      ],
      "execution_count": null,
      "outputs": []
    },
    {
      "cell_type": "code",
      "metadata": {
        "id": "XUMQ8Vn5E9-6",
        "colab_type": "code",
        "colab": {}
      },
      "source": [
        "\n",
        "soup = get_soup(start_season=2018, end_season=2018, league='all', ind=1)\n",
        "#    table = get_table(soup, ind)\n",
        "#    table = postprocessing(table)\n",
        "#    return table"
      ],
      "execution_count": null,
      "outputs": []
    },
    {
      "cell_type": "code",
      "metadata": {
        "id": "bbRll28RFSx4",
        "colab_type": "code",
        "colab": {}
      },
      "source": [
        "tables = soup.find_all('table')"
      ],
      "execution_count": null,
      "outputs": []
    },
    {
      "cell_type": "code",
      "metadata": {
        "id": "y9PPNKEnFag2",
        "colab_type": "code",
        "colab": {}
      },
      "source": [
        "len(tables)"
      ],
      "execution_count": null,
      "outputs": []
    },
    {
      "cell_type": "code",
      "metadata": {
        "id": "tH4WwV0RFfcG",
        "colab_type": "code",
        "colab": {}
      },
      "source": [
        "table = tables[11]\n",
        "\n",
        "data = []\n",
        "\n",
        "headings = [\"Season\",\"Team\",\"G\",\"PA\",\"HR\",\"R\",\"RBI\",\"SB\",\"BB%\",\"K%\",\"ISO\",\"BABIP\",\"AVG\",\"OBP\",\"SLG\",\"wOBA\",\"wRC+\",\"BsR\",\"Off\",\"Def\",\"WAR\"]\n",
        "data.append(headings)\n",
        "table_body = table.find('tbody')\n",
        "rows = table_body.find_all('tr')\n",
        "for row in rows:\n",
        "    cols = row.find_all('td')\n",
        "    cols = [ele.text.strip() for ele in cols]\n",
        "    data.append([ele for ele in cols[1:]])\n",
        "data = pd.DataFrame(data)\n",
        "data = data.rename(columns=data.iloc[0])\n",
        "data = data.reindex(data.index.drop(0))"
      ],
      "execution_count": null,
      "outputs": []
    },
    {
      "cell_type": "code",
      "metadata": {
        "id": "xGJHs0cbISAo",
        "colab_type": "code",
        "colab": {}
      },
      "source": [
        "data"
      ],
      "execution_count": null,
      "outputs": []
    },
    {
      "cell_type": "code",
      "metadata": {
        "id": "hevhRJA6oJlR",
        "colab_type": "code",
        "colab": {}
      },
      "source": [
        "import numpy as np\n",
        "import pandas as pd\n",
        "from bs4 import BeautifulSoup\n",
        "import requests\n",
        "\n",
        "def get_soup(start_season, end_season, league, ind):\n",
        "    url = \"http://www.fangraphs.com/leaders.aspx?pos=all&stats=bat&lg={}&qual=0&type=8&season={}&month=0&season1={}&ind={}&team=0,ts&rost=0&age=0&filter=&players=0&page=1_100000\"\n",
        "    url = url.format(league, end_season, start_season, ind)\n",
        "    s=requests.get(url).content\n",
        "    #print(s)\n",
        "    return BeautifulSoup(s, \"lxml\")\n",
        "\n",
        "def get_table(soup, ind):\n",
        "    #doesn't work yet\n",
        "    tables = soup.find_all('table')\n",
        "    table = tables[11]\n",
        "    data = []\n",
        "    # couldn't find these in the table, hardcoding for now\n",
        "    if ind == 0:\n",
        "        headings = [\"Team\", \"G\",\"PA\",\"HR\",\"R\",\"RBI\",\"SB\",\"BB%\",\"K%\",\"ISO\",\"BABIP\",\"AVG\",\"OBP\",\"SLG\",\"wOBA\",\"wRC+\",\"BsR\",\"Off\",\"Def\",\"WAR\"]\n",
        "    else:\n",
        "        headings = [\"Season\",\"Team\",\"G\",\"PA\",\"HR\",\"R\",\"RBI\",\"SB\",\"BB%\",\"K%\",\"ISO\",\"BABIP\",\"AVG\",\"OBP\",\"SLG\",\"wOBA\",\"wRC+\",\"BsR\",\"Off\",\"Def\",\"WAR\"]\n",
        "\n",
        "    data.append(headings)\n",
        "    table_body = table.find('tbody')\n",
        "    rows = table_body.find_all('tr')\n",
        "    for row in rows:\n",
        "        cols = row.find_all('td')\n",
        "        cols = [ele.text.strip() for ele in cols]\n",
        "        data.append([ele for ele in cols[1:]])\n",
        "    data = pd.DataFrame(data)\n",
        "    data = data.rename(columns=data.iloc[0])\n",
        "    data = data.reindex(data.index.drop(0))\n",
        "    return data\n",
        "\n",
        "\n",
        "def postprocessing(data):\n",
        "    # fill missing values with NaN\n",
        "    data.replace(r'^\\s*$', np.nan, regex=True, inplace = True)\n",
        "    data.replace(r'^null$', np.nan, regex=True, inplace = True)\n",
        "\n",
        "    # convert percent strings to float values\n",
        "    percentages = ['BB%', 'K%']\n",
        "    for col in percentages:\n",
        "        # skip if column is all NA (happens for some of the more obscure stats + in older seasons)\n",
        "        if data[col].count()>0:\n",
        "            data[col] = data[col].str.strip(' %')\n",
        "            data[col] = data[col].str.strip('%')\n",
        "            data[col] = data[col].astype(float)/100.\n",
        "        else:\n",
        "            pass\n",
        "\n",
        "    # convert columns to numeric\n",
        "    not_numeric = ['Team']\n",
        "    numeric_cols = [col for col in data.columns if col not in not_numeric]\n",
        "    data[numeric_cols] = data[numeric_cols].astype(float)\n",
        "    return data\n",
        "\n",
        "\n",
        "\n",
        "def team_batting(start_season, end_season=None, league='all', ind=1):\n",
        "    \"\"\"\n",
        "    Get season-level batting data aggregated by team. \n",
        "    ARGUMENTS:\n",
        "    start_season : int : first season you want data for (or the only season if you do not specify an end_season)\n",
        "    end_season : int : final season you want data for \n",
        "    league : \"all\", \"nl\", or \"al\"\n",
        "    ind : int : =1 if you want individual season level data, =0 if you want a team's aggreagate data over all seasons in the query\n",
        "    \"\"\"\n",
        "    if start_season is None:\n",
        "        raise ValueError(\"You need to provide at least one season to collect data for. Try team_batting(season) or team_batting(start_season, end_season).\")\n",
        "    if end_season is None:\n",
        "        end_season = start_season\n",
        "    soup = get_soup(start_season=start_season, end_season=end_season, league=league, ind=ind)\n",
        "    table = get_table(soup, ind)\n",
        "    table = postprocessing(table)\n",
        "    return table"
      ],
      "execution_count": null,
      "outputs": []
    }
  ]
}