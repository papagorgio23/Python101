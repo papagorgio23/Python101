{
  "nbformat": 4,
  "nbformat_minor": 0,
  "metadata": {
    "colab": {
      "name": "Monte Carlo Simulation (NBA 3 or 2).ipynb",
      "version": "0.3.2",
      "provenance": [],
      "collapsed_sections": [],
      "toc_visible": true,
      "include_colab_link": true
    },
    "kernelspec": {
      "name": "python3",
      "display_name": "Python 3"
    }
  },
  "cells": [
    {
      "cell_type": "markdown",
      "metadata": {
        "id": "view-in-github",
        "colab_type": "text"
      },
      "source": [
        "<a href=\"https://colab.research.google.com/github/papagorgio23/Python101/blob/master/Monte_Carlo_Simulation_(NBA_3_or_2).ipynb\" target=\"_parent\"><img src=\"https://colab.research.google.com/assets/colab-badge.svg\" alt=\"Open In Colab\"/></a>"
      ]
    },
    {
      "cell_type": "markdown",
      "metadata": {
        "id": "-vB8JkEEuK_a",
        "colab_type": "text"
      },
      "source": [
        "# Monte Carlo Simulation for Decision Analytics"
      ]
    },
    {
      "cell_type": "markdown",
      "metadata": {
        "id": "BUT0F0PECTMW",
        "colab_type": "text"
      },
      "source": [
        "## Simulate the final seconds of a basketball game to decide which strategy is needed to optimize your chance of winning the game"
      ]
    },
    {
      "cell_type": "code",
      "metadata": {
        "id": "8M8LWkBZnr0Y",
        "colab_type": "code",
        "colab": {}
      },
      "source": [
        "import time\n",
        "from datetime import datetime\n",
        "import random\n",
        "import matplotlib.pyplot as plt"
      ],
      "execution_count": 0,
      "outputs": []
    },
    {
      "cell_type": "markdown",
      "metadata": {
        "id": "Fgz1x1buCRRG",
        "colab_type": "text"
      },
      "source": [
        "## Inputs"
      ]
    },
    {
      "cell_type": "code",
      "metadata": {
        "id": "fmZZ-KmBCGYT",
        "colab_type": "code",
        "colab": {}
      },
      "source": [
        "threePtPercent = 35  # Your % chance of making 3-pt shot\n",
        "twoPtPercent = 45  # Your % chance of making a 2-pt shot\n",
        "oppTwoPtPercent = 30  # Opponent % chance making 2-pt shot under tight situation\n",
        "oppFtPercent = 80 # Opponent's FT %\n",
        "timeToShoot2 = 5  # How many seconds elapse to shoot a 2\n",
        "timeToFoul = 3  # How many seconds elapse to foul opponent\n",
        "offenseReboundPercent = 25  # % of regular offense rebound\n",
        "ftReboundPercent = 15  # % of offense rebound after missed FT\n",
        "overtimePercent = 50  # % chance of winning in overtime"
      ],
      "execution_count": 0,
      "outputs": []
    },
    {
      "cell_type": "code",
      "metadata": {
        "id": "VJL1_uoYCSRn",
        "colab_type": "code",
        "outputId": "d41ffa13-6017-4b71-d97b-df4a8d558c20",
        "colab": {
          "base_uri": "https://localhost:8080/",
          "height": 35
        }
      },
      "source": [
        "# random number generator\n",
        "random.randrange(1, 101)"
      ],
      "execution_count": 0,
      "outputs": [
        {
          "output_type": "execute_result",
          "data": {
            "text/plain": [
              "68"
            ]
          },
          "metadata": {
            "tags": []
          },
          "execution_count": 7
        }
      ]
    },
    {
      "cell_type": "markdown",
      "metadata": {
        "id": "VXGpBYshC8mu",
        "colab_type": "text"
      },
      "source": [
        "## Build functions"
      ]
    },
    {
      "cell_type": "markdown",
      "metadata": {
        "id": "UOU6D4yHC-fA",
        "colab_type": "text"
      },
      "source": [
        "1.   Take a 3 function\n",
        "\n",
        "2.   Take a 2 function"
      ]
    },
    {
      "cell_type": "markdown",
      "metadata": {
        "id": "QXqYdvzhsMls",
        "colab_type": "text"
      },
      "source": [
        "### 3 Pointer"
      ]
    },
    {
      "cell_type": "markdown",
      "metadata": {
        "id": "KDQ7JKCrsh4r",
        "colab_type": "text"
      },
      "source": [
        "Assumption: Run the best play possible to get an open 3. Time doesn't matter. You can use the entire shot clock or not but you are planning on only getting this one shot so you need to make it count. Since you are running a regular play your 3 point percentage should be the same as any other point in the game. \n",
        "\n",
        "**If you miss then you lose.**\n",
        "\n",
        "If you make it you are tied and you have to play tight defense. They will have a much lower chance of making a shot than a typical game situation.\n",
        "\n",
        "Then you go to overtime where you have a 50/50 chance to win the game."
      ]
    },
    {
      "cell_type": "code",
      "metadata": {
        "id": "yAALvSASC92x",
        "colab_type": "code",
        "colab": {}
      },
      "source": [
        "# takeThree()\n",
        "def takeThree():\n",
        "    if random.randrange(1, 101) <= threePtPercent:\n",
        "        if random.randrange(1, 101) <= oppTwoPtPercent:\n",
        "            return False\n",
        "        if random.randrange(1, 101) <= overtimePercent:\n",
        "            return True\n",
        "    return False"
      ],
      "execution_count": 0,
      "outputs": []
    },
    {
      "cell_type": "code",
      "metadata": {
        "id": "2g3dzBpIEEY3",
        "colab_type": "code",
        "outputId": "c3b7ff1a-49ac-44a7-c32a-468662226b4c",
        "colab": {
          "base_uri": "https://localhost:8080/",
          "height": 35
        }
      },
      "source": [
        "# test out the function\n",
        "takeThree()"
      ],
      "execution_count": 0,
      "outputs": [
        {
          "output_type": "execute_result",
          "data": {
            "text/plain": [
              "True"
            ]
          },
          "metadata": {
            "tags": []
          },
          "execution_count": 15
        }
      ]
    },
    {
      "cell_type": "markdown",
      "metadata": {
        "id": "glRP6kc8sdWj",
        "colab_type": "text"
      },
      "source": [
        "### Quick 2 and foul"
      ]
    },
    {
      "cell_type": "code",
      "metadata": {
        "id": "JAnOBAxJEGDI",
        "colab_type": "code",
        "colab": {}
      },
      "source": [
        "# takeTwo()\n",
        "def takeTwo():\n",
        "    # start with the ball\n",
        "    # initialize 'havePossession', 'timeLeft', and 'pointsDown'\n",
        "    havePossession = True\n",
        "    timeLeft = 30\n",
        "    pointsDown = 3\n",
        "    \n",
        "    \n",
        "    # simulate the end of the game\n",
        "    # use a while loop\n",
        "    while timeLeft > 0:\n",
        "        # if you have the ball\n",
        "        if havePossession == True:\n",
        "      \n",
        "            # handle the time left in the game if we have the ball\n",
        "            # if we are down by 3 or more take a quick 2\n",
        "            if pointsDown >= 3:\n",
        "                # subtract timeToShoot2\n",
        "                timeLeft -= timeToShoot2\n",
        "            # or else hold for the last shot\n",
        "            else:\n",
        "                # time left should be 0 when we shoot\n",
        "                timeLeft = 0\n",
        "    \n",
        "            # take a shot - Do we score?\n",
        "            if random.randrange(1, 101) <= twoPtPercent:\n",
        "                # if we make shot change pointsDown and change possession\n",
        "                pointsDown -= 2\n",
        "                havePossession = False\n",
        "            # or else\n",
        "            else:\n",
        "                # if you miss the shot, does the other team get the rebound?\n",
        "                if random.randrange(1, 101) > offenseReboundPercent:\n",
        "                    # change possesion if we don't get the rebound\n",
        "                    havePossession = False\n",
        "                    \n",
        "        # if you don't have possession\n",
        "        else:\n",
        "            # if we are down we need to foul\n",
        "            if pointsDown > 0:\n",
        "                # subtract time to foul from time left in the game\n",
        "                timeLeft -= timeToFoul\n",
        "            # first free throw\n",
        "            if random.randrange(1, 101) <= oppFtPercent:\n",
        "                # did he make it? change the score\n",
        "                pointsDown += 1\n",
        "            # second free throw\n",
        "            if random.randrange(1, 101) <= oppFtPercent:\n",
        "                # did he make it? change the score and change the possession\n",
        "                pointsDown += 1\n",
        "                havePossession = True\n",
        "            # else if he misses it then do we get the rebound?\n",
        "            elif random.randrange(1, 101) <= ftReboundPercent:\n",
        "                # change possession\n",
        "                havePossession = True\n",
        "            \n",
        "            # if we are tied or up we don't want to foul\n",
        "            else:\n",
        "                # they will run down the clock and take the final shot\n",
        "                if random.randrange(1, 101) <= oppTwoPtPercent:\n",
        "                    # if they make the shot change pointsDown\n",
        "                    pointsDown += 2\n",
        "                    \n",
        "                # change timeLeft to 0\n",
        "                timeLeft = 0\n",
        "    # now we can return the results\n",
        "    \n",
        "    # if we are still down return False\n",
        "    if pointsDown > 0:\n",
        "        return False\n",
        "        \n",
        "    # else if we are up return True  \n",
        "    elif pointsDown < 0:\n",
        "        return True\n",
        "        \n",
        "    # else we are tied and we run overtime\n",
        "    else:\n",
        "        # if we win overtime return True\n",
        "        if random.randrange(1, 101) <= overtimePercent:\n",
        "            return True\n",
        "            \n",
        "        # else return False\n",
        "        else:\n",
        "            return False\n",
        "            \n",
        "        \n",
        "        "
      ],
      "execution_count": 0,
      "outputs": []
    },
    {
      "cell_type": "code",
      "metadata": {
        "id": "Wvt0sQuOGBkJ",
        "colab_type": "code",
        "outputId": "7884a721-5b44-4e05-bf1a-3640166243d1",
        "colab": {
          "base_uri": "https://localhost:8080/",
          "height": 35
        }
      },
      "source": [
        "takeTwo()"
      ],
      "execution_count": 0,
      "outputs": [
        {
          "output_type": "execute_result",
          "data": {
            "text/plain": [
              "False"
            ]
          },
          "metadata": {
            "tags": []
          },
          "execution_count": 26
        }
      ]
    },
    {
      "cell_type": "markdown",
      "metadata": {
        "id": "KDP3rZiziIEi",
        "colab_type": "text"
      },
      "source": [
        "# Run the simulation 1,000,000 times"
      ]
    },
    {
      "cell_type": "code",
      "metadata": {
        "id": "jriB6Tkkl7HH",
        "colab_type": "code",
        "outputId": "7a68a974-81d3-4ea7-bfb7-5ac3fec8a6a1",
        "colab": {
          "base_uri": "https://localhost:8080/",
          "height": 35
        }
      },
      "source": [
        "trials = 1000000\n",
        "i = 1\n",
        "\n",
        "# initiate counts\n",
        "winsTakingThree = 0\n",
        "lossTakingThree = 0\n",
        "winsTakingTwo = 0\n",
        "lossTakingTwo = 0\n",
        "\n",
        "# let's time the simulation\n",
        "start = datetime.now()\n",
        "\n",
        "# while loop\n",
        "while i <= trials:\n",
        "        \n",
        "    # run the three point simulation\n",
        "    if takeThree():\n",
        "        winsTakingThree += 1\n",
        "    else:\n",
        "        lossTakingThree += 1\n",
        "        \n",
        "    \n",
        "        \n",
        "    # run the two point simulation\n",
        "    if takeTwo():\n",
        "        winsTakingTwo += 1\n",
        "    else:\n",
        "        lossTakingTwo += 1\n",
        "       \n",
        "    \n",
        "    # increase the count    \n",
        "    i += 1\n",
        "    \n",
        "\n",
        "# Timer end\n",
        "end = datetime.now()\n",
        "\n",
        "print(\"It took {} to complete this simulation! Not too shabby!\".format(end - start))"
      ],
      "execution_count": 0,
      "outputs": [
        {
          "output_type": "stream",
          "text": [
            "It took 0:00:19.871347 to complete this simulation! Not too shabby!\n"
          ],
          "name": "stdout"
        }
      ]
    },
    {
      "cell_type": "code",
      "metadata": {
        "id": "_HkAWPsZjp32",
        "colab_type": "code",
        "outputId": "87b95ba7-62db-4a39-f32d-966828a9bb4a",
        "colab": {
          "base_uri": "https://localhost:8080/",
          "height": 54
        }
      },
      "source": [
        "win3 = round(winsTakingThree/trials*100, 2)\n",
        "win2 = round(winsTakingTwo/trials*100, 2)\n",
        "\n",
        "print(\"You won {}% of the games when going for 3.\\\n",
        "      \\nYou won {}% of the games when taking a quick 2 and fouling\".format(win3, win2))"
      ],
      "execution_count": 0,
      "outputs": [
        {
          "output_type": "stream",
          "text": [
            "You won 12.25% of the games when going for 3.      \n",
            "You won 3.34% of the games when taking a quick 2 and fouling\n"
          ],
          "name": "stdout"
        }
      ]
    },
    {
      "cell_type": "markdown",
      "metadata": {
        "id": "Qs2KZLvDq-SF",
        "colab_type": "text"
      },
      "source": [
        "## Put results into a dictionary"
      ]
    },
    {
      "cell_type": "code",
      "metadata": {
        "id": "O1bv3AXOpf-1",
        "colab_type": "code",
        "colab": {}
      },
      "source": [
        "# put results into a dictionary\n",
        "results = {\"winsTakingThree\": winsTakingThree, \"lossTakingThree\": lossTakingThree, \"winsTakingTwo\":winsTakingTwo, \"lossTakingTwo\":lossTakingTwo}"
      ],
      "execution_count": 0,
      "outputs": []
    },
    {
      "cell_type": "code",
      "metadata": {
        "id": "zh8o_o5Bp17d",
        "colab_type": "code",
        "outputId": "29915861-0af9-4f54-fe1a-240612d52d4e",
        "colab": {
          "base_uri": "https://localhost:8080/",
          "height": 90
        }
      },
      "source": [
        "# view results\n",
        "results"
      ],
      "execution_count": 0,
      "outputs": [
        {
          "output_type": "execute_result",
          "data": {
            "text/plain": [
              "{'lossTakingThree': 877466,\n",
              " 'lossTakingTwo': 966578,\n",
              " 'winsTakingThree': 122534,\n",
              " 'winsTakingTwo': 33422}"
            ]
          },
          "metadata": {
            "tags": []
          },
          "execution_count": 31
        }
      ]
    },
    {
      "cell_type": "markdown",
      "metadata": {
        "id": "a6sbN80jrCyV",
        "colab_type": "text"
      },
      "source": [
        "## Plot results"
      ]
    },
    {
      "cell_type": "code",
      "metadata": {
        "id": "3G7krQp0jxj8",
        "colab_type": "code",
        "outputId": "31b27142-997f-494a-84dd-73859ec5258a",
        "colab": {
          "base_uri": "https://localhost:8080/",
          "height": 595
        }
      },
      "source": [
        "# change size\n",
        "plt.figure(figsize=(20,10))\n",
        "\n",
        "# create bars\n",
        "plt.bar(range(len(results)), list(results.values()), align='center')\n",
        "\n",
        "# Create names on the x-axis\n",
        "plt.xticks(range(len(results)), list(results.keys()))\n",
        "\n",
        "# plot the graph\n",
        "plt.show()\n"
      ],
      "execution_count": 0,
      "outputs": [
        {
          "output_type": "display_data",
          "data": {
            "image/png": "[encoded data removed]",
            "text/plain": [
              "<Figure size 1440x720 with 1 Axes>"
            ]
          },
          "metadata": {
            "tags": []
          }
        }
      ]
    },
    {
      "cell_type": "code",
      "metadata": {
        "id": "Z_wDl_ExDUO_",
        "colab_type": "code",
        "colab": {}
      },
      "source": [
        ""
      ],
      "execution_count": 0,
      "outputs": []
    }
  ]
}