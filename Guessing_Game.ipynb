{
  "nbformat": 4,
  "nbformat_minor": 0,
  "metadata": {
    "colab": {
      "name": "Guessing Game.ipynb",
      "provenance": [],
      "collapsed_sections": [],
      "toc_visible": true,
      "include_colab_link": true
    },
    "kernelspec": {
      "name": "python3",
      "display_name": "Python 3"
    }
  },
  "cells": [
    {
      "cell_type": "markdown",
      "metadata": {
        "id": "view-in-github",
        "colab_type": "text"
      },
      "source": [
        "<a href=\"https://colab.research.google.com/github/papagorgio23/Python101/blob/master/Guessing_Game.ipynb\" target=\"_parent\"><img src=\"https://colab.research.google.com/assets/colab-badge.svg\" alt=\"Open In Colab\"/></a>"
      ]
    },
    {
      "cell_type": "markdown",
      "metadata": {
        "id": "m4aFmUV4KfSg",
        "colab_type": "text"
      },
      "source": [
        "# Guessing Game"
      ]
    },
    {
      "cell_type": "markdown",
      "metadata": {
        "id": "uEGG1PcrKhnZ",
        "colab_type": "text"
      },
      "source": [
        "This session is going to help us improve our Python programming skills using:\n",
        "\n",
        "\n",
        "\n",
        "*   Functions\n",
        "*   Flow Control\n",
        "*   User Inputs\n",
        "*   Error Handling\n",
        "*   Flexible Printing\n",
        "*   Randomized Responses\n",
        "*   If-Then and Else-If Statements\n",
        "\n",
        "\n"
      ]
    },
    {
      "cell_type": "markdown",
      "metadata": {
        "id": "OH8ChHH_nA6N",
        "colab_type": "text"
      },
      "source": [
        "## Game Details:\n",
        "\n",
        "This game is very simple... \n",
        "\n",
        "\n",
        "\n",
        "*   The program will randomly pick a number between some range (we'll ask the player to pick the range). \n",
        "*   The player will have a certain number of attempts to guess that number. \n",
        "*   The program will let the player know if their guess was either too high or too low after each guess. \n",
        "*   Game Over. Player either wins or losses.\n",
        "\n"
      ]
    },
    {
      "cell_type": "markdown",
      "metadata": {
        "id": "9bRuB326L8fc",
        "colab_type": "text"
      },
      "source": [
        "# Steps to Build Game\n",
        "\n",
        "\n",
        "\n",
        "1.   Create function the gets a guess from the player\n",
        "2.   Create responses to guess\n",
        "3.   Map out the game flow\n",
        "4.   Wrap it all into one function to play the game\n",
        "\n",
        "\n",
        "\n",
        "\n",
        "<br>\n",
        "\n",
        "\n",
        "\n",
        "---\n",
        "\n"
      ]
    },
    {
      "cell_type": "markdown",
      "metadata": {
        "id": "_doFjancatmU",
        "colab_type": "text"
      },
      "source": [
        "## Step 1 - Ask Player For Their Guess"
      ]
    },
    {
      "cell_type": "markdown",
      "metadata": {
        "id": "nUrgPgTbseRE",
        "colab_type": "text"
      },
      "source": [
        "Whenever you are dealing with a user input you need to make sure that they enter what you actually want them to enter...\n",
        "\n",
        "Python handles numbers and characters differently and we need to make sure that we get a numeric response. \n",
        "\n",
        "We also need to make sure the guess is an integer. We don't want people guessing random decimal numbers."
      ]
    },
    {
      "cell_type": "markdown",
      "metadata": {
        "id": "9DQTku0NgCRy",
        "colab_type": "text"
      },
      "source": [
        "### Key Concept: User Input"
      ]
    },
    {
      "cell_type": "code",
      "metadata": {
        "id": "Cq97ta17bFGl",
        "colab_type": "code",
        "colab": {}
      },
      "source": [
        "# ask player for a number between a range \n",
        "start = 1\n",
        "end = 100\n",
        "guess = input(\"Guess a number between {0} and {1}: \".format(start, end))\n"
      ],
      "execution_count": null,
      "outputs": []
    },
    {
      "cell_type": "code",
      "metadata": {
        "id": "67_DLRF6ie1C",
        "colab_type": "code",
        "colab": {}
      },
      "source": [
        "# view guess\n",
        "guess"
      ],
      "execution_count": null,
      "outputs": []
    },
    {
      "cell_type": "markdown",
      "metadata": {
        "id": "QDbvWr09mhJq",
        "colab_type": "text"
      },
      "source": [
        "#### Potential Problem 1: \n",
        "\n",
        "What if they input something besides an integer?\n",
        "\n",
        "\n",
        "Let's force the input to be an integer and then use built in error handling python procedures to save us."
      ]
    },
    {
      "cell_type": "code",
      "metadata": {
        "id": "UB-kd2oThSgt",
        "colab_type": "code",
        "colab": {}
      },
      "source": [
        "# try: \n",
        "# except():\n",
        "try:\n",
        "    guess = int(input(\"Guess a number between {0} and {1}: \".format(start, end)))\n",
        "except(ValueError, TypeError):\n",
        "    print(\"That is not an integer! Try again!\")"
      ],
      "execution_count": null,
      "outputs": []
    },
    {
      "cell_type": "markdown",
      "metadata": {
        "id": "HzyvTGG7wrI7",
        "colab_type": "text"
      },
      "source": [
        "##### Need to Loop it"
      ]
    },
    {
      "cell_type": "markdown",
      "metadata": {
        "id": "E32GIFiEwDXK",
        "colab_type": "text"
      },
      "source": [
        "If you don't use a while function then it won't run again."
      ]
    },
    {
      "cell_type": "code",
      "metadata": {
        "id": "BdGhDoojwHfA",
        "colab_type": "code",
        "colab": {}
      },
      "source": [
        "# while True: if you don't use \n",
        "# try: \n",
        "# except():\n",
        "while True:\n",
        "    try:\n",
        "        guess = int(input(\"Guess a number between {0} and {1}: \".format(start, end)))\n",
        "        break\n",
        "    except(ValueError, TypeError):\n",
        "        print(\"That is not an integer! Try again!\")"
      ],
      "execution_count": null,
      "outputs": []
    },
    {
      "cell_type": "markdown",
      "metadata": {
        "id": "83AshFQotqJp",
        "colab_type": "text"
      },
      "source": [
        "#### Potential Problem 2: \n",
        "\n",
        "What if they guess a number outside of our range?\n",
        "\n",
        "\n",
        "We need to do an if else statement checking that the guess is in the range and if it's not telling them to guess again"
      ]
    },
    {
      "cell_type": "code",
      "metadata": {
        "id": "U0KWOfUJsrvF",
        "colab_type": "code",
        "colab": {}
      },
      "source": [
        "# while True:\n",
        "# try: \n",
        "# except\n",
        "# else:\n",
        "#  if guess is in range break\n",
        "#  else: tell them to guess again...\"That isn't in the range. I should dock you 2 guesses for that mistake but since I'm so nice I won't count that against your guesses but please try to stay within the range when you guess.\"\"\n",
        "while True:\n",
        "    try:\n",
        "        guess = int(input(\"Guess a number between {0} and {1}: \".format(start, end)))\n",
        "    except(ValueError, TypeError):\n",
        "        print(\"That is not an integer! Try again!\")\n",
        "    else:\n",
        "        if guess >= start and guess <= end:\n",
        "            break\n",
        "        else:\n",
        "            print(\"That isn't in the range. I should dock you 2 guesses for that mistake but since I'm so nice I won't count that against your guesses but please try to stay within the range when you guess.\")\n",
        "\n"
      ],
      "execution_count": null,
      "outputs": []
    },
    {
      "cell_type": "markdown",
      "metadata": {
        "id": "tp-dm1UsgLY1",
        "colab_type": "text"
      },
      "source": [
        "### Wrap it into a function"
      ]
    },
    {
      "cell_type": "code",
      "metadata": {
        "id": "oUC51VPwKgbv",
        "colab_type": "code",
        "colab": {}
      },
      "source": [
        "# define function as valid_num\n",
        "# the function should take in 2 inputs (start and end)\n",
        "def valid_num(start = 1, end = 100):\n",
        "    while True:\n",
        "        try:\n",
        "            guess = int(input(\"Guess a number between {0} and {1}: \".format(start, end)))\n",
        "        except(ValueError, TypeError):\n",
        "            print(\"That is not an integer! Try again!\")\n",
        "        else:\n",
        "            if guess >= start and guess <= end:\n",
        "                return guess\n",
        "            else:\n",
        "                print(\"That isn't in the range. I should dock you 2 guesses for that mistake but since I'm so nice I won't count that against your guesses but please try to stay within the range when you guess.\")\n",
        "\n"
      ],
      "execution_count": null,
      "outputs": []
    },
    {
      "cell_type": "code",
      "metadata": {
        "id": "v-kqur4QMVeU",
        "colab_type": "code",
        "colab": {}
      },
      "source": [
        "# test function\n",
        "valid_num()"
      ],
      "execution_count": null,
      "outputs": []
    },
    {
      "cell_type": "markdown",
      "metadata": {
        "id": "93zCIN4Mf0r5",
        "colab_type": "text"
      },
      "source": [
        "For more information on error handling visit: \n",
        "\n",
        "https://docs.python.org/3/library/exceptions.html\n",
        "\n",
        "https://docs.python.org/3/tutorial/errors.html"
      ]
    },
    {
      "cell_type": "markdown",
      "metadata": {
        "id": "Fh6wj1s4dLuT",
        "colab_type": "text"
      },
      "source": [
        "## Step 2 - Create Responses to Guesses\n",
        "\n",
        "\n",
        "<br>\n",
        "\n",
        "<br>\n",
        "\n",
        "\n",
        "We don't want our game to be too repetitive for the player. We need to come up with a bunch of responses for each guess.\n",
        "\n",
        "The player's guess will either be too high or too low. \n",
        "\n",
        "\n",
        "<br>\n",
        "\n",
        "\n",
        "---\n",
        "\n",
        "<br>\n",
        "\n",
        "\n",
        "Create 2 lists\n",
        "\n",
        "1.   Responses for guesses that are too high\n",
        "2.   Responses for guesses that are too low\n",
        "\n"
      ]
    },
    {
      "cell_type": "code",
      "metadata": {
        "id": "uTsF7yiZMYMs",
        "colab_type": "code",
        "colab": {}
      },
      "source": [
        "# here are my reponses if the guess is too high. Add in a few more of your own..\n",
        "highSayings = [\"Who do you think you are? Bob Marley? Cuz you are TOO HIGH!\",\n",
        "               \"You need to come down from that ledge cuz you're TOO HIGH!\",\n",
        "               \"Way too high!\",\n",
        "               \"Tough break. Too high.\",\n",
        "               \"Are you related to Snoop Dog? Cuz you are TOO HIGH.\",\n",
        "               'Dang...Too high...',\n",
        "               \"Tough break. Too high.\",\n",
        "               \"So close but yet so far! You're too high.\",\n",
        "               \"Think carefully before you guess again! You are too high.\",\n",
        "               \"Too high. You might want to give up, I don't think your pride can handle losing to a computer.\",\n",
        "               \"Nope! Too high.\"]\n"
      ],
      "execution_count": null,
      "outputs": []
    },
    {
      "cell_type": "code",
      "metadata": {
        "id": "_96McY_peJjO",
        "colab_type": "code",
        "colab": {}
      },
      "source": [
        "# here are my reponses if the guess is too low. Add in a few more of your own..\n",
        "lowSayings = [\"You might need a ladder because you are TOO LOW!\",\n",
        "              \"You seem down. Maybe you need to guess higher.\",\n",
        "              \"Shawty you are too low low low low...\",\n",
        "              'Dang...Too low...',\n",
        "              \"Tough break. Too low.\",\n",
        "              \"So close but yet so far! You're too low.\",\n",
        "              \"Think carefully before you guess again! You are too low.\",\n",
        "              \"Too low. You might want to give up, I don't think your pride can handle losing to a computer.\",\n",
        "              \"Nope! Too low.\",\n",
        "              \"You are not smart. You're too low.\"]"
      ],
      "execution_count": null,
      "outputs": []
    },
    {
      "cell_type": "markdown",
      "metadata": {
        "id": "ABEBlKkVxFL2",
        "colab_type": "text"
      },
      "source": [
        "## Step 3 - Game Flow"
      ]
    },
    {
      "cell_type": "code",
      "metadata": {
        "id": "0WJuo---xWXt",
        "colab_type": "code",
        "colab": {}
      },
      "source": [
        "# intro statement to the game\n",
        "# if you use \"\"\"it will keep the format of your string\"\"\"\n",
        "print(\"\"\"\n",
        "Want to play a little game?\n",
        "\n",
        "I'll think of a number and you have 7 guess to figure it out...\n",
        "\n",
        "Good Luck!\n",
        "\"\"\")"
      ],
      "execution_count": null,
      "outputs": []
    },
    {
      "cell_type": "code",
      "metadata": {
        "id": "YETtbHUfxZGT",
        "colab_type": "code",
        "colab": {}
      },
      "source": [
        "# create the max number of guesses variable and call it \"tries\"\n",
        "print(\"\"\"\n",
        "Want to play a little game?\n",
        "\n",
        "I'll think of a number and you have 7 guess to figure it out...\n",
        "\n",
        "Good Luck!\n",
        "\"\"\")\n",
        "tries = 7"
      ],
      "execution_count": null,
      "outputs": []
    },
    {
      "cell_type": "code",
      "metadata": {
        "id": "sYC3yh8PxjML",
        "colab_type": "code",
        "colab": {}
      },
      "source": [
        "# Ask player for starting number in range of numbers to guess between\n",
        "# Follow similar format as our valid number function\n",
        "print(\"\"\"\n",
        "Want to play a little game?\n",
        "\n",
        "I'll think of a number and you have 7 guess to figure it out...\n",
        "\n",
        "Good Luck!\n",
        "\"\"\")\n",
        "\n",
        "tries = 7\n",
        "\n",
        "while True:\n",
        "    try:\n",
        "        start = int(input(\"What should the lower bound of our range be? \"))\n",
        "        break\n",
        "    except(ValueError, TypeError):\n",
        "        print(\"That is not an integer! Try again!\")\n",
        "        \n"
      ],
      "execution_count": null,
      "outputs": []
    },
    {
      "cell_type": "code",
      "metadata": {
        "id": "UarRPO1dyLGO",
        "colab_type": "code",
        "colab": {}
      },
      "source": [
        "# Ask player for ending number in range of numbers to guess between\n",
        "# Follow similar format as our valid number function\n",
        "print(\"\"\"\n",
        "Want to play a little game?\n",
        "\n",
        "I'll think of a number and you have 7 guess to figure it out...\n",
        "\n",
        "Good Luck!\n",
        "\"\"\")\n",
        "\n",
        "tries = 7\n",
        "\n",
        "while True:\n",
        "    try:\n",
        "        start = int(input(\"What should the lower bound of our range be? \"))\n",
        "        break\n",
        "    except(ValueError, TypeError):\n",
        "        print(\"That is not an integer! Try again!\")\n",
        "        \n",
        "while True:\n",
        "    try:\n",
        "        end = int(input(\"What should the lower bound of our range be? \"))\n",
        "        break\n",
        "    except(ValueError, TypeError):\n",
        "        print(\"That is not an integer! Try again!\")\n",
        "        \n",
        "        \n"
      ],
      "execution_count": null,
      "outputs": []
    },
    {
      "cell_type": "code",
      "metadata": {
        "id": "SAwBY9SLyhno",
        "colab_type": "code",
        "colab": {}
      },
      "source": [
        "import random\n",
        "\n",
        "# have the program randomly pick a number (randint)\n",
        "print(\"\"\"\n",
        "Want to play a little game?\n",
        "\n",
        "I'll think of a number and you have 7 guess to figure it out...\n",
        "\n",
        "Good Luck!\n",
        "\"\"\")\n",
        "\n",
        "tries = 7\n",
        "\n",
        "while True:\n",
        "    try:\n",
        "        start = int(input(\"What should the lower bound of our range be? \"))\n",
        "        break\n",
        "    except(ValueError, TypeError):\n",
        "        print(\"That is not an integer! Try again!\")\n",
        "        \n",
        "while True:\n",
        "    try:\n",
        "        end = int(input(\"What should the higher bound of our range be? \"))\n",
        "        break\n",
        "    except(ValueError, TypeError):\n",
        "        print(\"That is not an integer! Try again!\")\n",
        "        \n",
        "number = random.randint(start, end)\n"
      ],
      "execution_count": null,
      "outputs": []
    },
    {
      "cell_type": "code",
      "metadata": {
        "id": "fbeQkiLqyrlE",
        "colab_type": "code",
        "colab": {}
      },
      "source": [
        "# Initiate counter for the number of guesses\n",
        "print(\"\"\"\n",
        "Want to play a little game?\n",
        "\n",
        "I'll think of a number and you have 7 guess to figure it out...\n",
        "\n",
        "Good Luck!\n",
        "\"\"\")\n",
        "\n",
        "tries = 7\n",
        "\n",
        "while True:\n",
        "    try:\n",
        "        start = int(input(\"What should the lower bound of our range be? \"))\n",
        "        break\n",
        "    except(ValueError, TypeError):\n",
        "        print(\"That is not an integer! Try again!\")\n",
        "        \n",
        "while True:\n",
        "    try:\n",
        "        end = int(input(\"What should the higher bound of our range be? \"))\n",
        "        break\n",
        "    except(ValueError, TypeError):\n",
        "        print(\"That is not an integer! Try again!\")\n",
        "        \n",
        "number = random.randint(start, end)\n",
        "counter = 0"
      ],
      "execution_count": null,
      "outputs": []
    },
    {
      "cell_type": "markdown",
      "metadata": {
        "id": "DDVbo3UV5BxT",
        "colab_type": "text"
      },
      "source": [
        "### Game Flow\n",
        "\n",
        "\n",
        "The game only ends if:\n",
        "\n",
        "\n",
        "1.   Guess correctly on the first try\n",
        "2.   Guess correctly\n",
        "3.   Run out of guesses\n",
        "\n",
        "The game will loop through the player's guesses until one of those 3 outcomes occurs.\n",
        "\n"
      ]
    },
    {
      "cell_type": "markdown",
      "metadata": {
        "id": "yOFLb8Gw5w1N",
        "colab_type": "text"
      },
      "source": [
        "### Guess Flow\n",
        "\n",
        "The flow when a guess is made:\n",
        "\n",
        "1.   Guess is correct\n",
        "2.   Guess is too high\n",
        "3.   Guess is too low\n"
      ]
    },
    {
      "cell_type": "code",
      "metadata": {
        "id": "EnP1HUdUy5l8",
        "colab_type": "code",
        "colab": {}
      },
      "source": [
        "# create while loop \n",
        "while counter < tries:\n",
        "    # ask player for a guess\n",
        "    guess = valid_num(start, end)\n",
        "    # increase the counter by 1\n",
        "    counter += 1\n",
        "    # determine how many guesses are left \"guesses_left\"\n",
        "    guesses_left = tries - counter\n",
        "    # if the player guesses it correct on the first try, let's give them a special congrats! \n",
        "    if guess == number and counter == 1:\n",
        "        print(\"WINNER WINNER CHICKEN DINNER!! You got it on the first try! Great Job!\")\n",
        "        # break out of loop to end the game\n",
        "        break\n",
        "    # else if in python = elif\n",
        "    # else if the player guesses it correctly\n",
        "    elif guess == number:\n",
        "        # tell them they won and tell them how many guesses it took\n",
        "        print(\"Great Job! You guessed correct! It took you {} tries to get it right!\".format(counter))\n",
        "        # game over\n",
        "        break\n",
        "    # else if the player runs out of guesses\n",
        "    elif guesses_left == 0:\n",
        "        # tell them they lost and what the actual number was.\n",
        "        print(\"Tough break kiddo... maybe next time! The number I was thinking about was {}!\".format(number))\n",
        "        # game over\n",
        "        break\n",
        "    # else if the guess is too high\n",
        "    elif guess > number:\n",
        "        # generate a random response\n",
        "        response = random.choice(highSayings)\n",
        "        # we need to tell the player how many chances they have left.\n",
        "        print(\"{0} You have {1} guesses left. Use them wisely...\".format(response, guesses_left))\n",
        "    # else the guess is too low\n",
        "    else:\n",
        "        # generate a random response\n",
        "        response = random.choice(lowSayings)\n",
        "        # we need to tell the player how many chances they have left.\n",
        "        print(\"{0} You have {1} guesses left. Use them wisely...\".format(response, guesses_left))"
      ],
      "execution_count": null,
      "outputs": []
    },
    {
      "cell_type": "markdown",
      "metadata": {
        "id": "AHt34S4gaAs0",
        "colab_type": "text"
      },
      "source": [
        "## Step 4 - Putting it all together"
      ]
    },
    {
      "cell_type": "code",
      "metadata": {
        "id": "rVIj-K8KaDSf",
        "colab_type": "code",
        "colab": {}
      },
      "source": [
        "# define a function to play the game. Name it \"guessingGame\"\n",
        "def guessingGame():\n",
        "    print(\"\"\"\n",
        "Want to play a little game?\n",
        "\n",
        "I'll think of a number and you have 7 guess to figure it out...\n",
        "\n",
        "Good Luck!\n",
        "\"\"\")\n",
        "\n",
        "    tries = 7\n",
        "    \n",
        "    while True:\n",
        "        try:\n",
        "            start = int(input(\"What should the lower bound of our range be? \"))\n",
        "            break\n",
        "        except(ValueError, TypeError):\n",
        "            print(\"That is not an integer! Try again!\")\n",
        "            \n",
        "    while True:\n",
        "        try:\n",
        "            end = int(input(\"What should the higher bound of our range be? \"))\n",
        "            break\n",
        "        except(ValueError, TypeError):\n",
        "            print(\"That is not an integer! Try again!\")\n",
        "            \n",
        "    number = random.randint(start, end)\n",
        "    counter = 0\n",
        "    # create while loop \n",
        "    while counter < tries:\n",
        "        # ask player for a guess\n",
        "        guess = valid_num(start, end)\n",
        "        # increase the counter by 1\n",
        "        counter += 1\n",
        "        # determine how many guesses are left \"guesses_left\"\n",
        "        guesses_left = tries - counter\n",
        "        # if the player guesses it correct on the first try, let's give them a special congrats! \n",
        "        if guess == number and counter == 1:\n",
        "            print(\"WINNER WINNER CHICKEN DINNER!! You got it on the first try! Great Job!\")\n",
        "            # break out of loop to end the game\n",
        "            break\n",
        "        # else if in python = elif\n",
        "        # else if the player guesses it correctly\n",
        "        elif guess == number:\n",
        "            # tell them they won and tell them how many guesses it took\n",
        "            print(\"Great Job! You guessed correct! It took you {} tries to get it right!\".format(counter))\n",
        "            # game over\n",
        "            break\n",
        "        # else if the player runs out of guesses\n",
        "        elif guesses_left == 0:\n",
        "            # tell them they lost and what the actual number was.\n",
        "            print(\"Tough break kiddo... maybe next time! The number I was thinking about was {}!\".format(number))\n",
        "            # game over\n",
        "            break\n",
        "        # else if the guess is too high\n",
        "        elif guess > number:\n",
        "            # generate a random response\n",
        "            response = random.choice(highSayings)\n",
        "            # we need to tell the player how many chances they have left.\n",
        "            print(\"{0} You have {1} guesses left. Use them wisely...\".format(response, guesses_left))\n",
        "        # else the guess is too low\n",
        "        else:\n",
        "            # generate a random response\n",
        "            response = random.choice(lowSayings)\n",
        "            # we need to tell the player how many chances they have left.\n",
        "            print(\"{0} You have {1} guesses left. Use them wisely...\".format(response, guesses_left))"
      ],
      "execution_count": null,
      "outputs": []
    },
    {
      "cell_type": "markdown",
      "metadata": {
        "id": "ssMXhjwN_qE2",
        "colab_type": "text"
      },
      "source": [
        "# Play the Game!"
      ]
    },
    {
      "cell_type": "code",
      "metadata": {
        "id": "fSAXqBAMcMF5",
        "colab_type": "code",
        "colab": {}
      },
      "source": [
        "# Play the game\n",
        "guessingGame()"
      ],
      "execution_count": null,
      "outputs": []
    }
  ]
}