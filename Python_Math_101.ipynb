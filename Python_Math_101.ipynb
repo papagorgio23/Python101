{
  "nbformat": 4,
  "nbformat_minor": 0,
  "metadata": {
    "kernelspec": {
      "display_name": "Python 3",
      "language": "python",
      "name": "python3"
    },
    "language_info": {
      "codemirror_mode": {
        "name": "ipython",
        "version": 3
      },
      "file_extension": ".py",
      "mimetype": "text/x-python",
      "name": "python",
      "nbconvert_exporter": "python",
      "pygments_lexer": "ipython3",
      "version": "3.6.5"
    },
    "colab": {
      "name": "Python Math 101.ipynb",
      "provenance": [],
      "include_colab_link": true
    }
  },
  "cells": [
    {
      "cell_type": "markdown",
      "metadata": {
        "id": "view-in-github",
        "colab_type": "text"
      },
      "source": [
        "<a href=\"https://colab.research.google.com/github/papagorgio23/Python101/blob/master/Python_Math_101.ipynb\" target=\"_parent\"><img src=\"https://colab.research.google.com/assets/colab-badge.svg\" alt=\"Open In Colab\"/></a>"
      ]
    },
    {
      "cell_type": "markdown",
      "metadata": {
        "id": "BumYj2wGc1uV",
        "colab_type": "text"
      },
      "source": [
        "### Integer Calculations\n",
        "The first examples deal with integer calculations.  Division will truncate \n",
        "integer calculations and the % operator will produce the remainder.  Note that\n",
        "z/y = 0 and z%y = 3.  The statement x=-2 is called an assignment statement."
      ]
    },
    {
      "cell_type": "code",
      "metadata": {
        "id": "jo9XIUIEc1uW",
        "colab_type": "code",
        "colab": {},
        "outputId": "8d13eb91-b4b6-427c-b234-a696c55f1860"
      },
      "source": [
        "x=-2\n",
        "y=4\n",
        "z=3\n",
        "print (x+y, x*y, z/x, z/y, z%x, z%y)"
      ],
      "execution_count": null,
      "outputs": [
        {
          "output_type": "stream",
          "text": [
            "2 -8 -1.5 0.75 -1 3\n"
          ],
          "name": "stdout"
        }
      ]
    },
    {
      "cell_type": "markdown",
      "metadata": {
        "id": "JZ00NtvGc1ua",
        "colab_type": "text"
      },
      "source": [
        "### Floating point calculations and conversions\n",
        "We repeat with floating point calculations using \"float\" which is a \n",
        "built-in Python function that converts integers to floating point numbers.\n",
        "Also shown is \"int\" which converts floating point numbers to integers. Note\n",
        "that when an integer and floating point number are involved in the same\n",
        "calculation, the result is a floating point number."
      ]
    },
    {
      "cell_type": "code",
      "metadata": {
        "id": "m2LJXrdRc1ua",
        "colab_type": "code",
        "colab": {},
        "outputId": "3857d8a2-695a-443e-e388-245db5041e01"
      },
      "source": [
        "x = float(x)\n",
        "y = float(y)\n",
        "z = float(z)\n",
        "print (x, y, z)\n",
        "print (z/x, z/y, int(z/y))\n",
        "\n",
        "k=int((z/x)*(1))\n",
        "print('Integer {}'.format(k))      # This produces an integer.\n",
        "l=int((z/x)*(1.0))     # This produces a floating point number.\n",
        "l"
      ],
      "execution_count": null,
      "outputs": [
        {
          "output_type": "stream",
          "text": [
            "-2.0 4.0 3.0\n",
            "-1.5 0.75 0\n",
            "Integer -1\n"
          ],
          "name": "stdout"
        },
        {
          "output_type": "execute_result",
          "data": {
            "text/plain": [
              "-1"
            ]
          },
          "metadata": {
            "tags": []
          },
          "execution_count": 10
        }
      ]
    },
    {
      "cell_type": "markdown",
      "metadata": {
        "id": "I2abs0Gqc1uc",
        "colab_type": "text"
      },
      "source": [
        "### Order of Operations calculations\n",
        "Whenever there is doubt about a variable's type, the interpreter can be used.\n",
        "For any variable such as x, enter type(x) in the interpreter and the type of\n",
        "variable will be displayed.  The order of operations can be remembered using\n",
        "the acronym PEMDAS.  Note the difference between * and **.  "
      ]
    },
    {
      "cell_type": "code",
      "metadata": {
        "id": "E8-q3XEoc1ud",
        "colab_type": "code",
        "colab": {},
        "outputId": "c0ae6c61-f5ab-47cb-e13e-2ddd37fc6093"
      },
      "source": [
        "print (1+2*5, (1+2)*5, (4-2)**0.5)\n",
        "print  (y*x, y*(1/x), y**x)"
      ],
      "execution_count": null,
      "outputs": [
        {
          "output_type": "stream",
          "text": [
            "11 15 1.4142135623730951\n",
            "-8.0 -2.0 0.0625\n"
          ],
          "name": "stdout"
        }
      ]
    },
    {
      "cell_type": "markdown",
      "metadata": {
        "id": "95OfbsFOc1uf",
        "colab_type": "text"
      },
      "source": [
        "### Combinations of Functions and Operations\n",
        "Functions and operations can be combined.  Note the use of % and int(). The  \n",
        "absolute value function is abs().  Round() will round a number to a specific\n",
        "number of decimal places.  Round(12.345,2)= 12.35."
      ]
    },
    {
      "cell_type": "code",
      "metadata": {
        "id": "sSWfWkl8c1ug",
        "colab_type": "code",
        "colab": {},
        "outputId": "7767ab6d-f77f-4876-f2a4-f842ecec7a2b"
      },
      "source": [
        "m = int((4-2)**0.5)\n",
        "print (m)\n",
        "print (y*(1%x))             # Note that -2.0 does not divide 1 so 1%(-2.0)=-1.0. \n",
        "n = int(y*(1%x))\n",
        "n"
      ],
      "execution_count": null,
      "outputs": [
        {
          "output_type": "stream",
          "text": [
            "1\n",
            "-4.0\n"
          ],
          "name": "stdout"
        },
        {
          "output_type": "execute_result",
          "data": {
            "text/plain": [
              "-4"
            ]
          },
          "metadata": {
            "tags": []
          },
          "execution_count": 12
        }
      ]
    },
    {
      "cell_type": "markdown",
      "metadata": {
        "id": "lBszn-EXc1ui",
        "colab_type": "text"
      },
      "source": [
        "### Strings\n",
        "A string is a sequence of characters.  If the sequence involves numbers,\n",
        "they are treated as characters.  The built-in function len() tells us the\n",
        "length of the string.  The first character in a string is indexed by the\n",
        "number zero.  A negative index can be used.  This starts the counting from \n",
        "end of the string.  All indexes are placed within brackets as shown below.\n",
        "Python is memoryless.  The variables x, y and z can be defined as strings\n",
        "even though they were initially integers and then floating point numbers."
      ]
    },
    {
      "cell_type": "code",
      "metadata": {
        "id": "FBhFmTiVc1uj",
        "colab_type": "code",
        "colab": {},
        "outputId": "84fb8511-703c-40ac-8979-59bcb92dec6d"
      },
      "source": [
        "x='aax'\n",
        "y='bbb'\n",
        "z='123'\n",
        "print (x[0], x[2], z[-1], x*5, len(x*5))\n",
        "\n",
        "print('\\nExamples of concatenation and use of len() and indexing:')\n",
        "print (x+y, (x+y+z*2), len(x+y+z*2), (x+y+z*2)[6], (x+y+z*2)[-6])"
      ],
      "execution_count": null,
      "outputs": [
        {
          "output_type": "stream",
          "text": [
            "a x 3 aaxaaxaaxaaxaax 15\n",
            "\n",
            "Examples of concatenation and use of len() and indexing:\n",
            "aaxbbb aaxbbb123123 12 1 1\n"
          ],
          "name": "stdout"
        }
      ]
    },
    {
      "cell_type": "markdown",
      "metadata": {
        "id": "KVSokzwpc1ul",
        "colab_type": "text"
      },
      "source": [
        "### Quadratic Formula Section R.4 Example 4 Lial\n",
        "\n",
        "Polynomials and other equations may be coded and Python used as a calculator.\n",
        "This is demonstrated using Example 4 of Section R.4 Lial. "
      ]
    },
    {
      "cell_type": "code",
      "metadata": {
        "id": "Ym2GLl-fc1ul",
        "colab_type": "code",
        "colab": {},
        "outputId": "76492d62-807c-4d1a-d792-9477bbfaeda0"
      },
      "source": [
        "a=1.0\n",
        "b=-4.0\n",
        "c=-5.0\n",
        "root_1=(-b+(b**2-4*a*c)**0.5)/(2*a)\n",
        "root_2=(-b-(b**2-4*a*c)**0.5)/(2*a)\n",
        "print ('Root_1=', root_1)   # %root_1 indicates a variable will be printed.\n",
        "print ('Root_2=', root_2)   # %root_2 indicates root_2 is to be printed.\n",
        "\n",
        "# A handy function is round().  It rounds to an specified number of decimal\n",
        "# places.  For example round(3.14159,2)=3.14.  Check the output.\n",
        "\n",
        "'3.14159 rounded to two decimal places is {}'.format(round(3.14159,2))"
      ],
      "execution_count": null,
      "outputs": [
        {
          "output_type": "stream",
          "text": [
            "Root_1= 5.0\n",
            "Root_2= -1.0\n"
          ],
          "name": "stdout"
        },
        {
          "output_type": "execute_result",
          "data": {
            "text/plain": [
              "'3.14159 rounded to two decimal places is 3.14'"
            ]
          },
          "metadata": {
            "tags": []
          },
          "execution_count": 14
        }
      ]
    },
    {
      "cell_type": "markdown",
      "metadata": {
        "id": "7uLr-h_Qc1un",
        "colab_type": "text"
      },
      "source": [
        "### Practice\n",
        "Write and execute code for the following exercises.  Compare to the answer \n",
        "sheets.  These problems can be solved using the interpreter.\n",
        "\n",
        "Exercise 2.4 of \"Think Python\" is repeated below.  Do these\n",
        "calculations.  For the value of pi, use 3.14159.  \n",
        "\n",
        "Exercise #1:  The volume of a sphere with radius r is (4/3)(pi)r**3.  What\n",
        "is the volume of a sphere with radius 5?  (392.6 is wrong!)\n",
        "\n",
        "Exercise #2:  Suppose the cover price of a book is $24.95, but bookstores get\n",
        "a 40% discount.  Shipping costs \\$3 for the first copy and 75 cents for each \n",
        "additional copy.  What is the total wholesale cost for 60 copies?\n",
        "\n",
        "Exercise #3:  If I leave my house at 6:52 am and run 1 mile at an easy pace\n",
        "(8:15 per mile), then 3 miles at tempo (7:12 per mile) and 1 mile at easy\n",
        "pace again, what time do I get home for breakfast?"
      ]
    },
    {
      "cell_type": "code",
      "metadata": {
        "id": "XUeo8j-kc1uo",
        "colab_type": "code",
        "colab": {}
      },
      "source": [
        ""
      ],
      "execution_count": null,
      "outputs": []
    }
  ]
}