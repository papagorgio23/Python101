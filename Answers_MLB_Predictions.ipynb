{
  "nbformat": 4,
  "nbformat_minor": 0,
  "metadata": {
    "colab": {
      "name": "Answers MLB Predictions.ipynb",
      "version": "0.3.2",
      "provenance": [],
      "collapsed_sections": [],
      "toc_visible": true,
      "include_colab_link": true
    },
    "kernelspec": {
      "name": "python3",
      "display_name": "Python 3"
    }
  },
  "cells": [
    {
      "cell_type": "markdown",
      "metadata": {
        "id": "view-in-github",
        "colab_type": "text"
      },
      "source": [
        "<a href=\"https://colab.research.google.com/github/papagorgio23/Python101/blob/master/Answers_MLB_Predictions.ipynb\" target=\"_parent\"><img src=\"https://colab.research.google.com/assets/colab-badge.svg\" alt=\"Open In Colab\"/></a>"
      ]
    },
    {
      "cell_type": "markdown",
      "metadata": {
        "id": "10dfHd3J2rsw",
        "colab_type": "text"
      },
      "source": [
        "# Run to setup Notebook"
      ]
    },
    {
      "cell_type": "code",
      "metadata": {
        "id": "VNUCDj8p2_wo",
        "colab_type": "code",
        "colab": {}
      },
      "source": [
        "# MLB Teams\n",
        "teams = ['Red Sox', 'Orioles', 'Blue Jays',\n",
        "       'Yankees', 'Rays', 'Indians',\n",
        "       'Tigers', 'Royals', 'White Sox',\n",
        "       'Twins', 'Rangers', 'Mariners',\n",
        "       'Astros', 'Angels', 'Athletics',\n",
        "       'Nationals', 'Mets', 'Marlins',\n",
        "       'Phillies', 'Braves', 'Cubs',\n",
        "       'Cardinals', 'Pirates', 'Brewers',\n",
        "       'Reds', 'Dodgers', 'Giants',\n",
        "       'Rockies', 'Diamondbacks', 'Padres']\n",
        "\n",
        "import time\n",
        "from datetime import datetime\n",
        "\n",
        "# function to gather info about you\n",
        "def setupInfo():\n",
        "    name = input(\"What is your name? \")\n",
        "\n",
        "    print(\"\\nWelcome to A.I. Sports' MLB analytics team, {}! \\nWe're very excited to use your brain to help us beat Vegas and win more games!\\n\".format(name))\n",
        "    \n",
        "    time.sleep(3)\n",
        "\n",
        "    while True:\n",
        "        team = input(\"\\n{}, What is your favorite MLB team? \\n(no need to include city ie. 'Rays', 'Nationals', 'Diamondbacks', or whatever will work just fine)\".format(name))\n",
        "        if team not in teams:\n",
        "            print(\"\\nSorry... I don't think that's a real team...\\nDon't worry, I don't know the teams either... \\nPick one of these:\\n\")\n",
        "            for tm in teams:\n",
        "                print(tm)\n",
        "        else:\n",
        "            break\n",
        "    if team in ['Red Sox', 'Orioles', 'Blue Jays',\n",
        "       'Yankees', 'Indians', 'Rangers', 'Mariners',\n",
        "       'Tigers', 'Royals', 'White Sox']:\n",
        "      print(\"\\nOhhh... The {} are a... team... Anyway...\\n\".format(team))\n",
        "    \n",
        "    elif team in ['Astros', 'Angels', 'Athletics',\n",
        "       'Nationals', 'Mets', 'Marlins',\n",
        "       'Phillies', 'Braves', 'Cubs']:\n",
        "      print(\"\\nVery nice. The {} are a great team!\\n\".format(team)) \n",
        "      \n",
        "    elif team in ['Nationals', 'Mets', 'Marlins',\n",
        "       'Phillies', 'Braves', 'Cubs',\n",
        "       'Cardinals', 'Pirates', 'Brewers',\n",
        "       'Reds', 'Dodgers', 'Giants',\n",
        "       'Rockies', 'Padres']:\n",
        "      print(\"\\nI'm sorry... Maybe next year the {} will bounce back!\\n\".format(team))\n",
        "      \n",
        "    else:\n",
        "      print(\"\\nHome town heros! The {} will win it for us soon!\\n\".format(team))\n",
        "    \n",
        "    \n",
        "    # Wait for 1.5 seconds\n",
        "    time.sleep(1.5)\n",
        "    answer = input(\"\\n{}, Are you ready for your first assignment?:\\n\".format(name))\n",
        "    if answer.lower() == 'yes':\n",
        "      print(\"I Knew I'd like you!\\n\")\n",
        "    else:\n",
        "      print(\"Ready or not here it comes:\\n\")\n",
        "    time.sleep(2)\n",
        "    \n",
        "    print(\"I need you to tell me if the {} have been over performing or under performing over the last 9 years.\\nI want you to use the Pythagorean Wins Formula as the baseline.\".format(team))\n",
        "    \n",
        "    time.sleep(5)\n",
        "    \n",
        "    print(\"\\nThis is not a race but we will time you anyway.\\n\")\n",
        "    \n",
        "    time.sleep(3)\n",
        "    \n",
        "    print(\"\\n3...\\n\")\n",
        "    \n",
        "    \n",
        "    time.sleep(2.5)\n",
        "    \n",
        "    print(\"\\n2...\\n\")\n",
        "    \n",
        "    time.sleep(2.5)\n",
        "    \n",
        "    print(\"\\n1...\\n\")\n",
        "    \n",
        "    time.sleep(2.5)\n",
        "    \n",
        "    print(\"\\nGO!!!\\n\")\n",
        "    \n",
        "    start = datetime.now()\n",
        "    \n",
        "    return start"
      ],
      "execution_count": 0,
      "outputs": []
    },
    {
      "cell_type": "markdown",
      "metadata": {
        "id": "T4phEetMQFEx",
        "colab_type": "text"
      },
      "source": [
        "# Start"
      ]
    },
    {
      "cell_type": "markdown",
      "metadata": {
        "id": "rMPdbgk946fU",
        "colab_type": "text"
      },
      "source": [
        "# A.I. Sports\n",
        "\n",
        "![A.I. Sports](https://raw.githubusercontent.com/papagorgio23/Python101/master/Logo.png)\n",
        "\n",
        "www.AISportsFirm.com"
      ]
    },
    {
      "cell_type": "markdown",
      "metadata": {
        "id": "IxfYOAjvJbrS",
        "colab_type": "text"
      },
      "source": [
        "Run the next cell"
      ]
    },
    {
      "cell_type": "code",
      "metadata": {
        "id": "gjZDgLcN3ClP",
        "colab_type": "code",
        "outputId": "bc5318fc-62f1-4f67-993b-73e0386eb46a",
        "colab": {
          "base_uri": "https://localhost:8080/",
          "height": 578
        }
      },
      "source": [
        "start = setupInfo()"
      ],
      "execution_count": 0,
      "outputs": [
        {
          "output_type": "stream",
          "text": [
            "What is your name? Jason\n",
            "\n",
            "Welcome to A.I. Sports' MLB analytics team, Jason! \n",
            "We're very excited to use your brain to help us beat Vegas and win more games!\n",
            "\n",
            "\n",
            "Jason, What is your favorite MLB team? \n",
            "(no need to include city ie. 'Rays', 'Nationals', 'Diamondbacks', or whatever will work just fine)Rays\n",
            "\n",
            "Home town heros! The Rays will win it for us soon!\n",
            "\n",
            "\n",
            "Jason, Are you ready for your first assignment?:\n",
            "yes\n",
            "I Knew I'd like you!\n",
            "\n",
            "I need you to tell me if the Rays have been over performing or under performing over the last 9 years.\n",
            "I want you to use the Pythagorean Wins Formula as the baseline.\n",
            "\n",
            "This is not a race but we will time you anyway.\n",
            "\n",
            "\n",
            "3...\n",
            "\n",
            "\n",
            "2...\n",
            "\n",
            "\n",
            "1...\n",
            "\n",
            "\n",
            "GO!!!\n",
            "\n"
          ],
          "name": "stdout"
        }
      ]
    },
    {
      "cell_type": "markdown",
      "metadata": {
        "id": "Ces1Ieev2NOQ",
        "colab_type": "text"
      },
      "source": [
        "## Pythagorean Wins Formula"
      ]
    },
    {
      "cell_type": "markdown",
      "metadata": {
        "id": "LL-pTIQrqHoh",
        "colab_type": "text"
      },
      "source": [
        "\n",
        "$$ PythWin\\% = \\frac{RunScored^2} { (RunScored^2 + RunAllowed^2)} $$\n",
        "\n",
        "<br>\n",
        "\n",
        "With some basic arithmetic transformation this equation could look like this:\n",
        "\n",
        "<br>\n",
        "\n",
        "$$ PythWin\\% = \\frac{ScoreRatio^2} { (ScoreRatio^2 + 1)} $$"
      ]
    },
    {
      "cell_type": "markdown",
      "metadata": {
        "id": "9aLIGc1BibHa",
        "colab_type": "text"
      },
      "source": [
        "# MLB Model"
      ]
    },
    {
      "cell_type": "markdown",
      "metadata": {
        "id": "hP3V26ajL_0M",
        "colab_type": "text"
      },
      "source": [
        "## Step 1: Load Data"
      ]
    },
    {
      "cell_type": "markdown",
      "metadata": {
        "id": "GV0Ac1dIWLnO",
        "colab_type": "text"
      },
      "source": [
        "The web address for the csv file is = https://raw.githubusercontent.com/papagorgio23/Python101/master/Allteams.csv\n",
        "\n",
        "<br>\n",
        "\n",
        "In the cell below\n",
        "\n",
        "1. Import pandas \n",
        "2. Read in the csv file\n",
        "3. Name the dataframe \"MLBdata\""
      ]
    },
    {
      "cell_type": "code",
      "metadata": {
        "id": "Bgs3u0SrMB70",
        "colab_type": "code",
        "colab": {}
      },
      "source": [
        "# get data \n",
        "import pandas as pd\n",
        "\n",
        "MLBdata = pd.read_csv('https://raw.githubusercontent.com/papagorgio23/Python101/master/Allteams.csv')"
      ],
      "execution_count": 0,
      "outputs": []
    },
    {
      "cell_type": "markdown",
      "metadata": {
        "id": "HIvKIbJZW0ww",
        "colab_type": "text"
      },
      "source": [
        "## Step 2: View Data"
      ]
    },
    {
      "cell_type": "markdown",
      "metadata": {
        "id": "pnABP-h3XLEA",
        "colab_type": "text"
      },
      "source": [
        "In the 3 cell below. \n",
        "\n",
        "1. View the top 10 rows in the dataframe\n",
        "2. View the bottom 10 rows in the dataframe\n",
        "3. Check for Missing Values\n",
        "4. Calculate basic summary statistics (count, mean, std, min, max, median)\n",
        " "
      ]
    },
    {
      "cell_type": "code",
      "metadata": {
        "id": "kNqw9ff3YJa-",
        "colab_type": "code",
        "outputId": "5cc5c4af-987f-4ec2-ed14-eb757c25804a",
        "colab": {
          "base_uri": "https://localhost:8080/",
          "height": 359
        }
      },
      "source": [
        "# view top 10 rows\n",
        "MLBdata.head(10)"
      ],
      "execution_count": 0,
      "outputs": [
        {
          "output_type": "execute_result",
          "data": {
            "text/html": [
              "<div>\n",
              "<style scoped>\n",
              "    .dataframe tbody tr th:only-of-type {\n",
              "        vertical-align: middle;\n",
              "    }\n",
              "\n",
              "    .dataframe tbody tr th {\n",
              "        vertical-align: top;\n",
              "    }\n",
              "\n",
              "    .dataframe thead th {\n",
              "        text-align: right;\n",
              "    }\n",
              "</style>\n",
              "<table border=\"1\" class=\"dataframe\">\n",
              "  <thead>\n",
              "    <tr style=\"text-align: right;\">\n",
              "      <th></th>\n",
              "      <th>Tm</th>\n",
              "      <th>W</th>\n",
              "      <th>L</th>\n",
              "      <th>W-L%</th>\n",
              "      <th>GB</th>\n",
              "      <th>RS</th>\n",
              "      <th>RA</th>\n",
              "      <th>League</th>\n",
              "      <th>Year</th>\n",
              "    </tr>\n",
              "  </thead>\n",
              "  <tbody>\n",
              "    <tr>\n",
              "      <th>0</th>\n",
              "      <td>PHI</td>\n",
              "      <td>96</td>\n",
              "      <td>64</td>\n",
              "      <td>0.600</td>\n",
              "      <td>--</td>\n",
              "      <td>758</td>\n",
              "      <td>632</td>\n",
              "      <td>NL</td>\n",
              "      <td>2010</td>\n",
              "    </tr>\n",
              "    <tr>\n",
              "      <th>1</th>\n",
              "      <td>SFG</td>\n",
              "      <td>91</td>\n",
              "      <td>69</td>\n",
              "      <td>0.569</td>\n",
              "      <td>5.0</td>\n",
              "      <td>692</td>\n",
              "      <td>579</td>\n",
              "      <td>NL</td>\n",
              "      <td>2010</td>\n",
              "    </tr>\n",
              "    <tr>\n",
              "      <th>2</th>\n",
              "      <td>ATL</td>\n",
              "      <td>90</td>\n",
              "      <td>70</td>\n",
              "      <td>0.563</td>\n",
              "      <td>6.0</td>\n",
              "      <td>730</td>\n",
              "      <td>615</td>\n",
              "      <td>NL</td>\n",
              "      <td>2010</td>\n",
              "    </tr>\n",
              "    <tr>\n",
              "      <th>3</th>\n",
              "      <td>SDP</td>\n",
              "      <td>89</td>\n",
              "      <td>71</td>\n",
              "      <td>0.556</td>\n",
              "      <td>7.0</td>\n",
              "      <td>661</td>\n",
              "      <td>576</td>\n",
              "      <td>NL</td>\n",
              "      <td>2010</td>\n",
              "    </tr>\n",
              "    <tr>\n",
              "      <th>4</th>\n",
              "      <td>CIN</td>\n",
              "      <td>89</td>\n",
              "      <td>71</td>\n",
              "      <td>0.556</td>\n",
              "      <td>7.0</td>\n",
              "      <td>780</td>\n",
              "      <td>679</td>\n",
              "      <td>NL</td>\n",
              "      <td>2010</td>\n",
              "    </tr>\n",
              "    <tr>\n",
              "      <th>5</th>\n",
              "      <td>STL</td>\n",
              "      <td>84</td>\n",
              "      <td>76</td>\n",
              "      <td>0.525</td>\n",
              "      <td>12.0</td>\n",
              "      <td>729</td>\n",
              "      <td>640</td>\n",
              "      <td>NL</td>\n",
              "      <td>2010</td>\n",
              "    </tr>\n",
              "    <tr>\n",
              "      <th>6</th>\n",
              "      <td>COL</td>\n",
              "      <td>83</td>\n",
              "      <td>77</td>\n",
              "      <td>0.519</td>\n",
              "      <td>13.0</td>\n",
              "      <td>769</td>\n",
              "      <td>710</td>\n",
              "      <td>NL</td>\n",
              "      <td>2010</td>\n",
              "    </tr>\n",
              "    <tr>\n",
              "      <th>7</th>\n",
              "      <td>NYM</td>\n",
              "      <td>78</td>\n",
              "      <td>82</td>\n",
              "      <td>0.488</td>\n",
              "      <td>18.0</td>\n",
              "      <td>648</td>\n",
              "      <td>648</td>\n",
              "      <td>NL</td>\n",
              "      <td>2010</td>\n",
              "    </tr>\n",
              "    <tr>\n",
              "      <th>8</th>\n",
              "      <td>FLA</td>\n",
              "      <td>78</td>\n",
              "      <td>82</td>\n",
              "      <td>0.488</td>\n",
              "      <td>18.0</td>\n",
              "      <td>712</td>\n",
              "      <td>715</td>\n",
              "      <td>NL</td>\n",
              "      <td>2010</td>\n",
              "    </tr>\n",
              "    <tr>\n",
              "      <th>9</th>\n",
              "      <td>LAD</td>\n",
              "      <td>78</td>\n",
              "      <td>82</td>\n",
              "      <td>0.488</td>\n",
              "      <td>18.0</td>\n",
              "      <td>661</td>\n",
              "      <td>689</td>\n",
              "      <td>NL</td>\n",
              "      <td>2010</td>\n",
              "    </tr>\n",
              "  </tbody>\n",
              "</table>\n",
              "</div>"
            ],
            "text/plain": [
              "    Tm   W   L   W-L%    GB   RS   RA League  Year\n",
              "0  PHI  96  64  0.600    --  758  632     NL  2010\n",
              "1  SFG  91  69  0.569   5.0  692  579     NL  2010\n",
              "2  ATL  90  70  0.563   6.0  730  615     NL  2010\n",
              "3  SDP  89  71  0.556   7.0  661  576     NL  2010\n",
              "4  CIN  89  71  0.556   7.0  780  679     NL  2010\n",
              "5  STL  84  76  0.525  12.0  729  640     NL  2010\n",
              "6  COL  83  77  0.519  13.0  769  710     NL  2010\n",
              "7  NYM  78  82  0.488  18.0  648  648     NL  2010\n",
              "8  FLA  78  82  0.488  18.0  712  715     NL  2010\n",
              "9  LAD  78  82  0.488  18.0  661  689     NL  2010"
            ]
          },
          "metadata": {
            "tags": []
          },
          "execution_count": 5
        }
      ]
    },
    {
      "cell_type": "code",
      "metadata": {
        "id": "EfwBieOBYUhv",
        "colab_type": "code",
        "outputId": "f462a63c-77ed-4f7b-fdec-0de57e8d5836",
        "colab": {
          "base_uri": "https://localhost:8080/",
          "height": 359
        }
      },
      "source": [
        "# view bottom 10 rows\n",
        "MLBdata.tail(10)"
      ],
      "execution_count": 0,
      "outputs": [
        {
          "output_type": "execute_result",
          "data": {
            "text/html": [
              "<div>\n",
              "<style scoped>\n",
              "    .dataframe tbody tr th:only-of-type {\n",
              "        vertical-align: middle;\n",
              "    }\n",
              "\n",
              "    .dataframe tbody tr th {\n",
              "        vertical-align: top;\n",
              "    }\n",
              "\n",
              "    .dataframe thead th {\n",
              "        text-align: right;\n",
              "    }\n",
              "</style>\n",
              "<table border=\"1\" class=\"dataframe\">\n",
              "  <thead>\n",
              "    <tr style=\"text-align: right;\">\n",
              "      <th></th>\n",
              "      <th>Tm</th>\n",
              "      <th>W</th>\n",
              "      <th>L</th>\n",
              "      <th>W-L%</th>\n",
              "      <th>GB</th>\n",
              "      <th>RS</th>\n",
              "      <th>RA</th>\n",
              "      <th>League</th>\n",
              "      <th>Year</th>\n",
              "    </tr>\n",
              "  </thead>\n",
              "  <tbody>\n",
              "    <tr>\n",
              "      <th>260</th>\n",
              "      <td>TBR</td>\n",
              "      <td>90</td>\n",
              "      <td>72</td>\n",
              "      <td>0.556</td>\n",
              "      <td>18.0</td>\n",
              "      <td>716</td>\n",
              "      <td>646</td>\n",
              "      <td>AL</td>\n",
              "      <td>2018</td>\n",
              "    </tr>\n",
              "    <tr>\n",
              "      <th>261</th>\n",
              "      <td>SEA</td>\n",
              "      <td>89</td>\n",
              "      <td>73</td>\n",
              "      <td>0.549</td>\n",
              "      <td>19.0</td>\n",
              "      <td>677</td>\n",
              "      <td>711</td>\n",
              "      <td>AL</td>\n",
              "      <td>2018</td>\n",
              "    </tr>\n",
              "    <tr>\n",
              "      <th>262</th>\n",
              "      <td>LAA</td>\n",
              "      <td>80</td>\n",
              "      <td>82</td>\n",
              "      <td>0.494</td>\n",
              "      <td>28.0</td>\n",
              "      <td>721</td>\n",
              "      <td>722</td>\n",
              "      <td>AL</td>\n",
              "      <td>2018</td>\n",
              "    </tr>\n",
              "    <tr>\n",
              "      <th>263</th>\n",
              "      <td>MIN</td>\n",
              "      <td>78</td>\n",
              "      <td>84</td>\n",
              "      <td>0.481</td>\n",
              "      <td>30.0</td>\n",
              "      <td>738</td>\n",
              "      <td>775</td>\n",
              "      <td>AL</td>\n",
              "      <td>2018</td>\n",
              "    </tr>\n",
              "    <tr>\n",
              "      <th>264</th>\n",
              "      <td>TOR</td>\n",
              "      <td>73</td>\n",
              "      <td>89</td>\n",
              "      <td>0.451</td>\n",
              "      <td>35.0</td>\n",
              "      <td>709</td>\n",
              "      <td>832</td>\n",
              "      <td>AL</td>\n",
              "      <td>2018</td>\n",
              "    </tr>\n",
              "    <tr>\n",
              "      <th>265</th>\n",
              "      <td>TEX</td>\n",
              "      <td>67</td>\n",
              "      <td>95</td>\n",
              "      <td>0.414</td>\n",
              "      <td>41.0</td>\n",
              "      <td>737</td>\n",
              "      <td>848</td>\n",
              "      <td>AL</td>\n",
              "      <td>2018</td>\n",
              "    </tr>\n",
              "    <tr>\n",
              "      <th>266</th>\n",
              "      <td>DET</td>\n",
              "      <td>64</td>\n",
              "      <td>98</td>\n",
              "      <td>0.395</td>\n",
              "      <td>44.0</td>\n",
              "      <td>630</td>\n",
              "      <td>796</td>\n",
              "      <td>AL</td>\n",
              "      <td>2018</td>\n",
              "    </tr>\n",
              "    <tr>\n",
              "      <th>267</th>\n",
              "      <td>CHW</td>\n",
              "      <td>62</td>\n",
              "      <td>100</td>\n",
              "      <td>0.383</td>\n",
              "      <td>46.0</td>\n",
              "      <td>656</td>\n",
              "      <td>848</td>\n",
              "      <td>AL</td>\n",
              "      <td>2018</td>\n",
              "    </tr>\n",
              "    <tr>\n",
              "      <th>268</th>\n",
              "      <td>KCR</td>\n",
              "      <td>58</td>\n",
              "      <td>104</td>\n",
              "      <td>0.358</td>\n",
              "      <td>50.0</td>\n",
              "      <td>638</td>\n",
              "      <td>833</td>\n",
              "      <td>AL</td>\n",
              "      <td>2018</td>\n",
              "    </tr>\n",
              "    <tr>\n",
              "      <th>269</th>\n",
              "      <td>BAL</td>\n",
              "      <td>47</td>\n",
              "      <td>115</td>\n",
              "      <td>0.290</td>\n",
              "      <td>61.0</td>\n",
              "      <td>622</td>\n",
              "      <td>892</td>\n",
              "      <td>AL</td>\n",
              "      <td>2018</td>\n",
              "    </tr>\n",
              "  </tbody>\n",
              "</table>\n",
              "</div>"
            ],
            "text/plain": [
              "      Tm   W    L   W-L%    GB   RS   RA League  Year\n",
              "260  TBR  90   72  0.556  18.0  716  646     AL  2018\n",
              "261  SEA  89   73  0.549  19.0  677  711     AL  2018\n",
              "262  LAA  80   82  0.494  28.0  721  722     AL  2018\n",
              "263  MIN  78   84  0.481  30.0  738  775     AL  2018\n",
              "264  TOR  73   89  0.451  35.0  709  832     AL  2018\n",
              "265  TEX  67   95  0.414  41.0  737  848     AL  2018\n",
              "266  DET  64   98  0.395  44.0  630  796     AL  2018\n",
              "267  CHW  62  100  0.383  46.0  656  848     AL  2018\n",
              "268  KCR  58  104  0.358  50.0  638  833     AL  2018\n",
              "269  BAL  47  115  0.290  61.0  622  892     AL  2018"
            ]
          },
          "metadata": {
            "tags": []
          },
          "execution_count": 6
        }
      ]
    },
    {
      "cell_type": "code",
      "metadata": {
        "id": "vJvClU3RR5cr",
        "colab_type": "code",
        "outputId": "8f48e421-dcd4-43cd-ad81-0894f174a378",
        "colab": {
          "base_uri": "https://localhost:8080/",
          "height": 187
        }
      },
      "source": [
        "# check for missing values\n",
        "MLBdata.isna().sum()"
      ],
      "execution_count": 0,
      "outputs": [
        {
          "output_type": "execute_result",
          "data": {
            "text/plain": [
              "Tm        0\n",
              "W         0\n",
              "L         0\n",
              "W-L%      0\n",
              "GB        0\n",
              "RS        0\n",
              "RA        0\n",
              "League    0\n",
              "Year      0\n",
              "dtype: int64"
            ]
          },
          "metadata": {
            "tags": []
          },
          "execution_count": 8
        }
      ]
    },
    {
      "cell_type": "code",
      "metadata": {
        "id": "l1ftcXsqMTDk",
        "colab_type": "code",
        "outputId": "6629d4f9-7109-4f46-d170-c947fe24cf9b",
        "colab": {
          "base_uri": "https://localhost:8080/",
          "height": 297
        }
      },
      "source": [
        "# summary statistics\n",
        "MLBdata.describe()"
      ],
      "execution_count": 0,
      "outputs": [
        {
          "output_type": "execute_result",
          "data": {
            "text/html": [
              "<div>\n",
              "<style scoped>\n",
              "    .dataframe tbody tr th:only-of-type {\n",
              "        vertical-align: middle;\n",
              "    }\n",
              "\n",
              "    .dataframe tbody tr th {\n",
              "        vertical-align: top;\n",
              "    }\n",
              "\n",
              "    .dataframe thead th {\n",
              "        text-align: right;\n",
              "    }\n",
              "</style>\n",
              "<table border=\"1\" class=\"dataframe\">\n",
              "  <thead>\n",
              "    <tr style=\"text-align: right;\">\n",
              "      <th></th>\n",
              "      <th>W</th>\n",
              "      <th>L</th>\n",
              "      <th>W-L%</th>\n",
              "      <th>RS</th>\n",
              "      <th>RA</th>\n",
              "      <th>Year</th>\n",
              "    </tr>\n",
              "  </thead>\n",
              "  <tbody>\n",
              "    <tr>\n",
              "      <th>count</th>\n",
              "      <td>270.000000</td>\n",
              "      <td>270.000000</td>\n",
              "      <td>270.000000</td>\n",
              "      <td>270.000000</td>\n",
              "      <td>270.000000</td>\n",
              "      <td>270.000000</td>\n",
              "    </tr>\n",
              "    <tr>\n",
              "      <th>mean</th>\n",
              "      <td>80.540741</td>\n",
              "      <td>80.540741</td>\n",
              "      <td>0.500030</td>\n",
              "      <td>699.548148</td>\n",
              "      <td>699.548148</td>\n",
              "      <td>2014.000000</td>\n",
              "    </tr>\n",
              "    <tr>\n",
              "      <th>std</th>\n",
              "      <td>11.379733</td>\n",
              "      <td>11.365678</td>\n",
              "      <td>0.070498</td>\n",
              "      <td>71.713051</td>\n",
              "      <td>79.669458</td>\n",
              "      <td>2.586784</td>\n",
              "    </tr>\n",
              "    <tr>\n",
              "      <th>min</th>\n",
              "      <td>47.000000</td>\n",
              "      <td>54.000000</td>\n",
              "      <td>0.290000</td>\n",
              "      <td>507.000000</td>\n",
              "      <td>513.000000</td>\n",
              "      <td>2010.000000</td>\n",
              "    </tr>\n",
              "    <tr>\n",
              "      <th>25%</th>\n",
              "      <td>72.000000</td>\n",
              "      <td>71.250000</td>\n",
              "      <td>0.444750</td>\n",
              "      <td>646.000000</td>\n",
              "      <td>644.250000</td>\n",
              "      <td>2012.000000</td>\n",
              "    </tr>\n",
              "    <tr>\n",
              "      <th>50%</th>\n",
              "      <td>80.000000</td>\n",
              "      <td>81.000000</td>\n",
              "      <td>0.498500</td>\n",
              "      <td>698.000000</td>\n",
              "      <td>693.500000</td>\n",
              "      <td>2014.000000</td>\n",
              "    </tr>\n",
              "    <tr>\n",
              "      <th>75%</th>\n",
              "      <td>90.000000</td>\n",
              "      <td>89.000000</td>\n",
              "      <td>0.556000</td>\n",
              "      <td>745.750000</td>\n",
              "      <td>753.500000</td>\n",
              "      <td>2016.000000</td>\n",
              "    </tr>\n",
              "    <tr>\n",
              "      <th>max</th>\n",
              "      <td>108.000000</td>\n",
              "      <td>115.000000</td>\n",
              "      <td>0.667000</td>\n",
              "      <td>896.000000</td>\n",
              "      <td>894.000000</td>\n",
              "      <td>2018.000000</td>\n",
              "    </tr>\n",
              "  </tbody>\n",
              "</table>\n",
              "</div>"
            ],
            "text/plain": [
              "                W           L        W-L%          RS          RA         Year\n",
              "count  270.000000  270.000000  270.000000  270.000000  270.000000   270.000000\n",
              "mean    80.540741   80.540741    0.500030  699.548148  699.548148  2014.000000\n",
              "std     11.379733   11.365678    0.070498   71.713051   79.669458     2.586784\n",
              "min     47.000000   54.000000    0.290000  507.000000  513.000000  2010.000000\n",
              "25%     72.000000   71.250000    0.444750  646.000000  644.250000  2012.000000\n",
              "50%     80.000000   81.000000    0.498500  698.000000  693.500000  2014.000000\n",
              "75%     90.000000   89.000000    0.556000  745.750000  753.500000  2016.000000\n",
              "max    108.000000  115.000000    0.667000  896.000000  894.000000  2018.000000"
            ]
          },
          "metadata": {
            "tags": []
          },
          "execution_count": 9
        }
      ]
    },
    {
      "cell_type": "markdown",
      "metadata": {
        "id": "6duZub8oMwWs",
        "colab_type": "text"
      },
      "source": [
        "## Step 3. Feature Engineer"
      ]
    },
    {
      "cell_type": "markdown",
      "metadata": {
        "id": "uNFRp96APfjS",
        "colab_type": "text"
      },
      "source": [
        "Add 4 columns:\n",
        "\n",
        "\n",
        "1.   **Score Ratio** $$ScoreRatio = RS / RA$$\n",
        "\n",
        "\n",
        "\n",
        "2.   **Predicted Win%** $$ PredWin = \\frac{ScoreRatio^2}{ScoreRatio^2 + 1} $$\n",
        "\n",
        "\n",
        "\n",
        "3.   **Error** $$Error = ActualWin\\% - PredWin $$\n",
        "\n",
        "\n",
        "\n",
        "4.   **Absolut Error** $$AbsolutError = |Error|$$\n",
        "\n",
        "\n",
        "\n",
        "\n",
        "**Round PredWin to 3 decimal places\n",
        "\n"
      ]
    },
    {
      "cell_type": "code",
      "metadata": {
        "id": "5SfiR9xdM0Qc",
        "colab_type": "code",
        "colab": {}
      },
      "source": [
        "# Add 4 new columns\n",
        "MLBdata['ScoreRatio'] = MLBdata['RS'] / MLBdata['RA']\n",
        "MLBdata['PredWin'] = round(MLBdata['ScoreRatio']**2 / (MLBdata['ScoreRatio']**2 + 1), 3)\n",
        "MLBdata['Error'] = MLBdata['W-L%'] - MLBdata['PredWin']\n",
        "MLBdata['AbsolutError'] = abs(MLBdata['Error'])\n"
      ],
      "execution_count": 0,
      "outputs": []
    },
    {
      "cell_type": "code",
      "metadata": {
        "id": "4NMk-JWtbUpA",
        "colab_type": "code",
        "outputId": "2c8d2510-d3f0-491b-ff98-2971ec113261",
        "colab": {
          "base_uri": "https://localhost:8080/",
          "height": 359
        }
      },
      "source": [
        "# view the top 10 rows\n",
        "MLBdata.head(10)"
      ],
      "execution_count": 0,
      "outputs": [
        {
          "output_type": "execute_result",
          "data": {
            "text/html": [
              "<div>\n",
              "<style scoped>\n",
              "    .dataframe tbody tr th:only-of-type {\n",
              "        vertical-align: middle;\n",
              "    }\n",
              "\n",
              "    .dataframe tbody tr th {\n",
              "        vertical-align: top;\n",
              "    }\n",
              "\n",
              "    .dataframe thead th {\n",
              "        text-align: right;\n",
              "    }\n",
              "</style>\n",
              "<table border=\"1\" class=\"dataframe\">\n",
              "  <thead>\n",
              "    <tr style=\"text-align: right;\">\n",
              "      <th></th>\n",
              "      <th>Tm</th>\n",
              "      <th>W</th>\n",
              "      <th>L</th>\n",
              "      <th>W-L%</th>\n",
              "      <th>GB</th>\n",
              "      <th>RS</th>\n",
              "      <th>RA</th>\n",
              "      <th>League</th>\n",
              "      <th>Year</th>\n",
              "      <th>ScoreRatio</th>\n",
              "      <th>PredWin</th>\n",
              "      <th>Error</th>\n",
              "      <th>AbsolutError</th>\n",
              "    </tr>\n",
              "  </thead>\n",
              "  <tbody>\n",
              "    <tr>\n",
              "      <th>0</th>\n",
              "      <td>PHI</td>\n",
              "      <td>96</td>\n",
              "      <td>64</td>\n",
              "      <td>0.600</td>\n",
              "      <td>--</td>\n",
              "      <td>758</td>\n",
              "      <td>632</td>\n",
              "      <td>NL</td>\n",
              "      <td>2010</td>\n",
              "      <td>1.199367</td>\n",
              "      <td>0.590</td>\n",
              "      <td>0.010</td>\n",
              "      <td>0.010</td>\n",
              "    </tr>\n",
              "    <tr>\n",
              "      <th>1</th>\n",
              "      <td>SFG</td>\n",
              "      <td>91</td>\n",
              "      <td>69</td>\n",
              "      <td>0.569</td>\n",
              "      <td>5.0</td>\n",
              "      <td>692</td>\n",
              "      <td>579</td>\n",
              "      <td>NL</td>\n",
              "      <td>2010</td>\n",
              "      <td>1.195164</td>\n",
              "      <td>0.588</td>\n",
              "      <td>-0.019</td>\n",
              "      <td>0.019</td>\n",
              "    </tr>\n",
              "    <tr>\n",
              "      <th>2</th>\n",
              "      <td>ATL</td>\n",
              "      <td>90</td>\n",
              "      <td>70</td>\n",
              "      <td>0.563</td>\n",
              "      <td>6.0</td>\n",
              "      <td>730</td>\n",
              "      <td>615</td>\n",
              "      <td>NL</td>\n",
              "      <td>2010</td>\n",
              "      <td>1.186992</td>\n",
              "      <td>0.585</td>\n",
              "      <td>-0.022</td>\n",
              "      <td>0.022</td>\n",
              "    </tr>\n",
              "    <tr>\n",
              "      <th>3</th>\n",
              "      <td>SDP</td>\n",
              "      <td>89</td>\n",
              "      <td>71</td>\n",
              "      <td>0.556</td>\n",
              "      <td>7.0</td>\n",
              "      <td>661</td>\n",
              "      <td>576</td>\n",
              "      <td>NL</td>\n",
              "      <td>2010</td>\n",
              "      <td>1.147569</td>\n",
              "      <td>0.568</td>\n",
              "      <td>-0.012</td>\n",
              "      <td>0.012</td>\n",
              "    </tr>\n",
              "    <tr>\n",
              "      <th>4</th>\n",
              "      <td>CIN</td>\n",
              "      <td>89</td>\n",
              "      <td>71</td>\n",
              "      <td>0.556</td>\n",
              "      <td>7.0</td>\n",
              "      <td>780</td>\n",
              "      <td>679</td>\n",
              "      <td>NL</td>\n",
              "      <td>2010</td>\n",
              "      <td>1.148748</td>\n",
              "      <td>0.569</td>\n",
              "      <td>-0.013</td>\n",
              "      <td>0.013</td>\n",
              "    </tr>\n",
              "    <tr>\n",
              "      <th>5</th>\n",
              "      <td>STL</td>\n",
              "      <td>84</td>\n",
              "      <td>76</td>\n",
              "      <td>0.525</td>\n",
              "      <td>12.0</td>\n",
              "      <td>729</td>\n",
              "      <td>640</td>\n",
              "      <td>NL</td>\n",
              "      <td>2010</td>\n",
              "      <td>1.139063</td>\n",
              "      <td>0.565</td>\n",
              "      <td>-0.040</td>\n",
              "      <td>0.040</td>\n",
              "    </tr>\n",
              "    <tr>\n",
              "      <th>6</th>\n",
              "      <td>COL</td>\n",
              "      <td>83</td>\n",
              "      <td>77</td>\n",
              "      <td>0.519</td>\n",
              "      <td>13.0</td>\n",
              "      <td>769</td>\n",
              "      <td>710</td>\n",
              "      <td>NL</td>\n",
              "      <td>2010</td>\n",
              "      <td>1.083099</td>\n",
              "      <td>0.540</td>\n",
              "      <td>-0.021</td>\n",
              "      <td>0.021</td>\n",
              "    </tr>\n",
              "    <tr>\n",
              "      <th>7</th>\n",
              "      <td>NYM</td>\n",
              "      <td>78</td>\n",
              "      <td>82</td>\n",
              "      <td>0.488</td>\n",
              "      <td>18.0</td>\n",
              "      <td>648</td>\n",
              "      <td>648</td>\n",
              "      <td>NL</td>\n",
              "      <td>2010</td>\n",
              "      <td>1.000000</td>\n",
              "      <td>0.500</td>\n",
              "      <td>-0.012</td>\n",
              "      <td>0.012</td>\n",
              "    </tr>\n",
              "    <tr>\n",
              "      <th>8</th>\n",
              "      <td>FLA</td>\n",
              "      <td>78</td>\n",
              "      <td>82</td>\n",
              "      <td>0.488</td>\n",
              "      <td>18.0</td>\n",
              "      <td>712</td>\n",
              "      <td>715</td>\n",
              "      <td>NL</td>\n",
              "      <td>2010</td>\n",
              "      <td>0.995804</td>\n",
              "      <td>0.498</td>\n",
              "      <td>-0.010</td>\n",
              "      <td>0.010</td>\n",
              "    </tr>\n",
              "    <tr>\n",
              "      <th>9</th>\n",
              "      <td>LAD</td>\n",
              "      <td>78</td>\n",
              "      <td>82</td>\n",
              "      <td>0.488</td>\n",
              "      <td>18.0</td>\n",
              "      <td>661</td>\n",
              "      <td>689</td>\n",
              "      <td>NL</td>\n",
              "      <td>2010</td>\n",
              "      <td>0.959361</td>\n",
              "      <td>0.479</td>\n",
              "      <td>0.009</td>\n",
              "      <td>0.009</td>\n",
              "    </tr>\n",
              "  </tbody>\n",
              "</table>\n",
              "</div>"
            ],
            "text/plain": [
              "    Tm   W   L   W-L%    GB  ...  Year  ScoreRatio PredWin  Error  AbsolutError\n",
              "0  PHI  96  64  0.600    --  ...  2010    1.199367   0.590  0.010         0.010\n",
              "1  SFG  91  69  0.569   5.0  ...  2010    1.195164   0.588 -0.019         0.019\n",
              "2  ATL  90  70  0.563   6.0  ...  2010    1.186992   0.585 -0.022         0.022\n",
              "3  SDP  89  71  0.556   7.0  ...  2010    1.147569   0.568 -0.012         0.012\n",
              "4  CIN  89  71  0.556   7.0  ...  2010    1.148748   0.569 -0.013         0.013\n",
              "5  STL  84  76  0.525  12.0  ...  2010    1.139063   0.565 -0.040         0.040\n",
              "6  COL  83  77  0.519  13.0  ...  2010    1.083099   0.540 -0.021         0.021\n",
              "7  NYM  78  82  0.488  18.0  ...  2010    1.000000   0.500 -0.012         0.012\n",
              "8  FLA  78  82  0.488  18.0  ...  2010    0.995804   0.498 -0.010         0.010\n",
              "9  LAD  78  82  0.488  18.0  ...  2010    0.959361   0.479  0.009         0.009\n",
              "\n",
              "[10 rows x 13 columns]"
            ]
          },
          "metadata": {
            "tags": []
          },
          "execution_count": 11
        }
      ]
    },
    {
      "cell_type": "markdown",
      "metadata": {
        "id": "eTCN_m4dPYRZ",
        "colab_type": "text"
      },
      "source": [
        "## Step 4. What is the Mean Absolute Deviation (MAD)?"
      ]
    },
    {
      "cell_type": "markdown",
      "metadata": {
        "id": "90bnHgRhb87c",
        "colab_type": "text"
      },
      "source": [
        "Calculate MAD. Round to 4 decimals\n",
        "\n",
        "$$MAD = AVG(AbsolutError)$$"
      ]
    },
    {
      "cell_type": "code",
      "metadata": {
        "id": "sFSgY7q9b7b-",
        "colab_type": "code",
        "outputId": "97d0026d-5625-4650-e67d-153246f0a38b",
        "colab": {
          "base_uri": "https://localhost:8080/",
          "height": 34
        }
      },
      "source": [
        "# calculate mad and round to 4 decimal places\n",
        "MAD = round(MLBdata['AbsolutError'].mean(), 4)\n",
        "\n",
        "print(\"Your predicted win percentages were off by {}% over the 9 season between {}-{}\".format(MAD*100, MLBdata['Year'].min(), MLBdata['Year'].max() ))"
      ],
      "execution_count": 0,
      "outputs": [
        {
          "output_type": "stream",
          "text": [
            "Your predicted win percentages were off by 2.03% over the 9 season between 2010-2018\n"
          ],
          "name": "stdout"
        }
      ]
    },
    {
      "cell_type": "markdown",
      "metadata": {
        "id": "eQAmpwIgdc7x",
        "colab_type": "text"
      },
      "source": [
        "## Step 5. Improve Predictions"
      ]
    },
    {
      "cell_type": "markdown",
      "metadata": {
        "id": "89AselvVdl_Y",
        "colab_type": "text"
      },
      "source": [
        "Use a for loop and cycle through different exponents to achieve a lower MAD\n",
        "\n",
        "This is a little more complicated so I left the code in... I will explain"
      ]
    },
    {
      "cell_type": "code",
      "metadata": {
        "id": "axTz3whSnvV2",
        "colab_type": "code",
        "outputId": "be548e0b-1dbf-482a-d4b6-6d8e45f66f54",
        "colab": {
          "base_uri": "https://localhost:8080/",
          "height": 697
        }
      },
      "source": [
        "# numbers to use\n",
        "import numpy as np\n",
        "expTrials = np.arange(1.00, 3.00, 0.05)\n",
        "\n",
        "results = pd.DataFrame(columns=('Exponent', 'MAD'))\n",
        "for exponent in expTrials:\n",
        "  temp = MLBdata\n",
        "  temp['PredWin'] = round(temp['ScoreRatio']**exponent / (temp['ScoreRatio']**exponent + 1), 3)\n",
        "  temp['Error'] = temp['W-L%'] - temp['PredWin']\n",
        "  temp['AbsolutError'] = abs(temp['Error'])\n",
        "  error = round(temp['AbsolutError'].mean()*100, 2)\n",
        "  \n",
        "  temp1 = [exponent, error]\n",
        "  temp1 = pd.DataFrame([[exponent, error]], columns=('Exponent', 'MAD'))\n",
        "  results = results.append(temp1, ignore_index = True)\n",
        "  print(\"Exponent = {}, MAD = {}%\".format(round(exponent,2), round(error, 2)))\n",
        "\n",
        "    \n"
      ],
      "execution_count": 0,
      "outputs": [
        {
          "output_type": "stream",
          "text": [
            "Exponent = 1.0, MAD = 3.0%\n",
            "Exponent = 1.05, MAD = 2.88%\n",
            "Exponent = 1.1, MAD = 2.77%\n",
            "Exponent = 1.15, MAD = 2.66%\n",
            "Exponent = 1.2, MAD = 2.55%\n",
            "Exponent = 1.25, MAD = 2.45%\n",
            "Exponent = 1.3, MAD = 2.35%\n",
            "Exponent = 1.35, MAD = 2.27%\n",
            "Exponent = 1.4, MAD = 2.18%\n",
            "Exponent = 1.45, MAD = 2.11%\n",
            "Exponent = 1.5, MAD = 2.05%\n",
            "Exponent = 1.55, MAD = 2.01%\n",
            "Exponent = 1.6, MAD = 1.97%\n",
            "Exponent = 1.65, MAD = 1.95%\n",
            "Exponent = 1.7, MAD = 1.93%\n",
            "Exponent = 1.75, MAD = 1.92%\n",
            "Exponent = 1.8, MAD = 1.93%\n",
            "Exponent = 1.85, MAD = 1.94%\n",
            "Exponent = 1.9, MAD = 1.96%\n",
            "Exponent = 1.95, MAD = 2.0%\n",
            "Exponent = 2.0, MAD = 2.03%\n",
            "Exponent = 2.05, MAD = 2.07%\n",
            "Exponent = 2.1, MAD = 2.12%\n",
            "Exponent = 2.15, MAD = 2.18%\n",
            "Exponent = 2.2, MAD = 2.25%\n",
            "Exponent = 2.25, MAD = 2.33%\n",
            "Exponent = 2.3, MAD = 2.41%\n",
            "Exponent = 2.35, MAD = 2.51%\n",
            "Exponent = 2.4, MAD = 2.61%\n",
            "Exponent = 2.45, MAD = 2.72%\n",
            "Exponent = 2.5, MAD = 2.83%\n",
            "Exponent = 2.55, MAD = 2.94%\n",
            "Exponent = 2.6, MAD = 3.06%\n",
            "Exponent = 2.65, MAD = 3.17%\n",
            "Exponent = 2.7, MAD = 3.29%\n",
            "Exponent = 2.75, MAD = 3.41%\n",
            "Exponent = 2.8, MAD = 3.54%\n",
            "Exponent = 2.85, MAD = 3.67%\n",
            "Exponent = 2.9, MAD = 3.79%\n",
            "Exponent = 2.95, MAD = 3.92%\n"
          ],
          "name": "stdout"
        }
      ]
    },
    {
      "cell_type": "markdown",
      "metadata": {
        "id": "Wc50v57W-ZaG",
        "colab_type": "text"
      },
      "source": [
        "## Step 6. Which Exponent should we use?"
      ]
    },
    {
      "cell_type": "code",
      "metadata": {
        "id": "_wi4J3HCiRwg",
        "colab_type": "code",
        "outputId": "0f14c26e-8648-48da-d9a9-ef137cfabd01",
        "colab": {
          "base_uri": "https://localhost:8080/",
          "height": 80
        }
      },
      "source": [
        "# Display the lowest MAD score and the associated Exponent\n",
        "results[results['MAD'] == results['MAD'].min()]"
      ],
      "execution_count": 0,
      "outputs": [
        {
          "output_type": "execute_result",
          "data": {
            "text/html": [
              "<div>\n",
              "<style scoped>\n",
              "    .dataframe tbody tr th:only-of-type {\n",
              "        vertical-align: middle;\n",
              "    }\n",
              "\n",
              "    .dataframe tbody tr th {\n",
              "        vertical-align: top;\n",
              "    }\n",
              "\n",
              "    .dataframe thead th {\n",
              "        text-align: right;\n",
              "    }\n",
              "</style>\n",
              "<table border=\"1\" class=\"dataframe\">\n",
              "  <thead>\n",
              "    <tr style=\"text-align: right;\">\n",
              "      <th></th>\n",
              "      <th>Exponent</th>\n",
              "      <th>MAD</th>\n",
              "    </tr>\n",
              "  </thead>\n",
              "  <tbody>\n",
              "    <tr>\n",
              "      <th>15</th>\n",
              "      <td>1.75</td>\n",
              "      <td>1.92</td>\n",
              "    </tr>\n",
              "  </tbody>\n",
              "</table>\n",
              "</div>"
            ],
            "text/plain": [
              "    Exponent   MAD\n",
              "15      1.75  1.92"
            ]
          },
          "metadata": {
            "tags": []
          },
          "execution_count": 14
        }
      ]
    },
    {
      "cell_type": "markdown",
      "metadata": {
        "id": "9yk3bsR0-oaw",
        "colab_type": "text"
      },
      "source": [
        "## Step 7. Visualize Results"
      ]
    },
    {
      "cell_type": "markdown",
      "metadata": {
        "id": "laEfPeW6Se4r",
        "colab_type": "text"
      },
      "source": [
        "Plot the results of the loop equation we ran.\n",
        "\n",
        "---\n",
        "\n",
        "X axis = Exponent\n",
        "\n",
        "Y axis = MAD\n",
        "\n",
        "Add a horizontal dashed red line at the minimum MAD point\n",
        "\n",
        "Add a vertical dashed red line at the minimum point\n"
      ]
    },
    {
      "cell_type": "code",
      "metadata": {
        "id": "cegonAwM_MA2",
        "colab_type": "code",
        "outputId": "2a585a62-1b62-49b9-ae02-a0ce557653d2",
        "colab": {
          "base_uri": "https://localhost:8080/",
          "height": 675
        }
      },
      "source": [
        "import matplotlib.pyplot as plt\n",
        "plt.style.use('fivethirtyeight')\n",
        "plt.figure(figsize=(20,10))\n",
        "\n",
        "# x and y values\n",
        "x = results['Exponent']\n",
        "y = results['MAD']\n",
        "\n",
        "plt.plot(x, y, label=\"MAD\")\n",
        "plt.xlim(1, 3)\n",
        "plt.ylim(1.5, 4)\n",
        "plt.axvline(x=1.75,linewidth=2, color='r', linestyle = '--')\n",
        "plt.axhline(y=1.92,linewidth=2, color='r', linestyle = '--')\n",
        "\n",
        "\n",
        "plt.plot()\n",
        "\n",
        "plt.xlabel(\"Exponent\")\n",
        "plt.ylabel(\"Mean Absolute Deviation\")\n",
        "plt.title(\"MLB Pythagorean Optimizer\")\n",
        "plt.legend()\n",
        "plt.show()"
      ],
      "execution_count": 0,
      "outputs": [
        {
          "output_type": "display_data",
          "data": {
            "image/png": "[encoded data removed]",
            "text/plain": [
              "<Figure size 1440x720 with 1 Axes>"
            ]
          },
          "metadata": {
            "tags": []
          }
        }
      ]
    },
    {
      "cell_type": "markdown",
      "metadata": {
        "id": "jPF7oXnWDwdO",
        "colab_type": "text"
      },
      "source": [
        "## Step 8: Predict 2019 Final Win%"
      ]
    },
    {
      "cell_type": "markdown",
      "metadata": {
        "id": "Is6mkTddNS2n",
        "colab_type": "text"
      },
      "source": [
        "The web address for the csv file is = https://raw.githubusercontent.com/papagorgio23/Python101/master/teams2019.csv\n",
        "\n",
        "<br>\n",
        "\n",
        "In the cell below\n",
        "\n",
        "1. Read in the csv file\n",
        "2. Name the dataframe \"MLB2019\""
      ]
    },
    {
      "cell_type": "markdown",
      "metadata": {
        "id": "7ec62mm_Ql80",
        "colab_type": "text"
      },
      "source": [
        "### Load New Data"
      ]
    },
    {
      "cell_type": "code",
      "metadata": {
        "id": "2sC57Yb4gM5B",
        "colab_type": "code",
        "colab": {}
      },
      "source": [
        "# read data\n",
        "MLB2019 = pd.read_csv('https://raw.githubusercontent.com/papagorgio23/Python101/master/teams2019.csv')"
      ],
      "execution_count": 0,
      "outputs": []
    },
    {
      "cell_type": "markdown",
      "metadata": {
        "id": "VWwjW_c8QpsS",
        "colab_type": "text"
      },
      "source": [
        "### Feature Engineer"
      ]
    },
    {
      "cell_type": "markdown",
      "metadata": {
        "id": "U_Rb0WdYNuIH",
        "colab_type": "text"
      },
      "source": [
        "Add 4 features\n",
        "\n",
        "1. Score Ratio\n",
        "2. PredWin\n",
        "3. Predicted Win Total        $(Predicted Win\\% *162)$\n",
        "4. Predicted Loss Total       $((1-Predicted Win\\%) *162)$\n",
        "\n",
        "Or Predicted Loss Total = 162 - Predicted Win Total \n",
        "\n",
        "Because they are games make sure to round to the nearest whole number.\n"
      ]
    },
    {
      "cell_type": "code",
      "metadata": {
        "id": "xGJHs0cbISAo",
        "colab_type": "code",
        "colab": {}
      },
      "source": [
        "# Add 4 new columns\n",
        "MLB2019['ScoreRatio'] = MLB2019['RS'] / MLB2019['RA']\n",
        "MLB2019['PredWin'] = round(MLB2019['ScoreRatio']**1.75 / (MLB2019['ScoreRatio']**1.75 + 1), 3)\n",
        "MLB2019['PredWinTotal'] = round(MLB2019['PredWin']*162, 0)\n",
        "MLB2019['PredLossTotal'] = 162-MLB2019['PredWinTotal']"
      ],
      "execution_count": 0,
      "outputs": []
    },
    {
      "cell_type": "markdown",
      "metadata": {
        "id": "NiaFtAfzQs8F",
        "colab_type": "text"
      },
      "source": [
        "### View Results"
      ]
    },
    {
      "cell_type": "markdown",
      "metadata": {
        "id": "gX-qwXkeQu2d",
        "colab_type": "text"
      },
      "source": [
        "Sort by PredWinTotal in descending order"
      ]
    },
    {
      "cell_type": "code",
      "metadata": {
        "id": "pMhN0cfNft4Z",
        "colab_type": "code",
        "outputId": "108c47cc-6541-41e6-e4a4-84afe9430659",
        "colab": {
          "base_uri": "https://localhost:8080/",
          "height": 979
        }
      },
      "source": [
        "# sort and view data\n",
        "MLB2019.sort_values(['PredWinTotal'], ascending=False)"
      ],
      "execution_count": 0,
      "outputs": [
        {
          "output_type": "execute_result",
          "data": {
            "text/html": [
              "<div>\n",
              "<style scoped>\n",
              "    .dataframe tbody tr th:only-of-type {\n",
              "        vertical-align: middle;\n",
              "    }\n",
              "\n",
              "    .dataframe tbody tr th {\n",
              "        vertical-align: top;\n",
              "    }\n",
              "\n",
              "    .dataframe thead th {\n",
              "        text-align: right;\n",
              "    }\n",
              "</style>\n",
              "<table border=\"1\" class=\"dataframe\">\n",
              "  <thead>\n",
              "    <tr style=\"text-align: right;\">\n",
              "      <th></th>\n",
              "      <th>Tm</th>\n",
              "      <th>W</th>\n",
              "      <th>L</th>\n",
              "      <th>W-L%</th>\n",
              "      <th>GB</th>\n",
              "      <th>RS</th>\n",
              "      <th>RA</th>\n",
              "      <th>League</th>\n",
              "      <th>Year</th>\n",
              "      <th>ScoreRatio</th>\n",
              "      <th>PredWin</th>\n",
              "      <th>PredWinTotal</th>\n",
              "      <th>PredLossTotal</th>\n",
              "    </tr>\n",
              "  </thead>\n",
              "  <tbody>\n",
              "    <tr>\n",
              "      <th>17</th>\n",
              "      <td>HOU</td>\n",
              "      <td>33</td>\n",
              "      <td>18</td>\n",
              "      <td>0.647</td>\n",
              "      <td>1.0</td>\n",
              "      <td>270</td>\n",
              "      <td>180</td>\n",
              "      <td>AL</td>\n",
              "      <td>2019</td>\n",
              "      <td>1.500000</td>\n",
              "      <td>0.670</td>\n",
              "      <td>109.0</td>\n",
              "      <td>53.0</td>\n",
              "    </tr>\n",
              "    <tr>\n",
              "      <th>15</th>\n",
              "      <td>MIN</td>\n",
              "      <td>33</td>\n",
              "      <td>16</td>\n",
              "      <td>0.673</td>\n",
              "      <td>--</td>\n",
              "      <td>289</td>\n",
              "      <td>199</td>\n",
              "      <td>AL</td>\n",
              "      <td>2019</td>\n",
              "      <td>1.452261</td>\n",
              "      <td>0.658</td>\n",
              "      <td>107.0</td>\n",
              "      <td>55.0</td>\n",
              "    </tr>\n",
              "    <tr>\n",
              "      <th>18</th>\n",
              "      <td>TBR</td>\n",
              "      <td>29</td>\n",
              "      <td>18</td>\n",
              "      <td>0.617</td>\n",
              "      <td>3.0</td>\n",
              "      <td>213</td>\n",
              "      <td>151</td>\n",
              "      <td>AL</td>\n",
              "      <td>2019</td>\n",
              "      <td>1.410596</td>\n",
              "      <td>0.646</td>\n",
              "      <td>105.0</td>\n",
              "      <td>57.0</td>\n",
              "    </tr>\n",
              "    <tr>\n",
              "      <th>1</th>\n",
              "      <td>CHC</td>\n",
              "      <td>29</td>\n",
              "      <td>19</td>\n",
              "      <td>0.604</td>\n",
              "      <td>2.0</td>\n",
              "      <td>260</td>\n",
              "      <td>199</td>\n",
              "      <td>NL</td>\n",
              "      <td>2019</td>\n",
              "      <td>1.306533</td>\n",
              "      <td>0.615</td>\n",
              "      <td>100.0</td>\n",
              "      <td>62.0</td>\n",
              "    </tr>\n",
              "    <tr>\n",
              "      <th>16</th>\n",
              "      <td>NYY</td>\n",
              "      <td>32</td>\n",
              "      <td>17</td>\n",
              "      <td>0.653</td>\n",
              "      <td>1.0</td>\n",
              "      <td>260</td>\n",
              "      <td>199</td>\n",
              "      <td>AL</td>\n",
              "      <td>2019</td>\n",
              "      <td>1.306533</td>\n",
              "      <td>0.615</td>\n",
              "      <td>100.0</td>\n",
              "      <td>62.0</td>\n",
              "    </tr>\n",
              "    <tr>\n",
              "      <th>0</th>\n",
              "      <td>LAD</td>\n",
              "      <td>32</td>\n",
              "      <td>18</td>\n",
              "      <td>0.640</td>\n",
              "      <td>--</td>\n",
              "      <td>257</td>\n",
              "      <td>195</td>\n",
              "      <td>NL</td>\n",
              "      <td>2019</td>\n",
              "      <td>1.317949</td>\n",
              "      <td>0.618</td>\n",
              "      <td>100.0</td>\n",
              "      <td>62.0</td>\n",
              "    </tr>\n",
              "    <tr>\n",
              "      <th>19</th>\n",
              "      <td>BOS</td>\n",
              "      <td>27</td>\n",
              "      <td>23</td>\n",
              "      <td>0.540</td>\n",
              "      <td>6.5</td>\n",
              "      <td>267</td>\n",
              "      <td>235</td>\n",
              "      <td>AL</td>\n",
              "      <td>2019</td>\n",
              "      <td>1.136170</td>\n",
              "      <td>0.556</td>\n",
              "      <td>90.0</td>\n",
              "      <td>72.0</td>\n",
              "    </tr>\n",
              "    <tr>\n",
              "      <th>11</th>\n",
              "      <td>CIN</td>\n",
              "      <td>22</td>\n",
              "      <td>27</td>\n",
              "      <td>0.449</td>\n",
              "      <td>9.5</td>\n",
              "      <td>201</td>\n",
              "      <td>176</td>\n",
              "      <td>NL</td>\n",
              "      <td>2019</td>\n",
              "      <td>1.142045</td>\n",
              "      <td>0.558</td>\n",
              "      <td>90.0</td>\n",
              "      <td>72.0</td>\n",
              "    </tr>\n",
              "    <tr>\n",
              "      <th>2</th>\n",
              "      <td>PHI</td>\n",
              "      <td>29</td>\n",
              "      <td>21</td>\n",
              "      <td>0.580</td>\n",
              "      <td>3.0</td>\n",
              "      <td>249</td>\n",
              "      <td>221</td>\n",
              "      <td>NL</td>\n",
              "      <td>2019</td>\n",
              "      <td>1.126697</td>\n",
              "      <td>0.552</td>\n",
              "      <td>89.0</td>\n",
              "      <td>73.0</td>\n",
              "    </tr>\n",
              "    <tr>\n",
              "      <th>8</th>\n",
              "      <td>ARI</td>\n",
              "      <td>25</td>\n",
              "      <td>25</td>\n",
              "      <td>0.500</td>\n",
              "      <td>7.0</td>\n",
              "      <td>246</td>\n",
              "      <td>223</td>\n",
              "      <td>NL</td>\n",
              "      <td>2019</td>\n",
              "      <td>1.103139</td>\n",
              "      <td>0.543</td>\n",
              "      <td>88.0</td>\n",
              "      <td>74.0</td>\n",
              "    </tr>\n",
              "    <tr>\n",
              "      <th>22</th>\n",
              "      <td>OAK</td>\n",
              "      <td>25</td>\n",
              "      <td>25</td>\n",
              "      <td>0.500</td>\n",
              "      <td>8.5</td>\n",
              "      <td>245</td>\n",
              "      <td>221</td>\n",
              "      <td>AL</td>\n",
              "      <td>2019</td>\n",
              "      <td>1.108597</td>\n",
              "      <td>0.545</td>\n",
              "      <td>88.0</td>\n",
              "      <td>74.0</td>\n",
              "    </tr>\n",
              "    <tr>\n",
              "      <th>7</th>\n",
              "      <td>STL</td>\n",
              "      <td>25</td>\n",
              "      <td>24</td>\n",
              "      <td>0.510</td>\n",
              "      <td>6.5</td>\n",
              "      <td>249</td>\n",
              "      <td>228</td>\n",
              "      <td>NL</td>\n",
              "      <td>2019</td>\n",
              "      <td>1.092105</td>\n",
              "      <td>0.538</td>\n",
              "      <td>87.0</td>\n",
              "      <td>75.0</td>\n",
              "    </tr>\n",
              "    <tr>\n",
              "      <th>4</th>\n",
              "      <td>ATL</td>\n",
              "      <td>28</td>\n",
              "      <td>23</td>\n",
              "      <td>0.549</td>\n",
              "      <td>4.5</td>\n",
              "      <td>252</td>\n",
              "      <td>236</td>\n",
              "      <td>NL</td>\n",
              "      <td>2019</td>\n",
              "      <td>1.067797</td>\n",
              "      <td>0.529</td>\n",
              "      <td>86.0</td>\n",
              "      <td>76.0</td>\n",
              "    </tr>\n",
              "    <tr>\n",
              "      <th>20</th>\n",
              "      <td>TEX</td>\n",
              "      <td>24</td>\n",
              "      <td>23</td>\n",
              "      <td>0.511</td>\n",
              "      <td>8.0</td>\n",
              "      <td>271</td>\n",
              "      <td>257</td>\n",
              "      <td>AL</td>\n",
              "      <td>2019</td>\n",
              "      <td>1.054475</td>\n",
              "      <td>0.523</td>\n",
              "      <td>85.0</td>\n",
              "      <td>77.0</td>\n",
              "    </tr>\n",
              "    <tr>\n",
              "      <th>3</th>\n",
              "      <td>MIL</td>\n",
              "      <td>29</td>\n",
              "      <td>22</td>\n",
              "      <td>0.569</td>\n",
              "      <td>3.5</td>\n",
              "      <td>250</td>\n",
              "      <td>237</td>\n",
              "      <td>NL</td>\n",
              "      <td>2019</td>\n",
              "      <td>1.054852</td>\n",
              "      <td>0.523</td>\n",
              "      <td>85.0</td>\n",
              "      <td>77.0</td>\n",
              "    </tr>\n",
              "    <tr>\n",
              "      <th>21</th>\n",
              "      <td>CLE</td>\n",
              "      <td>25</td>\n",
              "      <td>24</td>\n",
              "      <td>0.510</td>\n",
              "      <td>8.0</td>\n",
              "      <td>190</td>\n",
              "      <td>191</td>\n",
              "      <td>AL</td>\n",
              "      <td>2019</td>\n",
              "      <td>0.994764</td>\n",
              "      <td>0.498</td>\n",
              "      <td>81.0</td>\n",
              "      <td>81.0</td>\n",
              "    </tr>\n",
              "    <tr>\n",
              "      <th>10</th>\n",
              "      <td>COL</td>\n",
              "      <td>22</td>\n",
              "      <td>26</td>\n",
              "      <td>0.458</td>\n",
              "      <td>9.0</td>\n",
              "      <td>247</td>\n",
              "      <td>253</td>\n",
              "      <td>NL</td>\n",
              "      <td>2019</td>\n",
              "      <td>0.976285</td>\n",
              "      <td>0.490</td>\n",
              "      <td>79.0</td>\n",
              "      <td>83.0</td>\n",
              "    </tr>\n",
              "    <tr>\n",
              "      <th>9</th>\n",
              "      <td>NYM</td>\n",
              "      <td>24</td>\n",
              "      <td>25</td>\n",
              "      <td>0.490</td>\n",
              "      <td>7.5</td>\n",
              "      <td>222</td>\n",
              "      <td>235</td>\n",
              "      <td>NL</td>\n",
              "      <td>2019</td>\n",
              "      <td>0.944681</td>\n",
              "      <td>0.475</td>\n",
              "      <td>77.0</td>\n",
              "      <td>85.0</td>\n",
              "    </tr>\n",
              "    <tr>\n",
              "      <th>24</th>\n",
              "      <td>LAA</td>\n",
              "      <td>22</td>\n",
              "      <td>27</td>\n",
              "      <td>0.449</td>\n",
              "      <td>11.0</td>\n",
              "      <td>233</td>\n",
              "      <td>249</td>\n",
              "      <td>AL</td>\n",
              "      <td>2019</td>\n",
              "      <td>0.935743</td>\n",
              "      <td>0.471</td>\n",
              "      <td>76.0</td>\n",
              "      <td>86.0</td>\n",
              "    </tr>\n",
              "    <tr>\n",
              "      <th>6</th>\n",
              "      <td>SDP</td>\n",
              "      <td>26</td>\n",
              "      <td>24</td>\n",
              "      <td>0.520</td>\n",
              "      <td>6.0</td>\n",
              "      <td>188</td>\n",
              "      <td>207</td>\n",
              "      <td>NL</td>\n",
              "      <td>2019</td>\n",
              "      <td>0.908213</td>\n",
              "      <td>0.458</td>\n",
              "      <td>74.0</td>\n",
              "      <td>88.0</td>\n",
              "    </tr>\n",
              "    <tr>\n",
              "      <th>25</th>\n",
              "      <td>SEA</td>\n",
              "      <td>23</td>\n",
              "      <td>29</td>\n",
              "      <td>0.442</td>\n",
              "      <td>11.5</td>\n",
              "      <td>271</td>\n",
              "      <td>309</td>\n",
              "      <td>AL</td>\n",
              "      <td>2019</td>\n",
              "      <td>0.877023</td>\n",
              "      <td>0.443</td>\n",
              "      <td>72.0</td>\n",
              "      <td>90.0</td>\n",
              "    </tr>\n",
              "    <tr>\n",
              "      <th>23</th>\n",
              "      <td>CHW</td>\n",
              "      <td>23</td>\n",
              "      <td>26</td>\n",
              "      <td>0.469</td>\n",
              "      <td>10.0</td>\n",
              "      <td>213</td>\n",
              "      <td>248</td>\n",
              "      <td>AL</td>\n",
              "      <td>2019</td>\n",
              "      <td>0.858871</td>\n",
              "      <td>0.434</td>\n",
              "      <td>70.0</td>\n",
              "      <td>92.0</td>\n",
              "    </tr>\n",
              "    <tr>\n",
              "      <th>28</th>\n",
              "      <td>KCR</td>\n",
              "      <td>17</td>\n",
              "      <td>32</td>\n",
              "      <td>0.347</td>\n",
              "      <td>16.0</td>\n",
              "      <td>220</td>\n",
              "      <td>257</td>\n",
              "      <td>AL</td>\n",
              "      <td>2019</td>\n",
              "      <td>0.856031</td>\n",
              "      <td>0.432</td>\n",
              "      <td>70.0</td>\n",
              "      <td>92.0</td>\n",
              "    </tr>\n",
              "    <tr>\n",
              "      <th>13</th>\n",
              "      <td>WSN</td>\n",
              "      <td>19</td>\n",
              "      <td>31</td>\n",
              "      <td>0.380</td>\n",
              "      <td>13.0</td>\n",
              "      <td>219</td>\n",
              "      <td>259</td>\n",
              "      <td>NL</td>\n",
              "      <td>2019</td>\n",
              "      <td>0.845560</td>\n",
              "      <td>0.427</td>\n",
              "      <td>69.0</td>\n",
              "      <td>93.0</td>\n",
              "    </tr>\n",
              "    <tr>\n",
              "      <th>26</th>\n",
              "      <td>TOR</td>\n",
              "      <td>20</td>\n",
              "      <td>30</td>\n",
              "      <td>0.400</td>\n",
              "      <td>13.5</td>\n",
              "      <td>188</td>\n",
              "      <td>223</td>\n",
              "      <td>AL</td>\n",
              "      <td>2019</td>\n",
              "      <td>0.843049</td>\n",
              "      <td>0.426</td>\n",
              "      <td>69.0</td>\n",
              "      <td>93.0</td>\n",
              "    </tr>\n",
              "    <tr>\n",
              "      <th>5</th>\n",
              "      <td>PIT</td>\n",
              "      <td>25</td>\n",
              "      <td>22</td>\n",
              "      <td>0.532</td>\n",
              "      <td>5.5</td>\n",
              "      <td>186</td>\n",
              "      <td>228</td>\n",
              "      <td>NL</td>\n",
              "      <td>2019</td>\n",
              "      <td>0.815789</td>\n",
              "      <td>0.412</td>\n",
              "      <td>67.0</td>\n",
              "      <td>95.0</td>\n",
              "    </tr>\n",
              "    <tr>\n",
              "      <th>12</th>\n",
              "      <td>SFG</td>\n",
              "      <td>21</td>\n",
              "      <td>28</td>\n",
              "      <td>0.429</td>\n",
              "      <td>10.5</td>\n",
              "      <td>186</td>\n",
              "      <td>238</td>\n",
              "      <td>NL</td>\n",
              "      <td>2019</td>\n",
              "      <td>0.781513</td>\n",
              "      <td>0.394</td>\n",
              "      <td>64.0</td>\n",
              "      <td>98.0</td>\n",
              "    </tr>\n",
              "    <tr>\n",
              "      <th>29</th>\n",
              "      <td>BAL</td>\n",
              "      <td>15</td>\n",
              "      <td>35</td>\n",
              "      <td>0.300</td>\n",
              "      <td>18.5</td>\n",
              "      <td>197</td>\n",
              "      <td>305</td>\n",
              "      <td>AL</td>\n",
              "      <td>2019</td>\n",
              "      <td>0.645902</td>\n",
              "      <td>0.318</td>\n",
              "      <td>52.0</td>\n",
              "      <td>110.0</td>\n",
              "    </tr>\n",
              "    <tr>\n",
              "      <th>14</th>\n",
              "      <td>MIA</td>\n",
              "      <td>16</td>\n",
              "      <td>31</td>\n",
              "      <td>0.340</td>\n",
              "      <td>14.5</td>\n",
              "      <td>134</td>\n",
              "      <td>216</td>\n",
              "      <td>NL</td>\n",
              "      <td>2019</td>\n",
              "      <td>0.620370</td>\n",
              "      <td>0.302</td>\n",
              "      <td>49.0</td>\n",
              "      <td>113.0</td>\n",
              "    </tr>\n",
              "    <tr>\n",
              "      <th>27</th>\n",
              "      <td>DET</td>\n",
              "      <td>18</td>\n",
              "      <td>29</td>\n",
              "      <td>0.383</td>\n",
              "      <td>14.0</td>\n",
              "      <td>158</td>\n",
              "      <td>256</td>\n",
              "      <td>AL</td>\n",
              "      <td>2019</td>\n",
              "      <td>0.617188</td>\n",
              "      <td>0.301</td>\n",
              "      <td>49.0</td>\n",
              "      <td>113.0</td>\n",
              "    </tr>\n",
              "  </tbody>\n",
              "</table>\n",
              "</div>"
            ],
            "text/plain": [
              "     Tm   W   L   W-L%  ... ScoreRatio  PredWin  PredWinTotal PredLossTotal\n",
              "17  HOU  33  18  0.647  ...   1.500000    0.670         109.0          53.0\n",
              "15  MIN  33  16  0.673  ...   1.452261    0.658         107.0          55.0\n",
              "18  TBR  29  18  0.617  ...   1.410596    0.646         105.0          57.0\n",
              "1   CHC  29  19  0.604  ...   1.306533    0.615         100.0          62.0\n",
              "16  NYY  32  17  0.653  ...   1.306533    0.615         100.0          62.0\n",
              "0   LAD  32  18  0.640  ...   1.317949    0.618         100.0          62.0\n",
              "19  BOS  27  23  0.540  ...   1.136170    0.556          90.0          72.0\n",
              "11  CIN  22  27  0.449  ...   1.142045    0.558          90.0          72.0\n",
              "2   PHI  29  21  0.580  ...   1.126697    0.552          89.0          73.0\n",
              "8   ARI  25  25  0.500  ...   1.103139    0.543          88.0          74.0\n",
              "22  OAK  25  25  0.500  ...   1.108597    0.545          88.0          74.0\n",
              "7   STL  25  24  0.510  ...   1.092105    0.538          87.0          75.0\n",
              "4   ATL  28  23  0.549  ...   1.067797    0.529          86.0          76.0\n",
              "20  TEX  24  23  0.511  ...   1.054475    0.523          85.0          77.0\n",
              "3   MIL  29  22  0.569  ...   1.054852    0.523          85.0          77.0\n",
              "21  CLE  25  24  0.510  ...   0.994764    0.498          81.0          81.0\n",
              "10  COL  22  26  0.458  ...   0.976285    0.490          79.0          83.0\n",
              "9   NYM  24  25  0.490  ...   0.944681    0.475          77.0          85.0\n",
              "24  LAA  22  27  0.449  ...   0.935743    0.471          76.0          86.0\n",
              "6   SDP  26  24  0.520  ...   0.908213    0.458          74.0          88.0\n",
              "25  SEA  23  29  0.442  ...   0.877023    0.443          72.0          90.0\n",
              "23  CHW  23  26  0.469  ...   0.858871    0.434          70.0          92.0\n",
              "28  KCR  17  32  0.347  ...   0.856031    0.432          70.0          92.0\n",
              "13  WSN  19  31  0.380  ...   0.845560    0.427          69.0          93.0\n",
              "26  TOR  20  30  0.400  ...   0.843049    0.426          69.0          93.0\n",
              "5   PIT  25  22  0.532  ...   0.815789    0.412          67.0          95.0\n",
              "12  SFG  21  28  0.429  ...   0.781513    0.394          64.0          98.0\n",
              "29  BAL  15  35  0.300  ...   0.645902    0.318          52.0         110.0\n",
              "14  MIA  16  31  0.340  ...   0.620370    0.302          49.0         113.0\n",
              "27  DET  18  29  0.383  ...   0.617188    0.301          49.0         113.0\n",
              "\n",
              "[30 rows x 13 columns]"
            ]
          },
          "metadata": {
            "tags": []
          },
          "execution_count": 23
        }
      ]
    },
    {
      "cell_type": "markdown",
      "metadata": {
        "id": "cvHopDc1PnC9",
        "colab_type": "text"
      },
      "source": [
        "## Finish"
      ]
    },
    {
      "cell_type": "markdown",
      "metadata": {
        "id": "NRaiTLxaPpZn",
        "colab_type": "text"
      },
      "source": [
        "Run the next cell to get your time!"
      ]
    },
    {
      "cell_type": "code",
      "metadata": {
        "id": "7gPR3KTafvGh",
        "colab_type": "code",
        "outputId": "cb7824ec-0555-453d-e472-9c3ab47eb2c6",
        "colab": {
          "base_uri": "https://localhost:8080/",
          "height": 34
        }
      },
      "source": [
        "# Timer\n",
        "end = datetime.now()\n",
        "\n",
        "print(\"It took you {} to complete this project! Very nice work!\".format(end - start))"
      ],
      "execution_count": 0,
      "outputs": [
        {
          "output_type": "stream",
          "text": [
            "It took you 0:09:45.377934 to complete this project! Very nice work!\n"
          ],
          "name": "stdout"
        }
      ]
    },
    {
      "cell_type": "markdown",
      "metadata": {
        "id": "5PNiUCfyMun_",
        "colab_type": "text"
      },
      "source": [
        "# Extra Credit (Take home assignment)"
      ]
    },
    {
      "cell_type": "markdown",
      "metadata": {
        "id": "Zwsj3kTFMxvf",
        "colab_type": "text"
      },
      "source": [
        "Determine how your favorite team has performed each year compared to their predicted win percentage.\n",
        "\n",
        "Provide Visuals and descriptive summaries/statistics.\n",
        "\n",
        "Feel free to bring in more data to help explain why they over or under performed.\n"
      ]
    },
    {
      "cell_type": "code",
      "metadata": {
        "id": "So9f2GZRMxOP",
        "colab_type": "code",
        "colab": {}
      },
      "source": [
        ""
      ],
      "execution_count": 0,
      "outputs": []
    },
    {
      "cell_type": "code",
      "metadata": {
        "id": "9j--z9IrQ92m",
        "colab_type": "code",
        "colab": {}
      },
      "source": [
        ""
      ],
      "execution_count": 0,
      "outputs": []
    },
    {
      "cell_type": "code",
      "metadata": {
        "id": "qvd09VGMQ960",
        "colab_type": "code",
        "colab": {}
      },
      "source": [
        ""
      ],
      "execution_count": 0,
      "outputs": []
    },
    {
      "cell_type": "code",
      "metadata": {
        "id": "u-twoYgFQ99z",
        "colab_type": "code",
        "colab": {}
      },
      "source": [
        ""
      ],
      "execution_count": 0,
      "outputs": []
    },
    {
      "cell_type": "code",
      "metadata": {
        "id": "RcYoxZtGQ-BF",
        "colab_type": "code",
        "colab": {}
      },
      "source": [
        ""
      ],
      "execution_count": 0,
      "outputs": []
    },
    {
      "cell_type": "code",
      "metadata": {
        "id": "deYpYx8QQ-JM",
        "colab_type": "code",
        "colab": {}
      },
      "source": [
        ""
      ],
      "execution_count": 0,
      "outputs": []
    }
  ]
}