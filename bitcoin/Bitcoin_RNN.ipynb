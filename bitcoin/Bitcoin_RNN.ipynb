{
  "nbformat": 4,
  "nbformat_minor": 0,
  "metadata": {
    "colab": {
      "name": "Penn_DS.ipynb",
      "provenance": [],
      "collapsed_sections": [],
      "authorship_tag": "ABX9TyNwG1Moe6HkJTAy/lCcG0bI",
      "include_colab_link": true
    },
    "kernelspec": {
      "name": "python3",
      "display_name": "Python 3"
    },
    "language_info": {
      "name": "python"
    }
  },
  "cells": [
    {
      "cell_type": "markdown",
      "metadata": {
        "id": "view-in-github",
        "colab_type": "text"
      },
      "source": [
        "<a href=\"https://colab.research.google.com/github/papagorgio23/Python101/blob/master/bitcoin/Bitcoin_RNN.ipynb\" target=\"_parent\"><img src=\"https://colab.research.google.com/assets/colab-badge.svg\" alt=\"Open In Colab\"/></a>"
      ]
    },
    {
      "cell_type": "markdown",
      "metadata": {
        "id": "H8v6ZF5ZykQ6"
      },
      "source": [
        "## Load Libraries"
      ]
    },
    {
      "cell_type": "code",
      "metadata": {
        "id": "UyoEyberxdsc"
      },
      "source": [
        "import matplotlib.pyplot as plt\n",
        "from time import time\n",
        "\n",
        "import numpy as np\n",
        "import pandas as pd\n",
        "from sklearn.preprocessing import MinMaxScaler\n",
        "\n",
        "from keras.models import Sequential\n",
        "from keras.layers import Dropout, Activation, Dense\n",
        "from keras.layers.recurrent import LSTM\n",
        "from keras.optimizers import Adam"
      ],
      "execution_count": null,
      "outputs": []
    },
    {
      "cell_type": "markdown",
      "metadata": {
        "id": "kV41UCLsyiqY"
      },
      "source": [
        "## Functions"
      ]
    },
    {
      "cell_type": "code",
      "metadata": {
        "id": "vVmGqu40ygOd"
      },
      "source": [
        "\n",
        "def prep_data(dataset):\n",
        "    dataset = dataset[\"price_high\"].values.astype(\"float32\")\n",
        "    dataset = dataset.reshape(-1, 1)\n",
        "    scaler = MinMaxScaler(feature_range=(0, 1))\n",
        "    dataset = scaler.fit_transform(dataset)\n",
        "    return dataset, scaler\n",
        "\n",
        "\n",
        "def create_dataset(dataset, look_back=60):\n",
        "    dataX, dataY = [], []\n",
        "    for i in range(len(dataset) - look_back - 1):\n",
        "        a = dataset[i : (i + look_back), 0]\n",
        "        dataX.append(a)\n",
        "        dataY.append(dataset[i + look_back, 0])\n",
        "    dataX = np.array(dataX)\n",
        "    dataY = np.array(dataY)\n",
        "    dataX = np.reshape(dataX, (dataX.shape[0], 1, dataX.shape[1]))\n",
        "\n",
        "    return dataX, dataY\n",
        "\n",
        "\n",
        "def visualize_loss(history, title):\n",
        "    loss = history.history[\"loss\"]\n",
        "    val_loss = history.history[\"val_loss\"]\n",
        "    epochs = range(len(loss))\n",
        "    plt.figure()\n",
        "    plt.plot(epochs, loss, \"b\", label=\"Training loss\")\n",
        "    plt.plot(epochs, val_loss, \"r\", label=\"Validation loss\")\n",
        "    plt.title(title)\n",
        "    plt.xlabel(\"Epochs\")\n",
        "    plt.ylabel(\"Loss\")\n",
        "    plt.legend()\n",
        "    plt.show()\n",
        "\n",
        "\n",
        "def build_model(node_1=100, node_2=100, dropout_1=0.2, dropout_2=0.2):\n",
        "    # initialize model\n",
        "    model = Sequential()\n",
        "\n",
        "    # first RNN LSTM layer\n",
        "    model.add(LSTM(node_1, return_sequences=True))\n",
        "    model.add(Dropout(dropout_1))\n",
        "\n",
        "    # second RNN LSTM layer\n",
        "    model.add(LSTM(node_2, return_sequences=False))\n",
        "    model.add(Dropout(dropout_2))\n",
        "\n",
        "    # Output layer\n",
        "    model.add(Dense(1))\n",
        "    model.add(Activation(\"linear\"))\n",
        "\n",
        "    start = time()\n",
        "    model.compile(\n",
        "        loss='mse',\n",
        "        optimizer=Adam(learning_rate=0.01), # is this the best optimizer/learning rate?\n",
        "    )\n",
        "    print(\"compilation time : \", time() - start)\n",
        "\n",
        "    return model"
      ],
      "execution_count": null,
      "outputs": []
    },
    {
      "cell_type": "markdown",
      "metadata": {
        "id": "rjfZKHTNyp-J"
      },
      "source": [
        "## Load/View Data"
      ]
    },
    {
      "cell_type": "code",
      "metadata": {
        "colab": {
          "base_uri": "https://localhost:8080/",
          "height": 200
        },
        "id": "H9jGzurQ4c9v",
        "outputId": "f5dc81a0-f059-434b-b77b-abefdc3f707c"
      },
      "source": [
        "data = pd.read_csv('https://raw.githubusercontent.com/papagorgio23/Bitcoin/main/data/bitcoin.csv').drop(['time_period_start', 'time_period_end', 'time_open', 'time_close'], axis=1)\n",
        "data.head()"
      ],
      "execution_count": null,
      "outputs": [
        {
          "output_type": "execute_result",
          "data": {
            "text/html": [
              "<div>\n",
              "<style scoped>\n",
              "    .dataframe tbody tr th:only-of-type {\n",
              "        vertical-align: middle;\n",
              "    }\n",
              "\n",
              "    .dataframe tbody tr th {\n",
              "        vertical-align: top;\n",
              "    }\n",
              "\n",
              "    .dataframe thead th {\n",
              "        text-align: right;\n",
              "    }\n",
              "</style>\n",
              "<table border=\"1\" class=\"dataframe\">\n",
              "  <thead>\n",
              "    <tr style=\"text-align: right;\">\n",
              "      <th></th>\n",
              "      <th>price_open</th>\n",
              "      <th>price_high</th>\n",
              "      <th>price_low</th>\n",
              "      <th>price_close</th>\n",
              "      <th>volume_traded</th>\n",
              "      <th>trades_count</th>\n",
              "    </tr>\n",
              "  </thead>\n",
              "  <tbody>\n",
              "    <tr>\n",
              "      <th>0</th>\n",
              "      <td>7165.72</td>\n",
              "      <td>7165.72</td>\n",
              "      <td>7165.71</td>\n",
              "      <td>7165.71</td>\n",
              "      <td>0.021841</td>\n",
              "      <td>2</td>\n",
              "    </tr>\n",
              "    <tr>\n",
              "      <th>1</th>\n",
              "      <td>7168.30</td>\n",
              "      <td>7168.30</td>\n",
              "      <td>7168.30</td>\n",
              "      <td>7168.30</td>\n",
              "      <td>1.000000</td>\n",
              "      <td>2</td>\n",
              "    </tr>\n",
              "    <tr>\n",
              "      <th>2</th>\n",
              "      <td>7170.50</td>\n",
              "      <td>7170.50</td>\n",
              "      <td>7170.50</td>\n",
              "      <td>7170.50</td>\n",
              "      <td>0.002000</td>\n",
              "      <td>1</td>\n",
              "    </tr>\n",
              "    <tr>\n",
              "      <th>3</th>\n",
              "      <td>7169.20</td>\n",
              "      <td>7169.20</td>\n",
              "      <td>7169.20</td>\n",
              "      <td>7169.20</td>\n",
              "      <td>0.004000</td>\n",
              "      <td>2</td>\n",
              "    </tr>\n",
              "    <tr>\n",
              "      <th>4</th>\n",
              "      <td>7169.20</td>\n",
              "      <td>7169.20</td>\n",
              "      <td>7169.20</td>\n",
              "      <td>7169.20</td>\n",
              "      <td>0.002000</td>\n",
              "      <td>1</td>\n",
              "    </tr>\n",
              "  </tbody>\n",
              "</table>\n",
              "</div>"
            ],
            "text/plain": [
              "   price_open  price_high  price_low  price_close  volume_traded  trades_count\n",
              "0     7165.72     7165.72    7165.71      7165.71       0.021841             2\n",
              "1     7168.30     7168.30    7168.30      7168.30       1.000000             2\n",
              "2     7170.50     7170.50    7170.50      7170.50       0.002000             1\n",
              "3     7169.20     7169.20    7169.20      7169.20       0.004000             2\n",
              "4     7169.20     7169.20    7169.20      7169.20       0.002000             1"
            ]
          },
          "metadata": {
            "tags": []
          },
          "execution_count": 3
        }
      ]
    },
    {
      "cell_type": "code",
      "metadata": {
        "id": "d6QrBQPtgEKj",
        "colab": {
          "base_uri": "https://localhost:8080/"
        },
        "outputId": "e095a369-d315-4a07-c0b3-8dc62345a1c5"
      },
      "source": [
        "data.info()"
      ],
      "execution_count": null,
      "outputs": [
        {
          "output_type": "stream",
          "text": [
            "<class 'pandas.core.frame.DataFrame'>\n",
            "RangeIndex: 10000 entries, 0 to 9999\n",
            "Data columns (total 6 columns):\n",
            " #   Column         Non-Null Count  Dtype  \n",
            "---  ------         --------------  -----  \n",
            " 0   price_open     10000 non-null  float64\n",
            " 1   price_high     10000 non-null  float64\n",
            " 2   price_low      10000 non-null  float64\n",
            " 3   price_close    10000 non-null  float64\n",
            " 4   volume_traded  10000 non-null  float64\n",
            " 5   trades_count   10000 non-null  int64  \n",
            "dtypes: float64(5), int64(1)\n",
            "memory usage: 468.9 KB\n"
          ],
          "name": "stdout"
        }
      ]
    },
    {
      "cell_type": "code",
      "metadata": {
        "colab": {
          "base_uri": "https://localhost:8080/",
          "height": 290
        },
        "id": "1WwDOBgMXeFy",
        "outputId": "790b964c-2065-4047-b5b1-a61e5af38a72"
      },
      "source": [
        "data.describe()"
      ],
      "execution_count": null,
      "outputs": [
        {
          "output_type": "execute_result",
          "data": {
            "text/html": [
              "<div>\n",
              "<style scoped>\n",
              "    .dataframe tbody tr th:only-of-type {\n",
              "        vertical-align: middle;\n",
              "    }\n",
              "\n",
              "    .dataframe tbody tr th {\n",
              "        vertical-align: top;\n",
              "    }\n",
              "\n",
              "    .dataframe thead th {\n",
              "        text-align: right;\n",
              "    }\n",
              "</style>\n",
              "<table border=\"1\" class=\"dataframe\">\n",
              "  <thead>\n",
              "    <tr style=\"text-align: right;\">\n",
              "      <th></th>\n",
              "      <th>price_open</th>\n",
              "      <th>price_high</th>\n",
              "      <th>price_low</th>\n",
              "      <th>price_close</th>\n",
              "      <th>volume_traded</th>\n",
              "      <th>trades_count</th>\n",
              "    </tr>\n",
              "  </thead>\n",
              "  <tbody>\n",
              "    <tr>\n",
              "      <th>count</th>\n",
              "      <td>10000.000000</td>\n",
              "      <td>10000.000000</td>\n",
              "      <td>10000.000000</td>\n",
              "      <td>10000.000000</td>\n",
              "      <td>10000.000000</td>\n",
              "      <td>10000.000000</td>\n",
              "    </tr>\n",
              "    <tr>\n",
              "      <th>mean</th>\n",
              "      <td>7190.667163</td>\n",
              "      <td>7190.891258</td>\n",
              "      <td>7190.445922</td>\n",
              "      <td>7190.663989</td>\n",
              "      <td>0.316941</td>\n",
              "      <td>1.748300</td>\n",
              "    </tr>\n",
              "    <tr>\n",
              "      <th>std</th>\n",
              "      <td>18.318254</td>\n",
              "      <td>18.311377</td>\n",
              "      <td>18.356907</td>\n",
              "      <td>18.341736</td>\n",
              "      <td>1.810771</td>\n",
              "      <td>2.215815</td>\n",
              "    </tr>\n",
              "    <tr>\n",
              "      <th>min</th>\n",
              "      <td>7144.620000</td>\n",
              "      <td>7144.620000</td>\n",
              "      <td>7136.050000</td>\n",
              "      <td>7144.620000</td>\n",
              "      <td>0.000008</td>\n",
              "      <td>1.000000</td>\n",
              "    </tr>\n",
              "    <tr>\n",
              "      <th>25%</th>\n",
              "      <td>7184.950000</td>\n",
              "      <td>7185.000000</td>\n",
              "      <td>7184.757500</td>\n",
              "      <td>7184.887500</td>\n",
              "      <td>0.006210</td>\n",
              "      <td>1.000000</td>\n",
              "    </tr>\n",
              "    <tr>\n",
              "      <th>50%</th>\n",
              "      <td>7196.970000</td>\n",
              "      <td>7197.310000</td>\n",
              "      <td>7196.640000</td>\n",
              "      <td>7196.960000</td>\n",
              "      <td>0.015223</td>\n",
              "      <td>1.000000</td>\n",
              "    </tr>\n",
              "    <tr>\n",
              "      <th>75%</th>\n",
              "      <td>7203.250000</td>\n",
              "      <td>7203.400000</td>\n",
              "      <td>7203.010000</td>\n",
              "      <td>7203.250000</td>\n",
              "      <td>0.068103</td>\n",
              "      <td>2.000000</td>\n",
              "    </tr>\n",
              "    <tr>\n",
              "      <th>max</th>\n",
              "      <td>7223.500000</td>\n",
              "      <td>7224.530000</td>\n",
              "      <td>7223.400000</td>\n",
              "      <td>7223.500000</td>\n",
              "      <td>65.014193</td>\n",
              "      <td>88.000000</td>\n",
              "    </tr>\n",
              "  </tbody>\n",
              "</table>\n",
              "</div>"
            ],
            "text/plain": [
              "         price_open    price_high  ...  volume_traded  trades_count\n",
              "count  10000.000000  10000.000000  ...   10000.000000  10000.000000\n",
              "mean    7190.667163   7190.891258  ...       0.316941      1.748300\n",
              "std       18.318254     18.311377  ...       1.810771      2.215815\n",
              "min     7144.620000   7144.620000  ...       0.000008      1.000000\n",
              "25%     7184.950000   7185.000000  ...       0.006210      1.000000\n",
              "50%     7196.970000   7197.310000  ...       0.015223      1.000000\n",
              "75%     7203.250000   7203.400000  ...       0.068103      2.000000\n",
              "max     7223.500000   7224.530000  ...      65.014193     88.000000\n",
              "\n",
              "[8 rows x 6 columns]"
            ]
          },
          "metadata": {
            "tags": []
          },
          "execution_count": 5
        }
      ]
    },
    {
      "cell_type": "code",
      "metadata": {
        "colab": {
          "base_uri": "https://localhost:8080/"
        },
        "id": "Nz8yT2VMXjpU",
        "outputId": "2d3dda8f-b361-4669-ccf3-c92ed935f16e"
      },
      "source": [
        "data['price_high']"
      ],
      "execution_count": null,
      "outputs": [
        {
          "output_type": "execute_result",
          "data": {
            "text/plain": [
              "0       7165.72\n",
              "1       7168.30\n",
              "2       7170.50\n",
              "3       7169.20\n",
              "4       7169.20\n",
              "         ...   \n",
              "9995    7179.50\n",
              "9996    7181.67\n",
              "9997    7179.50\n",
              "9998    7182.12\n",
              "9999    7176.56\n",
              "Name: price_high, Length: 10000, dtype: float64"
            ]
          },
          "metadata": {
            "tags": []
          },
          "execution_count": 6
        }
      ]
    },
    {
      "cell_type": "code",
      "metadata": {
        "colab": {
          "base_uri": "https://localhost:8080/",
          "height": 265
        },
        "id": "kllluV9hfzQN",
        "outputId": "da92e0ec-7799-4670-f652-40eb55175f76"
      },
      "source": [
        "plt.plot(data['price_high'])\n",
        "plt.show()"
      ],
      "execution_count": null,
      "outputs": [
        {
          "output_type": "display_data",
          "data": {
            "image/png": "[encoded data removed]",
            "text/plain": [
              "<Figure size 432x288 with 1 Axes>"
            ]
          },
          "metadata": {
            "tags": [],
            "needs_background": "light"
          }
        }
      ]
    },
    {
      "cell_type": "markdown",
      "metadata": {
        "id": "nbrosAfNxcYZ"
      },
      "source": [
        "# Prep Data"
      ]
    },
    {
      "cell_type": "code",
      "metadata": {
        "id": "AUajGghLWJJb"
      },
      "source": [
        "clean_data, scaler = prep_data(data)\n",
        "trainX, trainY = create_dataset(clean_data, look_back=60)"
      ],
      "execution_count": null,
      "outputs": []
    },
    {
      "cell_type": "markdown",
      "metadata": {
        "id": "yv9qwqEGy0IU"
      },
      "source": [
        "## Build RNN Model"
      ]
    },
    {
      "cell_type": "code",
      "metadata": {
        "colab": {
          "base_uri": "https://localhost:8080/"
        },
        "id": "u-tcB3jyWJSG",
        "outputId": "637a6919-eded-4e53-c7d9-24fdb0967cdc"
      },
      "source": [
        "model = build_model()\n",
        "start = time()\n",
        "history = model.fit(\n",
        "    trainX,\n",
        "    trainY,\n",
        "    batch_size=32,\n",
        "    epochs=10,\n",
        "    validation_split=0.3,\n",
        "    verbose=1\n",
        ")\n",
        "print(\"\\nTraining Time: \", time() - start)"
      ],
      "execution_count": null,
      "outputs": [
        {
          "output_type": "stream",
          "text": [
            "compilation time :  0.009012460708618164\n",
            "Epoch 1/10\n",
            "218/218 [==============================] - 43s 17ms/step - loss: 0.0328 - val_loss: 7.9437e-04\n",
            "Epoch 2/10\n",
            "218/218 [==============================] - 2s 8ms/step - loss: 0.0032 - val_loss: 0.0041\n",
            "Epoch 3/10\n",
            "218/218 [==============================] - 2s 8ms/step - loss: 0.0030 - val_loss: 6.2439e-04\n",
            "Epoch 4/10\n",
            "218/218 [==============================] - 2s 8ms/step - loss: 0.0023 - val_loss: 8.4815e-04\n",
            "Epoch 5/10\n",
            "218/218 [==============================] - 2s 8ms/step - loss: 0.0021 - val_loss: 5.4626e-04\n",
            "Epoch 6/10\n",
            "218/218 [==============================] - 2s 8ms/step - loss: 0.0019 - val_loss: 5.3991e-04\n",
            "Epoch 7/10\n",
            "218/218 [==============================] - 2s 8ms/step - loss: 0.0016 - val_loss: 0.0012\n",
            "Epoch 8/10\n",
            "218/218 [==============================] - 2s 8ms/step - loss: 0.0016 - val_loss: 6.8117e-04\n",
            "Epoch 9/10\n",
            "218/218 [==============================] - 2s 8ms/step - loss: 0.0018 - val_loss: 6.7475e-04\n",
            "Epoch 10/10\n",
            "218/218 [==============================] - 2s 8ms/step - loss: 0.0015 - val_loss: 0.0014\n",
            "\n",
            "Training Time:  58.461801528930664\n"
          ],
          "name": "stdout"
        }
      ]
    },
    {
      "cell_type": "code",
      "metadata": {
        "colab": {
          "base_uri": "https://localhost:8080/"
        },
        "id": "48y_I9xzWJVk",
        "outputId": "dd341ff4-7d49-4bb6-8dfb-257a24d76bf8"
      },
      "source": [
        "model.summary()"
      ],
      "execution_count": null,
      "outputs": [
        {
          "output_type": "stream",
          "text": [
            "Model: \"sequential\"\n",
            "_________________________________________________________________\n",
            "Layer (type)                 Output Shape              Param #   \n",
            "=================================================================\n",
            "lstm (LSTM)                  (None, 1, 100)            64400     \n",
            "_________________________________________________________________\n",
            "dropout (Dropout)            (None, 1, 100)            0         \n",
            "_________________________________________________________________\n",
            "lstm_1 (LSTM)                (None, 100)               80400     \n",
            "_________________________________________________________________\n",
            "dropout_1 (Dropout)          (None, 100)               0         \n",
            "_________________________________________________________________\n",
            "dense (Dense)                (None, 1)                 101       \n",
            "_________________________________________________________________\n",
            "activation (Activation)      (None, 1)                 0         \n",
            "=================================================================\n",
            "Total params: 144,901\n",
            "Trainable params: 144,901\n",
            "Non-trainable params: 0\n",
            "_________________________________________________________________\n"
          ],
          "name": "stdout"
        }
      ]
    },
    {
      "cell_type": "markdown",
      "metadata": {
        "id": "oHo81JAey-Cd"
      },
      "source": [
        "## Predictions"
      ]
    },
    {
      "cell_type": "code",
      "metadata": {
        "id": "Tvo7pdWSWJX9"
      },
      "source": [
        "preds = model.predict(trainX)"
      ],
      "execution_count": null,
      "outputs": []
    },
    {
      "cell_type": "code",
      "metadata": {
        "id": "El8cRwgIWJat"
      },
      "source": [
        "real_pred = scaler.inverse_transform(preds)\n",
        "real_price = scaler.inverse_transform(trainY.reshape(-1, 1))"
      ],
      "execution_count": null,
      "outputs": []
    },
    {
      "cell_type": "markdown",
      "metadata": {
        "id": "ks6kMXsAzBEm"
      },
      "source": [
        "## Evaluate Model"
      ]
    },
    {
      "cell_type": "code",
      "metadata": {
        "colab": {
          "base_uri": "https://localhost:8080/",
          "height": 295
        },
        "id": "G_y7IBNKbzOe",
        "outputId": "9fd9b345-6f3a-4901-e8d0-b4ae804c777c"
      },
      "source": [
        "visualize_loss(history, 'RMSE of RNN')"
      ],
      "execution_count": null,
      "outputs": [
        {
          "output_type": "display_data",
          "data": {
            "image/png": "[encoded data removed]",
            "text/plain": [
              "<Figure size 432x288 with 1 Axes>"
            ]
          },
          "metadata": {
            "tags": [],
            "needs_background": "light"
          }
        }
      ]
    },
    {
      "cell_type": "markdown",
      "metadata": {
        "id": "oSMKO6gpzGKJ"
      },
      "source": [
        "### RMSE"
      ]
    },
    {
      "cell_type": "code",
      "metadata": {
        "colab": {
          "base_uri": "https://localhost:8080/"
        },
        "id": "FCjOAwsfWJdy",
        "outputId": "793b6110-bc99-451f-b537-c6a55bdac24f"
      },
      "source": [
        "rmse = np.sqrt(np.mean(np.square((real_price - real_pred))))\n",
        "print(\"RMSE: \", rmse)"
      ],
      "execution_count": null,
      "outputs": [
        {
          "output_type": "stream",
          "text": [
            "RMSE:  2.9157484\n"
          ],
          "name": "stdout"
        }
      ]
    },
    {
      "cell_type": "code",
      "metadata": {
        "colab": {
          "base_uri": "https://localhost:8080/"
        },
        "id": "6Y3JSnKKfKMQ",
        "outputId": "e0f98884-41d2-4715-db9f-787049247e2e"
      },
      "source": [
        "print(real_pred[:20])"
      ],
      "execution_count": null,
      "outputs": [
        {
          "output_type": "stream",
          "text": [
            "[[7160.197 ]\n",
            " [7160.625 ]\n",
            " [7160.0005]\n",
            " [7159.573 ]\n",
            " [7159.151 ]\n",
            " [7158.79  ]\n",
            " [7159.2485]\n",
            " [7159.04  ]\n",
            " [7158.6436]\n",
            " [7159.0415]\n",
            " [7158.6465]\n",
            " [7158.5083]\n",
            " [7158.3228]\n",
            " [7158.1953]\n",
            " [7158.067 ]\n",
            " [7158.6343]\n",
            " [7159.431 ]\n",
            " [7159.899 ]\n",
            " [7159.719 ]\n",
            " [7159.4966]]\n"
          ],
          "name": "stdout"
        }
      ]
    },
    {
      "cell_type": "code",
      "metadata": {
        "colab": {
          "base_uri": "https://localhost:8080/"
        },
        "id": "ZRBZg3w8fWxG",
        "outputId": "2a3327d7-d56d-4616-9060-bfec82b89a6c"
      },
      "source": [
        "print(real_price[:20])"
      ],
      "execution_count": null,
      "outputs": [
        {
          "output_type": "stream",
          "text": [
            "[[7163.4004]\n",
            " [7154.98  ]\n",
            " [7154.98  ]\n",
            " [7154.97  ]\n",
            " [7154.98  ]\n",
            " [7163.4004]\n",
            " [7155.78  ]\n",
            " [7155.63  ]\n",
            " [7163.4004]\n",
            " [7155.0195]\n",
            " [7156.13  ]\n",
            " [7154.84  ]\n",
            " [7156.07  ]\n",
            " [7156.07  ]\n",
            " [7163.3   ]\n",
            " [7164.22  ]\n",
            " [7163.    ]\n",
            " [7160.    ]\n",
            " [7156.08  ]\n",
            " [7156.08  ]]\n"
          ],
          "name": "stdout"
        }
      ]
    },
    {
      "cell_type": "markdown",
      "metadata": {
        "id": "rA7zSnL2zIYC"
      },
      "source": [
        "### Plot Predictions vs Actual Prices"
      ]
    },
    {
      "cell_type": "code",
      "metadata": {
        "colab": {
          "base_uri": "https://localhost:8080/",
          "height": 295
        },
        "id": "-eE8iswxwBKh",
        "outputId": "6384c908-507b-4307-e5d3-8ebce227f198"
      },
      "source": [
        "times = range(len(real_pred))\n",
        "plt.figure()\n",
        "plt.plot(times, real_price, \"b\", label=\"Actual Price\")\n",
        "plt.plot(times, real_pred, \"r\", label=\"Predicted Price\")\n",
        "plt.title(\"Predicted Vs. Actual Price\")\n",
        "plt.xlabel(\"Time\")\n",
        "plt.ylabel(\"Price\")\n",
        "plt.legend()\n",
        "plt.show()"
      ],
      "execution_count": null,
      "outputs": [
        {
          "output_type": "display_data",
          "data": {
            "image/png": "[encoded data removed]",
            "text/plain": [
              "<Figure size 432x288 with 1 Axes>"
            ]
          },
          "metadata": {
            "tags": [],
            "needs_background": "light"
          }
        }
      ]
    }
  ]
}