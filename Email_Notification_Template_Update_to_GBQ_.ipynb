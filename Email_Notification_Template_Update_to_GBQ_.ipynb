{
  "nbformat": 4,
  "nbformat_minor": 0,
  "metadata": {
    "colab": {
      "name": "Email Notification Template Update to GBQ .ipynb",
      "version": "0.3.2",
      "provenance": [],
      "collapsed_sections": [],
      "include_colab_link": true
    },
    "kernelspec": {
      "name": "python3",
      "display_name": "Python 3"
    }
  },
  "cells": [
    {
      "cell_type": "markdown",
      "metadata": {
        "id": "view-in-github",
        "colab_type": "text"
      },
      "source": [
        "<a href=\"https://colab.research.google.com/github/papagorgio23/Python101/blob/master/Email_Notification_Template_Update_to_GBQ_.ipynb\" target=\"_parent\"><img src=\"https://colab.research.google.com/assets/colab-badge.svg\" alt=\"Open In Colab\"/></a>"
      ]
    },
    {
      "cell_type": "code",
      "metadata": {
        "id": "8S2QX-ViHhvl",
        "colab_type": "code",
        "outputId": "18c63311-bba0-46da-f11b-720a0e2d95b9",
        "colab": {
          "base_uri": "https://localhost:8080/",
          "height": 360
        }
      },
      "source": [
        "!pip install pydata_google_auth "
      ],
      "execution_count": 0,
      "outputs": [
        {
          "output_type": "stream",
          "text": [
            "Collecting pydata_google_auth\n",
            "  Downloading https://files.pythonhosted.org/packages/89/c5/03b68c114bc2c2bcaa2e40fdf269a14361fa75b70a09415e8bad65413b75/pydata_google_auth-0.1.3-py2.py3-none-any.whl\n",
            "Requirement already satisfied: setuptools in /usr/local/lib/python3.6/dist-packages (from pydata_google_auth) (41.2.0)\n",
            "Requirement already satisfied: google-auth in /usr/local/lib/python3.6/dist-packages (from pydata_google_auth) (1.4.2)\n",
            "Requirement already satisfied: google-auth-oauthlib in /usr/local/lib/python3.6/dist-packages (from pydata_google_auth) (0.4.0)\n",
            "Requirement already satisfied: pyasn1-modules>=0.2.1 in /usr/local/lib/python3.6/dist-packages (from google-auth->pydata_google_auth) (0.2.6)\n",
            "Requirement already satisfied: cachetools>=2.0.0 in /usr/local/lib/python3.6/dist-packages (from google-auth->pydata_google_auth) (3.1.1)\n",
            "Requirement already satisfied: six>=1.9.0 in /usr/local/lib/python3.6/dist-packages (from google-auth->pydata_google_auth) (1.12.0)\n",
            "Requirement already satisfied: rsa>=3.1.4 in /usr/local/lib/python3.6/dist-packages (from google-auth->pydata_google_auth) (4.0)\n",
            "Requirement already satisfied: requests-oauthlib>=0.7.0 in /usr/local/lib/python3.6/dist-packages (from google-auth-oauthlib->pydata_google_auth) (1.2.0)\n",
            "Requirement already satisfied: pyasn1<0.5.0,>=0.4.6 in /usr/local/lib/python3.6/dist-packages (from pyasn1-modules>=0.2.1->google-auth->pydata_google_auth) (0.4.6)\n",
            "Requirement already satisfied: oauthlib>=3.0.0 in /usr/local/lib/python3.6/dist-packages (from requests-oauthlib>=0.7.0->google-auth-oauthlib->pydata_google_auth) (3.1.0)\n",
            "Requirement already satisfied: requests>=2.0.0 in /usr/local/lib/python3.6/dist-packages (from requests-oauthlib>=0.7.0->google-auth-oauthlib->pydata_google_auth) (2.21.0)\n",
            "Requirement already satisfied: urllib3<1.25,>=1.21.1 in /usr/local/lib/python3.6/dist-packages (from requests>=2.0.0->requests-oauthlib>=0.7.0->google-auth-oauthlib->pydata_google_auth) (1.24.3)\n",
            "Requirement already satisfied: chardet<3.1.0,>=3.0.2 in /usr/local/lib/python3.6/dist-packages (from requests>=2.0.0->requests-oauthlib>=0.7.0->google-auth-oauthlib->pydata_google_auth) (3.0.4)\n",
            "Requirement already satisfied: certifi>=2017.4.17 in /usr/local/lib/python3.6/dist-packages (from requests>=2.0.0->requests-oauthlib>=0.7.0->google-auth-oauthlib->pydata_google_auth) (2019.6.16)\n",
            "Requirement already satisfied: idna<2.9,>=2.5 in /usr/local/lib/python3.6/dist-packages (from requests>=2.0.0->requests-oauthlib>=0.7.0->google-auth-oauthlib->pydata_google_auth) (2.8)\n",
            "Installing collected packages: pydata-google-auth\n",
            "Successfully installed pydata-google-auth-0.1.3\n"
          ],
          "name": "stdout"
        }
      ]
    },
    {
      "cell_type": "code",
      "metadata": {
        "id": "ciohya4BBH5h",
        "colab_type": "code",
        "outputId": "3c1ddbbd-26df-4b0d-f22c-3819629cd52a",
        "colab": {
          "base_uri": "https://localhost:8080/",
          "height": 71
        }
      },
      "source": [
        "import pandas as pd\n",
        "import pandas_gbq\n",
        "import pydata_google_auth\n",
        "import smtplib\n",
        "import sys\n",
        "\n",
        "\n",
        "#authenticate to GBQ\n",
        "SCOPES = ['https://www.googleapis.com/auth/cloud-platform',\n",
        "          'https://www.googleapis.com/auth/drive']\n",
        "\n",
        "credentials = pydata_google_auth.get_user_credentials(SCOPES, auth_local_webserver=False)"
      ],
      "execution_count": 0,
      "outputs": [
        {
          "output_type": "stream",
          "text": [
            "Please visit this URL to authorize this application: https://accounts.google.com/o/oauth2/auth?response_type=code&client_id=262006177488-3425ks60hkk80fssi9vpohv88g6q1iqd.apps.googleusercontent.com&redirect_uri=urn%3Aietf%3Awg%3Aoauth%3A2.0%3Aoob&scope=https%3A%2F%2Fwww.googleapis.com%2Fauth%2Fcloud-platform+https%3A%2F%2Fwww.googleapis.com%2Fauth%2Fdrive&state=BCwDJVEBSYfyZBPraigjiZq6DnxH6k&prompt=consent&access_type=offline&code_challenge=UIYMWgm1Ei1Ngip_U1EXnG8up_GwOsBNeVr57xC01p0&code_challenge_method=S256\n",
            "Enter the authorization code: 4/qQFowvIgRlBr6cDK48Lwto9IrUc_OpFLqRGthvGLIgZpVH5E6X57GQ8\n"
          ],
          "name": "stdout"
        }
      ]
    },
    {
      "cell_type": "code",
      "metadata": {
        "id": "YpKW9Jww_TrW",
        "colab_type": "code",
        "colab": {}
      },
      "source": [
        "#pull data from GBQ and convert to df\n",
        "\n",
        "sql = '''\n",
        "with data as (\n",
        "select \n",
        "lead_partner\n",
        ",min(date(qb_created_datetime)) as created_date\n",
        "from `fdr-dp-stg.standardized_data.lead_details`\n",
        "where crm_source = 'suip'\n",
        "and test_leads_flag_suip = 0\n",
        "group by lead_partner\n",
        ")\n",
        "\n",
        "select *\n",
        "from data\n",
        "where created_date >='2019-08-01'\n",
        "order by created_date\n",
        "'''\n",
        "\n",
        "projectId = 'ffn-dw-bigquery-prd'\n",
        "\n",
        "#run query and save to a variable called df (use pandas_gbq.read_gbq)\n",
        "#params: query, project_id, credentials, dialect\n",
        "#https://pandas.pydata.org/pandas-docs/stable/reference/api/pandas.read_gbq.html\n",
        "df = pandas_gbq.read_gbq(query = sql,\n",
        "          project_id = projectId,\n",
        "          credentials=credentials, \n",
        "          dialect='standard')"
      ],
      "execution_count": 0,
      "outputs": []
    },
    {
      "cell_type": "code",
      "metadata": {
        "id": "eA8Rs63aBe35",
        "colab_type": "code",
        "colab": {}
      },
      "source": [
        "#exit script if df is empty\n",
        "if df.empty:\n",
        "  sys.exit()"
      ],
      "execution_count": 0,
      "outputs": []
    },
    {
      "cell_type": "code",
      "metadata": {
        "id": "lCOqEAYA_Tt_",
        "colab_type": "code",
        "colab": {}
      },
      "source": [
        "#create a variable called html for message body of email\n",
        "#add a greeting (<p>) and start table tags to hold data. <tr> with two <th>\n",
        "#https://www.w3schools.com/html/\n",
        "html = '''\n",
        "<p>Hello,</p>\n",
        "<p>There are new lead partners going to SUIP.</p>\n",
        "\n",
        "<table>\n",
        "  <tr>\n",
        "    <th>Lead Partner</th>\n",
        "    <th>Created Date</th>\n",
        "  </tr>\n",
        "'''\n",
        "\n"
      ],
      "execution_count": 0,
      "outputs": []
    },
    {
      "cell_type": "code",
      "metadata": {
        "id": "uVYijlIg_Twq",
        "colab_type": "code",
        "outputId": "f958f757-9443-466d-ba38-3d2944b47e7e",
        "colab": {
          "base_uri": "https://localhost:8080/",
          "height": 207
        }
      },
      "source": [
        "#loop through dataframe to add lead partner data to HTML table\n",
        "#for each row add one <tr> and two <td> for lead_partner and MinCreatedDate\n",
        "#use <date>.strftime('%m/%d/%Y') for date formatting\n",
        "for row in df.itertuples():\n",
        "  html += '<tr>'\n",
        "  html += '<td>' + row.lead_partner + '</td>'\n",
        "  html += '<td>' + row.created_date.strftime('%m%d%Y') + '</td>'\n",
        "  html += '</tr>'\n",
        "\n",
        "html += '</table>'\n",
        "\n",
        "\n",
        "#add disclosure to html with page breaks\n",
        "html += '<br><br><br><br> This is an automated message. Email Jason@AISportsFirm.com with any questions.'\n",
        "\n",
        "print(html)"
      ],
      "execution_count": 0,
      "outputs": [
        {
          "output_type": "stream",
          "text": [
            "\n",
            "<p>Hello,</p>\n",
            "<p>There are new lead partners going to SUIP.</p>\n",
            "\n",
            "<table>\n",
            "  <tr>\n",
            "    <th>Lead Partner</th>\n",
            "    <th>Created Date</th>\n",
            "  </tr>\n",
            "<tr><td>wfs_yhp_ios</td><td>08012019</td></tr><tr><td>33</td><td>08062019</td></tr><tr><td>185</td><td>08082019</td></tr><tr><td>spop_rmk</td><td>08082019</td></tr><tr><td>113</td><td>08082019</td></tr><tr><td>fdrreviews.com</td><td>08092019</td></tr><tr><td>nextdoor</td><td>08122019</td></tr><tr><td>4</td><td>08152019</td></tr><tr><td>5</td><td>08192019</td></tr><tr><td>wfs_yhp_and</td><td>08202019</td></tr><tr><td>DirectMailWF</td><td>08202019</td></tr><tr><td>outbrain</td><td>08202019</td></tr><tr><td>222</td><td>08212019</td></tr></table><br><br><br><br> This is an automated message. Email Jason@AISportsFirm.com with any questions.\n"
          ],
          "name": "stdout"
        }
      ]
    },
    {
      "cell_type": "markdown",
      "metadata": {
        "id": "3SznFrSyXkaQ",
        "colab_type": "text"
      },
      "source": [
        "<p>Hello,</p>\n",
        "<p>There are new lead partners going to SUIP.</p>\n",
        "\n",
        "<table>\n",
        "  <tr>\n",
        "    <th>Lead Partner</th>\n",
        "    <th>Created Date</th>\n",
        "  </tr>\n",
        "<tr><td>wfs_yhp_ios</td><td>08012019</td></tr><tr><td>33</td><td>08062019</td></tr><tr><td>185</td><td>08082019</td></tr><tr><td>spop_rmk</td><td>08082019</td></tr><tr><td>113</td><td>08082019</td></tr><tr><td>fdrreviews.com</td><td>08092019</td></tr><tr><td>nextdoor</td><td>08122019</td></tr><tr><td>4</td><td>08152019</td></tr><tr><td>5</td><td>08192019</td></tr><tr><td>wfs_yhp_and</td><td>08202019</td></tr><tr><td>DirectMailWF</td><td>08202019</td></tr><tr><td>outbrain</td><td>08202019</td></tr><tr><td>222</td><td>08212019</td></tr></table><br><br><br><br> This is an automated message. Email Jason@AISportsFirm.com with any questions."
      ]
    },
    {
      "cell_type": "code",
      "metadata": {
        "id": "LXDrxbe89WX4",
        "colab_type": "code",
        "outputId": "b449caf4-c3ce-4ac3-cb78-2d0f4a3f0259",
        "colab": {
          "base_uri": "https://localhost:8080/",
          "height": 34
        }
      },
      "source": [
        "#build and send email\n",
        "#to build email message: https://docs.python.org/2/library/email-examples.html\n",
        "#to send the email:      https://docs.python.org/3/library/smtplib.html\n",
        "\n",
        "#import MIMEMultipart and MIMEText\n",
        "from email.mime.multipart import MIMEMultipart\n",
        "from email.mime.text import MIMEText\n",
        "\n",
        "\n",
        "#define email addresses to use (fromEmail and toEmail)\n",
        "fromEmail = 'jalee@freedomplus.com'\n",
        "toEmail = 'jason@AISportsFirm.com'\n",
        "\n",
        "\n",
        "\n",
        "#build message then ad Subject, From, and To\n",
        "message = MIMEMultipart('alternative')\n",
        "message['Subject'] = 'New Lead Partner'\n",
        "message['From'] = fromEmail\n",
        "message['To'] = toEmail\n",
        "\n",
        "\n",
        "#create MIMEText object and attach html\n",
        "messageBody = MIMEText(html, 'html')\n",
        "message.attach(messageBody)\n",
        "\n",
        "#connect to Outlook email server, login and send\n",
        "mailserver = smtplib.SMTP('smtp.office365.com',587)\n",
        "mailserver.ehlo()\n",
        "mailserver.starttls()\n",
        "mailserver.login('JaLee@freedomdebtrelief.com', password)\n",
        "mailserver.sendmail(fromEmail, toEmail, message.as_string())\n",
        "mailserver.quit()"
      ],
      "execution_count": 0,
      "outputs": [
        {
          "output_type": "execute_result",
          "data": {
            "text/plain": [
              "(221, b'2.0.0 Service closing transmission channel')"
            ]
          },
          "metadata": {
            "tags": []
          },
          "execution_count": 14
        }
      ]
    },
    {
      "cell_type": "code",
      "metadata": {
        "id": "t51cIPc0AF3R",
        "colab_type": "code",
        "colab": {}
      },
      "source": [
        "from datetime import datetime\n",
        "from google.colab import files \n",
        "\n",
        "#download df to a csv file and save with today's date\n",
        "#create a variable called today (use datetime.now())\n",
        "today = datetime.now().strftime('%m.%d.%Y')\n",
        "\n",
        "#convert df to csv and download from google colab with files.download\n",
        "filename = 'Lead Partner_' + today\n",
        "df.to_csv(filename)\n",
        "files.download(filename)\n"
      ],
      "execution_count": 0,
      "outputs": []
    },
    {
      "cell_type": "code",
      "metadata": {
        "id": "WJVZmA0f5Obs",
        "colab_type": "code",
        "colab": {}
      },
      "source": [
        "#fix column data types to match GBQ data type\n",
        "#lead_partner to string and created_date to date\n",
        "df['lead_partner'] = df['lead_partner'].astype('str')"
      ],
      "execution_count": 0,
      "outputs": []
    },
    {
      "cell_type": "code",
      "metadata": {
        "id": "nmHuz_tJnJ3d",
        "colab_type": "code",
        "outputId": "05bdf2ab-d6b0-4f65-b624-4680bb066328",
        "colab": {
          "base_uri": "https://localhost:8080/",
          "height": 452
        }
      },
      "source": [
        "#add a column row_loaded_date_time with current timestamp\n",
        "df['row_loaded_date_time'] = datetime.now()\n",
        "df"
      ],
      "execution_count": 0,
      "outputs": [
        {
          "output_type": "execute_result",
          "data": {
            "text/html": [
              "<div>\n",
              "<style scoped>\n",
              "    .dataframe tbody tr th:only-of-type {\n",
              "        vertical-align: middle;\n",
              "    }\n",
              "\n",
              "    .dataframe tbody tr th {\n",
              "        vertical-align: top;\n",
              "    }\n",
              "\n",
              "    .dataframe thead th {\n",
              "        text-align: right;\n",
              "    }\n",
              "</style>\n",
              "<table border=\"1\" class=\"dataframe\">\n",
              "  <thead>\n",
              "    <tr style=\"text-align: right;\">\n",
              "      <th></th>\n",
              "      <th>lead_partner</th>\n",
              "      <th>created_date</th>\n",
              "      <th>row_loaded_date_time</th>\n",
              "    </tr>\n",
              "  </thead>\n",
              "  <tbody>\n",
              "    <tr>\n",
              "      <th>0</th>\n",
              "      <td>wfs_yhp_ios</td>\n",
              "      <td>2019-08-01</td>\n",
              "      <td>2019-08-23 21:40:41.774247</td>\n",
              "    </tr>\n",
              "    <tr>\n",
              "      <th>1</th>\n",
              "      <td>33</td>\n",
              "      <td>2019-08-06</td>\n",
              "      <td>2019-08-23 21:40:41.774247</td>\n",
              "    </tr>\n",
              "    <tr>\n",
              "      <th>2</th>\n",
              "      <td>185</td>\n",
              "      <td>2019-08-08</td>\n",
              "      <td>2019-08-23 21:40:41.774247</td>\n",
              "    </tr>\n",
              "    <tr>\n",
              "      <th>3</th>\n",
              "      <td>spop_rmk</td>\n",
              "      <td>2019-08-08</td>\n",
              "      <td>2019-08-23 21:40:41.774247</td>\n",
              "    </tr>\n",
              "    <tr>\n",
              "      <th>4</th>\n",
              "      <td>113</td>\n",
              "      <td>2019-08-08</td>\n",
              "      <td>2019-08-23 21:40:41.774247</td>\n",
              "    </tr>\n",
              "    <tr>\n",
              "      <th>5</th>\n",
              "      <td>fdrreviews.com</td>\n",
              "      <td>2019-08-09</td>\n",
              "      <td>2019-08-23 21:40:41.774247</td>\n",
              "    </tr>\n",
              "    <tr>\n",
              "      <th>6</th>\n",
              "      <td>nextdoor</td>\n",
              "      <td>2019-08-12</td>\n",
              "      <td>2019-08-23 21:40:41.774247</td>\n",
              "    </tr>\n",
              "    <tr>\n",
              "      <th>7</th>\n",
              "      <td>4</td>\n",
              "      <td>2019-08-15</td>\n",
              "      <td>2019-08-23 21:40:41.774247</td>\n",
              "    </tr>\n",
              "    <tr>\n",
              "      <th>8</th>\n",
              "      <td>5</td>\n",
              "      <td>2019-08-19</td>\n",
              "      <td>2019-08-23 21:40:41.774247</td>\n",
              "    </tr>\n",
              "    <tr>\n",
              "      <th>9</th>\n",
              "      <td>wfs_yhp_and</td>\n",
              "      <td>2019-08-20</td>\n",
              "      <td>2019-08-23 21:40:41.774247</td>\n",
              "    </tr>\n",
              "    <tr>\n",
              "      <th>10</th>\n",
              "      <td>DirectMailWF</td>\n",
              "      <td>2019-08-20</td>\n",
              "      <td>2019-08-23 21:40:41.774247</td>\n",
              "    </tr>\n",
              "    <tr>\n",
              "      <th>11</th>\n",
              "      <td>outbrain</td>\n",
              "      <td>2019-08-20</td>\n",
              "      <td>2019-08-23 21:40:41.774247</td>\n",
              "    </tr>\n",
              "    <tr>\n",
              "      <th>12</th>\n",
              "      <td>222</td>\n",
              "      <td>2019-08-21</td>\n",
              "      <td>2019-08-23 21:40:41.774247</td>\n",
              "    </tr>\n",
              "  </tbody>\n",
              "</table>\n",
              "</div>"
            ],
            "text/plain": [
              "      lead_partner created_date       row_loaded_date_time\n",
              "0      wfs_yhp_ios   2019-08-01 2019-08-23 21:40:41.774247\n",
              "1               33   2019-08-06 2019-08-23 21:40:41.774247\n",
              "2              185   2019-08-08 2019-08-23 21:40:41.774247\n",
              "3         spop_rmk   2019-08-08 2019-08-23 21:40:41.774247\n",
              "4              113   2019-08-08 2019-08-23 21:40:41.774247\n",
              "5   fdrreviews.com   2019-08-09 2019-08-23 21:40:41.774247\n",
              "6         nextdoor   2019-08-12 2019-08-23 21:40:41.774247\n",
              "7                4   2019-08-15 2019-08-23 21:40:41.774247\n",
              "8                5   2019-08-19 2019-08-23 21:40:41.774247\n",
              "9      wfs_yhp_and   2019-08-20 2019-08-23 21:40:41.774247\n",
              "10    DirectMailWF   2019-08-20 2019-08-23 21:40:41.774247\n",
              "11        outbrain   2019-08-20 2019-08-23 21:40:41.774247\n",
              "12             222   2019-08-21 2019-08-23 21:40:41.774247"
            ]
          },
          "metadata": {
            "tags": []
          },
          "execution_count": 20
        }
      ]
    },
    {
      "cell_type": "code",
      "metadata": {
        "id": "Doa7EFaB47OW",
        "colab_type": "code",
        "colab": {}
      },
      "source": [
        "#set destination table to insert data into\n",
        "destinationtable = 'NewTable_location'\n",
        "\n",
        "#send data to GBQ (pandas_gqb.to_gbq)\n",
        "#https://pandas-gbq.readthedocs.io/en/latest/api.html#pandas_gbq.to_gbq\n",
        "#params are: dataframe, destination_table, project_id, if_exists (append), and table_schema (list of dicts, name and type)\n",
        "pandas_gbq.to_gbq(dataframe = df,\n",
        "                  destination_table = destinationtable,\n",
        "                  project_id = project_id,\n",
        "                  if_exists = 'append',\n",
        "                  table_schema = [{'name':'lead_partner',\n",
        "                                   'type':'STRING'},\n",
        "                                  {'name':'created_date',\n",
        "                                   'type':'date'},\n",
        "                                  {'name':'row_loaded_date_time',\n",
        "                                   'type':'TIMESTAMP'}])"
      ],
      "execution_count": 0,
      "outputs": []
    }
  ]
}