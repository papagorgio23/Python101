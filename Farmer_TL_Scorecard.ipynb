{
  "nbformat": 4,
  "nbformat_minor": 0,
  "metadata": {
    "colab": {
      "name": "Farmer TL Scorecard.ipynb",
      "provenance": [],
      "collapsed_sections": [],
      "toc_visible": true,
      "include_colab_link": true
    },
    "kernelspec": {
      "name": "python3",
      "display_name": "Python 3"
    }
  },
  "cells": [
    {
      "cell_type": "markdown",
      "metadata": {
        "id": "view-in-github",
        "colab_type": "text"
      },
      "source": [
        "<a href=\"https://colab.research.google.com/github/papagorgio23/Python101/blob/master/Farmer_TL_Scorecard.ipynb\" target=\"_parent\"><img src=\"https://colab.research.google.com/assets/colab-badge.svg\" alt=\"Open In Colab\"/></a>"
      ]
    },
    {
      "cell_type": "markdown",
      "metadata": {
        "id": "s_N0MWWdc7_-",
        "colab_type": "text"
      },
      "source": [
        "# Team Lead Scorecard"
      ]
    },
    {
      "cell_type": "markdown",
      "metadata": {
        "id": "Kq7ul-ykdQFY",
        "colab_type": "text"
      },
      "source": [
        "## 9 Key Metrics"
      ]
    },
    {
      "cell_type": "markdown",
      "metadata": {
        "id": "Nxn-SanYdAyJ",
        "colab_type": "text"
      },
      "source": [
        "* Co App %  \n",
        "\n",
        "* Full App Submit Rate  \n",
        "\n",
        "* Full App Approved %  \n",
        "\n",
        "* Pull Through Rate  \n",
        "\n",
        "* 24 Hour Fund Rate  \n",
        "\n",
        "* Fund Rate  \n",
        "\n",
        "* Loans Funded\n",
        "\n",
        "* ACH %  \n",
        "\n",
        "* Average Effort Score "
      ]
    },
    {
      "cell_type": "markdown",
      "metadata": {
        "id": "fsa8lL4_dfQ0",
        "colab_type": "text"
      },
      "source": [
        "## Total Score Equation"
      ]
    },
    {
      "cell_type": "markdown",
      "metadata": {
        "id": "oBNSd6V3dbNo",
        "colab_type": "text"
      },
      "source": [
        "$$ Total Score = (Co App)w_1 + (FAS\\%)w_2 + (FAA\\%)w_3 + (PTR)w_4 + (24hr Fund) w_5 + (Fund Rate)w_6 + (\\#Funded)w_7 + (ACH\\%)w_8 + (Effort)w_9 $$  "
      ]
    },
    {
      "cell_type": "markdown",
      "metadata": {
        "id": "DLuGqa_idva0",
        "colab_type": "text"
      },
      "source": [
        "## Weights"
      ]
    },
    {
      "cell_type": "markdown",
      "metadata": {
        "id": "8WDsaek5eA2U",
        "colab_type": "text"
      },
      "source": [
        "![weights](https://aisportsfirm.com/wp-content/uploads/2019/05/image-5.png)"
      ]
    },
    {
      "cell_type": "markdown",
      "metadata": {
        "id": "lsevNClqdxjw",
        "colab_type": "text"
      },
      "source": [
        "<br>\n",
        "\n",
        "* Fund Rate  = 20  \n",
        "\n",
        "* Loans Funded  = 15  \n",
        "\n",
        "* 24 Hour Fund Rate  = 5  \n",
        "\n",
        "* Co App %  = 10  \n",
        "\n",
        "* Full App Approved %  = 10  \n",
        "\n",
        "* Pull Through Rate  = 10  \n",
        "\n",
        "* ACH %  = 5  \n",
        "\n",
        "* Average Effort Score  = 10  \n",
        "\n",
        "* Full App Submit Rate  = 15  \n",
        "\n",
        "<br>\n",
        "\n",
        "\n",
        "**Total = 100  **"
      ]
    },
    {
      "cell_type": "markdown",
      "metadata": {
        "id": "tXTnrKpEmFit",
        "colab_type": "text"
      },
      "source": [
        "**Baseline Score = 50**  "
      ]
    },
    {
      "cell_type": "markdown",
      "metadata": {
        "id": "4LkIhMUNmbVx",
        "colab_type": "text"
      },
      "source": [
        "# Programming"
      ]
    },
    {
      "cell_type": "markdown",
      "metadata": {
        "id": "TY5kQg3mErPE",
        "colab_type": "text"
      },
      "source": [
        "## Load Libraries"
      ]
    },
    {
      "cell_type": "code",
      "metadata": {
        "id": "MAq70G4VmdGT",
        "colab_type": "code",
        "colab": {}
      },
      "source": [
        "from functools import reduce\n",
        "import pandas as pd\n",
        "import numpy as np\n",
        "import seaborn as sns\n",
        "import matplotlib.pyplot as plt"
      ],
      "execution_count": null,
      "outputs": []
    },
    {
      "cell_type": "markdown",
      "metadata": {
        "id": "UuvGqZsMEuVC",
        "colab_type": "text"
      },
      "source": [
        "## Functions"
      ]
    },
    {
      "cell_type": "code",
      "metadata": {
        "id": "luf0IwDYE2fK",
        "colab_type": "code",
        "colab": {}
      },
      "source": [
        "# function to get dataframe names\n",
        "def get_df_name(df):\n",
        "    name =[x for x in globals() if globals()[x] is df][0]\n",
        "    return name"
      ],
      "execution_count": null,
      "outputs": []
    },
    {
      "cell_type": "markdown",
      "metadata": {
        "id": "QNAQJxe2mfqp",
        "colab_type": "text"
      },
      "source": [
        "## Load Data"
      ]
    },
    {
      "cell_type": "code",
      "metadata": {
        "id": "ieTKcM_1UeZV",
        "colab_type": "code",
        "colab": {}
      },
      "source": [
        "Dec = pd.read_csv(\"Dec_LC_Performance_data.csv\")\n",
        "Jan = pd.read_csv(\"Jan_LC_Performance_data.csv\")\n",
        "Feb = pd.read_csv(\"Feb_LC_Performance_data.csv\")\n",
        "Mar = pd.read_csv(\"Mar_LC_Performance_data.csv\")\n",
        "Apr = pd.read_csv(\"Apr_LC_Performance_data.csv\")"
      ],
      "execution_count": null,
      "outputs": []
    },
    {
      "cell_type": "code",
      "metadata": {
        "id": "fYuHSzopmgk4",
        "colab_type": "code",
        "colab": {}
      },
      "source": [
        "# load data files\n",
        "oneDayFundRate = pd.read_csv(\"https://raw.githubusercontent.com/papagorgio23/Northwestern/master/422%20-%20Practical%20Machine%20Learning/Week1/24fundRate.csv\")\n",
        "ACH = pd.read_csv(\"https://raw.githubusercontent.com/papagorgio23/Northwestern/master/422%20-%20Practical%20Machine%20Learning/Week1/ACH.csv\")\n",
        "Effort = pd.read_csv(\"https://raw.githubusercontent.com/papagorgio23/Northwestern/master/422%20-%20Practical%20Machine%20Learning/Week1/Avg%20Effort.csv\")\n",
        "CoApp = pd.read_csv(\"https://raw.githubusercontent.com/papagorgio23/Northwestern/master/422%20-%20Practical%20Machine%20Learning/Week1/CoApp.csv\")\n",
        "FAS = pd.read_csv(\"https://raw.githubusercontent.com/papagorgio23/Northwestern/master/422%20-%20Practical%20Machine%20Learning/Week1/FAS%25.csv\")\n",
        "FullApprove = pd.read_csv(\"https://raw.githubusercontent.com/papagorgio23/Northwestern/master/422%20-%20Practical%20Machine%20Learning/Week1/Full%20App%20Approved.csv\")\n",
        "FundRate = pd.read_csv(\"https://raw.githubusercontent.com/papagorgio23/Northwestern/master/422%20-%20Practical%20Machine%20Learning/Week1/Fund%20Rate.csv\")\n",
        "LoansFunded = pd.read_csv(\"https://raw.githubusercontent.com/papagorgio23/Northwestern/master/422%20-%20Practical%20Machine%20Learning/Week1/Loans%20Funded.csv\")\n",
        "PullThrough = pd.read_csv(\"https://raw.githubusercontent.com/papagorgio23/Northwestern/master/422%20-%20Practical%20Machine%20Learning/Week1/Pull%20Through%20Rate.csv\")"
      ],
      "execution_count": null,
      "outputs": []
    },
    {
      "cell_type": "markdown",
      "metadata": {
        "id": "2F8ZDsFFtCpv",
        "colab_type": "text"
      },
      "source": [
        "## Check Data"
      ]
    },
    {
      "cell_type": "markdown",
      "metadata": {
        "id": "9lCuRI9vGQfp",
        "colab_type": "text"
      },
      "source": [
        "### Loop Files"
      ]
    },
    {
      "cell_type": "code",
      "metadata": {
        "id": "_v7R1EVNgNEp",
        "colab_type": "code",
        "colab": {
          "base_uri": "https://localhost:8080/",
          "height": 34
        },
        "outputId": "db1c5531-a70d-4904-8278-aca0dd6feae7"
      },
      "source": [
        "# test to see if it works\n",
        "get_df_name(Dec)"
      ],
      "execution_count": null,
      "outputs": [
        {
          "output_type": "execute_result",
          "data": {
            "text/plain": [
              "'Dec'"
            ]
          },
          "metadata": {
            "tags": []
          },
          "execution_count": 5
        }
      ]
    },
    {
      "cell_type": "code",
      "metadata": {
        "id": "g5zwoENtwMkl",
        "colab_type": "code",
        "colab": {}
      },
      "source": [
        "# put all the datafiles into one object (list)\n",
        "files = [Dec, Jan, Feb , Mar, Apr]"
      ],
      "execution_count": null,
      "outputs": []
    },
    {
      "cell_type": "code",
      "metadata": {
        "id": "dFRraciEfUUy",
        "colab_type": "code",
        "colab": {
          "base_uri": "https://localhost:8080/",
          "height": 187
        },
        "outputId": "ed2ee5e1-70e1-4014-c064-3ff26412ea92"
      },
      "source": [
        "for x in files:\n",
        "  objectName = get_df_name(x)\n",
        "  details = x.shape\n",
        "  print(\"Dataframe name is {}. There are {} number of observations with {} columns in this dataframe.\\n\".format(objectName, details[0], details[1]))"
      ],
      "execution_count": null,
      "outputs": [
        {
          "output_type": "stream",
          "text": [
            "Dataframe name is Dec. There are 330 number of observations with 6 columns in this dataframe.\n",
            "\n",
            "Dataframe name is Jan. There are 330 number of observations with 6 columns in this dataframe.\n",
            "\n",
            "Dataframe name is Feb. There are 330 number of observations with 6 columns in this dataframe.\n",
            "\n",
            "Dataframe name is Mar. There are 330 number of observations with 6 columns in this dataframe.\n",
            "\n",
            "Dataframe name is Apr. There are 330 number of observations with 6 columns in this dataframe.\n",
            "\n"
          ],
          "name": "stdout"
        }
      ]
    },
    {
      "cell_type": "code",
      "metadata": {
        "id": "Ov2K_DJhGOu8",
        "colab_type": "code",
        "colab": {
          "base_uri": "https://localhost:8080/",
          "height": 527
        },
        "outputId": "514c3c82-9b26-4528-cb9b-bfee18b64b12"
      },
      "source": [
        "for x in files:\n",
        "  objectName = get_df_name(x)\n",
        "  print(\"\\n File Name = {} \\n\".format(objectName), x.columns, \"\\n\")"
      ],
      "execution_count": null,
      "outputs": [
        {
          "output_type": "stream",
          "text": [
            "\n",
            " File Name = Dec \n",
            " Index(['Loan Officer Name', 'Manager', 'Measure Names', 'Team',\n",
            "       'Total Score - Sort', 'Measure Values'],\n",
            "      dtype='object') \n",
            "\n",
            "\n",
            " File Name = Jan \n",
            " Index(['Loan Officer Name', 'Manager', 'Measure Names', 'Team',\n",
            "       'Total Score - Sort', 'Measure Values'],\n",
            "      dtype='object') \n",
            "\n",
            "\n",
            " File Name = Feb \n",
            " Index(['Loan Officer Name', 'Manager', 'Measure Names', 'Team',\n",
            "       'Total Score - Sort', 'Measure Values'],\n",
            "      dtype='object') \n",
            "\n",
            "\n",
            " File Name = Mar \n",
            " Index(['Loan Officer Name', 'Manager', 'Measure Names', 'Team',\n",
            "       'Total Score - Sort', 'Measure Values'],\n",
            "      dtype='object') \n",
            "\n",
            "\n",
            " File Name = Apr \n",
            " Index(['Loan Officer Name', 'Manager', 'Measure Names', 'Team',\n",
            "       'Total Score - Sort', 'Measure Values'],\n",
            "      dtype='object') \n",
            "\n"
          ],
          "name": "stdout"
        }
      ]
    },
    {
      "cell_type": "code",
      "metadata": {
        "id": "xZRq9UghwVRQ",
        "colab_type": "code",
        "colab": {
          "base_uri": "https://localhost:8080/",
          "height": 1037
        },
        "outputId": "37a004e9-daed-420c-a7c7-3e90fcad135f"
      },
      "source": [
        "for x in files:\n",
        "  objectName = get_df_name(x)\n",
        "  print(\"\\n File Name = {} \\n \\n\".format(objectName), x.head(), \"\\n\")"
      ],
      "execution_count": null,
      "outputs": [
        {
          "output_type": "stream",
          "text": [
            "\n",
            " File Name = Dec \n",
            " \n",
            "   Loan Officer Name  Manager  ... Total Score - Sort Measure Values\n",
            "0         Jesse New  Beverly  ...         -69.227005      69.227005\n",
            "1         Jesse New  Beverly  ...         -69.227005       5.767989\n",
            "2         Jesse New  Beverly  ...         -69.227005     375.906760\n",
            "3         Jesse New  Beverly  ...         -69.227005       3.924674\n",
            "4         Jesse New  Beverly  ...         -69.227005       0.945455\n",
            "\n",
            "[5 rows x 6 columns] \n",
            "\n",
            "\n",
            " File Name = Jan \n",
            " \n",
            "   Loan Officer Name  Manager  ... Total Score - Sort Measure Values\n",
            "0         Jesse New  Beverly  ...         -84.096195      84.096195\n",
            "1         Jesse New  Beverly  ...         -84.096195       8.441285\n",
            "2         Jesse New  Beverly  ...         -84.096195     421.946233\n",
            "3         Jesse New  Beverly  ...         -84.096195       4.034418\n",
            "4         Jesse New  Beverly  ...         -84.096195       0.953846\n",
            "\n",
            "[5 rows x 6 columns] \n",
            "\n",
            "\n",
            " File Name = Feb \n",
            " \n",
            "   Loan Officer Name  Manager  ... Total Score - Sort Measure Values\n",
            "0         Jesse New  Beverly  ...         -84.009586      84.009586\n",
            "1         Jesse New  Beverly  ...         -84.009586       6.644706\n",
            "2         Jesse New  Beverly  ...         -84.009586     388.912032\n",
            "3         Jesse New  Beverly  ...         -84.009586       3.451363\n",
            "4         Jesse New  Beverly  ...         -84.009586       0.913793\n",
            "\n",
            "[5 rows x 6 columns] \n",
            "\n",
            "\n",
            " File Name = Mar \n",
            " \n",
            "     Loan Officer Name  Manager  ... Total Score - Sort Measure Values\n",
            "0  Giovanni Fernandez  Beverly  ...         -84.391059      84.391059\n",
            "1  Giovanni Fernandez  Beverly  ...         -84.391059       2.660905\n",
            "2  Giovanni Fernandez  Beverly  ...         -84.391059     329.828769\n",
            "3  Giovanni Fernandez  Beverly  ...         -84.391059       4.103868\n",
            "4  Giovanni Fernandez  Beverly  ...         -84.391059       0.959459\n",
            "\n",
            "[5 rows x 6 columns] \n",
            "\n",
            "\n",
            " File Name = Apr \n",
            " \n",
            "   Loan Officer Name  Manager  ... Total Score - Sort Measure Values\n",
            "0        Holli Kern  Beverly  ...         -86.526532      86.526532\n",
            "1        Holli Kern  Beverly  ...         -86.526532       8.634945\n",
            "2        Holli Kern  Beverly  ...         -86.526532     426.704360\n",
            "3        Holli Kern  Beverly  ...         -86.526532       1.827922\n",
            "4        Holli Kern  Beverly  ...         -86.526532       0.822785\n",
            "\n",
            "[5 rows x 6 columns] \n",
            "\n"
          ],
          "name": "stdout"
        }
      ]
    },
    {
      "cell_type": "code",
      "metadata": {
        "id": "bvfhWSCJjudk",
        "colab_type": "code",
        "colab": {
          "base_uri": "https://localhost:8080/",
          "height": 102
        },
        "outputId": "2f512a5e-484e-43a0-a3dd-ededa6e79d00"
      },
      "source": [
        "for x in files:\n",
        "  objectName = get_df_name(x)\n",
        "  details = x.shape\n",
        "  print(\"{}: {} columns with {} rows\".format(objectName, details[1], details[0]))"
      ],
      "execution_count": null,
      "outputs": [
        {
          "output_type": "stream",
          "text": [
            "Dec: 6 columns with 330 rows\n",
            "Jan: 6 columns with 330 rows\n",
            "Feb: 6 columns with 330 rows\n",
            "Mar: 6 columns with 330 rows\n",
            "Apr: 6 columns with 330 rows\n"
          ],
          "name": "stdout"
        }
      ]
    },
    {
      "cell_type": "markdown",
      "metadata": {
        "id": "Qy4fFW2xrqAd",
        "colab_type": "text"
      },
      "source": [
        "### Join Data"
      ]
    },
    {
      "cell_type": "markdown",
      "metadata": {
        "id": "Jb7Lcb3nvQU-",
        "colab_type": "text"
      },
      "source": [
        "There's always a faster way with programming..."
      ]
    },
    {
      "cell_type": "code",
      "metadata": {
        "id": "c7lzvksitGVl",
        "colab_type": "code",
        "colab": {
          "base_uri": "https://localhost:8080/",
          "height": 204
        },
        "outputId": "b89ae27d-341f-422e-bae4-5787c5d46424"
      },
      "source": [
        "# import function to help speed up the process\n",
        "from functools import reduce\n",
        "\n",
        "# combine ALL the datasets\n",
        "full_data = reduce(lambda left, right: pd.merge(left, right, on= ['Loan Officer Name', 'Month of effective_date']), files)\n",
        "\n",
        "# view data\n",
        "full_data.head()"
      ],
      "execution_count": null,
      "outputs": [
        {
          "output_type": "execute_result",
          "data": {
            "text/html": [
              "<div>\n",
              "<style scoped>\n",
              "    .dataframe tbody tr th:only-of-type {\n",
              "        vertical-align: middle;\n",
              "    }\n",
              "\n",
              "    .dataframe tbody tr th {\n",
              "        vertical-align: top;\n",
              "    }\n",
              "\n",
              "    .dataframe thead th {\n",
              "        text-align: right;\n",
              "    }\n",
              "</style>\n",
              "<table border=\"1\" class=\"dataframe\">\n",
              "  <thead>\n",
              "    <tr style=\"text-align: right;\">\n",
              "      <th></th>\n",
              "      <th>Loan Officer Name</th>\n",
              "      <th>Month of effective_date</th>\n",
              "      <th>24 Hour Fund Rate</th>\n",
              "      <th>ACH %</th>\n",
              "      <th>Avg Effort Score</th>\n",
              "      <th>Co-App %</th>\n",
              "      <th>FAS%</th>\n",
              "      <th>Full App Approved %</th>\n",
              "      <th>Fund Rate</th>\n",
              "      <th>Applications Funded</th>\n",
              "      <th>Pull Through Rate</th>\n",
              "    </tr>\n",
              "  </thead>\n",
              "  <tbody>\n",
              "    <tr>\n",
              "      <th>0</th>\n",
              "      <td>Xavier Alcala</td>\n",
              "      <td>December 2018</td>\n",
              "      <td>0.428571</td>\n",
              "      <td>0.964286</td>\n",
              "      <td>287.993478</td>\n",
              "      <td>0.272727</td>\n",
              "      <td>0.258065</td>\n",
              "      <td>0.670455</td>\n",
              "      <td>0.082111</td>\n",
              "      <td>28</td>\n",
              "      <td>0.474576</td>\n",
              "    </tr>\n",
              "    <tr>\n",
              "      <th>1</th>\n",
              "      <td>Victoria Sharpe</td>\n",
              "      <td>December 2018</td>\n",
              "      <td>0.071429</td>\n",
              "      <td>0.833333</td>\n",
              "      <td>333.525439</td>\n",
              "      <td>0.380952</td>\n",
              "      <td>0.295775</td>\n",
              "      <td>0.750000</td>\n",
              "      <td>0.147887</td>\n",
              "      <td>42</td>\n",
              "      <td>0.666667</td>\n",
              "    </tr>\n",
              "    <tr>\n",
              "      <th>2</th>\n",
              "      <td>Victor Guzman</td>\n",
              "      <td>December 2018</td>\n",
              "      <td>0.565217</td>\n",
              "      <td>0.739130</td>\n",
              "      <td>323.434028</td>\n",
              "      <td>0.315217</td>\n",
              "      <td>0.267442</td>\n",
              "      <td>0.652174</td>\n",
              "      <td>0.066860</td>\n",
              "      <td>23</td>\n",
              "      <td>0.383333</td>\n",
              "    </tr>\n",
              "    <tr>\n",
              "      <th>3</th>\n",
              "      <td>Trev Meyer</td>\n",
              "      <td>December 2018</td>\n",
              "      <td>0.285714</td>\n",
              "      <td>0.857143</td>\n",
              "      <td>265.068421</td>\n",
              "      <td>0.289474</td>\n",
              "      <td>0.208219</td>\n",
              "      <td>0.605263</td>\n",
              "      <td>0.076712</td>\n",
              "      <td>28</td>\n",
              "      <td>0.608696</td>\n",
              "    </tr>\n",
              "    <tr>\n",
              "      <th>4</th>\n",
              "      <td>Tia Hancock</td>\n",
              "      <td>December 2018</td>\n",
              "      <td>0.318182</td>\n",
              "      <td>0.863636</td>\n",
              "      <td>225.486667</td>\n",
              "      <td>0.312500</td>\n",
              "      <td>0.213333</td>\n",
              "      <td>0.671875</td>\n",
              "      <td>0.073333</td>\n",
              "      <td>22</td>\n",
              "      <td>0.511628</td>\n",
              "    </tr>\n",
              "  </tbody>\n",
              "</table>\n",
              "</div>"
            ],
            "text/plain": [
              "  Loan Officer Name Month of effective_date  24 Hour Fund Rate     ACH %  \\\n",
              "0     Xavier Alcala           December 2018           0.428571  0.964286   \n",
              "1   Victoria Sharpe           December 2018           0.071429  0.833333   \n",
              "2     Victor Guzman           December 2018           0.565217  0.739130   \n",
              "3        Trev Meyer           December 2018           0.285714  0.857143   \n",
              "4       Tia Hancock           December 2018           0.318182  0.863636   \n",
              "\n",
              "   Avg Effort Score  Co-App %      FAS%  Full App Approved %  Fund Rate  \\\n",
              "0        287.993478  0.272727  0.258065             0.670455   0.082111   \n",
              "1        333.525439  0.380952  0.295775             0.750000   0.147887   \n",
              "2        323.434028  0.315217  0.267442             0.652174   0.066860   \n",
              "3        265.068421  0.289474  0.208219             0.605263   0.076712   \n",
              "4        225.486667  0.312500  0.213333             0.671875   0.073333   \n",
              "\n",
              "   Applications Funded  Pull Through Rate  \n",
              "0                   28           0.474576  \n",
              "1                   42           0.666667  \n",
              "2                   23           0.383333  \n",
              "3                   28           0.608696  \n",
              "4                   22           0.511628  "
            ]
          },
          "metadata": {
            "tags": []
          },
          "execution_count": 158
        }
      ]
    },
    {
      "cell_type": "code",
      "metadata": {
        "id": "dO5jsqZLtfW1",
        "colab_type": "code",
        "colab": {
          "base_uri": "https://localhost:8080/",
          "height": 34
        },
        "outputId": "00e569b6-9c36-4281-dab8-7005b4b30d93"
      },
      "source": [
        "full_data.shape"
      ],
      "execution_count": null,
      "outputs": [
        {
          "output_type": "execute_result",
          "data": {
            "text/plain": [
              "(1416, 11)"
            ]
          },
          "metadata": {
            "tags": []
          },
          "execution_count": 159
        }
      ]
    },
    {
      "cell_type": "markdown",
      "metadata": {
        "id": "sqEETYipw6Tp",
        "colab_type": "text"
      },
      "source": [
        "## EDA (Exploratory Data Analysis)"
      ]
    },
    {
      "cell_type": "code",
      "metadata": {
        "id": "fTC8FcQ6xWN8",
        "colab_type": "code",
        "colab": {
          "base_uri": "https://localhost:8080/",
          "height": 289
        },
        "outputId": "8bbce891-f143-4b61-cd69-0d8e348b79db"
      },
      "source": [
        "full_data.info()"
      ],
      "execution_count": null,
      "outputs": [
        {
          "output_type": "stream",
          "text": [
            "<class 'pandas.core.frame.DataFrame'>\n",
            "Int64Index: 1416 entries, 0 to 1415\n",
            "Data columns (total 11 columns):\n",
            "Loan Officer Name          1416 non-null object\n",
            "Month of effective_date    1416 non-null object\n",
            "24 Hour Fund Rate          1174 non-null float64\n",
            "ACH %                      1174 non-null float64\n",
            "Avg Effort Score           1416 non-null float64\n",
            "Co-App %                   1186 non-null float64\n",
            "FAS%                       1194 non-null float64\n",
            "Full App Approved %        1186 non-null float64\n",
            "Fund Rate                  1194 non-null float64\n",
            "Applications Funded        1416 non-null int64\n",
            "Pull Through Rate          1176 non-null float64\n",
            "dtypes: float64(8), int64(1), object(2)\n",
            "memory usage: 132.8+ KB\n"
          ],
          "name": "stdout"
        }
      ]
    },
    {
      "cell_type": "code",
      "metadata": {
        "id": "vRMcw_yOxc_O",
        "colab_type": "code",
        "colab": {
          "base_uri": "https://localhost:8080/",
          "height": 221
        },
        "outputId": "cc338e11-1aeb-4b41-dcd3-38a802ab746a"
      },
      "source": [
        "# Check NA\n",
        "full_data.isna().sum()"
      ],
      "execution_count": null,
      "outputs": [
        {
          "output_type": "execute_result",
          "data": {
            "text/plain": [
              "Loan Officer Name            0\n",
              "Month of effective_date      0\n",
              "24 Hour Fund Rate          242\n",
              "ACH %                      242\n",
              "Avg Effort Score             0\n",
              "Co-App %                   230\n",
              "FAS%                       222\n",
              "Full App Approved %        230\n",
              "Fund Rate                  222\n",
              "Applications Funded          0\n",
              "Pull Through Rate          240\n",
              "dtype: int64"
            ]
          },
          "metadata": {
            "tags": []
          },
          "execution_count": 162
        }
      ]
    },
    {
      "cell_type": "code",
      "metadata": {
        "id": "hNVvGpTIyhRT",
        "colab_type": "code",
        "colab": {
          "base_uri": "https://localhost:8080/",
          "height": 2003
        },
        "outputId": "1301f673-610e-4f27-dc3d-e6877e747a52"
      },
      "source": [
        "full_data"
      ],
      "execution_count": null,
      "outputs": [
        {
          "output_type": "execute_result",
          "data": {
            "text/html": [
              "<div>\n",
              "<style scoped>\n",
              "    .dataframe tbody tr th:only-of-type {\n",
              "        vertical-align: middle;\n",
              "    }\n",
              "\n",
              "    .dataframe tbody tr th {\n",
              "        vertical-align: top;\n",
              "    }\n",
              "\n",
              "    .dataframe thead th {\n",
              "        text-align: right;\n",
              "    }\n",
              "</style>\n",
              "<table border=\"1\" class=\"dataframe\">\n",
              "  <thead>\n",
              "    <tr style=\"text-align: right;\">\n",
              "      <th></th>\n",
              "      <th>Loan Officer Name</th>\n",
              "      <th>Month of effective_date</th>\n",
              "      <th>24 Hour Fund Rate</th>\n",
              "      <th>ACH %</th>\n",
              "      <th>Avg Effort Score</th>\n",
              "      <th>Co-App %</th>\n",
              "      <th>FAS%</th>\n",
              "      <th>Full App Approved %</th>\n",
              "      <th>Fund Rate</th>\n",
              "      <th>Applications Funded</th>\n",
              "      <th>Pull Through Rate</th>\n",
              "    </tr>\n",
              "  </thead>\n",
              "  <tbody>\n",
              "    <tr>\n",
              "      <th>0</th>\n",
              "      <td>Xavier Alcala</td>\n",
              "      <td>December 2018</td>\n",
              "      <td>0.428571</td>\n",
              "      <td>0.964286</td>\n",
              "      <td>287.993478</td>\n",
              "      <td>0.272727</td>\n",
              "      <td>0.258065</td>\n",
              "      <td>0.670455</td>\n",
              "      <td>0.082111</td>\n",
              "      <td>28</td>\n",
              "      <td>0.474576</td>\n",
              "    </tr>\n",
              "    <tr>\n",
              "      <th>1</th>\n",
              "      <td>Victoria Sharpe</td>\n",
              "      <td>December 2018</td>\n",
              "      <td>0.071429</td>\n",
              "      <td>0.833333</td>\n",
              "      <td>333.525439</td>\n",
              "      <td>0.380952</td>\n",
              "      <td>0.295775</td>\n",
              "      <td>0.750000</td>\n",
              "      <td>0.147887</td>\n",
              "      <td>42</td>\n",
              "      <td>0.666667</td>\n",
              "    </tr>\n",
              "    <tr>\n",
              "      <th>2</th>\n",
              "      <td>Victor Guzman</td>\n",
              "      <td>December 2018</td>\n",
              "      <td>0.565217</td>\n",
              "      <td>0.739130</td>\n",
              "      <td>323.434028</td>\n",
              "      <td>0.315217</td>\n",
              "      <td>0.267442</td>\n",
              "      <td>0.652174</td>\n",
              "      <td>0.066860</td>\n",
              "      <td>23</td>\n",
              "      <td>0.383333</td>\n",
              "    </tr>\n",
              "    <tr>\n",
              "      <th>3</th>\n",
              "      <td>Trev Meyer</td>\n",
              "      <td>December 2018</td>\n",
              "      <td>0.285714</td>\n",
              "      <td>0.857143</td>\n",
              "      <td>265.068421</td>\n",
              "      <td>0.289474</td>\n",
              "      <td>0.208219</td>\n",
              "      <td>0.605263</td>\n",
              "      <td>0.076712</td>\n",
              "      <td>28</td>\n",
              "      <td>0.608696</td>\n",
              "    </tr>\n",
              "    <tr>\n",
              "      <th>4</th>\n",
              "      <td>Tia Hancock</td>\n",
              "      <td>December 2018</td>\n",
              "      <td>0.318182</td>\n",
              "      <td>0.863636</td>\n",
              "      <td>225.486667</td>\n",
              "      <td>0.312500</td>\n",
              "      <td>0.213333</td>\n",
              "      <td>0.671875</td>\n",
              "      <td>0.073333</td>\n",
              "      <td>22</td>\n",
              "      <td>0.511628</td>\n",
              "    </tr>\n",
              "    <tr>\n",
              "      <th>5</th>\n",
              "      <td>Teyonna Russell</td>\n",
              "      <td>December 2018</td>\n",
              "      <td>0.700000</td>\n",
              "      <td>0.633333</td>\n",
              "      <td>279.705556</td>\n",
              "      <td>0.329897</td>\n",
              "      <td>0.218468</td>\n",
              "      <td>0.690722</td>\n",
              "      <td>0.067568</td>\n",
              "      <td>30</td>\n",
              "      <td>0.447761</td>\n",
              "    </tr>\n",
              "    <tr>\n",
              "      <th>6</th>\n",
              "      <td>Terrence Carter</td>\n",
              "      <td>December 2018</td>\n",
              "      <td>0.500000</td>\n",
              "      <td>1.000000</td>\n",
              "      <td>314.672917</td>\n",
              "      <td>0.285714</td>\n",
              "      <td>0.183007</td>\n",
              "      <td>0.428571</td>\n",
              "      <td>0.026144</td>\n",
              "      <td>4</td>\n",
              "      <td>0.333333</td>\n",
              "    </tr>\n",
              "    <tr>\n",
              "      <th>7</th>\n",
              "      <td>Suzanne Cook</td>\n",
              "      <td>December 2018</td>\n",
              "      <td>0.388889</td>\n",
              "      <td>0.888889</td>\n",
              "      <td>297.261667</td>\n",
              "      <td>0.303030</td>\n",
              "      <td>0.244444</td>\n",
              "      <td>0.651515</td>\n",
              "      <td>0.066667</td>\n",
              "      <td>18</td>\n",
              "      <td>0.418605</td>\n",
              "    </tr>\n",
              "    <tr>\n",
              "      <th>8</th>\n",
              "      <td>Steven Droege</td>\n",
              "      <td>December 2018</td>\n",
              "      <td>0.312500</td>\n",
              "      <td>0.781250</td>\n",
              "      <td>241.001961</td>\n",
              "      <td>0.265625</td>\n",
              "      <td>0.236162</td>\n",
              "      <td>0.750000</td>\n",
              "      <td>0.118081</td>\n",
              "      <td>32</td>\n",
              "      <td>0.666667</td>\n",
              "    </tr>\n",
              "    <tr>\n",
              "      <th>9</th>\n",
              "      <td>Steven Cornelius</td>\n",
              "      <td>December 2018</td>\n",
              "      <td>0.137931</td>\n",
              "      <td>0.586207</td>\n",
              "      <td>294.822807</td>\n",
              "      <td>0.318182</td>\n",
              "      <td>0.372881</td>\n",
              "      <td>0.666667</td>\n",
              "      <td>0.163842</td>\n",
              "      <td>29</td>\n",
              "      <td>0.659091</td>\n",
              "    </tr>\n",
              "    <tr>\n",
              "      <th>10</th>\n",
              "      <td>Shelby Massey</td>\n",
              "      <td>December 2018</td>\n",
              "      <td>0.380952</td>\n",
              "      <td>0.666667</td>\n",
              "      <td>241.681250</td>\n",
              "      <td>0.159420</td>\n",
              "      <td>0.216301</td>\n",
              "      <td>0.666667</td>\n",
              "      <td>0.065831</td>\n",
              "      <td>21</td>\n",
              "      <td>0.456522</td>\n",
              "    </tr>\n",
              "    <tr>\n",
              "      <th>11</th>\n",
              "      <td>Sergio Jauregui</td>\n",
              "      <td>December 2018</td>\n",
              "      <td>0.346154</td>\n",
              "      <td>0.884615</td>\n",
              "      <td>296.554762</td>\n",
              "      <td>0.303922</td>\n",
              "      <td>0.241706</td>\n",
              "      <td>0.529412</td>\n",
              "      <td>0.061611</td>\n",
              "      <td>26</td>\n",
              "      <td>0.481481</td>\n",
              "    </tr>\n",
              "    <tr>\n",
              "      <th>12</th>\n",
              "      <td>Serena Chiago</td>\n",
              "      <td>December 2018</td>\n",
              "      <td>0.275000</td>\n",
              "      <td>0.775000</td>\n",
              "      <td>393.806944</td>\n",
              "      <td>0.256637</td>\n",
              "      <td>0.283208</td>\n",
              "      <td>0.539823</td>\n",
              "      <td>0.100251</td>\n",
              "      <td>40</td>\n",
              "      <td>0.655738</td>\n",
              "    </tr>\n",
              "    <tr>\n",
              "      <th>13</th>\n",
              "      <td>Sean Greenberg</td>\n",
              "      <td>December 2018</td>\n",
              "      <td>0.577778</td>\n",
              "      <td>0.933333</td>\n",
              "      <td>392.907500</td>\n",
              "      <td>0.239437</td>\n",
              "      <td>0.265918</td>\n",
              "      <td>0.676056</td>\n",
              "      <td>0.084270</td>\n",
              "      <td>45</td>\n",
              "      <td>0.468750</td>\n",
              "    </tr>\n",
              "    <tr>\n",
              "      <th>14</th>\n",
              "      <td>Scott Manning</td>\n",
              "      <td>December 2018</td>\n",
              "      <td>0.318182</td>\n",
              "      <td>0.909091</td>\n",
              "      <td>168.102222</td>\n",
              "      <td>0.279070</td>\n",
              "      <td>0.213930</td>\n",
              "      <td>0.720930</td>\n",
              "      <td>0.109453</td>\n",
              "      <td>22</td>\n",
              "      <td>0.709677</td>\n",
              "    </tr>\n",
              "    <tr>\n",
              "      <th>15</th>\n",
              "      <td>Sandra Eiger</td>\n",
              "      <td>December 2018</td>\n",
              "      <td>0.400000</td>\n",
              "      <td>0.900000</td>\n",
              "      <td>324.897059</td>\n",
              "      <td>0.352273</td>\n",
              "      <td>0.328358</td>\n",
              "      <td>0.806818</td>\n",
              "      <td>0.149254</td>\n",
              "      <td>40</td>\n",
              "      <td>0.563380</td>\n",
              "    </tr>\n",
              "    <tr>\n",
              "      <th>16</th>\n",
              "      <td>Salvatore Bossio</td>\n",
              "      <td>December 2018</td>\n",
              "      <td>0.400000</td>\n",
              "      <td>0.866667</td>\n",
              "      <td>350.944737</td>\n",
              "      <td>0.353448</td>\n",
              "      <td>0.309333</td>\n",
              "      <td>0.594828</td>\n",
              "      <td>0.120000</td>\n",
              "      <td>45</td>\n",
              "      <td>0.652174</td>\n",
              "    </tr>\n",
              "    <tr>\n",
              "      <th>17</th>\n",
              "      <td>Ryan Bauchman</td>\n",
              "      <td>December 2018</td>\n",
              "      <td>0.423077</td>\n",
              "      <td>0.730769</td>\n",
              "      <td>245.427500</td>\n",
              "      <td>0.236559</td>\n",
              "      <td>0.218310</td>\n",
              "      <td>0.698925</td>\n",
              "      <td>0.061033</td>\n",
              "      <td>26</td>\n",
              "      <td>0.400000</td>\n",
              "    </tr>\n",
              "    <tr>\n",
              "      <th>18</th>\n",
              "      <td>Ruth Chavez</td>\n",
              "      <td>December 2018</td>\n",
              "      <td>0.531250</td>\n",
              "      <td>0.843750</td>\n",
              "      <td>294.007937</td>\n",
              "      <td>0.318681</td>\n",
              "      <td>0.257790</td>\n",
              "      <td>0.626374</td>\n",
              "      <td>0.090652</td>\n",
              "      <td>32</td>\n",
              "      <td>0.561404</td>\n",
              "    </tr>\n",
              "    <tr>\n",
              "      <th>19</th>\n",
              "      <td>Ronald Rinaldi</td>\n",
              "      <td>December 2018</td>\n",
              "      <td>0.606061</td>\n",
              "      <td>0.848485</td>\n",
              "      <td>262.571296</td>\n",
              "      <td>0.294118</td>\n",
              "      <td>0.299559</td>\n",
              "      <td>0.750000</td>\n",
              "      <td>0.145374</td>\n",
              "      <td>33</td>\n",
              "      <td>0.647059</td>\n",
              "    </tr>\n",
              "    <tr>\n",
              "      <th>20</th>\n",
              "      <td>Rodolfo Zaccaria</td>\n",
              "      <td>December 2018</td>\n",
              "      <td>0.305556</td>\n",
              "      <td>0.972222</td>\n",
              "      <td>283.850725</td>\n",
              "      <td>0.240506</td>\n",
              "      <td>0.255250</td>\n",
              "      <td>0.556962</td>\n",
              "      <td>0.058158</td>\n",
              "      <td>36</td>\n",
              "      <td>0.409091</td>\n",
              "    </tr>\n",
              "    <tr>\n",
              "      <th>21</th>\n",
              "      <td>Robert Shaw</td>\n",
              "      <td>December 2018</td>\n",
              "      <td>0.142857</td>\n",
              "      <td>0.714286</td>\n",
              "      <td>289.435507</td>\n",
              "      <td>0.324675</td>\n",
              "      <td>0.205333</td>\n",
              "      <td>0.701299</td>\n",
              "      <td>0.056000</td>\n",
              "      <td>21</td>\n",
              "      <td>0.388889</td>\n",
              "    </tr>\n",
              "    <tr>\n",
              "      <th>22</th>\n",
              "      <td>Robert Kohrs</td>\n",
              "      <td>December 2018</td>\n",
              "      <td>0.275862</td>\n",
              "      <td>0.793103</td>\n",
              "      <td>221.697917</td>\n",
              "      <td>0.337349</td>\n",
              "      <td>0.290210</td>\n",
              "      <td>0.626506</td>\n",
              "      <td>0.101399</td>\n",
              "      <td>29</td>\n",
              "      <td>0.557692</td>\n",
              "    </tr>\n",
              "    <tr>\n",
              "      <th>23</th>\n",
              "      <td>Robert Hart</td>\n",
              "      <td>December 2018</td>\n",
              "      <td>0.300000</td>\n",
              "      <td>0.933333</td>\n",
              "      <td>294.472500</td>\n",
              "      <td>0.337662</td>\n",
              "      <td>0.236196</td>\n",
              "      <td>0.649351</td>\n",
              "      <td>0.092025</td>\n",
              "      <td>30</td>\n",
              "      <td>0.600000</td>\n",
              "    </tr>\n",
              "    <tr>\n",
              "      <th>24</th>\n",
              "      <td>Rebekah Miles</td>\n",
              "      <td>December 2018</td>\n",
              "      <td>0.227273</td>\n",
              "      <td>0.772727</td>\n",
              "      <td>247.450000</td>\n",
              "      <td>0.280702</td>\n",
              "      <td>0.245690</td>\n",
              "      <td>0.701754</td>\n",
              "      <td>0.094828</td>\n",
              "      <td>22</td>\n",
              "      <td>0.550000</td>\n",
              "    </tr>\n",
              "    <tr>\n",
              "      <th>25</th>\n",
              "      <td>Raymond Deherrera</td>\n",
              "      <td>December 2018</td>\n",
              "      <td>0.260870</td>\n",
              "      <td>0.956522</td>\n",
              "      <td>211.193478</td>\n",
              "      <td>0.300000</td>\n",
              "      <td>0.183486</td>\n",
              "      <td>0.666667</td>\n",
              "      <td>0.070336</td>\n",
              "      <td>23</td>\n",
              "      <td>0.575000</td>\n",
              "    </tr>\n",
              "    <tr>\n",
              "      <th>26</th>\n",
              "      <td>Quentin Griffen</td>\n",
              "      <td>December 2018</td>\n",
              "      <td>1.000000</td>\n",
              "      <td>0.666667</td>\n",
              "      <td>343.662500</td>\n",
              "      <td>0.191489</td>\n",
              "      <td>0.252688</td>\n",
              "      <td>0.425532</td>\n",
              "      <td>0.016129</td>\n",
              "      <td>3</td>\n",
              "      <td>0.150000</td>\n",
              "    </tr>\n",
              "    <tr>\n",
              "      <th>27</th>\n",
              "      <td>Patrick Reagan</td>\n",
              "      <td>December 2018</td>\n",
              "      <td>0.464286</td>\n",
              "      <td>0.821429</td>\n",
              "      <td>227.568182</td>\n",
              "      <td>0.289474</td>\n",
              "      <td>0.286432</td>\n",
              "      <td>0.552632</td>\n",
              "      <td>0.070352</td>\n",
              "      <td>28</td>\n",
              "      <td>0.444444</td>\n",
              "    </tr>\n",
              "    <tr>\n",
              "      <th>28</th>\n",
              "      <td>Pascal Volz</td>\n",
              "      <td>December 2018</td>\n",
              "      <td>0.428571</td>\n",
              "      <td>0.642857</td>\n",
              "      <td>220.903623</td>\n",
              "      <td>0.250000</td>\n",
              "      <td>0.191436</td>\n",
              "      <td>0.710526</td>\n",
              "      <td>0.070529</td>\n",
              "      <td>28</td>\n",
              "      <td>0.518519</td>\n",
              "    </tr>\n",
              "    <tr>\n",
              "      <th>29</th>\n",
              "      <td>Oscar Alejandro</td>\n",
              "      <td>December 2018</td>\n",
              "      <td>0.458333</td>\n",
              "      <td>0.875000</td>\n",
              "      <td>252.075833</td>\n",
              "      <td>0.244444</td>\n",
              "      <td>0.287540</td>\n",
              "      <td>0.544444</td>\n",
              "      <td>0.076677</td>\n",
              "      <td>24</td>\n",
              "      <td>0.489796</td>\n",
              "    </tr>\n",
              "    <tr>\n",
              "      <th>...</th>\n",
              "      <td>...</td>\n",
              "      <td>...</td>\n",
              "      <td>...</td>\n",
              "      <td>...</td>\n",
              "      <td>...</td>\n",
              "      <td>...</td>\n",
              "      <td>...</td>\n",
              "      <td>...</td>\n",
              "      <td>...</td>\n",
              "      <td>...</td>\n",
              "      <td>...</td>\n",
              "    </tr>\n",
              "    <tr>\n",
              "      <th>1386</th>\n",
              "      <td>Daniel Allen</td>\n",
              "      <td>January 2018</td>\n",
              "      <td>NaN</td>\n",
              "      <td>NaN</td>\n",
              "      <td>0.000000</td>\n",
              "      <td>NaN</td>\n",
              "      <td>NaN</td>\n",
              "      <td>NaN</td>\n",
              "      <td>NaN</td>\n",
              "      <td>0</td>\n",
              "      <td>NaN</td>\n",
              "    </tr>\n",
              "    <tr>\n",
              "      <th>1387</th>\n",
              "      <td>Dana Flores</td>\n",
              "      <td>January 2018</td>\n",
              "      <td>0.000000</td>\n",
              "      <td>1.000000</td>\n",
              "      <td>194.005556</td>\n",
              "      <td>0.250000</td>\n",
              "      <td>0.123077</td>\n",
              "      <td>0.562500</td>\n",
              "      <td>0.007692</td>\n",
              "      <td>1</td>\n",
              "      <td>0.111111</td>\n",
              "    </tr>\n",
              "    <tr>\n",
              "      <th>1388</th>\n",
              "      <td>Dana Boyse</td>\n",
              "      <td>January 2018</td>\n",
              "      <td>0.250000</td>\n",
              "      <td>0.750000</td>\n",
              "      <td>221.089394</td>\n",
              "      <td>0.447368</td>\n",
              "      <td>0.348624</td>\n",
              "      <td>0.631579</td>\n",
              "      <td>0.110092</td>\n",
              "      <td>24</td>\n",
              "      <td>0.500000</td>\n",
              "    </tr>\n",
              "    <tr>\n",
              "      <th>1389</th>\n",
              "      <td>Dajuan Sowers</td>\n",
              "      <td>January 2018</td>\n",
              "      <td>0.242424</td>\n",
              "      <td>1.000000</td>\n",
              "      <td>243.730556</td>\n",
              "      <td>0.386792</td>\n",
              "      <td>0.215010</td>\n",
              "      <td>0.603774</td>\n",
              "      <td>0.066937</td>\n",
              "      <td>33</td>\n",
              "      <td>0.515625</td>\n",
              "    </tr>\n",
              "    <tr>\n",
              "      <th>1390</th>\n",
              "      <td>Cynthia Coughlin</td>\n",
              "      <td>January 2018</td>\n",
              "      <td>NaN</td>\n",
              "      <td>NaN</td>\n",
              "      <td>0.000000</td>\n",
              "      <td>NaN</td>\n",
              "      <td>NaN</td>\n",
              "      <td>NaN</td>\n",
              "      <td>NaN</td>\n",
              "      <td>0</td>\n",
              "      <td>NaN</td>\n",
              "    </tr>\n",
              "    <tr>\n",
              "      <th>1391</th>\n",
              "      <td>Cory Walker</td>\n",
              "      <td>January 2018</td>\n",
              "      <td>0.161290</td>\n",
              "      <td>1.000000</td>\n",
              "      <td>398.170667</td>\n",
              "      <td>0.309211</td>\n",
              "      <td>0.327586</td>\n",
              "      <td>0.565789</td>\n",
              "      <td>0.066810</td>\n",
              "      <td>31</td>\n",
              "      <td>0.360465</td>\n",
              "    </tr>\n",
              "    <tr>\n",
              "      <th>1392</th>\n",
              "      <td>Clinton Jones</td>\n",
              "      <td>January 2018</td>\n",
              "      <td>0.269231</td>\n",
              "      <td>0.307692</td>\n",
              "      <td>302.048611</td>\n",
              "      <td>0.252632</td>\n",
              "      <td>0.289634</td>\n",
              "      <td>0.526316</td>\n",
              "      <td>0.079268</td>\n",
              "      <td>26</td>\n",
              "      <td>0.520000</td>\n",
              "    </tr>\n",
              "    <tr>\n",
              "      <th>1393</th>\n",
              "      <td>Christopher Thompson</td>\n",
              "      <td>January 2018</td>\n",
              "      <td>0.200000</td>\n",
              "      <td>0.600000</td>\n",
              "      <td>244.992593</td>\n",
              "      <td>0.233333</td>\n",
              "      <td>0.309278</td>\n",
              "      <td>0.466667</td>\n",
              "      <td>0.051546</td>\n",
              "      <td>5</td>\n",
              "      <td>0.357143</td>\n",
              "    </tr>\n",
              "    <tr>\n",
              "      <th>1394</th>\n",
              "      <td>Christopher Avent</td>\n",
              "      <td>January 2018</td>\n",
              "      <td>0.304348</td>\n",
              "      <td>0.478261</td>\n",
              "      <td>330.456250</td>\n",
              "      <td>0.340659</td>\n",
              "      <td>0.280864</td>\n",
              "      <td>0.505495</td>\n",
              "      <td>0.070988</td>\n",
              "      <td>23</td>\n",
              "      <td>0.500000</td>\n",
              "    </tr>\n",
              "    <tr>\n",
              "      <th>1395</th>\n",
              "      <td>Cassandra Gonzalez</td>\n",
              "      <td>January 2018</td>\n",
              "      <td>0.000000</td>\n",
              "      <td>0.800000</td>\n",
              "      <td>234.423611</td>\n",
              "      <td>0.269663</td>\n",
              "      <td>0.261765</td>\n",
              "      <td>0.348315</td>\n",
              "      <td>0.029412</td>\n",
              "      <td>10</td>\n",
              "      <td>0.322581</td>\n",
              "    </tr>\n",
              "    <tr>\n",
              "      <th>1396</th>\n",
              "      <td>Casey Mamoe</td>\n",
              "      <td>January 2018</td>\n",
              "      <td>0.228571</td>\n",
              "      <td>0.914286</td>\n",
              "      <td>305.557692</td>\n",
              "      <td>0.360294</td>\n",
              "      <td>0.330900</td>\n",
              "      <td>0.632353</td>\n",
              "      <td>0.085158</td>\n",
              "      <td>35</td>\n",
              "      <td>0.406977</td>\n",
              "    </tr>\n",
              "    <tr>\n",
              "      <th>1397</th>\n",
              "      <td>Candyce Sims</td>\n",
              "      <td>January 2018</td>\n",
              "      <td>0.250000</td>\n",
              "      <td>0.750000</td>\n",
              "      <td>315.403968</td>\n",
              "      <td>0.222222</td>\n",
              "      <td>0.280374</td>\n",
              "      <td>0.522222</td>\n",
              "      <td>0.074766</td>\n",
              "      <td>24</td>\n",
              "      <td>0.510638</td>\n",
              "    </tr>\n",
              "    <tr>\n",
              "      <th>1398</th>\n",
              "      <td>Brittany Simon</td>\n",
              "      <td>January 2018</td>\n",
              "      <td>0.050000</td>\n",
              "      <td>0.850000</td>\n",
              "      <td>331.628000</td>\n",
              "      <td>0.371429</td>\n",
              "      <td>0.248815</td>\n",
              "      <td>0.457143</td>\n",
              "      <td>0.047393</td>\n",
              "      <td>20</td>\n",
              "      <td>0.416667</td>\n",
              "    </tr>\n",
              "    <tr>\n",
              "      <th>1399</th>\n",
              "      <td>Brianna Simon</td>\n",
              "      <td>January 2018</td>\n",
              "      <td>0.111111</td>\n",
              "      <td>0.944444</td>\n",
              "      <td>275.010000</td>\n",
              "      <td>0.330097</td>\n",
              "      <td>0.286908</td>\n",
              "      <td>0.485437</td>\n",
              "      <td>0.050139</td>\n",
              "      <td>18</td>\n",
              "      <td>0.360000</td>\n",
              "    </tr>\n",
              "    <tr>\n",
              "      <th>1400</th>\n",
              "      <td>Brian Barnes</td>\n",
              "      <td>January 2018</td>\n",
              "      <td>0.083333</td>\n",
              "      <td>0.666667</td>\n",
              "      <td>276.295139</td>\n",
              "      <td>0.238095</td>\n",
              "      <td>0.263323</td>\n",
              "      <td>0.488095</td>\n",
              "      <td>0.037618</td>\n",
              "      <td>12</td>\n",
              "      <td>0.292683</td>\n",
              "    </tr>\n",
              "    <tr>\n",
              "      <th>1401</th>\n",
              "      <td>Bret Erixon</td>\n",
              "      <td>January 2018</td>\n",
              "      <td>0.200000</td>\n",
              "      <td>0.333333</td>\n",
              "      <td>280.652667</td>\n",
              "      <td>0.344086</td>\n",
              "      <td>0.244094</td>\n",
              "      <td>0.494624</td>\n",
              "      <td>0.039370</td>\n",
              "      <td>15</td>\n",
              "      <td>0.326087</td>\n",
              "    </tr>\n",
              "    <tr>\n",
              "      <th>1402</th>\n",
              "      <td>Brent Anderson</td>\n",
              "      <td>January 2018</td>\n",
              "      <td>0.750000</td>\n",
              "      <td>1.000000</td>\n",
              "      <td>297.292593</td>\n",
              "      <td>0.392157</td>\n",
              "      <td>0.272727</td>\n",
              "      <td>0.490196</td>\n",
              "      <td>0.021390</td>\n",
              "      <td>4</td>\n",
              "      <td>0.160000</td>\n",
              "    </tr>\n",
              "    <tr>\n",
              "      <th>1403</th>\n",
              "      <td>Brandi Dix</td>\n",
              "      <td>January 2018</td>\n",
              "      <td>0.250000</td>\n",
              "      <td>0.750000</td>\n",
              "      <td>406.810256</td>\n",
              "      <td>0.447154</td>\n",
              "      <td>0.283410</td>\n",
              "      <td>0.634146</td>\n",
              "      <td>0.082949</td>\n",
              "      <td>36</td>\n",
              "      <td>0.461538</td>\n",
              "    </tr>\n",
              "    <tr>\n",
              "      <th>1404</th>\n",
              "      <td>Bobby Vizcaya</td>\n",
              "      <td>January 2018</td>\n",
              "      <td>0.225806</td>\n",
              "      <td>0.645161</td>\n",
              "      <td>266.315278</td>\n",
              "      <td>0.495146</td>\n",
              "      <td>0.302941</td>\n",
              "      <td>0.601942</td>\n",
              "      <td>0.091176</td>\n",
              "      <td>31</td>\n",
              "      <td>0.500000</td>\n",
              "    </tr>\n",
              "    <tr>\n",
              "      <th>1405</th>\n",
              "      <td>Bharat Patel</td>\n",
              "      <td>January 2018</td>\n",
              "      <td>0.136364</td>\n",
              "      <td>0.727273</td>\n",
              "      <td>288.763333</td>\n",
              "      <td>0.303797</td>\n",
              "      <td>0.230321</td>\n",
              "      <td>0.544304</td>\n",
              "      <td>0.064140</td>\n",
              "      <td>22</td>\n",
              "      <td>0.511628</td>\n",
              "    </tr>\n",
              "    <tr>\n",
              "      <th>1406</th>\n",
              "      <td>Anthony Quintero</td>\n",
              "      <td>January 2018</td>\n",
              "      <td>NaN</td>\n",
              "      <td>NaN</td>\n",
              "      <td>0.000000</td>\n",
              "      <td>NaN</td>\n",
              "      <td>NaN</td>\n",
              "      <td>NaN</td>\n",
              "      <td>NaN</td>\n",
              "      <td>0</td>\n",
              "      <td>NaN</td>\n",
              "    </tr>\n",
              "    <tr>\n",
              "      <th>1407</th>\n",
              "      <td>Anthony Curcio</td>\n",
              "      <td>January 2018</td>\n",
              "      <td>0.250000</td>\n",
              "      <td>0.937500</td>\n",
              "      <td>165.707895</td>\n",
              "      <td>0.405797</td>\n",
              "      <td>0.396552</td>\n",
              "      <td>0.478261</td>\n",
              "      <td>0.091954</td>\n",
              "      <td>16</td>\n",
              "      <td>0.484848</td>\n",
              "    </tr>\n",
              "    <tr>\n",
              "      <th>1408</th>\n",
              "      <td>Anthony Cisneros</td>\n",
              "      <td>January 2018</td>\n",
              "      <td>NaN</td>\n",
              "      <td>NaN</td>\n",
              "      <td>0.000000</td>\n",
              "      <td>NaN</td>\n",
              "      <td>NaN</td>\n",
              "      <td>NaN</td>\n",
              "      <td>NaN</td>\n",
              "      <td>0</td>\n",
              "      <td>NaN</td>\n",
              "    </tr>\n",
              "    <tr>\n",
              "      <th>1409</th>\n",
              "      <td>Aneasha Meade</td>\n",
              "      <td>January 2018</td>\n",
              "      <td>NaN</td>\n",
              "      <td>NaN</td>\n",
              "      <td>0.000000</td>\n",
              "      <td>NaN</td>\n",
              "      <td>NaN</td>\n",
              "      <td>NaN</td>\n",
              "      <td>NaN</td>\n",
              "      <td>0</td>\n",
              "      <td>NaN</td>\n",
              "    </tr>\n",
              "    <tr>\n",
              "      <th>1410</th>\n",
              "      <td>Amanda Fuller</td>\n",
              "      <td>January 2018</td>\n",
              "      <td>0.133333</td>\n",
              "      <td>0.833333</td>\n",
              "      <td>201.767361</td>\n",
              "      <td>0.457831</td>\n",
              "      <td>0.245562</td>\n",
              "      <td>0.674699</td>\n",
              "      <td>0.088757</td>\n",
              "      <td>30</td>\n",
              "      <td>0.535714</td>\n",
              "    </tr>\n",
              "    <tr>\n",
              "      <th>1411</th>\n",
              "      <td>Amanda Arkell</td>\n",
              "      <td>January 2018</td>\n",
              "      <td>0.147059</td>\n",
              "      <td>0.735294</td>\n",
              "      <td>407.934058</td>\n",
              "      <td>0.319672</td>\n",
              "      <td>0.358824</td>\n",
              "      <td>0.500000</td>\n",
              "      <td>0.100000</td>\n",
              "      <td>34</td>\n",
              "      <td>0.557377</td>\n",
              "    </tr>\n",
              "    <tr>\n",
              "      <th>1412</th>\n",
              "      <td>Alex Lowry</td>\n",
              "      <td>January 2018</td>\n",
              "      <td>NaN</td>\n",
              "      <td>NaN</td>\n",
              "      <td>0.000000</td>\n",
              "      <td>NaN</td>\n",
              "      <td>NaN</td>\n",
              "      <td>NaN</td>\n",
              "      <td>NaN</td>\n",
              "      <td>0</td>\n",
              "      <td>NaN</td>\n",
              "    </tr>\n",
              "    <tr>\n",
              "      <th>1413</th>\n",
              "      <td>Aimee Long</td>\n",
              "      <td>January 2018</td>\n",
              "      <td>NaN</td>\n",
              "      <td>NaN</td>\n",
              "      <td>0.000000</td>\n",
              "      <td>NaN</td>\n",
              "      <td>NaN</td>\n",
              "      <td>NaN</td>\n",
              "      <td>NaN</td>\n",
              "      <td>0</td>\n",
              "      <td>NaN</td>\n",
              "    </tr>\n",
              "    <tr>\n",
              "      <th>1414</th>\n",
              "      <td>Adan Navarro</td>\n",
              "      <td>January 2018</td>\n",
              "      <td>0.130435</td>\n",
              "      <td>0.956522</td>\n",
              "      <td>248.571795</td>\n",
              "      <td>0.426966</td>\n",
              "      <td>0.375527</td>\n",
              "      <td>0.629213</td>\n",
              "      <td>0.097046</td>\n",
              "      <td>23</td>\n",
              "      <td>0.410714</td>\n",
              "    </tr>\n",
              "    <tr>\n",
              "      <th>1415</th>\n",
              "      <td>Adam Delone</td>\n",
              "      <td>January 2018</td>\n",
              "      <td>0.272727</td>\n",
              "      <td>0.454545</td>\n",
              "      <td>231.601515</td>\n",
              "      <td>0.352381</td>\n",
              "      <td>0.299145</td>\n",
              "      <td>0.580952</td>\n",
              "      <td>0.062678</td>\n",
              "      <td>22</td>\n",
              "      <td>0.360656</td>\n",
              "    </tr>\n",
              "  </tbody>\n",
              "</table>\n",
              "<p>1416 rows × 11 columns</p>\n",
              "</div>"
            ],
            "text/plain": [
              "         Loan Officer Name Month of effective_date  24 Hour Fund Rate  \\\n",
              "0            Xavier Alcala           December 2018           0.428571   \n",
              "1          Victoria Sharpe           December 2018           0.071429   \n",
              "2            Victor Guzman           December 2018           0.565217   \n",
              "3               Trev Meyer           December 2018           0.285714   \n",
              "4              Tia Hancock           December 2018           0.318182   \n",
              "5          Teyonna Russell           December 2018           0.700000   \n",
              "6          Terrence Carter           December 2018           0.500000   \n",
              "7             Suzanne Cook           December 2018           0.388889   \n",
              "8            Steven Droege           December 2018           0.312500   \n",
              "9         Steven Cornelius           December 2018           0.137931   \n",
              "10           Shelby Massey           December 2018           0.380952   \n",
              "11         Sergio Jauregui           December 2018           0.346154   \n",
              "12           Serena Chiago           December 2018           0.275000   \n",
              "13          Sean Greenberg           December 2018           0.577778   \n",
              "14           Scott Manning           December 2018           0.318182   \n",
              "15            Sandra Eiger           December 2018           0.400000   \n",
              "16        Salvatore Bossio           December 2018           0.400000   \n",
              "17           Ryan Bauchman           December 2018           0.423077   \n",
              "18             Ruth Chavez           December 2018           0.531250   \n",
              "19          Ronald Rinaldi           December 2018           0.606061   \n",
              "20        Rodolfo Zaccaria           December 2018           0.305556   \n",
              "21             Robert Shaw           December 2018           0.142857   \n",
              "22            Robert Kohrs           December 2018           0.275862   \n",
              "23             Robert Hart           December 2018           0.300000   \n",
              "24           Rebekah Miles           December 2018           0.227273   \n",
              "25       Raymond Deherrera           December 2018           0.260870   \n",
              "26         Quentin Griffen           December 2018           1.000000   \n",
              "27          Patrick Reagan           December 2018           0.464286   \n",
              "28             Pascal Volz           December 2018           0.428571   \n",
              "29         Oscar Alejandro           December 2018           0.458333   \n",
              "...                    ...                     ...                ...   \n",
              "1386          Daniel Allen            January 2018                NaN   \n",
              "1387           Dana Flores            January 2018           0.000000   \n",
              "1388            Dana Boyse            January 2018           0.250000   \n",
              "1389         Dajuan Sowers            January 2018           0.242424   \n",
              "1390      Cynthia Coughlin            January 2018                NaN   \n",
              "1391           Cory Walker            January 2018           0.161290   \n",
              "1392         Clinton Jones            January 2018           0.269231   \n",
              "1393  Christopher Thompson            January 2018           0.200000   \n",
              "1394     Christopher Avent            January 2018           0.304348   \n",
              "1395    Cassandra Gonzalez            January 2018           0.000000   \n",
              "1396           Casey Mamoe            January 2018           0.228571   \n",
              "1397          Candyce Sims            January 2018           0.250000   \n",
              "1398        Brittany Simon            January 2018           0.050000   \n",
              "1399         Brianna Simon            January 2018           0.111111   \n",
              "1400          Brian Barnes            January 2018           0.083333   \n",
              "1401           Bret Erixon            January 2018           0.200000   \n",
              "1402        Brent Anderson            January 2018           0.750000   \n",
              "1403            Brandi Dix            January 2018           0.250000   \n",
              "1404         Bobby Vizcaya            January 2018           0.225806   \n",
              "1405          Bharat Patel            January 2018           0.136364   \n",
              "1406      Anthony Quintero            January 2018                NaN   \n",
              "1407        Anthony Curcio            January 2018           0.250000   \n",
              "1408      Anthony Cisneros            January 2018                NaN   \n",
              "1409         Aneasha Meade            January 2018                NaN   \n",
              "1410         Amanda Fuller            January 2018           0.133333   \n",
              "1411         Amanda Arkell            January 2018           0.147059   \n",
              "1412            Alex Lowry            January 2018                NaN   \n",
              "1413            Aimee Long            January 2018                NaN   \n",
              "1414          Adan Navarro            January 2018           0.130435   \n",
              "1415           Adam Delone            January 2018           0.272727   \n",
              "\n",
              "         ACH %  Avg Effort Score  Co-App %      FAS%  Full App Approved %  \\\n",
              "0     0.964286        287.993478  0.272727  0.258065             0.670455   \n",
              "1     0.833333        333.525439  0.380952  0.295775             0.750000   \n",
              "2     0.739130        323.434028  0.315217  0.267442             0.652174   \n",
              "3     0.857143        265.068421  0.289474  0.208219             0.605263   \n",
              "4     0.863636        225.486667  0.312500  0.213333             0.671875   \n",
              "5     0.633333        279.705556  0.329897  0.218468             0.690722   \n",
              "6     1.000000        314.672917  0.285714  0.183007             0.428571   \n",
              "7     0.888889        297.261667  0.303030  0.244444             0.651515   \n",
              "8     0.781250        241.001961  0.265625  0.236162             0.750000   \n",
              "9     0.586207        294.822807  0.318182  0.372881             0.666667   \n",
              "10    0.666667        241.681250  0.159420  0.216301             0.666667   \n",
              "11    0.884615        296.554762  0.303922  0.241706             0.529412   \n",
              "12    0.775000        393.806944  0.256637  0.283208             0.539823   \n",
              "13    0.933333        392.907500  0.239437  0.265918             0.676056   \n",
              "14    0.909091        168.102222  0.279070  0.213930             0.720930   \n",
              "15    0.900000        324.897059  0.352273  0.328358             0.806818   \n",
              "16    0.866667        350.944737  0.353448  0.309333             0.594828   \n",
              "17    0.730769        245.427500  0.236559  0.218310             0.698925   \n",
              "18    0.843750        294.007937  0.318681  0.257790             0.626374   \n",
              "19    0.848485        262.571296  0.294118  0.299559             0.750000   \n",
              "20    0.972222        283.850725  0.240506  0.255250             0.556962   \n",
              "21    0.714286        289.435507  0.324675  0.205333             0.701299   \n",
              "22    0.793103        221.697917  0.337349  0.290210             0.626506   \n",
              "23    0.933333        294.472500  0.337662  0.236196             0.649351   \n",
              "24    0.772727        247.450000  0.280702  0.245690             0.701754   \n",
              "25    0.956522        211.193478  0.300000  0.183486             0.666667   \n",
              "26    0.666667        343.662500  0.191489  0.252688             0.425532   \n",
              "27    0.821429        227.568182  0.289474  0.286432             0.552632   \n",
              "28    0.642857        220.903623  0.250000  0.191436             0.710526   \n",
              "29    0.875000        252.075833  0.244444  0.287540             0.544444   \n",
              "...        ...               ...       ...       ...                  ...   \n",
              "1386       NaN          0.000000       NaN       NaN                  NaN   \n",
              "1387  1.000000        194.005556  0.250000  0.123077             0.562500   \n",
              "1388  0.750000        221.089394  0.447368  0.348624             0.631579   \n",
              "1389  1.000000        243.730556  0.386792  0.215010             0.603774   \n",
              "1390       NaN          0.000000       NaN       NaN                  NaN   \n",
              "1391  1.000000        398.170667  0.309211  0.327586             0.565789   \n",
              "1392  0.307692        302.048611  0.252632  0.289634             0.526316   \n",
              "1393  0.600000        244.992593  0.233333  0.309278             0.466667   \n",
              "1394  0.478261        330.456250  0.340659  0.280864             0.505495   \n",
              "1395  0.800000        234.423611  0.269663  0.261765             0.348315   \n",
              "1396  0.914286        305.557692  0.360294  0.330900             0.632353   \n",
              "1397  0.750000        315.403968  0.222222  0.280374             0.522222   \n",
              "1398  0.850000        331.628000  0.371429  0.248815             0.457143   \n",
              "1399  0.944444        275.010000  0.330097  0.286908             0.485437   \n",
              "1400  0.666667        276.295139  0.238095  0.263323             0.488095   \n",
              "1401  0.333333        280.652667  0.344086  0.244094             0.494624   \n",
              "1402  1.000000        297.292593  0.392157  0.272727             0.490196   \n",
              "1403  0.750000        406.810256  0.447154  0.283410             0.634146   \n",
              "1404  0.645161        266.315278  0.495146  0.302941             0.601942   \n",
              "1405  0.727273        288.763333  0.303797  0.230321             0.544304   \n",
              "1406       NaN          0.000000       NaN       NaN                  NaN   \n",
              "1407  0.937500        165.707895  0.405797  0.396552             0.478261   \n",
              "1408       NaN          0.000000       NaN       NaN                  NaN   \n",
              "1409       NaN          0.000000       NaN       NaN                  NaN   \n",
              "1410  0.833333        201.767361  0.457831  0.245562             0.674699   \n",
              "1411  0.735294        407.934058  0.319672  0.358824             0.500000   \n",
              "1412       NaN          0.000000       NaN       NaN                  NaN   \n",
              "1413       NaN          0.000000       NaN       NaN                  NaN   \n",
              "1414  0.956522        248.571795  0.426966  0.375527             0.629213   \n",
              "1415  0.454545        231.601515  0.352381  0.299145             0.580952   \n",
              "\n",
              "      Fund Rate  Applications Funded  Pull Through Rate  \n",
              "0      0.082111                   28           0.474576  \n",
              "1      0.147887                   42           0.666667  \n",
              "2      0.066860                   23           0.383333  \n",
              "3      0.076712                   28           0.608696  \n",
              "4      0.073333                   22           0.511628  \n",
              "5      0.067568                   30           0.447761  \n",
              "6      0.026144                    4           0.333333  \n",
              "7      0.066667                   18           0.418605  \n",
              "8      0.118081                   32           0.666667  \n",
              "9      0.163842                   29           0.659091  \n",
              "10     0.065831                   21           0.456522  \n",
              "11     0.061611                   26           0.481481  \n",
              "12     0.100251                   40           0.655738  \n",
              "13     0.084270                   45           0.468750  \n",
              "14     0.109453                   22           0.709677  \n",
              "15     0.149254                   40           0.563380  \n",
              "16     0.120000                   45           0.652174  \n",
              "17     0.061033                   26           0.400000  \n",
              "18     0.090652                   32           0.561404  \n",
              "19     0.145374                   33           0.647059  \n",
              "20     0.058158                   36           0.409091  \n",
              "21     0.056000                   21           0.388889  \n",
              "22     0.101399                   29           0.557692  \n",
              "23     0.092025                   30           0.600000  \n",
              "24     0.094828                   22           0.550000  \n",
              "25     0.070336                   23           0.575000  \n",
              "26     0.016129                    3           0.150000  \n",
              "27     0.070352                   28           0.444444  \n",
              "28     0.070529                   28           0.518519  \n",
              "29     0.076677                   24           0.489796  \n",
              "...         ...                  ...                ...  \n",
              "1386        NaN                    0                NaN  \n",
              "1387   0.007692                    1           0.111111  \n",
              "1388   0.110092                   24           0.500000  \n",
              "1389   0.066937                   33           0.515625  \n",
              "1390        NaN                    0                NaN  \n",
              "1391   0.066810                   31           0.360465  \n",
              "1392   0.079268                   26           0.520000  \n",
              "1393   0.051546                    5           0.357143  \n",
              "1394   0.070988                   23           0.500000  \n",
              "1395   0.029412                   10           0.322581  \n",
              "1396   0.085158                   35           0.406977  \n",
              "1397   0.074766                   24           0.510638  \n",
              "1398   0.047393                   20           0.416667  \n",
              "1399   0.050139                   18           0.360000  \n",
              "1400   0.037618                   12           0.292683  \n",
              "1401   0.039370                   15           0.326087  \n",
              "1402   0.021390                    4           0.160000  \n",
              "1403   0.082949                   36           0.461538  \n",
              "1404   0.091176                   31           0.500000  \n",
              "1405   0.064140                   22           0.511628  \n",
              "1406        NaN                    0                NaN  \n",
              "1407   0.091954                   16           0.484848  \n",
              "1408        NaN                    0                NaN  \n",
              "1409        NaN                    0                NaN  \n",
              "1410   0.088757                   30           0.535714  \n",
              "1411   0.100000                   34           0.557377  \n",
              "1412        NaN                    0                NaN  \n",
              "1413        NaN                    0                NaN  \n",
              "1414   0.097046                   23           0.410714  \n",
              "1415   0.062678                   22           0.360656  \n",
              "\n",
              "[1416 rows x 11 columns]"
            ]
          },
          "metadata": {
            "tags": []
          },
          "execution_count": 79
        }
      ]
    },
    {
      "cell_type": "code",
      "metadata": {
        "id": "PqOf-4MjyAV3",
        "colab_type": "code",
        "colab": {
          "base_uri": "https://localhost:8080/",
          "height": 1969
        },
        "outputId": "0d166c3c-7454-429a-87f6-4597543db6ac"
      },
      "source": [
        "# check null values\n",
        "full_data[full_data['24 Hour Fund Rate'].isnull()]"
      ],
      "execution_count": null,
      "outputs": [
        {
          "output_type": "execute_result",
          "data": {
            "text/html": [
              "<div>\n",
              "<style scoped>\n",
              "    .dataframe tbody tr th:only-of-type {\n",
              "        vertical-align: middle;\n",
              "    }\n",
              "\n",
              "    .dataframe tbody tr th {\n",
              "        vertical-align: top;\n",
              "    }\n",
              "\n",
              "    .dataframe thead th {\n",
              "        text-align: right;\n",
              "    }\n",
              "</style>\n",
              "<table border=\"1\" class=\"dataframe\">\n",
              "  <thead>\n",
              "    <tr style=\"text-align: right;\">\n",
              "      <th></th>\n",
              "      <th>Loan Officer Name</th>\n",
              "      <th>Month of effective_date</th>\n",
              "      <th>24 Hour Fund Rate</th>\n",
              "      <th>ACH %</th>\n",
              "      <th>Avg Effort Score</th>\n",
              "      <th>Co-App %</th>\n",
              "      <th>FAS%</th>\n",
              "      <th>Full App Approved %</th>\n",
              "      <th>Fund Rate</th>\n",
              "      <th>Applications Funded</th>\n",
              "      <th>Pull Through Rate</th>\n",
              "    </tr>\n",
              "  </thead>\n",
              "  <tbody>\n",
              "    <tr>\n",
              "      <th>37</th>\n",
              "      <td>Miriam Chavez</td>\n",
              "      <td>December 2018</td>\n",
              "      <td>NaN</td>\n",
              "      <td>NaN</td>\n",
              "      <td>0.0</td>\n",
              "      <td>NaN</td>\n",
              "      <td>0.000000</td>\n",
              "      <td>NaN</td>\n",
              "      <td>0.0</td>\n",
              "      <td>0</td>\n",
              "      <td>NaN</td>\n",
              "    </tr>\n",
              "    <tr>\n",
              "      <th>159</th>\n",
              "      <td>Quentin Griffen</td>\n",
              "      <td>November 2018</td>\n",
              "      <td>NaN</td>\n",
              "      <td>NaN</td>\n",
              "      <td>0.0</td>\n",
              "      <td>NaN</td>\n",
              "      <td>NaN</td>\n",
              "      <td>NaN</td>\n",
              "      <td>NaN</td>\n",
              "      <td>0</td>\n",
              "      <td>NaN</td>\n",
              "    </tr>\n",
              "    <tr>\n",
              "      <th>175</th>\n",
              "      <td>Markus Malone</td>\n",
              "      <td>November 2018</td>\n",
              "      <td>NaN</td>\n",
              "      <td>NaN</td>\n",
              "      <td>0.0</td>\n",
              "      <td>0.0</td>\n",
              "      <td>0.200000</td>\n",
              "      <td>0.0</td>\n",
              "      <td>0.0</td>\n",
              "      <td>0</td>\n",
              "      <td>NaN</td>\n",
              "    </tr>\n",
              "    <tr>\n",
              "      <th>180</th>\n",
              "      <td>Kieth Keita</td>\n",
              "      <td>November 2018</td>\n",
              "      <td>NaN</td>\n",
              "      <td>NaN</td>\n",
              "      <td>0.0</td>\n",
              "      <td>NaN</td>\n",
              "      <td>NaN</td>\n",
              "      <td>NaN</td>\n",
              "      <td>NaN</td>\n",
              "      <td>0</td>\n",
              "      <td>NaN</td>\n",
              "    </tr>\n",
              "    <tr>\n",
              "      <th>182</th>\n",
              "      <td>Kenya Kaechele</td>\n",
              "      <td>November 2018</td>\n",
              "      <td>NaN</td>\n",
              "      <td>NaN</td>\n",
              "      <td>0.0</td>\n",
              "      <td>NaN</td>\n",
              "      <td>NaN</td>\n",
              "      <td>NaN</td>\n",
              "      <td>NaN</td>\n",
              "      <td>0</td>\n",
              "      <td>NaN</td>\n",
              "    </tr>\n",
              "    <tr>\n",
              "      <th>189</th>\n",
              "      <td>Justen Hunt</td>\n",
              "      <td>November 2018</td>\n",
              "      <td>NaN</td>\n",
              "      <td>NaN</td>\n",
              "      <td>0.0</td>\n",
              "      <td>NaN</td>\n",
              "      <td>NaN</td>\n",
              "      <td>NaN</td>\n",
              "      <td>NaN</td>\n",
              "      <td>0</td>\n",
              "      <td>NaN</td>\n",
              "    </tr>\n",
              "    <tr>\n",
              "      <th>198</th>\n",
              "      <td>John Floyd</td>\n",
              "      <td>November 2018</td>\n",
              "      <td>NaN</td>\n",
              "      <td>NaN</td>\n",
              "      <td>0.0</td>\n",
              "      <td>NaN</td>\n",
              "      <td>NaN</td>\n",
              "      <td>NaN</td>\n",
              "      <td>NaN</td>\n",
              "      <td>0</td>\n",
              "      <td>NaN</td>\n",
              "    </tr>\n",
              "    <tr>\n",
              "      <th>199</th>\n",
              "      <td>John Campanaro</td>\n",
              "      <td>November 2018</td>\n",
              "      <td>NaN</td>\n",
              "      <td>NaN</td>\n",
              "      <td>0.0</td>\n",
              "      <td>NaN</td>\n",
              "      <td>NaN</td>\n",
              "      <td>NaN</td>\n",
              "      <td>NaN</td>\n",
              "      <td>0</td>\n",
              "      <td>NaN</td>\n",
              "    </tr>\n",
              "    <tr>\n",
              "      <th>208</th>\n",
              "      <td>Jailene Castrillon</td>\n",
              "      <td>November 2018</td>\n",
              "      <td>NaN</td>\n",
              "      <td>NaN</td>\n",
              "      <td>0.0</td>\n",
              "      <td>NaN</td>\n",
              "      <td>0.000000</td>\n",
              "      <td>NaN</td>\n",
              "      <td>0.0</td>\n",
              "      <td>0</td>\n",
              "      <td>NaN</td>\n",
              "    </tr>\n",
              "    <tr>\n",
              "      <th>220</th>\n",
              "      <td>Dylan Priest</td>\n",
              "      <td>November 2018</td>\n",
              "      <td>NaN</td>\n",
              "      <td>NaN</td>\n",
              "      <td>0.0</td>\n",
              "      <td>NaN</td>\n",
              "      <td>NaN</td>\n",
              "      <td>NaN</td>\n",
              "      <td>NaN</td>\n",
              "      <td>0</td>\n",
              "      <td>NaN</td>\n",
              "    </tr>\n",
              "    <tr>\n",
              "      <th>238</th>\n",
              "      <td>Christian Carrillo</td>\n",
              "      <td>November 2018</td>\n",
              "      <td>NaN</td>\n",
              "      <td>NaN</td>\n",
              "      <td>0.0</td>\n",
              "      <td>NaN</td>\n",
              "      <td>NaN</td>\n",
              "      <td>NaN</td>\n",
              "      <td>NaN</td>\n",
              "      <td>0</td>\n",
              "      <td>NaN</td>\n",
              "    </tr>\n",
              "    <tr>\n",
              "      <th>239</th>\n",
              "      <td>Celeste Ley</td>\n",
              "      <td>November 2018</td>\n",
              "      <td>NaN</td>\n",
              "      <td>NaN</td>\n",
              "      <td>0.0</td>\n",
              "      <td>NaN</td>\n",
              "      <td>NaN</td>\n",
              "      <td>NaN</td>\n",
              "      <td>NaN</td>\n",
              "      <td>0</td>\n",
              "      <td>NaN</td>\n",
              "    </tr>\n",
              "    <tr>\n",
              "      <th>260</th>\n",
              "      <td>Alina Chrosniak</td>\n",
              "      <td>November 2018</td>\n",
              "      <td>NaN</td>\n",
              "      <td>NaN</td>\n",
              "      <td>0.0</td>\n",
              "      <td>NaN</td>\n",
              "      <td>NaN</td>\n",
              "      <td>NaN</td>\n",
              "      <td>NaN</td>\n",
              "      <td>0</td>\n",
              "      <td>NaN</td>\n",
              "    </tr>\n",
              "    <tr>\n",
              "      <th>265</th>\n",
              "      <td>Aaron DuBose</td>\n",
              "      <td>November 2018</td>\n",
              "      <td>NaN</td>\n",
              "      <td>NaN</td>\n",
              "      <td>0.0</td>\n",
              "      <td>NaN</td>\n",
              "      <td>NaN</td>\n",
              "      <td>NaN</td>\n",
              "      <td>NaN</td>\n",
              "      <td>0</td>\n",
              "      <td>NaN</td>\n",
              "    </tr>\n",
              "    <tr>\n",
              "      <th>266</th>\n",
              "      <td>Xavier Alcala</td>\n",
              "      <td>October 2018</td>\n",
              "      <td>NaN</td>\n",
              "      <td>NaN</td>\n",
              "      <td>0.0</td>\n",
              "      <td>NaN</td>\n",
              "      <td>NaN</td>\n",
              "      <td>NaN</td>\n",
              "      <td>NaN</td>\n",
              "      <td>0</td>\n",
              "      <td>NaN</td>\n",
              "    </tr>\n",
              "    <tr>\n",
              "      <th>291</th>\n",
              "      <td>Quentin Griffen</td>\n",
              "      <td>October 2018</td>\n",
              "      <td>NaN</td>\n",
              "      <td>NaN</td>\n",
              "      <td>0.0</td>\n",
              "      <td>NaN</td>\n",
              "      <td>NaN</td>\n",
              "      <td>NaN</td>\n",
              "      <td>NaN</td>\n",
              "      <td>0</td>\n",
              "      <td>NaN</td>\n",
              "    </tr>\n",
              "    <tr>\n",
              "      <th>319</th>\n",
              "      <td>Justen Hunt</td>\n",
              "      <td>October 2018</td>\n",
              "      <td>NaN</td>\n",
              "      <td>NaN</td>\n",
              "      <td>0.0</td>\n",
              "      <td>NaN</td>\n",
              "      <td>NaN</td>\n",
              "      <td>NaN</td>\n",
              "      <td>NaN</td>\n",
              "      <td>0</td>\n",
              "      <td>NaN</td>\n",
              "    </tr>\n",
              "    <tr>\n",
              "      <th>336</th>\n",
              "      <td>Jailene Castrillon</td>\n",
              "      <td>October 2018</td>\n",
              "      <td>NaN</td>\n",
              "      <td>NaN</td>\n",
              "      <td>0.0</td>\n",
              "      <td>NaN</td>\n",
              "      <td>NaN</td>\n",
              "      <td>NaN</td>\n",
              "      <td>NaN</td>\n",
              "      <td>0</td>\n",
              "      <td>NaN</td>\n",
              "    </tr>\n",
              "    <tr>\n",
              "      <th>351</th>\n",
              "      <td>Darin Taylor</td>\n",
              "      <td>October 2018</td>\n",
              "      <td>NaN</td>\n",
              "      <td>NaN</td>\n",
              "      <td>0.0</td>\n",
              "      <td>NaN</td>\n",
              "      <td>NaN</td>\n",
              "      <td>NaN</td>\n",
              "      <td>NaN</td>\n",
              "      <td>0</td>\n",
              "      <td>NaN</td>\n",
              "    </tr>\n",
              "    <tr>\n",
              "      <th>355</th>\n",
              "      <td>Daniel Allen</td>\n",
              "      <td>October 2018</td>\n",
              "      <td>NaN</td>\n",
              "      <td>NaN</td>\n",
              "      <td>0.0</td>\n",
              "      <td>NaN</td>\n",
              "      <td>NaN</td>\n",
              "      <td>NaN</td>\n",
              "      <td>NaN</td>\n",
              "      <td>0</td>\n",
              "      <td>NaN</td>\n",
              "    </tr>\n",
              "    <tr>\n",
              "      <th>364</th>\n",
              "      <td>Celeste Ley</td>\n",
              "      <td>October 2018</td>\n",
              "      <td>NaN</td>\n",
              "      <td>NaN</td>\n",
              "      <td>0.0</td>\n",
              "      <td>NaN</td>\n",
              "      <td>NaN</td>\n",
              "      <td>NaN</td>\n",
              "      <td>NaN</td>\n",
              "      <td>0</td>\n",
              "      <td>NaN</td>\n",
              "    </tr>\n",
              "    <tr>\n",
              "      <th>368</th>\n",
              "      <td>Bryan Amaya Zapata</td>\n",
              "      <td>October 2018</td>\n",
              "      <td>NaN</td>\n",
              "      <td>NaN</td>\n",
              "      <td>0.0</td>\n",
              "      <td>NaN</td>\n",
              "      <td>NaN</td>\n",
              "      <td>NaN</td>\n",
              "      <td>NaN</td>\n",
              "      <td>0</td>\n",
              "      <td>NaN</td>\n",
              "    </tr>\n",
              "    <tr>\n",
              "      <th>381</th>\n",
              "      <td>Anthony Chavez</td>\n",
              "      <td>October 2018</td>\n",
              "      <td>NaN</td>\n",
              "      <td>NaN</td>\n",
              "      <td>0.0</td>\n",
              "      <td>NaN</td>\n",
              "      <td>NaN</td>\n",
              "      <td>NaN</td>\n",
              "      <td>NaN</td>\n",
              "      <td>0</td>\n",
              "      <td>NaN</td>\n",
              "    </tr>\n",
              "    <tr>\n",
              "      <th>435</th>\n",
              "      <td>Kenya Kaechele</td>\n",
              "      <td>September 2018</td>\n",
              "      <td>NaN</td>\n",
              "      <td>NaN</td>\n",
              "      <td>0.0</td>\n",
              "      <td>0.0</td>\n",
              "      <td>1.000000</td>\n",
              "      <td>1.0</td>\n",
              "      <td>0.0</td>\n",
              "      <td>0</td>\n",
              "      <td>0.0</td>\n",
              "    </tr>\n",
              "    <tr>\n",
              "      <th>458</th>\n",
              "      <td>Jailene Castrillon</td>\n",
              "      <td>September 2018</td>\n",
              "      <td>NaN</td>\n",
              "      <td>NaN</td>\n",
              "      <td>0.0</td>\n",
              "      <td>NaN</td>\n",
              "      <td>NaN</td>\n",
              "      <td>NaN</td>\n",
              "      <td>NaN</td>\n",
              "      <td>0</td>\n",
              "      <td>NaN</td>\n",
              "    </tr>\n",
              "    <tr>\n",
              "      <th>476</th>\n",
              "      <td>Daniel Duarte</td>\n",
              "      <td>September 2018</td>\n",
              "      <td>NaN</td>\n",
              "      <td>NaN</td>\n",
              "      <td>0.0</td>\n",
              "      <td>NaN</td>\n",
              "      <td>NaN</td>\n",
              "      <td>NaN</td>\n",
              "      <td>NaN</td>\n",
              "      <td>0</td>\n",
              "      <td>NaN</td>\n",
              "    </tr>\n",
              "    <tr>\n",
              "      <th>504</th>\n",
              "      <td>Alina Chrosniak</td>\n",
              "      <td>September 2018</td>\n",
              "      <td>NaN</td>\n",
              "      <td>NaN</td>\n",
              "      <td>0.0</td>\n",
              "      <td>NaN</td>\n",
              "      <td>NaN</td>\n",
              "      <td>NaN</td>\n",
              "      <td>NaN</td>\n",
              "      <td>0</td>\n",
              "      <td>NaN</td>\n",
              "    </tr>\n",
              "    <tr>\n",
              "      <th>509</th>\n",
              "      <td>Xavier Alcala</td>\n",
              "      <td>August 2018</td>\n",
              "      <td>NaN</td>\n",
              "      <td>NaN</td>\n",
              "      <td>0.0</td>\n",
              "      <td>NaN</td>\n",
              "      <td>NaN</td>\n",
              "      <td>NaN</td>\n",
              "      <td>NaN</td>\n",
              "      <td>0</td>\n",
              "      <td>NaN</td>\n",
              "    </tr>\n",
              "    <tr>\n",
              "      <th>552</th>\n",
              "      <td>Kieth Keita</td>\n",
              "      <td>August 2018</td>\n",
              "      <td>NaN</td>\n",
              "      <td>NaN</td>\n",
              "      <td>0.0</td>\n",
              "      <td>NaN</td>\n",
              "      <td>NaN</td>\n",
              "      <td>NaN</td>\n",
              "      <td>NaN</td>\n",
              "      <td>0</td>\n",
              "      <td>NaN</td>\n",
              "    </tr>\n",
              "    <tr>\n",
              "      <th>560</th>\n",
              "      <td>Justen Hunt</td>\n",
              "      <td>August 2018</td>\n",
              "      <td>NaN</td>\n",
              "      <td>NaN</td>\n",
              "      <td>0.0</td>\n",
              "      <td>NaN</td>\n",
              "      <td>NaN</td>\n",
              "      <td>NaN</td>\n",
              "      <td>NaN</td>\n",
              "      <td>0</td>\n",
              "      <td>NaN</td>\n",
              "    </tr>\n",
              "    <tr>\n",
              "      <th>...</th>\n",
              "      <td>...</td>\n",
              "      <td>...</td>\n",
              "      <td>...</td>\n",
              "      <td>...</td>\n",
              "      <td>...</td>\n",
              "      <td>...</td>\n",
              "      <td>...</td>\n",
              "      <td>...</td>\n",
              "      <td>...</td>\n",
              "      <td>...</td>\n",
              "      <td>...</td>\n",
              "    </tr>\n",
              "    <tr>\n",
              "      <th>1330</th>\n",
              "      <td>Robert Hart</td>\n",
              "      <td>January 2018</td>\n",
              "      <td>NaN</td>\n",
              "      <td>NaN</td>\n",
              "      <td>0.0</td>\n",
              "      <td>NaN</td>\n",
              "      <td>NaN</td>\n",
              "      <td>NaN</td>\n",
              "      <td>NaN</td>\n",
              "      <td>0</td>\n",
              "      <td>NaN</td>\n",
              "    </tr>\n",
              "    <tr>\n",
              "      <th>1331</th>\n",
              "      <td>Rebekah Miles</td>\n",
              "      <td>January 2018</td>\n",
              "      <td>NaN</td>\n",
              "      <td>NaN</td>\n",
              "      <td>0.0</td>\n",
              "      <td>NaN</td>\n",
              "      <td>NaN</td>\n",
              "      <td>NaN</td>\n",
              "      <td>NaN</td>\n",
              "      <td>0</td>\n",
              "      <td>NaN</td>\n",
              "    </tr>\n",
              "    <tr>\n",
              "      <th>1332</th>\n",
              "      <td>Raymond Deherrera</td>\n",
              "      <td>January 2018</td>\n",
              "      <td>NaN</td>\n",
              "      <td>NaN</td>\n",
              "      <td>0.0</td>\n",
              "      <td>NaN</td>\n",
              "      <td>NaN</td>\n",
              "      <td>NaN</td>\n",
              "      <td>NaN</td>\n",
              "      <td>0</td>\n",
              "      <td>NaN</td>\n",
              "    </tr>\n",
              "    <tr>\n",
              "      <th>1334</th>\n",
              "      <td>Pascal Volz</td>\n",
              "      <td>January 2018</td>\n",
              "      <td>NaN</td>\n",
              "      <td>NaN</td>\n",
              "      <td>0.0</td>\n",
              "      <td>0.5</td>\n",
              "      <td>0.285714</td>\n",
              "      <td>0.0</td>\n",
              "      <td>0.0</td>\n",
              "      <td>0</td>\n",
              "      <td>NaN</td>\n",
              "    </tr>\n",
              "    <tr>\n",
              "      <th>1335</th>\n",
              "      <td>Omar Blanco Gomez</td>\n",
              "      <td>January 2018</td>\n",
              "      <td>NaN</td>\n",
              "      <td>NaN</td>\n",
              "      <td>0.0</td>\n",
              "      <td>NaN</td>\n",
              "      <td>NaN</td>\n",
              "      <td>NaN</td>\n",
              "      <td>NaN</td>\n",
              "      <td>0</td>\n",
              "      <td>NaN</td>\n",
              "    </tr>\n",
              "    <tr>\n",
              "      <th>1338</th>\n",
              "      <td>Nathaniel Echerivel</td>\n",
              "      <td>January 2018</td>\n",
              "      <td>NaN</td>\n",
              "      <td>NaN</td>\n",
              "      <td>0.0</td>\n",
              "      <td>NaN</td>\n",
              "      <td>NaN</td>\n",
              "      <td>NaN</td>\n",
              "      <td>NaN</td>\n",
              "      <td>0</td>\n",
              "      <td>NaN</td>\n",
              "    </tr>\n",
              "    <tr>\n",
              "      <th>1339</th>\n",
              "      <td>Nathan Mufara</td>\n",
              "      <td>January 2018</td>\n",
              "      <td>NaN</td>\n",
              "      <td>NaN</td>\n",
              "      <td>0.0</td>\n",
              "      <td>NaN</td>\n",
              "      <td>NaN</td>\n",
              "      <td>NaN</td>\n",
              "      <td>NaN</td>\n",
              "      <td>0</td>\n",
              "      <td>NaN</td>\n",
              "    </tr>\n",
              "    <tr>\n",
              "      <th>1344</th>\n",
              "      <td>Michael Sell</td>\n",
              "      <td>January 2018</td>\n",
              "      <td>NaN</td>\n",
              "      <td>NaN</td>\n",
              "      <td>0.0</td>\n",
              "      <td>NaN</td>\n",
              "      <td>NaN</td>\n",
              "      <td>NaN</td>\n",
              "      <td>NaN</td>\n",
              "      <td>0</td>\n",
              "      <td>NaN</td>\n",
              "    </tr>\n",
              "    <tr>\n",
              "      <th>1346</th>\n",
              "      <td>Michael Milich</td>\n",
              "      <td>January 2018</td>\n",
              "      <td>NaN</td>\n",
              "      <td>NaN</td>\n",
              "      <td>0.0</td>\n",
              "      <td>NaN</td>\n",
              "      <td>NaN</td>\n",
              "      <td>NaN</td>\n",
              "      <td>NaN</td>\n",
              "      <td>0</td>\n",
              "      <td>NaN</td>\n",
              "    </tr>\n",
              "    <tr>\n",
              "      <th>1349</th>\n",
              "      <td>Krystal Dignan</td>\n",
              "      <td>January 2018</td>\n",
              "      <td>NaN</td>\n",
              "      <td>NaN</td>\n",
              "      <td>0.0</td>\n",
              "      <td>NaN</td>\n",
              "      <td>NaN</td>\n",
              "      <td>NaN</td>\n",
              "      <td>NaN</td>\n",
              "      <td>0</td>\n",
              "      <td>NaN</td>\n",
              "    </tr>\n",
              "    <tr>\n",
              "      <th>1354</th>\n",
              "      <td>Kelsey Davis</td>\n",
              "      <td>January 2018</td>\n",
              "      <td>NaN</td>\n",
              "      <td>NaN</td>\n",
              "      <td>0.0</td>\n",
              "      <td>NaN</td>\n",
              "      <td>NaN</td>\n",
              "      <td>NaN</td>\n",
              "      <td>NaN</td>\n",
              "      <td>0</td>\n",
              "      <td>NaN</td>\n",
              "    </tr>\n",
              "    <tr>\n",
              "      <th>1360</th>\n",
              "      <td>Joseph Marquez</td>\n",
              "      <td>January 2018</td>\n",
              "      <td>NaN</td>\n",
              "      <td>NaN</td>\n",
              "      <td>0.0</td>\n",
              "      <td>NaN</td>\n",
              "      <td>NaN</td>\n",
              "      <td>NaN</td>\n",
              "      <td>NaN</td>\n",
              "      <td>0</td>\n",
              "      <td>NaN</td>\n",
              "    </tr>\n",
              "    <tr>\n",
              "      <th>1362</th>\n",
              "      <td>Jonathan Guerrero</td>\n",
              "      <td>January 2018</td>\n",
              "      <td>NaN</td>\n",
              "      <td>NaN</td>\n",
              "      <td>0.0</td>\n",
              "      <td>NaN</td>\n",
              "      <td>NaN</td>\n",
              "      <td>NaN</td>\n",
              "      <td>NaN</td>\n",
              "      <td>0</td>\n",
              "      <td>NaN</td>\n",
              "    </tr>\n",
              "    <tr>\n",
              "      <th>1366</th>\n",
              "      <td>Jamie Mishler</td>\n",
              "      <td>January 2018</td>\n",
              "      <td>NaN</td>\n",
              "      <td>NaN</td>\n",
              "      <td>0.0</td>\n",
              "      <td>NaN</td>\n",
              "      <td>NaN</td>\n",
              "      <td>NaN</td>\n",
              "      <td>NaN</td>\n",
              "      <td>0</td>\n",
              "      <td>NaN</td>\n",
              "    </tr>\n",
              "    <tr>\n",
              "      <th>1368</th>\n",
              "      <td>Jamie Boldt</td>\n",
              "      <td>January 2018</td>\n",
              "      <td>NaN</td>\n",
              "      <td>NaN</td>\n",
              "      <td>0.0</td>\n",
              "      <td>NaN</td>\n",
              "      <td>NaN</td>\n",
              "      <td>NaN</td>\n",
              "      <td>NaN</td>\n",
              "      <td>0</td>\n",
              "      <td>NaN</td>\n",
              "    </tr>\n",
              "    <tr>\n",
              "      <th>1370</th>\n",
              "      <td>Jaimie Edgar</td>\n",
              "      <td>January 2018</td>\n",
              "      <td>NaN</td>\n",
              "      <td>NaN</td>\n",
              "      <td>0.0</td>\n",
              "      <td>NaN</td>\n",
              "      <td>NaN</td>\n",
              "      <td>NaN</td>\n",
              "      <td>NaN</td>\n",
              "      <td>0</td>\n",
              "      <td>NaN</td>\n",
              "    </tr>\n",
              "    <tr>\n",
              "      <th>1371</th>\n",
              "      <td>Jailene Castrillon</td>\n",
              "      <td>January 2018</td>\n",
              "      <td>NaN</td>\n",
              "      <td>NaN</td>\n",
              "      <td>0.0</td>\n",
              "      <td>NaN</td>\n",
              "      <td>NaN</td>\n",
              "      <td>NaN</td>\n",
              "      <td>NaN</td>\n",
              "      <td>0</td>\n",
              "      <td>NaN</td>\n",
              "    </tr>\n",
              "    <tr>\n",
              "      <th>1372</th>\n",
              "      <td>Hassam Vidal</td>\n",
              "      <td>January 2018</td>\n",
              "      <td>NaN</td>\n",
              "      <td>NaN</td>\n",
              "      <td>0.0</td>\n",
              "      <td>NaN</td>\n",
              "      <td>NaN</td>\n",
              "      <td>NaN</td>\n",
              "      <td>NaN</td>\n",
              "      <td>0</td>\n",
              "      <td>NaN</td>\n",
              "    </tr>\n",
              "    <tr>\n",
              "      <th>1373</th>\n",
              "      <td>Gabriel Aceves-Bell</td>\n",
              "      <td>January 2018</td>\n",
              "      <td>NaN</td>\n",
              "      <td>NaN</td>\n",
              "      <td>0.0</td>\n",
              "      <td>NaN</td>\n",
              "      <td>NaN</td>\n",
              "      <td>NaN</td>\n",
              "      <td>NaN</td>\n",
              "      <td>0</td>\n",
              "      <td>NaN</td>\n",
              "    </tr>\n",
              "    <tr>\n",
              "      <th>1374</th>\n",
              "      <td>Frania Guitron</td>\n",
              "      <td>January 2018</td>\n",
              "      <td>NaN</td>\n",
              "      <td>NaN</td>\n",
              "      <td>0.0</td>\n",
              "      <td>NaN</td>\n",
              "      <td>NaN</td>\n",
              "      <td>NaN</td>\n",
              "      <td>NaN</td>\n",
              "      <td>0</td>\n",
              "      <td>NaN</td>\n",
              "    </tr>\n",
              "    <tr>\n",
              "      <th>1376</th>\n",
              "      <td>Ervin Ramos</td>\n",
              "      <td>January 2018</td>\n",
              "      <td>NaN</td>\n",
              "      <td>NaN</td>\n",
              "      <td>0.0</td>\n",
              "      <td>NaN</td>\n",
              "      <td>NaN</td>\n",
              "      <td>NaN</td>\n",
              "      <td>NaN</td>\n",
              "      <td>0</td>\n",
              "      <td>NaN</td>\n",
              "    </tr>\n",
              "    <tr>\n",
              "      <th>1379</th>\n",
              "      <td>Edward Fierro</td>\n",
              "      <td>January 2018</td>\n",
              "      <td>NaN</td>\n",
              "      <td>NaN</td>\n",
              "      <td>0.0</td>\n",
              "      <td>NaN</td>\n",
              "      <td>NaN</td>\n",
              "      <td>NaN</td>\n",
              "      <td>NaN</td>\n",
              "      <td>0</td>\n",
              "      <td>NaN</td>\n",
              "    </tr>\n",
              "    <tr>\n",
              "      <th>1380</th>\n",
              "      <td>Earl Nagaran</td>\n",
              "      <td>January 2018</td>\n",
              "      <td>NaN</td>\n",
              "      <td>NaN</td>\n",
              "      <td>0.0</td>\n",
              "      <td>NaN</td>\n",
              "      <td>NaN</td>\n",
              "      <td>NaN</td>\n",
              "      <td>NaN</td>\n",
              "      <td>0</td>\n",
              "      <td>NaN</td>\n",
              "    </tr>\n",
              "    <tr>\n",
              "      <th>1386</th>\n",
              "      <td>Daniel Allen</td>\n",
              "      <td>January 2018</td>\n",
              "      <td>NaN</td>\n",
              "      <td>NaN</td>\n",
              "      <td>0.0</td>\n",
              "      <td>NaN</td>\n",
              "      <td>NaN</td>\n",
              "      <td>NaN</td>\n",
              "      <td>NaN</td>\n",
              "      <td>0</td>\n",
              "      <td>NaN</td>\n",
              "    </tr>\n",
              "    <tr>\n",
              "      <th>1390</th>\n",
              "      <td>Cynthia Coughlin</td>\n",
              "      <td>January 2018</td>\n",
              "      <td>NaN</td>\n",
              "      <td>NaN</td>\n",
              "      <td>0.0</td>\n",
              "      <td>NaN</td>\n",
              "      <td>NaN</td>\n",
              "      <td>NaN</td>\n",
              "      <td>NaN</td>\n",
              "      <td>0</td>\n",
              "      <td>NaN</td>\n",
              "    </tr>\n",
              "    <tr>\n",
              "      <th>1406</th>\n",
              "      <td>Anthony Quintero</td>\n",
              "      <td>January 2018</td>\n",
              "      <td>NaN</td>\n",
              "      <td>NaN</td>\n",
              "      <td>0.0</td>\n",
              "      <td>NaN</td>\n",
              "      <td>NaN</td>\n",
              "      <td>NaN</td>\n",
              "      <td>NaN</td>\n",
              "      <td>0</td>\n",
              "      <td>NaN</td>\n",
              "    </tr>\n",
              "    <tr>\n",
              "      <th>1408</th>\n",
              "      <td>Anthony Cisneros</td>\n",
              "      <td>January 2018</td>\n",
              "      <td>NaN</td>\n",
              "      <td>NaN</td>\n",
              "      <td>0.0</td>\n",
              "      <td>NaN</td>\n",
              "      <td>NaN</td>\n",
              "      <td>NaN</td>\n",
              "      <td>NaN</td>\n",
              "      <td>0</td>\n",
              "      <td>NaN</td>\n",
              "    </tr>\n",
              "    <tr>\n",
              "      <th>1409</th>\n",
              "      <td>Aneasha Meade</td>\n",
              "      <td>January 2018</td>\n",
              "      <td>NaN</td>\n",
              "      <td>NaN</td>\n",
              "      <td>0.0</td>\n",
              "      <td>NaN</td>\n",
              "      <td>NaN</td>\n",
              "      <td>NaN</td>\n",
              "      <td>NaN</td>\n",
              "      <td>0</td>\n",
              "      <td>NaN</td>\n",
              "    </tr>\n",
              "    <tr>\n",
              "      <th>1412</th>\n",
              "      <td>Alex Lowry</td>\n",
              "      <td>January 2018</td>\n",
              "      <td>NaN</td>\n",
              "      <td>NaN</td>\n",
              "      <td>0.0</td>\n",
              "      <td>NaN</td>\n",
              "      <td>NaN</td>\n",
              "      <td>NaN</td>\n",
              "      <td>NaN</td>\n",
              "      <td>0</td>\n",
              "      <td>NaN</td>\n",
              "    </tr>\n",
              "    <tr>\n",
              "      <th>1413</th>\n",
              "      <td>Aimee Long</td>\n",
              "      <td>January 2018</td>\n",
              "      <td>NaN</td>\n",
              "      <td>NaN</td>\n",
              "      <td>0.0</td>\n",
              "      <td>NaN</td>\n",
              "      <td>NaN</td>\n",
              "      <td>NaN</td>\n",
              "      <td>NaN</td>\n",
              "      <td>0</td>\n",
              "      <td>NaN</td>\n",
              "    </tr>\n",
              "  </tbody>\n",
              "</table>\n",
              "<p>242 rows × 11 columns</p>\n",
              "</div>"
            ],
            "text/plain": [
              "        Loan Officer Name Month of effective_date  24 Hour Fund Rate  ACH %  \\\n",
              "37          Miriam Chavez           December 2018                NaN    NaN   \n",
              "159       Quentin Griffen           November 2018                NaN    NaN   \n",
              "175         Markus Malone           November 2018                NaN    NaN   \n",
              "180           Kieth Keita           November 2018                NaN    NaN   \n",
              "182        Kenya Kaechele           November 2018                NaN    NaN   \n",
              "189           Justen Hunt           November 2018                NaN    NaN   \n",
              "198            John Floyd           November 2018                NaN    NaN   \n",
              "199        John Campanaro           November 2018                NaN    NaN   \n",
              "208    Jailene Castrillon           November 2018                NaN    NaN   \n",
              "220          Dylan Priest           November 2018                NaN    NaN   \n",
              "238    Christian Carrillo           November 2018                NaN    NaN   \n",
              "239           Celeste Ley           November 2018                NaN    NaN   \n",
              "260       Alina Chrosniak           November 2018                NaN    NaN   \n",
              "265          Aaron DuBose           November 2018                NaN    NaN   \n",
              "266         Xavier Alcala            October 2018                NaN    NaN   \n",
              "291       Quentin Griffen            October 2018                NaN    NaN   \n",
              "319           Justen Hunt            October 2018                NaN    NaN   \n",
              "336    Jailene Castrillon            October 2018                NaN    NaN   \n",
              "351          Darin Taylor            October 2018                NaN    NaN   \n",
              "355          Daniel Allen            October 2018                NaN    NaN   \n",
              "364           Celeste Ley            October 2018                NaN    NaN   \n",
              "368    Bryan Amaya Zapata            October 2018                NaN    NaN   \n",
              "381        Anthony Chavez            October 2018                NaN    NaN   \n",
              "435        Kenya Kaechele          September 2018                NaN    NaN   \n",
              "458    Jailene Castrillon          September 2018                NaN    NaN   \n",
              "476         Daniel Duarte          September 2018                NaN    NaN   \n",
              "504       Alina Chrosniak          September 2018                NaN    NaN   \n",
              "509         Xavier Alcala             August 2018                NaN    NaN   \n",
              "552           Kieth Keita             August 2018                NaN    NaN   \n",
              "560           Justen Hunt             August 2018                NaN    NaN   \n",
              "...                   ...                     ...                ...    ...   \n",
              "1330          Robert Hart            January 2018                NaN    NaN   \n",
              "1331        Rebekah Miles            January 2018                NaN    NaN   \n",
              "1332    Raymond Deherrera            January 2018                NaN    NaN   \n",
              "1334          Pascal Volz            January 2018                NaN    NaN   \n",
              "1335    Omar Blanco Gomez            January 2018                NaN    NaN   \n",
              "1338  Nathaniel Echerivel            January 2018                NaN    NaN   \n",
              "1339        Nathan Mufara            January 2018                NaN    NaN   \n",
              "1344         Michael Sell            January 2018                NaN    NaN   \n",
              "1346       Michael Milich            January 2018                NaN    NaN   \n",
              "1349       Krystal Dignan            January 2018                NaN    NaN   \n",
              "1354         Kelsey Davis            January 2018                NaN    NaN   \n",
              "1360       Joseph Marquez            January 2018                NaN    NaN   \n",
              "1362    Jonathan Guerrero            January 2018                NaN    NaN   \n",
              "1366        Jamie Mishler            January 2018                NaN    NaN   \n",
              "1368          Jamie Boldt            January 2018                NaN    NaN   \n",
              "1370         Jaimie Edgar            January 2018                NaN    NaN   \n",
              "1371   Jailene Castrillon            January 2018                NaN    NaN   \n",
              "1372         Hassam Vidal            January 2018                NaN    NaN   \n",
              "1373  Gabriel Aceves-Bell            January 2018                NaN    NaN   \n",
              "1374       Frania Guitron            January 2018                NaN    NaN   \n",
              "1376          Ervin Ramos            January 2018                NaN    NaN   \n",
              "1379        Edward Fierro            January 2018                NaN    NaN   \n",
              "1380         Earl Nagaran            January 2018                NaN    NaN   \n",
              "1386         Daniel Allen            January 2018                NaN    NaN   \n",
              "1390     Cynthia Coughlin            January 2018                NaN    NaN   \n",
              "1406     Anthony Quintero            January 2018                NaN    NaN   \n",
              "1408     Anthony Cisneros            January 2018                NaN    NaN   \n",
              "1409        Aneasha Meade            January 2018                NaN    NaN   \n",
              "1412           Alex Lowry            January 2018                NaN    NaN   \n",
              "1413           Aimee Long            January 2018                NaN    NaN   \n",
              "\n",
              "      Avg Effort Score  Co-App %      FAS%  Full App Approved %  Fund Rate  \\\n",
              "37                 0.0       NaN  0.000000                  NaN        0.0   \n",
              "159                0.0       NaN       NaN                  NaN        NaN   \n",
              "175                0.0       0.0  0.200000                  0.0        0.0   \n",
              "180                0.0       NaN       NaN                  NaN        NaN   \n",
              "182                0.0       NaN       NaN                  NaN        NaN   \n",
              "189                0.0       NaN       NaN                  NaN        NaN   \n",
              "198                0.0       NaN       NaN                  NaN        NaN   \n",
              "199                0.0       NaN       NaN                  NaN        NaN   \n",
              "208                0.0       NaN  0.000000                  NaN        0.0   \n",
              "220                0.0       NaN       NaN                  NaN        NaN   \n",
              "238                0.0       NaN       NaN                  NaN        NaN   \n",
              "239                0.0       NaN       NaN                  NaN        NaN   \n",
              "260                0.0       NaN       NaN                  NaN        NaN   \n",
              "265                0.0       NaN       NaN                  NaN        NaN   \n",
              "266                0.0       NaN       NaN                  NaN        NaN   \n",
              "291                0.0       NaN       NaN                  NaN        NaN   \n",
              "319                0.0       NaN       NaN                  NaN        NaN   \n",
              "336                0.0       NaN       NaN                  NaN        NaN   \n",
              "351                0.0       NaN       NaN                  NaN        NaN   \n",
              "355                0.0       NaN       NaN                  NaN        NaN   \n",
              "364                0.0       NaN       NaN                  NaN        NaN   \n",
              "368                0.0       NaN       NaN                  NaN        NaN   \n",
              "381                0.0       NaN       NaN                  NaN        NaN   \n",
              "435                0.0       0.0  1.000000                  1.0        0.0   \n",
              "458                0.0       NaN       NaN                  NaN        NaN   \n",
              "476                0.0       NaN       NaN                  NaN        NaN   \n",
              "504                0.0       NaN       NaN                  NaN        NaN   \n",
              "509                0.0       NaN       NaN                  NaN        NaN   \n",
              "552                0.0       NaN       NaN                  NaN        NaN   \n",
              "560                0.0       NaN       NaN                  NaN        NaN   \n",
              "...                ...       ...       ...                  ...        ...   \n",
              "1330               0.0       NaN       NaN                  NaN        NaN   \n",
              "1331               0.0       NaN       NaN                  NaN        NaN   \n",
              "1332               0.0       NaN       NaN                  NaN        NaN   \n",
              "1334               0.0       0.5  0.285714                  0.0        0.0   \n",
              "1335               0.0       NaN       NaN                  NaN        NaN   \n",
              "1338               0.0       NaN       NaN                  NaN        NaN   \n",
              "1339               0.0       NaN       NaN                  NaN        NaN   \n",
              "1344               0.0       NaN       NaN                  NaN        NaN   \n",
              "1346               0.0       NaN       NaN                  NaN        NaN   \n",
              "1349               0.0       NaN       NaN                  NaN        NaN   \n",
              "1354               0.0       NaN       NaN                  NaN        NaN   \n",
              "1360               0.0       NaN       NaN                  NaN        NaN   \n",
              "1362               0.0       NaN       NaN                  NaN        NaN   \n",
              "1366               0.0       NaN       NaN                  NaN        NaN   \n",
              "1368               0.0       NaN       NaN                  NaN        NaN   \n",
              "1370               0.0       NaN       NaN                  NaN        NaN   \n",
              "1371               0.0       NaN       NaN                  NaN        NaN   \n",
              "1372               0.0       NaN       NaN                  NaN        NaN   \n",
              "1373               0.0       NaN       NaN                  NaN        NaN   \n",
              "1374               0.0       NaN       NaN                  NaN        NaN   \n",
              "1376               0.0       NaN       NaN                  NaN        NaN   \n",
              "1379               0.0       NaN       NaN                  NaN        NaN   \n",
              "1380               0.0       NaN       NaN                  NaN        NaN   \n",
              "1386               0.0       NaN       NaN                  NaN        NaN   \n",
              "1390               0.0       NaN       NaN                  NaN        NaN   \n",
              "1406               0.0       NaN       NaN                  NaN        NaN   \n",
              "1408               0.0       NaN       NaN                  NaN        NaN   \n",
              "1409               0.0       NaN       NaN                  NaN        NaN   \n",
              "1412               0.0       NaN       NaN                  NaN        NaN   \n",
              "1413               0.0       NaN       NaN                  NaN        NaN   \n",
              "\n",
              "      Applications Funded  Pull Through Rate  \n",
              "37                      0                NaN  \n",
              "159                     0                NaN  \n",
              "175                     0                NaN  \n",
              "180                     0                NaN  \n",
              "182                     0                NaN  \n",
              "189                     0                NaN  \n",
              "198                     0                NaN  \n",
              "199                     0                NaN  \n",
              "208                     0                NaN  \n",
              "220                     0                NaN  \n",
              "238                     0                NaN  \n",
              "239                     0                NaN  \n",
              "260                     0                NaN  \n",
              "265                     0                NaN  \n",
              "266                     0                NaN  \n",
              "291                     0                NaN  \n",
              "319                     0                NaN  \n",
              "336                     0                NaN  \n",
              "351                     0                NaN  \n",
              "355                     0                NaN  \n",
              "364                     0                NaN  \n",
              "368                     0                NaN  \n",
              "381                     0                NaN  \n",
              "435                     0                0.0  \n",
              "458                     0                NaN  \n",
              "476                     0                NaN  \n",
              "504                     0                NaN  \n",
              "509                     0                NaN  \n",
              "552                     0                NaN  \n",
              "560                     0                NaN  \n",
              "...                   ...                ...  \n",
              "1330                    0                NaN  \n",
              "1331                    0                NaN  \n",
              "1332                    0                NaN  \n",
              "1334                    0                NaN  \n",
              "1335                    0                NaN  \n",
              "1338                    0                NaN  \n",
              "1339                    0                NaN  \n",
              "1344                    0                NaN  \n",
              "1346                    0                NaN  \n",
              "1349                    0                NaN  \n",
              "1354                    0                NaN  \n",
              "1360                    0                NaN  \n",
              "1362                    0                NaN  \n",
              "1366                    0                NaN  \n",
              "1368                    0                NaN  \n",
              "1370                    0                NaN  \n",
              "1371                    0                NaN  \n",
              "1372                    0                NaN  \n",
              "1373                    0                NaN  \n",
              "1374                    0                NaN  \n",
              "1376                    0                NaN  \n",
              "1379                    0                NaN  \n",
              "1380                    0                NaN  \n",
              "1386                    0                NaN  \n",
              "1390                    0                NaN  \n",
              "1406                    0                NaN  \n",
              "1408                    0                NaN  \n",
              "1409                    0                NaN  \n",
              "1412                    0                NaN  \n",
              "1413                    0                NaN  \n",
              "\n",
              "[242 rows x 11 columns]"
            ]
          },
          "metadata": {
            "tags": []
          },
          "execution_count": 20
        }
      ]
    },
    {
      "cell_type": "markdown",
      "metadata": {
        "id": "NJiRv0cTzczy",
        "colab_type": "text"
      },
      "source": [
        "### Drop NAs"
      ]
    },
    {
      "cell_type": "code",
      "metadata": {
        "id": "MBxh3nQLzikd",
        "colab_type": "code",
        "colab": {}
      },
      "source": [
        "# drop nas\n",
        "full_data = full_data.dropna()"
      ],
      "execution_count": null,
      "outputs": []
    },
    {
      "cell_type": "code",
      "metadata": {
        "id": "hiPu5nVBzwQ6",
        "colab_type": "code",
        "colab": {
          "base_uri": "https://localhost:8080/",
          "height": 289
        },
        "outputId": "00e615b9-62fe-4e76-f4d4-157505f99d82"
      },
      "source": [
        "# check data again\n",
        "full_data.info()"
      ],
      "execution_count": null,
      "outputs": [
        {
          "output_type": "stream",
          "text": [
            "<class 'pandas.core.frame.DataFrame'>\n",
            "Int64Index: 1174 entries, 0 to 1415\n",
            "Data columns (total 11 columns):\n",
            "Loan Officer Name          1174 non-null object\n",
            "Month of effective_date    1174 non-null object\n",
            "24 Hour Fund Rate          1174 non-null float64\n",
            "ACH %                      1174 non-null float64\n",
            "Avg Effort Score           1174 non-null float64\n",
            "Co-App %                   1174 non-null float64\n",
            "FAS%                       1174 non-null float64\n",
            "Full App Approved %        1174 non-null float64\n",
            "Fund Rate                  1174 non-null float64\n",
            "Applications Funded        1174 non-null int64\n",
            "Pull Through Rate          1174 non-null float64\n",
            "dtypes: float64(8), int64(1), object(2)\n",
            "memory usage: 110.1+ KB\n"
          ],
          "name": "stdout"
        }
      ]
    },
    {
      "cell_type": "code",
      "metadata": {
        "id": "TQhNfuncw9DJ",
        "colab_type": "code",
        "colab": {
          "base_uri": "https://localhost:8080/",
          "height": 297
        },
        "outputId": "72422d4b-b268-4ed3-ddf8-f808e0726620"
      },
      "source": [
        "# get summary statistics of each variable\n",
        "full_data.describe()"
      ],
      "execution_count": null,
      "outputs": [
        {
          "output_type": "execute_result",
          "data": {
            "text/html": [
              "<div>\n",
              "<style scoped>\n",
              "    .dataframe tbody tr th:only-of-type {\n",
              "        vertical-align: middle;\n",
              "    }\n",
              "\n",
              "    .dataframe tbody tr th {\n",
              "        vertical-align: top;\n",
              "    }\n",
              "\n",
              "    .dataframe thead th {\n",
              "        text-align: right;\n",
              "    }\n",
              "</style>\n",
              "<table border=\"1\" class=\"dataframe\">\n",
              "  <thead>\n",
              "    <tr style=\"text-align: right;\">\n",
              "      <th></th>\n",
              "      <th>24 Hour Fund Rate</th>\n",
              "      <th>ACH %</th>\n",
              "      <th>Avg Effort Score</th>\n",
              "      <th>Co-App %</th>\n",
              "      <th>FAS%</th>\n",
              "      <th>Full App Approved %</th>\n",
              "      <th>Fund Rate</th>\n",
              "      <th>Applications Funded</th>\n",
              "      <th>Pull Through Rate</th>\n",
              "    </tr>\n",
              "  </thead>\n",
              "  <tbody>\n",
              "    <tr>\n",
              "      <th>count</th>\n",
              "      <td>1174.000000</td>\n",
              "      <td>1174.000000</td>\n",
              "      <td>1174.000000</td>\n",
              "      <td>1174.000000</td>\n",
              "      <td>1174.000000</td>\n",
              "      <td>1174.000000</td>\n",
              "      <td>1174.000000</td>\n",
              "      <td>1174.000000</td>\n",
              "      <td>1174.000000</td>\n",
              "    </tr>\n",
              "    <tr>\n",
              "      <th>mean</th>\n",
              "      <td>0.291070</td>\n",
              "      <td>0.816939</td>\n",
              "      <td>289.212018</td>\n",
              "      <td>0.328835</td>\n",
              "      <td>0.265035</td>\n",
              "      <td>0.629331</td>\n",
              "      <td>0.083548</td>\n",
              "      <td>30.454855</td>\n",
              "      <td>0.497936</td>\n",
              "    </tr>\n",
              "    <tr>\n",
              "      <th>std</th>\n",
              "      <td>0.159080</td>\n",
              "      <td>0.140249</td>\n",
              "      <td>62.998568</td>\n",
              "      <td>0.072875</td>\n",
              "      <td>0.046227</td>\n",
              "      <td>0.131187</td>\n",
              "      <td>0.027606</td>\n",
              "      <td>12.336608</td>\n",
              "      <td>0.111181</td>\n",
              "    </tr>\n",
              "    <tr>\n",
              "      <th>min</th>\n",
              "      <td>0.000000</td>\n",
              "      <td>0.307692</td>\n",
              "      <td>0.000000</td>\n",
              "      <td>0.062500</td>\n",
              "      <td>0.052632</td>\n",
              "      <td>0.241379</td>\n",
              "      <td>0.007692</td>\n",
              "      <td>1.000000</td>\n",
              "      <td>0.111111</td>\n",
              "    </tr>\n",
              "    <tr>\n",
              "      <th>25%</th>\n",
              "      <td>0.185185</td>\n",
              "      <td>0.733333</td>\n",
              "      <td>250.308649</td>\n",
              "      <td>0.280899</td>\n",
              "      <td>0.232153</td>\n",
              "      <td>0.575055</td>\n",
              "      <td>0.064827</td>\n",
              "      <td>24.000000</td>\n",
              "      <td>0.432767</td>\n",
              "    </tr>\n",
              "    <tr>\n",
              "      <th>50%</th>\n",
              "      <td>0.272727</td>\n",
              "      <td>0.843750</td>\n",
              "      <td>283.840839</td>\n",
              "      <td>0.323969</td>\n",
              "      <td>0.262010</td>\n",
              "      <td>0.628239</td>\n",
              "      <td>0.082156</td>\n",
              "      <td>30.000000</td>\n",
              "      <td>0.500000</td>\n",
              "    </tr>\n",
              "    <tr>\n",
              "      <th>75%</th>\n",
              "      <td>0.366667</td>\n",
              "      <td>0.925926</td>\n",
              "      <td>323.878241</td>\n",
              "      <td>0.372093</td>\n",
              "      <td>0.294705</td>\n",
              "      <td>0.680556</td>\n",
              "      <td>0.099777</td>\n",
              "      <td>37.000000</td>\n",
              "      <td>0.564103</td>\n",
              "    </tr>\n",
              "    <tr>\n",
              "      <th>max</th>\n",
              "      <td>1.333333</td>\n",
              "      <td>1.000000</td>\n",
              "      <td>667.282639</td>\n",
              "      <td>1.000000</td>\n",
              "      <td>0.424658</td>\n",
              "      <td>4.000000</td>\n",
              "      <td>0.197309</td>\n",
              "      <td>104.000000</td>\n",
              "      <td>1.333333</td>\n",
              "    </tr>\n",
              "  </tbody>\n",
              "</table>\n",
              "</div>"
            ],
            "text/plain": [
              "       24 Hour Fund Rate        ACH %  Avg Effort Score     Co-App %  \\\n",
              "count        1174.000000  1174.000000       1174.000000  1174.000000   \n",
              "mean            0.291070     0.816939        289.212018     0.328835   \n",
              "std             0.159080     0.140249         62.998568     0.072875   \n",
              "min             0.000000     0.307692          0.000000     0.062500   \n",
              "25%             0.185185     0.733333        250.308649     0.280899   \n",
              "50%             0.272727     0.843750        283.840839     0.323969   \n",
              "75%             0.366667     0.925926        323.878241     0.372093   \n",
              "max             1.333333     1.000000        667.282639     1.000000   \n",
              "\n",
              "              FAS%  Full App Approved %    Fund Rate  Applications Funded  \\\n",
              "count  1174.000000          1174.000000  1174.000000          1174.000000   \n",
              "mean      0.265035             0.629331     0.083548            30.454855   \n",
              "std       0.046227             0.131187     0.027606            12.336608   \n",
              "min       0.052632             0.241379     0.007692             1.000000   \n",
              "25%       0.232153             0.575055     0.064827            24.000000   \n",
              "50%       0.262010             0.628239     0.082156            30.000000   \n",
              "75%       0.294705             0.680556     0.099777            37.000000   \n",
              "max       0.424658             4.000000     0.197309           104.000000   \n",
              "\n",
              "       Pull Through Rate  \n",
              "count        1174.000000  \n",
              "mean            0.497936  \n",
              "std             0.111181  \n",
              "min             0.111111  \n",
              "25%             0.432767  \n",
              "50%             0.500000  \n",
              "75%             0.564103  \n",
              "max             1.333333  "
            ]
          },
          "metadata": {
            "tags": []
          },
          "execution_count": 165
        }
      ]
    },
    {
      "cell_type": "markdown",
      "metadata": {
        "id": "qBoHZld00T-w",
        "colab_type": "text"
      },
      "source": [
        "A few things stick out to me: \n",
        "\n",
        "* Medians and Mean are very different between a few of the variables (Signal of outliers)\n",
        "\n",
        "* Effort Score of 0 seems wrong\n",
        "\n",
        "* 24 Hour Fund rate over 1"
      ]
    },
    {
      "cell_type": "code",
      "metadata": {
        "id": "qmmaFV8DxNii",
        "colab_type": "code",
        "colab": {
          "base_uri": "https://localhost:8080/",
          "height": 80
        },
        "outputId": "d1799fd6-df06-46eb-f229-4a21f86de2a9"
      },
      "source": [
        "# Look at Effort Score of 0\n",
        "full_data[full_data['Avg Effort Score'] == 0]"
      ],
      "execution_count": null,
      "outputs": [
        {
          "output_type": "execute_result",
          "data": {
            "text/html": [
              "<div>\n",
              "<style scoped>\n",
              "    .dataframe tbody tr th:only-of-type {\n",
              "        vertical-align: middle;\n",
              "    }\n",
              "\n",
              "    .dataframe tbody tr th {\n",
              "        vertical-align: top;\n",
              "    }\n",
              "\n",
              "    .dataframe thead th {\n",
              "        text-align: right;\n",
              "    }\n",
              "</style>\n",
              "<table border=\"1\" class=\"dataframe\">\n",
              "  <thead>\n",
              "    <tr style=\"text-align: right;\">\n",
              "      <th></th>\n",
              "      <th>Loan Officer Name</th>\n",
              "      <th>Month of effective_date</th>\n",
              "      <th>24 Hour Fund Rate</th>\n",
              "      <th>ACH %</th>\n",
              "      <th>Avg Effort Score</th>\n",
              "      <th>Co-App %</th>\n",
              "      <th>FAS%</th>\n",
              "      <th>Full App Approved %</th>\n",
              "      <th>Fund Rate</th>\n",
              "      <th>Applications Funded</th>\n",
              "      <th>Pull Through Rate</th>\n",
              "    </tr>\n",
              "  </thead>\n",
              "  <tbody>\n",
              "    <tr>\n",
              "      <th>110</th>\n",
              "      <td>Bryan Amaya Zapata</td>\n",
              "      <td>December 2018</td>\n",
              "      <td>0.5</td>\n",
              "      <td>1.0</td>\n",
              "      <td>0.0</td>\n",
              "      <td>0.0625</td>\n",
              "      <td>0.198758</td>\n",
              "      <td>0.4375</td>\n",
              "      <td>0.024845</td>\n",
              "      <td>4</td>\n",
              "      <td>0.285714</td>\n",
              "    </tr>\n",
              "  </tbody>\n",
              "</table>\n",
              "</div>"
            ],
            "text/plain": [
              "      Loan Officer Name Month of effective_date  24 Hour Fund Rate  ACH %  \\\n",
              "110  Bryan Amaya Zapata           December 2018                0.5    1.0   \n",
              "\n",
              "     Avg Effort Score  Co-App %      FAS%  Full App Approved %  Fund Rate  \\\n",
              "110               0.0    0.0625  0.198758               0.4375   0.024845   \n",
              "\n",
              "     Applications Funded  Pull Through Rate  \n",
              "110                    4           0.285714  "
            ]
          },
          "metadata": {
            "tags": []
          },
          "execution_count": 166
        }
      ]
    },
    {
      "cell_type": "code",
      "metadata": {
        "id": "Dlta0Cd81BYX",
        "colab_type": "code",
        "colab": {
          "base_uri": "https://localhost:8080/",
          "height": 297
        },
        "outputId": "b81e94ce-3a7c-4b27-f311-ebc0ae808bdb"
      },
      "source": [
        "# get rid of Bryan's December scores\n",
        "full_data = full_data[full_data['Avg Effort Score'] != 0]\n",
        "full_data.describe()"
      ],
      "execution_count": null,
      "outputs": [
        {
          "output_type": "execute_result",
          "data": {
            "text/html": [
              "<div>\n",
              "<style scoped>\n",
              "    .dataframe tbody tr th:only-of-type {\n",
              "        vertical-align: middle;\n",
              "    }\n",
              "\n",
              "    .dataframe tbody tr th {\n",
              "        vertical-align: top;\n",
              "    }\n",
              "\n",
              "    .dataframe thead th {\n",
              "        text-align: right;\n",
              "    }\n",
              "</style>\n",
              "<table border=\"1\" class=\"dataframe\">\n",
              "  <thead>\n",
              "    <tr style=\"text-align: right;\">\n",
              "      <th></th>\n",
              "      <th>24 Hour Fund Rate</th>\n",
              "      <th>ACH %</th>\n",
              "      <th>Avg Effort Score</th>\n",
              "      <th>Co-App %</th>\n",
              "      <th>FAS%</th>\n",
              "      <th>Full App Approved %</th>\n",
              "      <th>Fund Rate</th>\n",
              "      <th>Applications Funded</th>\n",
              "      <th>Pull Through Rate</th>\n",
              "    </tr>\n",
              "  </thead>\n",
              "  <tbody>\n",
              "    <tr>\n",
              "      <th>count</th>\n",
              "      <td>1173.000000</td>\n",
              "      <td>1173.000000</td>\n",
              "      <td>1173.000000</td>\n",
              "      <td>1173.000000</td>\n",
              "      <td>1173.000000</td>\n",
              "      <td>1173.000000</td>\n",
              "      <td>1173.000000</td>\n",
              "      <td>1173.000000</td>\n",
              "      <td>1173.000000</td>\n",
              "    </tr>\n",
              "    <tr>\n",
              "      <th>mean</th>\n",
              "      <td>0.290892</td>\n",
              "      <td>0.816783</td>\n",
              "      <td>289.458575</td>\n",
              "      <td>0.329062</td>\n",
              "      <td>0.265091</td>\n",
              "      <td>0.629495</td>\n",
              "      <td>0.083598</td>\n",
              "      <td>30.477408</td>\n",
              "      <td>0.498117</td>\n",
              "    </tr>\n",
              "    <tr>\n",
              "      <th>std</th>\n",
              "      <td>0.159030</td>\n",
              "      <td>0.140207</td>\n",
              "      <td>62.456199</td>\n",
              "      <td>0.072489</td>\n",
              "      <td>0.046206</td>\n",
              "      <td>0.131123</td>\n",
              "      <td>0.027564</td>\n",
              "      <td>12.317634</td>\n",
              "      <td>0.111055</td>\n",
              "    </tr>\n",
              "    <tr>\n",
              "      <th>min</th>\n",
              "      <td>0.000000</td>\n",
              "      <td>0.307692</td>\n",
              "      <td>42.078431</td>\n",
              "      <td>0.115385</td>\n",
              "      <td>0.052632</td>\n",
              "      <td>0.241379</td>\n",
              "      <td>0.007692</td>\n",
              "      <td>1.000000</td>\n",
              "      <td>0.111111</td>\n",
              "    </tr>\n",
              "    <tr>\n",
              "      <th>25%</th>\n",
              "      <td>0.185185</td>\n",
              "      <td>0.733333</td>\n",
              "      <td>250.327778</td>\n",
              "      <td>0.280899</td>\n",
              "      <td>0.232184</td>\n",
              "      <td>0.575221</td>\n",
              "      <td>0.064865</td>\n",
              "      <td>24.000000</td>\n",
              "      <td>0.432990</td>\n",
              "    </tr>\n",
              "    <tr>\n",
              "      <th>50%</th>\n",
              "      <td>0.272727</td>\n",
              "      <td>0.843750</td>\n",
              "      <td>283.850725</td>\n",
              "      <td>0.324074</td>\n",
              "      <td>0.262115</td>\n",
              "      <td>0.628378</td>\n",
              "      <td>0.082160</td>\n",
              "      <td>30.000000</td>\n",
              "      <td>0.500000</td>\n",
              "    </tr>\n",
              "    <tr>\n",
              "      <th>75%</th>\n",
              "      <td>0.366667</td>\n",
              "      <td>0.925926</td>\n",
              "      <td>323.926543</td>\n",
              "      <td>0.372093</td>\n",
              "      <td>0.294776</td>\n",
              "      <td>0.680556</td>\n",
              "      <td>0.099778</td>\n",
              "      <td>37.000000</td>\n",
              "      <td>0.564103</td>\n",
              "    </tr>\n",
              "    <tr>\n",
              "      <th>max</th>\n",
              "      <td>1.333333</td>\n",
              "      <td>1.000000</td>\n",
              "      <td>667.282639</td>\n",
              "      <td>1.000000</td>\n",
              "      <td>0.424658</td>\n",
              "      <td>4.000000</td>\n",
              "      <td>0.197309</td>\n",
              "      <td>104.000000</td>\n",
              "      <td>1.333333</td>\n",
              "    </tr>\n",
              "  </tbody>\n",
              "</table>\n",
              "</div>"
            ],
            "text/plain": [
              "       24 Hour Fund Rate        ACH %  Avg Effort Score     Co-App %  \\\n",
              "count        1173.000000  1173.000000       1173.000000  1173.000000   \n",
              "mean            0.290892     0.816783        289.458575     0.329062   \n",
              "std             0.159030     0.140207         62.456199     0.072489   \n",
              "min             0.000000     0.307692         42.078431     0.115385   \n",
              "25%             0.185185     0.733333        250.327778     0.280899   \n",
              "50%             0.272727     0.843750        283.850725     0.324074   \n",
              "75%             0.366667     0.925926        323.926543     0.372093   \n",
              "max             1.333333     1.000000        667.282639     1.000000   \n",
              "\n",
              "              FAS%  Full App Approved %    Fund Rate  Applications Funded  \\\n",
              "count  1173.000000          1173.000000  1173.000000          1173.000000   \n",
              "mean      0.265091             0.629495     0.083598            30.477408   \n",
              "std       0.046206             0.131123     0.027564            12.317634   \n",
              "min       0.052632             0.241379     0.007692             1.000000   \n",
              "25%       0.232184             0.575221     0.064865            24.000000   \n",
              "50%       0.262115             0.628378     0.082160            30.000000   \n",
              "75%       0.294776             0.680556     0.099778            37.000000   \n",
              "max       0.424658             4.000000     0.197309           104.000000   \n",
              "\n",
              "       Pull Through Rate  \n",
              "count        1173.000000  \n",
              "mean            0.498117  \n",
              "std             0.111055  \n",
              "min             0.111111  \n",
              "25%             0.432990  \n",
              "50%             0.500000  \n",
              "75%             0.564103  \n",
              "max             1.333333  "
            ]
          },
          "metadata": {
            "tags": []
          },
          "execution_count": 167
        }
      ]
    },
    {
      "cell_type": "code",
      "metadata": {
        "id": "W-UuHlMq1upk",
        "colab_type": "code",
        "colab": {
          "base_uri": "https://localhost:8080/",
          "height": 173
        },
        "outputId": "363be190-3413-4512-fa0b-a88b515f89c3"
      },
      "source": [
        "# Look at 24hr fund rate over 1\n",
        "full_data[full_data['24 Hour Fund Rate'] > 1]"
      ],
      "execution_count": null,
      "outputs": [
        {
          "output_type": "execute_result",
          "data": {
            "text/html": [
              "<div>\n",
              "<style scoped>\n",
              "    .dataframe tbody tr th:only-of-type {\n",
              "        vertical-align: middle;\n",
              "    }\n",
              "\n",
              "    .dataframe tbody tr th {\n",
              "        vertical-align: top;\n",
              "    }\n",
              "\n",
              "    .dataframe thead th {\n",
              "        text-align: right;\n",
              "    }\n",
              "</style>\n",
              "<table border=\"1\" class=\"dataframe\">\n",
              "  <thead>\n",
              "    <tr style=\"text-align: right;\">\n",
              "      <th></th>\n",
              "      <th>Loan Officer Name</th>\n",
              "      <th>Month of effective_date</th>\n",
              "      <th>24 Hour Fund Rate</th>\n",
              "      <th>ACH %</th>\n",
              "      <th>Avg Effort Score</th>\n",
              "      <th>Co-App %</th>\n",
              "      <th>FAS%</th>\n",
              "      <th>Full App Approved %</th>\n",
              "      <th>Fund Rate</th>\n",
              "      <th>Applications Funded</th>\n",
              "      <th>Pull Through Rate</th>\n",
              "    </tr>\n",
              "  </thead>\n",
              "  <tbody>\n",
              "    <tr>\n",
              "      <th>66</th>\n",
              "      <td>John Campanaro</td>\n",
              "      <td>December 2018</td>\n",
              "      <td>1.200000</td>\n",
              "      <td>1.00</td>\n",
              "      <td>291.138889</td>\n",
              "      <td>0.268293</td>\n",
              "      <td>0.202970</td>\n",
              "      <td>0.439024</td>\n",
              "      <td>0.024752</td>\n",
              "      <td>5</td>\n",
              "      <td>0.277778</td>\n",
              "    </tr>\n",
              "    <tr>\n",
              "      <th>442</th>\n",
              "      <td>Josue Leon</td>\n",
              "      <td>September 2018</td>\n",
              "      <td>1.333333</td>\n",
              "      <td>1.00</td>\n",
              "      <td>313.150000</td>\n",
              "      <td>0.200000</td>\n",
              "      <td>0.328947</td>\n",
              "      <td>0.680000</td>\n",
              "      <td>0.039474</td>\n",
              "      <td>3</td>\n",
              "      <td>0.176471</td>\n",
              "    </tr>\n",
              "    <tr>\n",
              "      <th>469</th>\n",
              "      <td>Earl Nagaran</td>\n",
              "      <td>September 2018</td>\n",
              "      <td>1.333333</td>\n",
              "      <td>1.00</td>\n",
              "      <td>336.953333</td>\n",
              "      <td>0.230769</td>\n",
              "      <td>0.232143</td>\n",
              "      <td>0.538462</td>\n",
              "      <td>0.026786</td>\n",
              "      <td>3</td>\n",
              "      <td>0.214286</td>\n",
              "    </tr>\n",
              "    <tr>\n",
              "      <th>742</th>\n",
              "      <td>Alex Lowry</td>\n",
              "      <td>July 2018</td>\n",
              "      <td>1.250000</td>\n",
              "      <td>0.75</td>\n",
              "      <td>297.430952</td>\n",
              "      <td>0.272727</td>\n",
              "      <td>0.264000</td>\n",
              "      <td>0.454545</td>\n",
              "      <td>0.032000</td>\n",
              "      <td>4</td>\n",
              "      <td>0.266667</td>\n",
              "    </tr>\n",
              "  </tbody>\n",
              "</table>\n",
              "</div>"
            ],
            "text/plain": [
              "    Loan Officer Name Month of effective_date  24 Hour Fund Rate  ACH %  \\\n",
              "66     John Campanaro           December 2018           1.200000   1.00   \n",
              "442        Josue Leon          September 2018           1.333333   1.00   \n",
              "469      Earl Nagaran          September 2018           1.333333   1.00   \n",
              "742        Alex Lowry               July 2018           1.250000   0.75   \n",
              "\n",
              "     Avg Effort Score  Co-App %      FAS%  Full App Approved %  Fund Rate  \\\n",
              "66         291.138889  0.268293  0.202970             0.439024   0.024752   \n",
              "442        313.150000  0.200000  0.328947             0.680000   0.039474   \n",
              "469        336.953333  0.230769  0.232143             0.538462   0.026786   \n",
              "742        297.430952  0.272727  0.264000             0.454545   0.032000   \n",
              "\n",
              "     Applications Funded  Pull Through Rate  \n",
              "66                     5           0.277778  \n",
              "442                    3           0.176471  \n",
              "469                    3           0.214286  \n",
              "742                    4           0.266667  "
            ]
          },
          "metadata": {
            "tags": []
          },
          "execution_count": 25
        }
      ]
    },
    {
      "cell_type": "markdown",
      "metadata": {
        "id": "RbxZQfkw5QZv",
        "colab_type": "text"
      },
      "source": [
        "# Individual Analysis"
      ]
    },
    {
      "cell_type": "code",
      "metadata": {
        "id": "008xh5jF5WMU",
        "colab_type": "code",
        "colab": {}
      },
      "source": [
        "# drop the column from the dataframe\n",
        "oneDayFundRate = oneDayFundRate.dropna()\n",
        "ACH = ACH.dropna()\n",
        "Effort = Effort.dropna()\n",
        "CoApp = CoApp.dropna()\n",
        "FAS = FAS.dropna()\n",
        "FullApprove = FullApprove.dropna()\n",
        "FundRate = FundRate.dropna()\n",
        "LoansFunded = LoansFunded.dropna()\n",
        "PullThrough = PullThrough.dropna()"
      ],
      "execution_count": null,
      "outputs": []
    },
    {
      "cell_type": "markdown",
      "metadata": {
        "id": "GS9Bzqn4EN1J",
        "colab_type": "text"
      },
      "source": [
        "## 24 Hr Fund Rate"
      ]
    },
    {
      "cell_type": "code",
      "metadata": {
        "id": "-YaD486B-mxM",
        "colab_type": "code",
        "colab": {
          "base_uri": "https://localhost:8080/",
          "height": 297
        },
        "outputId": "999a5028-5997-49dc-edcf-03e0926e897d"
      },
      "source": [
        "oneDayFundRate.describe()"
      ],
      "execution_count": null,
      "outputs": [
        {
          "output_type": "execute_result",
          "data": {
            "text/html": [
              "<div>\n",
              "<style scoped>\n",
              "    .dataframe tbody tr th:only-of-type {\n",
              "        vertical-align: middle;\n",
              "    }\n",
              "\n",
              "    .dataframe tbody tr th {\n",
              "        vertical-align: top;\n",
              "    }\n",
              "\n",
              "    .dataframe thead th {\n",
              "        text-align: right;\n",
              "    }\n",
              "</style>\n",
              "<table border=\"1\" class=\"dataframe\">\n",
              "  <thead>\n",
              "    <tr style=\"text-align: right;\">\n",
              "      <th></th>\n",
              "      <th>24 Hour Fund Rate</th>\n",
              "    </tr>\n",
              "  </thead>\n",
              "  <tbody>\n",
              "    <tr>\n",
              "      <th>count</th>\n",
              "      <td>1174.000000</td>\n",
              "    </tr>\n",
              "    <tr>\n",
              "      <th>mean</th>\n",
              "      <td>0.291070</td>\n",
              "    </tr>\n",
              "    <tr>\n",
              "      <th>std</th>\n",
              "      <td>0.159080</td>\n",
              "    </tr>\n",
              "    <tr>\n",
              "      <th>min</th>\n",
              "      <td>0.000000</td>\n",
              "    </tr>\n",
              "    <tr>\n",
              "      <th>25%</th>\n",
              "      <td>0.185185</td>\n",
              "    </tr>\n",
              "    <tr>\n",
              "      <th>50%</th>\n",
              "      <td>0.272727</td>\n",
              "    </tr>\n",
              "    <tr>\n",
              "      <th>75%</th>\n",
              "      <td>0.366667</td>\n",
              "    </tr>\n",
              "    <tr>\n",
              "      <th>max</th>\n",
              "      <td>1.333333</td>\n",
              "    </tr>\n",
              "  </tbody>\n",
              "</table>\n",
              "</div>"
            ],
            "text/plain": [
              "       24 Hour Fund Rate\n",
              "count        1174.000000\n",
              "mean            0.291070\n",
              "std             0.159080\n",
              "min             0.000000\n",
              "25%             0.185185\n",
              "50%             0.272727\n",
              "75%             0.366667\n",
              "max             1.333333"
            ]
          },
          "metadata": {
            "tags": []
          },
          "execution_count": 28
        }
      ]
    },
    {
      "cell_type": "markdown",
      "metadata": {
        "id": "qTqr-kl2Gnzs",
        "colab_type": "text"
      },
      "source": [
        "**Visualize Data**"
      ]
    },
    {
      "cell_type": "code",
      "metadata": {
        "id": "pCECkGLKG1ty",
        "colab_type": "code",
        "colab": {
          "base_uri": "https://localhost:8080/",
          "height": 300
        },
        "outputId": "a38393bd-ce0b-4dd2-bbd9-94235fa91ad5"
      },
      "source": [
        "# Cut the window in 2 parts\n",
        "f, (ax_hist, ax_box) = plt.subplots(2, sharex=True, gridspec_kw={\"height_ratios\": (.85, .25)})\n",
        "\n",
        "# Add a graph in each part\n",
        "sns.boxplot(oneDayFundRate['24 Hour Fund Rate'], ax=ax_box)\n",
        "sns.distplot(oneDayFundRate['24 Hour Fund Rate'], ax=ax_hist)\n",
        "\n",
        "# Remove x axis name for the boxplot\n",
        "#ax_box.set(xlabel='')"
      ],
      "execution_count": null,
      "outputs": [
        {
          "output_type": "execute_result",
          "data": {
            "text/plain": [
              "<matplotlib.axes._subplots.AxesSubplot at 0x7f4b7de6b2b0>"
            ]
          },
          "metadata": {
            "tags": []
          },
          "execution_count": 172
        },
        {
          "output_type": "display_data",
          "data": {
            "image/png": "[encoded data removed]",
            "text/plain": [
              "<Figure size 432x288 with 2 Axes>"
            ]
          },
          "metadata": {
            "tags": []
          }
        }
      ]
    },
    {
      "cell_type": "markdown",
      "metadata": {
        "id": "0jHsoRBwG_be",
        "colab_type": "text"
      },
      "source": [
        "**Eliminate Outliers**\n",
        "\n",
        "Anything over 60%"
      ]
    },
    {
      "cell_type": "code",
      "metadata": {
        "id": "EVyZym2GHDkm",
        "colab_type": "code",
        "colab": {}
      },
      "source": [
        "oneDayFundRate = oneDayFundRate[oneDayFundRate['24 Hour Fund Rate'] < 0.6]"
      ],
      "execution_count": null,
      "outputs": []
    },
    {
      "cell_type": "code",
      "metadata": {
        "id": "4HjI1f0FH0Mu",
        "colab_type": "code",
        "colab": {
          "base_uri": "https://localhost:8080/",
          "height": 286
        },
        "outputId": "8d5a8343-0dbe-47d6-c342-54c8017b728f"
      },
      "source": [
        "# Cut the window in 2 parts\n",
        "f, (ax_hist, ax_box) = plt.subplots(2, sharex=True, gridspec_kw={\"height_ratios\": (.85, .25)})\n",
        " \n",
        "# Add a graph in each part\n",
        "sns.boxplot(oneDayFundRate['24 Hour Fund Rate'], ax=ax_box)\n",
        "sns.distplot(oneDayFundRate['24 Hour Fund Rate'], ax=ax_hist)\n",
        " \n",
        "# Remove x axis name for the boxplot\n",
        "ax_box.set(xlabel='')"
      ],
      "execution_count": null,
      "outputs": [
        {
          "output_type": "execute_result",
          "data": {
            "text/plain": [
              "[Text(0.5, 0, '')]"
            ]
          },
          "metadata": {
            "tags": []
          },
          "execution_count": 31
        },
        {
          "output_type": "display_data",
          "data": {
            "image/png": "[encoded data removed]",
            "text/plain": [
              "<Figure size 432x288 with 2 Axes>"
            ]
          },
          "metadata": {
            "tags": []
          }
        }
      ]
    },
    {
      "cell_type": "markdown",
      "metadata": {
        "id": "CJPyh2E4FfWB",
        "colab_type": "text"
      },
      "source": [
        "## ACH "
      ]
    },
    {
      "cell_type": "code",
      "metadata": {
        "id": "_fPbghRtIhWq",
        "colab_type": "code",
        "colab": {
          "base_uri": "https://localhost:8080/",
          "height": 297
        },
        "outputId": "a7ec18fb-859d-4523-850d-704eff0ead3b"
      },
      "source": [
        "ACH.describe()"
      ],
      "execution_count": null,
      "outputs": [
        {
          "output_type": "execute_result",
          "data": {
            "text/html": [
              "<div>\n",
              "<style scoped>\n",
              "    .dataframe tbody tr th:only-of-type {\n",
              "        vertical-align: middle;\n",
              "    }\n",
              "\n",
              "    .dataframe tbody tr th {\n",
              "        vertical-align: top;\n",
              "    }\n",
              "\n",
              "    .dataframe thead th {\n",
              "        text-align: right;\n",
              "    }\n",
              "</style>\n",
              "<table border=\"1\" class=\"dataframe\">\n",
              "  <thead>\n",
              "    <tr style=\"text-align: right;\">\n",
              "      <th></th>\n",
              "      <th>ACH %</th>\n",
              "      <th>Full App Approved %</th>\n",
              "    </tr>\n",
              "  </thead>\n",
              "  <tbody>\n",
              "    <tr>\n",
              "      <th>count</th>\n",
              "      <td>1174.000000</td>\n",
              "      <td>1174.000000</td>\n",
              "    </tr>\n",
              "    <tr>\n",
              "      <th>mean</th>\n",
              "      <td>0.816939</td>\n",
              "      <td>0.629331</td>\n",
              "    </tr>\n",
              "    <tr>\n",
              "      <th>std</th>\n",
              "      <td>0.140249</td>\n",
              "      <td>0.131187</td>\n",
              "    </tr>\n",
              "    <tr>\n",
              "      <th>min</th>\n",
              "      <td>0.307692</td>\n",
              "      <td>0.241379</td>\n",
              "    </tr>\n",
              "    <tr>\n",
              "      <th>25%</th>\n",
              "      <td>0.733333</td>\n",
              "      <td>0.575055</td>\n",
              "    </tr>\n",
              "    <tr>\n",
              "      <th>50%</th>\n",
              "      <td>0.843750</td>\n",
              "      <td>0.628239</td>\n",
              "    </tr>\n",
              "    <tr>\n",
              "      <th>75%</th>\n",
              "      <td>0.925926</td>\n",
              "      <td>0.680556</td>\n",
              "    </tr>\n",
              "    <tr>\n",
              "      <th>max</th>\n",
              "      <td>1.000000</td>\n",
              "      <td>4.000000</td>\n",
              "    </tr>\n",
              "  </tbody>\n",
              "</table>\n",
              "</div>"
            ],
            "text/plain": [
              "             ACH %  Full App Approved %\n",
              "count  1174.000000          1174.000000\n",
              "mean      0.816939             0.629331\n",
              "std       0.140249             0.131187\n",
              "min       0.307692             0.241379\n",
              "25%       0.733333             0.575055\n",
              "50%       0.843750             0.628239\n",
              "75%       0.925926             0.680556\n",
              "max       1.000000             4.000000"
            ]
          },
          "metadata": {
            "tags": []
          },
          "execution_count": 32
        }
      ]
    },
    {
      "cell_type": "markdown",
      "metadata": {
        "id": "QC08knPpGjHZ",
        "colab_type": "text"
      },
      "source": [
        "**Visualize Data**"
      ]
    },
    {
      "cell_type": "code",
      "metadata": {
        "id": "Z84KkBBzAqAD",
        "colab_type": "code",
        "colab": {
          "base_uri": "https://localhost:8080/",
          "height": 286
        },
        "outputId": "9b46b788-54c8-41dd-afda-4a2399b4de7e"
      },
      "source": [
        "# Cut the window in 2 parts\n",
        "f, (ax_hist, ax_box) = plt.subplots(2, sharex=True, gridspec_kw={\"height_ratios\": (.85, .25)})\n",
        " \n",
        "# Add a graph in each part\n",
        "sns.distplot(ACH['ACH %'], ax=ax_hist)\n",
        "sns.boxplot(ACH['ACH %'], ax=ax_box)\n",
        "\n",
        "# Remove x axis name for the boxplot\n",
        "ax_box.set(xlabel='')"
      ],
      "execution_count": null,
      "outputs": [
        {
          "output_type": "execute_result",
          "data": {
            "text/plain": [
              "[Text(0.5, 0, '')]"
            ]
          },
          "metadata": {
            "tags": []
          },
          "execution_count": 33
        },
        {
          "output_type": "display_data",
          "data": {
            "image/png": "[encoded data removed]",
            "text/plain": [
              "<Figure size 432x288 with 2 Axes>"
            ]
          },
          "metadata": {
            "tags": []
          }
        }
      ]
    },
    {
      "cell_type": "markdown",
      "metadata": {
        "id": "cSFcos39Jy2t",
        "colab_type": "text"
      },
      "source": [
        "**Eliminate Outliers**"
      ]
    },
    {
      "cell_type": "code",
      "metadata": {
        "id": "rZyUrYmaAqFr",
        "colab_type": "code",
        "colab": {}
      },
      "source": [
        "ACH = ACH[ACH['ACH %'] >= 0.6]"
      ],
      "execution_count": null,
      "outputs": []
    },
    {
      "cell_type": "code",
      "metadata": {
        "id": "ZvLcBC1VM2UH",
        "colab_type": "code",
        "colab": {
          "base_uri": "https://localhost:8080/",
          "height": 286
        },
        "outputId": "6ecacb70-0c36-4cd0-881a-173f67ebecdb"
      },
      "source": [
        "# Cut the window in 2 parts\n",
        "f, (ax_hist, ax_box) = plt.subplots(2, sharex=True, gridspec_kw={\"height_ratios\": (.85, .25)})\n",
        " \n",
        "# Add a graph in each part\n",
        "sns.distplot(ACH['ACH %'], ax=ax_hist)\n",
        "sns.boxplot(ACH['ACH %'], ax=ax_box)\n",
        "\n",
        "# Remove x axis name for the boxplot\n",
        "ax_box.set(xlabel='')"
      ],
      "execution_count": null,
      "outputs": [
        {
          "output_type": "execute_result",
          "data": {
            "text/plain": [
              "[Text(0.5, 0, '')]"
            ]
          },
          "metadata": {
            "tags": []
          },
          "execution_count": 35
        },
        {
          "output_type": "display_data",
          "data": {
            "image/png": "[encoded data removed]",
            "text/plain": [
              "<Figure size 432x288 with 2 Axes>"
            ]
          },
          "metadata": {
            "tags": []
          }
        }
      ]
    },
    {
      "cell_type": "markdown",
      "metadata": {
        "id": "gLR4yEKVKCU8",
        "colab_type": "text"
      },
      "source": [
        "## Effort "
      ]
    },
    {
      "cell_type": "code",
      "metadata": {
        "id": "fbFI9YUKK4ha",
        "colab_type": "code",
        "colab": {
          "base_uri": "https://localhost:8080/",
          "height": 297
        },
        "outputId": "75353688-55f4-4428-eb41-214ed6a9bdf9"
      },
      "source": [
        "Effort.describe()"
      ],
      "execution_count": null,
      "outputs": [
        {
          "output_type": "execute_result",
          "data": {
            "text/html": [
              "<div>\n",
              "<style scoped>\n",
              "    .dataframe tbody tr th:only-of-type {\n",
              "        vertical-align: middle;\n",
              "    }\n",
              "\n",
              "    .dataframe tbody tr th {\n",
              "        vertical-align: top;\n",
              "    }\n",
              "\n",
              "    .dataframe thead th {\n",
              "        text-align: right;\n",
              "    }\n",
              "</style>\n",
              "<table border=\"1\" class=\"dataframe\">\n",
              "  <thead>\n",
              "    <tr style=\"text-align: right;\">\n",
              "      <th></th>\n",
              "      <th>Avg Effort Score</th>\n",
              "      <th>Full App Approved %</th>\n",
              "    </tr>\n",
              "  </thead>\n",
              "  <tbody>\n",
              "    <tr>\n",
              "      <th>count</th>\n",
              "      <td>1186.000000</td>\n",
              "      <td>1186.000000</td>\n",
              "    </tr>\n",
              "    <tr>\n",
              "      <th>mean</th>\n",
              "      <td>286.381858</td>\n",
              "      <td>0.624650</td>\n",
              "    </tr>\n",
              "    <tr>\n",
              "      <th>std</th>\n",
              "      <td>68.723830</td>\n",
              "      <td>0.143485</td>\n",
              "    </tr>\n",
              "    <tr>\n",
              "      <th>min</th>\n",
              "      <td>0.000000</td>\n",
              "      <td>0.000000</td>\n",
              "    </tr>\n",
              "    <tr>\n",
              "      <th>25%</th>\n",
              "      <td>248.995353</td>\n",
              "      <td>0.572492</td>\n",
              "    </tr>\n",
              "    <tr>\n",
              "      <th>50%</th>\n",
              "      <td>283.556748</td>\n",
              "      <td>0.627660</td>\n",
              "    </tr>\n",
              "    <tr>\n",
              "      <th>75%</th>\n",
              "      <td>323.473948</td>\n",
              "      <td>0.680556</td>\n",
              "    </tr>\n",
              "    <tr>\n",
              "      <th>max</th>\n",
              "      <td>667.282639</td>\n",
              "      <td>4.000000</td>\n",
              "    </tr>\n",
              "  </tbody>\n",
              "</table>\n",
              "</div>"
            ],
            "text/plain": [
              "       Avg Effort Score  Full App Approved %\n",
              "count       1186.000000          1186.000000\n",
              "mean         286.381858             0.624650\n",
              "std           68.723830             0.143485\n",
              "min            0.000000             0.000000\n",
              "25%          248.995353             0.572492\n",
              "50%          283.556748             0.627660\n",
              "75%          323.473948             0.680556\n",
              "max          667.282639             4.000000"
            ]
          },
          "metadata": {
            "tags": []
          },
          "execution_count": 41
        }
      ]
    },
    {
      "cell_type": "markdown",
      "metadata": {
        "id": "3O4ybiwfJ9r8",
        "colab_type": "text"
      },
      "source": [
        "**Visualize Data**"
      ]
    },
    {
      "cell_type": "code",
      "metadata": {
        "id": "kqh_9r3iLp5k",
        "colab_type": "code",
        "colab": {
          "base_uri": "https://localhost:8080/",
          "height": 286
        },
        "outputId": "9e304081-f79d-49c6-b01f-6a070ecdee95"
      },
      "source": [
        "# Cut the window in 2 parts\n",
        "f, (ax_hist, ax_box) = plt.subplots(2, sharex=True, gridspec_kw={\"height_ratios\": (.85, .25)})\n",
        " \n",
        "# Add a graph in each part\n",
        "sns.boxplot(Effort['Avg Effort Score'], ax=ax_box)\n",
        "sns.distplot(Effort['Avg Effort Score'], ax=ax_hist)\n",
        " \n",
        "# Remove x axis name for the boxplot\n",
        "ax_box.set(xlabel='')"
      ],
      "execution_count": null,
      "outputs": [
        {
          "output_type": "execute_result",
          "data": {
            "text/plain": [
              "[Text(0.5, 0, '')]"
            ]
          },
          "metadata": {
            "tags": []
          },
          "execution_count": 42
        },
        {
          "output_type": "display_data",
          "data": {
            "image/png": "[encoded data removed]",
            "text/plain": [
              "<Figure size 432x288 with 2 Axes>"
            ]
          },
          "metadata": {
            "tags": []
          }
        }
      ]
    },
    {
      "cell_type": "markdown",
      "metadata": {
        "id": "oET4D4wzJz3s",
        "colab_type": "text"
      },
      "source": [
        "**Eliminate Outliers**"
      ]
    },
    {
      "cell_type": "code",
      "metadata": {
        "id": "xiOS2BSbNF0K",
        "colab_type": "code",
        "colab": {}
      },
      "source": [
        "Effort = Effort[(Effort['Avg Effort Score'] > 150) & (Effort['Avg Effort Score'] <= 450)]"
      ],
      "execution_count": null,
      "outputs": []
    },
    {
      "cell_type": "code",
      "metadata": {
        "id": "U2YFtUAtNF7g",
        "colab_type": "code",
        "colab": {
          "base_uri": "https://localhost:8080/",
          "height": 286
        },
        "outputId": "724c0345-6daf-4a9d-976d-27312ff07957"
      },
      "source": [
        "# Cut the window in 2 parts\n",
        "f, (ax_hist, ax_box) = plt.subplots(2, sharex=True, gridspec_kw={\"height_ratios\": (.85, .25)})\n",
        " \n",
        "# Add a graph in each part\n",
        "sns.boxplot(Effort['Avg Effort Score'], ax=ax_box)\n",
        "sns.distplot(Effort['Avg Effort Score'], ax=ax_hist)\n",
        " \n",
        "# Remove x axis name for the boxplot\n",
        "ax_box.set(xlabel='')"
      ],
      "execution_count": null,
      "outputs": [
        {
          "output_type": "execute_result",
          "data": {
            "text/plain": [
              "[Text(0.5, 0, '')]"
            ]
          },
          "metadata": {
            "tags": []
          },
          "execution_count": 44
        },
        {
          "output_type": "display_data",
          "data": {
            "image/png": "[encoded data removed]",
            "text/plain": [
              "<Figure size 432x288 with 2 Axes>"
            ]
          },
          "metadata": {
            "tags": []
          }
        }
      ]
    },
    {
      "cell_type": "markdown",
      "metadata": {
        "id": "GZqgKIRSKCtO",
        "colab_type": "text"
      },
      "source": [
        "## CoApp "
      ]
    },
    {
      "cell_type": "code",
      "metadata": {
        "id": "96vezgLKK7bV",
        "colab_type": "code",
        "colab": {
          "base_uri": "https://localhost:8080/",
          "height": 297
        },
        "outputId": "f606b011-9444-4844-82cf-b56c4e0da9ec"
      },
      "source": [
        "CoApp.describe()"
      ],
      "execution_count": null,
      "outputs": [
        {
          "output_type": "execute_result",
          "data": {
            "text/html": [
              "<div>\n",
              "<style scoped>\n",
              "    .dataframe tbody tr th:only-of-type {\n",
              "        vertical-align: middle;\n",
              "    }\n",
              "\n",
              "    .dataframe tbody tr th {\n",
              "        vertical-align: top;\n",
              "    }\n",
              "\n",
              "    .dataframe thead th {\n",
              "        text-align: right;\n",
              "    }\n",
              "</style>\n",
              "<table border=\"1\" class=\"dataframe\">\n",
              "  <thead>\n",
              "    <tr style=\"text-align: right;\">\n",
              "      <th></th>\n",
              "      <th>Co-App %</th>\n",
              "    </tr>\n",
              "  </thead>\n",
              "  <tbody>\n",
              "    <tr>\n",
              "      <th>count</th>\n",
              "      <td>1186.000000</td>\n",
              "    </tr>\n",
              "    <tr>\n",
              "      <th>mean</th>\n",
              "      <td>0.327616</td>\n",
              "    </tr>\n",
              "    <tr>\n",
              "      <th>std</th>\n",
              "      <td>0.080248</td>\n",
              "    </tr>\n",
              "    <tr>\n",
              "      <th>min</th>\n",
              "      <td>0.000000</td>\n",
              "    </tr>\n",
              "    <tr>\n",
              "      <th>25%</th>\n",
              "      <td>0.279559</td>\n",
              "    </tr>\n",
              "    <tr>\n",
              "      <th>50%</th>\n",
              "      <td>0.323669</td>\n",
              "    </tr>\n",
              "    <tr>\n",
              "      <th>75%</th>\n",
              "      <td>0.372279</td>\n",
              "    </tr>\n",
              "    <tr>\n",
              "      <th>max</th>\n",
              "      <td>1.000000</td>\n",
              "    </tr>\n",
              "  </tbody>\n",
              "</table>\n",
              "</div>"
            ],
            "text/plain": [
              "          Co-App %\n",
              "count  1186.000000\n",
              "mean      0.327616\n",
              "std       0.080248\n",
              "min       0.000000\n",
              "25%       0.279559\n",
              "50%       0.323669\n",
              "75%       0.372279\n",
              "max       1.000000"
            ]
          },
          "metadata": {
            "tags": []
          },
          "execution_count": 45
        }
      ]
    },
    {
      "cell_type": "markdown",
      "metadata": {
        "id": "tv9BV_s7J-Ci",
        "colab_type": "text"
      },
      "source": [
        "**Visualize Data**"
      ]
    },
    {
      "cell_type": "code",
      "metadata": {
        "id": "YCgs8fBvLz0S",
        "colab_type": "code",
        "colab": {
          "base_uri": "https://localhost:8080/",
          "height": 286
        },
        "outputId": "ee6b9705-0941-4851-e574-65f12d509c24"
      },
      "source": [
        "# Cut the window in 2 parts\n",
        "f, (ax_hist, ax_box) = plt.subplots(2, sharex=True, gridspec_kw={\"height_ratios\": (.85, .25)})\n",
        " \n",
        "# Add a graph in each part\n",
        "sns.boxplot(CoApp['Co-App %'], ax=ax_box)\n",
        "sns.distplot(CoApp['Co-App %'], ax=ax_hist)\n",
        " \n",
        "# Remove x axis name for the boxplot\n",
        "ax_box.set(xlabel='')"
      ],
      "execution_count": null,
      "outputs": [
        {
          "output_type": "execute_result",
          "data": {
            "text/plain": [
              "[Text(0.5, 0, '')]"
            ]
          },
          "metadata": {
            "tags": []
          },
          "execution_count": 46
        },
        {
          "output_type": "display_data",
          "data": {
            "image/png": "[encoded data removed]",
            "text/plain": [
              "<Figure size 432x288 with 2 Axes>"
            ]
          },
          "metadata": {
            "tags": []
          }
        }
      ]
    },
    {
      "cell_type": "markdown",
      "metadata": {
        "id": "orzDrCOfJz6m",
        "colab_type": "text"
      },
      "source": [
        "**Eliminate Outliers**"
      ]
    },
    {
      "cell_type": "code",
      "metadata": {
        "id": "DhCzxBkqOXD5",
        "colab_type": "code",
        "colab": {}
      },
      "source": [
        "CoApp = CoApp[(CoApp['Co-App %'] >= 0.2) & (CoApp['Co-App %'] <= 0.5)]"
      ],
      "execution_count": null,
      "outputs": []
    },
    {
      "cell_type": "code",
      "metadata": {
        "id": "pPL2z-81OXKu",
        "colab_type": "code",
        "colab": {
          "base_uri": "https://localhost:8080/",
          "height": 286
        },
        "outputId": "e408af85-bc81-475b-dab7-b66ac13083d8"
      },
      "source": [
        "# Cut the window in 2 parts\n",
        "f, (ax_hist, ax_box) = plt.subplots(2, sharex=True, gridspec_kw={\"height_ratios\": (.85, .25)})\n",
        " \n",
        "# Add a graph in each part\n",
        "sns.boxplot(CoApp['Co-App %'], ax=ax_box)\n",
        "sns.distplot(CoApp['Co-App %'], ax=ax_hist)\n",
        " \n",
        "# Remove x axis name for the boxplot\n",
        "ax_box.set(xlabel='')"
      ],
      "execution_count": null,
      "outputs": [
        {
          "output_type": "execute_result",
          "data": {
            "text/plain": [
              "[Text(0.5, 0, '')]"
            ]
          },
          "metadata": {
            "tags": []
          },
          "execution_count": 48
        },
        {
          "output_type": "display_data",
          "data": {
            "image/png": "[encoded data removed]",
            "text/plain": [
              "<Figure size 432x288 with 2 Axes>"
            ]
          },
          "metadata": {
            "tags": []
          }
        }
      ]
    },
    {
      "cell_type": "markdown",
      "metadata": {
        "id": "jwdxKF35KC6q",
        "colab_type": "text"
      },
      "source": [
        "## FAS "
      ]
    },
    {
      "cell_type": "code",
      "metadata": {
        "id": "uzB1XZTcK8AW",
        "colab_type": "code",
        "colab": {
          "base_uri": "https://localhost:8080/",
          "height": 297
        },
        "outputId": "ecaca585-5aa8-47cb-8244-5631c6462afc"
      },
      "source": [
        "FAS.describe()"
      ],
      "execution_count": null,
      "outputs": [
        {
          "output_type": "execute_result",
          "data": {
            "text/html": [
              "<div>\n",
              "<style scoped>\n",
              "    .dataframe tbody tr th:only-of-type {\n",
              "        vertical-align: middle;\n",
              "    }\n",
              "\n",
              "    .dataframe tbody tr th {\n",
              "        vertical-align: top;\n",
              "    }\n",
              "\n",
              "    .dataframe thead th {\n",
              "        text-align: right;\n",
              "    }\n",
              "</style>\n",
              "<table border=\"1\" class=\"dataframe\">\n",
              "  <thead>\n",
              "    <tr style=\"text-align: right;\">\n",
              "      <th></th>\n",
              "      <th>FAS%</th>\n",
              "      <th>Full App Approved %</th>\n",
              "    </tr>\n",
              "  </thead>\n",
              "  <tbody>\n",
              "    <tr>\n",
              "      <th>count</th>\n",
              "      <td>1185.000000</td>\n",
              "      <td>1185.000000</td>\n",
              "    </tr>\n",
              "    <tr>\n",
              "      <th>mean</th>\n",
              "      <td>0.269242</td>\n",
              "      <td>0.625177</td>\n",
              "    </tr>\n",
              "    <tr>\n",
              "      <th>std</th>\n",
              "      <td>0.083491</td>\n",
              "      <td>0.142392</td>\n",
              "    </tr>\n",
              "    <tr>\n",
              "      <th>min</th>\n",
              "      <td>0.052632</td>\n",
              "      <td>0.000000</td>\n",
              "    </tr>\n",
              "    <tr>\n",
              "      <th>25%</th>\n",
              "      <td>0.232143</td>\n",
              "      <td>0.572727</td>\n",
              "    </tr>\n",
              "    <tr>\n",
              "      <th>50%</th>\n",
              "      <td>0.262295</td>\n",
              "      <td>0.627660</td>\n",
              "    </tr>\n",
              "    <tr>\n",
              "      <th>75%</th>\n",
              "      <td>0.295082</td>\n",
              "      <td>0.680556</td>\n",
              "    </tr>\n",
              "    <tr>\n",
              "      <th>max</th>\n",
              "      <td>2.000000</td>\n",
              "      <td>4.000000</td>\n",
              "    </tr>\n",
              "  </tbody>\n",
              "</table>\n",
              "</div>"
            ],
            "text/plain": [
              "              FAS%  Full App Approved %\n",
              "count  1185.000000          1185.000000\n",
              "mean      0.269242             0.625177\n",
              "std       0.083491             0.142392\n",
              "min       0.052632             0.000000\n",
              "25%       0.232143             0.572727\n",
              "50%       0.262295             0.627660\n",
              "75%       0.295082             0.680556\n",
              "max       2.000000             4.000000"
            ]
          },
          "metadata": {
            "tags": []
          },
          "execution_count": 49
        }
      ]
    },
    {
      "cell_type": "markdown",
      "metadata": {
        "id": "l8f8tgHbJ-QS",
        "colab_type": "text"
      },
      "source": [
        "**Visualize Data**"
      ]
    },
    {
      "cell_type": "code",
      "metadata": {
        "id": "hZM5LlyyL5zF",
        "colab_type": "code",
        "colab": {
          "base_uri": "https://localhost:8080/",
          "height": 286
        },
        "outputId": "282026c3-d6e1-4776-847d-52db0fd54830"
      },
      "source": [
        "# Cut the window in 2 parts\n",
        "f, (ax_hist, ax_box) = plt.subplots(2, sharex=True, gridspec_kw={\"height_ratios\": (.85, .25)})\n",
        " \n",
        "# Add a graph in each part\n",
        "sns.boxplot(FAS['FAS%'], ax=ax_box)\n",
        "sns.distplot(FAS['FAS%'], ax=ax_hist)\n",
        " \n",
        "# Remove x axis name for the boxplot\n",
        "ax_box.set(xlabel='')"
      ],
      "execution_count": null,
      "outputs": [
        {
          "output_type": "execute_result",
          "data": {
            "text/plain": [
              "[Text(0.5, 0, '')]"
            ]
          },
          "metadata": {
            "tags": []
          },
          "execution_count": 50
        },
        {
          "output_type": "display_data",
          "data": {
            "image/png": "[encoded data removed]",
            "text/plain": [
              "<Figure size 432x288 with 2 Axes>"
            ]
          },
          "metadata": {
            "tags": []
          }
        }
      ]
    },
    {
      "cell_type": "markdown",
      "metadata": {
        "id": "kuxsSPCDJ0Gb",
        "colab_type": "text"
      },
      "source": [
        "**Eliminate Extreme Outliers**"
      ]
    },
    {
      "cell_type": "code",
      "metadata": {
        "id": "gD2qsmw4O77g",
        "colab_type": "code",
        "colab": {}
      },
      "source": [
        "FAS = FAS[(FAS['FAS%'] > 0) & (FAS['FAS%'] < 0.75)]"
      ],
      "execution_count": null,
      "outputs": []
    },
    {
      "cell_type": "code",
      "metadata": {
        "id": "TCbRetrZO8Bk",
        "colab_type": "code",
        "colab": {
          "base_uri": "https://localhost:8080/",
          "height": 286
        },
        "outputId": "362d84ba-adf5-4cad-a879-4ff4ac023100"
      },
      "source": [
        "# Cut the window in 2 parts\n",
        "f, (ax_hist, ax_box) = plt.subplots(2, sharex=True, gridspec_kw={\"height_ratios\": (.85, .25)})\n",
        " \n",
        "# Add a graph in each part\n",
        "sns.boxplot(FAS['FAS%'], ax=ax_box)\n",
        "sns.distplot(FAS['FAS%'], ax=ax_hist)\n",
        " \n",
        "# Remove x axis name for the boxplot\n",
        "ax_box.set(xlabel='')"
      ],
      "execution_count": null,
      "outputs": [
        {
          "output_type": "execute_result",
          "data": {
            "text/plain": [
              "[Text(0.5, 0, '')]"
            ]
          },
          "metadata": {
            "tags": []
          },
          "execution_count": 52
        },
        {
          "output_type": "display_data",
          "data": {
            "image/png": "[encoded data removed]",
            "text/plain": [
              "<Figure size 432x288 with 2 Axes>"
            ]
          },
          "metadata": {
            "tags": []
          }
        }
      ]
    },
    {
      "cell_type": "markdown",
      "metadata": {
        "id": "0WCvHqoOPTFc",
        "colab_type": "text"
      },
      "source": [
        "**Eliminate Outliers**"
      ]
    },
    {
      "cell_type": "code",
      "metadata": {
        "id": "k1NJuYQQPQFp",
        "colab_type": "code",
        "colab": {}
      },
      "source": [
        "FAS = FAS[(FAS['FAS%'] >= 0.15) & (FAS['FAS%'] < 0.39)]"
      ],
      "execution_count": null,
      "outputs": []
    },
    {
      "cell_type": "code",
      "metadata": {
        "id": "xn8mmYkPPp3W",
        "colab_type": "code",
        "colab": {
          "base_uri": "https://localhost:8080/",
          "height": 286
        },
        "outputId": "17b52bc2-ed76-486b-8aa5-b9c8eccc6ebd"
      },
      "source": [
        "# Cut the window in 2 parts\n",
        "f, (ax_hist, ax_box) = plt.subplots(2, sharex=True, gridspec_kw={\"height_ratios\": (.85, .25)})\n",
        " \n",
        "# Add a graph in each part\n",
        "sns.boxplot(FAS['FAS%'], ax=ax_box)\n",
        "sns.distplot(FAS['FAS%'], ax=ax_hist)\n",
        " \n",
        "# Remove x axis name for the boxplot\n",
        "ax_box.set(xlabel='')"
      ],
      "execution_count": null,
      "outputs": [
        {
          "output_type": "execute_result",
          "data": {
            "text/plain": [
              "[Text(0.5, 0, '')]"
            ]
          },
          "metadata": {
            "tags": []
          },
          "execution_count": 54
        },
        {
          "output_type": "display_data",
          "data": {
            "image/png": "[encoded data removed]",
            "text/plain": [
              "<Figure size 432x288 with 2 Axes>"
            ]
          },
          "metadata": {
            "tags": []
          }
        }
      ]
    },
    {
      "cell_type": "markdown",
      "metadata": {
        "id": "rZr_eI73KDIB",
        "colab_type": "text"
      },
      "source": [
        "## FullApprove"
      ]
    },
    {
      "cell_type": "code",
      "metadata": {
        "id": "5PpS_KH_K8hb",
        "colab_type": "code",
        "colab": {
          "base_uri": "https://localhost:8080/",
          "height": 297
        },
        "outputId": "0a5fae19-a9ac-46e5-c618-d3b7562b73fc"
      },
      "source": [
        "FullApprove.describe()"
      ],
      "execution_count": null,
      "outputs": [
        {
          "output_type": "execute_result",
          "data": {
            "text/html": [
              "<div>\n",
              "<style scoped>\n",
              "    .dataframe tbody tr th:only-of-type {\n",
              "        vertical-align: middle;\n",
              "    }\n",
              "\n",
              "    .dataframe tbody tr th {\n",
              "        vertical-align: top;\n",
              "    }\n",
              "\n",
              "    .dataframe thead th {\n",
              "        text-align: right;\n",
              "    }\n",
              "</style>\n",
              "<table border=\"1\" class=\"dataframe\">\n",
              "  <thead>\n",
              "    <tr style=\"text-align: right;\">\n",
              "      <th></th>\n",
              "      <th>Full App Approved %</th>\n",
              "    </tr>\n",
              "  </thead>\n",
              "  <tbody>\n",
              "    <tr>\n",
              "      <th>count</th>\n",
              "      <td>1186.000000</td>\n",
              "    </tr>\n",
              "    <tr>\n",
              "      <th>mean</th>\n",
              "      <td>0.624650</td>\n",
              "    </tr>\n",
              "    <tr>\n",
              "      <th>std</th>\n",
              "      <td>0.143485</td>\n",
              "    </tr>\n",
              "    <tr>\n",
              "      <th>min</th>\n",
              "      <td>0.000000</td>\n",
              "    </tr>\n",
              "    <tr>\n",
              "      <th>25%</th>\n",
              "      <td>0.572492</td>\n",
              "    </tr>\n",
              "    <tr>\n",
              "      <th>50%</th>\n",
              "      <td>0.627660</td>\n",
              "    </tr>\n",
              "    <tr>\n",
              "      <th>75%</th>\n",
              "      <td>0.680556</td>\n",
              "    </tr>\n",
              "    <tr>\n",
              "      <th>max</th>\n",
              "      <td>4.000000</td>\n",
              "    </tr>\n",
              "  </tbody>\n",
              "</table>\n",
              "</div>"
            ],
            "text/plain": [
              "       Full App Approved %\n",
              "count          1186.000000\n",
              "mean              0.624650\n",
              "std               0.143485\n",
              "min               0.000000\n",
              "25%               0.572492\n",
              "50%               0.627660\n",
              "75%               0.680556\n",
              "max               4.000000"
            ]
          },
          "metadata": {
            "tags": []
          },
          "execution_count": 55
        }
      ]
    },
    {
      "cell_type": "markdown",
      "metadata": {
        "id": "QVHOXaOqJ-fV",
        "colab_type": "text"
      },
      "source": [
        "**Visualize Data**"
      ]
    },
    {
      "cell_type": "code",
      "metadata": {
        "id": "ooyq8UttMCbH",
        "colab_type": "code",
        "colab": {
          "base_uri": "https://localhost:8080/",
          "height": 286
        },
        "outputId": "9b39d199-be20-4444-d59a-6ce85e2e02cf"
      },
      "source": [
        "# Cut the window in 2 parts\n",
        "f, (ax_hist, ax_box) = plt.subplots(2, sharex=True, gridspec_kw={\"height_ratios\": (.85, .25)})\n",
        " \n",
        "# Add a graph in each part\n",
        "sns.boxplot(FullApprove['Full App Approved %'], ax=ax_box)\n",
        "sns.distplot(FullApprove['Full App Approved %'], ax=ax_hist)\n",
        " \n",
        "# Remove x axis name for the boxplot\n",
        "ax_box.set(xlabel='')"
      ],
      "execution_count": null,
      "outputs": [
        {
          "output_type": "execute_result",
          "data": {
            "text/plain": [
              "[Text(0.5, 0, '')]"
            ]
          },
          "metadata": {
            "tags": []
          },
          "execution_count": 56
        },
        {
          "output_type": "display_data",
          "data": {
            "image/png": "[encoded data removed]",
            "text/plain": [
              "<Figure size 432x288 with 2 Axes>"
            ]
          },
          "metadata": {
            "tags": []
          }
        }
      ]
    },
    {
      "cell_type": "markdown",
      "metadata": {
        "id": "Terq7nUBJ0U1",
        "colab_type": "text"
      },
      "source": [
        "**Eliminate Extreme Outliers**"
      ]
    },
    {
      "cell_type": "code",
      "metadata": {
        "id": "hDFi-GvAPwpN",
        "colab_type": "code",
        "colab": {}
      },
      "source": [
        "FullApprove = FullApprove[(FullApprove['Full App Approved %'] > 0) & (FullApprove['Full App Approved %'] < 1)]"
      ],
      "execution_count": null,
      "outputs": []
    },
    {
      "cell_type": "code",
      "metadata": {
        "id": "FYnhX_uFPwzU",
        "colab_type": "code",
        "colab": {
          "base_uri": "https://localhost:8080/",
          "height": 286
        },
        "outputId": "308bf161-2965-4614-faf8-2df3a8c98cab"
      },
      "source": [
        "# Cut the window in 2 parts\n",
        "f, (ax_hist, ax_box) = plt.subplots(2, sharex=True, gridspec_kw={\"height_ratios\": (.85, .25)})\n",
        " \n",
        "# Add a graph in each part\n",
        "sns.boxplot(FullApprove['Full App Approved %'], ax=ax_box)\n",
        "sns.distplot(FullApprove['Full App Approved %'], ax=ax_hist)\n",
        " \n",
        "# Remove x axis name for the boxplot\n",
        "ax_box.set(xlabel='')"
      ],
      "execution_count": null,
      "outputs": [
        {
          "output_type": "execute_result",
          "data": {
            "text/plain": [
              "[Text(0.5, 0, '')]"
            ]
          },
          "metadata": {
            "tags": []
          },
          "execution_count": 58
        },
        {
          "output_type": "display_data",
          "data": {
            "image/png": "[encoded data removed]",
            "text/plain": [
              "<Figure size 432x288 with 2 Axes>"
            ]
          },
          "metadata": {
            "tags": []
          }
        }
      ]
    },
    {
      "cell_type": "markdown",
      "metadata": {
        "id": "oT5p-nQ1PxIN",
        "colab_type": "text"
      },
      "source": [
        "**Eliminate Outliers**"
      ]
    },
    {
      "cell_type": "code",
      "metadata": {
        "id": "UfIjtrH2PxWt",
        "colab_type": "code",
        "colab": {}
      },
      "source": [
        "FullApprove = FullApprove[(FullApprove['Full App Approved %'] >= 0.41) & (FullApprove['Full App Approved %'] <= 0.81)]"
      ],
      "execution_count": null,
      "outputs": []
    },
    {
      "cell_type": "code",
      "metadata": {
        "id": "IwBA4yerPxfV",
        "colab_type": "code",
        "colab": {
          "base_uri": "https://localhost:8080/",
          "height": 286
        },
        "outputId": "6580f346-8d9a-4b67-ec0f-6fc601eba09a"
      },
      "source": [
        "# Cut the window in 2 parts\n",
        "f, (ax_hist, ax_box) = plt.subplots(2, sharex=True, gridspec_kw={\"height_ratios\": (.85, .25)})\n",
        " \n",
        "# Add a graph in each part\n",
        "sns.boxplot(FullApprove['Full App Approved %'], ax=ax_box)\n",
        "sns.distplot(FullApprove['Full App Approved %'], ax=ax_hist)\n",
        " \n",
        "# Remove x axis name for the boxplot\n",
        "ax_box.set(xlabel='')"
      ],
      "execution_count": null,
      "outputs": [
        {
          "output_type": "execute_result",
          "data": {
            "text/plain": [
              "[Text(0.5, 0, '')]"
            ]
          },
          "metadata": {
            "tags": []
          },
          "execution_count": 60
        },
        {
          "output_type": "display_data",
          "data": {
            "image/png": "[encoded data removed]",
            "text/plain": [
              "<Figure size 432x288 with 2 Axes>"
            ]
          },
          "metadata": {
            "tags": []
          }
        }
      ]
    },
    {
      "cell_type": "markdown",
      "metadata": {
        "id": "fY5BI9SMKDYm",
        "colab_type": "text"
      },
      "source": [
        "## FundRate "
      ]
    },
    {
      "cell_type": "code",
      "metadata": {
        "id": "e3Zl9snLK9Na",
        "colab_type": "code",
        "colab": {
          "base_uri": "https://localhost:8080/",
          "height": 297
        },
        "outputId": "73e0f10e-6d18-41b5-84dc-7323d794fd0a"
      },
      "source": [
        "FundRate.describe()"
      ],
      "execution_count": null,
      "outputs": [
        {
          "output_type": "execute_result",
          "data": {
            "text/html": [
              "<div>\n",
              "<style scoped>\n",
              "    .dataframe tbody tr th:only-of-type {\n",
              "        vertical-align: middle;\n",
              "    }\n",
              "\n",
              "    .dataframe tbody tr th {\n",
              "        vertical-align: top;\n",
              "    }\n",
              "\n",
              "    .dataframe thead th {\n",
              "        text-align: right;\n",
              "    }\n",
              "</style>\n",
              "<table border=\"1\" class=\"dataframe\">\n",
              "  <thead>\n",
              "    <tr style=\"text-align: right;\">\n",
              "      <th></th>\n",
              "      <th>Full App Approved %</th>\n",
              "      <th>Fund Rate</th>\n",
              "    </tr>\n",
              "  </thead>\n",
              "  <tbody>\n",
              "    <tr>\n",
              "      <th>count</th>\n",
              "      <td>1185.000000</td>\n",
              "      <td>1185.000000</td>\n",
              "    </tr>\n",
              "    <tr>\n",
              "      <th>mean</th>\n",
              "      <td>0.625177</td>\n",
              "      <td>0.082772</td>\n",
              "    </tr>\n",
              "    <tr>\n",
              "      <th>std</th>\n",
              "      <td>0.142392</td>\n",
              "      <td>0.028623</td>\n",
              "    </tr>\n",
              "    <tr>\n",
              "      <th>min</th>\n",
              "      <td>0.000000</td>\n",
              "      <td>0.000000</td>\n",
              "    </tr>\n",
              "    <tr>\n",
              "      <th>25%</th>\n",
              "      <td>0.572727</td>\n",
              "      <td>0.064133</td>\n",
              "    </tr>\n",
              "    <tr>\n",
              "      <th>50%</th>\n",
              "      <td>0.627660</td>\n",
              "      <td>0.081967</td>\n",
              "    </tr>\n",
              "    <tr>\n",
              "      <th>75%</th>\n",
              "      <td>0.680556</td>\n",
              "      <td>0.099476</td>\n",
              "    </tr>\n",
              "    <tr>\n",
              "      <th>max</th>\n",
              "      <td>4.000000</td>\n",
              "      <td>0.197309</td>\n",
              "    </tr>\n",
              "  </tbody>\n",
              "</table>\n",
              "</div>"
            ],
            "text/plain": [
              "       Full App Approved %    Fund Rate\n",
              "count          1185.000000  1185.000000\n",
              "mean              0.625177     0.082772\n",
              "std               0.142392     0.028623\n",
              "min               0.000000     0.000000\n",
              "25%               0.572727     0.064133\n",
              "50%               0.627660     0.081967\n",
              "75%               0.680556     0.099476\n",
              "max               4.000000     0.197309"
            ]
          },
          "metadata": {
            "tags": []
          },
          "execution_count": 61
        }
      ]
    },
    {
      "cell_type": "markdown",
      "metadata": {
        "id": "fvcSXpOFJ-s6",
        "colab_type": "text"
      },
      "source": [
        "**Visualize Data**"
      ]
    },
    {
      "cell_type": "code",
      "metadata": {
        "id": "UrIDn4NqMK3k",
        "colab_type": "code",
        "colab": {
          "base_uri": "https://localhost:8080/",
          "height": 286
        },
        "outputId": "0595e676-b441-408b-a8e4-81e806e30bd9"
      },
      "source": [
        "# Cut the window in 2 parts\n",
        "f, (ax_hist, ax_box) = plt.subplots(2, sharex=True, gridspec_kw={\"height_ratios\": (.85, .25)})\n",
        " \n",
        "# Add a graph in each part\n",
        "sns.boxplot(FundRate['Fund Rate'], ax=ax_box)\n",
        "sns.distplot(FundRate['Fund Rate'], ax=ax_hist)\n",
        " \n",
        "# Remove x axis name for the boxplot\n",
        "ax_box.set(xlabel='')"
      ],
      "execution_count": null,
      "outputs": [
        {
          "output_type": "execute_result",
          "data": {
            "text/plain": [
              "[Text(0.5, 0, '')]"
            ]
          },
          "metadata": {
            "tags": []
          },
          "execution_count": 62
        },
        {
          "output_type": "display_data",
          "data": {
            "image/png": "[encoded data removed]",
            "text/plain": [
              "<Figure size 432x288 with 2 Axes>"
            ]
          },
          "metadata": {
            "tags": []
          }
        }
      ]
    },
    {
      "cell_type": "markdown",
      "metadata": {
        "id": "V28Zp2WBJ0eS",
        "colab_type": "text"
      },
      "source": [
        "**Eliminate Outliers**"
      ]
    },
    {
      "cell_type": "code",
      "metadata": {
        "id": "akqkyQcPQ0j8",
        "colab_type": "code",
        "colab": {}
      },
      "source": [
        "FundRate = FundRate[(FundRate['Fund Rate'] > 0.02) & (FundRate['Fund Rate'] < 0.19)]"
      ],
      "execution_count": null,
      "outputs": []
    },
    {
      "cell_type": "code",
      "metadata": {
        "id": "vt5NKrAhQ0sW",
        "colab_type": "code",
        "colab": {
          "base_uri": "https://localhost:8080/",
          "height": 286
        },
        "outputId": "95152bc8-8ef6-4e0c-df88-5d8ee5dea242"
      },
      "source": [
        "# Cut the window in 2 parts\n",
        "f, (ax_hist, ax_box) = plt.subplots(2, sharex=True, gridspec_kw={\"height_ratios\": (.85, .25)})\n",
        " \n",
        "# Add a graph in each part\n",
        "sns.boxplot(FundRate['Fund Rate'], ax=ax_box)\n",
        "sns.distplot(FundRate['Fund Rate'], ax=ax_hist)\n",
        " \n",
        "# Remove x axis name for the boxplot\n",
        "ax_box.set(xlabel='')"
      ],
      "execution_count": null,
      "outputs": [
        {
          "output_type": "execute_result",
          "data": {
            "text/plain": [
              "[Text(0.5, 0, '')]"
            ]
          },
          "metadata": {
            "tags": []
          },
          "execution_count": 64
        },
        {
          "output_type": "display_data",
          "data": {
            "image/png": "[encoded data removed]",
            "text/plain": [
              "<Figure size 432x288 with 2 Axes>"
            ]
          },
          "metadata": {
            "tags": []
          }
        }
      ]
    },
    {
      "cell_type": "markdown",
      "metadata": {
        "id": "MEtzqsyxKDoy",
        "colab_type": "text"
      },
      "source": [
        "## LoansFunded "
      ]
    },
    {
      "cell_type": "code",
      "metadata": {
        "id": "9iPLaLZdK9wU",
        "colab_type": "code",
        "colab": {
          "base_uri": "https://localhost:8080/",
          "height": 297
        },
        "outputId": "7bf5d062-2d3c-4c4e-a503-5c2135b9ab80"
      },
      "source": [
        "LoansFunded.describe()"
      ],
      "execution_count": null,
      "outputs": [
        {
          "output_type": "execute_result",
          "data": {
            "text/html": [
              "<div>\n",
              "<style scoped>\n",
              "    .dataframe tbody tr th:only-of-type {\n",
              "        vertical-align: middle;\n",
              "    }\n",
              "\n",
              "    .dataframe tbody tr th {\n",
              "        vertical-align: top;\n",
              "    }\n",
              "\n",
              "    .dataframe thead th {\n",
              "        text-align: right;\n",
              "    }\n",
              "</style>\n",
              "<table border=\"1\" class=\"dataframe\">\n",
              "  <thead>\n",
              "    <tr style=\"text-align: right;\">\n",
              "      <th></th>\n",
              "      <th>Applications Funded</th>\n",
              "      <th>Full App Approved %</th>\n",
              "    </tr>\n",
              "  </thead>\n",
              "  <tbody>\n",
              "    <tr>\n",
              "      <th>count</th>\n",
              "      <td>1186.000000</td>\n",
              "      <td>1186.000000</td>\n",
              "    </tr>\n",
              "    <tr>\n",
              "      <th>mean</th>\n",
              "      <td>30.146712</td>\n",
              "      <td>0.624650</td>\n",
              "    </tr>\n",
              "    <tr>\n",
              "      <th>std</th>\n",
              "      <td>12.647058</td>\n",
              "      <td>0.143485</td>\n",
              "    </tr>\n",
              "    <tr>\n",
              "      <th>min</th>\n",
              "      <td>0.000000</td>\n",
              "      <td>0.000000</td>\n",
              "    </tr>\n",
              "    <tr>\n",
              "      <th>25%</th>\n",
              "      <td>24.000000</td>\n",
              "      <td>0.572492</td>\n",
              "    </tr>\n",
              "    <tr>\n",
              "      <th>50%</th>\n",
              "      <td>30.000000</td>\n",
              "      <td>0.627660</td>\n",
              "    </tr>\n",
              "    <tr>\n",
              "      <th>75%</th>\n",
              "      <td>37.000000</td>\n",
              "      <td>0.680556</td>\n",
              "    </tr>\n",
              "    <tr>\n",
              "      <th>max</th>\n",
              "      <td>104.000000</td>\n",
              "      <td>4.000000</td>\n",
              "    </tr>\n",
              "  </tbody>\n",
              "</table>\n",
              "</div>"
            ],
            "text/plain": [
              "       Applications Funded  Full App Approved %\n",
              "count          1186.000000          1186.000000\n",
              "mean             30.146712             0.624650\n",
              "std              12.647058             0.143485\n",
              "min               0.000000             0.000000\n",
              "25%              24.000000             0.572492\n",
              "50%              30.000000             0.627660\n",
              "75%              37.000000             0.680556\n",
              "max             104.000000             4.000000"
            ]
          },
          "metadata": {
            "tags": []
          },
          "execution_count": 65
        }
      ]
    },
    {
      "cell_type": "markdown",
      "metadata": {
        "id": "Z92SlyDaJ-6y",
        "colab_type": "text"
      },
      "source": [
        "**Visualize Data**"
      ]
    },
    {
      "cell_type": "code",
      "metadata": {
        "id": "--2jyFoYMXcT",
        "colab_type": "code",
        "colab": {
          "base_uri": "https://localhost:8080/",
          "height": 286
        },
        "outputId": "bb5903dd-10f2-489c-9870-6af672836f0b"
      },
      "source": [
        "# Cut the window in 2 parts\n",
        "f, (ax_hist, ax_box) = plt.subplots(2, sharex=True, gridspec_kw={\"height_ratios\": (.85, .25)})\n",
        " \n",
        "# Add a graph in each part\n",
        "sns.boxplot(LoansFunded['Applications Funded'], ax=ax_box)\n",
        "sns.distplot(LoansFunded['Applications Funded'], ax=ax_hist)\n",
        " \n",
        "# Remove x axis name for the boxplot\n",
        "ax_box.set(xlabel='')"
      ],
      "execution_count": null,
      "outputs": [
        {
          "output_type": "execute_result",
          "data": {
            "text/plain": [
              "[Text(0.5, 0, '')]"
            ]
          },
          "metadata": {
            "tags": []
          },
          "execution_count": 66
        },
        {
          "output_type": "display_data",
          "data": {
            "image/png": "[encoded data removed]",
            "text/plain": [
              "<Figure size 432x288 with 2 Axes>"
            ]
          },
          "metadata": {
            "tags": []
          }
        }
      ]
    },
    {
      "cell_type": "markdown",
      "metadata": {
        "id": "9d8vTUPJJ0DX",
        "colab_type": "text"
      },
      "source": [
        "**Eliminate Outliers**"
      ]
    },
    {
      "cell_type": "code",
      "metadata": {
        "id": "pl_ImQ7mRYWQ",
        "colab_type": "code",
        "colab": {}
      },
      "source": [
        "LoansFunded = LoansFunded[(LoansFunded['Applications Funded'] > 10) & (LoansFunded['Applications Funded'] <= 50)]"
      ],
      "execution_count": null,
      "outputs": []
    },
    {
      "cell_type": "code",
      "metadata": {
        "id": "zUhN1gb9RYa8",
        "colab_type": "code",
        "colab": {
          "base_uri": "https://localhost:8080/",
          "height": 286
        },
        "outputId": "2b877c28-7179-4d74-8ad7-0e8407ff3a63"
      },
      "source": [
        "# Cut the window in 2 parts\n",
        "f, (ax_hist, ax_box) = plt.subplots(2, sharex=True, gridspec_kw={\"height_ratios\": (.85, .25)})\n",
        " \n",
        "# Add a graph in each part\n",
        "sns.boxplot(LoansFunded['Applications Funded'], ax=ax_box)\n",
        "sns.distplot(LoansFunded['Applications Funded'], ax=ax_hist)\n",
        " \n",
        "# Remove x axis name for the boxplot\n",
        "ax_box.set(xlabel='')"
      ],
      "execution_count": null,
      "outputs": [
        {
          "output_type": "execute_result",
          "data": {
            "text/plain": [
              "[Text(0.5, 0, '')]"
            ]
          },
          "metadata": {
            "tags": []
          },
          "execution_count": 68
        },
        {
          "output_type": "display_data",
          "data": {
            "image/png": "[encoded data removed]",
            "text/plain": [
              "<Figure size 432x288 with 2 Axes>"
            ]
          },
          "metadata": {
            "tags": []
          }
        }
      ]
    },
    {
      "cell_type": "markdown",
      "metadata": {
        "id": "ASatanx_KD20",
        "colab_type": "text"
      },
      "source": [
        "## PullThrough "
      ]
    },
    {
      "cell_type": "code",
      "metadata": {
        "id": "wKjAgNumK-dp",
        "colab_type": "code",
        "colab": {
          "base_uri": "https://localhost:8080/",
          "height": 297
        },
        "outputId": "531a7070-ab2a-49cf-e57f-6728c2db959c"
      },
      "source": [
        "PullThrough.describe()"
      ],
      "execution_count": null,
      "outputs": [
        {
          "output_type": "execute_result",
          "data": {
            "text/html": [
              "<div>\n",
              "<style scoped>\n",
              "    .dataframe tbody tr th:only-of-type {\n",
              "        vertical-align: middle;\n",
              "    }\n",
              "\n",
              "    .dataframe tbody tr th {\n",
              "        vertical-align: top;\n",
              "    }\n",
              "\n",
              "    .dataframe thead th {\n",
              "        text-align: right;\n",
              "    }\n",
              "</style>\n",
              "<table border=\"1\" class=\"dataframe\">\n",
              "  <thead>\n",
              "    <tr style=\"text-align: right;\">\n",
              "      <th></th>\n",
              "      <th>Full App Approved %</th>\n",
              "      <th>Pull Through Rate</th>\n",
              "    </tr>\n",
              "  </thead>\n",
              "  <tbody>\n",
              "    <tr>\n",
              "      <th>count</th>\n",
              "      <td>1176.000000</td>\n",
              "      <td>1176.000000</td>\n",
              "    </tr>\n",
              "    <tr>\n",
              "      <th>mean</th>\n",
              "      <td>0.629961</td>\n",
              "      <td>0.497089</td>\n",
              "    </tr>\n",
              "    <tr>\n",
              "      <th>std</th>\n",
              "      <td>0.131963</td>\n",
              "      <td>0.112966</td>\n",
              "    </tr>\n",
              "    <tr>\n",
              "      <th>min</th>\n",
              "      <td>0.241379</td>\n",
              "      <td>0.000000</td>\n",
              "    </tr>\n",
              "    <tr>\n",
              "      <th>25%</th>\n",
              "      <td>0.575166</td>\n",
              "      <td>0.432432</td>\n",
              "    </tr>\n",
              "    <tr>\n",
              "      <th>50%</th>\n",
              "      <td>0.628796</td>\n",
              "      <td>0.500000</td>\n",
              "    </tr>\n",
              "    <tr>\n",
              "      <th>75%</th>\n",
              "      <td>0.680672</td>\n",
              "      <td>0.564103</td>\n",
              "    </tr>\n",
              "    <tr>\n",
              "      <th>max</th>\n",
              "      <td>4.000000</td>\n",
              "      <td>1.333333</td>\n",
              "    </tr>\n",
              "  </tbody>\n",
              "</table>\n",
              "</div>"
            ],
            "text/plain": [
              "       Full App Approved %  Pull Through Rate\n",
              "count          1176.000000        1176.000000\n",
              "mean              0.629961           0.497089\n",
              "std               0.131963           0.112966\n",
              "min               0.241379           0.000000\n",
              "25%               0.575166           0.432432\n",
              "50%               0.628796           0.500000\n",
              "75%               0.680672           0.564103\n",
              "max               4.000000           1.333333"
            ]
          },
          "metadata": {
            "tags": []
          },
          "execution_count": 69
        }
      ]
    },
    {
      "cell_type": "markdown",
      "metadata": {
        "id": "nrUcXzLgJ_IS",
        "colab_type": "text"
      },
      "source": [
        "**Visualize Data**"
      ]
    },
    {
      "cell_type": "code",
      "metadata": {
        "id": "3LAbo96VMg2i",
        "colab_type": "code",
        "colab": {
          "base_uri": "https://localhost:8080/",
          "height": 286
        },
        "outputId": "b17767bd-4208-4a92-a489-2437d76a9c8c"
      },
      "source": [
        "# Cut the window in 2 parts\n",
        "f, (ax_hist, ax_box) = plt.subplots(2, sharex=True, gridspec_kw={\"height_ratios\": (.85, .25)})\n",
        " \n",
        "# Add a graph in each part\n",
        "sns.boxplot(PullThrough['Pull Through Rate'], ax=ax_box)\n",
        "sns.distplot(PullThrough['Pull Through Rate'], ax=ax_hist)\n",
        " \n",
        "# Remove x axis name for the boxplot\n",
        "ax_box.set(xlabel='')"
      ],
      "execution_count": null,
      "outputs": [
        {
          "output_type": "execute_result",
          "data": {
            "text/plain": [
              "[Text(0.5, 0, '')]"
            ]
          },
          "metadata": {
            "tags": []
          },
          "execution_count": 70
        },
        {
          "output_type": "display_data",
          "data": {
            "image/png": "[encoded data removed]",
            "text/plain": [
              "<Figure size 432x288 with 2 Axes>"
            ]
          },
          "metadata": {
            "tags": []
          }
        }
      ]
    },
    {
      "cell_type": "markdown",
      "metadata": {
        "id": "M8GvN30bJ0BA",
        "colab_type": "text"
      },
      "source": [
        "**Eliminate Outliers**"
      ]
    },
    {
      "cell_type": "code",
      "metadata": {
        "id": "VgxOWUGAR3WB",
        "colab_type": "code",
        "colab": {}
      },
      "source": [
        "PullThrough = PullThrough[(PullThrough['Pull Through Rate'] >= 0.23) & (PullThrough['Pull Through Rate'] < 0.75)]"
      ],
      "execution_count": null,
      "outputs": []
    },
    {
      "cell_type": "code",
      "metadata": {
        "id": "OxMPD0GgR3bp",
        "colab_type": "code",
        "colab": {
          "base_uri": "https://localhost:8080/",
          "height": 286
        },
        "outputId": "de798e9d-97ca-4e97-ba00-c9a16e3ae7c1"
      },
      "source": [
        "# Cut the window in 2 parts\n",
        "f, (ax_hist, ax_box) = plt.subplots(2, sharex=True, gridspec_kw={\"height_ratios\": (.85, .25)})\n",
        " \n",
        "# Add a graph in each part\n",
        "sns.boxplot(PullThrough['Pull Through Rate'], ax=ax_box)\n",
        "sns.distplot(PullThrough['Pull Through Rate'], ax=ax_hist)\n",
        " \n",
        "# Remove x axis name for the boxplot\n",
        "ax_box.set(xlabel='')"
      ],
      "execution_count": null,
      "outputs": [
        {
          "output_type": "execute_result",
          "data": {
            "text/plain": [
              "[Text(0.5, 0, '')]"
            ]
          },
          "metadata": {
            "tags": []
          },
          "execution_count": 72
        },
        {
          "output_type": "display_data",
          "data": {
            "image/png": "[encoded data removed]",
            "text/plain": [
              "<Figure size 432x288 with 2 Axes>"
            ]
          },
          "metadata": {
            "tags": []
          }
        }
      ]
    },
    {
      "cell_type": "markdown",
      "metadata": {
        "id": "w-YioLlblwYK",
        "colab_type": "text"
      },
      "source": [
        "# Final Metrics"
      ]
    },
    {
      "cell_type": "code",
      "metadata": {
        "id": "BJnxqrgZ5hQU",
        "colab_type": "code",
        "colab": {}
      },
      "source": [
        "# put all the updated datafiles into object (list)\n",
        "files1 = [oneDayFundRate, ACH, Effort , CoApp, FAS, FullApprove, FundRate, LoansFunded, PullThrough]\n",
        "\n",
        "# combine ALL the datasets\n",
        "#final_data = reduce(lambda left, right: pd.merge(left, right, on= ['Loan Officer Name', 'Month of effective_date']), files)\n",
        "\n",
        "# since the datasets are different sizes we need to designate this as an outer join\n",
        "final_data = reduce(lambda left, right: pd.merge(left, right, on= ['Loan Officer Name', 'Month of effective_date'], how = 'outer'), files1)"
      ],
      "execution_count": null,
      "outputs": []
    },
    {
      "cell_type": "markdown",
      "metadata": {
        "id": "1-ljG1QXz62c",
        "colab_type": "text"
      },
      "source": [
        "**Calculate Metrics**"
      ]
    },
    {
      "cell_type": "code",
      "metadata": {
        "id": "Fkn0wWKkl0w7",
        "colab_type": "code",
        "colab": {
          "base_uri": "https://localhost:8080/",
          "height": 328
        },
        "outputId": "ce413f57-633f-47ed-ec04-9f7f1ae0a0a0"
      },
      "source": [
        "# calculate median\n",
        "final_metrics = pd.DataFrame(final_data.select_dtypes(exclude=['object']).apply(np.nanmedian, axis=0))\n",
        "final_metrics.columns = ['Median']\n",
        "\n",
        "# calculate standard deviation\n",
        "final_metrics['Stdev'] = final_data.select_dtypes(exclude=['object']).apply(np.nanstd, axis=0)\n",
        "\n",
        "# get lower bound and upper bounds for each metric (2 times the standard deviation)\n",
        "final_metrics['LowerBound'] = final_metrics['Median'] - (final_metrics['Stdev'] * 2)\n",
        "final_metrics['UpperBound'] = final_metrics['Median'] + (final_metrics['Stdev'] * 2)\n",
        "\n",
        "# view data\n",
        "final_metrics"
      ],
      "execution_count": null,
      "outputs": [
        {
          "output_type": "execute_result",
          "data": {
            "text/html": [
              "<div>\n",
              "<style scoped>\n",
              "    .dataframe tbody tr th:only-of-type {\n",
              "        vertical-align: middle;\n",
              "    }\n",
              "\n",
              "    .dataframe tbody tr th {\n",
              "        vertical-align: top;\n",
              "    }\n",
              "\n",
              "    .dataframe thead th {\n",
              "        text-align: right;\n",
              "    }\n",
              "</style>\n",
              "<table border=\"1\" class=\"dataframe\">\n",
              "  <thead>\n",
              "    <tr style=\"text-align: right;\">\n",
              "      <th></th>\n",
              "      <th>Median</th>\n",
              "      <th>Stdev</th>\n",
              "      <th>LowerBound</th>\n",
              "      <th>UpperBound</th>\n",
              "    </tr>\n",
              "  </thead>\n",
              "  <tbody>\n",
              "    <tr>\n",
              "      <th>24 Hour Fund Rate</th>\n",
              "      <td>0.268293</td>\n",
              "      <td>0.125017</td>\n",
              "      <td>0.018258</td>\n",
              "      <td>0.518327</td>\n",
              "    </tr>\n",
              "    <tr>\n",
              "      <th>ACH %</th>\n",
              "      <td>0.861111</td>\n",
              "      <td>0.108269</td>\n",
              "      <td>0.644574</td>\n",
              "      <td>1.077648</td>\n",
              "    </tr>\n",
              "    <tr>\n",
              "      <th>Avg Effort Score</th>\n",
              "      <td>284.156667</td>\n",
              "      <td>56.279857</td>\n",
              "      <td>171.596954</td>\n",
              "      <td>396.716380</td>\n",
              "    </tr>\n",
              "    <tr>\n",
              "      <th>Co-App %</th>\n",
              "      <td>0.324838</td>\n",
              "      <td>0.063261</td>\n",
              "      <td>0.198315</td>\n",
              "      <td>0.451360</td>\n",
              "    </tr>\n",
              "    <tr>\n",
              "      <th>FAS%</th>\n",
              "      <td>0.261755</td>\n",
              "      <td>0.043890</td>\n",
              "      <td>0.173975</td>\n",
              "      <td>0.349535</td>\n",
              "    </tr>\n",
              "    <tr>\n",
              "      <th>Full App Approved %</th>\n",
              "      <td>0.629213</td>\n",
              "      <td>0.075643</td>\n",
              "      <td>0.477927</td>\n",
              "      <td>0.780500</td>\n",
              "    </tr>\n",
              "    <tr>\n",
              "      <th>Fund Rate</th>\n",
              "      <td>0.082447</td>\n",
              "      <td>0.026388</td>\n",
              "      <td>0.029670</td>\n",
              "      <td>0.135224</td>\n",
              "    </tr>\n",
              "    <tr>\n",
              "      <th>Applications Funded</th>\n",
              "      <td>30.000000</td>\n",
              "      <td>7.967548</td>\n",
              "      <td>14.064903</td>\n",
              "      <td>45.935097</td>\n",
              "    </tr>\n",
              "    <tr>\n",
              "      <th>Pull Through Rate</th>\n",
              "      <td>0.500000</td>\n",
              "      <td>0.096844</td>\n",
              "      <td>0.306312</td>\n",
              "      <td>0.693688</td>\n",
              "    </tr>\n",
              "  </tbody>\n",
              "</table>\n",
              "</div>"
            ],
            "text/plain": [
              "                         Median      Stdev  LowerBound  UpperBound\n",
              "24 Hour Fund Rate      0.268293   0.125017    0.018258    0.518327\n",
              "ACH %                  0.861111   0.108269    0.644574    1.077648\n",
              "Avg Effort Score     284.156667  56.279857  171.596954  396.716380\n",
              "Co-App %               0.324838   0.063261    0.198315    0.451360\n",
              "FAS%                   0.261755   0.043890    0.173975    0.349535\n",
              "Full App Approved %    0.629213   0.075643    0.477927    0.780500\n",
              "Fund Rate              0.082447   0.026388    0.029670    0.135224\n",
              "Applications Funded   30.000000   7.967548   14.064903   45.935097\n",
              "Pull Through Rate      0.500000   0.096844    0.306312    0.693688"
            ]
          },
          "metadata": {
            "tags": []
          },
          "execution_count": 130
        }
      ]
    },
    {
      "cell_type": "markdown",
      "metadata": {
        "id": "OSjCel0O0rfe",
        "colab_type": "text"
      },
      "source": [
        "## Compare to data without filtering"
      ]
    },
    {
      "cell_type": "code",
      "metadata": {
        "id": "U2CcmVYf0Ngw",
        "colab_type": "code",
        "colab": {
          "base_uri": "https://localhost:8080/",
          "height": 328
        },
        "outputId": "f98113be-f984-4bd9-9ee8-bc6c7b5c320a"
      },
      "source": [
        "# calculate median\n",
        "final_metrics1 = pd.DataFrame(full_data.select_dtypes(exclude=['object']).apply(np.nanmedian, axis=0))\n",
        "final_metrics1.columns = ['Median']\n",
        "\n",
        "# calculate standard deviation\n",
        "final_metrics1['Stdev'] = full_data.select_dtypes(exclude=['object']).apply(np.nanstd, axis=0)\n",
        "\n",
        "# get lower bound and upper bounds for each metric (2 times the standard deviation)\n",
        "final_metrics1['LowerBound'] = final_metrics1['Median'] - (final_metrics1['Stdev'] * 2)\n",
        "final_metrics1['UpperBound'] = final_metrics1['Median'] + (final_metrics1['Stdev'] * 2)\n",
        "\n",
        "# view data\n",
        "final_metrics1"
      ],
      "execution_count": null,
      "outputs": [
        {
          "output_type": "execute_result",
          "data": {
            "text/html": [
              "<div>\n",
              "<style scoped>\n",
              "    .dataframe tbody tr th:only-of-type {\n",
              "        vertical-align: middle;\n",
              "    }\n",
              "\n",
              "    .dataframe tbody tr th {\n",
              "        vertical-align: top;\n",
              "    }\n",
              "\n",
              "    .dataframe thead th {\n",
              "        text-align: right;\n",
              "    }\n",
              "</style>\n",
              "<table border=\"1\" class=\"dataframe\">\n",
              "  <thead>\n",
              "    <tr style=\"text-align: right;\">\n",
              "      <th></th>\n",
              "      <th>Median</th>\n",
              "      <th>Stdev</th>\n",
              "      <th>LowerBound</th>\n",
              "      <th>UpperBound</th>\n",
              "    </tr>\n",
              "  </thead>\n",
              "  <tbody>\n",
              "    <tr>\n",
              "      <th>24 Hour Fund Rate</th>\n",
              "      <td>0.272727</td>\n",
              "      <td>0.159012</td>\n",
              "      <td>-0.045297</td>\n",
              "      <td>0.590751</td>\n",
              "    </tr>\n",
              "    <tr>\n",
              "      <th>ACH %</th>\n",
              "      <td>0.843750</td>\n",
              "      <td>0.140189</td>\n",
              "      <td>0.563372</td>\n",
              "      <td>1.124128</td>\n",
              "    </tr>\n",
              "    <tr>\n",
              "      <th>Avg Effort Score</th>\n",
              "      <td>271.129167</td>\n",
              "      <td>122.923721</td>\n",
              "      <td>25.281724</td>\n",
              "      <td>516.976610</td>\n",
              "    </tr>\n",
              "    <tr>\n",
              "      <th>Co-App %</th>\n",
              "      <td>0.323669</td>\n",
              "      <td>0.080215</td>\n",
              "      <td>0.163240</td>\n",
              "      <td>0.484099</td>\n",
              "    </tr>\n",
              "    <tr>\n",
              "      <th>FAS%</th>\n",
              "      <td>0.261755</td>\n",
              "      <td>0.086341</td>\n",
              "      <td>0.089073</td>\n",
              "      <td>0.434436</td>\n",
              "    </tr>\n",
              "    <tr>\n",
              "      <th>Full App Approved %</th>\n",
              "      <td>0.627660</td>\n",
              "      <td>0.143424</td>\n",
              "      <td>0.340811</td>\n",
              "      <td>0.914508</td>\n",
              "    </tr>\n",
              "    <tr>\n",
              "      <th>Fund Rate</th>\n",
              "      <td>0.081645</td>\n",
              "      <td>0.029388</td>\n",
              "      <td>0.022869</td>\n",
              "      <td>0.140420</td>\n",
              "    </tr>\n",
              "    <tr>\n",
              "      <th>Applications Funded</th>\n",
              "      <td>28.000000</td>\n",
              "      <td>16.046708</td>\n",
              "      <td>-4.093415</td>\n",
              "      <td>60.093415</td>\n",
              "    </tr>\n",
              "    <tr>\n",
              "      <th>Pull Through Rate</th>\n",
              "      <td>0.500000</td>\n",
              "      <td>0.112918</td>\n",
              "      <td>0.274163</td>\n",
              "      <td>0.725837</td>\n",
              "    </tr>\n",
              "  </tbody>\n",
              "</table>\n",
              "</div>"
            ],
            "text/plain": [
              "                         Median       Stdev  LowerBound  UpperBound\n",
              "24 Hour Fund Rate      0.272727    0.159012   -0.045297    0.590751\n",
              "ACH %                  0.843750    0.140189    0.563372    1.124128\n",
              "Avg Effort Score     271.129167  122.923721   25.281724  516.976610\n",
              "Co-App %               0.323669    0.080215    0.163240    0.484099\n",
              "FAS%                   0.261755    0.086341    0.089073    0.434436\n",
              "Full App Approved %    0.627660    0.143424    0.340811    0.914508\n",
              "Fund Rate              0.081645    0.029388    0.022869    0.140420\n",
              "Applications Funded   28.000000   16.046708   -4.093415   60.093415\n",
              "Pull Through Rate      0.500000    0.112918    0.274163    0.725837"
            ]
          },
          "metadata": {
            "tags": []
          },
          "execution_count": 134
        }
      ]
    }
  ]
}