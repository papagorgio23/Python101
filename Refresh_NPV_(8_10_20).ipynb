{
  "nbformat": 4,
  "nbformat_minor": 0,
  "metadata": {
    "colab": {
      "name": "Refresh NPV (8-10-20).ipynb",
      "provenance": [],
      "collapsed_sections": [],
      "toc_visible": true,
      "authorship_tag": "ABX9TyOqpUUGAEro08Guvbzc5snc",
      "include_colab_link": true
    },
    "kernelspec": {
      "name": "python3",
      "display_name": "Python 3"
    }
  },
  "cells": [
    {
      "cell_type": "markdown",
      "metadata": {
        "id": "view-in-github",
        "colab_type": "text"
      },
      "source": [
        "<a href=\"https://colab.research.google.com/github/papagorgio23/Python101/blob/master/Refresh_NPV_(8_10_20).ipynb\" target=\"_parent\"><img src=\"https://colab.research.google.com/assets/colab-badge.svg\" alt=\"Open In Colab\"/></a>"
      ]
    },
    {
      "cell_type": "code",
      "metadata": {
        "id": "XF4zfF8JKbsq",
        "colab_type": "code",
        "colab": {
          "base_uri": "https://localhost:8080/",
          "height": 102
        },
        "outputId": "6d7c6885-cebe-4e62-ca5e-772bc3a707ca"
      },
      "source": [
        "import numpy as np\n",
        "import pandas as pd\n",
        "import joblib\n",
        "import json\n",
        "from sklearn.linear_model import LogisticRegression\n",
        "from sklearn.model_selection import train_test_split\n",
        "from yellowbrick.classifier import ROCAUC\n",
        "from yellowbrick.classifier import ClassificationReport\n",
        "import seaborn as sns\n",
        "import matplotlib.pyplot as plt"
      ],
      "execution_count": null,
      "outputs": [
        {
          "output_type": "stream",
          "text": [
            "/usr/local/lib/python3.6/dist-packages/sklearn/utils/deprecation.py:144: FutureWarning: The sklearn.metrics.classification module is  deprecated in version 0.22 and will be removed in version 0.24. The corresponding classes / functions should instead be imported from sklearn.metrics. Anything that cannot be imported from sklearn.metrics is now part of the private API.\n",
            "  warnings.warn(message, FutureWarning)\n",
            "/usr/local/lib/python3.6/dist-packages/statsmodels/tools/_testing.py:19: FutureWarning: pandas.util.testing is deprecated. Use the functions in the public API at pandas.testing instead.\n",
            "  import pandas.util.testing as tm\n"
          ],
          "name": "stderr"
        }
      ]
    },
    {
      "cell_type": "code",
      "metadata": {
        "id": "ENi8ch5wtVoy",
        "colab_type": "code",
        "colab": {
          "base_uri": "https://localhost:8080/",
          "height": 35
        },
        "outputId": "68a08c65-8ac0-495c-aa33-5d44e8477640"
      },
      "source": [
        "import sklearn\n",
        "sklearn.__version__"
      ],
      "execution_count": null,
      "outputs": [
        {
          "output_type": "execute_result",
          "data": {
            "application/vnd.google.colaboratory.intrinsic+json": {
              "type": "string"
            },
            "text/plain": [
              "'0.22.2.post1'"
            ]
          },
          "metadata": {
            "tags": []
          },
          "execution_count": 5
        }
      ]
    },
    {
      "cell_type": "code",
      "metadata": {
        "id": "x40LSyQzoFFF",
        "colab_type": "code",
        "colab": {
          "base_uri": "https://localhost:8080/",
          "height": 118
        },
        "outputId": "dfb7bdb0-3518-48c1-b350-9ffe0eacbdac"
      },
      "source": [
        "# Load the Drive helper and mount\n",
        "from google.colab import drive\n",
        "\n",
        "# This will prompt for authorization.\n",
        "drive.mount('/content/drive')"
      ],
      "execution_count": null,
      "outputs": [
        {
          "output_type": "stream",
          "text": [
            "Go to this URL in a browser: https://accounts.google.com/o/oauth2/auth?client_id=947318989803-6bn6qk8qdgf4n4g3pfee6491hc0brc4i.apps.googleusercontent.com&redirect_uri=urn%3aietf%3awg%3aoauth%3a2.0%3aoob&scope=email%20https%3a%2f%2fwww.googleapis.com%2fauth%2fdocs.test%20https%3a%2f%2fwww.googleapis.com%2fauth%2fdrive%20https%3a%2f%2fwww.googleapis.com%2fauth%2fdrive.photos.readonly%20https%3a%2f%2fwww.googleapis.com%2fauth%2fpeopleapi.readonly&response_type=code\n",
            "\n",
            "Enter your authorization code:\n",
            "··········\n",
            "Mounted at /content/drive\n"
          ],
          "name": "stdout"
        }
      ]
    },
    {
      "cell_type": "code",
      "metadata": {
        "id": "3nZia7EpoLPk",
        "colab_type": "code",
        "colab": {
          "base_uri": "https://localhost:8080/",
          "height": 35
        },
        "outputId": "7c0407ed-7098-4cac-dd45-6f96fa331435"
      },
      "source": [
        "# set working directory\n",
        "import os\n",
        "os.chdir(\"/content/drive/My Drive/Data Scientist/F+ Lead Scoring Model/bitBucket/fuse-fplus-lead-scoring/\")\n",
        "os.getcwd()\n"
      ],
      "execution_count": null,
      "outputs": [
        {
          "output_type": "execute_result",
          "data": {
            "application/vnd.google.colaboratory.intrinsic+json": {
              "type": "string"
            },
            "text/plain": [
              "'/content/drive/My Drive/Data Scientist/F+ Lead Scoring Model/bitBucket/fuse-fplus-lead-scoring'"
            ]
          },
          "metadata": {
            "tags": []
          },
          "execution_count": 14
        }
      ]
    },
    {
      "cell_type": "code",
      "metadata": {
        "id": "wpxzGozkoVzk",
        "colab_type": "code",
        "colab": {
          "base_uri": "https://localhost:8080/",
          "height": 163
        },
        "outputId": "5b0f7838-00a0-46c2-e9f8-3d66b18eb523"
      },
      "source": [
        "ls"
      ],
      "execution_count": null,
      "outputs": [
        {
          "output_type": "stream",
          "text": [
            " bitbucket-pipelines.yml          NPV_Twintiles.csv\n",
            " \u001b[0m\u001b[01;34mData\u001b[0m/                            README.md\n",
            " final.csv                       'Refresh NPV (8-10-20).ipynb'\n",
            " Fplus_Lead_Scoring               requirements.txt\n",
            " Fplus_Lead_Scoring_new           schema.json\n",
            " LeadScoringModel_Twintiles.csv   score_collector_phase1.py\n",
            " library_binning.py               scoringData.py\n",
            " main_leadLevel.py                test_data.json\n",
            " model.py                         validation.csv\n"
          ],
          "name": "stdout"
        }
      ]
    },
    {
      "cell_type": "markdown",
      "metadata": {
        "id": "hlavqfeTohzw",
        "colab_type": "text"
      },
      "source": [
        "## Load Data"
      ]
    },
    {
      "cell_type": "code",
      "metadata": {
        "id": "CIhAxgxnojU4",
        "colab_type": "code",
        "colab": {}
      },
      "source": [
        "fplus_ls_model = joblib.load('Fplus_Lead_Scoring_new')\n",
        "# fplus_ls_model = model\n",
        "unitEconomicsData = pd.read_csv('Data/unitEconomicsData.csv')\n",
        "training = pd.read_csv('Data/Refresh_NPV.csv')"
      ],
      "execution_count": null,
      "outputs": []
    },
    {
      "cell_type": "markdown",
      "metadata": {
        "id": "y1ZWXAYGmWK6",
        "colab_type": "text"
      },
      "source": [
        "## Library Binning"
      ]
    },
    {
      "cell_type": "code",
      "metadata": {
        "id": "u7gEVEEGKgeM",
        "colab_type": "code",
        "colab": {}
      },
      "source": [
        "import numpy as np\n",
        "import pandas as pd\n",
        "\n",
        "def get_co_app_cat(co_app_income):\n",
        "    \n",
        "    if pd.isnull(co_app_income):\n",
        "        return 0\n",
        "    if float(co_app_income) == 0:\n",
        "        return 0\n",
        "    return 1\n",
        "\n",
        "def get_loan_use_cat(loan_use):\n",
        "    if pd.isnull(loan_use):\n",
        "        return 0\n",
        "    \n",
        "    loan_use = loan_use.lower().strip()\n",
        "    if (loan_use in ['major purchase',\n",
        "                     'other',\n",
        "                     'Business Expenses',\n",
        "                     'Medical Expenses',\n",
        "                     'auto purchase']):\n",
        "        return 1\n",
        "    \n",
        "    return 0\n",
        "\n",
        "def get_employment_cat(employment_status):\n",
        "    \n",
        "    if pd.isnull(employment_status):\n",
        "        employment_status = ''\n",
        "    \n",
        "    employment_status = employment_status.lower().strip()\n",
        "\n",
        "    if (employment_status in ['self-employed', 'other']):\n",
        "        return 1\n",
        "    if (employment_status in ['retired', 'not employed']):\n",
        "        return 3\n",
        "    \n",
        "    return 2\n",
        "\n",
        "def get_loan_amount_cat(loan_amount):\n",
        "    \n",
        "    if pd.isnull(loan_amount):\n",
        "        return 5\n",
        "    \n",
        "    loan_amount = float(loan_amount)\n",
        "    if (loan_amount < 10000):\n",
        "        return 1\n",
        "    if (loan_amount >= 10000) and (loan_amount < 12500):\n",
        "        return 2\n",
        "    if (loan_amount >= 12500) and (loan_amount < 20000):\n",
        "        return 3\n",
        "    if (loan_amount >= 20000) and (loan_amount < 35000):\n",
        "        return 4\n",
        "    if (loan_amount >= 40000) and (loan_amount < 55000):\n",
        "        return 4\n",
        "    \n",
        "    return 5\n",
        "\n",
        "def get_mkt_chan_cat(utm_source):\n",
        "    \n",
        "    if pd.isnull(utm_source):\n",
        "        return np.exp(5)\n",
        "    \n",
        "    utm_source = utm_source.lower().strip()\n",
        "    if (utm_source in ['google', 'website', 'ck']):\n",
        "        return np.exp(6)\n",
        "    if (utm_source in ['ibm']):\n",
        "        return np.exp(4)\n",
        "    if (utm_source in ['even', 'nerdwallet', 'Shogun']):\n",
        "        return np.exp(3)\n",
        "    if (utm_source in ['credible']):\n",
        "        return np.exp(2)\n",
        "    if (utm_source in ['bkr', 'creditkarma']):\n",
        "        return np.exp(1)\n",
        "    \n",
        "    return np.exp(5)\n",
        "\n",
        "def get_fico(fico):\n",
        "    \n",
        "    if pd.isnull(fico):\n",
        "        fico = 900\n",
        "    \n",
        "    fico = int(fico)\n",
        "    if (fico >= 9000):\n",
        "        fico = 900\n",
        "    if fico < 620:\n",
        "        fico = 900\n",
        "    \n",
        "    ficofloor = 1/(np.floor(fico/10)*10)\n",
        "    ficosig = np.exp(ficofloor)/(1+np.exp(ficofloor))\n",
        "\n",
        "    return ficosig\n",
        "\n",
        "def get_lti(lti):\n",
        "    \n",
        "    if pd.isnull(lti):\n",
        "        return 0.36\n",
        "\n",
        "    lti = np.floor((lti * 100)/5)*5\n",
        "    \n",
        "    # lti = float(lti)\n",
        "    if (lti >= 45):\n",
        "        return 45\n",
        "    if (lti <= 10):\n",
        "        return 5\n",
        "    \n",
        "    return np.floor(lti)\n",
        "\n",
        "def get_bcc0300(bcc0300):\n",
        "    \n",
        "    if pd.isnull(bcc0300):\n",
        "        return 99\n",
        "    \n",
        "    bcc0300 = int(bcc0300)\n",
        "    if (bcc0300 >= 25):\n",
        "        return 30\n",
        "    \n",
        "    return bcc0300\n",
        "\n",
        "def get_ndi_cat(ndi_cat):\n",
        "    \n",
        "    if pd.isnull(ndi_cat):\n",
        "        return 1\n",
        "    \n",
        "    ndi_cat = float(ndi_cat)\n",
        "    ndi_cat = np.floor((ndi_cat * 100)/5)*5\n",
        "    \n",
        "    if (ndi_cat >= 70):\n",
        "        return 1\n",
        "    if (ndi_cat >= 50) and (ndi_cat < 70):\n",
        "        return 2\n",
        "    if (ndi_cat >= 0) and (ndi_cat < 25):\n",
        "        return 4\n",
        "    \n",
        "    return 3  \n"
      ],
      "execution_count": null,
      "outputs": []
    },
    {
      "cell_type": "markdown",
      "metadata": {
        "id": "-c8Mf7MpmZRl",
        "colab_type": "text"
      },
      "source": [
        "## Main Lead"
      ]
    },
    {
      "cell_type": "code",
      "metadata": {
        "id": "JJjEXDT7Kld1",
        "colab_type": "code",
        "colab": {}
      },
      "source": [
        "\n",
        "def main_leadlevel(leads, phase=1, provide=\"scored_lead\"):\n",
        "    \n",
        "    if phase == 1:\n",
        "        checked_lead = check_lead_phase1(leads)\n",
        "        \n",
        "        if checked_lead[\"error\"]:\n",
        "            return_value = {\n",
        "                \"fuse.score\" : 0,\n",
        "                \"fuse.npv\" : 0,\n",
        "                \"fuse.model\" : '',\n",
        "                \"fuse.error_flag\": True,\n",
        "                \"fuse_error_reason\" : \"Lead Validation Failed.\"\n",
        "            }\n",
        "            return return_value\n",
        "        error_msg = checked_lead[\"warning\"]\n",
        "        \n",
        "        return_value = score_collector_phase1(checked_lead[\"return_lead\"])\n",
        "        if len(error_msg.strip()) > 0:\n",
        "            return_value['fuse.error_reason'] = error_msg + ' ' + return_value['fuse.error_reason']\n",
        "        \n",
        "        return return_value\n",
        "\n",
        "# Check that the lead has all the required fields\n",
        "# if a value is missing, return warning message\n",
        "def check_lead_phase1(lead):\n",
        "    \n",
        "    # convert all keys to lower case\n",
        "    raw_lead = {k.lower(): v for k, v in lead.items()}\n",
        "    \n",
        "    error = False\n",
        "    return_lead = {}\n",
        "    missing_variables = []\n",
        "    error_msg = ''\n",
        "    \n",
        "    required_fields = [\"co_app_verifiable_annual_income\",\"loan_use\",\"employment_status\",\n",
        "                       \"final_loan_amount\",\"fico\",\"lti\",\"xpn_bcc0300\",\"ndi_ratio\",\"utm_source\"]\n",
        "\n",
        "    try:\n",
        "        for field in required_fields:\n",
        "            if (field not in raw_lead):\n",
        "                raw_lead[field] = np.NaN\n",
        "        \n",
        "        for key in raw_lead:\n",
        "            var = returnNaNifEmptyorNaN(raw_lead[key])\n",
        "            return_lead[key] = var\n",
        "            if (pd.isnull(return_lead[key])):\n",
        "                missing_variables.append(key) \n",
        "        \n",
        "        if (len(missing_variables)>0):\n",
        "            error_msg = \",\".join(missing_variables)\n",
        "            error_msg = \"Imputing values for: \" + error_msg\n",
        "            \n",
        "    except Exception as e: \n",
        "        #print(e)\n",
        "        error=True\n",
        "    \n",
        "    return_value = {\n",
        "        \"return_lead\" : return_lead,\n",
        "        \"warning\": error_msg,\n",
        "        \"error\": error\n",
        "    }\n",
        "    \n",
        "    return return_value\n",
        "\n",
        "def returnNaNifEmptyorNaN(variable):\n",
        "    \n",
        "    if isinstance(variable, int):\n",
        "        return variable\n",
        "    if isinstance(variable, float):\n",
        "        return variable\n",
        "    # if null or empty\n",
        "    if pd.isnull(variable) or len(variable)<1:\n",
        "        return np.NaN\n",
        "    if variable.isnumeric():\n",
        "        return variable\n",
        "\n",
        "    return variable.strip()\n"
      ],
      "execution_count": null,
      "outputs": []
    },
    {
      "cell_type": "markdown",
      "metadata": {
        "id": "Y3Q9e-6Mmhz6",
        "colab_type": "text"
      },
      "source": [
        "## Score Collector"
      ]
    },
    {
      "cell_type": "code",
      "metadata": {
        "id": "hQut2LrRJ5Fs",
        "colab_type": "code",
        "colab": {}
      },
      "source": [
        "\n",
        "import numpy as np\n",
        "import pandas as pd\n",
        "from sklearn.linear_model import LogisticRegression\n",
        "\n",
        "#from . import library_binning as lib\n",
        "#from . import scoringData as sd\n",
        "\n",
        "def score_collector_phase1(lead, debug = False):\n",
        "    \n",
        "    mod_lead = pd.DataFrame()\n",
        "    bin_vars = {}\n",
        "    error = False\n",
        "    error_msg = ''\n",
        "    prob_prediction = 0\n",
        "    npv = 0\n",
        "    MODEL_NAME = 'fplus_ls_202008_v1'\n",
        "    \n",
        "    try:\n",
        "        # create binned/transformed variables\n",
        "        bin_vars['co_app'] = pd.Series(get_co_app_cat(lead['co_app_verifiable_annual_income']))\n",
        "        bin_vars['loan_use'] = get_loan_use_cat(lead['loan_use'])\n",
        "        bin_vars['employment'] = get_employment_cat(lead['employment_status'])\n",
        "        bin_vars['loan_amount'] = get_loan_amount_cat(lead['final_loan_amount'])\n",
        "        bin_vars['mkt_chan'] = get_mkt_chan_cat(lead['utm_source'])\n",
        "        bin_vars['ficox'] = get_fico(lead['fico'])\n",
        "        bin_vars['lti'] = get_lti(lead['lti'])\n",
        "        bin_vars['bcc0300'] = get_bcc0300(lead['xpn_bcc0300'])\n",
        "        bin_vars['ndi'] = get_ndi_cat(lead['ndi_ratio'])\n",
        "        \n",
        "        mod_lead = pd.DataFrame(bin_vars)\n",
        "        \n",
        "        # create dummies\n",
        "        cat_vars=['employment','loan_amount', 'ndi']\n",
        "        for var in cat_vars:\n",
        "            cat_list = pd.get_dummies(mod_lead[var], prefix=var)\n",
        "            temp=mod_lead.join(cat_list)\n",
        "            mod_lead=temp\n",
        "        data_vars=mod_lead.columns.values.tolist()\n",
        "        to_keep=[i for i in data_vars if i not in cat_vars]\n",
        "        mod_lead=mod_lead[to_keep]\n",
        "        print(mod_lead.columns.values)\n",
        "        \n",
        "        # re-index to have same columns as the model\n",
        "        mod_lead = mod_lead.reindex(columns = ['ficox', 'lti', 'bcc0300', 'co_app',\n",
        "                                               'loan_use', 'employment_1',\n",
        "                                               'employment_2', 'employment_3', 'loan_amount_1',\n",
        "                                               'loan_amount_2', 'loan_amount_3', 'loan_amount_4', \n",
        "                                               'loan_amount_5', 'mkt_chan', 'ndi_1', 'ndi_2',\n",
        "                                               'ndi_3', 'ndi_4',], fill_value=0)\n",
        "        \n",
        "        # score\n",
        "        prob_prediction = fplus_ls_model.predict_proba(mod_lead)[0][1]\n",
        "        print(prob_prediction)\n",
        "        \n",
        "        # calc NPV\n",
        "        npv = get_npv_calc(lead['final_loan_amount'], prob_prediction, lead['utm_source'])\n",
        "        \n",
        "    except Exception as e:\n",
        "        # print(e)\n",
        "        error = True\n",
        "        error_msg = 'Error in Scoring.'\n",
        "    \n",
        "    # add an error flag\n",
        "    if (debug):\n",
        "        return_scores = {\n",
        "            'bin_lead': mod_lead,\n",
        "            'fuse.score':prob_prediction,\n",
        "            'fuse.npv': npv,\n",
        "            'fuse.model': MODEL_NAME,\n",
        "            'fuse.error_flag': error,\n",
        "            'fuse.error_reason': error_msg\n",
        "        }\n",
        "        return return_scores\n",
        "    \n",
        "    # return the dictionary\n",
        "    return_scores = {\n",
        "        'fuse.score':prob_prediction,\n",
        "        'fuse.npv': npv,\n",
        "        'fuse.model': MODEL_NAME,\n",
        "        'fuse.error_flag': error,\n",
        "        'fuse.error_reason': error_msg\n",
        "    }\n",
        "    return return_scores\n",
        "\n",
        "\n",
        "def get_npv_calc(loan_amt,prob_prediction,utm_source):\n",
        "    \n",
        "    if pd.notnull(utm_source):\n",
        "        utm_src = utm_source.strip()\n",
        "        utm_src = utm_src.lower()\n",
        "    \n",
        "    npv = 0\n",
        "    cpa = 0\n",
        "    \n",
        "    if pd.notnull(utm_source) and (utm_src in set(unitEconomicsData['utm_source'])):\n",
        "        cpa = unitEconomicsData.loc[unitEconomicsData['utm_source'] == utm_src, 'CPA'].values[0]\n",
        "                \n",
        "    if pd.isnull(loan_amt):\n",
        "        loan_amt = 0\n",
        "    else:\n",
        "        loan_amt = float(loan_amt) \n",
        "        \n",
        "    npv = prob_prediction * ((loan_amt * 0.0681) - (621 + cpa))\n",
        "    \n",
        "    return npv"
      ],
      "execution_count": null,
      "outputs": []
    },
    {
      "cell_type": "markdown",
      "metadata": {
        "id": "GkumiGnJmuvC",
        "colab_type": "text"
      },
      "source": [
        "## Scoring Data"
      ]
    },
    {
      "cell_type": "code",
      "metadata": {
        "id": "7xPQeNhSmxVS",
        "colab_type": "code",
        "colab": {}
      },
      "source": [
        "import numpy as np\n",
        "import pandas as pd\n",
        "import logging\n",
        "import os\n",
        "from sklearn.externals import joblib\n",
        "\n",
        "\n",
        "dirdata = os.path.join(os.path.dirname(__file__), 'Data')\n",
        "\n",
        "global initialized\n",
        "initialized = False\n",
        "\n",
        "def init():\n",
        "    \n",
        "    global fplus_ls_model\n",
        "    global unitEconomicsData\n",
        "    \n",
        "    global initialized\n",
        "    if (initialized == True):\n",
        "        return\n",
        "    \n",
        "    try:\n",
        "        #fplus_ls_model = joblib.load('Data/Fplus_Lead_Scoring')\n",
        "        #unitEconomicsData = pd.read_csv('Data/unitEconomicsData.csv')\n",
        "        fplus_ls_model = joblib.load(os.path.join(dirdata, 'Fplus_Lead_Scoring'))\n",
        "        unitEconomicsData = pd.read_csv(os.path.join(dirdata, 'unitEconomicsData.csv'))\n",
        "        \n",
        "    except Exception as e:\n",
        "        #print(e)\n",
        "        return\n",
        "    \n",
        "    initialized = True\n",
        "\n"
      ],
      "execution_count": null,
      "outputs": []
    },
    {
      "cell_type": "markdown",
      "metadata": {
        "id": "ZT2UU4Khmn4n",
        "colab_type": "text"
      },
      "source": [
        "## Model"
      ]
    },
    {
      "cell_type": "code",
      "metadata": {
        "id": "55bUtauTK-Gc",
        "colab_type": "code",
        "colab": {}
      },
      "source": [
        "\n",
        "# from . import scoringData as sd\n",
        "# from . import main_leadLevel as ml\n",
        "import pandas as pd\n",
        "import json\n",
        "\n",
        "# init()\n",
        "\n",
        "# Assumption : gets dictionary as a input\n",
        "def run(leads):\n",
        "    score = main_leadlevel(leads)\n",
        "    #score is dictionary, score['fuse_score'] is dataframe\n",
        "    \n",
        "    #add scores to the lead\n",
        "    if ('co_app_verifiable_annual_income' in leads):\n",
        "        leads['co_app_verifiable_annual_income']=str(leads['co_app_verifiable_annual_income'])\n",
        "    if ('fico' in leads):\n",
        "        leads['fico']=str(leads['fico'])\n",
        "    if ('LTI' in leads):\n",
        "        leads['LTI']=str(leads['LTI'])\n",
        "    if ('xpn_bcc0300' in leads):\n",
        "        leads['xpn_bcc0300']=str(leads['xpn_bcc0300'])\n",
        "    if ('ndi_ratio' in leads):\n",
        "        leads['ndi_ratio']=str(leads['ndi_ratio'])\n",
        "    if ('final_loan_amount' in leads):\n",
        "        leads['final_loan_amount']=str(leads['final_loan_amount'])\n",
        "    leads.update(score)\n",
        "    \n",
        "    return_list = []\n",
        "    return_list.append(leads)\n",
        "    return return_list\n",
        "\n",
        "def format_scores_returned(score):\n",
        "\n",
        "    # convert everything to a dataframe\n",
        "    score = pd.DataFrame.from_dict(score,orient='index').transpose() \n",
        "    \n",
        "    # convert back to dictionary in list format\n",
        "    score = score.to_dict('list')\n",
        "    \n",
        "    return score\n",
        "\n"
      ],
      "execution_count": null,
      "outputs": []
    },
    {
      "cell_type": "markdown",
      "metadata": {
        "id": "H0M2cThQ2yjs",
        "colab_type": "text"
      },
      "source": [
        "## Load Data"
      ]
    },
    {
      "cell_type": "code",
      "metadata": {
        "id": "TGpz6rJF2vDZ",
        "colab_type": "code",
        "colab": {
          "base_uri": "https://localhost:8080/",
          "height": 191
        },
        "outputId": "de90f5bb-bd31-42dc-e830-1a32d45e6a46"
      },
      "source": [
        "training.head()"
      ],
      "execution_count": null,
      "outputs": [
        {
          "output_type": "execute_result",
          "data": {
            "text/html": [
              "<div>\n",
              "<style scoped>\n",
              "    .dataframe tbody tr th:only-of-type {\n",
              "        vertical-align: middle;\n",
              "    }\n",
              "\n",
              "    .dataframe tbody tr th {\n",
              "        vertical-align: top;\n",
              "    }\n",
              "\n",
              "    .dataframe thead th {\n",
              "        text-align: right;\n",
              "    }\n",
              "</style>\n",
              "<table border=\"1\" class=\"dataframe\">\n",
              "  <thead>\n",
              "    <tr style=\"text-align: right;\">\n",
              "      <th></th>\n",
              "      <th>name</th>\n",
              "      <th>funded_flag</th>\n",
              "      <th>first_coapp</th>\n",
              "      <th>first_loan_use</th>\n",
              "      <th>employment_status__c</th>\n",
              "      <th>first_amount_of_loan_requested</th>\n",
              "      <th>first_FICO</th>\n",
              "      <th>First_LTI</th>\n",
              "      <th>first_bcc0300__c</th>\n",
              "      <th>first_ndi_ratio__c</th>\n",
              "      <th>utm_source__c</th>\n",
              "    </tr>\n",
              "  </thead>\n",
              "  <tbody>\n",
              "    <tr>\n",
              "      <th>0</th>\n",
              "      <td>App-07278314</td>\n",
              "      <td>0</td>\n",
              "      <td>1</td>\n",
              "      <td>Debt Consolidation</td>\n",
              "      <td>Self-employed</td>\n",
              "      <td>40000</td>\n",
              "      <td>697.0</td>\n",
              "      <td>0.210526</td>\n",
              "      <td>7</td>\n",
              "      <td>0.218200</td>\n",
              "      <td>Lending Tree</td>\n",
              "    </tr>\n",
              "    <tr>\n",
              "      <th>1</th>\n",
              "      <td>App-07278317</td>\n",
              "      <td>0</td>\n",
              "      <td>0</td>\n",
              "      <td>Debt Consolidation</td>\n",
              "      <td>Full-time</td>\n",
              "      <td>15000</td>\n",
              "      <td>687.0</td>\n",
              "      <td>0.245467</td>\n",
              "      <td>5</td>\n",
              "      <td>0.575611</td>\n",
              "      <td>Lending Tree</td>\n",
              "    </tr>\n",
              "    <tr>\n",
              "      <th>2</th>\n",
              "      <td>App-07278321</td>\n",
              "      <td>0</td>\n",
              "      <td>0</td>\n",
              "      <td>Other</td>\n",
              "      <td>Full-time</td>\n",
              "      <td>11000</td>\n",
              "      <td>734.0</td>\n",
              "      <td>0.192982</td>\n",
              "      <td>3</td>\n",
              "      <td>0.474172</td>\n",
              "      <td>Lending Tree</td>\n",
              "    </tr>\n",
              "    <tr>\n",
              "      <th>3</th>\n",
              "      <td>App-07278324</td>\n",
              "      <td>0</td>\n",
              "      <td>0</td>\n",
              "      <td>Debt Consolidation</td>\n",
              "      <td>Full-time</td>\n",
              "      <td>10000</td>\n",
              "      <td>673.0</td>\n",
              "      <td>0.106383</td>\n",
              "      <td>18</td>\n",
              "      <td>0.427942</td>\n",
              "      <td>Lending Tree</td>\n",
              "    </tr>\n",
              "    <tr>\n",
              "      <th>4</th>\n",
              "      <td>App-07278325</td>\n",
              "      <td>0</td>\n",
              "      <td>0</td>\n",
              "      <td>Debt Consolidation</td>\n",
              "      <td>Full-time</td>\n",
              "      <td>13000</td>\n",
              "      <td>683.0</td>\n",
              "      <td>0.351351</td>\n",
              "      <td>4</td>\n",
              "      <td>0.699950</td>\n",
              "      <td>credible</td>\n",
              "    </tr>\n",
              "  </tbody>\n",
              "</table>\n",
              "</div>"
            ],
            "text/plain": [
              "           name  funded_flag  ...  first_ndi_ratio__c utm_source__c\n",
              "0  App-07278314            0  ...            0.218200  Lending Tree\n",
              "1  App-07278317            0  ...            0.575611  Lending Tree\n",
              "2  App-07278321            0  ...            0.474172  Lending Tree\n",
              "3  App-07278324            0  ...            0.427942  Lending Tree\n",
              "4  App-07278325            0  ...            0.699950      credible\n",
              "\n",
              "[5 rows x 11 columns]"
            ]
          },
          "metadata": {
            "tags": []
          },
          "execution_count": 15
        }
      ]
    },
    {
      "cell_type": "code",
      "metadata": {
        "id": "KhmKHu9P_vl1",
        "colab_type": "code",
        "colab": {
          "base_uri": "https://localhost:8080/",
          "height": 358
        },
        "outputId": "54a75cbe-2871-418a-e574-ea6d9b37d572"
      },
      "source": [
        "training.isna().sum()"
      ],
      "execution_count": null,
      "outputs": [
        {
          "output_type": "execute_result",
          "data": {
            "text/plain": [
              "name                                0\n",
              "funded_flag                         0\n",
              "first_coapp                         0\n",
              "first_loan_use                      0\n",
              "employment_status__c                0\n",
              "first_amount_of_loan_requested      0\n",
              "first_FICO                        216\n",
              "First_LTI                           0\n",
              "first_bcc0300__c                    0\n",
              "first_ndi_ratio__c                798\n",
              "utm_source__c                       0\n",
              "co_app                              0\n",
              "loan_use                            0\n",
              "employment                          0\n",
              "loan_amount                         0\n",
              "mkt_chan                            0\n",
              "ficox                               0\n",
              "lti                                 0\n",
              "bcc0300                             0\n",
              "ndi                                 0\n",
              "dtype: int64"
            ]
          },
          "metadata": {
            "tags": []
          },
          "execution_count": 107
        }
      ]
    },
    {
      "cell_type": "code",
      "metadata": {
        "id": "4nPr3kxz5lwg",
        "colab_type": "code",
        "colab": {}
      },
      "source": [
        "first_df = training"
      ],
      "execution_count": null,
      "outputs": []
    },
    {
      "cell_type": "markdown",
      "metadata": {
        "id": "FEqxX6RC21Dg",
        "colab_type": "text"
      },
      "source": [
        "## Transform Data"
      ]
    },
    {
      "cell_type": "code",
      "metadata": {
        "id": "coYxKx7j22fD",
        "colab_type": "code",
        "colab": {}
      },
      "source": [
        "# Transform variables\n",
        "first_df['co_app'] = first_df['first_coapp'].apply(get_co_app_cat)\n",
        "first_df['loan_use'] = first_df['first_loan_use'].apply(get_loan_use_cat)\n",
        "first_df['employment'] = first_df['employment_status__c'].apply(get_employment_cat)\n",
        "first_df['loan_amount'] = first_df['first_amount_of_loan_requested'].apply(get_loan_amount_cat)\n",
        "first_df['mkt_chan'] = first_df['utm_source__c'].apply(get_mkt_chan_cat)\n",
        "first_df['ficox'] = first_df['first_FICO'].apply(get_fico)\n",
        "first_df['lti'] = first_df['First_LTI'].apply(get_lti)\n",
        "first_df['bcc0300'] = first_df['first_bcc0300__c'].apply(get_bcc0300)\n",
        "first_df['ndi'] = first_df['first_ndi_ratio__c'].apply(get_ndi_cat)\n"
      ],
      "execution_count": null,
      "outputs": []
    },
    {
      "cell_type": "code",
      "metadata": {
        "id": "q_47lQkk5oOn",
        "colab_type": "code",
        "colab": {
          "base_uri": "https://localhost:8080/",
          "height": 292
        },
        "outputId": "59607308-c394-41b0-dc72-ed82b7c770d6"
      },
      "source": [
        "first_df.head()"
      ],
      "execution_count": null,
      "outputs": [
        {
          "output_type": "execute_result",
          "data": {
            "text/html": [
              "<div>\n",
              "<style scoped>\n",
              "    .dataframe tbody tr th:only-of-type {\n",
              "        vertical-align: middle;\n",
              "    }\n",
              "\n",
              "    .dataframe tbody tr th {\n",
              "        vertical-align: top;\n",
              "    }\n",
              "\n",
              "    .dataframe thead th {\n",
              "        text-align: right;\n",
              "    }\n",
              "</style>\n",
              "<table border=\"1\" class=\"dataframe\">\n",
              "  <thead>\n",
              "    <tr style=\"text-align: right;\">\n",
              "      <th></th>\n",
              "      <th>name</th>\n",
              "      <th>funded_flag</th>\n",
              "      <th>first_coapp</th>\n",
              "      <th>first_loan_use</th>\n",
              "      <th>employment_status__c</th>\n",
              "      <th>first_amount_of_loan_requested</th>\n",
              "      <th>first_FICO</th>\n",
              "      <th>First_LTI</th>\n",
              "      <th>first_bcc0300__c</th>\n",
              "      <th>first_ndi_ratio__c</th>\n",
              "      <th>utm_source__c</th>\n",
              "      <th>co_app</th>\n",
              "      <th>loan_use</th>\n",
              "      <th>employment</th>\n",
              "      <th>loan_amount</th>\n",
              "      <th>mkt_chan</th>\n",
              "      <th>ficox</th>\n",
              "      <th>lti</th>\n",
              "      <th>bcc0300</th>\n",
              "      <th>ndi</th>\n",
              "    </tr>\n",
              "  </thead>\n",
              "  <tbody>\n",
              "    <tr>\n",
              "      <th>0</th>\n",
              "      <td>App-07278314</td>\n",
              "      <td>0</td>\n",
              "      <td>1</td>\n",
              "      <td>Debt Consolidation</td>\n",
              "      <td>Self-employed</td>\n",
              "      <td>40000</td>\n",
              "      <td>697.0</td>\n",
              "      <td>0.210526</td>\n",
              "      <td>7</td>\n",
              "      <td>0.218200</td>\n",
              "      <td>Lending Tree</td>\n",
              "      <td>1</td>\n",
              "      <td>0</td>\n",
              "      <td>1</td>\n",
              "      <td>4</td>\n",
              "      <td>148.413159</td>\n",
              "      <td>0.500362</td>\n",
              "      <td>20.0</td>\n",
              "      <td>7</td>\n",
              "      <td>4</td>\n",
              "    </tr>\n",
              "    <tr>\n",
              "      <th>1</th>\n",
              "      <td>App-07278317</td>\n",
              "      <td>0</td>\n",
              "      <td>0</td>\n",
              "      <td>Debt Consolidation</td>\n",
              "      <td>Full-time</td>\n",
              "      <td>15000</td>\n",
              "      <td>687.0</td>\n",
              "      <td>0.245467</td>\n",
              "      <td>5</td>\n",
              "      <td>0.575611</td>\n",
              "      <td>Lending Tree</td>\n",
              "      <td>0</td>\n",
              "      <td>0</td>\n",
              "      <td>2</td>\n",
              "      <td>3</td>\n",
              "      <td>148.413159</td>\n",
              "      <td>0.500368</td>\n",
              "      <td>20.0</td>\n",
              "      <td>5</td>\n",
              "      <td>2</td>\n",
              "    </tr>\n",
              "    <tr>\n",
              "      <th>2</th>\n",
              "      <td>App-07278321</td>\n",
              "      <td>0</td>\n",
              "      <td>0</td>\n",
              "      <td>Other</td>\n",
              "      <td>Full-time</td>\n",
              "      <td>11000</td>\n",
              "      <td>734.0</td>\n",
              "      <td>0.192982</td>\n",
              "      <td>3</td>\n",
              "      <td>0.474172</td>\n",
              "      <td>Lending Tree</td>\n",
              "      <td>0</td>\n",
              "      <td>1</td>\n",
              "      <td>2</td>\n",
              "      <td>2</td>\n",
              "      <td>148.413159</td>\n",
              "      <td>0.500342</td>\n",
              "      <td>15.0</td>\n",
              "      <td>3</td>\n",
              "      <td>3</td>\n",
              "    </tr>\n",
              "    <tr>\n",
              "      <th>3</th>\n",
              "      <td>App-07278324</td>\n",
              "      <td>0</td>\n",
              "      <td>0</td>\n",
              "      <td>Debt Consolidation</td>\n",
              "      <td>Full-time</td>\n",
              "      <td>10000</td>\n",
              "      <td>673.0</td>\n",
              "      <td>0.106383</td>\n",
              "      <td>18</td>\n",
              "      <td>0.427942</td>\n",
              "      <td>Lending Tree</td>\n",
              "      <td>0</td>\n",
              "      <td>0</td>\n",
              "      <td>2</td>\n",
              "      <td>2</td>\n",
              "      <td>148.413159</td>\n",
              "      <td>0.500373</td>\n",
              "      <td>5.0</td>\n",
              "      <td>18</td>\n",
              "      <td>3</td>\n",
              "    </tr>\n",
              "    <tr>\n",
              "      <th>4</th>\n",
              "      <td>App-07278325</td>\n",
              "      <td>0</td>\n",
              "      <td>0</td>\n",
              "      <td>Debt Consolidation</td>\n",
              "      <td>Full-time</td>\n",
              "      <td>13000</td>\n",
              "      <td>683.0</td>\n",
              "      <td>0.351351</td>\n",
              "      <td>4</td>\n",
              "      <td>0.699950</td>\n",
              "      <td>credible</td>\n",
              "      <td>0</td>\n",
              "      <td>0</td>\n",
              "      <td>2</td>\n",
              "      <td>3</td>\n",
              "      <td>7.389056</td>\n",
              "      <td>0.500368</td>\n",
              "      <td>35.0</td>\n",
              "      <td>4</td>\n",
              "      <td>2</td>\n",
              "    </tr>\n",
              "  </tbody>\n",
              "</table>\n",
              "</div>"
            ],
            "text/plain": [
              "           name  funded_flag  first_coapp  ...   lti bcc0300  ndi\n",
              "0  App-07278314            0            1  ...  20.0       7    4\n",
              "1  App-07278317            0            0  ...  20.0       5    2\n",
              "2  App-07278321            0            0  ...  15.0       3    3\n",
              "3  App-07278324            0            0  ...   5.0      18    3\n",
              "4  App-07278325            0            0  ...  35.0       4    2\n",
              "\n",
              "[5 rows x 20 columns]"
            ]
          },
          "metadata": {
            "tags": []
          },
          "execution_count": 18
        }
      ]
    },
    {
      "cell_type": "code",
      "metadata": {
        "id": "NDloT8Ni7zhU",
        "colab_type": "code",
        "colab": {
          "base_uri": "https://localhost:8080/",
          "height": 297
        },
        "outputId": "f58fcb3f-f543-4fe7-dea8-c5bfa482d4c6"
      },
      "source": [
        "first_df.describe()"
      ],
      "execution_count": null,
      "outputs": [
        {
          "output_type": "execute_result",
          "data": {
            "text/html": [
              "<div>\n",
              "<style scoped>\n",
              "    .dataframe tbody tr th:only-of-type {\n",
              "        vertical-align: middle;\n",
              "    }\n",
              "\n",
              "    .dataframe tbody tr th {\n",
              "        vertical-align: top;\n",
              "    }\n",
              "\n",
              "    .dataframe thead th {\n",
              "        text-align: right;\n",
              "    }\n",
              "</style>\n",
              "<table border=\"1\" class=\"dataframe\">\n",
              "  <thead>\n",
              "    <tr style=\"text-align: right;\">\n",
              "      <th></th>\n",
              "      <th>funded_flag</th>\n",
              "      <th>first_coapp</th>\n",
              "      <th>first_amount_of_loan_requested</th>\n",
              "      <th>first_FICO</th>\n",
              "      <th>First_LTI</th>\n",
              "      <th>first_bcc0300__c</th>\n",
              "      <th>first_ndi_ratio__c</th>\n",
              "      <th>co_app</th>\n",
              "      <th>loan_use</th>\n",
              "      <th>employment</th>\n",
              "      <th>loan_amount</th>\n",
              "      <th>mkt_chan</th>\n",
              "      <th>ficox</th>\n",
              "      <th>lti</th>\n",
              "      <th>bcc0300</th>\n",
              "      <th>ndi</th>\n",
              "    </tr>\n",
              "  </thead>\n",
              "  <tbody>\n",
              "    <tr>\n",
              "      <th>count</th>\n",
              "      <td>103743.000000</td>\n",
              "      <td>103743.000000</td>\n",
              "      <td>103743.000000</td>\n",
              "      <td>103527.000000</td>\n",
              "      <td>103743.000000</td>\n",
              "      <td>103743.000000</td>\n",
              "      <td>102945.000000</td>\n",
              "      <td>103743.000000</td>\n",
              "      <td>103743.000000</td>\n",
              "      <td>103743.000000</td>\n",
              "      <td>103743.000000</td>\n",
              "      <td>103743.000000</td>\n",
              "      <td>103743.000000</td>\n",
              "      <td>103743.000000</td>\n",
              "      <td>103743.000000</td>\n",
              "      <td>103743.000000</td>\n",
              "    </tr>\n",
              "    <tr>\n",
              "      <th>mean</th>\n",
              "      <td>0.040494</td>\n",
              "      <td>0.115256</td>\n",
              "      <td>23710.573803</td>\n",
              "      <td>726.259749</td>\n",
              "      <td>0.237115</td>\n",
              "      <td>7.694794</td>\n",
              "      <td>0.375197</td>\n",
              "      <td>0.115256</td>\n",
              "      <td>0.144145</td>\n",
              "      <td>1.917373</td>\n",
              "      <td>3.499446</td>\n",
              "      <td>102.224928</td>\n",
              "      <td>0.500349</td>\n",
              "      <td>20.102368</td>\n",
              "      <td>7.672566</td>\n",
              "      <td>2.967458</td>\n",
              "    </tr>\n",
              "    <tr>\n",
              "      <th>std</th>\n",
              "      <td>0.197116</td>\n",
              "      <td>0.319332</td>\n",
              "      <td>11570.120763</td>\n",
              "      <td>177.397152</td>\n",
              "      <td>0.128038</td>\n",
              "      <td>5.410631</td>\n",
              "      <td>0.143199</td>\n",
              "      <td>0.319332</td>\n",
              "      <td>0.351238</td>\n",
              "      <td>0.397037</td>\n",
              "      <td>0.942638</td>\n",
              "      <td>81.326662</td>\n",
              "      <td>0.000024</td>\n",
              "      <td>11.612246</td>\n",
              "      <td>5.154312</td>\n",
              "      <td>0.676032</td>\n",
              "    </tr>\n",
              "    <tr>\n",
              "      <th>min</th>\n",
              "      <td>0.000000</td>\n",
              "      <td>0.000000</td>\n",
              "      <td>7500.000000</td>\n",
              "      <td>444.000000</td>\n",
              "      <td>0.000100</td>\n",
              "      <td>0.000000</td>\n",
              "      <td>0.000274</td>\n",
              "      <td>0.000000</td>\n",
              "      <td>0.000000</td>\n",
              "      <td>1.000000</td>\n",
              "      <td>1.000000</td>\n",
              "      <td>2.718282</td>\n",
              "      <td>0.500278</td>\n",
              "      <td>5.000000</td>\n",
              "      <td>0.000000</td>\n",
              "      <td>1.000000</td>\n",
              "    </tr>\n",
              "    <tr>\n",
              "      <th>25%</th>\n",
              "      <td>0.000000</td>\n",
              "      <td>0.000000</td>\n",
              "      <td>15000.000000</td>\n",
              "      <td>687.000000</td>\n",
              "      <td>0.152174</td>\n",
              "      <td>4.000000</td>\n",
              "      <td>0.275163</td>\n",
              "      <td>0.000000</td>\n",
              "      <td>0.000000</td>\n",
              "      <td>2.000000</td>\n",
              "      <td>3.000000</td>\n",
              "      <td>20.085537</td>\n",
              "      <td>0.500333</td>\n",
              "      <td>15.000000</td>\n",
              "      <td>4.000000</td>\n",
              "      <td>3.000000</td>\n",
              "    </tr>\n",
              "    <tr>\n",
              "      <th>50%</th>\n",
              "      <td>0.000000</td>\n",
              "      <td>0.000000</td>\n",
              "      <td>20000.000000</td>\n",
              "      <td>720.000000</td>\n",
              "      <td>0.213320</td>\n",
              "      <td>7.000000</td>\n",
              "      <td>0.363597</td>\n",
              "      <td>0.000000</td>\n",
              "      <td>0.000000</td>\n",
              "      <td>2.000000</td>\n",
              "      <td>4.000000</td>\n",
              "      <td>148.413159</td>\n",
              "      <td>0.500347</td>\n",
              "      <td>20.000000</td>\n",
              "      <td>7.000000</td>\n",
              "      <td>3.000000</td>\n",
              "    </tr>\n",
              "    <tr>\n",
              "      <th>75%</th>\n",
              "      <td>0.000000</td>\n",
              "      <td>0.000000</td>\n",
              "      <td>31000.000000</td>\n",
              "      <td>756.000000</td>\n",
              "      <td>0.291262</td>\n",
              "      <td>10.000000</td>\n",
              "      <td>0.464329</td>\n",
              "      <td>0.000000</td>\n",
              "      <td>0.000000</td>\n",
              "      <td>2.000000</td>\n",
              "      <td>4.000000</td>\n",
              "      <td>148.413159</td>\n",
              "      <td>0.500368</td>\n",
              "      <td>25.000000</td>\n",
              "      <td>10.000000</td>\n",
              "      <td>3.000000</td>\n",
              "    </tr>\n",
              "    <tr>\n",
              "      <th>max</th>\n",
              "      <td>1.000000</td>\n",
              "      <td>1.000000</td>\n",
              "      <td>240000.000000</td>\n",
              "      <td>9003.000000</td>\n",
              "      <td>6.000000</td>\n",
              "      <td>99.000000</td>\n",
              "      <td>6.482106</td>\n",
              "      <td>1.000000</td>\n",
              "      <td>1.000000</td>\n",
              "      <td>3.000000</td>\n",
              "      <td>5.000000</td>\n",
              "      <td>403.428793</td>\n",
              "      <td>0.500403</td>\n",
              "      <td>45.000000</td>\n",
              "      <td>30.000000</td>\n",
              "      <td>4.000000</td>\n",
              "    </tr>\n",
              "  </tbody>\n",
              "</table>\n",
              "</div>"
            ],
            "text/plain": [
              "         funded_flag    first_coapp  ...        bcc0300            ndi\n",
              "count  103743.000000  103743.000000  ...  103743.000000  103743.000000\n",
              "mean        0.040494       0.115256  ...       7.672566       2.967458\n",
              "std         0.197116       0.319332  ...       5.154312       0.676032\n",
              "min         0.000000       0.000000  ...       0.000000       1.000000\n",
              "25%         0.000000       0.000000  ...       4.000000       3.000000\n",
              "50%         0.000000       0.000000  ...       7.000000       3.000000\n",
              "75%         0.000000       0.000000  ...      10.000000       3.000000\n",
              "max         1.000000       1.000000  ...      30.000000       4.000000\n",
              "\n",
              "[8 rows x 16 columns]"
            ]
          },
          "metadata": {
            "tags": []
          },
          "execution_count": 19
        }
      ]
    },
    {
      "cell_type": "code",
      "metadata": {
        "id": "MglC7AxE-5ZR",
        "colab_type": "code",
        "colab": {
          "base_uri": "https://localhost:8080/",
          "height": 82
        },
        "outputId": "14941644-cb5c-4c43-b59c-7d25c2666203"
      },
      "source": [
        "model1.coef_"
      ],
      "execution_count": null,
      "outputs": [
        {
          "output_type": "execute_result",
          "data": {
            "text/plain": [
              "array([[-0.74025928, -0.02861992, -0.03581564,  0.46292578, -0.35394426,\n",
              "        -1.48917067, -0.4596037 ,  0.46876942, -0.35258451, -0.03900395,\n",
              "        -0.14206332, -0.37961209, -0.56674107,  0.00521273,  0.0113929 ,\n",
              "        -0.53440934, -0.36689694, -0.59009156]])"
            ]
          },
          "metadata": {
            "tags": []
          },
          "execution_count": 105
        }
      ]
    },
    {
      "cell_type": "markdown",
      "metadata": {
        "id": "ikY6lHSn8HGr",
        "colab_type": "text"
      },
      "source": [
        "## Check inputs"
      ]
    },
    {
      "cell_type": "code",
      "metadata": {
        "id": "9PjKVjFa8_-P",
        "colab_type": "code",
        "colab": {}
      },
      "source": [
        "import seaborn as sns\n",
        "import matplotlib.pyplot as plt"
      ],
      "execution_count": null,
      "outputs": []
    },
    {
      "cell_type": "code",
      "metadata": {
        "id": "dDwZkDG49Ju5",
        "colab_type": "code",
        "colab": {
          "base_uri": "https://localhost:8080/",
          "height": 358
        },
        "outputId": "2a1c4bc2-a3a7-4324-966f-233f4d66308c"
      },
      "source": [
        "df1 = first_df\n",
        "df1.isna().sum()"
      ],
      "execution_count": null,
      "outputs": [
        {
          "output_type": "execute_result",
          "data": {
            "text/plain": [
              "name                                0\n",
              "funded_flag                         0\n",
              "first_coapp                         0\n",
              "first_loan_use                      0\n",
              "employment_status__c                0\n",
              "first_amount_of_loan_requested      0\n",
              "first_FICO                        216\n",
              "First_LTI                           0\n",
              "first_bcc0300__c                    0\n",
              "first_ndi_ratio__c                798\n",
              "utm_source__c                       0\n",
              "co_app                              0\n",
              "loan_use                            0\n",
              "employment                          0\n",
              "loan_amount                         0\n",
              "mkt_chan                            0\n",
              "ficox                               0\n",
              "lti                                 0\n",
              "bcc0300                             0\n",
              "ndi                                 0\n",
              "dtype: int64"
            ]
          },
          "metadata": {
            "tags": []
          },
          "execution_count": 20
        }
      ]
    },
    {
      "cell_type": "markdown",
      "metadata": {
        "id": "QHDXxQ539xmH",
        "colab_type": "text"
      },
      "source": [
        "### Funded"
      ]
    },
    {
      "cell_type": "code",
      "metadata": {
        "id": "jidwl0v690qb",
        "colab_type": "code",
        "colab": {
          "base_uri": "https://localhost:8080/",
          "height": 66
        },
        "outputId": "be3f3c30-78c5-46c8-a43b-664c2befa4d1"
      },
      "source": [
        "# percent of data that has funded or not\n",
        "df1['funded_flag'].value_counts()/len(df1)"
      ],
      "execution_count": null,
      "outputs": [
        {
          "output_type": "execute_result",
          "data": {
            "text/plain": [
              "0    0.959506\n",
              "1    0.040494\n",
              "Name: funded_flag, dtype: float64"
            ]
          },
          "metadata": {
            "tags": []
          },
          "execution_count": 25
        }
      ]
    },
    {
      "cell_type": "markdown",
      "metadata": {
        "id": "W-uQjnek8Jiq",
        "colab_type": "text"
      },
      "source": [
        "### Co App"
      ]
    },
    {
      "cell_type": "code",
      "metadata": {
        "id": "sKQedw9g8DNp",
        "colab_type": "code",
        "colab": {
          "base_uri": "https://localhost:8080/",
          "height": 281
        },
        "outputId": "a0e76d95-5cd1-4dd5-fe6a-f40c9c2e08b1"
      },
      "source": [
        "# Cut the window in 2 parts\n",
        "f, (ax_hist, ax_box) = plt.subplots(2, sharex=True, gridspec_kw={\"height_ratios\": (.85, .25)})\n",
        "\n",
        "# Add a graph in each part\n",
        "sns.boxplot(df1['co_app'], ax=ax_box)\n",
        "sns.distplot(df1['co_app'], ax=ax_hist)\n",
        "\n",
        "# Remove x axis name for the boxplot\n",
        "ax_box.set(xlabel='')"
      ],
      "execution_count": null,
      "outputs": [
        {
          "output_type": "execute_result",
          "data": {
            "text/plain": [
              "[Text(0.5, 0, '')]"
            ]
          },
          "metadata": {
            "tags": []
          },
          "execution_count": 23
        },
        {
          "output_type": "display_data",
          "data": {
            "image/png": "[encoded data removed]",
            "text/plain": [
              "<Figure size 432x288 with 2 Axes>"
            ]
          },
          "metadata": {
            "tags": [],
            "needs_background": "light"
          }
        }
      ]
    },
    {
      "cell_type": "code",
      "metadata": {
        "id": "c1igxuYEBv3P",
        "colab_type": "code",
        "colab": {
          "base_uri": "https://localhost:8080/",
          "height": 66
        },
        "outputId": "286f438b-6168-4006-a33c-f34c3afb34c5"
      },
      "source": [
        "# percent of data that has funded or not\n",
        "df1['co_app'].value_counts()/len(df1)"
      ],
      "execution_count": null,
      "outputs": [
        {
          "output_type": "execute_result",
          "data": {
            "text/plain": [
              "0    0.884744\n",
              "1    0.115256\n",
              "Name: co_app, dtype: float64"
            ]
          },
          "metadata": {
            "tags": []
          },
          "execution_count": 26
        }
      ]
    },
    {
      "cell_type": "markdown",
      "metadata": {
        "id": "gyv96K5eBx9A",
        "colab_type": "text"
      },
      "source": [
        "### Marketing Channel"
      ]
    },
    {
      "cell_type": "code",
      "metadata": {
        "id": "a2nrbEUrCQUq",
        "colab_type": "code",
        "colab": {
          "base_uri": "https://localhost:8080/",
          "height": 33
        },
        "outputId": "1c74f339-929c-473e-ce2d-9f5e73c11f41"
      },
      "source": [
        "np.exp(5)"
      ],
      "execution_count": null,
      "outputs": [
        {
          "output_type": "execute_result",
          "data": {
            "text/plain": [
              "148.4131591025766"
            ]
          },
          "metadata": {
            "tags": []
          },
          "execution_count": 30
        }
      ]
    },
    {
      "cell_type": "code",
      "metadata": {
        "id": "Wzd1OTWECBr9",
        "colab_type": "code",
        "colab": {
          "base_uri": "https://localhost:8080/",
          "height": 281
        },
        "outputId": "b49484dd-c2cd-49c2-b5e7-74af796e7b70"
      },
      "source": [
        "# Cut the window in 2 parts\n",
        "f, (ax_hist, ax_box) = plt.subplots(2, sharex=True, gridspec_kw={\"height_ratios\": (.85, .25)})\n",
        "\n",
        "# Add a graph in each part\n",
        "sns.boxplot(df1['mkt_chan'], ax=ax_box)\n",
        "sns.distplot(df1['mkt_chan'], ax=ax_hist)\n",
        "\n",
        "# Remove x axis name for the boxplot\n",
        "ax_box.set(xlabel='')"
      ],
      "execution_count": null,
      "outputs": [
        {
          "output_type": "execute_result",
          "data": {
            "text/plain": [
              "[Text(0.5, 0, '')]"
            ]
          },
          "metadata": {
            "tags": []
          },
          "execution_count": 27
        },
        {
          "output_type": "display_data",
          "data": {
            "image/png": "[encoded data removed]",
            "text/plain": [
              "<Figure size 432x288 with 2 Axes>"
            ]
          },
          "metadata": {
            "tags": [],
            "needs_background": "light"
          }
        }
      ]
    },
    {
      "cell_type": "code",
      "metadata": {
        "id": "glMt2XmADMcr",
        "colab_type": "code",
        "colab": {
          "base_uri": "https://localhost:8080/",
          "height": 131
        },
        "outputId": "bddf6589-2156-4302-a4be-f69f421c2f81"
      },
      "source": [
        "# percent of data that has funded or not\n",
        "df1['mkt_chan'].value_counts()/len(df1)"
      ],
      "execution_count": null,
      "outputs": [
        {
          "output_type": "execute_result",
          "data": {
            "text/plain": [
              "148.413159    0.589514\n",
              "7.389056      0.163307\n",
              "20.085537     0.120124\n",
              "2.718282      0.083206\n",
              "403.428793    0.024349\n",
              "54.598150     0.019500\n",
              "Name: mkt_chan, dtype: float64"
            ]
          },
          "metadata": {
            "tags": []
          },
          "execution_count": 32
        }
      ]
    },
    {
      "cell_type": "markdown",
      "metadata": {
        "id": "k0CblSbNC_1K",
        "colab_type": "text"
      },
      "source": [
        "### FICO Sig"
      ]
    },
    {
      "cell_type": "code",
      "metadata": {
        "id": "bH2rGqNoDGYR",
        "colab_type": "code",
        "colab": {
          "base_uri": "https://localhost:8080/",
          "height": 281
        },
        "outputId": "653e6275-fbdb-4ed9-c933-19c24906cd68"
      },
      "source": [
        "# Cut the window in 2 parts\n",
        "f, (ax_hist, ax_box) = plt.subplots(2, sharex=True, gridspec_kw={\"height_ratios\": (.85, .25)})\n",
        "\n",
        "# Add a graph in each part\n",
        "sns.boxplot(df1['ficox'], ax=ax_box)\n",
        "sns.distplot(df1['ficox'], ax=ax_hist)\n",
        "\n",
        "# Remove x axis name for the boxplot\n",
        "ax_box.set(xlabel='')"
      ],
      "execution_count": null,
      "outputs": [
        {
          "output_type": "execute_result",
          "data": {
            "text/plain": [
              "[Text(0.5, 0, '')]"
            ]
          },
          "metadata": {
            "tags": []
          },
          "execution_count": 31
        },
        {
          "output_type": "display_data",
          "data": {
            "image/png": "[encoded data removed]",
            "text/plain": [
              "<Figure size 432x288 with 2 Axes>"
            ]
          },
          "metadata": {
            "tags": [],
            "needs_background": "light"
          }
        }
      ]
    },
    {
      "cell_type": "code",
      "metadata": {
        "id": "_AusltxfDUCP",
        "colab_type": "code",
        "colab": {
          "base_uri": "https://localhost:8080/",
          "height": 440
        },
        "outputId": "d274b420-9285-439d-d76a-85d99a0fd216"
      },
      "source": [
        "# percent of data that has funded or not\n",
        "df1['ficox'].value_counts()/len(df1)"
      ],
      "execution_count": null,
      "outputs": [
        {
          "output_type": "execute_result",
          "data": {
            "text/plain": [
              "0.500347    0.077914\n",
              "0.500357    0.077846\n",
              "0.500352    0.077779\n",
              "0.500362    0.073827\n",
              "0.500342    0.071436\n",
              "0.500368    0.066944\n",
              "0.500338    0.063792\n",
              "0.500373    0.058481\n",
              "0.500333    0.057324\n",
              "0.500329    0.051107\n",
              "0.500379    0.047319\n",
              "0.500325    0.044736\n",
              "0.500321    0.037882\n",
              "0.500385    0.036012\n",
              "0.500316    0.030508\n",
              "0.500391    0.024599\n",
              "0.500312    0.024252\n",
              "0.500309    0.018449\n",
              "0.500397    0.016907\n",
              "0.500305    0.012811\n",
              "0.500403    0.012541\n",
              "0.500301    0.007837\n",
              "0.500278    0.004174\n",
              "0.500298    0.003865\n",
              "0.500294    0.001658\n",
              "Name: ficox, dtype: float64"
            ]
          },
          "metadata": {
            "tags": []
          },
          "execution_count": 33
        }
      ]
    },
    {
      "cell_type": "markdown",
      "metadata": {
        "id": "kH9X4JUOKTxh",
        "colab_type": "text"
      },
      "source": [
        "### Employment"
      ]
    },
    {
      "cell_type": "code",
      "metadata": {
        "id": "UPhzwKG4KWLB",
        "colab_type": "code",
        "colab": {
          "base_uri": "https://localhost:8080/",
          "height": 82
        },
        "outputId": "86dea2b6-dfff-4b9d-ffb3-aa3eda6e216e"
      },
      "source": [
        "# percent of data that has funded or not\n",
        "df1['employment'].value_counts()/len(df1)"
      ],
      "execution_count": null,
      "outputs": [
        {
          "output_type": "execute_result",
          "data": {
            "text/plain": [
              "2    0.835536\n",
              "1    0.123546\n",
              "3    0.040918\n",
              "Name: employment, dtype: float64"
            ]
          },
          "metadata": {
            "tags": []
          },
          "execution_count": 34
        }
      ]
    },
    {
      "cell_type": "markdown",
      "metadata": {
        "id": "vU7sq7mrQfVH",
        "colab_type": "text"
      },
      "source": [
        "### LTIX"
      ]
    },
    {
      "cell_type": "code",
      "metadata": {
        "id": "jx9rG_Q1Qm3t",
        "colab_type": "code",
        "colab": {
          "base_uri": "https://localhost:8080/",
          "height": 281
        },
        "outputId": "40ebc17d-8362-4075-eee1-1aa37245ea5e"
      },
      "source": [
        "# Cut the window in 2 parts\n",
        "f, (ax_hist, ax_box) = plt.subplots(2, sharex=True, gridspec_kw={\"height_ratios\": (.85, .25)})\n",
        "\n",
        "# Add a graph in each part\n",
        "sns.boxplot(df1['lti'], ax=ax_box)\n",
        "sns.distplot(df1['lti'], ax=ax_hist)\n",
        "\n",
        "# Remove x axis name for the boxplot\n",
        "ax_box.set(xlabel='')"
      ],
      "execution_count": null,
      "outputs": [
        {
          "output_type": "execute_result",
          "data": {
            "text/plain": [
              "[Text(0.5, 0, '')]"
            ]
          },
          "metadata": {
            "tags": []
          },
          "execution_count": 36
        },
        {
          "output_type": "display_data",
          "data": {
            "image/png": "[encoded data removed]",
            "text/plain": [
              "<Figure size 432x288 with 2 Axes>"
            ]
          },
          "metadata": {
            "tags": [],
            "needs_background": "light"
          }
        }
      ]
    },
    {
      "cell_type": "code",
      "metadata": {
        "id": "JGqpeYskQg-3",
        "colab_type": "code",
        "colab": {
          "base_uri": "https://localhost:8080/",
          "height": 163
        },
        "outputId": "f73b867d-0a26-4bf3-e705-fbfe8412a32e"
      },
      "source": [
        "# percent of data that has funded or not\n",
        "df1['lti'].value_counts()/len(df1)"
      ],
      "execution_count": null,
      "outputs": [
        {
          "output_type": "execute_result",
          "data": {
            "text/plain": [
              "5.0     0.236845\n",
              "15.0    0.191859\n",
              "20.0    0.188312\n",
              "25.0    0.151480\n",
              "30.0    0.085847\n",
              "45.0    0.062925\n",
              "35.0    0.045863\n",
              "40.0    0.036870\n",
              "Name: lti, dtype: float64"
            ]
          },
          "metadata": {
            "tags": []
          },
          "execution_count": 35
        }
      ]
    },
    {
      "cell_type": "markdown",
      "metadata": {
        "id": "Oa2j7MJeRUvT",
        "colab_type": "text"
      },
      "source": [
        "### BCC"
      ]
    },
    {
      "cell_type": "code",
      "metadata": {
        "id": "r__mCGOaRWz3",
        "colab_type": "code",
        "colab": {
          "base_uri": "https://localhost:8080/",
          "height": 281
        },
        "outputId": "fcaf711f-e6b5-4187-efcb-8869049f162c"
      },
      "source": [
        "# Cut the window in 2 parts\n",
        "f, (ax_hist, ax_box) = plt.subplots(2, sharex=True, gridspec_kw={\"height_ratios\": (.85, .25)})\n",
        "\n",
        "# Add a graph in each part\n",
        "sns.boxplot(df1['bcc0300'], ax=ax_box)\n",
        "sns.distplot(df1['bcc0300'], ax=ax_hist)\n",
        "\n",
        "# Remove x axis name for the boxplot\n",
        "ax_box.set(xlabel='')"
      ],
      "execution_count": null,
      "outputs": [
        {
          "output_type": "execute_result",
          "data": {
            "text/plain": [
              "[Text(0.5, 0, '')]"
            ]
          },
          "metadata": {
            "tags": []
          },
          "execution_count": 37
        },
        {
          "output_type": "display_data",
          "data": {
            "image/png": "[encoded data removed]",
            "text/plain": [
              "<Figure size 432x288 with 2 Axes>"
            ]
          },
          "metadata": {
            "tags": [],
            "needs_background": "light"
          }
        }
      ]
    },
    {
      "cell_type": "markdown",
      "metadata": {
        "id": "HVa92cL3R-Hm",
        "colab_type": "text"
      },
      "source": [
        "### Loan Cat"
      ]
    },
    {
      "cell_type": "code",
      "metadata": {
        "id": "vps4ebrySAVD",
        "colab_type": "code",
        "colab": {
          "base_uri": "https://localhost:8080/",
          "height": 282
        },
        "outputId": "4781f249-caa0-404b-abd9-f39656f87945"
      },
      "source": [
        "# Cut the window in 2 parts\n",
        "f, (ax_hist, ax_box) = plt.subplots(2, sharex=True, gridspec_kw={\"height_ratios\": (.85, .25)})\n",
        "\n",
        "# Add a graph in each part\n",
        "sns.boxplot(df1['loan_amount'], ax=ax_box)\n",
        "sns.distplot(df1['loan_amount'], ax=ax_hist)\n",
        "\n",
        "# Remove x axis name for the boxplot\n",
        "ax_box.set(xlabel='')"
      ],
      "execution_count": null,
      "outputs": [
        {
          "output_type": "execute_result",
          "data": {
            "text/plain": [
              "[Text(0.5, 0, '')]"
            ]
          },
          "metadata": {
            "tags": []
          },
          "execution_count": 38
        },
        {
          "output_type": "display_data",
          "data": {
            "image/png": "[encoded data removed]",
            "text/plain": [
              "<Figure size 432x288 with 2 Axes>"
            ]
          },
          "metadata": {
            "tags": [],
            "needs_background": "light"
          }
        }
      ]
    },
    {
      "cell_type": "code",
      "metadata": {
        "id": "rXVvEC4vSQ4a",
        "colab_type": "code",
        "colab": {
          "base_uri": "https://localhost:8080/",
          "height": 115
        },
        "outputId": "9917e53f-1469-48ff-f63d-5517f761ca68"
      },
      "source": [
        "# percent of data that has funded or not\n",
        "df1['loan_amount'].value_counts()/len(df1)"
      ],
      "execution_count": null,
      "outputs": [
        {
          "output_type": "execute_result",
          "data": {
            "text/plain": [
              "4    0.468648\n",
              "3    0.229134\n",
              "2    0.179839\n",
              "5    0.113849\n",
              "1    0.008531\n",
              "Name: loan_amount, dtype: float64"
            ]
          },
          "metadata": {
            "tags": []
          },
          "execution_count": 39
        }
      ]
    },
    {
      "cell_type": "markdown",
      "metadata": {
        "id": "IjR7vCTPS3BW",
        "colab_type": "text"
      },
      "source": [
        "### Loan Use"
      ]
    },
    {
      "cell_type": "code",
      "metadata": {
        "id": "ewSRcQSMS5Oh",
        "colab_type": "code",
        "colab": {
          "base_uri": "https://localhost:8080/",
          "height": 66
        },
        "outputId": "16027e6f-3e14-4a63-b7c1-2b20056c03ea"
      },
      "source": [
        "# percent of data that has funded or not\n",
        "df1['loan_use'].value_counts()/len(df1)"
      ],
      "execution_count": null,
      "outputs": [
        {
          "output_type": "execute_result",
          "data": {
            "text/plain": [
              "0    0.855855\n",
              "1    0.144145\n",
              "Name: loan_use, dtype: float64"
            ]
          },
          "metadata": {
            "tags": []
          },
          "execution_count": 40
        }
      ]
    },
    {
      "cell_type": "markdown",
      "metadata": {
        "id": "eEZOLHLnTTzJ",
        "colab_type": "text"
      },
      "source": [
        "### NDI Cat"
      ]
    },
    {
      "cell_type": "code",
      "metadata": {
        "id": "SYxjlyGUTV4_",
        "colab_type": "code",
        "colab": {
          "base_uri": "https://localhost:8080/",
          "height": 98
        },
        "outputId": "eafb05d0-8d12-4946-eca3-572ec692fb76"
      },
      "source": [
        "# percent of data that has funded or not\n",
        "df1['ndi'].value_counts()/len(df1)"
      ],
      "execution_count": null,
      "outputs": [
        {
          "output_type": "execute_result",
          "data": {
            "text/plain": [
              "3    0.622577\n",
              "4    0.185882\n",
              "2    0.164657\n",
              "1    0.026884\n",
              "Name: ndi, dtype: float64"
            ]
          },
          "metadata": {
            "tags": []
          },
          "execution_count": 41
        }
      ]
    },
    {
      "cell_type": "markdown",
      "metadata": {
        "id": "Sq1Bo7zuT2tw",
        "colab_type": "text"
      },
      "source": [
        "# TRAIN MODEL"
      ]
    },
    {
      "cell_type": "markdown",
      "metadata": {
        "id": "ZLgCLcA4YiPX",
        "colab_type": "text"
      },
      "source": [
        "## Dummy Var"
      ]
    },
    {
      "cell_type": "code",
      "metadata": {
        "id": "pqs-qYdjV3Cu",
        "colab_type": "code",
        "colab": {
          "base_uri": "https://localhost:8080/",
          "height": 115
        },
        "outputId": "5ede1e53-6a62-4a33-b76b-e1e2c8b91c76"
      },
      "source": [
        "training.columns"
      ],
      "execution_count": null,
      "outputs": [
        {
          "output_type": "execute_result",
          "data": {
            "text/plain": [
              "Index(['name', 'funded_flag', 'first_coapp', 'first_loan_use',\n",
              "       'employment_status__c', 'first_amount_of_loan_requested', 'first_FICO',\n",
              "       'First_LTI', 'first_bcc0300__c', 'first_ndi_ratio__c', 'utm_source__c',\n",
              "       'co_app', 'loan_use', 'employment', 'loan_amount', 'mkt_chan', 'ficox',\n",
              "       'lti', 'bcc0300', 'ndi'],\n",
              "      dtype='object')"
            ]
          },
          "metadata": {
            "tags": []
          },
          "execution_count": 42
        }
      ]
    },
    {
      "cell_type": "code",
      "metadata": {
        "id": "TXStFE_sVFw3",
        "colab_type": "code",
        "colab": {
          "base_uri": "https://localhost:8080/",
          "height": 191
        },
        "outputId": "e74c3cbb-76a2-40bd-a43f-d55f6f037e97"
      },
      "source": [
        "things = ['funded_flag', 'co_app', 'loan_use', 'mkt_chan', 'ficox', 'employment', 'lti', 'bcc0300', 'loan_amount', 'ndi']\n",
        "mod_lead = training[things]\n",
        "mod_lead.head()"
      ],
      "execution_count": null,
      "outputs": [
        {
          "output_type": "execute_result",
          "data": {
            "text/html": [
              "<div>\n",
              "<style scoped>\n",
              "    .dataframe tbody tr th:only-of-type {\n",
              "        vertical-align: middle;\n",
              "    }\n",
              "\n",
              "    .dataframe tbody tr th {\n",
              "        vertical-align: top;\n",
              "    }\n",
              "\n",
              "    .dataframe thead th {\n",
              "        text-align: right;\n",
              "    }\n",
              "</style>\n",
              "<table border=\"1\" class=\"dataframe\">\n",
              "  <thead>\n",
              "    <tr style=\"text-align: right;\">\n",
              "      <th></th>\n",
              "      <th>funded_flag</th>\n",
              "      <th>co_app</th>\n",
              "      <th>loan_use</th>\n",
              "      <th>mkt_chan</th>\n",
              "      <th>ficox</th>\n",
              "      <th>employment</th>\n",
              "      <th>lti</th>\n",
              "      <th>bcc0300</th>\n",
              "      <th>loan_amount</th>\n",
              "      <th>ndi</th>\n",
              "    </tr>\n",
              "  </thead>\n",
              "  <tbody>\n",
              "    <tr>\n",
              "      <th>0</th>\n",
              "      <td>0</td>\n",
              "      <td>1</td>\n",
              "      <td>0</td>\n",
              "      <td>148.413159</td>\n",
              "      <td>0.500362</td>\n",
              "      <td>1</td>\n",
              "      <td>20.0</td>\n",
              "      <td>7</td>\n",
              "      <td>4</td>\n",
              "      <td>4</td>\n",
              "    </tr>\n",
              "    <tr>\n",
              "      <th>1</th>\n",
              "      <td>0</td>\n",
              "      <td>0</td>\n",
              "      <td>0</td>\n",
              "      <td>148.413159</td>\n",
              "      <td>0.500368</td>\n",
              "      <td>2</td>\n",
              "      <td>20.0</td>\n",
              "      <td>5</td>\n",
              "      <td>3</td>\n",
              "      <td>2</td>\n",
              "    </tr>\n",
              "    <tr>\n",
              "      <th>2</th>\n",
              "      <td>0</td>\n",
              "      <td>0</td>\n",
              "      <td>1</td>\n",
              "      <td>148.413159</td>\n",
              "      <td>0.500342</td>\n",
              "      <td>2</td>\n",
              "      <td>15.0</td>\n",
              "      <td>3</td>\n",
              "      <td>2</td>\n",
              "      <td>3</td>\n",
              "    </tr>\n",
              "    <tr>\n",
              "      <th>3</th>\n",
              "      <td>0</td>\n",
              "      <td>0</td>\n",
              "      <td>0</td>\n",
              "      <td>148.413159</td>\n",
              "      <td>0.500373</td>\n",
              "      <td>2</td>\n",
              "      <td>5.0</td>\n",
              "      <td>18</td>\n",
              "      <td>2</td>\n",
              "      <td>3</td>\n",
              "    </tr>\n",
              "    <tr>\n",
              "      <th>4</th>\n",
              "      <td>0</td>\n",
              "      <td>0</td>\n",
              "      <td>0</td>\n",
              "      <td>7.389056</td>\n",
              "      <td>0.500368</td>\n",
              "      <td>2</td>\n",
              "      <td>35.0</td>\n",
              "      <td>4</td>\n",
              "      <td>3</td>\n",
              "      <td>2</td>\n",
              "    </tr>\n",
              "  </tbody>\n",
              "</table>\n",
              "</div>"
            ],
            "text/plain": [
              "   funded_flag  co_app  loan_use    mkt_chan  ...   lti  bcc0300  loan_amount  ndi\n",
              "0            0       1         0  148.413159  ...  20.0        7            4    4\n",
              "1            0       0         0  148.413159  ...  20.0        5            3    2\n",
              "2            0       0         1  148.413159  ...  15.0        3            2    3\n",
              "3            0       0         0  148.413159  ...   5.0       18            2    3\n",
              "4            0       0         0    7.389056  ...  35.0        4            3    2\n",
              "\n",
              "[5 rows x 10 columns]"
            ]
          },
          "metadata": {
            "tags": []
          },
          "execution_count": 22
        }
      ]
    },
    {
      "cell_type": "code",
      "metadata": {
        "id": "FQGfUqaP5qwx",
        "colab_type": "code",
        "colab": {
          "base_uri": "https://localhost:8080/",
          "height": 82
        },
        "outputId": "febca18d-6f04-4ea7-a764-c047b68e84eb"
      },
      "source": [
        "# create dummies\n",
        "cat_vars=['employment','loan_amount', 'ndi']\n",
        "for var in cat_vars:\n",
        "    cat_list = pd.get_dummies(mod_lead[var], prefix=var)\n",
        "    temp=mod_lead.join(cat_list)\n",
        "    mod_lead=temp\n",
        "data_vars=mod_lead.columns.values.tolist()\n",
        "to_keep=[i for i in data_vars if i not in cat_vars]\n",
        "mod_lead=mod_lead[to_keep]\n",
        "print(mod_lead.columns.values)\n",
        "\n",
        "# re-index to have same columns as the model\n",
        "mod_lead = mod_lead.reindex(columns = ['funded_flag', 'ficox', 'lti', 'bcc0300', 'co_app',\n",
        "                               'loan_use', 'employment_1',\n",
        "                               'employment_2', 'employment_3', 'loan_amount_1',\n",
        "                               'loan_amount_2', 'loan_amount_3', 'loan_amount_4', \n",
        "                               'loan_amount_5', 'mkt_chan', 'ndi_1', 'ndi_2',\n",
        "                               'ndi_3', 'ndi_4',], fill_value=0)"
      ],
      "execution_count": null,
      "outputs": [
        {
          "output_type": "stream",
          "text": [
            "['funded_flag' 'co_app' 'loan_use' 'mkt_chan' 'ficox' 'lti' 'bcc0300'\n",
            " 'employment_1' 'employment_2' 'employment_3' 'loan_amount_1'\n",
            " 'loan_amount_2' 'loan_amount_3' 'loan_amount_4' 'loan_amount_5' 'ndi_1'\n",
            " 'ndi_2' 'ndi_3' 'ndi_4']\n"
          ],
          "name": "stdout"
        }
      ]
    },
    {
      "cell_type": "code",
      "metadata": {
        "id": "lKfOPvj5XWvf",
        "colab_type": "code",
        "colab": {
          "base_uri": "https://localhost:8080/",
          "height": 297
        },
        "outputId": "673e7a50-e2ae-4ff7-ceb9-f181e7a1f626"
      },
      "source": [
        "mod_lead.describe()"
      ],
      "execution_count": null,
      "outputs": [
        {
          "output_type": "execute_result",
          "data": {
            "text/html": [
              "<div>\n",
              "<style scoped>\n",
              "    .dataframe tbody tr th:only-of-type {\n",
              "        vertical-align: middle;\n",
              "    }\n",
              "\n",
              "    .dataframe tbody tr th {\n",
              "        vertical-align: top;\n",
              "    }\n",
              "\n",
              "    .dataframe thead th {\n",
              "        text-align: right;\n",
              "    }\n",
              "</style>\n",
              "<table border=\"1\" class=\"dataframe\">\n",
              "  <thead>\n",
              "    <tr style=\"text-align: right;\">\n",
              "      <th></th>\n",
              "      <th>funded_flag</th>\n",
              "      <th>ficox</th>\n",
              "      <th>lti</th>\n",
              "      <th>bcc0300</th>\n",
              "      <th>co_app</th>\n",
              "      <th>loan_use</th>\n",
              "      <th>employment_1</th>\n",
              "      <th>employment_2</th>\n",
              "      <th>employment_3</th>\n",
              "      <th>loan_amount_1</th>\n",
              "      <th>loan_amount_2</th>\n",
              "      <th>loan_amount_3</th>\n",
              "      <th>loan_amount_4</th>\n",
              "      <th>loan_amount_5</th>\n",
              "      <th>mkt_chan</th>\n",
              "      <th>ndi_1</th>\n",
              "      <th>ndi_2</th>\n",
              "      <th>ndi_3</th>\n",
              "      <th>ndi_4</th>\n",
              "    </tr>\n",
              "  </thead>\n",
              "  <tbody>\n",
              "    <tr>\n",
              "      <th>count</th>\n",
              "      <td>103743.000000</td>\n",
              "      <td>103743.000000</td>\n",
              "      <td>103743.000000</td>\n",
              "      <td>103743.000000</td>\n",
              "      <td>103743.000000</td>\n",
              "      <td>103743.000000</td>\n",
              "      <td>103743.000000</td>\n",
              "      <td>103743.000000</td>\n",
              "      <td>103743.000000</td>\n",
              "      <td>103743.000000</td>\n",
              "      <td>103743.000000</td>\n",
              "      <td>103743.000000</td>\n",
              "      <td>103743.000000</td>\n",
              "      <td>103743.000000</td>\n",
              "      <td>103743.000000</td>\n",
              "      <td>103743.000000</td>\n",
              "      <td>103743.000000</td>\n",
              "      <td>103743.000000</td>\n",
              "      <td>103743.000000</td>\n",
              "    </tr>\n",
              "    <tr>\n",
              "      <th>mean</th>\n",
              "      <td>0.040494</td>\n",
              "      <td>0.500349</td>\n",
              "      <td>20.102368</td>\n",
              "      <td>7.672566</td>\n",
              "      <td>0.115256</td>\n",
              "      <td>0.144145</td>\n",
              "      <td>0.123546</td>\n",
              "      <td>0.835536</td>\n",
              "      <td>0.040918</td>\n",
              "      <td>0.008531</td>\n",
              "      <td>0.179839</td>\n",
              "      <td>0.229134</td>\n",
              "      <td>0.468648</td>\n",
              "      <td>0.113849</td>\n",
              "      <td>102.224928</td>\n",
              "      <td>0.026884</td>\n",
              "      <td>0.164657</td>\n",
              "      <td>0.622577</td>\n",
              "      <td>0.185882</td>\n",
              "    </tr>\n",
              "    <tr>\n",
              "      <th>std</th>\n",
              "      <td>0.197116</td>\n",
              "      <td>0.000024</td>\n",
              "      <td>11.612246</td>\n",
              "      <td>5.154312</td>\n",
              "      <td>0.319332</td>\n",
              "      <td>0.351238</td>\n",
              "      <td>0.329064</td>\n",
              "      <td>0.370698</td>\n",
              "      <td>0.198102</td>\n",
              "      <td>0.091967</td>\n",
              "      <td>0.384055</td>\n",
              "      <td>0.420277</td>\n",
              "      <td>0.499019</td>\n",
              "      <td>0.317629</td>\n",
              "      <td>81.326662</td>\n",
              "      <td>0.161744</td>\n",
              "      <td>0.370872</td>\n",
              "      <td>0.484744</td>\n",
              "      <td>0.389014</td>\n",
              "    </tr>\n",
              "    <tr>\n",
              "      <th>min</th>\n",
              "      <td>0.000000</td>\n",
              "      <td>0.500278</td>\n",
              "      <td>5.000000</td>\n",
              "      <td>0.000000</td>\n",
              "      <td>0.000000</td>\n",
              "      <td>0.000000</td>\n",
              "      <td>0.000000</td>\n",
              "      <td>0.000000</td>\n",
              "      <td>0.000000</td>\n",
              "      <td>0.000000</td>\n",
              "      <td>0.000000</td>\n",
              "      <td>0.000000</td>\n",
              "      <td>0.000000</td>\n",
              "      <td>0.000000</td>\n",
              "      <td>2.718282</td>\n",
              "      <td>0.000000</td>\n",
              "      <td>0.000000</td>\n",
              "      <td>0.000000</td>\n",
              "      <td>0.000000</td>\n",
              "    </tr>\n",
              "    <tr>\n",
              "      <th>25%</th>\n",
              "      <td>0.000000</td>\n",
              "      <td>0.500333</td>\n",
              "      <td>15.000000</td>\n",
              "      <td>4.000000</td>\n",
              "      <td>0.000000</td>\n",
              "      <td>0.000000</td>\n",
              "      <td>0.000000</td>\n",
              "      <td>1.000000</td>\n",
              "      <td>0.000000</td>\n",
              "      <td>0.000000</td>\n",
              "      <td>0.000000</td>\n",
              "      <td>0.000000</td>\n",
              "      <td>0.000000</td>\n",
              "      <td>0.000000</td>\n",
              "      <td>20.085537</td>\n",
              "      <td>0.000000</td>\n",
              "      <td>0.000000</td>\n",
              "      <td>0.000000</td>\n",
              "      <td>0.000000</td>\n",
              "    </tr>\n",
              "    <tr>\n",
              "      <th>50%</th>\n",
              "      <td>0.000000</td>\n",
              "      <td>0.500347</td>\n",
              "      <td>20.000000</td>\n",
              "      <td>7.000000</td>\n",
              "      <td>0.000000</td>\n",
              "      <td>0.000000</td>\n",
              "      <td>0.000000</td>\n",
              "      <td>1.000000</td>\n",
              "      <td>0.000000</td>\n",
              "      <td>0.000000</td>\n",
              "      <td>0.000000</td>\n",
              "      <td>0.000000</td>\n",
              "      <td>0.000000</td>\n",
              "      <td>0.000000</td>\n",
              "      <td>148.413159</td>\n",
              "      <td>0.000000</td>\n",
              "      <td>0.000000</td>\n",
              "      <td>1.000000</td>\n",
              "      <td>0.000000</td>\n",
              "    </tr>\n",
              "    <tr>\n",
              "      <th>75%</th>\n",
              "      <td>0.000000</td>\n",
              "      <td>0.500368</td>\n",
              "      <td>25.000000</td>\n",
              "      <td>10.000000</td>\n",
              "      <td>0.000000</td>\n",
              "      <td>0.000000</td>\n",
              "      <td>0.000000</td>\n",
              "      <td>1.000000</td>\n",
              "      <td>0.000000</td>\n",
              "      <td>0.000000</td>\n",
              "      <td>0.000000</td>\n",
              "      <td>0.000000</td>\n",
              "      <td>1.000000</td>\n",
              "      <td>0.000000</td>\n",
              "      <td>148.413159</td>\n",
              "      <td>0.000000</td>\n",
              "      <td>0.000000</td>\n",
              "      <td>1.000000</td>\n",
              "      <td>0.000000</td>\n",
              "    </tr>\n",
              "    <tr>\n",
              "      <th>max</th>\n",
              "      <td>1.000000</td>\n",
              "      <td>0.500403</td>\n",
              "      <td>45.000000</td>\n",
              "      <td>30.000000</td>\n",
              "      <td>1.000000</td>\n",
              "      <td>1.000000</td>\n",
              "      <td>1.000000</td>\n",
              "      <td>1.000000</td>\n",
              "      <td>1.000000</td>\n",
              "      <td>1.000000</td>\n",
              "      <td>1.000000</td>\n",
              "      <td>1.000000</td>\n",
              "      <td>1.000000</td>\n",
              "      <td>1.000000</td>\n",
              "      <td>403.428793</td>\n",
              "      <td>1.000000</td>\n",
              "      <td>1.000000</td>\n",
              "      <td>1.000000</td>\n",
              "      <td>1.000000</td>\n",
              "    </tr>\n",
              "  </tbody>\n",
              "</table>\n",
              "</div>"
            ],
            "text/plain": [
              "         funded_flag          ficox  ...          ndi_3          ndi_4\n",
              "count  103743.000000  103743.000000  ...  103743.000000  103743.000000\n",
              "mean        0.040494       0.500349  ...       0.622577       0.185882\n",
              "std         0.197116       0.000024  ...       0.484744       0.389014\n",
              "min         0.000000       0.500278  ...       0.000000       0.000000\n",
              "25%         0.000000       0.500333  ...       0.000000       0.000000\n",
              "50%         0.000000       0.500347  ...       1.000000       0.000000\n",
              "75%         0.000000       0.500368  ...       1.000000       0.000000\n",
              "max         1.000000       0.500403  ...       1.000000       1.000000\n",
              "\n",
              "[8 rows x 19 columns]"
            ]
          },
          "metadata": {
            "tags": []
          },
          "execution_count": 24
        }
      ]
    },
    {
      "cell_type": "code",
      "metadata": {
        "id": "cCrN7m__XY15",
        "colab_type": "code",
        "colab": {
          "base_uri": "https://localhost:8080/",
          "height": 342
        },
        "outputId": "786fa390-838c-4537-8863-b7f20b3c112c"
      },
      "source": [
        "mod_lead.isna().sum()"
      ],
      "execution_count": null,
      "outputs": [
        {
          "output_type": "execute_result",
          "data": {
            "text/plain": [
              "funded_flag      0\n",
              "ficox            0\n",
              "lti              0\n",
              "bcc0300          0\n",
              "co_app           0\n",
              "loan_use         0\n",
              "employment_1     0\n",
              "employment_2     0\n",
              "employment_3     0\n",
              "loan_amount_1    0\n",
              "loan_amount_2    0\n",
              "loan_amount_3    0\n",
              "loan_amount_4    0\n",
              "loan_amount_5    0\n",
              "mkt_chan         0\n",
              "ndi_1            0\n",
              "ndi_2            0\n",
              "ndi_3            0\n",
              "ndi_4            0\n",
              "dtype: int64"
            ]
          },
          "metadata": {
            "tags": []
          },
          "execution_count": 25
        }
      ]
    },
    {
      "cell_type": "markdown",
      "metadata": {
        "id": "8qIskNRiYlBl",
        "colab_type": "text"
      },
      "source": [
        "## Train and Save Model"
      ]
    },
    {
      "cell_type": "code",
      "metadata": {
        "id": "TgIk8QAqXm2J",
        "colab_type": "code",
        "colab": {
          "base_uri": "https://localhost:8080/",
          "height": 33
        },
        "outputId": "685cb766-e9b7-4bf0-85ce-17d49259fda0"
      },
      "source": [
        "# segment out the variable we are predicting from the rest of the data\n",
        "y = mod_lead['funded_flag']\n",
        "X = mod_lead.drop(['funded_flag'], axis = 1)\n",
        "print(X.shape, y.shape)"
      ],
      "execution_count": null,
      "outputs": [
        {
          "output_type": "stream",
          "text": [
            "(103743, 18) (103743,)\n"
          ],
          "name": "stdout"
        }
      ]
    },
    {
      "cell_type": "code",
      "metadata": {
        "id": "5U3-AM4ttRP0",
        "colab_type": "code",
        "colab": {
          "base_uri": "https://localhost:8080/",
          "height": 50
        },
        "outputId": "b3e27ecf-9738-4dd0-a37e-9afdddae31b1"
      },
      "source": [
        "# Split the data into a train and test dataset\n",
        "X_train, X_test, y_train, y_test = train_test_split(X, y, test_size=0.2)\n",
        "print(X_train.shape, y_train.shape)\n",
        "print(X_test.shape, y_test.shape)"
      ],
      "execution_count": null,
      "outputs": [
        {
          "output_type": "stream",
          "text": [
            "(82994, 18) (82994,)\n",
            "(20749, 18) (20749,)\n"
          ],
          "name": "stdout"
        }
      ]
    },
    {
      "cell_type": "markdown",
      "metadata": {
        "id": "DHeMfccjAZvo",
        "colab_type": "text"
      },
      "source": [
        "#### Scale data?"
      ]
    },
    {
      "cell_type": "code",
      "metadata": {
        "id": "yCJ0tzc8AYbt",
        "colab_type": "code",
        "colab": {}
      },
      "source": [
        "# Set classes for all plots\n",
        "classes = ['Not Funded', 'Funded']\n",
        "\n",
        "classifier = LogisticRegression()\n",
        "\n",
        "# Instantiate the visualizer with the classification model\n",
        "visualizer = ROCAUC(classifier, classes=classes)\n",
        "\n",
        "\n",
        "visualizer.fit(X_train, y_train)  # Fit the training data to the visualizer\n",
        "visualizer.score(X_test, y_test)  # Evaluate the model on the test data\n",
        "g = visualizer.poof()"
      ],
      "execution_count": null,
      "outputs": []
    },
    {
      "cell_type": "code",
      "metadata": {
        "id": "jt34Rp96uBUq",
        "colab_type": "code",
        "colab": {
          "base_uri": "https://localhost:8080/",
          "height": 506
        },
        "outputId": "39c2f03d-683b-465f-deb5-b1ef990898a8"
      },
      "source": [
        "# Set classes for all plots\n",
        "classes = ['Not Funded', 'Funded']\n",
        "\n",
        "classifier = LogisticRegression()\n",
        "\n",
        "# Instantiate the visualizer with the classification model\n",
        "visualizer = ROCAUC(classifier, classes=classes)\n",
        "\n",
        "\n",
        "visualizer.fit(X_train, y_train)  # Fit the training data to the visualizer\n",
        "visualizer.score(X_test, y_test)  # Evaluate the model on the test data\n",
        "g = visualizer.poof()"
      ],
      "execution_count": null,
      "outputs": [
        {
          "output_type": "stream",
          "text": [
            "/usr/local/lib/python3.6/dist-packages/sklearn/linear_model/_logistic.py:940: ConvergenceWarning: lbfgs failed to converge (status=1):\n",
            "STOP: TOTAL NO. of ITERATIONS REACHED LIMIT.\n",
            "\n",
            "Increase the number of iterations (max_iter) or scale the data as shown in:\n",
            "    https://scikit-learn.org/stable/modules/preprocessing.html\n",
            "Please also refer to the documentation for alternative solver options:\n",
            "    https://scikit-learn.org/stable/modules/linear_model.html#logistic-regression\n",
            "  extra_warning_msg=_LOGISTIC_SOLVER_CONVERGENCE_MSG)\n"
          ],
          "name": "stderr"
        },
        {
          "output_type": "display_data",
          "data": {
            "image/png": "[encoded data removed]",
            "text/plain": [
              "<Figure size 576x396 with 1 Axes>"
            ]
          },
          "metadata": {
            "tags": []
          }
        }
      ]
    },
    {
      "cell_type": "code",
      "metadata": {
        "id": "gtBn8JbRzUNg",
        "colab_type": "code",
        "colab": {}
      },
      "source": [
        "from sklearn.model_selection import train_test_split\n",
        "from sklearn.model_selection import StratifiedKFold\n",
        "from yellowbrick.classifier import ROCAUC\n",
        "from yellowbrick.classifier import ClassificationReport\n",
        "from sklearn.linear_model import LogisticRegression"
      ],
      "execution_count": null,
      "outputs": []
    },
    {
      "cell_type": "code",
      "metadata": {
        "id": "8xSPLwWhzncV",
        "colab_type": "code",
        "colab": {
          "base_uri": "https://localhost:8080/",
          "height": 163
        },
        "outputId": "ac79228f-c6c6-46c9-9554-3660062a23ea"
      },
      "source": [
        "model1 = LogisticRegression()\n",
        "model1.fit(X_train, y_train)\n",
        "model1.score(X_test, y_test)"
      ],
      "execution_count": null,
      "outputs": [
        {
          "output_type": "stream",
          "text": [
            "/usr/local/lib/python3.6/dist-packages/sklearn/linear_model/_logistic.py:940: ConvergenceWarning: lbfgs failed to converge (status=1):\n",
            "STOP: TOTAL NO. of ITERATIONS REACHED LIMIT.\n",
            "\n",
            "Increase the number of iterations (max_iter) or scale the data as shown in:\n",
            "    https://scikit-learn.org/stable/modules/preprocessing.html\n",
            "Please also refer to the documentation for alternative solver options:\n",
            "    https://scikit-learn.org/stable/modules/linear_model.html#logistic-regression\n",
            "  extra_warning_msg=_LOGISTIC_SOLVER_CONVERGENCE_MSG)\n"
          ],
          "name": "stderr"
        },
        {
          "output_type": "execute_result",
          "data": {
            "text/plain": [
              "0.9595643163525953"
            ]
          },
          "metadata": {
            "tags": []
          },
          "execution_count": 60
        }
      ]
    },
    {
      "cell_type": "code",
      "metadata": {
        "id": "JhkNnJbW0E1n",
        "colab_type": "code",
        "colab": {
          "base_uri": "https://localhost:8080/",
          "height": 50
        },
        "outputId": "7520619a-b8ff-4eff-b6ce-0efd01083e05"
      },
      "source": [
        "y_pred = model1.predict_proba(X_test)[:,1]\n",
        "y_pred"
      ],
      "execution_count": null,
      "outputs": [
        {
          "output_type": "execute_result",
          "data": {
            "text/plain": [
              "array([0.04975691, 0.03341284, 0.01986552, ..., 0.08300798, 0.05461634,\n",
              "       0.02783511])"
            ]
          },
          "metadata": {
            "tags": []
          },
          "execution_count": 67
        }
      ]
    },
    {
      "cell_type": "markdown",
      "metadata": {
        "id": "d1ACRb7Q2-Fd",
        "colab_type": "text"
      },
      "source": [
        "## Prediction"
      ]
    },
    {
      "cell_type": "code",
      "metadata": {
        "id": "YHhiwHgd1PuQ",
        "colab_type": "code",
        "colab": {}
      },
      "source": [
        "mod_lead1 = mod_lead"
      ],
      "execution_count": null,
      "outputs": []
    },
    {
      "cell_type": "code",
      "metadata": {
        "id": "qbquu_pA1Iwi",
        "colab_type": "code",
        "colab": {
          "base_uri": "https://localhost:8080/",
          "height": 211
        },
        "outputId": "4ce89e69-c542-46aa-eb2f-79156cb1cf9a"
      },
      "source": [
        "mod_lead1['y_pred_bal'] = model.predict_proba(X)[:,1]\n",
        "mod_lead1['y_pred'] = model1.predict_proba(X)[:,1]\n",
        "mod_lead1.head()"
      ],
      "execution_count": null,
      "outputs": [
        {
          "output_type": "execute_result",
          "data": {
            "text/html": [
              "<div>\n",
              "<style scoped>\n",
              "    .dataframe tbody tr th:only-of-type {\n",
              "        vertical-align: middle;\n",
              "    }\n",
              "\n",
              "    .dataframe tbody tr th {\n",
              "        vertical-align: top;\n",
              "    }\n",
              "\n",
              "    .dataframe thead th {\n",
              "        text-align: right;\n",
              "    }\n",
              "</style>\n",
              "<table border=\"1\" class=\"dataframe\">\n",
              "  <thead>\n",
              "    <tr style=\"text-align: right;\">\n",
              "      <th></th>\n",
              "      <th>funded_flag</th>\n",
              "      <th>ficox</th>\n",
              "      <th>lti</th>\n",
              "      <th>bcc0300</th>\n",
              "      <th>co_app</th>\n",
              "      <th>loan_use</th>\n",
              "      <th>employment_1</th>\n",
              "      <th>employment_2</th>\n",
              "      <th>employment_3</th>\n",
              "      <th>loan_amount_1</th>\n",
              "      <th>loan_amount_2</th>\n",
              "      <th>loan_amount_3</th>\n",
              "      <th>loan_amount_4</th>\n",
              "      <th>loan_amount_5</th>\n",
              "      <th>mkt_chan</th>\n",
              "      <th>ndi_1</th>\n",
              "      <th>ndi_2</th>\n",
              "      <th>ndi_3</th>\n",
              "      <th>ndi_4</th>\n",
              "      <th>y_pred_bal</th>\n",
              "      <th>y_pred</th>\n",
              "    </tr>\n",
              "  </thead>\n",
              "  <tbody>\n",
              "    <tr>\n",
              "      <th>0</th>\n",
              "      <td>0</td>\n",
              "      <td>0.500362</td>\n",
              "      <td>20.0</td>\n",
              "      <td>7</td>\n",
              "      <td>1</td>\n",
              "      <td>0</td>\n",
              "      <td>1</td>\n",
              "      <td>0</td>\n",
              "      <td>0</td>\n",
              "      <td>0</td>\n",
              "      <td>0</td>\n",
              "      <td>0</td>\n",
              "      <td>1</td>\n",
              "      <td>0</td>\n",
              "      <td>148.413159</td>\n",
              "      <td>0</td>\n",
              "      <td>0</td>\n",
              "      <td>0</td>\n",
              "      <td>1</td>\n",
              "      <td>0.308208</td>\n",
              "      <td>0.019734</td>\n",
              "    </tr>\n",
              "    <tr>\n",
              "      <th>1</th>\n",
              "      <td>0</td>\n",
              "      <td>0.500368</td>\n",
              "      <td>20.0</td>\n",
              "      <td>5</td>\n",
              "      <td>0</td>\n",
              "      <td>0</td>\n",
              "      <td>0</td>\n",
              "      <td>1</td>\n",
              "      <td>0</td>\n",
              "      <td>0</td>\n",
              "      <td>0</td>\n",
              "      <td>1</td>\n",
              "      <td>0</td>\n",
              "      <td>0</td>\n",
              "      <td>148.413159</td>\n",
              "      <td>0</td>\n",
              "      <td>1</td>\n",
              "      <td>0</td>\n",
              "      <td>0</td>\n",
              "      <td>0.567008</td>\n",
              "      <td>0.048615</td>\n",
              "    </tr>\n",
              "    <tr>\n",
              "      <th>2</th>\n",
              "      <td>0</td>\n",
              "      <td>0.500342</td>\n",
              "      <td>15.0</td>\n",
              "      <td>3</td>\n",
              "      <td>0</td>\n",
              "      <td>1</td>\n",
              "      <td>0</td>\n",
              "      <td>1</td>\n",
              "      <td>0</td>\n",
              "      <td>0</td>\n",
              "      <td>1</td>\n",
              "      <td>0</td>\n",
              "      <td>0</td>\n",
              "      <td>0</td>\n",
              "      <td>148.413159</td>\n",
              "      <td>0</td>\n",
              "      <td>0</td>\n",
              "      <td>1</td>\n",
              "      <td>0</td>\n",
              "      <td>0.592596</td>\n",
              "      <td>0.055065</td>\n",
              "    </tr>\n",
              "    <tr>\n",
              "      <th>3</th>\n",
              "      <td>0</td>\n",
              "      <td>0.500373</td>\n",
              "      <td>5.0</td>\n",
              "      <td>18</td>\n",
              "      <td>0</td>\n",
              "      <td>0</td>\n",
              "      <td>0</td>\n",
              "      <td>1</td>\n",
              "      <td>0</td>\n",
              "      <td>0</td>\n",
              "      <td>1</td>\n",
              "      <td>0</td>\n",
              "      <td>0</td>\n",
              "      <td>0</td>\n",
              "      <td>148.413159</td>\n",
              "      <td>0</td>\n",
              "      <td>0</td>\n",
              "      <td>1</td>\n",
              "      <td>0</td>\n",
              "      <td>0.620056</td>\n",
              "      <td>0.060670</td>\n",
              "    </tr>\n",
              "    <tr>\n",
              "      <th>4</th>\n",
              "      <td>0</td>\n",
              "      <td>0.500368</td>\n",
              "      <td>35.0</td>\n",
              "      <td>4</td>\n",
              "      <td>0</td>\n",
              "      <td>0</td>\n",
              "      <td>0</td>\n",
              "      <td>1</td>\n",
              "      <td>0</td>\n",
              "      <td>0</td>\n",
              "      <td>0</td>\n",
              "      <td>1</td>\n",
              "      <td>0</td>\n",
              "      <td>0</td>\n",
              "      <td>7.389056</td>\n",
              "      <td>0</td>\n",
              "      <td>1</td>\n",
              "      <td>0</td>\n",
              "      <td>0</td>\n",
              "      <td>0.243025</td>\n",
              "      <td>0.016261</td>\n",
              "    </tr>\n",
              "  </tbody>\n",
              "</table>\n",
              "</div>"
            ],
            "text/plain": [
              "   funded_flag     ficox   lti  bcc0300  ...  ndi_3  ndi_4  y_pred_bal    y_pred\n",
              "0            0  0.500362  20.0        7  ...      0      1    0.308208  0.019734\n",
              "1            0  0.500368  20.0        5  ...      0      0    0.567008  0.048615\n",
              "2            0  0.500342  15.0        3  ...      1      0    0.592596  0.055065\n",
              "3            0  0.500373   5.0       18  ...      1      0    0.620056  0.060670\n",
              "4            0  0.500368  35.0        4  ...      0      0    0.243025  0.016261\n",
              "\n",
              "[5 rows x 21 columns]"
            ]
          },
          "metadata": {
            "tags": []
          },
          "execution_count": 76
        }
      ]
    },
    {
      "cell_type": "code",
      "metadata": {
        "id": "Njjy3Uv40FBD",
        "colab_type": "code",
        "colab": {
          "base_uri": "https://localhost:8080/",
          "height": 366
        },
        "outputId": "3b68fcb6-5db2-469a-ed49-65e00cc329d0"
      },
      "source": [
        "# distribution of probabilities that model is outputting\n",
        "sns.distplot(y_pred)"
      ],
      "execution_count": null,
      "outputs": [
        {
          "output_type": "execute_result",
          "data": {
            "text/plain": [
              "<matplotlib.axes._subplots.AxesSubplot at 0x7f534a70bac8>"
            ]
          },
          "metadata": {
            "tags": []
          },
          "execution_count": 68
        },
        {
          "output_type": "display_data",
          "data": {
            "image/png": "[encoded data removed]",
            "text/plain": [
              "<Figure size 576x396 with 1 Axes>"
            ]
          },
          "metadata": {
            "tags": []
          }
        }
      ]
    },
    {
      "cell_type": "code",
      "metadata": {
        "id": "t36kpeGj0FD3",
        "colab_type": "code",
        "colab": {
          "base_uri": "https://localhost:8080/",
          "height": 363
        },
        "outputId": "22570b5f-d5fc-4ed2-c96f-b0ec2ae04879"
      },
      "source": [
        "y_pred = model.predict_proba(X_test)[:,1]\n",
        "y_pred\n",
        "# distribution of probabilities that model is outputting\n",
        "sns.distplot(y_pred)"
      ],
      "execution_count": null,
      "outputs": [
        {
          "output_type": "execute_result",
          "data": {
            "text/plain": [
              "<matplotlib.axes._subplots.AxesSubplot at 0x7f534a5bd2b0>"
            ]
          },
          "metadata": {
            "tags": []
          },
          "execution_count": 69
        },
        {
          "output_type": "display_data",
          "data": {
            "image/png": "[encoded data removed]",
            "text/plain": [
              "<Figure size 576x396 with 1 Axes>"
            ]
          },
          "metadata": {
            "tags": []
          }
        }
      ]
    },
    {
      "cell_type": "code",
      "metadata": {
        "id": "X1Aji_O21AoR",
        "colab_type": "code",
        "colab": {
          "base_uri": "https://localhost:8080/",
          "height": 82
        },
        "outputId": "f0d67693-b473-47e1-aeb5-0592659d9f76"
      },
      "source": [
        "# breakout predicted probabilities into deciles\n",
        "twintiles = np.percentile(mod_lead1['y_pred'], np.arange(0,100,5))\n",
        "twintiles"
      ],
      "execution_count": null,
      "outputs": [
        {
          "output_type": "execute_result",
          "data": {
            "text/plain": [
              "array([0.00085635, 0.00841186, 0.01117145, 0.01374699, 0.01628707,\n",
              "       0.01892493, 0.02145633, 0.02420422, 0.02704072, 0.02981629,\n",
              "       0.03252398, 0.03572741, 0.03897772, 0.04246567, 0.04693785,\n",
              "       0.05165209, 0.0572117 , 0.06516999, 0.07604856, 0.09636631])"
            ]
          },
          "metadata": {
            "tags": []
          },
          "execution_count": 80
        }
      ]
    },
    {
      "cell_type": "code",
      "metadata": {
        "id": "9FBcExmg6cbp",
        "colab_type": "code",
        "colab": {
          "base_uri": "https://localhost:8080/",
          "height": 411
        },
        "outputId": "3991471e-438a-4a84-bf1d-68fdb8845ab2"
      },
      "source": [
        "mod_lead"
      ],
      "execution_count": null,
      "outputs": [
        {
          "output_type": "execute_result",
          "data": {
            "text/html": [
              "<div>\n",
              "<style scoped>\n",
              "    .dataframe tbody tr th:only-of-type {\n",
              "        vertical-align: middle;\n",
              "    }\n",
              "\n",
              "    .dataframe tbody tr th {\n",
              "        vertical-align: top;\n",
              "    }\n",
              "\n",
              "    .dataframe thead th {\n",
              "        text-align: right;\n",
              "    }\n",
              "</style>\n",
              "<table border=\"1\" class=\"dataframe\">\n",
              "  <thead>\n",
              "    <tr style=\"text-align: right;\">\n",
              "      <th></th>\n",
              "      <th>funded_flag</th>\n",
              "      <th>ficox</th>\n",
              "      <th>lti</th>\n",
              "      <th>bcc0300</th>\n",
              "      <th>co_app</th>\n",
              "      <th>loan_use</th>\n",
              "      <th>employment_1</th>\n",
              "      <th>employment_2</th>\n",
              "      <th>employment_3</th>\n",
              "      <th>loan_amount_1</th>\n",
              "      <th>loan_amount_2</th>\n",
              "      <th>loan_amount_3</th>\n",
              "      <th>loan_amount_4</th>\n",
              "      <th>loan_amount_5</th>\n",
              "      <th>mkt_chan</th>\n",
              "      <th>ndi_1</th>\n",
              "      <th>ndi_2</th>\n",
              "      <th>ndi_3</th>\n",
              "      <th>ndi_4</th>\n",
              "    </tr>\n",
              "  </thead>\n",
              "  <tbody>\n",
              "    <tr>\n",
              "      <th>0</th>\n",
              "      <td>0</td>\n",
              "      <td>0.500362</td>\n",
              "      <td>20.0</td>\n",
              "      <td>7</td>\n",
              "      <td>1</td>\n",
              "      <td>0</td>\n",
              "      <td>1</td>\n",
              "      <td>0</td>\n",
              "      <td>0</td>\n",
              "      <td>0</td>\n",
              "      <td>0</td>\n",
              "      <td>0</td>\n",
              "      <td>1</td>\n",
              "      <td>0</td>\n",
              "      <td>148.413159</td>\n",
              "      <td>0</td>\n",
              "      <td>0</td>\n",
              "      <td>0</td>\n",
              "      <td>1</td>\n",
              "    </tr>\n",
              "    <tr>\n",
              "      <th>1</th>\n",
              "      <td>0</td>\n",
              "      <td>0.500368</td>\n",
              "      <td>20.0</td>\n",
              "      <td>5</td>\n",
              "      <td>0</td>\n",
              "      <td>0</td>\n",
              "      <td>0</td>\n",
              "      <td>1</td>\n",
              "      <td>0</td>\n",
              "      <td>0</td>\n",
              "      <td>0</td>\n",
              "      <td>1</td>\n",
              "      <td>0</td>\n",
              "      <td>0</td>\n",
              "      <td>148.413159</td>\n",
              "      <td>0</td>\n",
              "      <td>1</td>\n",
              "      <td>0</td>\n",
              "      <td>0</td>\n",
              "    </tr>\n",
              "    <tr>\n",
              "      <th>2</th>\n",
              "      <td>0</td>\n",
              "      <td>0.500342</td>\n",
              "      <td>15.0</td>\n",
              "      <td>3</td>\n",
              "      <td>0</td>\n",
              "      <td>1</td>\n",
              "      <td>0</td>\n",
              "      <td>1</td>\n",
              "      <td>0</td>\n",
              "      <td>0</td>\n",
              "      <td>1</td>\n",
              "      <td>0</td>\n",
              "      <td>0</td>\n",
              "      <td>0</td>\n",
              "      <td>148.413159</td>\n",
              "      <td>0</td>\n",
              "      <td>0</td>\n",
              "      <td>1</td>\n",
              "      <td>0</td>\n",
              "    </tr>\n",
              "    <tr>\n",
              "      <th>3</th>\n",
              "      <td>0</td>\n",
              "      <td>0.500373</td>\n",
              "      <td>5.0</td>\n",
              "      <td>18</td>\n",
              "      <td>0</td>\n",
              "      <td>0</td>\n",
              "      <td>0</td>\n",
              "      <td>1</td>\n",
              "      <td>0</td>\n",
              "      <td>0</td>\n",
              "      <td>1</td>\n",
              "      <td>0</td>\n",
              "      <td>0</td>\n",
              "      <td>0</td>\n",
              "      <td>148.413159</td>\n",
              "      <td>0</td>\n",
              "      <td>0</td>\n",
              "      <td>1</td>\n",
              "      <td>0</td>\n",
              "    </tr>\n",
              "    <tr>\n",
              "      <th>4</th>\n",
              "      <td>0</td>\n",
              "      <td>0.500368</td>\n",
              "      <td>35.0</td>\n",
              "      <td>4</td>\n",
              "      <td>0</td>\n",
              "      <td>0</td>\n",
              "      <td>0</td>\n",
              "      <td>1</td>\n",
              "      <td>0</td>\n",
              "      <td>0</td>\n",
              "      <td>0</td>\n",
              "      <td>1</td>\n",
              "      <td>0</td>\n",
              "      <td>0</td>\n",
              "      <td>7.389056</td>\n",
              "      <td>0</td>\n",
              "      <td>1</td>\n",
              "      <td>0</td>\n",
              "      <td>0</td>\n",
              "    </tr>\n",
              "    <tr>\n",
              "      <th>...</th>\n",
              "      <td>...</td>\n",
              "      <td>...</td>\n",
              "      <td>...</td>\n",
              "      <td>...</td>\n",
              "      <td>...</td>\n",
              "      <td>...</td>\n",
              "      <td>...</td>\n",
              "      <td>...</td>\n",
              "      <td>...</td>\n",
              "      <td>...</td>\n",
              "      <td>...</td>\n",
              "      <td>...</td>\n",
              "      <td>...</td>\n",
              "      <td>...</td>\n",
              "      <td>...</td>\n",
              "      <td>...</td>\n",
              "      <td>...</td>\n",
              "      <td>...</td>\n",
              "      <td>...</td>\n",
              "    </tr>\n",
              "    <tr>\n",
              "      <th>103738</th>\n",
              "      <td>0</td>\n",
              "      <td>0.500357</td>\n",
              "      <td>15.0</td>\n",
              "      <td>5</td>\n",
              "      <td>0</td>\n",
              "      <td>1</td>\n",
              "      <td>0</td>\n",
              "      <td>1</td>\n",
              "      <td>0</td>\n",
              "      <td>0</td>\n",
              "      <td>0</td>\n",
              "      <td>0</td>\n",
              "      <td>1</td>\n",
              "      <td>0</td>\n",
              "      <td>148.413159</td>\n",
              "      <td>0</td>\n",
              "      <td>0</td>\n",
              "      <td>1</td>\n",
              "      <td>0</td>\n",
              "    </tr>\n",
              "    <tr>\n",
              "      <th>103739</th>\n",
              "      <td>0</td>\n",
              "      <td>0.500325</td>\n",
              "      <td>5.0</td>\n",
              "      <td>7</td>\n",
              "      <td>0</td>\n",
              "      <td>0</td>\n",
              "      <td>0</td>\n",
              "      <td>1</td>\n",
              "      <td>0</td>\n",
              "      <td>0</td>\n",
              "      <td>0</td>\n",
              "      <td>0</td>\n",
              "      <td>1</td>\n",
              "      <td>0</td>\n",
              "      <td>148.413159</td>\n",
              "      <td>0</td>\n",
              "      <td>0</td>\n",
              "      <td>1</td>\n",
              "      <td>0</td>\n",
              "    </tr>\n",
              "    <tr>\n",
              "      <th>103740</th>\n",
              "      <td>0</td>\n",
              "      <td>0.500342</td>\n",
              "      <td>15.0</td>\n",
              "      <td>5</td>\n",
              "      <td>0</td>\n",
              "      <td>0</td>\n",
              "      <td>0</td>\n",
              "      <td>1</td>\n",
              "      <td>0</td>\n",
              "      <td>0</td>\n",
              "      <td>0</td>\n",
              "      <td>1</td>\n",
              "      <td>0</td>\n",
              "      <td>0</td>\n",
              "      <td>148.413159</td>\n",
              "      <td>0</td>\n",
              "      <td>0</td>\n",
              "      <td>1</td>\n",
              "      <td>0</td>\n",
              "    </tr>\n",
              "    <tr>\n",
              "      <th>103741</th>\n",
              "      <td>0</td>\n",
              "      <td>0.500385</td>\n",
              "      <td>20.0</td>\n",
              "      <td>18</td>\n",
              "      <td>0</td>\n",
              "      <td>0</td>\n",
              "      <td>0</td>\n",
              "      <td>1</td>\n",
              "      <td>0</td>\n",
              "      <td>0</td>\n",
              "      <td>0</td>\n",
              "      <td>1</td>\n",
              "      <td>0</td>\n",
              "      <td>0</td>\n",
              "      <td>148.413159</td>\n",
              "      <td>0</td>\n",
              "      <td>0</td>\n",
              "      <td>1</td>\n",
              "      <td>0</td>\n",
              "    </tr>\n",
              "    <tr>\n",
              "      <th>103742</th>\n",
              "      <td>0</td>\n",
              "      <td>0.500352</td>\n",
              "      <td>20.0</td>\n",
              "      <td>4</td>\n",
              "      <td>0</td>\n",
              "      <td>0</td>\n",
              "      <td>0</td>\n",
              "      <td>1</td>\n",
              "      <td>0</td>\n",
              "      <td>0</td>\n",
              "      <td>0</td>\n",
              "      <td>1</td>\n",
              "      <td>0</td>\n",
              "      <td>0</td>\n",
              "      <td>148.413159</td>\n",
              "      <td>0</td>\n",
              "      <td>0</td>\n",
              "      <td>1</td>\n",
              "      <td>0</td>\n",
              "    </tr>\n",
              "  </tbody>\n",
              "</table>\n",
              "<p>103743 rows × 19 columns</p>\n",
              "</div>"
            ],
            "text/plain": [
              "        funded_flag     ficox   lti  bcc0300  ...  ndi_1  ndi_2  ndi_3  ndi_4\n",
              "0                 0  0.500362  20.0        7  ...      0      0      0      1\n",
              "1                 0  0.500368  20.0        5  ...      0      1      0      0\n",
              "2                 0  0.500342  15.0        3  ...      0      0      1      0\n",
              "3                 0  0.500373   5.0       18  ...      0      0      1      0\n",
              "4                 0  0.500368  35.0        4  ...      0      1      0      0\n",
              "...             ...       ...   ...      ...  ...    ...    ...    ...    ...\n",
              "103738            0  0.500357  15.0        5  ...      0      0      1      0\n",
              "103739            0  0.500325   5.0        7  ...      0      0      1      0\n",
              "103740            0  0.500342  15.0        5  ...      0      0      1      0\n",
              "103741            0  0.500385  20.0       18  ...      0      0      1      0\n",
              "103742            0  0.500352  20.0        4  ...      0      0      1      0\n",
              "\n",
              "[103743 rows x 19 columns]"
            ]
          },
          "metadata": {
            "tags": []
          },
          "execution_count": 27
        }
      ]
    },
    {
      "cell_type": "code",
      "metadata": {
        "id": "rqqpWXW46Ws-",
        "colab_type": "code",
        "colab": {}
      },
      "source": [
        "X['y_pred'] = fplus_ls_model.predict_proba(X)[:,1]"
      ],
      "execution_count": null,
      "outputs": []
    },
    {
      "cell_type": "code",
      "metadata": {
        "id": "gYLIaurH60P6",
        "colab_type": "code",
        "colab": {
          "base_uri": "https://localhost:8080/",
          "height": 211
        },
        "outputId": "1103d8ca-16d5-4b03-b8e8-53afdcc25a81"
      },
      "source": [
        "final = X\n",
        "final['funded_flag'] = y\n",
        "final.head()"
      ],
      "execution_count": null,
      "outputs": [
        {
          "output_type": "execute_result",
          "data": {
            "text/html": [
              "<div>\n",
              "<style scoped>\n",
              "    .dataframe tbody tr th:only-of-type {\n",
              "        vertical-align: middle;\n",
              "    }\n",
              "\n",
              "    .dataframe tbody tr th {\n",
              "        vertical-align: top;\n",
              "    }\n",
              "\n",
              "    .dataframe thead th {\n",
              "        text-align: right;\n",
              "    }\n",
              "</style>\n",
              "<table border=\"1\" class=\"dataframe\">\n",
              "  <thead>\n",
              "    <tr style=\"text-align: right;\">\n",
              "      <th></th>\n",
              "      <th>ficox</th>\n",
              "      <th>lti</th>\n",
              "      <th>bcc0300</th>\n",
              "      <th>co_app</th>\n",
              "      <th>loan_use</th>\n",
              "      <th>employment_1</th>\n",
              "      <th>employment_2</th>\n",
              "      <th>employment_3</th>\n",
              "      <th>loan_amount_1</th>\n",
              "      <th>loan_amount_2</th>\n",
              "      <th>loan_amount_3</th>\n",
              "      <th>loan_amount_4</th>\n",
              "      <th>loan_amount_5</th>\n",
              "      <th>mkt_chan</th>\n",
              "      <th>ndi_1</th>\n",
              "      <th>ndi_2</th>\n",
              "      <th>ndi_3</th>\n",
              "      <th>ndi_4</th>\n",
              "      <th>y_pred</th>\n",
              "      <th>funded_flag</th>\n",
              "    </tr>\n",
              "  </thead>\n",
              "  <tbody>\n",
              "    <tr>\n",
              "      <th>0</th>\n",
              "      <td>0.500362</td>\n",
              "      <td>20.0</td>\n",
              "      <td>7</td>\n",
              "      <td>1</td>\n",
              "      <td>0</td>\n",
              "      <td>1</td>\n",
              "      <td>0</td>\n",
              "      <td>0</td>\n",
              "      <td>0</td>\n",
              "      <td>0</td>\n",
              "      <td>0</td>\n",
              "      <td>1</td>\n",
              "      <td>0</td>\n",
              "      <td>148.413159</td>\n",
              "      <td>0</td>\n",
              "      <td>0</td>\n",
              "      <td>0</td>\n",
              "      <td>1</td>\n",
              "      <td>0.019734</td>\n",
              "      <td>0</td>\n",
              "    </tr>\n",
              "    <tr>\n",
              "      <th>1</th>\n",
              "      <td>0.500368</td>\n",
              "      <td>20.0</td>\n",
              "      <td>5</td>\n",
              "      <td>0</td>\n",
              "      <td>0</td>\n",
              "      <td>0</td>\n",
              "      <td>1</td>\n",
              "      <td>0</td>\n",
              "      <td>0</td>\n",
              "      <td>0</td>\n",
              "      <td>1</td>\n",
              "      <td>0</td>\n",
              "      <td>0</td>\n",
              "      <td>148.413159</td>\n",
              "      <td>0</td>\n",
              "      <td>1</td>\n",
              "      <td>0</td>\n",
              "      <td>0</td>\n",
              "      <td>0.048615</td>\n",
              "      <td>0</td>\n",
              "    </tr>\n",
              "    <tr>\n",
              "      <th>2</th>\n",
              "      <td>0.500342</td>\n",
              "      <td>15.0</td>\n",
              "      <td>3</td>\n",
              "      <td>0</td>\n",
              "      <td>1</td>\n",
              "      <td>0</td>\n",
              "      <td>1</td>\n",
              "      <td>0</td>\n",
              "      <td>0</td>\n",
              "      <td>1</td>\n",
              "      <td>0</td>\n",
              "      <td>0</td>\n",
              "      <td>0</td>\n",
              "      <td>148.413159</td>\n",
              "      <td>0</td>\n",
              "      <td>0</td>\n",
              "      <td>1</td>\n",
              "      <td>0</td>\n",
              "      <td>0.055065</td>\n",
              "      <td>0</td>\n",
              "    </tr>\n",
              "    <tr>\n",
              "      <th>3</th>\n",
              "      <td>0.500373</td>\n",
              "      <td>5.0</td>\n",
              "      <td>18</td>\n",
              "      <td>0</td>\n",
              "      <td>0</td>\n",
              "      <td>0</td>\n",
              "      <td>1</td>\n",
              "      <td>0</td>\n",
              "      <td>0</td>\n",
              "      <td>1</td>\n",
              "      <td>0</td>\n",
              "      <td>0</td>\n",
              "      <td>0</td>\n",
              "      <td>148.413159</td>\n",
              "      <td>0</td>\n",
              "      <td>0</td>\n",
              "      <td>1</td>\n",
              "      <td>0</td>\n",
              "      <td>0.060670</td>\n",
              "      <td>0</td>\n",
              "    </tr>\n",
              "    <tr>\n",
              "      <th>4</th>\n",
              "      <td>0.500368</td>\n",
              "      <td>35.0</td>\n",
              "      <td>4</td>\n",
              "      <td>0</td>\n",
              "      <td>0</td>\n",
              "      <td>0</td>\n",
              "      <td>1</td>\n",
              "      <td>0</td>\n",
              "      <td>0</td>\n",
              "      <td>0</td>\n",
              "      <td>1</td>\n",
              "      <td>0</td>\n",
              "      <td>0</td>\n",
              "      <td>7.389056</td>\n",
              "      <td>0</td>\n",
              "      <td>1</td>\n",
              "      <td>0</td>\n",
              "      <td>0</td>\n",
              "      <td>0.016261</td>\n",
              "      <td>0</td>\n",
              "    </tr>\n",
              "  </tbody>\n",
              "</table>\n",
              "</div>"
            ],
            "text/plain": [
              "      ficox   lti  bcc0300  co_app  ...  ndi_3  ndi_4    y_pred  funded_flag\n",
              "0  0.500362  20.0        7       1  ...      0      1  0.019734            0\n",
              "1  0.500368  20.0        5       0  ...      0      0  0.048615            0\n",
              "2  0.500342  15.0        3       0  ...      1      0  0.055065            0\n",
              "3  0.500373   5.0       18       0  ...      1      0  0.060670            0\n",
              "4  0.500368  35.0        4       0  ...      0      0  0.016261            0\n",
              "\n",
              "[5 rows x 20 columns]"
            ]
          },
          "metadata": {
            "tags": []
          },
          "execution_count": 30
        }
      ]
    },
    {
      "cell_type": "code",
      "metadata": {
        "id": "siJRG_IB7AZL",
        "colab_type": "code",
        "colab": {}
      },
      "source": [
        "final.to_csv('final.csv', index = False)"
      ],
      "execution_count": null,
      "outputs": []
    },
    {
      "cell_type": "code",
      "metadata": {
        "id": "xLPGWA1Q1A0K",
        "colab_type": "code",
        "colab": {}
      },
      "source": [
        "# add deciles to the predictions\n",
        "mod_lead1['twintile_rank']=pd.qcut(mod_lead1['y_pred'], 20, labels=False)"
      ],
      "execution_count": null,
      "outputs": []
    },
    {
      "cell_type": "code",
      "metadata": {
        "id": "jJbCAnCM09k_",
        "colab_type": "code",
        "colab": {}
      },
      "source": [
        "twintiles = mod_lead1.groupby(\n",
        "    'twintile_rank'\n",
        ").agg(\n",
        "    {\n",
        "        # Get the min, max, and mean of the predictions\n",
        "\t\t# min and max will help you see the boundaries of each decile\n",
        "        'y_pred': [min, max, \"mean\"],\n",
        "        # Get the mean of the actuals\n",
        "        'funded_flag': [\"mean\"],\n",
        "    }\n",
        ")"
      ],
      "execution_count": null,
      "outputs": []
    },
    {
      "cell_type": "code",
      "metadata": {
        "id": "Zn_2d3e74sih",
        "colab_type": "code",
        "colab": {
          "base_uri": "https://localhost:8080/",
          "height": 158
        },
        "outputId": "804f2c85-fa7a-4c6d-b654-bc20316d72d5"
      },
      "source": [
        "twintiles"
      ],
      "execution_count": null,
      "outputs": [
        {
          "output_type": "error",
          "ename": "NameError",
          "evalue": "ignored",
          "traceback": [
            "\u001b[0;31m---------------------------------------------------------------------------\u001b[0m",
            "\u001b[0;31mNameError\u001b[0m                                 Traceback (most recent call last)",
            "\u001b[0;32m<ipython-input-1-3968d4ccebd6>\u001b[0m in \u001b[0;36m<module>\u001b[0;34m()\u001b[0m\n\u001b[0;32m----> 1\u001b[0;31m \u001b[0mtwintiles\u001b[0m\u001b[0;34m\u001b[0m\u001b[0;34m\u001b[0m\u001b[0m\n\u001b[0m",
            "\u001b[0;31mNameError\u001b[0m: name 'twintiles' is not defined"
          ]
        }
      ]
    },
    {
      "cell_type": "code",
      "metadata": {
        "id": "csIUwl880FGm",
        "colab_type": "code",
        "colab": {
          "base_uri": "https://localhost:8080/",
          "height": 512
        },
        "outputId": "4f022026-3997-4584-dfe8-6c67026c2f9f"
      },
      "source": [
        "# Plot training & validation accuracy values\n",
        "plt.figure(figsize=(16,8))\n",
        "plt.plot(twintiles.y_pred['mean'])\n",
        "plt.plot(twintiles.funded_flag['mean'])\n",
        "plt.title('Twintile Plot')\n",
        "plt.ylabel('Probability')\n",
        "plt.xlabel('Twintile')\n",
        "plt.legend(['Predicted Probability', 'Actual Probability'], loc='upper left')\n",
        "plt.show()"
      ],
      "execution_count": null,
      "outputs": [
        {
          "output_type": "display_data",
          "data": {
            "image/png": "[encoded data removed]",
            "text/plain": [
              "<Figure size 1152x576 with 1 Axes>"
            ]
          },
          "metadata": {
            "tags": []
          }
        }
      ]
    },
    {
      "cell_type": "code",
      "metadata": {
        "id": "JrUro-0dy2jl",
        "colab_type": "code",
        "colab": {
          "base_uri": "https://localhost:8080/",
          "height": 98
        },
        "outputId": "fdb011a1-9ba5-486c-a6ac-a1f7e5790be6"
      },
      "source": [
        "model = LogisticRegression(solver='lbfgs', class_weight='balanced', max_iter=1000)\n",
        "model.fit(X_train, y_train)"
      ],
      "execution_count": null,
      "outputs": [
        {
          "output_type": "execute_result",
          "data": {
            "text/plain": [
              "LogisticRegression(C=1.0, class_weight='balanced', dual=False,\n",
              "                   fit_intercept=True, intercept_scaling=1, l1_ratio=None,\n",
              "                   max_iter=1000, multi_class='auto', n_jobs=None, penalty='l2',\n",
              "                   random_state=None, solver='lbfgs', tol=0.0001, verbose=0,\n",
              "                   warm_start=False)"
            ]
          },
          "metadata": {
            "tags": []
          },
          "execution_count": 58
        }
      ]
    },
    {
      "cell_type": "code",
      "metadata": {
        "id": "Xjm1z7HZzgHR",
        "colab_type": "code",
        "colab": {
          "base_uri": "https://localhost:8080/",
          "height": 33
        },
        "outputId": "893f5f11-146b-4e0d-d2c7-e61c15bd753b"
      },
      "source": [
        "model.score(X_test, y_test)"
      ],
      "execution_count": null,
      "outputs": [
        {
          "output_type": "execute_result",
          "data": {
            "text/plain": [
              "0.6458142561087281"
            ]
          },
          "metadata": {
            "tags": []
          },
          "execution_count": 59
        }
      ]
    },
    {
      "cell_type": "code",
      "metadata": {
        "id": "4YsLfdo5t2MF",
        "colab_type": "code",
        "colab": {}
      },
      "source": [
        "# Set classes for all plots\n",
        "classes = ['Win', 'Lose']\n",
        "# Instantiate the visualizer with the classification model\n",
        "visualizer = ROCAUC(log_model, classes=classes)\n",
        "\n",
        "\n",
        "visualizer.fit(X_train, y_train)  # Fit the training data to the visualizer\n",
        "visualizer.score(X_test, y_test)  # Evaluate the model on the test data\n",
        "g = visualizer.poof()   "
      ],
      "execution_count": null,
      "outputs": []
    },
    {
      "cell_type": "code",
      "metadata": {
        "id": "9OLe20oBsu3g",
        "colab_type": "code",
        "colab": {}
      },
      "source": [
        "# wall-clock time at beginning of modeling work\n",
        "start_time = time.clock()  \n",
        "\n",
        "classifier = LogisticRegression()\n",
        "classifier.fit(X_train, y_train)  \n",
        "# evaluate on the test set for this fold\n",
        "y_final_test_logit_predict_prob = classifier.predict_proba(X_test)\n",
        "y_final_test_logit_predict = classifier.predict(X_test)\n",
        "\n",
        "print('Area under ROC curve:', roc_auc_score(y_test, y_final_test_logit_predict_prob[:,1]))\n",
        "\n",
        "print('\\nLogistic Regression Confusion Matrix',\n",
        "      '(rows actual, columns predicted)\\n')\n",
        "print_cm(confusion_matrix(y_test.values, \n",
        "                 y_final_test_logit_predict),\n",
        "                 labels = classes)\n",
        "\n",
        "print('\\nLogistic Regression Accuracy: ',                \n",
        "np.round(accuracy_score(y_test.values, \n",
        "               y_final_test_logit_predict), decimals = 3))\n",
        "          \n",
        "print()\n",
        "\n",
        "end_time = time.clock()  # wall-clock time at end of modeling work\n",
        "runtime = end_time - start_time  # seconds of wall-clock time \n",
        "print('\\nLogistic Regression classification elapsed time (seconds):', \n",
        "      np.round(runtime, decimals = 3))\n",
        "\n",
        "print('\\nRUN COMPLETE')    "
      ],
      "execution_count": null,
      "outputs": []
    },
    {
      "cell_type": "markdown",
      "metadata": {
        "id": "B2tutvtfvvwG",
        "colab_type": "text"
      },
      "source": [
        "## Save Model\n"
      ]
    },
    {
      "cell_type": "code",
      "metadata": {
        "id": "3AEt6xiCvwoP",
        "colab_type": "code",
        "colab": {
          "base_uri": "https://localhost:8080/",
          "height": 33
        },
        "outputId": "8efa0994-8957-400e-e926-f1897175750a"
      },
      "source": [
        "from sklearn.externals import joblib\n",
        "\n",
        "# Save to file in the current working directory\n",
        "joblib_file = \"Fplus_Lead_Scoring\"\n",
        "joblib.dump(model1, joblib_file)\n",
        "\n",
        "# some time later...\n",
        " \n",
        "# load the model from disk\n",
        "#loaded_model = pickle.load(open(filename, 'rb'))\n",
        "#result = loaded_model.score(X_test, Y_test)\n",
        "#print(result)"
      ],
      "execution_count": null,
      "outputs": [
        {
          "output_type": "execute_result",
          "data": {
            "text/plain": [
              "['Fplus_Lead_Scoring']"
            ]
          },
          "metadata": {
            "tags": []
          },
          "execution_count": 88
        }
      ]
    },
    {
      "cell_type": "code",
      "metadata": {
        "id": "6hmIZHv85lYe",
        "colab_type": "code",
        "colab": {}
      },
      "source": [
        "fplus_ls_model = joblib.load('Fplus_Lead_Scoring')"
      ],
      "execution_count": null,
      "outputs": []
    },
    {
      "cell_type": "code",
      "metadata": {
        "id": "GD0--mZQ6F71",
        "colab_type": "code",
        "colab": {}
      },
      "source": [
        ""
      ],
      "execution_count": null,
      "outputs": []
    },
    {
      "cell_type": "markdown",
      "metadata": {
        "id": "t1AHMfG97DnH",
        "colab_type": "text"
      },
      "source": [
        "# Check API"
      ]
    },
    {
      "cell_type": "code",
      "metadata": {
        "id": "dSeq7aUI7sFU",
        "colab_type": "code",
        "colab": {}
      },
      "source": [
        "test = {\"co_app_verifiable_annual_income\":68000,\"loan_use\":'Other', \\\n",
        "        \"employment_status\":'Retired', \"final_loan_amount\":25000, \"fico\":645,\\\n",
        "        \"lti\":18.23, \"xpn_bcc0300\":11, \"ndi_ratio\":0.37523456, \"utm_source\":''}"
      ],
      "execution_count": null,
      "outputs": []
    },
    {
      "cell_type": "code",
      "metadata": {
        "id": "MP-DYrWn8Bhi",
        "colab_type": "code",
        "colab": {
          "base_uri": "https://localhost:8080/",
          "height": 196
        },
        "outputId": "047d28c5-6bd1-4a3b-e322-0d53345ffdfb"
      },
      "source": [
        "check_lead_phase1(test)"
      ],
      "execution_count": null,
      "outputs": [
        {
          "output_type": "execute_result",
          "data": {
            "text/plain": [
              "{'error': False,\n",
              " 'return_lead': {'co_app_verifiable_annual_income': 68000,\n",
              "  'employment_status': 'Retired',\n",
              "  'fico': 645,\n",
              "  'final_loan_amount': 25000,\n",
              "  'loan_use': 'Other',\n",
              "  'lti': 18.23,\n",
              "  'ndi_ratio': 0.37523456,\n",
              "  'utm_source': nan,\n",
              "  'xpn_bcc0300': 11},\n",
              " 'warning': 'Imputing values for: utm_source'}"
            ]
          },
          "metadata": {
            "tags": []
          },
          "execution_count": 121
        }
      ]
    },
    {
      "cell_type": "code",
      "metadata": {
        "id": "t__GsnsS994g",
        "colab_type": "code",
        "colab": {
          "base_uri": "https://localhost:8080/",
          "height": 293
        },
        "outputId": "f5cad0db-4f75-4820-c928-3de6131739ad"
      },
      "source": [
        "run(test)"
      ],
      "execution_count": null,
      "outputs": [
        {
          "output_type": "stream",
          "text": [
            "['co_app' 'loan_use' 'mkt_chan' 'ficox' 'lti' 'bcc0300' 'employment_3'\n",
            " 'loan_amount_4' 'ndi_3']\n",
            "0.07341588521315365\n"
          ],
          "name": "stdout"
        },
        {
          "output_type": "execute_result",
          "data": {
            "text/plain": [
              "[{'co_app_verifiable_annual_income': '68000',\n",
              "  'employment_status': 'Retired',\n",
              "  'fico': '645',\n",
              "  'final_loan_amount': '25000',\n",
              "  'fuse.error_flag': False,\n",
              "  'fuse.error_reason': 'Imputing values for: utm_source ',\n",
              "  'fuse.model': 'fplus_ls_202008_v1',\n",
              "  'fuse.npv': 79.39927985802565,\n",
              "  'fuse.score': 0.07341588521315365,\n",
              "  'loan_use': 'Other',\n",
              "  'lti': 18.23,\n",
              "  'ndi_ratio': '0.37523456',\n",
              "  'utm_source': '',\n",
              "  'xpn_bcc0300': '11'}]"
            ]
          },
          "metadata": {
            "tags": []
          },
          "execution_count": 122
        }
      ]
    },
    {
      "cell_type": "code",
      "metadata": {
        "id": "GIfgS0TN7FJc",
        "colab_type": "code",
        "colab": {
          "base_uri": "https://localhost:8080/",
          "height": 196
        },
        "outputId": "4958c4e3-ba3c-4aff-de61-0570defb9229"
      },
      "source": [
        "lead = {\"co_app_verifiable_annual_income\":342,\"loan_use\":'Debt Consolidation', \\\n",
        "        \"employment_status\":'Full-time', \"final_loan_amount\":25000, \"fico\":700,\\\n",
        "        \"lti\":25.8, \"xpn_bcc0300\":42, \"ndi_ratio\":40, \"utm_source\":'Lending Tree'}\n",
        "check_lead_phase1(lead)"
      ],
      "execution_count": null,
      "outputs": [
        {
          "output_type": "execute_result",
          "data": {
            "text/plain": [
              "{'error': False,\n",
              " 'return_lead': {'co_app_verifiable_annual_income': 342,\n",
              "  'employment_status': 'Full-time',\n",
              "  'fico': 700,\n",
              "  'final_loan_amount': 25000,\n",
              "  'loan_use': 'Debt Consolidation',\n",
              "  'lti': 25.8,\n",
              "  'ndi_ratio': 40,\n",
              "  'utm_source': 'Lending Tree',\n",
              "  'xpn_bcc0300': 42},\n",
              " 'warning': ''}"
            ]
          },
          "metadata": {
            "tags": []
          },
          "execution_count": 123
        }
      ]
    },
    {
      "cell_type": "code",
      "metadata": {
        "id": "wNSY88cq7GJq",
        "colab_type": "code",
        "colab": {
          "base_uri": "https://localhost:8080/",
          "height": 293
        },
        "outputId": "f554cadc-b28c-4574-8bb5-2b7136870251"
      },
      "source": [
        "run(lead)"
      ],
      "execution_count": null,
      "outputs": [
        {
          "output_type": "stream",
          "text": [
            "['co_app' 'loan_use' 'mkt_chan' 'ficox' 'lti' 'bcc0300' 'employment_2'\n",
            " 'loan_amount_4' 'ndi_1']\n",
            "0.07068011014401647\n"
          ],
          "name": "stdout"
        },
        {
          "output_type": "execute_result",
          "data": {
            "text/plain": [
              "[{'co_app_verifiable_annual_income': '342',\n",
              "  'employment_status': 'Full-time',\n",
              "  'fico': '700',\n",
              "  'final_loan_amount': '25000',\n",
              "  'fuse.error_flag': False,\n",
              "  'fuse.error_reason': '',\n",
              "  'fuse.model': 'fplus_ls_202008_v1',\n",
              "  'fuse.npv': 76.4405391207538,\n",
              "  'fuse.score': 0.07068011014401647,\n",
              "  'loan_use': 'Debt Consolidation',\n",
              "  'lti': 25.8,\n",
              "  'ndi_ratio': '40',\n",
              "  'utm_source': 'Lending Tree',\n",
              "  'xpn_bcc0300': '42'}]"
            ]
          },
          "metadata": {
            "tags": []
          },
          "execution_count": 124
        }
      ]
    },
    {
      "cell_type": "code",
      "metadata": {
        "id": "r2JACz_v7KwS",
        "colab_type": "code",
        "colab": {}
      },
      "source": [
        ""
      ],
      "execution_count": null,
      "outputs": []
    },
    {
      "cell_type": "markdown",
      "metadata": {
        "id": "9JqdFznO0phk",
        "colab_type": "text"
      },
      "source": [
        "# Validation"
      ]
    },
    {
      "cell_type": "markdown",
      "metadata": {
        "id": "hU0hkwuL0r8M",
        "colab_type": "text"
      },
      "source": [
        "### Load Data"
      ]
    },
    {
      "cell_type": "code",
      "metadata": {
        "id": "lebLyfMw1bMX",
        "colab_type": "code",
        "colab": {
          "base_uri": "https://localhost:8080/",
          "height": 70
        },
        "outputId": "13777952-35c4-4999-d379-01238d84e1b3"
      },
      "source": [
        "# Using GBQ shout Out to Hughes\n",
        "import pandas_gbq\n",
        "import pydata_google_auth\n",
        "\n",
        "SCOPES = [\n",
        "    'https://www.googleapis.com/auth/cloud-platform',\n",
        "    'https://www.googleapis.com/auth/drive',\n",
        "]\n",
        "\n",
        "credentials = pydata_google_auth.get_user_credentials(\n",
        "    SCOPES,\n",
        "    auth_local_webserver=False)"
      ],
      "execution_count": null,
      "outputs": [
        {
          "output_type": "stream",
          "text": [
            "Please visit this URL to authorize this application: https://accounts.google.com/o/oauth2/auth?response_type=code&client_id=262006177488-3425ks60hkk80fssi9vpohv88g6q1iqd.apps.googleusercontent.com&redirect_uri=urn%3Aietf%3Awg%3Aoauth%3A2.0%3Aoob&scope=https%3A%2F%2Fwww.googleapis.com%2Fauth%2Fcloud-platform+https%3A%2F%2Fwww.googleapis.com%2Fauth%2Fdrive&state=zRMFNc6WjpiVOFwTmpw6SEuRBAY71h&prompt=consent&access_type=offline\n",
            "Enter the authorization code: 4/3AHVpf2DS6lmVg7TxNEajbnBMZjCCuOH7ab_22JhFNQxBX3wcPb05yk\n"
          ],
          "name": "stdout"
        }
      ]
    },
    {
      "cell_type": "code",
      "metadata": {
        "id": "s7c4y9Fi0rIH",
        "colab_type": "code",
        "colab": {}
      },
      "source": [
        "sql = \"\"\"\n",
        "SELECT\n",
        "   m.name\n",
        "  ,CAST(m.funded_flag AS INT64) AS funded_flag\n",
        "  ,CAST(m.first_coapp AS INT64) AS first_coapp\n",
        "  ,m.first_loan_use\n",
        "  ,m.employment_status__c\n",
        "  ,CAST(m.first_amount_of_loan_requested AS INT64) AS first_amount_of_loan_requested\n",
        "  ,m.first_FICO\n",
        "  ,m.First_LTI\n",
        "  ,CAST(m.first_bcc0300__c AS INT64) AS first_bcc0300__c\n",
        "  ,m.first_ndi_ratio__c\n",
        "  ,m.utm_source__c\n",
        "  ,a.original_npv_phase\n",
        "  ,a.final_loan_amount\n",
        "FROM\n",
        "  `ffn-dw-bigquery-prd.Credit_Views.Check_Sales_NPV_Model_Inputs` m \n",
        "LEFT JOIN\n",
        "  `ffam-data-platform.standardized_data.fplus_application` a on m.name = a.loan_id\n",
        "WHERE\n",
        "  createddate BETWEEN '2020-06-01' AND '2020-07-16'\n",
        "  AND lead_type__c = 'Web'\n",
        "ORDER BY 1\n",
        "\"\"\""
      ],
      "execution_count": null,
      "outputs": []
    },
    {
      "cell_type": "code",
      "metadata": {
        "id": "isut8_Nx1cq9",
        "colab_type": "code",
        "colab": {}
      },
      "source": [
        "df = pandas_gbq.read_gbq(sql, project_id='ffn-dw-bigquery-prd', credentials=credentials, dialect='standard')\n"
      ],
      "execution_count": null,
      "outputs": []
    },
    {
      "cell_type": "code",
      "metadata": {
        "id": "moltpXVu1xRF",
        "colab_type": "code",
        "colab": {
          "base_uri": "https://localhost:8080/",
          "height": 292
        },
        "outputId": "3aafa2a3-4a9f-4d9f-8266-d9318456e1d8"
      },
      "source": [
        "df.head()"
      ],
      "execution_count": null,
      "outputs": [
        {
          "output_type": "execute_result",
          "data": {
            "text/html": [
              "<div>\n",
              "<style scoped>\n",
              "    .dataframe tbody tr th:only-of-type {\n",
              "        vertical-align: middle;\n",
              "    }\n",
              "\n",
              "    .dataframe tbody tr th {\n",
              "        vertical-align: top;\n",
              "    }\n",
              "\n",
              "    .dataframe thead th {\n",
              "        text-align: right;\n",
              "    }\n",
              "</style>\n",
              "<table border=\"1\" class=\"dataframe\">\n",
              "  <thead>\n",
              "    <tr style=\"text-align: right;\">\n",
              "      <th></th>\n",
              "      <th>name</th>\n",
              "      <th>funded_flag</th>\n",
              "      <th>first_coapp</th>\n",
              "      <th>first_loan_use</th>\n",
              "      <th>employment_status__c</th>\n",
              "      <th>first_amount_of_loan_requested</th>\n",
              "      <th>first_FICO</th>\n",
              "      <th>First_LTI</th>\n",
              "      <th>first_bcc0300__c</th>\n",
              "      <th>first_ndi_ratio__c</th>\n",
              "      <th>utm_source__c</th>\n",
              "      <th>original_npv_phase</th>\n",
              "      <th>final_loan_amount</th>\n",
              "    </tr>\n",
              "  </thead>\n",
              "  <tbody>\n",
              "    <tr>\n",
              "      <th>0</th>\n",
              "      <td>App-07692220</td>\n",
              "      <td>0</td>\n",
              "      <td>0</td>\n",
              "      <td>Home Improvement</td>\n",
              "      <td>Full-time</td>\n",
              "      <td>30000.0</td>\n",
              "      <td>722.0</td>\n",
              "      <td>0.272727</td>\n",
              "      <td>12.0</td>\n",
              "      <td>0.3743956205591811</td>\n",
              "      <td>Lending Tree</td>\n",
              "      <td>63.43</td>\n",
              "      <td>30000.0</td>\n",
              "    </tr>\n",
              "    <tr>\n",
              "      <th>1</th>\n",
              "      <td>App-07692221</td>\n",
              "      <td>0</td>\n",
              "      <td>0</td>\n",
              "      <td>Other</td>\n",
              "      <td>Full-time</td>\n",
              "      <td>NaN</td>\n",
              "      <td>684.0</td>\n",
              "      <td>0.277778</td>\n",
              "      <td>NaN</td>\n",
              "      <td>0.3431510950139807</td>\n",
              "      <td>Lending Tree</td>\n",
              "      <td>43.51</td>\n",
              "      <td>25000.0</td>\n",
              "    </tr>\n",
              "    <tr>\n",
              "      <th>2</th>\n",
              "      <td>App-07692222</td>\n",
              "      <td>0</td>\n",
              "      <td>1</td>\n",
              "      <td>Home Improvement</td>\n",
              "      <td>Full-time</td>\n",
              "      <td>22000.0</td>\n",
              "      <td>745.0</td>\n",
              "      <td>0.144737</td>\n",
              "      <td>NaN</td>\n",
              "      <td>0.19591872845465313</td>\n",
              "      <td>Lending Tree</td>\n",
              "      <td>98.92</td>\n",
              "      <td>22000.0</td>\n",
              "    </tr>\n",
              "    <tr>\n",
              "      <th>3</th>\n",
              "      <td>App-07692223</td>\n",
              "      <td>0</td>\n",
              "      <td>0</td>\n",
              "      <td>Major Purchase</td>\n",
              "      <td>Full-time</td>\n",
              "      <td>NaN</td>\n",
              "      <td>712.0</td>\n",
              "      <td>0.363636</td>\n",
              "      <td>3.0</td>\n",
              "      <td>0.5409641010175394</td>\n",
              "      <td>ck</td>\n",
              "      <td>-3.62</td>\n",
              "      <td>11500.0</td>\n",
              "    </tr>\n",
              "    <tr>\n",
              "      <th>4</th>\n",
              "      <td>App-07692224</td>\n",
              "      <td>0</td>\n",
              "      <td>0</td>\n",
              "      <td>Credit Card Refinancing</td>\n",
              "      <td>Full-time</td>\n",
              "      <td>19000.0</td>\n",
              "      <td>686.0</td>\n",
              "      <td>0.275362</td>\n",
              "      <td>1.0</td>\n",
              "      <td>0.31619214618545377</td>\n",
              "      <td>Lending Tree</td>\n",
              "      <td>43.78</td>\n",
              "      <td>19000.0</td>\n",
              "    </tr>\n",
              "  </tbody>\n",
              "</table>\n",
              "</div>"
            ],
            "text/plain": [
              "           name  funded_flag  ...  original_npv_phase final_loan_amount\n",
              "0  App-07692220            0  ...               63.43           30000.0\n",
              "1  App-07692221            0  ...               43.51           25000.0\n",
              "2  App-07692222            0  ...               98.92           22000.0\n",
              "3  App-07692223            0  ...               -3.62           11500.0\n",
              "4  App-07692224            0  ...               43.78           19000.0\n",
              "\n",
              "[5 rows x 13 columns]"
            ]
          },
          "metadata": {
            "tags": []
          },
          "execution_count": 7
        }
      ]
    },
    {
      "cell_type": "code",
      "metadata": {
        "id": "SYja7lsfJ7wr",
        "colab_type": "code",
        "colab": {
          "base_uri": "https://localhost:8080/",
          "height": 342
        },
        "outputId": "f35a17b6-7917-491d-d173-0fe054572252"
      },
      "source": [
        "df.info()"
      ],
      "execution_count": null,
      "outputs": [
        {
          "output_type": "stream",
          "text": [
            "<class 'pandas.core.frame.DataFrame'>\n",
            "RangeIndex: 50172 entries, 0 to 50171\n",
            "Data columns (total 13 columns):\n",
            " #   Column                          Non-Null Count  Dtype  \n",
            "---  ------                          --------------  -----  \n",
            " 0   name                            50172 non-null  object \n",
            " 1   funded_flag                     50172 non-null  int64  \n",
            " 2   first_coapp                     50172 non-null  int64  \n",
            " 3   first_loan_use                  49423 non-null  object \n",
            " 4   employment_status__c            49442 non-null  object \n",
            " 5   first_amount_of_loan_requested  20173 non-null  float64\n",
            " 6   first_FICO                      44076 non-null  object \n",
            " 7   First_LTI                       49436 non-null  float64\n",
            " 8   first_bcc0300__c                17311 non-null  float64\n",
            " 9   first_ndi_ratio__c              44073 non-null  object \n",
            " 10  utm_source__c                   49781 non-null  object \n",
            " 11  original_npv_phase              49438 non-null  float64\n",
            " 12  final_loan_amount               50139 non-null  float64\n",
            "dtypes: float64(5), int64(2), object(6)\n",
            "memory usage: 5.0+ MB\n"
          ],
          "name": "stdout"
        }
      ]
    },
    {
      "cell_type": "code",
      "metadata": {
        "id": "QK9tkrRf4a6-",
        "colab_type": "code",
        "colab": {
          "base_uri": "https://localhost:8080/",
          "height": 423
        },
        "outputId": "d0a58f51-0682-4c8c-b58c-1788a7ae1b7a"
      },
      "source": [
        "df.info()"
      ],
      "execution_count": null,
      "outputs": [
        {
          "output_type": "stream",
          "text": [
            "<class 'pandas.core.frame.DataFrame'>\n",
            "RangeIndex: 37477 entries, 0 to 37476\n",
            "Data columns (total 18 columns):\n",
            " #   Column                          Non-Null Count  Dtype  \n",
            "---  ------                          --------------  -----  \n",
            " 0   name                            37477 non-null  object \n",
            " 1   funded_flag                     37477 non-null  int64  \n",
            " 2   first_coapp                     37477 non-null  int64  \n",
            " 3   first_loan_use                  36867 non-null  object \n",
            " 4   employment_status__c            36885 non-null  object \n",
            " 5   first_amount_of_loan_requested  13936 non-null  float64\n",
            " 6   first_FICO                      32747 non-null  float64\n",
            " 7   First_LTI                       36881 non-null  float64\n",
            " 8   first_bcc0300__c                12808 non-null  float64\n",
            " 9   first_ndi_ratio__c              32754 non-null  object \n",
            " 10  utm_source__c                   37178 non-null  object \n",
            " 11  original_npv_phase              36882 non-null  float64\n",
            " 12  final_loan_amount               37450 non-null  float64\n",
            " 13  co_app                          37477 non-null  int64  \n",
            " 14  loan_use                        37477 non-null  int64  \n",
            " 15  employment                      37477 non-null  int64  \n",
            " 16  loan_amount                     37477 non-null  int64  \n",
            " 17  mkt_chan                        37477 non-null  float64\n",
            "dtypes: float64(7), int64(6), object(5)\n",
            "memory usage: 5.1+ MB\n"
          ],
          "name": "stdout"
        }
      ]
    },
    {
      "cell_type": "code",
      "metadata": {
        "id": "K3y4LU1q4TEz",
        "colab_type": "code",
        "colab": {}
      },
      "source": [
        "#int(df['first_FICO'])\n",
        "# convert column \"a\" of a DataFrame\n",
        "df['first_FICO'] = pd.to_numeric(df['first_FICO'])"
      ],
      "execution_count": null,
      "outputs": []
    },
    {
      "cell_type": "code",
      "metadata": {
        "id": "5Cp0wpov1565",
        "colab_type": "code",
        "colab": {
          "base_uri": "https://localhost:8080/",
          "height": 245
        },
        "outputId": "3a73c5a9-0f93-4b48-b2eb-e1bf4cb01e9c"
      },
      "source": [
        "df.isna().sum()"
      ],
      "execution_count": null,
      "outputs": [
        {
          "output_type": "execute_result",
          "data": {
            "text/plain": [
              "name                                  0\n",
              "funded_flag                           0\n",
              "first_coapp                           0\n",
              "first_loan_use                      610\n",
              "employment_status__c                592\n",
              "first_amount_of_loan_requested    23541\n",
              "first_FICO                         4730\n",
              "First_LTI                           596\n",
              "first_bcc0300__c                  24669\n",
              "first_ndi_ratio__c                 4723\n",
              "utm_source__c                       299\n",
              "original_npv_phase                  595\n",
              "final_loan_amount                    27\n",
              "dtype: int64"
            ]
          },
          "metadata": {
            "tags": []
          },
          "execution_count": 6
        }
      ]
    },
    {
      "cell_type": "code",
      "metadata": {
        "id": "5JqiiKA45y-c",
        "colab_type": "code",
        "colab": {
          "base_uri": "https://localhost:8080/",
          "height": 66
        },
        "outputId": "5ceb7ba8-49d0-456f-a441-86aea8e534cf"
      },
      "source": [
        "# percent of data that has funded or not\n",
        "df1['funded_flag'].value_counts()/len(df1)"
      ],
      "execution_count": null,
      "outputs": [
        {
          "output_type": "execute_result",
          "data": {
            "text/plain": [
              "0    0.974251\n",
              "1    0.025749\n",
              "Name: funded_flag, dtype: float64"
            ]
          },
          "metadata": {
            "tags": []
          },
          "execution_count": 53
        }
      ]
    },
    {
      "cell_type": "code",
      "metadata": {
        "id": "zW6tbCQZ2GIZ",
        "colab_type": "code",
        "colab": {}
      },
      "source": [
        "# save full data\n",
        "df1 = df"
      ],
      "execution_count": null,
      "outputs": []
    },
    {
      "cell_type": "markdown",
      "metadata": {
        "id": "dPTXxk4O1sOv",
        "colab_type": "text"
      },
      "source": [
        "## Transform Data"
      ]
    },
    {
      "cell_type": "code",
      "metadata": {
        "id": "pXxA479S1j2w",
        "colab_type": "code",
        "colab": {}
      },
      "source": [
        "# Transform variables\n",
        "df['co_app'] = df['first_coapp'].apply(get_co_app_cat)\n",
        "df['loan_use'] = df['first_loan_use'].apply(get_loan_use_cat)\n",
        "df['employment'] = df['employment_status__c'].apply(get_employment_cat)\n",
        "df['loan_amount'] = df['first_amount_of_loan_requested'].apply(get_loan_amount_cat)\n",
        "df['mkt_chan'] = df['utm_source__c'].apply(get_mkt_chan_cat)\n",
        "df['ficox'] = df['first_FICO'].apply(get_fico)\n",
        "df['lti'] = df['First_LTI'].apply(get_lti)\n",
        "df['bcc0300'] = df['first_bcc0300__c'].apply(get_bcc0300)\n",
        "df['ndi'] = df['first_ndi_ratio__c'].apply(get_ndi_cat)"
      ],
      "execution_count": null,
      "outputs": []
    },
    {
      "cell_type": "code",
      "metadata": {
        "id": "odXj9ZxA6PbI",
        "colab_type": "code",
        "colab": {}
      },
      "source": [
        ""
      ],
      "execution_count": null,
      "outputs": []
    },
    {
      "cell_type": "code",
      "metadata": {
        "id": "XgQqtgWg6D72",
        "colab_type": "code",
        "colab": {
          "base_uri": "https://localhost:8080/",
          "height": 191
        },
        "outputId": "92bbd6cb-f772-4eb3-fb1a-997d44358ad6"
      },
      "source": [
        "things = ['funded_flag', 'co_app', 'loan_use', 'mkt_chan', 'ficox', 'employment', 'lti', 'bcc0300', 'loan_amount', 'ndi']\n",
        "val = df[things]\n",
        "val.head()"
      ],
      "execution_count": null,
      "outputs": [
        {
          "output_type": "execute_result",
          "data": {
            "text/html": [
              "<div>\n",
              "<style scoped>\n",
              "    .dataframe tbody tr th:only-of-type {\n",
              "        vertical-align: middle;\n",
              "    }\n",
              "\n",
              "    .dataframe tbody tr th {\n",
              "        vertical-align: top;\n",
              "    }\n",
              "\n",
              "    .dataframe thead th {\n",
              "        text-align: right;\n",
              "    }\n",
              "</style>\n",
              "<table border=\"1\" class=\"dataframe\">\n",
              "  <thead>\n",
              "    <tr style=\"text-align: right;\">\n",
              "      <th></th>\n",
              "      <th>funded_flag</th>\n",
              "      <th>co_app</th>\n",
              "      <th>loan_use</th>\n",
              "      <th>mkt_chan</th>\n",
              "      <th>ficox</th>\n",
              "      <th>employment</th>\n",
              "      <th>lti</th>\n",
              "      <th>bcc0300</th>\n",
              "      <th>loan_amount</th>\n",
              "      <th>ndi</th>\n",
              "    </tr>\n",
              "  </thead>\n",
              "  <tbody>\n",
              "    <tr>\n",
              "      <th>0</th>\n",
              "      <td>0</td>\n",
              "      <td>0</td>\n",
              "      <td>0</td>\n",
              "      <td>148.413159</td>\n",
              "      <td>0.500325</td>\n",
              "      <td>2</td>\n",
              "      <td>25.0</td>\n",
              "      <td>99</td>\n",
              "      <td>5</td>\n",
              "      <td>2</td>\n",
              "    </tr>\n",
              "    <tr>\n",
              "      <th>1</th>\n",
              "      <td>0</td>\n",
              "      <td>1</td>\n",
              "      <td>0</td>\n",
              "      <td>148.413159</td>\n",
              "      <td>0.500357</td>\n",
              "      <td>2</td>\n",
              "      <td>30.0</td>\n",
              "      <td>99</td>\n",
              "      <td>4</td>\n",
              "      <td>3</td>\n",
              "    </tr>\n",
              "    <tr>\n",
              "      <th>2</th>\n",
              "      <td>0</td>\n",
              "      <td>0</td>\n",
              "      <td>1</td>\n",
              "      <td>148.413159</td>\n",
              "      <td>0.500338</td>\n",
              "      <td>2</td>\n",
              "      <td>5.0</td>\n",
              "      <td>99</td>\n",
              "      <td>4</td>\n",
              "      <td>4</td>\n",
              "    </tr>\n",
              "    <tr>\n",
              "      <th>3</th>\n",
              "      <td>0</td>\n",
              "      <td>0</td>\n",
              "      <td>0</td>\n",
              "      <td>148.413159</td>\n",
              "      <td>0.500338</td>\n",
              "      <td>2</td>\n",
              "      <td>25.0</td>\n",
              "      <td>10</td>\n",
              "      <td>4</td>\n",
              "      <td>3</td>\n",
              "    </tr>\n",
              "    <tr>\n",
              "      <th>4</th>\n",
              "      <td>1</td>\n",
              "      <td>0</td>\n",
              "      <td>0</td>\n",
              "      <td>403.428793</td>\n",
              "      <td>0.500362</td>\n",
              "      <td>2</td>\n",
              "      <td>5.0</td>\n",
              "      <td>4</td>\n",
              "      <td>4</td>\n",
              "      <td>3</td>\n",
              "    </tr>\n",
              "  </tbody>\n",
              "</table>\n",
              "</div>"
            ],
            "text/plain": [
              "   funded_flag  co_app  loan_use    mkt_chan  ...   lti  bcc0300  loan_amount  ndi\n",
              "0            0       0         0  148.413159  ...  25.0       99            5    2\n",
              "1            0       1         0  148.413159  ...  30.0       99            4    3\n",
              "2            0       0         1  148.413159  ...   5.0       99            4    4\n",
              "3            0       0         0  148.413159  ...  25.0       10            4    3\n",
              "4            1       0         0  403.428793  ...   5.0        4            4    3\n",
              "\n",
              "[5 rows x 10 columns]"
            ]
          },
          "metadata": {
            "tags": []
          },
          "execution_count": 58
        }
      ]
    },
    {
      "cell_type": "code",
      "metadata": {
        "id": "fiWGBY8F3ulM",
        "colab_type": "code",
        "colab": {
          "base_uri": "https://localhost:8080/",
          "height": 82
        },
        "outputId": "58ae00b9-b6b1-40b7-d4c7-38c4aebafddd"
      },
      "source": [
        "# create dummies\n",
        "cat_vars=['employment','loan_amount', 'ndi']\n",
        "for var in cat_vars:\n",
        "    cat_list = pd.get_dummies(val[var], prefix=var)\n",
        "    temp=val.join(cat_list)\n",
        "    val=temp\n",
        "data_vars=val.columns.values.tolist()\n",
        "to_keep=[i for i in data_vars if i not in cat_vars]\n",
        "val=val[to_keep]\n",
        "print(val.columns.values)\n",
        "\n",
        "# re-index to have same columns as the model\n",
        "val = val.reindex(columns = ['funded_flag', 'ficox', 'lti', 'bcc0300', 'co_app',\n",
        "                               'loan_use', 'employment_1',\n",
        "                               'employment_2', 'employment_3', 'loan_amount_1',\n",
        "                               'loan_amount_2', 'loan_amount_3', 'loan_amount_4', \n",
        "                               'loan_amount_5', 'mkt_chan', 'ndi_1', 'ndi_2',\n",
        "                               'ndi_3', 'ndi_4',], fill_value=0)"
      ],
      "execution_count": null,
      "outputs": [
        {
          "output_type": "stream",
          "text": [
            "['funded_flag' 'co_app' 'loan_use' 'mkt_chan' 'ficox' 'lti' 'bcc0300'\n",
            " 'employment_1' 'employment_2' 'employment_3' 'loan_amount_1'\n",
            " 'loan_amount_2' 'loan_amount_3' 'loan_amount_4' 'loan_amount_5' 'ndi_1'\n",
            " 'ndi_2' 'ndi_3' 'ndi_4']\n"
          ],
          "name": "stdout"
        }
      ]
    },
    {
      "cell_type": "code",
      "metadata": {
        "id": "jaVHaRjl6ZST",
        "colab_type": "code",
        "colab": {
          "base_uri": "https://localhost:8080/",
          "height": 98
        },
        "outputId": "16b3ffc4-0439-4934-aab5-6f9f88c943f8"
      },
      "source": [
        "val.columns"
      ],
      "execution_count": null,
      "outputs": [
        {
          "output_type": "execute_result",
          "data": {
            "text/plain": [
              "Index(['funded_flag', 'ficox', 'lti', 'bcc0300', 'co_app', 'loan_use',\n",
              "       'employment_1', 'employment_2', 'employment_3', 'loan_amount_1',\n",
              "       'loan_amount_2', 'loan_amount_3', 'loan_amount_4', 'loan_amount_5',\n",
              "       'mkt_chan', 'ndi_1', 'ndi_2', 'ndi_3', 'ndi_4'],\n",
              "      dtype='object')"
            ]
          },
          "metadata": {
            "tags": []
          },
          "execution_count": 60
        }
      ]
    },
    {
      "cell_type": "code",
      "metadata": {
        "id": "PsxPxu9n6Z4K",
        "colab_type": "code",
        "colab": {
          "base_uri": "https://localhost:8080/",
          "height": 342
        },
        "outputId": "ec5df441-c9eb-4bcb-da26-24ac528498dc"
      },
      "source": [
        "val.isna().sum()"
      ],
      "execution_count": null,
      "outputs": [
        {
          "output_type": "execute_result",
          "data": {
            "text/plain": [
              "funded_flag      0\n",
              "ficox            0\n",
              "lti              0\n",
              "bcc0300          0\n",
              "co_app           0\n",
              "loan_use         0\n",
              "employment_1     0\n",
              "employment_2     0\n",
              "employment_3     0\n",
              "loan_amount_1    0\n",
              "loan_amount_2    0\n",
              "loan_amount_3    0\n",
              "loan_amount_4    0\n",
              "loan_amount_5    0\n",
              "mkt_chan         0\n",
              "ndi_1            0\n",
              "ndi_2            0\n",
              "ndi_3            0\n",
              "ndi_4            0\n",
              "dtype: int64"
            ]
          },
          "metadata": {
            "tags": []
          },
          "execution_count": 61
        }
      ]
    },
    {
      "cell_type": "code",
      "metadata": {
        "id": "CS7pqueg68D6",
        "colab_type": "code",
        "colab": {
          "base_uri": "https://localhost:8080/",
          "height": 297
        },
        "outputId": "71b72b41-00c7-46d5-8e4f-bb125d470646"
      },
      "source": [
        "val.describe()"
      ],
      "execution_count": null,
      "outputs": [
        {
          "output_type": "execute_result",
          "data": {
            "text/html": [
              "<div>\n",
              "<style scoped>\n",
              "    .dataframe tbody tr th:only-of-type {\n",
              "        vertical-align: middle;\n",
              "    }\n",
              "\n",
              "    .dataframe tbody tr th {\n",
              "        vertical-align: top;\n",
              "    }\n",
              "\n",
              "    .dataframe thead th {\n",
              "        text-align: right;\n",
              "    }\n",
              "</style>\n",
              "<table border=\"1\" class=\"dataframe\">\n",
              "  <thead>\n",
              "    <tr style=\"text-align: right;\">\n",
              "      <th></th>\n",
              "      <th>funded_flag</th>\n",
              "      <th>ficox</th>\n",
              "      <th>lti</th>\n",
              "      <th>bcc0300</th>\n",
              "      <th>co_app</th>\n",
              "      <th>loan_use</th>\n",
              "      <th>employment_1</th>\n",
              "      <th>employment_2</th>\n",
              "      <th>employment_3</th>\n",
              "      <th>loan_amount_1</th>\n",
              "      <th>loan_amount_2</th>\n",
              "      <th>loan_amount_3</th>\n",
              "      <th>loan_amount_4</th>\n",
              "      <th>loan_amount_5</th>\n",
              "      <th>mkt_chan</th>\n",
              "      <th>ndi_1</th>\n",
              "      <th>ndi_2</th>\n",
              "      <th>ndi_3</th>\n",
              "      <th>ndi_4</th>\n",
              "    </tr>\n",
              "  </thead>\n",
              "  <tbody>\n",
              "    <tr>\n",
              "      <th>count</th>\n",
              "      <td>37477.000000</td>\n",
              "      <td>37477.000000</td>\n",
              "      <td>37477.000000</td>\n",
              "      <td>37477.000000</td>\n",
              "      <td>37477.000000</td>\n",
              "      <td>37477.000000</td>\n",
              "      <td>37477.000000</td>\n",
              "      <td>37477.000000</td>\n",
              "      <td>37477.000000</td>\n",
              "      <td>37477.000000</td>\n",
              "      <td>37477.000000</td>\n",
              "      <td>37477.000000</td>\n",
              "      <td>37477.000000</td>\n",
              "      <td>37477.000000</td>\n",
              "      <td>37477.000000</td>\n",
              "      <td>37477.000000</td>\n",
              "      <td>37477.000000</td>\n",
              "      <td>37477.000000</td>\n",
              "      <td>37477.000000</td>\n",
              "    </tr>\n",
              "    <tr>\n",
              "      <th>mean</th>\n",
              "      <td>0.025749</td>\n",
              "      <td>0.500344</td>\n",
              "      <td>19.330378</td>\n",
              "      <td>67.953918</td>\n",
              "      <td>0.203325</td>\n",
              "      <td>0.192571</td>\n",
              "      <td>0.104010</td>\n",
              "      <td>0.871228</td>\n",
              "      <td>0.024762</td>\n",
              "      <td>0.006564</td>\n",
              "      <td>0.039678</td>\n",
              "      <td>0.095392</td>\n",
              "      <td>0.208901</td>\n",
              "      <td>0.649465</td>\n",
              "      <td>139.035683</td>\n",
              "      <td>0.161326</td>\n",
              "      <td>0.140566</td>\n",
              "      <td>0.533180</td>\n",
              "      <td>0.164928</td>\n",
              "    </tr>\n",
              "    <tr>\n",
              "      <th>std</th>\n",
              "      <td>0.158388</td>\n",
              "      <td>0.000037</td>\n",
              "      <td>11.284676</td>\n",
              "      <td>43.198898</td>\n",
              "      <td>0.402477</td>\n",
              "      <td>0.394325</td>\n",
              "      <td>0.305278</td>\n",
              "      <td>0.334952</td>\n",
              "      <td>0.155401</td>\n",
              "      <td>0.080753</td>\n",
              "      <td>0.195203</td>\n",
              "      <td>0.293759</td>\n",
              "      <td>0.406529</td>\n",
              "      <td>0.477144</td>\n",
              "      <td>100.187161</td>\n",
              "      <td>0.367836</td>\n",
              "      <td>0.347578</td>\n",
              "      <td>0.498905</td>\n",
              "      <td>0.371120</td>\n",
              "    </tr>\n",
              "    <tr>\n",
              "      <th>min</th>\n",
              "      <td>0.000000</td>\n",
              "      <td>0.500278</td>\n",
              "      <td>0.360000</td>\n",
              "      <td>0.000000</td>\n",
              "      <td>0.000000</td>\n",
              "      <td>0.000000</td>\n",
              "      <td>0.000000</td>\n",
              "      <td>0.000000</td>\n",
              "      <td>0.000000</td>\n",
              "      <td>0.000000</td>\n",
              "      <td>0.000000</td>\n",
              "      <td>0.000000</td>\n",
              "      <td>0.000000</td>\n",
              "      <td>0.000000</td>\n",
              "      <td>7.389056</td>\n",
              "      <td>0.000000</td>\n",
              "      <td>0.000000</td>\n",
              "      <td>0.000000</td>\n",
              "      <td>0.000000</td>\n",
              "    </tr>\n",
              "    <tr>\n",
              "      <th>25%</th>\n",
              "      <td>0.000000</td>\n",
              "      <td>0.500325</td>\n",
              "      <td>5.000000</td>\n",
              "      <td>10.000000</td>\n",
              "      <td>0.000000</td>\n",
              "      <td>0.000000</td>\n",
              "      <td>0.000000</td>\n",
              "      <td>1.000000</td>\n",
              "      <td>0.000000</td>\n",
              "      <td>0.000000</td>\n",
              "      <td>0.000000</td>\n",
              "      <td>0.000000</td>\n",
              "      <td>0.000000</td>\n",
              "      <td>0.000000</td>\n",
              "      <td>54.598150</td>\n",
              "      <td>0.000000</td>\n",
              "      <td>0.000000</td>\n",
              "      <td>0.000000</td>\n",
              "      <td>0.000000</td>\n",
              "    </tr>\n",
              "    <tr>\n",
              "      <th>50%</th>\n",
              "      <td>0.000000</td>\n",
              "      <td>0.500352</td>\n",
              "      <td>20.000000</td>\n",
              "      <td>99.000000</td>\n",
              "      <td>0.000000</td>\n",
              "      <td>0.000000</td>\n",
              "      <td>0.000000</td>\n",
              "      <td>1.000000</td>\n",
              "      <td>0.000000</td>\n",
              "      <td>0.000000</td>\n",
              "      <td>0.000000</td>\n",
              "      <td>0.000000</td>\n",
              "      <td>0.000000</td>\n",
              "      <td>1.000000</td>\n",
              "      <td>148.413159</td>\n",
              "      <td>0.000000</td>\n",
              "      <td>0.000000</td>\n",
              "      <td>1.000000</td>\n",
              "      <td>0.000000</td>\n",
              "    </tr>\n",
              "    <tr>\n",
              "      <th>75%</th>\n",
              "      <td>0.000000</td>\n",
              "      <td>0.500373</td>\n",
              "      <td>25.000000</td>\n",
              "      <td>99.000000</td>\n",
              "      <td>0.000000</td>\n",
              "      <td>0.000000</td>\n",
              "      <td>0.000000</td>\n",
              "      <td>1.000000</td>\n",
              "      <td>0.000000</td>\n",
              "      <td>0.000000</td>\n",
              "      <td>0.000000</td>\n",
              "      <td>0.000000</td>\n",
              "      <td>0.000000</td>\n",
              "      <td>1.000000</td>\n",
              "      <td>148.413159</td>\n",
              "      <td>0.000000</td>\n",
              "      <td>0.000000</td>\n",
              "      <td>1.000000</td>\n",
              "      <td>0.000000</td>\n",
              "    </tr>\n",
              "    <tr>\n",
              "      <th>max</th>\n",
              "      <td>1.000000</td>\n",
              "      <td>0.500403</td>\n",
              "      <td>45.000000</td>\n",
              "      <td>99.000000</td>\n",
              "      <td>1.000000</td>\n",
              "      <td>1.000000</td>\n",
              "      <td>1.000000</td>\n",
              "      <td>1.000000</td>\n",
              "      <td>1.000000</td>\n",
              "      <td>1.000000</td>\n",
              "      <td>1.000000</td>\n",
              "      <td>1.000000</td>\n",
              "      <td>1.000000</td>\n",
              "      <td>1.000000</td>\n",
              "      <td>403.428793</td>\n",
              "      <td>1.000000</td>\n",
              "      <td>1.000000</td>\n",
              "      <td>1.000000</td>\n",
              "      <td>1.000000</td>\n",
              "    </tr>\n",
              "  </tbody>\n",
              "</table>\n",
              "</div>"
            ],
            "text/plain": [
              "        funded_flag         ficox  ...         ndi_3         ndi_4\n",
              "count  37477.000000  37477.000000  ...  37477.000000  37477.000000\n",
              "mean       0.025749      0.500344  ...      0.533180      0.164928\n",
              "std        0.158388      0.000037  ...      0.498905      0.371120\n",
              "min        0.000000      0.500278  ...      0.000000      0.000000\n",
              "25%        0.000000      0.500325  ...      0.000000      0.000000\n",
              "50%        0.000000      0.500352  ...      1.000000      0.000000\n",
              "75%        0.000000      0.500373  ...      1.000000      0.000000\n",
              "max        1.000000      0.500403  ...      1.000000      1.000000\n",
              "\n",
              "[8 rows x 19 columns]"
            ]
          },
          "metadata": {
            "tags": []
          },
          "execution_count": 62
        }
      ]
    },
    {
      "cell_type": "markdown",
      "metadata": {
        "id": "TtvJaLO37TDl",
        "colab_type": "text"
      },
      "source": [
        "## Predict"
      ]
    },
    {
      "cell_type": "code",
      "metadata": {
        "id": "xO4OgAKE7V1h",
        "colab_type": "code",
        "colab": {
          "base_uri": "https://localhost:8080/",
          "height": 391
        },
        "outputId": "672c76a0-906d-4c76-ee87-e954502dfe8c"
      },
      "source": [
        "val.drop(columns=['funded_flag'])"
      ],
      "execution_count": null,
      "outputs": [
        {
          "output_type": "execute_result",
          "data": {
            "text/html": [
              "<div>\n",
              "<style scoped>\n",
              "    .dataframe tbody tr th:only-of-type {\n",
              "        vertical-align: middle;\n",
              "    }\n",
              "\n",
              "    .dataframe tbody tr th {\n",
              "        vertical-align: top;\n",
              "    }\n",
              "\n",
              "    .dataframe thead th {\n",
              "        text-align: right;\n",
              "    }\n",
              "</style>\n",
              "<table border=\"1\" class=\"dataframe\">\n",
              "  <thead>\n",
              "    <tr style=\"text-align: right;\">\n",
              "      <th></th>\n",
              "      <th>ficox</th>\n",
              "      <th>lti</th>\n",
              "      <th>bcc0300</th>\n",
              "      <th>co_app</th>\n",
              "      <th>loan_use</th>\n",
              "      <th>employment_1</th>\n",
              "      <th>employment_2</th>\n",
              "      <th>employment_3</th>\n",
              "      <th>loan_amount_1</th>\n",
              "      <th>loan_amount_2</th>\n",
              "      <th>loan_amount_3</th>\n",
              "      <th>loan_amount_4</th>\n",
              "      <th>loan_amount_5</th>\n",
              "      <th>mkt_chan</th>\n",
              "      <th>ndi_1</th>\n",
              "      <th>ndi_2</th>\n",
              "      <th>ndi_3</th>\n",
              "      <th>ndi_4</th>\n",
              "    </tr>\n",
              "  </thead>\n",
              "  <tbody>\n",
              "    <tr>\n",
              "      <th>0</th>\n",
              "      <td>0.500325</td>\n",
              "      <td>25.0</td>\n",
              "      <td>99</td>\n",
              "      <td>0</td>\n",
              "      <td>0</td>\n",
              "      <td>0</td>\n",
              "      <td>1</td>\n",
              "      <td>0</td>\n",
              "      <td>0</td>\n",
              "      <td>0</td>\n",
              "      <td>0</td>\n",
              "      <td>0</td>\n",
              "      <td>1</td>\n",
              "      <td>148.413159</td>\n",
              "      <td>0</td>\n",
              "      <td>1</td>\n",
              "      <td>0</td>\n",
              "      <td>0</td>\n",
              "    </tr>\n",
              "    <tr>\n",
              "      <th>1</th>\n",
              "      <td>0.500357</td>\n",
              "      <td>30.0</td>\n",
              "      <td>99</td>\n",
              "      <td>1</td>\n",
              "      <td>0</td>\n",
              "      <td>0</td>\n",
              "      <td>1</td>\n",
              "      <td>0</td>\n",
              "      <td>0</td>\n",
              "      <td>0</td>\n",
              "      <td>0</td>\n",
              "      <td>1</td>\n",
              "      <td>0</td>\n",
              "      <td>148.413159</td>\n",
              "      <td>0</td>\n",
              "      <td>0</td>\n",
              "      <td>1</td>\n",
              "      <td>0</td>\n",
              "    </tr>\n",
              "    <tr>\n",
              "      <th>2</th>\n",
              "      <td>0.500338</td>\n",
              "      <td>5.0</td>\n",
              "      <td>99</td>\n",
              "      <td>0</td>\n",
              "      <td>1</td>\n",
              "      <td>0</td>\n",
              "      <td>1</td>\n",
              "      <td>0</td>\n",
              "      <td>0</td>\n",
              "      <td>0</td>\n",
              "      <td>0</td>\n",
              "      <td>1</td>\n",
              "      <td>0</td>\n",
              "      <td>148.413159</td>\n",
              "      <td>0</td>\n",
              "      <td>0</td>\n",
              "      <td>0</td>\n",
              "      <td>1</td>\n",
              "    </tr>\n",
              "    <tr>\n",
              "      <th>3</th>\n",
              "      <td>0.500338</td>\n",
              "      <td>25.0</td>\n",
              "      <td>10</td>\n",
              "      <td>0</td>\n",
              "      <td>0</td>\n",
              "      <td>0</td>\n",
              "      <td>1</td>\n",
              "      <td>0</td>\n",
              "      <td>0</td>\n",
              "      <td>0</td>\n",
              "      <td>0</td>\n",
              "      <td>1</td>\n",
              "      <td>0</td>\n",
              "      <td>148.413159</td>\n",
              "      <td>0</td>\n",
              "      <td>0</td>\n",
              "      <td>1</td>\n",
              "      <td>0</td>\n",
              "    </tr>\n",
              "    <tr>\n",
              "      <th>4</th>\n",
              "      <td>0.500362</td>\n",
              "      <td>5.0</td>\n",
              "      <td>4</td>\n",
              "      <td>0</td>\n",
              "      <td>0</td>\n",
              "      <td>0</td>\n",
              "      <td>1</td>\n",
              "      <td>0</td>\n",
              "      <td>0</td>\n",
              "      <td>0</td>\n",
              "      <td>0</td>\n",
              "      <td>1</td>\n",
              "      <td>0</td>\n",
              "      <td>403.428793</td>\n",
              "      <td>0</td>\n",
              "      <td>0</td>\n",
              "      <td>1</td>\n",
              "      <td>0</td>\n",
              "    </tr>\n",
              "    <tr>\n",
              "      <th>...</th>\n",
              "      <td>...</td>\n",
              "      <td>...</td>\n",
              "      <td>...</td>\n",
              "      <td>...</td>\n",
              "      <td>...</td>\n",
              "      <td>...</td>\n",
              "      <td>...</td>\n",
              "      <td>...</td>\n",
              "      <td>...</td>\n",
              "      <td>...</td>\n",
              "      <td>...</td>\n",
              "      <td>...</td>\n",
              "      <td>...</td>\n",
              "      <td>...</td>\n",
              "      <td>...</td>\n",
              "      <td>...</td>\n",
              "      <td>...</td>\n",
              "      <td>...</td>\n",
              "    </tr>\n",
              "    <tr>\n",
              "      <th>37472</th>\n",
              "      <td>0.500329</td>\n",
              "      <td>25.0</td>\n",
              "      <td>16</td>\n",
              "      <td>0</td>\n",
              "      <td>0</td>\n",
              "      <td>0</td>\n",
              "      <td>1</td>\n",
              "      <td>0</td>\n",
              "      <td>0</td>\n",
              "      <td>0</td>\n",
              "      <td>0</td>\n",
              "      <td>0</td>\n",
              "      <td>1</td>\n",
              "      <td>148.413159</td>\n",
              "      <td>0</td>\n",
              "      <td>0</td>\n",
              "      <td>1</td>\n",
              "      <td>0</td>\n",
              "    </tr>\n",
              "    <tr>\n",
              "      <th>37473</th>\n",
              "      <td>0.500362</td>\n",
              "      <td>5.0</td>\n",
              "      <td>30</td>\n",
              "      <td>0</td>\n",
              "      <td>0</td>\n",
              "      <td>0</td>\n",
              "      <td>1</td>\n",
              "      <td>0</td>\n",
              "      <td>0</td>\n",
              "      <td>0</td>\n",
              "      <td>0</td>\n",
              "      <td>0</td>\n",
              "      <td>1</td>\n",
              "      <td>148.413159</td>\n",
              "      <td>0</td>\n",
              "      <td>1</td>\n",
              "      <td>0</td>\n",
              "      <td>0</td>\n",
              "    </tr>\n",
              "    <tr>\n",
              "      <th>37474</th>\n",
              "      <td>0.500352</td>\n",
              "      <td>5.0</td>\n",
              "      <td>99</td>\n",
              "      <td>1</td>\n",
              "      <td>1</td>\n",
              "      <td>1</td>\n",
              "      <td>0</td>\n",
              "      <td>0</td>\n",
              "      <td>0</td>\n",
              "      <td>0</td>\n",
              "      <td>0</td>\n",
              "      <td>0</td>\n",
              "      <td>1</td>\n",
              "      <td>148.413159</td>\n",
              "      <td>0</td>\n",
              "      <td>0</td>\n",
              "      <td>0</td>\n",
              "      <td>1</td>\n",
              "    </tr>\n",
              "    <tr>\n",
              "      <th>37475</th>\n",
              "      <td>0.500278</td>\n",
              "      <td>45.0</td>\n",
              "      <td>99</td>\n",
              "      <td>0</td>\n",
              "      <td>0</td>\n",
              "      <td>1</td>\n",
              "      <td>0</td>\n",
              "      <td>0</td>\n",
              "      <td>0</td>\n",
              "      <td>0</td>\n",
              "      <td>0</td>\n",
              "      <td>0</td>\n",
              "      <td>1</td>\n",
              "      <td>403.428793</td>\n",
              "      <td>1</td>\n",
              "      <td>0</td>\n",
              "      <td>0</td>\n",
              "      <td>0</td>\n",
              "    </tr>\n",
              "    <tr>\n",
              "      <th>37476</th>\n",
              "      <td>0.500379</td>\n",
              "      <td>5.0</td>\n",
              "      <td>3</td>\n",
              "      <td>0</td>\n",
              "      <td>0</td>\n",
              "      <td>0</td>\n",
              "      <td>1</td>\n",
              "      <td>0</td>\n",
              "      <td>0</td>\n",
              "      <td>0</td>\n",
              "      <td>0</td>\n",
              "      <td>0</td>\n",
              "      <td>1</td>\n",
              "      <td>148.413159</td>\n",
              "      <td>0</td>\n",
              "      <td>0</td>\n",
              "      <td>1</td>\n",
              "      <td>0</td>\n",
              "    </tr>\n",
              "  </tbody>\n",
              "</table>\n",
              "<p>37477 rows × 18 columns</p>\n",
              "</div>"
            ],
            "text/plain": [
              "          ficox   lti  bcc0300  co_app  ...  ndi_1  ndi_2  ndi_3  ndi_4\n",
              "0      0.500325  25.0       99       0  ...      0      1      0      0\n",
              "1      0.500357  30.0       99       1  ...      0      0      1      0\n",
              "2      0.500338   5.0       99       0  ...      0      0      0      1\n",
              "3      0.500338  25.0       10       0  ...      0      0      1      0\n",
              "4      0.500362   5.0        4       0  ...      0      0      1      0\n",
              "...         ...   ...      ...     ...  ...    ...    ...    ...    ...\n",
              "37472  0.500329  25.0       16       0  ...      0      0      1      0\n",
              "37473  0.500362   5.0       30       0  ...      0      1      0      0\n",
              "37474  0.500352   5.0       99       1  ...      0      0      0      1\n",
              "37475  0.500278  45.0       99       0  ...      1      0      0      0\n",
              "37476  0.500379   5.0        3       0  ...      0      0      1      0\n",
              "\n",
              "[37477 rows x 18 columns]"
            ]
          },
          "metadata": {
            "tags": []
          },
          "execution_count": 64
        }
      ]
    },
    {
      "cell_type": "code",
      "metadata": {
        "id": "HCCesMlo6-W8",
        "colab_type": "code",
        "colab": {}
      },
      "source": [
        "preds = fplus_ls_model.predict_proba(val.drop(columns=['funded_flag']))[:,1]"
      ],
      "execution_count": null,
      "outputs": []
    },
    {
      "cell_type": "code",
      "metadata": {
        "id": "5Xt-nJkm7b42",
        "colab_type": "code",
        "colab": {}
      },
      "source": [
        "val['pred'] = preds"
      ],
      "execution_count": null,
      "outputs": []
    },
    {
      "cell_type": "code",
      "metadata": {
        "id": "kWszLJR-74ah",
        "colab_type": "code",
        "colab": {}
      },
      "source": [
        "val['test_fund'] = df['funded_flag']"
      ],
      "execution_count": null,
      "outputs": []
    },
    {
      "cell_type": "code",
      "metadata": {
        "id": "YTsxazmY8g9N",
        "colab_type": "code",
        "colab": {
          "base_uri": "https://localhost:8080/",
          "height": 33
        },
        "outputId": "bb029ac4-0809-43aa-9136-55d5d82926bc"
      },
      "source": [
        "sum(val['funded_flag'] == df['funded_flag'])"
      ],
      "execution_count": null,
      "outputs": [
        {
          "output_type": "execute_result",
          "data": {
            "text/plain": [
              "37477"
            ]
          },
          "metadata": {
            "tags": []
          },
          "execution_count": 70
        }
      ]
    },
    {
      "cell_type": "code",
      "metadata": {
        "id": "P765EV5381pG",
        "colab_type": "code",
        "colab": {
          "base_uri": "https://localhost:8080/",
          "height": 472
        },
        "outputId": "140e3ddb-2b0e-438d-8c5c-5c6ab8af83cc"
      },
      "source": [
        "val.info()"
      ],
      "execution_count": null,
      "outputs": [
        {
          "output_type": "stream",
          "text": [
            "<class 'pandas.core.frame.DataFrame'>\n",
            "RangeIndex: 37477 entries, 0 to 37476\n",
            "Data columns (total 21 columns):\n",
            " #   Column         Non-Null Count  Dtype  \n",
            "---  ------         --------------  -----  \n",
            " 0   funded_flag    37477 non-null  int64  \n",
            " 1   ficox          37477 non-null  float64\n",
            " 2   lti            37477 non-null  float64\n",
            " 3   bcc0300        37477 non-null  int64  \n",
            " 4   co_app         37477 non-null  int64  \n",
            " 5   loan_use       37477 non-null  int64  \n",
            " 6   employment_1   37477 non-null  uint8  \n",
            " 7   employment_2   37477 non-null  uint8  \n",
            " 8   employment_3   37477 non-null  uint8  \n",
            " 9   loan_amount_1  37477 non-null  uint8  \n",
            " 10  loan_amount_2  37477 non-null  uint8  \n",
            " 11  loan_amount_3  37477 non-null  uint8  \n",
            " 12  loan_amount_4  37477 non-null  uint8  \n",
            " 13  loan_amount_5  37477 non-null  uint8  \n",
            " 14  mkt_chan       37477 non-null  float64\n",
            " 15  ndi_1          37477 non-null  uint8  \n",
            " 16  ndi_2          37477 non-null  uint8  \n",
            " 17  ndi_3          37477 non-null  uint8  \n",
            " 18  ndi_4          37477 non-null  uint8  \n",
            " 19  pred           37477 non-null  float64\n",
            " 20  test_fund      37477 non-null  int64  \n",
            "dtypes: float64(4), int64(5), uint8(12)\n",
            "memory usage: 3.0 MB\n"
          ],
          "name": "stdout"
        }
      ]
    },
    {
      "cell_type": "code",
      "metadata": {
        "id": "dmqEX--p9IcZ",
        "colab_type": "code",
        "colab": {}
      },
      "source": [
        "df['pred'] = preds"
      ],
      "execution_count": null,
      "outputs": []
    },
    {
      "cell_type": "code",
      "metadata": {
        "id": "EtKzvGL894Tm",
        "colab_type": "code",
        "colab": {
          "base_uri": "https://localhost:8080/",
          "height": 292
        },
        "outputId": "3522a727-b5b1-475a-c714-8abfc7378b2e"
      },
      "source": [
        "df.head()"
      ],
      "execution_count": null,
      "outputs": [
        {
          "output_type": "execute_result",
          "data": {
            "text/html": [
              "<div>\n",
              "<style scoped>\n",
              "    .dataframe tbody tr th:only-of-type {\n",
              "        vertical-align: middle;\n",
              "    }\n",
              "\n",
              "    .dataframe tbody tr th {\n",
              "        vertical-align: top;\n",
              "    }\n",
              "\n",
              "    .dataframe thead th {\n",
              "        text-align: right;\n",
              "    }\n",
              "</style>\n",
              "<table border=\"1\" class=\"dataframe\">\n",
              "  <thead>\n",
              "    <tr style=\"text-align: right;\">\n",
              "      <th></th>\n",
              "      <th>name</th>\n",
              "      <th>funded_flag</th>\n",
              "      <th>first_coapp</th>\n",
              "      <th>first_loan_use</th>\n",
              "      <th>employment_status__c</th>\n",
              "      <th>first_amount_of_loan_requested</th>\n",
              "      <th>first_FICO</th>\n",
              "      <th>First_LTI</th>\n",
              "      <th>first_bcc0300__c</th>\n",
              "      <th>first_ndi_ratio__c</th>\n",
              "      <th>utm_source__c</th>\n",
              "      <th>original_npv_phase</th>\n",
              "      <th>final_loan_amount</th>\n",
              "      <th>co_app</th>\n",
              "      <th>loan_use</th>\n",
              "      <th>employment</th>\n",
              "      <th>loan_amount</th>\n",
              "      <th>mkt_chan</th>\n",
              "      <th>ficox</th>\n",
              "      <th>lti</th>\n",
              "      <th>bcc0300</th>\n",
              "      <th>ndi</th>\n",
              "      <th>pred</th>\n",
              "    </tr>\n",
              "  </thead>\n",
              "  <tbody>\n",
              "    <tr>\n",
              "      <th>0</th>\n",
              "      <td>App-07725757</td>\n",
              "      <td>0</td>\n",
              "      <td>0</td>\n",
              "      <td>Moving Expenses</td>\n",
              "      <td>Full-time</td>\n",
              "      <td>NaN</td>\n",
              "      <td>777.0</td>\n",
              "      <td>0.250000</td>\n",
              "      <td>NaN</td>\n",
              "      <td>0.5163459855125826</td>\n",
              "      <td>Lending Tree</td>\n",
              "      <td>43.08</td>\n",
              "      <td>20000.0</td>\n",
              "      <td>0</td>\n",
              "      <td>0</td>\n",
              "      <td>2</td>\n",
              "      <td>5</td>\n",
              "      <td>148.413159</td>\n",
              "      <td>0.500325</td>\n",
              "      <td>25.0</td>\n",
              "      <td>99</td>\n",
              "      <td>2</td>\n",
              "      <td>0.000998</td>\n",
              "    </tr>\n",
              "    <tr>\n",
              "      <th>1</th>\n",
              "      <td>App-07725758</td>\n",
              "      <td>0</td>\n",
              "      <td>1</td>\n",
              "      <td>Debt Consolidation</td>\n",
              "      <td>Full-time</td>\n",
              "      <td>28000.0</td>\n",
              "      <td>705.0</td>\n",
              "      <td>0.304348</td>\n",
              "      <td>NaN</td>\n",
              "      <td>0.3839864211079504</td>\n",
              "      <td>Lending Tree</td>\n",
              "      <td>124.85</td>\n",
              "      <td>28000.0</td>\n",
              "      <td>1</td>\n",
              "      <td>0</td>\n",
              "      <td>2</td>\n",
              "      <td>4</td>\n",
              "      <td>148.413159</td>\n",
              "      <td>0.500357</td>\n",
              "      <td>30.0</td>\n",
              "      <td>99</td>\n",
              "      <td>3</td>\n",
              "      <td>0.001958</td>\n",
              "    </tr>\n",
              "    <tr>\n",
              "      <th>2</th>\n",
              "      <td>App-07725759</td>\n",
              "      <td>0</td>\n",
              "      <td>0</td>\n",
              "      <td>Other</td>\n",
              "      <td>Full-time</td>\n",
              "      <td>20000.0</td>\n",
              "      <td>742.0</td>\n",
              "      <td>0.133333</td>\n",
              "      <td>NaN</td>\n",
              "      <td>0.20666452560671075</td>\n",
              "      <td>Lending Tree</td>\n",
              "      <td>20.61</td>\n",
              "      <td>20000.0</td>\n",
              "      <td>0</td>\n",
              "      <td>1</td>\n",
              "      <td>2</td>\n",
              "      <td>4</td>\n",
              "      <td>148.413159</td>\n",
              "      <td>0.500338</td>\n",
              "      <td>5.0</td>\n",
              "      <td>99</td>\n",
              "      <td>4</td>\n",
              "      <td>0.001416</td>\n",
              "    </tr>\n",
              "    <tr>\n",
              "      <th>3</th>\n",
              "      <td>App-07725763</td>\n",
              "      <td>0</td>\n",
              "      <td>0</td>\n",
              "      <td>Credit Card Refinancing</td>\n",
              "      <td>Full-time</td>\n",
              "      <td>25652.0</td>\n",
              "      <td>740.0</td>\n",
              "      <td>0.288225</td>\n",
              "      <td>10.0</td>\n",
              "      <td>0.40283870907599095</td>\n",
              "      <td>Lending Tree</td>\n",
              "      <td>55.85</td>\n",
              "      <td>25652.0</td>\n",
              "      <td>0</td>\n",
              "      <td>0</td>\n",
              "      <td>2</td>\n",
              "      <td>4</td>\n",
              "      <td>148.413159</td>\n",
              "      <td>0.500338</td>\n",
              "      <td>25.0</td>\n",
              "      <td>10</td>\n",
              "      <td>3</td>\n",
              "      <td>0.033369</td>\n",
              "    </tr>\n",
              "    <tr>\n",
              "      <th>4</th>\n",
              "      <td>App-07725764</td>\n",
              "      <td>1</td>\n",
              "      <td>0</td>\n",
              "      <td>Debt Consolidation</td>\n",
              "      <td>Full-time</td>\n",
              "      <td>20000.0</td>\n",
              "      <td>692.0</td>\n",
              "      <td>0.142857</td>\n",
              "      <td>4.0</td>\n",
              "      <td>0.4197147180147965</td>\n",
              "      <td>ck</td>\n",
              "      <td>146.50</td>\n",
              "      <td>14999.0</td>\n",
              "      <td>0</td>\n",
              "      <td>0</td>\n",
              "      <td>2</td>\n",
              "      <td>4</td>\n",
              "      <td>403.428793</td>\n",
              "      <td>0.500362</td>\n",
              "      <td>5.0</td>\n",
              "      <td>4</td>\n",
              "      <td>3</td>\n",
              "      <td>0.222773</td>\n",
              "    </tr>\n",
              "  </tbody>\n",
              "</table>\n",
              "</div>"
            ],
            "text/plain": [
              "           name  funded_flag  first_coapp  ... bcc0300 ndi      pred\n",
              "0  App-07725757            0            0  ...      99   2  0.000998\n",
              "1  App-07725758            0            1  ...      99   3  0.001958\n",
              "2  App-07725759            0            0  ...      99   4  0.001416\n",
              "3  App-07725763            0            0  ...      10   3  0.033369\n",
              "4  App-07725764            1            0  ...       4   3  0.222773\n",
              "\n",
              "[5 rows x 23 columns]"
            ]
          },
          "metadata": {
            "tags": []
          },
          "execution_count": 75
        }
      ]
    },
    {
      "cell_type": "code",
      "metadata": {
        "id": "08Yfy3Se99vU",
        "colab_type": "code",
        "colab": {}
      },
      "source": [
        "df.to_csv(\"validation.csv\")"
      ],
      "execution_count": null,
      "outputs": []
    },
    {
      "cell_type": "code",
      "metadata": {
        "id": "QGY9ae3v-iVo",
        "colab_type": "code",
        "colab": {}
      },
      "source": [
        ""
      ],
      "execution_count": null,
      "outputs": []
    },
    {
      "cell_type": "markdown",
      "metadata": {
        "id": "pQj9Eym7GTmg",
        "colab_type": "text"
      },
      "source": [
        "# Re-Train Model AGAIN!! hopefully last time"
      ]
    },
    {
      "cell_type": "code",
      "metadata": {
        "id": "yR2kyYkD0NVU",
        "colab_type": "code",
        "colab": {
          "base_uri": "https://localhost:8080/",
          "height": 70
        },
        "outputId": "81cb52ea-956f-4c7b-ecb6-2bb6a5382746"
      },
      "source": [
        "# Using GBQ shout Out to Hughes\n",
        "import pandas_gbq\n",
        "import pydata_google_auth\n",
        "\n",
        "SCOPES = [\n",
        "    'https://www.googleapis.com/auth/cloud-platform',\n",
        "    'https://www.googleapis.com/auth/drive',\n",
        "]\n",
        "\n",
        "credentials = pydata_google_auth.get_user_credentials(\n",
        "    SCOPES,\n",
        "    auth_local_webserver=False)"
      ],
      "execution_count": null,
      "outputs": [
        {
          "output_type": "stream",
          "text": [
            "Please visit this URL to authorize this application: https://accounts.google.com/o/oauth2/auth?response_type=code&client_id=262006177488-3425ks60hkk80fssi9vpohv88g6q1iqd.apps.googleusercontent.com&redirect_uri=urn%3Aietf%3Awg%3Aoauth%3A2.0%3Aoob&scope=https%3A%2F%2Fwww.googleapis.com%2Fauth%2Fcloud-platform+https%3A%2F%2Fwww.googleapis.com%2Fauth%2Fdrive&state=Vjt9KRIw8c76gwe3u1dLeDylXMUDhS&prompt=consent&access_type=offline\n",
            "Enter the authorization code: 4/3AFzYHKUhFsTMfHRHyIyn-bdxc0Mfldd9gZtT2omGg9zsQ8nMS85Exw\n"
          ],
          "name": "stdout"
        }
      ]
    },
    {
      "cell_type": "code",
      "metadata": {
        "id": "MeNV37jeGWou",
        "colab_type": "code",
        "colab": {}
      },
      "source": [
        "sql = \"\"\"\n",
        "SELECT \n",
        " loan_id\n",
        ", CASE WHEN funded_date IS NOT NULL THEN 1 ELSE 0 END AS funded_flag\n",
        ", co_app_verifiable_annual_income\n",
        ", loan_use\n",
        ", employment_status\n",
        ", amount_of_loan_requested\n",
        ", fico\n",
        ", lti\n",
        ", bcc0300\n",
        ", ndi_ratio\n",
        ", utm_source\n",
        ", original_npv_phase\n",
        ", final_loan_amount\n",
        "\n",
        "FROM `ffam-data-platform.standardized_data.fplus_application` \n",
        "WHERE flag_eligible_lead = true\n",
        "AND latest_prequal_decision <> 'DECLINED'\n",
        "AND created_datetime BETWEEN '2020-03-01' AND '2020-06-15'\n",
        "\"\"\""
      ],
      "execution_count": null,
      "outputs": []
    },
    {
      "cell_type": "code",
      "metadata": {
        "id": "JcDRrRhoGWr5",
        "colab_type": "code",
        "colab": {}
      },
      "source": [
        "df1 = pandas_gbq.read_gbq(sql, project_id='ffn-dw-bigquery-prd', credentials=credentials, dialect='standard')\n",
        "\n",
        "df = df1"
      ],
      "execution_count": null,
      "outputs": []
    },
    {
      "cell_type": "code",
      "metadata": {
        "id": "7r4HsUSkGWvH",
        "colab_type": "code",
        "colab": {}
      },
      "source": [
        "# Transform variables\n",
        "df['co_app'] = df['co_app_verifiable_annual_income'].apply(get_co_app_cat)\n",
        "df['loan_use'] = df['loan_use'].apply(get_loan_use_cat)\n",
        "df['employment'] = df['employment_status'].apply(get_employment_cat)\n",
        "df['loan_amount'] = df['amount_of_loan_requested'].apply(get_loan_amount_cat)\n",
        "df['mkt_chan'] = df['utm_source'].apply(get_mkt_chan_cat)\n",
        "df['ficox'] = df['fico'].apply(get_fico)\n",
        "df['lti'] = df['lti'].apply(get_lti)\n",
        "df['bcc0300'] = df['bcc0300'].apply(get_bcc0300)\n",
        "df['ndi'] = df['ndi_ratio'].apply(get_ndi_cat)"
      ],
      "execution_count": null,
      "outputs": []
    },
    {
      "cell_type": "code",
      "metadata": {
        "id": "CuMuiZY4GWyB",
        "colab_type": "code",
        "colab": {
          "base_uri": "https://localhost:8080/",
          "height": 191
        },
        "outputId": "16066bfe-52ae-47ad-c335-fe03778e2f12"
      },
      "source": [
        "things = ['co_app', 'loan_use', 'mkt_chan', 'ficox', 'employment', 'lti', 'bcc0300', 'loan_amount', 'ndi']\n",
        "train = df[things]\n",
        "train.head()"
      ],
      "execution_count": null,
      "outputs": [
        {
          "output_type": "execute_result",
          "data": {
            "text/html": [
              "<div>\n",
              "<style scoped>\n",
              "    .dataframe tbody tr th:only-of-type {\n",
              "        vertical-align: middle;\n",
              "    }\n",
              "\n",
              "    .dataframe tbody tr th {\n",
              "        vertical-align: top;\n",
              "    }\n",
              "\n",
              "    .dataframe thead th {\n",
              "        text-align: right;\n",
              "    }\n",
              "</style>\n",
              "<table border=\"1\" class=\"dataframe\">\n",
              "  <thead>\n",
              "    <tr style=\"text-align: right;\">\n",
              "      <th></th>\n",
              "      <th>co_app</th>\n",
              "      <th>loan_use</th>\n",
              "      <th>mkt_chan</th>\n",
              "      <th>ficox</th>\n",
              "      <th>employment</th>\n",
              "      <th>lti</th>\n",
              "      <th>bcc0300</th>\n",
              "      <th>loan_amount</th>\n",
              "      <th>ndi</th>\n",
              "    </tr>\n",
              "  </thead>\n",
              "  <tbody>\n",
              "    <tr>\n",
              "      <th>0</th>\n",
              "      <td>0</td>\n",
              "      <td>0</td>\n",
              "      <td>148.413159</td>\n",
              "      <td>0.500379</td>\n",
              "      <td>2</td>\n",
              "      <td>45.0</td>\n",
              "      <td>30</td>\n",
              "      <td>5</td>\n",
              "      <td>1</td>\n",
              "    </tr>\n",
              "    <tr>\n",
              "      <th>1</th>\n",
              "      <td>0</td>\n",
              "      <td>0</td>\n",
              "      <td>148.413159</td>\n",
              "      <td>0.500352</td>\n",
              "      <td>2</td>\n",
              "      <td>45.0</td>\n",
              "      <td>18</td>\n",
              "      <td>4</td>\n",
              "      <td>1</td>\n",
              "    </tr>\n",
              "    <tr>\n",
              "      <th>2</th>\n",
              "      <td>0</td>\n",
              "      <td>0</td>\n",
              "      <td>148.413159</td>\n",
              "      <td>0.500385</td>\n",
              "      <td>2</td>\n",
              "      <td>45.0</td>\n",
              "      <td>15</td>\n",
              "      <td>5</td>\n",
              "      <td>1</td>\n",
              "    </tr>\n",
              "    <tr>\n",
              "      <th>3</th>\n",
              "      <td>1</td>\n",
              "      <td>0</td>\n",
              "      <td>148.413159</td>\n",
              "      <td>0.500357</td>\n",
              "      <td>2</td>\n",
              "      <td>45.0</td>\n",
              "      <td>3</td>\n",
              "      <td>1</td>\n",
              "      <td>1</td>\n",
              "    </tr>\n",
              "    <tr>\n",
              "      <th>4</th>\n",
              "      <td>0</td>\n",
              "      <td>0</td>\n",
              "      <td>148.413159</td>\n",
              "      <td>0.500373</td>\n",
              "      <td>2</td>\n",
              "      <td>45.0</td>\n",
              "      <td>13</td>\n",
              "      <td>4</td>\n",
              "      <td>1</td>\n",
              "    </tr>\n",
              "  </tbody>\n",
              "</table>\n",
              "</div>"
            ],
            "text/plain": [
              "   co_app  loan_use    mkt_chan     ficox  ...   lti  bcc0300  loan_amount  ndi\n",
              "0       0         0  148.413159  0.500379  ...  45.0       30            5    1\n",
              "1       0         0  148.413159  0.500352  ...  45.0       18            4    1\n",
              "2       0         0  148.413159  0.500385  ...  45.0       15            5    1\n",
              "3       1         0  148.413159  0.500357  ...  45.0        3            1    1\n",
              "4       0         0  148.413159  0.500373  ...  45.0       13            4    1\n",
              "\n",
              "[5 rows x 9 columns]"
            ]
          },
          "metadata": {
            "tags": []
          },
          "execution_count": 38
        }
      ]
    },
    {
      "cell_type": "code",
      "metadata": {
        "id": "PQxmOSZZGW1E",
        "colab_type": "code",
        "colab": {
          "base_uri": "https://localhost:8080/",
          "height": 277
        },
        "outputId": "2ed2f841-3ed5-409f-9b2a-9bbef46e8bb3"
      },
      "source": [
        "train.describe()"
      ],
      "execution_count": null,
      "outputs": [
        {
          "output_type": "execute_result",
          "data": {
            "text/html": [
              "<div>\n",
              "<style scoped>\n",
              "    .dataframe tbody tr th:only-of-type {\n",
              "        vertical-align: middle;\n",
              "    }\n",
              "\n",
              "    .dataframe tbody tr th {\n",
              "        vertical-align: top;\n",
              "    }\n",
              "\n",
              "    .dataframe thead th {\n",
              "        text-align: right;\n",
              "    }\n",
              "</style>\n",
              "<table border=\"1\" class=\"dataframe\">\n",
              "  <thead>\n",
              "    <tr style=\"text-align: right;\">\n",
              "      <th></th>\n",
              "      <th>co_app</th>\n",
              "      <th>loan_use</th>\n",
              "      <th>mkt_chan</th>\n",
              "      <th>ficox</th>\n",
              "      <th>employment</th>\n",
              "      <th>lti</th>\n",
              "      <th>bcc0300</th>\n",
              "      <th>loan_amount</th>\n",
              "      <th>ndi</th>\n",
              "    </tr>\n",
              "  </thead>\n",
              "  <tbody>\n",
              "    <tr>\n",
              "      <th>count</th>\n",
              "      <td>88679.000000</td>\n",
              "      <td>88679.000000</td>\n",
              "      <td>88679.000000</td>\n",
              "      <td>88679.000000</td>\n",
              "      <td>88679.000000</td>\n",
              "      <td>88679.000000</td>\n",
              "      <td>88679.000000</td>\n",
              "      <td>88679.000000</td>\n",
              "      <td>88679.000000</td>\n",
              "    </tr>\n",
              "    <tr>\n",
              "      <th>mean</th>\n",
              "      <td>0.213647</td>\n",
              "      <td>0.153148</td>\n",
              "      <td>147.530966</td>\n",
              "      <td>0.500350</td>\n",
              "      <td>1.914140</td>\n",
              "      <td>44.955179</td>\n",
              "      <td>8.099900</td>\n",
              "      <td>3.457786</td>\n",
              "      <td>1.003687</td>\n",
              "    </tr>\n",
              "    <tr>\n",
              "      <th>std</th>\n",
              "      <td>0.409883</td>\n",
              "      <td>0.360132</td>\n",
              "      <td>55.966390</td>\n",
              "      <td>0.000023</td>\n",
              "      <td>0.405123</td>\n",
              "      <td>1.169389</td>\n",
              "      <td>6.718687</td>\n",
              "      <td>0.907428</td>\n",
              "      <td>0.089340</td>\n",
              "    </tr>\n",
              "    <tr>\n",
              "      <th>min</th>\n",
              "      <td>0.000000</td>\n",
              "      <td>0.000000</td>\n",
              "      <td>2.718282</td>\n",
              "      <td>0.500278</td>\n",
              "      <td>1.000000</td>\n",
              "      <td>0.360000</td>\n",
              "      <td>0.000000</td>\n",
              "      <td>1.000000</td>\n",
              "      <td>1.000000</td>\n",
              "    </tr>\n",
              "    <tr>\n",
              "      <th>25%</th>\n",
              "      <td>0.000000</td>\n",
              "      <td>0.000000</td>\n",
              "      <td>148.413159</td>\n",
              "      <td>0.500333</td>\n",
              "      <td>2.000000</td>\n",
              "      <td>45.000000</td>\n",
              "      <td>4.000000</td>\n",
              "      <td>3.000000</td>\n",
              "      <td>1.000000</td>\n",
              "    </tr>\n",
              "    <tr>\n",
              "      <th>50%</th>\n",
              "      <td>0.000000</td>\n",
              "      <td>0.000000</td>\n",
              "      <td>148.413159</td>\n",
              "      <td>0.500352</td>\n",
              "      <td>2.000000</td>\n",
              "      <td>45.000000</td>\n",
              "      <td>7.000000</td>\n",
              "      <td>4.000000</td>\n",
              "      <td>1.000000</td>\n",
              "    </tr>\n",
              "    <tr>\n",
              "      <th>75%</th>\n",
              "      <td>0.000000</td>\n",
              "      <td>0.000000</td>\n",
              "      <td>148.413159</td>\n",
              "      <td>0.500368</td>\n",
              "      <td>2.000000</td>\n",
              "      <td>45.000000</td>\n",
              "      <td>10.000000</td>\n",
              "      <td>4.000000</td>\n",
              "      <td>1.000000</td>\n",
              "    </tr>\n",
              "    <tr>\n",
              "      <th>max</th>\n",
              "      <td>1.000000</td>\n",
              "      <td>1.000000</td>\n",
              "      <td>403.428793</td>\n",
              "      <td>0.500403</td>\n",
              "      <td>3.000000</td>\n",
              "      <td>45.000000</td>\n",
              "      <td>99.000000</td>\n",
              "      <td>5.000000</td>\n",
              "      <td>4.000000</td>\n",
              "    </tr>\n",
              "  </tbody>\n",
              "</table>\n",
              "</div>"
            ],
            "text/plain": [
              "             co_app      loan_use  ...   loan_amount           ndi\n",
              "count  88679.000000  88679.000000  ...  88679.000000  88679.000000\n",
              "mean       0.213647      0.153148  ...      3.457786      1.003687\n",
              "std        0.409883      0.360132  ...      0.907428      0.089340\n",
              "min        0.000000      0.000000  ...      1.000000      1.000000\n",
              "25%        0.000000      0.000000  ...      3.000000      1.000000\n",
              "50%        0.000000      0.000000  ...      4.000000      1.000000\n",
              "75%        0.000000      0.000000  ...      4.000000      1.000000\n",
              "max        1.000000      1.000000  ...      5.000000      4.000000\n",
              "\n",
              "[8 rows x 9 columns]"
            ]
          },
          "metadata": {
            "tags": []
          },
          "execution_count": 36
        }
      ]
    },
    {
      "cell_type": "code",
      "metadata": {
        "id": "PwvH1SuKIfSl",
        "colab_type": "code",
        "colab": {
          "base_uri": "https://localhost:8080/",
          "height": 82
        },
        "outputId": "26ab1414-8d2b-45af-9b96-8490251f7ab8"
      },
      "source": [
        "# create dummies\n",
        "cat_vars=['employment','loan_amount', 'ndi']\n",
        "for var in cat_vars:\n",
        "    cat_list = pd.get_dummies(train[var], prefix=var)\n",
        "    temp=train.join(cat_list)\n",
        "    train=temp\n",
        "data_vars=train.columns.values.tolist()\n",
        "to_keep=[i for i in data_vars if i not in cat_vars]\n",
        "train=train[to_keep]\n",
        "print(train.columns.values)\n",
        "\n",
        "# re-index to have same columns as the model\n",
        "train = train.reindex(columns = ['ficox', 'lti', 'bcc0300', 'co_app',\n",
        "                               'loan_use', 'employment_1',\n",
        "                               'employment_2', 'employment_3', 'loan_amount_1',\n",
        "                               'loan_amount_2', 'loan_amount_3', 'loan_amount_4', \n",
        "                               'loan_amount_5', 'mkt_chan', 'ndi_1', 'ndi_2',\n",
        "                               'ndi_3', 'ndi_4',], fill_value=0)"
      ],
      "execution_count": null,
      "outputs": [
        {
          "output_type": "stream",
          "text": [
            "['co_app' 'loan_use' 'mkt_chan' 'ficox' 'lti' 'bcc0300' 'employment_1'\n",
            " 'employment_2' 'employment_3' 'loan_amount_1' 'loan_amount_2'\n",
            " 'loan_amount_3' 'loan_amount_4' 'loan_amount_5' 'ndi_1' 'ndi_2' 'ndi_3'\n",
            " 'ndi_4']\n"
          ],
          "name": "stdout"
        }
      ]
    },
    {
      "cell_type": "code",
      "metadata": {
        "id": "zn6JIH7XIfWX",
        "colab_type": "code",
        "colab": {
          "base_uri": "https://localhost:8080/",
          "height": 191
        },
        "outputId": "6f6b7bea-c924-4fba-ecd7-edc893103497"
      },
      "source": [
        "train.head()"
      ],
      "execution_count": null,
      "outputs": [
        {
          "output_type": "execute_result",
          "data": {
            "text/html": [
              "<div>\n",
              "<style scoped>\n",
              "    .dataframe tbody tr th:only-of-type {\n",
              "        vertical-align: middle;\n",
              "    }\n",
              "\n",
              "    .dataframe tbody tr th {\n",
              "        vertical-align: top;\n",
              "    }\n",
              "\n",
              "    .dataframe thead th {\n",
              "        text-align: right;\n",
              "    }\n",
              "</style>\n",
              "<table border=\"1\" class=\"dataframe\">\n",
              "  <thead>\n",
              "    <tr style=\"text-align: right;\">\n",
              "      <th></th>\n",
              "      <th>ficox</th>\n",
              "      <th>lti</th>\n",
              "      <th>bcc0300</th>\n",
              "      <th>co_app</th>\n",
              "      <th>loan_use</th>\n",
              "      <th>employment_1</th>\n",
              "      <th>employment_2</th>\n",
              "      <th>employment_3</th>\n",
              "      <th>loan_amount_1</th>\n",
              "      <th>loan_amount_2</th>\n",
              "      <th>loan_amount_3</th>\n",
              "      <th>loan_amount_4</th>\n",
              "      <th>loan_amount_5</th>\n",
              "      <th>mkt_chan</th>\n",
              "      <th>ndi_1</th>\n",
              "      <th>ndi_2</th>\n",
              "      <th>ndi_3</th>\n",
              "      <th>ndi_4</th>\n",
              "    </tr>\n",
              "  </thead>\n",
              "  <tbody>\n",
              "    <tr>\n",
              "      <th>0</th>\n",
              "      <td>0.500379</td>\n",
              "      <td>45.0</td>\n",
              "      <td>30</td>\n",
              "      <td>0</td>\n",
              "      <td>0</td>\n",
              "      <td>0</td>\n",
              "      <td>1</td>\n",
              "      <td>0</td>\n",
              "      <td>0</td>\n",
              "      <td>0</td>\n",
              "      <td>0</td>\n",
              "      <td>0</td>\n",
              "      <td>1</td>\n",
              "      <td>148.413159</td>\n",
              "      <td>1</td>\n",
              "      <td>0</td>\n",
              "      <td>0</td>\n",
              "      <td>0</td>\n",
              "    </tr>\n",
              "    <tr>\n",
              "      <th>1</th>\n",
              "      <td>0.500352</td>\n",
              "      <td>45.0</td>\n",
              "      <td>18</td>\n",
              "      <td>0</td>\n",
              "      <td>0</td>\n",
              "      <td>0</td>\n",
              "      <td>1</td>\n",
              "      <td>0</td>\n",
              "      <td>0</td>\n",
              "      <td>0</td>\n",
              "      <td>0</td>\n",
              "      <td>1</td>\n",
              "      <td>0</td>\n",
              "      <td>148.413159</td>\n",
              "      <td>1</td>\n",
              "      <td>0</td>\n",
              "      <td>0</td>\n",
              "      <td>0</td>\n",
              "    </tr>\n",
              "    <tr>\n",
              "      <th>2</th>\n",
              "      <td>0.500385</td>\n",
              "      <td>45.0</td>\n",
              "      <td>15</td>\n",
              "      <td>0</td>\n",
              "      <td>0</td>\n",
              "      <td>0</td>\n",
              "      <td>1</td>\n",
              "      <td>0</td>\n",
              "      <td>0</td>\n",
              "      <td>0</td>\n",
              "      <td>0</td>\n",
              "      <td>0</td>\n",
              "      <td>1</td>\n",
              "      <td>148.413159</td>\n",
              "      <td>1</td>\n",
              "      <td>0</td>\n",
              "      <td>0</td>\n",
              "      <td>0</td>\n",
              "    </tr>\n",
              "    <tr>\n",
              "      <th>3</th>\n",
              "      <td>0.500357</td>\n",
              "      <td>45.0</td>\n",
              "      <td>3</td>\n",
              "      <td>1</td>\n",
              "      <td>0</td>\n",
              "      <td>0</td>\n",
              "      <td>1</td>\n",
              "      <td>0</td>\n",
              "      <td>1</td>\n",
              "      <td>0</td>\n",
              "      <td>0</td>\n",
              "      <td>0</td>\n",
              "      <td>0</td>\n",
              "      <td>148.413159</td>\n",
              "      <td>1</td>\n",
              "      <td>0</td>\n",
              "      <td>0</td>\n",
              "      <td>0</td>\n",
              "    </tr>\n",
              "    <tr>\n",
              "      <th>4</th>\n",
              "      <td>0.500373</td>\n",
              "      <td>45.0</td>\n",
              "      <td>13</td>\n",
              "      <td>0</td>\n",
              "      <td>0</td>\n",
              "      <td>0</td>\n",
              "      <td>1</td>\n",
              "      <td>0</td>\n",
              "      <td>0</td>\n",
              "      <td>0</td>\n",
              "      <td>0</td>\n",
              "      <td>1</td>\n",
              "      <td>0</td>\n",
              "      <td>148.413159</td>\n",
              "      <td>1</td>\n",
              "      <td>0</td>\n",
              "      <td>0</td>\n",
              "      <td>0</td>\n",
              "    </tr>\n",
              "  </tbody>\n",
              "</table>\n",
              "</div>"
            ],
            "text/plain": [
              "      ficox   lti  bcc0300  co_app  ...  ndi_1  ndi_2  ndi_3  ndi_4\n",
              "0  0.500379  45.0       30       0  ...      1      0      0      0\n",
              "1  0.500352  45.0       18       0  ...      1      0      0      0\n",
              "2  0.500385  45.0       15       0  ...      1      0      0      0\n",
              "3  0.500357  45.0        3       1  ...      1      0      0      0\n",
              "4  0.500373  45.0       13       0  ...      1      0      0      0\n",
              "\n",
              "[5 rows x 18 columns]"
            ]
          },
          "metadata": {
            "tags": []
          },
          "execution_count": 40
        }
      ]
    },
    {
      "cell_type": "code",
      "metadata": {
        "id": "YBRpzpHyKdGT",
        "colab_type": "code",
        "colab": {
          "base_uri": "https://localhost:8080/",
          "height": 292
        },
        "outputId": "db84914a-33e0-409f-8a88-5a2ecc82cd44"
      },
      "source": [
        "all_train = df\n",
        "all_train.head()"
      ],
      "execution_count": null,
      "outputs": [
        {
          "output_type": "execute_result",
          "data": {
            "text/html": [
              "<div>\n",
              "<style scoped>\n",
              "    .dataframe tbody tr th:only-of-type {\n",
              "        vertical-align: middle;\n",
              "    }\n",
              "\n",
              "    .dataframe tbody tr th {\n",
              "        vertical-align: top;\n",
              "    }\n",
              "\n",
              "    .dataframe thead th {\n",
              "        text-align: right;\n",
              "    }\n",
              "</style>\n",
              "<table border=\"1\" class=\"dataframe\">\n",
              "  <thead>\n",
              "    <tr style=\"text-align: right;\">\n",
              "      <th></th>\n",
              "      <th>loan_id</th>\n",
              "      <th>funded_flag</th>\n",
              "      <th>co_app_verifiable_annual_income</th>\n",
              "      <th>loan_use</th>\n",
              "      <th>employment_status</th>\n",
              "      <th>amount_of_loan_requested</th>\n",
              "      <th>fico</th>\n",
              "      <th>lti</th>\n",
              "      <th>bcc0300</th>\n",
              "      <th>ndi_ratio</th>\n",
              "      <th>utm_source</th>\n",
              "      <th>original_npv_phase</th>\n",
              "      <th>final_loan_amount</th>\n",
              "      <th>co_app</th>\n",
              "      <th>employment</th>\n",
              "      <th>loan_amount</th>\n",
              "      <th>mkt_chan</th>\n",
              "      <th>ficox</th>\n",
              "      <th>ndi</th>\n",
              "    </tr>\n",
              "  </thead>\n",
              "  <tbody>\n",
              "    <tr>\n",
              "      <th>0</th>\n",
              "      <td>App-07341660</td>\n",
              "      <td>0</td>\n",
              "      <td>NaN</td>\n",
              "      <td>0</td>\n",
              "      <td>Full-time</td>\n",
              "      <td>83000.0</td>\n",
              "      <td>662.0</td>\n",
              "      <td>45.0</td>\n",
              "      <td>30</td>\n",
              "      <td>48.845654</td>\n",
              "      <td>loanhunch</td>\n",
              "      <td>139.71</td>\n",
              "      <td>40000.0</td>\n",
              "      <td>0</td>\n",
              "      <td>2</td>\n",
              "      <td>5</td>\n",
              "      <td>148.413159</td>\n",
              "      <td>0.500379</td>\n",
              "      <td>1</td>\n",
              "    </tr>\n",
              "    <tr>\n",
              "      <th>1</th>\n",
              "      <td>App-07300458</td>\n",
              "      <td>0</td>\n",
              "      <td>NaN</td>\n",
              "      <td>0</td>\n",
              "      <td>Full-time</td>\n",
              "      <td>33000.0</td>\n",
              "      <td>710.0</td>\n",
              "      <td>45.0</td>\n",
              "      <td>18</td>\n",
              "      <td>48.500000</td>\n",
              "      <td>loanhunch</td>\n",
              "      <td>14.03</td>\n",
              "      <td>18400.0</td>\n",
              "      <td>0</td>\n",
              "      <td>2</td>\n",
              "      <td>4</td>\n",
              "      <td>148.413159</td>\n",
              "      <td>0.500352</td>\n",
              "      <td>1</td>\n",
              "    </tr>\n",
              "    <tr>\n",
              "      <th>2</th>\n",
              "      <td>App-07325613</td>\n",
              "      <td>0</td>\n",
              "      <td>NaN</td>\n",
              "      <td>0</td>\n",
              "      <td>Full-time</td>\n",
              "      <td>89000.0</td>\n",
              "      <td>656.0</td>\n",
              "      <td>45.0</td>\n",
              "      <td>15</td>\n",
              "      <td>48.900000</td>\n",
              "      <td>loanhunch</td>\n",
              "      <td>444.61</td>\n",
              "      <td>40000.0</td>\n",
              "      <td>0</td>\n",
              "      <td>2</td>\n",
              "      <td>5</td>\n",
              "      <td>148.413159</td>\n",
              "      <td>0.500385</td>\n",
              "      <td>1</td>\n",
              "    </tr>\n",
              "    <tr>\n",
              "      <th>3</th>\n",
              "      <td>App-07574943</td>\n",
              "      <td>0</td>\n",
              "      <td>60000.0</td>\n",
              "      <td>0</td>\n",
              "      <td>Full-time</td>\n",
              "      <td>9000.0</td>\n",
              "      <td>709.0</td>\n",
              "      <td>45.0</td>\n",
              "      <td>3</td>\n",
              "      <td>38.700000</td>\n",
              "      <td>203</td>\n",
              "      <td>-0.57</td>\n",
              "      <td>9000.0</td>\n",
              "      <td>1</td>\n",
              "      <td>2</td>\n",
              "      <td>1</td>\n",
              "      <td>148.413159</td>\n",
              "      <td>0.500357</td>\n",
              "      <td>1</td>\n",
              "    </tr>\n",
              "    <tr>\n",
              "      <th>4</th>\n",
              "      <td>App-07326271</td>\n",
              "      <td>0</td>\n",
              "      <td>NaN</td>\n",
              "      <td>0</td>\n",
              "      <td>Full-time</td>\n",
              "      <td>33000.0</td>\n",
              "      <td>679.0</td>\n",
              "      <td>45.0</td>\n",
              "      <td>13</td>\n",
              "      <td>15.900000</td>\n",
              "      <td>loanhunch</td>\n",
              "      <td>46.27</td>\n",
              "      <td>33000.0</td>\n",
              "      <td>0</td>\n",
              "      <td>2</td>\n",
              "      <td>4</td>\n",
              "      <td>148.413159</td>\n",
              "      <td>0.500373</td>\n",
              "      <td>1</td>\n",
              "    </tr>\n",
              "  </tbody>\n",
              "</table>\n",
              "</div>"
            ],
            "text/plain": [
              "        loan_id  funded_flag  ...     ficox  ndi\n",
              "0  App-07341660            0  ...  0.500379    1\n",
              "1  App-07300458            0  ...  0.500352    1\n",
              "2  App-07325613            0  ...  0.500385    1\n",
              "3  App-07574943            0  ...  0.500357    1\n",
              "4  App-07326271            0  ...  0.500373    1\n",
              "\n",
              "[5 rows x 19 columns]"
            ]
          },
          "metadata": {
            "tags": []
          },
          "execution_count": 44
        }
      ]
    },
    {
      "cell_type": "code",
      "metadata": {
        "id": "y2c8503BPkFD",
        "colab_type": "code",
        "colab": {
          "base_uri": "https://localhost:8080/",
          "height": 297
        },
        "outputId": "4a289536-7b0f-433d-fc76-0f45e258195a"
      },
      "source": [
        "all_train.describe()"
      ],
      "execution_count": null,
      "outputs": [
        {
          "output_type": "execute_result",
          "data": {
            "text/html": [
              "<div>\n",
              "<style scoped>\n",
              "    .dataframe tbody tr th:only-of-type {\n",
              "        vertical-align: middle;\n",
              "    }\n",
              "\n",
              "    .dataframe tbody tr th {\n",
              "        vertical-align: top;\n",
              "    }\n",
              "\n",
              "    .dataframe thead th {\n",
              "        text-align: right;\n",
              "    }\n",
              "</style>\n",
              "<table border=\"1\" class=\"dataframe\">\n",
              "  <thead>\n",
              "    <tr style=\"text-align: right;\">\n",
              "      <th></th>\n",
              "      <th>funded_flag</th>\n",
              "      <th>co_app_verifiable_annual_income</th>\n",
              "      <th>loan_use</th>\n",
              "      <th>amount_of_loan_requested</th>\n",
              "      <th>fico</th>\n",
              "      <th>lti</th>\n",
              "      <th>bcc0300</th>\n",
              "      <th>ndi_ratio</th>\n",
              "      <th>original_npv_phase</th>\n",
              "      <th>final_loan_amount</th>\n",
              "      <th>co_app</th>\n",
              "      <th>employment</th>\n",
              "      <th>loan_amount</th>\n",
              "      <th>mkt_chan</th>\n",
              "      <th>ficox</th>\n",
              "      <th>ndi</th>\n",
              "    </tr>\n",
              "  </thead>\n",
              "  <tbody>\n",
              "    <tr>\n",
              "      <th>count</th>\n",
              "      <td>88679.000000</td>\n",
              "      <td>1.950600e+04</td>\n",
              "      <td>88679.000000</td>\n",
              "      <td>88679.000000</td>\n",
              "      <td>88487.000000</td>\n",
              "      <td>88679.000000</td>\n",
              "      <td>88679.000000</td>\n",
              "      <td>88476.000000</td>\n",
              "      <td>88674.000000</td>\n",
              "      <td>88679.000000</td>\n",
              "      <td>88679.000000</td>\n",
              "      <td>88679.000000</td>\n",
              "      <td>88679.000000</td>\n",
              "      <td>88679.000000</td>\n",
              "      <td>88679.000000</td>\n",
              "      <td>88679.000000</td>\n",
              "    </tr>\n",
              "    <tr>\n",
              "      <th>mean</th>\n",
              "      <td>0.091093</td>\n",
              "      <td>7.558862e+04</td>\n",
              "      <td>0.153148</td>\n",
              "      <td>24160.583666</td>\n",
              "      <td>721.173890</td>\n",
              "      <td>44.955179</td>\n",
              "      <td>8.099900</td>\n",
              "      <td>37.492635</td>\n",
              "      <td>54.181196</td>\n",
              "      <td>22079.610628</td>\n",
              "      <td>0.213647</td>\n",
              "      <td>1.914140</td>\n",
              "      <td>3.457786</td>\n",
              "      <td>147.530966</td>\n",
              "      <td>0.500350</td>\n",
              "      <td>1.003687</td>\n",
              "    </tr>\n",
              "    <tr>\n",
              "      <th>std</th>\n",
              "      <td>0.287742</td>\n",
              "      <td>6.892449e+05</td>\n",
              "      <td>0.360132</td>\n",
              "      <td>12172.914138</td>\n",
              "      <td>77.796208</td>\n",
              "      <td>1.169389</td>\n",
              "      <td>6.718687</td>\n",
              "      <td>15.409112</td>\n",
              "      <td>82.046204</td>\n",
              "      <td>10175.451830</td>\n",
              "      <td>0.409883</td>\n",
              "      <td>0.405123</td>\n",
              "      <td>0.907428</td>\n",
              "      <td>55.966390</td>\n",
              "      <td>0.000023</td>\n",
              "      <td>0.089340</td>\n",
              "    </tr>\n",
              "    <tr>\n",
              "      <th>min</th>\n",
              "      <td>0.000000</td>\n",
              "      <td>0.000000e+00</td>\n",
              "      <td>0.000000</td>\n",
              "      <td>1500.000000</td>\n",
              "      <td>479.000000</td>\n",
              "      <td>0.360000</td>\n",
              "      <td>0.000000</td>\n",
              "      <td>0.000000</td>\n",
              "      <td>-309.970000</td>\n",
              "      <td>4.000000</td>\n",
              "      <td>0.000000</td>\n",
              "      <td>1.000000</td>\n",
              "      <td>1.000000</td>\n",
              "      <td>2.718282</td>\n",
              "      <td>0.500278</td>\n",
              "      <td>1.000000</td>\n",
              "    </tr>\n",
              "    <tr>\n",
              "      <th>25%</th>\n",
              "      <td>0.000000</td>\n",
              "      <td>4.000000e+04</td>\n",
              "      <td>0.000000</td>\n",
              "      <td>15000.000000</td>\n",
              "      <td>686.000000</td>\n",
              "      <td>45.000000</td>\n",
              "      <td>4.000000</td>\n",
              "      <td>27.100000</td>\n",
              "      <td>10.220000</td>\n",
              "      <td>14000.000000</td>\n",
              "      <td>0.000000</td>\n",
              "      <td>2.000000</td>\n",
              "      <td>3.000000</td>\n",
              "      <td>148.413159</td>\n",
              "      <td>0.500333</td>\n",
              "      <td>1.000000</td>\n",
              "    </tr>\n",
              "    <tr>\n",
              "      <th>50%</th>\n",
              "      <td>0.000000</td>\n",
              "      <td>6.000000e+04</td>\n",
              "      <td>0.000000</td>\n",
              "      <td>20000.000000</td>\n",
              "      <td>718.000000</td>\n",
              "      <td>45.000000</td>\n",
              "      <td>7.000000</td>\n",
              "      <td>35.900000</td>\n",
              "      <td>29.080000</td>\n",
              "      <td>20000.000000</td>\n",
              "      <td>0.000000</td>\n",
              "      <td>2.000000</td>\n",
              "      <td>4.000000</td>\n",
              "      <td>148.413159</td>\n",
              "      <td>0.500352</td>\n",
              "      <td>1.000000</td>\n",
              "    </tr>\n",
              "    <tr>\n",
              "      <th>75%</th>\n",
              "      <td>0.000000</td>\n",
              "      <td>8.500000e+04</td>\n",
              "      <td>0.000000</td>\n",
              "      <td>30000.000000</td>\n",
              "      <td>753.000000</td>\n",
              "      <td>45.000000</td>\n",
              "      <td>10.000000</td>\n",
              "      <td>46.300000</td>\n",
              "      <td>67.850000</td>\n",
              "      <td>30000.000000</td>\n",
              "      <td>0.000000</td>\n",
              "      <td>2.000000</td>\n",
              "      <td>4.000000</td>\n",
              "      <td>148.413159</td>\n",
              "      <td>0.500368</td>\n",
              "      <td>1.000000</td>\n",
              "    </tr>\n",
              "    <tr>\n",
              "      <th>max</th>\n",
              "      <td>1.000000</td>\n",
              "      <td>9.500000e+07</td>\n",
              "      <td>1.000000</td>\n",
              "      <td>300000.000000</td>\n",
              "      <td>9003.000000</td>\n",
              "      <td>45.000000</td>\n",
              "      <td>99.000000</td>\n",
              "      <td>998.300000</td>\n",
              "      <td>1244.250000</td>\n",
              "      <td>75000.000000</td>\n",
              "      <td>1.000000</td>\n",
              "      <td>3.000000</td>\n",
              "      <td>5.000000</td>\n",
              "      <td>403.428793</td>\n",
              "      <td>0.500403</td>\n",
              "      <td>4.000000</td>\n",
              "    </tr>\n",
              "  </tbody>\n",
              "</table>\n",
              "</div>"
            ],
            "text/plain": [
              "        funded_flag  ...           ndi\n",
              "count  88679.000000  ...  88679.000000\n",
              "mean       0.091093  ...      1.003687\n",
              "std        0.287742  ...      0.089340\n",
              "min        0.000000  ...      1.000000\n",
              "25%        0.000000  ...      1.000000\n",
              "50%        0.000000  ...      1.000000\n",
              "75%        0.000000  ...      1.000000\n",
              "max        1.000000  ...      4.000000\n",
              "\n",
              "[8 rows x 16 columns]"
            ]
          },
          "metadata": {
            "tags": []
          },
          "execution_count": 54
        }
      ]
    },
    {
      "cell_type": "code",
      "metadata": {
        "id": "TzCI89QwIfbd",
        "colab_type": "code",
        "colab": {
          "base_uri": "https://localhost:8080/",
          "height": 33
        },
        "outputId": "a5a8bbf7-5f82-4c46-fd8d-4e8b01a7a3ff"
      },
      "source": [
        "# segment out the variable we are predicting from the rest of the data\n",
        "y = all_train['funded_flag']\n",
        "X = train\n",
        "print(X.shape, y.shape)"
      ],
      "execution_count": null,
      "outputs": [
        {
          "output_type": "stream",
          "text": [
            "(88679, 18) (88679,)\n"
          ],
          "name": "stdout"
        }
      ]
    },
    {
      "cell_type": "code",
      "metadata": {
        "id": "3-st1-MBJ6uQ",
        "colab_type": "code",
        "colab": {
          "base_uri": "https://localhost:8080/",
          "height": 506
        },
        "outputId": "7ae99cb5-1784-4067-efaf-f75a89127be6"
      },
      "source": [
        "# Set classes for all plots\n",
        "classes = ['Not Funded', 'Funded']\n",
        "\n",
        "classifier = LogisticRegression()\n",
        "\n",
        "# Instantiate the visualizer with the classification model\n",
        "visualizer = ROCAUC(classifier, classes=classes)\n",
        "\n",
        "\n",
        "visualizer.fit(X, y)  # Fit the training data to the visualizer\n",
        "visualizer.score(val, y_val)  # Evaluate the model on the test data\n",
        "g = visualizer.poof()"
      ],
      "execution_count": null,
      "outputs": [
        {
          "output_type": "stream",
          "text": [
            "/usr/local/lib/python3.6/dist-packages/sklearn/linear_model/_logistic.py:940: ConvergenceWarning: lbfgs failed to converge (status=1):\n",
            "STOP: TOTAL NO. of ITERATIONS REACHED LIMIT.\n",
            "\n",
            "Increase the number of iterations (max_iter) or scale the data as shown in:\n",
            "    https://scikit-learn.org/stable/modules/preprocessing.html\n",
            "Please also refer to the documentation for alternative solver options:\n",
            "    https://scikit-learn.org/stable/modules/linear_model.html#logistic-regression\n",
            "  extra_warning_msg=_LOGISTIC_SOLVER_CONVERGENCE_MSG)\n"
          ],
          "name": "stderr"
        },
        {
          "output_type": "display_data",
          "data": {
            "image/png": "[encoded data removed]",
            "text/plain": [
              "<Figure size 576x396 with 1 Axes>"
            ]
          },
          "metadata": {
            "tags": []
          }
        }
      ]
    },
    {
      "cell_type": "code",
      "metadata": {
        "id": "hQGRe93SJ6xo",
        "colab_type": "code",
        "colab": {
          "base_uri": "https://localhost:8080/",
          "height": 163
        },
        "outputId": "317e6ec1-e01d-4a34-f941-43fe768cb4ce"
      },
      "source": [
        "model = LogisticRegression()\n",
        "model.fit(X, y)\n",
        "model.score(val, y_val)"
      ],
      "execution_count": null,
      "outputs": [
        {
          "output_type": "stream",
          "text": [
            "/usr/local/lib/python3.6/dist-packages/sklearn/linear_model/_logistic.py:940: ConvergenceWarning: lbfgs failed to converge (status=1):\n",
            "STOP: TOTAL NO. of ITERATIONS REACHED LIMIT.\n",
            "\n",
            "Increase the number of iterations (max_iter) or scale the data as shown in:\n",
            "    https://scikit-learn.org/stable/modules/preprocessing.html\n",
            "Please also refer to the documentation for alternative solver options:\n",
            "    https://scikit-learn.org/stable/modules/linear_model.html#logistic-regression\n",
            "  extra_warning_msg=_LOGISTIC_SOLVER_CONVERGENCE_MSG)\n"
          ],
          "name": "stderr"
        },
        {
          "output_type": "execute_result",
          "data": {
            "text/plain": [
              "0.8918637574950034"
            ]
          },
          "metadata": {
            "tags": []
          },
          "execution_count": 55
        }
      ]
    },
    {
      "cell_type": "code",
      "metadata": {
        "id": "7Y1-aTTtc38t",
        "colab_type": "code",
        "colab": {
          "base_uri": "https://localhost:8080/",
          "height": 33
        },
        "outputId": "17265ecc-b11a-4cee-c4b5-a9bd0fc3f5a7"
      },
      "source": [
        "from sklearn.externals import joblib\n",
        "\n",
        "# Save to file in the current working directory\n",
        "joblib_file = \"Fplus_Lead_Scoring_new\"\n",
        "joblib.dump(model, joblib_file)"
      ],
      "execution_count": null,
      "outputs": [
        {
          "output_type": "execute_result",
          "data": {
            "text/plain": [
              "['Fplus_Lead_Scoring_new']"
            ]
          },
          "metadata": {
            "tags": []
          },
          "execution_count": 112
        }
      ]
    },
    {
      "cell_type": "code",
      "metadata": {
        "id": "QkemtODVQSLz",
        "colab_type": "code",
        "colab": {}
      },
      "source": [
        "y_pred = model.predict(X)"
      ],
      "execution_count": null,
      "outputs": []
    },
    {
      "cell_type": "code",
      "metadata": {
        "id": "lFmxEGuxQnil",
        "colab_type": "code",
        "colab": {}
      },
      "source": [
        "y_pred_prob = model.predict_proba(X)"
      ],
      "execution_count": null,
      "outputs": []
    },
    {
      "cell_type": "code",
      "metadata": {
        "id": "vwLbhzY0QrIv",
        "colab_type": "code",
        "colab": {
          "base_uri": "https://localhost:8080/",
          "height": 131
        },
        "outputId": "ee3792a8-74a4-47d3-c396-647a407cdcef"
      },
      "source": [
        "y_pred_prob"
      ],
      "execution_count": null,
      "outputs": [
        {
          "output_type": "execute_result",
          "data": {
            "text/plain": [
              "array([[0.97826754, 0.02173246],\n",
              "       [0.96115166, 0.03884834],\n",
              "       [0.96257634, 0.03742366],\n",
              "       ...,\n",
              "       [0.96341956, 0.03658044],\n",
              "       [0.95517901, 0.04482099],\n",
              "       [0.82223689, 0.17776311]])"
            ]
          },
          "metadata": {
            "tags": []
          },
          "execution_count": 61
        }
      ]
    },
    {
      "cell_type": "code",
      "metadata": {
        "id": "bXTpu9lMQjV-",
        "colab_type": "code",
        "colab": {
          "base_uri": "https://localhost:8080/",
          "height": 33
        },
        "outputId": "9d8434d5-f22b-453e-faeb-be4d7eec9ffd"
      },
      "source": [
        "y_pred"
      ],
      "execution_count": null,
      "outputs": [
        {
          "output_type": "execute_result",
          "data": {
            "text/plain": [
              "array([0, 0, 0, ..., 0, 0, 0])"
            ]
          },
          "metadata": {
            "tags": []
          },
          "execution_count": 59
        }
      ]
    },
    {
      "cell_type": "code",
      "metadata": {
        "id": "9SI96G6CJ600",
        "colab_type": "code",
        "colab": {}
      },
      "source": [
        "from sklearn.metrics import classification_report"
      ],
      "execution_count": null,
      "outputs": []
    },
    {
      "cell_type": "code",
      "metadata": {
        "id": "CwmtMmRpJ63q",
        "colab_type": "code",
        "colab": {
          "base_uri": "https://localhost:8080/",
          "height": 163
        },
        "outputId": "fb651a63-7244-4169-eeac-6f346a9f45d9"
      },
      "source": [
        "classes = ['Not Funded', 'Funded']\n",
        "\n",
        "print(classification_report(y, y_pred, target_names=classes))"
      ],
      "execution_count": null,
      "outputs": [
        {
          "output_type": "stream",
          "text": [
            "              precision    recall  f1-score   support\n",
            "\n",
            "  Not Funded       0.91      1.00      0.95     80601\n",
            "      Funded       0.47      0.02      0.03      8078\n",
            "\n",
            "    accuracy                           0.91     88679\n",
            "   macro avg       0.69      0.51      0.49     88679\n",
            "weighted avg       0.87      0.91      0.87     88679\n",
            "\n"
          ],
          "name": "stdout"
        }
      ]
    },
    {
      "cell_type": "markdown",
      "metadata": {
        "id": "yPmGr8Ef0K_n",
        "colab_type": "text"
      },
      "source": [
        "# Validation Round 2"
      ]
    },
    {
      "cell_type": "code",
      "metadata": {
        "id": "gqce4zuv0OAI",
        "colab_type": "code",
        "colab": {}
      },
      "source": [
        "sql = \"\"\"\n",
        "SELECT \n",
        " loan_id\n",
        ", CASE WHEN funded_date IS NOT NULL THEN 1 ELSE 0 END AS funded_flag\n",
        ", co_app_verifiable_annual_income\n",
        ", loan_use\n",
        ", employment_status\n",
        ", amount_of_loan_requested\n",
        ", fico\n",
        ", lti\n",
        ", bcc0300\n",
        ", ndi_ratio\n",
        ", utm_source\n",
        ", original_npv_phase\n",
        ", final_loan_amount\n",
        "\n",
        "FROM `ffam-data-platform.standardized_data.fplus_application` \n",
        "WHERE flag_eligible_lead = true\n",
        "AND latest_prequal_decision <> 'DECLINED'\n",
        "AND created_datetime BETWEEN '2020-06-01' AND '2020-07-15'\n",
        "\"\"\""
      ],
      "execution_count": null,
      "outputs": []
    },
    {
      "cell_type": "code",
      "metadata": {
        "id": "FfTzugh00TFr",
        "colab_type": "code",
        "colab": {}
      },
      "source": [
        "df1 = pandas_gbq.read_gbq(sql, project_id='ffn-dw-bigquery-prd', credentials=credentials, dialect='standard')\n",
        "\n",
        "df = df1"
      ],
      "execution_count": null,
      "outputs": []
    },
    {
      "cell_type": "code",
      "metadata": {
        "id": "IA6sjOBk4Etx",
        "colab_type": "code",
        "colab": {}
      },
      "source": [
        "# Transform variables\n",
        "df['co_app'] = df['co_app_verifiable_annual_income'].apply(get_co_app_cat)\n",
        "df['loan_use'] = df['loan_use'].apply(get_loan_use_cat)\n",
        "df['employment'] = df['employment_status'].apply(get_employment_cat)\n",
        "df['loan_amount'] = df['amount_of_loan_requested'].apply(get_loan_amount_cat)\n",
        "df['mkt_chan'] = df['utm_source'].apply(get_mkt_chan_cat)\n",
        "df['ficox'] = df['fico'].apply(get_fico)\n",
        "df['lti'] = df['lti'].apply(get_lti)\n",
        "df['bcc0300'] = df['bcc0300'].apply(get_bcc0300)\n",
        "df['ndi'] = df['ndi_ratio'].apply(get_ndi_cat)"
      ],
      "execution_count": null,
      "outputs": []
    },
    {
      "cell_type": "code",
      "metadata": {
        "id": "ikx3x8oB47Cr",
        "colab_type": "code",
        "colab": {
          "base_uri": "https://localhost:8080/",
          "height": 191
        },
        "outputId": "a322d5e3-87dc-419f-8f23-f63761162e63"
      },
      "source": [
        "things = ['co_app', 'loan_use', 'mkt_chan', 'ficox', 'employment', 'lti', 'bcc0300', 'loan_amount', 'ndi']\n",
        "val = df[things]\n",
        "val.head()"
      ],
      "execution_count": null,
      "outputs": [
        {
          "output_type": "execute_result",
          "data": {
            "text/html": [
              "<div>\n",
              "<style scoped>\n",
              "    .dataframe tbody tr th:only-of-type {\n",
              "        vertical-align: middle;\n",
              "    }\n",
              "\n",
              "    .dataframe tbody tr th {\n",
              "        vertical-align: top;\n",
              "    }\n",
              "\n",
              "    .dataframe thead th {\n",
              "        text-align: right;\n",
              "    }\n",
              "</style>\n",
              "<table border=\"1\" class=\"dataframe\">\n",
              "  <thead>\n",
              "    <tr style=\"text-align: right;\">\n",
              "      <th></th>\n",
              "      <th>co_app</th>\n",
              "      <th>loan_use</th>\n",
              "      <th>mkt_chan</th>\n",
              "      <th>ficox</th>\n",
              "      <th>employment</th>\n",
              "      <th>lti</th>\n",
              "      <th>bcc0300</th>\n",
              "      <th>loan_amount</th>\n",
              "      <th>ndi</th>\n",
              "    </tr>\n",
              "  </thead>\n",
              "  <tbody>\n",
              "    <tr>\n",
              "      <th>0</th>\n",
              "      <td>1</td>\n",
              "      <td>0</td>\n",
              "      <td>148.413159</td>\n",
              "      <td>0.500357</td>\n",
              "      <td>3</td>\n",
              "      <td>45.0</td>\n",
              "      <td>1</td>\n",
              "      <td>4</td>\n",
              "      <td>1</td>\n",
              "    </tr>\n",
              "    <tr>\n",
              "      <th>1</th>\n",
              "      <td>1</td>\n",
              "      <td>0</td>\n",
              "      <td>148.413159</td>\n",
              "      <td>0.500333</td>\n",
              "      <td>2</td>\n",
              "      <td>45.0</td>\n",
              "      <td>6</td>\n",
              "      <td>3</td>\n",
              "      <td>1</td>\n",
              "    </tr>\n",
              "    <tr>\n",
              "      <th>2</th>\n",
              "      <td>0</td>\n",
              "      <td>0</td>\n",
              "      <td>148.413159</td>\n",
              "      <td>0.500338</td>\n",
              "      <td>2</td>\n",
              "      <td>45.0</td>\n",
              "      <td>3</td>\n",
              "      <td>3</td>\n",
              "      <td>1</td>\n",
              "    </tr>\n",
              "    <tr>\n",
              "      <th>3</th>\n",
              "      <td>1</td>\n",
              "      <td>0</td>\n",
              "      <td>148.413159</td>\n",
              "      <td>0.500391</td>\n",
              "      <td>2</td>\n",
              "      <td>45.0</td>\n",
              "      <td>8</td>\n",
              "      <td>3</td>\n",
              "      <td>1</td>\n",
              "    </tr>\n",
              "    <tr>\n",
              "      <th>4</th>\n",
              "      <td>0</td>\n",
              "      <td>0</td>\n",
              "      <td>148.413159</td>\n",
              "      <td>0.500357</td>\n",
              "      <td>2</td>\n",
              "      <td>45.0</td>\n",
              "      <td>6</td>\n",
              "      <td>3</td>\n",
              "      <td>1</td>\n",
              "    </tr>\n",
              "  </tbody>\n",
              "</table>\n",
              "</div>"
            ],
            "text/plain": [
              "   co_app  loan_use    mkt_chan     ficox  ...   lti  bcc0300  loan_amount  ndi\n",
              "0       1         0  148.413159  0.500357  ...  45.0        1            4    1\n",
              "1       1         0  148.413159  0.500333  ...  45.0        6            3    1\n",
              "2       0         0  148.413159  0.500338  ...  45.0        3            3    1\n",
              "3       1         0  148.413159  0.500391  ...  45.0        8            3    1\n",
              "4       0         0  148.413159  0.500357  ...  45.0        6            3    1\n",
              "\n",
              "[5 rows x 9 columns]"
            ]
          },
          "metadata": {
            "tags": []
          },
          "execution_count": 35
        }
      ]
    },
    {
      "cell_type": "code",
      "metadata": {
        "id": "eKOTsACi5ALo",
        "colab_type": "code",
        "colab": {
          "base_uri": "https://localhost:8080/",
          "height": 82
        },
        "outputId": "ef3a7a5b-f333-4cd7-8770-24cad0f107a8"
      },
      "source": [
        "# create dummies\n",
        "cat_vars=['employment','loan_amount', 'ndi']\n",
        "for var in cat_vars:\n",
        "    cat_list = pd.get_dummies(val[var], prefix=var)\n",
        "    temp=val.join(cat_list)\n",
        "    val=temp\n",
        "data_vars=val.columns.values.tolist()\n",
        "to_keep=[i for i in data_vars if i not in cat_vars]\n",
        "val=val[to_keep]\n",
        "print(val.columns.values)\n",
        "\n",
        "# re-index to have same columns as the model\n",
        "val = val.reindex(columns = ['ficox', 'lti', 'bcc0300', 'co_app',\n",
        "                             'loan_use', 'employment_1',\n",
        "                             'employment_2', 'employment_3', 'loan_amount_1',\n",
        "                             'loan_amount_2', 'loan_amount_3', 'loan_amount_4', \n",
        "                             'loan_amount_5', 'mkt_chan', 'ndi_1', 'ndi_2',\n",
        "                             'ndi_3', 'ndi_4',], fill_value=0)"
      ],
      "execution_count": null,
      "outputs": [
        {
          "output_type": "stream",
          "text": [
            "['co_app' 'loan_use' 'mkt_chan' 'ficox' 'lti' 'bcc0300' 'employment_1'\n",
            " 'employment_2' 'employment_3' 'loan_amount_1' 'loan_amount_2'\n",
            " 'loan_amount_3' 'loan_amount_4' 'loan_amount_5' 'ndi_1' 'ndi_2' 'ndi_3'\n",
            " 'ndi_4']\n"
          ],
          "name": "stdout"
        }
      ]
    },
    {
      "cell_type": "code",
      "metadata": {
        "id": "c_1FRawO5Ucw",
        "colab_type": "code",
        "colab": {}
      },
      "source": [
        "# preds = model.predict_proba(val)[:,1]\n",
        "preds = fplus_ls_model.predict_proba(val)[:,1]"
      ],
      "execution_count": null,
      "outputs": []
    },
    {
      "cell_type": "code",
      "metadata": {
        "id": "NTudkDiL5Z_l",
        "colab_type": "code",
        "colab": {}
      },
      "source": [
        "df['pred'] = preds"
      ],
      "execution_count": null,
      "outputs": []
    },
    {
      "cell_type": "code",
      "metadata": {
        "id": "gd2eJXUWR707",
        "colab_type": "code",
        "colab": {
          "base_uri": "https://localhost:8080/",
          "height": 573
        },
        "outputId": "39e82d3e-c227-4ce8-b508-305825f98992"
      },
      "source": [
        "df"
      ],
      "execution_count": null,
      "outputs": [
        {
          "output_type": "execute_result",
          "data": {
            "text/html": [
              "<div>\n",
              "<style scoped>\n",
              "    .dataframe tbody tr th:only-of-type {\n",
              "        vertical-align: middle;\n",
              "    }\n",
              "\n",
              "    .dataframe tbody tr th {\n",
              "        vertical-align: top;\n",
              "    }\n",
              "\n",
              "    .dataframe thead th {\n",
              "        text-align: right;\n",
              "    }\n",
              "</style>\n",
              "<table border=\"1\" class=\"dataframe\">\n",
              "  <thead>\n",
              "    <tr style=\"text-align: right;\">\n",
              "      <th></th>\n",
              "      <th>loan_id</th>\n",
              "      <th>funded_flag</th>\n",
              "      <th>co_app_verifiable_annual_income</th>\n",
              "      <th>loan_use</th>\n",
              "      <th>employment_status</th>\n",
              "      <th>amount_of_loan_requested</th>\n",
              "      <th>fico</th>\n",
              "      <th>lti</th>\n",
              "      <th>bcc0300</th>\n",
              "      <th>ndi_ratio</th>\n",
              "      <th>utm_source</th>\n",
              "      <th>original_npv_phase</th>\n",
              "      <th>final_loan_amount</th>\n",
              "      <th>co_app</th>\n",
              "      <th>employment</th>\n",
              "      <th>loan_amount</th>\n",
              "      <th>mkt_chan</th>\n",
              "      <th>ficox</th>\n",
              "      <th>ndi</th>\n",
              "      <th>pred</th>\n",
              "    </tr>\n",
              "  </thead>\n",
              "  <tbody>\n",
              "    <tr>\n",
              "      <th>0</th>\n",
              "      <td>App-07702283</td>\n",
              "      <td>0</td>\n",
              "      <td>48000.0</td>\n",
              "      <td>0</td>\n",
              "      <td>Retired</td>\n",
              "      <td>24351.84</td>\n",
              "      <td>704.0</td>\n",
              "      <td>45.0</td>\n",
              "      <td>1</td>\n",
              "      <td>51.800000</td>\n",
              "      <td>CS Phone</td>\n",
              "      <td>215.20000</td>\n",
              "      <td>7500.00</td>\n",
              "      <td>1</td>\n",
              "      <td>3</td>\n",
              "      <td>4</td>\n",
              "      <td>148.413159</td>\n",
              "      <td>0.500357</td>\n",
              "      <td>1</td>\n",
              "      <td>0.298968</td>\n",
              "    </tr>\n",
              "    <tr>\n",
              "      <th>1</th>\n",
              "      <td>App-07786402</td>\n",
              "      <td>0</td>\n",
              "      <td>17000.0</td>\n",
              "      <td>0</td>\n",
              "      <td>Full-time</td>\n",
              "      <td>19999.00</td>\n",
              "      <td>751.0</td>\n",
              "      <td>45.0</td>\n",
              "      <td>6</td>\n",
              "      <td>53.000000</td>\n",
              "      <td>CS Phone</td>\n",
              "      <td>114.23000</td>\n",
              "      <td>11999.00</td>\n",
              "      <td>1</td>\n",
              "      <td>2</td>\n",
              "      <td>3</td>\n",
              "      <td>148.413159</td>\n",
              "      <td>0.500333</td>\n",
              "      <td>1</td>\n",
              "      <td>0.261223</td>\n",
              "    </tr>\n",
              "    <tr>\n",
              "      <th>2</th>\n",
              "      <td>App-07777006</td>\n",
              "      <td>1</td>\n",
              "      <td>NaN</td>\n",
              "      <td>0</td>\n",
              "      <td>Full-time</td>\n",
              "      <td>15400.00</td>\n",
              "      <td>744.0</td>\n",
              "      <td>45.0</td>\n",
              "      <td>3</td>\n",
              "      <td>35.900000</td>\n",
              "      <td>aff_firstchoice</td>\n",
              "      <td>16.07000</td>\n",
              "      <td>16510.34</td>\n",
              "      <td>0</td>\n",
              "      <td>2</td>\n",
              "      <td>3</td>\n",
              "      <td>148.413159</td>\n",
              "      <td>0.500338</td>\n",
              "      <td>1</td>\n",
              "      <td>0.118408</td>\n",
              "    </tr>\n",
              "    <tr>\n",
              "      <th>3</th>\n",
              "      <td>App-07735283</td>\n",
              "      <td>1</td>\n",
              "      <td>36000.0</td>\n",
              "      <td>0</td>\n",
              "      <td>Full-time</td>\n",
              "      <td>15176.09</td>\n",
              "      <td>640.0</td>\n",
              "      <td>45.0</td>\n",
              "      <td>8</td>\n",
              "      <td>34.400000</td>\n",
              "      <td>CS Phone</td>\n",
              "      <td>115.07000</td>\n",
              "      <td>15200.38</td>\n",
              "      <td>1</td>\n",
              "      <td>2</td>\n",
              "      <td>3</td>\n",
              "      <td>148.413159</td>\n",
              "      <td>0.500391</td>\n",
              "      <td>1</td>\n",
              "      <td>0.247080</td>\n",
              "    </tr>\n",
              "    <tr>\n",
              "      <th>4</th>\n",
              "      <td>App-07794753</td>\n",
              "      <td>1</td>\n",
              "      <td>NaN</td>\n",
              "      <td>0</td>\n",
              "      <td>Full-time</td>\n",
              "      <td>12778.65</td>\n",
              "      <td>700.0</td>\n",
              "      <td>45.0</td>\n",
              "      <td>6</td>\n",
              "      <td>38.399467</td>\n",
              "      <td>CS Phone</td>\n",
              "      <td>27.86328</td>\n",
              "      <td>12705.01</td>\n",
              "      <td>0</td>\n",
              "      <td>2</td>\n",
              "      <td>3</td>\n",
              "      <td>148.413159</td>\n",
              "      <td>0.500357</td>\n",
              "      <td>1</td>\n",
              "      <td>0.107213</td>\n",
              "    </tr>\n",
              "    <tr>\n",
              "      <th>...</th>\n",
              "      <td>...</td>\n",
              "      <td>...</td>\n",
              "      <td>...</td>\n",
              "      <td>...</td>\n",
              "      <td>...</td>\n",
              "      <td>...</td>\n",
              "      <td>...</td>\n",
              "      <td>...</td>\n",
              "      <td>...</td>\n",
              "      <td>...</td>\n",
              "      <td>...</td>\n",
              "      <td>...</td>\n",
              "      <td>...</td>\n",
              "      <td>...</td>\n",
              "      <td>...</td>\n",
              "      <td>...</td>\n",
              "      <td>...</td>\n",
              "      <td>...</td>\n",
              "      <td>...</td>\n",
              "      <td>...</td>\n",
              "    </tr>\n",
              "    <tr>\n",
              "      <th>24018</th>\n",
              "      <td>App-07783306</td>\n",
              "      <td>0</td>\n",
              "      <td>85000.0</td>\n",
              "      <td>0</td>\n",
              "      <td>Full-time</td>\n",
              "      <td>45000.00</td>\n",
              "      <td>761.0</td>\n",
              "      <td>45.0</td>\n",
              "      <td>8</td>\n",
              "      <td>26.400000</td>\n",
              "      <td>Lending Tree</td>\n",
              "      <td>142.59000</td>\n",
              "      <td>40000.00</td>\n",
              "      <td>1</td>\n",
              "      <td>2</td>\n",
              "      <td>4</td>\n",
              "      <td>148.413159</td>\n",
              "      <td>0.500329</td>\n",
              "      <td>1</td>\n",
              "      <td>0.147362</td>\n",
              "    </tr>\n",
              "    <tr>\n",
              "      <th>24019</th>\n",
              "      <td>App-07759955</td>\n",
              "      <td>0</td>\n",
              "      <td>40000.0</td>\n",
              "      <td>0</td>\n",
              "      <td>Full-time</td>\n",
              "      <td>45000.00</td>\n",
              "      <td>772.0</td>\n",
              "      <td>45.0</td>\n",
              "      <td>4</td>\n",
              "      <td>31.600000</td>\n",
              "      <td>Lending Tree</td>\n",
              "      <td>130.60000</td>\n",
              "      <td>40000.00</td>\n",
              "      <td>1</td>\n",
              "      <td>2</td>\n",
              "      <td>4</td>\n",
              "      <td>148.413159</td>\n",
              "      <td>0.500325</td>\n",
              "      <td>1</td>\n",
              "      <td>0.167117</td>\n",
              "    </tr>\n",
              "    <tr>\n",
              "      <th>24020</th>\n",
              "      <td>App-07767242</td>\n",
              "      <td>0</td>\n",
              "      <td>NaN</td>\n",
              "      <td>0</td>\n",
              "      <td>Full-time</td>\n",
              "      <td>45000.00</td>\n",
              "      <td>798.0</td>\n",
              "      <td>45.0</td>\n",
              "      <td>6</td>\n",
              "      <td>37.400000</td>\n",
              "      <td>Lending Tree</td>\n",
              "      <td>83.63000</td>\n",
              "      <td>40000.00</td>\n",
              "      <td>0</td>\n",
              "      <td>2</td>\n",
              "      <td>4</td>\n",
              "      <td>148.413159</td>\n",
              "      <td>0.500316</td>\n",
              "      <td>1</td>\n",
              "      <td>0.059483</td>\n",
              "    </tr>\n",
              "    <tr>\n",
              "      <th>24021</th>\n",
              "      <td>App-07794988</td>\n",
              "      <td>0</td>\n",
              "      <td>110000.0</td>\n",
              "      <td>1</td>\n",
              "      <td>Full-time</td>\n",
              "      <td>45000.00</td>\n",
              "      <td>798.0</td>\n",
              "      <td>45.0</td>\n",
              "      <td>3</td>\n",
              "      <td>36.351241</td>\n",
              "      <td>Lending Tree</td>\n",
              "      <td>258.39000</td>\n",
              "      <td>40000.00</td>\n",
              "      <td>1</td>\n",
              "      <td>2</td>\n",
              "      <td>4</td>\n",
              "      <td>148.413159</td>\n",
              "      <td>0.500316</td>\n",
              "      <td>1</td>\n",
              "      <td>0.058089</td>\n",
              "    </tr>\n",
              "    <tr>\n",
              "      <th>24022</th>\n",
              "      <td>App-07780377</td>\n",
              "      <td>0</td>\n",
              "      <td>NaN</td>\n",
              "      <td>1</td>\n",
              "      <td>Full-time</td>\n",
              "      <td>45000.00</td>\n",
              "      <td>701.0</td>\n",
              "      <td>45.0</td>\n",
              "      <td>8</td>\n",
              "      <td>22.400000</td>\n",
              "      <td>Lending Tree</td>\n",
              "      <td>32.92000</td>\n",
              "      <td>40000.00</td>\n",
              "      <td>0</td>\n",
              "      <td>2</td>\n",
              "      <td>4</td>\n",
              "      <td>148.413159</td>\n",
              "      <td>0.500357</td>\n",
              "      <td>1</td>\n",
              "      <td>0.017084</td>\n",
              "    </tr>\n",
              "  </tbody>\n",
              "</table>\n",
              "<p>24023 rows × 20 columns</p>\n",
              "</div>"
            ],
            "text/plain": [
              "            loan_id  funded_flag  ...  ndi      pred\n",
              "0      App-07702283            0  ...    1  0.298968\n",
              "1      App-07786402            0  ...    1  0.261223\n",
              "2      App-07777006            1  ...    1  0.118408\n",
              "3      App-07735283            1  ...    1  0.247080\n",
              "4      App-07794753            1  ...    1  0.107213\n",
              "...             ...          ...  ...  ...       ...\n",
              "24018  App-07783306            0  ...    1  0.147362\n",
              "24019  App-07759955            0  ...    1  0.167117\n",
              "24020  App-07767242            0  ...    1  0.059483\n",
              "24021  App-07794988            0  ...    1  0.058089\n",
              "24022  App-07780377            0  ...    1  0.017084\n",
              "\n",
              "[24023 rows x 20 columns]"
            ]
          },
          "metadata": {
            "tags": []
          },
          "execution_count": 39
        }
      ]
    },
    {
      "cell_type": "code",
      "metadata": {
        "id": "moZAlGjcKrNJ",
        "colab_type": "code",
        "colab": {}
      },
      "source": [
        "y_val = df['funded_flag']"
      ],
      "execution_count": null,
      "outputs": []
    },
    {
      "cell_type": "markdown",
      "metadata": {
        "id": "5pE4MtPE54nx",
        "colab_type": "text"
      },
      "source": [
        "## Twin"
      ]
    },
    {
      "cell_type": "code",
      "metadata": {
        "id": "lHdx3l7t5vH6",
        "colab_type": "code",
        "colab": {}
      },
      "source": [
        "# add deciles to the predictions\n",
        "df['lead_scoring_twentile']=pd.qcut(df['pred'], 20, labels=False)"
      ],
      "execution_count": null,
      "outputs": []
    },
    {
      "cell_type": "code",
      "metadata": {
        "id": "W_E35izz587b",
        "colab_type": "code",
        "colab": {}
      },
      "source": [
        "twintiles = df.groupby(\n",
        "    'lead_scoring_twentile'\n",
        ").agg(\n",
        "    {\n",
        "        # Get the min, max, and mean of the predictions\n",
        "\t\t# min and max will help you see the boundaries of each decile\n",
        "        'pred': [min, max, \"count\", \"mean\"],\n",
        "        # Get the mean of the actuals\n",
        "        'funded_flag': [\"mean\"],\n",
        "    }\n",
        ")"
      ],
      "execution_count": null,
      "outputs": []
    },
    {
      "cell_type": "code",
      "metadata": {
        "id": "QS4jeq1ZLMOt",
        "colab_type": "code",
        "colab": {
          "base_uri": "https://localhost:8080/",
          "height": 680
        },
        "outputId": "46e503dd-f0a3-4bc3-b8a4-5bd0fb896c84"
      },
      "source": [
        "twintiles"
      ],
      "execution_count": null,
      "outputs": [
        {
          "output_type": "execute_result",
          "data": {
            "text/html": [
              "<div>\n",
              "<style scoped>\n",
              "    .dataframe tbody tr th:only-of-type {\n",
              "        vertical-align: middle;\n",
              "    }\n",
              "\n",
              "    .dataframe tbody tr th {\n",
              "        vertical-align: top;\n",
              "    }\n",
              "\n",
              "    .dataframe thead tr th {\n",
              "        text-align: left;\n",
              "    }\n",
              "\n",
              "    .dataframe thead tr:last-of-type th {\n",
              "        text-align: right;\n",
              "    }\n",
              "</style>\n",
              "<table border=\"1\" class=\"dataframe\">\n",
              "  <thead>\n",
              "    <tr>\n",
              "      <th></th>\n",
              "      <th colspan=\"4\" halign=\"left\">pred</th>\n",
              "      <th>funded_flag</th>\n",
              "    </tr>\n",
              "    <tr>\n",
              "      <th></th>\n",
              "      <th>min</th>\n",
              "      <th>max</th>\n",
              "      <th>count</th>\n",
              "      <th>mean</th>\n",
              "      <th>mean</th>\n",
              "    </tr>\n",
              "    <tr>\n",
              "      <th>lead_scoring_twentile</th>\n",
              "      <th></th>\n",
              "      <th></th>\n",
              "      <th></th>\n",
              "      <th></th>\n",
              "      <th></th>\n",
              "    </tr>\n",
              "  </thead>\n",
              "  <tbody>\n",
              "    <tr>\n",
              "      <th>0</th>\n",
              "      <td>0.000352</td>\n",
              "      <td>0.014168</td>\n",
              "      <td>1202</td>\n",
              "      <td>0.009156</td>\n",
              "      <td>0.009983</td>\n",
              "    </tr>\n",
              "    <tr>\n",
              "      <th>1</th>\n",
              "      <td>0.014168</td>\n",
              "      <td>0.019779</td>\n",
              "      <td>1202</td>\n",
              "      <td>0.016852</td>\n",
              "      <td>0.011647</td>\n",
              "    </tr>\n",
              "    <tr>\n",
              "      <th>2</th>\n",
              "      <td>0.019779</td>\n",
              "      <td>0.032392</td>\n",
              "      <td>1200</td>\n",
              "      <td>0.024985</td>\n",
              "      <td>0.025000</td>\n",
              "    </tr>\n",
              "    <tr>\n",
              "      <th>3</th>\n",
              "      <td>0.032392</td>\n",
              "      <td>0.040266</td>\n",
              "      <td>1203</td>\n",
              "      <td>0.036763</td>\n",
              "      <td>0.053200</td>\n",
              "    </tr>\n",
              "    <tr>\n",
              "      <th>4</th>\n",
              "      <td>0.040266</td>\n",
              "      <td>0.046446</td>\n",
              "      <td>1202</td>\n",
              "      <td>0.043515</td>\n",
              "      <td>0.054908</td>\n",
              "    </tr>\n",
              "    <tr>\n",
              "      <th>5</th>\n",
              "      <td>0.046446</td>\n",
              "      <td>0.049865</td>\n",
              "      <td>1217</td>\n",
              "      <td>0.048292</td>\n",
              "      <td>0.058340</td>\n",
              "    </tr>\n",
              "    <tr>\n",
              "      <th>6</th>\n",
              "      <td>0.049865</td>\n",
              "      <td>0.053521</td>\n",
              "      <td>1183</td>\n",
              "      <td>0.052211</td>\n",
              "      <td>0.062553</td>\n",
              "    </tr>\n",
              "    <tr>\n",
              "      <th>7</th>\n",
              "      <td>0.053521</td>\n",
              "      <td>0.057430</td>\n",
              "      <td>1222</td>\n",
              "      <td>0.056087</td>\n",
              "      <td>0.067921</td>\n",
              "    </tr>\n",
              "    <tr>\n",
              "      <th>8</th>\n",
              "      <td>0.057430</td>\n",
              "      <td>0.061605</td>\n",
              "      <td>1212</td>\n",
              "      <td>0.059453</td>\n",
              "      <td>0.064356</td>\n",
              "    </tr>\n",
              "    <tr>\n",
              "      <th>9</th>\n",
              "      <td>0.061605</td>\n",
              "      <td>0.066063</td>\n",
              "      <td>1181</td>\n",
              "      <td>0.063153</td>\n",
              "      <td>0.052498</td>\n",
              "    </tr>\n",
              "    <tr>\n",
              "      <th>10</th>\n",
              "      <td>0.066063</td>\n",
              "      <td>0.081873</td>\n",
              "      <td>1189</td>\n",
              "      <td>0.071333</td>\n",
              "      <td>0.089151</td>\n",
              "    </tr>\n",
              "    <tr>\n",
              "      <th>11</th>\n",
              "      <td>0.081873</td>\n",
              "      <td>0.100277</td>\n",
              "      <td>1206</td>\n",
              "      <td>0.091752</td>\n",
              "      <td>0.106136</td>\n",
              "    </tr>\n",
              "    <tr>\n",
              "      <th>12</th>\n",
              "      <td>0.100277</td>\n",
              "      <td>0.109339</td>\n",
              "      <td>1196</td>\n",
              "      <td>0.104386</td>\n",
              "      <td>0.120401</td>\n",
              "    </tr>\n",
              "    <tr>\n",
              "      <th>13</th>\n",
              "      <td>0.109616</td>\n",
              "      <td>0.118407</td>\n",
              "      <td>1227</td>\n",
              "      <td>0.113611</td>\n",
              "      <td>0.127954</td>\n",
              "    </tr>\n",
              "    <tr>\n",
              "      <th>14</th>\n",
              "      <td>0.118407</td>\n",
              "      <td>0.129579</td>\n",
              "      <td>1179</td>\n",
              "      <td>0.123418</td>\n",
              "      <td>0.150975</td>\n",
              "    </tr>\n",
              "    <tr>\n",
              "      <th>15</th>\n",
              "      <td>0.129579</td>\n",
              "      <td>0.146337</td>\n",
              "      <td>1199</td>\n",
              "      <td>0.137558</td>\n",
              "      <td>0.139283</td>\n",
              "    </tr>\n",
              "    <tr>\n",
              "      <th>16</th>\n",
              "      <td>0.146338</td>\n",
              "      <td>0.161988</td>\n",
              "      <td>1205</td>\n",
              "      <td>0.152534</td>\n",
              "      <td>0.140249</td>\n",
              "    </tr>\n",
              "    <tr>\n",
              "      <th>17</th>\n",
              "      <td>0.161988</td>\n",
              "      <td>0.191519</td>\n",
              "      <td>1196</td>\n",
              "      <td>0.171638</td>\n",
              "      <td>0.153846</td>\n",
              "    </tr>\n",
              "    <tr>\n",
              "      <th>18</th>\n",
              "      <td>0.191519</td>\n",
              "      <td>0.276033</td>\n",
              "      <td>1203</td>\n",
              "      <td>0.244775</td>\n",
              "      <td>0.311721</td>\n",
              "    </tr>\n",
              "    <tr>\n",
              "      <th>19</th>\n",
              "      <td>0.276033</td>\n",
              "      <td>0.712382</td>\n",
              "      <td>1199</td>\n",
              "      <td>0.357534</td>\n",
              "      <td>0.359466</td>\n",
              "    </tr>\n",
              "  </tbody>\n",
              "</table>\n",
              "</div>"
            ],
            "text/plain": [
              "                           pred                           funded_flag\n",
              "                            min       max count      mean        mean\n",
              "lead_scoring_twentile                                                \n",
              "0                      0.000352  0.014168  1202  0.009156    0.009983\n",
              "1                      0.014168  0.019779  1202  0.016852    0.011647\n",
              "2                      0.019779  0.032392  1200  0.024985    0.025000\n",
              "3                      0.032392  0.040266  1203  0.036763    0.053200\n",
              "4                      0.040266  0.046446  1202  0.043515    0.054908\n",
              "5                      0.046446  0.049865  1217  0.048292    0.058340\n",
              "6                      0.049865  0.053521  1183  0.052211    0.062553\n",
              "7                      0.053521  0.057430  1222  0.056087    0.067921\n",
              "8                      0.057430  0.061605  1212  0.059453    0.064356\n",
              "9                      0.061605  0.066063  1181  0.063153    0.052498\n",
              "10                     0.066063  0.081873  1189  0.071333    0.089151\n",
              "11                     0.081873  0.100277  1206  0.091752    0.106136\n",
              "12                     0.100277  0.109339  1196  0.104386    0.120401\n",
              "13                     0.109616  0.118407  1227  0.113611    0.127954\n",
              "14                     0.118407  0.129579  1179  0.123418    0.150975\n",
              "15                     0.129579  0.146337  1199  0.137558    0.139283\n",
              "16                     0.146338  0.161988  1205  0.152534    0.140249\n",
              "17                     0.161988  0.191519  1196  0.171638    0.153846\n",
              "18                     0.191519  0.276033  1203  0.244775    0.311721\n",
              "19                     0.276033  0.712382  1199  0.357534    0.359466"
            ]
          },
          "metadata": {
            "tags": []
          },
          "execution_count": 42
        }
      ]
    },
    {
      "cell_type": "code",
      "metadata": {
        "id": "TnOMhIqBS9cZ",
        "colab_type": "code",
        "colab": {}
      },
      "source": [
        "twintiles.to_csv(\"LeadScoringModel_Twintiles.csv\", index=False)"
      ],
      "execution_count": null,
      "outputs": []
    },
    {
      "cell_type": "code",
      "metadata": {
        "id": "X3szcX2t6DJY",
        "colab_type": "code",
        "colab": {
          "base_uri": "https://localhost:8080/",
          "height": 512
        },
        "outputId": "ba6f5620-a023-4467-f05e-d42e64926118"
      },
      "source": [
        "# Plot training & validation accuracy values\n",
        "plt.figure(figsize=(12,8))\n",
        "plt.plot(twintiles.pred['mean'])\n",
        "plt.plot(twintiles.funded_flag['mean'])\n",
        "plt.title('Twintile Plot')\n",
        "plt.ylabel('Fund Rate')\n",
        "plt.xlabel('Twintile')\n",
        "plt.legend(['Predicted Fund Rate', 'Actual Fund Rate'], loc='upper left')\n",
        "plt.show()"
      ],
      "execution_count": null,
      "outputs": [
        {
          "output_type": "display_data",
          "data": {
            "image/png": "[encoded data removed]",
            "text/plain": [
              "<Figure size 864x576 with 1 Axes>"
            ]
          },
          "metadata": {
            "tags": []
          }
        }
      ]
    },
    {
      "cell_type": "code",
      "metadata": {
        "id": "IYrsQvXi6SH9",
        "colab_type": "code",
        "colab": {
          "base_uri": "https://localhost:8080/",
          "height": 391
        },
        "outputId": "cfb4be60-fa28-49d5-bed2-06636d69d1b7"
      },
      "source": [
        "val"
      ],
      "execution_count": null,
      "outputs": [
        {
          "output_type": "execute_result",
          "data": {
            "text/html": [
              "<div>\n",
              "<style scoped>\n",
              "    .dataframe tbody tr th:only-of-type {\n",
              "        vertical-align: middle;\n",
              "    }\n",
              "\n",
              "    .dataframe tbody tr th {\n",
              "        vertical-align: top;\n",
              "    }\n",
              "\n",
              "    .dataframe thead th {\n",
              "        text-align: right;\n",
              "    }\n",
              "</style>\n",
              "<table border=\"1\" class=\"dataframe\">\n",
              "  <thead>\n",
              "    <tr style=\"text-align: right;\">\n",
              "      <th></th>\n",
              "      <th>ficox</th>\n",
              "      <th>lti</th>\n",
              "      <th>bcc0300</th>\n",
              "      <th>co_app</th>\n",
              "      <th>loan_use</th>\n",
              "      <th>employment_1</th>\n",
              "      <th>employment_2</th>\n",
              "      <th>employment_3</th>\n",
              "      <th>loan_amount_1</th>\n",
              "      <th>loan_amount_2</th>\n",
              "      <th>loan_amount_3</th>\n",
              "      <th>loan_amount_4</th>\n",
              "      <th>loan_amount_5</th>\n",
              "      <th>mkt_chan</th>\n",
              "      <th>ndi_1</th>\n",
              "      <th>ndi_2</th>\n",
              "      <th>ndi_3</th>\n",
              "      <th>ndi_4</th>\n",
              "    </tr>\n",
              "  </thead>\n",
              "  <tbody>\n",
              "    <tr>\n",
              "      <th>0</th>\n",
              "      <td>0.500368</td>\n",
              "      <td>45.0</td>\n",
              "      <td>11</td>\n",
              "      <td>0</td>\n",
              "      <td>0</td>\n",
              "      <td>0</td>\n",
              "      <td>1</td>\n",
              "      <td>0</td>\n",
              "      <td>0</td>\n",
              "      <td>0</td>\n",
              "      <td>0</td>\n",
              "      <td>1</td>\n",
              "      <td>0</td>\n",
              "      <td>403.428793</td>\n",
              "      <td>1</td>\n",
              "      <td>0</td>\n",
              "      <td>0</td>\n",
              "      <td>0</td>\n",
              "    </tr>\n",
              "    <tr>\n",
              "      <th>1</th>\n",
              "      <td>0.500357</td>\n",
              "      <td>45.0</td>\n",
              "      <td>9</td>\n",
              "      <td>0</td>\n",
              "      <td>0</td>\n",
              "      <td>0</td>\n",
              "      <td>1</td>\n",
              "      <td>0</td>\n",
              "      <td>1</td>\n",
              "      <td>0</td>\n",
              "      <td>0</td>\n",
              "      <td>0</td>\n",
              "      <td>0</td>\n",
              "      <td>403.428793</td>\n",
              "      <td>1</td>\n",
              "      <td>0</td>\n",
              "      <td>0</td>\n",
              "      <td>0</td>\n",
              "    </tr>\n",
              "    <tr>\n",
              "      <th>2</th>\n",
              "      <td>0.500368</td>\n",
              "      <td>45.0</td>\n",
              "      <td>10</td>\n",
              "      <td>0</td>\n",
              "      <td>0</td>\n",
              "      <td>1</td>\n",
              "      <td>0</td>\n",
              "      <td>0</td>\n",
              "      <td>0</td>\n",
              "      <td>0</td>\n",
              "      <td>0</td>\n",
              "      <td>1</td>\n",
              "      <td>0</td>\n",
              "      <td>403.428793</td>\n",
              "      <td>1</td>\n",
              "      <td>0</td>\n",
              "      <td>0</td>\n",
              "      <td>0</td>\n",
              "    </tr>\n",
              "    <tr>\n",
              "      <th>3</th>\n",
              "      <td>0.500368</td>\n",
              "      <td>45.0</td>\n",
              "      <td>10</td>\n",
              "      <td>0</td>\n",
              "      <td>0</td>\n",
              "      <td>0</td>\n",
              "      <td>1</td>\n",
              "      <td>0</td>\n",
              "      <td>0</td>\n",
              "      <td>0</td>\n",
              "      <td>1</td>\n",
              "      <td>0</td>\n",
              "      <td>0</td>\n",
              "      <td>148.413159</td>\n",
              "      <td>1</td>\n",
              "      <td>0</td>\n",
              "      <td>0</td>\n",
              "      <td>0</td>\n",
              "    </tr>\n",
              "    <tr>\n",
              "      <th>4</th>\n",
              "      <td>0.500316</td>\n",
              "      <td>45.0</td>\n",
              "      <td>14</td>\n",
              "      <td>0</td>\n",
              "      <td>0</td>\n",
              "      <td>0</td>\n",
              "      <td>1</td>\n",
              "      <td>0</td>\n",
              "      <td>0</td>\n",
              "      <td>0</td>\n",
              "      <td>0</td>\n",
              "      <td>0</td>\n",
              "      <td>1</td>\n",
              "      <td>148.413159</td>\n",
              "      <td>1</td>\n",
              "      <td>0</td>\n",
              "      <td>0</td>\n",
              "      <td>0</td>\n",
              "    </tr>\n",
              "    <tr>\n",
              "      <th>...</th>\n",
              "      <td>...</td>\n",
              "      <td>...</td>\n",
              "      <td>...</td>\n",
              "      <td>...</td>\n",
              "      <td>...</td>\n",
              "      <td>...</td>\n",
              "      <td>...</td>\n",
              "      <td>...</td>\n",
              "      <td>...</td>\n",
              "      <td>...</td>\n",
              "      <td>...</td>\n",
              "      <td>...</td>\n",
              "      <td>...</td>\n",
              "      <td>...</td>\n",
              "      <td>...</td>\n",
              "      <td>...</td>\n",
              "      <td>...</td>\n",
              "      <td>...</td>\n",
              "    </tr>\n",
              "    <tr>\n",
              "      <th>24011</th>\n",
              "      <td>0.500312</td>\n",
              "      <td>45.0</td>\n",
              "      <td>4</td>\n",
              "      <td>0</td>\n",
              "      <td>1</td>\n",
              "      <td>0</td>\n",
              "      <td>1</td>\n",
              "      <td>0</td>\n",
              "      <td>0</td>\n",
              "      <td>0</td>\n",
              "      <td>0</td>\n",
              "      <td>1</td>\n",
              "      <td>0</td>\n",
              "      <td>148.413159</td>\n",
              "      <td>1</td>\n",
              "      <td>0</td>\n",
              "      <td>0</td>\n",
              "      <td>0</td>\n",
              "    </tr>\n",
              "    <tr>\n",
              "      <th>24012</th>\n",
              "      <td>0.500333</td>\n",
              "      <td>45.0</td>\n",
              "      <td>15</td>\n",
              "      <td>0</td>\n",
              "      <td>0</td>\n",
              "      <td>0</td>\n",
              "      <td>1</td>\n",
              "      <td>0</td>\n",
              "      <td>0</td>\n",
              "      <td>0</td>\n",
              "      <td>0</td>\n",
              "      <td>1</td>\n",
              "      <td>0</td>\n",
              "      <td>148.413159</td>\n",
              "      <td>1</td>\n",
              "      <td>0</td>\n",
              "      <td>0</td>\n",
              "      <td>0</td>\n",
              "    </tr>\n",
              "    <tr>\n",
              "      <th>24013</th>\n",
              "      <td>0.500316</td>\n",
              "      <td>45.0</td>\n",
              "      <td>5</td>\n",
              "      <td>1</td>\n",
              "      <td>0</td>\n",
              "      <td>0</td>\n",
              "      <td>1</td>\n",
              "      <td>0</td>\n",
              "      <td>0</td>\n",
              "      <td>0</td>\n",
              "      <td>0</td>\n",
              "      <td>1</td>\n",
              "      <td>0</td>\n",
              "      <td>148.413159</td>\n",
              "      <td>1</td>\n",
              "      <td>0</td>\n",
              "      <td>0</td>\n",
              "      <td>0</td>\n",
              "    </tr>\n",
              "    <tr>\n",
              "      <th>24014</th>\n",
              "      <td>0.500342</td>\n",
              "      <td>45.0</td>\n",
              "      <td>4</td>\n",
              "      <td>0</td>\n",
              "      <td>0</td>\n",
              "      <td>0</td>\n",
              "      <td>1</td>\n",
              "      <td>0</td>\n",
              "      <td>0</td>\n",
              "      <td>0</td>\n",
              "      <td>0</td>\n",
              "      <td>1</td>\n",
              "      <td>0</td>\n",
              "      <td>148.413159</td>\n",
              "      <td>1</td>\n",
              "      <td>0</td>\n",
              "      <td>0</td>\n",
              "      <td>0</td>\n",
              "    </tr>\n",
              "    <tr>\n",
              "      <th>24015</th>\n",
              "      <td>0.500352</td>\n",
              "      <td>45.0</td>\n",
              "      <td>5</td>\n",
              "      <td>0</td>\n",
              "      <td>0</td>\n",
              "      <td>0</td>\n",
              "      <td>1</td>\n",
              "      <td>0</td>\n",
              "      <td>0</td>\n",
              "      <td>0</td>\n",
              "      <td>0</td>\n",
              "      <td>1</td>\n",
              "      <td>0</td>\n",
              "      <td>148.413159</td>\n",
              "      <td>1</td>\n",
              "      <td>0</td>\n",
              "      <td>0</td>\n",
              "      <td>0</td>\n",
              "    </tr>\n",
              "  </tbody>\n",
              "</table>\n",
              "<p>24016 rows × 18 columns</p>\n",
              "</div>"
            ],
            "text/plain": [
              "          ficox   lti  bcc0300  co_app  ...  ndi_1  ndi_2  ndi_3  ndi_4\n",
              "0      0.500368  45.0       11       0  ...      1      0      0      0\n",
              "1      0.500357  45.0        9       0  ...      1      0      0      0\n",
              "2      0.500368  45.0       10       0  ...      1      0      0      0\n",
              "3      0.500368  45.0       10       0  ...      1      0      0      0\n",
              "4      0.500316  45.0       14       0  ...      1      0      0      0\n",
              "...         ...   ...      ...     ...  ...    ...    ...    ...    ...\n",
              "24011  0.500312  45.0        4       0  ...      1      0      0      0\n",
              "24012  0.500333  45.0       15       0  ...      1      0      0      0\n",
              "24013  0.500316  45.0        5       1  ...      1      0      0      0\n",
              "24014  0.500342  45.0        4       0  ...      1      0      0      0\n",
              "24015  0.500352  45.0        5       0  ...      1      0      0      0\n",
              "\n",
              "[24016 rows x 18 columns]"
            ]
          },
          "metadata": {
            "tags": []
          },
          "execution_count": 76
        }
      ]
    },
    {
      "cell_type": "code",
      "metadata": {
        "id": "2rKxxWB3KLF1",
        "colab_type": "code",
        "colab": {
          "base_uri": "https://localhost:8080/",
          "height": 573
        },
        "outputId": "bfb521f5-cf45-4799-e74f-b5cb0a1c43a0"
      },
      "source": [
        "df"
      ],
      "execution_count": null,
      "outputs": [
        {
          "output_type": "execute_result",
          "data": {
            "text/html": [
              "<div>\n",
              "<style scoped>\n",
              "    .dataframe tbody tr th:only-of-type {\n",
              "        vertical-align: middle;\n",
              "    }\n",
              "\n",
              "    .dataframe tbody tr th {\n",
              "        vertical-align: top;\n",
              "    }\n",
              "\n",
              "    .dataframe thead th {\n",
              "        text-align: right;\n",
              "    }\n",
              "</style>\n",
              "<table border=\"1\" class=\"dataframe\">\n",
              "  <thead>\n",
              "    <tr style=\"text-align: right;\">\n",
              "      <th></th>\n",
              "      <th>loan_id</th>\n",
              "      <th>funded_flag</th>\n",
              "      <th>co_app_verifiable_annual_income</th>\n",
              "      <th>loan_use</th>\n",
              "      <th>employment_status</th>\n",
              "      <th>amount_of_loan_requested</th>\n",
              "      <th>fico</th>\n",
              "      <th>lti</th>\n",
              "      <th>bcc0300</th>\n",
              "      <th>ndi_ratio</th>\n",
              "      <th>utm_source</th>\n",
              "      <th>original_npv_phase</th>\n",
              "      <th>final_loan_amount</th>\n",
              "      <th>co_app</th>\n",
              "      <th>employment</th>\n",
              "      <th>loan_amount</th>\n",
              "      <th>mkt_chan</th>\n",
              "      <th>ficox</th>\n",
              "      <th>ndi</th>\n",
              "      <th>pred</th>\n",
              "      <th>twintile_rank</th>\n",
              "    </tr>\n",
              "  </thead>\n",
              "  <tbody>\n",
              "    <tr>\n",
              "      <th>0</th>\n",
              "      <td>App-07709226</td>\n",
              "      <td>0</td>\n",
              "      <td>NaN</td>\n",
              "      <td>0</td>\n",
              "      <td>Full-time</td>\n",
              "      <td>27500.0</td>\n",
              "      <td>687.0</td>\n",
              "      <td>45.0</td>\n",
              "      <td>11</td>\n",
              "      <td>47.000000</td>\n",
              "      <td>ck</td>\n",
              "      <td>91.94</td>\n",
              "      <td>14999.0</td>\n",
              "      <td>0</td>\n",
              "      <td>2</td>\n",
              "      <td>4</td>\n",
              "      <td>403.428793</td>\n",
              "      <td>0.500368</td>\n",
              "      <td>1</td>\n",
              "      <td>0.037411</td>\n",
              "      <td>3</td>\n",
              "    </tr>\n",
              "    <tr>\n",
              "      <th>1</th>\n",
              "      <td>App-07697351</td>\n",
              "      <td>1</td>\n",
              "      <td>NaN</td>\n",
              "      <td>0</td>\n",
              "      <td>Full-time</td>\n",
              "      <td>9500.0</td>\n",
              "      <td>706.0</td>\n",
              "      <td>45.0</td>\n",
              "      <td>9</td>\n",
              "      <td>24.700000</td>\n",
              "      <td>ck</td>\n",
              "      <td>-27.32</td>\n",
              "      <td>9500.0</td>\n",
              "      <td>0</td>\n",
              "      <td>2</td>\n",
              "      <td>1</td>\n",
              "      <td>403.428793</td>\n",
              "      <td>0.500357</td>\n",
              "      <td>1</td>\n",
              "      <td>0.189823</td>\n",
              "      <td>17</td>\n",
              "    </tr>\n",
              "    <tr>\n",
              "      <th>2</th>\n",
              "      <td>App-07761663</td>\n",
              "      <td>0</td>\n",
              "      <td>NaN</td>\n",
              "      <td>0</td>\n",
              "      <td>Self-employed</td>\n",
              "      <td>22500.0</td>\n",
              "      <td>684.0</td>\n",
              "      <td>45.0</td>\n",
              "      <td>10</td>\n",
              "      <td>60.700000</td>\n",
              "      <td>ck</td>\n",
              "      <td>5.40</td>\n",
              "      <td>17500.0</td>\n",
              "      <td>0</td>\n",
              "      <td>1</td>\n",
              "      <td>4</td>\n",
              "      <td>403.428793</td>\n",
              "      <td>0.500368</td>\n",
              "      <td>1</td>\n",
              "      <td>0.009664</td>\n",
              "      <td>0</td>\n",
              "    </tr>\n",
              "    <tr>\n",
              "      <th>3</th>\n",
              "      <td>App-07778588</td>\n",
              "      <td>0</td>\n",
              "      <td>NaN</td>\n",
              "      <td>0</td>\n",
              "      <td>Full-time</td>\n",
              "      <td>17850.0</td>\n",
              "      <td>689.0</td>\n",
              "      <td>45.0</td>\n",
              "      <td>10</td>\n",
              "      <td>53.300000</td>\n",
              "      <td>FDR</td>\n",
              "      <td>13.79</td>\n",
              "      <td>17850.0</td>\n",
              "      <td>0</td>\n",
              "      <td>2</td>\n",
              "      <td>3</td>\n",
              "      <td>148.413159</td>\n",
              "      <td>0.500368</td>\n",
              "      <td>1</td>\n",
              "      <td>0.093742</td>\n",
              "      <td>11</td>\n",
              "    </tr>\n",
              "    <tr>\n",
              "      <th>4</th>\n",
              "      <td>App-07726194</td>\n",
              "      <td>0</td>\n",
              "      <td>NaN</td>\n",
              "      <td>0</td>\n",
              "      <td>Full-time</td>\n",
              "      <td>38000.0</td>\n",
              "      <td>797.0</td>\n",
              "      <td>45.0</td>\n",
              "      <td>14</td>\n",
              "      <td>40.900000</td>\n",
              "      <td>FDR</td>\n",
              "      <td>23.56</td>\n",
              "      <td>15000.0</td>\n",
              "      <td>0</td>\n",
              "      <td>2</td>\n",
              "      <td>5</td>\n",
              "      <td>148.413159</td>\n",
              "      <td>0.500316</td>\n",
              "      <td>1</td>\n",
              "      <td>0.038791</td>\n",
              "      <td>3</td>\n",
              "    </tr>\n",
              "    <tr>\n",
              "      <th>...</th>\n",
              "      <td>...</td>\n",
              "      <td>...</td>\n",
              "      <td>...</td>\n",
              "      <td>...</td>\n",
              "      <td>...</td>\n",
              "      <td>...</td>\n",
              "      <td>...</td>\n",
              "      <td>...</td>\n",
              "      <td>...</td>\n",
              "      <td>...</td>\n",
              "      <td>...</td>\n",
              "      <td>...</td>\n",
              "      <td>...</td>\n",
              "      <td>...</td>\n",
              "      <td>...</td>\n",
              "      <td>...</td>\n",
              "      <td>...</td>\n",
              "      <td>...</td>\n",
              "      <td>...</td>\n",
              "      <td>...</td>\n",
              "      <td>...</td>\n",
              "    </tr>\n",
              "    <tr>\n",
              "      <th>24011</th>\n",
              "      <td>App-07761668</td>\n",
              "      <td>0</td>\n",
              "      <td>NaN</td>\n",
              "      <td>1</td>\n",
              "      <td>Full-time</td>\n",
              "      <td>45000.0</td>\n",
              "      <td>808.0</td>\n",
              "      <td>45.0</td>\n",
              "      <td>4</td>\n",
              "      <td>27.200000</td>\n",
              "      <td>Lending Tree</td>\n",
              "      <td>39.09</td>\n",
              "      <td>40000.0</td>\n",
              "      <td>0</td>\n",
              "      <td>2</td>\n",
              "      <td>4</td>\n",
              "      <td>148.413159</td>\n",
              "      <td>0.500312</td>\n",
              "      <td>1</td>\n",
              "      <td>0.019779</td>\n",
              "      <td>2</td>\n",
              "    </tr>\n",
              "    <tr>\n",
              "      <th>24012</th>\n",
              "      <td>App-07772833</td>\n",
              "      <td>0</td>\n",
              "      <td>NaN</td>\n",
              "      <td>0</td>\n",
              "      <td>Full-time</td>\n",
              "      <td>45000.0</td>\n",
              "      <td>751.0</td>\n",
              "      <td>45.0</td>\n",
              "      <td>15</td>\n",
              "      <td>46.700000</td>\n",
              "      <td>Lending Tree</td>\n",
              "      <td>100.36</td>\n",
              "      <td>40000.0</td>\n",
              "      <td>0</td>\n",
              "      <td>2</td>\n",
              "      <td>4</td>\n",
              "      <td>148.413159</td>\n",
              "      <td>0.500333</td>\n",
              "      <td>1</td>\n",
              "      <td>0.043251</td>\n",
              "      <td>4</td>\n",
              "    </tr>\n",
              "    <tr>\n",
              "      <th>24013</th>\n",
              "      <td>App-07728478</td>\n",
              "      <td>0</td>\n",
              "      <td>65000.0</td>\n",
              "      <td>0</td>\n",
              "      <td>Full-time</td>\n",
              "      <td>45000.0</td>\n",
              "      <td>798.0</td>\n",
              "      <td>45.0</td>\n",
              "      <td>5</td>\n",
              "      <td>26.700000</td>\n",
              "      <td>Lending Tree</td>\n",
              "      <td>123.79</td>\n",
              "      <td>40000.0</td>\n",
              "      <td>1</td>\n",
              "      <td>2</td>\n",
              "      <td>4</td>\n",
              "      <td>148.413159</td>\n",
              "      <td>0.500316</td>\n",
              "      <td>1</td>\n",
              "      <td>0.161988</td>\n",
              "      <td>17</td>\n",
              "    </tr>\n",
              "    <tr>\n",
              "      <th>24014</th>\n",
              "      <td>App-07795078</td>\n",
              "      <td>0</td>\n",
              "      <td>NaN</td>\n",
              "      <td>0</td>\n",
              "      <td>Full-time</td>\n",
              "      <td>45000.0</td>\n",
              "      <td>731.0</td>\n",
              "      <td>45.0</td>\n",
              "      <td>4</td>\n",
              "      <td>39.080869</td>\n",
              "      <td>Lending Tree</td>\n",
              "      <td>125.79</td>\n",
              "      <td>40000.0</td>\n",
              "      <td>0</td>\n",
              "      <td>2</td>\n",
              "      <td>4</td>\n",
              "      <td>148.413159</td>\n",
              "      <td>0.500342</td>\n",
              "      <td>1</td>\n",
              "      <td>0.063798</td>\n",
              "      <td>9</td>\n",
              "    </tr>\n",
              "    <tr>\n",
              "      <th>24015</th>\n",
              "      <td>App-07731417</td>\n",
              "      <td>0</td>\n",
              "      <td>NaN</td>\n",
              "      <td>0</td>\n",
              "      <td>Full-time</td>\n",
              "      <td>45000.0</td>\n",
              "      <td>717.0</td>\n",
              "      <td>45.0</td>\n",
              "      <td>5</td>\n",
              "      <td>24.900000</td>\n",
              "      <td>Lending Tree</td>\n",
              "      <td>80.12</td>\n",
              "      <td>40000.0</td>\n",
              "      <td>0</td>\n",
              "      <td>2</td>\n",
              "      <td>4</td>\n",
              "      <td>148.413159</td>\n",
              "      <td>0.500352</td>\n",
              "      <td>1</td>\n",
              "      <td>0.061605</td>\n",
              "      <td>9</td>\n",
              "    </tr>\n",
              "  </tbody>\n",
              "</table>\n",
              "<p>24016 rows × 21 columns</p>\n",
              "</div>"
            ],
            "text/plain": [
              "            loan_id  funded_flag  ...      pred  twintile_rank\n",
              "0      App-07709226            0  ...  0.037411              3\n",
              "1      App-07697351            1  ...  0.189823             17\n",
              "2      App-07761663            0  ...  0.009664              0\n",
              "3      App-07778588            0  ...  0.093742             11\n",
              "4      App-07726194            0  ...  0.038791              3\n",
              "...             ...          ...  ...       ...            ...\n",
              "24011  App-07761668            0  ...  0.019779              2\n",
              "24012  App-07772833            0  ...  0.043251              4\n",
              "24013  App-07728478            0  ...  0.161988             17\n",
              "24014  App-07795078            0  ...  0.063798              9\n",
              "24015  App-07731417            0  ...  0.061605              9\n",
              "\n",
              "[24016 rows x 21 columns]"
            ]
          },
          "metadata": {
            "tags": []
          },
          "execution_count": 83
        }
      ]
    },
    {
      "cell_type": "markdown",
      "metadata": {
        "id": "px5lYZoVTUrJ",
        "colab_type": "text"
      },
      "source": [
        "## NPV Values"
      ]
    },
    {
      "cell_type": "code",
      "metadata": {
        "id": "_Nda2yH0VQ-Y",
        "colab_type": "code",
        "colab": {}
      },
      "source": [
        "def npv_calc(x):\n",
        "\n",
        "    loan_amt = x['amount_of_loan_requested']\n",
        "    prob_prediction = x['pred']\n",
        "    utm_source = x['utm_source']\n",
        "    \n",
        "    if pd.notnull(utm_source):\n",
        "        utm_src = utm_source.strip()\n",
        "        utm_src = utm_src.lower()\n",
        "    \n",
        "    npv = 0\n",
        "    cpa = 0\n",
        "    \n",
        "    if pd.notnull(utm_source) and (utm_src in set(unitEconomicsData['utm_source'])):\n",
        "        cpa = unitEconomicsData.loc[unitEconomicsData['utm_source'] == utm_src, 'CPA'].values[0]\n",
        "                \n",
        "    if pd.isnull(loan_amt):\n",
        "        loan_amt = 0\n",
        "    else:\n",
        "        loan_amt = float(loan_amt) \n",
        "        \n",
        "    npv = prob_prediction * ((loan_amt * 0.0681) - (621 + cpa))\n",
        "    \n",
        "    return npv\n",
        "\n",
        "\n",
        "def npv_final_calc(x):\n",
        "\n",
        "    loan_amt = x['final_loan_amount']\n",
        "    prob_prediction = x['pred']\n",
        "    utm_source = x['utm_source']\n",
        "    \n",
        "    if pd.notnull(utm_source):\n",
        "        utm_src = utm_source.strip()\n",
        "        utm_src = utm_src.lower()\n",
        "    \n",
        "    npv = 0\n",
        "    cpa = 0\n",
        "    \n",
        "    if pd.notnull(utm_source) and (utm_src in set(unitEconomicsData['utm_source'])):\n",
        "        cpa = unitEconomicsData.loc[unitEconomicsData['utm_source'] == utm_src, 'CPA'].values[0]\n",
        "                \n",
        "    if pd.isnull(loan_amt):\n",
        "        loan_amt = 0\n",
        "    else:\n",
        "        loan_amt = float(loan_amt) \n",
        "        \n",
        "    npv = prob_prediction * ((loan_amt * 0.0681) - (621 + cpa))\n",
        "    \n",
        "    return npv\n",
        "\n",
        "\n",
        "def npv_actual_calc(x):\n",
        "\n",
        "    loan_amt = x['final_loan_amount']\n",
        "    utm_source = x['utm_source']\n",
        "    fund = x['funded_flag']\n",
        "\n",
        "    \n",
        "    if pd.notnull(utm_source):\n",
        "        utm_src = utm_source.strip()\n",
        "        utm_src = utm_src.lower()\n",
        "    \n",
        "    npv = 0\n",
        "    cpa = 0\n",
        "    \n",
        "    if pd.notnull(utm_source) and (utm_src in set(unitEconomicsData['utm_source'])):\n",
        "        cpa = unitEconomicsData.loc[unitEconomicsData['utm_source'] == utm_src, 'CPA'].values[0]\n",
        "                \n",
        "    if pd.isnull(loan_amt):\n",
        "        loan_amt = 0\n",
        "    else:\n",
        "        loan_amt = float(loan_amt) \n",
        "        \n",
        "    npv = ((loan_amt * 0.0681) - (621 + cpa))\n",
        "\n",
        "    if fund == 0:\n",
        "        npv = 0\n",
        "    \n",
        "    return npv"
      ],
      "execution_count": null,
      "outputs": []
    },
    {
      "cell_type": "code",
      "metadata": {
        "id": "ZsSN1D4xVk_C",
        "colab_type": "code",
        "colab": {}
      },
      "source": [
        "df['NPV'] = df.apply(npv_calc, axis=1)\n",
        "df['NPV_final'] = df.apply(npv_final_calc, axis=1)\n",
        "df['Actual_NPV'] = df.apply(npv_actual_calc, axis=1)\n",
        "df['Delta_NPV'] = df['NPV'] - df['original_npv_phase']"
      ],
      "execution_count": null,
      "outputs": []
    },
    {
      "cell_type": "code",
      "metadata": {
        "id": "sTtWLFPcaSXO",
        "colab_type": "code",
        "colab": {
          "base_uri": "https://localhost:8080/",
          "height": 292
        },
        "outputId": "f8f63c38-03c3-4f0b-866d-f9e0d9519dd5"
      },
      "source": [
        "df.head()"
      ],
      "execution_count": null,
      "outputs": [
        {
          "output_type": "execute_result",
          "data": {
            "text/html": [
              "<div>\n",
              "<style scoped>\n",
              "    .dataframe tbody tr th:only-of-type {\n",
              "        vertical-align: middle;\n",
              "    }\n",
              "\n",
              "    .dataframe tbody tr th {\n",
              "        vertical-align: top;\n",
              "    }\n",
              "\n",
              "    .dataframe thead th {\n",
              "        text-align: right;\n",
              "    }\n",
              "</style>\n",
              "<table border=\"1\" class=\"dataframe\">\n",
              "  <thead>\n",
              "    <tr style=\"text-align: right;\">\n",
              "      <th></th>\n",
              "      <th>loan_id</th>\n",
              "      <th>funded_flag</th>\n",
              "      <th>co_app_verifiable_annual_income</th>\n",
              "      <th>loan_use</th>\n",
              "      <th>employment_status</th>\n",
              "      <th>amount_of_loan_requested</th>\n",
              "      <th>fico</th>\n",
              "      <th>lti</th>\n",
              "      <th>bcc0300</th>\n",
              "      <th>ndi_ratio</th>\n",
              "      <th>utm_source</th>\n",
              "      <th>original_npv_phase</th>\n",
              "      <th>final_loan_amount</th>\n",
              "      <th>co_app</th>\n",
              "      <th>employment</th>\n",
              "      <th>loan_amount</th>\n",
              "      <th>mkt_chan</th>\n",
              "      <th>ficox</th>\n",
              "      <th>ndi</th>\n",
              "      <th>pred</th>\n",
              "      <th>lead_scoring_twentile</th>\n",
              "      <th>NPV</th>\n",
              "      <th>NPV_final</th>\n",
              "      <th>Actual_NPV</th>\n",
              "      <th>Delta_NPV</th>\n",
              "    </tr>\n",
              "  </thead>\n",
              "  <tbody>\n",
              "    <tr>\n",
              "      <th>0</th>\n",
              "      <td>App-07702283</td>\n",
              "      <td>0</td>\n",
              "      <td>48000.0</td>\n",
              "      <td>0</td>\n",
              "      <td>Retired</td>\n",
              "      <td>24351.84</td>\n",
              "      <td>704.0</td>\n",
              "      <td>45.0</td>\n",
              "      <td>1</td>\n",
              "      <td>51.800000</td>\n",
              "      <td>CS Phone</td>\n",
              "      <td>215.20000</td>\n",
              "      <td>7500.00</td>\n",
              "      <td>1</td>\n",
              "      <td>3</td>\n",
              "      <td>4</td>\n",
              "      <td>148.413159</td>\n",
              "      <td>0.500357</td>\n",
              "      <td>1</td>\n",
              "      <td>0.298968</td>\n",
              "      <td>19</td>\n",
              "      <td>310.137792</td>\n",
              "      <td>-32.961249</td>\n",
              "      <td>0.000000</td>\n",
              "      <td>94.937792</td>\n",
              "    </tr>\n",
              "    <tr>\n",
              "      <th>1</th>\n",
              "      <td>App-07786402</td>\n",
              "      <td>0</td>\n",
              "      <td>17000.0</td>\n",
              "      <td>0</td>\n",
              "      <td>Full-time</td>\n",
              "      <td>19999.00</td>\n",
              "      <td>751.0</td>\n",
              "      <td>45.0</td>\n",
              "      <td>6</td>\n",
              "      <td>53.000000</td>\n",
              "      <td>CS Phone</td>\n",
              "      <td>114.23000</td>\n",
              "      <td>11999.00</td>\n",
              "      <td>1</td>\n",
              "      <td>2</td>\n",
              "      <td>3</td>\n",
              "      <td>148.413159</td>\n",
              "      <td>0.500333</td>\n",
              "      <td>1</td>\n",
              "      <td>0.261223</td>\n",
              "      <td>18</td>\n",
              "      <td>193.548752</td>\n",
              "      <td>51.234242</td>\n",
              "      <td>0.000000</td>\n",
              "      <td>79.318752</td>\n",
              "    </tr>\n",
              "    <tr>\n",
              "      <th>2</th>\n",
              "      <td>App-07777006</td>\n",
              "      <td>1</td>\n",
              "      <td>NaN</td>\n",
              "      <td>0</td>\n",
              "      <td>Full-time</td>\n",
              "      <td>15400.00</td>\n",
              "      <td>744.0</td>\n",
              "      <td>45.0</td>\n",
              "      <td>3</td>\n",
              "      <td>35.900000</td>\n",
              "      <td>aff_firstchoice</td>\n",
              "      <td>16.07000</td>\n",
              "      <td>16510.34</td>\n",
              "      <td>0</td>\n",
              "      <td>2</td>\n",
              "      <td>3</td>\n",
              "      <td>148.413159</td>\n",
              "      <td>0.500338</td>\n",
              "      <td>1</td>\n",
              "      <td>0.118408</td>\n",
              "      <td>14</td>\n",
              "      <td>50.647626</td>\n",
              "      <td>59.600910</td>\n",
              "      <td>503.354154</td>\n",
              "      <td>34.577626</td>\n",
              "    </tr>\n",
              "    <tr>\n",
              "      <th>3</th>\n",
              "      <td>App-07735283</td>\n",
              "      <td>1</td>\n",
              "      <td>36000.0</td>\n",
              "      <td>0</td>\n",
              "      <td>Full-time</td>\n",
              "      <td>15176.09</td>\n",
              "      <td>640.0</td>\n",
              "      <td>45.0</td>\n",
              "      <td>8</td>\n",
              "      <td>34.400000</td>\n",
              "      <td>CS Phone</td>\n",
              "      <td>115.07000</td>\n",
              "      <td>15200.38</td>\n",
              "      <td>1</td>\n",
              "      <td>2</td>\n",
              "      <td>3</td>\n",
              "      <td>148.413159</td>\n",
              "      <td>0.500391</td>\n",
              "      <td>1</td>\n",
              "      <td>0.247080</td>\n",
              "      <td>18</td>\n",
              "      <td>101.918630</td>\n",
              "      <td>102.327338</td>\n",
              "      <td>414.145878</td>\n",
              "      <td>-13.151370</td>\n",
              "    </tr>\n",
              "    <tr>\n",
              "      <th>4</th>\n",
              "      <td>App-07794753</td>\n",
              "      <td>1</td>\n",
              "      <td>NaN</td>\n",
              "      <td>0</td>\n",
              "      <td>Full-time</td>\n",
              "      <td>12778.65</td>\n",
              "      <td>700.0</td>\n",
              "      <td>45.0</td>\n",
              "      <td>6</td>\n",
              "      <td>38.399467</td>\n",
              "      <td>CS Phone</td>\n",
              "      <td>27.86328</td>\n",
              "      <td>12705.01</td>\n",
              "      <td>0</td>\n",
              "      <td>2</td>\n",
              "      <td>3</td>\n",
              "      <td>148.413159</td>\n",
              "      <td>0.500357</td>\n",
              "      <td>1</td>\n",
              "      <td>0.107213</td>\n",
              "      <td>12</td>\n",
              "      <td>26.720239</td>\n",
              "      <td>26.182579</td>\n",
              "      <td>244.211181</td>\n",
              "      <td>-1.143041</td>\n",
              "    </tr>\n",
              "  </tbody>\n",
              "</table>\n",
              "</div>"
            ],
            "text/plain": [
              "        loan_id  funded_flag  ...  Actual_NPV  Delta_NPV\n",
              "0  App-07702283            0  ...    0.000000  94.937792\n",
              "1  App-07786402            0  ...    0.000000  79.318752\n",
              "2  App-07777006            1  ...  503.354154  34.577626\n",
              "3  App-07735283            1  ...  414.145878 -13.151370\n",
              "4  App-07794753            1  ...  244.211181  -1.143041\n",
              "\n",
              "[5 rows x 25 columns]"
            ]
          },
          "metadata": {
            "tags": []
          },
          "execution_count": 45
        }
      ]
    },
    {
      "cell_type": "code",
      "metadata": {
        "id": "P2M5SRQMbScJ",
        "colab_type": "code",
        "colab": {
          "base_uri": "https://localhost:8080/",
          "height": 537
        },
        "outputId": "b2a87f3a-5dfd-46f6-8f4a-5595f1a4b170"
      },
      "source": [
        "df.info()"
      ],
      "execution_count": null,
      "outputs": [
        {
          "output_type": "stream",
          "text": [
            "<class 'pandas.core.frame.DataFrame'>\n",
            "RangeIndex: 24016 entries, 0 to 24015\n",
            "Data columns (total 25 columns):\n",
            " #   Column                           Non-Null Count  Dtype  \n",
            "---  ------                           --------------  -----  \n",
            " 0   loan_id                          24016 non-null  object \n",
            " 1   funded_flag                      24016 non-null  int64  \n",
            " 2   co_app_verifiable_annual_income  6874 non-null   float64\n",
            " 3   loan_use                         24016 non-null  int64  \n",
            " 4   employment_status                24015 non-null  object \n",
            " 5   amount_of_loan_requested         24016 non-null  float64\n",
            " 6   fico                             23924 non-null  float64\n",
            " 7   lti                              24016 non-null  float64\n",
            " 8   bcc0300                          24016 non-null  int64  \n",
            " 9   ndi_ratio                        23917 non-null  float64\n",
            " 10  utm_source                       24016 non-null  object \n",
            " 11  original_npv_phase               24015 non-null  float64\n",
            " 12  final_loan_amount                24016 non-null  float64\n",
            " 13  co_app                           24016 non-null  int64  \n",
            " 14  employment                       24016 non-null  int64  \n",
            " 15  loan_amount                      24016 non-null  int64  \n",
            " 16  mkt_chan                         24016 non-null  float64\n",
            " 17  ficox                            24016 non-null  float64\n",
            " 18  ndi                              24016 non-null  int64  \n",
            " 19  pred                             24016 non-null  float64\n",
            " 20  twintile_rank                    24016 non-null  int64  \n",
            " 21  NPV                              24016 non-null  float64\n",
            " 22  Actual_NPV                       24016 non-null  float64\n",
            " 23  NPV_final                        24016 non-null  float64\n",
            " 24  npv_twintile_rank                24016 non-null  int64  \n",
            "dtypes: float64(13), int64(9), object(3)\n",
            "memory usage: 4.6+ MB\n"
          ],
          "name": "stdout"
        }
      ]
    },
    {
      "cell_type": "code",
      "metadata": {
        "id": "i9OWlxKbbShQ",
        "colab_type": "code",
        "colab": {}
      },
      "source": [
        "df.to_csv(\"Updated_NPV_Validation.csv\", index=False)"
      ],
      "execution_count": null,
      "outputs": []
    },
    {
      "cell_type": "code",
      "metadata": {
        "id": "b_bDxyQEbSki",
        "colab_type": "code",
        "colab": {}
      },
      "source": [
        ""
      ],
      "execution_count": null,
      "outputs": []
    },
    {
      "cell_type": "code",
      "metadata": {
        "id": "b5JYJ0OPbSvx",
        "colab_type": "code",
        "colab": {}
      },
      "source": [
        ""
      ],
      "execution_count": null,
      "outputs": []
    },
    {
      "cell_type": "code",
      "metadata": {
        "id": "BDULcjbgbSfV",
        "colab_type": "code",
        "colab": {
          "base_uri": "https://localhost:8080/",
          "height": 158
        },
        "outputId": "4170abf8-4101-497b-c2da-7552d9fef989"
      },
      "source": [
        "df"
      ],
      "execution_count": null,
      "outputs": [
        {
          "output_type": "error",
          "ename": "NameError",
          "evalue": "ignored",
          "traceback": [
            "\u001b[0;31m---------------------------------------------------------------------------\u001b[0m",
            "\u001b[0;31mNameError\u001b[0m                                 Traceback (most recent call last)",
            "\u001b[0;32m<ipython-input-1-00cf07b74dcd>\u001b[0m in \u001b[0;36m<module>\u001b[0;34m()\u001b[0m\n\u001b[0;32m----> 1\u001b[0;31m \u001b[0mdf\u001b[0m\u001b[0;34m\u001b[0m\u001b[0;34m\u001b[0m\u001b[0m\n\u001b[0m",
            "\u001b[0;31mNameError\u001b[0m: name 'df' is not defined"
          ]
        }
      ]
    },
    {
      "cell_type": "markdown",
      "metadata": {
        "colab_type": "text",
        "id": "AiggAbNEbc6E"
      },
      "source": [
        "## NPV Twin"
      ]
    },
    {
      "cell_type": "code",
      "metadata": {
        "colab_type": "code",
        "id": "_FA_EwuGbc6I",
        "colab": {}
      },
      "source": [
        "# add deciles to the predictions\n",
        "df['npv_twentile']=pd.qcut(df['NPV'], 20, labels=False)"
      ],
      "execution_count": null,
      "outputs": []
    },
    {
      "cell_type": "code",
      "metadata": {
        "colab_type": "code",
        "id": "zLrciFEabc6K",
        "colab": {}
      },
      "source": [
        "npv_twentile = df.groupby(\n",
        "    'npv_twentile'\n",
        ").agg(\n",
        "    {\n",
        "        # Get the min, max, and mean of the predictions\n",
        "\t\t# min and max will help you see the boundaries of each decile\n",
        "        'NPV': [min, max, \"count\", \"mean\"],\n",
        "        'original_npv_phase': [\"mean\"],\n",
        "         # Get the mean of the actuals\n",
        "        'Actual_NPV': [\"mean\"],\n",
        "    }\n",
        ")"
      ],
      "execution_count": null,
      "outputs": []
    },
    {
      "cell_type": "code",
      "metadata": {
        "colab_type": "code",
        "id": "Q0lIb6sNbc6M",
        "colab": {
          "base_uri": "https://localhost:8080/",
          "height": 680
        },
        "outputId": "b8c39c90-1f4d-4878-a1e9-52ac3f4be574"
      },
      "source": [
        "npv_twentile"
      ],
      "execution_count": null,
      "outputs": [
        {
          "output_type": "execute_result",
          "data": {
            "text/html": [
              "<div>\n",
              "<style scoped>\n",
              "    .dataframe tbody tr th:only-of-type {\n",
              "        vertical-align: middle;\n",
              "    }\n",
              "\n",
              "    .dataframe tbody tr th {\n",
              "        vertical-align: top;\n",
              "    }\n",
              "\n",
              "    .dataframe thead tr th {\n",
              "        text-align: left;\n",
              "    }\n",
              "\n",
              "    .dataframe thead tr:last-of-type th {\n",
              "        text-align: right;\n",
              "    }\n",
              "</style>\n",
              "<table border=\"1\" class=\"dataframe\">\n",
              "  <thead>\n",
              "    <tr>\n",
              "      <th></th>\n",
              "      <th colspan=\"4\" halign=\"left\">NPV</th>\n",
              "      <th>original_npv_phase</th>\n",
              "      <th>Actual_NPV</th>\n",
              "    </tr>\n",
              "    <tr>\n",
              "      <th></th>\n",
              "      <th>min</th>\n",
              "      <th>max</th>\n",
              "      <th>count</th>\n",
              "      <th>mean</th>\n",
              "      <th>mean</th>\n",
              "      <th>mean</th>\n",
              "    </tr>\n",
              "    <tr>\n",
              "      <th>npv_twentile</th>\n",
              "      <th></th>\n",
              "      <th></th>\n",
              "      <th></th>\n",
              "      <th></th>\n",
              "      <th></th>\n",
              "      <th></th>\n",
              "    </tr>\n",
              "  </thead>\n",
              "  <tbody>\n",
              "    <tr>\n",
              "      <th>0</th>\n",
              "      <td>-244.150247</td>\n",
              "      <td>2.662242</td>\n",
              "      <td>1202</td>\n",
              "      <td>-23.754943</td>\n",
              "      <td>-26.078169</td>\n",
              "      <td>2.397299</td>\n",
              "    </tr>\n",
              "    <tr>\n",
              "      <th>1</th>\n",
              "      <td>2.668925</td>\n",
              "      <td>8.211232</td>\n",
              "      <td>1201</td>\n",
              "      <td>5.881164</td>\n",
              "      <td>10.539010</td>\n",
              "      <td>11.337612</td>\n",
              "    </tr>\n",
              "    <tr>\n",
              "      <th>2</th>\n",
              "      <td>8.218879</td>\n",
              "      <td>12.756662</td>\n",
              "      <td>1201</td>\n",
              "      <td>10.202239</td>\n",
              "      <td>15.971179</td>\n",
              "      <td>14.240965</td>\n",
              "    </tr>\n",
              "    <tr>\n",
              "      <th>3</th>\n",
              "      <td>12.756669</td>\n",
              "      <td>17.538383</td>\n",
              "      <td>1202</td>\n",
              "      <td>15.098415</td>\n",
              "      <td>24.409507</td>\n",
              "      <td>20.482934</td>\n",
              "    </tr>\n",
              "    <tr>\n",
              "      <th>4</th>\n",
              "      <td>17.538395</td>\n",
              "      <td>23.105719</td>\n",
              "      <td>1200</td>\n",
              "      <td>20.236416</td>\n",
              "      <td>30.518046</td>\n",
              "      <td>23.019533</td>\n",
              "    </tr>\n",
              "    <tr>\n",
              "      <th>5</th>\n",
              "      <td>23.105725</td>\n",
              "      <td>30.313923</td>\n",
              "      <td>1201</td>\n",
              "      <td>26.845703</td>\n",
              "      <td>31.385135</td>\n",
              "      <td>39.961917</td>\n",
              "    </tr>\n",
              "    <tr>\n",
              "      <th>6</th>\n",
              "      <td>30.350412</td>\n",
              "      <td>37.268605</td>\n",
              "      <td>1201</td>\n",
              "      <td>34.033049</td>\n",
              "      <td>42.252747</td>\n",
              "      <td>42.075194</td>\n",
              "    </tr>\n",
              "    <tr>\n",
              "      <th>7</th>\n",
              "      <td>37.268630</td>\n",
              "      <td>42.080559</td>\n",
              "      <td>1201</td>\n",
              "      <td>39.827908</td>\n",
              "      <td>46.721212</td>\n",
              "      <td>41.136171</td>\n",
              "    </tr>\n",
              "    <tr>\n",
              "      <th>8</th>\n",
              "      <td>42.082088</td>\n",
              "      <td>45.884384</td>\n",
              "      <td>1202</td>\n",
              "      <td>44.154479</td>\n",
              "      <td>49.857984</td>\n",
              "      <td>42.632900</td>\n",
              "    </tr>\n",
              "    <tr>\n",
              "      <th>9</th>\n",
              "      <td>45.884394</td>\n",
              "      <td>50.404104</td>\n",
              "      <td>1201</td>\n",
              "      <td>48.157809</td>\n",
              "      <td>50.773021</td>\n",
              "      <td>39.240994</td>\n",
              "    </tr>\n",
              "    <tr>\n",
              "      <th>10</th>\n",
              "      <td>50.404114</td>\n",
              "      <td>56.229534</td>\n",
              "      <td>1202</td>\n",
              "      <td>53.191414</td>\n",
              "      <td>55.138607</td>\n",
              "      <td>53.997132</td>\n",
              "    </tr>\n",
              "    <tr>\n",
              "      <th>11</th>\n",
              "      <td>56.229560</td>\n",
              "      <td>63.549269</td>\n",
              "      <td>1203</td>\n",
              "      <td>59.908483</td>\n",
              "      <td>61.186018</td>\n",
              "      <td>53.401844</td>\n",
              "    </tr>\n",
              "    <tr>\n",
              "      <th>12</th>\n",
              "      <td>63.549295</td>\n",
              "      <td>70.907786</td>\n",
              "      <td>1200</td>\n",
              "      <td>67.123188</td>\n",
              "      <td>61.047369</td>\n",
              "      <td>45.527066</td>\n",
              "    </tr>\n",
              "    <tr>\n",
              "      <th>13</th>\n",
              "      <td>70.907800</td>\n",
              "      <td>81.665426</td>\n",
              "      <td>1199</td>\n",
              "      <td>76.034634</td>\n",
              "      <td>72.252704</td>\n",
              "      <td>74.654401</td>\n",
              "    </tr>\n",
              "    <tr>\n",
              "      <th>14</th>\n",
              "      <td>81.665442</td>\n",
              "      <td>97.268614</td>\n",
              "      <td>1201</td>\n",
              "      <td>89.095924</td>\n",
              "      <td>88.885089</td>\n",
              "      <td>82.451266</td>\n",
              "    </tr>\n",
              "    <tr>\n",
              "      <th>15</th>\n",
              "      <td>97.268634</td>\n",
              "      <td>118.948867</td>\n",
              "      <td>1201</td>\n",
              "      <td>107.619549</td>\n",
              "      <td>96.607412</td>\n",
              "      <td>107.313205</td>\n",
              "    </tr>\n",
              "    <tr>\n",
              "      <th>16</th>\n",
              "      <td>118.960169</td>\n",
              "      <td>140.786009</td>\n",
              "      <td>1201</td>\n",
              "      <td>129.492430</td>\n",
              "      <td>111.499844</td>\n",
              "      <td>94.796152</td>\n",
              "    </tr>\n",
              "    <tr>\n",
              "      <th>17</th>\n",
              "      <td>140.853139</td>\n",
              "      <td>175.189891</td>\n",
              "      <td>1205</td>\n",
              "      <td>157.828387</td>\n",
              "      <td>124.618952</td>\n",
              "      <td>107.582015</td>\n",
              "    </tr>\n",
              "    <tr>\n",
              "      <th>18</th>\n",
              "      <td>175.189924</td>\n",
              "      <td>251.240639</td>\n",
              "      <td>1197</td>\n",
              "      <td>205.941341</td>\n",
              "      <td>174.242813</td>\n",
              "      <td>163.898092</td>\n",
              "    </tr>\n",
              "    <tr>\n",
              "      <th>19</th>\n",
              "      <td>251.240750</td>\n",
              "      <td>3518.396241</td>\n",
              "      <td>1202</td>\n",
              "      <td>362.895233</td>\n",
              "      <td>204.433840</td>\n",
              "      <td>210.970351</td>\n",
              "    </tr>\n",
              "  </tbody>\n",
              "</table>\n",
              "</div>"
            ],
            "text/plain": [
              "                     NPV               ... original_npv_phase  Actual_NPV\n",
              "                     min          max  ...               mean        mean\n",
              "npv_twentile                           ...                               \n",
              "0            -244.150247     2.662242  ...         -26.078169    2.397299\n",
              "1               2.668925     8.211232  ...          10.539010   11.337612\n",
              "2               8.218879    12.756662  ...          15.971179   14.240965\n",
              "3              12.756669    17.538383  ...          24.409507   20.482934\n",
              "4              17.538395    23.105719  ...          30.518046   23.019533\n",
              "5              23.105725    30.313923  ...          31.385135   39.961917\n",
              "6              30.350412    37.268605  ...          42.252747   42.075194\n",
              "7              37.268630    42.080559  ...          46.721212   41.136171\n",
              "8              42.082088    45.884384  ...          49.857984   42.632900\n",
              "9              45.884394    50.404104  ...          50.773021   39.240994\n",
              "10             50.404114    56.229534  ...          55.138607   53.997132\n",
              "11             56.229560    63.549269  ...          61.186018   53.401844\n",
              "12             63.549295    70.907786  ...          61.047369   45.527066\n",
              "13             70.907800    81.665426  ...          72.252704   74.654401\n",
              "14             81.665442    97.268614  ...          88.885089   82.451266\n",
              "15             97.268634   118.948867  ...          96.607412  107.313205\n",
              "16            118.960169   140.786009  ...         111.499844   94.796152\n",
              "17            140.853139   175.189891  ...         124.618952  107.582015\n",
              "18            175.189924   251.240639  ...         174.242813  163.898092\n",
              "19            251.240750  3518.396241  ...         204.433840  210.970351\n",
              "\n",
              "[20 rows x 6 columns]"
            ]
          },
          "metadata": {
            "tags": []
          },
          "execution_count": 49
        }
      ]
    },
    {
      "cell_type": "code",
      "metadata": {
        "colab_type": "code",
        "id": "uHfep8EPbc6O",
        "colab": {}
      },
      "source": [
        "npv_twentile.to_csv(\"Updated_NPV_Twintiles.csv\", index=False)"
      ],
      "execution_count": null,
      "outputs": []
    },
    {
      "cell_type": "code",
      "metadata": {
        "colab_type": "code",
        "id": "4vRrC6INbc6R",
        "colab": {
          "base_uri": "https://localhost:8080/",
          "height": 512
        },
        "outputId": "35d65974-49ba-4c34-fd16-db99855dc4a4"
      },
      "source": [
        "# Plot training & validation accuracy values\n",
        "plt.figure(figsize=(12,8))\n",
        "plt.plot(npv_twentile.NPV['mean'])\n",
        "plt.plot(npv_twentile.Actual_NPV['mean'])\n",
        "plt.plot(npv_twentile.original_npv_phase['mean'])\n",
        "plt.title('Twentile Plot')\n",
        "plt.ylabel('NPV')\n",
        "plt.xlabel('Twentile')\n",
        "plt.legend(['Predicted NPV', 'Actual NPV', 'Old NPV Score'], loc='upper left')\n",
        "plt.show()"
      ],
      "execution_count": null,
      "outputs": [
        {
          "output_type": "display_data",
          "data": {
            "image/png": "[encoded data removed]",
            "text/plain": [
              "<Figure size 864x576 with 1 Axes>"
            ]
          },
          "metadata": {
            "tags": []
          }
        }
      ]
    },
    {
      "cell_type": "code",
      "metadata": {
        "colab_type": "code",
        "id": "jq7VTFfqbc6T",
        "colab": {
          "base_uri": "https://localhost:8080/",
          "height": 411
        },
        "outputId": "cfb4be60-fa28-49d5-bed2-06636d69d1b7"
      },
      "source": [
        "val"
      ],
      "execution_count": null,
      "outputs": [
        {
          "output_type": "execute_result",
          "data": {
            "text/html": [
              "<div>\n",
              "<style scoped>\n",
              "    .dataframe tbody tr th:only-of-type {\n",
              "        vertical-align: middle;\n",
              "    }\n",
              "\n",
              "    .dataframe tbody tr th {\n",
              "        vertical-align: top;\n",
              "    }\n",
              "\n",
              "    .dataframe thead th {\n",
              "        text-align: right;\n",
              "    }\n",
              "</style>\n",
              "<table border=\"1\" class=\"dataframe\">\n",
              "  <thead>\n",
              "    <tr style=\"text-align: right;\">\n",
              "      <th></th>\n",
              "      <th>ficox</th>\n",
              "      <th>lti</th>\n",
              "      <th>bcc0300</th>\n",
              "      <th>co_app</th>\n",
              "      <th>loan_use</th>\n",
              "      <th>employment_1</th>\n",
              "      <th>employment_2</th>\n",
              "      <th>employment_3</th>\n",
              "      <th>loan_amount_1</th>\n",
              "      <th>loan_amount_2</th>\n",
              "      <th>loan_amount_3</th>\n",
              "      <th>loan_amount_4</th>\n",
              "      <th>loan_amount_5</th>\n",
              "      <th>mkt_chan</th>\n",
              "      <th>ndi_1</th>\n",
              "      <th>ndi_2</th>\n",
              "      <th>ndi_3</th>\n",
              "      <th>ndi_4</th>\n",
              "    </tr>\n",
              "  </thead>\n",
              "  <tbody>\n",
              "    <tr>\n",
              "      <th>0</th>\n",
              "      <td>0.500368</td>\n",
              "      <td>45.0</td>\n",
              "      <td>11</td>\n",
              "      <td>0</td>\n",
              "      <td>0</td>\n",
              "      <td>0</td>\n",
              "      <td>1</td>\n",
              "      <td>0</td>\n",
              "      <td>0</td>\n",
              "      <td>0</td>\n",
              "      <td>0</td>\n",
              "      <td>1</td>\n",
              "      <td>0</td>\n",
              "      <td>403.428793</td>\n",
              "      <td>1</td>\n",
              "      <td>0</td>\n",
              "      <td>0</td>\n",
              "      <td>0</td>\n",
              "    </tr>\n",
              "    <tr>\n",
              "      <th>1</th>\n",
              "      <td>0.500357</td>\n",
              "      <td>45.0</td>\n",
              "      <td>9</td>\n",
              "      <td>0</td>\n",
              "      <td>0</td>\n",
              "      <td>0</td>\n",
              "      <td>1</td>\n",
              "      <td>0</td>\n",
              "      <td>1</td>\n",
              "      <td>0</td>\n",
              "      <td>0</td>\n",
              "      <td>0</td>\n",
              "      <td>0</td>\n",
              "      <td>403.428793</td>\n",
              "      <td>1</td>\n",
              "      <td>0</td>\n",
              "      <td>0</td>\n",
              "      <td>0</td>\n",
              "    </tr>\n",
              "    <tr>\n",
              "      <th>2</th>\n",
              "      <td>0.500368</td>\n",
              "      <td>45.0</td>\n",
              "      <td>10</td>\n",
              "      <td>0</td>\n",
              "      <td>0</td>\n",
              "      <td>1</td>\n",
              "      <td>0</td>\n",
              "      <td>0</td>\n",
              "      <td>0</td>\n",
              "      <td>0</td>\n",
              "      <td>0</td>\n",
              "      <td>1</td>\n",
              "      <td>0</td>\n",
              "      <td>403.428793</td>\n",
              "      <td>1</td>\n",
              "      <td>0</td>\n",
              "      <td>0</td>\n",
              "      <td>0</td>\n",
              "    </tr>\n",
              "    <tr>\n",
              "      <th>3</th>\n",
              "      <td>0.500368</td>\n",
              "      <td>45.0</td>\n",
              "      <td>10</td>\n",
              "      <td>0</td>\n",
              "      <td>0</td>\n",
              "      <td>0</td>\n",
              "      <td>1</td>\n",
              "      <td>0</td>\n",
              "      <td>0</td>\n",
              "      <td>0</td>\n",
              "      <td>1</td>\n",
              "      <td>0</td>\n",
              "      <td>0</td>\n",
              "      <td>148.413159</td>\n",
              "      <td>1</td>\n",
              "      <td>0</td>\n",
              "      <td>0</td>\n",
              "      <td>0</td>\n",
              "    </tr>\n",
              "    <tr>\n",
              "      <th>4</th>\n",
              "      <td>0.500316</td>\n",
              "      <td>45.0</td>\n",
              "      <td>14</td>\n",
              "      <td>0</td>\n",
              "      <td>0</td>\n",
              "      <td>0</td>\n",
              "      <td>1</td>\n",
              "      <td>0</td>\n",
              "      <td>0</td>\n",
              "      <td>0</td>\n",
              "      <td>0</td>\n",
              "      <td>0</td>\n",
              "      <td>1</td>\n",
              "      <td>148.413159</td>\n",
              "      <td>1</td>\n",
              "      <td>0</td>\n",
              "      <td>0</td>\n",
              "      <td>0</td>\n",
              "    </tr>\n",
              "    <tr>\n",
              "      <th>...</th>\n",
              "      <td>...</td>\n",
              "      <td>...</td>\n",
              "      <td>...</td>\n",
              "      <td>...</td>\n",
              "      <td>...</td>\n",
              "      <td>...</td>\n",
              "      <td>...</td>\n",
              "      <td>...</td>\n",
              "      <td>...</td>\n",
              "      <td>...</td>\n",
              "      <td>...</td>\n",
              "      <td>...</td>\n",
              "      <td>...</td>\n",
              "      <td>...</td>\n",
              "      <td>...</td>\n",
              "      <td>...</td>\n",
              "      <td>...</td>\n",
              "      <td>...</td>\n",
              "    </tr>\n",
              "    <tr>\n",
              "      <th>24011</th>\n",
              "      <td>0.500312</td>\n",
              "      <td>45.0</td>\n",
              "      <td>4</td>\n",
              "      <td>0</td>\n",
              "      <td>1</td>\n",
              "      <td>0</td>\n",
              "      <td>1</td>\n",
              "      <td>0</td>\n",
              "      <td>0</td>\n",
              "      <td>0</td>\n",
              "      <td>0</td>\n",
              "      <td>1</td>\n",
              "      <td>0</td>\n",
              "      <td>148.413159</td>\n",
              "      <td>1</td>\n",
              "      <td>0</td>\n",
              "      <td>0</td>\n",
              "      <td>0</td>\n",
              "    </tr>\n",
              "    <tr>\n",
              "      <th>24012</th>\n",
              "      <td>0.500333</td>\n",
              "      <td>45.0</td>\n",
              "      <td>15</td>\n",
              "      <td>0</td>\n",
              "      <td>0</td>\n",
              "      <td>0</td>\n",
              "      <td>1</td>\n",
              "      <td>0</td>\n",
              "      <td>0</td>\n",
              "      <td>0</td>\n",
              "      <td>0</td>\n",
              "      <td>1</td>\n",
              "      <td>0</td>\n",
              "      <td>148.413159</td>\n",
              "      <td>1</td>\n",
              "      <td>0</td>\n",
              "      <td>0</td>\n",
              "      <td>0</td>\n",
              "    </tr>\n",
              "    <tr>\n",
              "      <th>24013</th>\n",
              "      <td>0.500316</td>\n",
              "      <td>45.0</td>\n",
              "      <td>5</td>\n",
              "      <td>1</td>\n",
              "      <td>0</td>\n",
              "      <td>0</td>\n",
              "      <td>1</td>\n",
              "      <td>0</td>\n",
              "      <td>0</td>\n",
              "      <td>0</td>\n",
              "      <td>0</td>\n",
              "      <td>1</td>\n",
              "      <td>0</td>\n",
              "      <td>148.413159</td>\n",
              "      <td>1</td>\n",
              "      <td>0</td>\n",
              "      <td>0</td>\n",
              "      <td>0</td>\n",
              "    </tr>\n",
              "    <tr>\n",
              "      <th>24014</th>\n",
              "      <td>0.500342</td>\n",
              "      <td>45.0</td>\n",
              "      <td>4</td>\n",
              "      <td>0</td>\n",
              "      <td>0</td>\n",
              "      <td>0</td>\n",
              "      <td>1</td>\n",
              "      <td>0</td>\n",
              "      <td>0</td>\n",
              "      <td>0</td>\n",
              "      <td>0</td>\n",
              "      <td>1</td>\n",
              "      <td>0</td>\n",
              "      <td>148.413159</td>\n",
              "      <td>1</td>\n",
              "      <td>0</td>\n",
              "      <td>0</td>\n",
              "      <td>0</td>\n",
              "    </tr>\n",
              "    <tr>\n",
              "      <th>24015</th>\n",
              "      <td>0.500352</td>\n",
              "      <td>45.0</td>\n",
              "      <td>5</td>\n",
              "      <td>0</td>\n",
              "      <td>0</td>\n",
              "      <td>0</td>\n",
              "      <td>1</td>\n",
              "      <td>0</td>\n",
              "      <td>0</td>\n",
              "      <td>0</td>\n",
              "      <td>0</td>\n",
              "      <td>1</td>\n",
              "      <td>0</td>\n",
              "      <td>148.413159</td>\n",
              "      <td>1</td>\n",
              "      <td>0</td>\n",
              "      <td>0</td>\n",
              "      <td>0</td>\n",
              "    </tr>\n",
              "  </tbody>\n",
              "</table>\n",
              "<p>24016 rows × 18 columns</p>\n",
              "</div>"
            ],
            "text/plain": [
              "          ficox   lti  bcc0300  co_app  ...  ndi_1  ndi_2  ndi_3  ndi_4\n",
              "0      0.500368  45.0       11       0  ...      1      0      0      0\n",
              "1      0.500357  45.0        9       0  ...      1      0      0      0\n",
              "2      0.500368  45.0       10       0  ...      1      0      0      0\n",
              "3      0.500368  45.0       10       0  ...      1      0      0      0\n",
              "4      0.500316  45.0       14       0  ...      1      0      0      0\n",
              "...         ...   ...      ...     ...  ...    ...    ...    ...    ...\n",
              "24011  0.500312  45.0        4       0  ...      1      0      0      0\n",
              "24012  0.500333  45.0       15       0  ...      1      0      0      0\n",
              "24013  0.500316  45.0        5       1  ...      1      0      0      0\n",
              "24014  0.500342  45.0        4       0  ...      1      0      0      0\n",
              "24015  0.500352  45.0        5       0  ...      1      0      0      0\n",
              "\n",
              "[24016 rows x 18 columns]"
            ]
          },
          "metadata": {
            "tags": []
          },
          "execution_count": 76
        }
      ]
    },
    {
      "cell_type": "code",
      "metadata": {
        "colab_type": "code",
        "id": "d-os6p9pbc6V",
        "colab": {
          "base_uri": "https://localhost:8080/",
          "height": 573
        },
        "outputId": "bfb521f5-cf45-4799-e74f-b5cb0a1c43a0"
      },
      "source": [
        "df"
      ],
      "execution_count": null,
      "outputs": [
        {
          "output_type": "execute_result",
          "data": {
            "text/html": [
              "<div>\n",
              "<style scoped>\n",
              "    .dataframe tbody tr th:only-of-type {\n",
              "        vertical-align: middle;\n",
              "    }\n",
              "\n",
              "    .dataframe tbody tr th {\n",
              "        vertical-align: top;\n",
              "    }\n",
              "\n",
              "    .dataframe thead th {\n",
              "        text-align: right;\n",
              "    }\n",
              "</style>\n",
              "<table border=\"1\" class=\"dataframe\">\n",
              "  <thead>\n",
              "    <tr style=\"text-align: right;\">\n",
              "      <th></th>\n",
              "      <th>loan_id</th>\n",
              "      <th>funded_flag</th>\n",
              "      <th>co_app_verifiable_annual_income</th>\n",
              "      <th>loan_use</th>\n",
              "      <th>employment_status</th>\n",
              "      <th>amount_of_loan_requested</th>\n",
              "      <th>fico</th>\n",
              "      <th>lti</th>\n",
              "      <th>bcc0300</th>\n",
              "      <th>ndi_ratio</th>\n",
              "      <th>utm_source</th>\n",
              "      <th>original_npv_phase</th>\n",
              "      <th>final_loan_amount</th>\n",
              "      <th>co_app</th>\n",
              "      <th>employment</th>\n",
              "      <th>loan_amount</th>\n",
              "      <th>mkt_chan</th>\n",
              "      <th>ficox</th>\n",
              "      <th>ndi</th>\n",
              "      <th>pred</th>\n",
              "      <th>twintile_rank</th>\n",
              "    </tr>\n",
              "  </thead>\n",
              "  <tbody>\n",
              "    <tr>\n",
              "      <th>0</th>\n",
              "      <td>App-07709226</td>\n",
              "      <td>0</td>\n",
              "      <td>NaN</td>\n",
              "      <td>0</td>\n",
              "      <td>Full-time</td>\n",
              "      <td>27500.0</td>\n",
              "      <td>687.0</td>\n",
              "      <td>45.0</td>\n",
              "      <td>11</td>\n",
              "      <td>47.000000</td>\n",
              "      <td>ck</td>\n",
              "      <td>91.94</td>\n",
              "      <td>14999.0</td>\n",
              "      <td>0</td>\n",
              "      <td>2</td>\n",
              "      <td>4</td>\n",
              "      <td>403.428793</td>\n",
              "      <td>0.500368</td>\n",
              "      <td>1</td>\n",
              "      <td>0.037411</td>\n",
              "      <td>3</td>\n",
              "    </tr>\n",
              "    <tr>\n",
              "      <th>1</th>\n",
              "      <td>App-07697351</td>\n",
              "      <td>1</td>\n",
              "      <td>NaN</td>\n",
              "      <td>0</td>\n",
              "      <td>Full-time</td>\n",
              "      <td>9500.0</td>\n",
              "      <td>706.0</td>\n",
              "      <td>45.0</td>\n",
              "      <td>9</td>\n",
              "      <td>24.700000</td>\n",
              "      <td>ck</td>\n",
              "      <td>-27.32</td>\n",
              "      <td>9500.0</td>\n",
              "      <td>0</td>\n",
              "      <td>2</td>\n",
              "      <td>1</td>\n",
              "      <td>403.428793</td>\n",
              "      <td>0.500357</td>\n",
              "      <td>1</td>\n",
              "      <td>0.189823</td>\n",
              "      <td>17</td>\n",
              "    </tr>\n",
              "    <tr>\n",
              "      <th>2</th>\n",
              "      <td>App-07761663</td>\n",
              "      <td>0</td>\n",
              "      <td>NaN</td>\n",
              "      <td>0</td>\n",
              "      <td>Self-employed</td>\n",
              "      <td>22500.0</td>\n",
              "      <td>684.0</td>\n",
              "      <td>45.0</td>\n",
              "      <td>10</td>\n",
              "      <td>60.700000</td>\n",
              "      <td>ck</td>\n",
              "      <td>5.40</td>\n",
              "      <td>17500.0</td>\n",
              "      <td>0</td>\n",
              "      <td>1</td>\n",
              "      <td>4</td>\n",
              "      <td>403.428793</td>\n",
              "      <td>0.500368</td>\n",
              "      <td>1</td>\n",
              "      <td>0.009664</td>\n",
              "      <td>0</td>\n",
              "    </tr>\n",
              "    <tr>\n",
              "      <th>3</th>\n",
              "      <td>App-07778588</td>\n",
              "      <td>0</td>\n",
              "      <td>NaN</td>\n",
              "      <td>0</td>\n",
              "      <td>Full-time</td>\n",
              "      <td>17850.0</td>\n",
              "      <td>689.0</td>\n",
              "      <td>45.0</td>\n",
              "      <td>10</td>\n",
              "      <td>53.300000</td>\n",
              "      <td>FDR</td>\n",
              "      <td>13.79</td>\n",
              "      <td>17850.0</td>\n",
              "      <td>0</td>\n",
              "      <td>2</td>\n",
              "      <td>3</td>\n",
              "      <td>148.413159</td>\n",
              "      <td>0.500368</td>\n",
              "      <td>1</td>\n",
              "      <td>0.093742</td>\n",
              "      <td>11</td>\n",
              "    </tr>\n",
              "    <tr>\n",
              "      <th>4</th>\n",
              "      <td>App-07726194</td>\n",
              "      <td>0</td>\n",
              "      <td>NaN</td>\n",
              "      <td>0</td>\n",
              "      <td>Full-time</td>\n",
              "      <td>38000.0</td>\n",
              "      <td>797.0</td>\n",
              "      <td>45.0</td>\n",
              "      <td>14</td>\n",
              "      <td>40.900000</td>\n",
              "      <td>FDR</td>\n",
              "      <td>23.56</td>\n",
              "      <td>15000.0</td>\n",
              "      <td>0</td>\n",
              "      <td>2</td>\n",
              "      <td>5</td>\n",
              "      <td>148.413159</td>\n",
              "      <td>0.500316</td>\n",
              "      <td>1</td>\n",
              "      <td>0.038791</td>\n",
              "      <td>3</td>\n",
              "    </tr>\n",
              "    <tr>\n",
              "      <th>...</th>\n",
              "      <td>...</td>\n",
              "      <td>...</td>\n",
              "      <td>...</td>\n",
              "      <td>...</td>\n",
              "      <td>...</td>\n",
              "      <td>...</td>\n",
              "      <td>...</td>\n",
              "      <td>...</td>\n",
              "      <td>...</td>\n",
              "      <td>...</td>\n",
              "      <td>...</td>\n",
              "      <td>...</td>\n",
              "      <td>...</td>\n",
              "      <td>...</td>\n",
              "      <td>...</td>\n",
              "      <td>...</td>\n",
              "      <td>...</td>\n",
              "      <td>...</td>\n",
              "      <td>...</td>\n",
              "      <td>...</td>\n",
              "      <td>...</td>\n",
              "    </tr>\n",
              "    <tr>\n",
              "      <th>24011</th>\n",
              "      <td>App-07761668</td>\n",
              "      <td>0</td>\n",
              "      <td>NaN</td>\n",
              "      <td>1</td>\n",
              "      <td>Full-time</td>\n",
              "      <td>45000.0</td>\n",
              "      <td>808.0</td>\n",
              "      <td>45.0</td>\n",
              "      <td>4</td>\n",
              "      <td>27.200000</td>\n",
              "      <td>Lending Tree</td>\n",
              "      <td>39.09</td>\n",
              "      <td>40000.0</td>\n",
              "      <td>0</td>\n",
              "      <td>2</td>\n",
              "      <td>4</td>\n",
              "      <td>148.413159</td>\n",
              "      <td>0.500312</td>\n",
              "      <td>1</td>\n",
              "      <td>0.019779</td>\n",
              "      <td>2</td>\n",
              "    </tr>\n",
              "    <tr>\n",
              "      <th>24012</th>\n",
              "      <td>App-07772833</td>\n",
              "      <td>0</td>\n",
              "      <td>NaN</td>\n",
              "      <td>0</td>\n",
              "      <td>Full-time</td>\n",
              "      <td>45000.0</td>\n",
              "      <td>751.0</td>\n",
              "      <td>45.0</td>\n",
              "      <td>15</td>\n",
              "      <td>46.700000</td>\n",
              "      <td>Lending Tree</td>\n",
              "      <td>100.36</td>\n",
              "      <td>40000.0</td>\n",
              "      <td>0</td>\n",
              "      <td>2</td>\n",
              "      <td>4</td>\n",
              "      <td>148.413159</td>\n",
              "      <td>0.500333</td>\n",
              "      <td>1</td>\n",
              "      <td>0.043251</td>\n",
              "      <td>4</td>\n",
              "    </tr>\n",
              "    <tr>\n",
              "      <th>24013</th>\n",
              "      <td>App-07728478</td>\n",
              "      <td>0</td>\n",
              "      <td>65000.0</td>\n",
              "      <td>0</td>\n",
              "      <td>Full-time</td>\n",
              "      <td>45000.0</td>\n",
              "      <td>798.0</td>\n",
              "      <td>45.0</td>\n",
              "      <td>5</td>\n",
              "      <td>26.700000</td>\n",
              "      <td>Lending Tree</td>\n",
              "      <td>123.79</td>\n",
              "      <td>40000.0</td>\n",
              "      <td>1</td>\n",
              "      <td>2</td>\n",
              "      <td>4</td>\n",
              "      <td>148.413159</td>\n",
              "      <td>0.500316</td>\n",
              "      <td>1</td>\n",
              "      <td>0.161988</td>\n",
              "      <td>17</td>\n",
              "    </tr>\n",
              "    <tr>\n",
              "      <th>24014</th>\n",
              "      <td>App-07795078</td>\n",
              "      <td>0</td>\n",
              "      <td>NaN</td>\n",
              "      <td>0</td>\n",
              "      <td>Full-time</td>\n",
              "      <td>45000.0</td>\n",
              "      <td>731.0</td>\n",
              "      <td>45.0</td>\n",
              "      <td>4</td>\n",
              "      <td>39.080869</td>\n",
              "      <td>Lending Tree</td>\n",
              "      <td>125.79</td>\n",
              "      <td>40000.0</td>\n",
              "      <td>0</td>\n",
              "      <td>2</td>\n",
              "      <td>4</td>\n",
              "      <td>148.413159</td>\n",
              "      <td>0.500342</td>\n",
              "      <td>1</td>\n",
              "      <td>0.063798</td>\n",
              "      <td>9</td>\n",
              "    </tr>\n",
              "    <tr>\n",
              "      <th>24015</th>\n",
              "      <td>App-07731417</td>\n",
              "      <td>0</td>\n",
              "      <td>NaN</td>\n",
              "      <td>0</td>\n",
              "      <td>Full-time</td>\n",
              "      <td>45000.0</td>\n",
              "      <td>717.0</td>\n",
              "      <td>45.0</td>\n",
              "      <td>5</td>\n",
              "      <td>24.900000</td>\n",
              "      <td>Lending Tree</td>\n",
              "      <td>80.12</td>\n",
              "      <td>40000.0</td>\n",
              "      <td>0</td>\n",
              "      <td>2</td>\n",
              "      <td>4</td>\n",
              "      <td>148.413159</td>\n",
              "      <td>0.500352</td>\n",
              "      <td>1</td>\n",
              "      <td>0.061605</td>\n",
              "      <td>9</td>\n",
              "    </tr>\n",
              "  </tbody>\n",
              "</table>\n",
              "<p>24016 rows × 21 columns</p>\n",
              "</div>"
            ],
            "text/plain": [
              "            loan_id  funded_flag  ...      pred  twintile_rank\n",
              "0      App-07709226            0  ...  0.037411              3\n",
              "1      App-07697351            1  ...  0.189823             17\n",
              "2      App-07761663            0  ...  0.009664              0\n",
              "3      App-07778588            0  ...  0.093742             11\n",
              "4      App-07726194            0  ...  0.038791              3\n",
              "...             ...          ...  ...       ...            ...\n",
              "24011  App-07761668            0  ...  0.019779              2\n",
              "24012  App-07772833            0  ...  0.043251              4\n",
              "24013  App-07728478            0  ...  0.161988             17\n",
              "24014  App-07795078            0  ...  0.063798              9\n",
              "24015  App-07731417            0  ...  0.061605              9\n",
              "\n",
              "[24016 rows x 21 columns]"
            ]
          },
          "metadata": {
            "tags": []
          },
          "execution_count": 83
        }
      ]
    }
  ]
}