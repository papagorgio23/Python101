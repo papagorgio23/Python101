{
  "nbformat": 4,
  "nbformat_minor": 0,
  "metadata": {
    "colab": {
      "name": "DFS Football Lineup Optimizer.ipynb",
      "version": "0.3.2",
      "provenance": [],
      "collapsed_sections": [],
      "toc_visible": true,
      "include_colab_link": true
    },
    "kernelspec": {
      "name": "python3",
      "display_name": "Python 3"
    }
  },
  "cells": [
    {
      "cell_type": "markdown",
      "metadata": {
        "id": "view-in-github",
        "colab_type": "text"
      },
      "source": [
        "<a href=\"https://colab.research.google.com/github/papagorgio23/Python101/blob/master/DFS_Football_Lineup_Optimizer.ipynb\" target=\"_parent\"><img src=\"https://colab.research.google.com/assets/colab-badge.svg\" alt=\"Open In Colab\"/></a>"
      ]
    },
    {
      "cell_type": "markdown",
      "metadata": {
        "id": "8bXERzLv5brx",
        "colab_type": "text"
      },
      "source": [
        "![A.I. Sports](https://raw.githubusercontent.com/papagorgio23/Python101/master/Logo.png)\n",
        "\n",
        "www.AISportsFirm.com"
      ]
    },
    {
      "cell_type": "markdown",
      "metadata": {
        "id": "dpDcEB5UYWlr",
        "colab_type": "text"
      },
      "source": [
        "# Daily Fantasy Football Lineup Optimizer"
      ]
    },
    {
      "cell_type": "markdown",
      "metadata": {
        "id": "y_ruxcA2Mk6H",
        "colab_type": "text"
      },
      "source": [
        "![Draft Kings](https://raw.githubusercontent.com/papagorgio23/Python101/master/DraftKings.png)"
      ]
    },
    {
      "cell_type": "markdown",
      "metadata": {
        "id": "Cqv4sq9EaC7b",
        "colab_type": "text"
      },
      "source": [
        "We are going to tap into the Draft Kings API to access player prices and average player scores. \n",
        "\n",
        "We are then going to use this information to create optimal lineups. \n",
        "\n",
        "*   Optimial lineup = Combination of players that will score the most points\n"
      ]
    },
    {
      "cell_type": "markdown",
      "metadata": {
        "id": "1b6GCPlkNpqk",
        "colab_type": "text"
      },
      "source": [
        "## Linear Programming (The Math)"
      ]
    },
    {
      "cell_type": "markdown",
      "metadata": {
        "id": "EVX8TdwTNraV",
        "colab_type": "text"
      },
      "source": [
        "The basic framework of linear/integer programming is as follows:\n",
        "\n",
        "\n",
        "*   There are **Decision Variables**\n",
        "    *  These will be the variables that we can select (i.e. which player to have in our lineup)\n",
        "*   There is an **Objective Function** to either Maximize or Minimize\n",
        "    * Our goal will be to Maximize our point total\n",
        "*   There are **Constraints** we must abide by\n",
        "    * Salary, Number of Players, Players at specific positions, non-negativity\n",
        "\n",
        "\n"
      ]
    },
    {
      "cell_type": "markdown",
      "metadata": {
        "id": "YUm5zPyRz3_Z",
        "colab_type": "text"
      },
      "source": [
        "## Definitions:\n",
        "\n",
        "<br>\n",
        "\n",
        "**Index Sets:**\n",
        "\n",
        "Let ***I*** be the set of positions, indexed by *i*\n",
        "\n",
        "Let ***J*** be the set of players, indexed by *j*\n",
        "\n",
        "<br>\n",
        "\n",
        "**Variables:**\n",
        "\n",
        "Let ***P*** be the projected points\n",
        "\n",
        "Let ***C*** be the cost of the player\n",
        "\n",
        "<br>\n",
        "\n",
        "**Other Variables:**\n",
        "\n",
        "Let ***n*** be the total number of positions\n",
        "\n",
        "Let ***m*** be the total number of players\n",
        "\n",
        "\n",
        "***\n",
        "\n",
        "<br>\n",
        "\n",
        "$x_{ij} = Player$\n",
        "\n",
        "<br>\n",
        "\n",
        "$P_{ij} = Points\\ Player\\ Scores$\n",
        "\n",
        "<br>\n",
        "\n",
        "$C_{ij} = Cost\\ of\\ Player$\n",
        "\n",
        "<br>\n",
        "\n",
        "***\n",
        "\n",
        "<br>\n",
        "\n",
        "\n",
        "#### implicit Form:\n",
        "\n",
        "\n",
        "$$maximize\\ \\ \\ \\ \\ \\ z = \\sum_{i=1}^n\\sum_{j=1}^m P_{ij} * x_{ij} $$\n",
        "\n",
        "<br>\n",
        "\n",
        "$$\\ \\ \\ \\ \\ \\ \\ \\ \\ \\ \\ \\ \\ \\ \\ \\ \\ \\ \\ \\ subject\\ to\\ \\ \\ \\ \\ \\sum_{i=1}^n\\sum_{j=1}^m C_{ij} * x_{ij} \\leq Max\\ Salary$$\n",
        "\n",
        "\n",
        "$$\\ \\ \\ \\ \\ \\ \\ \\ \\ \\ \\ \\ \\ \\ \\ \\ \\ \\ \\ \\ \\ \\ \\ \\ \\ \\ \\ \\ \\ \\ \\ \\sum_{j=1}^m x_{ij} =1, \\ \\ for\\ \\ i = QB$$\n",
        "\n",
        "\n",
        "$$\\ \\ \\ \\ \\ \\ \\ \\ \\ \\ \\ \\ \\ \\ \\ \\ \\ \\ \\ \\ \\ \\ \\ \\ \\ \\ \\ \\ \\ \\ \\ \\ \\sum_{j=1}^m x_{ij}  =2, \\ \\ for\\ \\ i = RB$$\n",
        "\n",
        "$$\\ \\ \\ \\ \\ \\ \\ \\ \\ \\ \\ \\ \\ \\ \\ \\ \\ \\ \\ \\ \\ \\ \\ \\ \\ \\ \\ \\ \\ \\ \\ \\ \\ \\ \\sum_{j=1}^m x_{ij} =3, \\ \\ for\\ \\ i = WR$$\n",
        "\n",
        "$$\\ \\ \\ \\ \\ \\ \\ \\ \\ \\ \\ \\ \\ \\ \\ \\ \\ \\ \\ \\ \\ \\ \\ \\ \\ \\ \\ \\ \\ \\ \\ \\ \\sum_{j=1}^m x_{ij} =1, \\ \\ for\\ \\ i = TE$$\n",
        "\n",
        "$$\\ \\ \\ \\ \\ \\ \\ \\ \\ \\ \\ \\ \\ \\ \\ \\ \\ \\ \\ \\ \\ \\ \\ \\ \\ \\ \\ \\ \\ \\ \\ \\ \\ \\ \\ \\ \\ \\ \\sum_{j=1}^m x_{ij} =1, \\ \\ for\\ \\ i = FLEX$$\n",
        "\n",
        "$$\\ \\ \\ \\ \\ \\ \\ \\ \\ \\ \\ \\ \\ \\ \\ \\ \\ \\ \\ \\ \\ \\ \\ \\ \\ \\ \\ \\ \\ \\ \\ \\ \\ \\ \\ \\sum_{j=1}^m x_{ij} =1, \\ \\ for\\ \\ i = DST$$\n",
        "\n",
        "$$\\ \\ \\ \\ \\ \\ \\ \\ \\ \\ \\ \\ \\ \\sum_{i=1}^n\\sum_{j=1}^m x_{ij} = 9$$\n",
        "\n",
        "$$\\ \\ \\ \\ \\ \\ \\ \\ \\ \\ \\ \\ \\ \\ \\ \\ x_{ij} \\geq 0,\\ \\forall \\ i,\\ j$$\n",
        "\n",
        "<br>\n",
        "\n",
        "***"
      ]
    },
    {
      "cell_type": "markdown",
      "metadata": {
        "id": "tBo36uyXgeJm",
        "colab_type": "text"
      },
      "source": [
        "## Daily Fantasy Football Rules\n",
        "\n",
        "$50,000 to spend on your lineup "
      ]
    },
    {
      "cell_type": "markdown",
      "metadata": {
        "id": "nzWQ0ckce6nq",
        "colab_type": "text"
      },
      "source": [
        "https://www.draftkings.com/help/rules/nfl"
      ]
    },
    {
      "cell_type": "markdown",
      "metadata": {
        "id": "SebT_XN4gVek",
        "colab_type": "text"
      },
      "source": [
        "![Offense](https://raw.githubusercontent.com/papagorgio23/Python101/master/DFS%20Offense%20Scoring.png)"
      ]
    },
    {
      "cell_type": "markdown",
      "metadata": {
        "id": "f47BOtlegE_1",
        "colab_type": "text"
      },
      "source": [
        "![Defense](https://raw.githubusercontent.com/papagorgio23/Python101/master/DFS%20Defense%20Scoring.png)"
      ]
    },
    {
      "cell_type": "markdown",
      "metadata": {
        "id": "VBNAb8XbO61J",
        "colab_type": "text"
      },
      "source": [
        "# Python Code"
      ]
    },
    {
      "cell_type": "markdown",
      "metadata": {
        "id": "Qy--QJ36gD-R",
        "colab_type": "text"
      },
      "source": [
        "### Load Libraries"
      ]
    },
    {
      "cell_type": "code",
      "metadata": {
        "id": "wpK8HNlyYTbg",
        "colab_type": "code",
        "outputId": "71938d80-9a9c-4d27-946f-924e4d84f248",
        "colab": {
          "base_uri": "https://localhost:8080/",
          "height": 51
        }
      },
      "source": [
        "!pip install pulp\n",
        "\n",
        "import urllib, json\n",
        "import pandas as pd\n",
        "import re\n",
        "\n",
        "from pulp import *"
      ],
      "execution_count": 0,
      "outputs": [
        {
          "output_type": "stream",
          "text": [
            "Requirement already satisfied: pulp in /usr/local/lib/python3.6/dist-packages (1.6.10)\n",
            "Requirement already satisfied: pyparsing>=2.0.1 in /usr/local/lib/python3.6/dist-packages (from pulp) (2.4.2)\n"
          ],
          "name": "stdout"
        }
      ]
    },
    {
      "cell_type": "markdown",
      "metadata": {
        "id": "33xzJsxoYxGU",
        "colab_type": "text"
      },
      "source": [
        "## Get Data"
      ]
    },
    {
      "cell_type": "markdown",
      "metadata": {
        "id": "s3dmp07igIcf",
        "colab_type": "text"
      },
      "source": [
        "### DraftKings API\n",
        "\n",
        "DraftKings API is undocumented... (don't report it to ICE)... \n",
        "\n",
        "If we enter the correct weekID, it will return a list of player prices and scores. \n",
        "\n",
        "We will need to make a few manipulations to get it into a form that we can use for our model."
      ]
    },
    {
      "cell_type": "markdown",
      "metadata": {
        "id": "on1znsQa87an",
        "colab_type": "text"
      },
      "source": [
        "### API URL\n",
        "\n",
        "https://api.draftkings.com/draftgroups/v1/draftgroups/21727/draftables?format=json"
      ]
    },
    {
      "cell_type": "code",
      "metadata": {
        "id": "u96G-cx68UtO",
        "colab_type": "code",
        "colab": {}
      },
      "source": [
        "# Week ID\n",
        "weekID = \"21727\""
      ],
      "execution_count": 0,
      "outputs": []
    },
    {
      "cell_type": "code",
      "metadata": {
        "id": "nQ8wZtVVZ8TK",
        "colab_type": "code",
        "outputId": "752eb593-827b-4d83-fc40-aa248b889aff",
        "colab": {
          "base_uri": "https://localhost:8080/",
          "height": 34
        }
      },
      "source": [
        "# input the week ID into the rest of the url\n",
        "URL = \"https://api.draftkings.com/draftgroups/v1/draftgroups/\" + weekID + \"/draftables?format=json\"\n",
        "URL"
      ],
      "execution_count": 0,
      "outputs": [
        {
          "output_type": "execute_result",
          "data": {
            "text/plain": [
              "'https://api.draftkings.com/draftgroups/v1/draftgroups/21727/draftables?format=json'"
            ]
          },
          "metadata": {
            "tags": []
          },
          "execution_count": 5
        }
      ]
    },
    {
      "cell_type": "markdown",
      "metadata": {
        "id": "is6wlT7R89TM",
        "colab_type": "text"
      },
      "source": [
        "### Get Data"
      ]
    },
    {
      "cell_type": "code",
      "metadata": {
        "id": "KYP9Sgv0aMw2",
        "colab_type": "code",
        "colab": {}
      },
      "source": [
        "# connect to API - (name it response) use urlopen\n",
        "response = urllib.request.urlopen(URL)\n",
        "\n",
        "# extract data\n",
        "data = json.loads(response.read())\n"
      ],
      "execution_count": 0,
      "outputs": []
    },
    {
      "cell_type": "code",
      "metadata": {
        "id": "ubaqdYZdU9rY",
        "colab_type": "code",
        "outputId": "7a2eb25d-275d-4483-9544-e48be65f8903",
        "colab": {
          "base_uri": "https://localhost:8080/",
          "height": 479
        }
      },
      "source": [
        "# put it into a dataframe - Careful since it comes from a dictionary named draftables\n",
        "current = pd.DataFrame.from_dict(data['draftables'])\n",
        "\n",
        "current.head()"
      ],
      "execution_count": 0,
      "outputs": [
        {
          "output_type": "execute_result",
          "data": {
            "text/html": [
              "<div>\n",
              "<style scoped>\n",
              "    .dataframe tbody tr th:only-of-type {\n",
              "        vertical-align: middle;\n",
              "    }\n",
              "\n",
              "    .dataframe tbody tr th {\n",
              "        vertical-align: top;\n",
              "    }\n",
              "\n",
              "    .dataframe thead th {\n",
              "        text-align: right;\n",
              "    }\n",
              "</style>\n",
              "<table border=\"1\" class=\"dataframe\">\n",
              "  <thead>\n",
              "    <tr style=\"text-align: right;\">\n",
              "      <th></th>\n",
              "      <th>competition</th>\n",
              "      <th>displayName</th>\n",
              "      <th>draftAlerts</th>\n",
              "      <th>draftStatAttributes</th>\n",
              "      <th>draftableId</th>\n",
              "      <th>firstName</th>\n",
              "      <th>isDisabled</th>\n",
              "      <th>isSwappable</th>\n",
              "      <th>lastName</th>\n",
              "      <th>newsStatus</th>\n",
              "      <th>playerAttributes</th>\n",
              "      <th>playerGameAttributes</th>\n",
              "      <th>playerGameHash</th>\n",
              "      <th>playerId</th>\n",
              "      <th>playerImage160</th>\n",
              "      <th>playerImage50</th>\n",
              "      <th>playerImage65</th>\n",
              "      <th>playerImageFull</th>\n",
              "      <th>position</th>\n",
              "      <th>rosterSlotId</th>\n",
              "      <th>salary</th>\n",
              "      <th>shortName</th>\n",
              "      <th>status</th>\n",
              "      <th>teamAbbreviation</th>\n",
              "      <th>teamId</th>\n",
              "    </tr>\n",
              "  </thead>\n",
              "  <tbody>\n",
              "    <tr>\n",
              "      <th>0</th>\n",
              "      <td>{'competitionId': 5523569, 'name': 'NO @ NYG',...</td>\n",
              "      <td>Alvin Kamara</td>\n",
              "      <td>[]</td>\n",
              "      <td>[{'id': 90, 'value': '36.3', 'sortValue': '36....</td>\n",
              "      <td>11349545</td>\n",
              "      <td>Alvin</td>\n",
              "      <td>False</td>\n",
              "      <td>False</td>\n",
              "      <td>Kamara</td>\n",
              "      <td>Recent</td>\n",
              "      <td>[]</td>\n",
              "      <td>[]</td>\n",
              "      <td>750846-5523569</td>\n",
              "      <td>750846</td>\n",
              "      <td>https://d327rxwuxd0q0c.cloudfront.net/m/nfl_re...</td>\n",
              "      <td>https://d327rxwuxd0q0c.cloudfront.net/m/nfl_50...</td>\n",
              "      <td>https://d327rxwuxd0q0c.cloudfront.net/m/nfl_65...</td>\n",
              "      <td>https://d327rxwuxd0q0c.cloudfront.net/nfl/play...</td>\n",
              "      <td>RB</td>\n",
              "      <td>67</td>\n",
              "      <td>9600</td>\n",
              "      <td>A. Kamara</td>\n",
              "      <td>None</td>\n",
              "      <td>NO</td>\n",
              "      <td>350</td>\n",
              "    </tr>\n",
              "    <tr>\n",
              "      <th>1</th>\n",
              "      <td>{'competitionId': 5523569, 'name': 'NO @ NYG',...</td>\n",
              "      <td>Alvin Kamara</td>\n",
              "      <td>[]</td>\n",
              "      <td>[{'id': 90, 'value': '36.3', 'sortValue': '36....</td>\n",
              "      <td>11349546</td>\n",
              "      <td>Alvin</td>\n",
              "      <td>False</td>\n",
              "      <td>False</td>\n",
              "      <td>Kamara</td>\n",
              "      <td>Recent</td>\n",
              "      <td>[]</td>\n",
              "      <td>[]</td>\n",
              "      <td>750846-5523569</td>\n",
              "      <td>750846</td>\n",
              "      <td>https://d327rxwuxd0q0c.cloudfront.net/m/nfl_re...</td>\n",
              "      <td>https://d327rxwuxd0q0c.cloudfront.net/m/nfl_50...</td>\n",
              "      <td>https://d327rxwuxd0q0c.cloudfront.net/m/nfl_65...</td>\n",
              "      <td>https://d327rxwuxd0q0c.cloudfront.net/nfl/play...</td>\n",
              "      <td>RB</td>\n",
              "      <td>70</td>\n",
              "      <td>9600</td>\n",
              "      <td>A. Kamara</td>\n",
              "      <td>None</td>\n",
              "      <td>NO</td>\n",
              "      <td>350</td>\n",
              "    </tr>\n",
              "    <tr>\n",
              "      <th>2</th>\n",
              "      <td>{'competitionId': 5523569, 'name': 'NO @ NYG',...</td>\n",
              "      <td>Michael Thomas</td>\n",
              "      <td>[]</td>\n",
              "      <td>[{'id': 90, 'value': '27.1', 'sortValue': '27....</td>\n",
              "      <td>11349345</td>\n",
              "      <td>Michael</td>\n",
              "      <td>False</td>\n",
              "      <td>False</td>\n",
              "      <td>Thomas</td>\n",
              "      <td>Recent</td>\n",
              "      <td>[]</td>\n",
              "      <td>[]</td>\n",
              "      <td>653699-5523569</td>\n",
              "      <td>653699</td>\n",
              "      <td>https://d327rxwuxd0q0c.cloudfront.net/m/nfl_re...</td>\n",
              "      <td>https://d327rxwuxd0q0c.cloudfront.net/m/nfl_50...</td>\n",
              "      <td>https://d327rxwuxd0q0c.cloudfront.net/m/nfl_65...</td>\n",
              "      <td>https://d327rxwuxd0q0c.cloudfront.net/nfl/play...</td>\n",
              "      <td>WR</td>\n",
              "      <td>68</td>\n",
              "      <td>9100</td>\n",
              "      <td>M. Thomas</td>\n",
              "      <td>None</td>\n",
              "      <td>NO</td>\n",
              "      <td>350</td>\n",
              "    </tr>\n",
              "    <tr>\n",
              "      <th>3</th>\n",
              "      <td>{'competitionId': 5523569, 'name': 'NO @ NYG',...</td>\n",
              "      <td>Michael Thomas</td>\n",
              "      <td>[]</td>\n",
              "      <td>[{'id': 90, 'value': '27.1', 'sortValue': '27....</td>\n",
              "      <td>11349346</td>\n",
              "      <td>Michael</td>\n",
              "      <td>False</td>\n",
              "      <td>False</td>\n",
              "      <td>Thomas</td>\n",
              "      <td>Recent</td>\n",
              "      <td>[]</td>\n",
              "      <td>[]</td>\n",
              "      <td>653699-5523569</td>\n",
              "      <td>653699</td>\n",
              "      <td>https://d327rxwuxd0q0c.cloudfront.net/m/nfl_re...</td>\n",
              "      <td>https://d327rxwuxd0q0c.cloudfront.net/m/nfl_50...</td>\n",
              "      <td>https://d327rxwuxd0q0c.cloudfront.net/m/nfl_65...</td>\n",
              "      <td>https://d327rxwuxd0q0c.cloudfront.net/nfl/play...</td>\n",
              "      <td>WR</td>\n",
              "      <td>70</td>\n",
              "      <td>9100</td>\n",
              "      <td>M. Thomas</td>\n",
              "      <td>None</td>\n",
              "      <td>NO</td>\n",
              "      <td>350</td>\n",
              "    </tr>\n",
              "    <tr>\n",
              "      <th>4</th>\n",
              "      <td>{'competitionId': 5523581, 'name': 'BAL @ PIT'...</td>\n",
              "      <td>Antonio Brown</td>\n",
              "      <td>[]</td>\n",
              "      <td>[{'id': 90, 'value': '18.6', 'sortValue': '18....</td>\n",
              "      <td>11348973</td>\n",
              "      <td>Antonio</td>\n",
              "      <td>False</td>\n",
              "      <td>False</td>\n",
              "      <td>Brown</td>\n",
              "      <td>Recent</td>\n",
              "      <td>[]</td>\n",
              "      <td>[]</td>\n",
              "      <td>406214-5523581</td>\n",
              "      <td>406214</td>\n",
              "      <td>https://d327rxwuxd0q0c.cloudfront.net/m/nfl_re...</td>\n",
              "      <td>https://d327rxwuxd0q0c.cloudfront.net/m/nfl_50...</td>\n",
              "      <td>https://d327rxwuxd0q0c.cloudfront.net/m/nfl_65...</td>\n",
              "      <td>https://d327rxwuxd0q0c.cloudfront.net/nfl/play...</td>\n",
              "      <td>WR</td>\n",
              "      <td>68</td>\n",
              "      <td>8800</td>\n",
              "      <td>A. Brown</td>\n",
              "      <td>None</td>\n",
              "      <td>PIT</td>\n",
              "      <td>356</td>\n",
              "    </tr>\n",
              "  </tbody>\n",
              "</table>\n",
              "</div>"
            ],
            "text/plain": [
              "                                         competition  ... teamId\n",
              "0  {'competitionId': 5523569, 'name': 'NO @ NYG',...  ...    350\n",
              "1  {'competitionId': 5523569, 'name': 'NO @ NYG',...  ...    350\n",
              "2  {'competitionId': 5523569, 'name': 'NO @ NYG',...  ...    350\n",
              "3  {'competitionId': 5523569, 'name': 'NO @ NYG',...  ...    350\n",
              "4  {'competitionId': 5523581, 'name': 'BAL @ PIT'...  ...    356\n",
              "\n",
              "[5 rows x 25 columns]"
            ]
          },
          "metadata": {
            "tags": []
          },
          "execution_count": 10
        }
      ]
    },
    {
      "cell_type": "markdown",
      "metadata": {
        "id": "JtVxafhl9AKo",
        "colab_type": "text"
      },
      "source": [
        "## Clean Data\n",
        "\n",
        "\n",
        "This data is in a horrible format. \n",
        "\n",
        "*   There are Dictionaries nested in column\n",
        "*   Dictionary within a List nested in column\n",
        "*   Duplicates\n",
        "*   Irrelevant columns\n",
        "\n"
      ]
    },
    {
      "cell_type": "code",
      "metadata": {
        "id": "e1qKfTRz7lsf",
        "colab_type": "code",
        "outputId": "05427999-fa39-4284-dee8-70f13c73a2f4",
        "colab": {
          "base_uri": "https://localhost:8080/",
          "height": 479
        }
      },
      "source": [
        "# View Data\n",
        "current.head()"
      ],
      "execution_count": 0,
      "outputs": [
        {
          "output_type": "execute_result",
          "data": {
            "text/html": [
              "<div>\n",
              "<style scoped>\n",
              "    .dataframe tbody tr th:only-of-type {\n",
              "        vertical-align: middle;\n",
              "    }\n",
              "\n",
              "    .dataframe tbody tr th {\n",
              "        vertical-align: top;\n",
              "    }\n",
              "\n",
              "    .dataframe thead th {\n",
              "        text-align: right;\n",
              "    }\n",
              "</style>\n",
              "<table border=\"1\" class=\"dataframe\">\n",
              "  <thead>\n",
              "    <tr style=\"text-align: right;\">\n",
              "      <th></th>\n",
              "      <th>competition</th>\n",
              "      <th>displayName</th>\n",
              "      <th>draftAlerts</th>\n",
              "      <th>draftStatAttributes</th>\n",
              "      <th>draftableId</th>\n",
              "      <th>firstName</th>\n",
              "      <th>isDisabled</th>\n",
              "      <th>isSwappable</th>\n",
              "      <th>lastName</th>\n",
              "      <th>newsStatus</th>\n",
              "      <th>playerAttributes</th>\n",
              "      <th>playerGameAttributes</th>\n",
              "      <th>playerGameHash</th>\n",
              "      <th>playerId</th>\n",
              "      <th>playerImage160</th>\n",
              "      <th>playerImage50</th>\n",
              "      <th>playerImage65</th>\n",
              "      <th>playerImageFull</th>\n",
              "      <th>position</th>\n",
              "      <th>rosterSlotId</th>\n",
              "      <th>salary</th>\n",
              "      <th>shortName</th>\n",
              "      <th>status</th>\n",
              "      <th>teamAbbreviation</th>\n",
              "      <th>teamId</th>\n",
              "    </tr>\n",
              "  </thead>\n",
              "  <tbody>\n",
              "    <tr>\n",
              "      <th>0</th>\n",
              "      <td>{'competitionId': 5523569, 'name': 'NO @ NYG',...</td>\n",
              "      <td>Alvin Kamara</td>\n",
              "      <td>[]</td>\n",
              "      <td>[{'id': 90, 'value': '36.3', 'sortValue': '36....</td>\n",
              "      <td>11349545</td>\n",
              "      <td>Alvin</td>\n",
              "      <td>False</td>\n",
              "      <td>False</td>\n",
              "      <td>Kamara</td>\n",
              "      <td>Recent</td>\n",
              "      <td>[]</td>\n",
              "      <td>[]</td>\n",
              "      <td>750846-5523569</td>\n",
              "      <td>750846</td>\n",
              "      <td>https://d327rxwuxd0q0c.cloudfront.net/m/nfl_re...</td>\n",
              "      <td>https://d327rxwuxd0q0c.cloudfront.net/m/nfl_50...</td>\n",
              "      <td>https://d327rxwuxd0q0c.cloudfront.net/m/nfl_65...</td>\n",
              "      <td>https://d327rxwuxd0q0c.cloudfront.net/nfl/play...</td>\n",
              "      <td>RB</td>\n",
              "      <td>67</td>\n",
              "      <td>9600</td>\n",
              "      <td>A. Kamara</td>\n",
              "      <td>None</td>\n",
              "      <td>NO</td>\n",
              "      <td>350</td>\n",
              "    </tr>\n",
              "    <tr>\n",
              "      <th>1</th>\n",
              "      <td>{'competitionId': 5523569, 'name': 'NO @ NYG',...</td>\n",
              "      <td>Alvin Kamara</td>\n",
              "      <td>[]</td>\n",
              "      <td>[{'id': 90, 'value': '36.3', 'sortValue': '36....</td>\n",
              "      <td>11349546</td>\n",
              "      <td>Alvin</td>\n",
              "      <td>False</td>\n",
              "      <td>False</td>\n",
              "      <td>Kamara</td>\n",
              "      <td>Recent</td>\n",
              "      <td>[]</td>\n",
              "      <td>[]</td>\n",
              "      <td>750846-5523569</td>\n",
              "      <td>750846</td>\n",
              "      <td>https://d327rxwuxd0q0c.cloudfront.net/m/nfl_re...</td>\n",
              "      <td>https://d327rxwuxd0q0c.cloudfront.net/m/nfl_50...</td>\n",
              "      <td>https://d327rxwuxd0q0c.cloudfront.net/m/nfl_65...</td>\n",
              "      <td>https://d327rxwuxd0q0c.cloudfront.net/nfl/play...</td>\n",
              "      <td>RB</td>\n",
              "      <td>70</td>\n",
              "      <td>9600</td>\n",
              "      <td>A. Kamara</td>\n",
              "      <td>None</td>\n",
              "      <td>NO</td>\n",
              "      <td>350</td>\n",
              "    </tr>\n",
              "    <tr>\n",
              "      <th>2</th>\n",
              "      <td>{'competitionId': 5523569, 'name': 'NO @ NYG',...</td>\n",
              "      <td>Michael Thomas</td>\n",
              "      <td>[]</td>\n",
              "      <td>[{'id': 90, 'value': '27.1', 'sortValue': '27....</td>\n",
              "      <td>11349345</td>\n",
              "      <td>Michael</td>\n",
              "      <td>False</td>\n",
              "      <td>False</td>\n",
              "      <td>Thomas</td>\n",
              "      <td>Recent</td>\n",
              "      <td>[]</td>\n",
              "      <td>[]</td>\n",
              "      <td>653699-5523569</td>\n",
              "      <td>653699</td>\n",
              "      <td>https://d327rxwuxd0q0c.cloudfront.net/m/nfl_re...</td>\n",
              "      <td>https://d327rxwuxd0q0c.cloudfront.net/m/nfl_50...</td>\n",
              "      <td>https://d327rxwuxd0q0c.cloudfront.net/m/nfl_65...</td>\n",
              "      <td>https://d327rxwuxd0q0c.cloudfront.net/nfl/play...</td>\n",
              "      <td>WR</td>\n",
              "      <td>68</td>\n",
              "      <td>9100</td>\n",
              "      <td>M. Thomas</td>\n",
              "      <td>None</td>\n",
              "      <td>NO</td>\n",
              "      <td>350</td>\n",
              "    </tr>\n",
              "    <tr>\n",
              "      <th>3</th>\n",
              "      <td>{'competitionId': 5523569, 'name': 'NO @ NYG',...</td>\n",
              "      <td>Michael Thomas</td>\n",
              "      <td>[]</td>\n",
              "      <td>[{'id': 90, 'value': '27.1', 'sortValue': '27....</td>\n",
              "      <td>11349346</td>\n",
              "      <td>Michael</td>\n",
              "      <td>False</td>\n",
              "      <td>False</td>\n",
              "      <td>Thomas</td>\n",
              "      <td>Recent</td>\n",
              "      <td>[]</td>\n",
              "      <td>[]</td>\n",
              "      <td>653699-5523569</td>\n",
              "      <td>653699</td>\n",
              "      <td>https://d327rxwuxd0q0c.cloudfront.net/m/nfl_re...</td>\n",
              "      <td>https://d327rxwuxd0q0c.cloudfront.net/m/nfl_50...</td>\n",
              "      <td>https://d327rxwuxd0q0c.cloudfront.net/m/nfl_65...</td>\n",
              "      <td>https://d327rxwuxd0q0c.cloudfront.net/nfl/play...</td>\n",
              "      <td>WR</td>\n",
              "      <td>70</td>\n",
              "      <td>9100</td>\n",
              "      <td>M. Thomas</td>\n",
              "      <td>None</td>\n",
              "      <td>NO</td>\n",
              "      <td>350</td>\n",
              "    </tr>\n",
              "    <tr>\n",
              "      <th>4</th>\n",
              "      <td>{'competitionId': 5523581, 'name': 'BAL @ PIT'...</td>\n",
              "      <td>Antonio Brown</td>\n",
              "      <td>[]</td>\n",
              "      <td>[{'id': 90, 'value': '18.6', 'sortValue': '18....</td>\n",
              "      <td>11348973</td>\n",
              "      <td>Antonio</td>\n",
              "      <td>False</td>\n",
              "      <td>False</td>\n",
              "      <td>Brown</td>\n",
              "      <td>Recent</td>\n",
              "      <td>[]</td>\n",
              "      <td>[]</td>\n",
              "      <td>406214-5523581</td>\n",
              "      <td>406214</td>\n",
              "      <td>https://d327rxwuxd0q0c.cloudfront.net/m/nfl_re...</td>\n",
              "      <td>https://d327rxwuxd0q0c.cloudfront.net/m/nfl_50...</td>\n",
              "      <td>https://d327rxwuxd0q0c.cloudfront.net/m/nfl_65...</td>\n",
              "      <td>https://d327rxwuxd0q0c.cloudfront.net/nfl/play...</td>\n",
              "      <td>WR</td>\n",
              "      <td>68</td>\n",
              "      <td>8800</td>\n",
              "      <td>A. Brown</td>\n",
              "      <td>None</td>\n",
              "      <td>PIT</td>\n",
              "      <td>356</td>\n",
              "    </tr>\n",
              "  </tbody>\n",
              "</table>\n",
              "</div>"
            ],
            "text/plain": [
              "                                         competition  ... teamId\n",
              "0  {'competitionId': 5523569, 'name': 'NO @ NYG',...  ...    350\n",
              "1  {'competitionId': 5523569, 'name': 'NO @ NYG',...  ...    350\n",
              "2  {'competitionId': 5523569, 'name': 'NO @ NYG',...  ...    350\n",
              "3  {'competitionId': 5523569, 'name': 'NO @ NYG',...  ...    350\n",
              "4  {'competitionId': 5523581, 'name': 'BAL @ PIT'...  ...    356\n",
              "\n",
              "[5 rows x 25 columns]"
            ]
          },
          "metadata": {
            "tags": []
          },
          "execution_count": 11
        }
      ]
    },
    {
      "cell_type": "markdown",
      "metadata": {
        "id": "Wl50zBnY-FuF",
        "colab_type": "text"
      },
      "source": [
        "### Remove Duplicates"
      ]
    },
    {
      "cell_type": "code",
      "metadata": {
        "id": "YmXVDP6j-Iia",
        "colab_type": "code",
        "colab": {}
      },
      "source": [
        "# dropping duplicte Names (subset by name and keep the first)\n",
        "current = current.drop_duplicates(subset='displayName', keep='first')\n",
        "current"
      ],
      "execution_count": 0,
      "outputs": []
    },
    {
      "cell_type": "markdown",
      "metadata": {
        "id": "okTHzlCF-DeU",
        "colab_type": "text"
      },
      "source": [
        "### Remove Injured Players"
      ]
    },
    {
      "cell_type": "code",
      "metadata": {
        "id": "2I5Qfch29RCS",
        "colab_type": "code",
        "outputId": "138d174b-ed8e-40da-e2c7-20b64b8690f5",
        "colab": {
          "base_uri": "https://localhost:8080/",
          "height": 102
        }
      },
      "source": [
        "# status counts\n",
        "current['status'].value_counts()\n"
      ],
      "execution_count": 0,
      "outputs": [
        {
          "output_type": "execute_result",
          "data": {
            "text/plain": [
              "None    430\n",
              "Q        47\n",
              "IR       17\n",
              "O        16\n",
              "Name: status, dtype: int64"
            ]
          },
          "metadata": {
            "tags": []
          },
          "execution_count": 13
        }
      ]
    },
    {
      "cell_type": "code",
      "metadata": {
        "id": "dZ37ALNGaOTP",
        "colab_type": "code",
        "colab": {}
      },
      "source": [
        "# Remove players that are out or questionable\n",
        "current = current[current['status']==\"None\"]\n"
      ],
      "execution_count": 0,
      "outputs": []
    },
    {
      "cell_type": "code",
      "metadata": {
        "id": "cDDSg8-eaQ10",
        "colab_type": "code",
        "outputId": "aefcc648-73e7-4be7-ec36-6ba7f94816e1",
        "colab": {
          "base_uri": "https://localhost:8080/",
          "height": 51
        }
      },
      "source": [
        "# view data\n",
        "current['status'].value_counts()"
      ],
      "execution_count": 0,
      "outputs": [
        {
          "output_type": "execute_result",
          "data": {
            "text/plain": [
              "None    430\n",
              "Name: status, dtype: int64"
            ]
          },
          "metadata": {
            "tags": []
          },
          "execution_count": 15
        }
      ]
    },
    {
      "cell_type": "markdown",
      "metadata": {
        "id": "Dq-RmcV0LO0W",
        "colab_type": "text"
      },
      "source": [
        "### Extract Points\n",
        "\n",
        "\"draftStatAttributes\" contains the average fantasy points for each player. However, it is nested in a very annoying way.\n",
        "\n",
        "\n",
        "We need to create a function that will "
      ]
    },
    {
      "cell_type": "code",
      "metadata": {
        "id": "oa80Bx9WbWqe",
        "colab_type": "code",
        "outputId": "fb8fff2a-a256-408d-8b88-8c5179f6ee22",
        "colab": {
          "base_uri": "https://localhost:8080/",
          "height": 51
        }
      },
      "source": [
        "# examine how draftStatAttributes is formatted\n",
        "current['draftStatAttributes'][0]"
      ],
      "execution_count": 0,
      "outputs": [
        {
          "output_type": "execute_result",
          "data": {
            "text/plain": [
              "[{'id': 90, 'sortValue': '36.3', 'value': '36.3'},\n",
              " {'id': -2, 'quality': 'Medium', 'sortValue': '20', 'value': '20th'}]"
            ]
          },
          "metadata": {
            "tags": []
          },
          "execution_count": 20
        }
      ]
    },
    {
      "cell_type": "code",
      "metadata": {
        "id": "8wjk7wm3aSWA",
        "colab_type": "code",
        "colab": {}
      },
      "source": [
        "# Create function to extract average points\n",
        "def get_float(l, key):\n",
        "    \"\"\" Returns first float value from a list of dictionaries based on key. Defaults to 0.0 \"\"\"\n",
        "    for d in l:\n",
        "        try:\n",
        "            return float(d.get(key))\n",
        "        except:\n",
        "            pass\n",
        "    return 0.0"
      ],
      "execution_count": 0,
      "outputs": []
    },
    {
      "cell_type": "code",
      "metadata": {
        "id": "YtAaezwMRlFP",
        "colab_type": "code",
        "colab": {}
      },
      "source": [
        "current = current.reset_index(drop=True)"
      ],
      "execution_count": 0,
      "outputs": []
    },
    {
      "cell_type": "code",
      "metadata": {
        "id": "7JVhmU5OaZRx",
        "colab_type": "code",
        "colab": {}
      },
      "source": [
        "# use function on dataset - need to make it a list looping through current['draftStatAttributes'] searching for value\n",
        "current['points'] = [get_float(x, 'value') for x in current['draftStatAttributes']]"
      ],
      "execution_count": 0,
      "outputs": []
    },
    {
      "cell_type": "markdown",
      "metadata": {
        "id": "mJ8rD6Lkb_om",
        "colab_type": "text"
      },
      "source": [
        "### Select Columns\n",
        "\n",
        "We only need the player's position, displayName, salary, and points"
      ]
    },
    {
      "cell_type": "code",
      "metadata": {
        "id": "YhkN_Kizhfiq",
        "colab_type": "code",
        "outputId": "4fcf934d-6c4a-4ed3-cdf7-3548bcdce24c",
        "colab": {
          "base_uri": "https://localhost:8080/",
          "height": 204
        }
      },
      "source": [
        "# subset our data and name it availables\n",
        "current = current[['position', 'displayName', 'salary', 'points']]\n",
        "\n",
        "# view top 5 players\n",
        "current.head()"
      ],
      "execution_count": 0,
      "outputs": [
        {
          "output_type": "execute_result",
          "data": {
            "text/html": [
              "<div>\n",
              "<style scoped>\n",
              "    .dataframe tbody tr th:only-of-type {\n",
              "        vertical-align: middle;\n",
              "    }\n",
              "\n",
              "    .dataframe tbody tr th {\n",
              "        vertical-align: top;\n",
              "    }\n",
              "\n",
              "    .dataframe thead th {\n",
              "        text-align: right;\n",
              "    }\n",
              "</style>\n",
              "<table border=\"1\" class=\"dataframe\">\n",
              "  <thead>\n",
              "    <tr style=\"text-align: right;\">\n",
              "      <th></th>\n",
              "      <th>position</th>\n",
              "      <th>displayName</th>\n",
              "      <th>salary</th>\n",
              "      <th>points</th>\n",
              "    </tr>\n",
              "  </thead>\n",
              "  <tbody>\n",
              "    <tr>\n",
              "      <th>0</th>\n",
              "      <td>RB</td>\n",
              "      <td>Alvin Kamara</td>\n",
              "      <td>9600</td>\n",
              "      <td>36.3</td>\n",
              "    </tr>\n",
              "    <tr>\n",
              "      <th>1</th>\n",
              "      <td>WR</td>\n",
              "      <td>Michael Thomas</td>\n",
              "      <td>9100</td>\n",
              "      <td>27.1</td>\n",
              "    </tr>\n",
              "    <tr>\n",
              "      <th>2</th>\n",
              "      <td>WR</td>\n",
              "      <td>Antonio Brown</td>\n",
              "      <td>8800</td>\n",
              "      <td>18.6</td>\n",
              "    </tr>\n",
              "    <tr>\n",
              "      <th>3</th>\n",
              "      <td>WR</td>\n",
              "      <td>Odell Beckham Jr.</td>\n",
              "      <td>8700</td>\n",
              "      <td>17.8</td>\n",
              "    </tr>\n",
              "    <tr>\n",
              "      <th>4</th>\n",
              "      <td>WR</td>\n",
              "      <td>DeAndre Hopkins</td>\n",
              "      <td>8400</td>\n",
              "      <td>22.9</td>\n",
              "    </tr>\n",
              "  </tbody>\n",
              "</table>\n",
              "</div>"
            ],
            "text/plain": [
              "  position        displayName  salary  points\n",
              "0       RB       Alvin Kamara    9600    36.3\n",
              "1       WR     Michael Thomas    9100    27.1\n",
              "2       WR      Antonio Brown    8800    18.6\n",
              "3       WR  Odell Beckham Jr.    8700    17.8\n",
              "4       WR    DeAndre Hopkins    8400    22.9"
            ]
          },
          "metadata": {
            "tags": []
          },
          "execution_count": 28
        }
      ]
    },
    {
      "cell_type": "code",
      "metadata": {
        "id": "yMepaTvWlwGX",
        "colab_type": "code",
        "outputId": "83b8453a-b844-4188-afc3-afc263d41cc5",
        "colab": {
          "base_uri": "https://localhost:8080/",
          "height": 119
        }
      },
      "source": [
        "# See how many players are available at each position\n",
        "current['position'].value_counts()"
      ],
      "execution_count": 0,
      "outputs": [
        {
          "output_type": "execute_result",
          "data": {
            "text/plain": [
              "WR     143\n",
              "RB     105\n",
              "TE      87\n",
              "QB      67\n",
              "DST     28\n",
              "Name: position, dtype: int64"
            ]
          },
          "metadata": {
            "tags": []
          },
          "execution_count": 29
        }
      ]
    },
    {
      "cell_type": "code",
      "metadata": {
        "id": "ldXfelY6adah",
        "colab_type": "code",
        "outputId": "2c44bd2d-c78c-4478-a8a3-9acff5326b12",
        "colab": {
          "base_uri": "https://localhost:8080/",
          "height": 514
        }
      },
      "source": [
        "# See top 15 scoring QBs (sort by points)\n",
        "current[current['position']=='WR'].sort_values(by = 'points', ascending = False).head(15)"
      ],
      "execution_count": 0,
      "outputs": [
        {
          "output_type": "execute_result",
          "data": {
            "text/html": [
              "<div>\n",
              "<style scoped>\n",
              "    .dataframe tbody tr th:only-of-type {\n",
              "        vertical-align: middle;\n",
              "    }\n",
              "\n",
              "    .dataframe tbody tr th {\n",
              "        vertical-align: top;\n",
              "    }\n",
              "\n",
              "    .dataframe thead th {\n",
              "        text-align: right;\n",
              "    }\n",
              "</style>\n",
              "<table border=\"1\" class=\"dataframe\">\n",
              "  <thead>\n",
              "    <tr style=\"text-align: right;\">\n",
              "      <th></th>\n",
              "      <th>position</th>\n",
              "      <th>displayName</th>\n",
              "      <th>salary</th>\n",
              "      <th>points</th>\n",
              "    </tr>\n",
              "  </thead>\n",
              "  <tbody>\n",
              "    <tr>\n",
              "      <th>1</th>\n",
              "      <td>WR</td>\n",
              "      <td>Michael Thomas</td>\n",
              "      <td>9100</td>\n",
              "      <td>27.1</td>\n",
              "    </tr>\n",
              "    <tr>\n",
              "      <th>251</th>\n",
              "      <td>WR</td>\n",
              "      <td>Keke Coutee</td>\n",
              "      <td>3000</td>\n",
              "      <td>24.7</td>\n",
              "    </tr>\n",
              "    <tr>\n",
              "      <th>10</th>\n",
              "      <td>WR</td>\n",
              "      <td>Mike Evans</td>\n",
              "      <td>7900</td>\n",
              "      <td>23.7</td>\n",
              "    </tr>\n",
              "    <tr>\n",
              "      <th>21</th>\n",
              "      <td>WR</td>\n",
              "      <td>Golden Tate</td>\n",
              "      <td>6600</td>\n",
              "      <td>23.0</td>\n",
              "    </tr>\n",
              "    <tr>\n",
              "      <th>4</th>\n",
              "      <td>WR</td>\n",
              "      <td>DeAndre Hopkins</td>\n",
              "      <td>8400</td>\n",
              "      <td>22.9</td>\n",
              "    </tr>\n",
              "    <tr>\n",
              "      <th>9</th>\n",
              "      <td>WR</td>\n",
              "      <td>Tyreek Hill</td>\n",
              "      <td>8100</td>\n",
              "      <td>21.9</td>\n",
              "    </tr>\n",
              "    <tr>\n",
              "      <th>15</th>\n",
              "      <td>WR</td>\n",
              "      <td>JuJu Smith-Schuster</td>\n",
              "      <td>7100</td>\n",
              "      <td>21.9</td>\n",
              "    </tr>\n",
              "    <tr>\n",
              "      <th>7</th>\n",
              "      <td>WR</td>\n",
              "      <td>Julio Jones</td>\n",
              "      <td>8200</td>\n",
              "      <td>21.6</td>\n",
              "    </tr>\n",
              "    <tr>\n",
              "      <th>42</th>\n",
              "      <td>WR</td>\n",
              "      <td>DeSean Jackson</td>\n",
              "      <td>5700</td>\n",
              "      <td>21.6</td>\n",
              "    </tr>\n",
              "    <tr>\n",
              "      <th>73</th>\n",
              "      <td>WR</td>\n",
              "      <td>Calvin Ridley</td>\n",
              "      <td>4900</td>\n",
              "      <td>20.4</td>\n",
              "    </tr>\n",
              "    <tr>\n",
              "      <th>81</th>\n",
              "      <td>WR</td>\n",
              "      <td>Tyler Boyd</td>\n",
              "      <td>4600</td>\n",
              "      <td>19.9</td>\n",
              "    </tr>\n",
              "    <tr>\n",
              "      <th>13</th>\n",
              "      <td>WR</td>\n",
              "      <td>A.J. Green</td>\n",
              "      <td>7500</td>\n",
              "      <td>19.7</td>\n",
              "    </tr>\n",
              "    <tr>\n",
              "      <th>16</th>\n",
              "      <td>WR</td>\n",
              "      <td>Emmanuel Sanders</td>\n",
              "      <td>6900</td>\n",
              "      <td>18.9</td>\n",
              "    </tr>\n",
              "    <tr>\n",
              "      <th>11</th>\n",
              "      <td>WR</td>\n",
              "      <td>Davante Adams</td>\n",
              "      <td>7800</td>\n",
              "      <td>18.6</td>\n",
              "    </tr>\n",
              "    <tr>\n",
              "      <th>2</th>\n",
              "      <td>WR</td>\n",
              "      <td>Antonio Brown</td>\n",
              "      <td>8800</td>\n",
              "      <td>18.6</td>\n",
              "    </tr>\n",
              "  </tbody>\n",
              "</table>\n",
              "</div>"
            ],
            "text/plain": [
              "    position          displayName  salary  points\n",
              "1         WR       Michael Thomas    9100    27.1\n",
              "251       WR          Keke Coutee    3000    24.7\n",
              "10        WR           Mike Evans    7900    23.7\n",
              "21        WR          Golden Tate    6600    23.0\n",
              "4         WR      DeAndre Hopkins    8400    22.9\n",
              "9         WR          Tyreek Hill    8100    21.9\n",
              "15        WR  JuJu Smith-Schuster    7100    21.9\n",
              "7         WR          Julio Jones    8200    21.6\n",
              "42        WR       DeSean Jackson    5700    21.6\n",
              "73        WR        Calvin Ridley    4900    20.4\n",
              "81        WR           Tyler Boyd    4600    19.9\n",
              "13        WR           A.J. Green    7500    19.7\n",
              "16        WR     Emmanuel Sanders    6900    18.9\n",
              "11        WR        Davante Adams    7800    18.6\n",
              "2         WR        Antonio Brown    8800    18.6"
            ]
          },
          "metadata": {
            "tags": []
          },
          "execution_count": 31
        }
      ]
    },
    {
      "cell_type": "markdown",
      "metadata": {
        "id": "z1gzQQw9zNeo",
        "colab_type": "text"
      },
      "source": [
        "# Define The Problem"
      ]
    },
    {
      "cell_type": "markdown",
      "metadata": {
        "id": "uhZ7n8s5rUr7",
        "colab_type": "text"
      },
      "source": [
        "## Using PuLP (Random Example)\n",
        "\n",
        "There was a natural disaster, Earthquake that caused a Tsunami and first aid is being shipped in to help the situation.\n",
        "\n",
        "There are 2 distribution centers (DC1 and DC2) that can ship supplies to either the earthquake location or the tsunami location. Each location needs a set number of supplies. \n",
        "\n",
        "What is the shortest distance needed to ship all the needed supplies?"
      ]
    },
    {
      "cell_type": "code",
      "metadata": {
        "id": "J1PJvgbIpM7c",
        "colab_type": "code",
        "outputId": "94ae9d8c-5075-48be-a60c-cfc1d7a24d49",
        "colab": {
          "base_uri": "https://localhost:8080/",
          "height": 119
        }
      },
      "source": [
        "# initiate the problem statement\n",
        "prob = LpProblem(\"Natural Disaster Relief\", LpMinimize)\n",
        "\n",
        "# create the variables\n",
        "y1 = LpVariable(\"First Aid shipments from DC1 to Earthquake\", 0, None, LpInteger)\n",
        "y2 = LpVariable(\"First Aid shipments from DC1 to Tsunami\", 0, None, LpInteger)\n",
        "y3 = LpVariable(\"First Aid shipments from DC2 to Earthquake\", 0, None, LpInteger)\n",
        "y4 = LpVariable(\"First Aid shipments from DC2 to Tsunami\", 0, None, LpInteger)\n",
        "\n",
        "# create the objective function \n",
        "prob += 240*y1 + 320*y2 + 440*y3 + 180*y4\n",
        "\n",
        "# create the constraints\n",
        "prob += y1 + y2 <= 10, \"DC1 has 10 shipping containers of First Aid supplies\"\n",
        "prob += y3 + y4 <= 4, \"DC2 has 4 shipping containers of First Aid supplies\"\n",
        "prob += y1 + y3 >= 8, \"8 containers of supplies needed for Earthquake Relief\"\n",
        "prob += y2 + y4 >= 6, \"6 containers of supplies needed for Tsunami Relief\"\n",
        "\n",
        "# solve the problem\n",
        "prob.solve()\n",
        "\n",
        "# print each variable with its optimal value\n",
        "for v in prob.variables():\n",
        "  print(v.name, \"=\", v.varValue)\n",
        "\n",
        "# print the optimized objective function value \n",
        "print(\"\\nMinimized total transit distance = \", value(prob.objective),\"miles\")"
      ],
      "execution_count": 0,
      "outputs": [
        {
          "output_type": "stream",
          "text": [
            "First_Aid_shipments_from_DC1_to_Earthquake = 8.0\n",
            "First_Aid_shipments_from_DC1_to_Tsunami = 2.0\n",
            "First_Aid_shipments_from_DC2_to_Earthquake = 0.0\n",
            "First_Aid_shipments_from_DC2_to_Tsunami = 4.0\n",
            "\n",
            "Minimized total transit distance =  3280.0 miles\n"
          ],
          "name": "stdout"
        }
      ]
    },
    {
      "cell_type": "markdown",
      "metadata": {
        "id": "OczgwI_0eJP_",
        "colab_type": "text"
      },
      "source": [
        "## Prepare for LP formula\n",
        "\n",
        "\n",
        "The data needs to be transformed slightly differently for PuLP to work with it.\n",
        "\n",
        "\n",
        "<br>\n",
        "\n",
        "$C_{ij} = Cost\\ of\\ Player$\n",
        "\n",
        "<br>\n",
        "\n",
        "$P_{ij} = Points\\ Player\\ Scores$\n",
        "\n",
        "<br>"
      ]
    },
    {
      "cell_type": "code",
      "metadata": {
        "id": "PjBkv79gnUgk",
        "colab_type": "code",
        "colab": {}
      },
      "source": [
        "# create 2 dictionaries: one containing the salaries of each player, the other containing the points of each player\n",
        "\n",
        "# Cost of Player (C_ij)\n",
        "salaries = {} \n",
        "\n",
        "# Points of Player (P_ij)\n",
        "points = {} \n",
        "\n",
        "# loop through each position and appened player name, salary, points to correct dictionary\n",
        "for pos in availables[\"position\"].unique():\n",
        "    available_pos = availables[availables[\"position\"] == pos]\n",
        "    salary = list(available_pos[[\"displayName\",\"salary\"]].set_index(\"displayName\").to_dict().values())[0]\n",
        "    point = list(available_pos[[\"displayName\",\"points\"]].set_index(\"displayName\").to_dict().values())[0]\n",
        "    salaries[pos] = salary\n",
        "    points[pos] = point"
      ],
      "execution_count": 0,
      "outputs": []
    },
    {
      "cell_type": "markdown",
      "metadata": {
        "id": "5reQ2EmE0Sw5",
        "colab_type": "text"
      },
      "source": [
        "## Position Constraints\n",
        "\n",
        "<br>\n",
        "\n",
        "$$\\ \\ \\ \\ \\ \\ \\ \\ \\ \\ \\ \\ \\ \\ \\ \\ \\ \\ \\ \\ \\ \\ \\ \\ \\ \\ \\ \\ \\ \\ \\ \\sum_{j=1}^m x_{ij} =1, \\ \\ for\\ \\ i = QB$$\n",
        "\n",
        "\n",
        "$$\\ \\ \\ \\ \\ \\ \\ \\ \\ \\ \\ \\ \\ \\ \\ \\ \\ \\ \\ \\ \\ \\ \\ \\ \\ \\ \\ \\ \\ \\ \\ \\ \\sum_{j=1}^m x_{ij}  =2, \\ \\ for\\ \\ i = RB$$\n",
        "\n",
        "$$\\ \\ \\ \\ \\ \\ \\ \\ \\ \\ \\ \\ \\ \\ \\ \\ \\ \\ \\ \\ \\ \\ \\ \\ \\ \\ \\ \\ \\ \\ \\ \\ \\ \\ \\sum_{j=1}^m x_{ij} =3, \\ \\ for\\ \\ i = WR$$\n",
        "\n",
        "$$\\ \\ \\ \\ \\ \\ \\ \\ \\ \\ \\ \\ \\ \\ \\ \\ \\ \\ \\ \\ \\ \\ \\ \\ \\ \\ \\ \\ \\ \\ \\ \\ \\sum_{j=1}^m x_{ij} =1, \\ \\ for\\ \\ i = TE$$\n",
        "\n",
        "$$\\ \\ \\ \\ \\ \\ \\ \\ \\ \\ \\ \\ \\ \\ \\ \\ \\ \\ \\ \\ \\ \\ \\ \\ \\ \\ \\ \\ \\ \\ \\ \\ \\ \\ \\ \\ \\ \\ \\sum_{j=1}^m x_{ij} =1, \\ \\ for\\ \\ i = FLEX$$\n",
        "\n",
        "$$\\ \\ \\ \\ \\ \\ \\ \\ \\ \\ \\ \\ \\ \\ \\ \\ \\ \\ \\ \\ \\ \\ \\ \\ \\ \\ \\ \\ \\ \\ \\ \\ \\ \\ \\ \\sum_{j=1}^m x_{ij} =1, \\ \\ for\\ \\ i = DST$$\n",
        "\n",
        "<br>\n",
        "\n",
        "Flex position can be either a RB, WR, or TE. \n",
        "\n",
        "We will run 3 iterations with the flex being each on of these positions."
      ]
    },
    {
      "cell_type": "code",
      "metadata": {
        "id": "CxmoYeiKnc2z",
        "colab_type": "code",
        "colab": {}
      },
      "source": [
        "# Create diction of Position Constraints (pos_num_available)\n"
      ],
      "execution_count": 0,
      "outputs": []
    },
    {
      "cell_type": "markdown",
      "metadata": {
        "id": "TnhBAYpO9PJj",
        "colab_type": "text"
      },
      "source": [
        "## Salary Constraint"
      ]
    },
    {
      "cell_type": "code",
      "metadata": {
        "id": "81t-4fUtmtFw",
        "colab_type": "code",
        "colab": {}
      },
      "source": [
        "# Max Salary limit\n",
        "SALARY_CAP = 50000"
      ],
      "execution_count": 0,
      "outputs": []
    },
    {
      "cell_type": "markdown",
      "metadata": {
        "id": "gmbZIlJP1GTS",
        "colab_type": "text"
      },
      "source": [
        "## Create Player Variables\n",
        "\n",
        "<br>\n",
        "\n",
        "$x_{ij} = Player$\n",
        "\n",
        "\n",
        "<br>"
      ]
    },
    {
      "cell_type": "code",
      "metadata": {
        "id": "RIXt9U63oIPi",
        "colab_type": "code",
        "colab": {}
      },
      "source": [
        "# Create the variables\n",
        "_vars = {i: LpVariable.dict(i, j, cat=\"Binary\") for i, j in points.items()}"
      ],
      "execution_count": 0,
      "outputs": []
    },
    {
      "cell_type": "markdown",
      "metadata": {
        "id": "sYBi7yw9flZ3",
        "colab_type": "text"
      },
      "source": [
        "## Solve Problem"
      ]
    },
    {
      "cell_type": "code",
      "metadata": {
        "id": "4VYCamjuk2vb",
        "colab_type": "code",
        "colab": {}
      },
      "source": [
        "# initialize the problem statement (Maximize)\n",
        "prob = LpProblem(\"Fantasy Football Lineup\", LpMaximize)\n",
        "\n",
        "# initialize lists to hold constraints\n",
        "score = []\n",
        "salary = []\n",
        "\n",
        "# Setting up the reward\n",
        "for i, x in _vars.items():\n",
        "    salary += lpSum([salaries[i][j] * _vars[i][j] for j in x])\n",
        "    score += lpSum([points[i][j] * _vars[i][j] for j in x])\n",
        "    prob += lpSum([_vars[i][j] for j in x]) <= pos_num_available[i]\n",
        "    \n",
        "\n",
        "# Salary Constraint\n",
        "prob += lpSum(salary) <= SALARY_CAP\n",
        "    \n",
        "# Objective Function\n",
        "prob += lpSum(score)"
      ],
      "execution_count": 0,
      "outputs": []
    },
    {
      "cell_type": "code",
      "metadata": {
        "id": "ZA2acf4e6hLb",
        "colab_type": "code",
        "colab": {}
      },
      "source": [
        "# solve the problem\n",
        "prob.solve()"
      ],
      "execution_count": 0,
      "outputs": []
    },
    {
      "cell_type": "code",
      "metadata": {
        "id": "sWbUYW2E6j_o",
        "colab_type": "code",
        "colab": {}
      },
      "source": [
        "# my beautiful function to display the results of our LP\n",
        "def summary(prob):\n",
        "    div = '\\n-----------------------------------------\\n'\n",
        "    print(\"\\n-----------------------------------------\")\n",
        "    print(\"Linear Programming Optimization Solution:\")\n",
        "    print(\"-----------------------------------------\\n\")\n",
        "    print(\"Variables:\\n\")\n",
        "    score = str(prob.objective)\n",
        "    constraints = [str(const) for const in prob.constraints.values()]\n",
        "    for v in prob.variables():\n",
        "        score = score.replace(v.name, str(v.varValue))\n",
        "        constraints = [const.replace(v.name, str(v.varValue)) for const in constraints]\n",
        "        if v.varValue != 0:\n",
        "            print(v.name, \"=\", v.varValue)\n",
        "    print(div)\n",
        "    print(\"Salary:\\n\")\n",
        "    for constraint in constraints:\n",
        "        constraint_pretty = \" + \".join(re.findall(\"[0-9\\.]*\\*1.0\", constraint))\n",
        "        if constraint_pretty != \"\":\n",
        "            print(\"{} = {}\".format(constraint_pretty, eval(constraint_pretty)))\n",
        "    print(div)\n",
        "    print(\"Score:\\n\")\n",
        "    score_pretty = \" + \".join(re.findall(\"[0-9\\.]+\\*1.0\", score))\n",
        "    print(\"{} = {}\".format(score_pretty, eval(score)))\n",
        "    print(div)\n",
        "    print(\"Total Cost:  ${}\".format(round(eval(constraint_pretty))))\n",
        "    print(\"Total Points: {}\\n\".format(round(eval(score))))"
      ],
      "execution_count": 0,
      "outputs": []
    },
    {
      "cell_type": "code",
      "metadata": {
        "id": "lv4K2BXy6li3",
        "colab_type": "code",
        "colab": {}
      },
      "source": [
        "# view results\n",
        "summary(prob)"
      ],
      "execution_count": 0,
      "outputs": []
    },
    {
      "cell_type": "code",
      "metadata": {
        "id": "2OrIY3bLUbNs",
        "colab_type": "code",
        "colab": {}
      },
      "source": [
        "availables = current"
      ],
      "execution_count": 0,
      "outputs": []
    },
    {
      "cell_type": "markdown",
      "metadata": {
        "id": "9ZJmM7ySy8WF",
        "colab_type": "text"
      },
      "source": [
        "## Flex Postion = RB"
      ]
    },
    {
      "cell_type": "code",
      "metadata": {
        "id": "lcIGfzH83Zw7",
        "colab_type": "code",
        "outputId": "838b676d-97ae-471b-f706-dc71554dd5de",
        "colab": {
          "base_uri": "https://localhost:8080/",
          "height": 595
        }
      },
      "source": [
        "# salary and points\n",
        "salaries = {} \n",
        "points = {} \n",
        "for pos in availables[\"position\"].unique():\n",
        "    available_pos = availables[availables[\"position\"] == pos]\n",
        "    salary = list(available_pos[[\"displayName\",\"salary\"]].set_index(\"displayName\").to_dict().values())[0]\n",
        "    point = list(available_pos[[\"displayName\",\"points\"]].set_index(\"displayName\").to_dict().values())[0]\n",
        "    salaries[pos] = salary\n",
        "    points[pos] = point\n",
        "\n",
        "# Max Salary limit\n",
        "SALARY_CAP = 50000\n",
        "\n",
        "\n",
        "# Position Constraints\n",
        "pos_num_available = {\n",
        "    \"QB\": 1,\n",
        "    \"RB\": 3, # FLEX POSITION = RB\n",
        "    \"WR\": 3, \n",
        "    \"TE\": 1, \n",
        "    \"DST\": 1\n",
        "}\n",
        "\n",
        "\n",
        "\n",
        "# initialize the problem statement (Maximize)\n",
        "prob = LpProblem(\"Fantasy Football Lineup\", LpMaximize)\n",
        "\n",
        "# Create the variables\n",
        "_vars = {k: LpVariable.dict(k, v, cat=\"Binary\") for k, v in points.items()}\n",
        "\n",
        "# initialize lists to hold constraints\n",
        "score = []\n",
        "salary = []\n",
        "\n",
        "# Setting up the reward\n",
        "for k, v in _vars.items():\n",
        "    salary += lpSum([salaries[k][i] * _vars[k][i] for i in v])\n",
        "    score += lpSum([points[k][i] * _vars[k][i] for i in v])\n",
        "    prob += lpSum([_vars[k][i] for i in v]) <= pos_num_available[k]\n",
        "    \n",
        "\n",
        "# Salary Constraint\n",
        "prob += lpSum(salary) <= SALARY_CAP\n",
        "    \n",
        "# Objective Function\n",
        "prob += lpSum(score)\n",
        "\n",
        "prob.solve()\n",
        "\n",
        "summary(prob)"
      ],
      "execution_count": 0,
      "outputs": [
        {
          "output_type": "stream",
          "text": [
            "\n",
            "-----------------------------------------\n",
            "Linear Programming Optimization Solution:\n",
            "-----------------------------------------\n",
            "\n",
            "Variables:\n",
            "\n",
            "DST_Bears_ = 1.0\n",
            "QB_Patrick_Mahomes = 1.0\n",
            "RB_Alvin_Kamara = 1.0\n",
            "RB_James_White = 1.0\n",
            "RB_Melvin_Gordon_III = 1.0\n",
            "TE_Jared_Cook = 1.0\n",
            "WR_Calvin_Ridley = 1.0\n",
            "WR_Keke_Coutee = 1.0\n",
            "WR_Tyler_Boyd = 1.0\n",
            "\n",
            "-----------------------------------------\n",
            "\n",
            "Salary:\n",
            "\n",
            "2600*1.0 + 6800*1.0 + 9600*1.0 + 5400*1.0 + 8300*1.0 + 4100*1.0 + 4900*1.0 + 3000*1.0 + 4600*1.0 = 49300.0\n",
            "\n",
            "-----------------------------------------\n",
            "\n",
            "Score:\n",
            "\n",
            "14.5*1.0 + 31.1*1.0 + 36.3*1.0 + 19.1*1.0 + 27.9*1.0 + 20.3*1.0 + 20.4*1.0 + 24.7*1.0 + 19.9*1.0 = 214.20000000000002\n",
            "\n",
            "-----------------------------------------\n",
            "\n",
            "Total Cost:  $49300\n",
            "Total Points: 214\n",
            "\n"
          ],
          "name": "stdout"
        }
      ]
    },
    {
      "cell_type": "markdown",
      "metadata": {
        "id": "W15aY57AzDV4",
        "colab_type": "text"
      },
      "source": [
        "## Flex Postion = WR"
      ]
    },
    {
      "cell_type": "code",
      "metadata": {
        "id": "bUk0HVeV3SU9",
        "colab_type": "code",
        "outputId": "933ee343-3bae-4f14-d389-2227b721d239",
        "colab": {
          "base_uri": "https://localhost:8080/",
          "height": 595
        }
      },
      "source": [
        "# salary and points\n",
        "salaries = {} \n",
        "points = {} \n",
        "for pos in availables[\"position\"].unique():\n",
        "    available_pos = availables[availables[\"position\"] == pos]\n",
        "    salary = list(available_pos[[\"displayName\",\"salary\"]].set_index(\"displayName\").to_dict().values())[0]\n",
        "    point = list(available_pos[[\"displayName\",\"points\"]].set_index(\"displayName\").to_dict().values())[0]\n",
        "    salaries[pos] = salary\n",
        "    points[pos] = point\n",
        "\n",
        "# Max Salary limit\n",
        "SALARY_CAP = 50000\n",
        "\n",
        "\n",
        "# Position Constraints\n",
        "pos_num_available = {\n",
        "    \"QB\": 0,\n",
        "    \"RB\": 2,\n",
        "    \"WR\": 4, # FLEX POSITION = WR\n",
        "    \"TE\": 1, \n",
        "    \"DST\": 1\n",
        "}\n",
        "\n",
        "\n",
        "\n",
        "# initialize the problem statement (Maximize)\n",
        "prob = LpProblem(\"Fantasy Football Lineup\", LpMaximize)\n",
        "\n",
        "# Create the variables\n",
        "_vars = {k: LpVariable.dict(k, v, cat=\"Binary\") for k, v in points.items()}\n",
        "\n",
        "# initialize lists to hold constraints\n",
        "score = []\n",
        "salary = []\n",
        "\n",
        "# Setting up the reward\n",
        "for k, v in _vars.items():\n",
        "    salary += lpSum([salaries[k][i] * _vars[k][i] for i in v])\n",
        "    score += lpSum([points[k][i] * _vars[k][i] for i in v])\n",
        "    prob += lpSum([_vars[k][i] for i in v]) <= pos_num_available[k]\n",
        "    \n",
        "\n",
        "# Salary Constraint\n",
        "prob += lpSum(salary) <= SALARY_CAP\n",
        "    \n",
        "# Objective Function\n",
        "prob += lpSum(score)\n",
        "\n",
        "prob.solve()\n",
        "\n",
        "summary(prob)"
      ],
      "execution_count": 0,
      "outputs": [
        {
          "output_type": "stream",
          "text": [
            "\n",
            "-----------------------------------------\n",
            "Linear Programming Optimization Solution:\n",
            "-----------------------------------------\n",
            "\n",
            "Variables:\n",
            "\n",
            "DST_Bears_ = 1.0\n",
            "QB_Patrick_Mahomes = 1.0\n",
            "RB_Alvin_Kamara = 1.0\n",
            "RB_Melvin_Gordon_III = 1.0\n",
            "TE_Jared_Cook = 1.0\n",
            "WR_Calvin_Ridley = 1.0\n",
            "WR_DeSean_Jackson = 1.0\n",
            "WR_Keke_Coutee = 1.0\n",
            "WR_Tyler_Boyd = 1.0\n",
            "\n",
            "-----------------------------------------\n",
            "\n",
            "Salary:\n",
            "\n",
            "2600*1.0 + 6800*1.0 + 9600*1.0 + 8300*1.0 + 4100*1.0 + 4900*1.0 + 5700*1.0 + 3000*1.0 + 4600*1.0 = 49600.0\n",
            "\n",
            "-----------------------------------------\n",
            "\n",
            "Score:\n",
            "\n",
            "14.5*1.0 + 31.1*1.0 + 36.3*1.0 + 27.9*1.0 + 20.3*1.0 + 20.4*1.0 + 21.6*1.0 + 24.7*1.0 + 19.9*1.0 = 216.70000000000002\n",
            "\n",
            "-----------------------------------------\n",
            "\n",
            "Total Cost:  $49600\n",
            "Total Points: 217\n",
            "\n"
          ],
          "name": "stdout"
        }
      ]
    },
    {
      "cell_type": "markdown",
      "metadata": {
        "id": "gVYCdxEWzEsl",
        "colab_type": "text"
      },
      "source": [
        "## Flex Postion = TE"
      ]
    },
    {
      "cell_type": "code",
      "metadata": {
        "id": "HCY9ZsCmzBIF",
        "colab_type": "code",
        "outputId": "9caddbad-cdd8-42db-ad9c-f47855a3c8d1",
        "colab": {
          "base_uri": "https://localhost:8080/",
          "height": 595
        }
      },
      "source": [
        "# salary and points\n",
        "salaries = {} \n",
        "points = {} \n",
        "for pos in availables[\"position\"].unique():\n",
        "    available_pos = availables[availables[\"position\"] == pos]\n",
        "    salary = list(available_pos[[\"displayName\",\"salary\"]].set_index(\"displayName\").to_dict().values())[0]\n",
        "    point = list(available_pos[[\"displayName\",\"points\"]].set_index(\"displayName\").to_dict().values())[0]\n",
        "    salaries[pos] = salary\n",
        "    points[pos] = point\n",
        "\n",
        "# Max Salary limit\n",
        "SALARY_CAP = 50000\n",
        "\n",
        "\n",
        "# Position Constraints\n",
        "pos_num_available = {\n",
        "    \"QB\": 1,\n",
        "    \"RB\": 2,\n",
        "    \"WR\": 3,\n",
        "    \"TE\": 2, # FLEX POSITION = TE\n",
        "    \"DST\": 1\n",
        "}\n",
        "\n",
        "\n",
        "\n",
        "# initialize the problem statement (Maximize)\n",
        "prob = LpProblem(\"Fantasy Football Lineup\", LpMaximize)\n",
        "\n",
        "# Create the variables\n",
        "_vars = {k: LpVariable.dict(k, v, cat=\"Binary\") for k, v in points.items()}\n",
        "\n",
        "# initialize lists to hold constraints\n",
        "score = []\n",
        "salary = []\n",
        "\n",
        "# Setting up the reward\n",
        "for k, v in _vars.items():\n",
        "    salary += lpSum([salaries[k][i] * _vars[k][i] for i in v])\n",
        "    score += lpSum([points[k][i] * _vars[k][i] for i in v])\n",
        "    prob += lpSum([_vars[k][i] for i in v]) <= pos_num_available[k]\n",
        "    \n",
        "\n",
        "# Salary Constraint\n",
        "prob += lpSum(salary) <= SALARY_CAP\n",
        "    \n",
        "# Objective Function\n",
        "prob += lpSum(score)\n",
        "\n",
        "prob.solve()\n",
        "\n",
        "summary(prob)"
      ],
      "execution_count": 0,
      "outputs": [
        {
          "output_type": "stream",
          "text": [
            "\n",
            "-----------------------------------------\n",
            "Linear Programming Optimization Solution:\n",
            "-----------------------------------------\n",
            "\n",
            "Variables:\n",
            "\n",
            "DST_Bears_ = 1.0\n",
            "QB_Patrick_Mahomes = 1.0\n",
            "RB_Alvin_Kamara = 1.0\n",
            "RB_Melvin_Gordon_III = 1.0\n",
            "TE_George_Kittle = 1.0\n",
            "TE_Jared_Cook = 1.0\n",
            "WR_Golden_Tate = 1.0\n",
            "WR_Keke_Coutee = 1.0\n",
            "WR_Tyler_Boyd = 1.0\n",
            "\n",
            "-----------------------------------------\n",
            "\n",
            "Salary:\n",
            "\n",
            "2600*1.0 + 6800*1.0 + 9600*1.0 + 8300*1.0 + 4200*1.0 + 4100*1.0 + 6600*1.0 + 3000*1.0 + 4600*1.0 = 49800.0\n",
            "\n",
            "-----------------------------------------\n",
            "\n",
            "Score:\n",
            "\n",
            "14.5*1.0 + 31.1*1.0 + 36.3*1.0 + 27.9*1.0 + 15.2*1.0 + 20.3*1.0 + 23.0*1.0 + 24.7*1.0 + 19.9*1.0 = 212.9\n",
            "\n",
            "-----------------------------------------\n",
            "\n",
            "Total Cost:  $49800\n",
            "Total Points: 213\n",
            "\n"
          ],
          "name": "stdout"
        }
      ]
    },
    {
      "cell_type": "markdown",
      "metadata": {
        "id": "h7ewPWrMBNYq",
        "colab_type": "text"
      },
      "source": [
        "# Check Results against Actuals"
      ]
    },
    {
      "cell_type": "markdown",
      "metadata": {
        "id": "zXnTAEZn4Xyt",
        "colab_type": "text"
      },
      "source": [
        "\n",
        "\n",
        "\n",
        "https://rotogrinders.com/resultsdb/site/draftkings/date/2018-09-30/sport/nfl/slate/5bb10388ed767f5afae3935e\n",
        "\n",
        "\n",
        "![Results](https://raw.githubusercontent.com/papagorgio23/Python101/master/Sept%2030%20DFS%20Results.png)"
      ]
    },
    {
      "cell_type": "code",
      "metadata": {
        "id": "0eooHWlmBPRx",
        "colab_type": "code",
        "colab": {}
      },
      "source": [
        ""
      ],
      "execution_count": 0,
      "outputs": []
    }
  ]
}