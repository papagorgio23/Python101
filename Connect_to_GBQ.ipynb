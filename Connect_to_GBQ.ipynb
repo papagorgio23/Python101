{
  "nbformat": 4,
  "nbformat_minor": 0,
  "metadata": {
    "colab": {
      "name": "Connect to GBQ.ipynb",
      "provenance": [],
      "collapsed_sections": [],
      "include_colab_link": true
    },
    "kernelspec": {
      "name": "python3",
      "display_name": "Python 3"
    }
  },
  "cells": [
    {
      "cell_type": "markdown",
      "metadata": {
        "id": "view-in-github",
        "colab_type": "text"
      },
      "source": [
        "<a href=\"https://colab.research.google.com/github/papagorgio23/Python101/blob/master/Connect_to_GBQ.ipynb\" target=\"_parent\"><img src=\"https://colab.research.google.com/assets/colab-badge.svg\" alt=\"Open In Colab\"/></a>"
      ]
    },
    {
      "cell_type": "markdown",
      "metadata": {
        "id": "raSQtIn4grDa",
        "colab_type": "text"
      },
      "source": [
        "# Connect to GBQ"
      ]
    },
    {
      "cell_type": "markdown",
      "metadata": {
        "id": "YmAcVKnXg3JA",
        "colab_type": "text"
      },
      "source": [
        "## Install Library"
      ]
    },
    {
      "cell_type": "code",
      "metadata": {
        "id": "8UVMPEFCgiZn",
        "colab_type": "code",
        "colab": {
          "base_uri": "https://localhost:8080/",
          "height": 360
        },
        "outputId": "bb6e092d-a993-42c0-ade2-dbfe7ff35ba4"
      },
      "source": [
        "# Installing Library\n",
        "!pip install pydata_google_auth"
      ],
      "execution_count": null,
      "outputs": [
        {
          "output_type": "stream",
          "text": [
            "Collecting pydata_google_auth\n",
            "  Downloading https://files.pythonhosted.org/packages/89/c5/03b68c114bc2c2bcaa2e40fdf269a14361fa75b70a09415e8bad65413b75/pydata_google_auth-0.1.3-py2.py3-none-any.whl\n",
            "Requirement already satisfied: google-auth-oauthlib in /usr/local/lib/python3.6/dist-packages (from pydata_google_auth) (0.4.0)\n",
            "Requirement already satisfied: setuptools in /usr/local/lib/python3.6/dist-packages (from pydata_google_auth) (41.0.1)\n",
            "Requirement already satisfied: google-auth in /usr/local/lib/python3.6/dist-packages (from pydata_google_auth) (1.4.2)\n",
            "Requirement already satisfied: requests-oauthlib>=0.7.0 in /usr/local/lib/python3.6/dist-packages (from google-auth-oauthlib->pydata_google_auth) (1.2.0)\n",
            "Requirement already satisfied: six>=1.9.0 in /usr/local/lib/python3.6/dist-packages (from google-auth->pydata_google_auth) (1.12.0)\n",
            "Requirement already satisfied: pyasn1-modules>=0.2.1 in /usr/local/lib/python3.6/dist-packages (from google-auth->pydata_google_auth) (0.2.5)\n",
            "Requirement already satisfied: rsa>=3.1.4 in /usr/local/lib/python3.6/dist-packages (from google-auth->pydata_google_auth) (4.0)\n",
            "Requirement already satisfied: cachetools>=2.0.0 in /usr/local/lib/python3.6/dist-packages (from google-auth->pydata_google_auth) (3.1.1)\n",
            "Requirement already satisfied: requests>=2.0.0 in /usr/local/lib/python3.6/dist-packages (from requests-oauthlib>=0.7.0->google-auth-oauthlib->pydata_google_auth) (2.21.0)\n",
            "Requirement already satisfied: oauthlib>=3.0.0 in /usr/local/lib/python3.6/dist-packages (from requests-oauthlib>=0.7.0->google-auth-oauthlib->pydata_google_auth) (3.0.2)\n",
            "Requirement already satisfied: pyasn1<0.5.0,>=0.4.1 in /usr/local/lib/python3.6/dist-packages (from pyasn1-modules>=0.2.1->google-auth->pydata_google_auth) (0.4.5)\n",
            "Requirement already satisfied: idna<2.9,>=2.5 in /usr/local/lib/python3.6/dist-packages (from requests>=2.0.0->requests-oauthlib>=0.7.0->google-auth-oauthlib->pydata_google_auth) (2.8)\n",
            "Requirement already satisfied: certifi>=2017.4.17 in /usr/local/lib/python3.6/dist-packages (from requests>=2.0.0->requests-oauthlib>=0.7.0->google-auth-oauthlib->pydata_google_auth) (2019.6.16)\n",
            "Requirement already satisfied: urllib3<1.25,>=1.21.1 in /usr/local/lib/python3.6/dist-packages (from requests>=2.0.0->requests-oauthlib>=0.7.0->google-auth-oauthlib->pydata_google_auth) (1.24.3)\n",
            "Requirement already satisfied: chardet<3.1.0,>=3.0.2 in /usr/local/lib/python3.6/dist-packages (from requests>=2.0.0->requests-oauthlib>=0.7.0->google-auth-oauthlib->pydata_google_auth) (3.0.4)\n",
            "Installing collected packages: pydata-google-auth\n",
            "Successfully installed pydata-google-auth-0.1.3\n"
          ],
          "name": "stdout"
        }
      ]
    },
    {
      "cell_type": "markdown",
      "metadata": {
        "id": "BBlKswCCg6tK",
        "colab_type": "text"
      },
      "source": [
        "## Get Credentials"
      ]
    },
    {
      "cell_type": "code",
      "metadata": {
        "id": "ayRZaPmtgsk1",
        "colab_type": "code",
        "colab": {
          "base_uri": "https://localhost:8080/",
          "height": 71
        },
        "outputId": "32793162-9b33-467f-dd5d-68bedcdfd7b8"
      },
      "source": [
        "# Using GBQ shout Out to Hughes\n",
        "import pandas_gbq\n",
        "import pydata_google_auth\n",
        "\n",
        "SCOPES = [\n",
        "    'https://www.googleapis.com/auth/cloud-platform',\n",
        "    'https://www.googleapis.com/auth/drive',\n",
        "]\n",
        "\n",
        "credentials = pydata_google_auth.get_user_credentials(\n",
        "    SCOPES,\n",
        "    auth_local_webserver=False)"
      ],
      "execution_count": null,
      "outputs": [
        {
          "output_type": "stream",
          "text": [
            "Please visit this URL to authorize this application: https://accounts.google.com/o/oauth2/auth?response_type=code&client_id=262006177488-3425ks60hkk80fssi9vpohv88g6q1iqd.apps.googleusercontent.com&redirect_uri=urn%3Aietf%3Awg%3Aoauth%3A2.0%3Aoob&scope=https%3A%2F%2Fwww.googleapis.com%2Fauth%2Fcloud-platform+https%3A%2F%2Fwww.googleapis.com%2Fauth%2Fdrive&state=UBMHHVaWmwAiEjWXV8K2Kl52ShsKGv&prompt=consent&access_type=offline&code_challenge=ryIzfNW3BDY7I0cgtzJPRKDEhPt_vONcyqG_rdUuWzc&code_challenge_method=S256\n",
            "Enter the authorization code: 4/hwGli6CHtTeRad3gl3jgS8pp2VW_60VLsard6E0QUKcgzu_VDHMicHI\n"
          ],
          "name": "stdout"
        }
      ]
    },
    {
      "cell_type": "markdown",
      "metadata": {
        "id": "PbgBZafNhLSD",
        "colab_type": "text"
      },
      "source": [
        "## Write SQL Script"
      ]
    },
    {
      "cell_type": "code",
      "metadata": {
        "id": "YnWAhx7-g_n9",
        "colab_type": "code",
        "colab": {}
      },
      "source": [
        "sql = \"\"\"\n",
        "\n",
        "SELECT *\n",
        "FROM `ffn-dw-bigquery-prd.Credit_Views.Check_Sales_NPV_Model_Inputs`\n",
        "LIMIT 1000\n",
        "\n",
        "\"\"\""
      ],
      "execution_count": null,
      "outputs": []
    },
    {
      "cell_type": "markdown",
      "metadata": {
        "id": "4PwrtrBahbjx",
        "colab_type": "text"
      },
      "source": [
        "## Execute Query"
      ]
    },
    {
      "cell_type": "markdown",
      "metadata": {
        "id": "ZyqsG1Kyhzfk",
        "colab_type": "text"
      },
      "source": [
        "The first query it will make you authenticate one more time. After that you can run as many queries as you need and you won't have to authenticate during the session."
      ]
    },
    {
      "cell_type": "code",
      "metadata": {
        "id": "faY6txClhayx",
        "colab_type": "code",
        "colab": {
          "base_uri": "https://localhost:8080/",
          "height": 71
        },
        "outputId": "efffddf6-996c-4985-b46c-8ff849ff4f5e"
      },
      "source": [
        "df = pandas_gbq.read_gbq(sql, project_id='ffn-dw-bigquery-prd', credentials=credentials, dialect='standard')"
      ],
      "execution_count": null,
      "outputs": [
        {
          "output_type": "stream",
          "text": [
            "Please visit this URL to authorize this application: https://accounts.google.com/o/oauth2/auth?response_type=code&client_id=495642085510-k0tmvj2m941jhre2nbqka17vqpjfddtd.apps.googleusercontent.com&redirect_uri=urn%3Aietf%3Awg%3Aoauth%3A2.0%3Aoob&scope=https%3A%2F%2Fwww.googleapis.com%2Fauth%2Fbigquery&state=7qPWzlVGpwevbKZNt3mNvKrfwW6qVY&prompt=consent&access_type=offline&code_challenge=s0KW7LJ62EXryteyKR07OuuhW8Sa52-UjfJEafjCueI&code_challenge_method=S256\n",
            "Enter the authorization code: 4/hwHYtRxWcgjboBKoHItcHbdEFzIHZWd_yHp77zdE7W4WfuLIwniZFDw\n"
          ],
          "name": "stdout"
        }
      ]
    },
    {
      "cell_type": "code",
      "metadata": {
        "id": "xuxfcdyQhnIv",
        "colab_type": "code",
        "colab": {
          "base_uri": "https://localhost:8080/",
          "height": 309
        },
        "outputId": "97294b8a-48a0-4bba-8544-50e636aa06a4"
      },
      "source": [
        "df.head()"
      ],
      "execution_count": null,
      "outputs": [
        {
          "output_type": "execute_result",
          "data": {
            "text/html": [
              "<div>\n",
              "<style scoped>\n",
              "    .dataframe tbody tr th:only-of-type {\n",
              "        vertical-align: middle;\n",
              "    }\n",
              "\n",
              "    .dataframe tbody tr th {\n",
              "        vertical-align: top;\n",
              "    }\n",
              "\n",
              "    .dataframe thead th {\n",
              "        text-align: right;\n",
              "    }\n",
              "</style>\n",
              "<table border=\"1\" class=\"dataframe\">\n",
              "  <thead>\n",
              "    <tr style=\"text-align: right;\">\n",
              "      <th></th>\n",
              "      <th>name</th>\n",
              "      <th>loan_application_id</th>\n",
              "      <th>co_app_loan_application_id</th>\n",
              "      <th>lead_type__c</th>\n",
              "      <th>createddate</th>\n",
              "      <th>prequal_submitted_date__c</th>\n",
              "      <th>full_app_submitted_date__c</th>\n",
              "      <th>Loan_Officer_Assigned</th>\n",
              "      <th>date_funded__c</th>\n",
              "      <th>funded_flag</th>\n",
              "      <th>loan_officer_name__c</th>\n",
              "      <th>amount_of_loan_requested__c</th>\n",
              "      <th>first_amount_of_loan_requested</th>\n",
              "      <th>verifiable_annual_income__c</th>\n",
              "      <th>first_income_p1</th>\n",
              "      <th>co_app_verifiable_annual_income__c</th>\n",
              "      <th>first_income_p2</th>\n",
              "      <th>co_app</th>\n",
              "      <th>first_coapp</th>\n",
              "      <th>income_sum</th>\n",
              "      <th>first_income_sum</th>\n",
              "      <th>c_LTI</th>\n",
              "      <th>First_LTI</th>\n",
              "      <th>loan_use__c</th>\n",
              "      <th>first_loan_use</th>\n",
              "      <th>employment_status__c</th>\n",
              "      <th>start_employment_status</th>\n",
              "      <th>ndi_ratio__c</th>\n",
              "      <th>first_ndi_ratio__c</th>\n",
              "      <th>fico__c</th>\n",
              "      <th>first_FICO</th>\n",
              "      <th>utm_source__c</th>\n",
              "      <th>bcc0300__c</th>\n",
              "      <th>first_bcc0300__c</th>\n",
              "    </tr>\n",
              "  </thead>\n",
              "  <tbody>\n",
              "    <tr>\n",
              "      <th>0</th>\n",
              "      <td>App-01990572</td>\n",
              "      <td>1646009</td>\n",
              "      <td>None</td>\n",
              "      <td>Web</td>\n",
              "      <td>2018-05-09 18:08:29</td>\n",
              "      <td>2018-05-09 18:08:31</td>\n",
              "      <td>NaT</td>\n",
              "      <td>0</td>\n",
              "      <td>None</td>\n",
              "      <td>0</td>\n",
              "      <td>None</td>\n",
              "      <td>30000.0</td>\n",
              "      <td>30000.0</td>\n",
              "      <td>55000.0</td>\n",
              "      <td>55000</td>\n",
              "      <td>NaN</td>\n",
              "      <td>None</td>\n",
              "      <td>0</td>\n",
              "      <td>0</td>\n",
              "      <td>55000.0</td>\n",
              "      <td>55000</td>\n",
              "      <td>0.545455</td>\n",
              "      <td>0.545455</td>\n",
              "      <td>Debt Consolidation</td>\n",
              "      <td>None</td>\n",
              "      <td>Full-time</td>\n",
              "      <td>0</td>\n",
              "      <td>53.2</td>\n",
              "      <td>0.5316990732400908</td>\n",
              "      <td>760.0</td>\n",
              "      <td>760.0</td>\n",
              "      <td>credible</td>\n",
              "      <td>8.0</td>\n",
              "      <td>8</td>\n",
              "    </tr>\n",
              "    <tr>\n",
              "      <th>1</th>\n",
              "      <td>App-01953439</td>\n",
              "      <td>1619568</td>\n",
              "      <td>None</td>\n",
              "      <td>Web</td>\n",
              "      <td>2018-05-02 17:54:49</td>\n",
              "      <td>2018-05-02 17:54:50</td>\n",
              "      <td>NaT</td>\n",
              "      <td>1</td>\n",
              "      <td>None</td>\n",
              "      <td>0</td>\n",
              "      <td>Robert Hart</td>\n",
              "      <td>15000.0</td>\n",
              "      <td>15000.0</td>\n",
              "      <td>90820.0</td>\n",
              "      <td>90820</td>\n",
              "      <td>NaN</td>\n",
              "      <td>None</td>\n",
              "      <td>0</td>\n",
              "      <td>0</td>\n",
              "      <td>90820.0</td>\n",
              "      <td>90820</td>\n",
              "      <td>0.165162</td>\n",
              "      <td>0.165162</td>\n",
              "      <td>Debt Consolidation</td>\n",
              "      <td>None</td>\n",
              "      <td>Full-time</td>\n",
              "      <td>0</td>\n",
              "      <td>45.0</td>\n",
              "      <td>0.45024678508089017</td>\n",
              "      <td>720.0</td>\n",
              "      <td>720.0</td>\n",
              "      <td>Lending Tree</td>\n",
              "      <td>8.0</td>\n",
              "      <td>8</td>\n",
              "    </tr>\n",
              "    <tr>\n",
              "      <th>2</th>\n",
              "      <td>App-04009550</td>\n",
              "      <td>3042388</td>\n",
              "      <td>None</td>\n",
              "      <td>Web</td>\n",
              "      <td>2019-03-05 19:50:25</td>\n",
              "      <td>2019-03-05 19:50:54</td>\n",
              "      <td>NaT</td>\n",
              "      <td>0</td>\n",
              "      <td>None</td>\n",
              "      <td>0</td>\n",
              "      <td>None</td>\n",
              "      <td>23000.0</td>\n",
              "      <td>23000.0</td>\n",
              "      <td>50000.0</td>\n",
              "      <td>50000</td>\n",
              "      <td>NaN</td>\n",
              "      <td>None</td>\n",
              "      <td>0</td>\n",
              "      <td>0</td>\n",
              "      <td>50000.0</td>\n",
              "      <td>50000</td>\n",
              "      <td>0.460000</td>\n",
              "      <td>0.460000</td>\n",
              "      <td>Debt Consolidation</td>\n",
              "      <td>Debt Consolidation</td>\n",
              "      <td>Full-time</td>\n",
              "      <td>0</td>\n",
              "      <td>63.4</td>\n",
              "      <td>0.6344939393931661</td>\n",
              "      <td>733.0</td>\n",
              "      <td>733.0</td>\n",
              "      <td>even</td>\n",
              "      <td>6.0</td>\n",
              "      <td>6</td>\n",
              "    </tr>\n",
              "    <tr>\n",
              "      <th>3</th>\n",
              "      <td>App-00372808</td>\n",
              "      <td>272997</td>\n",
              "      <td>None</td>\n",
              "      <td>Web</td>\n",
              "      <td>2016-03-25 17:00:49</td>\n",
              "      <td>2016-03-25 17:00:50</td>\n",
              "      <td>NaT</td>\n",
              "      <td>0</td>\n",
              "      <td>None</td>\n",
              "      <td>0</td>\n",
              "      <td>None</td>\n",
              "      <td>30000.0</td>\n",
              "      <td>30000.0</td>\n",
              "      <td>60000.0</td>\n",
              "      <td>60000</td>\n",
              "      <td>NaN</td>\n",
              "      <td>None</td>\n",
              "      <td>0</td>\n",
              "      <td>0</td>\n",
              "      <td>60000.0</td>\n",
              "      <td>60000</td>\n",
              "      <td>0.500000</td>\n",
              "      <td>0.500000</td>\n",
              "      <td>Debt Consolidation</td>\n",
              "      <td>None</td>\n",
              "      <td>Full-time</td>\n",
              "      <td>None</td>\n",
              "      <td>42.6</td>\n",
              "      <td>0.4262604680456914</td>\n",
              "      <td>487.0</td>\n",
              "      <td>487.0</td>\n",
              "      <td>247</td>\n",
              "      <td>1.0</td>\n",
              "      <td>1</td>\n",
              "    </tr>\n",
              "    <tr>\n",
              "      <th>4</th>\n",
              "      <td>App-01694177</td>\n",
              "      <td>1414289</td>\n",
              "      <td>None</td>\n",
              "      <td>Web</td>\n",
              "      <td>2018-02-26 22:11:22</td>\n",
              "      <td>2018-02-26 22:11:25</td>\n",
              "      <td>NaT</td>\n",
              "      <td>0</td>\n",
              "      <td>None</td>\n",
              "      <td>0</td>\n",
              "      <td>None</td>\n",
              "      <td>12000.0</td>\n",
              "      <td>NaN</td>\n",
              "      <td>50000.0</td>\n",
              "      <td>50000</td>\n",
              "      <td>NaN</td>\n",
              "      <td>None</td>\n",
              "      <td>0</td>\n",
              "      <td>0</td>\n",
              "      <td>50000.0</td>\n",
              "      <td>50000</td>\n",
              "      <td>0.240000</td>\n",
              "      <td>0.240000</td>\n",
              "      <td>Credit Card Refinancing</td>\n",
              "      <td>None</td>\n",
              "      <td>Full-time</td>\n",
              "      <td>0</td>\n",
              "      <td>34.0</td>\n",
              "      <td>0.33983614609207935</td>\n",
              "      <td>625.0</td>\n",
              "      <td>625.0</td>\n",
              "      <td>Lending Tree</td>\n",
              "      <td>2.0</td>\n",
              "      <td>2</td>\n",
              "    </tr>\n",
              "  </tbody>\n",
              "</table>\n",
              "</div>"
            ],
            "text/plain": [
              "           name loan_application_id  ... bcc0300__c first_bcc0300__c\n",
              "0  App-01990572             1646009  ...        8.0                8\n",
              "1  App-01953439             1619568  ...        8.0                8\n",
              "2  App-04009550             3042388  ...        6.0                6\n",
              "3  App-00372808              272997  ...        1.0                1\n",
              "4  App-01694177             1414289  ...        2.0                2\n",
              "\n",
              "[5 rows x 34 columns]"
            ]
          },
          "metadata": {
            "tags": []
          },
          "execution_count": 6
        }
      ]
    },
    {
      "cell_type": "code",
      "metadata": {
        "id": "rkDClebhhyCp",
        "colab_type": "code",
        "colab": {}
      },
      "source": [
        ""
      ],
      "execution_count": null,
      "outputs": []
    }
  ]
}