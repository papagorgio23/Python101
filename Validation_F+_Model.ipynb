{
  "nbformat": 4,
  "nbformat_minor": 0,
  "metadata": {
    "colab": {
      "name": "Validation F+ Model.ipynb",
      "provenance": [],
      "collapsed_sections": [],
      "toc_visible": true,
      "include_colab_link": true
    },
    "kernelspec": {
      "name": "python3",
      "display_name": "Python 3"
    }
  },
  "cells": [
    {
      "cell_type": "markdown",
      "metadata": {
        "id": "view-in-github",
        "colab_type": "text"
      },
      "source": [
        "<a href=\"https://colab.research.google.com/github/papagorgio23/Python101/blob/master/Validation_F%2B_Model.ipynb\" target=\"_parent\"><img src=\"https://colab.research.google.com/assets/colab-badge.svg\" alt=\"Open In Colab\"/></a>"
      ]
    },
    {
      "cell_type": "markdown",
      "metadata": {
        "id": "cdF7iaugCiWf",
        "colab_type": "text"
      },
      "source": [
        "# Validate F+ Lead Scoring 2.0 Model"
      ]
    },
    {
      "cell_type": "markdown",
      "metadata": {
        "id": "TCITBhqhCo3K",
        "colab_type": "text"
      },
      "source": [
        "## Load Data"
      ]
    },
    {
      "cell_type": "code",
      "metadata": {
        "id": "Du9OeQNw632D",
        "colab_type": "code",
        "colab": {
          "base_uri": "https://localhost:8080/",
          "height": 309
        },
        "outputId": "2ed46c62-3cf7-4529-b665-5c094c914ba7"
      },
      "source": [
        "# Installing Library\n",
        "!pip install pydata_google_auth"
      ],
      "execution_count": null,
      "outputs": [
        {
          "output_type": "stream",
          "text": [
            "Requirement already satisfied: pydata_google_auth in /usr/local/lib/python3.6/dist-packages (0.3.0)\n",
            "Requirement already satisfied: google-auth-oauthlib in /usr/local/lib/python3.6/dist-packages (from pydata_google_auth) (0.4.1)\n",
            "Requirement already satisfied: setuptools in /usr/local/lib/python3.6/dist-packages (from pydata_google_auth) (45.1.0)\n",
            "Requirement already satisfied: google-auth in /usr/local/lib/python3.6/dist-packages (from pydata_google_auth) (1.7.2)\n",
            "Requirement already satisfied: requests-oauthlib>=0.7.0 in /usr/local/lib/python3.6/dist-packages (from google-auth-oauthlib->pydata_google_auth) (1.3.0)\n",
            "Requirement already satisfied: pyasn1-modules>=0.2.1 in /usr/local/lib/python3.6/dist-packages (from google-auth->pydata_google_auth) (0.2.8)\n",
            "Requirement already satisfied: cachetools<3.2,>=2.0.0 in /usr/local/lib/python3.6/dist-packages (from google-auth->pydata_google_auth) (3.1.1)\n",
            "Requirement already satisfied: six>=1.9.0 in /usr/local/lib/python3.6/dist-packages (from google-auth->pydata_google_auth) (1.12.0)\n",
            "Requirement already satisfied: rsa<4.1,>=3.1.4 in /usr/local/lib/python3.6/dist-packages (from google-auth->pydata_google_auth) (4.0)\n",
            "Requirement already satisfied: oauthlib>=3.0.0 in /usr/local/lib/python3.6/dist-packages (from requests-oauthlib>=0.7.0->google-auth-oauthlib->pydata_google_auth) (3.1.0)\n",
            "Requirement already satisfied: requests>=2.0.0 in /usr/local/lib/python3.6/dist-packages (from requests-oauthlib>=0.7.0->google-auth-oauthlib->pydata_google_auth) (2.21.0)\n",
            "Requirement already satisfied: pyasn1<0.5.0,>=0.4.6 in /usr/local/lib/python3.6/dist-packages (from pyasn1-modules>=0.2.1->google-auth->pydata_google_auth) (0.4.8)\n",
            "Requirement already satisfied: chardet<3.1.0,>=3.0.2 in /usr/local/lib/python3.6/dist-packages (from requests>=2.0.0->requests-oauthlib>=0.7.0->google-auth-oauthlib->pydata_google_auth) (3.0.4)\n",
            "Requirement already satisfied: certifi>=2017.4.17 in /usr/local/lib/python3.6/dist-packages (from requests>=2.0.0->requests-oauthlib>=0.7.0->google-auth-oauthlib->pydata_google_auth) (2019.11.28)\n",
            "Requirement already satisfied: idna<2.9,>=2.5 in /usr/local/lib/python3.6/dist-packages (from requests>=2.0.0->requests-oauthlib>=0.7.0->google-auth-oauthlib->pydata_google_auth) (2.8)\n",
            "Requirement already satisfied: urllib3<1.25,>=1.21.1 in /usr/local/lib/python3.6/dist-packages (from requests>=2.0.0->requests-oauthlib>=0.7.0->google-auth-oauthlib->pydata_google_auth) (1.24.3)\n"
          ],
          "name": "stdout"
        }
      ]
    },
    {
      "cell_type": "code",
      "metadata": {
        "id": "YcbmerBR7WFr",
        "colab_type": "code",
        "colab": {
          "base_uri": "https://localhost:8080/",
          "height": 71
        },
        "outputId": "db170d8a-7156-4efb-d152-4d563fc55471"
      },
      "source": [
        "# Using GBQ shout Out to Hughes\n",
        "import pandas_gbq\n",
        "import pydata_google_auth\n",
        "\n",
        "SCOPES = [\n",
        "    'https://www.googleapis.com/auth/cloud-platform',\n",
        "    'https://www.googleapis.com/auth/drive',\n",
        "]\n",
        "\n",
        "credentials = pydata_google_auth.get_user_credentials(\n",
        "    SCOPES,\n",
        "    auth_local_webserver=False)"
      ],
      "execution_count": null,
      "outputs": [
        {
          "output_type": "stream",
          "text": [
            "Please visit this URL to authorize this application: https://accounts.google.com/o/oauth2/auth?response_type=code&client_id=262006177488-3425ks60hkk80fssi9vpohv88g6q1iqd.apps.googleusercontent.com&redirect_uri=urn%3Aietf%3Awg%3Aoauth%3A2.0%3Aoob&scope=https%3A%2F%2Fwww.googleapis.com%2Fauth%2Fcloud-platform+https%3A%2F%2Fwww.googleapis.com%2Fauth%2Fdrive&state=gEyhUDQUFVmiroOIt451qREg7hQNgE&prompt=consent&access_type=offline\n",
            "Enter the authorization code: 4/wwF9w2XOQ68My0P2PC1HEs6q7KmkhGatiMs8A9TMzs1FVZ-p8kOIVRk\n"
          ],
          "name": "stdout"
        }
      ]
    },
    {
      "cell_type": "code",
      "metadata": {
        "id": "QX6hpC2g7gTJ",
        "colab_type": "code",
        "colab": {}
      },
      "source": [
        "sql = \"\"\"\n",
        "\n",
        "SELECT \n",
        "    a.id\n",
        "    ,m.name\n",
        "    ,m.loan_application_id\n",
        "    ,m.lead_type__c\n",
        "    ,m.createddate\n",
        "    ,m.prequal_submitted_date__c\n",
        "    ,m.full_app_submitted_date__c\n",
        "    ,m.Loan_Officer_Assigned\n",
        "    ,m.date_funded__c\n",
        "    ,m.funded_flag\n",
        "    ,m.loan_officer_name__c\n",
        "    ,m.amount_of_loan_requested__c\n",
        "    ,m.first_amount_of_loan_requested\n",
        "    ,m.verifiable_annual_income__c\n",
        "    ,m.first_income_p1\n",
        "    ,m.co_app_verifiable_annual_income__c\n",
        "    ,m.first_income_p2\n",
        "    ,m.co_app\n",
        "    ,m.first_coapp\n",
        "    ,m.income_sum\n",
        "    ,CAST(m.first_income_sum AS INT64) AS first_income_sum\n",
        "    ,m.c_LTI\n",
        "    ,m.First_LTI\n",
        "    ,m.loan_use__c\n",
        "    ,m.first_loan_use\n",
        "    ,m.employment_status__c\n",
        "    ,m.ndi_ratio__c\n",
        "    ,m.first_ndi_ratio__c\n",
        "    ,m.fico__c\n",
        "    ,m.first_FICO\n",
        "    ,m.utm_source__c\n",
        "    ,m.bcc0300__c\n",
        "    ,m.first_bcc0300__c\n",
        "    ,a.interest_rate__c\n",
        "    ,a.risk_group__c\n",
        "    ,a.final_risk_group__c\n",
        "    ,a.risk_group_p1__c\n",
        "    \n",
        "FROM \n",
        "    `ffn-dw-bigquery-prd.Credit_Views.Check_Sales_NPV_Model_Inputs` m\n",
        "    \n",
        "LEFT JOIN \n",
        "    `freedom-dw.salesforce_ffam.application__c` a ON m.name = a.name\n",
        "\n",
        "WHERE \n",
        "    m.createddate BETWEEN '2019-05-01' AND '2019-10-15'\n",
        "\"\"\""
      ],
      "execution_count": null,
      "outputs": []
    },
    {
      "cell_type": "code",
      "metadata": {
        "id": "hEZwN2Yi79m4",
        "colab_type": "code",
        "colab": {}
      },
      "source": [
        "df1 = pandas_gbq.read_gbq(sql, project_id='ffn-dw-bigquery-prd', credentials=credentials, dialect='standard')\n",
        "\n",
        "df = df1"
      ],
      "execution_count": null,
      "outputs": []
    },
    {
      "cell_type": "code",
      "metadata": {
        "id": "rIUpFkFi8Mxv",
        "colab_type": "code",
        "colab": {
          "base_uri": "https://localhost:8080/",
          "height": 305
        },
        "outputId": "810c8300-dfa8-47d6-c9b9-c5040c449a0c"
      },
      "source": [
        "df1.head()"
      ],
      "execution_count": null,
      "outputs": [
        {
          "output_type": "execute_result",
          "data": {
            "text/html": [
              "<div>\n",
              "<style scoped>\n",
              "    .dataframe tbody tr th:only-of-type {\n",
              "        vertical-align: middle;\n",
              "    }\n",
              "\n",
              "    .dataframe tbody tr th {\n",
              "        vertical-align: top;\n",
              "    }\n",
              "\n",
              "    .dataframe thead th {\n",
              "        text-align: right;\n",
              "    }\n",
              "</style>\n",
              "<table border=\"1\" class=\"dataframe\">\n",
              "  <thead>\n",
              "    <tr style=\"text-align: right;\">\n",
              "      <th></th>\n",
              "      <th>id</th>\n",
              "      <th>name</th>\n",
              "      <th>loan_application_id</th>\n",
              "      <th>lead_type__c</th>\n",
              "      <th>createddate</th>\n",
              "      <th>prequal_submitted_date__c</th>\n",
              "      <th>full_app_submitted_date__c</th>\n",
              "      <th>Loan_Officer_Assigned</th>\n",
              "      <th>date_funded__c</th>\n",
              "      <th>funded_flag</th>\n",
              "      <th>loan_officer_name__c</th>\n",
              "      <th>amount_of_loan_requested__c</th>\n",
              "      <th>first_amount_of_loan_requested</th>\n",
              "      <th>verifiable_annual_income__c</th>\n",
              "      <th>first_income_p1</th>\n",
              "      <th>co_app_verifiable_annual_income__c</th>\n",
              "      <th>first_income_p2</th>\n",
              "      <th>co_app</th>\n",
              "      <th>first_coapp</th>\n",
              "      <th>income_sum</th>\n",
              "      <th>first_income_sum</th>\n",
              "      <th>c_LTI</th>\n",
              "      <th>First_LTI</th>\n",
              "      <th>loan_use__c</th>\n",
              "      <th>first_loan_use</th>\n",
              "      <th>employment_status__c</th>\n",
              "      <th>ndi_ratio__c</th>\n",
              "      <th>first_ndi_ratio__c</th>\n",
              "      <th>fico__c</th>\n",
              "      <th>first_FICO</th>\n",
              "      <th>utm_source__c</th>\n",
              "      <th>bcc0300__c</th>\n",
              "      <th>first_bcc0300__c</th>\n",
              "      <th>interest_rate__c</th>\n",
              "      <th>risk_group__c</th>\n",
              "      <th>final_risk_group__c</th>\n",
              "      <th>risk_group_p1__c</th>\n",
              "    </tr>\n",
              "  </thead>\n",
              "  <tbody>\n",
              "    <tr>\n",
              "      <th>0</th>\n",
              "      <td>a010f00000TBhXGAA1</td>\n",
              "      <td>App-04935797</td>\n",
              "      <td>3639993.0</td>\n",
              "      <td>Web</td>\n",
              "      <td>2019-06-10 15:00:48+00:00</td>\n",
              "      <td>2019-06-10 15:00:49+00:00</td>\n",
              "      <td>NaT</td>\n",
              "      <td>0</td>\n",
              "      <td>NaT</td>\n",
              "      <td>0</td>\n",
              "      <td>None</td>\n",
              "      <td>20000.0</td>\n",
              "      <td>NaN</td>\n",
              "      <td>60000.0</td>\n",
              "      <td>60000</td>\n",
              "      <td>NaN</td>\n",
              "      <td>None</td>\n",
              "      <td>0</td>\n",
              "      <td>0</td>\n",
              "      <td>60000.0</td>\n",
              "      <td>60000.0</td>\n",
              "      <td>0.333333</td>\n",
              "      <td>0.333333</td>\n",
              "      <td>Debt Consolidation</td>\n",
              "      <td>Debt Consolidation</td>\n",
              "      <td>Retired</td>\n",
              "      <td>NaN</td>\n",
              "      <td>None</td>\n",
              "      <td>NaN</td>\n",
              "      <td>None</td>\n",
              "      <td>credible</td>\n",
              "      <td>NaN</td>\n",
              "      <td>12.0</td>\n",
              "      <td>NaN</td>\n",
              "      <td>NaN</td>\n",
              "      <td>NaN</td>\n",
              "      <td>NaN</td>\n",
              "    </tr>\n",
              "    <tr>\n",
              "      <th>1</th>\n",
              "      <td>a010f00000TBhlwAAD</td>\n",
              "      <td>App-04935988</td>\n",
              "      <td>NaN</td>\n",
              "      <td>Phone</td>\n",
              "      <td>2019-06-10 15:15:42+00:00</td>\n",
              "      <td>2019-06-10 15:15:44+00:00</td>\n",
              "      <td>NaT</td>\n",
              "      <td>0</td>\n",
              "      <td>NaT</td>\n",
              "      <td>0</td>\n",
              "      <td>None</td>\n",
              "      <td>22000.0</td>\n",
              "      <td>NaN</td>\n",
              "      <td>78000.0</td>\n",
              "      <td>78000</td>\n",
              "      <td>NaN</td>\n",
              "      <td>None</td>\n",
              "      <td>0</td>\n",
              "      <td>0</td>\n",
              "      <td>78000.0</td>\n",
              "      <td>78000.0</td>\n",
              "      <td>0.282051</td>\n",
              "      <td>0.282051</td>\n",
              "      <td>Debt Consolidation</td>\n",
              "      <td>Debt Consolidation</td>\n",
              "      <td>Full-time</td>\n",
              "      <td>NaN</td>\n",
              "      <td>None</td>\n",
              "      <td>NaN</td>\n",
              "      <td>None</td>\n",
              "      <td>aff_dcg</td>\n",
              "      <td>NaN</td>\n",
              "      <td>NaN</td>\n",
              "      <td>NaN</td>\n",
              "      <td>NaN</td>\n",
              "      <td>NaN</td>\n",
              "      <td>NaN</td>\n",
              "    </tr>\n",
              "    <tr>\n",
              "      <th>2</th>\n",
              "      <td>a010f00000Wt7Q1AAJ</td>\n",
              "      <td>App-04846155</td>\n",
              "      <td>3074664.0</td>\n",
              "      <td>Web</td>\n",
              "      <td>2019-06-01 20:04:10+00:00</td>\n",
              "      <td>2019-06-01 20:04:12+00:00</td>\n",
              "      <td>NaT</td>\n",
              "      <td>0</td>\n",
              "      <td>NaT</td>\n",
              "      <td>0</td>\n",
              "      <td>None</td>\n",
              "      <td>10000.0</td>\n",
              "      <td>NaN</td>\n",
              "      <td>108000.0</td>\n",
              "      <td>108000</td>\n",
              "      <td>NaN</td>\n",
              "      <td>None</td>\n",
              "      <td>0</td>\n",
              "      <td>0</td>\n",
              "      <td>108000.0</td>\n",
              "      <td>108000.0</td>\n",
              "      <td>0.092593</td>\n",
              "      <td>0.092593</td>\n",
              "      <td>Debt Consolidation</td>\n",
              "      <td>Debt Consolidation</td>\n",
              "      <td>Full-time</td>\n",
              "      <td>NaN</td>\n",
              "      <td>None</td>\n",
              "      <td>NaN</td>\n",
              "      <td>None</td>\n",
              "      <td>Lending Tree</td>\n",
              "      <td>NaN</td>\n",
              "      <td>7.0</td>\n",
              "      <td>NaN</td>\n",
              "      <td>NaN</td>\n",
              "      <td>NaN</td>\n",
              "      <td>NaN</td>\n",
              "    </tr>\n",
              "    <tr>\n",
              "      <th>3</th>\n",
              "      <td>a010f00000ZA8I3AAL</td>\n",
              "      <td>App-06076381</td>\n",
              "      <td>NaN</td>\n",
              "      <td>Web</td>\n",
              "      <td>2019-09-24 19:26:56+00:00</td>\n",
              "      <td>2019-09-24 19:26:59+00:00</td>\n",
              "      <td>NaT</td>\n",
              "      <td>0</td>\n",
              "      <td>NaT</td>\n",
              "      <td>0</td>\n",
              "      <td>None</td>\n",
              "      <td>19000.0</td>\n",
              "      <td>NaN</td>\n",
              "      <td>59000.0</td>\n",
              "      <td>59000</td>\n",
              "      <td>NaN</td>\n",
              "      <td>None</td>\n",
              "      <td>0</td>\n",
              "      <td>0</td>\n",
              "      <td>59000.0</td>\n",
              "      <td>59000.0</td>\n",
              "      <td>0.322034</td>\n",
              "      <td>0.322034</td>\n",
              "      <td>Major Purchase</td>\n",
              "      <td>Major Purchase</td>\n",
              "      <td>Full-time</td>\n",
              "      <td>NaN</td>\n",
              "      <td>None</td>\n",
              "      <td>NaN</td>\n",
              "      <td>None</td>\n",
              "      <td>Personalloanpro</td>\n",
              "      <td>NaN</td>\n",
              "      <td>NaN</td>\n",
              "      <td>NaN</td>\n",
              "      <td>NaN</td>\n",
              "      <td>NaN</td>\n",
              "      <td>NaN</td>\n",
              "    </tr>\n",
              "    <tr>\n",
              "      <th>4</th>\n",
              "      <td>a010f00000YlgUmAAJ</td>\n",
              "      <td>App-05905947</td>\n",
              "      <td>NaN</td>\n",
              "      <td>Phone</td>\n",
              "      <td>2019-09-06 19:10:33+00:00</td>\n",
              "      <td>2019-09-06 19:10:35+00:00</td>\n",
              "      <td>NaT</td>\n",
              "      <td>0</td>\n",
              "      <td>NaT</td>\n",
              "      <td>0</td>\n",
              "      <td>None</td>\n",
              "      <td>40000.0</td>\n",
              "      <td>NaN</td>\n",
              "      <td>24000.0</td>\n",
              "      <td>24000</td>\n",
              "      <td>NaN</td>\n",
              "      <td>None</td>\n",
              "      <td>0</td>\n",
              "      <td>0</td>\n",
              "      <td>24000.0</td>\n",
              "      <td>24000.0</td>\n",
              "      <td>1.666667</td>\n",
              "      <td>1.666667</td>\n",
              "      <td>Debt Consolidation</td>\n",
              "      <td>Debt Consolidation</td>\n",
              "      <td>Full-time</td>\n",
              "      <td>NaN</td>\n",
              "      <td>None</td>\n",
              "      <td>NaN</td>\n",
              "      <td>None</td>\n",
              "      <td>Rescue</td>\n",
              "      <td>NaN</td>\n",
              "      <td>NaN</td>\n",
              "      <td>NaN</td>\n",
              "      <td>NaN</td>\n",
              "      <td>NaN</td>\n",
              "      <td>NaN</td>\n",
              "    </tr>\n",
              "  </tbody>\n",
              "</table>\n",
              "</div>"
            ],
            "text/plain": [
              "                   id          name  ...  final_risk_group__c risk_group_p1__c\n",
              "0  a010f00000TBhXGAA1  App-04935797  ...                  NaN              NaN\n",
              "1  a010f00000TBhlwAAD  App-04935988  ...                  NaN              NaN\n",
              "2  a010f00000Wt7Q1AAJ  App-04846155  ...                  NaN              NaN\n",
              "3  a010f00000ZA8I3AAL  App-06076381  ...                  NaN              NaN\n",
              "4  a010f00000YlgUmAAJ  App-05905947  ...                  NaN              NaN\n",
              "\n",
              "[5 rows x 37 columns]"
            ]
          },
          "metadata": {
            "tags": []
          },
          "execution_count": 7
        }
      ]
    },
    {
      "cell_type": "code",
      "metadata": {
        "id": "qUa0ioSTHEtU",
        "colab_type": "code",
        "colab": {
          "base_uri": "https://localhost:8080/",
          "height": 242
        },
        "outputId": "4bc9810e-25eb-496d-d35e-ccf4fe389fce"
      },
      "source": [
        "df.columns"
      ],
      "execution_count": null,
      "outputs": [
        {
          "output_type": "execute_result",
          "data": {
            "text/plain": [
              "Index(['id', 'name', 'loan_application_id', 'lead_type__c', 'createddate',\n",
              "       'prequal_submitted_date__c', 'full_app_submitted_date__c',\n",
              "       'Loan_Officer_Assigned', 'date_funded__c', 'funded_flag',\n",
              "       'loan_officer_name__c', 'amount_of_loan_requested__c',\n",
              "       'first_amount_of_loan_requested', 'verifiable_annual_income__c',\n",
              "       'first_income_p1', 'co_app_verifiable_annual_income__c',\n",
              "       'first_income_p2', 'co_app', 'first_coapp', 'income_sum',\n",
              "       'first_income_sum', 'c_LTI', 'First_LTI', 'loan_use__c',\n",
              "       'first_loan_use', 'employment_status__c', 'ndi_ratio__c',\n",
              "       'first_ndi_ratio__c', 'fico__c', 'first_FICO', 'utm_source__c',\n",
              "       'bcc0300__c', 'first_bcc0300__c', 'interest_rate__c', 'risk_group__c',\n",
              "       'final_risk_group__c', 'risk_group_p1__c'],\n",
              "      dtype='object')"
            ]
          },
          "metadata": {
            "tags": []
          },
          "execution_count": 8
        }
      ]
    },
    {
      "cell_type": "code",
      "metadata": {
        "id": "5uAw7If58l2Y",
        "colab_type": "code",
        "colab": {
          "base_uri": "https://localhost:8080/",
          "height": 221
        },
        "outputId": "dbd8d107-0b80-42df-f684-b0ec9b3dd69c"
      },
      "source": [
        "df.columns"
      ],
      "execution_count": null,
      "outputs": [
        {
          "output_type": "execute_result",
          "data": {
            "text/plain": [
              "Index(['name', 'loan_application_id', 'co_app_loan_application_id',\n",
              "       'lead_type__c', 'createddate', 'prequal_submitted_date__c',\n",
              "       'full_app_submitted_date__c', 'Loan_Officer_Assigned', 'date_funded__c',\n",
              "       'funded_flag', 'loan_officer_name__c', 'amount_of_loan_requested__c',\n",
              "       'first_amount_of_loan_requested', 'verifiable_annual_income__c',\n",
              "       'first_income_p1', 'co_app_verifiable_annual_income__c',\n",
              "       'first_income_p2', 'co_app', 'first_coapp', 'income_sum',\n",
              "       'first_income_sum', 'c_LTI', 'First_LTI', 'loan_use__c',\n",
              "       'first_loan_use', 'employment_status__c', 'start_employment_status',\n",
              "       'ndi_ratio__c', 'first_ndi_ratio__c', 'fico__c', 'first_FICO',\n",
              "       'utm_source__c', 'bcc0300__c', 'first_bcc0300__c'],\n",
              "      dtype='object')"
            ]
          },
          "metadata": {
            "tags": []
          },
          "execution_count": 6
        }
      ]
    },
    {
      "cell_type": "markdown",
      "metadata": {
        "id": "rP6QffcNCs56",
        "colab_type": "text"
      },
      "source": [
        "## Model Test 1 - First touch variables"
      ]
    },
    {
      "cell_type": "code",
      "metadata": {
        "id": "m9e3HiCB8o-2",
        "colab_type": "code",
        "colab": {}
      },
      "source": [
        "# removed duplicate columns and save the first values\n",
        "firstDf = df.drop([\"id\", \"amount_of_loan_requested__c\", \"verifiable_annual_income__c\", \\\n",
        "                \"co_app_verifiable_annual_income__c\", \"co_app\", \"c_LTI\", \\\n",
        "                \"loan_use__c\", \"employment_status__c\", \"ndi_ratio__c\", \\\n",
        "                \"fico__c\", \"bcc0300__c\"], axis=1)"
      ],
      "execution_count": null,
      "outputs": []
    },
    {
      "cell_type": "code",
      "metadata": {
        "id": "9PS8jIcg_NfB",
        "colab_type": "code",
        "colab": {
          "base_uri": "https://localhost:8080/",
          "height": 173
        },
        "outputId": "d6817a7e-8e91-4c39-ff76-39b83f7f4f5b"
      },
      "source": [
        "firstDf.columns"
      ],
      "execution_count": null,
      "outputs": [
        {
          "output_type": "execute_result",
          "data": {
            "text/plain": [
              "Index(['name', 'loan_application_id', 'lead_type__c', 'createddate',\n",
              "       'prequal_submitted_date__c', 'full_app_submitted_date__c',\n",
              "       'Loan_Officer_Assigned', 'date_funded__c', 'funded_flag',\n",
              "       'loan_officer_name__c', 'first_amount_of_loan_requested',\n",
              "       'first_income_p1', 'first_income_p2', 'first_coapp', 'income_sum',\n",
              "       'first_income_sum', 'First_LTI', 'first_loan_use', 'first_ndi_ratio__c',\n",
              "       'first_FICO', 'utm_source__c', 'first_bcc0300__c', 'interest_rate__c',\n",
              "       'risk_group__c', 'final_risk_group__c', 'risk_group_p1__c'],\n",
              "      dtype='object')"
            ]
          },
          "metadata": {
            "tags": []
          },
          "execution_count": 11
        }
      ]
    },
    {
      "cell_type": "code",
      "metadata": {
        "id": "1YCGkPO2_q6D",
        "colab_type": "code",
        "colab": {}
      },
      "source": [
        ""
      ],
      "execution_count": null,
      "outputs": []
    },
    {
      "cell_type": "markdown",
      "metadata": {
        "id": "DYFC16gSC6qP",
        "colab_type": "text"
      },
      "source": [
        "## Model Test 2 - Current model"
      ]
    },
    {
      "cell_type": "markdown",
      "metadata": {
        "id": "i9jIcIbl-Ybo",
        "colab_type": "text"
      },
      "source": [
        "# Mount Drive"
      ]
    },
    {
      "cell_type": "code",
      "metadata": {
        "id": "t8j_zGn6-aXT",
        "colab_type": "code",
        "colab": {
          "base_uri": "https://localhost:8080/",
          "height": 122
        },
        "outputId": "f8043939-d790-4e58-eb21-9eff6458a2b8"
      },
      "source": [
        "# Load the Drive helper and mount\n",
        "from google.colab import drive\n",
        "\n",
        "# This will prompt for authorization.\n",
        "drive.mount('/content/drive')"
      ],
      "execution_count": null,
      "outputs": [
        {
          "output_type": "stream",
          "text": [
            "Go to this URL in a browser: https://accounts.google.com/o/oauth2/auth?client_id=947318989803-6bn6qk8qdgf4n4g3pfee6491hc0brc4i.apps.googleusercontent.com&redirect_uri=urn%3aietf%3awg%3aoauth%3a2.0%3aoob&response_type=code&scope=email%20https%3a%2f%2fwww.googleapis.com%2fauth%2fdocs.test%20https%3a%2f%2fwww.googleapis.com%2fauth%2fdrive%20https%3a%2f%2fwww.googleapis.com%2fauth%2fdrive.photos.readonly%20https%3a%2f%2fwww.googleapis.com%2fauth%2fpeopleapi.readonly\n",
            "\n",
            "Enter your authorization code:\n",
            "··········\n",
            "Mounted at /content/drive\n"
          ],
          "name": "stdout"
        }
      ]
    },
    {
      "cell_type": "code",
      "metadata": {
        "id": "1Ur3JPJg-f2E",
        "colab_type": "code",
        "colab": {
          "base_uri": "https://localhost:8080/",
          "height": 34
        },
        "outputId": "3f0fee64-fefb-46c9-c6d4-d8512b57a4ac"
      },
      "source": [
        "# set working directory\n",
        "import os\n",
        "os.chdir(\"/content/drive/My Drive/Data Scientist/F+ Lead Scoring Model/Validation/\")\n",
        "os.getcwd()"
      ],
      "execution_count": null,
      "outputs": [
        {
          "output_type": "execute_result",
          "data": {
            "text/plain": [
              "'/content/drive/My Drive/Data Scientist/F+ Lead Scoring Model/Validation'"
            ]
          },
          "metadata": {
            "tags": []
          },
          "execution_count": 5
        }
      ]
    },
    {
      "cell_type": "code",
      "metadata": {
        "id": "LDK0njr5TKdP",
        "colab_type": "code",
        "colab": {
          "base_uri": "https://localhost:8080/",
          "height": 104
        },
        "outputId": "148fc66d-f46e-43ed-9f6a-8b67bde59cd5"
      },
      "source": [
        "ls"
      ],
      "execution_count": null,
      "outputs": [
        {
          "output_type": "stream",
          "text": [
            " final_df.csv         main_leadLevel.py           scoringData.py\n",
            " first_df.csv         model.py                    unitEconomicsData.csv\n",
            " Fplus_Lead_Scoring   \u001b[0m\u001b[01;34m__pycache__\u001b[0m/               'Validation F+ Model.ipynb'\n",
            " full_data.csv        Retrain_Fplus.csv\n",
            " library_binning.py   score_collector_phase1.py\n"
          ],
          "name": "stdout"
        }
      ]
    },
    {
      "cell_type": "markdown",
      "metadata": {
        "id": "AuN7jS1-6xrR",
        "colab_type": "text"
      },
      "source": [
        "## Module Setup"
      ]
    },
    {
      "cell_type": "code",
      "metadata": {
        "id": "D5fWmAsS6IqQ",
        "colab_type": "code",
        "colab": {
          "base_uri": "https://localhost:8080/",
          "height": 71
        },
        "outputId": "b3b34d0f-66ab-4719-a3dc-2183f498150c"
      },
      "source": [
        "import numpy as np\n",
        "import pandas as pd\n",
        "import logging\n",
        "import os\n",
        "from sklearn.externals import joblib\n",
        "\n",
        "\n",
        "#dirdata = os.path.join(os.path.dirname(__file__), 'Data')\n",
        "\n",
        "global initialized\n",
        "initialized = False\n",
        "\n",
        "def init():\n",
        "    \n",
        "    global fplus_ls_model\n",
        "    global unitEconomicsData\n",
        "    \n",
        "    global initialized\n",
        "    if (initialized == True):\n",
        "        return\n",
        "    \n",
        "    try:\n",
        "        fplus_ls_model = joblib.load('Fplus_Lead_Scoring')\n",
        "        unitEconomicsData = pd.read_csv('unitEconomicsData.csv')\n",
        "        #fplus_ls_model = joblib.load(os.path.join(dirdata, 'Fplus_Lead_Scoring'))\n",
        "        #unitEconomicsData = pd.read_csv(os.path.join(dirdata, 'unitEconomicsData.csv'))\n",
        "        \n",
        "    except Exception as e:\n",
        "        #print(e)\n",
        "        return\n",
        "    \n",
        "    initialized = True\n",
        "\n"
      ],
      "execution_count": null,
      "outputs": [
        {
          "output_type": "stream",
          "text": [
            "/usr/local/lib/python3.6/dist-packages/sklearn/externals/joblib/__init__.py:15: FutureWarning: sklearn.externals.joblib is deprecated in 0.21 and will be removed in 0.23. Please import this functionality directly from joblib, which can be installed with: pip install joblib. If this warning is raised when loading pickled models, you may need to re-serialize those models with scikit-learn 0.21+.\n",
            "  warnings.warn(msg, category=FutureWarning)\n"
          ],
          "name": "stderr"
        }
      ]
    },
    {
      "cell_type": "code",
      "metadata": {
        "id": "XozO7zN261xv",
        "colab_type": "code",
        "colab": {
          "base_uri": "https://localhost:8080/",
          "height": 105
        },
        "outputId": "322a82f2-c0b1-4a1c-f191-14e82db14679"
      },
      "source": [
        "## initialize Model\n",
        "init()\n",
        "## doesn't work.... So here we go manual\n",
        "#fplus_ls_model = joblib.load('Data/Fplus_Lead_Scoring')\n",
        "#unitEconomicsData = pd.read_csv('Data/unitEconomicsData.csv')"
      ],
      "execution_count": null,
      "outputs": [
        {
          "output_type": "stream",
          "text": [
            "/usr/local/lib/python3.6/dist-packages/sklearn/utils/deprecation.py:144: FutureWarning: The sklearn.linear_model.logistic module is  deprecated in version 0.22 and will be removed in version 0.24. The corresponding classes / functions should instead be imported from sklearn.linear_model. Anything that cannot be imported from sklearn.linear_model is now part of the private API.\n",
            "  warnings.warn(message, FutureWarning)\n",
            "/usr/local/lib/python3.6/dist-packages/sklearn/base.py:318: UserWarning: Trying to unpickle estimator LogisticRegression from version 0.19.1 when using version 0.22.1. This might lead to breaking code or invalid results. Use at your own risk.\n",
            "  UserWarning)\n"
          ],
          "name": "stderr"
        }
      ]
    },
    {
      "cell_type": "code",
      "metadata": {
        "id": "k7_nLUX5XjYv",
        "colab_type": "code",
        "colab": {
          "base_uri": "https://localhost:8080/",
          "height": 204
        },
        "outputId": "05c4b12a-cd06-46b6-d321-d6152d6129d5"
      },
      "source": [
        "unitEconomicsData.head()"
      ],
      "execution_count": null,
      "outputs": [
        {
          "output_type": "execute_result",
          "data": {
            "text/html": [
              "<div>\n",
              "<style scoped>\n",
              "    .dataframe tbody tr th:only-of-type {\n",
              "        vertical-align: middle;\n",
              "    }\n",
              "\n",
              "    .dataframe tbody tr th {\n",
              "        vertical-align: top;\n",
              "    }\n",
              "\n",
              "    .dataframe thead th {\n",
              "        text-align: right;\n",
              "    }\n",
              "</style>\n",
              "<table border=\"1\" class=\"dataframe\">\n",
              "  <thead>\n",
              "    <tr style=\"text-align: right;\">\n",
              "      <th></th>\n",
              "      <th>utm_source</th>\n",
              "      <th>CPA</th>\n",
              "    </tr>\n",
              "  </thead>\n",
              "  <tbody>\n",
              "    <tr>\n",
              "      <th>0</th>\n",
              "      <td>247</td>\n",
              "      <td>225.00</td>\n",
              "    </tr>\n",
              "    <tr>\n",
              "      <th>1</th>\n",
              "      <td>amone</td>\n",
              "      <td>418.59</td>\n",
              "    </tr>\n",
              "    <tr>\n",
              "      <th>2</th>\n",
              "      <td>201</td>\n",
              "      <td>351.00</td>\n",
              "    </tr>\n",
              "    <tr>\n",
              "      <th>3</th>\n",
              "      <td>222</td>\n",
              "      <td>240.00</td>\n",
              "    </tr>\n",
              "    <tr>\n",
              "      <th>4</th>\n",
              "      <td>ck</td>\n",
              "      <td>306.48</td>\n",
              "    </tr>\n",
              "  </tbody>\n",
              "</table>\n",
              "</div>"
            ],
            "text/plain": [
              "  utm_source     CPA\n",
              "0        247  225.00\n",
              "1      amone  418.59\n",
              "2        201  351.00\n",
              "3        222  240.00\n",
              "4         ck  306.48"
            ]
          },
          "metadata": {
            "tags": []
          },
          "execution_count": 8
        }
      ]
    },
    {
      "cell_type": "markdown",
      "metadata": {
        "id": "7wJCalwK5Jt4",
        "colab_type": "text"
      },
      "source": [
        "## Library Binning"
      ]
    },
    {
      "cell_type": "code",
      "metadata": {
        "id": "6RBMJyXxC8c6",
        "colab_type": "code",
        "colab": {}
      },
      "source": [
        "import numpy as np\n",
        "import pandas as pd\n",
        "\n",
        "def get_co_app_cat(co_app_income):\n",
        "    \n",
        "    if pd.isnull(co_app_income):\n",
        "        return 0\n",
        "    return 1\n",
        "\n",
        "def get_loan_use_cat(loan_use):\n",
        "    \n",
        "    if pd.isnull(loan_use):\n",
        "        return 3\n",
        "    \n",
        "    loan_use = loan_use.strip()\n",
        "    if (loan_use == 'Credit Card Refinancing'):\n",
        "        return 4\n",
        "    if (loan_use in ['Major Purchase','Other']):\n",
        "        return 2\n",
        "    if (loan_use == 'Auto Purchase'):\n",
        "        return 1\n",
        "    \n",
        "    return 3\n",
        "\n",
        "def get_employment_cat(employment_status):\n",
        "    \n",
        "    if pd.isnull(employment_status):\n",
        "        employment_status = ''\n",
        "    \n",
        "    employment_status = employment_status.strip()\n",
        "    if (employment_status == 'Retired'):\n",
        "        return 4\n",
        "    if (employment_status in ['Self-employed']):\n",
        "        return 2\n",
        "    if (employment_status in ['Other', '']):\n",
        "        return 1\n",
        "    \n",
        "    return 3\n",
        "\n",
        "def get_loan_amount_cat(loan_amount):\n",
        "    \n",
        "    if pd.isnull(loan_amount):\n",
        "        return 1\n",
        "    \n",
        "    loan_amount = float(loan_amount)\n",
        "    if (loan_amount < 15000):\n",
        "        return 4\n",
        "    if (loan_amount >= 15000) and (loan_amount < 20000):\n",
        "        return 3\n",
        "    if (loan_amount >= 20000) and (loan_amount < 25000):\n",
        "        return 2\n",
        "    \n",
        "    return 1\n",
        "\n",
        "def get_mkt_chan_cat(utm_source):\n",
        "    \n",
        "    if pd.isnull(utm_source):\n",
        "        return 3\n",
        "    \n",
        "    utm_source = utm_source.strip()\n",
        "    if (utm_source in ['creditkarma','nerdwallet']):\n",
        "        return 7\n",
        "    if (utm_source in ['credible','experian']):\n",
        "        return 6\n",
        "    if (utm_source in ['website', 'google','msn','ck','nerd',\n",
        "                        '115','save','dm','SLH','201']):\n",
        "        return 5\n",
        "    if (utm_source in ['facebook', 'even','uplift','Quinstreet',\n",
        "                       'Personalloanpro','113']):\n",
        "        return 2\n",
        "    if (utm_source in ['LendEDU', 'monevo','247','sfl']):\n",
        "        return 1\n",
        "    \n",
        "    return 3\n",
        "\n",
        "def get_fico(fico):\n",
        "    \n",
        "    if pd.isnull(fico):\n",
        "        return 990\n",
        "    \n",
        "    fico = int(fico)\n",
        "    if (fico >= 9000):\n",
        "        return 990\n",
        "    if fico < 600:\n",
        "        return 990\n",
        "    \n",
        "    return fico\n",
        "\n",
        "def get_lti(lti):\n",
        "    \n",
        "    if pd.isnull(lti):\n",
        "        return 36\n",
        "    \n",
        "    lti = float(lti)\n",
        "    if (lti > 35) or (lti < 1):\n",
        "        return 36\n",
        "    if (lti >= 1) and (lti < 2):\n",
        "        return 35\n",
        "    if (lti >= 2) and (lti < 3):\n",
        "        return 34\n",
        "    \n",
        "    return np.floor(lti)\n",
        "\n",
        "def get_bcc0300(bcc0300):\n",
        "    \n",
        "    if pd.isnull(bcc0300):\n",
        "        return 99\n",
        "    \n",
        "    bcc0300 = int(bcc0300)\n",
        "    if (bcc0300 >= 25):\n",
        "        return 30\n",
        "    \n",
        "    return bcc0300\n",
        "\n",
        "def get_ndi_ratio(ndi_ratio):\n",
        "    \n",
        "    if pd.isnull(ndi_ratio):\n",
        "        return 5\n",
        "    \n",
        "    ndi_ratio = float(ndi_ratio)\n",
        "    ndi_ratio = np.floor(ndi_ratio)\n",
        "    \n",
        "    if (ndi_ratio < 10):\n",
        "        return 5\n",
        "    if (ndi_ratio > 75):\n",
        "        return 80\n",
        "    \n",
        "    return ndi_ratio  \n",
        "\n"
      ],
      "execution_count": null,
      "outputs": []
    },
    {
      "cell_type": "code",
      "metadata": {
        "id": "29bmfzEw583t",
        "colab_type": "code",
        "colab": {}
      },
      "source": [
        "\n",
        "import numpy as np\n",
        "import pandas as pd\n",
        "from sklearn.linear_model import LogisticRegression\n",
        "\n",
        "import library_binning as lib\n",
        "#import scoringData as sd\n",
        "\n",
        "def score_collector_phase1(lead, debug = False):\n",
        "    \n",
        "    mod_lead = pd.DataFrame()\n",
        "    bin_vars = {}\n",
        "    error = False\n",
        "    error_msg = ''\n",
        "    prob_prediction = 0\n",
        "    npv = 0\n",
        "    MODEL_NAME = 'fplus_ls_201902_v1'\n",
        "    \n",
        "    try:\n",
        "        # create binned/transformed variables\n",
        "        bin_vars['co_app'] = pd.Series(lib.get_co_app_cat(lead['co_app_verifiable_annual_income']))\n",
        "        bin_vars['loan_use'] = lib.get_loan_use_cat(lead['loan_use'])\n",
        "        bin_vars['employment'] = lib.get_employment_cat(lead['employment_status'])\n",
        "        bin_vars['loan_amount'] = lib.get_loan_amount_cat(lead['final_loan_amount'])\n",
        "        bin_vars['mkt_chan'] = lib.get_mkt_chan_cat(lead['utm_source'])\n",
        "        bin_vars['ficox'] = lib.get_fico(lead['fico'])\n",
        "        bin_vars['lti'] = lib.get_lti(lead['lti'])\n",
        "        bin_vars['bcc0300'] = lib.get_bcc0300(lead['xpn_bcc0300'])\n",
        "        bin_vars['ndi'] = lib.get_ndi_ratio(lead['ndi_ratio'])\n",
        "        bin_vars['ndisq'] = bin_vars['ndi'] * bin_vars['ndi']\n",
        "        \n",
        "        mod_lead = pd.DataFrame(bin_vars)\n",
        "        \n",
        "        # create dummies\n",
        "        cat_vars=['co_app','loan_use','employment','loan_amount','mkt_chan']\n",
        "        for var in cat_vars:\n",
        "            cat_list = pd.get_dummies(mod_lead[var], prefix=var)\n",
        "            temp=mod_lead.join(cat_list)\n",
        "            mod_lead=temp\n",
        "        data_vars=mod_lead.columns.values.tolist()\n",
        "        to_keep=[i for i in data_vars if i not in cat_vars]\n",
        "        mod_lead=mod_lead[to_keep]\n",
        "        # print(mod_lead.columns.values)\n",
        "        \n",
        "        # re-index to have same columns as the model\n",
        "        mod_lead = mod_lead.reindex(columns = ['ficox', 'lti', 'bcc0300', 'ndi', 'ndisq', 'co_app_0', 'co_app_1',\n",
        "                                       'loan_use_1', 'loan_use_2', 'loan_use_3', 'loan_use_4', 'employment_1',\n",
        "                                       'employment_2', 'employment_3', 'employment_4', 'loan_amount_1',\n",
        "                                       'loan_amount_2', 'loan_amount_3', 'loan_amount_4', 'mkt_chan_1',\n",
        "                                       'mkt_chan_2', 'mkt_chan_3', 'mkt_chan_5', 'mkt_chan_6', \n",
        "                                       'mkt_chan_7'], fill_value=0)\n",
        "        \n",
        "        # score\n",
        "        #prob_prediction = sd.fplus_ls_model.predict_proba(mod_lead)[0][1] I'm changing this to remove sd and just loading scoring model and data already\n",
        "        prob_prediction = fplus_ls_model.predict_proba(mod_lead)[0][1]\n",
        "        #print(prob_prediction)\n",
        "        \n",
        "        # calc NPV\n",
        "        npv = get_npv_calc(lead['final_loan_amount'], prob_prediction, lead['utm_source'])\n",
        "        \n",
        "    except Exception as e:\n",
        "        # print(e)\n",
        "        error = True\n",
        "        error_msg = 'Error in Scoring.'\n",
        "    \n",
        "    # add an error flag\n",
        "    if (debug):\n",
        "        return_scores = {\n",
        "            'bin_lead': mod_lead,\n",
        "            'fuse.score':prob_prediction,\n",
        "            'fuse.npv': npv,\n",
        "            'fuse.model': MODEL_NAME,\n",
        "            'fuse.error_flag': error,\n",
        "            'fuse.error_reason': error_msg\n",
        "        }\n",
        "        return return_scores\n",
        "    \n",
        "    # return the dictionary\n",
        "    return_scores = {\n",
        "        'fuse.score':prob_prediction,\n",
        "        'fuse.npv': npv,\n",
        "        'fuse.model': MODEL_NAME,\n",
        "        'fuse.error_flag': error,\n",
        "        'fuse.error_reason': error_msg\n",
        "    }\n",
        "    return return_scores\n",
        "\n",
        "\n",
        "def get_npv_calc(loan_amt,prob_prediction,utm_source):\n",
        "    \n",
        "    if pd.notnull(utm_source):\n",
        "        utm_src = utm_source.strip()\n",
        "        utm_src = utm_src.lower()\n",
        "    \n",
        "    npv = 0\n",
        "    cpa = 0\n",
        "    \n",
        "    #if pd.notnull(utm_source) and (utm_src in set(sd.unitEconomicsData['utm_source'])):   commenting this out because of the sd and loading it locally\n",
        "    #    cpa = sd.unitEconomicsData.loc[sd.unitEconomicsData['utm_source'] == utm_src, 'CPA'].values[0]\n",
        "    if pd.notnull(utm_source) and (utm_src in set(unitEconomicsData['utm_source'])):\n",
        "        cpa = unitEconomicsData.loc[unitEconomicsData['utm_source'] == utm_src, 'CPA'].values[0]\n",
        "                \n",
        "    if pd.isnull(loan_amt):\n",
        "        loan_amt = 0\n",
        "    else:\n",
        "        loan_amt = float(loan_amt) \n",
        "        \n",
        "    npv = prob_prediction * ((loan_amt * 0.0785) - (707.9 + cpa))\n",
        "    \n",
        "    return npv\n",
        "\n"
      ],
      "execution_count": null,
      "outputs": []
    },
    {
      "cell_type": "code",
      "metadata": {
        "id": "iFHx4rDNYM51",
        "colab_type": "code",
        "colab": {}
      },
      "source": [
        ""
      ],
      "execution_count": null,
      "outputs": []
    },
    {
      "cell_type": "markdown",
      "metadata": {
        "id": "kwGWDkyJ5Riq",
        "colab_type": "text"
      },
      "source": [
        "## Main Lead Level"
      ]
    },
    {
      "cell_type": "code",
      "metadata": {
        "id": "Xy-8jtMd5MoJ",
        "colab_type": "code",
        "colab": {}
      },
      "source": [
        "\n",
        "import numpy as np\n",
        "import pandas as pd\n",
        "import score_collector_phase1 as sc1\n",
        "\n",
        "def main_leadlevel(leads, phase=1, provide=\"scored_lead\"):\n",
        "    \n",
        "    if phase == 1:\n",
        "        checked_lead = check_lead_phase1(leads)\n",
        "        \n",
        "        if checked_lead[\"error\"]:\n",
        "            return_value = {\n",
        "                \"fuse.score\" : 0,\n",
        "                \"fuse.npv\" : 0,\n",
        "                \"fuse.model\" : '',\n",
        "                \"fuse.error_flag\": True,\n",
        "                \"fuse_error_reason\" : \"Lead Validation Failed.\"\n",
        "            }\n",
        "            return return_value\n",
        "        error_msg = checked_lead[\"warning\"]\n",
        "        \n",
        "        return_value = sc1.score_collector_phase1(checked_lead[\"return_lead\"])\n",
        "        if len(error_msg.strip()) > 0:\n",
        "            return_value['fuse.error_reason'] = error_msg + ' ' + return_value['fuse.error_reason']\n",
        "        \n",
        "        return return_value\n",
        "\n",
        "# Check that the lead has all the required fields\n",
        "# if a value is missing, return warning message\n",
        "def check_lead_phase1(lead):\n",
        "    \n",
        "    # convert all keys to lower case\n",
        "    raw_lead = {k.lower(): v for k, v in lead.items()}\n",
        "    \n",
        "    error = False\n",
        "    return_lead = {}\n",
        "    missing_variables = []\n",
        "    error_msg = ''\n",
        "    \n",
        "    required_fields = [\"co_app_verifiable_annual_income\",\"loan_use\",\"employment_status\",\n",
        "                       \"final_loan_amount\",\"fico\",\"lti\",\"xpn_bcc0300\",\"ndi_ratio\",\"utm_source\"]\n",
        "\n",
        "    try:\n",
        "        for field in required_fields:\n",
        "            if (field not in raw_lead):\n",
        "                raw_lead[field] = np.NaN\n",
        "        \n",
        "        for key in raw_lead:\n",
        "            var = returnNaNifEmptyorNaN(raw_lead[key])\n",
        "            return_lead[key] = var\n",
        "            if (pd.isnull(return_lead[key])):\n",
        "                missing_variables.append(key) \n",
        "        \n",
        "        if (len(missing_variables)>0):\n",
        "            error_msg = \",\".join(missing_variables)\n",
        "            error_msg = \"Imputing values for: \" + error_msg\n",
        "            \n",
        "    except Exception as e: \n",
        "        #print(e)\n",
        "        error=True\n",
        "    \n",
        "    return_value = {\n",
        "        \"return_lead\" : return_lead,\n",
        "        \"warning\": error_msg,\n",
        "        \"error\": error\n",
        "    }\n",
        "    \n",
        "    return return_value\n",
        "\n",
        "def returnNaNifEmptyorNaN(variable):\n",
        "    \n",
        "    if isinstance(variable, int):\n",
        "        return variable\n",
        "    if isinstance(variable, float):\n",
        "        return variable\n",
        "    # if null or empty\n",
        "    if pd.isnull(variable) or len(variable)<1:\n",
        "        return np.NaN\n",
        "    if variable.isnumeric():\n",
        "        return variable\n",
        "\n",
        "    return variable.strip()\n",
        "\n"
      ],
      "execution_count": null,
      "outputs": []
    },
    {
      "cell_type": "code",
      "metadata": {
        "id": "C_onaN12UrRP",
        "colab_type": "code",
        "colab": {
          "base_uri": "https://localhost:8080/",
          "height": 204
        },
        "outputId": "2b7ffdeb-a8b7-492d-f8f8-9c4890ba4cf0"
      },
      "source": [
        "lead = {\"co_app_verifiable_annual_income\":342,\"loan_use\":'Debt Consolidation', \\\n",
        "        \"employment_status\":'Full-time', \"final_loan_amount\":25000, \"fico\":700,\\\n",
        "        \"lti\":25.8, \"xpn_bcc0300\":42, \"ndi_ratio\":40, \"utm_source\":'Lending Tree'}\n",
        "check_lead_phase1(lead)"
      ],
      "execution_count": null,
      "outputs": [
        {
          "output_type": "execute_result",
          "data": {
            "text/plain": [
              "{'error': False,\n",
              " 'return_lead': {'co_app_verifiable_annual_income': 342,\n",
              "  'employment_status': 'Full-time',\n",
              "  'fico': 700,\n",
              "  'final_loan_amount': 25000,\n",
              "  'loan_use': 'Debt Consolidation',\n",
              "  'lti': 25.8,\n",
              "  'ndi_ratio': 40,\n",
              "  'utm_source': 'Lending Tree',\n",
              "  'xpn_bcc0300': 42},\n",
              " 'warning': ''}"
            ]
          },
          "metadata": {
            "tags": []
          },
          "execution_count": 12
        }
      ]
    },
    {
      "cell_type": "markdown",
      "metadata": {
        "id": "77OWhkhY5fhW",
        "colab_type": "text"
      },
      "source": [
        "## Model"
      ]
    },
    {
      "cell_type": "code",
      "metadata": {
        "id": "I2nSP8W25UUh",
        "colab_type": "code",
        "colab": {}
      },
      "source": [
        "\n",
        "import scoringData as sd\n",
        "import main_leadLevel as ml\n",
        "import pandas as pd\n",
        "import json\n",
        "\n",
        "sd.init()\n",
        "\n",
        "# Assumption : gets dictionary as a input\n",
        "def run(leads):\n",
        "    score = ml.main_leadlevel(leads)\n",
        "    #score is dictionary, score['fuse_score'] is dataframe\n",
        "    \n",
        "    #add scores to the lead\n",
        "    if ('co_app_verifiable_annual_income' in leads):\n",
        "        leads['co_app_verifiable_annual_income']=str(leads['co_app_verifiable_annual_income'])\n",
        "    if ('fico' in leads):\n",
        "        leads['fico']=str(leads['fico'])\n",
        "    if ('LTI' in leads):\n",
        "        leads['LTI']=str(leads['LTI'])\n",
        "    if ('xpn_bcc0300' in leads):\n",
        "        leads['xpn_bcc0300']=str(leads['xpn_bcc0300'])\n",
        "    if ('ndi_ratio' in leads):\n",
        "        leads['ndi_ratio']=str(leads['ndi_ratio'])\n",
        "    if ('final_loan_amount' in leads):\n",
        "        leads['final_loan_amount']=str(leads['final_loan_amount'])\n",
        "    leads.update(score)\n",
        "    \n",
        "    return_list = []\n",
        "    return_list.append(leads)\n",
        "    return return_list\n",
        "\n",
        "def format_scores_returned(score):\n",
        "\n",
        "    # convert everything to a dataframe\n",
        "    score = pd.DataFrame.from_dict(score,orient='index').transpose() \n",
        "    \n",
        "    # convert back to dictionary in list format\n",
        "    score = score.to_dict('list')\n",
        "    \n",
        "    return score\n",
        "\n"
      ],
      "execution_count": null,
      "outputs": []
    },
    {
      "cell_type": "code",
      "metadata": {
        "id": "qs747pSaUWeR",
        "colab_type": "code",
        "colab": {
          "base_uri": "https://localhost:8080/",
          "height": 255
        },
        "outputId": "9ae34fc8-89df-4384-b90c-88945b370084"
      },
      "source": [
        "run(lead)"
      ],
      "execution_count": null,
      "outputs": [
        {
          "output_type": "execute_result",
          "data": {
            "text/plain": [
              "[{'co_app_verifiable_annual_income': '342',\n",
              "  'employment_status': 'Full-time',\n",
              "  'fico': '700',\n",
              "  'final_loan_amount': '25000',\n",
              "  'fuse.error_flag': True,\n",
              "  'fuse.error_reason': 'Error in Scoring.',\n",
              "  'fuse.model': 'fplus_ls_201902_v1',\n",
              "  'fuse.npv': 0,\n",
              "  'fuse.score': 0,\n",
              "  'loan_use': 'Debt Consolidation',\n",
              "  'lti': 25.8,\n",
              "  'ndi_ratio': '40',\n",
              "  'utm_source': 'Lending Tree',\n",
              "  'xpn_bcc0300': '42'}]"
            ]
          },
          "metadata": {
            "tags": []
          },
          "execution_count": 14
        }
      ]
    },
    {
      "cell_type": "code",
      "metadata": {
        "id": "6OJuyB8nW59d",
        "colab_type": "code",
        "colab": {
          "base_uri": "https://localhost:8080/",
          "height": 102
        },
        "outputId": "03d16099-1c39-433a-d524-11adfce0e6c5"
      },
      "source": [
        "main_leadlevel(lead)"
      ],
      "execution_count": null,
      "outputs": [
        {
          "output_type": "execute_result",
          "data": {
            "text/plain": [
              "{'fuse.error_flag': True,\n",
              " 'fuse.error_reason': 'Error in Scoring.',\n",
              " 'fuse.model': 'fplus_ls_201902_v1',\n",
              " 'fuse.npv': 0,\n",
              " 'fuse.score': 0}"
            ]
          },
          "metadata": {
            "tags": []
          },
          "execution_count": 19
        }
      ]
    },
    {
      "cell_type": "code",
      "metadata": {
        "id": "Dnsr5r3rXKgd",
        "colab_type": "code",
        "colab": {
          "base_uri": "https://localhost:8080/",
          "height": 102
        },
        "outputId": "fe5ff753-d78f-40c1-d4a5-8abc62c2d038"
      },
      "source": [
        "score_collector_phase1(lead)"
      ],
      "execution_count": null,
      "outputs": [
        {
          "output_type": "execute_result",
          "data": {
            "text/plain": [
              "{'fuse.error_flag': False,\n",
              " 'fuse.error_reason': '',\n",
              " 'fuse.model': 'fplus_ls_201902_v1',\n",
              " 'fuse.npv': 65.49229937961921,\n",
              " 'fuse.score': 0.052201737111126426}"
            ]
          },
          "metadata": {
            "tags": []
          },
          "execution_count": 20
        }
      ]
    },
    {
      "cell_type": "code",
      "metadata": {
        "id": "Xvlz8tvEXPGe",
        "colab_type": "code",
        "colab": {
          "base_uri": "https://localhost:8080/",
          "height": 255
        },
        "outputId": "efeaf86f-660f-41e0-a98b-e21ce8f35801"
      },
      "source": [
        "lead"
      ],
      "execution_count": null,
      "outputs": [
        {
          "output_type": "execute_result",
          "data": {
            "text/plain": [
              "{'co_app_verifiable_annual_income': '342',\n",
              " 'employment_status': 'Full-time',\n",
              " 'fico': '700',\n",
              " 'final_loan_amount': '25000',\n",
              " 'fuse.error_flag': True,\n",
              " 'fuse.error_reason': 'Error in Scoring.',\n",
              " 'fuse.model': 'fplus_ls_201902_v1',\n",
              " 'fuse.npv': 0,\n",
              " 'fuse.score': 0,\n",
              " 'loan_use': 'Debt Consolidation',\n",
              " 'lti': 25.8,\n",
              " 'ndi_ratio': '40',\n",
              " 'utm_source': 'Lending Tree',\n",
              " 'xpn_bcc0300': '42'}"
            ]
          },
          "metadata": {
            "tags": []
          },
          "execution_count": 21
        }
      ]
    },
    {
      "cell_type": "code",
      "metadata": {
        "id": "Wr77xZogZ6dV",
        "colab_type": "code",
        "colab": {}
      },
      "source": [
        ""
      ],
      "execution_count": null,
      "outputs": []
    },
    {
      "cell_type": "markdown",
      "metadata": {
        "id": "Dj2G4JW9Yj9o",
        "colab_type": "text"
      },
      "source": [
        "# New Score"
      ]
    },
    {
      "cell_type": "markdown",
      "metadata": {
        "id": "fxmHBLPwiCnX",
        "colab_type": "text"
      },
      "source": [
        "## Load Data"
      ]
    },
    {
      "cell_type": "code",
      "metadata": {
        "id": "j96VO_9-apAt",
        "colab_type": "code",
        "colab": {
          "base_uri": "https://localhost:8080/",
          "height": 309
        },
        "outputId": "ddc1fac3-79af-4724-e9c2-736457644451"
      },
      "source": [
        "# load data\n",
        "df = pd.read_csv('full_data.csv')\n",
        "df.head()"
      ],
      "execution_count": null,
      "outputs": [
        {
          "output_type": "execute_result",
          "data": {
            "text/html": [
              "<div>\n",
              "<style scoped>\n",
              "    .dataframe tbody tr th:only-of-type {\n",
              "        vertical-align: middle;\n",
              "    }\n",
              "\n",
              "    .dataframe tbody tr th {\n",
              "        vertical-align: top;\n",
              "    }\n",
              "\n",
              "    .dataframe thead th {\n",
              "        text-align: right;\n",
              "    }\n",
              "</style>\n",
              "<table border=\"1\" class=\"dataframe\">\n",
              "  <thead>\n",
              "    <tr style=\"text-align: right;\">\n",
              "      <th></th>\n",
              "      <th>SF_App_Id</th>\n",
              "      <th>SF_App_Date_TS</th>\n",
              "      <th>Funding_Score</th>\n",
              "      <th>Funding_Model_Segment</th>\n",
              "      <th>NPV_Score</th>\n",
              "      <th>NPV_Model_Segment</th>\n",
              "      <th>Funding</th>\n",
              "      <th>NPV_Actual</th>\n",
              "      <th>name</th>\n",
              "      <th>loan_application_id</th>\n",
              "      <th>lead_type__c</th>\n",
              "      <th>createddate</th>\n",
              "      <th>prequal_submitted_date__c</th>\n",
              "      <th>full_app_submitted_date__c</th>\n",
              "      <th>Loan_Officer_Assigned</th>\n",
              "      <th>date_funded__c</th>\n",
              "      <th>funded_flag</th>\n",
              "      <th>loan_officer_name__c</th>\n",
              "      <th>amount_of_loan_requested__c</th>\n",
              "      <th>first_amount_of_loan_requested</th>\n",
              "      <th>verifiable_annual_income__c</th>\n",
              "      <th>first_income_p1</th>\n",
              "      <th>co_app_verifiable_annual_income__c</th>\n",
              "      <th>first_income_p2</th>\n",
              "      <th>co_app</th>\n",
              "      <th>first_coapp</th>\n",
              "      <th>income_sum</th>\n",
              "      <th>first_income_sum</th>\n",
              "      <th>c_LTI</th>\n",
              "      <th>First_LTI</th>\n",
              "      <th>loan_use__c</th>\n",
              "      <th>first_loan_use</th>\n",
              "      <th>employment_status__c</th>\n",
              "      <th>ndi_ratio__c</th>\n",
              "      <th>first_ndi_ratio__c</th>\n",
              "      <th>fico__c</th>\n",
              "      <th>first_FICO</th>\n",
              "      <th>utm_source__c</th>\n",
              "      <th>bcc0300__c</th>\n",
              "      <th>first_bcc0300__c</th>\n",
              "      <th>interest_rate__c</th>\n",
              "      <th>risk_group__c</th>\n",
              "      <th>final_risk_group__c</th>\n",
              "      <th>risk_group_p1__c</th>\n",
              "      <th>NPV_Actual_Funded</th>\n",
              "      <th>NPV_Score_Funded</th>\n",
              "      <th>delta_coapp</th>\n",
              "      <th>delta_LTI</th>\n",
              "      <th>delta_NDI</th>\n",
              "      <th>delta_FICO</th>\n",
              "      <th>delta_loan_size</th>\n",
              "      <th>delta_bcc0300</th>\n",
              "    </tr>\n",
              "  </thead>\n",
              "  <tbody>\n",
              "    <tr>\n",
              "      <th>0</th>\n",
              "      <td>a010f00000Vy85MAAR</td>\n",
              "      <td>2019-04-08 23:29:35</td>\n",
              "      <td>9.801852e-08</td>\n",
              "      <td>10</td>\n",
              "      <td>NaN</td>\n",
              "      <td>10</td>\n",
              "      <td>0</td>\n",
              "      <td>NaN</td>\n",
              "      <td>App-04315517</td>\n",
              "      <td>NaN</td>\n",
              "      <td>Web</td>\n",
              "      <td>2019-04-08 23:29:35</td>\n",
              "      <td>NaN</td>\n",
              "      <td>NaN</td>\n",
              "      <td>1.0</td>\n",
              "      <td>NaN</td>\n",
              "      <td>0.0</td>\n",
              "      <td>Adrian Quinonez</td>\n",
              "      <td>NaN</td>\n",
              "      <td>22000.0</td>\n",
              "      <td>NaN</td>\n",
              "      <td>NaN</td>\n",
              "      <td>NaN</td>\n",
              "      <td>NaN</td>\n",
              "      <td>0.0</td>\n",
              "      <td>0.0</td>\n",
              "      <td>NaN</td>\n",
              "      <td>NaN</td>\n",
              "      <td>NaN</td>\n",
              "      <td>NaN</td>\n",
              "      <td>NaN</td>\n",
              "      <td>NaN</td>\n",
              "      <td>NaN</td>\n",
              "      <td>NaN</td>\n",
              "      <td>0.441415</td>\n",
              "      <td>NaN</td>\n",
              "      <td>NaN</td>\n",
              "      <td>NaN</td>\n",
              "      <td>NaN</td>\n",
              "      <td>NaN</td>\n",
              "      <td>NaN</td>\n",
              "      <td>NaN</td>\n",
              "      <td>NaN</td>\n",
              "      <td>NaN</td>\n",
              "      <td>NaN</td>\n",
              "      <td>NaN</td>\n",
              "      <td>0.0</td>\n",
              "      <td>NaN</td>\n",
              "      <td>NaN</td>\n",
              "      <td>NaN</td>\n",
              "      <td>NaN</td>\n",
              "      <td>NaN</td>\n",
              "    </tr>\n",
              "    <tr>\n",
              "      <th>1</th>\n",
              "      <td>a010f00000WN27oAAD</td>\n",
              "      <td>2019-04-29 13:24:25</td>\n",
              "      <td>6.886856e-01</td>\n",
              "      <td>1</td>\n",
              "      <td>53.655499</td>\n",
              "      <td>3</td>\n",
              "      <td>1</td>\n",
              "      <td>77.91</td>\n",
              "      <td>App-04502943</td>\n",
              "      <td>3364269.0</td>\n",
              "      <td>Web</td>\n",
              "      <td>2019-04-29 13:24:25</td>\n",
              "      <td>2019-04-29 13:24:27</td>\n",
              "      <td>2019-04-29 18:30:36</td>\n",
              "      <td>1.0</td>\n",
              "      <td>2019-04-30</td>\n",
              "      <td>1.0</td>\n",
              "      <td>Casey Mamoe</td>\n",
              "      <td>10000.0</td>\n",
              "      <td>10000.0</td>\n",
              "      <td>11856.0</td>\n",
              "      <td>62000.0</td>\n",
              "      <td>55000.0</td>\n",
              "      <td>10000.0</td>\n",
              "      <td>1.0</td>\n",
              "      <td>1.0</td>\n",
              "      <td>66856.0</td>\n",
              "      <td>72000.0</td>\n",
              "      <td>0.149575</td>\n",
              "      <td>0.138889</td>\n",
              "      <td>Credit Card Refinancing</td>\n",
              "      <td>Debt Consolidation</td>\n",
              "      <td>Retired</td>\n",
              "      <td>62.3</td>\n",
              "      <td>0.457451</td>\n",
              "      <td>678.0</td>\n",
              "      <td>653.0</td>\n",
              "      <td>115</td>\n",
              "      <td>9.0</td>\n",
              "      <td>9.0</td>\n",
              "      <td>13.49</td>\n",
              "      <td>1.0</td>\n",
              "      <td>1.0</td>\n",
              "      <td>1.0</td>\n",
              "      <td>77.91</td>\n",
              "      <td>53.655499</td>\n",
              "      <td>0.0</td>\n",
              "      <td>-0.010686</td>\n",
              "      <td>-61.842549</td>\n",
              "      <td>-25.0</td>\n",
              "      <td>0.0</td>\n",
              "      <td>0.0</td>\n",
              "    </tr>\n",
              "    <tr>\n",
              "      <th>2</th>\n",
              "      <td>a010f00000Tq9b3AAB</td>\n",
              "      <td>2019-02-27 22:42:24</td>\n",
              "      <td>8.452948e-02</td>\n",
              "      <td>4</td>\n",
              "      <td>72.941334</td>\n",
              "      <td>2</td>\n",
              "      <td>0</td>\n",
              "      <td>0.00</td>\n",
              "      <td>App-03960803</td>\n",
              "      <td>3010059.0</td>\n",
              "      <td>Web</td>\n",
              "      <td>2019-02-27 22:42:24</td>\n",
              "      <td>2019-02-27 22:42:25</td>\n",
              "      <td>NaN</td>\n",
              "      <td>1.0</td>\n",
              "      <td>NaN</td>\n",
              "      <td>0.0</td>\n",
              "      <td>Jamie Boldt</td>\n",
              "      <td>20000.0</td>\n",
              "      <td>20000.0</td>\n",
              "      <td>70000.0</td>\n",
              "      <td>70000.0</td>\n",
              "      <td>NaN</td>\n",
              "      <td>NaN</td>\n",
              "      <td>0.0</td>\n",
              "      <td>0.0</td>\n",
              "      <td>70000.0</td>\n",
              "      <td>70000.0</td>\n",
              "      <td>0.285714</td>\n",
              "      <td>0.285714</td>\n",
              "      <td>Debt Consolidation</td>\n",
              "      <td>Debt Consolidation</td>\n",
              "      <td>Retired</td>\n",
              "      <td>29.0</td>\n",
              "      <td>0.290281</td>\n",
              "      <td>719.0</td>\n",
              "      <td>719.0</td>\n",
              "      <td>115</td>\n",
              "      <td>9.0</td>\n",
              "      <td>9.0</td>\n",
              "      <td>NaN</td>\n",
              "      <td>4.0</td>\n",
              "      <td>4.0</td>\n",
              "      <td>NaN</td>\n",
              "      <td>NaN</td>\n",
              "      <td>72.941334</td>\n",
              "      <td>0.0</td>\n",
              "      <td>0.000000</td>\n",
              "      <td>-28.709719</td>\n",
              "      <td>0.0</td>\n",
              "      <td>0.0</td>\n",
              "      <td>0.0</td>\n",
              "    </tr>\n",
              "    <tr>\n",
              "      <th>3</th>\n",
              "      <td>a010f00000WSBY6AAP</td>\n",
              "      <td>2019-05-02 23:32:29</td>\n",
              "      <td>5.279838e-01</td>\n",
              "      <td>1</td>\n",
              "      <td>41.135220</td>\n",
              "      <td>3</td>\n",
              "      <td>0</td>\n",
              "      <td>0.00</td>\n",
              "      <td>App-04548298</td>\n",
              "      <td>3390695.0</td>\n",
              "      <td>Web</td>\n",
              "      <td>2019-05-02 23:32:29</td>\n",
              "      <td>2019-05-02 23:32:31</td>\n",
              "      <td>NaN</td>\n",
              "      <td>1.0</td>\n",
              "      <td>NaN</td>\n",
              "      <td>0.0</td>\n",
              "      <td>Amanda Fuller</td>\n",
              "      <td>10000.0</td>\n",
              "      <td>10000.0</td>\n",
              "      <td>60000.0</td>\n",
              "      <td>60000.0</td>\n",
              "      <td>12000.0</td>\n",
              "      <td>12000.0</td>\n",
              "      <td>1.0</td>\n",
              "      <td>1.0</td>\n",
              "      <td>72000.0</td>\n",
              "      <td>72000.0</td>\n",
              "      <td>0.138889</td>\n",
              "      <td>0.138889</td>\n",
              "      <td>Other</td>\n",
              "      <td>Other</td>\n",
              "      <td>Full-time</td>\n",
              "      <td>44.6</td>\n",
              "      <td>0.446276</td>\n",
              "      <td>655.0</td>\n",
              "      <td>655.0</td>\n",
              "      <td>115</td>\n",
              "      <td>3.0</td>\n",
              "      <td>3.0</td>\n",
              "      <td>NaN</td>\n",
              "      <td>12.0</td>\n",
              "      <td>12.0</td>\n",
              "      <td>NaN</td>\n",
              "      <td>NaN</td>\n",
              "      <td>41.135220</td>\n",
              "      <td>0.0</td>\n",
              "      <td>0.000000</td>\n",
              "      <td>-44.153724</td>\n",
              "      <td>0.0</td>\n",
              "      <td>0.0</td>\n",
              "      <td>0.0</td>\n",
              "    </tr>\n",
              "    <tr>\n",
              "      <th>4</th>\n",
              "      <td>a010f00000WsXcoAAF</td>\n",
              "      <td>2019-05-30 01:40:30</td>\n",
              "      <td>4.749825e-01</td>\n",
              "      <td>1</td>\n",
              "      <td>409.867184</td>\n",
              "      <td>1</td>\n",
              "      <td>0</td>\n",
              "      <td>0.00</td>\n",
              "      <td>App-04816148</td>\n",
              "      <td>1434836.0</td>\n",
              "      <td>Web</td>\n",
              "      <td>2019-05-30 01:40:30</td>\n",
              "      <td>2019-05-30 01:40:32</td>\n",
              "      <td>NaN</td>\n",
              "      <td>1.0</td>\n",
              "      <td>NaN</td>\n",
              "      <td>0.0</td>\n",
              "      <td>Ervin Ramos</td>\n",
              "      <td>20000.0</td>\n",
              "      <td>20000.0</td>\n",
              "      <td>60000.0</td>\n",
              "      <td>60000.0</td>\n",
              "      <td>76000.0</td>\n",
              "      <td>76000.0</td>\n",
              "      <td>1.0</td>\n",
              "      <td>1.0</td>\n",
              "      <td>136000.0</td>\n",
              "      <td>136000.0</td>\n",
              "      <td>0.147059</td>\n",
              "      <td>0.147059</td>\n",
              "      <td>Debt Consolidation</td>\n",
              "      <td>Debt Consolidation</td>\n",
              "      <td>Retired</td>\n",
              "      <td>28.1</td>\n",
              "      <td>0.281249</td>\n",
              "      <td>706.0</td>\n",
              "      <td>706.0</td>\n",
              "      <td>115</td>\n",
              "      <td>12.0</td>\n",
              "      <td>11.0</td>\n",
              "      <td>NaN</td>\n",
              "      <td>3.0</td>\n",
              "      <td>3.0</td>\n",
              "      <td>NaN</td>\n",
              "      <td>NaN</td>\n",
              "      <td>409.867184</td>\n",
              "      <td>0.0</td>\n",
              "      <td>0.000000</td>\n",
              "      <td>-27.818751</td>\n",
              "      <td>0.0</td>\n",
              "      <td>0.0</td>\n",
              "      <td>-1.0</td>\n",
              "    </tr>\n",
              "  </tbody>\n",
              "</table>\n",
              "</div>"
            ],
            "text/plain": [
              "            SF_App_Id       SF_App_Date_TS  ...  delta_loan_size  delta_bcc0300\n",
              "0  a010f00000Vy85MAAR  2019-04-08 23:29:35  ...              NaN            NaN\n",
              "1  a010f00000WN27oAAD  2019-04-29 13:24:25  ...              0.0            0.0\n",
              "2  a010f00000Tq9b3AAB  2019-02-27 22:42:24  ...              0.0            0.0\n",
              "3  a010f00000WSBY6AAP  2019-05-02 23:32:29  ...              0.0            0.0\n",
              "4  a010f00000WsXcoAAF  2019-05-30 01:40:30  ...              0.0           -1.0\n",
              "\n",
              "[5 rows x 52 columns]"
            ]
          },
          "metadata": {
            "tags": []
          },
          "execution_count": 17
        }
      ]
    },
    {
      "cell_type": "code",
      "metadata": {
        "id": "w7t0h9gZcVxo",
        "colab_type": "code",
        "colab": {
          "base_uri": "https://localhost:8080/",
          "height": 306
        },
        "outputId": "8a2f19e9-5c76-4434-b3eb-f15cfe978fd9"
      },
      "source": [
        "df.columns"
      ],
      "execution_count": null,
      "outputs": [
        {
          "output_type": "execute_result",
          "data": {
            "text/plain": [
              "Index(['SF_App_Id', 'SF_App_Date_TS', 'Funding_Score', 'Funding_Model_Segment',\n",
              "       'NPV_Score', 'NPV_Model_Segment', 'Funding', 'NPV_Actual', 'name',\n",
              "       'loan_application_id', 'lead_type__c', 'createddate',\n",
              "       'prequal_submitted_date__c', 'full_app_submitted_date__c',\n",
              "       'Loan_Officer_Assigned', 'date_funded__c', 'funded_flag',\n",
              "       'loan_officer_name__c', 'amount_of_loan_requested__c',\n",
              "       'first_amount_of_loan_requested', 'verifiable_annual_income__c',\n",
              "       'first_income_p1', 'co_app_verifiable_annual_income__c',\n",
              "       'first_income_p2', 'co_app', 'first_coapp', 'income_sum',\n",
              "       'first_income_sum', 'c_LTI', 'First_LTI', 'loan_use__c',\n",
              "       'first_loan_use', 'employment_status__c', 'ndi_ratio__c',\n",
              "       'first_ndi_ratio__c', 'fico__c', 'first_FICO', 'utm_source__c',\n",
              "       'bcc0300__c', 'first_bcc0300__c', 'interest_rate__c', 'risk_group__c',\n",
              "       'final_risk_group__c', 'risk_group_p1__c', 'NPV_Actual_Funded',\n",
              "       'NPV_Score_Funded', 'delta_coapp', 'delta_LTI', 'delta_NDI',\n",
              "       'delta_FICO', 'delta_loan_size', 'delta_bcc0300'],\n",
              "      dtype='object')"
            ]
          },
          "metadata": {
            "tags": []
          },
          "execution_count": 18
        }
      ]
    },
    {
      "cell_type": "code",
      "metadata": {
        "id": "JwtIJxS-c83D",
        "colab_type": "code",
        "colab": {}
      },
      "source": [
        "lead = {\"co_app_verifiable_annual_income\":342,\"loan_use\":'Debt Consolidation', \\\n",
        "        \"employment_status\":'Full-time', \"final_loan_amount\":25000, \"fico\":700,\\\n",
        "        \"lti\":18.8, \"xpn_bcc0300\":42, \"ndi_ratio\":40, \"utm_source\":'Lending Tree'}"
      ],
      "execution_count": null,
      "outputs": []
    },
    {
      "cell_type": "markdown",
      "metadata": {
        "id": "rprlub1IiEfT",
        "colab_type": "text"
      },
      "source": [
        "## Split Final DF and First DF"
      ]
    },
    {
      "cell_type": "code",
      "metadata": {
        "id": "M47lAopHcfph",
        "colab_type": "code",
        "colab": {}
      },
      "source": [
        "final_var = ['SF_App_Id', 'Funding_Score', 'Funding_Model_Segment', 'NPV_Score',\\\n",
        "            'NPV_Model_Segment', 'Funding', 'NPV_Actual', 'co_app', 'loan_use__c',\\\n",
        "            'employment_status__c', 'amount_of_loan_requested__c', 'fico__c', \\\n",
        "            'c_LTI', 'bcc0300__c', 'ndi_ratio__c', 'utm_source__c']\n",
        "\n",
        "first_var = ['SF_App_Id', 'Funding_Score', 'Funding_Model_Segment', 'NPV_Score',\\\n",
        "            'NPV_Model_Segment', 'Funding', 'NPV_Actual', 'first_coapp', 'first_loan_use',\\\n",
        "            'employment_status__c', 'first_amount_of_loan_requested', 'first_FICO', \\\n",
        "            'First_LTI', 'first_bcc0300__c', 'first_ndi_ratio__c', 'utm_source__c']"
      ],
      "execution_count": null,
      "outputs": []
    },
    {
      "cell_type": "code",
      "metadata": {
        "id": "Ej3HaMsffm3B",
        "colab_type": "code",
        "colab": {}
      },
      "source": [
        "final_df = df[final_var]\n",
        "first_df = df[first_var]"
      ],
      "execution_count": null,
      "outputs": []
    },
    {
      "cell_type": "code",
      "metadata": {
        "id": "33OQoc7IfukG",
        "colab_type": "code",
        "colab": {
          "base_uri": "https://localhost:8080/",
          "height": 289
        },
        "outputId": "03283c2d-1375-446d-f520-48795d1f946d"
      },
      "source": [
        "print(final_df.head())\n",
        "print(first_df.head())"
      ],
      "execution_count": null,
      "outputs": [
        {
          "output_type": "stream",
          "text": [
            "            SF_App_Id  Funding_Score  ...  ndi_ratio__c  utm_source__c\n",
            "0  a010f00000Vy85MAAR   9.801852e-08  ...           NaN            NaN\n",
            "1  a010f00000WN27oAAD   6.886856e-01  ...          62.3            115\n",
            "2  a010f00000Tq9b3AAB   8.452948e-02  ...          29.0            115\n",
            "3  a010f00000WSBY6AAP   5.279838e-01  ...          44.6            115\n",
            "4  a010f00000WsXcoAAF   4.749825e-01  ...          28.1            115\n",
            "\n",
            "[5 rows x 16 columns]\n",
            "            SF_App_Id  Funding_Score  ...  first_ndi_ratio__c  utm_source__c\n",
            "0  a010f00000Vy85MAAR   9.801852e-08  ...            0.441415            NaN\n",
            "1  a010f00000WN27oAAD   6.886856e-01  ...            0.457451            115\n",
            "2  a010f00000Tq9b3AAB   8.452948e-02  ...            0.290281            115\n",
            "3  a010f00000WSBY6AAP   5.279838e-01  ...            0.446276            115\n",
            "4  a010f00000WsXcoAAF   4.749825e-01  ...            0.281249            115\n",
            "\n",
            "[5 rows x 16 columns]\n"
          ],
          "name": "stdout"
        }
      ]
    },
    {
      "cell_type": "markdown",
      "metadata": {
        "id": "81CJ6FOwiAUa",
        "colab_type": "text"
      },
      "source": [
        "## Transform Variables"
      ]
    },
    {
      "cell_type": "markdown",
      "metadata": {
        "id": "jh6nYBlqfMAS",
        "colab_type": "text"
      },
      "source": [
        "**These Metrics need to be multiplied by 100**\n",
        "\n",
        "c_LTI\n",
        "\n",
        "First_LTI\n",
        "\n",
        "first_ndi_ratio__c\n",
        "\n"
      ]
    },
    {
      "cell_type": "markdown",
      "metadata": {
        "id": "s5cCAq9XiOlC",
        "colab_type": "text"
      },
      "source": [
        "### Initial Transform"
      ]
    },
    {
      "cell_type": "code",
      "metadata": {
        "id": "q4lYKwKaf323",
        "colab_type": "code",
        "colab": {
          "base_uri": "https://localhost:8080/",
          "height": 323
        },
        "outputId": "36e6fd9f-6825-4d4d-cc09-b8a5e53bf77f"
      },
      "source": [
        "final_df['c_LTI'] = final_df['c_LTI']*100\n",
        "first_df['First_LTI'] = first_df['First_LTI']*100\n",
        "first_df['first_ndi_ratio__c'] = first_df['first_ndi_ratio__c']*100"
      ],
      "execution_count": null,
      "outputs": [
        {
          "output_type": "stream",
          "text": [
            "/usr/local/lib/python3.6/dist-packages/ipykernel_launcher.py:1: SettingWithCopyWarning: \n",
            "A value is trying to be set on a copy of a slice from a DataFrame.\n",
            "Try using .loc[row_indexer,col_indexer] = value instead\n",
            "\n",
            "See the caveats in the documentation: http://pandas.pydata.org/pandas-docs/stable/indexing.html#indexing-view-versus-copy\n",
            "  \"\"\"Entry point for launching an IPython kernel.\n",
            "/usr/local/lib/python3.6/dist-packages/ipykernel_launcher.py:2: SettingWithCopyWarning: \n",
            "A value is trying to be set on a copy of a slice from a DataFrame.\n",
            "Try using .loc[row_indexer,col_indexer] = value instead\n",
            "\n",
            "See the caveats in the documentation: http://pandas.pydata.org/pandas-docs/stable/indexing.html#indexing-view-versus-copy\n",
            "  \n",
            "/usr/local/lib/python3.6/dist-packages/ipykernel_launcher.py:3: SettingWithCopyWarning: \n",
            "A value is trying to be set on a copy of a slice from a DataFrame.\n",
            "Try using .loc[row_indexer,col_indexer] = value instead\n",
            "\n",
            "See the caveats in the documentation: http://pandas.pydata.org/pandas-docs/stable/indexing.html#indexing-view-versus-copy\n",
            "  This is separate from the ipykernel package so we can avoid doing imports until\n"
          ],
          "name": "stderr"
        }
      ]
    },
    {
      "cell_type": "code",
      "metadata": {
        "id": "MsNUC3SfgVvC",
        "colab_type": "code",
        "colab": {
          "base_uri": "https://localhost:8080/",
          "height": 317
        },
        "outputId": "897b938d-4925-457f-8535-15f06b3ab35e"
      },
      "source": [
        "first_df.describe()"
      ],
      "execution_count": null,
      "outputs": [
        {
          "output_type": "execute_result",
          "data": {
            "text/html": [
              "<div>\n",
              "<style scoped>\n",
              "    .dataframe tbody tr th:only-of-type {\n",
              "        vertical-align: middle;\n",
              "    }\n",
              "\n",
              "    .dataframe tbody tr th {\n",
              "        vertical-align: top;\n",
              "    }\n",
              "\n",
              "    .dataframe thead th {\n",
              "        text-align: right;\n",
              "    }\n",
              "</style>\n",
              "<table border=\"1\" class=\"dataframe\">\n",
              "  <thead>\n",
              "    <tr style=\"text-align: right;\">\n",
              "      <th></th>\n",
              "      <th>Funding_Score</th>\n",
              "      <th>Funding_Model_Segment</th>\n",
              "      <th>NPV_Score</th>\n",
              "      <th>NPV_Model_Segment</th>\n",
              "      <th>Funding</th>\n",
              "      <th>NPV_Actual</th>\n",
              "      <th>first_coapp</th>\n",
              "      <th>first_amount_of_loan_requested</th>\n",
              "      <th>first_FICO</th>\n",
              "      <th>First_LTI</th>\n",
              "      <th>first_bcc0300__c</th>\n",
              "      <th>first_ndi_ratio__c</th>\n",
              "    </tr>\n",
              "  </thead>\n",
              "  <tbody>\n",
              "    <tr>\n",
              "      <th>count</th>\n",
              "      <td>2.507490e+05</td>\n",
              "      <td>250749.000000</td>\n",
              "      <td>250730.000000</td>\n",
              "      <td>250749.000000</td>\n",
              "      <td>250749.000000</td>\n",
              "      <td>250730.000000</td>\n",
              "      <td>249300.000000</td>\n",
              "      <td>248982.000000</td>\n",
              "      <td>246023.000000</td>\n",
              "      <td>248783.000000</td>\n",
              "      <td>247246.000000</td>\n",
              "      <td>244729.000000</td>\n",
              "    </tr>\n",
              "    <tr>\n",
              "      <th>mean</th>\n",
              "      <td>8.295375e-02</td>\n",
              "      <td>5.532856</td>\n",
              "      <td>60.030017</td>\n",
              "      <td>4.658890</td>\n",
              "      <td>0.090752</td>\n",
              "      <td>45.628623</td>\n",
              "      <td>0.153987</td>\n",
              "      <td>22188.402152</td>\n",
              "      <td>714.127659</td>\n",
              "      <td>23.702926</td>\n",
              "      <td>7.661899</td>\n",
              "      <td>37.842918</td>\n",
              "    </tr>\n",
              "    <tr>\n",
              "      <th>std</th>\n",
              "      <td>9.700508e-02</td>\n",
              "      <td>2.889049</td>\n",
              "      <td>117.059931</td>\n",
              "      <td>2.679194</td>\n",
              "      <td>0.287257</td>\n",
              "      <td>258.033385</td>\n",
              "      <td>0.360937</td>\n",
              "      <td>11604.587842</td>\n",
              "      <td>111.537659</td>\n",
              "      <td>15.029030</td>\n",
              "      <td>5.353731</td>\n",
              "      <td>14.959756</td>\n",
              "    </tr>\n",
              "    <tr>\n",
              "      <th>min</th>\n",
              "      <td>2.856693e-08</td>\n",
              "      <td>1.000000</td>\n",
              "      <td>-327.160570</td>\n",
              "      <td>1.000000</td>\n",
              "      <td>0.000000</td>\n",
              "      <td>-632.550000</td>\n",
              "      <td>0.000000</td>\n",
              "      <td>2500.000000</td>\n",
              "      <td>431.000000</td>\n",
              "      <td>0.001400</td>\n",
              "      <td>0.000000</td>\n",
              "      <td>0.003641</td>\n",
              "    </tr>\n",
              "    <tr>\n",
              "      <th>25%</th>\n",
              "      <td>2.256845e-02</td>\n",
              "      <td>3.000000</td>\n",
              "      <td>7.506289</td>\n",
              "      <td>2.000000</td>\n",
              "      <td>0.000000</td>\n",
              "      <td>0.000000</td>\n",
              "      <td>0.000000</td>\n",
              "      <td>13000.000000</td>\n",
              "      <td>676.000000</td>\n",
              "      <td>15.000000</td>\n",
              "      <td>4.000000</td>\n",
              "      <td>27.983692</td>\n",
              "    </tr>\n",
              "    <tr>\n",
              "      <th>50%</th>\n",
              "      <td>5.067782e-02</td>\n",
              "      <td>6.000000</td>\n",
              "      <td>25.367588</td>\n",
              "      <td>4.000000</td>\n",
              "      <td>0.000000</td>\n",
              "      <td>0.000000</td>\n",
              "      <td>0.000000</td>\n",
              "      <td>20000.000000</td>\n",
              "      <td>707.000000</td>\n",
              "      <td>21.052632</td>\n",
              "      <td>6.000000</td>\n",
              "      <td>36.769266</td>\n",
              "    </tr>\n",
              "    <tr>\n",
              "      <th>75%</th>\n",
              "      <td>1.038143e-01</td>\n",
              "      <td>8.000000</td>\n",
              "      <td>66.514386</td>\n",
              "      <td>7.000000</td>\n",
              "      <td>0.000000</td>\n",
              "      <td>0.000000</td>\n",
              "      <td>0.000000</td>\n",
              "      <td>30000.000000</td>\n",
              "      <td>745.000000</td>\n",
              "      <td>29.166667</td>\n",
              "      <td>10.000000</td>\n",
              "      <td>47.077911</td>\n",
              "    </tr>\n",
              "    <tr>\n",
              "      <th>max</th>\n",
              "      <td>9.477318e-01</td>\n",
              "      <td>10.000000</td>\n",
              "      <td>2137.949959</td>\n",
              "      <td>10.000000</td>\n",
              "      <td>1.000000</td>\n",
              "      <td>2432.910000</td>\n",
              "      <td>1.000000</td>\n",
              "      <td>288000.000000</td>\n",
              "      <td>9003.000000</td>\n",
              "      <td>1800.000000</td>\n",
              "      <td>99.000000</td>\n",
              "      <td>2300.065551</td>\n",
              "    </tr>\n",
              "  </tbody>\n",
              "</table>\n",
              "</div>"
            ],
            "text/plain": [
              "       Funding_Score  ...  first_ndi_ratio__c\n",
              "count   2.507490e+05  ...       244729.000000\n",
              "mean    8.295375e-02  ...           37.842918\n",
              "std     9.700508e-02  ...           14.959756\n",
              "min     2.856693e-08  ...            0.003641\n",
              "25%     2.256845e-02  ...           27.983692\n",
              "50%     5.067782e-02  ...           36.769266\n",
              "75%     1.038143e-01  ...           47.077911\n",
              "max     9.477318e-01  ...         2300.065551\n",
              "\n",
              "[8 rows x 12 columns]"
            ]
          },
          "metadata": {
            "tags": []
          },
          "execution_count": 23
        }
      ]
    },
    {
      "cell_type": "code",
      "metadata": {
        "id": "dHQvNRWNhO_l",
        "colab_type": "code",
        "colab": {
          "base_uri": "https://localhost:8080/",
          "height": 102
        },
        "outputId": "465eecb1-c312-4705-8ae9-7d56186facac"
      },
      "source": [
        "final_df.columns"
      ],
      "execution_count": null,
      "outputs": [
        {
          "output_type": "execute_result",
          "data": {
            "text/plain": [
              "Index(['SF_App_Id', 'Funding_Score', 'Funding_Model_Segment', 'NPV_Score',\n",
              "       'NPV_Model_Segment', 'Funding', 'NPV_Actual', 'co_app', 'loan_use__c',\n",
              "       'employment_status__c', 'amount_of_loan_requested__c', 'fico__c',\n",
              "       'c_LTI', 'bcc0300__c', 'ndi_ratio__c', 'utm_source__c'],\n",
              "      dtype='object')"
            ]
          },
          "metadata": {
            "tags": []
          },
          "execution_count": 25
        }
      ]
    },
    {
      "cell_type": "markdown",
      "metadata": {
        "id": "EIXeNH8kiKvC",
        "colab_type": "text"
      },
      "source": [
        "### Apply Model Transformations"
      ]
    },
    {
      "cell_type": "code",
      "metadata": {
        "id": "d_Gii9XzarUW",
        "colab_type": "code",
        "colab": {
          "base_uri": "https://localhost:8080/",
          "height": 1000
        },
        "outputId": "a173b5e4-149d-48c2-f6cc-576b2137243f"
      },
      "source": [
        "# Transform variables\n",
        "final_df['co_app'] = final_df['co_app'].apply(get_co_app_cat)\n",
        "final_df['loan_use'] = final_df['loan_use__c'].apply(get_loan_use_cat)\n",
        "final_df['employment'] = final_df['employment_status__c'].apply(get_employment_cat)\n",
        "final_df['loan_amount'] = final_df['amount_of_loan_requested__c'].apply(get_loan_amount_cat)\n",
        "final_df['mkt_chan'] = final_df['utm_source__c'].apply(get_mkt_chan_cat)\n",
        "final_df['ficox'] = final_df['fico__c'].apply(get_fico)\n",
        "final_df['lti'] = final_df['c_LTI'].apply(get_lti)\n",
        "final_df['bcc0300'] = final_df['bcc0300__c'].apply(get_bcc0300)\n",
        "final_df['ndi'] = final_df['ndi_ratio__c'].apply(get_ndi_ratio)\n",
        "final_df['ndisq'] = final_df['ndi'] * final_df['ndi']\n",
        "\n",
        "# Transform variables\n",
        "first_df['co_app'] = first_df['first_coapp'].apply(get_co_app_cat)\n",
        "first_df['loan_use'] = first_df['first_loan_use'].apply(get_loan_use_cat)\n",
        "first_df['employment'] = first_df['employment_status__c'].apply(get_employment_cat)\n",
        "first_df['loan_amount'] = first_df['first_amount_of_loan_requested'].apply(get_loan_amount_cat)\n",
        "first_df['mkt_chan'] = first_df['utm_source__c'].apply(get_mkt_chan_cat)\n",
        "first_df['ficox'] = first_df['first_FICO'].apply(get_fico)\n",
        "first_df['lti'] = first_df['First_LTI'].apply(get_lti)\n",
        "first_df['bcc0300'] = first_df['first_bcc0300__c'].apply(get_bcc0300)\n",
        "first_df['ndi'] = first_df['first_ndi_ratio__c'].apply(get_ndi_ratio)\n",
        "first_df['ndisq'] = first_df['ndi'] * first_df['ndi']"
      ],
      "execution_count": null,
      "outputs": [
        {
          "output_type": "stream",
          "text": [
            "/usr/local/lib/python3.6/dist-packages/ipykernel_launcher.py:1: SettingWithCopyWarning: \n",
            "A value is trying to be set on a copy of a slice from a DataFrame.\n",
            "Try using .loc[row_indexer,col_indexer] = value instead\n",
            "\n",
            "See the caveats in the documentation: http://pandas.pydata.org/pandas-docs/stable/indexing.html#indexing-view-versus-copy\n",
            "  \"\"\"Entry point for launching an IPython kernel.\n",
            "/usr/local/lib/python3.6/dist-packages/ipykernel_launcher.py:2: SettingWithCopyWarning: \n",
            "A value is trying to be set on a copy of a slice from a DataFrame.\n",
            "Try using .loc[row_indexer,col_indexer] = value instead\n",
            "\n",
            "See the caveats in the documentation: http://pandas.pydata.org/pandas-docs/stable/indexing.html#indexing-view-versus-copy\n",
            "  \n",
            "/usr/local/lib/python3.6/dist-packages/ipykernel_launcher.py:3: SettingWithCopyWarning: \n",
            "A value is trying to be set on a copy of a slice from a DataFrame.\n",
            "Try using .loc[row_indexer,col_indexer] = value instead\n",
            "\n",
            "See the caveats in the documentation: http://pandas.pydata.org/pandas-docs/stable/indexing.html#indexing-view-versus-copy\n",
            "  This is separate from the ipykernel package so we can avoid doing imports until\n",
            "/usr/local/lib/python3.6/dist-packages/ipykernel_launcher.py:4: SettingWithCopyWarning: \n",
            "A value is trying to be set on a copy of a slice from a DataFrame.\n",
            "Try using .loc[row_indexer,col_indexer] = value instead\n",
            "\n",
            "See the caveats in the documentation: http://pandas.pydata.org/pandas-docs/stable/indexing.html#indexing-view-versus-copy\n",
            "  after removing the cwd from sys.path.\n",
            "/usr/local/lib/python3.6/dist-packages/ipykernel_launcher.py:5: SettingWithCopyWarning: \n",
            "A value is trying to be set on a copy of a slice from a DataFrame.\n",
            "Try using .loc[row_indexer,col_indexer] = value instead\n",
            "\n",
            "See the caveats in the documentation: http://pandas.pydata.org/pandas-docs/stable/indexing.html#indexing-view-versus-copy\n",
            "  \"\"\"\n",
            "/usr/local/lib/python3.6/dist-packages/ipykernel_launcher.py:6: SettingWithCopyWarning: \n",
            "A value is trying to be set on a copy of a slice from a DataFrame.\n",
            "Try using .loc[row_indexer,col_indexer] = value instead\n",
            "\n",
            "See the caveats in the documentation: http://pandas.pydata.org/pandas-docs/stable/indexing.html#indexing-view-versus-copy\n",
            "  \n",
            "/usr/local/lib/python3.6/dist-packages/ipykernel_launcher.py:7: SettingWithCopyWarning: \n",
            "A value is trying to be set on a copy of a slice from a DataFrame.\n",
            "Try using .loc[row_indexer,col_indexer] = value instead\n",
            "\n",
            "See the caveats in the documentation: http://pandas.pydata.org/pandas-docs/stable/indexing.html#indexing-view-versus-copy\n",
            "  import sys\n",
            "/usr/local/lib/python3.6/dist-packages/ipykernel_launcher.py:8: SettingWithCopyWarning: \n",
            "A value is trying to be set on a copy of a slice from a DataFrame.\n",
            "Try using .loc[row_indexer,col_indexer] = value instead\n",
            "\n",
            "See the caveats in the documentation: http://pandas.pydata.org/pandas-docs/stable/indexing.html#indexing-view-versus-copy\n",
            "  \n",
            "/usr/local/lib/python3.6/dist-packages/ipykernel_launcher.py:9: SettingWithCopyWarning: \n",
            "A value is trying to be set on a copy of a slice from a DataFrame.\n",
            "Try using .loc[row_indexer,col_indexer] = value instead\n",
            "\n",
            "See the caveats in the documentation: http://pandas.pydata.org/pandas-docs/stable/indexing.html#indexing-view-versus-copy\n",
            "  if __name__ == '__main__':\n",
            "/usr/local/lib/python3.6/dist-packages/ipykernel_launcher.py:10: SettingWithCopyWarning: \n",
            "A value is trying to be set on a copy of a slice from a DataFrame.\n",
            "Try using .loc[row_indexer,col_indexer] = value instead\n",
            "\n",
            "See the caveats in the documentation: http://pandas.pydata.org/pandas-docs/stable/indexing.html#indexing-view-versus-copy\n",
            "  # Remove the CWD from sys.path while we load stuff.\n",
            "/usr/local/lib/python3.6/dist-packages/ipykernel_launcher.py:13: SettingWithCopyWarning: \n",
            "A value is trying to be set on a copy of a slice from a DataFrame.\n",
            "Try using .loc[row_indexer,col_indexer] = value instead\n",
            "\n",
            "See the caveats in the documentation: http://pandas.pydata.org/pandas-docs/stable/indexing.html#indexing-view-versus-copy\n",
            "  del sys.path[0]\n",
            "/usr/local/lib/python3.6/dist-packages/ipykernel_launcher.py:14: SettingWithCopyWarning: \n",
            "A value is trying to be set on a copy of a slice from a DataFrame.\n",
            "Try using .loc[row_indexer,col_indexer] = value instead\n",
            "\n",
            "See the caveats in the documentation: http://pandas.pydata.org/pandas-docs/stable/indexing.html#indexing-view-versus-copy\n",
            "  \n",
            "/usr/local/lib/python3.6/dist-packages/ipykernel_launcher.py:15: SettingWithCopyWarning: \n",
            "A value is trying to be set on a copy of a slice from a DataFrame.\n",
            "Try using .loc[row_indexer,col_indexer] = value instead\n",
            "\n",
            "See the caveats in the documentation: http://pandas.pydata.org/pandas-docs/stable/indexing.html#indexing-view-versus-copy\n",
            "  from ipykernel import kernelapp as app\n",
            "/usr/local/lib/python3.6/dist-packages/ipykernel_launcher.py:16: SettingWithCopyWarning: \n",
            "A value is trying to be set on a copy of a slice from a DataFrame.\n",
            "Try using .loc[row_indexer,col_indexer] = value instead\n",
            "\n",
            "See the caveats in the documentation: http://pandas.pydata.org/pandas-docs/stable/indexing.html#indexing-view-versus-copy\n",
            "  app.launch_new_instance()\n",
            "/usr/local/lib/python3.6/dist-packages/ipykernel_launcher.py:17: SettingWithCopyWarning: \n",
            "A value is trying to be set on a copy of a slice from a DataFrame.\n",
            "Try using .loc[row_indexer,col_indexer] = value instead\n",
            "\n",
            "See the caveats in the documentation: http://pandas.pydata.org/pandas-docs/stable/indexing.html#indexing-view-versus-copy\n",
            "/usr/local/lib/python3.6/dist-packages/ipykernel_launcher.py:18: SettingWithCopyWarning: \n",
            "A value is trying to be set on a copy of a slice from a DataFrame.\n",
            "Try using .loc[row_indexer,col_indexer] = value instead\n",
            "\n",
            "See the caveats in the documentation: http://pandas.pydata.org/pandas-docs/stable/indexing.html#indexing-view-versus-copy\n",
            "/usr/local/lib/python3.6/dist-packages/ipykernel_launcher.py:19: SettingWithCopyWarning: \n",
            "A value is trying to be set on a copy of a slice from a DataFrame.\n",
            "Try using .loc[row_indexer,col_indexer] = value instead\n",
            "\n",
            "See the caveats in the documentation: http://pandas.pydata.org/pandas-docs/stable/indexing.html#indexing-view-versus-copy\n",
            "/usr/local/lib/python3.6/dist-packages/ipykernel_launcher.py:20: SettingWithCopyWarning: \n",
            "A value is trying to be set on a copy of a slice from a DataFrame.\n",
            "Try using .loc[row_indexer,col_indexer] = value instead\n",
            "\n",
            "See the caveats in the documentation: http://pandas.pydata.org/pandas-docs/stable/indexing.html#indexing-view-versus-copy\n",
            "/usr/local/lib/python3.6/dist-packages/ipykernel_launcher.py:21: SettingWithCopyWarning: \n",
            "A value is trying to be set on a copy of a slice from a DataFrame.\n",
            "Try using .loc[row_indexer,col_indexer] = value instead\n",
            "\n",
            "See the caveats in the documentation: http://pandas.pydata.org/pandas-docs/stable/indexing.html#indexing-view-versus-copy\n",
            "/usr/local/lib/python3.6/dist-packages/ipykernel_launcher.py:22: SettingWithCopyWarning: \n",
            "A value is trying to be set on a copy of a slice from a DataFrame.\n",
            "Try using .loc[row_indexer,col_indexer] = value instead\n",
            "\n",
            "See the caveats in the documentation: http://pandas.pydata.org/pandas-docs/stable/indexing.html#indexing-view-versus-copy\n"
          ],
          "name": "stderr"
        }
      ]
    },
    {
      "cell_type": "markdown",
      "metadata": {
        "id": "vPmL6izMiUPz",
        "colab_type": "text"
      },
      "source": [
        "### Dummy Variables"
      ]
    },
    {
      "cell_type": "markdown",
      "metadata": {
        "id": "sEI9vrgnnCtC",
        "colab_type": "text"
      },
      "source": [
        "#### Final DF"
      ]
    },
    {
      "cell_type": "code",
      "metadata": {
        "id": "HcoxMfJRiuWw",
        "colab_type": "code",
        "colab": {
          "base_uri": "https://localhost:8080/",
          "height": 136
        },
        "outputId": "61922a64-4551-436a-c90a-4723f044672a"
      },
      "source": [
        "final_df.columns"
      ],
      "execution_count": null,
      "outputs": [
        {
          "output_type": "execute_result",
          "data": {
            "text/plain": [
              "Index(['SF_App_Id', 'Funding_Score', 'Funding_Model_Segment', 'NPV_Score',\n",
              "       'NPV_Model_Segment', 'Funding', 'NPV_Actual', 'co_app', 'loan_use__c',\n",
              "       'employment_status__c', 'amount_of_loan_requested__c', 'fico__c',\n",
              "       'c_LTI', 'bcc0300__c', 'ndi_ratio__c', 'utm_source__c', 'loan_use',\n",
              "       'employment', 'loan_amount', 'mkt_chan', 'ficox', 'lti', 'bcc0300',\n",
              "       'ndi', 'ndisq'],\n",
              "      dtype='object')"
            ]
          },
          "metadata": {
            "tags": []
          },
          "execution_count": 28
        }
      ]
    },
    {
      "cell_type": "code",
      "metadata": {
        "id": "9_RG_hyEiXD5",
        "colab_type": "code",
        "colab": {}
      },
      "source": [
        "# create dummies\n",
        "cat_vars = ['co_app','loan_use','employment','loan_amount','mkt_chan']\n",
        "for var in cat_vars:\n",
        "    cat_list = pd.get_dummies(final_df[var], prefix=var)\n",
        "    temp = final_df.join(cat_list)\n",
        "    final_df = temp\n",
        "data_vars = final_df.columns.values.tolist()\n",
        "to_keep = [i for i in data_vars if i not in cat_vars]\n",
        "final_df = final_df[to_keep]"
      ],
      "execution_count": null,
      "outputs": []
    },
    {
      "cell_type": "code",
      "metadata": {
        "id": "_iYahAuJi4TR",
        "colab_type": "code",
        "colab": {
          "base_uri": "https://localhost:8080/",
          "height": 187
        },
        "outputId": "a726d7a1-c029-4c04-f428-21e2026de25e"
      },
      "source": [
        "final_df.columns"
      ],
      "execution_count": null,
      "outputs": [
        {
          "output_type": "execute_result",
          "data": {
            "text/plain": [
              "Index(['SF_App_Id', 'Funding_Score', 'Funding_Model_Segment', 'NPV_Score',\n",
              "       'NPV_Model_Segment', 'Funding', 'NPV_Actual', 'loan_use__c',\n",
              "       'employment_status__c', 'amount_of_loan_requested__c', 'fico__c',\n",
              "       'c_LTI', 'bcc0300__c', 'ndi_ratio__c', 'utm_source__c', 'ficox', 'lti',\n",
              "       'bcc0300', 'ndi', 'ndisq', 'co_app_0', 'co_app_1', 'loan_use_1',\n",
              "       'loan_use_2', 'loan_use_3', 'loan_use_4', 'employment_1',\n",
              "       'employment_2', 'employment_3', 'employment_4', 'loan_amount_1',\n",
              "       'loan_amount_2', 'loan_amount_3', 'loan_amount_4', 'mkt_chan_1',\n",
              "       'mkt_chan_2', 'mkt_chan_3', 'mkt_chan_5', 'mkt_chan_6', 'mkt_chan_7'],\n",
              "      dtype='object')"
            ]
          },
          "metadata": {
            "tags": []
          },
          "execution_count": 30
        }
      ]
    },
    {
      "cell_type": "code",
      "metadata": {
        "id": "_uuEAdQTj1Ti",
        "colab_type": "code",
        "colab": {}
      },
      "source": [
        "# re-index to have same columns as the model\n",
        "final_df_indexed = final_df.reindex(columns = ['ficox', 'lti', 'bcc0300', 'ndi', 'ndisq', 'co_app_0', 'co_app_1',\n",
        "                               'loan_use_1', 'loan_use_2', 'loan_use_3', 'loan_use_4', 'employment_1',\n",
        "                               'employment_2', 'employment_3', 'employment_4', 'loan_amount_1',\n",
        "                               'loan_amount_2', 'loan_amount_3', 'loan_amount_4', 'mkt_chan_1',\n",
        "                               'mkt_chan_2', 'mkt_chan_3', 'mkt_chan_5', 'mkt_chan_6', \n",
        "                               'mkt_chan_7'], fill_value=0)"
      ],
      "execution_count": null,
      "outputs": []
    },
    {
      "cell_type": "code",
      "metadata": {
        "id": "65CbqfZKjCRz",
        "colab_type": "code",
        "colab": {}
      },
      "source": [
        "prob_prediction = fplus_ls_model.predict_proba(final_df_indexed)[0][1]"
      ],
      "execution_count": null,
      "outputs": []
    },
    {
      "cell_type": "code",
      "metadata": {
        "id": "sLmxTiVxj_gT",
        "colab_type": "code",
        "colab": {
          "base_uri": "https://localhost:8080/",
          "height": 119
        },
        "outputId": "fd74abdd-1137-4593-fdae-f027c17b5b0c"
      },
      "source": [
        "final_df['New_Funding_Score'] = fplus_ls_model.predict_proba(final_df_indexed)[:,1]"
      ],
      "execution_count": null,
      "outputs": [
        {
          "output_type": "stream",
          "text": [
            "/usr/local/lib/python3.6/dist-packages/ipykernel_launcher.py:1: SettingWithCopyWarning: \n",
            "A value is trying to be set on a copy of a slice from a DataFrame.\n",
            "Try using .loc[row_indexer,col_indexer] = value instead\n",
            "\n",
            "See the caveats in the documentation: http://pandas.pydata.org/pandas-docs/stable/indexing.html#indexing-view-versus-copy\n",
            "  \"\"\"Entry point for launching an IPython kernel.\n"
          ],
          "name": "stderr"
        }
      ]
    },
    {
      "cell_type": "code",
      "metadata": {
        "id": "K8v44QJumLAz",
        "colab_type": "code",
        "colab": {
          "base_uri": "https://localhost:8080/",
          "height": 119
        },
        "outputId": "8938be89-aee7-4b9d-aef7-1e0251a34544"
      },
      "source": [
        "final_df['New_NPV_Score'] = final_df.apply(lambda row : get_npv_calc(row['amount_of_loan_requested__c'], \n",
        "                                  row['New_Funding_Score'], row['utm_source__c']), axis = 1) "
      ],
      "execution_count": null,
      "outputs": [
        {
          "output_type": "stream",
          "text": [
            "/usr/local/lib/python3.6/dist-packages/ipykernel_launcher.py:2: SettingWithCopyWarning: \n",
            "A value is trying to be set on a copy of a slice from a DataFrame.\n",
            "Try using .loc[row_indexer,col_indexer] = value instead\n",
            "\n",
            "See the caveats in the documentation: http://pandas.pydata.org/pandas-docs/stable/indexing.html#indexing-view-versus-copy\n",
            "  \n"
          ],
          "name": "stderr"
        }
      ]
    },
    {
      "cell_type": "markdown",
      "metadata": {
        "id": "oygCHfXWnUFC",
        "colab_type": "text"
      },
      "source": [
        "#### First DF"
      ]
    },
    {
      "cell_type": "code",
      "metadata": {
        "id": "yJS4gZR1nWgZ",
        "colab_type": "code",
        "colab": {
          "base_uri": "https://localhost:8080/",
          "height": 153
        },
        "outputId": "5c8cdf00-8bbb-4cf9-9b1b-066b5931321f"
      },
      "source": [
        "first_df.columns"
      ],
      "execution_count": null,
      "outputs": [
        {
          "output_type": "execute_result",
          "data": {
            "text/plain": [
              "Index(['SF_App_Id', 'Funding_Score', 'Funding_Model_Segment', 'NPV_Score',\n",
              "       'NPV_Model_Segment', 'Funding', 'NPV_Actual', 'first_coapp',\n",
              "       'first_loan_use', 'employment_status__c',\n",
              "       'first_amount_of_loan_requested', 'first_FICO', 'First_LTI',\n",
              "       'first_bcc0300__c', 'first_ndi_ratio__c', 'utm_source__c', 'co_app',\n",
              "       'loan_use', 'employment', 'loan_amount', 'mkt_chan', 'ficox', 'lti',\n",
              "       'bcc0300', 'ndi', 'ndisq'],\n",
              "      dtype='object')"
            ]
          },
          "metadata": {
            "tags": []
          },
          "execution_count": 55
        }
      ]
    },
    {
      "cell_type": "code",
      "metadata": {
        "id": "vsRWMMvSnWj9",
        "colab_type": "code",
        "colab": {}
      },
      "source": [
        "# create dummies\n",
        "cat_vars = ['co_app','loan_use','employment','loan_amount','mkt_chan']\n",
        "for var in cat_vars:\n",
        "    cat_list = pd.get_dummies(first_df[var], prefix=var)\n",
        "    temp = first_df.join(cat_list)\n",
        "    first_df = temp\n",
        "data_vars = first_df.columns.values.tolist()\n",
        "to_keep = [i for i in data_vars if i not in cat_vars]\n",
        "first_df = first_df[to_keep]"
      ],
      "execution_count": null,
      "outputs": []
    },
    {
      "cell_type": "code",
      "metadata": {
        "id": "7YL05WVenWmX",
        "colab_type": "code",
        "colab": {
          "base_uri": "https://localhost:8080/",
          "height": 204
        },
        "outputId": "c2becce9-fe2a-4ca7-ce60-3e53718167db"
      },
      "source": [
        "first_df.columns"
      ],
      "execution_count": null,
      "outputs": [
        {
          "output_type": "execute_result",
          "data": {
            "text/plain": [
              "Index(['SF_App_Id', 'Funding_Score', 'Funding_Model_Segment', 'NPV_Score',\n",
              "       'NPV_Model_Segment', 'Funding', 'NPV_Actual', 'first_coapp',\n",
              "       'first_loan_use', 'employment_status__c',\n",
              "       'first_amount_of_loan_requested', 'first_FICO', 'First_LTI',\n",
              "       'first_bcc0300__c', 'first_ndi_ratio__c', 'utm_source__c', 'ficox',\n",
              "       'lti', 'bcc0300', 'ndi', 'ndisq', 'co_app_0', 'co_app_1', 'loan_use_1',\n",
              "       'loan_use_2', 'loan_use_3', 'loan_use_4', 'employment_1',\n",
              "       'employment_2', 'employment_3', 'employment_4', 'loan_amount_1',\n",
              "       'loan_amount_2', 'loan_amount_3', 'loan_amount_4', 'mkt_chan_1',\n",
              "       'mkt_chan_2', 'mkt_chan_3', 'mkt_chan_5', 'mkt_chan_6', 'mkt_chan_7'],\n",
              "      dtype='object')"
            ]
          },
          "metadata": {
            "tags": []
          },
          "execution_count": 57
        }
      ]
    },
    {
      "cell_type": "code",
      "metadata": {
        "id": "_esoBI_VnWo3",
        "colab_type": "code",
        "colab": {}
      },
      "source": [
        "# re-index to have same columns as the model\n",
        "first_df_indexed = first_df.reindex(columns = ['ficox', 'lti', 'bcc0300', 'ndi', 'ndisq', 'co_app_0', 'co_app_1',\n",
        "                               'loan_use_1', 'loan_use_2', 'loan_use_3', 'loan_use_4', 'employment_1',\n",
        "                               'employment_2', 'employment_3', 'employment_4', 'loan_amount_1',\n",
        "                               'loan_amount_2', 'loan_amount_3', 'loan_amount_4', 'mkt_chan_1',\n",
        "                               'mkt_chan_2', 'mkt_chan_3', 'mkt_chan_5', 'mkt_chan_6', \n",
        "                               'mkt_chan_7'], fill_value=0)"
      ],
      "execution_count": null,
      "outputs": []
    },
    {
      "cell_type": "markdown",
      "metadata": {
        "id": "LGhQEuyBoKSt",
        "colab_type": "text"
      },
      "source": [
        "### Predict"
      ]
    },
    {
      "cell_type": "code",
      "metadata": {
        "id": "5WQFdG8_nWyN",
        "colab_type": "code",
        "colab": {
          "base_uri": "https://localhost:8080/",
          "height": 119
        },
        "outputId": "11ea9b98-633d-4149-8307-9f8798e92d7e"
      },
      "source": [
        "first_df['First_Funding_Score'] = fplus_ls_model.predict_proba(first_df_indexed)[:,1]"
      ],
      "execution_count": null,
      "outputs": [
        {
          "output_type": "stream",
          "text": [
            "/usr/local/lib/python3.6/dist-packages/ipykernel_launcher.py:1: SettingWithCopyWarning: \n",
            "A value is trying to be set on a copy of a slice from a DataFrame.\n",
            "Try using .loc[row_indexer,col_indexer] = value instead\n",
            "\n",
            "See the caveats in the documentation: http://pandas.pydata.org/pandas-docs/stable/indexing.html#indexing-view-versus-copy\n",
            "  \"\"\"Entry point for launching an IPython kernel.\n"
          ],
          "name": "stderr"
        }
      ]
    },
    {
      "cell_type": "code",
      "metadata": {
        "id": "nnpr4h6knW5I",
        "colab_type": "code",
        "colab": {
          "base_uri": "https://localhost:8080/",
          "height": 119
        },
        "outputId": "ff391794-15e2-48fe-e6f9-3bd5b9a32303"
      },
      "source": [
        "first_df['New_NPV_Score'] = first_df.apply(lambda row : get_npv_calc(row['first_amount_of_loan_requested'], \n",
        "                                  row['First_Funding_Score'], row['utm_source__c']), axis = 1) "
      ],
      "execution_count": null,
      "outputs": [
        {
          "output_type": "stream",
          "text": [
            "/usr/local/lib/python3.6/dist-packages/ipykernel_launcher.py:2: SettingWithCopyWarning: \n",
            "A value is trying to be set on a copy of a slice from a DataFrame.\n",
            "Try using .loc[row_indexer,col_indexer] = value instead\n",
            "\n",
            "See the caveats in the documentation: http://pandas.pydata.org/pandas-docs/stable/indexing.html#indexing-view-versus-copy\n",
            "  \n"
          ],
          "name": "stderr"
        }
      ]
    },
    {
      "cell_type": "code",
      "metadata": {
        "id": "Q3jl331WYltP",
        "colab_type": "code",
        "colab": {}
      },
      "source": [
        "first_df.to_csv('first_df.csv', index=False)"
      ],
      "execution_count": null,
      "outputs": []
    },
    {
      "cell_type": "code",
      "metadata": {
        "id": "4b5scM2FY49o",
        "colab_type": "code",
        "colab": {}
      },
      "source": [
        "final_df.to_csv('final_df.csv', index=False)"
      ],
      "execution_count": null,
      "outputs": []
    },
    {
      "cell_type": "code",
      "metadata": {
        "id": "r7G8-Pz3ohGX",
        "colab_type": "code",
        "colab": {}
      },
      "source": [
        "['SF_App_Id', 'Funding_Score', 'Funding_Model_Segment', 'NPV_Score',\\\n",
        "            'NPV_Model_Segment', 'Funding', 'NPV_Actual', 'co_app', 'loan_use__c',\\\n",
        "            'employment_status__c', 'amount_of_loan_requested__c', 'fico__c', \\\n",
        "            'c_LTI', 'bcc0300__c', 'ndi_ratio__c', 'utm_source__c']"
      ],
      "execution_count": null,
      "outputs": []
    },
    {
      "cell_type": "markdown",
      "metadata": {
        "id": "zm3LFBB2k3KN",
        "colab_type": "text"
      },
      "source": [
        "# Austen Data"
      ]
    },
    {
      "cell_type": "code",
      "metadata": {
        "id": "3Haxjc2Vk45q",
        "colab_type": "code",
        "colab": {}
      },
      "source": [
        "# Using GBQ shout Out to Hughes\n",
        "import pandas_gbq\n",
        "import pydata_google_auth\n",
        "\n",
        "SCOPES = [\n",
        "    'https://www.googleapis.com/auth/cloud-platform',\n",
        "    'https://www.googleapis.com/auth/drive',\n",
        "]\n",
        "\n",
        "credentials = pydata_google_auth.get_user_credentials(\n",
        "    SCOPES,\n",
        "    auth_local_webserver=False)"
      ],
      "execution_count": null,
      "outputs": []
    },
    {
      "cell_type": "code",
      "metadata": {
        "id": "PU39qS9Vk4-G",
        "colab_type": "code",
        "colab": {}
      },
      "source": [
        "sql = \"\"\"\n",
        "SELECT \n",
        "  id\n",
        ", co_app_verifiable_annual_income__c\n",
        ", loan_use__c\n",
        ", employment_status__c\n",
        ", amount_of_loan_requested__c\n",
        ", fico__c\n",
        ", lti__c\n",
        ", bcc0300__c\n",
        ", ndi_ratio__c\n",
        ", utm_source__c\n",
        "\n",
        "FROM `freedom-dw.salesforce_ffam.application__c` a \n",
        "\n",
        "WHERE createddate >= '2019-01-01'\n",
        "\"\"\""
      ],
      "execution_count": null,
      "outputs": []
    },
    {
      "cell_type": "code",
      "metadata": {
        "id": "xp8kIRvVk5Az",
        "colab_type": "code",
        "colab": {}
      },
      "source": [
        "df1 = pandas_gbq.read_gbq(sql, project_id='ffn-dw-bigquery-prd', credentials=credentials, dialect='standard')\n",
        "\n",
        "df = df1"
      ],
      "execution_count": null,
      "outputs": []
    },
    {
      "cell_type": "code",
      "metadata": {
        "id": "m5jHWqdTpsFS",
        "colab_type": "code",
        "colab": {}
      },
      "source": [
        "final_df = df"
      ],
      "execution_count": null,
      "outputs": []
    },
    {
      "cell_type": "code",
      "metadata": {
        "id": "RJEegdBnPVnl",
        "colab_type": "code",
        "colab": {
          "base_uri": "https://localhost:8080/",
          "height": 289
        },
        "outputId": "f076523a-4933-4099-bb5c-6713c76bcf82"
      },
      "source": [
        "final_df.head()"
      ],
      "execution_count": null,
      "outputs": [
        {
          "output_type": "execute_result",
          "data": {
            "text/html": [
              "<div>\n",
              "<style scoped>\n",
              "    .dataframe tbody tr th:only-of-type {\n",
              "        vertical-align: middle;\n",
              "    }\n",
              "\n",
              "    .dataframe tbody tr th {\n",
              "        vertical-align: top;\n",
              "    }\n",
              "\n",
              "    .dataframe thead th {\n",
              "        text-align: right;\n",
              "    }\n",
              "</style>\n",
              "<table border=\"1\" class=\"dataframe\">\n",
              "  <thead>\n",
              "    <tr style=\"text-align: right;\">\n",
              "      <th></th>\n",
              "      <th>id</th>\n",
              "      <th>co_app_verifiable_annual_income__c</th>\n",
              "      <th>loan_use__c</th>\n",
              "      <th>employment_status__c</th>\n",
              "      <th>amount_of_loan_requested__c</th>\n",
              "      <th>fico__c</th>\n",
              "      <th>lti__c</th>\n",
              "      <th>bcc0300__c</th>\n",
              "      <th>ndi_ratio__c</th>\n",
              "      <th>utm_source__c</th>\n",
              "    </tr>\n",
              "  </thead>\n",
              "  <tbody>\n",
              "    <tr>\n",
              "      <th>0</th>\n",
              "      <td>a010f00000W0aYWAAZ</td>\n",
              "      <td>NaN</td>\n",
              "      <td>Home Improvement</td>\n",
              "      <td>Full-time</td>\n",
              "      <td>20000.0</td>\n",
              "      <td>756.0</td>\n",
              "      <td>16.7</td>\n",
              "      <td>26.0</td>\n",
              "      <td>22.8</td>\n",
              "      <td>Quinstreet</td>\n",
              "    </tr>\n",
              "    <tr>\n",
              "      <th>1</th>\n",
              "      <td>a010f00000WTBuLAAX</td>\n",
              "      <td>NaN</td>\n",
              "      <td>Credit Card Refinancing</td>\n",
              "      <td>Full-time</td>\n",
              "      <td>20000.0</td>\n",
              "      <td>673.0</td>\n",
              "      <td>13.2</td>\n",
              "      <td>23.0</td>\n",
              "      <td>24.4</td>\n",
              "      <td>Lending Tree</td>\n",
              "    </tr>\n",
              "    <tr>\n",
              "      <th>2</th>\n",
              "      <td>a010f00000YkMLPAA3</td>\n",
              "      <td>NaN</td>\n",
              "      <td>Debt Consolidation</td>\n",
              "      <td>Full-time</td>\n",
              "      <td>35000.0</td>\n",
              "      <td>750.0</td>\n",
              "      <td>34.9</td>\n",
              "      <td>23.0</td>\n",
              "      <td>30.5</td>\n",
              "      <td>even</td>\n",
              "    </tr>\n",
              "    <tr>\n",
              "      <th>3</th>\n",
              "      <td>a010f00000WqYL7AAN</td>\n",
              "      <td>NaN</td>\n",
              "      <td>Debt Consolidation</td>\n",
              "      <td>Full-time</td>\n",
              "      <td>10000.0</td>\n",
              "      <td>631.0</td>\n",
              "      <td>13.9</td>\n",
              "      <td>24.0</td>\n",
              "      <td>156.2</td>\n",
              "      <td>even</td>\n",
              "    </tr>\n",
              "    <tr>\n",
              "      <th>4</th>\n",
              "      <td>a010f00000V7d3OAAR</td>\n",
              "      <td>NaN</td>\n",
              "      <td>Debt Consolidation</td>\n",
              "      <td>Retired</td>\n",
              "      <td>45000.0</td>\n",
              "      <td>639.0</td>\n",
              "      <td>34.9</td>\n",
              "      <td>21.0</td>\n",
              "      <td>66.6</td>\n",
              "      <td>crowdnetic</td>\n",
              "    </tr>\n",
              "  </tbody>\n",
              "</table>\n",
              "</div>"
            ],
            "text/plain": [
              "                   id  ...  utm_source__c\n",
              "0  a010f00000W0aYWAAZ  ...     Quinstreet\n",
              "1  a010f00000WTBuLAAX  ...   Lending Tree\n",
              "2  a010f00000YkMLPAA3  ...           even\n",
              "3  a010f00000WqYL7AAN  ...           even\n",
              "4  a010f00000V7d3OAAR  ...     crowdnetic\n",
              "\n",
              "[5 rows x 10 columns]"
            ]
          },
          "metadata": {
            "tags": []
          },
          "execution_count": 19
        }
      ]
    },
    {
      "cell_type": "code",
      "metadata": {
        "id": "IDcgwXjqpqMB",
        "colab_type": "code",
        "colab": {}
      },
      "source": [
        "# Transform variables\n",
        "final_df['co_app'] = final_df['co_app_verifiable_annual_income__c'].apply(get_co_app_cat)\n",
        "final_df['loan_use'] = final_df['loan_use__c'].apply(get_loan_use_cat)\n",
        "final_df['employment'] = final_df['employment_status__c'].apply(get_employment_cat)\n",
        "final_df['loan_amount'] = final_df['amount_of_loan_requested__c'].apply(get_loan_amount_cat)\n",
        "final_df['mkt_chan'] = final_df['utm_source__c'].apply(get_mkt_chan_cat)\n",
        "final_df['ficox'] = final_df['fico__c'].apply(get_fico)\n",
        "final_df['lti'] = final_df['lti__c'].apply(get_lti)\n",
        "final_df['bcc0300'] = final_df['bcc0300__c'].apply(get_bcc0300)\n",
        "final_df['ndi'] = final_df['ndi_ratio__c'].apply(get_ndi_ratio)\n",
        "final_df['ndisq'] = final_df['ndi'] * final_df['ndi']"
      ],
      "execution_count": null,
      "outputs": []
    },
    {
      "cell_type": "code",
      "metadata": {
        "id": "1cMjy5_VqPJx",
        "colab_type": "code",
        "colab": {}
      },
      "source": [
        "# create dummies\n",
        "cat_vars = ['co_app','loan_use','employment','loan_amount','mkt_chan']\n",
        "for var in cat_vars:\n",
        "    cat_list = pd.get_dummies(final_df[var], prefix=var)\n",
        "    temp = final_df.join(cat_list)\n",
        "    final_df = temp\n",
        "data_vars = final_df.columns.values.tolist()\n",
        "to_keep = [i for i in data_vars if i not in cat_vars]\n",
        "final_df = final_df[to_keep]"
      ],
      "execution_count": null,
      "outputs": []
    },
    {
      "cell_type": "code",
      "metadata": {
        "id": "3H7WJjkhQ9tk",
        "colab_type": "code",
        "colab": {
          "base_uri": "https://localhost:8080/",
          "height": 697
        },
        "outputId": "b921bf49-6139-49e5-d693-046579e4903e"
      },
      "source": [
        "final_df.info()"
      ],
      "execution_count": null,
      "outputs": [
        {
          "output_type": "stream",
          "text": [
            "<class 'pandas.core.frame.DataFrame'>\n",
            "RangeIndex: 2602875 entries, 0 to 2602874\n",
            "Data columns (total 35 columns):\n",
            "id                                    object\n",
            "co_app_verifiable_annual_income__c    float64\n",
            "loan_use__c                           object\n",
            "employment_status__c                  object\n",
            "amount_of_loan_requested__c           float64\n",
            "fico__c                               float64\n",
            "lti__c                                float64\n",
            "bcc0300__c                            float64\n",
            "ndi_ratio__c                          float64\n",
            "utm_source__c                         object\n",
            "ficox                                 int64\n",
            "lti                                   float64\n",
            "bcc0300                               int64\n",
            "ndi                                   float64\n",
            "ndisq                                 float64\n",
            "co_app_0                              uint8\n",
            "co_app_1                              uint8\n",
            "loan_use_1                            uint8\n",
            "loan_use_2                            uint8\n",
            "loan_use_3                            uint8\n",
            "loan_use_4                            uint8\n",
            "employment_1                          uint8\n",
            "employment_2                          uint8\n",
            "employment_3                          uint8\n",
            "employment_4                          uint8\n",
            "loan_amount_1                         uint8\n",
            "loan_amount_2                         uint8\n",
            "loan_amount_3                         uint8\n",
            "loan_amount_4                         uint8\n",
            "mkt_chan_1                            uint8\n",
            "mkt_chan_2                            uint8\n",
            "mkt_chan_3                            uint8\n",
            "mkt_chan_5                            uint8\n",
            "mkt_chan_6                            uint8\n",
            "mkt_chan_7                            uint8\n",
            "dtypes: float64(9), int64(2), object(4), uint8(20)\n",
            "memory usage: 347.5+ MB\n"
          ],
          "name": "stdout"
        }
      ]
    },
    {
      "cell_type": "code",
      "metadata": {
        "id": "0h89gG90qWHT",
        "colab_type": "code",
        "colab": {}
      },
      "source": [
        "# re-index to have same columns as the model\n",
        "final_df_indexed = final_df.reindex(columns = ['ficox', 'lti', 'bcc0300', 'ndi', 'ndisq', 'co_app_0', 'co_app_1',\n",
        "                               'loan_use_1', 'loan_use_2', 'loan_use_3', 'loan_use_4', 'employment_1',\n",
        "                               'employment_2', 'employment_3', 'employment_4', 'loan_amount_1',\n",
        "                               'loan_amount_2', 'loan_amount_3', 'loan_amount_4', 'mkt_chan_1',\n",
        "                               'mkt_chan_2', 'mkt_chan_3', 'mkt_chan_5', 'mkt_chan_6', \n",
        "                               'mkt_chan_7'], fill_value=0)"
      ],
      "execution_count": null,
      "outputs": []
    },
    {
      "cell_type": "code",
      "metadata": {
        "id": "y9bP2JGxYe50",
        "colab_type": "code",
        "colab": {
          "base_uri": "https://localhost:8080/",
          "height": 527
        },
        "outputId": "219d93ba-4595-4435-ee9b-dc36cf9d5090"
      },
      "source": [
        "final_df_indexed.info()"
      ],
      "execution_count": null,
      "outputs": [
        {
          "output_type": "stream",
          "text": [
            "<class 'pandas.core.frame.DataFrame'>\n",
            "RangeIndex: 2602875 entries, 0 to 2602874\n",
            "Data columns (total 25 columns):\n",
            "ficox            int64\n",
            "lti              float64\n",
            "bcc0300          int64\n",
            "ndi              float64\n",
            "ndisq            float64\n",
            "co_app_0         uint8\n",
            "co_app_1         uint8\n",
            "loan_use_1       uint8\n",
            "loan_use_2       uint8\n",
            "loan_use_3       uint8\n",
            "loan_use_4       uint8\n",
            "employment_1     uint8\n",
            "employment_2     uint8\n",
            "employment_3     uint8\n",
            "employment_4     uint8\n",
            "loan_amount_1    uint8\n",
            "loan_amount_2    uint8\n",
            "loan_amount_3    uint8\n",
            "loan_amount_4    uint8\n",
            "mkt_chan_1       uint8\n",
            "mkt_chan_2       uint8\n",
            "mkt_chan_3       uint8\n",
            "mkt_chan_5       uint8\n",
            "mkt_chan_6       uint8\n",
            "mkt_chan_7       uint8\n",
            "dtypes: float64(3), int64(2), uint8(20)\n",
            "memory usage: 148.9 MB\n"
          ],
          "name": "stdout"
        }
      ]
    },
    {
      "cell_type": "code",
      "metadata": {
        "id": "ZhbsJOFoqc16",
        "colab_type": "code",
        "colab": {}
      },
      "source": [
        "prob_prediction = fplus_ls_model.predict_proba(final_df_indexed)[0][1]"
      ],
      "execution_count": null,
      "outputs": []
    },
    {
      "cell_type": "code",
      "metadata": {
        "id": "uSC0IjAIqk-I",
        "colab_type": "code",
        "colab": {
          "base_uri": "https://localhost:8080/",
          "height": 119
        },
        "outputId": "bd6298db-b799-41b3-bf1a-47c5e28fb9f7"
      },
      "source": [
        "final_df['New_Funding_Score'] = fplus_ls_model.predict_proba(final_df_indexed)[:,1]"
      ],
      "execution_count": null,
      "outputs": [
        {
          "output_type": "stream",
          "text": [
            "/usr/local/lib/python3.6/dist-packages/ipykernel_launcher.py:1: SettingWithCopyWarning: \n",
            "A value is trying to be set on a copy of a slice from a DataFrame.\n",
            "Try using .loc[row_indexer,col_indexer] = value instead\n",
            "\n",
            "See the caveats in the documentation: http://pandas.pydata.org/pandas-docs/stable/user_guide/indexing.html#returning-a-view-versus-a-copy\n",
            "  \"\"\"Entry point for launching an IPython kernel.\n"
          ],
          "name": "stderr"
        }
      ]
    },
    {
      "cell_type": "code",
      "metadata": {
        "id": "T-CNjjksqtbh",
        "colab_type": "code",
        "colab": {
          "base_uri": "https://localhost:8080/",
          "height": 119
        },
        "outputId": "a47891fc-2133-4bd4-b80a-25191574e39e"
      },
      "source": [
        "final_df['New_NPV_Score'] = final_df.apply(lambda row : get_npv_calc(row['amount_of_loan_requested__c'], \n",
        "                                  row['New_Funding_Score'], row['utm_source__c']), axis = 1) "
      ],
      "execution_count": null,
      "outputs": [
        {
          "output_type": "stream",
          "text": [
            "/usr/local/lib/python3.6/dist-packages/ipykernel_launcher.py:2: SettingWithCopyWarning: \n",
            "A value is trying to be set on a copy of a slice from a DataFrame.\n",
            "Try using .loc[row_indexer,col_indexer] = value instead\n",
            "\n",
            "See the caveats in the documentation: http://pandas.pydata.org/pandas-docs/stable/user_guide/indexing.html#returning-a-view-versus-a-copy\n",
            "  \n"
          ],
          "name": "stderr"
        }
      ]
    },
    {
      "cell_type": "code",
      "metadata": {
        "id": "GAz0ZF6cc6Vz",
        "colab_type": "code",
        "colab": {}
      },
      "source": [
        "df = final_df[['id', 'amount_of_loan_requested__c', 'utm_source__c', 'New_Funding_Score', 'New_NPV_Score']]"
      ],
      "execution_count": null,
      "outputs": []
    },
    {
      "cell_type": "code",
      "metadata": {
        "id": "0xRKlUGQdMvV",
        "colab_type": "code",
        "colab": {
          "base_uri": "https://localhost:8080/",
          "height": 204
        },
        "outputId": "7376883b-b543-4487-aa30-6122c2775c64"
      },
      "source": [
        "df.head()"
      ],
      "execution_count": null,
      "outputs": [
        {
          "output_type": "execute_result",
          "data": {
            "text/html": [
              "<div>\n",
              "<style scoped>\n",
              "    .dataframe tbody tr th:only-of-type {\n",
              "        vertical-align: middle;\n",
              "    }\n",
              "\n",
              "    .dataframe tbody tr th {\n",
              "        vertical-align: top;\n",
              "    }\n",
              "\n",
              "    .dataframe thead th {\n",
              "        text-align: right;\n",
              "    }\n",
              "</style>\n",
              "<table border=\"1\" class=\"dataframe\">\n",
              "  <thead>\n",
              "    <tr style=\"text-align: right;\">\n",
              "      <th></th>\n",
              "      <th>id</th>\n",
              "      <th>amount_of_loan_requested__c</th>\n",
              "      <th>utm_source__c</th>\n",
              "      <th>New_Funding_Score</th>\n",
              "      <th>New_NPV_Score</th>\n",
              "    </tr>\n",
              "  </thead>\n",
              "  <tbody>\n",
              "    <tr>\n",
              "      <th>0</th>\n",
              "      <td>a010f00000W0aYWAAZ</td>\n",
              "      <td>20000.0</td>\n",
              "      <td>Quinstreet</td>\n",
              "      <td>0.006548</td>\n",
              "      <td>2.833993</td>\n",
              "    </tr>\n",
              "    <tr>\n",
              "      <th>1</th>\n",
              "      <td>a010f00000WTBuLAAX</td>\n",
              "      <td>20000.0</td>\n",
              "      <td>Lending Tree</td>\n",
              "      <td>0.042487</td>\n",
              "      <td>36.627884</td>\n",
              "    </tr>\n",
              "    <tr>\n",
              "      <th>2</th>\n",
              "      <td>a010f00000YkMLPAA3</td>\n",
              "      <td>35000.0</td>\n",
              "      <td>even</td>\n",
              "      <td>0.004170</td>\n",
              "      <td>6.775986</td>\n",
              "    </tr>\n",
              "    <tr>\n",
              "      <th>3</th>\n",
              "      <td>a010f00000WqYL7AAN</td>\n",
              "      <td>10000.0</td>\n",
              "      <td>even</td>\n",
              "      <td>0.013293</td>\n",
              "      <td>-4.488235</td>\n",
              "    </tr>\n",
              "    <tr>\n",
              "      <th>4</th>\n",
              "      <td>a010f00000V7d3OAAR</td>\n",
              "      <td>45000.0</td>\n",
              "      <td>crowdnetic</td>\n",
              "      <td>0.028469</td>\n",
              "      <td>69.947452</td>\n",
              "    </tr>\n",
              "  </tbody>\n",
              "</table>\n",
              "</div>"
            ],
            "text/plain": [
              "                   id  ...  New_NPV_Score\n",
              "0  a010f00000W0aYWAAZ  ...       2.833993\n",
              "1  a010f00000WTBuLAAX  ...      36.627884\n",
              "2  a010f00000YkMLPAA3  ...       6.775986\n",
              "3  a010f00000WqYL7AAN  ...      -4.488235\n",
              "4  a010f00000V7d3OAAR  ...      69.947452\n",
              "\n",
              "[5 rows x 5 columns]"
            ]
          },
          "metadata": {
            "tags": []
          },
          "execution_count": 29
        }
      ]
    },
    {
      "cell_type": "code",
      "metadata": {
        "id": "S4WRfck7vooA",
        "colab_type": "code",
        "colab": {
          "base_uri": "https://localhost:8080/",
          "height": 187
        },
        "outputId": "22c3ff0c-de89-4c2b-b1a7-6ab0fc6a23e7"
      },
      "source": [
        "df.info()"
      ],
      "execution_count": null,
      "outputs": [
        {
          "output_type": "stream",
          "text": [
            "<class 'pandas.core.frame.DataFrame'>\n",
            "RangeIndex: 2602875 entries, 0 to 2602874\n",
            "Data columns (total 5 columns):\n",
            "id                             object\n",
            "amount_of_loan_requested__c    float64\n",
            "utm_source__c                  object\n",
            "New_Funding_Score              float64\n",
            "New_NPV_Score                  float64\n",
            "dtypes: float64(3), object(2)\n",
            "memory usage: 99.3+ MB\n"
          ],
          "name": "stdout"
        }
      ]
    },
    {
      "cell_type": "code",
      "metadata": {
        "id": "-W6lWQ3hv5Zx",
        "colab_type": "code",
        "colab": {}
      },
      "source": [
        "sql_1 = \"\"\"\n",
        "SELECT \n",
        "application_key\n",
        "\n",
        "FROM `ffam-data-platform.standardized_data.fplus_application` \n",
        "\n",
        "WHERE \n",
        "\n",
        "new_lead_datetime  >= '2019-01-01'\n",
        "AND flag_eligible_lead = TRUE\n",
        "AND lead_type = 'Web'\n",
        "AND latest_prequal_decision <> 'DECLINED'\n",
        "\"\"\""
      ],
      "execution_count": null,
      "outputs": []
    },
    {
      "cell_type": "code",
      "metadata": {
        "id": "YTKuztiFwXMx",
        "colab_type": "code",
        "colab": {}
      },
      "source": [
        "good_leads = pandas_gbq.read_gbq(sql_1, project_id='ffn-dw-bigquery-prd', credentials=credentials, dialect='standard')"
      ],
      "execution_count": null,
      "outputs": []
    },
    {
      "cell_type": "code",
      "metadata": {
        "id": "6C1Il6aCwxnU",
        "colab_type": "code",
        "colab": {
          "base_uri": "https://localhost:8080/",
          "height": 119
        },
        "outputId": "58572750-d22f-4165-c9e5-c439cb32b044"
      },
      "source": [
        "good_leads.info()"
      ],
      "execution_count": null,
      "outputs": [
        {
          "output_type": "stream",
          "text": [
            "<class 'pandas.core.frame.DataFrame'>\n",
            "RangeIndex: 697536 entries, 0 to 697535\n",
            "Data columns (total 1 columns):\n",
            "application_key    697536 non-null object\n",
            "dtypes: object(1)\n",
            "memory usage: 5.3+ MB\n"
          ],
          "name": "stdout"
        }
      ]
    },
    {
      "cell_type": "code",
      "metadata": {
        "id": "ee_brt5Mwxrn",
        "colab_type": "code",
        "colab": {}
      },
      "source": [
        "good_leads1 = good_leads.merge(df, left_on='application_key', right_on='id')"
      ],
      "execution_count": null,
      "outputs": []
    },
    {
      "cell_type": "code",
      "metadata": {
        "id": "5Zm-KKIIwxxU",
        "colab_type": "code",
        "colab": {
          "base_uri": "https://localhost:8080/",
          "height": 187
        },
        "outputId": "253c33f6-7360-4a90-f431-a241b90f80e3"
      },
      "source": [
        "good_leads1 = good_leads1.drop(columns=['application_key'])\n",
        "good_leads1.info()"
      ],
      "execution_count": null,
      "outputs": [
        {
          "output_type": "stream",
          "text": [
            "<class 'pandas.core.frame.DataFrame'>\n",
            "Int64Index: 697536 entries, 0 to 697535\n",
            "Data columns (total 5 columns):\n",
            "id                             697536 non-null object\n",
            "amount_of_loan_requested__c    697536 non-null float64\n",
            "utm_source__c                  697536 non-null object\n",
            "New_Funding_Score              697536 non-null float64\n",
            "New_NPV_Score                  697536 non-null float64\n",
            "dtypes: float64(3), object(2)\n",
            "memory usage: 31.9+ MB\n"
          ],
          "name": "stdout"
        }
      ]
    },
    {
      "cell_type": "code",
      "metadata": {
        "id": "LhAdLPhL1_kg",
        "colab_type": "code",
        "colab": {
          "base_uri": "https://localhost:8080/",
          "height": 187
        },
        "outputId": "f3a8bde1-1332-48dd-a869-453e0e287aaa"
      },
      "source": [
        "good_leads2 = good_leads1.drop_duplicates(subset=['id'], keep='first')\n",
        "good_leads2.info()"
      ],
      "execution_count": null,
      "outputs": [
        {
          "output_type": "stream",
          "text": [
            "<class 'pandas.core.frame.DataFrame'>\n",
            "Int64Index: 697536 entries, 0 to 697535\n",
            "Data columns (total 5 columns):\n",
            "id                             697536 non-null object\n",
            "amount_of_loan_requested__c    697536 non-null float64\n",
            "utm_source__c                  697536 non-null object\n",
            "New_Funding_Score              697536 non-null float64\n",
            "New_NPV_Score                  697536 non-null float64\n",
            "dtypes: float64(3), object(2)\n",
            "memory usage: 31.9+ MB\n"
          ],
          "name": "stdout"
        }
      ]
    },
    {
      "cell_type": "markdown",
      "metadata": {
        "id": "WHGA9WQJjR55",
        "colab_type": "text"
      },
      "source": [
        "# Send Back to GBQ"
      ]
    },
    {
      "cell_type": "code",
      "metadata": {
        "id": "LQ2qINJejT_4",
        "colab_type": "code",
        "colab": {
          "base_uri": "https://localhost:8080/",
          "height": 170
        },
        "outputId": "708a5048-8bab-47b1-b446-1e2ea19e8a7c"
      },
      "source": [
        "#set destination table to insert data into\n",
        "destinationtable = 'Jason.Austen_NPV_Fplus'\n",
        "project_id='ffn-dw-bigquery-prd'\n",
        "\n",
        "#send data to GBQ (pandas_gqb.to_gbq)\n",
        "#https://pandas-gbq.readthedocs.io/en/latest/api.html#pandas_gbq.to_gbq\n",
        "#params are: dataframe, destination_table, project_id, if_exists (append), and table_schema (list of dicts, name and type)\n",
        "pandas_gbq.to_gbq(dataframe = good_leads1,\n",
        "                  destination_table = destinationtable,\n",
        "                  project_id = project_id,\n",
        "                  if_exists = 'append',\n",
        "                  table_schema = [{'name':'id',\n",
        "                                   'type':'STRING'},\n",
        "                                  {'name':'amount_of_loan_requested__c',\n",
        "                                   'type':'FLOAT'},\n",
        "                                  {'name':'utm_source__c',\n",
        "                                   'type':'STRING'},\n",
        "                                  {'name':'New_Funding_Score',\n",
        "                                   'type':'FLOAT'},\n",
        "                                  {'name':'New_NPV_Score',\n",
        "                                   'type':'FLOAT'}])"
      ],
      "execution_count": null,
      "outputs": [
        {
          "output_type": "stream",
          "text": [
            "\n",
            "\n",
            "\n",
            "0it [00:00, ?it/s]\u001b[A\u001b[A\u001b[A\n",
            "\n",
            "\n",
            "1it [00:06,  6.88s/it]\u001b[A\u001b[A\u001b[A\n",
            "\n",
            "\n",
            "\u001b[A\u001b[A\u001b[A"
          ],
          "name": "stderr"
        }
      ]
    },
    {
      "cell_type": "markdown",
      "metadata": {
        "id": "2uF5gMwAU-Gg",
        "colab_type": "text"
      },
      "source": [
        "# Shit for Aleks"
      ]
    },
    {
      "cell_type": "code",
      "metadata": {
        "id": "AMME7wIWfd-v",
        "colab_type": "code",
        "colab": {
          "base_uri": "https://localhost:8080/",
          "height": 275
        },
        "outputId": "67a77ebe-80c0-457e-d83a-c3cea84755c5"
      },
      "source": [
        "# load data\n",
        "import pandas as pd\n",
        "df = pd.read_csv('Retrain_Fplus.csv')\n",
        "df.head()"
      ],
      "execution_count": null,
      "outputs": [
        {
          "output_type": "execute_result",
          "data": {
            "text/html": [
              "<div>\n",
              "<style scoped>\n",
              "    .dataframe tbody tr th:only-of-type {\n",
              "        vertical-align: middle;\n",
              "    }\n",
              "\n",
              "    .dataframe tbody tr th {\n",
              "        vertical-align: top;\n",
              "    }\n",
              "\n",
              "    .dataframe thead th {\n",
              "        text-align: right;\n",
              "    }\n",
              "</style>\n",
              "<table border=\"1\" class=\"dataframe\">\n",
              "  <thead>\n",
              "    <tr style=\"text-align: right;\">\n",
              "      <th></th>\n",
              "      <th>SF_App_Id</th>\n",
              "      <th>Funding</th>\n",
              "      <th>first_coapp</th>\n",
              "      <th>first_loan_use</th>\n",
              "      <th>employment_status__c</th>\n",
              "      <th>first_amount_of_loan_requested</th>\n",
              "      <th>first_FICO</th>\n",
              "      <th>First_LTI</th>\n",
              "      <th>first_bcc0300__c</th>\n",
              "      <th>first_ndi_ratio__c</th>\n",
              "      <th>utm_source__c</th>\n",
              "      <th>ficox</th>\n",
              "      <th>lti</th>\n",
              "      <th>bcc0300</th>\n",
              "      <th>ndi</th>\n",
              "      <th>ndisq</th>\n",
              "      <th>co_app_0</th>\n",
              "      <th>co_app_1</th>\n",
              "      <th>loan_use_1</th>\n",
              "      <th>loan_use_2</th>\n",
              "      <th>loan_use_3</th>\n",
              "      <th>loan_use_4</th>\n",
              "      <th>employment_1</th>\n",
              "      <th>employment_2</th>\n",
              "      <th>employment_3</th>\n",
              "      <th>employment_4</th>\n",
              "      <th>loan_amount_1</th>\n",
              "      <th>loan_amount_2</th>\n",
              "      <th>loan_amount_3</th>\n",
              "      <th>loan_amount_4</th>\n",
              "      <th>mkt_chan_1</th>\n",
              "      <th>mkt_chan_2</th>\n",
              "      <th>mkt_chan_3</th>\n",
              "      <th>mkt_chan_5</th>\n",
              "      <th>mkt_chan_6</th>\n",
              "      <th>mkt_chan_7</th>\n",
              "    </tr>\n",
              "  </thead>\n",
              "  <tbody>\n",
              "    <tr>\n",
              "      <th>0</th>\n",
              "      <td>a010f00000Vy85MAAR</td>\n",
              "      <td>0</td>\n",
              "      <td>0.0</td>\n",
              "      <td>NaN</td>\n",
              "      <td>NaN</td>\n",
              "      <td>22000.0</td>\n",
              "      <td>NaN</td>\n",
              "      <td>NaN</td>\n",
              "      <td>NaN</td>\n",
              "      <td>44.141485</td>\n",
              "      <td>NaN</td>\n",
              "      <td>990</td>\n",
              "      <td>36</td>\n",
              "      <td>99</td>\n",
              "      <td>44</td>\n",
              "      <td>1936</td>\n",
              "      <td>0</td>\n",
              "      <td>1</td>\n",
              "      <td>0</td>\n",
              "      <td>0</td>\n",
              "      <td>1</td>\n",
              "      <td>0</td>\n",
              "      <td>1</td>\n",
              "      <td>0</td>\n",
              "      <td>0</td>\n",
              "      <td>0</td>\n",
              "      <td>0</td>\n",
              "      <td>1</td>\n",
              "      <td>0</td>\n",
              "      <td>0</td>\n",
              "      <td>0</td>\n",
              "      <td>0</td>\n",
              "      <td>1</td>\n",
              "      <td>0</td>\n",
              "      <td>0</td>\n",
              "      <td>0</td>\n",
              "    </tr>\n",
              "    <tr>\n",
              "      <th>1</th>\n",
              "      <td>a010f00000WN27oAAD</td>\n",
              "      <td>1</td>\n",
              "      <td>1.0</td>\n",
              "      <td>Debt Consolidation</td>\n",
              "      <td>Retired</td>\n",
              "      <td>10000.0</td>\n",
              "      <td>653.0</td>\n",
              "      <td>13.888889</td>\n",
              "      <td>9.0</td>\n",
              "      <td>45.745143</td>\n",
              "      <td>115</td>\n",
              "      <td>653</td>\n",
              "      <td>13</td>\n",
              "      <td>9</td>\n",
              "      <td>45</td>\n",
              "      <td>2025</td>\n",
              "      <td>0</td>\n",
              "      <td>1</td>\n",
              "      <td>0</td>\n",
              "      <td>0</td>\n",
              "      <td>1</td>\n",
              "      <td>0</td>\n",
              "      <td>0</td>\n",
              "      <td>0</td>\n",
              "      <td>0</td>\n",
              "      <td>1</td>\n",
              "      <td>0</td>\n",
              "      <td>0</td>\n",
              "      <td>0</td>\n",
              "      <td>1</td>\n",
              "      <td>0</td>\n",
              "      <td>0</td>\n",
              "      <td>0</td>\n",
              "      <td>1</td>\n",
              "      <td>0</td>\n",
              "      <td>0</td>\n",
              "    </tr>\n",
              "    <tr>\n",
              "      <th>2</th>\n",
              "      <td>a010f00000Tq9b3AAB</td>\n",
              "      <td>0</td>\n",
              "      <td>0.0</td>\n",
              "      <td>Debt Consolidation</td>\n",
              "      <td>Retired</td>\n",
              "      <td>20000.0</td>\n",
              "      <td>719.0</td>\n",
              "      <td>28.571429</td>\n",
              "      <td>9.0</td>\n",
              "      <td>29.028113</td>\n",
              "      <td>115</td>\n",
              "      <td>719</td>\n",
              "      <td>28</td>\n",
              "      <td>9</td>\n",
              "      <td>29</td>\n",
              "      <td>841</td>\n",
              "      <td>0</td>\n",
              "      <td>1</td>\n",
              "      <td>0</td>\n",
              "      <td>0</td>\n",
              "      <td>1</td>\n",
              "      <td>0</td>\n",
              "      <td>0</td>\n",
              "      <td>0</td>\n",
              "      <td>0</td>\n",
              "      <td>1</td>\n",
              "      <td>0</td>\n",
              "      <td>1</td>\n",
              "      <td>0</td>\n",
              "      <td>0</td>\n",
              "      <td>0</td>\n",
              "      <td>0</td>\n",
              "      <td>0</td>\n",
              "      <td>1</td>\n",
              "      <td>0</td>\n",
              "      <td>0</td>\n",
              "    </tr>\n",
              "    <tr>\n",
              "      <th>3</th>\n",
              "      <td>a010f00000WSBY6AAP</td>\n",
              "      <td>0</td>\n",
              "      <td>1.0</td>\n",
              "      <td>Other</td>\n",
              "      <td>Full-time</td>\n",
              "      <td>10000.0</td>\n",
              "      <td>655.0</td>\n",
              "      <td>13.888889</td>\n",
              "      <td>3.0</td>\n",
              "      <td>44.627555</td>\n",
              "      <td>115</td>\n",
              "      <td>655</td>\n",
              "      <td>13</td>\n",
              "      <td>3</td>\n",
              "      <td>44</td>\n",
              "      <td>1936</td>\n",
              "      <td>0</td>\n",
              "      <td>1</td>\n",
              "      <td>0</td>\n",
              "      <td>1</td>\n",
              "      <td>0</td>\n",
              "      <td>0</td>\n",
              "      <td>0</td>\n",
              "      <td>0</td>\n",
              "      <td>1</td>\n",
              "      <td>0</td>\n",
              "      <td>0</td>\n",
              "      <td>0</td>\n",
              "      <td>0</td>\n",
              "      <td>1</td>\n",
              "      <td>0</td>\n",
              "      <td>0</td>\n",
              "      <td>0</td>\n",
              "      <td>1</td>\n",
              "      <td>0</td>\n",
              "      <td>0</td>\n",
              "    </tr>\n",
              "    <tr>\n",
              "      <th>4</th>\n",
              "      <td>a010f00000WsXcoAAF</td>\n",
              "      <td>0</td>\n",
              "      <td>1.0</td>\n",
              "      <td>Debt Consolidation</td>\n",
              "      <td>Retired</td>\n",
              "      <td>20000.0</td>\n",
              "      <td>706.0</td>\n",
              "      <td>14.705882</td>\n",
              "      <td>11.0</td>\n",
              "      <td>28.124863</td>\n",
              "      <td>115</td>\n",
              "      <td>706</td>\n",
              "      <td>14</td>\n",
              "      <td>11</td>\n",
              "      <td>28</td>\n",
              "      <td>784</td>\n",
              "      <td>0</td>\n",
              "      <td>1</td>\n",
              "      <td>0</td>\n",
              "      <td>0</td>\n",
              "      <td>1</td>\n",
              "      <td>0</td>\n",
              "      <td>0</td>\n",
              "      <td>0</td>\n",
              "      <td>0</td>\n",
              "      <td>1</td>\n",
              "      <td>0</td>\n",
              "      <td>1</td>\n",
              "      <td>0</td>\n",
              "      <td>0</td>\n",
              "      <td>0</td>\n",
              "      <td>0</td>\n",
              "      <td>0</td>\n",
              "      <td>1</td>\n",
              "      <td>0</td>\n",
              "      <td>0</td>\n",
              "    </tr>\n",
              "  </tbody>\n",
              "</table>\n",
              "</div>"
            ],
            "text/plain": [
              "            SF_App_Id  Funding  first_coapp  ... mkt_chan_5 mkt_chan_6  mkt_chan_7\n",
              "0  a010f00000Vy85MAAR        0          0.0  ...          0          0           0\n",
              "1  a010f00000WN27oAAD        1          1.0  ...          1          0           0\n",
              "2  a010f00000Tq9b3AAB        0          0.0  ...          1          0           0\n",
              "3  a010f00000WSBY6AAP        0          1.0  ...          1          0           0\n",
              "4  a010f00000WsXcoAAF        0          1.0  ...          1          0           0\n",
              "\n",
              "[5 rows x 36 columns]"
            ]
          },
          "metadata": {
            "tags": []
          },
          "execution_count": 8
        }
      ]
    },
    {
      "cell_type": "code",
      "metadata": {
        "id": "N7dG-3U3jXxQ",
        "colab_type": "code",
        "colab": {}
      },
      "source": [
        "df1 = df.dropna()"
      ],
      "execution_count": null,
      "outputs": []
    },
    {
      "cell_type": "code",
      "metadata": {
        "id": "2LU5axF_jErE",
        "colab_type": "code",
        "colab": {
          "base_uri": "https://localhost:8080/",
          "height": 714
        },
        "outputId": "605dc067-aff6-4173-bbb8-7ff96b8f3f10"
      },
      "source": [
        "df1.info()\n"
      ],
      "execution_count": null,
      "outputs": [
        {
          "output_type": "stream",
          "text": [
            "<class 'pandas.core.frame.DataFrame'>\n",
            "Int64Index: 244363 entries, 1 to 250748\n",
            "Data columns (total 36 columns):\n",
            "SF_App_Id                         244363 non-null object\n",
            "Funding                           244363 non-null int64\n",
            "first_coapp                       244363 non-null float64\n",
            "first_loan_use                    244363 non-null object\n",
            "employment_status__c              244363 non-null object\n",
            "first_amount_of_loan_requested    244363 non-null float64\n",
            "first_FICO                        244363 non-null float64\n",
            "First_LTI                         244363 non-null float64\n",
            "first_bcc0300__c                  244363 non-null float64\n",
            "first_ndi_ratio__c                244363 non-null float64\n",
            "utm_source__c                     244363 non-null object\n",
            "ficox                             244363 non-null int64\n",
            "lti                               244363 non-null int64\n",
            "bcc0300                           244363 non-null int64\n",
            "ndi                               244363 non-null int64\n",
            "ndisq                             244363 non-null int64\n",
            "co_app_0                          244363 non-null int64\n",
            "co_app_1                          244363 non-null int64\n",
            "loan_use_1                        244363 non-null int64\n",
            "loan_use_2                        244363 non-null int64\n",
            "loan_use_3                        244363 non-null int64\n",
            "loan_use_4                        244363 non-null int64\n",
            "employment_1                      244363 non-null int64\n",
            "employment_2                      244363 non-null int64\n",
            "employment_3                      244363 non-null int64\n",
            "employment_4                      244363 non-null int64\n",
            "loan_amount_1                     244363 non-null int64\n",
            "loan_amount_2                     244363 non-null int64\n",
            "loan_amount_3                     244363 non-null int64\n",
            "loan_amount_4                     244363 non-null int64\n",
            "mkt_chan_1                        244363 non-null int64\n",
            "mkt_chan_2                        244363 non-null int64\n",
            "mkt_chan_3                        244363 non-null int64\n",
            "mkt_chan_5                        244363 non-null int64\n",
            "mkt_chan_6                        244363 non-null int64\n",
            "mkt_chan_7                        244363 non-null int64\n",
            "dtypes: float64(6), int64(26), object(4)\n",
            "memory usage: 69.0+ MB\n"
          ],
          "name": "stdout"
        }
      ]
    },
    {
      "cell_type": "code",
      "metadata": {
        "id": "tT0XeCXdfY-q",
        "colab_type": "code",
        "colab": {
          "base_uri": "https://localhost:8080/",
          "height": 446
        },
        "outputId": "01f82b52-823c-4d65-bafb-87d4ccbf73b0"
      },
      "source": [
        "#set destination table to insert data into\n",
        "destinationtable = 'Jason.retrain_fplus'\n",
        "project_id='ffn-dw-bigquery-prd'\n",
        "\n",
        "#send data to GBQ (pandas_gqb.to_gbq)\n",
        "#https://pandas-gbq.readthedocs.io/en/latest/api.html#pandas_gbq.to_gbq\n",
        "#params are: dataframe, destination_table, project_id, if_exists (append), and table_schema (list of dicts, name and type)\n",
        "pandas_gbq.to_gbq(dataframe = df1,\n",
        "                  destination_table = destinationtable,\n",
        "                  project_id = project_id,\n",
        "                  if_exists = 'append',\n",
        "                  table_schema = [\n",
        "{'name':'SF_App_Id', 'type':'STRING'},\n",
        "{'name':'Funding', 'type':'INTEGER'},\n",
        "{'name':'first_coapp', 'type':'INTEGER'},\n",
        "{'name':'first_loan_use', 'type':'STRING'},\n",
        "{'name':'employment_status__c', 'type':'STRING'},\n",
        "{'name':'first_amount_of_loan_requested', 'type':'INTEGER'},\n",
        "{'name':'first_FICO', 'type':'INTEGER'},\n",
        "{'name':'First_LTI', 'type':'FLOAT'},\n",
        "{'name':'first_bcc0300__c', 'type':'INTEGER'},\n",
        "{'name':'first_ndi_ratio__c', 'type':'FLOAT'},\n",
        "{'name':'utm_source__c', 'type':'INTEGER'},\n",
        "{'name':'ficox', 'type':'INTEGER'},\n",
        "{'name':'lti', 'type':'INTEGER'},\n",
        "{'name':'bcc0300', 'type':'INTEGER'},\n",
        "{'name':'ndi', 'type':'INTEGER'},\n",
        "{'name':'ndisq', 'type':'INTEGER'},\n",
        "{'name':'co_app_0', 'type':'INTEGER'},\n",
        "{'name':'co_app_1', 'type':'INTEGER'},\n",
        "{'name':'loan_use_1', 'type':'INTEGER'},\n",
        "{'name':'loan_use_2', 'type':'INTEGER'},\n",
        "{'name':'loan_use_3', 'type':'INTEGER'},\n",
        "{'name':'loan_use_4', 'type':'INTEGER'},\n",
        "{'name':'employment_1', 'type':'INTEGER'},\n",
        "{'name':'employment_2', 'type':'INTEGER'},\n",
        "{'name':'employment_3', 'type':'INTEGER'},\n",
        "{'name':'employment_4', 'type':'INTEGER'},\n",
        "{'name':'loan_amount_1', 'type':'INTEGER'},\n",
        "{'name':'loan_amount_2', 'type':'INTEGER'},\n",
        "{'name':'loan_amount_3', 'type':'INTEGER'},\n",
        "{'name':'loan_amount_4', 'type':'INTEGER'},\n",
        "{'name':'mkt_chan_1', 'type':'INTEGER'},\n",
        "{'name':'mkt_chan_2', 'type':'INTEGER'},\n",
        "{'name':'mkt_chan_3', 'type':'INTEGER'},\n",
        "{'name':'mkt_chan_5', 'type':'INTEGER'},\n",
        "{'name':'mkt_chan_6', 'type':'INTEGER'},\n",
        "{'name':'mkt_chan_7', 'type':'INTEGER'}])"
      ],
      "execution_count": null,
      "outputs": [
        {
          "output_type": "error",
          "ename": "GenericGBQException",
          "evalue": "ignored",
          "traceback": [
            "\u001b[0;31m---------------------------------------------------------------------------\u001b[0m",
            "\u001b[0;31mBadRequest\u001b[0m                                Traceback (most recent call last)",
            "\u001b[0;32m/usr/local/lib/python3.6/dist-packages/pandas_gbq/gbq.py\u001b[0m in \u001b[0;36mload_data\u001b[0;34m(self, dataframe, dataset_id, table_id, chunksize, schema)\u001b[0m\n\u001b[1;32m    562\u001b[0m                     \u001b[0mself\u001b[0m\u001b[0;34m.\u001b[0m\u001b[0mclient\u001b[0m\u001b[0;34m,\u001b[0m \u001b[0mdataframe\u001b[0m\u001b[0;34m,\u001b[0m \u001b[0mdataset_id\u001b[0m\u001b[0;34m,\u001b[0m \u001b[0mtable_id\u001b[0m\u001b[0;34m,\u001b[0m\u001b[0;34m\u001b[0m\u001b[0;34m\u001b[0m\u001b[0m\n\u001b[0;32m--> 563\u001b[0;31m                     chunksize=chunksize, schema=schema):\n\u001b[0m\u001b[1;32m    564\u001b[0m                 logger.info(\"\\rLoad is {0}% Complete\".format(\n",
            "\u001b[0;32m/usr/local/lib/python3.6/dist-packages/pandas_gbq/_load.py\u001b[0m in \u001b[0;36mload_chunks\u001b[0;34m(client, dataframe, dataset_id, table_id, chunksize, schema)\u001b[0m\n\u001b[1;32m     73\u001b[0m             \u001b[0mdestination_table\u001b[0m\u001b[0;34m,\u001b[0m\u001b[0;34m\u001b[0m\u001b[0;34m\u001b[0m\u001b[0m\n\u001b[0;32m---> 74\u001b[0;31m             job_config=job_config).result()\n\u001b[0m",
            "\u001b[0;32m/usr/local/lib/python3.6/dist-packages/google/cloud/bigquery/job.py\u001b[0m in \u001b[0;36mresult\u001b[0;34m(self, timeout, retry)\u001b[0m\n\u001b[1;32m    731\u001b[0m         \u001b[0;31m# TODO: modify PollingFuture so it can pass a retry argument to done().\u001b[0m\u001b[0;34m\u001b[0m\u001b[0;34m\u001b[0m\u001b[0;34m\u001b[0m\u001b[0m\n\u001b[0;32m--> 732\u001b[0;31m         \u001b[0;32mreturn\u001b[0m \u001b[0msuper\u001b[0m\u001b[0;34m(\u001b[0m\u001b[0m_AsyncJob\u001b[0m\u001b[0;34m,\u001b[0m \u001b[0mself\u001b[0m\u001b[0;34m)\u001b[0m\u001b[0;34m.\u001b[0m\u001b[0mresult\u001b[0m\u001b[0;34m(\u001b[0m\u001b[0mtimeout\u001b[0m\u001b[0;34m=\u001b[0m\u001b[0mtimeout\u001b[0m\u001b[0;34m)\u001b[0m\u001b[0;34m\u001b[0m\u001b[0;34m\u001b[0m\u001b[0m\n\u001b[0m\u001b[1;32m    733\u001b[0m \u001b[0;34m\u001b[0m\u001b[0m\n",
            "\u001b[0;32m/usr/local/lib/python3.6/dist-packages/google/api_core/future/polling.py\u001b[0m in \u001b[0;36mresult\u001b[0;34m(self, timeout)\u001b[0m\n\u001b[1;32m    126\u001b[0m             \u001b[0;31m# Pylint doesn't recognize that this is valid in this case.\u001b[0m\u001b[0;34m\u001b[0m\u001b[0;34m\u001b[0m\u001b[0;34m\u001b[0m\u001b[0m\n\u001b[0;32m--> 127\u001b[0;31m             \u001b[0;32mraise\u001b[0m \u001b[0mself\u001b[0m\u001b[0;34m.\u001b[0m\u001b[0m_exception\u001b[0m\u001b[0;34m\u001b[0m\u001b[0;34m\u001b[0m\u001b[0m\n\u001b[0m\u001b[1;32m    128\u001b[0m \u001b[0;34m\u001b[0m\u001b[0m\n",
            "\u001b[0;31mBadRequest\u001b[0m: 400 Error while reading data, error message: CSV table encountered too many errors, giving up. Rows: 1; errors: 1. Please look into the errors[] collection for more details.",
            "\nDuring handling of the above exception, another exception occurred:\n",
            "\u001b[0;31mGenericGBQException\u001b[0m                       Traceback (most recent call last)",
            "\u001b[0;32m<ipython-input-15-67b4fa3d7330>\u001b[0m in \u001b[0;36m<module>\u001b[0;34m()\u001b[0m\n\u001b[1;32m     45\u001b[0m \u001b[0;34m{\u001b[0m\u001b[0;34m'name'\u001b[0m\u001b[0;34m:\u001b[0m\u001b[0;34m'mkt_chan_5'\u001b[0m\u001b[0;34m,\u001b[0m \u001b[0;34m'type'\u001b[0m\u001b[0;34m:\u001b[0m\u001b[0;34m'INTEGER'\u001b[0m\u001b[0;34m}\u001b[0m\u001b[0;34m,\u001b[0m\u001b[0;34m\u001b[0m\u001b[0;34m\u001b[0m\u001b[0m\n\u001b[1;32m     46\u001b[0m \u001b[0;34m{\u001b[0m\u001b[0;34m'name'\u001b[0m\u001b[0;34m:\u001b[0m\u001b[0;34m'mkt_chan_6'\u001b[0m\u001b[0;34m,\u001b[0m \u001b[0;34m'type'\u001b[0m\u001b[0;34m:\u001b[0m\u001b[0;34m'INTEGER'\u001b[0m\u001b[0;34m}\u001b[0m\u001b[0;34m,\u001b[0m\u001b[0;34m\u001b[0m\u001b[0;34m\u001b[0m\u001b[0m\n\u001b[0;32m---> 47\u001b[0;31m {'name':'mkt_chan_7', 'type':'INTEGER'}])\n\u001b[0m",
            "\u001b[0;32m/usr/local/lib/python3.6/dist-packages/pandas_gbq/gbq.py\u001b[0m in \u001b[0;36mto_gbq\u001b[0;34m(dataframe, destination_table, project_id, chunksize, verbose, reauth, if_exists, private_key, auth_local_webserver, table_schema)\u001b[0m\n\u001b[1;32m    979\u001b[0m     connector.load_data(\n\u001b[1;32m    980\u001b[0m         \u001b[0mdataframe\u001b[0m\u001b[0;34m,\u001b[0m \u001b[0mdataset_id\u001b[0m\u001b[0;34m,\u001b[0m \u001b[0mtable_id\u001b[0m\u001b[0;34m,\u001b[0m \u001b[0mchunksize\u001b[0m\u001b[0;34m=\u001b[0m\u001b[0mchunksize\u001b[0m\u001b[0;34m,\u001b[0m\u001b[0;34m\u001b[0m\u001b[0;34m\u001b[0m\u001b[0m\n\u001b[0;32m--> 981\u001b[0;31m         schema=table_schema)\n\u001b[0m\u001b[1;32m    982\u001b[0m \u001b[0;34m\u001b[0m\u001b[0m\n\u001b[1;32m    983\u001b[0m \u001b[0;34m\u001b[0m\u001b[0m\n",
            "\u001b[0;32m/usr/local/lib/python3.6/dist-packages/pandas_gbq/gbq.py\u001b[0m in \u001b[0;36mload_data\u001b[0;34m(self, dataframe, dataset_id, table_id, chunksize, schema)\u001b[0m\n\u001b[1;32m    565\u001b[0m                     ((total_rows - remaining_rows) * 100) / total_rows))\n\u001b[1;32m    566\u001b[0m         \u001b[0;32mexcept\u001b[0m \u001b[0mself\u001b[0m\u001b[0;34m.\u001b[0m\u001b[0mhttp_error\u001b[0m \u001b[0;32mas\u001b[0m \u001b[0mex\u001b[0m\u001b[0;34m:\u001b[0m\u001b[0;34m\u001b[0m\u001b[0;34m\u001b[0m\u001b[0m\n\u001b[0;32m--> 567\u001b[0;31m             \u001b[0mself\u001b[0m\u001b[0;34m.\u001b[0m\u001b[0mprocess_http_error\u001b[0m\u001b[0;34m(\u001b[0m\u001b[0mex\u001b[0m\u001b[0;34m)\u001b[0m\u001b[0;34m\u001b[0m\u001b[0;34m\u001b[0m\u001b[0m\n\u001b[0m\u001b[1;32m    568\u001b[0m \u001b[0;34m\u001b[0m\u001b[0m\n\u001b[1;32m    569\u001b[0m         \u001b[0mlogger\u001b[0m\u001b[0;34m.\u001b[0m\u001b[0minfo\u001b[0m\u001b[0;34m(\u001b[0m\u001b[0;34m\"\\n\"\u001b[0m\u001b[0;34m)\u001b[0m\u001b[0;34m\u001b[0m\u001b[0;34m\u001b[0m\u001b[0m\n",
            "\u001b[0;32m/usr/local/lib/python3.6/dist-packages/pandas_gbq/gbq.py\u001b[0m in \u001b[0;36mprocess_http_error\u001b[0;34m(ex)\u001b[0m\n\u001b[1;32m    454\u001b[0m         \u001b[0;31m# <https://cloud.google.com/bigquery/troubleshooting-errors>`__\u001b[0m\u001b[0;34m\u001b[0m\u001b[0;34m\u001b[0m\u001b[0;34m\u001b[0m\u001b[0m\n\u001b[1;32m    455\u001b[0m \u001b[0;34m\u001b[0m\u001b[0m\n\u001b[0;32m--> 456\u001b[0;31m         \u001b[0;32mraise\u001b[0m \u001b[0mGenericGBQException\u001b[0m\u001b[0;34m(\u001b[0m\u001b[0;34m\"Reason: {0}\"\u001b[0m\u001b[0;34m.\u001b[0m\u001b[0mformat\u001b[0m\u001b[0;34m(\u001b[0m\u001b[0mex\u001b[0m\u001b[0;34m)\u001b[0m\u001b[0;34m)\u001b[0m\u001b[0;34m\u001b[0m\u001b[0;34m\u001b[0m\u001b[0m\n\u001b[0m\u001b[1;32m    457\u001b[0m \u001b[0;34m\u001b[0m\u001b[0m\n\u001b[1;32m    458\u001b[0m     \u001b[0;32mdef\u001b[0m \u001b[0mrun_query\u001b[0m\u001b[0;34m(\u001b[0m\u001b[0mself\u001b[0m\u001b[0;34m,\u001b[0m \u001b[0mquery\u001b[0m\u001b[0;34m,\u001b[0m \u001b[0;34m**\u001b[0m\u001b[0mkwargs\u001b[0m\u001b[0;34m)\u001b[0m\u001b[0;34m:\u001b[0m\u001b[0;34m\u001b[0m\u001b[0;34m\u001b[0m\u001b[0m\n",
            "\u001b[0;31mGenericGBQException\u001b[0m: Reason: 400 Error while reading data, error message: CSV table encountered too many errors, giving up. Rows: 1; errors: 1. Please look into the errors[] collection for more details."
          ]
        }
      ]
    },
    {
      "cell_type": "code",
      "metadata": {
        "id": "kIQhXdeqjn5c",
        "colab_type": "code",
        "colab": {
          "base_uri": "https://localhost:8080/",
          "height": 446
        },
        "outputId": "510c363b-c967-4f48-d6d9-aa8257744a14"
      },
      "source": [
        "#set destination table to insert data into\n",
        "destinationtable = 'Jason.retrain'\n",
        "project_id='ffn-dw-bigquery-prd'\n",
        "\n",
        "#send data to GBQ (pandas_gqb.to_gbq)\n",
        "#https://pandas-gbq.readthedocs.io/en/latest/api.html#pandas_gbq.to_gbq\n",
        "#params are: dataframe, destination_table, project_id, if_exists (append), and table_schema (list of dicts, name and type)\n",
        "pandas_gbq.to_gbq(dataframe = df1,\n",
        "                  destination_table = destinationtable,\n",
        "                  project_id = project_id,\n",
        "                  if_exists = 'append',\n",
        "                  table_schema = [\n",
        "{'name':'SF_App_Id', 'type':'STRING'},\n",
        "{'name':'Funding', 'type':'INTEGER'},\n",
        "{'name':'first_coapp', 'type':'INTEGER'},\n",
        "{'name':'first_loan_use', 'type':'STRING'},\n",
        "{'name':'employment_status__c', 'type':'STRING'},\n",
        "{'name':'first_amount_of_loan_requested', 'type':'INTEGER'},\n",
        "{'name':'first_FICO', 'type':'INTEGER'},\n",
        "{'name':'First_LTI', 'type':'FLOAT'},\n",
        "{'name':'first_bcc0300__c', 'type':'INTEGER'},\n",
        "{'name':'first_ndi_ratio__c', 'type':'FLOAT'},\n",
        "{'name':'utm_source__c', 'type':'INTEGER'},\n",
        "{'name':'ficox', 'type':'INTEGER'},\n",
        "{'name':'lti', 'type':'INTEGER'},\n",
        "{'name':'bcc0300', 'type':'INTEGER'},\n",
        "{'name':'ndi', 'type':'INTEGER'},\n",
        "{'name':'ndisq', 'type':'INTEGER'},\n",
        "{'name':'co_app_0', 'type':'INTEGER'},\n",
        "{'name':'co_app_1', 'type':'INTEGER'},\n",
        "{'name':'loan_use_1', 'type':'INTEGER'},\n",
        "{'name':'loan_use_2', 'type':'INTEGER'},\n",
        "{'name':'loan_use_3', 'type':'INTEGER'},\n",
        "{'name':'loan_use_4', 'type':'INTEGER'},\n",
        "{'name':'employment_1', 'type':'INTEGER'},\n",
        "{'name':'employment_2', 'type':'INTEGER'},\n",
        "{'name':'employment_3', 'type':'INTEGER'},\n",
        "{'name':'employment_4', 'type':'INTEGER'},\n",
        "{'name':'loan_amount_1', 'type':'INTEGER'},\n",
        "{'name':'loan_amount_2', 'type':'INTEGER'},\n",
        "{'name':'loan_amount_3', 'type':'INTEGER'},\n",
        "{'name':'loan_amount_4', 'type':'INTEGER'},\n",
        "{'name':'mkt_chan_1', 'type':'INTEGER'},\n",
        "{'name':'mkt_chan_2', 'type':'INTEGER'},\n",
        "{'name':'mkt_chan_3', 'type':'INTEGER'},\n",
        "{'name':'mkt_chan_5', 'type':'INTEGER'},\n",
        "{'name':'mkt_chan_6', 'type':'INTEGER'},\n",
        "{'name':'mkt_chan_7', 'type':'INTEGER'}])"
      ],
      "execution_count": null,
      "outputs": [
        {
          "output_type": "error",
          "ename": "GenericGBQException",
          "evalue": "ignored",
          "traceback": [
            "\u001b[0;31m---------------------------------------------------------------------------\u001b[0m",
            "\u001b[0;31mBadRequest\u001b[0m                                Traceback (most recent call last)",
            "\u001b[0;32m/usr/local/lib/python3.6/dist-packages/pandas_gbq/gbq.py\u001b[0m in \u001b[0;36mload_data\u001b[0;34m(self, dataframe, dataset_id, table_id, chunksize, schema)\u001b[0m\n\u001b[1;32m    562\u001b[0m                     \u001b[0mself\u001b[0m\u001b[0;34m.\u001b[0m\u001b[0mclient\u001b[0m\u001b[0;34m,\u001b[0m \u001b[0mdataframe\u001b[0m\u001b[0;34m,\u001b[0m \u001b[0mdataset_id\u001b[0m\u001b[0;34m,\u001b[0m \u001b[0mtable_id\u001b[0m\u001b[0;34m,\u001b[0m\u001b[0;34m\u001b[0m\u001b[0;34m\u001b[0m\u001b[0m\n\u001b[0;32m--> 563\u001b[0;31m                     chunksize=chunksize, schema=schema):\n\u001b[0m\u001b[1;32m    564\u001b[0m                 logger.info(\"\\rLoad is {0}% Complete\".format(\n",
            "\u001b[0;32m/usr/local/lib/python3.6/dist-packages/pandas_gbq/_load.py\u001b[0m in \u001b[0;36mload_chunks\u001b[0;34m(client, dataframe, dataset_id, table_id, chunksize, schema)\u001b[0m\n\u001b[1;32m     73\u001b[0m             \u001b[0mdestination_table\u001b[0m\u001b[0;34m,\u001b[0m\u001b[0;34m\u001b[0m\u001b[0;34m\u001b[0m\u001b[0m\n\u001b[0;32m---> 74\u001b[0;31m             job_config=job_config).result()\n\u001b[0m",
            "\u001b[0;32m/usr/local/lib/python3.6/dist-packages/google/cloud/bigquery/job.py\u001b[0m in \u001b[0;36mresult\u001b[0;34m(self, timeout, retry)\u001b[0m\n\u001b[1;32m    731\u001b[0m         \u001b[0;31m# TODO: modify PollingFuture so it can pass a retry argument to done().\u001b[0m\u001b[0;34m\u001b[0m\u001b[0;34m\u001b[0m\u001b[0;34m\u001b[0m\u001b[0m\n\u001b[0;32m--> 732\u001b[0;31m         \u001b[0;32mreturn\u001b[0m \u001b[0msuper\u001b[0m\u001b[0;34m(\u001b[0m\u001b[0m_AsyncJob\u001b[0m\u001b[0;34m,\u001b[0m \u001b[0mself\u001b[0m\u001b[0;34m)\u001b[0m\u001b[0;34m.\u001b[0m\u001b[0mresult\u001b[0m\u001b[0;34m(\u001b[0m\u001b[0mtimeout\u001b[0m\u001b[0;34m=\u001b[0m\u001b[0mtimeout\u001b[0m\u001b[0;34m)\u001b[0m\u001b[0;34m\u001b[0m\u001b[0;34m\u001b[0m\u001b[0m\n\u001b[0m\u001b[1;32m    733\u001b[0m \u001b[0;34m\u001b[0m\u001b[0m\n",
            "\u001b[0;32m/usr/local/lib/python3.6/dist-packages/google/api_core/future/polling.py\u001b[0m in \u001b[0;36mresult\u001b[0;34m(self, timeout)\u001b[0m\n\u001b[1;32m    126\u001b[0m             \u001b[0;31m# Pylint doesn't recognize that this is valid in this case.\u001b[0m\u001b[0;34m\u001b[0m\u001b[0;34m\u001b[0m\u001b[0;34m\u001b[0m\u001b[0m\n\u001b[0;32m--> 127\u001b[0;31m             \u001b[0;32mraise\u001b[0m \u001b[0mself\u001b[0m\u001b[0;34m.\u001b[0m\u001b[0m_exception\u001b[0m\u001b[0;34m\u001b[0m\u001b[0;34m\u001b[0m\u001b[0m\n\u001b[0m\u001b[1;32m    128\u001b[0m \u001b[0;34m\u001b[0m\u001b[0m\n",
            "\u001b[0;31mBadRequest\u001b[0m: 400 Error while reading data, error message: CSV table encountered too many errors, giving up. Rows: 1; errors: 1. Please look into the errors[] collection for more details.",
            "\nDuring handling of the above exception, another exception occurred:\n",
            "\u001b[0;31mGenericGBQException\u001b[0m                       Traceback (most recent call last)",
            "\u001b[0;32m<ipython-input-18-a806c202ae15>\u001b[0m in \u001b[0;36m<module>\u001b[0;34m()\u001b[0m\n\u001b[1;32m     45\u001b[0m \u001b[0;34m{\u001b[0m\u001b[0;34m'name'\u001b[0m\u001b[0;34m:\u001b[0m\u001b[0;34m'mkt_chan_5'\u001b[0m\u001b[0;34m,\u001b[0m \u001b[0;34m'type'\u001b[0m\u001b[0;34m:\u001b[0m\u001b[0;34m'INTEGER'\u001b[0m\u001b[0;34m}\u001b[0m\u001b[0;34m,\u001b[0m\u001b[0;34m\u001b[0m\u001b[0;34m\u001b[0m\u001b[0m\n\u001b[1;32m     46\u001b[0m \u001b[0;34m{\u001b[0m\u001b[0;34m'name'\u001b[0m\u001b[0;34m:\u001b[0m\u001b[0;34m'mkt_chan_6'\u001b[0m\u001b[0;34m,\u001b[0m \u001b[0;34m'type'\u001b[0m\u001b[0;34m:\u001b[0m\u001b[0;34m'INTEGER'\u001b[0m\u001b[0;34m}\u001b[0m\u001b[0;34m,\u001b[0m\u001b[0;34m\u001b[0m\u001b[0;34m\u001b[0m\u001b[0m\n\u001b[0;32m---> 47\u001b[0;31m {'name':'mkt_chan_7', 'type':'INTEGER'}])\n\u001b[0m",
            "\u001b[0;32m/usr/local/lib/python3.6/dist-packages/pandas_gbq/gbq.py\u001b[0m in \u001b[0;36mto_gbq\u001b[0;34m(dataframe, destination_table, project_id, chunksize, verbose, reauth, if_exists, private_key, auth_local_webserver, table_schema)\u001b[0m\n\u001b[1;32m    979\u001b[0m     connector.load_data(\n\u001b[1;32m    980\u001b[0m         \u001b[0mdataframe\u001b[0m\u001b[0;34m,\u001b[0m \u001b[0mdataset_id\u001b[0m\u001b[0;34m,\u001b[0m \u001b[0mtable_id\u001b[0m\u001b[0;34m,\u001b[0m \u001b[0mchunksize\u001b[0m\u001b[0;34m=\u001b[0m\u001b[0mchunksize\u001b[0m\u001b[0;34m,\u001b[0m\u001b[0;34m\u001b[0m\u001b[0;34m\u001b[0m\u001b[0m\n\u001b[0;32m--> 981\u001b[0;31m         schema=table_schema)\n\u001b[0m\u001b[1;32m    982\u001b[0m \u001b[0;34m\u001b[0m\u001b[0m\n\u001b[1;32m    983\u001b[0m \u001b[0;34m\u001b[0m\u001b[0m\n",
            "\u001b[0;32m/usr/local/lib/python3.6/dist-packages/pandas_gbq/gbq.py\u001b[0m in \u001b[0;36mload_data\u001b[0;34m(self, dataframe, dataset_id, table_id, chunksize, schema)\u001b[0m\n\u001b[1;32m    565\u001b[0m                     ((total_rows - remaining_rows) * 100) / total_rows))\n\u001b[1;32m    566\u001b[0m         \u001b[0;32mexcept\u001b[0m \u001b[0mself\u001b[0m\u001b[0;34m.\u001b[0m\u001b[0mhttp_error\u001b[0m \u001b[0;32mas\u001b[0m \u001b[0mex\u001b[0m\u001b[0;34m:\u001b[0m\u001b[0;34m\u001b[0m\u001b[0;34m\u001b[0m\u001b[0m\n\u001b[0;32m--> 567\u001b[0;31m             \u001b[0mself\u001b[0m\u001b[0;34m.\u001b[0m\u001b[0mprocess_http_error\u001b[0m\u001b[0;34m(\u001b[0m\u001b[0mex\u001b[0m\u001b[0;34m)\u001b[0m\u001b[0;34m\u001b[0m\u001b[0;34m\u001b[0m\u001b[0m\n\u001b[0m\u001b[1;32m    568\u001b[0m \u001b[0;34m\u001b[0m\u001b[0m\n\u001b[1;32m    569\u001b[0m         \u001b[0mlogger\u001b[0m\u001b[0;34m.\u001b[0m\u001b[0minfo\u001b[0m\u001b[0;34m(\u001b[0m\u001b[0;34m\"\\n\"\u001b[0m\u001b[0;34m)\u001b[0m\u001b[0;34m\u001b[0m\u001b[0;34m\u001b[0m\u001b[0m\n",
            "\u001b[0;32m/usr/local/lib/python3.6/dist-packages/pandas_gbq/gbq.py\u001b[0m in \u001b[0;36mprocess_http_error\u001b[0;34m(ex)\u001b[0m\n\u001b[1;32m    454\u001b[0m         \u001b[0;31m# <https://cloud.google.com/bigquery/troubleshooting-errors>`__\u001b[0m\u001b[0;34m\u001b[0m\u001b[0;34m\u001b[0m\u001b[0;34m\u001b[0m\u001b[0m\n\u001b[1;32m    455\u001b[0m \u001b[0;34m\u001b[0m\u001b[0m\n\u001b[0;32m--> 456\u001b[0;31m         \u001b[0;32mraise\u001b[0m \u001b[0mGenericGBQException\u001b[0m\u001b[0;34m(\u001b[0m\u001b[0;34m\"Reason: {0}\"\u001b[0m\u001b[0;34m.\u001b[0m\u001b[0mformat\u001b[0m\u001b[0;34m(\u001b[0m\u001b[0mex\u001b[0m\u001b[0;34m)\u001b[0m\u001b[0;34m)\u001b[0m\u001b[0;34m\u001b[0m\u001b[0;34m\u001b[0m\u001b[0m\n\u001b[0m\u001b[1;32m    457\u001b[0m \u001b[0;34m\u001b[0m\u001b[0m\n\u001b[1;32m    458\u001b[0m     \u001b[0;32mdef\u001b[0m \u001b[0mrun_query\u001b[0m\u001b[0;34m(\u001b[0m\u001b[0mself\u001b[0m\u001b[0;34m,\u001b[0m \u001b[0mquery\u001b[0m\u001b[0;34m,\u001b[0m \u001b[0;34m**\u001b[0m\u001b[0mkwargs\u001b[0m\u001b[0;34m)\u001b[0m\u001b[0;34m:\u001b[0m\u001b[0;34m\u001b[0m\u001b[0;34m\u001b[0m\u001b[0m\n",
            "\u001b[0;31mGenericGBQException\u001b[0m: Reason: 400 Error while reading data, error message: CSV table encountered too many errors, giving up. Rows: 1; errors: 1. Please look into the errors[] collection for more details."
          ]
        }
      ]
    }
  ]
}