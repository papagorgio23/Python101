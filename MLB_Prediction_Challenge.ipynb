{
  "nbformat": 4,
  "nbformat_minor": 0,
  "metadata": {
    "colab": {
      "name": "MLB Prediction Challenge.ipynb",
      "version": "0.3.2",
      "provenance": [],
      "collapsed_sections": [
        "eQAmpwIgdc7x"
      ],
      "toc_visible": true,
      "include_colab_link": true
    },
    "kernelspec": {
      "name": "python3",
      "display_name": "Python 3"
    }
  },
  "cells": [
    {
      "cell_type": "markdown",
      "metadata": {
        "id": "view-in-github",
        "colab_type": "text"
      },
      "source": [
        "<a href=\"https://colab.research.google.com/github/papagorgio23/Python101/blob/master/MLB_Prediction_Challenge.ipynb\" target=\"_parent\"><img src=\"https://colab.research.google.com/assets/colab-badge.svg\" alt=\"Open In Colab\"/></a>"
      ]
    },
    {
      "cell_type": "markdown",
      "metadata": {
        "id": "10dfHd3J2rsw",
        "colab_type": "text"
      },
      "source": [
        "# Run to setup Notebook"
      ]
    },
    {
      "cell_type": "code",
      "metadata": {
        "id": "VNUCDj8p2_wo",
        "colab_type": "code",
        "colab": {}
      },
      "source": [
        "# MLB Teams\n",
        "teams = ['Red Sox', 'Orioles', 'Blue Jays',\n",
        "       'Yankees', 'Rays', 'Indians',\n",
        "       'Tigers', 'Royals', 'White Sox',\n",
        "       'Twins', 'Rangers', 'Mariners',\n",
        "       'Astros', 'Angels', 'Athletics',\n",
        "       'Nationals', 'Mets', 'Marlins',\n",
        "       'Phillies', 'Braves', 'Cubs',\n",
        "       'Cardinals', 'Pirates', 'Brewers',\n",
        "       'Reds', 'Dodgers', 'Giants',\n",
        "       'Rockies', 'Diamondbacks', 'Padres']\n",
        "\n",
        "import time\n",
        "from datetime import datetime\n",
        "\n",
        "# function to gather info about you\n",
        "def setupInfo():\n",
        "    name = input(\"What is your name? \")\n",
        "\n",
        "    print(\"\\nWelcome to A.I. Sports' MLB analytics team, {}! \\nWe're very excited to use your brain to help us beat Vegas and win more games!\\n\".format(name))\n",
        "    \n",
        "    time.sleep(3)\n",
        "\n",
        "    while True:\n",
        "        team = input(\"\\n{}, What is your favorite MLB team? \\n(no need to include city ie. 'Rays', 'Nationals', 'Diamondbacks', or whatever will work just fine)\".format(name))\n",
        "        if team not in teams:\n",
        "            print(\"\\nSorry... I don't think that's a real team...\\nDon't worry, I don't know the teams either... \\nPick one of these:\\n\")\n",
        "            for tm in teams:\n",
        "                print(tm)\n",
        "        else:\n",
        "            break\n",
        "    if team in ['Red Sox', 'Orioles', 'Blue Jays',\n",
        "       'Yankees', 'Indians', 'Rangers', 'Mariners',\n",
        "       'Tigers', 'Royals', 'White Sox']:\n",
        "      print(\"\\nOhhh... The {} are a... team... Anyway...\\n\".format(team))\n",
        "    \n",
        "    elif team in ['Astros', 'Angels', 'Athletics',\n",
        "       'Nationals', 'Mets', 'Marlins',\n",
        "       'Phillies', 'Braves', 'Cubs']:\n",
        "      print(\"\\nVery nice. The {} are a great team!\\n\".format(team)) \n",
        "      \n",
        "    elif team in ['Nationals', 'Mets', 'Marlins',\n",
        "       'Phillies', 'Braves', 'Cubs',\n",
        "       'Cardinals', 'Pirates', 'Brewers',\n",
        "       'Reds', 'Dodgers', 'Giants',\n",
        "       'Rockies', 'Padres']:\n",
        "      print(\"\\nI'm sorry... Maybe next year the {} will bounce back!\\n\".format(team))\n",
        "      \n",
        "    else:\n",
        "      print(\"\\nHome town heros! The {} will win it for us soon!\\n\".format(team))\n",
        "    \n",
        "    #print(\"\\nVery nice. The {} are a great team.\\n\".format(team)) \n",
        "    \n",
        "    # Wait for 1.5 seconds\n",
        "    time.sleep(1.5)\n",
        "    answer = input(\"\\n{}, Are you ready for your first assignment?:\\n\".format(name))\n",
        "    if answer.lower() == 'yes':\n",
        "      print(\"I Knew I'd like you!\\n\")\n",
        "    else:\n",
        "      print(\"Ready or not here it comes:\\n\")\n",
        "    time.sleep(2)\n",
        "    \n",
        "    print(\"I need you to tell me if the {} have been over performing or under performing over the last 9 years.\\nI want you to use the Pythagorean Wins Formula as the baseline.\".format(team))\n",
        "    \n",
        "    time.sleep(5)\n",
        "    \n",
        "    print(\"\\nThis is not a race but we will time you anyway.\\n\")\n",
        "    \n",
        "    time.sleep(3)\n",
        "    \n",
        "    print(\"\\n3...\\n\")\n",
        "    \n",
        "    \n",
        "    time.sleep(2.5)\n",
        "    \n",
        "    print(\"\\n2...\\n\")\n",
        "    \n",
        "    time.sleep(2.5)\n",
        "    \n",
        "    print(\"\\n1...\\n\")\n",
        "    \n",
        "    time.sleep(2.5)\n",
        "    \n",
        "    print(\"\\nGO!!!\\n\")\n",
        "    \n",
        "    start = datetime.now()\n",
        "    \n",
        "    return start"
      ],
      "execution_count": 0,
      "outputs": []
    },
    {
      "cell_type": "markdown",
      "metadata": {
        "id": "T4phEetMQFEx",
        "colab_type": "text"
      },
      "source": [
        "# Start"
      ]
    },
    {
      "cell_type": "markdown",
      "metadata": {
        "id": "rMPdbgk946fU",
        "colab_type": "text"
      },
      "source": [
        "# A.I. Sports"
      ]
    },
    {
      "cell_type": "markdown",
      "metadata": {
        "id": "GB7SxUunocA9",
        "colab_type": "text"
      },
      "source": [
        "![A.I. Sports](https://raw.githubusercontent.com/papagorgio23/Python101/master/Logo.png)\n",
        "\n",
        "[A.I. Sports](https://aisportsfirm.com/) - The alternative investment vehicle\n",
        "\n",
        "**Using Artificial Intelligence and Machine Learning to beat the books**"
      ]
    },
    {
      "cell_type": "markdown",
      "metadata": {
        "id": "IxfYOAjvJbrS",
        "colab_type": "text"
      },
      "source": [
        "Run the next cell"
      ]
    },
    {
      "cell_type": "code",
      "metadata": {
        "id": "gjZDgLcN3ClP",
        "colab_type": "code",
        "colab": {}
      },
      "source": [
        "start = setupInfo()"
      ],
      "execution_count": 0,
      "outputs": []
    },
    {
      "cell_type": "markdown",
      "metadata": {
        "id": "Ces1Ieev2NOQ",
        "colab_type": "text"
      },
      "source": [
        "## Pythagorean Wins Formula"
      ]
    },
    {
      "cell_type": "markdown",
      "metadata": {
        "id": "LL-pTIQrqHoh",
        "colab_type": "text"
      },
      "source": [
        "\n",
        "$$ PythWin\\% = \\frac{RunScored^2} { (RunScored^2 + RunAllowed^2)} $$\n",
        "\n",
        "<br>\n",
        "\n",
        "With some basic arithmetic transformation this equation could look like this:\n",
        "\n",
        "<br>\n",
        "\n",
        "$$ PythWin\\% = \\frac{ScoreRatio^2} { (ScoreRatio^2 + 1)} $$"
      ]
    },
    {
      "cell_type": "markdown",
      "metadata": {
        "id": "9aLIGc1BibHa",
        "colab_type": "text"
      },
      "source": [
        "# MLB Model"
      ]
    },
    {
      "cell_type": "markdown",
      "metadata": {
        "id": "hP3V26ajL_0M",
        "colab_type": "text"
      },
      "source": [
        "## Step 1: Load Data"
      ]
    },
    {
      "cell_type": "markdown",
      "metadata": {
        "id": "GV0Ac1dIWLnO",
        "colab_type": "text"
      },
      "source": [
        "The web address for the csv file is = https://raw.githubusercontent.com/papagorgio23/Python101/master/Allteams.csv\n",
        "\n",
        "<br>\n",
        "\n",
        "In the cell below\n",
        "\n",
        "1. Import pandas \n",
        "2. Read in the csv file\n",
        "3. Name the dataframe \"MLBdata\""
      ]
    },
    {
      "cell_type": "code",
      "metadata": {
        "id": "Bgs3u0SrMB70",
        "colab_type": "code",
        "colab": {}
      },
      "source": [
        "# get data \n"
      ],
      "execution_count": 0,
      "outputs": []
    },
    {
      "cell_type": "markdown",
      "metadata": {
        "id": "HIvKIbJZW0ww",
        "colab_type": "text"
      },
      "source": [
        "## Step 2: View Data"
      ]
    },
    {
      "cell_type": "markdown",
      "metadata": {
        "id": "pnABP-h3XLEA",
        "colab_type": "text"
      },
      "source": [
        "In the 3 cell below. \n",
        "\n",
        "1. View the top 10 rows in the dataframe\n",
        "2. View the bottom 10 rows in the dataframe\n",
        "3. Check for Missing Values\n",
        "4. Calculate basic summary statistics (count, mean, std, min, max, median)\n",
        " "
      ]
    },
    {
      "cell_type": "code",
      "metadata": {
        "id": "kNqw9ff3YJa-",
        "colab_type": "code",
        "colab": {}
      },
      "source": [
        "# view top 10 rows\n"
      ],
      "execution_count": 0,
      "outputs": []
    },
    {
      "cell_type": "code",
      "metadata": {
        "id": "EfwBieOBYUhv",
        "colab_type": "code",
        "colab": {}
      },
      "source": [
        "# view bottom 10 rows\n"
      ],
      "execution_count": 0,
      "outputs": []
    },
    {
      "cell_type": "code",
      "metadata": {
        "id": "vJvClU3RR5cr",
        "colab_type": "code",
        "colab": {}
      },
      "source": [
        "# check for missing values\n"
      ],
      "execution_count": 0,
      "outputs": []
    },
    {
      "cell_type": "code",
      "metadata": {
        "id": "l1ftcXsqMTDk",
        "colab_type": "code",
        "colab": {}
      },
      "source": [
        "# summary statistics\n"
      ],
      "execution_count": 0,
      "outputs": []
    },
    {
      "cell_type": "code",
      "metadata": {
        "id": "OCSKOia-seJR",
        "colab_type": "code",
        "colab": {}
      },
      "source": [
        "# who lost the most games?? \n",
        "\n"
      ],
      "execution_count": 0,
      "outputs": []
    },
    {
      "cell_type": "markdown",
      "metadata": {
        "id": "6duZub8oMwWs",
        "colab_type": "text"
      },
      "source": [
        "## Step 3. Feature Engineer"
      ]
    },
    {
      "cell_type": "markdown",
      "metadata": {
        "id": "uNFRp96APfjS",
        "colab_type": "text"
      },
      "source": [
        "Add 4 columns:\n",
        "\n",
        "\n",
        "1.   **Score Ratio** $$ScoreRatio = RS / RA$$\n",
        "\n",
        "\n",
        "\n",
        "2.   **Predicted Win%** $$ PredWin = \\frac{ScoreRatio^2}{ScoreRatio^2 + 1} $$\n",
        "\n",
        "\n",
        "\n",
        "3.   **Error** $$Error = ActualWin\\% - PredWin $$\n",
        "\n",
        "\n",
        "\n",
        "4.   **Absolut Error** $$AbsolutError = |Error|$$\n",
        "\n",
        "\n",
        "\n",
        "\n",
        "**Round PredWin to 3 decimal places\n",
        "\n"
      ]
    },
    {
      "cell_type": "code",
      "metadata": {
        "id": "5SfiR9xdM0Qc",
        "colab_type": "code",
        "colab": {}
      },
      "source": [
        "# Add 4 new columns\n"
      ],
      "execution_count": 0,
      "outputs": []
    },
    {
      "cell_type": "code",
      "metadata": {
        "id": "4NMk-JWtbUpA",
        "colab_type": "code",
        "colab": {}
      },
      "source": [
        "# view the top 10 rows\n"
      ],
      "execution_count": 0,
      "outputs": []
    },
    {
      "cell_type": "markdown",
      "metadata": {
        "id": "eTCN_m4dPYRZ",
        "colab_type": "text"
      },
      "source": [
        "## Step 4. What is the Mean Absolute Deviation (MAD)?"
      ]
    },
    {
      "cell_type": "markdown",
      "metadata": {
        "id": "90bnHgRhb87c",
        "colab_type": "text"
      },
      "source": [
        "Calculate MAD. Round to 4 decimals\n",
        "\n",
        "$$MAD = AVG(AbsolutError)$$"
      ]
    },
    {
      "cell_type": "code",
      "metadata": {
        "id": "sFSgY7q9b7b-",
        "colab_type": "code",
        "colab": {}
      },
      "source": [
        "# calculate mad and round to 4 decimal places\n",
        "\n",
        "\n",
        "\n",
        "\n",
        "print(\"Your predicted win percentages were off by {}% over the 9 season between {}-{}\".format(MAD*100, MLBdata['Year'].min(), MLBdata['Year'].max() ))"
      ],
      "execution_count": 0,
      "outputs": []
    },
    {
      "cell_type": "markdown",
      "metadata": {
        "id": "eQAmpwIgdc7x",
        "colab_type": "text"
      },
      "source": [
        "## Step 5. Improve Predictions"
      ]
    },
    {
      "cell_type": "markdown",
      "metadata": {
        "id": "89AselvVdl_Y",
        "colab_type": "text"
      },
      "source": [
        "Use a for loop and cycle through different exponents to achieve a lower MAD\n",
        "\n",
        "This is a little more complicated so I left the code in... I will explain"
      ]
    },
    {
      "cell_type": "code",
      "metadata": {
        "id": "axTz3whSnvV2",
        "colab_type": "code",
        "colab": {}
      },
      "source": [
        "# numbers to use\n",
        "import numpy as np\n",
        "expTrials = np.arange(1.0, 3.00, 0.05)\n",
        "\n",
        "results = pd.DataFrame(columns=('Exponent', 'MAD'))\n",
        "\n",
        "for exponent in expTrials:\n",
        "  temp = MLBdata\n",
        "  temp['PredWin'] = round(temp['ScoreRatio']**exponent / (temp['ScoreRatio']**exponent + 1), 3)\n",
        "  temp['Error'] = temp['W-L%'] - temp['PredWin']\n",
        "  temp['AbsolutError'] = abs(temp['Error'])\n",
        "  error = round(temp['AbsolutError'].mean()*100, 2)\n",
        "  \n",
        "  temp1 = [exponent, error]\n",
        "  temp1 = pd.DataFrame([[exponent, error]], columns=('Exponent', 'MAD'))\n",
        "  \n",
        "  results = results.append(temp1, ignore_index = True)\n",
        "  print(\"Exponent = {}, MAD = {}%\".format(round(exponent,2), round(error, 2)))\n",
        "\n",
        "    \n"
      ],
      "execution_count": 0,
      "outputs": []
    },
    {
      "cell_type": "markdown",
      "metadata": {
        "id": "Wc50v57W-ZaG",
        "colab_type": "text"
      },
      "source": [
        "## Step 6. Which Exponent should we use?"
      ]
    },
    {
      "cell_type": "code",
      "metadata": {
        "id": "_wi4J3HCiRwg",
        "colab_type": "code",
        "colab": {}
      },
      "source": [
        "# Display the lowest MAD score and the associated Exponent\n"
      ],
      "execution_count": 0,
      "outputs": []
    },
    {
      "cell_type": "markdown",
      "metadata": {
        "id": "9yk3bsR0-oaw",
        "colab_type": "text"
      },
      "source": [
        "## Step 7. Visualize Results"
      ]
    },
    {
      "cell_type": "markdown",
      "metadata": {
        "id": "laEfPeW6Se4r",
        "colab_type": "text"
      },
      "source": [
        "Plot the results of the loop equation we ran.\n",
        "\n",
        "---\n",
        "\n",
        "X axis = Exponent\n",
        "\n",
        "Y axis = MAD\n",
        "\n",
        "Add a horizontal dashed red line at the minimum MAD point\n",
        "\n",
        "Add a vertical dashed red line at the minimum point\n"
      ]
    },
    {
      "cell_type": "code",
      "metadata": {
        "id": "cegonAwM_MA2",
        "colab_type": "code",
        "colab": {}
      },
      "source": [
        "# plot results\n",
        "import matplotlib.pyplot as plt\n",
        "\n",
        "plt.style.use('fivethirtyeight')\n",
        "plt.figure(figsize=(20,10))\n",
        "\n",
        "\n",
        "\n"
      ],
      "execution_count": 0,
      "outputs": []
    },
    {
      "cell_type": "markdown",
      "metadata": {
        "id": "jPF7oXnWDwdO",
        "colab_type": "text"
      },
      "source": [
        "## Step 8: Predict 2019 Final Win%"
      ]
    },
    {
      "cell_type": "markdown",
      "metadata": {
        "id": "Is6mkTddNS2n",
        "colab_type": "text"
      },
      "source": [
        "The web address for the csv file is = https://raw.githubusercontent.com/papagorgio23/Python101/master/teams2019.csv\n",
        "\n",
        "<br>\n",
        "\n",
        "In the cell below\n",
        "\n",
        "1. Read in the csv file\n",
        "2. Name the dataframe \"MLB2019\""
      ]
    },
    {
      "cell_type": "markdown",
      "metadata": {
        "id": "7ec62mm_Ql80",
        "colab_type": "text"
      },
      "source": [
        "### Load New Data"
      ]
    },
    {
      "cell_type": "code",
      "metadata": {
        "id": "2sC57Yb4gM5B",
        "colab_type": "code",
        "colab": {}
      },
      "source": [
        "# read data\n"
      ],
      "execution_count": 0,
      "outputs": []
    },
    {
      "cell_type": "markdown",
      "metadata": {
        "id": "VWwjW_c8QpsS",
        "colab_type": "text"
      },
      "source": [
        "### Feature Engineer"
      ]
    },
    {
      "cell_type": "markdown",
      "metadata": {
        "id": "U_Rb0WdYNuIH",
        "colab_type": "text"
      },
      "source": [
        "Add 4 features\n",
        "\n",
        "1. Score Ratio\n",
        "2. PredWin\n",
        "3. Predicted Win Total        $(Predicted Win\\% *162)$\n",
        "4. Predicted Loss Total       $((1-Predicted Win\\%) *162)$\n",
        "\n",
        "Or Predicted Loss Total = 162 - Predicted Win Total \n",
        "\n",
        "Because they are games make sure to round to the nearest whole number.\n"
      ]
    },
    {
      "cell_type": "code",
      "metadata": {
        "id": "xGJHs0cbISAo",
        "colab_type": "code",
        "colab": {}
      },
      "source": [
        "# Add 4 new columns\n"
      ],
      "execution_count": 0,
      "outputs": []
    },
    {
      "cell_type": "markdown",
      "metadata": {
        "id": "NiaFtAfzQs8F",
        "colab_type": "text"
      },
      "source": [
        "### View Results"
      ]
    },
    {
      "cell_type": "markdown",
      "metadata": {
        "id": "gX-qwXkeQu2d",
        "colab_type": "text"
      },
      "source": [
        "Sort by PredWinTotal in descending order"
      ]
    },
    {
      "cell_type": "code",
      "metadata": {
        "id": "pMhN0cfNft4Z",
        "colab_type": "code",
        "colab": {}
      },
      "source": [
        "# sort and view data\n"
      ],
      "execution_count": 0,
      "outputs": []
    },
    {
      "cell_type": "markdown",
      "metadata": {
        "id": "cvHopDc1PnC9",
        "colab_type": "text"
      },
      "source": [
        "## Finish"
      ]
    },
    {
      "cell_type": "markdown",
      "metadata": {
        "id": "NRaiTLxaPpZn",
        "colab_type": "text"
      },
      "source": [
        "Run the next cell to get your time!"
      ]
    },
    {
      "cell_type": "code",
      "metadata": {
        "id": "7gPR3KTafvGh",
        "colab_type": "code",
        "colab": {}
      },
      "source": [
        "# Timer\n",
        "end = datetime.now()\n",
        "\n",
        "print(\"It took you {} to complete this project! Very nice work!\".format(end - start))"
      ],
      "execution_count": 0,
      "outputs": []
    },
    {
      "cell_type": "markdown",
      "metadata": {
        "id": "5PNiUCfyMun_",
        "colab_type": "text"
      },
      "source": [
        "# Extra Credit (Take home assignment)"
      ]
    },
    {
      "cell_type": "markdown",
      "metadata": {
        "id": "Zwsj3kTFMxvf",
        "colab_type": "text"
      },
      "source": [
        "Determine how your favorite team has performed each year compared to their predicted win percentage.\n",
        "\n",
        "Provide Visuals and descriptive summaries/statistics.\n",
        "\n",
        "Feel free to bring in more data to help explain why they over or under performed.\n"
      ]
    },
    {
      "cell_type": "code",
      "metadata": {
        "id": "So9f2GZRMxOP",
        "colab_type": "code",
        "colab": {}
      },
      "source": [
        ""
      ],
      "execution_count": 0,
      "outputs": []
    },
    {
      "cell_type": "code",
      "metadata": {
        "id": "9j--z9IrQ92m",
        "colab_type": "code",
        "colab": {}
      },
      "source": [
        ""
      ],
      "execution_count": 0,
      "outputs": []
    },
    {
      "cell_type": "code",
      "metadata": {
        "id": "qvd09VGMQ960",
        "colab_type": "code",
        "colab": {}
      },
      "source": [
        ""
      ],
      "execution_count": 0,
      "outputs": []
    },
    {
      "cell_type": "code",
      "metadata": {
        "id": "u-twoYgFQ99z",
        "colab_type": "code",
        "colab": {}
      },
      "source": [
        ""
      ],
      "execution_count": 0,
      "outputs": []
    },
    {
      "cell_type": "code",
      "metadata": {
        "id": "RcYoxZtGQ-BF",
        "colab_type": "code",
        "colab": {}
      },
      "source": [
        ""
      ],
      "execution_count": 0,
      "outputs": []
    },
    {
      "cell_type": "code",
      "metadata": {
        "id": "deYpYx8QQ-JM",
        "colab_type": "code",
        "colab": {}
      },
      "source": [
        ""
      ],
      "execution_count": 0,
      "outputs": []
    }
  ]
}